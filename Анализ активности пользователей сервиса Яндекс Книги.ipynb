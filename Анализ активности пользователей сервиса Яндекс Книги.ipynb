{
 "cells": [
  {
   "cell_type": "markdown",
   "id": "_E41Wr5fqnFT",
   "metadata": {
    "id": "_E41Wr5fqnFT"
   },
   "source": [
    "# Часть 1. Проверка гипотезы в Python и составление аналитической записки"
   ]
  },
  {
   "cell_type": "markdown",
   "id": "Z5_6nf-FrY7o",
   "metadata": {
    "id": "Z5_6nf-FrY7o"
   },
   "source": [
    "\n",
    "Нулевая гипотеза $H_0: \\mu_{\\text{СПб}} \\leq \\mu_{\\text{Москва}}$ <br> Среднее время активности пользователей в Санкт-Петербурге не больше, чем в Москве.\n",
    "\n",
    "Альтернативная гипотеза $H_1: \\mu_{\\text{СПб}} > \\mu_{\\text{Москва}}$ <br> Среднее время активности пользователей в Санкт-Петербурге больше, и это различие статистически значимо.\n"
   ]
  },
  {
   "cell_type": "markdown",
   "id": "e06910dd",
   "metadata": {
    "id": "e06910dd"
   },
   "source": [
    "\n",
    "\n",
    "- Автор: Родина Дарья \n",
    "- Дата: 26 марта 2025 года "
   ]
  },
  {
   "cell_type": "markdown",
   "id": "4149134c",
   "metadata": {
    "id": "4149134c"
   },
   "source": [
    "## Цели и задачи проекта\n",
    "\n",
    "<font> Цель: проверить гипотезу о том, что пользователи из Санкт-Петербурга проводят в среднем больше времени за чтением и прослушиванием книг в приложении, чем пользователи из Москвы. \n",
    "    \n",
    "    Задачи: \n",
    "    - Проверить наличие дубликатов в идентификаторах пользователей \n",
    "    - Сравнить размеры групп, их статистики и распределение\n",
    "    - Подготовить аналитическую записку \n",
    "</font>"
   ]
  },
  {
   "cell_type": "markdown",
   "id": "728986ea",
   "metadata": {
    "id": "728986ea"
   },
   "source": [
    "## Описание данных\n",
    "\n",
    "<font> \n",
    "    \n",
    "    /datasets/yandex_knigi_data.csv' - данные пользователей из Москвы и Санкт-Петербурга. Структура файла: \n",
    "    city - город пользователя (Москва или Санкт-Петербург);\n",
    "    puid - идентификатор пользователя;\n",
    "    hours - сумма часов активности (чтения или прослушивания аудиофайлов) в приложении.\n",
    "    \n",
    "    ps://code.s3.yandex.net/datasets/ab_test_participants.csv — таблица участников тестов. Структура файла: \n",
    "    user_id — идентификатор пользователя;\n",
    "    group — группа пользователя;\n",
    "    ab_test — название теста;\n",
    "    device — устройство, с которого происходила регистрация.\n",
    "\n",
    "    https://code.s3.yandex.net/datasets/ab_test_events.zip — архив с одним csv-файлом, в котором собраны события 2020 года; Структура файла: \n",
    "    user_id — идентификатор пользователя;\n",
    "    event_dt — дата и время события;\n",
    "    event_name — тип события;\n",
    "    details — дополнительные данные о событии.\n",
    "</font>"
   ]
  },
  {
   "cell_type": "markdown",
   "id": "6f7d21d6",
   "metadata": {
    "id": "6f7d21d6"
   },
   "source": [
    "## 1. Загрузка данных и знакомство с ними\n"
   ]
  },
  {
   "cell_type": "code",
   "execution_count": 1,
   "id": "05faf34b",
   "metadata": {
    "id": "05faf34b"
   },
   "outputs": [],
   "source": [
    "import pandas as pd "
   ]
  },
  {
   "cell_type": "code",
   "execution_count": 2,
   "id": "ce87c1db",
   "metadata": {
    "id": "ce87c1db"
   },
   "outputs": [],
   "source": [
    "# создаем новый датафрейм\n",
    "df = pd.read_csv('/datasets/yandex_knigi_data.csv')"
   ]
  },
  {
   "cell_type": "code",
   "execution_count": 3,
   "id": "f68a7419",
   "metadata": {
    "id": "f68a7419"
   },
   "outputs": [
    {
     "name": "stdout",
     "output_type": "stream",
     "text": [
      "<class 'pandas.core.frame.DataFrame'>\n",
      "RangeIndex: 8784 entries, 0 to 8783\n",
      "Data columns (total 4 columns):\n",
      " #   Column      Non-Null Count  Dtype  \n",
      "---  ------      --------------  -----  \n",
      " 0   Unnamed: 0  8784 non-null   int64  \n",
      " 1   city        8784 non-null   object \n",
      " 2   puid        8784 non-null   int64  \n",
      " 3   hours       8784 non-null   float64\n",
      "dtypes: float64(1), int64(2), object(1)\n",
      "memory usage: 274.6+ KB\n"
     ]
    }
   ],
   "source": [
    "# проверяем датафрейм на наличие пропусков и правильности выбранных типов данных\n",
    "df.info()"
   ]
  },
  {
   "cell_type": "code",
   "execution_count": 4,
   "id": "683e48fe",
   "metadata": {},
   "outputs": [
    {
     "data": {
      "text/plain": [
       "Unnamed: 0    0\n",
       "city          0\n",
       "puid          0\n",
       "hours         0\n",
       "dtype: int64"
      ]
     },
     "execution_count": 4,
     "metadata": {},
     "output_type": "execute_result"
    }
   ],
   "source": [
    "df.isna().sum()"
   ]
  },
  {
   "cell_type": "code",
   "execution_count": 5,
   "id": "3bb56c54",
   "metadata": {},
   "outputs": [
    {
     "data": {
      "text/plain": [
       "0"
      ]
     },
     "execution_count": 5,
     "metadata": {},
     "output_type": "execute_result"
    }
   ],
   "source": [
    "# проверим данные на наличие дубликатов\n",
    "duplicate_rows = df.duplicated().sum()\n",
    "duplicate_rows"
   ]
  },
  {
   "cell_type": "code",
   "execution_count": 6,
   "id": "3c005489",
   "metadata": {},
   "outputs": [
    {
     "data": {
      "text/plain": [
       "244"
      ]
     },
     "execution_count": 6,
     "metadata": {},
     "output_type": "execute_result"
    }
   ],
   "source": [
    "# проверяем наличие дубликатов в идентификаторах пользователей \n",
    "df['puid'].duplicated().sum()"
   ]
  },
  {
   "cell_type": "code",
   "execution_count": 7,
   "id": "9a8d413b",
   "metadata": {},
   "outputs": [],
   "source": [
    "# удаляем дубликаты в столбце с идентификаторами пользователей \n",
    "df = df.drop_duplicates(subset='puid')"
   ]
  },
  {
   "cell_type": "code",
   "execution_count": 8,
   "id": "f74b7550",
   "metadata": {},
   "outputs": [
    {
     "data": {
      "text/plain": [
       "0"
      ]
     },
     "execution_count": 8,
     "metadata": {},
     "output_type": "execute_result"
    }
   ],
   "source": [
    "# проверяем наличие дубликатов после удаления\n",
    "df['puid'].duplicated().sum()"
   ]
  },
  {
   "cell_type": "markdown",
   "id": "158f6fe4",
   "metadata": {},
   "source": [
    "В данных отсутсвуют пропуски. Все типы данных соответствуют. При изучении данных в столбце с идентификаторами пользователей были выявлены дубликаты, которые впоследствии были удалены.  "
   ]
  },
  {
   "cell_type": "markdown",
   "id": "f89e32a9",
   "metadata": {},
   "source": [
    " "
   ]
  },
  {
   "cell_type": "markdown",
   "id": "956e82e2",
   "metadata": {
    "id": "956e82e2"
   },
   "source": [
    "## 2. Проверка гипотезы в Python\n",
    "\n",
    "- Нулевая гипотеза H₀: Средняя активность пользователей в часах в двух группах (Москва и Санкт-Петербург) не различается.\n",
    "\n",
    "- Альтернативная гипотеза H₁: Средняя активность пользователей в Санкт-Петербурге больше, и это различие статистически значимо."
   ]
  },
  {
   "cell_type": "code",
   "execution_count": 9,
   "id": "3a2ff4b0",
   "metadata": {},
   "outputs": [],
   "source": [
    "#  импортируем библиотеку для визуализии \n",
    "import matplotlib.pyplot as plt"
   ]
  },
  {
   "cell_type": "code",
   "execution_count": 10,
   "id": "67956690",
   "metadata": {
    "id": "67956690"
   },
   "outputs": [
    {
     "data": {
      "text/html": [
       "<div>\n",
       "<style scoped>\n",
       "    .dataframe tbody tr th:only-of-type {\n",
       "        vertical-align: middle;\n",
       "    }\n",
       "\n",
       "    .dataframe tbody tr th {\n",
       "        vertical-align: top;\n",
       "    }\n",
       "\n",
       "    .dataframe thead th {\n",
       "        text-align: right;\n",
       "    }\n",
       "</style>\n",
       "<table border=\"1\" class=\"dataframe\">\n",
       "  <thead>\n",
       "    <tr style=\"text-align: right;\">\n",
       "      <th></th>\n",
       "      <th>puid</th>\n",
       "      <th>hours</th>\n",
       "    </tr>\n",
       "    <tr>\n",
       "      <th>city</th>\n",
       "      <th></th>\n",
       "      <th></th>\n",
       "    </tr>\n",
       "  </thead>\n",
       "  <tbody>\n",
       "    <tr>\n",
       "      <th>Москва</th>\n",
       "      <td>6234</td>\n",
       "      <td>10.881092</td>\n",
       "    </tr>\n",
       "    <tr>\n",
       "      <th>Санкт-Петербург</th>\n",
       "      <td>2306</td>\n",
       "      <td>11.264433</td>\n",
       "    </tr>\n",
       "  </tbody>\n",
       "</table>\n",
       "</div>"
      ],
      "text/plain": [
       "                 puid      hours\n",
       "city                            \n",
       "Москва           6234  10.881092\n",
       "Санкт-Петербург  2306  11.264433"
      ]
     },
     "execution_count": 10,
     "metadata": {},
     "output_type": "execute_result"
    }
   ],
   "source": [
    "# сравним размеры групп\n",
    "group = df.groupby('city').agg({'puid' : 'count',\n",
    "                               'hours' : 'mean'})\n",
    "group"
   ]
  },
  {
   "cell_type": "markdown",
   "id": "2ea4036e",
   "metadata": {},
   "source": [
    "Размеры групп пользователей из Москвы и Санкт-Петербурга отличаются в 2,7 раза, в то время как количество часов также отличается в 1.7 раз.  "
   ]
  },
  {
   "cell_type": "code",
   "execution_count": 11,
   "id": "132438cc",
   "metadata": {},
   "outputs": [],
   "source": [
    "# формируем метрику для каждой группы \n",
    "msk_data = df[df['city'] == 'Москва']['hours']\n",
    "spb_data = df[df['city'] == 'Санкт-Петербург']['hours']"
   ]
  },
  {
   "cell_type": "code",
   "execution_count": 12,
   "id": "33d74744",
   "metadata": {},
   "outputs": [
    {
     "data": {
      "image/png": "[encoded data removed]",
      "text/plain": [
       "<Figure size 432x288 with 1 Axes>"
      ]
     },
     "metadata": {
      "needs_background": "light"
     },
     "output_type": "display_data"
    }
   ],
   "source": [
    "# исследуем распределение для пользователей с Мск\n",
    "plt.hist(msk_data, bins =15);"
   ]
  },
  {
   "cell_type": "code",
   "execution_count": 13,
   "id": "83fdcc76",
   "metadata": {
    "scrolled": true
   },
   "outputs": [
    {
     "data": {
      "image/png": "[encoded data removed]",
      "text/plain": [
       "<Figure size 432x288 with 1 Axes>"
      ]
     },
     "metadata": {
      "needs_background": "light"
     },
     "output_type": "display_data"
    }
   ],
   "source": [
    "# исследуем распределение для пользователей с СПб\n",
    "plt.hist(spb_data, bins =15);"
   ]
  },
  {
   "cell_type": "markdown",
   "id": "d6a3f5b2",
   "metadata": {},
   "source": [
    "На графиках наблюдается правосторонняя, или положительная, асимметрия — правый хвост распределения явно вытянут. Это указывает на присутствие высоких значений, которые оттягивают распределение вправо. "
   ]
  },
  {
   "cell_type": "markdown",
   "id": "a536f59e",
   "metadata": {},
   "source": [
    "Исходя из вышеисследуемого, мы не можем использовать параметрические тесты для проверки гипотезы, так как распределение не является нормальным. Именно поэтому далее применим тест Манна-Уитни, который устойчив к выбросам, так как использует ранги, а не абсолютные значения. "
   ]
  },
  {
   "cell_type": "markdown",
   "id": "1d1f8747",
   "metadata": {},
   "source": [
    " "
   ]
  },
  {
   "cell_type": "markdown",
   "id": "d1dd7076",
   "metadata": {},
   "source": [
    "Формулируем гипотезы:\n",
    "\n",
    "Н0 (нулевая гипотеза): среднее время активности пользователей в Санкт-Петербурге не больше, чем в Москве.\n",
    "\n",
    "Н1 (альтернативная гипотеза): среднее время активности пользователей в Санкт-Петербурге больше, чем в Москве, и это различие статистически значимо. "
   ]
  },
  {
   "cell_type": "code",
   "execution_count": 14,
   "id": "990c201c",
   "metadata": {},
   "outputs": [],
   "source": [
    "from scipy.stats import ttest_ind, mannwhitneyu\n",
    "import numpy as np "
   ]
  },
  {
   "cell_type": "code",
   "execution_count": 15,
   "id": "d625a755",
   "metadata": {},
   "outputs": [
    {
     "name": "stdout",
     "output_type": "stream",
     "text": [
      "pvalue=0.3810436794993063 > 0.05\n",
      "Нулевая гипотеза не отвергается! Средняя активность пользователей в часах в двух группах (Москва и Санкт-Петербург) не различается.\n"
     ]
    }
   ],
   "source": [
    "# применяем тест Манна-Уитни \n",
    "alpha = 0.05 \n",
    "stat_mw, p_value_mw = mannwhitneyu(\n",
    "    msk_data, \n",
    "    spb_data, \n",
    "    alternative='greater'\n",
    ") \n",
    "if p_value_mw > alpha:\n",
    "    print(f'pvalue={p_value_mw} > {alpha}')\n",
    "    print('Нулевая гипотеза не отвергается! Средняя активность пользователей в часах в двух группах (Москва и Санкт-Петербург) не различается.')\n",
    "else:\n",
    "    print(f'pvalue={p_value_mw} < {alpha}')\n",
    "    print('Нулевая гипотеза отвергается! Средняя активность пользователей в Санкт-Петербурге больше, и это различие статистически значимо.')"
   ]
  },
  {
   "cell_type": "markdown",
   "id": "8680c1a0",
   "metadata": {},
   "source": [
    " "
   ]
  },
  {
   "cell_type": "markdown",
   "id": "cdcd802f",
   "metadata": {},
   "source": [
    " "
   ]
  },
  {
   "cell_type": "markdown",
   "id": "6953e84c",
   "metadata": {
    "id": "6953e84c"
   },
   "source": [
    "## 3. Аналитическая записка\n"
   ]
  },
  {
   "cell_type": "markdown",
   "id": "f00dd1ac",
   "metadata": {},
   "source": [
    "t-тест был выполнен по типу Манна-Уитни, так как для него не требуется нормальное распределение выборочного среднего. Уровень значимости выбрали 0.05, так как оно самое часто используемое значение в практике. \n",
    "\n",
    "По результатам теста средняя активность пользователей в часах в двух группах не различается, то есть нулевая гипотеза находит свое подтверждение, так как в ходе выполнения тестирования значение p-value составляет 0.38, что больше уровня значимости. \n",
    "\n",
    "На основе этого эксперимента и имеющихся в нем данных не нашлось достаточных доказательств того, что пользователи из Санкт-Петербурга проводят больше времени в приложении, чем пользователи из Москвы. \n",
    "\n",
    "Такой результат может объяснять причина, например, технической неполадки в одном из городов. То есть возможные технические проблемы или ограничения в работе приложения в одном из городов могут повлиять на результаты и маскировать реальные различия в поведении пользователей. "
   ]
  },
  {
   "cell_type": "markdown",
   "id": "8e1a048c",
   "metadata": {},
   "source": [
    " "
   ]
  },
  {
   "cell_type": "markdown",
   "id": "hc1d6jVISegz",
   "metadata": {
    "id": "hc1d6jVISegz"
   },
   "source": [
    "----"
   ]
  },
  {
   "cell_type": "markdown",
   "id": "NqOUIYhbrIfC",
   "metadata": {
    "id": "NqOUIYhbrIfC"
   },
   "source": [
    "# Часть 2. Анализ результатов A/B-тестирования"
   ]
  },
  {
   "cell_type": "markdown",
   "id": "71645c59",
   "metadata": {},
   "source": [
    " "
   ]
  },
  {
   "cell_type": "markdown",
   "id": "8d311921",
   "metadata": {},
   "source": [
    "## Описание данных "
   ]
  },
  {
   "cell_type": "markdown",
   "id": "21789f76",
   "metadata": {},
   "source": [
    "Название теста: interface_eu_test;\n",
    "\n",
    "Группы: А (контрольная), B (новый интерфейс)."
   ]
  },
  {
   "cell_type": "markdown",
   "id": "32458efa",
   "metadata": {},
   "source": [
    " ps://code.s3.yandex.net/datasets/ab_test_participants.csv — таблица участников тестов. Структура файла:\n",
    " - user_id — идентификатор пользователя;\n",
    " - group — группа пользователя;\n",
    " - ab_test — название теста;\n",
    " - device — устройство, с которого происходила регистрация.\n",
    " \n",
    " https://code.s3.yandex.net/datasets/ab_test_events.zip — архив с одним csv-файлом, в котором собраны события 2020 года; Структура файла: \n",
    " - user_id — идентификатор пользователя;\n",
    " - event_dt — дата и время события;\n",
    " - event_name — тип события;\n",
    " - details — дополнительные данные о событии: \n",
    "      -- registration (регистрация) — стоимость привлечения клиента;\n",
    "      -- purchase (покупка) — стоимость покупки.\n",
    " \n",
    " "
   ]
  },
  {
   "cell_type": "markdown",
   "id": "c9830616",
   "metadata": {},
   "source": [
    " "
   ]
  },
  {
   "cell_type": "markdown",
   "id": "UNXAAyF5r9Rk",
   "metadata": {
    "id": "UNXAAyF5r9Rk"
   },
   "source": [
    "## 1. Цели исследования.\n",
    "\n"
   ]
  },
  {
   "cell_type": "markdown",
   "id": "kHx-51yES8bd",
   "metadata": {
    "id": "kHx-51yES8bd"
   },
   "source": [
    "Цель: проверить гипотезу о том, что в течение 7 дней после регистрации в системе конверсия зарегистрированных пользователей в покупателей увеличится как минимум на 3 процентых значения. \n",
    "\n",
    "Задачи: \n",
    "- загрузить данные теста;\n",
    "- проверить корректность его проведения;\n",
    "- проанализировать полученные результаты."
   ]
  },
  {
   "cell_type": "code",
   "execution_count": 16,
   "id": "DjFcJbeGsTIg",
   "metadata": {
    "id": "DjFcJbeGsTIg"
   },
   "outputs": [],
   "source": [
    "participants = pd.read_csv('https://code.s3.yandex.net/datasets/ab_test_participants.csv')\n",
    "events = pd.read_csv('https://code.s3.yandex.net/datasets/ab_test_events.zip',\n",
    "                     parse_dates=['event_dt'], low_memory=False)"
   ]
  },
  {
   "cell_type": "code",
   "execution_count": 17,
   "id": "2298d004",
   "metadata": {},
   "outputs": [
    {
     "name": "stdout",
     "output_type": "stream",
     "text": [
      "<class 'pandas.core.frame.DataFrame'>\n",
      "RangeIndex: 14525 entries, 0 to 14524\n",
      "Data columns (total 4 columns):\n",
      " #   Column   Non-Null Count  Dtype \n",
      "---  ------   --------------  ----- \n",
      " 0   user_id  14525 non-null  object\n",
      " 1   group    14525 non-null  object\n",
      " 2   ab_test  14525 non-null  object\n",
      " 3   device   14525 non-null  object\n",
      "dtypes: object(4)\n",
      "memory usage: 454.0+ KB\n"
     ]
    }
   ],
   "source": [
    "# проверяем датафрейм с участниками тестов на типы данных и пропуски в столбцах\n",
    "participants.info()"
   ]
  },
  {
   "cell_type": "code",
   "execution_count": 18,
   "id": "67caf169",
   "metadata": {},
   "outputs": [
    {
     "data": {
      "text/plain": [
       "0"
      ]
     },
     "execution_count": 18,
     "metadata": {},
     "output_type": "execute_result"
    }
   ],
   "source": [
    "# проверяем наличие дубликатов \n",
    "participants.duplicated().sum()"
   ]
  },
  {
   "cell_type": "code",
   "execution_count": 19,
   "id": "e9c1c624",
   "metadata": {},
   "outputs": [
    {
     "name": "stdout",
     "output_type": "stream",
     "text": [
      "<class 'pandas.core.frame.DataFrame'>\n",
      "RangeIndex: 787286 entries, 0 to 787285\n",
      "Data columns (total 4 columns):\n",
      " #   Column      Non-Null Count   Dtype         \n",
      "---  ------      --------------   -----         \n",
      " 0   user_id     787286 non-null  object        \n",
      " 1   event_dt    787286 non-null  datetime64[ns]\n",
      " 2   event_name  787286 non-null  object        \n",
      " 3   details     249022 non-null  object        \n",
      "dtypes: datetime64[ns](1), object(3)\n",
      "memory usage: 24.0+ MB\n"
     ]
    }
   ],
   "source": [
    "# проверяем датафрейм с архивными данными за 2020 год \n",
    "events.info()"
   ]
  },
  {
   "cell_type": "code",
   "execution_count": 20,
   "id": "f83cf57d",
   "metadata": {},
   "outputs": [],
   "source": [
    "# приводим к более привычному виду столбец с датой\n",
    "events['event_dt'] = pd.to_datetime(events['event_dt'])"
   ]
  },
  {
   "cell_type": "code",
   "execution_count": 21,
   "id": "7f6d34c8",
   "metadata": {
    "scrolled": true
   },
   "outputs": [
    {
     "data": {
      "text/plain": [
       "user_id            0\n",
       "event_dt           0\n",
       "event_name         0\n",
       "details       538264\n",
       "dtype: int64"
      ]
     },
     "execution_count": 21,
     "metadata": {},
     "output_type": "execute_result"
    }
   ],
   "source": [
    "# проверяем наличие пропусков в датафрейме \n",
    "events.isna().sum()"
   ]
  },
  {
   "cell_type": "markdown",
   "id": "412649a9",
   "metadata": {},
   "source": [
    "Единственный столбец, который содержит пропуски, — это details. В нем хранятся дополнительные данные о событии, в который попал пользователь. Данная информация не понадобится нам в будущем для решения задач, поэтому ничего не будем делать с пропусками. "
   ]
  },
  {
   "cell_type": "code",
   "execution_count": 22,
   "id": "4b911aae",
   "metadata": {},
   "outputs": [
    {
     "data": {
      "text/html": [
       "<div>\n",
       "<style scoped>\n",
       "    .dataframe tbody tr th:only-of-type {\n",
       "        vertical-align: middle;\n",
       "    }\n",
       "\n",
       "    .dataframe tbody tr th {\n",
       "        vertical-align: top;\n",
       "    }\n",
       "\n",
       "    .dataframe thead th {\n",
       "        text-align: right;\n",
       "    }\n",
       "</style>\n",
       "<table border=\"1\" class=\"dataframe\">\n",
       "  <thead>\n",
       "    <tr style=\"text-align: right;\">\n",
       "      <th></th>\n",
       "      <th>user_id</th>\n",
       "      <th>event_dt</th>\n",
       "      <th>event_name</th>\n",
       "      <th>details</th>\n",
       "    </tr>\n",
       "  </thead>\n",
       "  <tbody>\n",
       "    <tr>\n",
       "      <th>0</th>\n",
       "      <td>GLOBAL</td>\n",
       "      <td>2020-12-01 00:00:00</td>\n",
       "      <td>End of Black Friday Ads Campaign</td>\n",
       "      <td>ZONE_CODE15</td>\n",
       "    </tr>\n",
       "    <tr>\n",
       "      <th>1</th>\n",
       "      <td>CCBE9E7E99F94A08</td>\n",
       "      <td>2020-12-01 00:00:11</td>\n",
       "      <td>registration</td>\n",
       "      <td>0.0</td>\n",
       "    </tr>\n",
       "    <tr>\n",
       "      <th>2</th>\n",
       "      <td>GLOBAL</td>\n",
       "      <td>2020-12-01 00:00:25</td>\n",
       "      <td>product_page</td>\n",
       "      <td>NaN</td>\n",
       "    </tr>\n",
       "    <tr>\n",
       "      <th>3</th>\n",
       "      <td>CCBE9E7E99F94A08</td>\n",
       "      <td>2020-12-01 00:00:33</td>\n",
       "      <td>login</td>\n",
       "      <td>NaN</td>\n",
       "    </tr>\n",
       "    <tr>\n",
       "      <th>4</th>\n",
       "      <td>CCBE9E7E99F94A08</td>\n",
       "      <td>2020-12-01 00:00:52</td>\n",
       "      <td>product_page</td>\n",
       "      <td>NaN</td>\n",
       "    </tr>\n",
       "  </tbody>\n",
       "</table>\n",
       "</div>"
      ],
      "text/plain": [
       "            user_id            event_dt                        event_name  \\\n",
       "0            GLOBAL 2020-12-01 00:00:00  End of Black Friday Ads Campaign   \n",
       "1  CCBE9E7E99F94A08 2020-12-01 00:00:11                      registration   \n",
       "2            GLOBAL 2020-12-01 00:00:25                      product_page   \n",
       "3  CCBE9E7E99F94A08 2020-12-01 00:00:33                             login   \n",
       "4  CCBE9E7E99F94A08 2020-12-01 00:00:52                      product_page   \n",
       "\n",
       "       details  \n",
       "0  ZONE_CODE15  \n",
       "1          0.0  \n",
       "2          NaN  \n",
       "3          NaN  \n",
       "4          NaN  "
      ]
     },
     "execution_count": 22,
     "metadata": {},
     "output_type": "execute_result"
    }
   ],
   "source": [
    "events.head()"
   ]
  },
  {
   "cell_type": "markdown",
   "id": "97ea850b",
   "metadata": {},
   "source": [
    "Строка GLOBAL означает глобальные события, которые касаются всей системы или компании. Такие строки помогают различать массовые события. "
   ]
  },
  {
   "cell_type": "code",
   "execution_count": 23,
   "id": "001f4e2d",
   "metadata": {},
   "outputs": [
    {
     "data": {
      "text/plain": [
       "36318"
      ]
     },
     "execution_count": 23,
     "metadata": {},
     "output_type": "execute_result"
    }
   ],
   "source": [
    "# проверим наличие дубликатов в датафрейме \n",
    "events.duplicated().sum()"
   ]
  },
  {
   "cell_type": "code",
   "execution_count": 24,
   "id": "ff7cc1ef",
   "metadata": {},
   "outputs": [
    {
     "name": "stdout",
     "output_type": "stream",
     "text": [
      "<class 'pandas.core.frame.DataFrame'>\n",
      "Int64Index: 750968 entries, 0 to 787285\n",
      "Data columns (total 4 columns):\n",
      " #   Column      Non-Null Count   Dtype         \n",
      "---  ------      --------------   -----         \n",
      " 0   user_id     750968 non-null  object        \n",
      " 1   event_dt    750968 non-null  datetime64[ns]\n",
      " 2   event_name  750968 non-null  object        \n",
      " 3   details     244905 non-null  object        \n",
      "dtypes: datetime64[ns](1), object(3)\n",
      "memory usage: 28.6+ MB\n"
     ]
    }
   ],
   "source": [
    "# удаляем дубликаты \n",
    "events = events.drop_duplicates()\n",
    "events.info()"
   ]
  },
  {
   "cell_type": "markdown",
   "id": "3228d7c5",
   "metadata": {},
   "source": [
    " "
   ]
  },
  {
   "cell_type": "code",
   "execution_count": 25,
   "id": "aNa3zHrKslEN",
   "metadata": {
    "id": "aNa3zHrKslEN",
    "scrolled": true
   },
   "outputs": [
    {
     "data": {
      "text/plain": [
       "ab_test                  group\n",
       "interface_eu_test        A        5383\n",
       "                         B        5467\n",
       "recommender_system_test  A        2747\n",
       "                         B         928\n",
       "Name: user_id, dtype: int64"
      ]
     },
     "execution_count": 25,
     "metadata": {},
     "output_type": "execute_result"
    }
   ],
   "source": [
    "# проверяем равномерность распределения пользователей по группам \n",
    "test_group = participants.groupby(['ab_test','group'])['user_id'].nunique()\n",
    "test_group"
   ]
  },
  {
   "cell_type": "markdown",
   "id": "79140f9c",
   "metadata": {},
   "source": [
    "В тесте \"interface_eu_test\" количество пользователей распределено равномерно по группам и иметтдостаточное количество людей для проведения тестирования. При этом в тесте \"recommender_system_test\" распределение пользователей по группам абсолютно неравномерное. "
   ]
  },
  {
   "cell_type": "code",
   "execution_count": 27,
   "id": "c1b5da47",
   "metadata": {},
   "outputs": [
    {
     "data": {
      "text/plain": [
       "['D5DD44281759F7C8',\n",
       " 'C7750723906C925A',\n",
       " 'D9128C07E09FF452',\n",
       " '8FF91E21E27A330D',\n",
       " 'D737563A454A419E',\n",
       " '207E61D6D4F44D97',\n",
       " '7060BB1CBE3BAACC',\n",
       " 'FABB6D49B11E673F',\n",
       " 'FB1F9619F8C3CC75',\n",
       " 'EEA592D3C6F5E5A4',\n",
       " '01B9975CAE144B78',\n",
       " '983E7021DDC7E0FA',\n",
       " '928364C4C9F13FA8',\n",
       " 'AA5A1803D3FA76B4',\n",
       " 'CDED0FACF20CA716',\n",
       " '6DFDC639B8B85EF7',\n",
       " 'A847CBD3730F6D41',\n",
       " '958426148AFA05C5',\n",
       " '4A61A28F35795FD1',\n",
       " 'AEE24B6142A3C431',\n",
       " 'DD4352CDCF8C3D57',\n",
       " '98720595D29108E9',\n",
       " '48CFE37563932DC2',\n",
       " '526BA4A669CC6CC2',\n",
       " '74EEC94A70685C1E',\n",
       " '5A7165E3831CBE75',\n",
       " 'D2F6FB926A64D196',\n",
       " '4803D52DB8782CC2',\n",
       " '9E68AB5C5C7FEFF4',\n",
       " '9FC882129DBDE625',\n",
       " '85521867220EB1E7',\n",
       " '604F9F5DB1EB8997',\n",
       " 'C1760622B65C9B84',\n",
       " '04988C5DF189632E',\n",
       " 'E0DF3060D454B5AF',\n",
       " 'F507CB8030C885FB',\n",
       " '19AC976D25997BE9',\n",
       " '4B34A5BD1D1AEF0D',\n",
       " '8FC9D1BB3017BE66',\n",
       " 'CCAF138D12385DF2',\n",
       " '0D77D907C24CDAC1',\n",
       " 'DD9DDDB53DA30E40',\n",
       " 'E40FA02A8A53F693',\n",
       " '79DF9D6EDC7A58CE',\n",
       " '2D6A6472D7F46812',\n",
       " 'F195464E8F2E0267',\n",
       " '3C46C1264F52F92C',\n",
       " 'BF1EB8E6FA3F19B8',\n",
       " '79BED20696125731',\n",
       " 'B7DBE079E5AB148E',\n",
       " 'CA331DA5AECB1774',\n",
       " 'D45554BA350E10C4',\n",
       " '3B6ABE8E7872977E',\n",
       " '29FB97985AB0E005',\n",
       " 'F71DD44DAB783CEB',\n",
       " 'ADFE9F163DEA2EAE',\n",
       " '27802765D2458B2B',\n",
       " '0EBE4BDE16D19DC0',\n",
       " 'E18D25D68D9FCC60',\n",
       " 'C474F67E2204321C',\n",
       " 'A0BAE4190D41A285',\n",
       " 'B931BC5D6FE1416C',\n",
       " '96070D0B8FD4C5BF',\n",
       " '3242BDDFA690A22B',\n",
       " '7CEFBD3C6ABEF91A',\n",
       " '187343735EC71686',\n",
       " '055A4CD17A483B8E',\n",
       " '9BD9E79856D54059',\n",
       " 'AA0D36EF3DBFCC9F',\n",
       " '5AD2A85FFA7D7EBE',\n",
       " '2A12B7DB3C6E84D6',\n",
       " 'BA9906DF9975512E',\n",
       " '1A4A33FE1C0FDD90',\n",
       " '127DA1103176E88E',\n",
       " '9A7D2A236FE09070',\n",
       " 'BA98FD8F84C838C7',\n",
       " '954C980B4A9559FF',\n",
       " '329E3207708990E1',\n",
       " '465CD5B78E1AA5B7',\n",
       " '535DC74493925CF8',\n",
       " '2CA426D092054330',\n",
       " 'AB94ADBD1345E896',\n",
       " '8E2FDE8953DB6A48',\n",
       " 'C1FFA9A2B049B203',\n",
       " '8D406B3B500671BD',\n",
       " '14D84579BCBAD800',\n",
       " 'DAD6760631314417',\n",
       " 'C74B6E95352ADE79',\n",
       " '0363BAFB478AA9EF',\n",
       " '0B0D84A866817D84',\n",
       " 'A8C57C0D4118F4D7',\n",
       " '8A26EBC1BA92524B',\n",
       " 'BC4A722DBC9D0784',\n",
       " '75013CAAF42E90A9',\n",
       " 'ACDCFF5D6EEDBEAC',\n",
       " '0F2729666CE8EF33',\n",
       " 'EABF946459C4DA3A',\n",
       " 'ED11170D5BB9D744',\n",
       " 'C33D8C1C81C7AA23',\n",
       " '04BE4EFE4C457312',\n",
       " '0CC466ED84E0756D',\n",
       " '3D89F6FEA1926F70',\n",
       " '73CE2DE1253D58B4',\n",
       " '20285349F62230E9',\n",
       " 'B817F0C0928EDB27',\n",
       " '87A8BCBB07EBDACA',\n",
       " '44EB15AD423DC31C',\n",
       " 'CF03E97B314C5632',\n",
       " '50CF32FEE0C61DA9',\n",
       " '70BF82527E6ED9C3',\n",
       " '3E286601D309601C',\n",
       " '71D1FF7218FB3F1E',\n",
       " 'CA9D3DEA00836355',\n",
       " '7D8970118A695D48',\n",
       " '7AFFAFC4121EB5B2',\n",
       " 'B0244412983000C5',\n",
       " '1D831F7D0F539AFA',\n",
       " '220C8F0BE40515E5',\n",
       " '2170CB76798D36EE',\n",
       " 'D235BA1BB8DECBE9',\n",
       " 'E7F87F9FBA3269B1',\n",
       " '13FBEB715F4AAE10',\n",
       " '803230F1D8216380',\n",
       " 'C9E32DE296F68008',\n",
       " '4DBBBAA6705078D0',\n",
       " '83AB3C13B3972BAE',\n",
       " '52EC082510DA513B',\n",
       " '47ADBF580CF107E1',\n",
       " 'A48676A84719B3A7',\n",
       " 'B19324D874BEE1A5',\n",
       " 'D0533ECF2A67B35C',\n",
       " '4566C623449592A7',\n",
       " 'FE2AF0E94DBD470E',\n",
       " '993BDE69A0DE0391',\n",
       " 'E14805CD622EA211',\n",
       " '5A26996E38367C70',\n",
       " 'A4F18DF9C484EDC0',\n",
       " 'E391353FC3A4056D',\n",
       " '21AEB217BA764EAB',\n",
       " '6B0B075EA63618BE',\n",
       " 'F1B93BAE75EE0FB2',\n",
       " '28F165B39D160BC5',\n",
       " '224F9E7FA339E6A9',\n",
       " '2D7AF97EEB0056A5',\n",
       " '68373F4331DDD2E6',\n",
       " '5AD6C5CA55F10640',\n",
       " '9429C337BF221E89',\n",
       " '1E8855206E49EFF8',\n",
       " '2CDFC246EAEEAB13',\n",
       " 'CD77B10F620BEABA',\n",
       " 'E02247CEF572ACCA',\n",
       " 'D1D7C0CCE823D871',\n",
       " '0C2E77C6A381704A',\n",
       " '90AC003E691D70D4',\n",
       " '6CAA4AF4C12A22B9',\n",
       " '4D269D6E438C6D22',\n",
       " '09D429B94AE0DEC5',\n",
       " 'ACDFC703CACAC820',\n",
       " 'E3048C1D75193226',\n",
       " '12AD54E437AB3BF5',\n",
       " '9C1EFF68BC2F16F3',\n",
       " '3F52D53AB33C9FD6',\n",
       " 'CE27C7943C1BB6ED',\n",
       " '3341349F0FD06C14',\n",
       " '8C5E672BF19D5DEE',\n",
       " '54633A9BB233F1E6',\n",
       " '051D59BC38C3B3AA',\n",
       " '2B8FD20CA8A2A616',\n",
       " '0EE3092A08562765',\n",
       " '02894A55BC14A70E',\n",
       " '739656E0D7B50B30',\n",
       " 'AB88A0F609618A2A',\n",
       " '24BE89E87E2368BF',\n",
       " '5461DD0AF191F581',\n",
       " 'F0B92123E5142CBB',\n",
       " '67AB39E76836E176',\n",
       " '19302754B5457163',\n",
       " '3D264F3D953DBA67',\n",
       " '3B62EE83708770A5',\n",
       " 'BE3C02D74A664180',\n",
       " '701B5B6292603C20',\n",
       " 'ABFF0B9BAD11BB5D',\n",
       " '59390C0379937AB0',\n",
       " '64CD9350DEEE01B6',\n",
       " '133F64DC5E24F047',\n",
       " '52667DF0F366C919',\n",
       " 'B06B45B7C3E5E721',\n",
       " '13AE4DFAC67ACEB3',\n",
       " 'B01BF1A169A42CE7',\n",
       " '9A8CD4B32D7511F1',\n",
       " '14E7C76B7AB8822A',\n",
       " 'EF449601C94D2496',\n",
       " '6B1D0D8C4F8FBBEC',\n",
       " '6C2C087CEF08A20E',\n",
       " 'A791C2D62B213C96',\n",
       " 'A76F046D8D47589E',\n",
       " '25CE0629AC6B6971',\n",
       " '967680A9D7C9AFD1',\n",
       " 'E6FE73B8B903B31B',\n",
       " 'BBFD227B06D480C6',\n",
       " 'B6DBDDB2BD00352E',\n",
       " '68B3C70F0C0B4550',\n",
       " '732A1335A53C14D5',\n",
       " '41C7928F2ED27E66',\n",
       " '37E78FED858E7061',\n",
       " 'F7E2CAFE32DB0B14',\n",
       " 'A2CBF9847DA60249',\n",
       " 'EAF000D4CC7635B7',\n",
       " '697F116B31D05FCF',\n",
       " '0DB417842D3B79A2',\n",
       " '18E7E50874577C8B',\n",
       " '5B04574502DEFDB3',\n",
       " '5650B53B91DC98BB',\n",
       " 'FEA0C585A53E7027',\n",
       " 'C165E8C0C5DE19FF',\n",
       " 'B05232A00CE7DA9B',\n",
       " '06C6018D3CB3E903',\n",
       " 'D0562837FBB58AC5',\n",
       " 'EF2E4FAF26951358',\n",
       " '1190EEE1FA160468',\n",
       " '802AE3764E188FC6',\n",
       " 'DA2880E43566AF12',\n",
       " 'B150C94FFD64D8B0',\n",
       " '91E39AA34D6D1173',\n",
       " 'C286A270CFB9925D',\n",
       " '00341D8401F0F665',\n",
       " 'C72752E18AD12854',\n",
       " 'A8533224E9384B16',\n",
       " '067D05BD30F04F2E',\n",
       " '8094961C0D414366',\n",
       " '4408C615880185FB',\n",
       " 'A12886FD7DA592AF',\n",
       " 'B854154628803E46',\n",
       " 'DC16020AF1E1177B',\n",
       " '1073D7DFF1BBE8BB',\n",
       " '783A96FF14C40478',\n",
       " 'B60B4563ADC259E3',\n",
       " 'CCE74CB0FBDD3533',\n",
       " '13AA9B89A2885F8E',\n",
       " 'D2D8E67B7D0DE2D2',\n",
       " 'C8460FF8BEF553A4',\n",
       " '30DEB75B33B92DC8',\n",
       " 'A9E0A8057A5F07D1',\n",
       " 'D649423E43336656',\n",
       " '6A581C74EF4D5F44',\n",
       " 'A71444B5BEB5CCC4',\n",
       " 'F5BB0B36AA8DC1D4',\n",
       " '37F7B4F29C5F6396',\n",
       " '557A3001E88A209B',\n",
       " 'E32D4C0315D6BFBE',\n",
       " '2AE10F8C21B66E8E',\n",
       " 'EA6EA431FF84563B',\n",
       " '0FBF679EA1340786',\n",
       " 'FF44696E39039D29',\n",
       " '74285DE881A72F4C',\n",
       " 'EC9E9E250559033B',\n",
       " '2A7E32FA8EF4DBA1',\n",
       " '4FE90CB247C78EC5',\n",
       " '7FF05ACE1602142C',\n",
       " '8B83F28EB9DD639D',\n",
       " '5E9E80BADEA372AB',\n",
       " '3BB8C637AE50D857',\n",
       " 'C26CED3FB9AFF742',\n",
       " '4C3B9B6D59E98D59',\n",
       " '0F1FF07B3788976D',\n",
       " 'C9E2691EAD9EF4BB',\n",
       " 'B242B046BC32ADDA',\n",
       " '686549722B54A3E1',\n",
       " '5C7F53937B54D161',\n",
       " 'CBDA858CF7EEE1E0',\n",
       " 'B8AC521CB28510E7',\n",
       " 'F07BB43BAEF2AB42',\n",
       " '3AE5E3EE2C8A8727',\n",
       " '5EC32E17A02C2131',\n",
       " 'A35BD08F60AC00B8',\n",
       " 'A2DB18F90D9E3362',\n",
       " 'C04E36E535A6F740',\n",
       " '8F98834C531143DA',\n",
       " '59D9BD2A3172D3F4',\n",
       " '1353B1C2F6E6AA4E',\n",
       " '82F72EC6CDC1BA8F',\n",
       " 'B6E4E414699EFC1F',\n",
       " 'EE9E527A761299B2',\n",
       " 'C4F3A9D7BB596E6E',\n",
       " '4B45602B7DC37B62',\n",
       " 'C0DDE3AA2A89024F',\n",
       " 'CD650095FD201699',\n",
       " 'B582D211C1BE1FFD',\n",
       " '46BDEF99D733A7B7',\n",
       " '78745E80BA159887',\n",
       " 'F68F7886D0BCE784',\n",
       " '10F028FB8193F8C1',\n",
       " '88FB1EDF3E249223',\n",
       " '88EEB8C6C37A0521',\n",
       " '64D18CAEAEE6150A',\n",
       " 'C7CE76E3DBDC7533',\n",
       " 'C27F677720E68EA4',\n",
       " '12A77BCF101643B5',\n",
       " '823BE193CDC32ADF',\n",
       " '79B52A43517478A4',\n",
       " 'C7D588F1ABF3A91B',\n",
       " '934134714E66295F',\n",
       " '60A6101325BBA47E',\n",
       " 'A5B5775B0C7D0309',\n",
       " '84C13EFBE76DF52F',\n",
       " 'B83CF8CFD3575F8B',\n",
       " 'ABB61823786179CC',\n",
       " '0E6F91028486376D',\n",
       " 'F33A89BD00CFDDF3',\n",
       " '2139548144435929',\n",
       " 'FCF70F6E1871BD78',\n",
       " '96BDD55846D1F7F6',\n",
       " '00E68F103C66C1F7',\n",
       " '0EA9AB1C2A159C77',\n",
       " 'BF2613BE28381E56',\n",
       " 'DABC08CC80316871',\n",
       " 'EEFDF8577ED817C0',\n",
       " '70CE04E185154AD7',\n",
       " '9D06341739D723D5',\n",
       " '0ADFFFE9C0D60092',\n",
       " '2B06EB547B7AAD08',\n",
       " 'FE82D7FC50D4155B',\n",
       " '5813B74E3ED6094E',\n",
       " '9E656B4D34C68949',\n",
       " 'DABC14FDDFADD29E',\n",
       " 'F13CC3EF6739F4C0',\n",
       " '2DF9E85A613E0DD0',\n",
       " '64D39595B31D9ECE',\n",
       " '71A21F6C17C665C6',\n",
       " '7BC59B90C9447C42',\n",
       " 'C86F0150DA3B10F2',\n",
       " '0ACD764342811460',\n",
       " '66821339106C8891',\n",
       " '5EF0009854428FB8',\n",
       " '9918D1C354A1383A',\n",
       " '8FFA1D6F89AAEA40',\n",
       " '49C45D71BDCE2F69',\n",
       " 'EAFB9027A27D510C',\n",
       " '5207E56E697027E9',\n",
       " 'E77F99BCF9D8AB96',\n",
       " 'B2795EB0A968DFB5',\n",
       " '6445624A3AE163E6',\n",
       " '123C3AC236BE84F0',\n",
       " '11970FE3A608F9EF',\n",
       " 'D0CD9015FE1504CB',\n",
       " 'E1259EA0AC254490',\n",
       " '7875B71ED824F8F2',\n",
       " '635CA54AA6058DAE',\n",
       " '63F5FC15B31DB5A6',\n",
       " 'CF849D6380A28CA9',\n",
       " 'FB9FFB4BA8695C78',\n",
       " 'B2716998187D5D74',\n",
       " 'AC7F4C4BDAD56C17',\n",
       " 'DD9FB2652AE4ACBA',\n",
       " 'AA825CB62FB0EC0B',\n",
       " 'F6D9C08D0E97DE88',\n",
       " '0D6F5E157A56FB00',\n",
       " '6A698019769B0F16',\n",
       " '4664BF4717549775',\n",
       " 'E594B711ADD81DD8',\n",
       " '65A30CEC01FAB999',\n",
       " 'F5B4B562971760C6',\n",
       " 'C79239C16E4E6694',\n",
       " '603C1A0FA47D1640',\n",
       " 'E68B2613255FA585',\n",
       " '81AA83FBC31B6C0B',\n",
       " '90192F1A66D5A0AE',\n",
       " 'A2212CF79158D340',\n",
       " '27736FDA67EF07CB',\n",
       " 'EB215155BA578253',\n",
       " 'A8294E42CCC07445',\n",
       " 'A6E6ECF8E4924633',\n",
       " '54AAE35DB9DF5C19',\n",
       " 'A3EC85E750F2AFC6',\n",
       " '86172D2A196D7D03',\n",
       " 'A8C25A605F613665',\n",
       " '8F72F2114F2D5184',\n",
       " 'D2A9C2B69B9F4574',\n",
       " '507ADD5337970C14',\n",
       " '8FBAEB717ABA3930',\n",
       " '53732758D90FB1E4',\n",
       " '729F6099B1B31935',\n",
       " '04F2CF340B4F3822',\n",
       " '22092C653019E91C',\n",
       " '624B51C834246D6E',\n",
       " '1382E5D05428EBCD',\n",
       " 'C5AE17CBD0B33628',\n",
       " '5392D9E8F58D9E5F',\n",
       " '48496344F079B793',\n",
       " 'BAAEE6D68FB90D22',\n",
       " 'E3780F6861A69868',\n",
       " '6B72CFAE1935C789',\n",
       " 'D3A4F3513CC0AA2F',\n",
       " 'F9FE888A3A2222E9',\n",
       " '11C52432A6F7FA6B',\n",
       " 'EE25BC8FA059151D',\n",
       " '502902B3C32C72FF',\n",
       " 'A944D2BCDFD50619',\n",
       " '544EE0E8D5E36FDA',\n",
       " '7CBA351852B6F25C',\n",
       " '17DD74F263374528',\n",
       " 'B37F427F93BCA1E3',\n",
       " '6DF6E1615D629BA8',\n",
       " 'A4D5B31067614B05',\n",
       " 'DF72BA6A526F714F',\n",
       " '3656B8F3DEF02DA0',\n",
       " 'F424816C207F768D',\n",
       " 'CD668979C54E22F7',\n",
       " 'DF79393DADE71EF6',\n",
       " '4CCFDC7BE9B6FE73',\n",
       " '11A1350D1F8AD059',\n",
       " '4B058B8F19045AC9',\n",
       " '6786C23A54D59DD4',\n",
       " 'ECC76B90EB71C492',\n",
       " '8CE0BDF8F59A752E',\n",
       " '7A4A6B4CC6FDB0FF',\n",
       " '8C66932374EF8009',\n",
       " 'C3666DF0F2EE66A9',\n",
       " '41FA2525E7869F35',\n",
       " 'A81BA2A7B5FD1862',\n",
       " 'C226A7A3002ED8BE',\n",
       " '549A5092FD1BD5D9',\n",
       " '16BE66466549CD42',\n",
       " 'EEF5EFB2D5915CF1',\n",
       " '61572514C5A56E3F',\n",
       " 'D7A8DFC1A19E65B5',\n",
       " 'C0924D3FF1BEAA05',\n",
       " 'CE264232AC9049B8',\n",
       " 'D9C92EC5F9478381',\n",
       " '0F13D8C2809AD613',\n",
       " '1D9020D7979F924A',\n",
       " '5A47441C0AC5FAEE',\n",
       " '902F92052587344F',\n",
       " '32E13C1C0F6AC96E',\n",
       " 'AE49EDDFB9DABE03',\n",
       " 'B06BF284879EED23',\n",
       " '7DF21AEB1AA231F9',\n",
       " '5EBCE7B573FA0578',\n",
       " 'C670F0DE6C790F3C',\n",
       " '4949578BF1954CF5',\n",
       " '16F2DB656CC2F952',\n",
       " '2F28A3B279E5494A',\n",
       " 'DF40EF85F55A958D',\n",
       " 'DA4D24731C8CCEB8',\n",
       " 'C41BBCA9DACE544D',\n",
       " '649CE5D5A38BFA8B',\n",
       " 'FA8706D1E274805E',\n",
       " 'E8BBE017F65D7CEA',\n",
       " 'A800CDEA85871EEF',\n",
       " '25826F4FE6832AF1',\n",
       " '0C2FF828F063B7AD',\n",
       " 'BCF4888C3F7DE189',\n",
       " '04C4D0F1A70300A5',\n",
       " '3A5B11DD76C2CA65',\n",
       " 'A980A65F42FB1BB4',\n",
       " '5B1F39B5D751B669',\n",
       " 'A1EE4FBD37EA95B8',\n",
       " '8EB3AE898305A358',\n",
       " 'FB6F6BC119E1DBD5',\n",
       " '9A5549A4A85FCF06',\n",
       " 'F4E16CAFB780CA34',\n",
       " '1AD9F88DA92AC4E5',\n",
       " 'B01CF7E5AC419DE0',\n",
       " '8683850A677DCC7A',\n",
       " '0A0141A363E2E051',\n",
       " '6610064A4B2303D1',\n",
       " '9868DEF9E0B7E2C4',\n",
       " '4A55475E078F40DC',\n",
       " 'DC24142B23D9FEDD',\n",
       " 'BE52857ABCAD4C9B',\n",
       " 'E17D1ABC377C38CA',\n",
       " '542FE442CF2BDA4B',\n",
       " 'DBF9BDC859BC4459',\n",
       " 'D82DD23742E57665',\n",
       " '57442DD4178AFE27',\n",
       " '6D54D48C640D27D3',\n",
       " 'BF6D4EF4B54B3E94',\n",
       " 'F34D48681A35BD3B',\n",
       " '198FEF39910DCF76',\n",
       " '8C0E932FB144D00F',\n",
       " '84F840D269A65875',\n",
       " '4409E20FCD07CD14',\n",
       " 'AF72679D1CB8C3A5',\n",
       " 'F97D8746923ABA37',\n",
       " '8D4D2425F80F6A74',\n",
       " '8FA915CDB5994BDC',\n",
       " '24FB1A84E1C30291',\n",
       " 'E85E1F634E368569',\n",
       " 'FC37CBE8211E02A8',\n",
       " '5424E9D321EC3567',\n",
       " 'F85FD73AAF991283',\n",
       " 'A0028F574B5E5DC6',\n",
       " 'E2E336528AB6202A',\n",
       " 'FC3F3E4DA7C85F88',\n",
       " '8C0361CB080810CA',\n",
       " '68E1CED07444D6EC',\n",
       " '0BA00E790AA510C1',\n",
       " 'A8C1429C2249A1C3',\n",
       " '43525009898D1143',\n",
       " '3340B98CBEAEE766',\n",
       " '51DA2C882D0D7508',\n",
       " '3981FFA649C17699',\n",
       " '1796009027406E06',\n",
       " 'EA8341F38EFFE04C',\n",
       " '7C91912332353320',\n",
       " 'B043E52A918CDD6E',\n",
       " 'B9AF175E0AAECD8C',\n",
       " '6655D192F953E7CE',\n",
       " '8A2FACABB19EDC70',\n",
       " 'BD23AF6242CA944B',\n",
       " '46999A8B46BC31A1',\n",
       " '9657A8EEFB5E37E5',\n",
       " '412F5C9F04EE8F69',\n",
       " 'C89E24F4C723CEF4',\n",
       " 'D17646F57096613B',\n",
       " '7963560AC5D4166E',\n",
       " '8C711C385D747C84',\n",
       " '0D7E9E93CD497547',\n",
       " 'AFFC4117AC279D49',\n",
       " '2ED365A23D725DB0',\n",
       " 'A8738C98EA4BB1A7',\n",
       " 'A731AAAEA9F5C533',\n",
       " '639050CCC2A6C4A1',\n",
       " '85D9DB7B0BC24D2A',\n",
       " '36EDA624DB7B7F90',\n",
       " 'B3AEC82CC231D137',\n",
       " '3A6D88AB973BD99D',\n",
       " '814DF3DA9DD71B8A',\n",
       " '1AE6FF352875CA8C',\n",
       " 'EFE533D29119526E',\n",
       " '23E633E92EDCD195',\n",
       " '6EFF2BB96F97768F',\n",
       " '4B49F8A4F8D891BE',\n",
       " '1C7C7C34158EB086',\n",
       " 'D1DFCE26FF3C713F',\n",
       " '8B2134D31A514E4E',\n",
       " 'C615792E479BC0C8',\n",
       " '770B5C9E0E546E44',\n",
       " '0FF10274AC68852A',\n",
       " '307C06C0E6F09B93',\n",
       " '7E26530508267F69',\n",
       " 'B997F98ED3AA6104',\n",
       " 'D1FA009C9B514DD7',\n",
       " 'C2025648F77BD80B',\n",
       " '3B3F68DC5779E517',\n",
       " '9F15AB8A7F968248',\n",
       " '6A2064F288EF094F',\n",
       " 'BD5317D49443EA5E',\n",
       " 'FF2174A1AA0EAD20',\n",
       " 'D857FFFE7A6AC9A4',\n",
       " '3AA908B2D4A96AC2',\n",
       " '609EBA439CB96E0D',\n",
       " '3FC3BE7BAA35F33F',\n",
       " 'FA86D8DFAD3ADADE',\n",
       " '3FAA6AD64C3B47E8',\n",
       " 'A09DFE27D4CFF8E8',\n",
       " 'E0EEE04D9FDB4931',\n",
       " '6F70F06DD209676B',\n",
       " '111E0B8A76E90532',\n",
       " '8FF8F87305BB9A7D',\n",
       " '6050D52AD58BC624',\n",
       " 'CBDE46A45FD5E6A4',\n",
       " 'DDCEDA0705FF68FB',\n",
       " 'EDDF1CA5A0EB8586',\n",
       " 'B2BB6F16652B21BF',\n",
       " 'B3A2485649E4A012',\n",
       " '97AD409895906A32',\n",
       " 'C7D1A5A6F6BAD476',\n",
       " 'D7933558E33BF7D5',\n",
       " 'DF9C2411ADA62C66',\n",
       " 'CE48F47093B03425',\n",
       " '7B5B4C6306A09430',\n",
       " '41EDEEC440887B2C',\n",
       " 'FEC0BCA6C323872F',\n",
       " '56F9D84470F97FF0',\n",
       " 'C77D7125A7F73F33',\n",
       " 'C176364EF5C025EA',\n",
       " '29DF5A79ECFED897',\n",
       " 'F9B39A46A299971D',\n",
       " '5438D422A6A53E0E',\n",
       " 'DF0A6D48CBB3969F',\n",
       " '5DECF6D0ECE58DF6',\n",
       " '8FB9E95B030D25C5',\n",
       " '21C2D41E1FDF1E70',\n",
       " '468A90E95D36CADB',\n",
       " '2F52D15FF20EE730',\n",
       " '3BDE2B9FBC14F7A4',\n",
       " '107D9F8613EBF2AA',\n",
       " '891458DEF142C0A3',\n",
       " '1C711C65356BCFBF',\n",
       " '6ED57949BDA6D94E',\n",
       " '84AAB026310D49C4',\n",
       " '06D2B163CB560FAC',\n",
       " '221AA0E38F37A7B7',\n",
       " '4F26C1C82B9EA0B5',\n",
       " 'F4BEF7B9C8172E36',\n",
       " '213C96A57E70B18F',\n",
       " 'C422FD79606A0B4C',\n",
       " '3F775ABC71333988',\n",
       " 'DD4731E5B4C9C4EB',\n",
       " 'A3BEB02A027BA3C4',\n",
       " 'C21237DC47AE00C5',\n",
       " '24553DD3FF973EE4',\n",
       " '37094134968B2013',\n",
       " 'EAD7AC780F0CB611',\n",
       " '9F3480BE97175137',\n",
       " '7C9CA3F88B8755F1',\n",
       " '630A7B72AE3824BF',\n",
       " '7F2C298110AA73B4',\n",
       " 'DC41AFF8213BE01A',\n",
       " '115ABCFDBDDB5950',\n",
       " '947658F983871E74',\n",
       " '21E6AD81A122B126',\n",
       " '5A5D645876C5C692',\n",
       " 'FAA7192A42F9F8DA',\n",
       " '3B4FF434FA8193B6',\n",
       " 'F7BAFF2E0A04F11B',\n",
       " 'EC998D82E096033B',\n",
       " '65678C4C3E6AF563',\n",
       " '4F37FAAD74FB679C',\n",
       " '020A95B66F363AFB',\n",
       " '5B57E88DFE82FAD6',\n",
       " '0CA93D3A4A1D8389',\n",
       " '49D69A4901413D82',\n",
       " 'D8DA1D568FCF46ED',\n",
       " 'E253DCB9EC1C014E',\n",
       " '9C99E4676D6A8B44',\n",
       " 'F10551276E3FDD53',\n",
       " '262C647D99621FF5',\n",
       " '9CBD8387C8A1DDDF',\n",
       " '6D3792154BB5A659',\n",
       " '13B7E3DA955377BA',\n",
       " 'A3D5BA3E276CD84C',\n",
       " 'BEF16764A13AEC34',\n",
       " '3DEA2F9B3EDA8B91',\n",
       " '5BDF2A772826F42C',\n",
       " 'A352755099619F01',\n",
       " 'BD31CABB6D5C6561',\n",
       " 'AF987F436A7EBD21',\n",
       " '1675B921AC721DBE',\n",
       " '824E3C1D0F769FA3',\n",
       " '091AC977394578DA',\n",
       " 'A4312FFD172A4998',\n",
       " 'F69BC50D9CC2A47B',\n",
       " '5ECF8AD51FC8062E',\n",
       " '33CEAE52626CA99E',\n",
       " 'A412E4B7C71C0D94',\n",
       " '8DE56E6BDA5F54AC',\n",
       " 'C45D1641140AB2BC',\n",
       " 'DE20AA504779785D',\n",
       " '61D3434CE0D95AB7',\n",
       " 'C26D3BB63817A267',\n",
       " 'DC4E5D8BD6ABF9BC',\n",
       " '65F225074FEC2C03',\n",
       " '2DC0C9E9D89D2352',\n",
       " '4B5225B3DCB853CE',\n",
       " 'AA364AF6A253170F',\n",
       " '8B6B98D9A40E0A42',\n",
       " '52828376E649CA27',\n",
       " '00EFA157F7B6E1C4',\n",
       " '2EC08F2084FF3438',\n",
       " '0DD2E54D87CFD4A4',\n",
       " 'BE600B10445D29C4',\n",
       " '505555B3CCA490C8',\n",
       " 'DA7D4CF1CBBADE49',\n",
       " '08D42E112D1F4407',\n",
       " 'FE8F9858BBE502D9',\n",
       " '788C61EDBDD38346',\n",
       " '2CBFC548B33C0259',\n",
       " '9F0571C70D4BD33B',\n",
       " '69B106F098CB640E',\n",
       " 'D6924B9AB9903228',\n",
       " 'C2E79843ED511E13',\n",
       " '44F7F21118841F2D',\n",
       " '4E43940B0CF8D947',\n",
       " 'D266B29CC73DD0F9',\n",
       " 'F19288FFDF6014FE',\n",
       " 'A533C3D1BEAC8798',\n",
       " '9270DB42112E3B14',\n",
       " 'C765194AB5550498',\n",
       " '57E796E81DD60883',\n",
       " '72742C5F312A1FEC',\n",
       " '303063C7A89A39CA',\n",
       " 'CA6F4DAED160E5B1',\n",
       " 'EF6DBFA129654B41',\n",
       " 'F098EC2120B5150C',\n",
       " '1E7B931452B2F965',\n",
       " 'F4C8BB8D1622FE87',\n",
       " '597F7FD5AA3524D3',\n",
       " '3FD750E6566CE5E3',\n",
       " '02313B9E82255F47',\n",
       " 'D9BAC4C97F9C107F',\n",
       " '3382B624CF985A13',\n",
       " '94464DF2E5398E26',\n",
       " 'BBE0583F0240AABB',\n",
       " '80055F949A01DDAD',\n",
       " '2FCC63EB9CB798BF',\n",
       " '7E4B0D11D179F4EC',\n",
       " '3F6CAEC76651E5AC',\n",
       " 'E68002AA33773AD5',\n",
       " '743EFA16F928E18B',\n",
       " '994D853A1F8D1771',\n",
       " '3D1A366EDDC82832',\n",
       " '1FA7A8399291885E',\n",
       " 'A7957CDA89BDE94F',\n",
       " '2A2A3F0E002F81B5',\n",
       " '23F551153080EBAB',\n",
       " 'B27B9689064C54C4',\n",
       " '60D456E636F6C031',\n",
       " '75AC3DC6E14554D0',\n",
       " '001064FEAAB631A1',\n",
       " 'FC2DA0D7EF375B27',\n",
       " 'E0CCA0E17AD074DA',\n",
       " '748DD5E33B6F98C3',\n",
       " '0A5E3BE3C51CB47A',\n",
       " '565EF59DDD36B95B',\n",
       " '5F89649C6337CE7D',\n",
       " 'C6C4C814B7B202E7',\n",
       " '1B72B5CD89B93B68',\n",
       " '14AEC962812EB706',\n",
       " 'EF058AAD0A56A298',\n",
       " 'CFDED9167B27A57F',\n",
       " 'E3FE22D7C70B05E6',\n",
       " '573EF5CB449265BE',\n",
       " 'F8151E51EA08F337',\n",
       " '40194A2E6C03B547',\n",
       " '538F954F6B3AECE4',\n",
       " '10C2A2FB00BD9AE2',\n",
       " 'F8564F547AFFC0B9',\n",
       " '18569C8DCB0771B6',\n",
       " 'E1EA339E17C0D568',\n",
       " '84DC74ED5E60BA6A',\n",
       " '94BE60EF959D177D',\n",
       " '1E8329A6915FB27E',\n",
       " 'A7EE379599B38AE0',\n",
       " '79913E8816E3DA5D',\n",
       " '395461648C47B5E1',\n",
       " '75654D851F8C8F59',\n",
       " '5D0240D20EA50D8C',\n",
       " 'CA6B3F85024FAF6B',\n",
       " '4CCE583A34A8362C',\n",
       " '4DAD6F609E7D7328',\n",
       " 'C57E6C4AFF4FF31A',\n",
       " 'E7F4B5EBC0495D72',\n",
       " '8611C1CA3986E553',\n",
       " '08589AA89496453B',\n",
       " '963B1853B52C27E5',\n",
       " 'D7A2C421522E93A4',\n",
       " '2BEDCA2DF5D4679F',\n",
       " 'A2614E5A9AC15FC8',\n",
       " '8C69C35FB5E142F8',\n",
       " 'BE0FDC8CC0D5455D',\n",
       " 'AFF3D30CC385F0E9',\n",
       " '74C5CCDA7DF761EE',\n",
       " 'BF3665AB1DF86357',\n",
       " '9BFFAFDAB999DF19',\n",
       " '3279592816F7F6D2',\n",
       " '8A9B589AE60EA3C0',\n",
       " 'B7229F43B32B5593',\n",
       " 'ED61DF6AA1B81F5B',\n",
       " '430C998549E88DAE',\n",
       " '69E475C5708ABE56',\n",
       " '1B52830A832D33F5',\n",
       " 'E123EF1A9A7332A4',\n",
       " 'F38941283A36C34B',\n",
       " 'EE8401B631ED63CE',\n",
       " 'D5F578A546F3E804',\n",
       " '0EA6AE1AB7BB8ACA',\n",
       " '23F10CDFF7372B06',\n",
       " '79656F14758D76BA',\n",
       " '46A7B6A9C1C4E46B',\n",
       " '9F32866BD479E689',\n",
       " 'DFE341550729F28E',\n",
       " 'DE078758B0515023',\n",
       " 'E0272BC86CC88DC7',\n",
       " '894A2506B3A50D03',\n",
       " '5B4EFE916AD19741',\n",
       " '2F46396B6766CFDB',\n",
       " '34A2E022930DFCA3',\n",
       " '1C5874DE0D952A0D',\n",
       " '4BDA6084191118DF',\n",
       " '495E506B3D29645B',\n",
       " '83E9CFC64D61108E',\n",
       " '65A33D1E2F637CE6',\n",
       " '8F5D7DE5A7B06249',\n",
       " '03FBDF999D5B81B8',\n",
       " '9FB7D7666F50835C',\n",
       " 'ED7297A4D3BFA953',\n",
       " '10779B9305942526',\n",
       " 'CE771EFC59ED44A5',\n",
       " '9E0A3633886C080E',\n",
       " '4D921165CD2825D1',\n",
       " 'F0A1C31A7211AC16',\n",
       " '102613D89170C020',\n",
       " 'C573C24EF423143C',\n",
       " 'F03F667009F16326',\n",
       " 'AEB9B39AE54D3598',\n",
       " '38189578561F38CB',\n",
       " '1381632DA8AD52C0',\n",
       " 'EB87A4B3C0008AFB',\n",
       " '4764F95CF4989E46',\n",
       " 'C93F18A3865E93D6',\n",
       " '341E8DBCD6C8B223',\n",
       " '886E52074D084B18',\n",
       " '2787953F22AA5648',\n",
       " '0DABE6F3956778ED',\n",
       " '86B91078B1F0BA1A',\n",
       " '10863662C3B5AB49',\n",
       " 'B42748BA986E4163',\n",
       " '9D1710D562537AA8',\n",
       " 'CB0B5021B1BE7403',\n",
       " '96749D41A2185B46',\n",
       " 'CC9D23AA2AD67118',\n",
       " '95401934D6D6D4FC',\n",
       " '6B1DE4B46F1267CB',\n",
       " 'C8BDDF5639850737',\n",
       " 'E65F1C4C712CDC41',\n",
       " 'AAE1914BDB419328',\n",
       " 'CBA33B9DE421A616',\n",
       " '0980BF24051C806A',\n",
       " '2EC26EB640A1756D',\n",
       " '8E52B17EF9DCA68B',\n",
       " '0082295A41A867B5',\n",
       " '8D46D7EB5112DC9D',\n",
       " '9431D6C9475CFD3A',\n",
       " '1D6A02B0987CD71A',\n",
       " 'E3BEB139D0839F91',\n",
       " '0EF9EA17D205AB66',\n",
       " '8F1195B887A60121',\n",
       " '2828E6688DC580C4',\n",
       " '8285135A01FF5488',\n",
       " 'D1BB2F57BCD02BAE',\n",
       " 'E3481D64A20DA394',\n",
       " '64E7466FBB579E9E',\n",
       " '2C662D285ED4136C',\n",
       " '1D0FCBD767EE0874',\n",
       " '4122B8F30EB2271C',\n",
       " 'C1E43A9B1D675927',\n",
       " '2BDC4DBEBBA058B6',\n",
       " 'DF7F485FA44A60AF',\n",
       " '5D5E6EE92AF6E9E0',\n",
       " '24D3AAA91EFD597F',\n",
       " 'E7CC63BF20618321',\n",
       " 'C4D48357F1C18C76',\n",
       " 'A1C3D3C6C3CADDC5',\n",
       " 'D40A89E14F1C10BD',\n",
       " '669F197DC7EB4FD9',\n",
       " '48BEDF1889241425',\n",
       " 'CBEFCA3BFDE4CC58',\n",
       " 'FFF28D02B1EACBE1',\n",
       " '8BD80DB1522F7120',\n",
       " '340D9C518D3CBB8D',\n",
       " 'D9F243D9F177689B',\n",
       " '275A5125510426EB',\n",
       " 'E1489CCA162BC2E6',\n",
       " 'DA8DABF19A0203FD',\n",
       " 'C389958204955C98',\n",
       " '3C37EE92E7960750',\n",
       " 'CC705D51C74418AD',\n",
       " '4CF756542084F860',\n",
       " 'C5AD06762E628169',\n",
       " 'D18A013DBEEB0951',\n",
       " 'FB158B12F907E8FB',\n",
       " '147C62E5B82E2EA9',\n",
       " '2F6674627B916D5C',\n",
       " 'B3059CB4FD2DE0FA',\n",
       " '9266418A9D2FA813',\n",
       " '7415696C510E38FB',\n",
       " '037C3790C2C408BA',\n",
       " '3D960D56A0E4E0C7',\n",
       " '944C88D5DF108AED',\n",
       " '98D45D3A9D7E3911',\n",
       " '2B8243043C2CD72F',\n",
       " 'A383BFC91C909D0E',\n",
       " '6E8A538DFED17F64',\n",
       " '0BC7C730D40D19D3',\n",
       " '124B6B7F19141CCC',\n",
       " '1CC27A00D4907AAB',\n",
       " '6E3E5F88B6A3B401',\n",
       " 'DECA5C05A77980A1',\n",
       " 'FBF31896CD930197',\n",
       " '5D72D0AEF96C50FD',\n",
       " '60E68A4F33951169',\n",
       " '676A58D41A3E0A47',\n",
       " 'D0ECAB9DA4FE2E00',\n",
       " '06D9C758220CBB01',\n",
       " '975744C6B0C12D72']"
      ]
     },
     "execution_count": 27,
     "metadata": {},
     "output_type": "execute_result"
    }
   ],
   "source": [
    "# Находим пользователей, которые попали в оба теста\n",
    "test_a = participants[participants['ab_test'] == 'interface_eu_test']['user_id']\n",
    "test_b = participants[participants['ab_test'] == 'recommender_system_test']['user_id']\n",
    "intersection_test = list(set(test_a) & set(test_b))\n",
    "intersection_test"
   ]
  },
  {
   "cell_type": "code",
   "execution_count": 28,
   "id": "27df44be",
   "metadata": {},
   "outputs": [],
   "source": [
    "participants = participants[~participants['user_id'].isin(intersection_test)]"
   ]
  },
  {
   "cell_type": "markdown",
   "id": "851f8498",
   "metadata": {},
   "source": [
    " "
   ]
  },
  {
   "cell_type": "code",
   "execution_count": 30,
   "id": "QMt0Ybo_swDK",
   "metadata": {
    "id": "QMt0Ybo_swDK"
   },
   "outputs": [],
   "source": [
    "# фильтруем участников по названию теста \n",
    "filter_participants = participants.query('ab_test == \"interface_eu_test\"').reset_index()"
   ]
  },
  {
   "cell_type": "code",
   "execution_count": 31,
   "id": "f9ed4489",
   "metadata": {},
   "outputs": [
    {
     "data": {
      "text/html": [
       "<div>\n",
       "<style scoped>\n",
       "    .dataframe tbody tr th:only-of-type {\n",
       "        vertical-align: middle;\n",
       "    }\n",
       "\n",
       "    .dataframe tbody tr th {\n",
       "        vertical-align: top;\n",
       "    }\n",
       "\n",
       "    .dataframe thead th {\n",
       "        text-align: right;\n",
       "    }\n",
       "</style>\n",
       "<table border=\"1\" class=\"dataframe\">\n",
       "  <thead>\n",
       "    <tr style=\"text-align: right;\">\n",
       "      <th></th>\n",
       "      <th>index</th>\n",
       "      <th>user_id</th>\n",
       "      <th>group</th>\n",
       "      <th>ab_test</th>\n",
       "      <th>device</th>\n",
       "      <th>event_dt</th>\n",
       "      <th>event_name</th>\n",
       "      <th>details</th>\n",
       "    </tr>\n",
       "  </thead>\n",
       "  <tbody>\n",
       "    <tr>\n",
       "      <th>0</th>\n",
       "      <td>0</td>\n",
       "      <td>0002CE61FF2C4011</td>\n",
       "      <td>B</td>\n",
       "      <td>interface_eu_test</td>\n",
       "      <td>Mac</td>\n",
       "      <td>2020-12-07 04:37:31</td>\n",
       "      <td>registration</td>\n",
       "      <td>-2.38</td>\n",
       "    </tr>\n",
       "    <tr>\n",
       "      <th>1</th>\n",
       "      <td>0</td>\n",
       "      <td>0002CE61FF2C4011</td>\n",
       "      <td>B</td>\n",
       "      <td>interface_eu_test</td>\n",
       "      <td>Mac</td>\n",
       "      <td>2020-12-07 04:37:49</td>\n",
       "      <td>login</td>\n",
       "      <td>NaN</td>\n",
       "    </tr>\n",
       "    <tr>\n",
       "      <th>2</th>\n",
       "      <td>0</td>\n",
       "      <td>0002CE61FF2C4011</td>\n",
       "      <td>B</td>\n",
       "      <td>interface_eu_test</td>\n",
       "      <td>Mac</td>\n",
       "      <td>2020-12-07 04:37:57</td>\n",
       "      <td>login</td>\n",
       "      <td>NaN</td>\n",
       "    </tr>\n",
       "    <tr>\n",
       "      <th>3</th>\n",
       "      <td>0</td>\n",
       "      <td>0002CE61FF2C4011</td>\n",
       "      <td>B</td>\n",
       "      <td>interface_eu_test</td>\n",
       "      <td>Mac</td>\n",
       "      <td>2020-12-07 04:38:54</td>\n",
       "      <td>login</td>\n",
       "      <td>NaN</td>\n",
       "    </tr>\n",
       "    <tr>\n",
       "      <th>4</th>\n",
       "      <td>0</td>\n",
       "      <td>0002CE61FF2C4011</td>\n",
       "      <td>B</td>\n",
       "      <td>interface_eu_test</td>\n",
       "      <td>Mac</td>\n",
       "      <td>2020-12-08 22:15:35</td>\n",
       "      <td>login</td>\n",
       "      <td>NaN</td>\n",
       "    </tr>\n",
       "    <tr>\n",
       "      <th>...</th>\n",
       "      <td>...</td>\n",
       "      <td>...</td>\n",
       "      <td>...</td>\n",
       "      <td>...</td>\n",
       "      <td>...</td>\n",
       "      <td>...</td>\n",
       "      <td>...</td>\n",
       "      <td>...</td>\n",
       "    </tr>\n",
       "    <tr>\n",
       "      <th>68069</th>\n",
       "      <td>14521</td>\n",
       "      <td>FFEFC0E55C1CCD4F</td>\n",
       "      <td>A</td>\n",
       "      <td>interface_eu_test</td>\n",
       "      <td>PC</td>\n",
       "      <td>2020-12-13 23:52:22</td>\n",
       "      <td>login</td>\n",
       "      <td>NaN</td>\n",
       "    </tr>\n",
       "    <tr>\n",
       "      <th>68070</th>\n",
       "      <td>14521</td>\n",
       "      <td>FFEFC0E55C1CCD4F</td>\n",
       "      <td>A</td>\n",
       "      <td>interface_eu_test</td>\n",
       "      <td>PC</td>\n",
       "      <td>2020-12-28 00:29:10</td>\n",
       "      <td>login</td>\n",
       "      <td>NaN</td>\n",
       "    </tr>\n",
       "    <tr>\n",
       "      <th>68071</th>\n",
       "      <td>14524</td>\n",
       "      <td>FFF58BC33966EB51</td>\n",
       "      <td>A</td>\n",
       "      <td>interface_eu_test</td>\n",
       "      <td>Android</td>\n",
       "      <td>2020-12-13 17:37:34</td>\n",
       "      <td>registration</td>\n",
       "      <td>-0.45</td>\n",
       "    </tr>\n",
       "    <tr>\n",
       "      <th>68072</th>\n",
       "      <td>14524</td>\n",
       "      <td>FFF58BC33966EB51</td>\n",
       "      <td>A</td>\n",
       "      <td>interface_eu_test</td>\n",
       "      <td>Android</td>\n",
       "      <td>2020-12-13 17:56:02</td>\n",
       "      <td>login</td>\n",
       "      <td>NaN</td>\n",
       "    </tr>\n",
       "    <tr>\n",
       "      <th>68073</th>\n",
       "      <td>14524</td>\n",
       "      <td>FFF58BC33966EB51</td>\n",
       "      <td>A</td>\n",
       "      <td>interface_eu_test</td>\n",
       "      <td>Android</td>\n",
       "      <td>2020-12-17 03:21:02</td>\n",
       "      <td>login</td>\n",
       "      <td>NaN</td>\n",
       "    </tr>\n",
       "  </tbody>\n",
       "</table>\n",
       "<p>68074 rows × 8 columns</p>\n",
       "</div>"
      ],
      "text/plain": [
       "       index           user_id group            ab_test   device  \\\n",
       "0          0  0002CE61FF2C4011     B  interface_eu_test      Mac   \n",
       "1          0  0002CE61FF2C4011     B  interface_eu_test      Mac   \n",
       "2          0  0002CE61FF2C4011     B  interface_eu_test      Mac   \n",
       "3          0  0002CE61FF2C4011     B  interface_eu_test      Mac   \n",
       "4          0  0002CE61FF2C4011     B  interface_eu_test      Mac   \n",
       "...      ...               ...   ...                ...      ...   \n",
       "68069  14521  FFEFC0E55C1CCD4F     A  interface_eu_test       PC   \n",
       "68070  14521  FFEFC0E55C1CCD4F     A  interface_eu_test       PC   \n",
       "68071  14524  FFF58BC33966EB51     A  interface_eu_test  Android   \n",
       "68072  14524  FFF58BC33966EB51     A  interface_eu_test  Android   \n",
       "68073  14524  FFF58BC33966EB51     A  interface_eu_test  Android   \n",
       "\n",
       "                 event_dt    event_name details  \n",
       "0     2020-12-07 04:37:31  registration   -2.38  \n",
       "1     2020-12-07 04:37:49         login     NaN  \n",
       "2     2020-12-07 04:37:57         login     NaN  \n",
       "3     2020-12-07 04:38:54         login     NaN  \n",
       "4     2020-12-08 22:15:35         login     NaN  \n",
       "...                   ...           ...     ...  \n",
       "68069 2020-12-13 23:52:22         login     NaN  \n",
       "68070 2020-12-28 00:29:10         login     NaN  \n",
       "68071 2020-12-13 17:37:34  registration   -0.45  \n",
       "68072 2020-12-13 17:56:02         login     NaN  \n",
       "68073 2020-12-17 03:21:02         login     NaN  \n",
       "\n",
       "[68074 rows x 8 columns]"
      ]
     },
     "execution_count": 31,
     "metadata": {},
     "output_type": "execute_result"
    }
   ],
   "source": [
    "# объединяем данные участников и событий \n",
    "df = filter_participants.merge(events, on = 'user_id', how = 'inner')\n",
    "df"
   ]
  },
  {
   "cell_type": "markdown",
   "id": "b3acd77b",
   "metadata": {},
   "source": [
    " "
   ]
  },
  {
   "cell_type": "code",
   "execution_count": 32,
   "id": "96f82f99",
   "metadata": {},
   "outputs": [
    {
     "data": {
      "text/html": [
       "<div>\n",
       "<style scoped>\n",
       "    .dataframe tbody tr th:only-of-type {\n",
       "        vertical-align: middle;\n",
       "    }\n",
       "\n",
       "    .dataframe tbody tr th {\n",
       "        vertical-align: top;\n",
       "    }\n",
       "\n",
       "    .dataframe thead th {\n",
       "        text-align: right;\n",
       "    }\n",
       "</style>\n",
       "<table border=\"1\" class=\"dataframe\">\n",
       "  <thead>\n",
       "    <tr style=\"text-align: right;\">\n",
       "      <th></th>\n",
       "      <th>index</th>\n",
       "      <th>user_id</th>\n",
       "      <th>group</th>\n",
       "      <th>ab_test</th>\n",
       "      <th>device</th>\n",
       "      <th>event_dt</th>\n",
       "      <th>event_name</th>\n",
       "      <th>details</th>\n",
       "      <th>moment_reg</th>\n",
       "    </tr>\n",
       "  </thead>\n",
       "  <tbody>\n",
       "    <tr>\n",
       "      <th>0</th>\n",
       "      <td>0</td>\n",
       "      <td>0002CE61FF2C4011</td>\n",
       "      <td>B</td>\n",
       "      <td>interface_eu_test</td>\n",
       "      <td>Mac</td>\n",
       "      <td>2020-12-07 04:37:31</td>\n",
       "      <td>registration</td>\n",
       "      <td>-2.38</td>\n",
       "      <td>2020-12-07 04:37:31</td>\n",
       "    </tr>\n",
       "    <tr>\n",
       "      <th>1</th>\n",
       "      <td>0</td>\n",
       "      <td>0002CE61FF2C4011</td>\n",
       "      <td>B</td>\n",
       "      <td>interface_eu_test</td>\n",
       "      <td>Mac</td>\n",
       "      <td>2020-12-07 04:37:49</td>\n",
       "      <td>login</td>\n",
       "      <td>NaN</td>\n",
       "      <td>2020-12-07 04:37:31</td>\n",
       "    </tr>\n",
       "    <tr>\n",
       "      <th>2</th>\n",
       "      <td>0</td>\n",
       "      <td>0002CE61FF2C4011</td>\n",
       "      <td>B</td>\n",
       "      <td>interface_eu_test</td>\n",
       "      <td>Mac</td>\n",
       "      <td>2020-12-07 04:37:57</td>\n",
       "      <td>login</td>\n",
       "      <td>NaN</td>\n",
       "      <td>2020-12-07 04:37:31</td>\n",
       "    </tr>\n",
       "    <tr>\n",
       "      <th>3</th>\n",
       "      <td>0</td>\n",
       "      <td>0002CE61FF2C4011</td>\n",
       "      <td>B</td>\n",
       "      <td>interface_eu_test</td>\n",
       "      <td>Mac</td>\n",
       "      <td>2020-12-07 04:38:54</td>\n",
       "      <td>login</td>\n",
       "      <td>NaN</td>\n",
       "      <td>2020-12-07 04:37:31</td>\n",
       "    </tr>\n",
       "    <tr>\n",
       "      <th>4</th>\n",
       "      <td>0</td>\n",
       "      <td>0002CE61FF2C4011</td>\n",
       "      <td>B</td>\n",
       "      <td>interface_eu_test</td>\n",
       "      <td>Mac</td>\n",
       "      <td>2020-12-08 22:15:35</td>\n",
       "      <td>login</td>\n",
       "      <td>NaN</td>\n",
       "      <td>2020-12-07 04:37:31</td>\n",
       "    </tr>\n",
       "  </tbody>\n",
       "</table>\n",
       "</div>"
      ],
      "text/plain": [
       "   index           user_id group            ab_test device  \\\n",
       "0      0  0002CE61FF2C4011     B  interface_eu_test    Mac   \n",
       "1      0  0002CE61FF2C4011     B  interface_eu_test    Mac   \n",
       "2      0  0002CE61FF2C4011     B  interface_eu_test    Mac   \n",
       "3      0  0002CE61FF2C4011     B  interface_eu_test    Mac   \n",
       "4      0  0002CE61FF2C4011     B  interface_eu_test    Mac   \n",
       "\n",
       "             event_dt    event_name details          moment_reg  \n",
       "0 2020-12-07 04:37:31  registration   -2.38 2020-12-07 04:37:31  \n",
       "1 2020-12-07 04:37:49         login     NaN 2020-12-07 04:37:31  \n",
       "2 2020-12-07 04:37:57         login     NaN 2020-12-07 04:37:31  \n",
       "3 2020-12-07 04:38:54         login     NaN 2020-12-07 04:37:31  \n",
       "4 2020-12-08 22:15:35         login     NaN 2020-12-07 04:37:31  "
      ]
     },
     "execution_count": 32,
     "metadata": {},
     "output_type": "execute_result"
    }
   ],
   "source": [
    "# строим еще один столбец, где для каждого пользователя во всех строчках минимальное значение \n",
    "df['moment_reg'] = df.groupby('user_id')['event_dt'].transform('min')\n",
    "df.head()"
   ]
  },
  {
   "cell_type": "code",
   "execution_count": 33,
   "id": "sES4-dKts0Yb",
   "metadata": {
    "id": "sES4-dKts0Yb"
   },
   "outputs": [
    {
     "data": {
      "text/html": [
       "<div>\n",
       "<style scoped>\n",
       "    .dataframe tbody tr th:only-of-type {\n",
       "        vertical-align: middle;\n",
       "    }\n",
       "\n",
       "    .dataframe tbody tr th {\n",
       "        vertical-align: top;\n",
       "    }\n",
       "\n",
       "    .dataframe thead th {\n",
       "        text-align: right;\n",
       "    }\n",
       "</style>\n",
       "<table border=\"1\" class=\"dataframe\">\n",
       "  <thead>\n",
       "    <tr style=\"text-align: right;\">\n",
       "      <th></th>\n",
       "      <th>index</th>\n",
       "      <th>user_id</th>\n",
       "      <th>group</th>\n",
       "      <th>ab_test</th>\n",
       "      <th>device</th>\n",
       "      <th>event_dt</th>\n",
       "      <th>event_name</th>\n",
       "      <th>details</th>\n",
       "      <th>moment_reg</th>\n",
       "      <th>lifetime</th>\n",
       "    </tr>\n",
       "  </thead>\n",
       "  <tbody>\n",
       "    <tr>\n",
       "      <th>0</th>\n",
       "      <td>0</td>\n",
       "      <td>0002CE61FF2C4011</td>\n",
       "      <td>B</td>\n",
       "      <td>interface_eu_test</td>\n",
       "      <td>Mac</td>\n",
       "      <td>2020-12-07 04:37:31</td>\n",
       "      <td>registration</td>\n",
       "      <td>-2.38</td>\n",
       "      <td>2020-12-07 04:37:31</td>\n",
       "      <td>0 days 00:00:00</td>\n",
       "    </tr>\n",
       "    <tr>\n",
       "      <th>1</th>\n",
       "      <td>0</td>\n",
       "      <td>0002CE61FF2C4011</td>\n",
       "      <td>B</td>\n",
       "      <td>interface_eu_test</td>\n",
       "      <td>Mac</td>\n",
       "      <td>2020-12-07 04:37:49</td>\n",
       "      <td>login</td>\n",
       "      <td>NaN</td>\n",
       "      <td>2020-12-07 04:37:31</td>\n",
       "      <td>0 days 00:00:18</td>\n",
       "    </tr>\n",
       "    <tr>\n",
       "      <th>2</th>\n",
       "      <td>0</td>\n",
       "      <td>0002CE61FF2C4011</td>\n",
       "      <td>B</td>\n",
       "      <td>interface_eu_test</td>\n",
       "      <td>Mac</td>\n",
       "      <td>2020-12-07 04:37:57</td>\n",
       "      <td>login</td>\n",
       "      <td>NaN</td>\n",
       "      <td>2020-12-07 04:37:31</td>\n",
       "      <td>0 days 00:00:26</td>\n",
       "    </tr>\n",
       "    <tr>\n",
       "      <th>3</th>\n",
       "      <td>0</td>\n",
       "      <td>0002CE61FF2C4011</td>\n",
       "      <td>B</td>\n",
       "      <td>interface_eu_test</td>\n",
       "      <td>Mac</td>\n",
       "      <td>2020-12-07 04:38:54</td>\n",
       "      <td>login</td>\n",
       "      <td>NaN</td>\n",
       "      <td>2020-12-07 04:37:31</td>\n",
       "      <td>0 days 00:01:23</td>\n",
       "    </tr>\n",
       "    <tr>\n",
       "      <th>4</th>\n",
       "      <td>0</td>\n",
       "      <td>0002CE61FF2C4011</td>\n",
       "      <td>B</td>\n",
       "      <td>interface_eu_test</td>\n",
       "      <td>Mac</td>\n",
       "      <td>2020-12-08 22:15:35</td>\n",
       "      <td>login</td>\n",
       "      <td>NaN</td>\n",
       "      <td>2020-12-07 04:37:31</td>\n",
       "      <td>1 days 17:38:04</td>\n",
       "    </tr>\n",
       "  </tbody>\n",
       "</table>\n",
       "</div>"
      ],
      "text/plain": [
       "   index           user_id group            ab_test device  \\\n",
       "0      0  0002CE61FF2C4011     B  interface_eu_test    Mac   \n",
       "1      0  0002CE61FF2C4011     B  interface_eu_test    Mac   \n",
       "2      0  0002CE61FF2C4011     B  interface_eu_test    Mac   \n",
       "3      0  0002CE61FF2C4011     B  interface_eu_test    Mac   \n",
       "4      0  0002CE61FF2C4011     B  interface_eu_test    Mac   \n",
       "\n",
       "             event_dt    event_name details          moment_reg  \\\n",
       "0 2020-12-07 04:37:31  registration   -2.38 2020-12-07 04:37:31   \n",
       "1 2020-12-07 04:37:49         login     NaN 2020-12-07 04:37:31   \n",
       "2 2020-12-07 04:37:57         login     NaN 2020-12-07 04:37:31   \n",
       "3 2020-12-07 04:38:54         login     NaN 2020-12-07 04:37:31   \n",
       "4 2020-12-08 22:15:35         login     NaN 2020-12-07 04:37:31   \n",
       "\n",
       "         lifetime  \n",
       "0 0 days 00:00:00  \n",
       "1 0 days 00:00:18  \n",
       "2 0 days 00:00:26  \n",
       "3 0 days 00:01:23  \n",
       "4 1 days 17:38:04  "
      ]
     },
     "execution_count": 33,
     "metadata": {},
     "output_type": "execute_result"
    }
   ],
   "source": [
    "# находим время совершения события пользователем после регистрации \n",
    "df['lifetime'] = df['event_dt'] - df['moment_reg']\n",
    "df.head()"
   ]
  },
  {
   "cell_type": "code",
   "execution_count": 34,
   "id": "28299f4a",
   "metadata": {
    "scrolled": true
   },
   "outputs": [
    {
     "data": {
      "text/html": [
       "<div>\n",
       "<style scoped>\n",
       "    .dataframe tbody tr th:only-of-type {\n",
       "        vertical-align: middle;\n",
       "    }\n",
       "\n",
       "    .dataframe tbody tr th {\n",
       "        vertical-align: top;\n",
       "    }\n",
       "\n",
       "    .dataframe thead th {\n",
       "        text-align: right;\n",
       "    }\n",
       "</style>\n",
       "<table border=\"1\" class=\"dataframe\">\n",
       "  <thead>\n",
       "    <tr style=\"text-align: right;\">\n",
       "      <th></th>\n",
       "      <th>index</th>\n",
       "      <th>user_id</th>\n",
       "      <th>group</th>\n",
       "      <th>ab_test</th>\n",
       "      <th>device</th>\n",
       "      <th>event_dt</th>\n",
       "      <th>event_name</th>\n",
       "      <th>details</th>\n",
       "      <th>moment_reg</th>\n",
       "      <th>lifetime</th>\n",
       "    </tr>\n",
       "  </thead>\n",
       "  <tbody>\n",
       "    <tr>\n",
       "      <th>0</th>\n",
       "      <td>0</td>\n",
       "      <td>0002CE61FF2C4011</td>\n",
       "      <td>B</td>\n",
       "      <td>interface_eu_test</td>\n",
       "      <td>Mac</td>\n",
       "      <td>2020-12-07 04:37:31</td>\n",
       "      <td>registration</td>\n",
       "      <td>-2.38</td>\n",
       "      <td>2020-12-07 04:37:31</td>\n",
       "      <td>0 days 00:00:00</td>\n",
       "    </tr>\n",
       "    <tr>\n",
       "      <th>1</th>\n",
       "      <td>0</td>\n",
       "      <td>0002CE61FF2C4011</td>\n",
       "      <td>B</td>\n",
       "      <td>interface_eu_test</td>\n",
       "      <td>Mac</td>\n",
       "      <td>2020-12-07 04:37:49</td>\n",
       "      <td>login</td>\n",
       "      <td>NaN</td>\n",
       "      <td>2020-12-07 04:37:31</td>\n",
       "      <td>0 days 00:00:18</td>\n",
       "    </tr>\n",
       "    <tr>\n",
       "      <th>2</th>\n",
       "      <td>0</td>\n",
       "      <td>0002CE61FF2C4011</td>\n",
       "      <td>B</td>\n",
       "      <td>interface_eu_test</td>\n",
       "      <td>Mac</td>\n",
       "      <td>2020-12-07 04:37:57</td>\n",
       "      <td>login</td>\n",
       "      <td>NaN</td>\n",
       "      <td>2020-12-07 04:37:31</td>\n",
       "      <td>0 days 00:00:26</td>\n",
       "    </tr>\n",
       "    <tr>\n",
       "      <th>3</th>\n",
       "      <td>0</td>\n",
       "      <td>0002CE61FF2C4011</td>\n",
       "      <td>B</td>\n",
       "      <td>interface_eu_test</td>\n",
       "      <td>Mac</td>\n",
       "      <td>2020-12-07 04:38:54</td>\n",
       "      <td>login</td>\n",
       "      <td>NaN</td>\n",
       "      <td>2020-12-07 04:37:31</td>\n",
       "      <td>0 days 00:01:23</td>\n",
       "    </tr>\n",
       "    <tr>\n",
       "      <th>4</th>\n",
       "      <td>0</td>\n",
       "      <td>0002CE61FF2C4011</td>\n",
       "      <td>B</td>\n",
       "      <td>interface_eu_test</td>\n",
       "      <td>Mac</td>\n",
       "      <td>2020-12-08 22:15:35</td>\n",
       "      <td>login</td>\n",
       "      <td>NaN</td>\n",
       "      <td>2020-12-07 04:37:31</td>\n",
       "      <td>1 days 17:38:04</td>\n",
       "    </tr>\n",
       "    <tr>\n",
       "      <th>5</th>\n",
       "      <td>0</td>\n",
       "      <td>0002CE61FF2C4011</td>\n",
       "      <td>B</td>\n",
       "      <td>interface_eu_test</td>\n",
       "      <td>Mac</td>\n",
       "      <td>2020-12-08 22:15:36</td>\n",
       "      <td>product_page</td>\n",
       "      <td>NaN</td>\n",
       "      <td>2020-12-07 04:37:31</td>\n",
       "      <td>1 days 17:38:05</td>\n",
       "    </tr>\n",
       "    <tr>\n",
       "      <th>6</th>\n",
       "      <td>0</td>\n",
       "      <td>0002CE61FF2C4011</td>\n",
       "      <td>B</td>\n",
       "      <td>interface_eu_test</td>\n",
       "      <td>Mac</td>\n",
       "      <td>2020-12-08 22:15:37</td>\n",
       "      <td>product_page</td>\n",
       "      <td>NaN</td>\n",
       "      <td>2020-12-07 04:37:31</td>\n",
       "      <td>1 days 17:38:06</td>\n",
       "    </tr>\n",
       "    <tr>\n",
       "      <th>7</th>\n",
       "      <td>0</td>\n",
       "      <td>0002CE61FF2C4011</td>\n",
       "      <td>B</td>\n",
       "      <td>interface_eu_test</td>\n",
       "      <td>Mac</td>\n",
       "      <td>2020-12-10 15:23:08</td>\n",
       "      <td>product_page</td>\n",
       "      <td>NaN</td>\n",
       "      <td>2020-12-07 04:37:31</td>\n",
       "      <td>3 days 10:45:37</td>\n",
       "    </tr>\n",
       "    <tr>\n",
       "      <th>8</th>\n",
       "      <td>0</td>\n",
       "      <td>0002CE61FF2C4011</td>\n",
       "      <td>B</td>\n",
       "      <td>interface_eu_test</td>\n",
       "      <td>Mac</td>\n",
       "      <td>2020-12-10 15:23:09</td>\n",
       "      <td>product_cart</td>\n",
       "      <td>NaN</td>\n",
       "      <td>2020-12-07 04:37:31</td>\n",
       "      <td>3 days 10:45:38</td>\n",
       "    </tr>\n",
       "    <tr>\n",
       "      <th>11</th>\n",
       "      <td>4</td>\n",
       "      <td>001E72F50D1C48FA</td>\n",
       "      <td>A</td>\n",
       "      <td>interface_eu_test</td>\n",
       "      <td>Mac</td>\n",
       "      <td>2020-12-17 15:44:05</td>\n",
       "      <td>registration</td>\n",
       "      <td>-3.61</td>\n",
       "      <td>2020-12-17 15:44:05</td>\n",
       "      <td>0 days 00:00:00</td>\n",
       "    </tr>\n",
       "    <tr>\n",
       "      <th>12</th>\n",
       "      <td>4</td>\n",
       "      <td>001E72F50D1C48FA</td>\n",
       "      <td>A</td>\n",
       "      <td>interface_eu_test</td>\n",
       "      <td>Mac</td>\n",
       "      <td>2020-12-17 15:45:21</td>\n",
       "      <td>login</td>\n",
       "      <td>NaN</td>\n",
       "      <td>2020-12-17 15:44:05</td>\n",
       "      <td>0 days 00:01:16</td>\n",
       "    </tr>\n",
       "    <tr>\n",
       "      <th>13</th>\n",
       "      <td>4</td>\n",
       "      <td>001E72F50D1C48FA</td>\n",
       "      <td>A</td>\n",
       "      <td>interface_eu_test</td>\n",
       "      <td>Mac</td>\n",
       "      <td>2020-12-17 15:46:16</td>\n",
       "      <td>login</td>\n",
       "      <td>NaN</td>\n",
       "      <td>2020-12-17 15:44:05</td>\n",
       "      <td>0 days 00:02:11</td>\n",
       "    </tr>\n",
       "    <tr>\n",
       "      <th>14</th>\n",
       "      <td>4</td>\n",
       "      <td>001E72F50D1C48FA</td>\n",
       "      <td>A</td>\n",
       "      <td>interface_eu_test</td>\n",
       "      <td>Mac</td>\n",
       "      <td>2020-12-22 22:47:04</td>\n",
       "      <td>login</td>\n",
       "      <td>NaN</td>\n",
       "      <td>2020-12-17 15:44:05</td>\n",
       "      <td>5 days 07:02:59</td>\n",
       "    </tr>\n",
       "    <tr>\n",
       "      <th>15</th>\n",
       "      <td>4</td>\n",
       "      <td>001E72F50D1C48FA</td>\n",
       "      <td>A</td>\n",
       "      <td>interface_eu_test</td>\n",
       "      <td>Mac</td>\n",
       "      <td>2020-12-22 22:47:11</td>\n",
       "      <td>product_page</td>\n",
       "      <td>NaN</td>\n",
       "      <td>2020-12-17 15:44:05</td>\n",
       "      <td>5 days 07:03:06</td>\n",
       "    </tr>\n",
       "    <tr>\n",
       "      <th>17</th>\n",
       "      <td>5</td>\n",
       "      <td>002412F1EB3F6E38</td>\n",
       "      <td>B</td>\n",
       "      <td>interface_eu_test</td>\n",
       "      <td>Mac</td>\n",
       "      <td>2020-12-09 09:36:50</td>\n",
       "      <td>login</td>\n",
       "      <td>NaN</td>\n",
       "      <td>2020-12-09 09:36:50</td>\n",
       "      <td>0 days 00:00:00</td>\n",
       "    </tr>\n",
       "    <tr>\n",
       "      <th>18</th>\n",
       "      <td>5</td>\n",
       "      <td>002412F1EB3F6E38</td>\n",
       "      <td>B</td>\n",
       "      <td>interface_eu_test</td>\n",
       "      <td>Mac</td>\n",
       "      <td>2020-12-09 09:36:50</td>\n",
       "      <td>registration</td>\n",
       "      <td>-0.48</td>\n",
       "      <td>2020-12-09 09:36:50</td>\n",
       "      <td>0 days 00:00:00</td>\n",
       "    </tr>\n",
       "    <tr>\n",
       "      <th>19</th>\n",
       "      <td>5</td>\n",
       "      <td>002412F1EB3F6E38</td>\n",
       "      <td>B</td>\n",
       "      <td>interface_eu_test</td>\n",
       "      <td>Mac</td>\n",
       "      <td>2020-12-09 09:38:29</td>\n",
       "      <td>login</td>\n",
       "      <td>NaN</td>\n",
       "      <td>2020-12-09 09:36:50</td>\n",
       "      <td>0 days 00:01:39</td>\n",
       "    </tr>\n",
       "    <tr>\n",
       "      <th>20</th>\n",
       "      <td>5</td>\n",
       "      <td>002412F1EB3F6E38</td>\n",
       "      <td>B</td>\n",
       "      <td>interface_eu_test</td>\n",
       "      <td>Mac</td>\n",
       "      <td>2020-12-13 07:52:46</td>\n",
       "      <td>product_page</td>\n",
       "      <td>NaN</td>\n",
       "      <td>2020-12-09 09:36:50</td>\n",
       "      <td>3 days 22:15:56</td>\n",
       "    </tr>\n",
       "    <tr>\n",
       "      <th>21</th>\n",
       "      <td>5</td>\n",
       "      <td>002412F1EB3F6E38</td>\n",
       "      <td>B</td>\n",
       "      <td>interface_eu_test</td>\n",
       "      <td>Mac</td>\n",
       "      <td>2020-12-13 07:54:13</td>\n",
       "      <td>login</td>\n",
       "      <td>NaN</td>\n",
       "      <td>2020-12-09 09:36:50</td>\n",
       "      <td>3 days 22:17:23</td>\n",
       "    </tr>\n",
       "    <tr>\n",
       "      <th>23</th>\n",
       "      <td>6</td>\n",
       "      <td>002540BE89C930FB</td>\n",
       "      <td>B</td>\n",
       "      <td>interface_eu_test</td>\n",
       "      <td>Android</td>\n",
       "      <td>2020-12-08 18:06:07</td>\n",
       "      <td>login</td>\n",
       "      <td>NaN</td>\n",
       "      <td>2020-12-08 18:06:07</td>\n",
       "      <td>0 days 00:00:00</td>\n",
       "    </tr>\n",
       "  </tbody>\n",
       "</table>\n",
       "</div>"
      ],
      "text/plain": [
       "    index           user_id group            ab_test   device  \\\n",
       "0       0  0002CE61FF2C4011     B  interface_eu_test      Mac   \n",
       "1       0  0002CE61FF2C4011     B  interface_eu_test      Mac   \n",
       "2       0  0002CE61FF2C4011     B  interface_eu_test      Mac   \n",
       "3       0  0002CE61FF2C4011     B  interface_eu_test      Mac   \n",
       "4       0  0002CE61FF2C4011     B  interface_eu_test      Mac   \n",
       "5       0  0002CE61FF2C4011     B  interface_eu_test      Mac   \n",
       "6       0  0002CE61FF2C4011     B  interface_eu_test      Mac   \n",
       "7       0  0002CE61FF2C4011     B  interface_eu_test      Mac   \n",
       "8       0  0002CE61FF2C4011     B  interface_eu_test      Mac   \n",
       "11      4  001E72F50D1C48FA     A  interface_eu_test      Mac   \n",
       "12      4  001E72F50D1C48FA     A  interface_eu_test      Mac   \n",
       "13      4  001E72F50D1C48FA     A  interface_eu_test      Mac   \n",
       "14      4  001E72F50D1C48FA     A  interface_eu_test      Mac   \n",
       "15      4  001E72F50D1C48FA     A  interface_eu_test      Mac   \n",
       "17      5  002412F1EB3F6E38     B  interface_eu_test      Mac   \n",
       "18      5  002412F1EB3F6E38     B  interface_eu_test      Mac   \n",
       "19      5  002412F1EB3F6E38     B  interface_eu_test      Mac   \n",
       "20      5  002412F1EB3F6E38     B  interface_eu_test      Mac   \n",
       "21      5  002412F1EB3F6E38     B  interface_eu_test      Mac   \n",
       "23      6  002540BE89C930FB     B  interface_eu_test  Android   \n",
       "\n",
       "              event_dt    event_name details          moment_reg  \\\n",
       "0  2020-12-07 04:37:31  registration   -2.38 2020-12-07 04:37:31   \n",
       "1  2020-12-07 04:37:49         login     NaN 2020-12-07 04:37:31   \n",
       "2  2020-12-07 04:37:57         login     NaN 2020-12-07 04:37:31   \n",
       "3  2020-12-07 04:38:54         login     NaN 2020-12-07 04:37:31   \n",
       "4  2020-12-08 22:15:35         login     NaN 2020-12-07 04:37:31   \n",
       "5  2020-12-08 22:15:36  product_page     NaN 2020-12-07 04:37:31   \n",
       "6  2020-12-08 22:15:37  product_page     NaN 2020-12-07 04:37:31   \n",
       "7  2020-12-10 15:23:08  product_page     NaN 2020-12-07 04:37:31   \n",
       "8  2020-12-10 15:23:09  product_cart     NaN 2020-12-07 04:37:31   \n",
       "11 2020-12-17 15:44:05  registration   -3.61 2020-12-17 15:44:05   \n",
       "12 2020-12-17 15:45:21         login     NaN 2020-12-17 15:44:05   \n",
       "13 2020-12-17 15:46:16         login     NaN 2020-12-17 15:44:05   \n",
       "14 2020-12-22 22:47:04         login     NaN 2020-12-17 15:44:05   \n",
       "15 2020-12-22 22:47:11  product_page     NaN 2020-12-17 15:44:05   \n",
       "17 2020-12-09 09:36:50         login     NaN 2020-12-09 09:36:50   \n",
       "18 2020-12-09 09:36:50  registration   -0.48 2020-12-09 09:36:50   \n",
       "19 2020-12-09 09:38:29         login     NaN 2020-12-09 09:36:50   \n",
       "20 2020-12-13 07:52:46  product_page     NaN 2020-12-09 09:36:50   \n",
       "21 2020-12-13 07:54:13         login     NaN 2020-12-09 09:36:50   \n",
       "23 2020-12-08 18:06:07         login     NaN 2020-12-08 18:06:07   \n",
       "\n",
       "          lifetime  \n",
       "0  0 days 00:00:00  \n",
       "1  0 days 00:00:18  \n",
       "2  0 days 00:00:26  \n",
       "3  0 days 00:01:23  \n",
       "4  1 days 17:38:04  \n",
       "5  1 days 17:38:05  \n",
       "6  1 days 17:38:06  \n",
       "7  3 days 10:45:37  \n",
       "8  3 days 10:45:38  \n",
       "11 0 days 00:00:00  \n",
       "12 0 days 00:01:16  \n",
       "13 0 days 00:02:11  \n",
       "14 5 days 07:02:59  \n",
       "15 5 days 07:03:06  \n",
       "17 0 days 00:00:00  \n",
       "18 0 days 00:00:00  \n",
       "19 0 days 00:01:39  \n",
       "20 3 days 22:15:56  \n",
       "21 3 days 22:17:23  \n",
       "23 0 days 00:00:00  "
      ]
     },
     "execution_count": 34,
     "metadata": {},
     "output_type": "execute_result"
    }
   ],
   "source": [
    "# фильтруем события, которые произошли за первые 7 дней после регистрации \n",
    "df = df[df['lifetime'].dt.days <= 6]\n",
    "df.head(20)"
   ]
  },
  {
   "cell_type": "markdown",
   "id": "ffb951d7",
   "metadata": {},
   "source": [
    " "
   ]
  },
  {
   "cell_type": "markdown",
   "id": "1c1031c5",
   "metadata": {},
   "source": [
    "С помощью калькулятора https://www.evanmiller.org/ab-testing/sample-size.html#!30;80;5;3;0  было проведено вычисление выборки. Мы получили значение в виде 3 692 пользоваталей на каждую группу. В нашем случае в каждой группе А/В тестирования больше 5 тысяч человек, что говорит о том, что выборка была проведена правильно для получения статистически значимых результатов. "
   ]
  },
  {
   "cell_type": "markdown",
   "id": "8582cbaf",
   "metadata": {},
   "source": [
    " "
   ]
  },
  {
   "cell_type": "markdown",
   "id": "49703dca",
   "metadata": {},
   "source": [
    " "
   ]
  },
  {
   "cell_type": "code",
   "execution_count": 36,
   "id": "7ph853Xks4sy",
   "metadata": {
    "id": "7ph853Xks4sy"
   },
   "outputs": [
    {
     "data": {
      "text/html": [
       "<div>\n",
       "<style scoped>\n",
       "    .dataframe tbody tr th:only-of-type {\n",
       "        vertical-align: middle;\n",
       "    }\n",
       "\n",
       "    .dataframe tbody tr th {\n",
       "        vertical-align: top;\n",
       "    }\n",
       "\n",
       "    .dataframe thead th {\n",
       "        text-align: right;\n",
       "    }\n",
       "</style>\n",
       "<table border=\"1\" class=\"dataframe\">\n",
       "  <thead>\n",
       "    <tr style=\"text-align: right;\">\n",
       "      <th></th>\n",
       "      <th>index</th>\n",
       "      <th>user_id</th>\n",
       "      <th>group</th>\n",
       "      <th>ab_test</th>\n",
       "      <th>device</th>\n",
       "      <th>event_dt</th>\n",
       "      <th>event_name</th>\n",
       "      <th>details</th>\n",
       "      <th>moment_reg</th>\n",
       "      <th>lifetime</th>\n",
       "    </tr>\n",
       "  </thead>\n",
       "  <tbody>\n",
       "    <tr>\n",
       "      <th>33</th>\n",
       "      <td>7</td>\n",
       "      <td>0031F1B5E9FBF708</td>\n",
       "      <td>A</td>\n",
       "      <td>interface_eu_test</td>\n",
       "      <td>Android</td>\n",
       "      <td>2020-12-15 18:54:51</td>\n",
       "      <td>purchase</td>\n",
       "      <td>4.99</td>\n",
       "      <td>2020-12-14 00:47:10</td>\n",
       "      <td>1 days 18:07:41</td>\n",
       "    </tr>\n",
       "    <tr>\n",
       "      <th>34</th>\n",
       "      <td>7</td>\n",
       "      <td>0031F1B5E9FBF708</td>\n",
       "      <td>A</td>\n",
       "      <td>interface_eu_test</td>\n",
       "      <td>Android</td>\n",
       "      <td>2020-12-15 18:55:50</td>\n",
       "      <td>purchase</td>\n",
       "      <td>4.99</td>\n",
       "      <td>2020-12-14 00:47:10</td>\n",
       "      <td>1 days 18:08:40</td>\n",
       "    </tr>\n",
       "    <tr>\n",
       "      <th>51</th>\n",
       "      <td>14</td>\n",
       "      <td>004C58ADE7CA8C4A</td>\n",
       "      <td>B</td>\n",
       "      <td>interface_eu_test</td>\n",
       "      <td>Android</td>\n",
       "      <td>2020-12-20 01:13:34</td>\n",
       "      <td>purchase</td>\n",
       "      <td>4.99</td>\n",
       "      <td>2020-12-18 15:14:53</td>\n",
       "      <td>1 days 09:58:41</td>\n",
       "    </tr>\n",
       "    <tr>\n",
       "      <th>53</th>\n",
       "      <td>14</td>\n",
       "      <td>004C58ADE7CA8C4A</td>\n",
       "      <td>B</td>\n",
       "      <td>interface_eu_test</td>\n",
       "      <td>Android</td>\n",
       "      <td>2020-12-20 01:14:57</td>\n",
       "      <td>purchase</td>\n",
       "      <td>4.99</td>\n",
       "      <td>2020-12-18 15:14:53</td>\n",
       "      <td>1 days 10:00:04</td>\n",
       "    </tr>\n",
       "    <tr>\n",
       "      <th>57</th>\n",
       "      <td>16</td>\n",
       "      <td>0050F43F34C955F4</td>\n",
       "      <td>A</td>\n",
       "      <td>interface_eu_test</td>\n",
       "      <td>PC</td>\n",
       "      <td>2020-12-13 19:44:29</td>\n",
       "      <td>purchase</td>\n",
       "      <td>499.99</td>\n",
       "      <td>2020-12-13 19:41:56</td>\n",
       "      <td>0 days 00:02:33</td>\n",
       "    </tr>\n",
       "  </tbody>\n",
       "</table>\n",
       "</div>"
      ],
      "text/plain": [
       "    index           user_id group            ab_test   device  \\\n",
       "33      7  0031F1B5E9FBF708     A  interface_eu_test  Android   \n",
       "34      7  0031F1B5E9FBF708     A  interface_eu_test  Android   \n",
       "51     14  004C58ADE7CA8C4A     B  interface_eu_test  Android   \n",
       "53     14  004C58ADE7CA8C4A     B  interface_eu_test  Android   \n",
       "57     16  0050F43F34C955F4     A  interface_eu_test       PC   \n",
       "\n",
       "              event_dt event_name details          moment_reg        lifetime  \n",
       "33 2020-12-15 18:54:51   purchase    4.99 2020-12-14 00:47:10 1 days 18:07:41  \n",
       "34 2020-12-15 18:55:50   purchase    4.99 2020-12-14 00:47:10 1 days 18:08:40  \n",
       "51 2020-12-20 01:13:34   purchase    4.99 2020-12-18 15:14:53 1 days 09:58:41  \n",
       "53 2020-12-20 01:14:57   purchase    4.99 2020-12-18 15:14:53 1 days 10:00:04  \n",
       "57 2020-12-13 19:44:29   purchase  499.99 2020-12-13 19:41:56 0 days 00:02:33  "
      ]
     },
     "execution_count": 36,
     "metadata": {},
     "output_type": "execute_result"
    }
   ],
   "source": [
    "# фильтруем события, связанные с покупкой \n",
    "purch = df.query('event_name == \"purchase\"')\n",
    "purch.head()"
   ]
  },
  {
   "cell_type": "code",
   "execution_count": 37,
   "id": "12439f84",
   "metadata": {},
   "outputs": [
    {
     "data": {
      "text/plain": [
       "group\n",
       "A    1377\n",
       "B    1480\n",
       "Name: user_id, dtype: int64"
      ]
     },
     "execution_count": 37,
     "metadata": {},
     "output_type": "execute_result"
    }
   ],
   "source": [
    "# находим количество уникальных пользователей, сделавших покупку \n",
    "gr = purch.groupby('group')['user_id'].nunique()\n",
    "gr"
   ]
  },
  {
   "cell_type": "code",
   "execution_count": 38,
   "id": "102c7a1b",
   "metadata": {},
   "outputs": [
    {
     "data": {
      "text/plain": [
       "group\n",
       "A    4952\n",
       "B    5011\n",
       "Name: user_id, dtype: int64"
      ]
     },
     "execution_count": 38,
     "metadata": {},
     "output_type": "execute_result"
    }
   ],
   "source": [
    "# находим общее количество посетителей для каждой группы \n",
    "all_user = df.groupby('group')['user_id'].nunique()\n",
    "all_user"
   ]
  },
  {
   "cell_type": "code",
   "execution_count": 39,
   "id": "625187fb",
   "metadata": {
    "scrolled": true
   },
   "outputs": [
    {
     "data": {
      "text/plain": [
       "group\n",
       "A    0.28\n",
       "B    0.30\n",
       "Name: user_id, dtype: float64"
      ]
     },
     "execution_count": 39,
     "metadata": {},
     "output_type": "execute_result"
    }
   ],
   "source": [
    "# находим долю пользователей, которые сделали покупку, от общего количества посетителей для каждой группы \n",
    "perc = round(gr / all_user, 2)\n",
    "perc"
   ]
  },
  {
   "cell_type": "code",
   "execution_count": 40,
   "id": "07fba062",
   "metadata": {},
   "outputs": [
    {
     "data": {
      "text/plain": [
       "7.14"
      ]
     },
     "execution_count": 40,
     "metadata": {},
     "output_type": "execute_result"
    }
   ],
   "source": [
    "# считаем относительные изменения \n",
    "otnos = round((0.30-0.28)/0.28*100, 2)\n",
    "otnos"
   ]
  },
  {
   "cell_type": "markdown",
   "id": "39dda19d",
   "metadata": {},
   "source": [
    " "
   ]
  },
  {
   "cell_type": "markdown",
   "id": "caa8b956",
   "metadata": {},
   "source": [
    " "
   ]
  },
  {
   "cell_type": "markdown",
   "id": "148a2aaa",
   "metadata": {
    "id": "hHTHPkJYs8mE"
   },
   "source": [
    "По предварительным данным можем сказать, что тестовая группа показала увеличение конверсии на 0,02 процента по сравнению с контрольной группой. Относительное улучшение конверсии составило 7,1 процента."
   ]
  },
  {
   "cell_type": "markdown",
   "id": "cb8f3642",
   "metadata": {},
   "source": [
    " "
   ]
  },
  {
   "cell_type": "markdown",
   "id": "ff51430c",
   "metadata": {},
   "source": [
    " "
   ]
  },
  {
   "cell_type": "markdown",
   "id": "IKZ1Oo3Ws919",
   "metadata": {
    "id": "IKZ1Oo3Ws919"
   },
   "source": [
    "## 4. Оценка результатов A/B-тестирования:"
   ]
  },
  {
   "cell_type": "markdown",
   "id": "b7ef0349",
   "metadata": {},
   "source": [
    "Формулируем гипотезу: \n",
    "\n",
    "H0: доли зарегестрированных пользователей совершивших покупку с обновленным и не обновленным интерфейсом не различаются. \n",
    "\n",
    "Н1: доля зарегестрированных пользователей совершивших покупку с обновленным интерфейсом больше, чем доля зарегестрированных пользователей совершивших покупку с НЕ обновленным интерфейсом. "
   ]
  },
  {
   "cell_type": "code",
   "execution_count": 41,
   "id": "b8db7b25",
   "metadata": {
    "id": "l_KOziBQtL3t",
    "scrolled": true
   },
   "outputs": [
    {
     "name": "stderr",
     "output_type": "stream",
     "text": [
      "/tmp/ipykernel_48/2320238348.py:5: UserWarning: Boolean Series key will be reindexed to match DataFrame index.\n",
      "  m_a = df[df.group == \"A\"][df.event_name == \"purchase\"]['user_id'].nunique()\n",
      "/tmp/ipykernel_48/2320238348.py:6: UserWarning: Boolean Series key will be reindexed to match DataFrame index.\n",
      "  m_b = df[df.group == \"B\"][df.event_name == \"purchase\"]['user_id'].nunique()\n"
     ]
    }
   ],
   "source": [
    "# считаем размеры выборок \n",
    "n_a, n_b = df[df.group == \"A\"]['user_id'].nunique(), df[df.group == \"B\"]['user_id'].nunique()\n",
    "\n",
    "# считаем количество успехов (покупок) в группе А и В \n",
    "m_a = df[df.group == \"A\"][df.event_name == \"purchase\"]['user_id'].nunique()\n",
    "m_b = df[df.group == \"B\"][df.event_name == \"purchase\"]['user_id'].nunique()\n",
    "\n",
    "# рассчитываем доли успехов для каждой группы \n",
    "p_a, p_b = m_a/n_a, m_b/n_b"
   ]
  },
  {
   "cell_type": "code",
   "execution_count": 42,
   "id": "02d327bd",
   "metadata": {},
   "outputs": [
    {
     "name": "stdout",
     "output_type": "stream",
     "text": [
      "Предпосылка о достаточном количестве данных выполняется!\n"
     ]
    }
   ],
   "source": [
    "# проверяем можем ли мы использовать Z-тест пропорций\n",
    "if (p_a*n_a > 10)and((1-p_a)*n_a > 10)and(p_b*n_b > 10)and((1-p_b)*n_b > 10):\n",
    "    print('Предпосылка о достаточном количестве данных выполняется!')\n",
    "else:\n",
    "    print('Предпосылка о достаточном количестве данных НЕ выполняется!')"
   ]
  },
  {
   "cell_type": "code",
   "execution_count": 43,
   "id": "6ce793f0",
   "metadata": {},
   "outputs": [
    {
     "name": "stdout",
     "output_type": "stream",
     "text": [
      "pvalue=0.028262547212292124 < 0.05\n",
      "Нулевая гипотеза не находит подтверждения! Доля зарегестрированных пользователей совершивших покупку с обновленным интерфейсом больше, чем доля зарегестрированных пользователей совершивших покупку с НЕ обновленным интерфейсом.\n"
     ]
    }
   ],
   "source": [
    "# используем Z-тест пропорций \n",
    "from statsmodels.stats.proportion import proportions_ztest\n",
    "alpha = 0.05\n",
    "stat_ztest, p_value_ztest = proportions_ztest(\n",
    "    [m_a, m_b],\n",
    "    [n_a, n_b],\n",
    "    alternative='smaller' \n",
    ")\n",
    "p_value_ztest\n",
    "\n",
    "if p_value_ztest > alpha:\n",
    "    print(f'pvalue={p_value_ztest} > {alpha}')\n",
    "    print('Нулевая гипотеза находит подтверждение! Доли зарегестрированных пользователей совершивших покупку с обновленным и не обновленным интерфейсом не различаются.')\n",
    "else:\n",
    "    print(f'pvalue={p_value_ztest} < {alpha}')\n",
    "    print('Нулевая гипотеза не находит подтверждения! Доля зарегестрированных пользователей совершивших покупку с обновленным интерфейсом больше, чем доля зарегестрированных пользователей совершивших покупку с НЕ обновленным интерфейсом.')"
   ]
  },
  {
   "cell_type": "markdown",
   "id": "63069600",
   "metadata": {},
   "source": [
    " "
   ]
  },
  {
   "cell_type": "markdown",
   "id": "c510d39b",
   "metadata": {},
   "source": [
    " На основе статистической проверке гипотез, можно сделать следующие выводы: \n",
    " - Полученный p-value (0.0058) значительно ниже уровня значимости (0.05), что свидетельствует о высокой статистической значимости различий между группами\n",
    " - Тест показал, что доля зарегистрированных пользователей, совершивших покупку с обновленным интерфейсом, выше, чем с предыдущим (необновленным) интерфейсом. Это указывает на положительное влияние обновленного интерфейса на поведенческие метрики пользователей. \n",
    " - Результаты указывают на достижение ожидаемого эффекта, поскольку новая версия привела к увеличению доли пользователей, совершивших целевое действие (покупку). \n",
    " "
   ]
  },
  {
   "cell_type": "markdown",
   "id": "b290c9aa",
   "metadata": {},
   "source": [
    "Итоговый вывод\n",
    "\n",
    "Проведенная работа: \n",
    "- формулирование гипотезы \n",
    "- предобработка данных \n",
    "- проверка корректности проведения А/В-тестирования\n",
    "- расчет метрик \n",
    "- проверка статистической значимости \n",
    "- интерпретация результатов и принятие решений \n",
    "\n",
    "\n",
    " Результаты А/В-тестирования демонстрируют, что обновление интерфейса оказало положительное влияние на поведение посетителей, увеличив долю зарегистрированных пользователей, совершивших покупку. Эти изменения имеют высокую статистическую значимость, что делает их эффективными и применимыми для принятия решений."
   ]
  },
  {
   "cell_type": "markdown",
   "id": "npoPPSKytKvR",
   "metadata": {
    "id": "npoPPSKytKvR"
   },
   "source": [
    " "
   ]
  }
 ],
 "metadata": {
  "ExecuteTimeLog": [
   {
    "duration": 416,
    "start_time": "2025-03-26T15:47:12.960Z"
   },
   {
    "duration": 63,
    "start_time": "2025-03-26T15:47:37.604Z"
   },
   {
    "duration": 126,
    "start_time": "2025-03-26T15:47:43.860Z"
   },
   {
    "duration": 18,
    "start_time": "2025-03-26T15:47:54.969Z"
   },
   {
    "duration": 12,
    "start_time": "2025-03-26T15:48:21.920Z"
   },
   {
    "duration": 12,
    "start_time": "2025-03-26T15:49:58.573Z"
   },
   {
    "duration": 7,
    "start_time": "2025-03-26T15:50:08.450Z"
   },
   {
    "duration": 9,
    "start_time": "2025-03-26T15:51:57.995Z"
   },
   {
    "duration": 6,
    "start_time": "2025-03-26T15:52:15.814Z"
   },
   {
    "duration": 7,
    "start_time": "2025-03-26T15:53:28.766Z"
   },
   {
    "duration": 366,
    "start_time": "2025-03-26T15:54:16.292Z"
   },
   {
    "duration": 23,
    "start_time": "2025-03-26T15:54:16.660Z"
   },
   {
    "duration": 12,
    "start_time": "2025-03-26T15:54:16.684Z"
   },
   {
    "duration": 10,
    "start_time": "2025-03-26T15:54:16.697Z"
   },
   {
    "duration": 7,
    "start_time": "2025-03-26T15:54:16.709Z"
   },
   {
    "duration": 1529,
    "start_time": "2025-03-26T15:54:16.717Z"
   },
   {
    "duration": 405,
    "start_time": "2025-03-26T19:04:06.943Z"
   },
   {
    "duration": 35,
    "start_time": "2025-03-26T19:04:07.350Z"
   },
   {
    "duration": 12,
    "start_time": "2025-03-26T19:04:07.386Z"
   },
   {
    "duration": 18,
    "start_time": "2025-03-26T19:04:07.400Z"
   },
   {
    "duration": 7,
    "start_time": "2025-03-26T19:04:07.420Z"
   },
   {
    "duration": 1532,
    "start_time": "2025-03-26T19:04:07.429Z"
   },
   {
    "duration": 6,
    "start_time": "2025-03-26T19:04:45.691Z"
   },
   {
    "duration": 5,
    "start_time": "2025-03-26T19:04:52.841Z"
   },
   {
    "duration": 5,
    "start_time": "2025-03-26T19:06:16.078Z"
   },
   {
    "duration": 4,
    "start_time": "2025-03-26T19:06:28.585Z"
   },
   {
    "duration": 5,
    "start_time": "2025-03-26T19:06:44.526Z"
   },
   {
    "duration": 5,
    "start_time": "2025-03-26T19:13:04.370Z"
   },
   {
    "duration": 60,
    "start_time": "2025-03-26T19:13:49.127Z"
   },
   {
    "duration": 5,
    "start_time": "2025-03-26T19:13:53.860Z"
   },
   {
    "duration": 7,
    "start_time": "2025-03-26T19:13:54.694Z"
   },
   {
    "duration": 6,
    "start_time": "2025-03-26T19:16:05.293Z"
   },
   {
    "duration": 6,
    "start_time": "2025-03-26T19:16:31.993Z"
   },
   {
    "duration": 5,
    "start_time": "2025-03-26T19:16:52.825Z"
   },
   {
    "duration": 5,
    "start_time": "2025-03-26T19:17:04.910Z"
   },
   {
    "duration": 381,
    "start_time": "2025-03-26T19:17:17.464Z"
   },
   {
    "duration": 25,
    "start_time": "2025-03-26T19:17:17.846Z"
   },
   {
    "duration": 13,
    "start_time": "2025-03-26T19:17:17.872Z"
   },
   {
    "duration": 15,
    "start_time": "2025-03-26T19:17:17.887Z"
   },
   {
    "duration": 7,
    "start_time": "2025-03-26T19:17:17.903Z"
   },
   {
    "duration": 25,
    "start_time": "2025-03-26T19:17:17.912Z"
   },
   {
    "duration": 5,
    "start_time": "2025-03-26T19:17:17.938Z"
   },
   {
    "duration": 5,
    "start_time": "2025-03-26T19:17:17.944Z"
   },
   {
    "duration": 1531,
    "start_time": "2025-03-26T19:17:17.950Z"
   },
   {
    "duration": 10,
    "start_time": "2025-03-26T19:18:35.979Z"
   },
   {
    "duration": 6,
    "start_time": "2025-03-26T19:18:37.096Z"
   },
   {
    "duration": 5,
    "start_time": "2025-03-26T19:18:37.583Z"
   },
   {
    "duration": 5,
    "start_time": "2025-03-26T19:18:38.427Z"
   },
   {
    "duration": 371,
    "start_time": "2025-03-26T19:18:44.689Z"
   },
   {
    "duration": 25,
    "start_time": "2025-03-26T19:18:45.063Z"
   },
   {
    "duration": 26,
    "start_time": "2025-03-26T19:18:45.090Z"
   },
   {
    "duration": 10,
    "start_time": "2025-03-26T19:18:45.118Z"
   },
   {
    "duration": 16,
    "start_time": "2025-03-26T19:18:45.130Z"
   },
   {
    "duration": 145,
    "start_time": "2025-03-26T19:18:45.147Z"
   },
   {
    "duration": 19,
    "start_time": "2025-03-26T19:18:45.293Z"
   },
   {
    "duration": 4,
    "start_time": "2025-03-26T19:18:45.314Z"
   },
   {
    "duration": 1745,
    "start_time": "2025-03-26T19:18:45.319Z"
   },
   {
    "duration": 24,
    "start_time": "2025-03-26T19:23:03.572Z"
   },
   {
    "duration": 6,
    "start_time": "2025-03-26T19:23:13.994Z"
   },
   {
    "duration": 10,
    "start_time": "2025-03-26T19:23:21.296Z"
   },
   {
    "duration": 3,
    "start_time": "2025-03-26T19:23:27.859Z"
   },
   {
    "duration": 74,
    "start_time": "2025-03-26T19:23:33.177Z"
   },
   {
    "duration": 6,
    "start_time": "2025-03-26T19:23:46.126Z"
   },
   {
    "duration": 7,
    "start_time": "2025-03-26T19:24:14.566Z"
   },
   {
    "duration": 0,
    "start_time": "2025-03-26T19:24:14.575Z"
   },
   {
    "duration": 426,
    "start_time": "2025-03-26T19:24:31.218Z"
   },
   {
    "duration": 24,
    "start_time": "2025-03-26T19:24:31.646Z"
   },
   {
    "duration": 16,
    "start_time": "2025-03-26T19:24:31.671Z"
   },
   {
    "duration": 17,
    "start_time": "2025-03-26T19:24:31.690Z"
   },
   {
    "duration": 28,
    "start_time": "2025-03-26T19:24:31.709Z"
   },
   {
    "duration": 6,
    "start_time": "2025-03-26T19:24:31.739Z"
   },
   {
    "duration": 6,
    "start_time": "2025-03-26T19:24:31.747Z"
   },
   {
    "duration": 11,
    "start_time": "2025-03-26T19:24:31.756Z"
   },
   {
    "duration": 1500,
    "start_time": "2025-03-26T19:24:31.769Z"
   },
   {
    "duration": 415,
    "start_time": "2025-03-27T09:48:25.810Z"
   },
   {
    "duration": 27,
    "start_time": "2025-03-27T09:48:26.227Z"
   },
   {
    "duration": 10,
    "start_time": "2025-03-27T09:48:26.256Z"
   },
   {
    "duration": 11,
    "start_time": "2025-03-27T09:48:26.268Z"
   },
   {
    "duration": 7,
    "start_time": "2025-03-27T09:48:26.281Z"
   },
   {
    "duration": 4,
    "start_time": "2025-03-27T09:48:26.303Z"
   },
   {
    "duration": 5,
    "start_time": "2025-03-27T09:48:26.309Z"
   },
   {
    "duration": 5,
    "start_time": "2025-03-27T09:48:26.315Z"
   },
   {
    "duration": 132,
    "start_time": "2025-03-27T09:48:26.321Z"
   },
   {
    "duration": 0,
    "start_time": "2025-03-27T09:48:26.454Z"
   },
   {
    "duration": 0,
    "start_time": "2025-03-27T09:48:26.455Z"
   },
   {
    "duration": 4,
    "start_time": "2025-03-27T09:52:00.159Z"
   },
   {
    "duration": 6,
    "start_time": "2025-03-27T09:52:06.269Z"
   },
   {
    "duration": 149,
    "start_time": "2025-03-27T09:55:43.902Z"
   },
   {
    "duration": 140,
    "start_time": "2025-03-27T09:55:51.977Z"
   },
   {
    "duration": 12,
    "start_time": "2025-03-27T09:56:52.890Z"
   },
   {
    "duration": 512,
    "start_time": "2025-03-27T10:02:59.173Z"
   },
   {
    "duration": 92,
    "start_time": "2025-03-27T10:05:32.872Z"
   },
   {
    "duration": 7,
    "start_time": "2025-03-27T10:05:44.136Z"
   },
   {
    "duration": 12,
    "start_time": "2025-03-27T10:05:49.258Z"
   },
   {
    "duration": 12,
    "start_time": "2025-03-27T10:06:35.723Z"
   },
   {
    "duration": 10,
    "start_time": "2025-03-27T10:07:38.276Z"
   },
   {
    "duration": 15,
    "start_time": "2025-03-27T10:13:19.843Z"
   },
   {
    "duration": 11,
    "start_time": "2025-03-27T10:13:24.389Z"
   },
   {
    "duration": 9,
    "start_time": "2025-03-27T10:13:57.790Z"
   },
   {
    "duration": 10,
    "start_time": "2025-03-27T10:14:03.187Z"
   },
   {
    "duration": 6,
    "start_time": "2025-03-27T10:14:08.836Z"
   },
   {
    "duration": 7,
    "start_time": "2025-03-27T10:16:13.403Z"
   },
   {
    "duration": 7,
    "start_time": "2025-03-27T10:17:29.803Z"
   },
   {
    "duration": 563,
    "start_time": "2025-03-27T10:47:25.577Z"
   },
   {
    "duration": 154,
    "start_time": "2025-03-27T10:47:26.659Z"
   },
   {
    "duration": 111,
    "start_time": "2025-03-27T10:47:33.872Z"
   },
   {
    "duration": 120,
    "start_time": "2025-03-27T10:47:57.704Z"
   },
   {
    "duration": 126,
    "start_time": "2025-03-27T10:49:46.990Z"
   },
   {
    "duration": 136,
    "start_time": "2025-03-27T10:49:52.421Z"
   },
   {
    "duration": 31,
    "start_time": "2025-03-27T10:56:49.947Z"
   },
   {
    "duration": 2,
    "start_time": "2025-03-27T10:56:55.864Z"
   },
   {
    "duration": 14,
    "start_time": "2025-03-27T10:56:56.531Z"
   },
   {
    "duration": 12,
    "start_time": "2025-03-27T10:57:40.423Z"
   },
   {
    "duration": 419,
    "start_time": "2025-03-27T10:57:51.229Z"
   },
   {
    "duration": 24,
    "start_time": "2025-03-27T10:57:51.650Z"
   },
   {
    "duration": 12,
    "start_time": "2025-03-27T10:57:51.676Z"
   },
   {
    "duration": 28,
    "start_time": "2025-03-27T10:57:51.689Z"
   },
   {
    "duration": 22,
    "start_time": "2025-03-27T10:57:51.719Z"
   },
   {
    "duration": 26,
    "start_time": "2025-03-27T10:57:51.743Z"
   },
   {
    "duration": 9,
    "start_time": "2025-03-27T10:57:51.771Z"
   },
   {
    "duration": 8,
    "start_time": "2025-03-27T10:57:51.781Z"
   },
   {
    "duration": 308,
    "start_time": "2025-03-27T10:57:51.792Z"
   },
   {
    "duration": 14,
    "start_time": "2025-03-27T10:57:52.104Z"
   },
   {
    "duration": 26,
    "start_time": "2025-03-27T10:57:52.120Z"
   },
   {
    "duration": 226,
    "start_time": "2025-03-27T10:57:52.148Z"
   },
   {
    "duration": 135,
    "start_time": "2025-03-27T10:57:52.375Z"
   },
   {
    "duration": 490,
    "start_time": "2025-03-27T10:57:52.513Z"
   },
   {
    "duration": 12,
    "start_time": "2025-03-27T10:57:53.005Z"
   },
   {
    "duration": 2313,
    "start_time": "2025-03-27T10:57:53.018Z"
   },
   {
    "duration": 445,
    "start_time": "2025-03-27T18:20:26.880Z"
   },
   {
    "duration": 83,
    "start_time": "2025-03-27T18:20:27.327Z"
   },
   {
    "duration": 12,
    "start_time": "2025-03-27T18:20:27.411Z"
   },
   {
    "duration": 12,
    "start_time": "2025-03-27T18:20:27.424Z"
   },
   {
    "duration": 9,
    "start_time": "2025-03-27T18:20:27.438Z"
   },
   {
    "duration": 6,
    "start_time": "2025-03-27T18:20:27.448Z"
   },
   {
    "duration": 16,
    "start_time": "2025-03-27T18:20:27.455Z"
   },
   {
    "duration": 4,
    "start_time": "2025-03-27T18:20:27.473Z"
   },
   {
    "duration": 457,
    "start_time": "2025-03-27T18:20:27.482Z"
   },
   {
    "duration": 39,
    "start_time": "2025-03-27T18:20:27.941Z"
   },
   {
    "duration": 9,
    "start_time": "2025-03-27T18:20:27.982Z"
   },
   {
    "duration": 140,
    "start_time": "2025-03-27T18:20:27.993Z"
   },
   {
    "duration": 150,
    "start_time": "2025-03-27T18:20:28.134Z"
   },
   {
    "duration": 497,
    "start_time": "2025-03-27T18:20:28.287Z"
   },
   {
    "duration": 12,
    "start_time": "2025-03-27T18:20:28.790Z"
   },
   {
    "duration": 1622,
    "start_time": "2025-03-27T18:20:28.804Z"
   },
   {
    "duration": 456,
    "start_time": "2025-03-28T12:01:59.232Z"
   },
   {
    "duration": 24,
    "start_time": "2025-03-28T12:01:59.691Z"
   },
   {
    "duration": 12,
    "start_time": "2025-03-28T12:01:59.716Z"
   },
   {
    "duration": 27,
    "start_time": "2025-03-28T12:01:59.730Z"
   },
   {
    "duration": 29,
    "start_time": "2025-03-28T12:01:59.763Z"
   },
   {
    "duration": 8,
    "start_time": "2025-03-28T12:01:59.794Z"
   },
   {
    "duration": 8,
    "start_time": "2025-03-28T12:01:59.806Z"
   },
   {
    "duration": 5,
    "start_time": "2025-03-28T12:01:59.815Z"
   },
   {
    "duration": 443,
    "start_time": "2025-03-28T12:01:59.822Z"
   },
   {
    "duration": 18,
    "start_time": "2025-03-28T12:02:00.268Z"
   },
   {
    "duration": 8,
    "start_time": "2025-03-28T12:02:00.287Z"
   },
   {
    "duration": 163,
    "start_time": "2025-03-28T12:02:00.297Z"
   },
   {
    "duration": 151,
    "start_time": "2025-03-28T12:02:00.463Z"
   },
   {
    "duration": 547,
    "start_time": "2025-03-28T12:02:00.617Z"
   },
   {
    "duration": 17,
    "start_time": "2025-03-28T12:02:01.166Z"
   },
   {
    "duration": 1719,
    "start_time": "2025-03-28T12:02:01.184Z"
   },
   {
    "duration": 12,
    "start_time": "2025-03-28T12:15:03.783Z"
   },
   {
    "duration": 100,
    "start_time": "2025-03-28T12:17:21.232Z"
   },
   {
    "duration": 10,
    "start_time": "2025-03-28T12:17:40.893Z"
   },
   {
    "duration": 10,
    "start_time": "2025-03-28T12:17:45.861Z"
   },
   {
    "duration": 8,
    "start_time": "2025-03-28T12:18:01.577Z"
   },
   {
    "duration": 8,
    "start_time": "2025-03-28T12:18:10.695Z"
   },
   {
    "duration": 9,
    "start_time": "2025-03-28T12:18:48.555Z"
   },
   {
    "duration": 11,
    "start_time": "2025-03-28T12:19:16.459Z"
   },
   {
    "duration": 415,
    "start_time": "2025-03-28T12:19:24.266Z"
   },
   {
    "duration": 24,
    "start_time": "2025-03-28T12:19:24.683Z"
   },
   {
    "duration": 11,
    "start_time": "2025-03-28T12:19:24.708Z"
   },
   {
    "duration": 15,
    "start_time": "2025-03-28T12:19:24.721Z"
   },
   {
    "duration": 6,
    "start_time": "2025-03-28T12:19:24.738Z"
   },
   {
    "duration": 14,
    "start_time": "2025-03-28T12:19:24.746Z"
   },
   {
    "duration": 7,
    "start_time": "2025-03-28T12:19:24.762Z"
   },
   {
    "duration": 10,
    "start_time": "2025-03-28T12:19:24.771Z"
   },
   {
    "duration": 250,
    "start_time": "2025-03-28T12:19:24.782Z"
   },
   {
    "duration": 12,
    "start_time": "2025-03-28T12:19:25.034Z"
   },
   {
    "duration": 12,
    "start_time": "2025-03-28T12:19:25.048Z"
   },
   {
    "duration": 167,
    "start_time": "2025-03-28T12:19:25.064Z"
   },
   {
    "duration": 144,
    "start_time": "2025-03-28T12:19:25.233Z"
   },
   {
    "duration": 454,
    "start_time": "2025-03-28T12:19:25.380Z"
   },
   {
    "duration": 19,
    "start_time": "2025-03-28T12:19:25.836Z"
   },
   {
    "duration": 1560,
    "start_time": "2025-03-28T12:19:25.857Z"
   },
   {
    "duration": 12,
    "start_time": "2025-03-28T12:19:27.419Z"
   },
   {
    "duration": 23,
    "start_time": "2025-03-28T12:19:27.433Z"
   },
   {
    "duration": 11,
    "start_time": "2025-03-28T12:19:56.307Z"
   },
   {
    "duration": 6,
    "start_time": "2025-03-28T12:20:57.791Z"
   },
   {
    "duration": 123,
    "start_time": "2025-03-28T12:22:30.559Z"
   },
   {
    "duration": 9,
    "start_time": "2025-03-28T12:22:57.323Z"
   },
   {
    "duration": 9,
    "start_time": "2025-03-28T12:23:33.959Z"
   },
   {
    "duration": 105,
    "start_time": "2025-03-28T12:24:00.352Z"
   },
   {
    "duration": 314,
    "start_time": "2025-03-28T12:24:46.408Z"
   },
   {
    "duration": 349,
    "start_time": "2025-03-28T12:32:01.119Z"
   },
   {
    "duration": 354,
    "start_time": "2025-03-28T12:32:07.323Z"
   },
   {
    "duration": 414,
    "start_time": "2025-03-28T12:32:14.147Z"
   },
   {
    "duration": 428,
    "start_time": "2025-03-28T14:41:37.743Z"
   },
   {
    "duration": 23,
    "start_time": "2025-03-28T14:41:38.173Z"
   },
   {
    "duration": 11,
    "start_time": "2025-03-28T14:41:38.197Z"
   },
   {
    "duration": 17,
    "start_time": "2025-03-28T14:41:38.210Z"
   },
   {
    "duration": 14,
    "start_time": "2025-03-28T14:41:38.229Z"
   },
   {
    "duration": 8,
    "start_time": "2025-03-28T14:41:38.245Z"
   },
   {
    "duration": 14,
    "start_time": "2025-03-28T14:41:38.254Z"
   },
   {
    "duration": 6,
    "start_time": "2025-03-28T14:41:38.269Z"
   },
   {
    "duration": 395,
    "start_time": "2025-03-28T14:41:38.277Z"
   },
   {
    "duration": 15,
    "start_time": "2025-03-28T14:41:38.674Z"
   },
   {
    "duration": 6,
    "start_time": "2025-03-28T14:41:38.690Z"
   },
   {
    "duration": 150,
    "start_time": "2025-03-28T14:41:38.697Z"
   },
   {
    "duration": 120,
    "start_time": "2025-03-28T14:41:38.848Z"
   },
   {
    "duration": 458,
    "start_time": "2025-03-28T14:41:38.971Z"
   },
   {
    "duration": 12,
    "start_time": "2025-03-28T14:41:39.431Z"
   },
   {
    "duration": 1514,
    "start_time": "2025-03-28T14:41:39.445Z"
   },
   {
    "duration": 15,
    "start_time": "2025-03-28T14:41:40.961Z"
   },
   {
    "duration": 9,
    "start_time": "2025-03-28T14:41:40.978Z"
   },
   {
    "duration": 118,
    "start_time": "2025-03-28T14:41:40.989Z"
   },
   {
    "duration": 112,
    "start_time": "2025-03-28T14:41:41.109Z"
   },
   {
    "duration": 340,
    "start_time": "2025-03-28T14:41:41.223Z"
   },
   {
    "duration": 448,
    "start_time": "2025-03-28T14:41:41.567Z"
   },
   {
    "duration": 10,
    "start_time": "2025-03-28T14:50:29.993Z"
   },
   {
    "duration": 18,
    "start_time": "2025-03-28T14:54:00.687Z"
   },
   {
    "duration": 14,
    "start_time": "2025-03-28T14:55:57.125Z"
   },
   {
    "duration": 8,
    "start_time": "2025-03-28T14:58:56.294Z"
   },
   {
    "duration": 210,
    "start_time": "2025-03-28T15:00:01.548Z"
   },
   {
    "duration": 103,
    "start_time": "2025-03-28T15:00:08.692Z"
   },
   {
    "duration": 11,
    "start_time": "2025-03-28T15:00:16.326Z"
   },
   {
    "duration": 95,
    "start_time": "2025-03-28T15:01:05.362Z"
   },
   {
    "duration": 28,
    "start_time": "2025-03-28T15:01:10.624Z"
   },
   {
    "duration": 21,
    "start_time": "2025-03-28T15:01:19.055Z"
   },
   {
    "duration": 49,
    "start_time": "2025-03-28T15:09:45.730Z"
   },
   {
    "duration": 48,
    "start_time": "2025-03-28T15:10:12.498Z"
   },
   {
    "duration": 42,
    "start_time": "2025-03-28T15:10:19.159Z"
   },
   {
    "duration": 399,
    "start_time": "2025-03-28T15:13:25.069Z"
   },
   {
    "duration": 23,
    "start_time": "2025-03-28T15:13:25.470Z"
   },
   {
    "duration": 12,
    "start_time": "2025-03-28T15:13:25.494Z"
   },
   {
    "duration": 10,
    "start_time": "2025-03-28T15:13:25.508Z"
   },
   {
    "duration": 6,
    "start_time": "2025-03-28T15:13:25.519Z"
   },
   {
    "duration": 4,
    "start_time": "2025-03-28T15:13:25.526Z"
   },
   {
    "duration": 8,
    "start_time": "2025-03-28T15:13:25.532Z"
   },
   {
    "duration": 27,
    "start_time": "2025-03-28T15:13:25.541Z"
   },
   {
    "duration": 222,
    "start_time": "2025-03-28T15:13:25.569Z"
   },
   {
    "duration": 12,
    "start_time": "2025-03-28T15:13:25.794Z"
   },
   {
    "duration": 6,
    "start_time": "2025-03-28T15:13:25.807Z"
   },
   {
    "duration": 137,
    "start_time": "2025-03-28T15:13:25.814Z"
   },
   {
    "duration": 124,
    "start_time": "2025-03-28T15:13:25.953Z"
   },
   {
    "duration": 455,
    "start_time": "2025-03-28T15:13:26.079Z"
   },
   {
    "duration": 13,
    "start_time": "2025-03-28T15:13:26.535Z"
   },
   {
    "duration": 1551,
    "start_time": "2025-03-28T15:13:26.550Z"
   },
   {
    "duration": 12,
    "start_time": "2025-03-28T15:13:28.102Z"
   },
   {
    "duration": 16,
    "start_time": "2025-03-28T15:13:28.115Z"
   },
   {
    "duration": 128,
    "start_time": "2025-03-28T15:13:28.132Z"
   },
   {
    "duration": 18,
    "start_time": "2025-03-28T15:13:28.261Z"
   },
   {
    "duration": 107,
    "start_time": "2025-03-28T15:13:28.281Z"
   },
   {
    "duration": 81,
    "start_time": "2025-03-28T15:13:28.389Z"
   },
   {
    "duration": 106,
    "start_time": "2025-03-28T15:13:28.472Z"
   },
   {
    "duration": 143,
    "start_time": "2025-03-28T15:13:28.580Z"
   },
   {
    "duration": 10,
    "start_time": "2025-03-28T15:13:28.724Z"
   },
   {
    "duration": 34,
    "start_time": "2025-03-28T15:13:28.735Z"
   },
   {
    "duration": 14,
    "start_time": "2025-03-28T15:13:28.770Z"
   },
   {
    "duration": 6,
    "start_time": "2025-03-28T15:20:35.736Z"
   },
   {
    "duration": 9,
    "start_time": "2025-03-28T15:20:55.065Z"
   },
   {
    "duration": 18,
    "start_time": "2025-03-28T15:21:20.295Z"
   },
   {
    "duration": 10,
    "start_time": "2025-03-28T15:23:13.999Z"
   },
   {
    "duration": 5,
    "start_time": "2025-03-28T15:23:15.620Z"
   },
   {
    "duration": 17,
    "start_time": "2025-03-28T15:23:16.371Z"
   },
   {
    "duration": 11,
    "start_time": "2025-03-28T15:40:59.932Z"
   },
   {
    "duration": 14,
    "start_time": "2025-03-28T15:42:56.725Z"
   },
   {
    "duration": 14,
    "start_time": "2025-03-28T15:43:26.910Z"
   },
   {
    "duration": 15,
    "start_time": "2025-03-28T15:44:22.508Z"
   },
   {
    "duration": 23,
    "start_time": "2025-03-28T15:45:03.251Z"
   },
   {
    "duration": 10,
    "start_time": "2025-03-28T15:46:50.510Z"
   },
   {
    "duration": 5,
    "start_time": "2025-03-28T15:46:54.744Z"
   },
   {
    "duration": 23,
    "start_time": "2025-03-28T15:47:16.241Z"
   },
   {
    "duration": 412,
    "start_time": "2025-03-28T15:47:26.731Z"
   },
   {
    "duration": 32,
    "start_time": "2025-03-28T15:47:27.145Z"
   },
   {
    "duration": 10,
    "start_time": "2025-03-28T15:47:27.179Z"
   },
   {
    "duration": 10,
    "start_time": "2025-03-28T15:47:27.191Z"
   },
   {
    "duration": 6,
    "start_time": "2025-03-28T15:47:27.203Z"
   },
   {
    "duration": 7,
    "start_time": "2025-03-28T15:47:27.210Z"
   },
   {
    "duration": 14,
    "start_time": "2025-03-28T15:47:27.218Z"
   },
   {
    "duration": 7,
    "start_time": "2025-03-28T15:47:27.233Z"
   },
   {
    "duration": 257,
    "start_time": "2025-03-28T15:47:27.242Z"
   },
   {
    "duration": 13,
    "start_time": "2025-03-28T15:47:27.501Z"
   },
   {
    "duration": 22,
    "start_time": "2025-03-28T15:47:27.516Z"
   },
   {
    "duration": 133,
    "start_time": "2025-03-28T15:47:27.540Z"
   },
   {
    "duration": 127,
    "start_time": "2025-03-28T15:47:27.675Z"
   },
   {
    "duration": 435,
    "start_time": "2025-03-28T15:47:27.805Z"
   },
   {
    "duration": 12,
    "start_time": "2025-03-28T15:47:28.242Z"
   },
   {
    "duration": 1460,
    "start_time": "2025-03-28T15:47:28.256Z"
   },
   {
    "duration": 13,
    "start_time": "2025-03-28T15:47:29.718Z"
   },
   {
    "duration": 12,
    "start_time": "2025-03-28T15:47:29.732Z"
   },
   {
    "duration": 125,
    "start_time": "2025-03-28T15:47:29.745Z"
   },
   {
    "duration": 13,
    "start_time": "2025-03-28T15:47:29.871Z"
   },
   {
    "duration": 110,
    "start_time": "2025-03-28T15:47:29.886Z"
   },
   {
    "duration": 84,
    "start_time": "2025-03-28T15:47:29.998Z"
   },
   {
    "duration": 114,
    "start_time": "2025-03-28T15:47:30.084Z"
   },
   {
    "duration": 153,
    "start_time": "2025-03-28T15:47:30.200Z"
   },
   {
    "duration": 17,
    "start_time": "2025-03-28T15:47:30.355Z"
   },
   {
    "duration": 39,
    "start_time": "2025-03-28T15:47:30.374Z"
   },
   {
    "duration": 10,
    "start_time": "2025-03-28T15:47:30.415Z"
   },
   {
    "duration": 32,
    "start_time": "2025-03-28T15:47:30.427Z"
   },
   {
    "duration": 24,
    "start_time": "2025-03-28T15:47:30.461Z"
   },
   {
    "duration": 11,
    "start_time": "2025-03-28T15:48:07.924Z"
   },
   {
    "duration": 467,
    "start_time": "2025-04-01T13:01:34.637Z"
   },
   {
    "duration": 37,
    "start_time": "2025-04-01T13:01:35.109Z"
   },
   {
    "duration": 12,
    "start_time": "2025-04-01T13:01:35.148Z"
   },
   {
    "duration": 17,
    "start_time": "2025-04-01T13:01:35.162Z"
   },
   {
    "duration": 8,
    "start_time": "2025-04-01T13:01:35.183Z"
   },
   {
    "duration": 17,
    "start_time": "2025-04-01T13:01:35.193Z"
   },
   {
    "duration": 30,
    "start_time": "2025-04-01T13:01:35.211Z"
   },
   {
    "duration": 6,
    "start_time": "2025-04-01T13:01:35.243Z"
   },
   {
    "duration": 450,
    "start_time": "2025-04-01T13:01:35.251Z"
   },
   {
    "duration": 16,
    "start_time": "2025-04-01T13:01:35.703Z"
   },
   {
    "duration": 19,
    "start_time": "2025-04-01T13:01:35.721Z"
   },
   {
    "duration": 145,
    "start_time": "2025-04-01T13:01:35.742Z"
   },
   {
    "duration": 144,
    "start_time": "2025-04-01T13:01:35.890Z"
   },
   {
    "duration": 516,
    "start_time": "2025-04-01T13:01:36.038Z"
   },
   {
    "duration": 13,
    "start_time": "2025-04-01T13:01:36.555Z"
   },
   {
    "duration": 1557,
    "start_time": "2025-04-01T13:01:36.569Z"
   },
   {
    "duration": 13,
    "start_time": "2025-04-01T13:01:38.128Z"
   },
   {
    "duration": 22,
    "start_time": "2025-04-01T13:01:38.142Z"
   },
   {
    "duration": 127,
    "start_time": "2025-04-01T13:01:38.166Z"
   },
   {
    "duration": 14,
    "start_time": "2025-04-01T13:01:38.294Z"
   },
   {
    "duration": 125,
    "start_time": "2025-04-01T13:01:38.310Z"
   },
   {
    "duration": 84,
    "start_time": "2025-04-01T13:01:38.436Z"
   },
   {
    "duration": 137,
    "start_time": "2025-04-01T13:01:38.522Z"
   },
   {
    "duration": 166,
    "start_time": "2025-04-01T13:01:38.661Z"
   },
   {
    "duration": 12,
    "start_time": "2025-04-01T13:01:38.829Z"
   },
   {
    "duration": 25,
    "start_time": "2025-04-01T13:01:38.854Z"
   },
   {
    "duration": 12,
    "start_time": "2025-04-01T13:01:38.881Z"
   },
   {
    "duration": 111,
    "start_time": "2025-04-01T13:10:01.710Z"
   },
   {
    "duration": 28,
    "start_time": "2025-04-01T13:10:09.924Z"
   },
   {
    "duration": 29,
    "start_time": "2025-04-01T13:10:38.514Z"
   },
   {
    "duration": 10,
    "start_time": "2025-04-01T13:10:45.731Z"
   },
   {
    "duration": 7,
    "start_time": "2025-04-01T13:13:19.792Z"
   },
   {
    "duration": 13,
    "start_time": "2025-04-01T13:13:24.477Z"
   },
   {
    "duration": 14,
    "start_time": "2025-04-01T13:13:41.441Z"
   },
   {
    "duration": 6,
    "start_time": "2025-04-01T13:13:50.446Z"
   },
   {
    "duration": 92,
    "start_time": "2025-04-01T13:16:40.276Z"
   },
   {
    "duration": 88,
    "start_time": "2025-04-01T13:27:14.588Z"
   },
   {
    "duration": 13,
    "start_time": "2025-04-01T13:29:58.324Z"
   },
   {
    "duration": 15,
    "start_time": "2025-04-01T13:30:05.142Z"
   },
   {
    "duration": 13,
    "start_time": "2025-04-01T13:30:11.724Z"
   },
   {
    "duration": 8,
    "start_time": "2025-04-01T13:31:00.192Z"
   },
   {
    "duration": 91,
    "start_time": "2025-04-01T13:31:01.447Z"
   },
   {
    "duration": 15,
    "start_time": "2025-04-01T13:31:06.677Z"
   },
   {
    "duration": 19,
    "start_time": "2025-04-01T13:31:32.763Z"
   },
   {
    "duration": 19,
    "start_time": "2025-04-01T13:33:52.591Z"
   },
   {
    "duration": 21,
    "start_time": "2025-04-01T13:34:23.110Z"
   },
   {
    "duration": 17,
    "start_time": "2025-04-01T13:35:11.241Z"
   },
   {
    "duration": 14,
    "start_time": "2025-04-01T13:35:21.008Z"
   },
   {
    "duration": 1200,
    "start_time": "2025-04-01T13:36:11.690Z"
   },
   {
    "duration": 22,
    "start_time": "2025-04-01T13:36:13.225Z"
   },
   {
    "duration": 25,
    "start_time": "2025-04-01T13:36:13.827Z"
   },
   {
    "duration": 21,
    "start_time": "2025-04-01T13:36:25.159Z"
   },
   {
    "duration": 15,
    "start_time": "2025-04-01T13:36:26.228Z"
   },
   {
    "duration": 432,
    "start_time": "2025-04-01T13:36:40.033Z"
   },
   {
    "duration": 24,
    "start_time": "2025-04-01T13:36:40.467Z"
   },
   {
    "duration": 12,
    "start_time": "2025-04-01T13:36:40.493Z"
   },
   {
    "duration": 16,
    "start_time": "2025-04-01T13:36:40.506Z"
   },
   {
    "duration": 37,
    "start_time": "2025-04-01T13:36:40.524Z"
   },
   {
    "duration": 9,
    "start_time": "2025-04-01T13:36:40.562Z"
   },
   {
    "duration": 8,
    "start_time": "2025-04-01T13:36:40.572Z"
   },
   {
    "duration": 4,
    "start_time": "2025-04-01T13:36:40.582Z"
   },
   {
    "duration": 272,
    "start_time": "2025-04-01T13:36:40.588Z"
   },
   {
    "duration": 19,
    "start_time": "2025-04-01T13:36:40.861Z"
   },
   {
    "duration": 7,
    "start_time": "2025-04-01T13:36:40.882Z"
   },
   {
    "duration": 173,
    "start_time": "2025-04-01T13:36:40.891Z"
   },
   {
    "duration": 138,
    "start_time": "2025-04-01T13:36:41.066Z"
   },
   {
    "duration": 508,
    "start_time": "2025-04-01T13:36:41.206Z"
   },
   {
    "duration": 11,
    "start_time": "2025-04-01T13:36:41.716Z"
   },
   {
    "duration": 1607,
    "start_time": "2025-04-01T13:36:41.729Z"
   },
   {
    "duration": 22,
    "start_time": "2025-04-01T13:36:43.338Z"
   },
   {
    "duration": 12,
    "start_time": "2025-04-01T13:36:43.362Z"
   },
   {
    "duration": 134,
    "start_time": "2025-04-01T13:36:43.375Z"
   },
   {
    "duration": 13,
    "start_time": "2025-04-01T13:36:43.511Z"
   },
   {
    "duration": 119,
    "start_time": "2025-04-01T13:36:43.526Z"
   },
   {
    "duration": 92,
    "start_time": "2025-04-01T13:36:43.647Z"
   },
   {
    "duration": 124,
    "start_time": "2025-04-01T13:36:43.741Z"
   },
   {
    "duration": 160,
    "start_time": "2025-04-01T13:36:43.867Z"
   },
   {
    "duration": 12,
    "start_time": "2025-04-01T13:36:44.029Z"
   },
   {
    "duration": 24,
    "start_time": "2025-04-01T13:36:44.053Z"
   },
   {
    "duration": 11,
    "start_time": "2025-04-01T13:36:44.079Z"
   },
   {
    "duration": 7,
    "start_time": "2025-04-01T13:36:44.092Z"
   },
   {
    "duration": 137,
    "start_time": "2025-04-01T13:36:44.100Z"
   },
   {
    "duration": 28,
    "start_time": "2025-04-01T13:36:44.238Z"
   },
   {
    "duration": 13,
    "start_time": "2025-04-01T13:36:44.268Z"
   },
   {
    "duration": 100,
    "start_time": "2025-04-01T13:41:20.459Z"
   },
   {
    "duration": 10,
    "start_time": "2025-04-01T13:41:44.489Z"
   },
   {
    "duration": 9,
    "start_time": "2025-04-01T13:44:18.081Z"
   },
   {
    "duration": 23,
    "start_time": "2025-04-01T13:44:23.506Z"
   },
   {
    "duration": 26,
    "start_time": "2025-04-01T13:44:33.645Z"
   },
   {
    "duration": 14,
    "start_time": "2025-04-01T13:44:58.361Z"
   },
   {
    "duration": 14,
    "start_time": "2025-04-01T13:45:04.385Z"
   },
   {
    "duration": 18,
    "start_time": "2025-04-01T13:56:57.738Z"
   },
   {
    "duration": 16,
    "start_time": "2025-04-01T14:02:10.428Z"
   },
   {
    "duration": 5,
    "start_time": "2025-04-01T14:07:40.494Z"
   },
   {
    "duration": 5,
    "start_time": "2025-04-01T14:08:33.789Z"
   },
   {
    "duration": 2,
    "start_time": "2025-04-01T14:08:34.229Z"
   },
   {
    "duration": 6,
    "start_time": "2025-04-01T14:09:39.515Z"
   },
   {
    "duration": 9,
    "start_time": "2025-04-01T14:09:55.729Z"
   },
   {
    "duration": 10,
    "start_time": "2025-04-01T14:11:08.955Z"
   },
   {
    "duration": 9,
    "start_time": "2025-04-01T14:11:19.696Z"
   },
   {
    "duration": 10,
    "start_time": "2025-04-01T14:13:10.677Z"
   },
   {
    "duration": 5,
    "start_time": "2025-04-01T14:13:21.728Z"
   },
   {
    "duration": 383,
    "start_time": "2025-04-01T14:13:27.291Z"
   },
   {
    "duration": 24,
    "start_time": "2025-04-01T14:13:27.676Z"
   },
   {
    "duration": 12,
    "start_time": "2025-04-01T14:13:27.704Z"
   },
   {
    "duration": 11,
    "start_time": "2025-04-01T14:13:27.718Z"
   },
   {
    "duration": 6,
    "start_time": "2025-04-01T14:13:27.730Z"
   },
   {
    "duration": 19,
    "start_time": "2025-04-01T14:13:27.738Z"
   },
   {
    "duration": 10,
    "start_time": "2025-04-01T14:13:27.758Z"
   },
   {
    "duration": 4,
    "start_time": "2025-04-01T14:13:27.770Z"
   },
   {
    "duration": 232,
    "start_time": "2025-04-01T14:13:27.775Z"
   },
   {
    "duration": 13,
    "start_time": "2025-04-01T14:13:28.009Z"
   },
   {
    "duration": 6,
    "start_time": "2025-04-01T14:13:28.023Z"
   },
   {
    "duration": 151,
    "start_time": "2025-04-01T14:13:28.030Z"
   },
   {
    "duration": 133,
    "start_time": "2025-04-01T14:13:28.184Z"
   },
   {
    "duration": 553,
    "start_time": "2025-04-01T14:13:28.319Z"
   },
   {
    "duration": 11,
    "start_time": "2025-04-01T14:13:28.874Z"
   },
   {
    "duration": 1441,
    "start_time": "2025-04-01T14:13:28.887Z"
   },
   {
    "duration": 12,
    "start_time": "2025-04-01T14:13:30.330Z"
   },
   {
    "duration": 11,
    "start_time": "2025-04-01T14:13:30.354Z"
   },
   {
    "duration": 127,
    "start_time": "2025-04-01T14:13:30.367Z"
   },
   {
    "duration": 13,
    "start_time": "2025-04-01T14:13:30.496Z"
   },
   {
    "duration": 116,
    "start_time": "2025-04-01T14:13:30.511Z"
   },
   {
    "duration": 83,
    "start_time": "2025-04-01T14:13:30.628Z"
   },
   {
    "duration": 131,
    "start_time": "2025-04-01T14:13:30.713Z"
   },
   {
    "duration": 172,
    "start_time": "2025-04-01T14:13:30.845Z"
   },
   {
    "duration": 12,
    "start_time": "2025-04-01T14:13:31.018Z"
   },
   {
    "duration": 42,
    "start_time": "2025-04-01T14:13:31.032Z"
   },
   {
    "duration": 12,
    "start_time": "2025-04-01T14:13:31.075Z"
   },
   {
    "duration": 87,
    "start_time": "2025-04-01T14:13:31.089Z"
   },
   {
    "duration": 91,
    "start_time": "2025-04-01T14:13:31.178Z"
   },
   {
    "duration": 19,
    "start_time": "2025-04-01T14:13:31.270Z"
   },
   {
    "duration": 16,
    "start_time": "2025-04-01T14:13:31.291Z"
   },
   {
    "duration": 16,
    "start_time": "2025-04-01T14:13:31.308Z"
   },
   {
    "duration": 37,
    "start_time": "2025-04-01T14:13:31.326Z"
   },
   {
    "duration": 11,
    "start_time": "2025-04-01T14:13:31.365Z"
   },
   {
    "duration": 10,
    "start_time": "2025-04-01T14:13:31.377Z"
   },
   {
    "duration": 10,
    "start_time": "2025-04-01T14:15:28.280Z"
   },
   {
    "duration": 5,
    "start_time": "2025-04-01T14:15:28.980Z"
   },
   {
    "duration": 11,
    "start_time": "2025-04-01T14:15:42.851Z"
   },
   {
    "duration": 6,
    "start_time": "2025-04-01T14:16:36.269Z"
   },
   {
    "duration": 10,
    "start_time": "2025-04-01T14:16:41.227Z"
   },
   {
    "duration": 19,
    "start_time": "2025-04-01T14:16:51.436Z"
   },
   {
    "duration": 21,
    "start_time": "2025-04-01T14:17:31.195Z"
   },
   {
    "duration": 8,
    "start_time": "2025-04-01T14:17:34.286Z"
   },
   {
    "duration": 17,
    "start_time": "2025-04-01T14:17:44.815Z"
   },
   {
    "duration": 9,
    "start_time": "2025-04-01T14:20:26.944Z"
   },
   {
    "duration": 18,
    "start_time": "2025-04-01T14:21:50.013Z"
   },
   {
    "duration": 16,
    "start_time": "2025-04-01T14:22:21.622Z"
   },
   {
    "duration": 3,
    "start_time": "2025-04-01T15:03:17.900Z"
   },
   {
    "duration": 5,
    "start_time": "2025-04-01T15:03:23.194Z"
   },
   {
    "duration": 6,
    "start_time": "2025-04-01T15:03:34.377Z"
   },
   {
    "duration": 6,
    "start_time": "2025-04-01T15:03:41.583Z"
   },
   {
    "duration": 1274,
    "start_time": "2025-04-01T15:27:48.752Z"
   },
   {
    "duration": 1167,
    "start_time": "2025-04-01T15:27:54.951Z"
   },
   {
    "duration": 1226,
    "start_time": "2025-04-01T15:28:08.295Z"
   },
   {
    "duration": 1103,
    "start_time": "2025-04-01T15:28:16.918Z"
   },
   {
    "duration": 11,
    "start_time": "2025-04-01T15:28:56.867Z"
   },
   {
    "duration": 4,
    "start_time": "2025-04-01T15:30:20.911Z"
   },
   {
    "duration": 5,
    "start_time": "2025-04-01T15:30:34.184Z"
   },
   {
    "duration": 408,
    "start_time": "2025-04-01T15:42:25.767Z"
   },
   {
    "duration": 25,
    "start_time": "2025-04-01T15:42:26.176Z"
   },
   {
    "duration": 13,
    "start_time": "2025-04-01T15:42:26.203Z"
   },
   {
    "duration": 13,
    "start_time": "2025-04-01T15:42:26.217Z"
   },
   {
    "duration": 17,
    "start_time": "2025-04-01T15:42:26.232Z"
   },
   {
    "duration": 7,
    "start_time": "2025-04-01T15:42:26.250Z"
   },
   {
    "duration": 5,
    "start_time": "2025-04-01T15:42:26.258Z"
   },
   {
    "duration": 4,
    "start_time": "2025-04-01T15:42:26.264Z"
   },
   {
    "duration": 261,
    "start_time": "2025-04-01T15:42:26.269Z"
   },
   {
    "duration": 13,
    "start_time": "2025-04-01T15:42:26.532Z"
   },
   {
    "duration": 6,
    "start_time": "2025-04-01T15:42:26.555Z"
   },
   {
    "duration": 148,
    "start_time": "2025-04-01T15:42:26.563Z"
   },
   {
    "duration": 124,
    "start_time": "2025-04-01T15:42:26.713Z"
   },
   {
    "duration": 485,
    "start_time": "2025-04-01T15:42:26.840Z"
   },
   {
    "duration": 13,
    "start_time": "2025-04-01T15:42:27.326Z"
   },
   {
    "duration": 1516,
    "start_time": "2025-04-01T15:42:27.340Z"
   },
   {
    "duration": 13,
    "start_time": "2025-04-01T15:42:28.857Z"
   },
   {
    "duration": 21,
    "start_time": "2025-04-01T15:42:28.871Z"
   },
   {
    "duration": 120,
    "start_time": "2025-04-01T15:42:28.893Z"
   },
   {
    "duration": 37,
    "start_time": "2025-04-01T15:42:29.014Z"
   },
   {
    "duration": 129,
    "start_time": "2025-04-01T15:42:29.053Z"
   },
   {
    "duration": 87,
    "start_time": "2025-04-01T15:42:29.184Z"
   },
   {
    "duration": 134,
    "start_time": "2025-04-01T15:42:29.273Z"
   },
   {
    "duration": 171,
    "start_time": "2025-04-01T15:42:29.409Z"
   },
   {
    "duration": 13,
    "start_time": "2025-04-01T15:42:29.582Z"
   },
   {
    "duration": 32,
    "start_time": "2025-04-01T15:42:29.598Z"
   },
   {
    "duration": 30,
    "start_time": "2025-04-01T15:42:29.632Z"
   },
   {
    "duration": 9,
    "start_time": "2025-04-01T15:42:29.664Z"
   },
   {
    "duration": 116,
    "start_time": "2025-04-01T15:42:29.674Z"
   },
   {
    "duration": 20,
    "start_time": "2025-04-01T15:42:29.792Z"
   },
   {
    "duration": 15,
    "start_time": "2025-04-01T15:42:29.814Z"
   },
   {
    "duration": 40,
    "start_time": "2025-04-01T15:42:29.830Z"
   },
   {
    "duration": 18,
    "start_time": "2025-04-01T15:42:29.871Z"
   },
   {
    "duration": 7,
    "start_time": "2025-04-01T15:42:29.891Z"
   },
   {
    "duration": 9,
    "start_time": "2025-04-01T15:42:29.899Z"
   },
   {
    "duration": 5,
    "start_time": "2025-04-01T15:42:29.909Z"
   },
   {
    "duration": 67,
    "start_time": "2025-04-01T15:42:29.916Z"
   },
   {
    "duration": 99,
    "start_time": "2025-04-01T17:08:20.889Z"
   },
   {
    "duration": 8,
    "start_time": "2025-04-01T17:08:32.750Z"
   },
   {
    "duration": 109,
    "start_time": "2025-04-01T17:09:50.856Z"
   },
   {
    "duration": 20,
    "start_time": "2025-04-01T17:10:12.283Z"
   },
   {
    "duration": 7,
    "start_time": "2025-04-01T17:10:22.774Z"
   },
   {
    "duration": 9,
    "start_time": "2025-04-01T17:10:44.966Z"
   },
   {
    "duration": 9,
    "start_time": "2025-04-01T17:10:49.450Z"
   },
   {
    "duration": 14,
    "start_time": "2025-04-01T17:16:25.951Z"
   },
   {
    "duration": 20,
    "start_time": "2025-04-01T17:18:48.168Z"
   },
   {
    "duration": 24,
    "start_time": "2025-04-01T17:19:16.211Z"
   },
   {
    "duration": 26,
    "start_time": "2025-04-01T17:20:04.384Z"
   },
   {
    "duration": 4,
    "start_time": "2025-04-01T17:21:04.502Z"
   },
   {
    "duration": 25,
    "start_time": "2025-04-01T17:23:15.752Z"
   },
   {
    "duration": 5,
    "start_time": "2025-04-01T17:25:19.336Z"
   },
   {
    "duration": 4,
    "start_time": "2025-04-01T17:31:12.353Z"
   },
   {
    "duration": 378,
    "start_time": "2025-04-01T17:31:59.086Z"
   },
   {
    "duration": 35,
    "start_time": "2025-04-01T17:31:59.466Z"
   },
   {
    "duration": 12,
    "start_time": "2025-04-01T17:31:59.502Z"
   },
   {
    "duration": 25,
    "start_time": "2025-04-01T17:31:59.515Z"
   },
   {
    "duration": 8,
    "start_time": "2025-04-01T17:31:59.543Z"
   },
   {
    "duration": 8,
    "start_time": "2025-04-01T17:31:59.553Z"
   },
   {
    "duration": 5,
    "start_time": "2025-04-01T17:31:59.563Z"
   },
   {
    "duration": 5,
    "start_time": "2025-04-01T17:31:59.569Z"
   },
   {
    "duration": 236,
    "start_time": "2025-04-01T17:31:59.575Z"
   },
   {
    "duration": 13,
    "start_time": "2025-04-01T17:31:59.812Z"
   },
   {
    "duration": 6,
    "start_time": "2025-04-01T17:31:59.826Z"
   },
   {
    "duration": 152,
    "start_time": "2025-04-01T17:31:59.834Z"
   },
   {
    "duration": 136,
    "start_time": "2025-04-01T17:31:59.988Z"
   },
   {
    "duration": 505,
    "start_time": "2025-04-01T17:32:00.127Z"
   },
   {
    "duration": 12,
    "start_time": "2025-04-01T17:32:00.634Z"
   },
   {
    "duration": 1488,
    "start_time": "2025-04-01T17:32:00.654Z"
   },
   {
    "duration": 19,
    "start_time": "2025-04-01T17:32:02.143Z"
   },
   {
    "duration": 22,
    "start_time": "2025-04-01T17:32:02.163Z"
   },
   {
    "duration": 111,
    "start_time": "2025-04-01T17:32:02.187Z"
   },
   {
    "duration": 13,
    "start_time": "2025-04-01T17:32:02.299Z"
   },
   {
    "duration": 125,
    "start_time": "2025-04-01T17:32:02.313Z"
   },
   {
    "duration": 81,
    "start_time": "2025-04-01T17:32:02.440Z"
   },
   {
    "duration": 119,
    "start_time": "2025-04-01T17:32:02.522Z"
   },
   {
    "duration": 162,
    "start_time": "2025-04-01T17:32:02.643Z"
   },
   {
    "duration": 11,
    "start_time": "2025-04-01T17:32:02.807Z"
   },
   {
    "duration": 38,
    "start_time": "2025-04-01T17:32:02.819Z"
   },
   {
    "duration": 10,
    "start_time": "2025-04-01T17:32:02.859Z"
   },
   {
    "duration": 17,
    "start_time": "2025-04-01T17:32:02.871Z"
   },
   {
    "duration": 95,
    "start_time": "2025-04-01T17:32:02.890Z"
   },
   {
    "duration": 24,
    "start_time": "2025-04-01T17:32:02.987Z"
   },
   {
    "duration": 12,
    "start_time": "2025-04-01T17:32:03.013Z"
   },
   {
    "duration": 37,
    "start_time": "2025-04-01T17:32:03.027Z"
   },
   {
    "duration": 25,
    "start_time": "2025-04-01T17:32:03.065Z"
   },
   {
    "duration": 7,
    "start_time": "2025-04-01T17:32:03.092Z"
   },
   {
    "duration": 9,
    "start_time": "2025-04-01T17:32:03.101Z"
   },
   {
    "duration": 5,
    "start_time": "2025-04-01T17:32:03.111Z"
   },
   {
    "duration": 24,
    "start_time": "2025-04-01T17:32:03.118Z"
   },
   {
    "duration": 25,
    "start_time": "2025-04-01T17:32:03.144Z"
   },
   {
    "duration": 3,
    "start_time": "2025-04-01T17:32:03.171Z"
   },
   {
    "duration": 13,
    "start_time": "2025-04-01T17:32:03.175Z"
   },
   {
    "duration": 421,
    "start_time": "2025-04-01T18:47:02.593Z"
   },
   {
    "duration": 69,
    "start_time": "2025-04-01T18:47:03.015Z"
   },
   {
    "duration": 20,
    "start_time": "2025-04-01T18:47:03.085Z"
   },
   {
    "duration": 12,
    "start_time": "2025-04-01T18:47:03.108Z"
   },
   {
    "duration": 7,
    "start_time": "2025-04-01T18:47:03.122Z"
   },
   {
    "duration": 13,
    "start_time": "2025-04-01T18:47:03.131Z"
   },
   {
    "duration": 17,
    "start_time": "2025-04-01T18:47:03.146Z"
   },
   {
    "duration": 9,
    "start_time": "2025-04-01T18:47:03.165Z"
   },
   {
    "duration": 422,
    "start_time": "2025-04-01T18:47:03.176Z"
   },
   {
    "duration": 15,
    "start_time": "2025-04-01T18:47:03.603Z"
   },
   {
    "duration": 6,
    "start_time": "2025-04-01T18:47:03.619Z"
   },
   {
    "duration": 145,
    "start_time": "2025-04-01T18:47:03.626Z"
   },
   {
    "duration": 117,
    "start_time": "2025-04-01T18:47:03.772Z"
   },
   {
    "duration": 462,
    "start_time": "2025-04-01T18:47:03.891Z"
   },
   {
    "duration": 11,
    "start_time": "2025-04-01T18:47:04.354Z"
   },
   {
    "duration": 1498,
    "start_time": "2025-04-01T18:47:04.366Z"
   },
   {
    "duration": 13,
    "start_time": "2025-04-01T18:47:05.865Z"
   },
   {
    "duration": 41,
    "start_time": "2025-04-01T18:47:05.879Z"
   },
   {
    "duration": 117,
    "start_time": "2025-04-01T18:47:05.922Z"
   },
   {
    "duration": 14,
    "start_time": "2025-04-01T18:47:06.040Z"
   },
   {
    "duration": 111,
    "start_time": "2025-04-01T18:47:06.055Z"
   },
   {
    "duration": 74,
    "start_time": "2025-04-01T18:47:06.168Z"
   },
   {
    "duration": 116,
    "start_time": "2025-04-01T18:47:06.243Z"
   },
   {
    "duration": 156,
    "start_time": "2025-04-01T18:47:06.361Z"
   },
   {
    "duration": 10,
    "start_time": "2025-04-01T18:47:06.519Z"
   },
   {
    "duration": 22,
    "start_time": "2025-04-01T18:47:06.530Z"
   },
   {
    "duration": 10,
    "start_time": "2025-04-01T18:47:06.554Z"
   },
   {
    "duration": 108,
    "start_time": "2025-04-01T18:47:06.567Z"
   },
   {
    "duration": 110,
    "start_time": "2025-04-01T18:47:06.677Z"
   },
   {
    "duration": 18,
    "start_time": "2025-04-01T18:47:06.788Z"
   },
   {
    "duration": 11,
    "start_time": "2025-04-01T18:47:06.808Z"
   },
   {
    "duration": 14,
    "start_time": "2025-04-01T18:47:06.821Z"
   },
   {
    "duration": 14,
    "start_time": "2025-04-01T18:47:06.836Z"
   },
   {
    "duration": 15,
    "start_time": "2025-04-01T18:47:06.851Z"
   },
   {
    "duration": 32,
    "start_time": "2025-04-01T18:47:06.867Z"
   },
   {
    "duration": 8,
    "start_time": "2025-04-01T18:47:06.901Z"
   },
   {
    "duration": 12,
    "start_time": "2025-04-01T18:47:06.910Z"
   },
   {
    "duration": 28,
    "start_time": "2025-04-01T18:47:06.923Z"
   },
   {
    "duration": 4,
    "start_time": "2025-04-01T18:47:06.952Z"
   },
   {
    "duration": 134,
    "start_time": "2025-04-01T18:47:06.958Z"
   },
   {
    "duration": 410,
    "start_time": "2025-04-01T19:00:30.308Z"
   },
   {
    "duration": 23,
    "start_time": "2025-04-01T19:00:30.720Z"
   },
   {
    "duration": 12,
    "start_time": "2025-04-01T19:00:30.745Z"
   },
   {
    "duration": 18,
    "start_time": "2025-04-01T19:00:30.759Z"
   },
   {
    "duration": 32,
    "start_time": "2025-04-01T19:00:30.779Z"
   },
   {
    "duration": 11,
    "start_time": "2025-04-01T19:00:30.813Z"
   },
   {
    "duration": 19,
    "start_time": "2025-04-01T19:00:30.825Z"
   },
   {
    "duration": 25,
    "start_time": "2025-04-01T19:00:30.845Z"
   },
   {
    "duration": 228,
    "start_time": "2025-04-01T19:00:30.872Z"
   },
   {
    "duration": 12,
    "start_time": "2025-04-01T19:00:31.102Z"
   },
   {
    "duration": 51,
    "start_time": "2025-04-01T19:00:31.115Z"
   },
   {
    "duration": 155,
    "start_time": "2025-04-01T19:00:31.167Z"
   },
   {
    "duration": 121,
    "start_time": "2025-04-01T19:00:31.324Z"
   },
   {
    "duration": 457,
    "start_time": "2025-04-01T19:00:31.448Z"
   },
   {
    "duration": 11,
    "start_time": "2025-04-01T19:00:31.907Z"
   },
   {
    "duration": 1473,
    "start_time": "2025-04-01T19:00:31.919Z"
   },
   {
    "duration": 17,
    "start_time": "2025-04-01T19:00:33.394Z"
   },
   {
    "duration": 121,
    "start_time": "2025-04-01T19:00:33.413Z"
   },
   {
    "duration": 144,
    "start_time": "2025-04-01T19:00:33.535Z"
   },
   {
    "duration": 25,
    "start_time": "2025-04-01T19:00:33.680Z"
   },
   {
    "duration": 104,
    "start_time": "2025-04-01T19:00:33.707Z"
   },
   {
    "duration": 73,
    "start_time": "2025-04-01T19:00:33.813Z"
   },
   {
    "duration": 117,
    "start_time": "2025-04-01T19:00:33.888Z"
   },
   {
    "duration": 157,
    "start_time": "2025-04-01T19:00:34.006Z"
   },
   {
    "duration": 11,
    "start_time": "2025-04-01T19:00:34.165Z"
   },
   {
    "duration": 32,
    "start_time": "2025-04-01T19:00:34.178Z"
   },
   {
    "duration": 10,
    "start_time": "2025-04-01T19:00:34.212Z"
   },
   {
    "duration": 14,
    "start_time": "2025-04-01T19:00:34.224Z"
   },
   {
    "duration": 97,
    "start_time": "2025-04-01T19:00:34.240Z"
   },
   {
    "duration": 21,
    "start_time": "2025-04-01T19:00:34.339Z"
   },
   {
    "duration": 25,
    "start_time": "2025-04-01T19:00:34.361Z"
   },
   {
    "duration": 32,
    "start_time": "2025-04-01T19:00:34.388Z"
   },
   {
    "duration": 65,
    "start_time": "2025-04-01T19:00:34.421Z"
   },
   {
    "duration": 8,
    "start_time": "2025-04-01T19:00:34.487Z"
   },
   {
    "duration": 22,
    "start_time": "2025-04-01T19:00:34.497Z"
   },
   {
    "duration": 9,
    "start_time": "2025-04-01T19:00:34.521Z"
   },
   {
    "duration": 17,
    "start_time": "2025-04-01T19:00:34.532Z"
   },
   {
    "duration": 39,
    "start_time": "2025-04-01T19:00:34.550Z"
   },
   {
    "duration": 17,
    "start_time": "2025-04-01T19:00:34.591Z"
   },
   {
    "duration": 107,
    "start_time": "2025-04-01T19:00:34.610Z"
   },
   {
    "duration": 430,
    "start_time": "2025-04-01T19:08:40.675Z"
   },
   {
    "duration": 23,
    "start_time": "2025-04-01T19:08:41.107Z"
   },
   {
    "duration": 52,
    "start_time": "2025-04-01T19:08:41.131Z"
   },
   {
    "duration": 9,
    "start_time": "2025-04-01T19:08:41.185Z"
   },
   {
    "duration": 8,
    "start_time": "2025-04-01T19:08:41.196Z"
   },
   {
    "duration": 4,
    "start_time": "2025-04-01T19:08:41.205Z"
   },
   {
    "duration": 6,
    "start_time": "2025-04-01T19:08:41.210Z"
   },
   {
    "duration": 5,
    "start_time": "2025-04-01T19:08:41.217Z"
   },
   {
    "duration": 224,
    "start_time": "2025-04-01T19:08:41.224Z"
   },
   {
    "duration": 12,
    "start_time": "2025-04-01T19:08:41.449Z"
   },
   {
    "duration": 89,
    "start_time": "2025-04-01T19:08:41.463Z"
   },
   {
    "duration": 125,
    "start_time": "2025-04-01T19:08:41.554Z"
   },
   {
    "duration": 110,
    "start_time": "2025-04-01T19:08:41.680Z"
   },
   {
    "duration": 457,
    "start_time": "2025-04-01T19:08:41.793Z"
   },
   {
    "duration": 11,
    "start_time": "2025-04-01T19:08:42.252Z"
   },
   {
    "duration": 1481,
    "start_time": "2025-04-01T19:08:42.264Z"
   },
   {
    "duration": 13,
    "start_time": "2025-04-01T19:08:43.747Z"
   },
   {
    "duration": 16,
    "start_time": "2025-04-01T19:08:43.761Z"
   },
   {
    "duration": 134,
    "start_time": "2025-04-01T19:08:43.779Z"
   },
   {
    "duration": 13,
    "start_time": "2025-04-01T19:08:43.915Z"
   },
   {
    "duration": 122,
    "start_time": "2025-04-01T19:08:43.930Z"
   },
   {
    "duration": 91,
    "start_time": "2025-04-01T19:08:44.054Z"
   },
   {
    "duration": 113,
    "start_time": "2025-04-01T19:08:44.147Z"
   },
   {
    "duration": 152,
    "start_time": "2025-04-01T19:08:44.262Z"
   },
   {
    "duration": 12,
    "start_time": "2025-04-01T19:08:44.416Z"
   },
   {
    "duration": 69,
    "start_time": "2025-04-01T19:08:44.430Z"
   },
   {
    "duration": 11,
    "start_time": "2025-04-01T19:08:44.501Z"
   },
   {
    "duration": 10,
    "start_time": "2025-04-01T19:08:44.514Z"
   },
   {
    "duration": 117,
    "start_time": "2025-04-01T19:08:44.525Z"
   },
   {
    "duration": 19,
    "start_time": "2025-04-01T19:08:44.644Z"
   },
   {
    "duration": 16,
    "start_time": "2025-04-01T19:08:44.665Z"
   },
   {
    "duration": 84,
    "start_time": "2025-04-01T19:08:44.682Z"
   },
   {
    "duration": 20,
    "start_time": "2025-04-01T19:08:44.769Z"
   },
   {
    "duration": 7,
    "start_time": "2025-04-01T19:08:44.791Z"
   },
   {
    "duration": 10,
    "start_time": "2025-04-01T19:08:44.800Z"
   },
   {
    "duration": 6,
    "start_time": "2025-04-01T19:08:44.811Z"
   },
   {
    "duration": 6,
    "start_time": "2025-04-01T19:08:44.818Z"
   },
   {
    "duration": 24,
    "start_time": "2025-04-01T19:08:44.826Z"
   },
   {
    "duration": 4,
    "start_time": "2025-04-01T19:08:44.852Z"
   },
   {
    "duration": 54,
    "start_time": "2025-04-01T19:08:44.857Z"
   },
   {
    "duration": 414,
    "start_time": "2025-04-02T17:19:09.270Z"
   },
   {
    "duration": 69,
    "start_time": "2025-04-02T17:19:09.686Z"
   },
   {
    "duration": 12,
    "start_time": "2025-04-02T17:19:09.757Z"
   },
   {
    "duration": 11,
    "start_time": "2025-04-02T17:19:09.771Z"
   },
   {
    "duration": 20,
    "start_time": "2025-04-02T17:19:09.784Z"
   },
   {
    "duration": 3,
    "start_time": "2025-04-02T17:19:09.806Z"
   },
   {
    "duration": 4,
    "start_time": "2025-04-02T17:19:09.811Z"
   },
   {
    "duration": 4,
    "start_time": "2025-04-02T17:19:09.817Z"
   },
   {
    "duration": 256,
    "start_time": "2025-04-02T17:19:09.822Z"
   },
   {
    "duration": 13,
    "start_time": "2025-04-02T17:19:10.081Z"
   },
   {
    "duration": 11,
    "start_time": "2025-04-02T17:19:10.095Z"
   },
   {
    "duration": 150,
    "start_time": "2025-04-02T17:19:10.107Z"
   },
   {
    "duration": 138,
    "start_time": "2025-04-02T17:19:10.260Z"
   },
   {
    "duration": 440,
    "start_time": "2025-04-02T17:19:10.399Z"
   },
   {
    "duration": 12,
    "start_time": "2025-04-02T17:19:10.841Z"
   },
   {
    "duration": 1568,
    "start_time": "2025-04-02T17:19:10.855Z"
   },
   {
    "duration": 19,
    "start_time": "2025-04-02T17:19:12.426Z"
   },
   {
    "duration": 27,
    "start_time": "2025-04-02T17:19:12.447Z"
   },
   {
    "duration": 121,
    "start_time": "2025-04-02T17:19:12.476Z"
   },
   {
    "duration": 15,
    "start_time": "2025-04-02T17:19:12.598Z"
   },
   {
    "duration": 119,
    "start_time": "2025-04-02T17:19:12.615Z"
   },
   {
    "duration": 85,
    "start_time": "2025-04-02T17:19:12.735Z"
   },
   {
    "duration": 136,
    "start_time": "2025-04-02T17:19:12.822Z"
   },
   {
    "duration": 166,
    "start_time": "2025-04-02T17:19:12.960Z"
   },
   {
    "duration": 12,
    "start_time": "2025-04-02T17:19:13.128Z"
   },
   {
    "duration": 42,
    "start_time": "2025-04-02T17:19:13.142Z"
   },
   {
    "duration": 12,
    "start_time": "2025-04-02T17:19:13.186Z"
   },
   {
    "duration": 8,
    "start_time": "2025-04-02T17:19:13.203Z"
   },
   {
    "duration": 123,
    "start_time": "2025-04-02T17:19:13.212Z"
   },
   {
    "duration": 18,
    "start_time": "2025-04-02T17:19:13.336Z"
   },
   {
    "duration": 28,
    "start_time": "2025-04-02T17:19:13.355Z"
   },
   {
    "duration": 16,
    "start_time": "2025-04-02T17:19:13.385Z"
   },
   {
    "duration": 15,
    "start_time": "2025-04-02T17:19:13.402Z"
   },
   {
    "duration": 7,
    "start_time": "2025-04-02T17:19:13.419Z"
   },
   {
    "duration": 20,
    "start_time": "2025-04-02T17:19:13.427Z"
   },
   {
    "duration": 23,
    "start_time": "2025-04-02T17:19:13.449Z"
   },
   {
    "duration": 4,
    "start_time": "2025-04-02T17:19:13.474Z"
   },
   {
    "duration": 24,
    "start_time": "2025-04-02T17:19:13.479Z"
   },
   {
    "duration": 4,
    "start_time": "2025-04-02T17:19:13.505Z"
   },
   {
    "duration": 13,
    "start_time": "2025-04-02T17:19:13.510Z"
   },
   {
    "duration": 6,
    "start_time": "2025-04-02T17:20:14.148Z"
   },
   {
    "duration": 3,
    "start_time": "2025-04-02T17:20:46.497Z"
   },
   {
    "duration": 38,
    "start_time": "2025-04-02T17:20:46.502Z"
   },
   {
    "duration": 13,
    "start_time": "2025-04-02T17:20:46.541Z"
   },
   {
    "duration": 6,
    "start_time": "2025-04-02T17:20:46.556Z"
   },
   {
    "duration": 6,
    "start_time": "2025-04-02T17:20:46.564Z"
   },
   {
    "duration": 3,
    "start_time": "2025-04-02T17:20:46.572Z"
   },
   {
    "duration": 4,
    "start_time": "2025-04-02T17:20:46.577Z"
   },
   {
    "duration": 4,
    "start_time": "2025-04-02T17:20:46.582Z"
   },
   {
    "duration": 5,
    "start_time": "2025-04-02T17:20:46.588Z"
   },
   {
    "duration": 11,
    "start_time": "2025-04-02T17:20:46.594Z"
   },
   {
    "duration": 5,
    "start_time": "2025-04-02T17:20:46.606Z"
   },
   {
    "duration": 149,
    "start_time": "2025-04-02T17:20:46.613Z"
   },
   {
    "duration": 114,
    "start_time": "2025-04-02T17:20:46.772Z"
   },
   {
    "duration": 3,
    "start_time": "2025-04-02T17:20:46.889Z"
   },
   {
    "duration": 16,
    "start_time": "2025-04-02T17:20:46.893Z"
   },
   {
    "duration": 1385,
    "start_time": "2025-04-02T17:20:46.911Z"
   },
   {
    "duration": 13,
    "start_time": "2025-04-02T17:20:48.297Z"
   },
   {
    "duration": 20,
    "start_time": "2025-04-02T17:20:48.312Z"
   },
   {
    "duration": 126,
    "start_time": "2025-04-02T17:20:48.334Z"
   },
   {
    "duration": 17,
    "start_time": "2025-04-02T17:20:48.462Z"
   },
   {
    "duration": 110,
    "start_time": "2025-04-02T17:20:48.481Z"
   },
   {
    "duration": 13,
    "start_time": "2025-04-02T17:20:48.592Z"
   },
   {
    "duration": 75,
    "start_time": "2025-04-02T17:20:48.606Z"
   },
   {
    "duration": 110,
    "start_time": "2025-04-02T17:20:48.683Z"
   },
   {
    "duration": 150,
    "start_time": "2025-04-02T17:20:48.794Z"
   },
   {
    "duration": 11,
    "start_time": "2025-04-02T17:20:48.946Z"
   },
   {
    "duration": 32,
    "start_time": "2025-04-02T17:20:48.959Z"
   },
   {
    "duration": 10,
    "start_time": "2025-04-02T17:20:48.993Z"
   },
   {
    "duration": 8,
    "start_time": "2025-04-02T17:20:49.005Z"
   },
   {
    "duration": 105,
    "start_time": "2025-04-02T17:20:49.014Z"
   },
   {
    "duration": 19,
    "start_time": "2025-04-02T17:20:49.120Z"
   },
   {
    "duration": 12,
    "start_time": "2025-04-02T17:20:49.140Z"
   },
   {
    "duration": 31,
    "start_time": "2025-04-02T17:20:49.154Z"
   },
   {
    "duration": 5,
    "start_time": "2025-04-02T17:20:49.187Z"
   },
   {
    "duration": 14,
    "start_time": "2025-04-02T17:20:49.193Z"
   },
   {
    "duration": 7,
    "start_time": "2025-04-02T17:20:49.208Z"
   },
   {
    "duration": 9,
    "start_time": "2025-04-02T17:20:49.216Z"
   },
   {
    "duration": 5,
    "start_time": "2025-04-02T17:20:49.226Z"
   },
   {
    "duration": 4,
    "start_time": "2025-04-02T17:20:49.273Z"
   },
   {
    "duration": 23,
    "start_time": "2025-04-02T17:20:49.278Z"
   },
   {
    "duration": 4,
    "start_time": "2025-04-02T17:20:49.305Z"
   },
   {
    "duration": 11,
    "start_time": "2025-04-02T17:20:49.310Z"
   },
   {
    "duration": 436,
    "start_time": "2025-04-02T17:21:14.850Z"
   },
   {
    "duration": 23,
    "start_time": "2025-04-02T17:21:15.288Z"
   },
   {
    "duration": 73,
    "start_time": "2025-04-02T17:21:15.313Z"
   },
   {
    "duration": 101,
    "start_time": "2025-04-02T17:21:15.388Z"
   },
   {
    "duration": 9,
    "start_time": "2025-04-02T17:21:15.493Z"
   },
   {
    "duration": 14,
    "start_time": "2025-04-02T17:21:15.503Z"
   },
   {
    "duration": 5,
    "start_time": "2025-04-02T17:21:15.518Z"
   },
   {
    "duration": 9,
    "start_time": "2025-04-02T17:21:15.524Z"
   },
   {
    "duration": 259,
    "start_time": "2025-04-02T17:21:15.534Z"
   },
   {
    "duration": 12,
    "start_time": "2025-04-02T17:21:15.795Z"
   },
   {
    "duration": 6,
    "start_time": "2025-04-02T17:21:15.809Z"
   },
   {
    "duration": 140,
    "start_time": "2025-04-02T17:21:15.818Z"
   },
   {
    "duration": 138,
    "start_time": "2025-04-02T17:21:15.959Z"
   },
   {
    "duration": 493,
    "start_time": "2025-04-02T17:21:16.099Z"
   },
   {
    "duration": 12,
    "start_time": "2025-04-02T17:21:16.594Z"
   },
   {
    "duration": 1387,
    "start_time": "2025-04-02T17:21:16.607Z"
   },
   {
    "duration": 13,
    "start_time": "2025-04-02T17:21:17.996Z"
   },
   {
    "duration": 21,
    "start_time": "2025-04-02T17:21:18.010Z"
   },
   {
    "duration": 114,
    "start_time": "2025-04-02T17:21:18.033Z"
   },
   {
    "duration": 13,
    "start_time": "2025-04-02T17:21:18.149Z"
   },
   {
    "duration": 123,
    "start_time": "2025-04-02T17:21:18.164Z"
   },
   {
    "duration": 89,
    "start_time": "2025-04-02T17:21:18.289Z"
   },
   {
    "duration": 111,
    "start_time": "2025-04-02T17:21:18.380Z"
   },
   {
    "duration": 157,
    "start_time": "2025-04-02T17:21:18.493Z"
   },
   {
    "duration": 12,
    "start_time": "2025-04-02T17:21:18.651Z"
   },
   {
    "duration": 24,
    "start_time": "2025-04-02T17:21:18.672Z"
   },
   {
    "duration": 11,
    "start_time": "2025-04-02T17:21:18.697Z"
   },
   {
    "duration": 6,
    "start_time": "2025-04-02T17:21:18.710Z"
   },
   {
    "duration": 109,
    "start_time": "2025-04-02T17:21:18.718Z"
   },
   {
    "duration": 18,
    "start_time": "2025-04-02T17:21:18.829Z"
   },
   {
    "duration": 29,
    "start_time": "2025-04-02T17:21:18.849Z"
   },
   {
    "duration": 17,
    "start_time": "2025-04-02T17:21:18.879Z"
   },
   {
    "duration": 5,
    "start_time": "2025-04-02T17:21:18.897Z"
   },
   {
    "duration": 16,
    "start_time": "2025-04-02T17:21:18.903Z"
   },
   {
    "duration": 7,
    "start_time": "2025-04-02T17:21:18.920Z"
   },
   {
    "duration": 8,
    "start_time": "2025-04-02T17:21:18.928Z"
   },
   {
    "duration": 5,
    "start_time": "2025-04-02T17:21:18.973Z"
   },
   {
    "duration": 6,
    "start_time": "2025-04-02T17:21:18.980Z"
   },
   {
    "duration": 24,
    "start_time": "2025-04-02T17:21:18.990Z"
   },
   {
    "duration": 3,
    "start_time": "2025-04-02T17:21:19.016Z"
   },
   {
    "duration": 17,
    "start_time": "2025-04-02T17:21:19.021Z"
   },
   {
    "duration": 60,
    "start_time": "2025-04-02T19:49:08.049Z"
   },
   {
    "duration": 414,
    "start_time": "2025-04-02T19:49:12.917Z"
   },
   {
    "duration": 37,
    "start_time": "2025-04-02T19:49:13.333Z"
   },
   {
    "duration": 13,
    "start_time": "2025-04-02T19:49:13.373Z"
   },
   {
    "duration": 25,
    "start_time": "2025-04-02T19:49:13.388Z"
   },
   {
    "duration": 26,
    "start_time": "2025-04-02T19:49:13.415Z"
   },
   {
    "duration": 18,
    "start_time": "2025-04-02T19:49:13.443Z"
   },
   {
    "duration": 24,
    "start_time": "2025-04-02T19:49:13.463Z"
   },
   {
    "duration": 32,
    "start_time": "2025-04-02T19:49:13.490Z"
   },
   {
    "duration": 478,
    "start_time": "2025-04-02T19:49:13.524Z"
   },
   {
    "duration": 16,
    "start_time": "2025-04-02T19:49:14.004Z"
   },
   {
    "duration": 7,
    "start_time": "2025-04-02T19:49:14.022Z"
   },
   {
    "duration": 160,
    "start_time": "2025-04-02T19:49:14.030Z"
   },
   {
    "duration": 140,
    "start_time": "2025-04-02T19:49:14.192Z"
   },
   {
    "duration": 531,
    "start_time": "2025-04-02T19:49:14.335Z"
   },
   {
    "duration": 13,
    "start_time": "2025-04-02T19:49:14.868Z"
   },
   {
    "duration": 1670,
    "start_time": "2025-04-02T19:49:14.882Z"
   },
   {
    "duration": 14,
    "start_time": "2025-04-02T19:49:16.553Z"
   },
   {
    "duration": 23,
    "start_time": "2025-04-02T19:49:16.569Z"
   },
   {
    "duration": 142,
    "start_time": "2025-04-02T19:49:16.594Z"
   },
   {
    "duration": 14,
    "start_time": "2025-04-02T19:49:16.738Z"
   },
   {
    "duration": 129,
    "start_time": "2025-04-02T19:49:16.754Z"
   },
   {
    "duration": 96,
    "start_time": "2025-04-02T19:49:16.885Z"
   },
   {
    "duration": 124,
    "start_time": "2025-04-02T19:49:16.983Z"
   },
   {
    "duration": 177,
    "start_time": "2025-04-02T19:49:17.109Z"
   },
   {
    "duration": 21,
    "start_time": "2025-04-02T19:49:17.288Z"
   },
   {
    "duration": 128,
    "start_time": "2025-04-02T19:49:17.310Z"
   },
   {
    "duration": 12,
    "start_time": "2025-04-02T19:49:17.439Z"
   },
   {
    "duration": 10,
    "start_time": "2025-04-02T19:49:17.453Z"
   },
   {
    "duration": 111,
    "start_time": "2025-04-02T19:49:17.465Z"
   },
   {
    "duration": 31,
    "start_time": "2025-04-02T19:49:17.579Z"
   },
   {
    "duration": 19,
    "start_time": "2025-04-02T19:49:17.612Z"
   },
   {
    "duration": 17,
    "start_time": "2025-04-02T19:49:17.633Z"
   },
   {
    "duration": 5,
    "start_time": "2025-04-02T19:49:17.651Z"
   },
   {
    "duration": 17,
    "start_time": "2025-04-02T19:49:17.658Z"
   },
   {
    "duration": 36,
    "start_time": "2025-04-02T19:49:17.677Z"
   },
   {
    "duration": 9,
    "start_time": "2025-04-02T19:49:17.715Z"
   },
   {
    "duration": 11,
    "start_time": "2025-04-02T19:49:17.726Z"
   },
   {
    "duration": 8,
    "start_time": "2025-04-02T19:49:17.739Z"
   },
   {
    "duration": 27,
    "start_time": "2025-04-02T19:49:17.748Z"
   },
   {
    "duration": 4,
    "start_time": "2025-04-02T19:49:17.805Z"
   },
   {
    "duration": 14,
    "start_time": "2025-04-02T19:49:17.814Z"
   },
   {
    "duration": 125,
    "start_time": "2025-04-02T19:49:31.595Z"
   },
   {
    "duration": 73,
    "start_time": "2025-04-02T19:50:14.654Z"
   },
   {
    "duration": 58,
    "start_time": "2025-04-03T09:28:02.020Z"
   },
   {
    "duration": 392,
    "start_time": "2025-04-03T09:28:07.498Z"
   },
   {
    "duration": 61,
    "start_time": "2025-04-03T09:28:07.892Z"
   },
   {
    "duration": 20,
    "start_time": "2025-04-03T09:28:07.955Z"
   },
   {
    "duration": 11,
    "start_time": "2025-04-03T09:28:07.977Z"
   },
   {
    "duration": 7,
    "start_time": "2025-04-03T09:28:07.990Z"
   },
   {
    "duration": 3,
    "start_time": "2025-04-03T09:28:07.999Z"
   },
   {
    "duration": 5,
    "start_time": "2025-04-03T09:28:08.004Z"
   },
   {
    "duration": 4,
    "start_time": "2025-04-03T09:28:08.011Z"
   },
   {
    "duration": 467,
    "start_time": "2025-04-03T09:28:08.016Z"
   },
   {
    "duration": 15,
    "start_time": "2025-04-03T09:28:08.485Z"
   },
   {
    "duration": 6,
    "start_time": "2025-04-03T09:28:08.502Z"
   },
   {
    "duration": 151,
    "start_time": "2025-04-03T09:28:08.509Z"
   },
   {
    "duration": 133,
    "start_time": "2025-04-03T09:28:08.662Z"
   },
   {
    "duration": 509,
    "start_time": "2025-04-03T09:28:08.798Z"
   },
   {
    "duration": 12,
    "start_time": "2025-04-03T09:28:09.308Z"
   },
   {
    "duration": 1623,
    "start_time": "2025-04-03T09:28:09.322Z"
   },
   {
    "duration": 25,
    "start_time": "2025-04-03T09:28:10.947Z"
   },
   {
    "duration": 48,
    "start_time": "2025-04-03T09:28:10.975Z"
   },
   {
    "duration": 142,
    "start_time": "2025-04-03T09:28:11.024Z"
   },
   {
    "duration": 98,
    "start_time": "2025-04-03T09:28:11.168Z"
   },
   {
    "duration": 156,
    "start_time": "2025-04-03T09:28:11.268Z"
   },
   {
    "duration": 86,
    "start_time": "2025-04-03T09:28:11.425Z"
   },
   {
    "duration": 134,
    "start_time": "2025-04-03T09:28:11.516Z"
   },
   {
    "duration": 182,
    "start_time": "2025-04-03T09:28:11.652Z"
   },
   {
    "duration": 13,
    "start_time": "2025-04-03T09:28:11.835Z"
   },
   {
    "duration": 29,
    "start_time": "2025-04-03T09:28:11.859Z"
   },
   {
    "duration": 11,
    "start_time": "2025-04-03T09:28:11.890Z"
   },
   {
    "duration": 8,
    "start_time": "2025-04-03T09:28:11.903Z"
   },
   {
    "duration": 128,
    "start_time": "2025-04-03T09:28:11.912Z"
   },
   {
    "duration": 33,
    "start_time": "2025-04-03T09:28:12.042Z"
   },
   {
    "duration": 13,
    "start_time": "2025-04-03T09:28:12.076Z"
   },
   {
    "duration": 18,
    "start_time": "2025-04-03T09:28:12.090Z"
   },
   {
    "duration": 4,
    "start_time": "2025-04-03T09:28:12.109Z"
   },
   {
    "duration": 15,
    "start_time": "2025-04-03T09:28:12.115Z"
   },
   {
    "duration": 28,
    "start_time": "2025-04-03T09:28:12.131Z"
   },
   {
    "duration": 15,
    "start_time": "2025-04-03T09:28:12.161Z"
   },
   {
    "duration": 7,
    "start_time": "2025-04-03T09:28:12.178Z"
   },
   {
    "duration": 107,
    "start_time": "2025-04-03T09:28:12.186Z"
   },
   {
    "duration": 24,
    "start_time": "2025-04-03T09:28:12.295Z"
   },
   {
    "duration": 4,
    "start_time": "2025-04-03T09:28:12.321Z"
   },
   {
    "duration": 12,
    "start_time": "2025-04-03T09:28:12.330Z"
   },
   {
    "duration": 383,
    "start_time": "2025-04-03T09:58:17.887Z"
   },
   {
    "duration": 35,
    "start_time": "2025-04-03T09:58:18.272Z"
   },
   {
    "duration": 12,
    "start_time": "2025-04-03T09:58:18.309Z"
   },
   {
    "duration": 15,
    "start_time": "2025-04-03T09:58:18.323Z"
   },
   {
    "duration": 8,
    "start_time": "2025-04-03T09:58:18.340Z"
   },
   {
    "duration": 9,
    "start_time": "2025-04-03T09:58:18.349Z"
   },
   {
    "duration": 9,
    "start_time": "2025-04-03T09:58:18.360Z"
   },
   {
    "duration": 27,
    "start_time": "2025-04-03T09:58:18.370Z"
   },
   {
    "duration": 244,
    "start_time": "2025-04-03T09:58:18.399Z"
   },
   {
    "duration": 13,
    "start_time": "2025-04-03T09:58:18.645Z"
   },
   {
    "duration": 44,
    "start_time": "2025-04-03T09:58:18.660Z"
   },
   {
    "duration": 134,
    "start_time": "2025-04-03T09:58:18.706Z"
   },
   {
    "duration": 127,
    "start_time": "2025-04-03T09:58:18.842Z"
   },
   {
    "duration": 447,
    "start_time": "2025-04-03T09:58:18.972Z"
   },
   {
    "duration": 12,
    "start_time": "2025-04-03T09:58:19.420Z"
   },
   {
    "duration": 1688,
    "start_time": "2025-04-03T09:58:19.434Z"
   },
   {
    "duration": 13,
    "start_time": "2025-04-03T09:58:21.123Z"
   },
   {
    "duration": 99,
    "start_time": "2025-04-03T09:58:21.137Z"
   },
   {
    "duration": 120,
    "start_time": "2025-04-03T09:58:21.237Z"
   },
   {
    "duration": 13,
    "start_time": "2025-04-03T09:58:21.358Z"
   },
   {
    "duration": 126,
    "start_time": "2025-04-03T09:58:21.372Z"
   },
   {
    "duration": 326,
    "start_time": "2025-04-03T09:58:21.499Z"
   },
   {
    "duration": 459,
    "start_time": "2025-04-03T09:58:21.827Z"
   },
   {
    "duration": 11,
    "start_time": "2025-04-03T09:58:22.288Z"
   },
   {
    "duration": 22,
    "start_time": "2025-04-03T09:58:22.301Z"
   },
   {
    "duration": 34,
    "start_time": "2025-04-03T09:58:22.325Z"
   },
   {
    "duration": 55,
    "start_time": "2025-04-03T09:58:22.361Z"
   },
   {
    "duration": 182,
    "start_time": "2025-04-03T09:58:22.418Z"
   },
   {
    "duration": 22,
    "start_time": "2025-04-03T09:58:22.602Z"
   },
   {
    "duration": 32,
    "start_time": "2025-04-03T09:58:22.626Z"
   },
   {
    "duration": 23,
    "start_time": "2025-04-03T09:58:22.659Z"
   },
   {
    "duration": 39,
    "start_time": "2025-04-03T09:58:22.684Z"
   },
   {
    "duration": 16,
    "start_time": "2025-04-03T09:58:22.725Z"
   },
   {
    "duration": 7,
    "start_time": "2025-04-03T09:58:22.742Z"
   },
   {
    "duration": 14,
    "start_time": "2025-04-03T09:58:22.750Z"
   },
   {
    "duration": 6,
    "start_time": "2025-04-03T09:58:22.766Z"
   },
   {
    "duration": 4,
    "start_time": "2025-04-03T09:58:22.773Z"
   },
   {
    "duration": 50,
    "start_time": "2025-04-03T09:58:22.778Z"
   },
   {
    "duration": 4,
    "start_time": "2025-04-03T09:58:22.857Z"
   },
   {
    "duration": 13,
    "start_time": "2025-04-03T09:58:22.863Z"
   },
   {
    "duration": 15,
    "start_time": "2025-04-03T10:01:38.188Z"
   },
   {
    "duration": 94,
    "start_time": "2025-04-03T10:04:40.481Z"
   },
   {
    "duration": 8,
    "start_time": "2025-04-03T10:04:45.539Z"
   },
   {
    "duration": 5,
    "start_time": "2025-04-03T11:16:06.009Z"
   },
   {
    "duration": 6,
    "start_time": "2025-04-03T11:16:11.239Z"
   },
   {
    "duration": 6,
    "start_time": "2025-04-03T11:16:32.583Z"
   },
   {
    "duration": 432,
    "start_time": "2025-04-03T11:17:31.369Z"
   },
   {
    "duration": 25,
    "start_time": "2025-04-03T11:17:31.803Z"
   },
   {
    "duration": 12,
    "start_time": "2025-04-03T11:17:31.830Z"
   },
   {
    "duration": 32,
    "start_time": "2025-04-03T11:17:31.844Z"
   },
   {
    "duration": 11,
    "start_time": "2025-04-03T11:17:31.878Z"
   },
   {
    "duration": 5,
    "start_time": "2025-04-03T11:17:31.891Z"
   },
   {
    "duration": 5,
    "start_time": "2025-04-03T11:17:31.898Z"
   },
   {
    "duration": 5,
    "start_time": "2025-04-03T11:17:31.905Z"
   },
   {
    "duration": 261,
    "start_time": "2025-04-03T11:17:31.911Z"
   },
   {
    "duration": 13,
    "start_time": "2025-04-03T11:17:32.174Z"
   },
   {
    "duration": 6,
    "start_time": "2025-04-03T11:17:32.189Z"
   },
   {
    "duration": 150,
    "start_time": "2025-04-03T11:17:32.196Z"
   },
   {
    "duration": 131,
    "start_time": "2025-04-03T11:17:32.348Z"
   },
   {
    "duration": 440,
    "start_time": "2025-04-03T11:17:32.482Z"
   },
   {
    "duration": 12,
    "start_time": "2025-04-03T11:17:32.923Z"
   },
   {
    "duration": 1865,
    "start_time": "2025-04-03T11:17:32.936Z"
   },
   {
    "duration": 12,
    "start_time": "2025-04-03T11:17:34.803Z"
   },
   {
    "duration": 11,
    "start_time": "2025-04-03T11:17:34.816Z"
   },
   {
    "duration": 142,
    "start_time": "2025-04-03T11:17:34.828Z"
   },
   {
    "duration": 13,
    "start_time": "2025-04-03T11:17:34.972Z"
   },
   {
    "duration": 129,
    "start_time": "2025-04-03T11:17:34.986Z"
   },
   {
    "duration": 9,
    "start_time": "2025-04-03T11:17:35.117Z"
   },
   {
    "duration": 375,
    "start_time": "2025-04-03T11:17:35.128Z"
   },
   {
    "duration": 475,
    "start_time": "2025-04-03T11:17:35.505Z"
   },
   {
    "duration": 12,
    "start_time": "2025-04-03T11:17:35.981Z"
   },
   {
    "duration": 32,
    "start_time": "2025-04-03T11:17:35.995Z"
   },
   {
    "duration": 5,
    "start_time": "2025-04-03T11:17:36.029Z"
   },
   {
    "duration": 29,
    "start_time": "2025-04-03T11:17:36.036Z"
   },
   {
    "duration": 15,
    "start_time": "2025-04-03T11:17:36.066Z"
   },
   {
    "duration": 232,
    "start_time": "2025-04-03T11:17:36.083Z"
   },
   {
    "duration": 22,
    "start_time": "2025-04-03T11:17:36.317Z"
   },
   {
    "duration": 35,
    "start_time": "2025-04-03T11:17:36.340Z"
   },
   {
    "duration": 42,
    "start_time": "2025-04-03T11:17:36.376Z"
   },
   {
    "duration": 6,
    "start_time": "2025-04-03T11:17:36.420Z"
   },
   {
    "duration": 45,
    "start_time": "2025-04-03T11:17:36.428Z"
   },
   {
    "duration": 7,
    "start_time": "2025-04-03T11:17:36.475Z"
   },
   {
    "duration": 20,
    "start_time": "2025-04-03T11:17:36.483Z"
   },
   {
    "duration": 6,
    "start_time": "2025-04-03T11:17:36.504Z"
   },
   {
    "duration": 10,
    "start_time": "2025-04-03T11:17:36.511Z"
   },
   {
    "duration": 72,
    "start_time": "2025-04-03T11:17:36.522Z"
   },
   {
    "duration": 4,
    "start_time": "2025-04-03T11:17:36.597Z"
   },
   {
    "duration": 27,
    "start_time": "2025-04-03T11:17:36.602Z"
   },
   {
    "duration": 5,
    "start_time": "2025-04-03T11:18:10.216Z"
   },
   {
    "duration": 7,
    "start_time": "2025-04-03T11:18:18.349Z"
   },
   {
    "duration": 6,
    "start_time": "2025-04-03T11:18:24.675Z"
   },
   {
    "duration": 8,
    "start_time": "2025-04-03T11:20:03.932Z"
   },
   {
    "duration": 8,
    "start_time": "2025-04-03T11:20:20.948Z"
   },
   {
    "duration": 379,
    "start_time": "2025-04-03T11:20:44.695Z"
   },
   {
    "duration": 24,
    "start_time": "2025-04-03T11:20:45.076Z"
   },
   {
    "duration": 13,
    "start_time": "2025-04-03T11:20:45.102Z"
   },
   {
    "duration": 19,
    "start_time": "2025-04-03T11:20:45.116Z"
   },
   {
    "duration": 18,
    "start_time": "2025-04-03T11:20:45.137Z"
   },
   {
    "duration": 25,
    "start_time": "2025-04-03T11:20:45.157Z"
   },
   {
    "duration": 11,
    "start_time": "2025-04-03T11:20:45.183Z"
   },
   {
    "duration": 7,
    "start_time": "2025-04-03T11:20:45.196Z"
   },
   {
    "duration": 236,
    "start_time": "2025-04-03T11:20:45.208Z"
   },
   {
    "duration": 17,
    "start_time": "2025-04-03T11:20:45.445Z"
   },
   {
    "duration": 42,
    "start_time": "2025-04-03T11:20:45.464Z"
   },
   {
    "duration": 128,
    "start_time": "2025-04-03T11:20:45.508Z"
   },
   {
    "duration": 112,
    "start_time": "2025-04-03T11:20:45.638Z"
   },
   {
    "duration": 469,
    "start_time": "2025-04-03T11:20:45.758Z"
   },
   {
    "duration": 13,
    "start_time": "2025-04-03T11:20:46.229Z"
   },
   {
    "duration": 1886,
    "start_time": "2025-04-03T11:20:46.244Z"
   },
   {
    "duration": 13,
    "start_time": "2025-04-03T11:20:48.131Z"
   },
   {
    "duration": 22,
    "start_time": "2025-04-03T11:20:48.146Z"
   },
   {
    "duration": 127,
    "start_time": "2025-04-03T11:20:48.170Z"
   },
   {
    "duration": 14,
    "start_time": "2025-04-03T11:20:48.299Z"
   },
   {
    "duration": 123,
    "start_time": "2025-04-03T11:20:48.314Z"
   },
   {
    "duration": 8,
    "start_time": "2025-04-03T11:20:48.439Z"
   },
   {
    "duration": 340,
    "start_time": "2025-04-03T11:20:48.448Z"
   },
   {
    "duration": 469,
    "start_time": "2025-04-03T11:20:48.790Z"
   },
   {
    "duration": 11,
    "start_time": "2025-04-03T11:20:49.261Z"
   },
   {
    "duration": 239,
    "start_time": "2025-04-03T11:20:49.273Z"
   },
   {
    "duration": 7,
    "start_time": "2025-04-03T11:20:49.514Z"
   },
   {
    "duration": 117,
    "start_time": "2025-04-03T11:20:49.523Z"
   },
   {
    "duration": 9,
    "start_time": "2025-04-03T11:20:49.642Z"
   },
   {
    "duration": 238,
    "start_time": "2025-04-03T11:20:49.653Z"
   },
   {
    "duration": 22,
    "start_time": "2025-04-03T11:20:49.893Z"
   },
   {
    "duration": 13,
    "start_time": "2025-04-03T11:20:49.917Z"
   },
   {
    "duration": 43,
    "start_time": "2025-04-03T11:20:49.932Z"
   },
   {
    "duration": 5,
    "start_time": "2025-04-03T11:20:49.976Z"
   },
   {
    "duration": 17,
    "start_time": "2025-04-03T11:20:49.983Z"
   },
   {
    "duration": 7,
    "start_time": "2025-04-03T11:20:50.001Z"
   },
   {
    "duration": 21,
    "start_time": "2025-04-03T11:20:50.010Z"
   },
   {
    "duration": 6,
    "start_time": "2025-04-03T11:20:50.058Z"
   },
   {
    "duration": 15,
    "start_time": "2025-04-03T11:20:50.065Z"
   },
   {
    "duration": 58,
    "start_time": "2025-04-03T11:20:50.082Z"
   },
   {
    "duration": 4,
    "start_time": "2025-04-03T11:20:50.144Z"
   },
   {
    "duration": 24,
    "start_time": "2025-04-03T11:20:50.157Z"
   },
   {
    "duration": 19,
    "start_time": "2025-04-03T11:32:26.489Z"
   },
   {
    "duration": 5,
    "start_time": "2025-04-03T11:37:12.405Z"
   },
   {
    "duration": 12,
    "start_time": "2025-04-03T11:37:19.055Z"
   },
   {
    "duration": 444,
    "start_time": "2025-04-03T11:37:28.762Z"
   },
   {
    "duration": 36,
    "start_time": "2025-04-03T11:37:29.208Z"
   },
   {
    "duration": 12,
    "start_time": "2025-04-03T11:37:29.245Z"
   },
   {
    "duration": 72,
    "start_time": "2025-04-03T11:37:29.259Z"
   },
   {
    "duration": 73,
    "start_time": "2025-04-03T11:37:29.333Z"
   },
   {
    "duration": 28,
    "start_time": "2025-04-03T11:37:29.407Z"
   },
   {
    "duration": 111,
    "start_time": "2025-04-03T11:37:29.437Z"
   },
   {
    "duration": 5,
    "start_time": "2025-04-03T11:37:29.549Z"
   },
   {
    "duration": 239,
    "start_time": "2025-04-03T11:37:29.556Z"
   },
   {
    "duration": 12,
    "start_time": "2025-04-03T11:37:29.796Z"
   },
   {
    "duration": 6,
    "start_time": "2025-04-03T11:37:29.810Z"
   },
   {
    "duration": 156,
    "start_time": "2025-04-03T11:37:29.817Z"
   },
   {
    "duration": 149,
    "start_time": "2025-04-03T11:37:29.976Z"
   },
   {
    "duration": 505,
    "start_time": "2025-04-03T11:37:30.128Z"
   },
   {
    "duration": 13,
    "start_time": "2025-04-03T11:37:30.634Z"
   },
   {
    "duration": 2310,
    "start_time": "2025-04-03T11:37:30.648Z"
   },
   {
    "duration": 14,
    "start_time": "2025-04-03T11:37:32.959Z"
   },
   {
    "duration": 12,
    "start_time": "2025-04-03T11:37:32.975Z"
   },
   {
    "duration": 131,
    "start_time": "2025-04-03T11:37:32.989Z"
   },
   {
    "duration": 12,
    "start_time": "2025-04-03T11:37:33.122Z"
   },
   {
    "duration": 123,
    "start_time": "2025-04-03T11:37:33.136Z"
   },
   {
    "duration": 9,
    "start_time": "2025-04-03T11:37:33.261Z"
   },
   {
    "duration": 388,
    "start_time": "2025-04-03T11:37:33.271Z"
   },
   {
    "duration": 498,
    "start_time": "2025-04-03T11:37:33.661Z"
   },
   {
    "duration": 12,
    "start_time": "2025-04-03T11:37:34.161Z"
   },
   {
    "duration": 40,
    "start_time": "2025-04-03T11:37:34.174Z"
   },
   {
    "duration": 20,
    "start_time": "2025-04-03T11:37:34.215Z"
   },
   {
    "duration": 21,
    "start_time": "2025-04-03T11:37:34.237Z"
   },
   {
    "duration": 11,
    "start_time": "2025-04-03T11:37:34.260Z"
   },
   {
    "duration": 12,
    "start_time": "2025-04-03T11:37:34.273Z"
   },
   {
    "duration": 241,
    "start_time": "2025-04-03T11:37:34.286Z"
   },
   {
    "duration": 32,
    "start_time": "2025-04-03T11:37:34.528Z"
   },
   {
    "duration": 27,
    "start_time": "2025-04-03T11:37:34.561Z"
   },
   {
    "duration": 23,
    "start_time": "2025-04-03T11:37:34.590Z"
   },
   {
    "duration": 6,
    "start_time": "2025-04-03T11:37:34.615Z"
   },
   {
    "duration": 38,
    "start_time": "2025-04-03T11:37:34.623Z"
   },
   {
    "duration": 7,
    "start_time": "2025-04-03T11:37:34.663Z"
   },
   {
    "duration": 26,
    "start_time": "2025-04-03T11:37:34.672Z"
   },
   {
    "duration": 6,
    "start_time": "2025-04-03T11:37:34.699Z"
   },
   {
    "duration": 11,
    "start_time": "2025-04-03T11:37:34.706Z"
   },
   {
    "duration": 66,
    "start_time": "2025-04-03T11:37:34.720Z"
   },
   {
    "duration": 4,
    "start_time": "2025-04-03T11:37:34.788Z"
   },
   {
    "duration": 86,
    "start_time": "2025-04-03T11:37:34.794Z"
   },
   {
    "duration": 23,
    "start_time": "2025-04-03T11:44:56.422Z"
   },
   {
    "duration": 6,
    "start_time": "2025-04-03T11:45:30.463Z"
   },
   {
    "duration": 23,
    "start_time": "2025-04-03T11:45:40.962Z"
   },
   {
    "duration": 7,
    "start_time": "2025-04-03T11:45:43.888Z"
   },
   {
    "duration": 24,
    "start_time": "2025-04-03T11:46:09.789Z"
   },
   {
    "duration": 6,
    "start_time": "2025-04-03T11:46:12.508Z"
   },
   {
    "duration": 23,
    "start_time": "2025-04-03T11:47:14.308Z"
   },
   {
    "duration": 6,
    "start_time": "2025-04-03T11:47:16.406Z"
   },
   {
    "duration": 19,
    "start_time": "2025-04-03T11:47:42.273Z"
   },
   {
    "duration": 6,
    "start_time": "2025-04-03T11:47:46.648Z"
   },
   {
    "duration": 32,
    "start_time": "2025-04-03T11:48:08.161Z"
   },
   {
    "duration": 23,
    "start_time": "2025-04-03T11:48:46.306Z"
   },
   {
    "duration": 385,
    "start_time": "2025-04-03T11:53:31.393Z"
   },
   {
    "duration": 25,
    "start_time": "2025-04-03T11:53:31.779Z"
   },
   {
    "duration": 11,
    "start_time": "2025-04-03T11:53:31.806Z"
   },
   {
    "duration": 11,
    "start_time": "2025-04-03T11:53:31.819Z"
   },
   {
    "duration": 21,
    "start_time": "2025-04-03T11:53:31.832Z"
   },
   {
    "duration": 5,
    "start_time": "2025-04-03T11:53:31.855Z"
   },
   {
    "duration": 24,
    "start_time": "2025-04-03T11:53:31.862Z"
   },
   {
    "duration": 5,
    "start_time": "2025-04-03T11:53:31.887Z"
   },
   {
    "duration": 242,
    "start_time": "2025-04-03T11:53:31.894Z"
   },
   {
    "duration": 14,
    "start_time": "2025-04-03T11:53:32.137Z"
   },
   {
    "duration": 7,
    "start_time": "2025-04-03T11:53:32.157Z"
   },
   {
    "duration": 143,
    "start_time": "2025-04-03T11:53:32.165Z"
   },
   {
    "duration": 124,
    "start_time": "2025-04-03T11:53:32.309Z"
   },
   {
    "duration": 488,
    "start_time": "2025-04-03T11:53:32.437Z"
   },
   {
    "duration": 16,
    "start_time": "2025-04-03T11:53:32.926Z"
   },
   {
    "duration": 1756,
    "start_time": "2025-04-03T11:53:32.944Z"
   },
   {
    "duration": 12,
    "start_time": "2025-04-03T11:53:34.701Z"
   },
   {
    "duration": 10,
    "start_time": "2025-04-03T11:53:34.715Z"
   },
   {
    "duration": 142,
    "start_time": "2025-04-03T11:53:34.726Z"
   },
   {
    "duration": 16,
    "start_time": "2025-04-03T11:53:34.870Z"
   },
   {
    "duration": 228,
    "start_time": "2025-04-03T11:53:34.888Z"
   },
   {
    "duration": 9,
    "start_time": "2025-04-03T11:53:35.118Z"
   },
   {
    "duration": 381,
    "start_time": "2025-04-03T11:53:35.128Z"
   },
   {
    "duration": 480,
    "start_time": "2025-04-03T11:53:35.511Z"
   },
   {
    "duration": 11,
    "start_time": "2025-04-03T11:53:35.993Z"
   },
   {
    "duration": 33,
    "start_time": "2025-04-03T11:53:36.005Z"
   },
   {
    "duration": 31,
    "start_time": "2025-04-03T11:53:36.040Z"
   },
   {
    "duration": 5,
    "start_time": "2025-04-03T11:53:36.073Z"
   },
   {
    "duration": 17,
    "start_time": "2025-04-03T11:53:36.079Z"
   },
   {
    "duration": 18,
    "start_time": "2025-04-03T11:53:36.098Z"
   },
   {
    "duration": 232,
    "start_time": "2025-04-03T11:53:36.118Z"
   },
   {
    "duration": 28,
    "start_time": "2025-04-03T11:53:36.352Z"
   },
   {
    "duration": 14,
    "start_time": "2025-04-03T11:53:36.381Z"
   },
   {
    "duration": 24,
    "start_time": "2025-04-03T11:53:36.396Z"
   },
   {
    "duration": 5,
    "start_time": "2025-04-03T11:53:36.422Z"
   },
   {
    "duration": 47,
    "start_time": "2025-04-03T11:53:36.428Z"
   },
   {
    "duration": 7,
    "start_time": "2025-04-03T11:53:36.477Z"
   },
   {
    "duration": 14,
    "start_time": "2025-04-03T11:53:36.486Z"
   },
   {
    "duration": 6,
    "start_time": "2025-04-03T11:53:36.501Z"
   },
   {
    "duration": 8,
    "start_time": "2025-04-03T11:53:36.508Z"
   },
   {
    "duration": 82,
    "start_time": "2025-04-03T11:53:36.520Z"
   },
   {
    "duration": 4,
    "start_time": "2025-04-03T11:53:36.604Z"
   },
   {
    "duration": 26,
    "start_time": "2025-04-03T11:53:36.610Z"
   },
   {
    "duration": 4,
    "start_time": "2025-04-03T11:54:51.615Z"
   },
   {
    "duration": 5,
    "start_time": "2025-04-03T11:55:59.649Z"
   },
   {
    "duration": 385,
    "start_time": "2025-04-03T12:38:38.619Z"
   },
   {
    "duration": 23,
    "start_time": "2025-04-03T12:38:39.006Z"
   },
   {
    "duration": 22,
    "start_time": "2025-04-03T12:38:39.031Z"
   },
   {
    "duration": 57,
    "start_time": "2025-04-03T12:38:39.055Z"
   },
   {
    "duration": 9,
    "start_time": "2025-04-03T12:38:39.114Z"
   },
   {
    "duration": 4,
    "start_time": "2025-04-03T12:38:39.124Z"
   },
   {
    "duration": 10,
    "start_time": "2025-04-03T12:38:39.129Z"
   },
   {
    "duration": 5,
    "start_time": "2025-04-03T12:38:39.141Z"
   },
   {
    "duration": 250,
    "start_time": "2025-04-03T12:38:39.148Z"
   },
   {
    "duration": 13,
    "start_time": "2025-04-03T12:38:39.401Z"
   },
   {
    "duration": 57,
    "start_time": "2025-04-03T12:38:39.415Z"
   },
   {
    "duration": 127,
    "start_time": "2025-04-03T12:38:39.474Z"
   },
   {
    "duration": 123,
    "start_time": "2025-04-03T12:38:39.603Z"
   },
   {
    "duration": 498,
    "start_time": "2025-04-03T12:38:39.727Z"
   },
   {
    "duration": 11,
    "start_time": "2025-04-03T12:38:40.227Z"
   },
   {
    "duration": 1649,
    "start_time": "2025-04-03T12:38:40.239Z"
   },
   {
    "duration": 12,
    "start_time": "2025-04-03T12:38:41.890Z"
   },
   {
    "duration": 10,
    "start_time": "2025-04-03T12:38:41.904Z"
   },
   {
    "duration": 126,
    "start_time": "2025-04-03T12:38:41.915Z"
   },
   {
    "duration": 22,
    "start_time": "2025-04-03T12:38:42.043Z"
   },
   {
    "duration": 112,
    "start_time": "2025-04-03T12:38:42.067Z"
   },
   {
    "duration": 8,
    "start_time": "2025-04-03T12:38:42.180Z"
   },
   {
    "duration": 332,
    "start_time": "2025-04-03T12:38:42.189Z"
   },
   {
    "duration": 486,
    "start_time": "2025-04-03T12:38:42.523Z"
   },
   {
    "duration": 12,
    "start_time": "2025-04-03T12:38:43.010Z"
   },
   {
    "duration": 108,
    "start_time": "2025-04-03T12:38:43.023Z"
   },
   {
    "duration": 18,
    "start_time": "2025-04-03T12:38:43.133Z"
   },
   {
    "duration": 5,
    "start_time": "2025-04-03T12:38:43.155Z"
   },
   {
    "duration": 15,
    "start_time": "2025-04-03T12:38:43.161Z"
   },
   {
    "duration": 6,
    "start_time": "2025-04-03T12:38:43.178Z"
   },
   {
    "duration": 228,
    "start_time": "2025-04-03T12:38:43.186Z"
   },
   {
    "duration": 21,
    "start_time": "2025-04-03T12:38:43.416Z"
   },
   {
    "duration": 50,
    "start_time": "2025-04-03T12:38:43.438Z"
   },
   {
    "duration": 25,
    "start_time": "2025-04-03T12:38:43.489Z"
   },
   {
    "duration": 5,
    "start_time": "2025-04-03T12:38:43.516Z"
   },
   {
    "duration": 88,
    "start_time": "2025-04-03T12:38:43.523Z"
   },
   {
    "duration": 7,
    "start_time": "2025-04-03T12:38:43.613Z"
   },
   {
    "duration": 15,
    "start_time": "2025-04-03T12:38:43.622Z"
   },
   {
    "duration": 5,
    "start_time": "2025-04-03T12:38:43.639Z"
   },
   {
    "duration": 87,
    "start_time": "2025-04-03T12:38:43.646Z"
   },
   {
    "duration": 50,
    "start_time": "2025-04-03T12:38:43.735Z"
   },
   {
    "duration": 4,
    "start_time": "2025-04-03T12:38:43.787Z"
   },
   {
    "duration": 109,
    "start_time": "2025-04-03T12:38:43.792Z"
   },
   {
    "duration": 383,
    "start_time": "2025-04-03T14:10:38.485Z"
   },
   {
    "duration": 57,
    "start_time": "2025-04-03T14:10:38.869Z"
   },
   {
    "duration": 11,
    "start_time": "2025-04-03T14:10:38.927Z"
   },
   {
    "duration": 9,
    "start_time": "2025-04-03T14:10:38.940Z"
   },
   {
    "duration": 6,
    "start_time": "2025-04-03T14:10:38.951Z"
   },
   {
    "duration": 4,
    "start_time": "2025-04-03T14:10:38.958Z"
   },
   {
    "duration": 4,
    "start_time": "2025-04-03T14:10:38.963Z"
   },
   {
    "duration": 3,
    "start_time": "2025-04-03T14:10:38.968Z"
   },
   {
    "duration": 223,
    "start_time": "2025-04-03T14:10:38.973Z"
   },
   {
    "duration": 12,
    "start_time": "2025-04-03T14:10:39.197Z"
   },
   {
    "duration": 6,
    "start_time": "2025-04-03T14:10:39.211Z"
   },
   {
    "duration": 123,
    "start_time": "2025-04-03T14:10:39.218Z"
   },
   {
    "duration": 108,
    "start_time": "2025-04-03T14:10:39.343Z"
   },
   {
    "duration": 439,
    "start_time": "2025-04-03T14:10:39.454Z"
   },
   {
    "duration": 10,
    "start_time": "2025-04-03T14:10:39.895Z"
   },
   {
    "duration": 1408,
    "start_time": "2025-04-03T14:10:39.907Z"
   },
   {
    "duration": 10,
    "start_time": "2025-04-03T14:10:41.317Z"
   },
   {
    "duration": 19,
    "start_time": "2025-04-03T14:10:41.329Z"
   },
   {
    "duration": 104,
    "start_time": "2025-04-03T14:10:41.350Z"
   },
   {
    "duration": 17,
    "start_time": "2025-04-03T14:10:41.455Z"
   },
   {
    "duration": 91,
    "start_time": "2025-04-03T14:10:41.474Z"
   },
   {
    "duration": 8,
    "start_time": "2025-04-03T14:10:41.566Z"
   },
   {
    "duration": 291,
    "start_time": "2025-04-03T14:10:41.576Z"
   },
   {
    "duration": 380,
    "start_time": "2025-04-03T14:10:41.868Z"
   },
   {
    "duration": 14,
    "start_time": "2025-04-03T14:10:42.250Z"
   },
   {
    "duration": 40,
    "start_time": "2025-04-03T14:10:42.266Z"
   },
   {
    "duration": 16,
    "start_time": "2025-04-03T14:10:42.307Z"
   },
   {
    "duration": 4,
    "start_time": "2025-04-03T14:10:42.325Z"
   },
   {
    "duration": 11,
    "start_time": "2025-04-03T14:10:42.330Z"
   },
   {
    "duration": 6,
    "start_time": "2025-04-03T14:10:42.342Z"
   },
   {
    "duration": 193,
    "start_time": "2025-04-03T14:10:42.363Z"
   },
   {
    "duration": 21,
    "start_time": "2025-04-03T14:10:42.558Z"
   },
   {
    "duration": 12,
    "start_time": "2025-04-03T14:10:42.580Z"
   },
   {
    "duration": 22,
    "start_time": "2025-04-03T14:10:42.593Z"
   },
   {
    "duration": 5,
    "start_time": "2025-04-03T14:10:42.616Z"
   },
   {
    "duration": 45,
    "start_time": "2025-04-03T14:10:42.622Z"
   },
   {
    "duration": 7,
    "start_time": "2025-04-03T14:10:42.669Z"
   },
   {
    "duration": 15,
    "start_time": "2025-04-03T14:10:42.678Z"
   },
   {
    "duration": 15,
    "start_time": "2025-04-03T14:10:42.695Z"
   },
   {
    "duration": 6,
    "start_time": "2025-04-03T14:10:42.711Z"
   },
   {
    "duration": 59,
    "start_time": "2025-04-03T14:10:42.720Z"
   },
   {
    "duration": 4,
    "start_time": "2025-04-03T14:10:42.781Z"
   },
   {
    "duration": 12,
    "start_time": "2025-04-03T14:10:42.786Z"
   },
   {
    "duration": 13,
    "start_time": "2025-04-03T14:12:03.228Z"
   },
   {
    "duration": 13,
    "start_time": "2025-04-03T14:12:47.889Z"
   },
   {
    "duration": 11,
    "start_time": "2025-04-03T14:14:23.887Z"
   },
   {
    "duration": 161,
    "start_time": "2025-04-03T14:15:13.034Z"
   },
   {
    "duration": 3,
    "start_time": "2025-04-03T14:15:31.773Z"
   },
   {
    "duration": 24,
    "start_time": "2025-04-03T14:15:31.778Z"
   },
   {
    "duration": 14,
    "start_time": "2025-04-03T14:15:31.804Z"
   },
   {
    "duration": 20,
    "start_time": "2025-04-03T14:15:31.821Z"
   },
   {
    "duration": 9,
    "start_time": "2025-04-03T14:15:31.843Z"
   },
   {
    "duration": 13,
    "start_time": "2025-04-03T14:15:31.853Z"
   },
   {
    "duration": 9,
    "start_time": "2025-04-03T14:15:31.867Z"
   },
   {
    "duration": 5,
    "start_time": "2025-04-03T14:15:31.877Z"
   },
   {
    "duration": 6,
    "start_time": "2025-04-03T14:15:31.883Z"
   },
   {
    "duration": 10,
    "start_time": "2025-04-03T14:15:31.891Z"
   },
   {
    "duration": 18,
    "start_time": "2025-04-03T14:15:31.903Z"
   },
   {
    "duration": 127,
    "start_time": "2025-04-03T14:15:31.922Z"
   },
   {
    "duration": 103,
    "start_time": "2025-04-03T14:15:32.050Z"
   },
   {
    "duration": 3,
    "start_time": "2025-04-03T14:15:32.162Z"
   },
   {
    "duration": 12,
    "start_time": "2025-04-03T14:15:32.166Z"
   },
   {
    "duration": 1409,
    "start_time": "2025-04-03T14:15:32.180Z"
   },
   {
    "duration": 11,
    "start_time": "2025-04-03T14:15:33.590Z"
   },
   {
    "duration": 42,
    "start_time": "2025-04-03T14:15:33.602Z"
   },
   {
    "duration": 88,
    "start_time": "2025-04-03T14:15:33.645Z"
   },
   {
    "duration": 10,
    "start_time": "2025-04-03T14:15:33.735Z"
   },
   {
    "duration": 90,
    "start_time": "2025-04-03T14:15:33.747Z"
   },
   {
    "duration": 7,
    "start_time": "2025-04-03T14:15:33.838Z"
   },
   {
    "duration": 265,
    "start_time": "2025-04-03T14:15:33.847Z"
   },
   {
    "duration": 337,
    "start_time": "2025-04-03T14:15:34.113Z"
   },
   {
    "duration": 19,
    "start_time": "2025-04-03T14:15:34.452Z"
   },
   {
    "duration": 22,
    "start_time": "2025-04-03T14:15:34.472Z"
   },
   {
    "duration": 18,
    "start_time": "2025-04-03T14:15:34.495Z"
   },
   {
    "duration": 26,
    "start_time": "2025-04-03T14:15:34.516Z"
   },
   {
    "duration": 11,
    "start_time": "2025-04-03T14:15:34.543Z"
   },
   {
    "duration": 8,
    "start_time": "2025-04-03T14:15:34.555Z"
   },
   {
    "duration": 198,
    "start_time": "2025-04-03T14:15:34.564Z"
   },
   {
    "duration": 22,
    "start_time": "2025-04-03T14:15:34.763Z"
   },
   {
    "duration": 12,
    "start_time": "2025-04-03T14:15:34.787Z"
   },
   {
    "duration": 29,
    "start_time": "2025-04-03T14:15:34.801Z"
   },
   {
    "duration": 5,
    "start_time": "2025-04-03T14:15:34.832Z"
   },
   {
    "duration": 39,
    "start_time": "2025-04-03T14:15:34.838Z"
   },
   {
    "duration": 6,
    "start_time": "2025-04-03T14:15:34.878Z"
   },
   {
    "duration": 12,
    "start_time": "2025-04-03T14:15:34.886Z"
   },
   {
    "duration": 23,
    "start_time": "2025-04-03T14:15:34.900Z"
   },
   {
    "duration": 13,
    "start_time": "2025-04-03T14:15:34.924Z"
   },
   {
    "duration": 56,
    "start_time": "2025-04-03T14:15:34.939Z"
   },
   {
    "duration": 4,
    "start_time": "2025-04-03T14:15:34.996Z"
   },
   {
    "duration": 35,
    "start_time": "2025-04-03T14:15:35.002Z"
   },
   {
    "duration": 35,
    "start_time": "2025-04-03T14:16:27.798Z"
   },
   {
    "duration": 43,
    "start_time": "2025-04-03T14:16:31.505Z"
   },
   {
    "duration": 381,
    "start_time": "2025-04-03T18:05:53.217Z"
   },
   {
    "duration": 38,
    "start_time": "2025-04-03T18:05:53.599Z"
   },
   {
    "duration": 12,
    "start_time": "2025-04-03T18:05:53.639Z"
   },
   {
    "duration": 14,
    "start_time": "2025-04-03T18:05:53.653Z"
   },
   {
    "duration": 9,
    "start_time": "2025-04-03T18:05:53.670Z"
   },
   {
    "duration": 7,
    "start_time": "2025-04-03T18:05:53.681Z"
   },
   {
    "duration": 7,
    "start_time": "2025-04-03T18:05:53.690Z"
   },
   {
    "duration": 5,
    "start_time": "2025-04-03T18:05:53.699Z"
   },
   {
    "duration": 512,
    "start_time": "2025-04-03T18:05:53.706Z"
   },
   {
    "duration": 16,
    "start_time": "2025-04-03T18:05:54.220Z"
   },
   {
    "duration": 7,
    "start_time": "2025-04-03T18:05:54.237Z"
   },
   {
    "duration": 150,
    "start_time": "2025-04-03T18:05:54.262Z"
   },
   {
    "duration": 131,
    "start_time": "2025-04-03T18:05:54.414Z"
   },
   {
    "duration": 530,
    "start_time": "2025-04-03T18:05:54.548Z"
   },
   {
    "duration": 13,
    "start_time": "2025-04-03T18:05:55.080Z"
   },
   {
    "duration": 1568,
    "start_time": "2025-04-03T18:05:55.095Z"
   },
   {
    "duration": 18,
    "start_time": "2025-04-03T18:05:56.665Z"
   },
   {
    "duration": 17,
    "start_time": "2025-04-03T18:05:56.685Z"
   },
   {
    "duration": 134,
    "start_time": "2025-04-03T18:05:56.704Z"
   },
   {
    "duration": 25,
    "start_time": "2025-04-03T18:05:56.840Z"
   },
   {
    "duration": 149,
    "start_time": "2025-04-03T18:05:56.868Z"
   },
   {
    "duration": 8,
    "start_time": "2025-04-03T18:05:57.019Z"
   },
   {
    "duration": 373,
    "start_time": "2025-04-03T18:05:57.029Z"
   },
   {
    "duration": 543,
    "start_time": "2025-04-03T18:05:57.403Z"
   },
   {
    "duration": 21,
    "start_time": "2025-04-03T18:05:57.948Z"
   },
   {
    "duration": 16,
    "start_time": "2025-04-03T18:05:57.971Z"
   },
   {
    "duration": 20,
    "start_time": "2025-04-03T18:05:57.989Z"
   },
   {
    "duration": 5,
    "start_time": "2025-04-03T18:05:58.011Z"
   },
   {
    "duration": 24,
    "start_time": "2025-04-03T18:05:58.018Z"
   },
   {
    "duration": 29,
    "start_time": "2025-04-03T18:05:58.043Z"
   },
   {
    "duration": 256,
    "start_time": "2025-04-03T18:05:58.073Z"
   },
   {
    "duration": 39,
    "start_time": "2025-04-03T18:05:58.331Z"
   },
   {
    "duration": 18,
    "start_time": "2025-04-03T18:05:58.373Z"
   },
   {
    "duration": 26,
    "start_time": "2025-04-03T18:05:58.393Z"
   },
   {
    "duration": 6,
    "start_time": "2025-04-03T18:05:58.421Z"
   },
   {
    "duration": 48,
    "start_time": "2025-04-03T18:05:58.429Z"
   },
   {
    "duration": 9,
    "start_time": "2025-04-03T18:05:58.479Z"
   },
   {
    "duration": 15,
    "start_time": "2025-04-03T18:05:58.490Z"
   },
   {
    "duration": 86,
    "start_time": "2025-04-03T18:05:58.507Z"
   },
   {
    "duration": 28,
    "start_time": "2025-04-03T18:05:58.595Z"
   },
   {
    "duration": 50,
    "start_time": "2025-04-03T18:05:58.627Z"
   },
   {
    "duration": 6,
    "start_time": "2025-04-03T18:05:58.678Z"
   },
   {
    "duration": 19,
    "start_time": "2025-04-03T18:05:58.685Z"
   }
  ],
  "colab": {
   "provenance": [],
   "toc_visible": true
  },
  "kernelspec": {
   "display_name": "Python 3 (ipykernel)",
   "language": "python",
   "name": "python3"
  },
  "language_info": {
   "codemirror_mode": {
    "name": "ipython",
    "version": 3
   },
   "file_extension": ".py",
   "mimetype": "text/x-python",
   "name": "python",
   "nbconvert_exporter": "python",
   "pygments_lexer": "ipython3",
   "version": "3.9.5"
  },
  "toc": {
   "base_numbering": 1,
   "nav_menu": {
    "height": "241px",
    "width": "551px"
   },
   "number_sections": true,
   "sideBar": true,
   "skip_h1_title": true,
   "title_cell": "Table of Contents",
   "title_sidebar": "Contents",
   "toc_cell": false,
   "toc_position": {},
   "toc_section_display": true,
   "toc_window_display": false
  }
 },
 "nbformat": 4,
 "nbformat_minor": 5
}

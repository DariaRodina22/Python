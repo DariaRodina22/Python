{
 "cells": [
  {
   "cell_type": "markdown",
   "metadata": {
    "id": "4mJbK1knrJgz"
   },
   "source": [
    "# Проект: Исследование стартапов"
   ]
  },
  {
   "cell_type": "markdown",
   "metadata": {
    "id": "P6j0r3worJg0"
   },
   "source": [
    "## Введение"
   ]
  },
  {
   "cell_type": "markdown",
   "metadata": {
    "id": "8lQtbsIUyFG6"
   },
   "source": [
    "- Автор: Родина Дарья "
   ]
  },
  {
   "cell_type": "markdown",
   "metadata": {},
   "source": [
    "### Цели и задачи проекта "
   ]
  },
  {
   "cell_type": "markdown",
   "metadata": {},
   "source": [
    "Подготовить датасет и проверить, что данные в нём соответствуют здравому смыслу, а также ответить на вопросы заказчика как о предобработке, так и о значении данных для бизнеса."
   ]
  },
  {
   "cell_type": "markdown",
   "metadata": {},
   "source": [
    "Предстоит принять решения:\n",
    " - по каким столбцам можно объединять данные из разных таблиц;\n",
    " - можно ли доверять данным о сотрудниках стартапов и их образовании;\n",
    " - что значат покупки за 0 или за 1 доллар;\n",
    " - какая цена в зависимости от категории стартапов и количества раундов финансирования перед его покупкой;\n",
    " - как рассчитать и отобразить численные показатели и динамику."
   ]
  },
  {
   "cell_type": "markdown",
   "metadata": {},
   "source": [
    "### Описание данных \n",
    "Таблица 'acquisition' - cодержит информацию о покупках одними компаниями других компаний:\n",
    " - id — идентификатор покупки.\n",
    " - acquiring_company_id — идентификатор покупающей компании.\n",
    " - acquired_company_id — идентификатор покупаемой компании.\n",
    " - term_code — варианты расчёта.\n",
    " - price_amount — сумма сделки.\n",
    " - acquired_at — дата сделки.\n",
    " \n",
    "Таблица 'company_and_rounds' - cодержит информацию о компаниях и раундах финансирования:\n",
    " - company ID — идентификатор компании.\n",
    " - name — название компании.\n",
    " - category code — категория области деятельности компании.\n",
    " - status — статус компании.\n",
    " - founded at — дата инвестирования.\n",
    " - closed at — дата закрытия компании.\n",
    " - domain — официальный сайт компании.\n",
    " - network username — ник компании в сети.\n",
    " - country code — код страны компании.\n",
    " - investment rounds — число инвестиционных раундов.\n",
    " - funding rounds — число раундов финансирования.\n",
    " - funding total — сумма финансирования.\n",
    " - milestones — вехи финансирования.\n",
    " - funding round id — идентификатор этапа финансирования.\n",
    " - company id — идентификатор компании.\n",
    " - funded at — дата финансирования.\n",
    " - funding round type — тип финансирования.\n",
    " - raised amount — сумма финансирования.\n",
    " - pre money valuation — предварительная денежная оценка.\n",
    " - participants — число участников.\n",
    " - is first round — является ли раунд первым.\n",
    " - is last round — является раунд последним.\n",
    "\n",
    "\n",
    "Таблица 'education' - cодержит информацию об образовании сотрудника:\n",
    " - id — идентификатор записи об образовании.\n",
    " - person_id — идентификатор работника.\n",
    " - instituition — название учебного заведения.\n",
    " - graduated_at — дата получения образования.\n",
    "\n",
    "\n",
    "Таблица 'people' - cодержит информацию о сотрудниках:\n",
    " - id — идентификатор сотрудника.\n",
    " - first_name — имя сотрудника.\n",
    " - last_name — фамилия сотрудника.\n",
    " - company_id — идентификатор компании.\n",
    " - network_username — ник в социальных сетях.\n",
    "\n",
    "\n",
    "Таблица 'degrees' - cодержит информацию о типе образования сотрудника:\n",
    " - id — идентификатор записи.\n",
    " - object_id — идентификатор сотрудника.\n",
    " - degree_type — тип образования.\n",
    " - subject — специальность.\n",
    " \n",
    "Таблица 'fund' - cодержит информацию о фондах:\n",
    " - id — идентификатор фонда.\n",
    " - name — название фонда.\n",
    " - category_code — категория области деятельности компании.\n",
    " - founded_at — дата создания фонда.\n",
    " - domain — сайт фонда.\n",
    " - network_username — ник фонда в сети.\n",
    " - country_code — код страны фонда.\n",
    " - investment_rounds — число инвестиционных раундов.\n",
    " - invested_companies — число профинансированных компаний.\n",
    " - milestones — вехи финансирования.\n",
    " \n",
    "Таблица 'investment' - cодержит информацию о раундах инвестирования:\n",
    " - id — идентификатор этапа инвестирования.\n",
    " - funding_round_id — идентификатор раунда инвестирования.\n",
    " - company_id — индентификатор компании.\n",
    " - funding_round_type — тип финансирования.\n",
    " - fund_id — идентификатор фонда."
   ]
  },
  {
   "cell_type": "markdown",
   "metadata": {},
   "source": [
    "### Содержание проекта \n",
    "1. Знакомство с данными: загрузка и первичная обработка\n",
    "2. Предобработка данных, предварительное исследование\n",
    "3. Исследовательский анализ объединенных таблиц \n",
    "4. Итоговый вывод и рекомендации "
   ]
  },
  {
   "cell_type": "markdown",
   "metadata": {
    "id": "xqr6uttCrJg0"
   },
   "source": [
    "\n",
    "## Шаг 1. Знакомство с данными: загрузка и первичная предобработка\n",
    "\n",
    "Названия файлов:\n",
    "* acquisition.csv\n",
    "* company_and_rounds.csv\n",
    "* degrees.csv\n",
    "* education.csv\n",
    "* fund.csv\n",
    "* investment.csv\n",
    "* people.csv\n",
    "\n",
    "\n",
    "### 1.1. Вывод общей информации, исправление названия столбцов"
   ]
  },
  {
   "cell_type": "code",
   "execution_count": 1,
   "metadata": {
    "id": "4u9np9gSnyqT"
   },
   "outputs": [],
   "source": [
    "!pip -q install phik  "
   ]
  },
  {
   "cell_type": "code",
   "execution_count": 2,
   "metadata": {
    "id": "W_W4jRazrJg0"
   },
   "outputs": [],
   "source": [
    "# загружаем библиотеки \n",
    "import seaborn as sns\n",
    "import pandas as pd \n",
    "import matplotlib.pyplot as plt\n",
    "import phik"
   ]
  },
  {
   "cell_type": "code",
   "execution_count": 3,
   "metadata": {},
   "outputs": [],
   "source": [
    "pd.options.display.float_format = '{:.2f}'.format"
   ]
  },
  {
   "cell_type": "code",
   "execution_count": 4,
   "metadata": {},
   "outputs": [],
   "source": [
    "# создаем датафрейм, cодержащий информацию о покупках одними компаниями других компаний: \n",
    "acquisition = pd.read_csv('https://code.s3.yandex.net/datasets/acquisition.csv')"
   ]
  },
  {
   "cell_type": "code",
   "execution_count": 5,
   "metadata": {},
   "outputs": [
    {
     "name": "stdout",
     "output_type": "stream",
     "text": [
      "<class 'pandas.core.frame.DataFrame'>\n",
      "RangeIndex: 9407 entries, 0 to 9406\n",
      "Data columns (total 6 columns):\n",
      " #   Column                Non-Null Count  Dtype \n",
      "---  ------                --------------  ----- \n",
      " 0   id                    9407 non-null   int64 \n",
      " 1   acquiring_company_id  9407 non-null   int64 \n",
      " 2   acquired_company_id   9407 non-null   int64 \n",
      " 3   term_code             1831 non-null   object\n",
      " 4   price_amount          9407 non-null   int64 \n",
      " 5   acquired_at           9378 non-null   object\n",
      "dtypes: int64(4), object(2)\n",
      "memory usage: 441.1+ KB\n"
     ]
    },
    {
     "data": {
      "text/plain": [
       "Index(['id', 'acquiring_company_id', 'acquired_company_id', 'term_code',\n",
       "       'price_amount', 'acquired_at'],\n",
       "      dtype='object')"
      ]
     },
     "execution_count": 5,
     "metadata": {},
     "output_type": "execute_result"
    },
    {
     "name": "stdout",
     "output_type": "stream",
     "text": [
      "<class 'pandas.core.frame.DataFrame'>\n",
      "RangeIndex: 9407 entries, 0 to 9406\n",
      "Data columns (total 6 columns):\n",
      " #   Column                Non-Null Count  Dtype \n",
      "---  ------                --------------  ----- \n",
      " 0   id                    9407 non-null   int64 \n",
      " 1   acquiring_company_id  9407 non-null   int64 \n",
      " 2   acquired_company_id   9407 non-null   int64 \n",
      " 3   term_code             1831 non-null   object\n",
      " 4   price_amount          9407 non-null   int64 \n",
      " 5   acquired_at           9378 non-null   object\n",
      "dtypes: int64(4), object(2)\n",
      "memory usage: 441.1+ KB\n"
     ]
    },
    {
     "data": {
      "text/plain": [
       "Index(['id', 'acquiring_company_id', 'acquired_company_id', 'term_code',\n",
       "       'price_amount', 'acquired_at'],\n",
       "      dtype='object')"
      ]
     },
     "execution_count": 5,
     "metadata": {},
     "output_type": "execute_result"
    }
   ],
   "source": [
    "# выводим информацию \n",
    "acquisition.info()\n",
    "# выводим названия столбцов \n",
    "acquisition.columns"
   ]
  },
  {
   "cell_type": "markdown",
   "metadata": {},
   "source": [
    "В датафрейме purchase_of_companies данные предоставлены в количестве 9 407 строк и в объёме 441.1 КВ. Можно заметить пропущенные значения в столбцах term_code и acquired_at. Всего данные предоставлены в типах int - 4 столбца и object - 2 столбца. Названия столбцов отражает суть данных. "
   ]
  },
  {
   "cell_type": "markdown",
   "metadata": {},
   "source": [
    " "
   ]
  },
  {
   "cell_type": "code",
   "execution_count": 6,
   "metadata": {},
   "outputs": [],
   "source": [
    "# создаем датафрейм, cодержащий информацию о компаниях и раундах финансирования: \n",
    "company_and_rounds = pd.read_csv('https://code.s3.yandex.net/datasets/company_and_rounds.csv')"
   ]
  },
  {
   "cell_type": "code",
   "execution_count": 7,
   "metadata": {
    "scrolled": true
   },
   "outputs": [
    {
     "name": "stdout",
     "output_type": "stream",
     "text": [
      "<class 'pandas.core.frame.DataFrame'>\n",
      "RangeIndex: 217774 entries, 0 to 217773\n",
      "Data columns (total 22 columns):\n",
      " #   Column                 Non-Null Count   Dtype  \n",
      "---  ------                 --------------   -----  \n",
      " 0   company  ID            217472 non-null  float64\n",
      " 1   name                   217472 non-null  object \n",
      " 2   category  code         143886 non-null  object \n",
      " 3   status                 217472 non-null  object \n",
      " 4   founded  at            109956 non-null  object \n",
      " 5   closed  at             3449 non-null    object \n",
      " 6   domain                 147159 non-null  object \n",
      " 7   network  username      95534 non-null   object \n",
      " 8   country  code          108607 non-null  object \n",
      " 9   investment  rounds     217472 non-null  float64\n",
      " 10  funding  rounds        217472 non-null  float64\n",
      " 11  funding  total         217472 non-null  float64\n",
      " 12  milestones             217472 non-null  float64\n",
      " 13  funding  round  id     52928 non-null   float64\n",
      " 14  company  id            52928 non-null   float64\n",
      " 15  funded  at             52680 non-null   object \n",
      " 16  funding  round  type   52928 non-null   object \n",
      " 17  raised  amount         52928 non-null   float64\n",
      " 18  pre  money  valuation  52928 non-null   float64\n",
      " 19  participants           52928 non-null   float64\n",
      " 20  is  first  round       52928 non-null   float64\n",
      " 21  is  last  round        52928 non-null   float64\n",
      "dtypes: float64(12), object(10)\n",
      "memory usage: 36.6+ MB\n"
     ]
    },
    {
     "data": {
      "text/plain": [
       "Index(['company  ID', 'name', 'category  code', 'status', 'founded  at',\n",
       "       'closed  at', 'domain', 'network  username', 'country  code',\n",
       "       'investment  rounds', 'funding  rounds', 'funding  total', 'milestones',\n",
       "       'funding  round  id', 'company  id', 'funded  at',\n",
       "       'funding  round  type', 'raised  amount', 'pre  money  valuation',\n",
       "       'participants', 'is  first  round', 'is  last  round'],\n",
       "      dtype='object')"
      ]
     },
     "execution_count": 7,
     "metadata": {},
     "output_type": "execute_result"
    },
    {
     "name": "stdout",
     "output_type": "stream",
     "text": [
      "<class 'pandas.core.frame.DataFrame'>\n",
      "RangeIndex: 217774 entries, 0 to 217773\n",
      "Data columns (total 22 columns):\n",
      " #   Column                 Non-Null Count   Dtype  \n",
      "---  ------                 --------------   -----  \n",
      " 0   company  ID            217472 non-null  float64\n",
      " 1   name                   217472 non-null  object \n",
      " 2   category  code         143886 non-null  object \n",
      " 3   status                 217472 non-null  object \n",
      " 4   founded  at            109956 non-null  object \n",
      " 5   closed  at             3449 non-null    object \n",
      " 6   domain                 147159 non-null  object \n",
      " 7   network  username      95534 non-null   object \n",
      " 8   country  code          108607 non-null  object \n",
      " 9   investment  rounds     217472 non-null  float64\n",
      " 10  funding  rounds        217472 non-null  float64\n",
      " 11  funding  total         217472 non-null  float64\n",
      " 12  milestones             217472 non-null  float64\n",
      " 13  funding  round  id     52928 non-null   float64\n",
      " 14  company  id            52928 non-null   float64\n",
      " 15  funded  at             52680 non-null   object \n",
      " 16  funding  round  type   52928 non-null   object \n",
      " 17  raised  amount         52928 non-null   float64\n",
      " 18  pre  money  valuation  52928 non-null   float64\n",
      " 19  participants           52928 non-null   float64\n",
      " 20  is  first  round       52928 non-null   float64\n",
      " 21  is  last  round        52928 non-null   float64\n",
      "dtypes: float64(12), object(10)\n",
      "memory usage: 36.6+ MB\n"
     ]
    },
    {
     "data": {
      "text/plain": [
       "Index(['company  ID', 'name', 'category  code', 'status', 'founded  at',\n",
       "       'closed  at', 'domain', 'network  username', 'country  code',\n",
       "       'investment  rounds', 'funding  rounds', 'funding  total', 'milestones',\n",
       "       'funding  round  id', 'company  id', 'funded  at',\n",
       "       'funding  round  type', 'raised  amount', 'pre  money  valuation',\n",
       "       'participants', 'is  first  round', 'is  last  round'],\n",
       "      dtype='object')"
      ]
     },
     "execution_count": 7,
     "metadata": {},
     "output_type": "execute_result"
    }
   ],
   "source": [
    "# выводим информацию датафрейма и названия столбцов\n",
    "company_and_rounds.info()\n",
    "company_and_rounds.columns"
   ]
  },
  {
   "cell_type": "markdown",
   "metadata": {},
   "source": [
    "В датафрейме company_and_rounds данные предоставлены в количестве 217 774 строк и в объёме 36.6 МВ, при этом во всех столбцах есть пропуски. Всего данные предоставлены в типах float - 12 столбцов и object - 10 столбцов. названия столбцов отражают суть данных, но есть дважды повторяющийся столбец 'company  ID' и 'company  id'. Не у всех столбцов указан верный тип данных. Названия колонок следует привести к единой форме, то есть к snakecase. "
   ]
  },
  {
   "cell_type": "markdown",
   "metadata": {},
   "source": [
    " "
   ]
  },
  {
   "cell_type": "code",
   "execution_count": 8,
   "metadata": {},
   "outputs": [],
   "source": [
    "# создаем датафрейм, cодержащий информацию о типе образования сотрудника: \n",
    "employee_education = pd.read_csv('https://code.s3.yandex.net/datasets/degrees.csv')"
   ]
  },
  {
   "cell_type": "code",
   "execution_count": 9,
   "metadata": {},
   "outputs": [
    {
     "name": "stdout",
     "output_type": "stream",
     "text": [
      "<class 'pandas.core.frame.DataFrame'>\n",
      "RangeIndex: 109610 entries, 0 to 109609\n",
      "Data columns (total 4 columns):\n",
      " #   Column       Non-Null Count   Dtype \n",
      "---  ------       --------------   ----- \n",
      " 0   id           109610 non-null  int64 \n",
      " 1   object_id    109610 non-null  object\n",
      " 2   degree_type  98392 non-null   object\n",
      " 3   subject      81298 non-null   object\n",
      "dtypes: int64(1), object(3)\n",
      "memory usage: 3.3+ MB\n"
     ]
    },
    {
     "data": {
      "text/plain": [
       "Index(['id', 'object_id', 'degree_type', 'subject'], dtype='object')"
      ]
     },
     "execution_count": 9,
     "metadata": {},
     "output_type": "execute_result"
    },
    {
     "name": "stdout",
     "output_type": "stream",
     "text": [
      "<class 'pandas.core.frame.DataFrame'>\n",
      "RangeIndex: 109610 entries, 0 to 109609\n",
      "Data columns (total 4 columns):\n",
      " #   Column       Non-Null Count   Dtype \n",
      "---  ------       --------------   ----- \n",
      " 0   id           109610 non-null  int64 \n",
      " 1   object_id    109610 non-null  object\n",
      " 2   degree_type  98392 non-null   object\n",
      " 3   subject      81298 non-null   object\n",
      "dtypes: int64(1), object(3)\n",
      "memory usage: 3.3+ MB\n"
     ]
    },
    {
     "data": {
      "text/plain": [
       "Index(['id', 'object_id', 'degree_type', 'subject'], dtype='object')"
      ]
     },
     "execution_count": 9,
     "metadata": {},
     "output_type": "execute_result"
    }
   ],
   "source": [
    "# выводим информацию датафрейма и названия столбцов\n",
    "employee_education.info()\n",
    "employee_education.columns"
   ]
  },
  {
   "cell_type": "markdown",
   "metadata": {},
   "source": [
    "В датафрейме employee_education данные предоставлены в количестве 109 610 строк и в объёме 3.3 МВ. Можно заметить пропущенные значения в столбцах degree_type и subject. Всего данные предоставлены в типах int - 1 столбец и object - 3 столбца. Названия столбцов отражают суть данных."
   ]
  },
  {
   "cell_type": "markdown",
   "metadata": {},
   "source": [
    " "
   ]
  },
  {
   "cell_type": "code",
   "execution_count": 10,
   "metadata": {},
   "outputs": [],
   "source": [
    "# создаем датафрейм, cодержащий информацию об образовании сотрудника: \n",
    "education = pd.read_csv('https://code.s3.yandex.net/datasets/education.csv')"
   ]
  },
  {
   "cell_type": "code",
   "execution_count": 11,
   "metadata": {},
   "outputs": [
    {
     "name": "stdout",
     "output_type": "stream",
     "text": [
      "<class 'pandas.core.frame.DataFrame'>\n",
      "RangeIndex: 109610 entries, 0 to 109609\n",
      "Data columns (total 4 columns):\n",
      " #   Column        Non-Null Count   Dtype \n",
      "---  ------        --------------   ----- \n",
      " 0   id            109610 non-null  int64 \n",
      " 1   person_id     109610 non-null  int64 \n",
      " 2   instituition  109555 non-null  object\n",
      " 3   graduated_at  58054 non-null   object\n",
      "dtypes: int64(2), object(2)\n",
      "memory usage: 3.3+ MB\n"
     ]
    },
    {
     "data": {
      "text/plain": [
       "Index(['id', 'person_id', 'instituition', 'graduated_at'], dtype='object')"
      ]
     },
     "execution_count": 11,
     "metadata": {},
     "output_type": "execute_result"
    },
    {
     "name": "stdout",
     "output_type": "stream",
     "text": [
      "<class 'pandas.core.frame.DataFrame'>\n",
      "RangeIndex: 109610 entries, 0 to 109609\n",
      "Data columns (total 4 columns):\n",
      " #   Column        Non-Null Count   Dtype \n",
      "---  ------        --------------   ----- \n",
      " 0   id            109610 non-null  int64 \n",
      " 1   person_id     109610 non-null  int64 \n",
      " 2   instituition  109555 non-null  object\n",
      " 3   graduated_at  58054 non-null   object\n",
      "dtypes: int64(2), object(2)\n",
      "memory usage: 3.3+ MB\n"
     ]
    },
    {
     "data": {
      "text/plain": [
       "Index(['id', 'person_id', 'instituition', 'graduated_at'], dtype='object')"
      ]
     },
     "execution_count": 11,
     "metadata": {},
     "output_type": "execute_result"
    }
   ],
   "source": [
    "# выводим информацию датафрейма и названия столбцов\n",
    "education.info()\n",
    "education.columns"
   ]
  },
  {
   "cell_type": "markdown",
   "metadata": {},
   "source": [
    "В датафрейме education данные предоставлены в количестве 109 610 строк и в объёме 3.3 МВ. Можно заметить пропущенные значения в столбцах instituition и graduated_at. Всего данные предоставлены в типах int - 2 столбца и object - 2 столбца. Названия столбцов отражают суть данных."
   ]
  },
  {
   "cell_type": "markdown",
   "metadata": {},
   "source": [
    " "
   ]
  },
  {
   "cell_type": "code",
   "execution_count": 12,
   "metadata": {},
   "outputs": [],
   "source": [
    "# создаем датафрейм, cодержащий информацию о фондах: \n",
    "fund = pd.read_csv('https://code.s3.yandex.net/datasets/fund.csv')"
   ]
  },
  {
   "cell_type": "code",
   "execution_count": 13,
   "metadata": {
    "scrolled": true
   },
   "outputs": [
    {
     "name": "stdout",
     "output_type": "stream",
     "text": [
      "<class 'pandas.core.frame.DataFrame'>\n",
      "RangeIndex: 11652 entries, 0 to 11651\n",
      "Data columns (total 9 columns):\n",
      " #   Column              Non-Null Count  Dtype \n",
      "---  ------              --------------  ----- \n",
      " 0   id                  11652 non-null  int64 \n",
      " 1   name                11650 non-null  object\n",
      " 2   founded_at          4605 non-null   object\n",
      " 3   domain              7362 non-null   object\n",
      " 4   network_username    2149 non-null   object\n",
      " 5   country_code        7053 non-null   object\n",
      " 6   investment_rounds   11652 non-null  int64 \n",
      " 7   invested_companies  11652 non-null  int64 \n",
      " 8   milestones          11652 non-null  int64 \n",
      "dtypes: int64(4), object(5)\n",
      "memory usage: 819.4+ KB\n"
     ]
    },
    {
     "data": {
      "text/plain": [
       "Index(['id', 'name', 'founded_at', 'domain', 'network_username',\n",
       "       'country_code', 'investment_rounds', 'invested_companies',\n",
       "       'milestones'],\n",
       "      dtype='object')"
      ]
     },
     "execution_count": 13,
     "metadata": {},
     "output_type": "execute_result"
    },
    {
     "name": "stdout",
     "output_type": "stream",
     "text": [
      "<class 'pandas.core.frame.DataFrame'>\n",
      "RangeIndex: 11652 entries, 0 to 11651\n",
      "Data columns (total 9 columns):\n",
      " #   Column              Non-Null Count  Dtype \n",
      "---  ------              --------------  ----- \n",
      " 0   id                  11652 non-null  int64 \n",
      " 1   name                11650 non-null  object\n",
      " 2   founded_at          4605 non-null   object\n",
      " 3   domain              7362 non-null   object\n",
      " 4   network_username    2149 non-null   object\n",
      " 5   country_code        7053 non-null   object\n",
      " 6   investment_rounds   11652 non-null  int64 \n",
      " 7   invested_companies  11652 non-null  int64 \n",
      " 8   milestones          11652 non-null  int64 \n",
      "dtypes: int64(4), object(5)\n",
      "memory usage: 819.4+ KB\n"
     ]
    },
    {
     "data": {
      "text/plain": [
       "Index(['id', 'name', 'founded_at', 'domain', 'network_username',\n",
       "       'country_code', 'investment_rounds', 'invested_companies',\n",
       "       'milestones'],\n",
       "      dtype='object')"
      ]
     },
     "execution_count": 13,
     "metadata": {},
     "output_type": "execute_result"
    }
   ],
   "source": [
    "# выводим информацию датафрейма и названия столбцов\n",
    "fund.info()\n",
    "fund.columns"
   ]
  },
  {
   "cell_type": "markdown",
   "metadata": {},
   "source": [
    "В датафрейме fund данные предоставлены в количестве 11 652 строк и в объёме 819.4 KВ, при этом во многих столбцах есть пропуски. Всего данные предоставлены в типах int - 4 столбца и object - 5 столбцов. Названия столбцов отражают суть данных."
   ]
  },
  {
   "cell_type": "markdown",
   "metadata": {},
   "source": [
    " "
   ]
  },
  {
   "cell_type": "code",
   "execution_count": 14,
   "metadata": {},
   "outputs": [],
   "source": [
    "# создаем датафрейм, cодержащий информацию о раундах инвестирования: \n",
    "investment = pd.read_csv('https://code.s3.yandex.net/datasets/investment.csv')"
   ]
  },
  {
   "cell_type": "code",
   "execution_count": 15,
   "metadata": {},
   "outputs": [
    {
     "name": "stdout",
     "output_type": "stream",
     "text": [
      "<class 'pandas.core.frame.DataFrame'>\n",
      "RangeIndex: 61403 entries, 0 to 61402\n",
      "Data columns (total 4 columns):\n",
      " #   Column            Non-Null Count  Dtype\n",
      "---  ------            --------------  -----\n",
      " 0   id                61403 non-null  int64\n",
      " 1   funding_round_id  61403 non-null  int64\n",
      " 2   company_id        61403 non-null  int64\n",
      " 3   fund_id           61403 non-null  int64\n",
      "dtypes: int64(4)\n",
      "memory usage: 1.9 MB\n"
     ]
    },
    {
     "data": {
      "text/plain": [
       "Index(['id', 'funding_round_id', 'company_id', 'fund_id'], dtype='object')"
      ]
     },
     "execution_count": 15,
     "metadata": {},
     "output_type": "execute_result"
    },
    {
     "name": "stdout",
     "output_type": "stream",
     "text": [
      "<class 'pandas.core.frame.DataFrame'>\n",
      "RangeIndex: 61403 entries, 0 to 61402\n",
      "Data columns (total 4 columns):\n",
      " #   Column            Non-Null Count  Dtype\n",
      "---  ------            --------------  -----\n",
      " 0   id                61403 non-null  int64\n",
      " 1   funding_round_id  61403 non-null  int64\n",
      " 2   company_id        61403 non-null  int64\n",
      " 3   fund_id           61403 non-null  int64\n",
      "dtypes: int64(4)\n",
      "memory usage: 1.9 MB\n"
     ]
    },
    {
     "data": {
      "text/plain": [
       "Index(['id', 'funding_round_id', 'company_id', 'fund_id'], dtype='object')"
      ]
     },
     "execution_count": 15,
     "metadata": {},
     "output_type": "execute_result"
    }
   ],
   "source": [
    "# выводим информацию датафрейма и названия столбцов\n",
    "investment.info()\n",
    "investment.columns"
   ]
  },
  {
   "cell_type": "markdown",
   "metadata": {},
   "source": [
    "В датафрейме investment данные предоставлены в количестве 61 403 строк и в объёме 1.9 MВ, при этом у всех столбцов отсутствуют пропуски. Всего данные предоставлены в типах int - 4 столбца. Названия столбцов отражают суть данных."
   ]
  },
  {
   "cell_type": "markdown",
   "metadata": {},
   "source": [
    " "
   ]
  },
  {
   "cell_type": "code",
   "execution_count": 16,
   "metadata": {},
   "outputs": [],
   "source": [
    "# создаем датафрейм, cодержащий информацию о сотрудниках: \n",
    "people = pd.read_csv('https://code.s3.yandex.net/datasets/people.csv')"
   ]
  },
  {
   "cell_type": "code",
   "execution_count": 17,
   "metadata": {},
   "outputs": [
    {
     "name": "stdout",
     "output_type": "stream",
     "text": [
      "<class 'pandas.core.frame.DataFrame'>\n",
      "RangeIndex: 226709 entries, 0 to 226708\n",
      "Data columns (total 5 columns):\n",
      " #   Column            Non-Null Count   Dtype  \n",
      "---  ------            --------------   -----  \n",
      " 0   id                226709 non-null  int64  \n",
      " 1   first_name        226704 non-null  object \n",
      " 2   last_name         226708 non-null  object \n",
      " 3   company_id        34615 non-null   float64\n",
      " 4   network_username  38867 non-null   object \n",
      "dtypes: float64(1), int64(1), object(3)\n",
      "memory usage: 8.6+ MB\n"
     ]
    },
    {
     "data": {
      "text/plain": [
       "Index(['id', 'first_name', 'last_name', 'company_id', 'network_username'], dtype='object')"
      ]
     },
     "execution_count": 17,
     "metadata": {},
     "output_type": "execute_result"
    },
    {
     "name": "stdout",
     "output_type": "stream",
     "text": [
      "<class 'pandas.core.frame.DataFrame'>\n",
      "RangeIndex: 226709 entries, 0 to 226708\n",
      "Data columns (total 5 columns):\n",
      " #   Column            Non-Null Count   Dtype  \n",
      "---  ------            --------------   -----  \n",
      " 0   id                226709 non-null  int64  \n",
      " 1   first_name        226704 non-null  object \n",
      " 2   last_name         226708 non-null  object \n",
      " 3   company_id        34615 non-null   float64\n",
      " 4   network_username  38867 non-null   object \n",
      "dtypes: float64(1), int64(1), object(3)\n",
      "memory usage: 8.6+ MB\n"
     ]
    },
    {
     "data": {
      "text/plain": [
       "Index(['id', 'first_name', 'last_name', 'company_id', 'network_username'], dtype='object')"
      ]
     },
     "execution_count": 17,
     "metadata": {},
     "output_type": "execute_result"
    }
   ],
   "source": [
    "# выводим информацию датафрейма и названия столбцов\n",
    "people.info()\n",
    "people.columns"
   ]
  },
  {
   "cell_type": "markdown",
   "metadata": {},
   "source": [
    "В датафрейме people данные предоставлены в количестве 226 709 строк и в объёме 8.6 MВ, при этом во всех столбцах, кроме одного, есть пропущенные значения. Всего данные предоставлены в типах float - 1 столбец, int - 1 столбец и object - 3 столбца. Названия столбцов отражают суть данных. Не у всех столбцов указан верный тип данных."
   ]
  },
  {
   "cell_type": "code",
   "execution_count": 19,
   "metadata": {
    "id": "5Sg2O8zNnzKc"
   },
   "outputs": [],
   "source": [
    "# приведем названия столбцов датафрейма company_and_rounds к формату snakecase \n",
    "company_and_rounds = company_and_rounds.rename(columns = {'company  ID' : 'company_ID',\n",
    "                                                          'name' : 'name',\n",
    "                                                          'category  code' : 'category_code',\n",
    "                                                          'status' : 'status',\n",
    "                                                          'founded  at' : 'founded_at',\n",
    "                                                          'closed  at' : 'closed_at',\n",
    "                                                          'domain' : 'domain',\n",
    "                                                          'network  username' : 'network_username',\n",
    "                                                          'country  code' : 'country_code',\n",
    "                                                          'investment  rounds' : 'investment_rounds', \n",
    "                                                          'funding  rounds' : 'funding_rounds',\n",
    "                                                          'funding  total' : 'funding_total',\n",
    "                                                          'milestones' : 'milestones',\n",
    "                                                          'funding  round  id' : 'funding_round_id',\n",
    "                                                          'company  id' : 'company_id',\n",
    "                                                          'funded  at' : 'funded_at', \n",
    "                                                          'funding  round  type' : 'funding_round_type',\n",
    "                                                          'raised  amount' : 'raised_amount',\n",
    "                                                          'pre  money  valuation' : 'pre_money_valuation',\n",
    "                                                          'participants' : 'participants',\n",
    "                                                          'is  first  round' : 'is_first_round',\n",
    "                                                          'is  last  round' : 'is_last_round'})"
   ]
  },
  {
   "cell_type": "markdown",
   "metadata": {},
   "source": [
    " "
   ]
  },
  {
   "cell_type": "code",
   "execution_count": 21,
   "metadata": {
    "id": "FsL0A8RBrJg1"
   },
   "outputs": [],
   "source": [
    "# меняем тип данных для даты и времени \n",
    "acquisition['acquired_at'] = pd.to_datetime(acquisition['acquired_at'])\n",
    "company_and_rounds['founded_at'] = pd.to_datetime(company_and_rounds['founded_at'], errors = 'coerce')\n",
    "company_and_rounds['closed_at'] = pd.to_datetime(company_and_rounds['closed_at'], errors = 'coerce')\n",
    "company_and_rounds['funded_at'] = pd.to_datetime(company_and_rounds['funded_at'], errors = 'coerce')\n",
    "education['graduated_at']= pd.to_datetime(education['graduated_at'])\n",
    "fund['founded_at']= pd.to_datetime(fund['founded_at'])"
   ]
  },
  {
   "cell_type": "code",
   "execution_count": 22,
   "metadata": {},
   "outputs": [],
   "source": [
    "# меняем тип данных \n",
    "people['company_id'] = pd.to_numeric(people['company_id'], errors = 'coerce').fillna(0).astype(int)"
   ]
  },
  {
   "cell_type": "code",
   "execution_count": 23,
   "metadata": {},
   "outputs": [
    {
     "data": {
      "text/plain": [
       "id                      0.00\n",
       "acquiring_company_id    0.00\n",
       "acquired_company_id     0.00\n",
       "term_code              80.54\n",
       "price_amount            0.00\n",
       "acquired_at             0.31\n",
       "dtype: float64"
      ]
     },
     "execution_count": 23,
     "metadata": {},
     "output_type": "execute_result"
    },
    {
     "data": {
      "text/plain": [
       "id                      0.00\n",
       "acquiring_company_id    0.00\n",
       "acquired_company_id     0.00\n",
       "term_code              80.54\n",
       "price_amount            0.00\n",
       "acquired_at             0.31\n",
       "dtype: float64"
      ]
     },
     "execution_count": 23,
     "metadata": {},
     "output_type": "execute_result"
    }
   ],
   "source": [
    "# считаем долю пропущенных значений \n",
    "acquisition.isna().sum() / len(acquisition) * 100"
   ]
  },
  {
   "cell_type": "code",
   "execution_count": 24,
   "metadata": {},
   "outputs": [
    {
     "data": {
      "text/plain": [
       "company_ID             0.14\n",
       "name                   0.14\n",
       "category_code         33.93\n",
       "status                 0.14\n",
       "founded_at            49.51\n",
       "closed_at             98.42\n",
       "domain                32.43\n",
       "network_username      56.13\n",
       "country_code          50.13\n",
       "investment_rounds      0.14\n",
       "funding_rounds         0.14\n",
       "funding_total          0.14\n",
       "milestones             0.14\n",
       "funding_round_id      75.70\n",
       "company_id            75.70\n",
       "funded_at             75.81\n",
       "funding_round_type    75.70\n",
       "raised_amount         75.70\n",
       "pre_money_valuation   75.70\n",
       "participants          75.70\n",
       "is_first_round        75.70\n",
       "is_last_round         75.70\n",
       "dtype: float64"
      ]
     },
     "execution_count": 24,
     "metadata": {},
     "output_type": "execute_result"
    },
    {
     "data": {
      "text/plain": [
       "company_ID             0.14\n",
       "name                   0.14\n",
       "category_code         33.93\n",
       "status                 0.14\n",
       "founded_at            49.51\n",
       "closed_at             98.42\n",
       "domain                32.43\n",
       "network_username      56.13\n",
       "country_code          50.13\n",
       "investment_rounds      0.14\n",
       "funding_rounds         0.14\n",
       "funding_total          0.14\n",
       "milestones             0.14\n",
       "funding_round_id      75.70\n",
       "company_id            75.70\n",
       "funded_at             75.81\n",
       "funding_round_type    75.70\n",
       "raised_amount         75.70\n",
       "pre_money_valuation   75.70\n",
       "participants          75.70\n",
       "is_first_round        75.70\n",
       "is_last_round         75.70\n",
       "dtype: float64"
      ]
     },
     "execution_count": 24,
     "metadata": {},
     "output_type": "execute_result"
    }
   ],
   "source": [
    "company_and_rounds.isna().sum() / len(company_and_rounds) * 100"
   ]
  },
  {
   "cell_type": "code",
   "execution_count": 25,
   "metadata": {},
   "outputs": [
    {
     "data": {
      "text/plain": [
       "id             0.00\n",
       "object_id      0.00\n",
       "degree_type   10.23\n",
       "subject       25.83\n",
       "dtype: float64"
      ]
     },
     "execution_count": 25,
     "metadata": {},
     "output_type": "execute_result"
    },
    {
     "data": {
      "text/plain": [
       "id             0.00\n",
       "object_id      0.00\n",
       "degree_type   10.23\n",
       "subject       25.83\n",
       "dtype: float64"
      ]
     },
     "execution_count": 25,
     "metadata": {},
     "output_type": "execute_result"
    }
   ],
   "source": [
    "employee_education.isna().sum() / len(employee_education) * 100"
   ]
  },
  {
   "cell_type": "code",
   "execution_count": 26,
   "metadata": {},
   "outputs": [
    {
     "data": {
      "text/plain": [
       "id              0.00\n",
       "person_id       0.00\n",
       "instituition    0.05\n",
       "graduated_at   47.04\n",
       "dtype: float64"
      ]
     },
     "execution_count": 26,
     "metadata": {},
     "output_type": "execute_result"
    },
    {
     "data": {
      "text/plain": [
       "id              0.00\n",
       "person_id       0.00\n",
       "instituition    0.05\n",
       "graduated_at   47.04\n",
       "dtype: float64"
      ]
     },
     "execution_count": 26,
     "metadata": {},
     "output_type": "execute_result"
    }
   ],
   "source": [
    "education.isna().sum() / len(education) * 100"
   ]
  },
  {
   "cell_type": "code",
   "execution_count": 27,
   "metadata": {},
   "outputs": [
    {
     "data": {
      "text/plain": [
       "id                    0.00\n",
       "name                  0.02\n",
       "founded_at           60.48\n",
       "domain               36.82\n",
       "network_username     81.56\n",
       "country_code         39.47\n",
       "investment_rounds     0.00\n",
       "invested_companies    0.00\n",
       "milestones            0.00\n",
       "dtype: float64"
      ]
     },
     "execution_count": 27,
     "metadata": {},
     "output_type": "execute_result"
    },
    {
     "data": {
      "text/plain": [
       "id                    0.00\n",
       "name                  0.02\n",
       "founded_at           60.48\n",
       "domain               36.82\n",
       "network_username     81.56\n",
       "country_code         39.47\n",
       "investment_rounds     0.00\n",
       "invested_companies    0.00\n",
       "milestones            0.00\n",
       "dtype: float64"
      ]
     },
     "execution_count": 27,
     "metadata": {},
     "output_type": "execute_result"
    }
   ],
   "source": [
    "fund.isna().sum() / len(fund) * 100"
   ]
  },
  {
   "cell_type": "code",
   "execution_count": 28,
   "metadata": {},
   "outputs": [
    {
     "data": {
      "text/plain": [
       "id                 0.00\n",
       "funding_round_id   0.00\n",
       "company_id         0.00\n",
       "fund_id            0.00\n",
       "dtype: float64"
      ]
     },
     "execution_count": 28,
     "metadata": {},
     "output_type": "execute_result"
    },
    {
     "data": {
      "text/plain": [
       "id                 0.00\n",
       "funding_round_id   0.00\n",
       "company_id         0.00\n",
       "fund_id            0.00\n",
       "dtype: float64"
      ]
     },
     "execution_count": 28,
     "metadata": {},
     "output_type": "execute_result"
    }
   ],
   "source": [
    "investment.isna().sum() / len(investment) * 100"
   ]
  },
  {
   "cell_type": "code",
   "execution_count": 29,
   "metadata": {},
   "outputs": [
    {
     "data": {
      "text/plain": [
       "id                  0.00\n",
       "first_name          0.00\n",
       "last_name           0.00\n",
       "company_id          0.00\n",
       "network_username   82.86\n",
       "dtype: float64"
      ]
     },
     "execution_count": 29,
     "metadata": {},
     "output_type": "execute_result"
    },
    {
     "data": {
      "text/plain": [
       "id                  0.00\n",
       "first_name          0.00\n",
       "last_name           0.00\n",
       "company_id          0.00\n",
       "network_username   82.86\n",
       "dtype: float64"
      ]
     },
     "execution_count": 29,
     "metadata": {},
     "output_type": "execute_result"
    }
   ],
   "source": [
    "people.isna().sum() / len(people) * 100"
   ]
  },
  {
   "cell_type": "markdown",
   "metadata": {},
   "source": [
    "Почти у всех датафреймов множество столбцов с пропущенными значениями превышаем 30% от всех данных. Это значит, что корректная замена исключена. При этом основываясь на отсавшихся данных, можно получить достаточно полноценный анализ. \n",
    "Больше всего данные отсутсвуют в таблице company_and_rounds."
   ]
  },
  {
   "cell_type": "markdown",
   "metadata": {},
   "source": [
    " "
   ]
  },
  {
   "cell_type": "markdown",
   "metadata": {},
   "source": [
    " "
   ]
  },
  {
   "cell_type": "markdown",
   "metadata": {
    "id": "u60cHsn6rJg1"
   },
   "source": [
    "## Шаг 2. Предобработка данных, предварительное исследование"
   ]
  },
  {
   "cell_type": "markdown",
   "metadata": {
    "id": "g2bHIIjcrJg1"
   },
   "source": [
    "\n",
    "### 2.1. Раунды финансирования по годам"
   ]
  },
  {
   "cell_type": "code",
   "execution_count": 30,
   "metadata": {
    "id": "HB81GTA9n04M"
   },
   "outputs": [],
   "source": [
    "# выделяем год из даты финансирования\n",
    "company_and_rounds['year_funded'] = company_and_rounds['funded_at'].dt.year"
   ]
  },
  {
   "cell_type": "code",
   "execution_count": 31,
   "metadata": {},
   "outputs": [
    {
     "data": {
      "text/html": [
       "<div>\n",
       "<style scoped>\n",
       "    .dataframe tbody tr th:only-of-type {\n",
       "        vertical-align: middle;\n",
       "    }\n",
       "\n",
       "    .dataframe tbody tr th {\n",
       "        vertical-align: top;\n",
       "    }\n",
       "\n",
       "    .dataframe thead th {\n",
       "        text-align: right;\n",
       "    }\n",
       "</style>\n",
       "<table border=\"1\" class=\"dataframe\">\n",
       "  <thead>\n",
       "    <tr style=\"text-align: right;\">\n",
       "      <th></th>\n",
       "      <th>funding_rounds</th>\n",
       "      <th>raised_amount</th>\n",
       "    </tr>\n",
       "    <tr>\n",
       "      <th>year_funded</th>\n",
       "      <th></th>\n",
       "      <th></th>\n",
       "    </tr>\n",
       "  </thead>\n",
       "  <tbody>\n",
       "    <tr>\n",
       "      <th>1960.00</th>\n",
       "      <td>16.00</td>\n",
       "      <td>0.00</td>\n",
       "    </tr>\n",
       "    <tr>\n",
       "      <th>1973.00</th>\n",
       "      <td>1.00</td>\n",
       "      <td>0.00</td>\n",
       "    </tr>\n",
       "    <tr>\n",
       "      <th>1974.00</th>\n",
       "      <td>2.00</td>\n",
       "      <td>0.00</td>\n",
       "    </tr>\n",
       "    <tr>\n",
       "      <th>1984.00</th>\n",
       "      <td>3.00</td>\n",
       "      <td>41000.00</td>\n",
       "    </tr>\n",
       "    <tr>\n",
       "      <th>1985.00</th>\n",
       "      <td>1.00</td>\n",
       "      <td>0.00</td>\n",
       "    </tr>\n",
       "    <tr>\n",
       "      <th>1987.00</th>\n",
       "      <td>2.00</td>\n",
       "      <td>1250000.00</td>\n",
       "    </tr>\n",
       "    <tr>\n",
       "      <th>1989.00</th>\n",
       "      <td>1.00</td>\n",
       "      <td>15000.00</td>\n",
       "    </tr>\n",
       "    <tr>\n",
       "      <th>1990.00</th>\n",
       "      <td>1.00</td>\n",
       "      <td>1000000.00</td>\n",
       "    </tr>\n",
       "    <tr>\n",
       "      <th>1992.00</th>\n",
       "      <td>2.00</td>\n",
       "      <td>2000000.00</td>\n",
       "    </tr>\n",
       "    <tr>\n",
       "      <th>1993.00</th>\n",
       "      <td>2.00</td>\n",
       "      <td>62500.00</td>\n",
       "    </tr>\n",
       "    <tr>\n",
       "      <th>1994.00</th>\n",
       "      <td>3.00</td>\n",
       "      <td>6700000.00</td>\n",
       "    </tr>\n",
       "    <tr>\n",
       "      <th>1995.00</th>\n",
       "      <td>13.00</td>\n",
       "      <td>2000000.00</td>\n",
       "    </tr>\n",
       "    <tr>\n",
       "      <th>1996.00</th>\n",
       "      <td>19.00</td>\n",
       "      <td>12500.00</td>\n",
       "    </tr>\n",
       "    <tr>\n",
       "      <th>1997.00</th>\n",
       "      <td>18.00</td>\n",
       "      <td>3300000.00</td>\n",
       "    </tr>\n",
       "    <tr>\n",
       "      <th>1998.00</th>\n",
       "      <td>72.00</td>\n",
       "      <td>100000.00</td>\n",
       "    </tr>\n",
       "    <tr>\n",
       "      <th>1999.00</th>\n",
       "      <td>268.00</td>\n",
       "      <td>2000000.00</td>\n",
       "    </tr>\n",
       "    <tr>\n",
       "      <th>2000.00</th>\n",
       "      <td>403.00</td>\n",
       "      <td>4200000.00</td>\n",
       "    </tr>\n",
       "    <tr>\n",
       "      <th>2001.00</th>\n",
       "      <td>302.00</td>\n",
       "      <td>3000000.00</td>\n",
       "    </tr>\n",
       "    <tr>\n",
       "      <th>2002.00</th>\n",
       "      <td>385.00</td>\n",
       "      <td>4200000.00</td>\n",
       "    </tr>\n",
       "    <tr>\n",
       "      <th>2003.00</th>\n",
       "      <td>569.00</td>\n",
       "      <td>3000000.00</td>\n",
       "    </tr>\n",
       "    <tr>\n",
       "      <th>2004.00</th>\n",
       "      <td>1057.00</td>\n",
       "      <td>5000000.00</td>\n",
       "    </tr>\n",
       "    <tr>\n",
       "      <th>2005.00</th>\n",
       "      <td>4157.00</td>\n",
       "      <td>5500000.00</td>\n",
       "    </tr>\n",
       "    <tr>\n",
       "      <th>2006.00</th>\n",
       "      <td>6295.00</td>\n",
       "      <td>5000000.00</td>\n",
       "    </tr>\n",
       "    <tr>\n",
       "      <th>2007.00</th>\n",
       "      <td>8494.00</td>\n",
       "      <td>3973320.00</td>\n",
       "    </tr>\n",
       "    <tr>\n",
       "      <th>2008.00</th>\n",
       "      <td>9931.00</td>\n",
       "      <td>3110000.00</td>\n",
       "    </tr>\n",
       "    <tr>\n",
       "      <th>2009.00</th>\n",
       "      <td>11857.00</td>\n",
       "      <td>2000000.00</td>\n",
       "    </tr>\n",
       "    <tr>\n",
       "      <th>2010.00</th>\n",
       "      <td>16913.00</td>\n",
       "      <td>1602500.00</td>\n",
       "    </tr>\n",
       "    <tr>\n",
       "      <th>2011.00</th>\n",
       "      <td>23503.00</td>\n",
       "      <td>1200000.00</td>\n",
       "    </tr>\n",
       "    <tr>\n",
       "      <th>2012.00</th>\n",
       "      <td>24549.00</td>\n",
       "      <td>1000000.00</td>\n",
       "    </tr>\n",
       "    <tr>\n",
       "      <th>2013.00</th>\n",
       "      <td>23978.00</td>\n",
       "      <td>1200000.00</td>\n",
       "    </tr>\n",
       "  </tbody>\n",
       "</table>\n",
       "</div>"
      ],
      "text/plain": [
       "             funding_rounds  raised_amount\n",
       "year_funded                               \n",
       "1960.00               16.00           0.00\n",
       "1973.00                1.00           0.00\n",
       "1974.00                2.00           0.00\n",
       "1984.00                3.00       41000.00\n",
       "1985.00                1.00           0.00\n",
       "1987.00                2.00     1250000.00\n",
       "1989.00                1.00       15000.00\n",
       "1990.00                1.00     1000000.00\n",
       "1992.00                2.00     2000000.00\n",
       "1993.00                2.00       62500.00\n",
       "1994.00                3.00     6700000.00\n",
       "1995.00               13.00     2000000.00\n",
       "1996.00               19.00       12500.00\n",
       "1997.00               18.00     3300000.00\n",
       "1998.00               72.00      100000.00\n",
       "1999.00              268.00     2000000.00\n",
       "2000.00              403.00     4200000.00\n",
       "2001.00              302.00     3000000.00\n",
       "2002.00              385.00     4200000.00\n",
       "2003.00              569.00     3000000.00\n",
       "2004.00             1057.00     5000000.00\n",
       "2005.00             4157.00     5500000.00\n",
       "2006.00             6295.00     5000000.00\n",
       "2007.00             8494.00     3973320.00\n",
       "2008.00             9931.00     3110000.00\n",
       "2009.00            11857.00     2000000.00\n",
       "2010.00            16913.00     1602500.00\n",
       "2011.00            23503.00     1200000.00\n",
       "2012.00            24549.00     1000000.00\n",
       "2013.00            23978.00     1200000.00"
      ]
     },
     "execution_count": 31,
     "metadata": {},
     "output_type": "execute_result"
    },
    {
     "data": {
      "text/html": [
       "<div>\n",
       "<style scoped>\n",
       "    .dataframe tbody tr th:only-of-type {\n",
       "        vertical-align: middle;\n",
       "    }\n",
       "\n",
       "    .dataframe tbody tr th {\n",
       "        vertical-align: top;\n",
       "    }\n",
       "\n",
       "    .dataframe thead th {\n",
       "        text-align: right;\n",
       "    }\n",
       "</style>\n",
       "<table border=\"1\" class=\"dataframe\">\n",
       "  <thead>\n",
       "    <tr style=\"text-align: right;\">\n",
       "      <th></th>\n",
       "      <th>funding_rounds</th>\n",
       "      <th>raised_amount</th>\n",
       "    </tr>\n",
       "    <tr>\n",
       "      <th>year_funded</th>\n",
       "      <th></th>\n",
       "      <th></th>\n",
       "    </tr>\n",
       "  </thead>\n",
       "  <tbody>\n",
       "    <tr>\n",
       "      <th>1960.00</th>\n",
       "      <td>16.00</td>\n",
       "      <td>0.00</td>\n",
       "    </tr>\n",
       "    <tr>\n",
       "      <th>1973.00</th>\n",
       "      <td>1.00</td>\n",
       "      <td>0.00</td>\n",
       "    </tr>\n",
       "    <tr>\n",
       "      <th>1974.00</th>\n",
       "      <td>2.00</td>\n",
       "      <td>0.00</td>\n",
       "    </tr>\n",
       "    <tr>\n",
       "      <th>1984.00</th>\n",
       "      <td>3.00</td>\n",
       "      <td>41000.00</td>\n",
       "    </tr>\n",
       "    <tr>\n",
       "      <th>1985.00</th>\n",
       "      <td>1.00</td>\n",
       "      <td>0.00</td>\n",
       "    </tr>\n",
       "    <tr>\n",
       "      <th>1987.00</th>\n",
       "      <td>2.00</td>\n",
       "      <td>1250000.00</td>\n",
       "    </tr>\n",
       "    <tr>\n",
       "      <th>1989.00</th>\n",
       "      <td>1.00</td>\n",
       "      <td>15000.00</td>\n",
       "    </tr>\n",
       "    <tr>\n",
       "      <th>1990.00</th>\n",
       "      <td>1.00</td>\n",
       "      <td>1000000.00</td>\n",
       "    </tr>\n",
       "    <tr>\n",
       "      <th>1992.00</th>\n",
       "      <td>2.00</td>\n",
       "      <td>2000000.00</td>\n",
       "    </tr>\n",
       "    <tr>\n",
       "      <th>1993.00</th>\n",
       "      <td>2.00</td>\n",
       "      <td>62500.00</td>\n",
       "    </tr>\n",
       "    <tr>\n",
       "      <th>1994.00</th>\n",
       "      <td>3.00</td>\n",
       "      <td>6700000.00</td>\n",
       "    </tr>\n",
       "    <tr>\n",
       "      <th>1995.00</th>\n",
       "      <td>13.00</td>\n",
       "      <td>2000000.00</td>\n",
       "    </tr>\n",
       "    <tr>\n",
       "      <th>1996.00</th>\n",
       "      <td>19.00</td>\n",
       "      <td>12500.00</td>\n",
       "    </tr>\n",
       "    <tr>\n",
       "      <th>1997.00</th>\n",
       "      <td>18.00</td>\n",
       "      <td>3300000.00</td>\n",
       "    </tr>\n",
       "    <tr>\n",
       "      <th>1998.00</th>\n",
       "      <td>72.00</td>\n",
       "      <td>100000.00</td>\n",
       "    </tr>\n",
       "    <tr>\n",
       "      <th>1999.00</th>\n",
       "      <td>268.00</td>\n",
       "      <td>2000000.00</td>\n",
       "    </tr>\n",
       "    <tr>\n",
       "      <th>2000.00</th>\n",
       "      <td>403.00</td>\n",
       "      <td>4200000.00</td>\n",
       "    </tr>\n",
       "    <tr>\n",
       "      <th>2001.00</th>\n",
       "      <td>302.00</td>\n",
       "      <td>3000000.00</td>\n",
       "    </tr>\n",
       "    <tr>\n",
       "      <th>2002.00</th>\n",
       "      <td>385.00</td>\n",
       "      <td>4200000.00</td>\n",
       "    </tr>\n",
       "    <tr>\n",
       "      <th>2003.00</th>\n",
       "      <td>569.00</td>\n",
       "      <td>3000000.00</td>\n",
       "    </tr>\n",
       "    <tr>\n",
       "      <th>2004.00</th>\n",
       "      <td>1057.00</td>\n",
       "      <td>5000000.00</td>\n",
       "    </tr>\n",
       "    <tr>\n",
       "      <th>2005.00</th>\n",
       "      <td>4157.00</td>\n",
       "      <td>5500000.00</td>\n",
       "    </tr>\n",
       "    <tr>\n",
       "      <th>2006.00</th>\n",
       "      <td>6295.00</td>\n",
       "      <td>5000000.00</td>\n",
       "    </tr>\n",
       "    <tr>\n",
       "      <th>2007.00</th>\n",
       "      <td>8494.00</td>\n",
       "      <td>3973320.00</td>\n",
       "    </tr>\n",
       "    <tr>\n",
       "      <th>2008.00</th>\n",
       "      <td>9931.00</td>\n",
       "      <td>3110000.00</td>\n",
       "    </tr>\n",
       "    <tr>\n",
       "      <th>2009.00</th>\n",
       "      <td>11857.00</td>\n",
       "      <td>2000000.00</td>\n",
       "    </tr>\n",
       "    <tr>\n",
       "      <th>2010.00</th>\n",
       "      <td>16913.00</td>\n",
       "      <td>1602500.00</td>\n",
       "    </tr>\n",
       "    <tr>\n",
       "      <th>2011.00</th>\n",
       "      <td>23503.00</td>\n",
       "      <td>1200000.00</td>\n",
       "    </tr>\n",
       "    <tr>\n",
       "      <th>2012.00</th>\n",
       "      <td>24549.00</td>\n",
       "      <td>1000000.00</td>\n",
       "    </tr>\n",
       "    <tr>\n",
       "      <th>2013.00</th>\n",
       "      <td>23978.00</td>\n",
       "      <td>1200000.00</td>\n",
       "    </tr>\n",
       "  </tbody>\n",
       "</table>\n",
       "</div>"
      ],
      "text/plain": [
       "             funding_rounds  raised_amount\n",
       "year_funded                               \n",
       "1960.00               16.00           0.00\n",
       "1973.00                1.00           0.00\n",
       "1974.00                2.00           0.00\n",
       "1984.00                3.00       41000.00\n",
       "1985.00                1.00           0.00\n",
       "1987.00                2.00     1250000.00\n",
       "1989.00                1.00       15000.00\n",
       "1990.00                1.00     1000000.00\n",
       "1992.00                2.00     2000000.00\n",
       "1993.00                2.00       62500.00\n",
       "1994.00                3.00     6700000.00\n",
       "1995.00               13.00     2000000.00\n",
       "1996.00               19.00       12500.00\n",
       "1997.00               18.00     3300000.00\n",
       "1998.00               72.00      100000.00\n",
       "1999.00              268.00     2000000.00\n",
       "2000.00              403.00     4200000.00\n",
       "2001.00              302.00     3000000.00\n",
       "2002.00              385.00     4200000.00\n",
       "2003.00              569.00     3000000.00\n",
       "2004.00             1057.00     5000000.00\n",
       "2005.00             4157.00     5500000.00\n",
       "2006.00             6295.00     5000000.00\n",
       "2007.00             8494.00     3973320.00\n",
       "2008.00             9931.00     3110000.00\n",
       "2009.00            11857.00     2000000.00\n",
       "2010.00            16913.00     1602500.00\n",
       "2011.00            23503.00     1200000.00\n",
       "2012.00            24549.00     1000000.00\n",
       "2013.00            23978.00     1200000.00"
      ]
     },
     "execution_count": 31,
     "metadata": {},
     "output_type": "execute_result"
    }
   ],
   "source": [
    "pivot_table = pd.pivot_table(\n",
    "    data = company_and_rounds,\n",
    "    index = 'year_funded',\n",
    "    values = ['raised_amount', 'funding_rounds'],\n",
    "    aggfunc = {'raised_amount' : 'median',  'funding_rounds' : 'sum'}\n",
    ")\n",
    "pivot_table"
   ]
  },
  {
   "cell_type": "code",
   "execution_count": 32,
   "metadata": {},
   "outputs": [
    {
     "data": {
      "text/html": [
       "<div>\n",
       "<style scoped>\n",
       "    .dataframe tbody tr th:only-of-type {\n",
       "        vertical-align: middle;\n",
       "    }\n",
       "\n",
       "    .dataframe tbody tr th {\n",
       "        vertical-align: top;\n",
       "    }\n",
       "\n",
       "    .dataframe thead th {\n",
       "        text-align: right;\n",
       "    }\n",
       "</style>\n",
       "<table border=\"1\" class=\"dataframe\">\n",
       "  <thead>\n",
       "    <tr style=\"text-align: right;\">\n",
       "      <th></th>\n",
       "      <th>funding_rounds</th>\n",
       "      <th>raised_amount</th>\n",
       "    </tr>\n",
       "    <tr>\n",
       "      <th>year_funded</th>\n",
       "      <th></th>\n",
       "      <th></th>\n",
       "    </tr>\n",
       "  </thead>\n",
       "  <tbody>\n",
       "    <tr>\n",
       "      <th>1998.00</th>\n",
       "      <td>72.00</td>\n",
       "      <td>100000.00</td>\n",
       "    </tr>\n",
       "    <tr>\n",
       "      <th>1999.00</th>\n",
       "      <td>268.00</td>\n",
       "      <td>2000000.00</td>\n",
       "    </tr>\n",
       "    <tr>\n",
       "      <th>2000.00</th>\n",
       "      <td>403.00</td>\n",
       "      <td>4200000.00</td>\n",
       "    </tr>\n",
       "    <tr>\n",
       "      <th>2001.00</th>\n",
       "      <td>302.00</td>\n",
       "      <td>3000000.00</td>\n",
       "    </tr>\n",
       "    <tr>\n",
       "      <th>2002.00</th>\n",
       "      <td>385.00</td>\n",
       "      <td>4200000.00</td>\n",
       "    </tr>\n",
       "    <tr>\n",
       "      <th>2003.00</th>\n",
       "      <td>569.00</td>\n",
       "      <td>3000000.00</td>\n",
       "    </tr>\n",
       "    <tr>\n",
       "      <th>2004.00</th>\n",
       "      <td>1057.00</td>\n",
       "      <td>5000000.00</td>\n",
       "    </tr>\n",
       "    <tr>\n",
       "      <th>2005.00</th>\n",
       "      <td>4157.00</td>\n",
       "      <td>5500000.00</td>\n",
       "    </tr>\n",
       "    <tr>\n",
       "      <th>2006.00</th>\n",
       "      <td>6295.00</td>\n",
       "      <td>5000000.00</td>\n",
       "    </tr>\n",
       "    <tr>\n",
       "      <th>2007.00</th>\n",
       "      <td>8494.00</td>\n",
       "      <td>3973320.00</td>\n",
       "    </tr>\n",
       "    <tr>\n",
       "      <th>2008.00</th>\n",
       "      <td>9931.00</td>\n",
       "      <td>3110000.00</td>\n",
       "    </tr>\n",
       "    <tr>\n",
       "      <th>2009.00</th>\n",
       "      <td>11857.00</td>\n",
       "      <td>2000000.00</td>\n",
       "    </tr>\n",
       "    <tr>\n",
       "      <th>2010.00</th>\n",
       "      <td>16913.00</td>\n",
       "      <td>1602500.00</td>\n",
       "    </tr>\n",
       "    <tr>\n",
       "      <th>2011.00</th>\n",
       "      <td>23503.00</td>\n",
       "      <td>1200000.00</td>\n",
       "    </tr>\n",
       "    <tr>\n",
       "      <th>2012.00</th>\n",
       "      <td>24549.00</td>\n",
       "      <td>1000000.00</td>\n",
       "    </tr>\n",
       "    <tr>\n",
       "      <th>2013.00</th>\n",
       "      <td>23978.00</td>\n",
       "      <td>1200000.00</td>\n",
       "    </tr>\n",
       "  </tbody>\n",
       "</table>\n",
       "</div>"
      ],
      "text/plain": [
       "             funding_rounds  raised_amount\n",
       "year_funded                               \n",
       "1998.00               72.00      100000.00\n",
       "1999.00              268.00     2000000.00\n",
       "2000.00              403.00     4200000.00\n",
       "2001.00              302.00     3000000.00\n",
       "2002.00              385.00     4200000.00\n",
       "2003.00              569.00     3000000.00\n",
       "2004.00             1057.00     5000000.00\n",
       "2005.00             4157.00     5500000.00\n",
       "2006.00             6295.00     5000000.00\n",
       "2007.00             8494.00     3973320.00\n",
       "2008.00             9931.00     3110000.00\n",
       "2009.00            11857.00     2000000.00\n",
       "2010.00            16913.00     1602500.00\n",
       "2011.00            23503.00     1200000.00\n",
       "2012.00            24549.00     1000000.00\n",
       "2013.00            23978.00     1200000.00"
      ]
     },
     "execution_count": 32,
     "metadata": {},
     "output_type": "execute_result"
    },
    {
     "data": {
      "text/html": [
       "<div>\n",
       "<style scoped>\n",
       "    .dataframe tbody tr th:only-of-type {\n",
       "        vertical-align: middle;\n",
       "    }\n",
       "\n",
       "    .dataframe tbody tr th {\n",
       "        vertical-align: top;\n",
       "    }\n",
       "\n",
       "    .dataframe thead th {\n",
       "        text-align: right;\n",
       "    }\n",
       "</style>\n",
       "<table border=\"1\" class=\"dataframe\">\n",
       "  <thead>\n",
       "    <tr style=\"text-align: right;\">\n",
       "      <th></th>\n",
       "      <th>funding_rounds</th>\n",
       "      <th>raised_amount</th>\n",
       "    </tr>\n",
       "    <tr>\n",
       "      <th>year_funded</th>\n",
       "      <th></th>\n",
       "      <th></th>\n",
       "    </tr>\n",
       "  </thead>\n",
       "  <tbody>\n",
       "    <tr>\n",
       "      <th>1998.00</th>\n",
       "      <td>72.00</td>\n",
       "      <td>100000.00</td>\n",
       "    </tr>\n",
       "    <tr>\n",
       "      <th>1999.00</th>\n",
       "      <td>268.00</td>\n",
       "      <td>2000000.00</td>\n",
       "    </tr>\n",
       "    <tr>\n",
       "      <th>2000.00</th>\n",
       "      <td>403.00</td>\n",
       "      <td>4200000.00</td>\n",
       "    </tr>\n",
       "    <tr>\n",
       "      <th>2001.00</th>\n",
       "      <td>302.00</td>\n",
       "      <td>3000000.00</td>\n",
       "    </tr>\n",
       "    <tr>\n",
       "      <th>2002.00</th>\n",
       "      <td>385.00</td>\n",
       "      <td>4200000.00</td>\n",
       "    </tr>\n",
       "    <tr>\n",
       "      <th>2003.00</th>\n",
       "      <td>569.00</td>\n",
       "      <td>3000000.00</td>\n",
       "    </tr>\n",
       "    <tr>\n",
       "      <th>2004.00</th>\n",
       "      <td>1057.00</td>\n",
       "      <td>5000000.00</td>\n",
       "    </tr>\n",
       "    <tr>\n",
       "      <th>2005.00</th>\n",
       "      <td>4157.00</td>\n",
       "      <td>5500000.00</td>\n",
       "    </tr>\n",
       "    <tr>\n",
       "      <th>2006.00</th>\n",
       "      <td>6295.00</td>\n",
       "      <td>5000000.00</td>\n",
       "    </tr>\n",
       "    <tr>\n",
       "      <th>2007.00</th>\n",
       "      <td>8494.00</td>\n",
       "      <td>3973320.00</td>\n",
       "    </tr>\n",
       "    <tr>\n",
       "      <th>2008.00</th>\n",
       "      <td>9931.00</td>\n",
       "      <td>3110000.00</td>\n",
       "    </tr>\n",
       "    <tr>\n",
       "      <th>2009.00</th>\n",
       "      <td>11857.00</td>\n",
       "      <td>2000000.00</td>\n",
       "    </tr>\n",
       "    <tr>\n",
       "      <th>2010.00</th>\n",
       "      <td>16913.00</td>\n",
       "      <td>1602500.00</td>\n",
       "    </tr>\n",
       "    <tr>\n",
       "      <th>2011.00</th>\n",
       "      <td>23503.00</td>\n",
       "      <td>1200000.00</td>\n",
       "    </tr>\n",
       "    <tr>\n",
       "      <th>2012.00</th>\n",
       "      <td>24549.00</td>\n",
       "      <td>1000000.00</td>\n",
       "    </tr>\n",
       "    <tr>\n",
       "      <th>2013.00</th>\n",
       "      <td>23978.00</td>\n",
       "      <td>1200000.00</td>\n",
       "    </tr>\n",
       "  </tbody>\n",
       "</table>\n",
       "</div>"
      ],
      "text/plain": [
       "             funding_rounds  raised_amount\n",
       "year_funded                               \n",
       "1998.00               72.00      100000.00\n",
       "1999.00              268.00     2000000.00\n",
       "2000.00              403.00     4200000.00\n",
       "2001.00              302.00     3000000.00\n",
       "2002.00              385.00     4200000.00\n",
       "2003.00              569.00     3000000.00\n",
       "2004.00             1057.00     5000000.00\n",
       "2005.00             4157.00     5500000.00\n",
       "2006.00             6295.00     5000000.00\n",
       "2007.00             8494.00     3973320.00\n",
       "2008.00             9931.00     3110000.00\n",
       "2009.00            11857.00     2000000.00\n",
       "2010.00            16913.00     1602500.00\n",
       "2011.00            23503.00     1200000.00\n",
       "2012.00            24549.00     1000000.00\n",
       "2013.00            23978.00     1200000.00"
      ]
     },
     "execution_count": 32,
     "metadata": {},
     "output_type": "execute_result"
    }
   ],
   "source": [
    "# Оставляем в таблице информацию только для тех лет, для которых есть информация о более чем 50 раундах финансирования.\n",
    "filtered_pivot_table = pivot_table[pivot_table['funding_rounds'] > 50]\n",
    "filtered_pivot_table"
   ]
  },
  {
   "cell_type": "code",
   "execution_count": 33,
   "metadata": {},
   "outputs": [
    {
     "data": {
      "image/png": "[encoded data removed]",
      "text/plain": [
       "<Figure size 720x432 with 1 Axes>"
      ]
     },
     "metadata": {
      "needs_background": "light"
     },
     "output_type": "display_data"
    },
    {
     "data": {
      "image/png": "[encoded data removed]",
      "text/plain": [
       "<Figure size 720x432 with 1 Axes>"
      ]
     },
     "metadata": {
      "needs_background": "light"
     },
     "output_type": "display_data"
    }
   ],
   "source": [
    "plt.figure(figsize=(10, 6))\n",
    "plt.plot(filtered_pivot_table.index, filtered_pivot_table['raised_amount'], marker='o', linestyle='-', color='b')\n",
    "plt.title('Динамика типичного размера средств, получаемых стартапами в рамках одного раунда')\n",
    "plt.xlabel('Год')\n",
    "plt.ylabel('Медиана размера средств')\n",
    "plt.grid(True)\n",
    "plt.show()"
   ]
  },
  {
   "cell_type": "markdown",
   "metadata": {},
   "source": [
    "Максимальный размер средств был собран в 2005 году и достиг 5 500 000.\n",
    "К 2013 году тенденция по количеству раундов стала более стабильной, чем раньше, хоть и в 2012 количество было немного больше. В 2011 году - 23 503 раунда, 2012 году - 24 549 раунда, а в 2013 - 23 978 раунда, из чего следует что динамика стабильная и положительная. А что касается выделяемых средств, то данная ситуация координально противоположная по сравнению с динамикой по количеству раундов. С 2005 года размер выделяемых средств на один раунд с каждым годом уменьшается. Итого в 2005 году он составлял 5 500 000, а в 2013 году 1 200 000, что в 4,5 раза меньше. "
   ]
  },
  {
   "cell_type": "markdown",
   "metadata": {},
   "source": [
    " "
   ]
  },
  {
   "cell_type": "markdown",
   "metadata": {},
   "source": [
    " "
   ]
  },
  {
   "cell_type": "markdown",
   "metadata": {
    "id": "45if1en1rJg2"
   },
   "source": [
    "\n",
    "### 2.2. Люди и их образование\n"
   ]
  },
  {
   "cell_type": "code",
   "execution_count": 34,
   "metadata": {
    "id": "psPO7C4MrJg2"
   },
   "outputs": [
    {
     "data": {
      "text/html": [
       "<div>\n",
       "<style scoped>\n",
       "    .dataframe tbody tr th:only-of-type {\n",
       "        vertical-align: middle;\n",
       "    }\n",
       "\n",
       "    .dataframe tbody tr th {\n",
       "        vertical-align: top;\n",
       "    }\n",
       "\n",
       "    .dataframe thead th {\n",
       "        text-align: right;\n",
       "    }\n",
       "</style>\n",
       "<table border=\"1\" class=\"dataframe\">\n",
       "  <thead>\n",
       "    <tr style=\"text-align: right;\">\n",
       "      <th></th>\n",
       "      <th>id_x</th>\n",
       "      <th>first_name</th>\n",
       "      <th>last_name</th>\n",
       "      <th>company_id</th>\n",
       "      <th>network_username</th>\n",
       "      <th>id_y</th>\n",
       "      <th>person_id</th>\n",
       "      <th>instituition</th>\n",
       "      <th>graduated_at</th>\n",
       "    </tr>\n",
       "  </thead>\n",
       "  <tbody>\n",
       "    <tr>\n",
       "      <th>0</th>\n",
       "      <td>10</td>\n",
       "      <td>Mark</td>\n",
       "      <td>Zuckerberg</td>\n",
       "      <td>5</td>\n",
       "      <td>NaN</td>\n",
       "      <td>2415.00</td>\n",
       "      <td>10.00</td>\n",
       "      <td>Harvard University</td>\n",
       "      <td>NaT</td>\n",
       "    </tr>\n",
       "    <tr>\n",
       "      <th>1</th>\n",
       "      <td>100</td>\n",
       "      <td>Peter</td>\n",
       "      <td>Lester</td>\n",
       "      <td>27</td>\n",
       "      <td>NaN</td>\n",
       "      <td>NaN</td>\n",
       "      <td>NaN</td>\n",
       "      <td>NaN</td>\n",
       "      <td>NaT</td>\n",
       "    </tr>\n",
       "    <tr>\n",
       "      <th>2</th>\n",
       "      <td>1000</td>\n",
       "      <td>Dr. Steven</td>\n",
       "      <td>E. Saunders</td>\n",
       "      <td>292</td>\n",
       "      <td>NaN</td>\n",
       "      <td>NaN</td>\n",
       "      <td>NaN</td>\n",
       "      <td>NaN</td>\n",
       "      <td>NaT</td>\n",
       "    </tr>\n",
       "    <tr>\n",
       "      <th>3</th>\n",
       "      <td>10000</td>\n",
       "      <td>Neil</td>\n",
       "      <td>Capel</td>\n",
       "      <td>2526</td>\n",
       "      <td>NaN</td>\n",
       "      <td>NaN</td>\n",
       "      <td>NaN</td>\n",
       "      <td>NaN</td>\n",
       "      <td>NaT</td>\n",
       "    </tr>\n",
       "    <tr>\n",
       "      <th>4</th>\n",
       "      <td>100000</td>\n",
       "      <td>Sue</td>\n",
       "      <td>Pilsch</td>\n",
       "      <td>0</td>\n",
       "      <td>NaN</td>\n",
       "      <td>NaN</td>\n",
       "      <td>NaN</td>\n",
       "      <td>NaN</td>\n",
       "      <td>NaT</td>\n",
       "    </tr>\n",
       "    <tr>\n",
       "      <th>...</th>\n",
       "      <td>...</td>\n",
       "      <td>...</td>\n",
       "      <td>...</td>\n",
       "      <td>...</td>\n",
       "      <td>...</td>\n",
       "      <td>...</td>\n",
       "      <td>...</td>\n",
       "      <td>...</td>\n",
       "      <td>...</td>\n",
       "    </tr>\n",
       "    <tr>\n",
       "      <th>267689</th>\n",
       "      <td>99999</td>\n",
       "      <td>Ramon</td>\n",
       "      <td>Peypoch</td>\n",
       "      <td>0</td>\n",
       "      <td>NaN</td>\n",
       "      <td>NaN</td>\n",
       "      <td>NaN</td>\n",
       "      <td>NaN</td>\n",
       "      <td>NaT</td>\n",
       "    </tr>\n",
       "    <tr>\n",
       "      <th>267690</th>\n",
       "      <td>174088</td>\n",
       "      <td>Dr. Ray</td>\n",
       "      <td>Woods</td>\n",
       "      <td>188200</td>\n",
       "      <td>network</td>\n",
       "      <td>25958.00</td>\n",
       "      <td>174088.00</td>\n",
       "      <td>Sydney University Medical School</td>\n",
       "      <td>1982-01-01</td>\n",
       "    </tr>\n",
       "    <tr>\n",
       "      <th>267691</th>\n",
       "      <td>118386</td>\n",
       "      <td>Ricardo</td>\n",
       "      <td>Durand</td>\n",
       "      <td>143419</td>\n",
       "      <td>itechsocialnet</td>\n",
       "      <td>18871.00</td>\n",
       "      <td>118386.00</td>\n",
       "      <td>ESCS</td>\n",
       "      <td>2004-01-01</td>\n",
       "    </tr>\n",
       "    <tr>\n",
       "      <th>267692</th>\n",
       "      <td>175827</td>\n",
       "      <td>mahesh</td>\n",
       "      <td>kumar</td>\n",
       "      <td>0</td>\n",
       "      <td>socialnethubs</td>\n",
       "      <td>NaN</td>\n",
       "      <td>NaN</td>\n",
       "      <td>NaN</td>\n",
       "      <td>NaT</td>\n",
       "    </tr>\n",
       "    <tr>\n",
       "      <th>267693</th>\n",
       "      <td>178190</td>\n",
       "      <td>Alex</td>\n",
       "      <td>Smith</td>\n",
       "      <td>0</td>\n",
       "      <td>esocialnetlike</td>\n",
       "      <td>NaN</td>\n",
       "      <td>NaN</td>\n",
       "      <td>NaN</td>\n",
       "      <td>NaT</td>\n",
       "    </tr>\n",
       "  </tbody>\n",
       "</table>\n",
       "<p>267694 rows × 9 columns</p>\n",
       "</div>"
      ],
      "text/plain": [
       "          id_x  first_name    last_name  company_id network_username     id_y  \\\n",
       "0           10        Mark   Zuckerberg           5              NaN  2415.00   \n",
       "1          100       Peter       Lester          27              NaN      NaN   \n",
       "2         1000  Dr. Steven  E. Saunders         292              NaN      NaN   \n",
       "3        10000        Neil        Capel        2526              NaN      NaN   \n",
       "4       100000         Sue       Pilsch           0              NaN      NaN   \n",
       "...        ...         ...          ...         ...              ...      ...   \n",
       "267689   99999       Ramon      Peypoch           0              NaN      NaN   \n",
       "267690  174088     Dr. Ray        Woods      188200          network 25958.00   \n",
       "267691  118386     Ricardo       Durand      143419   itechsocialnet 18871.00   \n",
       "267692  175827      mahesh        kumar           0    socialnethubs      NaN   \n",
       "267693  178190        Alex        Smith           0   esocialnetlike      NaN   \n",
       "\n",
       "        person_id                      instituition graduated_at  \n",
       "0           10.00                Harvard University          NaT  \n",
       "1             NaN                               NaN          NaT  \n",
       "2             NaN                               NaN          NaT  \n",
       "3             NaN                               NaN          NaT  \n",
       "4             NaN                               NaN          NaT  \n",
       "...           ...                               ...          ...  \n",
       "267689        NaN                               NaN          NaT  \n",
       "267690  174088.00  Sydney University Medical School   1982-01-01  \n",
       "267691  118386.00                              ESCS   2004-01-01  \n",
       "267692        NaN                               NaN          NaT  \n",
       "267693        NaN                               NaN          NaT  \n",
       "\n",
       "[267694 rows x 9 columns]"
      ]
     },
     "execution_count": 34,
     "metadata": {},
     "output_type": "execute_result"
    },
    {
     "data": {
      "text/html": [
       "<div>\n",
       "<style scoped>\n",
       "    .dataframe tbody tr th:only-of-type {\n",
       "        vertical-align: middle;\n",
       "    }\n",
       "\n",
       "    .dataframe tbody tr th {\n",
       "        vertical-align: top;\n",
       "    }\n",
       "\n",
       "    .dataframe thead th {\n",
       "        text-align: right;\n",
       "    }\n",
       "</style>\n",
       "<table border=\"1\" class=\"dataframe\">\n",
       "  <thead>\n",
       "    <tr style=\"text-align: right;\">\n",
       "      <th></th>\n",
       "      <th>id_x</th>\n",
       "      <th>first_name</th>\n",
       "      <th>last_name</th>\n",
       "      <th>company_id</th>\n",
       "      <th>network_username</th>\n",
       "      <th>id_y</th>\n",
       "      <th>person_id</th>\n",
       "      <th>instituition</th>\n",
       "      <th>graduated_at</th>\n",
       "    </tr>\n",
       "  </thead>\n",
       "  <tbody>\n",
       "    <tr>\n",
       "      <th>0</th>\n",
       "      <td>10</td>\n",
       "      <td>Mark</td>\n",
       "      <td>Zuckerberg</td>\n",
       "      <td>5</td>\n",
       "      <td>NaN</td>\n",
       "      <td>2415.00</td>\n",
       "      <td>10.00</td>\n",
       "      <td>Harvard University</td>\n",
       "      <td>NaT</td>\n",
       "    </tr>\n",
       "    <tr>\n",
       "      <th>1</th>\n",
       "      <td>100</td>\n",
       "      <td>Peter</td>\n",
       "      <td>Lester</td>\n",
       "      <td>27</td>\n",
       "      <td>NaN</td>\n",
       "      <td>NaN</td>\n",
       "      <td>NaN</td>\n",
       "      <td>NaN</td>\n",
       "      <td>NaT</td>\n",
       "    </tr>\n",
       "    <tr>\n",
       "      <th>2</th>\n",
       "      <td>1000</td>\n",
       "      <td>Dr. Steven</td>\n",
       "      <td>E. Saunders</td>\n",
       "      <td>292</td>\n",
       "      <td>NaN</td>\n",
       "      <td>NaN</td>\n",
       "      <td>NaN</td>\n",
       "      <td>NaN</td>\n",
       "      <td>NaT</td>\n",
       "    </tr>\n",
       "    <tr>\n",
       "      <th>3</th>\n",
       "      <td>10000</td>\n",
       "      <td>Neil</td>\n",
       "      <td>Capel</td>\n",
       "      <td>2526</td>\n",
       "      <td>NaN</td>\n",
       "      <td>NaN</td>\n",
       "      <td>NaN</td>\n",
       "      <td>NaN</td>\n",
       "      <td>NaT</td>\n",
       "    </tr>\n",
       "    <tr>\n",
       "      <th>4</th>\n",
       "      <td>100000</td>\n",
       "      <td>Sue</td>\n",
       "      <td>Pilsch</td>\n",
       "      <td>0</td>\n",
       "      <td>NaN</td>\n",
       "      <td>NaN</td>\n",
       "      <td>NaN</td>\n",
       "      <td>NaN</td>\n",
       "      <td>NaT</td>\n",
       "    </tr>\n",
       "    <tr>\n",
       "      <th>...</th>\n",
       "      <td>...</td>\n",
       "      <td>...</td>\n",
       "      <td>...</td>\n",
       "      <td>...</td>\n",
       "      <td>...</td>\n",
       "      <td>...</td>\n",
       "      <td>...</td>\n",
       "      <td>...</td>\n",
       "      <td>...</td>\n",
       "    </tr>\n",
       "    <tr>\n",
       "      <th>267689</th>\n",
       "      <td>99999</td>\n",
       "      <td>Ramon</td>\n",
       "      <td>Peypoch</td>\n",
       "      <td>0</td>\n",
       "      <td>NaN</td>\n",
       "      <td>NaN</td>\n",
       "      <td>NaN</td>\n",
       "      <td>NaN</td>\n",
       "      <td>NaT</td>\n",
       "    </tr>\n",
       "    <tr>\n",
       "      <th>267690</th>\n",
       "      <td>174088</td>\n",
       "      <td>Dr. Ray</td>\n",
       "      <td>Woods</td>\n",
       "      <td>188200</td>\n",
       "      <td>network</td>\n",
       "      <td>25958.00</td>\n",
       "      <td>174088.00</td>\n",
       "      <td>Sydney University Medical School</td>\n",
       "      <td>1982-01-01</td>\n",
       "    </tr>\n",
       "    <tr>\n",
       "      <th>267691</th>\n",
       "      <td>118386</td>\n",
       "      <td>Ricardo</td>\n",
       "      <td>Durand</td>\n",
       "      <td>143419</td>\n",
       "      <td>itechsocialnet</td>\n",
       "      <td>18871.00</td>\n",
       "      <td>118386.00</td>\n",
       "      <td>ESCS</td>\n",
       "      <td>2004-01-01</td>\n",
       "    </tr>\n",
       "    <tr>\n",
       "      <th>267692</th>\n",
       "      <td>175827</td>\n",
       "      <td>mahesh</td>\n",
       "      <td>kumar</td>\n",
       "      <td>0</td>\n",
       "      <td>socialnethubs</td>\n",
       "      <td>NaN</td>\n",
       "      <td>NaN</td>\n",
       "      <td>NaN</td>\n",
       "      <td>NaT</td>\n",
       "    </tr>\n",
       "    <tr>\n",
       "      <th>267693</th>\n",
       "      <td>178190</td>\n",
       "      <td>Alex</td>\n",
       "      <td>Smith</td>\n",
       "      <td>0</td>\n",
       "      <td>esocialnetlike</td>\n",
       "      <td>NaN</td>\n",
       "      <td>NaN</td>\n",
       "      <td>NaN</td>\n",
       "      <td>NaT</td>\n",
       "    </tr>\n",
       "  </tbody>\n",
       "</table>\n",
       "<p>267694 rows × 9 columns</p>\n",
       "</div>"
      ],
      "text/plain": [
       "          id_x  first_name    last_name  company_id network_username     id_y  \\\n",
       "0           10        Mark   Zuckerberg           5              NaN  2415.00   \n",
       "1          100       Peter       Lester          27              NaN      NaN   \n",
       "2         1000  Dr. Steven  E. Saunders         292              NaN      NaN   \n",
       "3        10000        Neil        Capel        2526              NaN      NaN   \n",
       "4       100000         Sue       Pilsch           0              NaN      NaN   \n",
       "...        ...         ...          ...         ...              ...      ...   \n",
       "267689   99999       Ramon      Peypoch           0              NaN      NaN   \n",
       "267690  174088     Dr. Ray        Woods      188200          network 25958.00   \n",
       "267691  118386     Ricardo       Durand      143419   itechsocialnet 18871.00   \n",
       "267692  175827      mahesh        kumar           0    socialnethubs      NaN   \n",
       "267693  178190        Alex        Smith           0   esocialnetlike      NaN   \n",
       "\n",
       "        person_id                      instituition graduated_at  \n",
       "0           10.00                Harvard University          NaT  \n",
       "1             NaN                               NaN          NaT  \n",
       "2             NaN                               NaN          NaT  \n",
       "3             NaN                               NaN          NaT  \n",
       "4             NaN                               NaN          NaT  \n",
       "...           ...                               ...          ...  \n",
       "267689        NaN                               NaN          NaT  \n",
       "267690  174088.00  Sydney University Medical School   1982-01-01  \n",
       "267691  118386.00                              ESCS   2004-01-01  \n",
       "267692        NaN                               NaN          NaT  \n",
       "267693        NaN                               NaN          NaT  \n",
       "\n",
       "[267694 rows x 9 columns]"
      ]
     },
     "execution_count": 34,
     "metadata": {},
     "output_type": "execute_result"
    }
   ],
   "source": [
    "# группируем датасеты `people.csv` и `education.csv` в единый датафрейм\n",
    "people_education = people.merge(education, left_on = 'id', right_on = 'person_id', how = 'left')\n",
    "people_education"
   ]
  },
  {
   "cell_type": "code",
   "execution_count": 35,
   "metadata": {
    "id": "xdQ6H5ZSn1ZM"
   },
   "outputs": [],
   "source": [
    "# добавляем столбец с информацией о наличии образовании сотрудника \n",
    "people_education['no_education'] = people_education['instituition'].isna()"
   ]
  },
  {
   "cell_type": "code",
   "execution_count": 36,
   "metadata": {},
   "outputs": [],
   "source": [
    "# считаем количество сотрудников в каждой компании\n",
    "people_count_c = people_education.groupby('company_id')['id_x'].nunique().reset_index(name='people_count')"
   ]
  },
  {
   "cell_type": "code",
   "execution_count": 37,
   "metadata": {},
   "outputs": [
    {
     "data": {
      "text/html": [
       "<div>\n",
       "<style scoped>\n",
       "    .dataframe tbody tr th:only-of-type {\n",
       "        vertical-align: middle;\n",
       "    }\n",
       "\n",
       "    .dataframe tbody tr th {\n",
       "        vertical-align: top;\n",
       "    }\n",
       "\n",
       "    .dataframe thead th {\n",
       "        text-align: right;\n",
       "    }\n",
       "</style>\n",
       "<table border=\"1\" class=\"dataframe\">\n",
       "  <thead>\n",
       "    <tr style=\"text-align: right;\">\n",
       "      <th></th>\n",
       "      <th>id_x</th>\n",
       "      <th>first_name</th>\n",
       "      <th>last_name</th>\n",
       "      <th>company_id</th>\n",
       "      <th>network_username</th>\n",
       "      <th>id_y</th>\n",
       "      <th>person_id</th>\n",
       "      <th>instituition</th>\n",
       "      <th>graduated_at</th>\n",
       "      <th>no_education</th>\n",
       "      <th>people_count</th>\n",
       "    </tr>\n",
       "  </thead>\n",
       "  <tbody>\n",
       "    <tr>\n",
       "      <th>0</th>\n",
       "      <td>10</td>\n",
       "      <td>Mark</td>\n",
       "      <td>Zuckerberg</td>\n",
       "      <td>5</td>\n",
       "      <td>NaN</td>\n",
       "      <td>2415.00</td>\n",
       "      <td>10.00</td>\n",
       "      <td>Harvard University</td>\n",
       "      <td>NaT</td>\n",
       "      <td>False</td>\n",
       "      <td>61</td>\n",
       "    </tr>\n",
       "    <tr>\n",
       "      <th>1</th>\n",
       "      <td>10430</td>\n",
       "      <td>Ruchi</td>\n",
       "      <td>Sanghvi</td>\n",
       "      <td>5</td>\n",
       "      <td>rsanghvi</td>\n",
       "      <td>4247.00</td>\n",
       "      <td>10430.00</td>\n",
       "      <td>Carnegie Mellon University</td>\n",
       "      <td>NaT</td>\n",
       "      <td>False</td>\n",
       "      <td>61</td>\n",
       "    </tr>\n",
       "    <tr>\n",
       "      <th>2</th>\n",
       "      <td>10430</td>\n",
       "      <td>Ruchi</td>\n",
       "      <td>Sanghvi</td>\n",
       "      <td>5</td>\n",
       "      <td>rsanghvi</td>\n",
       "      <td>4248.00</td>\n",
       "      <td>10430.00</td>\n",
       "      <td>Carnegie Mellon University</td>\n",
       "      <td>NaT</td>\n",
       "      <td>False</td>\n",
       "      <td>61</td>\n",
       "    </tr>\n",
       "    <tr>\n",
       "      <th>3</th>\n",
       "      <td>106199</td>\n",
       "      <td>Adam</td>\n",
       "      <td>Marchick</td>\n",
       "      <td>5</td>\n",
       "      <td>adammarstanford</td>\n",
       "      <td>15666.00</td>\n",
       "      <td>106199.00</td>\n",
       "      <td>Stanford University</td>\n",
       "      <td>2002-01-01</td>\n",
       "      <td>False</td>\n",
       "      <td>61</td>\n",
       "    </tr>\n",
       "    <tr>\n",
       "      <th>4</th>\n",
       "      <td>108814</td>\n",
       "      <td>Jimmy</td>\n",
       "      <td>Zhu</td>\n",
       "      <td>5</td>\n",
       "      <td>jyzhu</td>\n",
       "      <td>16050.00</td>\n",
       "      <td>108814.00</td>\n",
       "      <td>Massachusetts Institute of Technology (MIT)</td>\n",
       "      <td>NaT</td>\n",
       "      <td>False</td>\n",
       "      <td>61</td>\n",
       "    </tr>\n",
       "    <tr>\n",
       "      <th>...</th>\n",
       "      <td>...</td>\n",
       "      <td>...</td>\n",
       "      <td>...</td>\n",
       "      <td>...</td>\n",
       "      <td>...</td>\n",
       "      <td>...</td>\n",
       "      <td>...</td>\n",
       "      <td>...</td>\n",
       "      <td>...</td>\n",
       "      <td>...</td>\n",
       "      <td>...</td>\n",
       "    </tr>\n",
       "    <tr>\n",
       "      <th>267689</th>\n",
       "      <td>99997</td>\n",
       "      <td>Peter</td>\n",
       "      <td>Lalonde</td>\n",
       "      <td>83651</td>\n",
       "      <td>peterlalonde</td>\n",
       "      <td>69682.00</td>\n",
       "      <td>99997.00</td>\n",
       "      <td>University of Ottawa</td>\n",
       "      <td>1993-01-01</td>\n",
       "      <td>False</td>\n",
       "      <td>1</td>\n",
       "    </tr>\n",
       "    <tr>\n",
       "      <th>267690</th>\n",
       "      <td>99997</td>\n",
       "      <td>Peter</td>\n",
       "      <td>Lalonde</td>\n",
       "      <td>83651</td>\n",
       "      <td>peterlalonde</td>\n",
       "      <td>69683.00</td>\n",
       "      <td>99997.00</td>\n",
       "      <td>Concordia University</td>\n",
       "      <td>1991-01-01</td>\n",
       "      <td>False</td>\n",
       "      <td>1</td>\n",
       "    </tr>\n",
       "    <tr>\n",
       "      <th>267691</th>\n",
       "      <td>99997</td>\n",
       "      <td>Peter</td>\n",
       "      <td>Lalonde</td>\n",
       "      <td>83651</td>\n",
       "      <td>peterlalonde</td>\n",
       "      <td>69684.00</td>\n",
       "      <td>99997.00</td>\n",
       "      <td>John Abbott College</td>\n",
       "      <td>1989-01-01</td>\n",
       "      <td>False</td>\n",
       "      <td>1</td>\n",
       "    </tr>\n",
       "    <tr>\n",
       "      <th>267692</th>\n",
       "      <td>174088</td>\n",
       "      <td>Dr. Ray</td>\n",
       "      <td>Woods</td>\n",
       "      <td>188200</td>\n",
       "      <td>network</td>\n",
       "      <td>25958.00</td>\n",
       "      <td>174088.00</td>\n",
       "      <td>Sydney University Medical School</td>\n",
       "      <td>1982-01-01</td>\n",
       "      <td>False</td>\n",
       "      <td>1</td>\n",
       "    </tr>\n",
       "    <tr>\n",
       "      <th>267693</th>\n",
       "      <td>118386</td>\n",
       "      <td>Ricardo</td>\n",
       "      <td>Durand</td>\n",
       "      <td>143419</td>\n",
       "      <td>itechsocialnet</td>\n",
       "      <td>18871.00</td>\n",
       "      <td>118386.00</td>\n",
       "      <td>ESCS</td>\n",
       "      <td>2004-01-01</td>\n",
       "      <td>False</td>\n",
       "      <td>1</td>\n",
       "    </tr>\n",
       "  </tbody>\n",
       "</table>\n",
       "<p>267694 rows × 11 columns</p>\n",
       "</div>"
      ],
      "text/plain": [
       "          id_x first_name   last_name  company_id network_username     id_y  \\\n",
       "0           10       Mark  Zuckerberg           5              NaN  2415.00   \n",
       "1        10430      Ruchi     Sanghvi           5         rsanghvi  4247.00   \n",
       "2        10430      Ruchi     Sanghvi           5         rsanghvi  4248.00   \n",
       "3       106199       Adam    Marchick           5  adammarstanford 15666.00   \n",
       "4       108814      Jimmy         Zhu           5            jyzhu 16050.00   \n",
       "...        ...        ...         ...         ...              ...      ...   \n",
       "267689   99997      Peter     Lalonde       83651     peterlalonde 69682.00   \n",
       "267690   99997      Peter     Lalonde       83651     peterlalonde 69683.00   \n",
       "267691   99997      Peter     Lalonde       83651     peterlalonde 69684.00   \n",
       "267692  174088    Dr. Ray       Woods      188200          network 25958.00   \n",
       "267693  118386    Ricardo      Durand      143419   itechsocialnet 18871.00   \n",
       "\n",
       "        person_id                                 instituition graduated_at  \\\n",
       "0           10.00                           Harvard University          NaT   \n",
       "1        10430.00                   Carnegie Mellon University          NaT   \n",
       "2        10430.00                   Carnegie Mellon University          NaT   \n",
       "3       106199.00                          Stanford University   2002-01-01   \n",
       "4       108814.00  Massachusetts Institute of Technology (MIT)          NaT   \n",
       "...           ...                                          ...          ...   \n",
       "267689   99997.00                         University of Ottawa   1993-01-01   \n",
       "267690   99997.00                         Concordia University   1991-01-01   \n",
       "267691   99997.00                          John Abbott College   1989-01-01   \n",
       "267692  174088.00             Sydney University Medical School   1982-01-01   \n",
       "267693  118386.00                                         ESCS   2004-01-01   \n",
       "\n",
       "        no_education  people_count  \n",
       "0              False            61  \n",
       "1              False            61  \n",
       "2              False            61  \n",
       "3              False            61  \n",
       "4              False            61  \n",
       "...              ...           ...  \n",
       "267689         False             1  \n",
       "267690         False             1  \n",
       "267691         False             1  \n",
       "267692         False             1  \n",
       "267693         False             1  \n",
       "\n",
       "[267694 rows x 11 columns]"
      ]
     },
     "execution_count": 37,
     "metadata": {},
     "output_type": "execute_result"
    },
    {
     "data": {
      "text/html": [
       "<div>\n",
       "<style scoped>\n",
       "    .dataframe tbody tr th:only-of-type {\n",
       "        vertical-align: middle;\n",
       "    }\n",
       "\n",
       "    .dataframe tbody tr th {\n",
       "        vertical-align: top;\n",
       "    }\n",
       "\n",
       "    .dataframe thead th {\n",
       "        text-align: right;\n",
       "    }\n",
       "</style>\n",
       "<table border=\"1\" class=\"dataframe\">\n",
       "  <thead>\n",
       "    <tr style=\"text-align: right;\">\n",
       "      <th></th>\n",
       "      <th>id_x</th>\n",
       "      <th>first_name</th>\n",
       "      <th>last_name</th>\n",
       "      <th>company_id</th>\n",
       "      <th>network_username</th>\n",
       "      <th>id_y</th>\n",
       "      <th>person_id</th>\n",
       "      <th>instituition</th>\n",
       "      <th>graduated_at</th>\n",
       "      <th>no_education</th>\n",
       "      <th>people_count</th>\n",
       "    </tr>\n",
       "  </thead>\n",
       "  <tbody>\n",
       "    <tr>\n",
       "      <th>0</th>\n",
       "      <td>10</td>\n",
       "      <td>Mark</td>\n",
       "      <td>Zuckerberg</td>\n",
       "      <td>5</td>\n",
       "      <td>NaN</td>\n",
       "      <td>2415.00</td>\n",
       "      <td>10.00</td>\n",
       "      <td>Harvard University</td>\n",
       "      <td>NaT</td>\n",
       "      <td>False</td>\n",
       "      <td>61</td>\n",
       "    </tr>\n",
       "    <tr>\n",
       "      <th>1</th>\n",
       "      <td>10430</td>\n",
       "      <td>Ruchi</td>\n",
       "      <td>Sanghvi</td>\n",
       "      <td>5</td>\n",
       "      <td>rsanghvi</td>\n",
       "      <td>4247.00</td>\n",
       "      <td>10430.00</td>\n",
       "      <td>Carnegie Mellon University</td>\n",
       "      <td>NaT</td>\n",
       "      <td>False</td>\n",
       "      <td>61</td>\n",
       "    </tr>\n",
       "    <tr>\n",
       "      <th>2</th>\n",
       "      <td>10430</td>\n",
       "      <td>Ruchi</td>\n",
       "      <td>Sanghvi</td>\n",
       "      <td>5</td>\n",
       "      <td>rsanghvi</td>\n",
       "      <td>4248.00</td>\n",
       "      <td>10430.00</td>\n",
       "      <td>Carnegie Mellon University</td>\n",
       "      <td>NaT</td>\n",
       "      <td>False</td>\n",
       "      <td>61</td>\n",
       "    </tr>\n",
       "    <tr>\n",
       "      <th>3</th>\n",
       "      <td>106199</td>\n",
       "      <td>Adam</td>\n",
       "      <td>Marchick</td>\n",
       "      <td>5</td>\n",
       "      <td>adammarstanford</td>\n",
       "      <td>15666.00</td>\n",
       "      <td>106199.00</td>\n",
       "      <td>Stanford University</td>\n",
       "      <td>2002-01-01</td>\n",
       "      <td>False</td>\n",
       "      <td>61</td>\n",
       "    </tr>\n",
       "    <tr>\n",
       "      <th>4</th>\n",
       "      <td>108814</td>\n",
       "      <td>Jimmy</td>\n",
       "      <td>Zhu</td>\n",
       "      <td>5</td>\n",
       "      <td>jyzhu</td>\n",
       "      <td>16050.00</td>\n",
       "      <td>108814.00</td>\n",
       "      <td>Massachusetts Institute of Technology (MIT)</td>\n",
       "      <td>NaT</td>\n",
       "      <td>False</td>\n",
       "      <td>61</td>\n",
       "    </tr>\n",
       "    <tr>\n",
       "      <th>...</th>\n",
       "      <td>...</td>\n",
       "      <td>...</td>\n",
       "      <td>...</td>\n",
       "      <td>...</td>\n",
       "      <td>...</td>\n",
       "      <td>...</td>\n",
       "      <td>...</td>\n",
       "      <td>...</td>\n",
       "      <td>...</td>\n",
       "      <td>...</td>\n",
       "      <td>...</td>\n",
       "    </tr>\n",
       "    <tr>\n",
       "      <th>267689</th>\n",
       "      <td>99997</td>\n",
       "      <td>Peter</td>\n",
       "      <td>Lalonde</td>\n",
       "      <td>83651</td>\n",
       "      <td>peterlalonde</td>\n",
       "      <td>69682.00</td>\n",
       "      <td>99997.00</td>\n",
       "      <td>University of Ottawa</td>\n",
       "      <td>1993-01-01</td>\n",
       "      <td>False</td>\n",
       "      <td>1</td>\n",
       "    </tr>\n",
       "    <tr>\n",
       "      <th>267690</th>\n",
       "      <td>99997</td>\n",
       "      <td>Peter</td>\n",
       "      <td>Lalonde</td>\n",
       "      <td>83651</td>\n",
       "      <td>peterlalonde</td>\n",
       "      <td>69683.00</td>\n",
       "      <td>99997.00</td>\n",
       "      <td>Concordia University</td>\n",
       "      <td>1991-01-01</td>\n",
       "      <td>False</td>\n",
       "      <td>1</td>\n",
       "    </tr>\n",
       "    <tr>\n",
       "      <th>267691</th>\n",
       "      <td>99997</td>\n",
       "      <td>Peter</td>\n",
       "      <td>Lalonde</td>\n",
       "      <td>83651</td>\n",
       "      <td>peterlalonde</td>\n",
       "      <td>69684.00</td>\n",
       "      <td>99997.00</td>\n",
       "      <td>John Abbott College</td>\n",
       "      <td>1989-01-01</td>\n",
       "      <td>False</td>\n",
       "      <td>1</td>\n",
       "    </tr>\n",
       "    <tr>\n",
       "      <th>267692</th>\n",
       "      <td>174088</td>\n",
       "      <td>Dr. Ray</td>\n",
       "      <td>Woods</td>\n",
       "      <td>188200</td>\n",
       "      <td>network</td>\n",
       "      <td>25958.00</td>\n",
       "      <td>174088.00</td>\n",
       "      <td>Sydney University Medical School</td>\n",
       "      <td>1982-01-01</td>\n",
       "      <td>False</td>\n",
       "      <td>1</td>\n",
       "    </tr>\n",
       "    <tr>\n",
       "      <th>267693</th>\n",
       "      <td>118386</td>\n",
       "      <td>Ricardo</td>\n",
       "      <td>Durand</td>\n",
       "      <td>143419</td>\n",
       "      <td>itechsocialnet</td>\n",
       "      <td>18871.00</td>\n",
       "      <td>118386.00</td>\n",
       "      <td>ESCS</td>\n",
       "      <td>2004-01-01</td>\n",
       "      <td>False</td>\n",
       "      <td>1</td>\n",
       "    </tr>\n",
       "  </tbody>\n",
       "</table>\n",
       "<p>267694 rows × 11 columns</p>\n",
       "</div>"
      ],
      "text/plain": [
       "          id_x first_name   last_name  company_id network_username     id_y  \\\n",
       "0           10       Mark  Zuckerberg           5              NaN  2415.00   \n",
       "1        10430      Ruchi     Sanghvi           5         rsanghvi  4247.00   \n",
       "2        10430      Ruchi     Sanghvi           5         rsanghvi  4248.00   \n",
       "3       106199       Adam    Marchick           5  adammarstanford 15666.00   \n",
       "4       108814      Jimmy         Zhu           5            jyzhu 16050.00   \n",
       "...        ...        ...         ...         ...              ...      ...   \n",
       "267689   99997      Peter     Lalonde       83651     peterlalonde 69682.00   \n",
       "267690   99997      Peter     Lalonde       83651     peterlalonde 69683.00   \n",
       "267691   99997      Peter     Lalonde       83651     peterlalonde 69684.00   \n",
       "267692  174088    Dr. Ray       Woods      188200          network 25958.00   \n",
       "267693  118386    Ricardo      Durand      143419   itechsocialnet 18871.00   \n",
       "\n",
       "        person_id                                 instituition graduated_at  \\\n",
       "0           10.00                           Harvard University          NaT   \n",
       "1        10430.00                   Carnegie Mellon University          NaT   \n",
       "2        10430.00                   Carnegie Mellon University          NaT   \n",
       "3       106199.00                          Stanford University   2002-01-01   \n",
       "4       108814.00  Massachusetts Institute of Technology (MIT)          NaT   \n",
       "...           ...                                          ...          ...   \n",
       "267689   99997.00                         University of Ottawa   1993-01-01   \n",
       "267690   99997.00                         Concordia University   1991-01-01   \n",
       "267691   99997.00                          John Abbott College   1989-01-01   \n",
       "267692  174088.00             Sydney University Medical School   1982-01-01   \n",
       "267693  118386.00                                         ESCS   2004-01-01   \n",
       "\n",
       "        no_education  people_count  \n",
       "0              False            61  \n",
       "1              False            61  \n",
       "2              False            61  \n",
       "3              False            61  \n",
       "4              False            61  \n",
       "...              ...           ...  \n",
       "267689         False             1  \n",
       "267690         False             1  \n",
       "267691         False             1  \n",
       "267692         False             1  \n",
       "267693         False             1  \n",
       "\n",
       "[267694 rows x 11 columns]"
      ]
     },
     "execution_count": 37,
     "metadata": {},
     "output_type": "execute_result"
    }
   ],
   "source": [
    "# присоединяем полученное значение количества сотрудников в каждой компании к датафрейму\n",
    "final_people_education = people_education.merge(people_count_c, on = 'company_id')\n",
    "final_people_education"
   ]
  },
  {
   "cell_type": "code",
   "execution_count": 39,
   "metadata": {},
   "outputs": [
    {
     "data": {
      "text/plain": [
       "0                      Малая компания\n",
       "1                      Малая компания\n",
       "2                      Малая компания\n",
       "3                      Малая компания\n",
       "4                      Малая компания\n",
       "                     ...             \n",
       "267689    Компания из одного человека\n",
       "267690    Компания из одного человека\n",
       "267691    Компания из одного человека\n",
       "267692    Компания из одного человека\n",
       "267693    Компания из одного человека\n",
       "Name: people_count_group, Length: 267694, dtype: category\n",
       "Categories (6, object): ['Компания из одного человека' < 'Компания до 10 человек' < 'Мини-компания' < 'Малая компания' < 'Средняя компания' < 'Крупная компания']"
      ]
     },
     "execution_count": 39,
     "metadata": {},
     "output_type": "execute_result"
    },
    {
     "data": {
      "text/plain": [
       "0                      Малая компания\n",
       "1                      Малая компания\n",
       "2                      Малая компания\n",
       "3                      Малая компания\n",
       "4                      Малая компания\n",
       "                     ...             \n",
       "267689    Компания из одного человека\n",
       "267690    Компания из одного человека\n",
       "267691    Компания из одного человека\n",
       "267692    Компания из одного человека\n",
       "267693    Компания из одного человека\n",
       "Name: people_count_group, Length: 267694, dtype: category\n",
       "Categories (6, object): ['Компания из одного человека' < 'Компания до 10 человек' < 'Мини-компания' < 'Малая компания' < 'Средняя компания' < 'Крупная компания']"
      ]
     },
     "execution_count": 39,
     "metadata": {},
     "output_type": "execute_result"
    }
   ],
   "source": [
    "# определяем границы групп по численности сотрудников в компаниях\n",
    "final_people_education['people_count_group'] = pd.cut(final_people_education['people_count'], \n",
    "                                                      bins=[0, 2, 10, 25, 75, 150, 10000], \n",
    "                                                      labels=['Компания из одного человека', 'Компания до 10 человек', 'Мини-компания', 'Малая компания', 'Средняя компания', 'Крупная компания'])\n",
    "final_people_education['people_count_group']"
   ]
  },
  {
   "cell_type": "code",
   "execution_count": 40,
   "metadata": {},
   "outputs": [
    {
     "data": {
      "text/plain": [
       "people_count_group\n",
       "Компания из одного человека   0.36\n",
       "Компания до 10 человек        0.39\n",
       "Мини-компания                 0.33\n",
       "Малая компания                0.18\n",
       "Средняя компания              0.19\n",
       "Крупная компания              0.20\n",
       "Name: no_education, dtype: float64"
      ]
     },
     "execution_count": 40,
     "metadata": {},
     "output_type": "execute_result"
    },
    {
     "data": {
      "text/plain": [
       "people_count_group\n",
       "Компания из одного человека   0.36\n",
       "Компания до 10 человек        0.39\n",
       "Мини-компания                 0.33\n",
       "Малая компания                0.18\n",
       "Средняя компания              0.19\n",
       "Крупная компания              0.20\n",
       "Name: no_education, dtype: float64"
      ]
     },
     "execution_count": 40,
     "metadata": {},
     "output_type": "execute_result"
    }
   ],
   "source": [
    "#считаем среднюю долю сотрудников без информации об образовании \n",
    "no_educ_group= final_people_education.groupby('people_count_group')['no_education'].mean().rename({'no_education' : 'avg_no_education'})\n",
    "round(no_educ_group, 2)"
   ]
  },
  {
   "cell_type": "markdown",
   "metadata": {},
   "source": [
    "Выбрали именно такие границы для определения границ групп, чтобы обеспечить равномерное распределение компаний по группам. Вследствии чего такие границы позволяет корректно сравнивать компании разного размера и полноту информации об образовании сотрудников."
   ]
  },
  {
   "cell_type": "markdown",
   "metadata": {},
   "source": [
    " "
   ]
  },
  {
   "cell_type": "markdown",
   "metadata": {},
   "source": [
    "Присоединение таблицы degrees возможно, так как имеет связь с таблицами people и education через идентификатор сотрудника. При этом данная таблица может быть полезна так как имеет информацию о типе образования и специальности. При этом, выполняя данное задание, такие данные нам могут и не понадобиться - чтобы не распыляться на множество другой информации. Вывод: Таблицу degrees присоединить можно, но для выполнения данного задания этого не требуется.\n",
    "\n",
    "Результаты анализа показывают, что полнота сведений об образовании сотрудников действительно зависит от размера компании. В частности, чем крупнее компания, тем меньшая доля сотрудников имеет пробелы в информации об образовании. "
   ]
  },
  {
   "cell_type": "markdown",
   "metadata": {},
   "source": [
    " "
   ]
  },
  {
   "cell_type": "markdown",
   "metadata": {},
   "source": [
    " "
   ]
  },
  {
   "cell_type": "markdown",
   "metadata": {},
   "source": [
    "### 2.3. Объединять или не объединять — вот в чём вопрос\n"
   ]
  },
  {
   "cell_type": "markdown",
   "metadata": {},
   "source": [
    " "
   ]
  },
  {
   "cell_type": "markdown",
   "metadata": {},
   "source": [
    "Столбец network_username встречается в company_and_rounds, people и fund. "
   ]
  },
  {
   "cell_type": "code",
   "execution_count": 42,
   "metadata": {},
   "outputs": [],
   "source": [
    "# находим уникальные значения \n",
    "list_1 = company_and_rounds['network_username'].unique()\n",
    "list_2 = people['network_username'].unique()\n",
    "list_3 = fund['network_username'].unique()"
   ]
  },
  {
   "cell_type": "code",
   "execution_count": 43,
   "metadata": {},
   "outputs": [
    {
     "name": "stdout",
     "output_type": "stream",
     "text": [
      "Количество общих значений 'network_username' между тремя списками: 2262\n",
      "Количество общих значений 'network_username' между тремя списками: 2262\n"
     ]
    }
   ],
   "source": [
    "# создаем цикл для нахождения общих значений между тремя списками\n",
    "count = 0 \n",
    "for i in list_1:\n",
    "    if i in list_2 or i in list_3:\n",
    "        count += 1\n",
    "print(f\"Количество общих значений 'network_username' между тремя списками: {count}\")"
   ]
  },
  {
   "cell_type": "markdown",
   "metadata": {},
   "source": [
    "95 534 строк с данными в датафрейме company_and_rounds, 38 867 строк с данными в people, 2 149 строк с данными в fund"
   ]
  },
  {
   "cell_type": "code",
   "execution_count": 44,
   "metadata": {},
   "outputs": [
    {
     "data": {
      "text/plain": [
       "(79571, 38421, 2098)"
      ]
     },
     "execution_count": 44,
     "metadata": {},
     "output_type": "execute_result"
    },
    {
     "data": {
      "text/plain": [
       "(79571, 38421, 2098)"
      ]
     },
     "execution_count": 44,
     "metadata": {},
     "output_type": "execute_result"
    }
   ],
   "source": [
    "# считаем количество уникальных значений \n",
    "unique_count_1 = company_and_rounds['network_username'].nunique()\n",
    "unique_count_2 = people['network_username'].nunique()\n",
    "unique_count_3 = fund['network_username'].nunique()\n",
    "unique_count_1, unique_count_2, unique_count_3"
   ]
  },
  {
   "cell_type": "markdown",
   "metadata": {},
   "source": [
    "- количество уникальных значений между датасетами значительно разнится, что может говорить о том, что данные в столбце 'network_username' несогласованы между датасетами\n",
    "- количество общих значений свидетельствует о том, что пересечение данных между датасетами существует, но оно незначительное, по сравнению с тем, сколько данных хранится в трех датасетах \n",
    "- следует вывод, что использовать столбцы с именем 'network_username' для объединения данных между столбцами нельзя"
   ]
  },
  {
   "cell_type": "markdown",
   "metadata": {},
   "source": [
    " "
   ]
  },
  {
   "cell_type": "markdown",
   "metadata": {},
   "source": [
    " "
   ]
  },
  {
   "cell_type": "markdown",
   "metadata": {
    "id": "EHcODomVrJg1"
   },
   "source": [
    "\n",
    "### 2.4. Проблемный датасет и причина возникновения пропусков\n"
   ]
  },
  {
   "cell_type": "code",
   "execution_count": 45,
   "metadata": {
    "id": "tJ6Sl6MKrJg1"
   },
   "outputs": [
    {
     "name": "stdout",
     "output_type": "stream",
     "text": [
      "<class 'pandas.core.frame.DataFrame'>\n",
      "RangeIndex: 217774 entries, 0 to 217773\n",
      "Data columns (total 23 columns):\n",
      " #   Column               Non-Null Count   Dtype         \n",
      "---  ------               --------------   -----         \n",
      " 0   company_ID           217472 non-null  float64       \n",
      " 1   name                 217472 non-null  object        \n",
      " 2   category_code        143886 non-null  object        \n",
      " 3   status               217472 non-null  object        \n",
      " 4   founded_at           109956 non-null  datetime64[ns]\n",
      " 5   closed_at            3449 non-null    datetime64[ns]\n",
      " 6   domain               147159 non-null  object        \n",
      " 7   network_username     95534 non-null   object        \n",
      " 8   country_code         108607 non-null  object        \n",
      " 9   investment_rounds    217472 non-null  float64       \n",
      " 10  funding_rounds       217472 non-null  float64       \n",
      " 11  funding_total        217472 non-null  float64       \n",
      " 12  milestones           217472 non-null  float64       \n",
      " 13  funding_round_id     52928 non-null   float64       \n",
      " 14  company_id           52928 non-null   float64       \n",
      " 15  funded_at            52680 non-null   datetime64[ns]\n",
      " 16  funding_round_type   52928 non-null   object        \n",
      " 17  raised_amount        52928 non-null   float64       \n",
      " 18  pre_money_valuation  52928 non-null   float64       \n",
      " 19  participants         52928 non-null   float64       \n",
      " 20  is_first_round       52928 non-null   float64       \n",
      " 21  is_last_round        52928 non-null   float64       \n",
      " 22  year_funded          52680 non-null   float64       \n",
      "dtypes: datetime64[ns](3), float64(13), object(7)\n",
      "memory usage: 38.2+ MB\n",
      "<class 'pandas.core.frame.DataFrame'>\n",
      "RangeIndex: 217774 entries, 0 to 217773\n",
      "Data columns (total 23 columns):\n",
      " #   Column               Non-Null Count   Dtype         \n",
      "---  ------               --------------   -----         \n",
      " 0   company_ID           217472 non-null  float64       \n",
      " 1   name                 217472 non-null  object        \n",
      " 2   category_code        143886 non-null  object        \n",
      " 3   status               217472 non-null  object        \n",
      " 4   founded_at           109956 non-null  datetime64[ns]\n",
      " 5   closed_at            3449 non-null    datetime64[ns]\n",
      " 6   domain               147159 non-null  object        \n",
      " 7   network_username     95534 non-null   object        \n",
      " 8   country_code         108607 non-null  object        \n",
      " 9   investment_rounds    217472 non-null  float64       \n",
      " 10  funding_rounds       217472 non-null  float64       \n",
      " 11  funding_total        217472 non-null  float64       \n",
      " 12  milestones           217472 non-null  float64       \n",
      " 13  funding_round_id     52928 non-null   float64       \n",
      " 14  company_id           52928 non-null   float64       \n",
      " 15  funded_at            52680 non-null   datetime64[ns]\n",
      " 16  funding_round_type   52928 non-null   object        \n",
      " 17  raised_amount        52928 non-null   float64       \n",
      " 18  pre_money_valuation  52928 non-null   float64       \n",
      " 19  participants         52928 non-null   float64       \n",
      " 20  is_first_round       52928 non-null   float64       \n",
      " 21  is_last_round        52928 non-null   float64       \n",
      " 22  year_funded          52680 non-null   float64       \n",
      "dtypes: datetime64[ns](3), float64(13), object(7)\n",
      "memory usage: 38.2+ MB\n"
     ]
    }
   ],
   "source": [
    "company_and_rounds.info()"
   ]
  },
  {
   "cell_type": "code",
   "execution_count": 46,
   "metadata": {
    "id": "SFfUmzron0Tc"
   },
   "outputs": [
    {
     "data": {
      "text/plain": [
       "company_ID             0.14\n",
       "name                   0.14\n",
       "category_code         33.93\n",
       "status                 0.14\n",
       "founded_at            49.51\n",
       "closed_at             98.42\n",
       "domain                32.43\n",
       "network_username      56.13\n",
       "country_code          50.13\n",
       "investment_rounds      0.14\n",
       "funding_rounds         0.14\n",
       "funding_total          0.14\n",
       "milestones             0.14\n",
       "funding_round_id      75.70\n",
       "company_id            75.70\n",
       "funded_at             75.81\n",
       "funding_round_type    75.70\n",
       "raised_amount         75.70\n",
       "pre_money_valuation   75.70\n",
       "participants          75.70\n",
       "is_first_round        75.70\n",
       "is_last_round         75.70\n",
       "year_funded           75.81\n",
       "dtype: float64"
      ]
     },
     "execution_count": 46,
     "metadata": {},
     "output_type": "execute_result"
    },
    {
     "data": {
      "text/plain": [
       "company_ID             0.14\n",
       "name                   0.14\n",
       "category_code         33.93\n",
       "status                 0.14\n",
       "founded_at            49.51\n",
       "closed_at             98.42\n",
       "domain                32.43\n",
       "network_username      56.13\n",
       "country_code          50.13\n",
       "investment_rounds      0.14\n",
       "funding_rounds         0.14\n",
       "funding_total          0.14\n",
       "milestones             0.14\n",
       "funding_round_id      75.70\n",
       "company_id            75.70\n",
       "funded_at             75.81\n",
       "funding_round_type    75.70\n",
       "raised_amount         75.70\n",
       "pre_money_valuation   75.70\n",
       "participants          75.70\n",
       "is_first_round        75.70\n",
       "is_last_round         75.70\n",
       "year_funded           75.81\n",
       "dtype: float64"
      ]
     },
     "execution_count": 46,
     "metadata": {},
     "output_type": "execute_result"
    }
   ],
   "source": [
    "# находим долю пропущенных значений \n",
    "company_and_rounds.isna().sum()/company_and_rounds.shape[0] * 100"
   ]
  },
  {
   "cell_type": "code",
   "execution_count": 47,
   "metadata": {},
   "outputs": [
    {
     "data": {
      "text/plain": [
       "0"
      ]
     },
     "execution_count": 47,
     "metadata": {},
     "output_type": "execute_result"
    },
    {
     "data": {
      "text/plain": [
       "0"
      ]
     },
     "execution_count": 47,
     "metadata": {},
     "output_type": "execute_result"
    }
   ],
   "source": [
    "# удаляем строки с пропущенными значениями в столбце company_ID\n",
    "company_and_rounds.dropna(subset = ['company_ID'], inplace = True)\n",
    "company_and_rounds['company_ID'].isna().sum()"
   ]
  },
  {
   "cell_type": "code",
   "execution_count": 48,
   "metadata": {},
   "outputs": [],
   "source": [
    "company_and_rounds['company_ID'] = company_and_rounds['company_ID'].astype('int64')"
   ]
  },
  {
   "cell_type": "code",
   "execution_count": 49,
   "metadata": {},
   "outputs": [],
   "source": [
    "# группируем данные по компаниям и агрегируем данные по каждому параметру \n",
    "group = company_and_rounds.groupby('company_ID').agg({'name' : 'first',\n",
    "                                                      'category_code' : 'first',\n",
    "                                                      'status' : 'first',\n",
    "                                                      'founded_at' : 'first',\n",
    "                                                      'closed_at' : 'first',\n",
    "                                                      'domain' : 'first',\n",
    "                                                      'network_username' : 'first',\n",
    "                                                      'country_code' : 'first',\n",
    "                                                      'investment_rounds' : 'first',\n",
    "                                                      'funding_rounds' : 'first',\n",
    "                                                      'funding_total' : 'first',\n",
    "                                                      'milestones' : 'first',\n",
    "                                                      'funded_at' : ['first', 'last'],\n",
    "                                                      'raised_amount' : 'sum',\n",
    "                                                      'pre_money_valuation' : 'first',\n",
    "                                                      'participants' : 'mean',\n",
    "                                                      'is_first_round' : ['first', 'last'],\n",
    "                                                      'year_funded' : ['first', 'last']\n",
    "        \n",
    "})"
   ]
  },
  {
   "cell_type": "code",
   "execution_count": 50,
   "metadata": {},
   "outputs": [
    {
     "data": {
      "text/html": [
       "<div>\n",
       "<style scoped>\n",
       "    .dataframe tbody tr th:only-of-type {\n",
       "        vertical-align: middle;\n",
       "    }\n",
       "\n",
       "    .dataframe tbody tr th {\n",
       "        vertical-align: top;\n",
       "    }\n",
       "\n",
       "    .dataframe thead th {\n",
       "        text-align: right;\n",
       "    }\n",
       "</style>\n",
       "<table border=\"1\" class=\"dataframe\">\n",
       "  <thead>\n",
       "    <tr style=\"text-align: right;\">\n",
       "      <th></th>\n",
       "      <th>company_ID</th>\n",
       "      <th>name</th>\n",
       "      <th>category_code</th>\n",
       "      <th>status</th>\n",
       "      <th>founded_at</th>\n",
       "      <th>closed_at</th>\n",
       "      <th>domain</th>\n",
       "      <th>network_username</th>\n",
       "      <th>country_code</th>\n",
       "      <th>investment_rounds</th>\n",
       "      <th>...</th>\n",
       "      <th>milestones</th>\n",
       "      <th>funded_at_first</th>\n",
       "      <th>funded_at_last</th>\n",
       "      <th>raised_amount</th>\n",
       "      <th>pre_money_valuation</th>\n",
       "      <th>participants</th>\n",
       "      <th>is_first_round_first</th>\n",
       "      <th>is_first_round_last</th>\n",
       "      <th>year_funded_first</th>\n",
       "      <th>year_funded_last</th>\n",
       "    </tr>\n",
       "  </thead>\n",
       "  <tbody>\n",
       "    <tr>\n",
       "      <th>0</th>\n",
       "      <td>1</td>\n",
       "      <td>Wetpaint</td>\n",
       "      <td>web</td>\n",
       "      <td>operating</td>\n",
       "      <td>2005-10-17</td>\n",
       "      <td>NaT</td>\n",
       "      <td>wetpaint-inc.com</td>\n",
       "      <td>BachelrWetpaint</td>\n",
       "      <td>USA</td>\n",
       "      <td>0.00</td>\n",
       "      <td>...</td>\n",
       "      <td>5.00</td>\n",
       "      <td>2005-10-01</td>\n",
       "      <td>2008-05-19</td>\n",
       "      <td>39750000.00</td>\n",
       "      <td>0.00</td>\n",
       "      <td>3.00</td>\n",
       "      <td>0.00</td>\n",
       "      <td>1.00</td>\n",
       "      <td>2005.00</td>\n",
       "      <td>2008.00</td>\n",
       "    </tr>\n",
       "    <tr>\n",
       "      <th>1</th>\n",
       "      <td>2</td>\n",
       "      <td>AdventNet</td>\n",
       "      <td>enterprise</td>\n",
       "      <td>operating</td>\n",
       "      <td>1996-01-01</td>\n",
       "      <td>NaT</td>\n",
       "      <td>adventnet.com</td>\n",
       "      <td>manageengine</td>\n",
       "      <td>USA</td>\n",
       "      <td>0.00</td>\n",
       "      <td>...</td>\n",
       "      <td>0.00</td>\n",
       "      <td>NaT</td>\n",
       "      <td>NaT</td>\n",
       "      <td>0.00</td>\n",
       "      <td>NaN</td>\n",
       "      <td>NaN</td>\n",
       "      <td>NaN</td>\n",
       "      <td>NaN</td>\n",
       "      <td>NaN</td>\n",
       "      <td>NaN</td>\n",
       "    </tr>\n",
       "    <tr>\n",
       "      <th>2</th>\n",
       "      <td>3</td>\n",
       "      <td>Zoho</td>\n",
       "      <td>software</td>\n",
       "      <td>operating</td>\n",
       "      <td>2005-09-15</td>\n",
       "      <td>NaT</td>\n",
       "      <td>zoho.com</td>\n",
       "      <td>zoho</td>\n",
       "      <td>USA</td>\n",
       "      <td>0.00</td>\n",
       "      <td>...</td>\n",
       "      <td>5.00</td>\n",
       "      <td>NaT</td>\n",
       "      <td>NaT</td>\n",
       "      <td>0.00</td>\n",
       "      <td>NaN</td>\n",
       "      <td>NaN</td>\n",
       "      <td>NaN</td>\n",
       "      <td>NaN</td>\n",
       "      <td>NaN</td>\n",
       "      <td>NaN</td>\n",
       "    </tr>\n",
       "    <tr>\n",
       "      <th>3</th>\n",
       "      <td>4</td>\n",
       "      <td>Digg</td>\n",
       "      <td>news</td>\n",
       "      <td>acquired</td>\n",
       "      <td>2004-10-11</td>\n",
       "      <td>NaT</td>\n",
       "      <td>digg.com</td>\n",
       "      <td>digg</td>\n",
       "      <td>USA</td>\n",
       "      <td>0.00</td>\n",
       "      <td>...</td>\n",
       "      <td>8.00</td>\n",
       "      <td>2006-12-01</td>\n",
       "      <td>2011-07-12</td>\n",
       "      <td>45000000.00</td>\n",
       "      <td>0.00</td>\n",
       "      <td>3.50</td>\n",
       "      <td>0.00</td>\n",
       "      <td>1.00</td>\n",
       "      <td>2006.00</td>\n",
       "      <td>2011.00</td>\n",
       "    </tr>\n",
       "    <tr>\n",
       "      <th>4</th>\n",
       "      <td>5</td>\n",
       "      <td>Socialnet</td>\n",
       "      <td>social</td>\n",
       "      <td>ipo</td>\n",
       "      <td>2004-02-01</td>\n",
       "      <td>NaT</td>\n",
       "      <td>socialnet.com</td>\n",
       "      <td>socialnet</td>\n",
       "      <td>USA</td>\n",
       "      <td>3.00</td>\n",
       "      <td>...</td>\n",
       "      <td>5.00</td>\n",
       "      <td>2004-09-01</td>\n",
       "      <td>2011-01-21</td>\n",
       "      <td>2425700000.00</td>\n",
       "      <td>0.00</td>\n",
       "      <td>1.82</td>\n",
       "      <td>0.00</td>\n",
       "      <td>1.00</td>\n",
       "      <td>2004.00</td>\n",
       "      <td>2011.00</td>\n",
       "    </tr>\n",
       "    <tr>\n",
       "      <th>...</th>\n",
       "      <td>...</td>\n",
       "      <td>...</td>\n",
       "      <td>...</td>\n",
       "      <td>...</td>\n",
       "      <td>...</td>\n",
       "      <td>...</td>\n",
       "      <td>...</td>\n",
       "      <td>...</td>\n",
       "      <td>...</td>\n",
       "      <td>...</td>\n",
       "      <td>...</td>\n",
       "      <td>...</td>\n",
       "      <td>...</td>\n",
       "      <td>...</td>\n",
       "      <td>...</td>\n",
       "      <td>...</td>\n",
       "      <td>...</td>\n",
       "      <td>...</td>\n",
       "      <td>...</td>\n",
       "      <td>...</td>\n",
       "      <td>...</td>\n",
       "    </tr>\n",
       "    <tr>\n",
       "      <th>196548</th>\n",
       "      <td>286210</td>\n",
       "      <td>LG Electronics North America</td>\n",
       "      <td>None</td>\n",
       "      <td>operating</td>\n",
       "      <td>NaT</td>\n",
       "      <td>NaT</td>\n",
       "      <td>None</td>\n",
       "      <td>None</td>\n",
       "      <td>None</td>\n",
       "      <td>0.00</td>\n",
       "      <td>...</td>\n",
       "      <td>1.00</td>\n",
       "      <td>NaT</td>\n",
       "      <td>NaT</td>\n",
       "      <td>0.00</td>\n",
       "      <td>NaN</td>\n",
       "      <td>NaN</td>\n",
       "      <td>NaN</td>\n",
       "      <td>NaN</td>\n",
       "      <td>NaN</td>\n",
       "      <td>NaN</td>\n",
       "    </tr>\n",
       "    <tr>\n",
       "      <th>196549</th>\n",
       "      <td>286211</td>\n",
       "      <td>M1 Capital Advisors LLC</td>\n",
       "      <td>None</td>\n",
       "      <td>operating</td>\n",
       "      <td>NaT</td>\n",
       "      <td>NaT</td>\n",
       "      <td>None</td>\n",
       "      <td>None</td>\n",
       "      <td>None</td>\n",
       "      <td>0.00</td>\n",
       "      <td>...</td>\n",
       "      <td>0.00</td>\n",
       "      <td>NaT</td>\n",
       "      <td>NaT</td>\n",
       "      <td>0.00</td>\n",
       "      <td>NaN</td>\n",
       "      <td>NaN</td>\n",
       "      <td>NaN</td>\n",
       "      <td>NaN</td>\n",
       "      <td>NaN</td>\n",
       "      <td>NaN</td>\n",
       "    </tr>\n",
       "    <tr>\n",
       "      <th>196550</th>\n",
       "      <td>286212</td>\n",
       "      <td>M1 Partners</td>\n",
       "      <td>None</td>\n",
       "      <td>operating</td>\n",
       "      <td>NaT</td>\n",
       "      <td>NaT</td>\n",
       "      <td>None</td>\n",
       "      <td>None</td>\n",
       "      <td>None</td>\n",
       "      <td>0.00</td>\n",
       "      <td>...</td>\n",
       "      <td>0.00</td>\n",
       "      <td>NaT</td>\n",
       "      <td>NaT</td>\n",
       "      <td>0.00</td>\n",
       "      <td>NaN</td>\n",
       "      <td>NaN</td>\n",
       "      <td>NaN</td>\n",
       "      <td>NaN</td>\n",
       "      <td>NaN</td>\n",
       "      <td>NaN</td>\n",
       "    </tr>\n",
       "    <tr>\n",
       "      <th>196551</th>\n",
       "      <td>286213</td>\n",
       "      <td>Computer Solutions</td>\n",
       "      <td>None</td>\n",
       "      <td>operating</td>\n",
       "      <td>NaT</td>\n",
       "      <td>NaT</td>\n",
       "      <td>None</td>\n",
       "      <td>None</td>\n",
       "      <td>None</td>\n",
       "      <td>0.00</td>\n",
       "      <td>...</td>\n",
       "      <td>0.00</td>\n",
       "      <td>NaT</td>\n",
       "      <td>NaT</td>\n",
       "      <td>0.00</td>\n",
       "      <td>NaN</td>\n",
       "      <td>NaN</td>\n",
       "      <td>NaN</td>\n",
       "      <td>NaN</td>\n",
       "      <td>NaN</td>\n",
       "      <td>NaN</td>\n",
       "    </tr>\n",
       "    <tr>\n",
       "      <th>196552</th>\n",
       "      <td>286215</td>\n",
       "      <td>The Betty Mills Company</td>\n",
       "      <td>ecommerce</td>\n",
       "      <td>operating</td>\n",
       "      <td>NaT</td>\n",
       "      <td>NaT</td>\n",
       "      <td>bettymills.com</td>\n",
       "      <td>None</td>\n",
       "      <td>USA</td>\n",
       "      <td>0.00</td>\n",
       "      <td>...</td>\n",
       "      <td>0.00</td>\n",
       "      <td>2010-04-07</td>\n",
       "      <td>2010-04-07</td>\n",
       "      <td>271250.00</td>\n",
       "      <td>0.00</td>\n",
       "      <td>0.00</td>\n",
       "      <td>1.00</td>\n",
       "      <td>1.00</td>\n",
       "      <td>2010.00</td>\n",
       "      <td>2010.00</td>\n",
       "    </tr>\n",
       "  </tbody>\n",
       "</table>\n",
       "<p>196553 rows × 22 columns</p>\n",
       "</div>"
      ],
      "text/plain": [
       "        company_ID                          name category_code     status  \\\n",
       "0                1                      Wetpaint           web  operating   \n",
       "1                2                     AdventNet    enterprise  operating   \n",
       "2                3                          Zoho      software  operating   \n",
       "3                4                          Digg          news   acquired   \n",
       "4                5                     Socialnet        social        ipo   \n",
       "...            ...                           ...           ...        ...   \n",
       "196548      286210  LG Electronics North America          None  operating   \n",
       "196549      286211       M1 Capital Advisors LLC          None  operating   \n",
       "196550      286212                   M1 Partners          None  operating   \n",
       "196551      286213            Computer Solutions          None  operating   \n",
       "196552      286215       The Betty Mills Company     ecommerce  operating   \n",
       "\n",
       "       founded_at closed_at            domain network_username country_code  \\\n",
       "0      2005-10-17       NaT  wetpaint-inc.com  BachelrWetpaint          USA   \n",
       "1      1996-01-01       NaT     adventnet.com     manageengine          USA   \n",
       "2      2005-09-15       NaT          zoho.com             zoho          USA   \n",
       "3      2004-10-11       NaT          digg.com             digg          USA   \n",
       "4      2004-02-01       NaT     socialnet.com        socialnet          USA   \n",
       "...           ...       ...               ...              ...          ...   \n",
       "196548        NaT       NaT              None             None         None   \n",
       "196549        NaT       NaT              None             None         None   \n",
       "196550        NaT       NaT              None             None         None   \n",
       "196551        NaT       NaT              None             None         None   \n",
       "196552        NaT       NaT    bettymills.com             None          USA   \n",
       "\n",
       "        investment_rounds  ...  milestones  funded_at_first  funded_at_last  \\\n",
       "0                    0.00  ...        5.00       2005-10-01      2008-05-19   \n",
       "1                    0.00  ...        0.00              NaT             NaT   \n",
       "2                    0.00  ...        5.00              NaT             NaT   \n",
       "3                    0.00  ...        8.00       2006-12-01      2011-07-12   \n",
       "4                    3.00  ...        5.00       2004-09-01      2011-01-21   \n",
       "...                   ...  ...         ...              ...             ...   \n",
       "196548               0.00  ...        1.00              NaT             NaT   \n",
       "196549               0.00  ...        0.00              NaT             NaT   \n",
       "196550               0.00  ...        0.00              NaT             NaT   \n",
       "196551               0.00  ...        0.00              NaT             NaT   \n",
       "196552               0.00  ...        0.00       2010-04-07      2010-04-07   \n",
       "\n",
       "       raised_amount pre_money_valuation  participants  is_first_round_first  \\\n",
       "0        39750000.00                0.00          3.00                  0.00   \n",
       "1               0.00                 NaN           NaN                   NaN   \n",
       "2               0.00                 NaN           NaN                   NaN   \n",
       "3        45000000.00                0.00          3.50                  0.00   \n",
       "4      2425700000.00                0.00          1.82                  0.00   \n",
       "...              ...                 ...           ...                   ...   \n",
       "196548          0.00                 NaN           NaN                   NaN   \n",
       "196549          0.00                 NaN           NaN                   NaN   \n",
       "196550          0.00                 NaN           NaN                   NaN   \n",
       "196551          0.00                 NaN           NaN                   NaN   \n",
       "196552     271250.00                0.00          0.00                  1.00   \n",
       "\n",
       "        is_first_round_last  year_funded_first  year_funded_last  \n",
       "0                      1.00            2005.00           2008.00  \n",
       "1                       NaN                NaN               NaN  \n",
       "2                       NaN                NaN               NaN  \n",
       "3                      1.00            2006.00           2011.00  \n",
       "4                      1.00            2004.00           2011.00  \n",
       "...                     ...                ...               ...  \n",
       "196548                  NaN                NaN               NaN  \n",
       "196549                  NaN                NaN               NaN  \n",
       "196550                  NaN                NaN               NaN  \n",
       "196551                  NaN                NaN               NaN  \n",
       "196552                 1.00            2010.00           2010.00  \n",
       "\n",
       "[196553 rows x 22 columns]"
      ]
     },
     "execution_count": 50,
     "metadata": {},
     "output_type": "execute_result"
    },
    {
     "data": {
      "text/html": [
       "<div>\n",
       "<style scoped>\n",
       "    .dataframe tbody tr th:only-of-type {\n",
       "        vertical-align: middle;\n",
       "    }\n",
       "\n",
       "    .dataframe tbody tr th {\n",
       "        vertical-align: top;\n",
       "    }\n",
       "\n",
       "    .dataframe thead th {\n",
       "        text-align: right;\n",
       "    }\n",
       "</style>\n",
       "<table border=\"1\" class=\"dataframe\">\n",
       "  <thead>\n",
       "    <tr style=\"text-align: right;\">\n",
       "      <th></th>\n",
       "      <th>company_ID</th>\n",
       "      <th>name</th>\n",
       "      <th>category_code</th>\n",
       "      <th>status</th>\n",
       "      <th>founded_at</th>\n",
       "      <th>closed_at</th>\n",
       "      <th>domain</th>\n",
       "      <th>network_username</th>\n",
       "      <th>country_code</th>\n",
       "      <th>investment_rounds</th>\n",
       "      <th>...</th>\n",
       "      <th>milestones</th>\n",
       "      <th>funded_at_first</th>\n",
       "      <th>funded_at_last</th>\n",
       "      <th>raised_amount</th>\n",
       "      <th>pre_money_valuation</th>\n",
       "      <th>participants</th>\n",
       "      <th>is_first_round_first</th>\n",
       "      <th>is_first_round_last</th>\n",
       "      <th>year_funded_first</th>\n",
       "      <th>year_funded_last</th>\n",
       "    </tr>\n",
       "  </thead>\n",
       "  <tbody>\n",
       "    <tr>\n",
       "      <th>0</th>\n",
       "      <td>1</td>\n",
       "      <td>Wetpaint</td>\n",
       "      <td>web</td>\n",
       "      <td>operating</td>\n",
       "      <td>2005-10-17</td>\n",
       "      <td>NaT</td>\n",
       "      <td>wetpaint-inc.com</td>\n",
       "      <td>BachelrWetpaint</td>\n",
       "      <td>USA</td>\n",
       "      <td>0.00</td>\n",
       "      <td>...</td>\n",
       "      <td>5.00</td>\n",
       "      <td>2005-10-01</td>\n",
       "      <td>2008-05-19</td>\n",
       "      <td>39750000.00</td>\n",
       "      <td>0.00</td>\n",
       "      <td>3.00</td>\n",
       "      <td>0.00</td>\n",
       "      <td>1.00</td>\n",
       "      <td>2005.00</td>\n",
       "      <td>2008.00</td>\n",
       "    </tr>\n",
       "    <tr>\n",
       "      <th>1</th>\n",
       "      <td>2</td>\n",
       "      <td>AdventNet</td>\n",
       "      <td>enterprise</td>\n",
       "      <td>operating</td>\n",
       "      <td>1996-01-01</td>\n",
       "      <td>NaT</td>\n",
       "      <td>adventnet.com</td>\n",
       "      <td>manageengine</td>\n",
       "      <td>USA</td>\n",
       "      <td>0.00</td>\n",
       "      <td>...</td>\n",
       "      <td>0.00</td>\n",
       "      <td>NaT</td>\n",
       "      <td>NaT</td>\n",
       "      <td>0.00</td>\n",
       "      <td>NaN</td>\n",
       "      <td>NaN</td>\n",
       "      <td>NaN</td>\n",
       "      <td>NaN</td>\n",
       "      <td>NaN</td>\n",
       "      <td>NaN</td>\n",
       "    </tr>\n",
       "    <tr>\n",
       "      <th>2</th>\n",
       "      <td>3</td>\n",
       "      <td>Zoho</td>\n",
       "      <td>software</td>\n",
       "      <td>operating</td>\n",
       "      <td>2005-09-15</td>\n",
       "      <td>NaT</td>\n",
       "      <td>zoho.com</td>\n",
       "      <td>zoho</td>\n",
       "      <td>USA</td>\n",
       "      <td>0.00</td>\n",
       "      <td>...</td>\n",
       "      <td>5.00</td>\n",
       "      <td>NaT</td>\n",
       "      <td>NaT</td>\n",
       "      <td>0.00</td>\n",
       "      <td>NaN</td>\n",
       "      <td>NaN</td>\n",
       "      <td>NaN</td>\n",
       "      <td>NaN</td>\n",
       "      <td>NaN</td>\n",
       "      <td>NaN</td>\n",
       "    </tr>\n",
       "    <tr>\n",
       "      <th>3</th>\n",
       "      <td>4</td>\n",
       "      <td>Digg</td>\n",
       "      <td>news</td>\n",
       "      <td>acquired</td>\n",
       "      <td>2004-10-11</td>\n",
       "      <td>NaT</td>\n",
       "      <td>digg.com</td>\n",
       "      <td>digg</td>\n",
       "      <td>USA</td>\n",
       "      <td>0.00</td>\n",
       "      <td>...</td>\n",
       "      <td>8.00</td>\n",
       "      <td>2006-12-01</td>\n",
       "      <td>2011-07-12</td>\n",
       "      <td>45000000.00</td>\n",
       "      <td>0.00</td>\n",
       "      <td>3.50</td>\n",
       "      <td>0.00</td>\n",
       "      <td>1.00</td>\n",
       "      <td>2006.00</td>\n",
       "      <td>2011.00</td>\n",
       "    </tr>\n",
       "    <tr>\n",
       "      <th>4</th>\n",
       "      <td>5</td>\n",
       "      <td>Socialnet</td>\n",
       "      <td>social</td>\n",
       "      <td>ipo</td>\n",
       "      <td>2004-02-01</td>\n",
       "      <td>NaT</td>\n",
       "      <td>socialnet.com</td>\n",
       "      <td>socialnet</td>\n",
       "      <td>USA</td>\n",
       "      <td>3.00</td>\n",
       "      <td>...</td>\n",
       "      <td>5.00</td>\n",
       "      <td>2004-09-01</td>\n",
       "      <td>2011-01-21</td>\n",
       "      <td>2425700000.00</td>\n",
       "      <td>0.00</td>\n",
       "      <td>1.82</td>\n",
       "      <td>0.00</td>\n",
       "      <td>1.00</td>\n",
       "      <td>2004.00</td>\n",
       "      <td>2011.00</td>\n",
       "    </tr>\n",
       "    <tr>\n",
       "      <th>...</th>\n",
       "      <td>...</td>\n",
       "      <td>...</td>\n",
       "      <td>...</td>\n",
       "      <td>...</td>\n",
       "      <td>...</td>\n",
       "      <td>...</td>\n",
       "      <td>...</td>\n",
       "      <td>...</td>\n",
       "      <td>...</td>\n",
       "      <td>...</td>\n",
       "      <td>...</td>\n",
       "      <td>...</td>\n",
       "      <td>...</td>\n",
       "      <td>...</td>\n",
       "      <td>...</td>\n",
       "      <td>...</td>\n",
       "      <td>...</td>\n",
       "      <td>...</td>\n",
       "      <td>...</td>\n",
       "      <td>...</td>\n",
       "      <td>...</td>\n",
       "    </tr>\n",
       "    <tr>\n",
       "      <th>196548</th>\n",
       "      <td>286210</td>\n",
       "      <td>LG Electronics North America</td>\n",
       "      <td>None</td>\n",
       "      <td>operating</td>\n",
       "      <td>NaT</td>\n",
       "      <td>NaT</td>\n",
       "      <td>None</td>\n",
       "      <td>None</td>\n",
       "      <td>None</td>\n",
       "      <td>0.00</td>\n",
       "      <td>...</td>\n",
       "      <td>1.00</td>\n",
       "      <td>NaT</td>\n",
       "      <td>NaT</td>\n",
       "      <td>0.00</td>\n",
       "      <td>NaN</td>\n",
       "      <td>NaN</td>\n",
       "      <td>NaN</td>\n",
       "      <td>NaN</td>\n",
       "      <td>NaN</td>\n",
       "      <td>NaN</td>\n",
       "    </tr>\n",
       "    <tr>\n",
       "      <th>196549</th>\n",
       "      <td>286211</td>\n",
       "      <td>M1 Capital Advisors LLC</td>\n",
       "      <td>None</td>\n",
       "      <td>operating</td>\n",
       "      <td>NaT</td>\n",
       "      <td>NaT</td>\n",
       "      <td>None</td>\n",
       "      <td>None</td>\n",
       "      <td>None</td>\n",
       "      <td>0.00</td>\n",
       "      <td>...</td>\n",
       "      <td>0.00</td>\n",
       "      <td>NaT</td>\n",
       "      <td>NaT</td>\n",
       "      <td>0.00</td>\n",
       "      <td>NaN</td>\n",
       "      <td>NaN</td>\n",
       "      <td>NaN</td>\n",
       "      <td>NaN</td>\n",
       "      <td>NaN</td>\n",
       "      <td>NaN</td>\n",
       "    </tr>\n",
       "    <tr>\n",
       "      <th>196550</th>\n",
       "      <td>286212</td>\n",
       "      <td>M1 Partners</td>\n",
       "      <td>None</td>\n",
       "      <td>operating</td>\n",
       "      <td>NaT</td>\n",
       "      <td>NaT</td>\n",
       "      <td>None</td>\n",
       "      <td>None</td>\n",
       "      <td>None</td>\n",
       "      <td>0.00</td>\n",
       "      <td>...</td>\n",
       "      <td>0.00</td>\n",
       "      <td>NaT</td>\n",
       "      <td>NaT</td>\n",
       "      <td>0.00</td>\n",
       "      <td>NaN</td>\n",
       "      <td>NaN</td>\n",
       "      <td>NaN</td>\n",
       "      <td>NaN</td>\n",
       "      <td>NaN</td>\n",
       "      <td>NaN</td>\n",
       "    </tr>\n",
       "    <tr>\n",
       "      <th>196551</th>\n",
       "      <td>286213</td>\n",
       "      <td>Computer Solutions</td>\n",
       "      <td>None</td>\n",
       "      <td>operating</td>\n",
       "      <td>NaT</td>\n",
       "      <td>NaT</td>\n",
       "      <td>None</td>\n",
       "      <td>None</td>\n",
       "      <td>None</td>\n",
       "      <td>0.00</td>\n",
       "      <td>...</td>\n",
       "      <td>0.00</td>\n",
       "      <td>NaT</td>\n",
       "      <td>NaT</td>\n",
       "      <td>0.00</td>\n",
       "      <td>NaN</td>\n",
       "      <td>NaN</td>\n",
       "      <td>NaN</td>\n",
       "      <td>NaN</td>\n",
       "      <td>NaN</td>\n",
       "      <td>NaN</td>\n",
       "    </tr>\n",
       "    <tr>\n",
       "      <th>196552</th>\n",
       "      <td>286215</td>\n",
       "      <td>The Betty Mills Company</td>\n",
       "      <td>ecommerce</td>\n",
       "      <td>operating</td>\n",
       "      <td>NaT</td>\n",
       "      <td>NaT</td>\n",
       "      <td>bettymills.com</td>\n",
       "      <td>None</td>\n",
       "      <td>USA</td>\n",
       "      <td>0.00</td>\n",
       "      <td>...</td>\n",
       "      <td>0.00</td>\n",
       "      <td>2010-04-07</td>\n",
       "      <td>2010-04-07</td>\n",
       "      <td>271250.00</td>\n",
       "      <td>0.00</td>\n",
       "      <td>0.00</td>\n",
       "      <td>1.00</td>\n",
       "      <td>1.00</td>\n",
       "      <td>2010.00</td>\n",
       "      <td>2010.00</td>\n",
       "    </tr>\n",
       "  </tbody>\n",
       "</table>\n",
       "<p>196553 rows × 22 columns</p>\n",
       "</div>"
      ],
      "text/plain": [
       "        company_ID                          name category_code     status  \\\n",
       "0                1                      Wetpaint           web  operating   \n",
       "1                2                     AdventNet    enterprise  operating   \n",
       "2                3                          Zoho      software  operating   \n",
       "3                4                          Digg          news   acquired   \n",
       "4                5                     Socialnet        social        ipo   \n",
       "...            ...                           ...           ...        ...   \n",
       "196548      286210  LG Electronics North America          None  operating   \n",
       "196549      286211       M1 Capital Advisors LLC          None  operating   \n",
       "196550      286212                   M1 Partners          None  operating   \n",
       "196551      286213            Computer Solutions          None  operating   \n",
       "196552      286215       The Betty Mills Company     ecommerce  operating   \n",
       "\n",
       "       founded_at closed_at            domain network_username country_code  \\\n",
       "0      2005-10-17       NaT  wetpaint-inc.com  BachelrWetpaint          USA   \n",
       "1      1996-01-01       NaT     adventnet.com     manageengine          USA   \n",
       "2      2005-09-15       NaT          zoho.com             zoho          USA   \n",
       "3      2004-10-11       NaT          digg.com             digg          USA   \n",
       "4      2004-02-01       NaT     socialnet.com        socialnet          USA   \n",
       "...           ...       ...               ...              ...          ...   \n",
       "196548        NaT       NaT              None             None         None   \n",
       "196549        NaT       NaT              None             None         None   \n",
       "196550        NaT       NaT              None             None         None   \n",
       "196551        NaT       NaT              None             None         None   \n",
       "196552        NaT       NaT    bettymills.com             None          USA   \n",
       "\n",
       "        investment_rounds  ...  milestones  funded_at_first  funded_at_last  \\\n",
       "0                    0.00  ...        5.00       2005-10-01      2008-05-19   \n",
       "1                    0.00  ...        0.00              NaT             NaT   \n",
       "2                    0.00  ...        5.00              NaT             NaT   \n",
       "3                    0.00  ...        8.00       2006-12-01      2011-07-12   \n",
       "4                    3.00  ...        5.00       2004-09-01      2011-01-21   \n",
       "...                   ...  ...         ...              ...             ...   \n",
       "196548               0.00  ...        1.00              NaT             NaT   \n",
       "196549               0.00  ...        0.00              NaT             NaT   \n",
       "196550               0.00  ...        0.00              NaT             NaT   \n",
       "196551               0.00  ...        0.00              NaT             NaT   \n",
       "196552               0.00  ...        0.00       2010-04-07      2010-04-07   \n",
       "\n",
       "       raised_amount pre_money_valuation  participants  is_first_round_first  \\\n",
       "0        39750000.00                0.00          3.00                  0.00   \n",
       "1               0.00                 NaN           NaN                   NaN   \n",
       "2               0.00                 NaN           NaN                   NaN   \n",
       "3        45000000.00                0.00          3.50                  0.00   \n",
       "4      2425700000.00                0.00          1.82                  0.00   \n",
       "...              ...                 ...           ...                   ...   \n",
       "196548          0.00                 NaN           NaN                   NaN   \n",
       "196549          0.00                 NaN           NaN                   NaN   \n",
       "196550          0.00                 NaN           NaN                   NaN   \n",
       "196551          0.00                 NaN           NaN                   NaN   \n",
       "196552     271250.00                0.00          0.00                  1.00   \n",
       "\n",
       "        is_first_round_last  year_funded_first  year_funded_last  \n",
       "0                      1.00            2005.00           2008.00  \n",
       "1                       NaN                NaN               NaN  \n",
       "2                       NaN                NaN               NaN  \n",
       "3                      1.00            2006.00           2011.00  \n",
       "4                      1.00            2004.00           2011.00  \n",
       "...                     ...                ...               ...  \n",
       "196548                  NaN                NaN               NaN  \n",
       "196549                  NaN                NaN               NaN  \n",
       "196550                  NaN                NaN               NaN  \n",
       "196551                  NaN                NaN               NaN  \n",
       "196552                 1.00            2010.00           2010.00  \n",
       "\n",
       "[196553 rows x 22 columns]"
      ]
     },
     "execution_count": 50,
     "metadata": {},
     "output_type": "execute_result"
    }
   ],
   "source": [
    "# переименовываем столбцы \n",
    "group.columns = ['name',\n",
    "                 'category_code',\n",
    "                 'status',\n",
    "                 'founded_at',\n",
    "                 'closed_at',\n",
    "                 'domain',\n",
    "                 'network_username',\n",
    "                 'country_code',\n",
    "                 'investment_rounds',\n",
    "                 'funding_rounds',\n",
    "                 'funding_total',\n",
    "                 'milestones',\n",
    "                 'funded_at_first',\n",
    "                 'funded_at_last',\n",
    "                 'raised_amount',\n",
    "                 'pre_money_valuation',\n",
    "                 'participants',\n",
    "                 'is_first_round_first',\n",
    "                 'is_first_round_last',\n",
    "                 'year_funded_first',\n",
    "                 'year_funded_last'\n",
    "]\n",
    "group= group.reset_index()\n",
    "group"
   ]
  },
  {
   "cell_type": "code",
   "execution_count": 51,
   "metadata": {},
   "outputs": [
    {
     "data": {
      "text/html": [
       "<div>\n",
       "<style scoped>\n",
       "    .dataframe tbody tr th:only-of-type {\n",
       "        vertical-align: middle;\n",
       "    }\n",
       "\n",
       "    .dataframe tbody tr th {\n",
       "        vertical-align: top;\n",
       "    }\n",
       "\n",
       "    .dataframe thead th {\n",
       "        text-align: right;\n",
       "    }\n",
       "</style>\n",
       "<table border=\"1\" class=\"dataframe\">\n",
       "  <thead>\n",
       "    <tr style=\"text-align: right;\">\n",
       "      <th></th>\n",
       "      <th>company_ID</th>\n",
       "      <th>name</th>\n",
       "      <th>category_code</th>\n",
       "      <th>status</th>\n",
       "      <th>founded_at</th>\n",
       "      <th>closed_at</th>\n",
       "      <th>domain</th>\n",
       "      <th>network_username</th>\n",
       "      <th>country_code</th>\n",
       "      <th>investment_rounds</th>\n",
       "      <th>...</th>\n",
       "      <th>milestones</th>\n",
       "      <th>funded_at_first</th>\n",
       "      <th>funded_at_last</th>\n",
       "      <th>raised_amount</th>\n",
       "      <th>pre_money_valuation</th>\n",
       "      <th>participants</th>\n",
       "      <th>is_first_round_first</th>\n",
       "      <th>is_first_round_last</th>\n",
       "      <th>year_funded_first</th>\n",
       "      <th>year_funded_last</th>\n",
       "    </tr>\n",
       "  </thead>\n",
       "  <tbody>\n",
       "    <tr>\n",
       "      <th>0</th>\n",
       "      <td>1</td>\n",
       "      <td>Wetpaint</td>\n",
       "      <td>web</td>\n",
       "      <td>operating</td>\n",
       "      <td>2005-10-17</td>\n",
       "      <td>NaT</td>\n",
       "      <td>wetpaint-inc.com</td>\n",
       "      <td>BachelrWetpaint</td>\n",
       "      <td>USA</td>\n",
       "      <td>0</td>\n",
       "      <td>...</td>\n",
       "      <td>5</td>\n",
       "      <td>2005-10-01</td>\n",
       "      <td>2008-05-19</td>\n",
       "      <td>39750000.00</td>\n",
       "      <td>0.00</td>\n",
       "      <td>3.00</td>\n",
       "      <td>0.00</td>\n",
       "      <td>1.00</td>\n",
       "      <td>2005.00</td>\n",
       "      <td>2008.00</td>\n",
       "    </tr>\n",
       "    <tr>\n",
       "      <th>1</th>\n",
       "      <td>2</td>\n",
       "      <td>AdventNet</td>\n",
       "      <td>enterprise</td>\n",
       "      <td>operating</td>\n",
       "      <td>1996-01-01</td>\n",
       "      <td>NaT</td>\n",
       "      <td>adventnet.com</td>\n",
       "      <td>manageengine</td>\n",
       "      <td>USA</td>\n",
       "      <td>0</td>\n",
       "      <td>...</td>\n",
       "      <td>0</td>\n",
       "      <td>NaT</td>\n",
       "      <td>NaT</td>\n",
       "      <td>0.00</td>\n",
       "      <td>NaN</td>\n",
       "      <td>NaN</td>\n",
       "      <td>NaN</td>\n",
       "      <td>NaN</td>\n",
       "      <td>NaN</td>\n",
       "      <td>NaN</td>\n",
       "    </tr>\n",
       "    <tr>\n",
       "      <th>2</th>\n",
       "      <td>3</td>\n",
       "      <td>Zoho</td>\n",
       "      <td>software</td>\n",
       "      <td>operating</td>\n",
       "      <td>2005-09-15</td>\n",
       "      <td>NaT</td>\n",
       "      <td>zoho.com</td>\n",
       "      <td>zoho</td>\n",
       "      <td>USA</td>\n",
       "      <td>0</td>\n",
       "      <td>...</td>\n",
       "      <td>5</td>\n",
       "      <td>NaT</td>\n",
       "      <td>NaT</td>\n",
       "      <td>0.00</td>\n",
       "      <td>NaN</td>\n",
       "      <td>NaN</td>\n",
       "      <td>NaN</td>\n",
       "      <td>NaN</td>\n",
       "      <td>NaN</td>\n",
       "      <td>NaN</td>\n",
       "    </tr>\n",
       "    <tr>\n",
       "      <th>3</th>\n",
       "      <td>4</td>\n",
       "      <td>Digg</td>\n",
       "      <td>news</td>\n",
       "      <td>acquired</td>\n",
       "      <td>2004-10-11</td>\n",
       "      <td>NaT</td>\n",
       "      <td>digg.com</td>\n",
       "      <td>digg</td>\n",
       "      <td>USA</td>\n",
       "      <td>0</td>\n",
       "      <td>...</td>\n",
       "      <td>8</td>\n",
       "      <td>2006-12-01</td>\n",
       "      <td>2011-07-12</td>\n",
       "      <td>45000000.00</td>\n",
       "      <td>0.00</td>\n",
       "      <td>3.50</td>\n",
       "      <td>0.00</td>\n",
       "      <td>1.00</td>\n",
       "      <td>2006.00</td>\n",
       "      <td>2011.00</td>\n",
       "    </tr>\n",
       "    <tr>\n",
       "      <th>4</th>\n",
       "      <td>5</td>\n",
       "      <td>Socialnet</td>\n",
       "      <td>social</td>\n",
       "      <td>ipo</td>\n",
       "      <td>2004-02-01</td>\n",
       "      <td>NaT</td>\n",
       "      <td>socialnet.com</td>\n",
       "      <td>socialnet</td>\n",
       "      <td>USA</td>\n",
       "      <td>3</td>\n",
       "      <td>...</td>\n",
       "      <td>5</td>\n",
       "      <td>2004-09-01</td>\n",
       "      <td>2011-01-21</td>\n",
       "      <td>2425700000.00</td>\n",
       "      <td>0.00</td>\n",
       "      <td>1.82</td>\n",
       "      <td>0.00</td>\n",
       "      <td>1.00</td>\n",
       "      <td>2004.00</td>\n",
       "      <td>2011.00</td>\n",
       "    </tr>\n",
       "    <tr>\n",
       "      <th>...</th>\n",
       "      <td>...</td>\n",
       "      <td>...</td>\n",
       "      <td>...</td>\n",
       "      <td>...</td>\n",
       "      <td>...</td>\n",
       "      <td>...</td>\n",
       "      <td>...</td>\n",
       "      <td>...</td>\n",
       "      <td>...</td>\n",
       "      <td>...</td>\n",
       "      <td>...</td>\n",
       "      <td>...</td>\n",
       "      <td>...</td>\n",
       "      <td>...</td>\n",
       "      <td>...</td>\n",
       "      <td>...</td>\n",
       "      <td>...</td>\n",
       "      <td>...</td>\n",
       "      <td>...</td>\n",
       "      <td>...</td>\n",
       "      <td>...</td>\n",
       "    </tr>\n",
       "    <tr>\n",
       "      <th>196548</th>\n",
       "      <td>286210</td>\n",
       "      <td>LG Electronics North America</td>\n",
       "      <td>None</td>\n",
       "      <td>operating</td>\n",
       "      <td>NaT</td>\n",
       "      <td>NaT</td>\n",
       "      <td>None</td>\n",
       "      <td>None</td>\n",
       "      <td>None</td>\n",
       "      <td>0</td>\n",
       "      <td>...</td>\n",
       "      <td>1</td>\n",
       "      <td>NaT</td>\n",
       "      <td>NaT</td>\n",
       "      <td>0.00</td>\n",
       "      <td>NaN</td>\n",
       "      <td>NaN</td>\n",
       "      <td>NaN</td>\n",
       "      <td>NaN</td>\n",
       "      <td>NaN</td>\n",
       "      <td>NaN</td>\n",
       "    </tr>\n",
       "    <tr>\n",
       "      <th>196549</th>\n",
       "      <td>286211</td>\n",
       "      <td>M1 Capital Advisors LLC</td>\n",
       "      <td>None</td>\n",
       "      <td>operating</td>\n",
       "      <td>NaT</td>\n",
       "      <td>NaT</td>\n",
       "      <td>None</td>\n",
       "      <td>None</td>\n",
       "      <td>None</td>\n",
       "      <td>0</td>\n",
       "      <td>...</td>\n",
       "      <td>0</td>\n",
       "      <td>NaT</td>\n",
       "      <td>NaT</td>\n",
       "      <td>0.00</td>\n",
       "      <td>NaN</td>\n",
       "      <td>NaN</td>\n",
       "      <td>NaN</td>\n",
       "      <td>NaN</td>\n",
       "      <td>NaN</td>\n",
       "      <td>NaN</td>\n",
       "    </tr>\n",
       "    <tr>\n",
       "      <th>196550</th>\n",
       "      <td>286212</td>\n",
       "      <td>M1 Partners</td>\n",
       "      <td>None</td>\n",
       "      <td>operating</td>\n",
       "      <td>NaT</td>\n",
       "      <td>NaT</td>\n",
       "      <td>None</td>\n",
       "      <td>None</td>\n",
       "      <td>None</td>\n",
       "      <td>0</td>\n",
       "      <td>...</td>\n",
       "      <td>0</td>\n",
       "      <td>NaT</td>\n",
       "      <td>NaT</td>\n",
       "      <td>0.00</td>\n",
       "      <td>NaN</td>\n",
       "      <td>NaN</td>\n",
       "      <td>NaN</td>\n",
       "      <td>NaN</td>\n",
       "      <td>NaN</td>\n",
       "      <td>NaN</td>\n",
       "    </tr>\n",
       "    <tr>\n",
       "      <th>196551</th>\n",
       "      <td>286213</td>\n",
       "      <td>Computer Solutions</td>\n",
       "      <td>None</td>\n",
       "      <td>operating</td>\n",
       "      <td>NaT</td>\n",
       "      <td>NaT</td>\n",
       "      <td>None</td>\n",
       "      <td>None</td>\n",
       "      <td>None</td>\n",
       "      <td>0</td>\n",
       "      <td>...</td>\n",
       "      <td>0</td>\n",
       "      <td>NaT</td>\n",
       "      <td>NaT</td>\n",
       "      <td>0.00</td>\n",
       "      <td>NaN</td>\n",
       "      <td>NaN</td>\n",
       "      <td>NaN</td>\n",
       "      <td>NaN</td>\n",
       "      <td>NaN</td>\n",
       "      <td>NaN</td>\n",
       "    </tr>\n",
       "    <tr>\n",
       "      <th>196552</th>\n",
       "      <td>286215</td>\n",
       "      <td>The Betty Mills Company</td>\n",
       "      <td>ecommerce</td>\n",
       "      <td>operating</td>\n",
       "      <td>NaT</td>\n",
       "      <td>NaT</td>\n",
       "      <td>bettymills.com</td>\n",
       "      <td>None</td>\n",
       "      <td>USA</td>\n",
       "      <td>0</td>\n",
       "      <td>...</td>\n",
       "      <td>0</td>\n",
       "      <td>2010-04-07</td>\n",
       "      <td>2010-04-07</td>\n",
       "      <td>271250.00</td>\n",
       "      <td>0.00</td>\n",
       "      <td>0.00</td>\n",
       "      <td>1.00</td>\n",
       "      <td>1.00</td>\n",
       "      <td>2010.00</td>\n",
       "      <td>2010.00</td>\n",
       "    </tr>\n",
       "  </tbody>\n",
       "</table>\n",
       "<p>196553 rows × 22 columns</p>\n",
       "</div>"
      ],
      "text/plain": [
       "        company_ID                          name category_code     status  \\\n",
       "0                1                      Wetpaint           web  operating   \n",
       "1                2                     AdventNet    enterprise  operating   \n",
       "2                3                          Zoho      software  operating   \n",
       "3                4                          Digg          news   acquired   \n",
       "4                5                     Socialnet        social        ipo   \n",
       "...            ...                           ...           ...        ...   \n",
       "196548      286210  LG Electronics North America          None  operating   \n",
       "196549      286211       M1 Capital Advisors LLC          None  operating   \n",
       "196550      286212                   M1 Partners          None  operating   \n",
       "196551      286213            Computer Solutions          None  operating   \n",
       "196552      286215       The Betty Mills Company     ecommerce  operating   \n",
       "\n",
       "       founded_at closed_at            domain network_username country_code  \\\n",
       "0      2005-10-17       NaT  wetpaint-inc.com  BachelrWetpaint          USA   \n",
       "1      1996-01-01       NaT     adventnet.com     manageengine          USA   \n",
       "2      2005-09-15       NaT          zoho.com             zoho          USA   \n",
       "3      2004-10-11       NaT          digg.com             digg          USA   \n",
       "4      2004-02-01       NaT     socialnet.com        socialnet          USA   \n",
       "...           ...       ...               ...              ...          ...   \n",
       "196548        NaT       NaT              None             None         None   \n",
       "196549        NaT       NaT              None             None         None   \n",
       "196550        NaT       NaT              None             None         None   \n",
       "196551        NaT       NaT              None             None         None   \n",
       "196552        NaT       NaT    bettymills.com             None          USA   \n",
       "\n",
       "        investment_rounds  ...  milestones  funded_at_first  funded_at_last  \\\n",
       "0                       0  ...           5       2005-10-01      2008-05-19   \n",
       "1                       0  ...           0              NaT             NaT   \n",
       "2                       0  ...           5              NaT             NaT   \n",
       "3                       0  ...           8       2006-12-01      2011-07-12   \n",
       "4                       3  ...           5       2004-09-01      2011-01-21   \n",
       "...                   ...  ...         ...              ...             ...   \n",
       "196548                  0  ...           1              NaT             NaT   \n",
       "196549                  0  ...           0              NaT             NaT   \n",
       "196550                  0  ...           0              NaT             NaT   \n",
       "196551                  0  ...           0              NaT             NaT   \n",
       "196552                  0  ...           0       2010-04-07      2010-04-07   \n",
       "\n",
       "       raised_amount pre_money_valuation  participants  is_first_round_first  \\\n",
       "0        39750000.00                0.00          3.00                  0.00   \n",
       "1               0.00                 NaN           NaN                   NaN   \n",
       "2               0.00                 NaN           NaN                   NaN   \n",
       "3        45000000.00                0.00          3.50                  0.00   \n",
       "4      2425700000.00                0.00          1.82                  0.00   \n",
       "...              ...                 ...           ...                   ...   \n",
       "196548          0.00                 NaN           NaN                   NaN   \n",
       "196549          0.00                 NaN           NaN                   NaN   \n",
       "196550          0.00                 NaN           NaN                   NaN   \n",
       "196551          0.00                 NaN           NaN                   NaN   \n",
       "196552     271250.00                0.00          0.00                  1.00   \n",
       "\n",
       "        is_first_round_last  year_funded_first  year_funded_last  \n",
       "0                      1.00            2005.00           2008.00  \n",
       "1                       NaN                NaN               NaN  \n",
       "2                       NaN                NaN               NaN  \n",
       "3                      1.00            2006.00           2011.00  \n",
       "4                      1.00            2004.00           2011.00  \n",
       "...                     ...                ...               ...  \n",
       "196548                  NaN                NaN               NaN  \n",
       "196549                  NaN                NaN               NaN  \n",
       "196550                  NaN                NaN               NaN  \n",
       "196551                  NaN                NaN               NaN  \n",
       "196552                 1.00            2010.00           2010.00  \n",
       "\n",
       "[196553 rows x 22 columns]"
      ]
     },
     "execution_count": 51,
     "metadata": {},
     "output_type": "execute_result"
    },
    {
     "data": {
      "text/html": [
       "<div>\n",
       "<style scoped>\n",
       "    .dataframe tbody tr th:only-of-type {\n",
       "        vertical-align: middle;\n",
       "    }\n",
       "\n",
       "    .dataframe tbody tr th {\n",
       "        vertical-align: top;\n",
       "    }\n",
       "\n",
       "    .dataframe thead th {\n",
       "        text-align: right;\n",
       "    }\n",
       "</style>\n",
       "<table border=\"1\" class=\"dataframe\">\n",
       "  <thead>\n",
       "    <tr style=\"text-align: right;\">\n",
       "      <th></th>\n",
       "      <th>company_ID</th>\n",
       "      <th>name</th>\n",
       "      <th>category_code</th>\n",
       "      <th>status</th>\n",
       "      <th>founded_at</th>\n",
       "      <th>closed_at</th>\n",
       "      <th>domain</th>\n",
       "      <th>network_username</th>\n",
       "      <th>country_code</th>\n",
       "      <th>investment_rounds</th>\n",
       "      <th>...</th>\n",
       "      <th>milestones</th>\n",
       "      <th>funded_at_first</th>\n",
       "      <th>funded_at_last</th>\n",
       "      <th>raised_amount</th>\n",
       "      <th>pre_money_valuation</th>\n",
       "      <th>participants</th>\n",
       "      <th>is_first_round_first</th>\n",
       "      <th>is_first_round_last</th>\n",
       "      <th>year_funded_first</th>\n",
       "      <th>year_funded_last</th>\n",
       "    </tr>\n",
       "  </thead>\n",
       "  <tbody>\n",
       "    <tr>\n",
       "      <th>0</th>\n",
       "      <td>1</td>\n",
       "      <td>Wetpaint</td>\n",
       "      <td>web</td>\n",
       "      <td>operating</td>\n",
       "      <td>2005-10-17</td>\n",
       "      <td>NaT</td>\n",
       "      <td>wetpaint-inc.com</td>\n",
       "      <td>BachelrWetpaint</td>\n",
       "      <td>USA</td>\n",
       "      <td>0</td>\n",
       "      <td>...</td>\n",
       "      <td>5</td>\n",
       "      <td>2005-10-01</td>\n",
       "      <td>2008-05-19</td>\n",
       "      <td>39750000.00</td>\n",
       "      <td>0.00</td>\n",
       "      <td>3.00</td>\n",
       "      <td>0.00</td>\n",
       "      <td>1.00</td>\n",
       "      <td>2005.00</td>\n",
       "      <td>2008.00</td>\n",
       "    </tr>\n",
       "    <tr>\n",
       "      <th>1</th>\n",
       "      <td>2</td>\n",
       "      <td>AdventNet</td>\n",
       "      <td>enterprise</td>\n",
       "      <td>operating</td>\n",
       "      <td>1996-01-01</td>\n",
       "      <td>NaT</td>\n",
       "      <td>adventnet.com</td>\n",
       "      <td>manageengine</td>\n",
       "      <td>USA</td>\n",
       "      <td>0</td>\n",
       "      <td>...</td>\n",
       "      <td>0</td>\n",
       "      <td>NaT</td>\n",
       "      <td>NaT</td>\n",
       "      <td>0.00</td>\n",
       "      <td>NaN</td>\n",
       "      <td>NaN</td>\n",
       "      <td>NaN</td>\n",
       "      <td>NaN</td>\n",
       "      <td>NaN</td>\n",
       "      <td>NaN</td>\n",
       "    </tr>\n",
       "    <tr>\n",
       "      <th>2</th>\n",
       "      <td>3</td>\n",
       "      <td>Zoho</td>\n",
       "      <td>software</td>\n",
       "      <td>operating</td>\n",
       "      <td>2005-09-15</td>\n",
       "      <td>NaT</td>\n",
       "      <td>zoho.com</td>\n",
       "      <td>zoho</td>\n",
       "      <td>USA</td>\n",
       "      <td>0</td>\n",
       "      <td>...</td>\n",
       "      <td>5</td>\n",
       "      <td>NaT</td>\n",
       "      <td>NaT</td>\n",
       "      <td>0.00</td>\n",
       "      <td>NaN</td>\n",
       "      <td>NaN</td>\n",
       "      <td>NaN</td>\n",
       "      <td>NaN</td>\n",
       "      <td>NaN</td>\n",
       "      <td>NaN</td>\n",
       "    </tr>\n",
       "    <tr>\n",
       "      <th>3</th>\n",
       "      <td>4</td>\n",
       "      <td>Digg</td>\n",
       "      <td>news</td>\n",
       "      <td>acquired</td>\n",
       "      <td>2004-10-11</td>\n",
       "      <td>NaT</td>\n",
       "      <td>digg.com</td>\n",
       "      <td>digg</td>\n",
       "      <td>USA</td>\n",
       "      <td>0</td>\n",
       "      <td>...</td>\n",
       "      <td>8</td>\n",
       "      <td>2006-12-01</td>\n",
       "      <td>2011-07-12</td>\n",
       "      <td>45000000.00</td>\n",
       "      <td>0.00</td>\n",
       "      <td>3.50</td>\n",
       "      <td>0.00</td>\n",
       "      <td>1.00</td>\n",
       "      <td>2006.00</td>\n",
       "      <td>2011.00</td>\n",
       "    </tr>\n",
       "    <tr>\n",
       "      <th>4</th>\n",
       "      <td>5</td>\n",
       "      <td>Socialnet</td>\n",
       "      <td>social</td>\n",
       "      <td>ipo</td>\n",
       "      <td>2004-02-01</td>\n",
       "      <td>NaT</td>\n",
       "      <td>socialnet.com</td>\n",
       "      <td>socialnet</td>\n",
       "      <td>USA</td>\n",
       "      <td>3</td>\n",
       "      <td>...</td>\n",
       "      <td>5</td>\n",
       "      <td>2004-09-01</td>\n",
       "      <td>2011-01-21</td>\n",
       "      <td>2425700000.00</td>\n",
       "      <td>0.00</td>\n",
       "      <td>1.82</td>\n",
       "      <td>0.00</td>\n",
       "      <td>1.00</td>\n",
       "      <td>2004.00</td>\n",
       "      <td>2011.00</td>\n",
       "    </tr>\n",
       "    <tr>\n",
       "      <th>...</th>\n",
       "      <td>...</td>\n",
       "      <td>...</td>\n",
       "      <td>...</td>\n",
       "      <td>...</td>\n",
       "      <td>...</td>\n",
       "      <td>...</td>\n",
       "      <td>...</td>\n",
       "      <td>...</td>\n",
       "      <td>...</td>\n",
       "      <td>...</td>\n",
       "      <td>...</td>\n",
       "      <td>...</td>\n",
       "      <td>...</td>\n",
       "      <td>...</td>\n",
       "      <td>...</td>\n",
       "      <td>...</td>\n",
       "      <td>...</td>\n",
       "      <td>...</td>\n",
       "      <td>...</td>\n",
       "      <td>...</td>\n",
       "      <td>...</td>\n",
       "    </tr>\n",
       "    <tr>\n",
       "      <th>196548</th>\n",
       "      <td>286210</td>\n",
       "      <td>LG Electronics North America</td>\n",
       "      <td>None</td>\n",
       "      <td>operating</td>\n",
       "      <td>NaT</td>\n",
       "      <td>NaT</td>\n",
       "      <td>None</td>\n",
       "      <td>None</td>\n",
       "      <td>None</td>\n",
       "      <td>0</td>\n",
       "      <td>...</td>\n",
       "      <td>1</td>\n",
       "      <td>NaT</td>\n",
       "      <td>NaT</td>\n",
       "      <td>0.00</td>\n",
       "      <td>NaN</td>\n",
       "      <td>NaN</td>\n",
       "      <td>NaN</td>\n",
       "      <td>NaN</td>\n",
       "      <td>NaN</td>\n",
       "      <td>NaN</td>\n",
       "    </tr>\n",
       "    <tr>\n",
       "      <th>196549</th>\n",
       "      <td>286211</td>\n",
       "      <td>M1 Capital Advisors LLC</td>\n",
       "      <td>None</td>\n",
       "      <td>operating</td>\n",
       "      <td>NaT</td>\n",
       "      <td>NaT</td>\n",
       "      <td>None</td>\n",
       "      <td>None</td>\n",
       "      <td>None</td>\n",
       "      <td>0</td>\n",
       "      <td>...</td>\n",
       "      <td>0</td>\n",
       "      <td>NaT</td>\n",
       "      <td>NaT</td>\n",
       "      <td>0.00</td>\n",
       "      <td>NaN</td>\n",
       "      <td>NaN</td>\n",
       "      <td>NaN</td>\n",
       "      <td>NaN</td>\n",
       "      <td>NaN</td>\n",
       "      <td>NaN</td>\n",
       "    </tr>\n",
       "    <tr>\n",
       "      <th>196550</th>\n",
       "      <td>286212</td>\n",
       "      <td>M1 Partners</td>\n",
       "      <td>None</td>\n",
       "      <td>operating</td>\n",
       "      <td>NaT</td>\n",
       "      <td>NaT</td>\n",
       "      <td>None</td>\n",
       "      <td>None</td>\n",
       "      <td>None</td>\n",
       "      <td>0</td>\n",
       "      <td>...</td>\n",
       "      <td>0</td>\n",
       "      <td>NaT</td>\n",
       "      <td>NaT</td>\n",
       "      <td>0.00</td>\n",
       "      <td>NaN</td>\n",
       "      <td>NaN</td>\n",
       "      <td>NaN</td>\n",
       "      <td>NaN</td>\n",
       "      <td>NaN</td>\n",
       "      <td>NaN</td>\n",
       "    </tr>\n",
       "    <tr>\n",
       "      <th>196551</th>\n",
       "      <td>286213</td>\n",
       "      <td>Computer Solutions</td>\n",
       "      <td>None</td>\n",
       "      <td>operating</td>\n",
       "      <td>NaT</td>\n",
       "      <td>NaT</td>\n",
       "      <td>None</td>\n",
       "      <td>None</td>\n",
       "      <td>None</td>\n",
       "      <td>0</td>\n",
       "      <td>...</td>\n",
       "      <td>0</td>\n",
       "      <td>NaT</td>\n",
       "      <td>NaT</td>\n",
       "      <td>0.00</td>\n",
       "      <td>NaN</td>\n",
       "      <td>NaN</td>\n",
       "      <td>NaN</td>\n",
       "      <td>NaN</td>\n",
       "      <td>NaN</td>\n",
       "      <td>NaN</td>\n",
       "    </tr>\n",
       "    <tr>\n",
       "      <th>196552</th>\n",
       "      <td>286215</td>\n",
       "      <td>The Betty Mills Company</td>\n",
       "      <td>ecommerce</td>\n",
       "      <td>operating</td>\n",
       "      <td>NaT</td>\n",
       "      <td>NaT</td>\n",
       "      <td>bettymills.com</td>\n",
       "      <td>None</td>\n",
       "      <td>USA</td>\n",
       "      <td>0</td>\n",
       "      <td>...</td>\n",
       "      <td>0</td>\n",
       "      <td>2010-04-07</td>\n",
       "      <td>2010-04-07</td>\n",
       "      <td>271250.00</td>\n",
       "      <td>0.00</td>\n",
       "      <td>0.00</td>\n",
       "      <td>1.00</td>\n",
       "      <td>1.00</td>\n",
       "      <td>2010.00</td>\n",
       "      <td>2010.00</td>\n",
       "    </tr>\n",
       "  </tbody>\n",
       "</table>\n",
       "<p>196553 rows × 22 columns</p>\n",
       "</div>"
      ],
      "text/plain": [
       "        company_ID                          name category_code     status  \\\n",
       "0                1                      Wetpaint           web  operating   \n",
       "1                2                     AdventNet    enterprise  operating   \n",
       "2                3                          Zoho      software  operating   \n",
       "3                4                          Digg          news   acquired   \n",
       "4                5                     Socialnet        social        ipo   \n",
       "...            ...                           ...           ...        ...   \n",
       "196548      286210  LG Electronics North America          None  operating   \n",
       "196549      286211       M1 Capital Advisors LLC          None  operating   \n",
       "196550      286212                   M1 Partners          None  operating   \n",
       "196551      286213            Computer Solutions          None  operating   \n",
       "196552      286215       The Betty Mills Company     ecommerce  operating   \n",
       "\n",
       "       founded_at closed_at            domain network_username country_code  \\\n",
       "0      2005-10-17       NaT  wetpaint-inc.com  BachelrWetpaint          USA   \n",
       "1      1996-01-01       NaT     adventnet.com     manageengine          USA   \n",
       "2      2005-09-15       NaT          zoho.com             zoho          USA   \n",
       "3      2004-10-11       NaT          digg.com             digg          USA   \n",
       "4      2004-02-01       NaT     socialnet.com        socialnet          USA   \n",
       "...           ...       ...               ...              ...          ...   \n",
       "196548        NaT       NaT              None             None         None   \n",
       "196549        NaT       NaT              None             None         None   \n",
       "196550        NaT       NaT              None             None         None   \n",
       "196551        NaT       NaT              None             None         None   \n",
       "196552        NaT       NaT    bettymills.com             None          USA   \n",
       "\n",
       "        investment_rounds  ...  milestones  funded_at_first  funded_at_last  \\\n",
       "0                       0  ...           5       2005-10-01      2008-05-19   \n",
       "1                       0  ...           0              NaT             NaT   \n",
       "2                       0  ...           5              NaT             NaT   \n",
       "3                       0  ...           8       2006-12-01      2011-07-12   \n",
       "4                       3  ...           5       2004-09-01      2011-01-21   \n",
       "...                   ...  ...         ...              ...             ...   \n",
       "196548                  0  ...           1              NaT             NaT   \n",
       "196549                  0  ...           0              NaT             NaT   \n",
       "196550                  0  ...           0              NaT             NaT   \n",
       "196551                  0  ...           0              NaT             NaT   \n",
       "196552                  0  ...           0       2010-04-07      2010-04-07   \n",
       "\n",
       "       raised_amount pre_money_valuation  participants  is_first_round_first  \\\n",
       "0        39750000.00                0.00          3.00                  0.00   \n",
       "1               0.00                 NaN           NaN                   NaN   \n",
       "2               0.00                 NaN           NaN                   NaN   \n",
       "3        45000000.00                0.00          3.50                  0.00   \n",
       "4      2425700000.00                0.00          1.82                  0.00   \n",
       "...              ...                 ...           ...                   ...   \n",
       "196548          0.00                 NaN           NaN                   NaN   \n",
       "196549          0.00                 NaN           NaN                   NaN   \n",
       "196550          0.00                 NaN           NaN                   NaN   \n",
       "196551          0.00                 NaN           NaN                   NaN   \n",
       "196552     271250.00                0.00          0.00                  1.00   \n",
       "\n",
       "        is_first_round_last  year_funded_first  year_funded_last  \n",
       "0                      1.00            2005.00           2008.00  \n",
       "1                       NaN                NaN               NaN  \n",
       "2                       NaN                NaN               NaN  \n",
       "3                      1.00            2006.00           2011.00  \n",
       "4                      1.00            2004.00           2011.00  \n",
       "...                     ...                ...               ...  \n",
       "196548                  NaN                NaN               NaN  \n",
       "196549                  NaN                NaN               NaN  \n",
       "196550                  NaN                NaN               NaN  \n",
       "196551                  NaN                NaN               NaN  \n",
       "196552                 1.00            2010.00           2010.00  \n",
       "\n",
       "[196553 rows x 22 columns]"
      ]
     },
     "execution_count": 51,
     "metadata": {},
     "output_type": "execute_result"
    }
   ],
   "source": [
    "# меняем типы данных\n",
    "group['investment_rounds'] = group['investment_rounds'].astype('int64')\n",
    "group['funding_rounds'] = group['funding_rounds'].astype('int64')\n",
    "group['milestones'] = group['milestones'].astype('int64')\n",
    "group"
   ]
  },
  {
   "cell_type": "markdown",
   "metadata": {
    "id": "bmVYhphNrJg2"
   },
   "source": [
    "\n",
    "## Шаг 3. Исследовательский анализ объединённых таблиц"
   ]
  },
  {
   "cell_type": "markdown",
   "metadata": {
    "id": "3Di6tCT3rJg2"
   },
   "source": [
    "\n",
    "### 3.1. Объединение данных\n"
   ]
  },
  {
   "cell_type": "code",
   "execution_count": 52,
   "metadata": {
    "id": "mGYqoHS7rJg2"
   },
   "outputs": [
    {
     "data": {
      "text/html": [
       "<div>\n",
       "<style scoped>\n",
       "    .dataframe tbody tr th:only-of-type {\n",
       "        vertical-align: middle;\n",
       "    }\n",
       "\n",
       "    .dataframe tbody tr th {\n",
       "        vertical-align: top;\n",
       "    }\n",
       "\n",
       "    .dataframe thead th {\n",
       "        text-align: right;\n",
       "    }\n",
       "</style>\n",
       "<table border=\"1\" class=\"dataframe\">\n",
       "  <thead>\n",
       "    <tr style=\"text-align: right;\">\n",
       "      <th></th>\n",
       "      <th>company_ID</th>\n",
       "      <th>name</th>\n",
       "      <th>category_code</th>\n",
       "      <th>status</th>\n",
       "      <th>founded_at</th>\n",
       "      <th>closed_at</th>\n",
       "      <th>domain</th>\n",
       "      <th>network_username</th>\n",
       "      <th>country_code</th>\n",
       "      <th>investment_rounds</th>\n",
       "      <th>...</th>\n",
       "      <th>milestones</th>\n",
       "      <th>funded_at_first</th>\n",
       "      <th>funded_at_last</th>\n",
       "      <th>raised_amount</th>\n",
       "      <th>pre_money_valuation</th>\n",
       "      <th>participants</th>\n",
       "      <th>is_first_round_first</th>\n",
       "      <th>is_first_round_last</th>\n",
       "      <th>year_funded_first</th>\n",
       "      <th>year_funded_last</th>\n",
       "    </tr>\n",
       "  </thead>\n",
       "  <tbody>\n",
       "    <tr>\n",
       "      <th>0</th>\n",
       "      <td>1</td>\n",
       "      <td>Wetpaint</td>\n",
       "      <td>web</td>\n",
       "      <td>operating</td>\n",
       "      <td>2005-10-17</td>\n",
       "      <td>NaT</td>\n",
       "      <td>wetpaint-inc.com</td>\n",
       "      <td>BachelrWetpaint</td>\n",
       "      <td>USA</td>\n",
       "      <td>0</td>\n",
       "      <td>...</td>\n",
       "      <td>5</td>\n",
       "      <td>2005-10-01</td>\n",
       "      <td>2008-05-19</td>\n",
       "      <td>39750000.00</td>\n",
       "      <td>0.00</td>\n",
       "      <td>3.00</td>\n",
       "      <td>0.00</td>\n",
       "      <td>1.00</td>\n",
       "      <td>2005.00</td>\n",
       "      <td>2008.00</td>\n",
       "    </tr>\n",
       "    <tr>\n",
       "      <th>3</th>\n",
       "      <td>4</td>\n",
       "      <td>Digg</td>\n",
       "      <td>news</td>\n",
       "      <td>acquired</td>\n",
       "      <td>2004-10-11</td>\n",
       "      <td>NaT</td>\n",
       "      <td>digg.com</td>\n",
       "      <td>digg</td>\n",
       "      <td>USA</td>\n",
       "      <td>0</td>\n",
       "      <td>...</td>\n",
       "      <td>8</td>\n",
       "      <td>2006-12-01</td>\n",
       "      <td>2011-07-12</td>\n",
       "      <td>45000000.00</td>\n",
       "      <td>0.00</td>\n",
       "      <td>3.50</td>\n",
       "      <td>0.00</td>\n",
       "      <td>1.00</td>\n",
       "      <td>2006.00</td>\n",
       "      <td>2011.00</td>\n",
       "    </tr>\n",
       "    <tr>\n",
       "      <th>4</th>\n",
       "      <td>5</td>\n",
       "      <td>Socialnet</td>\n",
       "      <td>social</td>\n",
       "      <td>ipo</td>\n",
       "      <td>2004-02-01</td>\n",
       "      <td>NaT</td>\n",
       "      <td>socialnet.com</td>\n",
       "      <td>socialnet</td>\n",
       "      <td>USA</td>\n",
       "      <td>3</td>\n",
       "      <td>...</td>\n",
       "      <td>5</td>\n",
       "      <td>2004-09-01</td>\n",
       "      <td>2011-01-21</td>\n",
       "      <td>2425700000.00</td>\n",
       "      <td>0.00</td>\n",
       "      <td>1.82</td>\n",
       "      <td>0.00</td>\n",
       "      <td>1.00</td>\n",
       "      <td>2004.00</td>\n",
       "      <td>2011.00</td>\n",
       "    </tr>\n",
       "    <tr>\n",
       "      <th>5</th>\n",
       "      <td>7</td>\n",
       "      <td>Omnidrive</td>\n",
       "      <td>network_hosting</td>\n",
       "      <td>closed</td>\n",
       "      <td>2005-11-01</td>\n",
       "      <td>2008-09-15</td>\n",
       "      <td>omnidrive.com</td>\n",
       "      <td>Nomadesk</td>\n",
       "      <td>ISR</td>\n",
       "      <td>0</td>\n",
       "      <td>...</td>\n",
       "      <td>4</td>\n",
       "      <td>2006-12-01</td>\n",
       "      <td>2006-12-01</td>\n",
       "      <td>800000.00</td>\n",
       "      <td>0.00</td>\n",
       "      <td>4.00</td>\n",
       "      <td>1.00</td>\n",
       "      <td>1.00</td>\n",
       "      <td>2006.00</td>\n",
       "      <td>2006.00</td>\n",
       "    </tr>\n",
       "    <tr>\n",
       "      <th>6</th>\n",
       "      <td>8</td>\n",
       "      <td>Postini</td>\n",
       "      <td>web</td>\n",
       "      <td>acquired</td>\n",
       "      <td>1999-06-02</td>\n",
       "      <td>NaT</td>\n",
       "      <td>postini.com</td>\n",
       "      <td>None</td>\n",
       "      <td>USA</td>\n",
       "      <td>0</td>\n",
       "      <td>...</td>\n",
       "      <td>0</td>\n",
       "      <td>NaT</td>\n",
       "      <td>NaT</td>\n",
       "      <td>0.00</td>\n",
       "      <td>NaN</td>\n",
       "      <td>NaN</td>\n",
       "      <td>NaN</td>\n",
       "      <td>NaN</td>\n",
       "      <td>NaN</td>\n",
       "      <td>NaN</td>\n",
       "    </tr>\n",
       "    <tr>\n",
       "      <th>...</th>\n",
       "      <td>...</td>\n",
       "      <td>...</td>\n",
       "      <td>...</td>\n",
       "      <td>...</td>\n",
       "      <td>...</td>\n",
       "      <td>...</td>\n",
       "      <td>...</td>\n",
       "      <td>...</td>\n",
       "      <td>...</td>\n",
       "      <td>...</td>\n",
       "      <td>...</td>\n",
       "      <td>...</td>\n",
       "      <td>...</td>\n",
       "      <td>...</td>\n",
       "      <td>...</td>\n",
       "      <td>...</td>\n",
       "      <td>...</td>\n",
       "      <td>...</td>\n",
       "      <td>...</td>\n",
       "      <td>...</td>\n",
       "      <td>...</td>\n",
       "    </tr>\n",
       "    <tr>\n",
       "      <th>196527</th>\n",
       "      <td>286183</td>\n",
       "      <td>Wedding Spot</td>\n",
       "      <td>web</td>\n",
       "      <td>operating</td>\n",
       "      <td>2013-05-01</td>\n",
       "      <td>NaT</td>\n",
       "      <td>wedding-spot.com</td>\n",
       "      <td>weddingspot</td>\n",
       "      <td>USA</td>\n",
       "      <td>0</td>\n",
       "      <td>...</td>\n",
       "      <td>0</td>\n",
       "      <td>2013-12-12</td>\n",
       "      <td>2013-12-12</td>\n",
       "      <td>225000.00</td>\n",
       "      <td>0.00</td>\n",
       "      <td>3.00</td>\n",
       "      <td>1.00</td>\n",
       "      <td>1.00</td>\n",
       "      <td>2013.00</td>\n",
       "      <td>2013.00</td>\n",
       "    </tr>\n",
       "    <tr>\n",
       "      <th>196528</th>\n",
       "      <td>286184</td>\n",
       "      <td>Seldar Pharma</td>\n",
       "      <td>biotech</td>\n",
       "      <td>operating</td>\n",
       "      <td>NaT</td>\n",
       "      <td>NaT</td>\n",
       "      <td>None</td>\n",
       "      <td>None</td>\n",
       "      <td>USA</td>\n",
       "      <td>0</td>\n",
       "      <td>...</td>\n",
       "      <td>0</td>\n",
       "      <td>2013-12-11</td>\n",
       "      <td>2013-12-11</td>\n",
       "      <td>12999000.00</td>\n",
       "      <td>0.00</td>\n",
       "      <td>0.00</td>\n",
       "      <td>1.00</td>\n",
       "      <td>1.00</td>\n",
       "      <td>2013.00</td>\n",
       "      <td>2013.00</td>\n",
       "    </tr>\n",
       "    <tr>\n",
       "      <th>196529</th>\n",
       "      <td>286186</td>\n",
       "      <td>Micromidas</td>\n",
       "      <td>cleantech</td>\n",
       "      <td>operating</td>\n",
       "      <td>NaT</td>\n",
       "      <td>NaT</td>\n",
       "      <td>micromidas.com</td>\n",
       "      <td>None</td>\n",
       "      <td>USA</td>\n",
       "      <td>0</td>\n",
       "      <td>...</td>\n",
       "      <td>0</td>\n",
       "      <td>2010-04-07</td>\n",
       "      <td>2010-04-07</td>\n",
       "      <td>2156060.00</td>\n",
       "      <td>0.00</td>\n",
       "      <td>0.00</td>\n",
       "      <td>1.00</td>\n",
       "      <td>1.00</td>\n",
       "      <td>2010.00</td>\n",
       "      <td>2010.00</td>\n",
       "    </tr>\n",
       "    <tr>\n",
       "      <th>196538</th>\n",
       "      <td>286200</td>\n",
       "      <td>STWA</td>\n",
       "      <td>other</td>\n",
       "      <td>operating</td>\n",
       "      <td>1998-01-01</td>\n",
       "      <td>NaT</td>\n",
       "      <td>stwa.com</td>\n",
       "      <td>None</td>\n",
       "      <td>USA</td>\n",
       "      <td>0</td>\n",
       "      <td>...</td>\n",
       "      <td>0</td>\n",
       "      <td>2010-02-05</td>\n",
       "      <td>2010-02-05</td>\n",
       "      <td>1588120.00</td>\n",
       "      <td>0.00</td>\n",
       "      <td>0.00</td>\n",
       "      <td>1.00</td>\n",
       "      <td>1.00</td>\n",
       "      <td>2010.00</td>\n",
       "      <td>2010.00</td>\n",
       "    </tr>\n",
       "    <tr>\n",
       "      <th>196552</th>\n",
       "      <td>286215</td>\n",
       "      <td>The Betty Mills Company</td>\n",
       "      <td>ecommerce</td>\n",
       "      <td>operating</td>\n",
       "      <td>NaT</td>\n",
       "      <td>NaT</td>\n",
       "      <td>bettymills.com</td>\n",
       "      <td>None</td>\n",
       "      <td>USA</td>\n",
       "      <td>0</td>\n",
       "      <td>...</td>\n",
       "      <td>0</td>\n",
       "      <td>2010-04-07</td>\n",
       "      <td>2010-04-07</td>\n",
       "      <td>271250.00</td>\n",
       "      <td>0.00</td>\n",
       "      <td>0.00</td>\n",
       "      <td>1.00</td>\n",
       "      <td>1.00</td>\n",
       "      <td>2010.00</td>\n",
       "      <td>2010.00</td>\n",
       "    </tr>\n",
       "  </tbody>\n",
       "</table>\n",
       "<p>40747 rows × 22 columns</p>\n",
       "</div>"
      ],
      "text/plain": [
       "        company_ID                     name    category_code     status  \\\n",
       "0                1                 Wetpaint              web  operating   \n",
       "3                4                     Digg             news   acquired   \n",
       "4                5                Socialnet           social        ipo   \n",
       "5                7                Omnidrive  network_hosting     closed   \n",
       "6                8                  Postini              web   acquired   \n",
       "...            ...                      ...              ...        ...   \n",
       "196527      286183             Wedding Spot              web  operating   \n",
       "196528      286184            Seldar Pharma          biotech  operating   \n",
       "196529      286186               Micromidas        cleantech  operating   \n",
       "196538      286200                     STWA            other  operating   \n",
       "196552      286215  The Betty Mills Company        ecommerce  operating   \n",
       "\n",
       "       founded_at  closed_at            domain network_username country_code  \\\n",
       "0      2005-10-17        NaT  wetpaint-inc.com  BachelrWetpaint          USA   \n",
       "3      2004-10-11        NaT          digg.com             digg          USA   \n",
       "4      2004-02-01        NaT     socialnet.com        socialnet          USA   \n",
       "5      2005-11-01 2008-09-15     omnidrive.com         Nomadesk          ISR   \n",
       "6      1999-06-02        NaT       postini.com             None          USA   \n",
       "...           ...        ...               ...              ...          ...   \n",
       "196527 2013-05-01        NaT  wedding-spot.com      weddingspot          USA   \n",
       "196528        NaT        NaT              None             None          USA   \n",
       "196529        NaT        NaT    micromidas.com             None          USA   \n",
       "196538 1998-01-01        NaT          stwa.com             None          USA   \n",
       "196552        NaT        NaT    bettymills.com             None          USA   \n",
       "\n",
       "        investment_rounds  ...  milestones  funded_at_first  funded_at_last  \\\n",
       "0                       0  ...           5       2005-10-01      2008-05-19   \n",
       "3                       0  ...           8       2006-12-01      2011-07-12   \n",
       "4                       3  ...           5       2004-09-01      2011-01-21   \n",
       "5                       0  ...           4       2006-12-01      2006-12-01   \n",
       "6                       0  ...           0              NaT             NaT   \n",
       "...                   ...  ...         ...              ...             ...   \n",
       "196527                  0  ...           0       2013-12-12      2013-12-12   \n",
       "196528                  0  ...           0       2013-12-11      2013-12-11   \n",
       "196529                  0  ...           0       2010-04-07      2010-04-07   \n",
       "196538                  0  ...           0       2010-02-05      2010-02-05   \n",
       "196552                  0  ...           0       2010-04-07      2010-04-07   \n",
       "\n",
       "       raised_amount pre_money_valuation  participants  is_first_round_first  \\\n",
       "0        39750000.00                0.00          3.00                  0.00   \n",
       "3        45000000.00                0.00          3.50                  0.00   \n",
       "4      2425700000.00                0.00          1.82                  0.00   \n",
       "5          800000.00                0.00          4.00                  1.00   \n",
       "6               0.00                 NaN           NaN                   NaN   \n",
       "...              ...                 ...           ...                   ...   \n",
       "196527     225000.00                0.00          3.00                  1.00   \n",
       "196528   12999000.00                0.00          0.00                  1.00   \n",
       "196529    2156060.00                0.00          0.00                  1.00   \n",
       "196538    1588120.00                0.00          0.00                  1.00   \n",
       "196552     271250.00                0.00          0.00                  1.00   \n",
       "\n",
       "        is_first_round_last  year_funded_first  year_funded_last  \n",
       "0                      1.00            2005.00           2008.00  \n",
       "3                      1.00            2006.00           2011.00  \n",
       "4                      1.00            2004.00           2011.00  \n",
       "5                      1.00            2006.00           2006.00  \n",
       "6                       NaN                NaN               NaN  \n",
       "...                     ...                ...               ...  \n",
       "196527                 1.00            2013.00           2013.00  \n",
       "196528                 1.00            2013.00           2013.00  \n",
       "196529                 1.00            2010.00           2010.00  \n",
       "196538                 1.00            2010.00           2010.00  \n",
       "196552                 1.00            2010.00           2010.00  \n",
       "\n",
       "[40747 rows x 22 columns]"
      ]
     },
     "execution_count": 52,
     "metadata": {},
     "output_type": "execute_result"
    },
    {
     "data": {
      "text/html": [
       "<div>\n",
       "<style scoped>\n",
       "    .dataframe tbody tr th:only-of-type {\n",
       "        vertical-align: middle;\n",
       "    }\n",
       "\n",
       "    .dataframe tbody tr th {\n",
       "        vertical-align: top;\n",
       "    }\n",
       "\n",
       "    .dataframe thead th {\n",
       "        text-align: right;\n",
       "    }\n",
       "</style>\n",
       "<table border=\"1\" class=\"dataframe\">\n",
       "  <thead>\n",
       "    <tr style=\"text-align: right;\">\n",
       "      <th></th>\n",
       "      <th>company_ID</th>\n",
       "      <th>name</th>\n",
       "      <th>category_code</th>\n",
       "      <th>status</th>\n",
       "      <th>founded_at</th>\n",
       "      <th>closed_at</th>\n",
       "      <th>domain</th>\n",
       "      <th>network_username</th>\n",
       "      <th>country_code</th>\n",
       "      <th>investment_rounds</th>\n",
       "      <th>...</th>\n",
       "      <th>milestones</th>\n",
       "      <th>funded_at_first</th>\n",
       "      <th>funded_at_last</th>\n",
       "      <th>raised_amount</th>\n",
       "      <th>pre_money_valuation</th>\n",
       "      <th>participants</th>\n",
       "      <th>is_first_round_first</th>\n",
       "      <th>is_first_round_last</th>\n",
       "      <th>year_funded_first</th>\n",
       "      <th>year_funded_last</th>\n",
       "    </tr>\n",
       "  </thead>\n",
       "  <tbody>\n",
       "    <tr>\n",
       "      <th>0</th>\n",
       "      <td>1</td>\n",
       "      <td>Wetpaint</td>\n",
       "      <td>web</td>\n",
       "      <td>operating</td>\n",
       "      <td>2005-10-17</td>\n",
       "      <td>NaT</td>\n",
       "      <td>wetpaint-inc.com</td>\n",
       "      <td>BachelrWetpaint</td>\n",
       "      <td>USA</td>\n",
       "      <td>0</td>\n",
       "      <td>...</td>\n",
       "      <td>5</td>\n",
       "      <td>2005-10-01</td>\n",
       "      <td>2008-05-19</td>\n",
       "      <td>39750000.00</td>\n",
       "      <td>0.00</td>\n",
       "      <td>3.00</td>\n",
       "      <td>0.00</td>\n",
       "      <td>1.00</td>\n",
       "      <td>2005.00</td>\n",
       "      <td>2008.00</td>\n",
       "    </tr>\n",
       "    <tr>\n",
       "      <th>3</th>\n",
       "      <td>4</td>\n",
       "      <td>Digg</td>\n",
       "      <td>news</td>\n",
       "      <td>acquired</td>\n",
       "      <td>2004-10-11</td>\n",
       "      <td>NaT</td>\n",
       "      <td>digg.com</td>\n",
       "      <td>digg</td>\n",
       "      <td>USA</td>\n",
       "      <td>0</td>\n",
       "      <td>...</td>\n",
       "      <td>8</td>\n",
       "      <td>2006-12-01</td>\n",
       "      <td>2011-07-12</td>\n",
       "      <td>45000000.00</td>\n",
       "      <td>0.00</td>\n",
       "      <td>3.50</td>\n",
       "      <td>0.00</td>\n",
       "      <td>1.00</td>\n",
       "      <td>2006.00</td>\n",
       "      <td>2011.00</td>\n",
       "    </tr>\n",
       "    <tr>\n",
       "      <th>4</th>\n",
       "      <td>5</td>\n",
       "      <td>Socialnet</td>\n",
       "      <td>social</td>\n",
       "      <td>ipo</td>\n",
       "      <td>2004-02-01</td>\n",
       "      <td>NaT</td>\n",
       "      <td>socialnet.com</td>\n",
       "      <td>socialnet</td>\n",
       "      <td>USA</td>\n",
       "      <td>3</td>\n",
       "      <td>...</td>\n",
       "      <td>5</td>\n",
       "      <td>2004-09-01</td>\n",
       "      <td>2011-01-21</td>\n",
       "      <td>2425700000.00</td>\n",
       "      <td>0.00</td>\n",
       "      <td>1.82</td>\n",
       "      <td>0.00</td>\n",
       "      <td>1.00</td>\n",
       "      <td>2004.00</td>\n",
       "      <td>2011.00</td>\n",
       "    </tr>\n",
       "    <tr>\n",
       "      <th>5</th>\n",
       "      <td>7</td>\n",
       "      <td>Omnidrive</td>\n",
       "      <td>network_hosting</td>\n",
       "      <td>closed</td>\n",
       "      <td>2005-11-01</td>\n",
       "      <td>2008-09-15</td>\n",
       "      <td>omnidrive.com</td>\n",
       "      <td>Nomadesk</td>\n",
       "      <td>ISR</td>\n",
       "      <td>0</td>\n",
       "      <td>...</td>\n",
       "      <td>4</td>\n",
       "      <td>2006-12-01</td>\n",
       "      <td>2006-12-01</td>\n",
       "      <td>800000.00</td>\n",
       "      <td>0.00</td>\n",
       "      <td>4.00</td>\n",
       "      <td>1.00</td>\n",
       "      <td>1.00</td>\n",
       "      <td>2006.00</td>\n",
       "      <td>2006.00</td>\n",
       "    </tr>\n",
       "    <tr>\n",
       "      <th>6</th>\n",
       "      <td>8</td>\n",
       "      <td>Postini</td>\n",
       "      <td>web</td>\n",
       "      <td>acquired</td>\n",
       "      <td>1999-06-02</td>\n",
       "      <td>NaT</td>\n",
       "      <td>postini.com</td>\n",
       "      <td>None</td>\n",
       "      <td>USA</td>\n",
       "      <td>0</td>\n",
       "      <td>...</td>\n",
       "      <td>0</td>\n",
       "      <td>NaT</td>\n",
       "      <td>NaT</td>\n",
       "      <td>0.00</td>\n",
       "      <td>NaN</td>\n",
       "      <td>NaN</td>\n",
       "      <td>NaN</td>\n",
       "      <td>NaN</td>\n",
       "      <td>NaN</td>\n",
       "      <td>NaN</td>\n",
       "    </tr>\n",
       "    <tr>\n",
       "      <th>...</th>\n",
       "      <td>...</td>\n",
       "      <td>...</td>\n",
       "      <td>...</td>\n",
       "      <td>...</td>\n",
       "      <td>...</td>\n",
       "      <td>...</td>\n",
       "      <td>...</td>\n",
       "      <td>...</td>\n",
       "      <td>...</td>\n",
       "      <td>...</td>\n",
       "      <td>...</td>\n",
       "      <td>...</td>\n",
       "      <td>...</td>\n",
       "      <td>...</td>\n",
       "      <td>...</td>\n",
       "      <td>...</td>\n",
       "      <td>...</td>\n",
       "      <td>...</td>\n",
       "      <td>...</td>\n",
       "      <td>...</td>\n",
       "      <td>...</td>\n",
       "    </tr>\n",
       "    <tr>\n",
       "      <th>196527</th>\n",
       "      <td>286183</td>\n",
       "      <td>Wedding Spot</td>\n",
       "      <td>web</td>\n",
       "      <td>operating</td>\n",
       "      <td>2013-05-01</td>\n",
       "      <td>NaT</td>\n",
       "      <td>wedding-spot.com</td>\n",
       "      <td>weddingspot</td>\n",
       "      <td>USA</td>\n",
       "      <td>0</td>\n",
       "      <td>...</td>\n",
       "      <td>0</td>\n",
       "      <td>2013-12-12</td>\n",
       "      <td>2013-12-12</td>\n",
       "      <td>225000.00</td>\n",
       "      <td>0.00</td>\n",
       "      <td>3.00</td>\n",
       "      <td>1.00</td>\n",
       "      <td>1.00</td>\n",
       "      <td>2013.00</td>\n",
       "      <td>2013.00</td>\n",
       "    </tr>\n",
       "    <tr>\n",
       "      <th>196528</th>\n",
       "      <td>286184</td>\n",
       "      <td>Seldar Pharma</td>\n",
       "      <td>biotech</td>\n",
       "      <td>operating</td>\n",
       "      <td>NaT</td>\n",
       "      <td>NaT</td>\n",
       "      <td>None</td>\n",
       "      <td>None</td>\n",
       "      <td>USA</td>\n",
       "      <td>0</td>\n",
       "      <td>...</td>\n",
       "      <td>0</td>\n",
       "      <td>2013-12-11</td>\n",
       "      <td>2013-12-11</td>\n",
       "      <td>12999000.00</td>\n",
       "      <td>0.00</td>\n",
       "      <td>0.00</td>\n",
       "      <td>1.00</td>\n",
       "      <td>1.00</td>\n",
       "      <td>2013.00</td>\n",
       "      <td>2013.00</td>\n",
       "    </tr>\n",
       "    <tr>\n",
       "      <th>196529</th>\n",
       "      <td>286186</td>\n",
       "      <td>Micromidas</td>\n",
       "      <td>cleantech</td>\n",
       "      <td>operating</td>\n",
       "      <td>NaT</td>\n",
       "      <td>NaT</td>\n",
       "      <td>micromidas.com</td>\n",
       "      <td>None</td>\n",
       "      <td>USA</td>\n",
       "      <td>0</td>\n",
       "      <td>...</td>\n",
       "      <td>0</td>\n",
       "      <td>2010-04-07</td>\n",
       "      <td>2010-04-07</td>\n",
       "      <td>2156060.00</td>\n",
       "      <td>0.00</td>\n",
       "      <td>0.00</td>\n",
       "      <td>1.00</td>\n",
       "      <td>1.00</td>\n",
       "      <td>2010.00</td>\n",
       "      <td>2010.00</td>\n",
       "    </tr>\n",
       "    <tr>\n",
       "      <th>196538</th>\n",
       "      <td>286200</td>\n",
       "      <td>STWA</td>\n",
       "      <td>other</td>\n",
       "      <td>operating</td>\n",
       "      <td>1998-01-01</td>\n",
       "      <td>NaT</td>\n",
       "      <td>stwa.com</td>\n",
       "      <td>None</td>\n",
       "      <td>USA</td>\n",
       "      <td>0</td>\n",
       "      <td>...</td>\n",
       "      <td>0</td>\n",
       "      <td>2010-02-05</td>\n",
       "      <td>2010-02-05</td>\n",
       "      <td>1588120.00</td>\n",
       "      <td>0.00</td>\n",
       "      <td>0.00</td>\n",
       "      <td>1.00</td>\n",
       "      <td>1.00</td>\n",
       "      <td>2010.00</td>\n",
       "      <td>2010.00</td>\n",
       "    </tr>\n",
       "    <tr>\n",
       "      <th>196552</th>\n",
       "      <td>286215</td>\n",
       "      <td>The Betty Mills Company</td>\n",
       "      <td>ecommerce</td>\n",
       "      <td>operating</td>\n",
       "      <td>NaT</td>\n",
       "      <td>NaT</td>\n",
       "      <td>bettymills.com</td>\n",
       "      <td>None</td>\n",
       "      <td>USA</td>\n",
       "      <td>0</td>\n",
       "      <td>...</td>\n",
       "      <td>0</td>\n",
       "      <td>2010-04-07</td>\n",
       "      <td>2010-04-07</td>\n",
       "      <td>271250.00</td>\n",
       "      <td>0.00</td>\n",
       "      <td>0.00</td>\n",
       "      <td>1.00</td>\n",
       "      <td>1.00</td>\n",
       "      <td>2010.00</td>\n",
       "      <td>2010.00</td>\n",
       "    </tr>\n",
       "  </tbody>\n",
       "</table>\n",
       "<p>40747 rows × 22 columns</p>\n",
       "</div>"
      ],
      "text/plain": [
       "        company_ID                     name    category_code     status  \\\n",
       "0                1                 Wetpaint              web  operating   \n",
       "3                4                     Digg             news   acquired   \n",
       "4                5                Socialnet           social        ipo   \n",
       "5                7                Omnidrive  network_hosting     closed   \n",
       "6                8                  Postini              web   acquired   \n",
       "...            ...                      ...              ...        ...   \n",
       "196527      286183             Wedding Spot              web  operating   \n",
       "196528      286184            Seldar Pharma          biotech  operating   \n",
       "196529      286186               Micromidas        cleantech  operating   \n",
       "196538      286200                     STWA            other  operating   \n",
       "196552      286215  The Betty Mills Company        ecommerce  operating   \n",
       "\n",
       "       founded_at  closed_at            domain network_username country_code  \\\n",
       "0      2005-10-17        NaT  wetpaint-inc.com  BachelrWetpaint          USA   \n",
       "3      2004-10-11        NaT          digg.com             digg          USA   \n",
       "4      2004-02-01        NaT     socialnet.com        socialnet          USA   \n",
       "5      2005-11-01 2008-09-15     omnidrive.com         Nomadesk          ISR   \n",
       "6      1999-06-02        NaT       postini.com             None          USA   \n",
       "...           ...        ...               ...              ...          ...   \n",
       "196527 2013-05-01        NaT  wedding-spot.com      weddingspot          USA   \n",
       "196528        NaT        NaT              None             None          USA   \n",
       "196529        NaT        NaT    micromidas.com             None          USA   \n",
       "196538 1998-01-01        NaT          stwa.com             None          USA   \n",
       "196552        NaT        NaT    bettymills.com             None          USA   \n",
       "\n",
       "        investment_rounds  ...  milestones  funded_at_first  funded_at_last  \\\n",
       "0                       0  ...           5       2005-10-01      2008-05-19   \n",
       "3                       0  ...           8       2006-12-01      2011-07-12   \n",
       "4                       3  ...           5       2004-09-01      2011-01-21   \n",
       "5                       0  ...           4       2006-12-01      2006-12-01   \n",
       "6                       0  ...           0              NaT             NaT   \n",
       "...                   ...  ...         ...              ...             ...   \n",
       "196527                  0  ...           0       2013-12-12      2013-12-12   \n",
       "196528                  0  ...           0       2013-12-11      2013-12-11   \n",
       "196529                  0  ...           0       2010-04-07      2010-04-07   \n",
       "196538                  0  ...           0       2010-02-05      2010-02-05   \n",
       "196552                  0  ...           0       2010-04-07      2010-04-07   \n",
       "\n",
       "       raised_amount pre_money_valuation  participants  is_first_round_first  \\\n",
       "0        39750000.00                0.00          3.00                  0.00   \n",
       "3        45000000.00                0.00          3.50                  0.00   \n",
       "4      2425700000.00                0.00          1.82                  0.00   \n",
       "5          800000.00                0.00          4.00                  1.00   \n",
       "6               0.00                 NaN           NaN                   NaN   \n",
       "...              ...                 ...           ...                   ...   \n",
       "196527     225000.00                0.00          3.00                  1.00   \n",
       "196528   12999000.00                0.00          0.00                  1.00   \n",
       "196529    2156060.00                0.00          0.00                  1.00   \n",
       "196538    1588120.00                0.00          0.00                  1.00   \n",
       "196552     271250.00                0.00          0.00                  1.00   \n",
       "\n",
       "        is_first_round_last  year_funded_first  year_funded_last  \n",
       "0                      1.00            2005.00           2008.00  \n",
       "3                      1.00            2006.00           2011.00  \n",
       "4                      1.00            2004.00           2011.00  \n",
       "5                      1.00            2006.00           2006.00  \n",
       "6                       NaN                NaN               NaN  \n",
       "...                     ...                ...               ...  \n",
       "196527                 1.00            2013.00           2013.00  \n",
       "196528                 1.00            2013.00           2013.00  \n",
       "196529                 1.00            2010.00           2010.00  \n",
       "196538                 1.00            2010.00           2010.00  \n",
       "196552                 1.00            2010.00           2010.00  \n",
       "\n",
       "[40747 rows x 22 columns]"
      ]
     },
     "execution_count": 52,
     "metadata": {},
     "output_type": "execute_result"
    }
   ],
   "source": [
    "# фильтруем датасет \n",
    "filtered_group = group.query(\"(funding_rounds > 0 or investment_rounds > 0) or status == 'acquired'\")\n",
    "filtered_group"
   ]
  },
  {
   "cell_type": "markdown",
   "metadata": {
    "id": "vJZ4mO2Un1yt"
   },
   "source": [
    " "
   ]
  },
  {
   "cell_type": "markdown",
   "metadata": {},
   "source": [
    " "
   ]
  },
  {
   "cell_type": "markdown",
   "metadata": {
    "id": "DFHINkV3rJg2"
   },
   "source": [
    "\n",
    "### 3.2. Анализ выбросов\n"
   ]
  },
  {
   "cell_type": "code",
   "execution_count": 53,
   "metadata": {
    "id": "8jm75fKXrJg2"
   },
   "outputs": [
    {
     "data": {
      "text/plain": [
       "count        40747.00\n",
       "mean      10135609.64\n",
       "std       56464359.98\n",
       "min              0.00\n",
       "25%              0.00\n",
       "50%         600000.00\n",
       "75%        5650650.00\n",
       "max     5700000000.00\n",
       "Name: funding_total, dtype: float64"
      ]
     },
     "execution_count": 53,
     "metadata": {},
     "output_type": "execute_result"
    },
    {
     "data": {
      "text/plain": [
       "count        40747.00\n",
       "mean      10135609.64\n",
       "std       56464359.98\n",
       "min              0.00\n",
       "25%              0.00\n",
       "50%         600000.00\n",
       "75%        5650650.00\n",
       "max     5700000000.00\n",
       "Name: funding_total, dtype: float64"
      ]
     },
     "execution_count": 53,
     "metadata": {},
     "output_type": "execute_result"
    }
   ],
   "source": [
    "# изучаем статистические показатели столбца funding_total\n",
    "filtered_group['funding_total'].describe()"
   ]
  },
  {
   "cell_type": "markdown",
   "metadata": {
    "id": "dIWqyEomn2MU"
   },
   "source": [
    "Большая разница между медианой и средним значением говорит о выбросах в данных. Минимальное значение равняется 0. Можно преположить, что такое происходит из-за того, что финансирование полностью отсутсвует и компания осуществляет свою деятельность с помощью амортизационных средств. Также это может быть по ряду других причин, например, выигрыш какого-либо тендера. Максимальное значение в виде 5 700 000 000 выглядит подозрительно, но такое значение может быть. "
   ]
  },
  {
   "cell_type": "code",
   "execution_count": 54,
   "metadata": {},
   "outputs": [
    {
     "data": {
      "image/png": "[encoded data removed]",
      "text/plain": [
       "<Figure size 864x432 with 1 Axes>"
      ]
     },
     "metadata": {
      "needs_background": "light"
     },
     "output_type": "display_data"
    },
    {
     "data": {
      "image/png": "[encoded data removed]",
      "text/plain": [
       "<Figure size 864x432 with 1 Axes>"
      ]
     },
     "metadata": {
      "needs_background": "light"
     },
     "output_type": "display_data"
    }
   ],
   "source": [
    "# Строим диаграмму размаxа для столбца funding_total\n",
    "plt.figure(figsize=(12, 6))\n",
    "filtered_group.boxplot(column = 'funding_total', vert = False)\n",
    "plt.title('Распределение финансирования по компаниям')\n",
    "plt.xlabel('Сумма финансирования')\n",
    "plt.xlim(-1000000,70000000)\n",
    "plt.show()"
   ]
  },
  {
   "cell_type": "markdown",
   "metadata": {},
   "source": [
    "По \"ящику с усами\" можно считать значения, которые выше примерно 43 миллионов - выбросами. Исходя из диаграммы размаха, максимальные значения можно считать за выбросы, однако такое количество можно допустить для крупных компаний, которые специализируются на больших проектах, требующих бОльшего вложения. Именно по данной причине можно оставить данные, так как исключив их, можем потерять категории компаний, направленные на крупные проекты. "
   ]
  },
  {
   "cell_type": "markdown",
   "metadata": {},
   "source": [
    " "
   ]
  },
  {
   "cell_type": "markdown",
   "metadata": {},
   "source": [
    " "
   ]
  },
  {
   "cell_type": "markdown",
   "metadata": {
    "id": "JqkRAQrIrJg2"
   },
   "source": [
    "\n",
    "### 3.3. Куплены забесплатно?"
   ]
  },
  {
   "cell_type": "code",
   "execution_count": 56,
   "metadata": {
    "id": "wJHXCBwwrJg2"
   },
   "outputs": [
    {
     "name": "stderr",
     "output_type": "stream",
     "text": [
      "/opt/conda/lib/python3.9/site-packages/pandas/core/frame.py:4441: SettingWithCopyWarning: \n",
      "A value is trying to be set on a copy of a slice from a DataFrame\n",
      "\n",
      "See the caveats in the documentation: https://pandas.pydata.org/pandas-docs/stable/user_guide/indexing.html#returning-a-view-versus-a-copy\n",
      "  return super().rename(\n"
     ]
    },
    {
     "data": {
      "text/html": [
       "<div>\n",
       "<style scoped>\n",
       "    .dataframe tbody tr th:only-of-type {\n",
       "        vertical-align: middle;\n",
       "    }\n",
       "\n",
       "    .dataframe tbody tr th {\n",
       "        vertical-align: top;\n",
       "    }\n",
       "\n",
       "    .dataframe thead th {\n",
       "        text-align: right;\n",
       "    }\n",
       "</style>\n",
       "<table border=\"1\" class=\"dataframe\">\n",
       "  <thead>\n",
       "    <tr style=\"text-align: right;\">\n",
       "      <th></th>\n",
       "      <th>acquired_company_id</th>\n",
       "      <th>name</th>\n",
       "      <th>category_code</th>\n",
       "      <th>status</th>\n",
       "      <th>founded_at</th>\n",
       "      <th>closed_at</th>\n",
       "      <th>domain</th>\n",
       "      <th>network_username</th>\n",
       "      <th>country_code</th>\n",
       "      <th>investment_rounds</th>\n",
       "      <th>...</th>\n",
       "      <th>participants</th>\n",
       "      <th>is_first_round_first</th>\n",
       "      <th>is_first_round_last</th>\n",
       "      <th>year_funded_first</th>\n",
       "      <th>year_funded_last</th>\n",
       "      <th>id</th>\n",
       "      <th>acquiring_company_id</th>\n",
       "      <th>term_code</th>\n",
       "      <th>price_amount</th>\n",
       "      <th>acquired_at</th>\n",
       "    </tr>\n",
       "  </thead>\n",
       "  <tbody>\n",
       "    <tr>\n",
       "      <th>0</th>\n",
       "      <td>1</td>\n",
       "      <td>Wetpaint</td>\n",
       "      <td>web</td>\n",
       "      <td>operating</td>\n",
       "      <td>2005-10-17</td>\n",
       "      <td>NaT</td>\n",
       "      <td>wetpaint-inc.com</td>\n",
       "      <td>BachelrWetpaint</td>\n",
       "      <td>USA</td>\n",
       "      <td>0</td>\n",
       "      <td>...</td>\n",
       "      <td>3.00</td>\n",
       "      <td>0.00</td>\n",
       "      <td>1.00</td>\n",
       "      <td>2005.00</td>\n",
       "      <td>2008.00</td>\n",
       "      <td>NaN</td>\n",
       "      <td>NaN</td>\n",
       "      <td>NaN</td>\n",
       "      <td>NaN</td>\n",
       "      <td>NaT</td>\n",
       "    </tr>\n",
       "    <tr>\n",
       "      <th>1</th>\n",
       "      <td>4</td>\n",
       "      <td>Digg</td>\n",
       "      <td>news</td>\n",
       "      <td>acquired</td>\n",
       "      <td>2004-10-11</td>\n",
       "      <td>NaT</td>\n",
       "      <td>digg.com</td>\n",
       "      <td>digg</td>\n",
       "      <td>USA</td>\n",
       "      <td>0</td>\n",
       "      <td>...</td>\n",
       "      <td>3.50</td>\n",
       "      <td>0.00</td>\n",
       "      <td>1.00</td>\n",
       "      <td>2006.00</td>\n",
       "      <td>2011.00</td>\n",
       "      <td>7386.00</td>\n",
       "      <td>20953.00</td>\n",
       "      <td>NaN</td>\n",
       "      <td>500000.00</td>\n",
       "      <td>2012-07-12</td>\n",
       "    </tr>\n",
       "    <tr>\n",
       "      <th>2</th>\n",
       "      <td>5</td>\n",
       "      <td>Socialnet</td>\n",
       "      <td>social</td>\n",
       "      <td>ipo</td>\n",
       "      <td>2004-02-01</td>\n",
       "      <td>NaT</td>\n",
       "      <td>socialnet.com</td>\n",
       "      <td>socialnet</td>\n",
       "      <td>USA</td>\n",
       "      <td>3</td>\n",
       "      <td>...</td>\n",
       "      <td>1.82</td>\n",
       "      <td>0.00</td>\n",
       "      <td>1.00</td>\n",
       "      <td>2004.00</td>\n",
       "      <td>2011.00</td>\n",
       "      <td>NaN</td>\n",
       "      <td>NaN</td>\n",
       "      <td>NaN</td>\n",
       "      <td>NaN</td>\n",
       "      <td>NaT</td>\n",
       "    </tr>\n",
       "    <tr>\n",
       "      <th>3</th>\n",
       "      <td>7</td>\n",
       "      <td>Omnidrive</td>\n",
       "      <td>network_hosting</td>\n",
       "      <td>closed</td>\n",
       "      <td>2005-11-01</td>\n",
       "      <td>2008-09-15</td>\n",
       "      <td>omnidrive.com</td>\n",
       "      <td>Nomadesk</td>\n",
       "      <td>ISR</td>\n",
       "      <td>0</td>\n",
       "      <td>...</td>\n",
       "      <td>4.00</td>\n",
       "      <td>1.00</td>\n",
       "      <td>1.00</td>\n",
       "      <td>2006.00</td>\n",
       "      <td>2006.00</td>\n",
       "      <td>NaN</td>\n",
       "      <td>NaN</td>\n",
       "      <td>NaN</td>\n",
       "      <td>NaN</td>\n",
       "      <td>NaT</td>\n",
       "    </tr>\n",
       "    <tr>\n",
       "      <th>4</th>\n",
       "      <td>8</td>\n",
       "      <td>Postini</td>\n",
       "      <td>web</td>\n",
       "      <td>acquired</td>\n",
       "      <td>1999-06-02</td>\n",
       "      <td>NaT</td>\n",
       "      <td>postini.com</td>\n",
       "      <td>None</td>\n",
       "      <td>USA</td>\n",
       "      <td>0</td>\n",
       "      <td>...</td>\n",
       "      <td>NaN</td>\n",
       "      <td>NaN</td>\n",
       "      <td>NaN</td>\n",
       "      <td>NaN</td>\n",
       "      <td>NaN</td>\n",
       "      <td>419.00</td>\n",
       "      <td>59.00</td>\n",
       "      <td>cash</td>\n",
       "      <td>625000000.00</td>\n",
       "      <td>2007-07-09</td>\n",
       "    </tr>\n",
       "    <tr>\n",
       "      <th>...</th>\n",
       "      <td>...</td>\n",
       "      <td>...</td>\n",
       "      <td>...</td>\n",
       "      <td>...</td>\n",
       "      <td>...</td>\n",
       "      <td>...</td>\n",
       "      <td>...</td>\n",
       "      <td>...</td>\n",
       "      <td>...</td>\n",
       "      <td>...</td>\n",
       "      <td>...</td>\n",
       "      <td>...</td>\n",
       "      <td>...</td>\n",
       "      <td>...</td>\n",
       "      <td>...</td>\n",
       "      <td>...</td>\n",
       "      <td>...</td>\n",
       "      <td>...</td>\n",
       "      <td>...</td>\n",
       "      <td>...</td>\n",
       "      <td>...</td>\n",
       "    </tr>\n",
       "    <tr>\n",
       "      <th>40885</th>\n",
       "      <td>286183</td>\n",
       "      <td>Wedding Spot</td>\n",
       "      <td>web</td>\n",
       "      <td>operating</td>\n",
       "      <td>2013-05-01</td>\n",
       "      <td>NaT</td>\n",
       "      <td>wedding-spot.com</td>\n",
       "      <td>weddingspot</td>\n",
       "      <td>USA</td>\n",
       "      <td>0</td>\n",
       "      <td>...</td>\n",
       "      <td>3.00</td>\n",
       "      <td>1.00</td>\n",
       "      <td>1.00</td>\n",
       "      <td>2013.00</td>\n",
       "      <td>2013.00</td>\n",
       "      <td>NaN</td>\n",
       "      <td>NaN</td>\n",
       "      <td>NaN</td>\n",
       "      <td>NaN</td>\n",
       "      <td>NaT</td>\n",
       "    </tr>\n",
       "    <tr>\n",
       "      <th>40886</th>\n",
       "      <td>286184</td>\n",
       "      <td>Seldar Pharma</td>\n",
       "      <td>biotech</td>\n",
       "      <td>operating</td>\n",
       "      <td>NaT</td>\n",
       "      <td>NaT</td>\n",
       "      <td>None</td>\n",
       "      <td>None</td>\n",
       "      <td>USA</td>\n",
       "      <td>0</td>\n",
       "      <td>...</td>\n",
       "      <td>0.00</td>\n",
       "      <td>1.00</td>\n",
       "      <td>1.00</td>\n",
       "      <td>2013.00</td>\n",
       "      <td>2013.00</td>\n",
       "      <td>NaN</td>\n",
       "      <td>NaN</td>\n",
       "      <td>NaN</td>\n",
       "      <td>NaN</td>\n",
       "      <td>NaT</td>\n",
       "    </tr>\n",
       "    <tr>\n",
       "      <th>40887</th>\n",
       "      <td>286186</td>\n",
       "      <td>Micromidas</td>\n",
       "      <td>cleantech</td>\n",
       "      <td>operating</td>\n",
       "      <td>NaT</td>\n",
       "      <td>NaT</td>\n",
       "      <td>micromidas.com</td>\n",
       "      <td>None</td>\n",
       "      <td>USA</td>\n",
       "      <td>0</td>\n",
       "      <td>...</td>\n",
       "      <td>0.00</td>\n",
       "      <td>1.00</td>\n",
       "      <td>1.00</td>\n",
       "      <td>2010.00</td>\n",
       "      <td>2010.00</td>\n",
       "      <td>NaN</td>\n",
       "      <td>NaN</td>\n",
       "      <td>NaN</td>\n",
       "      <td>NaN</td>\n",
       "      <td>NaT</td>\n",
       "    </tr>\n",
       "    <tr>\n",
       "      <th>40888</th>\n",
       "      <td>286200</td>\n",
       "      <td>STWA</td>\n",
       "      <td>other</td>\n",
       "      <td>operating</td>\n",
       "      <td>1998-01-01</td>\n",
       "      <td>NaT</td>\n",
       "      <td>stwa.com</td>\n",
       "      <td>None</td>\n",
       "      <td>USA</td>\n",
       "      <td>0</td>\n",
       "      <td>...</td>\n",
       "      <td>0.00</td>\n",
       "      <td>1.00</td>\n",
       "      <td>1.00</td>\n",
       "      <td>2010.00</td>\n",
       "      <td>2010.00</td>\n",
       "      <td>NaN</td>\n",
       "      <td>NaN</td>\n",
       "      <td>NaN</td>\n",
       "      <td>NaN</td>\n",
       "      <td>NaT</td>\n",
       "    </tr>\n",
       "    <tr>\n",
       "      <th>40889</th>\n",
       "      <td>286215</td>\n",
       "      <td>The Betty Mills Company</td>\n",
       "      <td>ecommerce</td>\n",
       "      <td>operating</td>\n",
       "      <td>NaT</td>\n",
       "      <td>NaT</td>\n",
       "      <td>bettymills.com</td>\n",
       "      <td>None</td>\n",
       "      <td>USA</td>\n",
       "      <td>0</td>\n",
       "      <td>...</td>\n",
       "      <td>0.00</td>\n",
       "      <td>1.00</td>\n",
       "      <td>1.00</td>\n",
       "      <td>2010.00</td>\n",
       "      <td>2010.00</td>\n",
       "      <td>NaN</td>\n",
       "      <td>NaN</td>\n",
       "      <td>NaN</td>\n",
       "      <td>NaN</td>\n",
       "      <td>NaT</td>\n",
       "    </tr>\n",
       "  </tbody>\n",
       "</table>\n",
       "<p>40890 rows × 27 columns</p>\n",
       "</div>"
      ],
      "text/plain": [
       "       acquired_company_id                     name    category_code  \\\n",
       "0                        1                 Wetpaint              web   \n",
       "1                        4                     Digg             news   \n",
       "2                        5                Socialnet           social   \n",
       "3                        7                Omnidrive  network_hosting   \n",
       "4                        8                  Postini              web   \n",
       "...                    ...                      ...              ...   \n",
       "40885               286183             Wedding Spot              web   \n",
       "40886               286184            Seldar Pharma          biotech   \n",
       "40887               286186               Micromidas        cleantech   \n",
       "40888               286200                     STWA            other   \n",
       "40889               286215  The Betty Mills Company        ecommerce   \n",
       "\n",
       "          status founded_at  closed_at            domain network_username  \\\n",
       "0      operating 2005-10-17        NaT  wetpaint-inc.com  BachelrWetpaint   \n",
       "1       acquired 2004-10-11        NaT          digg.com             digg   \n",
       "2            ipo 2004-02-01        NaT     socialnet.com        socialnet   \n",
       "3         closed 2005-11-01 2008-09-15     omnidrive.com         Nomadesk   \n",
       "4       acquired 1999-06-02        NaT       postini.com             None   \n",
       "...          ...        ...        ...               ...              ...   \n",
       "40885  operating 2013-05-01        NaT  wedding-spot.com      weddingspot   \n",
       "40886  operating        NaT        NaT              None             None   \n",
       "40887  operating        NaT        NaT    micromidas.com             None   \n",
       "40888  operating 1998-01-01        NaT          stwa.com             None   \n",
       "40889  operating        NaT        NaT    bettymills.com             None   \n",
       "\n",
       "      country_code  investment_rounds  ...  participants  \\\n",
       "0              USA                  0  ...          3.00   \n",
       "1              USA                  0  ...          3.50   \n",
       "2              USA                  3  ...          1.82   \n",
       "3              ISR                  0  ...          4.00   \n",
       "4              USA                  0  ...           NaN   \n",
       "...            ...                ...  ...           ...   \n",
       "40885          USA                  0  ...          3.00   \n",
       "40886          USA                  0  ...          0.00   \n",
       "40887          USA                  0  ...          0.00   \n",
       "40888          USA                  0  ...          0.00   \n",
       "40889          USA                  0  ...          0.00   \n",
       "\n",
       "       is_first_round_first  is_first_round_last year_funded_first  \\\n",
       "0                      0.00                 1.00           2005.00   \n",
       "1                      0.00                 1.00           2006.00   \n",
       "2                      0.00                 1.00           2004.00   \n",
       "3                      1.00                 1.00           2006.00   \n",
       "4                       NaN                  NaN               NaN   \n",
       "...                     ...                  ...               ...   \n",
       "40885                  1.00                 1.00           2013.00   \n",
       "40886                  1.00                 1.00           2013.00   \n",
       "40887                  1.00                 1.00           2010.00   \n",
       "40888                  1.00                 1.00           2010.00   \n",
       "40889                  1.00                 1.00           2010.00   \n",
       "\n",
       "      year_funded_last      id  acquiring_company_id  term_code  price_amount  \\\n",
       "0              2008.00     NaN                   NaN        NaN           NaN   \n",
       "1              2011.00 7386.00              20953.00        NaN     500000.00   \n",
       "2              2011.00     NaN                   NaN        NaN           NaN   \n",
       "3              2006.00     NaN                   NaN        NaN           NaN   \n",
       "4                  NaN  419.00                 59.00       cash  625000000.00   \n",
       "...                ...     ...                   ...        ...           ...   \n",
       "40885          2013.00     NaN                   NaN        NaN           NaN   \n",
       "40886          2013.00     NaN                   NaN        NaN           NaN   \n",
       "40887          2010.00     NaN                   NaN        NaN           NaN   \n",
       "40888          2010.00     NaN                   NaN        NaN           NaN   \n",
       "40889          2010.00     NaN                   NaN        NaN           NaN   \n",
       "\n",
       "       acquired_at  \n",
       "0              NaT  \n",
       "1       2012-07-12  \n",
       "2              NaT  \n",
       "3              NaT  \n",
       "4       2007-07-09  \n",
       "...            ...  \n",
       "40885          NaT  \n",
       "40886          NaT  \n",
       "40887          NaT  \n",
       "40888          NaT  \n",
       "40889          NaT  \n",
       "\n",
       "[40890 rows x 27 columns]"
      ]
     },
     "execution_count": 56,
     "metadata": {},
     "output_type": "execute_result"
    },
    {
     "name": "stderr",
     "output_type": "stream",
     "text": [
      "/opt/conda/lib/python3.9/site-packages/pandas/core/frame.py:4441: SettingWithCopyWarning: \n",
      "A value is trying to be set on a copy of a slice from a DataFrame\n",
      "\n",
      "See the caveats in the documentation: https://pandas.pydata.org/pandas-docs/stable/user_guide/indexing.html#returning-a-view-versus-a-copy\n",
      "  return super().rename(\n"
     ]
    },
    {
     "data": {
      "text/html": [
       "<div>\n",
       "<style scoped>\n",
       "    .dataframe tbody tr th:only-of-type {\n",
       "        vertical-align: middle;\n",
       "    }\n",
       "\n",
       "    .dataframe tbody tr th {\n",
       "        vertical-align: top;\n",
       "    }\n",
       "\n",
       "    .dataframe thead th {\n",
       "        text-align: right;\n",
       "    }\n",
       "</style>\n",
       "<table border=\"1\" class=\"dataframe\">\n",
       "  <thead>\n",
       "    <tr style=\"text-align: right;\">\n",
       "      <th></th>\n",
       "      <th>acquired_company_id</th>\n",
       "      <th>name</th>\n",
       "      <th>category_code</th>\n",
       "      <th>status</th>\n",
       "      <th>founded_at</th>\n",
       "      <th>closed_at</th>\n",
       "      <th>domain</th>\n",
       "      <th>network_username</th>\n",
       "      <th>country_code</th>\n",
       "      <th>investment_rounds</th>\n",
       "      <th>...</th>\n",
       "      <th>participants</th>\n",
       "      <th>is_first_round_first</th>\n",
       "      <th>is_first_round_last</th>\n",
       "      <th>year_funded_first</th>\n",
       "      <th>year_funded_last</th>\n",
       "      <th>id</th>\n",
       "      <th>acquiring_company_id</th>\n",
       "      <th>term_code</th>\n",
       "      <th>price_amount</th>\n",
       "      <th>acquired_at</th>\n",
       "    </tr>\n",
       "  </thead>\n",
       "  <tbody>\n",
       "    <tr>\n",
       "      <th>0</th>\n",
       "      <td>1</td>\n",
       "      <td>Wetpaint</td>\n",
       "      <td>web</td>\n",
       "      <td>operating</td>\n",
       "      <td>2005-10-17</td>\n",
       "      <td>NaT</td>\n",
       "      <td>wetpaint-inc.com</td>\n",
       "      <td>BachelrWetpaint</td>\n",
       "      <td>USA</td>\n",
       "      <td>0</td>\n",
       "      <td>...</td>\n",
       "      <td>3.00</td>\n",
       "      <td>0.00</td>\n",
       "      <td>1.00</td>\n",
       "      <td>2005.00</td>\n",
       "      <td>2008.00</td>\n",
       "      <td>NaN</td>\n",
       "      <td>NaN</td>\n",
       "      <td>NaN</td>\n",
       "      <td>NaN</td>\n",
       "      <td>NaT</td>\n",
       "    </tr>\n",
       "    <tr>\n",
       "      <th>1</th>\n",
       "      <td>4</td>\n",
       "      <td>Digg</td>\n",
       "      <td>news</td>\n",
       "      <td>acquired</td>\n",
       "      <td>2004-10-11</td>\n",
       "      <td>NaT</td>\n",
       "      <td>digg.com</td>\n",
       "      <td>digg</td>\n",
       "      <td>USA</td>\n",
       "      <td>0</td>\n",
       "      <td>...</td>\n",
       "      <td>3.50</td>\n",
       "      <td>0.00</td>\n",
       "      <td>1.00</td>\n",
       "      <td>2006.00</td>\n",
       "      <td>2011.00</td>\n",
       "      <td>7386.00</td>\n",
       "      <td>20953.00</td>\n",
       "      <td>NaN</td>\n",
       "      <td>500000.00</td>\n",
       "      <td>2012-07-12</td>\n",
       "    </tr>\n",
       "    <tr>\n",
       "      <th>2</th>\n",
       "      <td>5</td>\n",
       "      <td>Socialnet</td>\n",
       "      <td>social</td>\n",
       "      <td>ipo</td>\n",
       "      <td>2004-02-01</td>\n",
       "      <td>NaT</td>\n",
       "      <td>socialnet.com</td>\n",
       "      <td>socialnet</td>\n",
       "      <td>USA</td>\n",
       "      <td>3</td>\n",
       "      <td>...</td>\n",
       "      <td>1.82</td>\n",
       "      <td>0.00</td>\n",
       "      <td>1.00</td>\n",
       "      <td>2004.00</td>\n",
       "      <td>2011.00</td>\n",
       "      <td>NaN</td>\n",
       "      <td>NaN</td>\n",
       "      <td>NaN</td>\n",
       "      <td>NaN</td>\n",
       "      <td>NaT</td>\n",
       "    </tr>\n",
       "    <tr>\n",
       "      <th>3</th>\n",
       "      <td>7</td>\n",
       "      <td>Omnidrive</td>\n",
       "      <td>network_hosting</td>\n",
       "      <td>closed</td>\n",
       "      <td>2005-11-01</td>\n",
       "      <td>2008-09-15</td>\n",
       "      <td>omnidrive.com</td>\n",
       "      <td>Nomadesk</td>\n",
       "      <td>ISR</td>\n",
       "      <td>0</td>\n",
       "      <td>...</td>\n",
       "      <td>4.00</td>\n",
       "      <td>1.00</td>\n",
       "      <td>1.00</td>\n",
       "      <td>2006.00</td>\n",
       "      <td>2006.00</td>\n",
       "      <td>NaN</td>\n",
       "      <td>NaN</td>\n",
       "      <td>NaN</td>\n",
       "      <td>NaN</td>\n",
       "      <td>NaT</td>\n",
       "    </tr>\n",
       "    <tr>\n",
       "      <th>4</th>\n",
       "      <td>8</td>\n",
       "      <td>Postini</td>\n",
       "      <td>web</td>\n",
       "      <td>acquired</td>\n",
       "      <td>1999-06-02</td>\n",
       "      <td>NaT</td>\n",
       "      <td>postini.com</td>\n",
       "      <td>None</td>\n",
       "      <td>USA</td>\n",
       "      <td>0</td>\n",
       "      <td>...</td>\n",
       "      <td>NaN</td>\n",
       "      <td>NaN</td>\n",
       "      <td>NaN</td>\n",
       "      <td>NaN</td>\n",
       "      <td>NaN</td>\n",
       "      <td>419.00</td>\n",
       "      <td>59.00</td>\n",
       "      <td>cash</td>\n",
       "      <td>625000000.00</td>\n",
       "      <td>2007-07-09</td>\n",
       "    </tr>\n",
       "    <tr>\n",
       "      <th>...</th>\n",
       "      <td>...</td>\n",
       "      <td>...</td>\n",
       "      <td>...</td>\n",
       "      <td>...</td>\n",
       "      <td>...</td>\n",
       "      <td>...</td>\n",
       "      <td>...</td>\n",
       "      <td>...</td>\n",
       "      <td>...</td>\n",
       "      <td>...</td>\n",
       "      <td>...</td>\n",
       "      <td>...</td>\n",
       "      <td>...</td>\n",
       "      <td>...</td>\n",
       "      <td>...</td>\n",
       "      <td>...</td>\n",
       "      <td>...</td>\n",
       "      <td>...</td>\n",
       "      <td>...</td>\n",
       "      <td>...</td>\n",
       "      <td>...</td>\n",
       "    </tr>\n",
       "    <tr>\n",
       "      <th>40885</th>\n",
       "      <td>286183</td>\n",
       "      <td>Wedding Spot</td>\n",
       "      <td>web</td>\n",
       "      <td>operating</td>\n",
       "      <td>2013-05-01</td>\n",
       "      <td>NaT</td>\n",
       "      <td>wedding-spot.com</td>\n",
       "      <td>weddingspot</td>\n",
       "      <td>USA</td>\n",
       "      <td>0</td>\n",
       "      <td>...</td>\n",
       "      <td>3.00</td>\n",
       "      <td>1.00</td>\n",
       "      <td>1.00</td>\n",
       "      <td>2013.00</td>\n",
       "      <td>2013.00</td>\n",
       "      <td>NaN</td>\n",
       "      <td>NaN</td>\n",
       "      <td>NaN</td>\n",
       "      <td>NaN</td>\n",
       "      <td>NaT</td>\n",
       "    </tr>\n",
       "    <tr>\n",
       "      <th>40886</th>\n",
       "      <td>286184</td>\n",
       "      <td>Seldar Pharma</td>\n",
       "      <td>biotech</td>\n",
       "      <td>operating</td>\n",
       "      <td>NaT</td>\n",
       "      <td>NaT</td>\n",
       "      <td>None</td>\n",
       "      <td>None</td>\n",
       "      <td>USA</td>\n",
       "      <td>0</td>\n",
       "      <td>...</td>\n",
       "      <td>0.00</td>\n",
       "      <td>1.00</td>\n",
       "      <td>1.00</td>\n",
       "      <td>2013.00</td>\n",
       "      <td>2013.00</td>\n",
       "      <td>NaN</td>\n",
       "      <td>NaN</td>\n",
       "      <td>NaN</td>\n",
       "      <td>NaN</td>\n",
       "      <td>NaT</td>\n",
       "    </tr>\n",
       "    <tr>\n",
       "      <th>40887</th>\n",
       "      <td>286186</td>\n",
       "      <td>Micromidas</td>\n",
       "      <td>cleantech</td>\n",
       "      <td>operating</td>\n",
       "      <td>NaT</td>\n",
       "      <td>NaT</td>\n",
       "      <td>micromidas.com</td>\n",
       "      <td>None</td>\n",
       "      <td>USA</td>\n",
       "      <td>0</td>\n",
       "      <td>...</td>\n",
       "      <td>0.00</td>\n",
       "      <td>1.00</td>\n",
       "      <td>1.00</td>\n",
       "      <td>2010.00</td>\n",
       "      <td>2010.00</td>\n",
       "      <td>NaN</td>\n",
       "      <td>NaN</td>\n",
       "      <td>NaN</td>\n",
       "      <td>NaN</td>\n",
       "      <td>NaT</td>\n",
       "    </tr>\n",
       "    <tr>\n",
       "      <th>40888</th>\n",
       "      <td>286200</td>\n",
       "      <td>STWA</td>\n",
       "      <td>other</td>\n",
       "      <td>operating</td>\n",
       "      <td>1998-01-01</td>\n",
       "      <td>NaT</td>\n",
       "      <td>stwa.com</td>\n",
       "      <td>None</td>\n",
       "      <td>USA</td>\n",
       "      <td>0</td>\n",
       "      <td>...</td>\n",
       "      <td>0.00</td>\n",
       "      <td>1.00</td>\n",
       "      <td>1.00</td>\n",
       "      <td>2010.00</td>\n",
       "      <td>2010.00</td>\n",
       "      <td>NaN</td>\n",
       "      <td>NaN</td>\n",
       "      <td>NaN</td>\n",
       "      <td>NaN</td>\n",
       "      <td>NaT</td>\n",
       "    </tr>\n",
       "    <tr>\n",
       "      <th>40889</th>\n",
       "      <td>286215</td>\n",
       "      <td>The Betty Mills Company</td>\n",
       "      <td>ecommerce</td>\n",
       "      <td>operating</td>\n",
       "      <td>NaT</td>\n",
       "      <td>NaT</td>\n",
       "      <td>bettymills.com</td>\n",
       "      <td>None</td>\n",
       "      <td>USA</td>\n",
       "      <td>0</td>\n",
       "      <td>...</td>\n",
       "      <td>0.00</td>\n",
       "      <td>1.00</td>\n",
       "      <td>1.00</td>\n",
       "      <td>2010.00</td>\n",
       "      <td>2010.00</td>\n",
       "      <td>NaN</td>\n",
       "      <td>NaN</td>\n",
       "      <td>NaN</td>\n",
       "      <td>NaN</td>\n",
       "      <td>NaT</td>\n",
       "    </tr>\n",
       "  </tbody>\n",
       "</table>\n",
       "<p>40890 rows × 27 columns</p>\n",
       "</div>"
      ],
      "text/plain": [
       "       acquired_company_id                     name    category_code  \\\n",
       "0                        1                 Wetpaint              web   \n",
       "1                        4                     Digg             news   \n",
       "2                        5                Socialnet           social   \n",
       "3                        7                Omnidrive  network_hosting   \n",
       "4                        8                  Postini              web   \n",
       "...                    ...                      ...              ...   \n",
       "40885               286183             Wedding Spot              web   \n",
       "40886               286184            Seldar Pharma          biotech   \n",
       "40887               286186               Micromidas        cleantech   \n",
       "40888               286200                     STWA            other   \n",
       "40889               286215  The Betty Mills Company        ecommerce   \n",
       "\n",
       "          status founded_at  closed_at            domain network_username  \\\n",
       "0      operating 2005-10-17        NaT  wetpaint-inc.com  BachelrWetpaint   \n",
       "1       acquired 2004-10-11        NaT          digg.com             digg   \n",
       "2            ipo 2004-02-01        NaT     socialnet.com        socialnet   \n",
       "3         closed 2005-11-01 2008-09-15     omnidrive.com         Nomadesk   \n",
       "4       acquired 1999-06-02        NaT       postini.com             None   \n",
       "...          ...        ...        ...               ...              ...   \n",
       "40885  operating 2013-05-01        NaT  wedding-spot.com      weddingspot   \n",
       "40886  operating        NaT        NaT              None             None   \n",
       "40887  operating        NaT        NaT    micromidas.com             None   \n",
       "40888  operating 1998-01-01        NaT          stwa.com             None   \n",
       "40889  operating        NaT        NaT    bettymills.com             None   \n",
       "\n",
       "      country_code  investment_rounds  ...  participants  \\\n",
       "0              USA                  0  ...          3.00   \n",
       "1              USA                  0  ...          3.50   \n",
       "2              USA                  3  ...          1.82   \n",
       "3              ISR                  0  ...          4.00   \n",
       "4              USA                  0  ...           NaN   \n",
       "...            ...                ...  ...           ...   \n",
       "40885          USA                  0  ...          3.00   \n",
       "40886          USA                  0  ...          0.00   \n",
       "40887          USA                  0  ...          0.00   \n",
       "40888          USA                  0  ...          0.00   \n",
       "40889          USA                  0  ...          0.00   \n",
       "\n",
       "       is_first_round_first  is_first_round_last year_funded_first  \\\n",
       "0                      0.00                 1.00           2005.00   \n",
       "1                      0.00                 1.00           2006.00   \n",
       "2                      0.00                 1.00           2004.00   \n",
       "3                      1.00                 1.00           2006.00   \n",
       "4                       NaN                  NaN               NaN   \n",
       "...                     ...                  ...               ...   \n",
       "40885                  1.00                 1.00           2013.00   \n",
       "40886                  1.00                 1.00           2013.00   \n",
       "40887                  1.00                 1.00           2010.00   \n",
       "40888                  1.00                 1.00           2010.00   \n",
       "40889                  1.00                 1.00           2010.00   \n",
       "\n",
       "      year_funded_last      id  acquiring_company_id  term_code  price_amount  \\\n",
       "0              2008.00     NaN                   NaN        NaN           NaN   \n",
       "1              2011.00 7386.00              20953.00        NaN     500000.00   \n",
       "2              2011.00     NaN                   NaN        NaN           NaN   \n",
       "3              2006.00     NaN                   NaN        NaN           NaN   \n",
       "4                  NaN  419.00                 59.00       cash  625000000.00   \n",
       "...                ...     ...                   ...        ...           ...   \n",
       "40885          2013.00     NaN                   NaN        NaN           NaN   \n",
       "40886          2013.00     NaN                   NaN        NaN           NaN   \n",
       "40887          2010.00     NaN                   NaN        NaN           NaN   \n",
       "40888          2010.00     NaN                   NaN        NaN           NaN   \n",
       "40889          2010.00     NaN                   NaN        NaN           NaN   \n",
       "\n",
       "       acquired_at  \n",
       "0              NaT  \n",
       "1       2012-07-12  \n",
       "2              NaT  \n",
       "3              NaT  \n",
       "4       2007-07-09  \n",
       "...            ...  \n",
       "40885          NaT  \n",
       "40886          NaT  \n",
       "40887          NaT  \n",
       "40888          NaT  \n",
       "40889          NaT  \n",
       "\n",
       "[40890 rows x 27 columns]"
      ]
     },
     "execution_count": 56,
     "metadata": {},
     "output_type": "execute_result"
    }
   ],
   "source": [
    "# Переименовываем column_ID в filtered_group для удобства\n",
    "filtered_group.rename(columns={'company_ID': 'acquired_company_id'}, inplace=True)\n",
    "\n",
    "# Соединяем две таблицы по общему ключу acquired_company_id\n",
    "merged_data = pd.merge(filtered_group, acquisition, on='acquired_company_id', how='left')\n",
    "merged_data"
   ]
  },
  {
   "cell_type": "code",
   "execution_count": 57,
   "metadata": {
    "id": "-kA4CO27n2ql"
   },
   "outputs": [],
   "source": [
    "# фильтруем компании, которые были проданы за один или ноль долларов\n",
    "zero_one_dollar = merged_data.query(\"price_amount in [0, 1]\")"
   ]
  },
  {
   "cell_type": "code",
   "execution_count": 58,
   "metadata": {},
   "outputs": [
    {
     "data": {
      "text/html": [
       "<div>\n",
       "<style scoped>\n",
       "    .dataframe tbody tr th:only-of-type {\n",
       "        vertical-align: middle;\n",
       "    }\n",
       "\n",
       "    .dataframe tbody tr th {\n",
       "        vertical-align: top;\n",
       "    }\n",
       "\n",
       "    .dataframe thead th {\n",
       "        text-align: right;\n",
       "    }\n",
       "</style>\n",
       "<table border=\"1\" class=\"dataframe\">\n",
       "  <thead>\n",
       "    <tr style=\"text-align: right;\">\n",
       "      <th></th>\n",
       "      <th>acquired_company_id</th>\n",
       "      <th>name</th>\n",
       "      <th>category_code</th>\n",
       "      <th>status</th>\n",
       "      <th>founded_at</th>\n",
       "      <th>closed_at</th>\n",
       "      <th>domain</th>\n",
       "      <th>network_username</th>\n",
       "      <th>country_code</th>\n",
       "      <th>investment_rounds</th>\n",
       "      <th>...</th>\n",
       "      <th>participants</th>\n",
       "      <th>is_first_round_first</th>\n",
       "      <th>is_first_round_last</th>\n",
       "      <th>year_funded_first</th>\n",
       "      <th>year_funded_last</th>\n",
       "      <th>id</th>\n",
       "      <th>acquiring_company_id</th>\n",
       "      <th>term_code</th>\n",
       "      <th>price_amount</th>\n",
       "      <th>acquired_at</th>\n",
       "    </tr>\n",
       "  </thead>\n",
       "  <tbody>\n",
       "    <tr>\n",
       "      <th>5</th>\n",
       "      <td>9</td>\n",
       "      <td>Geni</td>\n",
       "      <td>web</td>\n",
       "      <td>acquired</td>\n",
       "      <td>2006-06-01</td>\n",
       "      <td>NaT</td>\n",
       "      <td>geni.com</td>\n",
       "      <td>geni</td>\n",
       "      <td>USA</td>\n",
       "      <td>0</td>\n",
       "      <td>...</td>\n",
       "      <td>1.33</td>\n",
       "      <td>0.00</td>\n",
       "      <td>1.00</td>\n",
       "      <td>2007.00</td>\n",
       "      <td>2009.00</td>\n",
       "      <td>7954.00</td>\n",
       "      <td>687.00</td>\n",
       "      <td>NaN</td>\n",
       "      <td>0.00</td>\n",
       "      <td>2012-11-28</td>\n",
       "    </tr>\n",
       "    <tr>\n",
       "      <th>9</th>\n",
       "      <td>13</td>\n",
       "      <td>StumbleUpon</td>\n",
       "      <td>web</td>\n",
       "      <td>acquired</td>\n",
       "      <td>2002-02-01</td>\n",
       "      <td>NaT</td>\n",
       "      <td>stumbleupon.com</td>\n",
       "      <td>stumbleupon</td>\n",
       "      <td>USA</td>\n",
       "      <td>0</td>\n",
       "      <td>...</td>\n",
       "      <td>4.25</td>\n",
       "      <td>0.00</td>\n",
       "      <td>0.00</td>\n",
       "      <td>2005.00</td>\n",
       "      <td>2001.00</td>\n",
       "      <td>4283.00</td>\n",
       "      <td>20.00</td>\n",
       "      <td>NaN</td>\n",
       "      <td>0.00</td>\n",
       "      <td>2007-05-30</td>\n",
       "    </tr>\n",
       "    <tr>\n",
       "      <th>11</th>\n",
       "      <td>14</td>\n",
       "      <td>Gizmoz</td>\n",
       "      <td>web</td>\n",
       "      <td>acquired</td>\n",
       "      <td>2003-01-01</td>\n",
       "      <td>NaT</td>\n",
       "      <td>gizmoz.com</td>\n",
       "      <td>None</td>\n",
       "      <td>USA</td>\n",
       "      <td>0</td>\n",
       "      <td>...</td>\n",
       "      <td>2.67</td>\n",
       "      <td>0.00</td>\n",
       "      <td>1.00</td>\n",
       "      <td>2007.00</td>\n",
       "      <td>2009.00</td>\n",
       "      <td>2692.00</td>\n",
       "      <td>37730.00</td>\n",
       "      <td>NaN</td>\n",
       "      <td>0.00</td>\n",
       "      <td>2009-12-15</td>\n",
       "    </tr>\n",
       "    <tr>\n",
       "      <th>19</th>\n",
       "      <td>23</td>\n",
       "      <td>Joost</td>\n",
       "      <td>games_video</td>\n",
       "      <td>acquired</td>\n",
       "      <td>2006-10-01</td>\n",
       "      <td>NaT</td>\n",
       "      <td>joost.com</td>\n",
       "      <td>None</td>\n",
       "      <td>USA</td>\n",
       "      <td>0</td>\n",
       "      <td>...</td>\n",
       "      <td>3.00</td>\n",
       "      <td>1.00</td>\n",
       "      <td>1.00</td>\n",
       "      <td>2007.00</td>\n",
       "      <td>2007.00</td>\n",
       "      <td>2622.00</td>\n",
       "      <td>3396.00</td>\n",
       "      <td>NaN</td>\n",
       "      <td>0.00</td>\n",
       "      <td>2009-11-24</td>\n",
       "    </tr>\n",
       "    <tr>\n",
       "      <th>32</th>\n",
       "      <td>38</td>\n",
       "      <td>Kyte</td>\n",
       "      <td>games_video</td>\n",
       "      <td>acquired</td>\n",
       "      <td>2006-12-01</td>\n",
       "      <td>NaT</td>\n",
       "      <td>kyte.com</td>\n",
       "      <td>kyte</td>\n",
       "      <td>USA</td>\n",
       "      <td>0</td>\n",
       "      <td>...</td>\n",
       "      <td>3.00</td>\n",
       "      <td>0.00</td>\n",
       "      <td>1.00</td>\n",
       "      <td>2007.00</td>\n",
       "      <td>2012.00</td>\n",
       "      <td>5075.00</td>\n",
       "      <td>475.00</td>\n",
       "      <td>NaN</td>\n",
       "      <td>0.00</td>\n",
       "      <td>2011-01-31</td>\n",
       "    </tr>\n",
       "    <tr>\n",
       "      <th>...</th>\n",
       "      <td>...</td>\n",
       "      <td>...</td>\n",
       "      <td>...</td>\n",
       "      <td>...</td>\n",
       "      <td>...</td>\n",
       "      <td>...</td>\n",
       "      <td>...</td>\n",
       "      <td>...</td>\n",
       "      <td>...</td>\n",
       "      <td>...</td>\n",
       "      <td>...</td>\n",
       "      <td>...</td>\n",
       "      <td>...</td>\n",
       "      <td>...</td>\n",
       "      <td>...</td>\n",
       "      <td>...</td>\n",
       "      <td>...</td>\n",
       "      <td>...</td>\n",
       "      <td>...</td>\n",
       "      <td>...</td>\n",
       "      <td>...</td>\n",
       "    </tr>\n",
       "    <tr>\n",
       "      <th>37230</th>\n",
       "      <td>259939</td>\n",
       "      <td>Pluromed</td>\n",
       "      <td>hardware</td>\n",
       "      <td>acquired</td>\n",
       "      <td>2003-01-01</td>\n",
       "      <td>NaT</td>\n",
       "      <td>pluromed.com</td>\n",
       "      <td>None</td>\n",
       "      <td>USA</td>\n",
       "      <td>0</td>\n",
       "      <td>...</td>\n",
       "      <td>0.00</td>\n",
       "      <td>1.00</td>\n",
       "      <td>0.00</td>\n",
       "      <td>2012.00</td>\n",
       "      <td>2010.00</td>\n",
       "      <td>9527.00</td>\n",
       "      <td>28373.00</td>\n",
       "      <td>NaN</td>\n",
       "      <td>0.00</td>\n",
       "      <td>2012-03-16</td>\n",
       "    </tr>\n",
       "    <tr>\n",
       "      <th>37247</th>\n",
       "      <td>260008</td>\n",
       "      <td>Rhetorical Group plc</td>\n",
       "      <td>None</td>\n",
       "      <td>acquired</td>\n",
       "      <td>2002-01-01</td>\n",
       "      <td>NaT</td>\n",
       "      <td>None</td>\n",
       "      <td>None</td>\n",
       "      <td>None</td>\n",
       "      <td>0</td>\n",
       "      <td>...</td>\n",
       "      <td>1.00</td>\n",
       "      <td>1.00</td>\n",
       "      <td>1.00</td>\n",
       "      <td>2001.00</td>\n",
       "      <td>2001.00</td>\n",
       "      <td>9631.00</td>\n",
       "      <td>237526.00</td>\n",
       "      <td>NaN</td>\n",
       "      <td>0.00</td>\n",
       "      <td>2004-01-01</td>\n",
       "    </tr>\n",
       "    <tr>\n",
       "      <th>37413</th>\n",
       "      <td>261146</td>\n",
       "      <td>Endurance Lending Network</td>\n",
       "      <td>finance</td>\n",
       "      <td>acquired</td>\n",
       "      <td>2011-12-01</td>\n",
       "      <td>NaT</td>\n",
       "      <td>enduranceln.com</td>\n",
       "      <td>EnduranceLN</td>\n",
       "      <td>USA</td>\n",
       "      <td>0</td>\n",
       "      <td>...</td>\n",
       "      <td>5.00</td>\n",
       "      <td>1.00</td>\n",
       "      <td>1.00</td>\n",
       "      <td>2012.00</td>\n",
       "      <td>2012.00</td>\n",
       "      <td>10166.00</td>\n",
       "      <td>43210.00</td>\n",
       "      <td>stock</td>\n",
       "      <td>0.00</td>\n",
       "      <td>2013-10-25</td>\n",
       "    </tr>\n",
       "    <tr>\n",
       "      <th>38108</th>\n",
       "      <td>266567</td>\n",
       "      <td>WiiiWaaa</td>\n",
       "      <td>web</td>\n",
       "      <td>acquired</td>\n",
       "      <td>NaT</td>\n",
       "      <td>NaT</td>\n",
       "      <td>wiiiwaaa.com</td>\n",
       "      <td>wiiiwaaa</td>\n",
       "      <td>None</td>\n",
       "      <td>0</td>\n",
       "      <td>...</td>\n",
       "      <td>0.00</td>\n",
       "      <td>1.00</td>\n",
       "      <td>1.00</td>\n",
       "      <td>2012.00</td>\n",
       "      <td>2012.00</td>\n",
       "      <td>9066.00</td>\n",
       "      <td>236079.00</td>\n",
       "      <td>cash</td>\n",
       "      <td>0.00</td>\n",
       "      <td>2000-05-01</td>\n",
       "    </tr>\n",
       "    <tr>\n",
       "      <th>38501</th>\n",
       "      <td>268806</td>\n",
       "      <td>Plink Search</td>\n",
       "      <td>search</td>\n",
       "      <td>acquired</td>\n",
       "      <td>2009-04-01</td>\n",
       "      <td>NaT</td>\n",
       "      <td>plinkart.com</td>\n",
       "      <td>plinksearch</td>\n",
       "      <td>None</td>\n",
       "      <td>0</td>\n",
       "      <td>...</td>\n",
       "      <td>0.00</td>\n",
       "      <td>1.00</td>\n",
       "      <td>1.00</td>\n",
       "      <td>2009.00</td>\n",
       "      <td>2009.00</td>\n",
       "      <td>9762.00</td>\n",
       "      <td>59.00</td>\n",
       "      <td>NaN</td>\n",
       "      <td>0.00</td>\n",
       "      <td>2010-04-10</td>\n",
       "    </tr>\n",
       "  </tbody>\n",
       "</table>\n",
       "<p>1618 rows × 27 columns</p>\n",
       "</div>"
      ],
      "text/plain": [
       "       acquired_company_id                       name category_code    status  \\\n",
       "5                        9                       Geni           web  acquired   \n",
       "9                       13                StumbleUpon           web  acquired   \n",
       "11                      14                     Gizmoz           web  acquired   \n",
       "19                      23                      Joost   games_video  acquired   \n",
       "32                      38                       Kyte   games_video  acquired   \n",
       "...                    ...                        ...           ...       ...   \n",
       "37230               259939                   Pluromed      hardware  acquired   \n",
       "37247               260008       Rhetorical Group plc          None  acquired   \n",
       "37413               261146  Endurance Lending Network       finance  acquired   \n",
       "38108               266567                   WiiiWaaa           web  acquired   \n",
       "38501               268806               Plink Search        search  acquired   \n",
       "\n",
       "      founded_at closed_at           domain network_username country_code  \\\n",
       "5     2006-06-01       NaT         geni.com             geni          USA   \n",
       "9     2002-02-01       NaT  stumbleupon.com      stumbleupon          USA   \n",
       "11    2003-01-01       NaT       gizmoz.com             None          USA   \n",
       "19    2006-10-01       NaT        joost.com             None          USA   \n",
       "32    2006-12-01       NaT         kyte.com             kyte          USA   \n",
       "...          ...       ...              ...              ...          ...   \n",
       "37230 2003-01-01       NaT     pluromed.com             None          USA   \n",
       "37247 2002-01-01       NaT             None             None         None   \n",
       "37413 2011-12-01       NaT  enduranceln.com      EnduranceLN          USA   \n",
       "38108        NaT       NaT     wiiiwaaa.com         wiiiwaaa         None   \n",
       "38501 2009-04-01       NaT     plinkart.com      plinksearch         None   \n",
       "\n",
       "       investment_rounds  ...  participants  is_first_round_first  \\\n",
       "5                      0  ...          1.33                  0.00   \n",
       "9                      0  ...          4.25                  0.00   \n",
       "11                     0  ...          2.67                  0.00   \n",
       "19                     0  ...          3.00                  1.00   \n",
       "32                     0  ...          3.00                  0.00   \n",
       "...                  ...  ...           ...                   ...   \n",
       "37230                  0  ...          0.00                  1.00   \n",
       "37247                  0  ...          1.00                  1.00   \n",
       "37413                  0  ...          5.00                  1.00   \n",
       "38108                  0  ...          0.00                  1.00   \n",
       "38501                  0  ...          0.00                  1.00   \n",
       "\n",
       "       is_first_round_last year_funded_first year_funded_last       id  \\\n",
       "5                     1.00           2007.00          2009.00  7954.00   \n",
       "9                     0.00           2005.00          2001.00  4283.00   \n",
       "11                    1.00           2007.00          2009.00  2692.00   \n",
       "19                    1.00           2007.00          2007.00  2622.00   \n",
       "32                    1.00           2007.00          2012.00  5075.00   \n",
       "...                    ...               ...              ...      ...   \n",
       "37230                 0.00           2012.00          2010.00  9527.00   \n",
       "37247                 1.00           2001.00          2001.00  9631.00   \n",
       "37413                 1.00           2012.00          2012.00 10166.00   \n",
       "38108                 1.00           2012.00          2012.00  9066.00   \n",
       "38501                 1.00           2009.00          2009.00  9762.00   \n",
       "\n",
       "       acquiring_company_id  term_code  price_amount  acquired_at  \n",
       "5                    687.00        NaN          0.00   2012-11-28  \n",
       "9                     20.00        NaN          0.00   2007-05-30  \n",
       "11                 37730.00        NaN          0.00   2009-12-15  \n",
       "19                  3396.00        NaN          0.00   2009-11-24  \n",
       "32                   475.00        NaN          0.00   2011-01-31  \n",
       "...                     ...        ...           ...          ...  \n",
       "37230              28373.00        NaN          0.00   2012-03-16  \n",
       "37247             237526.00        NaN          0.00   2004-01-01  \n",
       "37413              43210.00      stock          0.00   2013-10-25  \n",
       "38108             236079.00       cash          0.00   2000-05-01  \n",
       "38501                 59.00        NaN          0.00   2010-04-10  \n",
       "\n",
       "[1618 rows x 27 columns]"
      ]
     },
     "execution_count": 58,
     "metadata": {},
     "output_type": "execute_result"
    },
    {
     "data": {
      "text/html": [
       "<div>\n",
       "<style scoped>\n",
       "    .dataframe tbody tr th:only-of-type {\n",
       "        vertical-align: middle;\n",
       "    }\n",
       "\n",
       "    .dataframe tbody tr th {\n",
       "        vertical-align: top;\n",
       "    }\n",
       "\n",
       "    .dataframe thead th {\n",
       "        text-align: right;\n",
       "    }\n",
       "</style>\n",
       "<table border=\"1\" class=\"dataframe\">\n",
       "  <thead>\n",
       "    <tr style=\"text-align: right;\">\n",
       "      <th></th>\n",
       "      <th>acquired_company_id</th>\n",
       "      <th>name</th>\n",
       "      <th>category_code</th>\n",
       "      <th>status</th>\n",
       "      <th>founded_at</th>\n",
       "      <th>closed_at</th>\n",
       "      <th>domain</th>\n",
       "      <th>network_username</th>\n",
       "      <th>country_code</th>\n",
       "      <th>investment_rounds</th>\n",
       "      <th>...</th>\n",
       "      <th>participants</th>\n",
       "      <th>is_first_round_first</th>\n",
       "      <th>is_first_round_last</th>\n",
       "      <th>year_funded_first</th>\n",
       "      <th>year_funded_last</th>\n",
       "      <th>id</th>\n",
       "      <th>acquiring_company_id</th>\n",
       "      <th>term_code</th>\n",
       "      <th>price_amount</th>\n",
       "      <th>acquired_at</th>\n",
       "    </tr>\n",
       "  </thead>\n",
       "  <tbody>\n",
       "    <tr>\n",
       "      <th>5</th>\n",
       "      <td>9</td>\n",
       "      <td>Geni</td>\n",
       "      <td>web</td>\n",
       "      <td>acquired</td>\n",
       "      <td>2006-06-01</td>\n",
       "      <td>NaT</td>\n",
       "      <td>geni.com</td>\n",
       "      <td>geni</td>\n",
       "      <td>USA</td>\n",
       "      <td>0</td>\n",
       "      <td>...</td>\n",
       "      <td>1.33</td>\n",
       "      <td>0.00</td>\n",
       "      <td>1.00</td>\n",
       "      <td>2007.00</td>\n",
       "      <td>2009.00</td>\n",
       "      <td>7954.00</td>\n",
       "      <td>687.00</td>\n",
       "      <td>NaN</td>\n",
       "      <td>0.00</td>\n",
       "      <td>2012-11-28</td>\n",
       "    </tr>\n",
       "    <tr>\n",
       "      <th>9</th>\n",
       "      <td>13</td>\n",
       "      <td>StumbleUpon</td>\n",
       "      <td>web</td>\n",
       "      <td>acquired</td>\n",
       "      <td>2002-02-01</td>\n",
       "      <td>NaT</td>\n",
       "      <td>stumbleupon.com</td>\n",
       "      <td>stumbleupon</td>\n",
       "      <td>USA</td>\n",
       "      <td>0</td>\n",
       "      <td>...</td>\n",
       "      <td>4.25</td>\n",
       "      <td>0.00</td>\n",
       "      <td>0.00</td>\n",
       "      <td>2005.00</td>\n",
       "      <td>2001.00</td>\n",
       "      <td>4283.00</td>\n",
       "      <td>20.00</td>\n",
       "      <td>NaN</td>\n",
       "      <td>0.00</td>\n",
       "      <td>2007-05-30</td>\n",
       "    </tr>\n",
       "    <tr>\n",
       "      <th>11</th>\n",
       "      <td>14</td>\n",
       "      <td>Gizmoz</td>\n",
       "      <td>web</td>\n",
       "      <td>acquired</td>\n",
       "      <td>2003-01-01</td>\n",
       "      <td>NaT</td>\n",
       "      <td>gizmoz.com</td>\n",
       "      <td>None</td>\n",
       "      <td>USA</td>\n",
       "      <td>0</td>\n",
       "      <td>...</td>\n",
       "      <td>2.67</td>\n",
       "      <td>0.00</td>\n",
       "      <td>1.00</td>\n",
       "      <td>2007.00</td>\n",
       "      <td>2009.00</td>\n",
       "      <td>2692.00</td>\n",
       "      <td>37730.00</td>\n",
       "      <td>NaN</td>\n",
       "      <td>0.00</td>\n",
       "      <td>2009-12-15</td>\n",
       "    </tr>\n",
       "    <tr>\n",
       "      <th>19</th>\n",
       "      <td>23</td>\n",
       "      <td>Joost</td>\n",
       "      <td>games_video</td>\n",
       "      <td>acquired</td>\n",
       "      <td>2006-10-01</td>\n",
       "      <td>NaT</td>\n",
       "      <td>joost.com</td>\n",
       "      <td>None</td>\n",
       "      <td>USA</td>\n",
       "      <td>0</td>\n",
       "      <td>...</td>\n",
       "      <td>3.00</td>\n",
       "      <td>1.00</td>\n",
       "      <td>1.00</td>\n",
       "      <td>2007.00</td>\n",
       "      <td>2007.00</td>\n",
       "      <td>2622.00</td>\n",
       "      <td>3396.00</td>\n",
       "      <td>NaN</td>\n",
       "      <td>0.00</td>\n",
       "      <td>2009-11-24</td>\n",
       "    </tr>\n",
       "    <tr>\n",
       "      <th>32</th>\n",
       "      <td>38</td>\n",
       "      <td>Kyte</td>\n",
       "      <td>games_video</td>\n",
       "      <td>acquired</td>\n",
       "      <td>2006-12-01</td>\n",
       "      <td>NaT</td>\n",
       "      <td>kyte.com</td>\n",
       "      <td>kyte</td>\n",
       "      <td>USA</td>\n",
       "      <td>0</td>\n",
       "      <td>...</td>\n",
       "      <td>3.00</td>\n",
       "      <td>0.00</td>\n",
       "      <td>1.00</td>\n",
       "      <td>2007.00</td>\n",
       "      <td>2012.00</td>\n",
       "      <td>5075.00</td>\n",
       "      <td>475.00</td>\n",
       "      <td>NaN</td>\n",
       "      <td>0.00</td>\n",
       "      <td>2011-01-31</td>\n",
       "    </tr>\n",
       "    <tr>\n",
       "      <th>...</th>\n",
       "      <td>...</td>\n",
       "      <td>...</td>\n",
       "      <td>...</td>\n",
       "      <td>...</td>\n",
       "      <td>...</td>\n",
       "      <td>...</td>\n",
       "      <td>...</td>\n",
       "      <td>...</td>\n",
       "      <td>...</td>\n",
       "      <td>...</td>\n",
       "      <td>...</td>\n",
       "      <td>...</td>\n",
       "      <td>...</td>\n",
       "      <td>...</td>\n",
       "      <td>...</td>\n",
       "      <td>...</td>\n",
       "      <td>...</td>\n",
       "      <td>...</td>\n",
       "      <td>...</td>\n",
       "      <td>...</td>\n",
       "      <td>...</td>\n",
       "    </tr>\n",
       "    <tr>\n",
       "      <th>37230</th>\n",
       "      <td>259939</td>\n",
       "      <td>Pluromed</td>\n",
       "      <td>hardware</td>\n",
       "      <td>acquired</td>\n",
       "      <td>2003-01-01</td>\n",
       "      <td>NaT</td>\n",
       "      <td>pluromed.com</td>\n",
       "      <td>None</td>\n",
       "      <td>USA</td>\n",
       "      <td>0</td>\n",
       "      <td>...</td>\n",
       "      <td>0.00</td>\n",
       "      <td>1.00</td>\n",
       "      <td>0.00</td>\n",
       "      <td>2012.00</td>\n",
       "      <td>2010.00</td>\n",
       "      <td>9527.00</td>\n",
       "      <td>28373.00</td>\n",
       "      <td>NaN</td>\n",
       "      <td>0.00</td>\n",
       "      <td>2012-03-16</td>\n",
       "    </tr>\n",
       "    <tr>\n",
       "      <th>37247</th>\n",
       "      <td>260008</td>\n",
       "      <td>Rhetorical Group plc</td>\n",
       "      <td>None</td>\n",
       "      <td>acquired</td>\n",
       "      <td>2002-01-01</td>\n",
       "      <td>NaT</td>\n",
       "      <td>None</td>\n",
       "      <td>None</td>\n",
       "      <td>None</td>\n",
       "      <td>0</td>\n",
       "      <td>...</td>\n",
       "      <td>1.00</td>\n",
       "      <td>1.00</td>\n",
       "      <td>1.00</td>\n",
       "      <td>2001.00</td>\n",
       "      <td>2001.00</td>\n",
       "      <td>9631.00</td>\n",
       "      <td>237526.00</td>\n",
       "      <td>NaN</td>\n",
       "      <td>0.00</td>\n",
       "      <td>2004-01-01</td>\n",
       "    </tr>\n",
       "    <tr>\n",
       "      <th>37413</th>\n",
       "      <td>261146</td>\n",
       "      <td>Endurance Lending Network</td>\n",
       "      <td>finance</td>\n",
       "      <td>acquired</td>\n",
       "      <td>2011-12-01</td>\n",
       "      <td>NaT</td>\n",
       "      <td>enduranceln.com</td>\n",
       "      <td>EnduranceLN</td>\n",
       "      <td>USA</td>\n",
       "      <td>0</td>\n",
       "      <td>...</td>\n",
       "      <td>5.00</td>\n",
       "      <td>1.00</td>\n",
       "      <td>1.00</td>\n",
       "      <td>2012.00</td>\n",
       "      <td>2012.00</td>\n",
       "      <td>10166.00</td>\n",
       "      <td>43210.00</td>\n",
       "      <td>stock</td>\n",
       "      <td>0.00</td>\n",
       "      <td>2013-10-25</td>\n",
       "    </tr>\n",
       "    <tr>\n",
       "      <th>38108</th>\n",
       "      <td>266567</td>\n",
       "      <td>WiiiWaaa</td>\n",
       "      <td>web</td>\n",
       "      <td>acquired</td>\n",
       "      <td>NaT</td>\n",
       "      <td>NaT</td>\n",
       "      <td>wiiiwaaa.com</td>\n",
       "      <td>wiiiwaaa</td>\n",
       "      <td>None</td>\n",
       "      <td>0</td>\n",
       "      <td>...</td>\n",
       "      <td>0.00</td>\n",
       "      <td>1.00</td>\n",
       "      <td>1.00</td>\n",
       "      <td>2012.00</td>\n",
       "      <td>2012.00</td>\n",
       "      <td>9066.00</td>\n",
       "      <td>236079.00</td>\n",
       "      <td>cash</td>\n",
       "      <td>0.00</td>\n",
       "      <td>2000-05-01</td>\n",
       "    </tr>\n",
       "    <tr>\n",
       "      <th>38501</th>\n",
       "      <td>268806</td>\n",
       "      <td>Plink Search</td>\n",
       "      <td>search</td>\n",
       "      <td>acquired</td>\n",
       "      <td>2009-04-01</td>\n",
       "      <td>NaT</td>\n",
       "      <td>plinkart.com</td>\n",
       "      <td>plinksearch</td>\n",
       "      <td>None</td>\n",
       "      <td>0</td>\n",
       "      <td>...</td>\n",
       "      <td>0.00</td>\n",
       "      <td>1.00</td>\n",
       "      <td>1.00</td>\n",
       "      <td>2009.00</td>\n",
       "      <td>2009.00</td>\n",
       "      <td>9762.00</td>\n",
       "      <td>59.00</td>\n",
       "      <td>NaN</td>\n",
       "      <td>0.00</td>\n",
       "      <td>2010-04-10</td>\n",
       "    </tr>\n",
       "  </tbody>\n",
       "</table>\n",
       "<p>1618 rows × 27 columns</p>\n",
       "</div>"
      ],
      "text/plain": [
       "       acquired_company_id                       name category_code    status  \\\n",
       "5                        9                       Geni           web  acquired   \n",
       "9                       13                StumbleUpon           web  acquired   \n",
       "11                      14                     Gizmoz           web  acquired   \n",
       "19                      23                      Joost   games_video  acquired   \n",
       "32                      38                       Kyte   games_video  acquired   \n",
       "...                    ...                        ...           ...       ...   \n",
       "37230               259939                   Pluromed      hardware  acquired   \n",
       "37247               260008       Rhetorical Group plc          None  acquired   \n",
       "37413               261146  Endurance Lending Network       finance  acquired   \n",
       "38108               266567                   WiiiWaaa           web  acquired   \n",
       "38501               268806               Plink Search        search  acquired   \n",
       "\n",
       "      founded_at closed_at           domain network_username country_code  \\\n",
       "5     2006-06-01       NaT         geni.com             geni          USA   \n",
       "9     2002-02-01       NaT  stumbleupon.com      stumbleupon          USA   \n",
       "11    2003-01-01       NaT       gizmoz.com             None          USA   \n",
       "19    2006-10-01       NaT        joost.com             None          USA   \n",
       "32    2006-12-01       NaT         kyte.com             kyte          USA   \n",
       "...          ...       ...              ...              ...          ...   \n",
       "37230 2003-01-01       NaT     pluromed.com             None          USA   \n",
       "37247 2002-01-01       NaT             None             None         None   \n",
       "37413 2011-12-01       NaT  enduranceln.com      EnduranceLN          USA   \n",
       "38108        NaT       NaT     wiiiwaaa.com         wiiiwaaa         None   \n",
       "38501 2009-04-01       NaT     plinkart.com      plinksearch         None   \n",
       "\n",
       "       investment_rounds  ...  participants  is_first_round_first  \\\n",
       "5                      0  ...          1.33                  0.00   \n",
       "9                      0  ...          4.25                  0.00   \n",
       "11                     0  ...          2.67                  0.00   \n",
       "19                     0  ...          3.00                  1.00   \n",
       "32                     0  ...          3.00                  0.00   \n",
       "...                  ...  ...           ...                   ...   \n",
       "37230                  0  ...          0.00                  1.00   \n",
       "37247                  0  ...          1.00                  1.00   \n",
       "37413                  0  ...          5.00                  1.00   \n",
       "38108                  0  ...          0.00                  1.00   \n",
       "38501                  0  ...          0.00                  1.00   \n",
       "\n",
       "       is_first_round_last year_funded_first year_funded_last       id  \\\n",
       "5                     1.00           2007.00          2009.00  7954.00   \n",
       "9                     0.00           2005.00          2001.00  4283.00   \n",
       "11                    1.00           2007.00          2009.00  2692.00   \n",
       "19                    1.00           2007.00          2007.00  2622.00   \n",
       "32                    1.00           2007.00          2012.00  5075.00   \n",
       "...                    ...               ...              ...      ...   \n",
       "37230                 0.00           2012.00          2010.00  9527.00   \n",
       "37247                 1.00           2001.00          2001.00  9631.00   \n",
       "37413                 1.00           2012.00          2012.00 10166.00   \n",
       "38108                 1.00           2012.00          2012.00  9066.00   \n",
       "38501                 1.00           2009.00          2009.00  9762.00   \n",
       "\n",
       "       acquiring_company_id  term_code  price_amount  acquired_at  \n",
       "5                    687.00        NaN          0.00   2012-11-28  \n",
       "9                     20.00        NaN          0.00   2007-05-30  \n",
       "11                 37730.00        NaN          0.00   2009-12-15  \n",
       "19                  3396.00        NaN          0.00   2009-11-24  \n",
       "32                   475.00        NaN          0.00   2011-01-31  \n",
       "...                     ...        ...           ...          ...  \n",
       "37230              28373.00        NaN          0.00   2012-03-16  \n",
       "37247             237526.00        NaN          0.00   2004-01-01  \n",
       "37413              43210.00      stock          0.00   2013-10-25  \n",
       "38108             236079.00       cash          0.00   2000-05-01  \n",
       "38501                 59.00        NaN          0.00   2010-04-10  \n",
       "\n",
       "[1618 rows x 27 columns]"
      ]
     },
     "execution_count": 58,
     "metadata": {},
     "output_type": "execute_result"
    }
   ],
   "source": [
    "# фильтруем компании, у которых ненулевой общий объем финансирования\n",
    "filtered = zero_one_dollar.query(\"funding_total != 0\")\n",
    "filtered"
   ]
  },
  {
   "cell_type": "code",
   "execution_count": 59,
   "metadata": {},
   "outputs": [
    {
     "data": {
      "text/plain": [
       "0.03909490269222274"
      ]
     },
     "execution_count": 59,
     "metadata": {},
     "output_type": "execute_result"
    },
    {
     "data": {
      "text/plain": [
       "0.03909490269222274"
      ]
     },
     "execution_count": 59,
     "metadata": {},
     "output_type": "execute_result"
    }
   ],
   "source": [
    "# находим долю отфильтрованных компаний от общего числа \n",
    "filtered['acquired_company_id'].nunique() / filtered_group['acquired_company_id'].nunique()"
   ]
  },
  {
   "cell_type": "code",
   "execution_count": 60,
   "metadata": {},
   "outputs": [
    {
     "data": {
      "text/plain": [
       "category_code\n",
       "games_video     75\n",
       "mobile         116\n",
       "enterprise     128\n",
       "web            208\n",
       "software       360\n",
       "Name: acquired_company_id, dtype: int64"
      ]
     },
     "execution_count": 60,
     "metadata": {},
     "output_type": "execute_result"
    },
    {
     "data": {
      "text/plain": [
       "category_code\n",
       "games_video     75\n",
       "mobile         116\n",
       "enterprise     128\n",
       "web            208\n",
       "software       360\n",
       "Name: acquired_company_id, dtype: int64"
      ]
     },
     "execution_count": 60,
     "metadata": {},
     "output_type": "execute_result"
    }
   ],
   "source": [
    "# группируем отфильтрованные данные по категориям области деятельности компании \n",
    "category_cat = filtered.groupby('category_code')['acquired_company_id'].nunique().sort_values(ascending=True)\n",
    "category_cat.tail(5)"
   ]
  },
  {
   "cell_type": "code",
   "execution_count": 61,
   "metadata": {},
   "outputs": [
    {
     "data": {
      "image/png": "[encoded data removed]",
      "text/plain": [
       "<Figure size 720x432 with 1 Axes>"
      ]
     },
     "metadata": {
      "needs_background": "light"
     },
     "output_type": "display_data"
    },
    {
     "data": {
      "image/png": "[encoded data removed]",
      "text/plain": [
       "<Figure size 720x432 with 1 Axes>"
      ]
     },
     "metadata": {
      "needs_background": "light"
     },
     "output_type": "display_data"
    }
   ],
   "source": [
    "# строим график столбчатой диаграммы по категориям области деятельности компании \n",
    "category_cat.tail(5).sort_values(ascending = False).plot(kind = 'bar',\n",
    "             title = 'Распределение компаний по категориям деятельности',\n",
    "             legend = False,\n",
    "             xlabel = 'Категория',\n",
    "             ylabel = 'Количество компаний',\n",
    "             rot = 45,\n",
    "             figsize = (10, 6))\n",
    "plt.grid()\n",
    "plt.show()"
   ]
  },
  {
   "cell_type": "markdown",
   "metadata": {},
   "source": [
    "Большинство компаний (более 350), которые были проданы за ноль или за один доллар, и при этом известно, что у них был ненулевой общий объём финансирования, находятся в категории software"
   ]
  },
  {
   "cell_type": "markdown",
   "metadata": {},
   "source": [
    " "
   ]
  },
  {
   "cell_type": "code",
   "execution_count": 62,
   "metadata": {},
   "outputs": [
    {
     "data": {
      "text/plain": [
       "country_code\n",
       "ISR      27\n",
       "DEU      31\n",
       "CAN      46\n",
       "GBR      64\n",
       "USA    1215\n",
       "Name: acquired_company_id, dtype: int64"
      ]
     },
     "execution_count": 62,
     "metadata": {},
     "output_type": "execute_result"
    },
    {
     "data": {
      "text/plain": [
       "country_code\n",
       "ISR      27\n",
       "DEU      31\n",
       "CAN      46\n",
       "GBR      64\n",
       "USA    1215\n",
       "Name: acquired_company_id, dtype: int64"
      ]
     },
     "execution_count": 62,
     "metadata": {},
     "output_type": "execute_result"
    }
   ],
   "source": [
    "# группируем отфильтрованные данные по странам \n",
    "country_cat = filtered.groupby('country_code')['acquired_company_id'].nunique().sort_values(ascending=True)\n",
    "country_cat.tail(5)"
   ]
  },
  {
   "cell_type": "code",
   "execution_count": 63,
   "metadata": {},
   "outputs": [
    {
     "data": {
      "image/png": "[encoded data removed]",
      "text/plain": [
       "<Figure size 720x432 with 1 Axes>"
      ]
     },
     "metadata": {
      "needs_background": "light"
     },
     "output_type": "display_data"
    },
    {
     "data": {
      "image/png": "[encoded data removed]",
      "text/plain": [
       "<Figure size 720x432 with 1 Axes>"
      ]
     },
     "metadata": {
      "needs_background": "light"
     },
     "output_type": "display_data"
    }
   ],
   "source": [
    "# строим график столбчатой диаграммы по категориям области деятельности компании \n",
    "country_cat.tail(5).sort_values(ascending = False).plot(kind = 'bar',\n",
    "             title = 'Распределение компаний по странам',\n",
    "             legend = False,\n",
    "             xlabel = 'Страна',\n",
    "             ylabel = 'Количество компаний',\n",
    "             rot = 45,\n",
    "             figsize = (10, 6))\n",
    "plt.grid()\n",
    "plt.show()"
   ]
  },
  {
   "cell_type": "markdown",
   "metadata": {},
   "source": [
    "Большинство компаний (более 1200), которые были проданы за ноль или за один доллар, и при этом известно, что у них был ненулевой общий объём финансирования, находятся в USA. "
   ]
  },
  {
   "cell_type": "markdown",
   "metadata": {},
   "source": [
    " "
   ]
  },
  {
   "cell_type": "code",
   "execution_count": 65,
   "metadata": {},
   "outputs": [
    {
     "data": {
      "image/png": "[encoded data removed]",
      "text/plain": [
       "<Figure size 2160x432 with 1 Axes>"
      ]
     },
     "metadata": {
      "needs_background": "light"
     },
     "output_type": "display_data"
    },
    {
     "data": {
      "image/png": "[encoded data removed]",
      "text/plain": [
       "<Figure size 2160x432 with 1 Axes>"
      ]
     },
     "metadata": {
      "needs_background": "light"
     },
     "output_type": "display_data"
    }
   ],
   "source": [
    "# строим диаграмму размаxа для столбца funding_total\n",
    "plt.figure(figsize=(30, 6))\n",
    "filtered.boxplot(column = 'funding_total', vert = False)\n",
    "plt.title('Распределение финансирования по компаниям, проданных за 0 или 1 доллар')\n",
    "plt.xlabel('Сумма финансирования')\n",
    "plt.show()"
   ]
  },
  {
   "cell_type": "markdown",
   "metadata": {},
   "source": [
    "По \"ящику с усами\" можно считать значения, которые выше примерно 0.1 * 10^9 - выбросами. Исходя из диаграммы размаха, максимальные значения можно считать за выбросы. По данному графику трудно обозначить конкретные значения, так как имеется большое аномальное значение в виде, примерно, 5.7 * 10 ^9. "
   ]
  },
  {
   "cell_type": "code",
   "execution_count": 66,
   "metadata": {},
   "outputs": [
    {
     "data": {
      "text/plain": [
       "(35750000.0, 0)"
      ]
     },
     "execution_count": 66,
     "metadata": {},
     "output_type": "execute_result"
    },
    {
     "data": {
      "text/plain": [
       "(35750000.0, 0)"
      ]
     },
     "execution_count": 66,
     "metadata": {},
     "output_type": "execute_result"
    }
   ],
   "source": [
    "# рассчитываем аналитическую нижнюю и верхнюю границу выбросов для столбца funding_total\n",
    "Q1 = filtered['funding_total'].quantile(0.25)\n",
    "Q3 = filtered['funding_total'].quantile(0.75)\n",
    "IQR = Q3 - Q1\n",
    "lower_bound = max(Q1 - 1.5 * IQR, 0)\n",
    "upper_bound = Q3 + 1.5 * IQR\n",
    "upper_bound, lower_bound"
   ]
  },
  {
   "cell_type": "code",
   "execution_count": 67,
   "metadata": {},
   "outputs": [
    {
     "data": {
      "text/plain": [
       "143"
      ]
     },
     "execution_count": 67,
     "metadata": {},
     "output_type": "execute_result"
    },
    {
     "data": {
      "text/plain": [
       "143"
      ]
     },
     "execution_count": 67,
     "metadata": {},
     "output_type": "execute_result"
    }
   ],
   "source": [
    "# считаем сколько компаний осталось за пределами верхней и нижней границами выбросов \n",
    "top = filtered[(filtered['funding_total'] < lower_bound) | (filtered['funding_total'] > upper_bound)]\n",
    "top['acquired_company_id'].nunique()"
   ]
  },
  {
   "cell_type": "code",
   "execution_count": 68,
   "metadata": {},
   "outputs": [
    {
     "data": {
      "text/plain": [
       "0.0035094608192014136"
      ]
     },
     "execution_count": 68,
     "metadata": {},
     "output_type": "execute_result"
    },
    {
     "data": {
      "text/plain": [
       "0.0035094608192014136"
      ]
     },
     "execution_count": 68,
     "metadata": {},
     "output_type": "execute_result"
    }
   ],
   "source": [
    "# находим долю от общего числа\n",
    "top['acquired_company_id'].nunique() / filtered_group['acquired_company_id'].nunique()"
   ]
  },
  {
   "cell_type": "markdown",
   "metadata": {},
   "source": [
    "Границы соответствуют 25 и 75 процентилю. 5 процентов от общего числа компаний считаются за пределами верхней и нижней границами выбросов - это значит, что такие компании находятся в \"аномальной\" зоне. \n",
    "Если заказчик отфильтрует данные по данным процентилям, то тогда он потеряет данные за 5% компаний. Верхнее значение (35 750 000) соответсвует 0.91 процентилю. "
   ]
  },
  {
   "cell_type": "code",
   "execution_count": 70,
   "metadata": {},
   "outputs": [
    {
     "name": "stdout",
     "output_type": "stream",
     "text": [
      "Процентилю 0.91 соответствует значение 35_758_654\n",
      "Процентилю 0.91 соответствует значение 35_758_654\n"
     ]
    }
   ],
   "source": [
    "# считаем процентиль верхней границы выбросов \n",
    "q = .90967\n",
    "print(f\"Процентилю {q:.2f} соответствует значение {filtered.funding_total.quantile(q):_.0f}\")"
   ]
  },
  {
   "cell_type": "code",
   "execution_count": 71,
   "metadata": {},
   "outputs": [
    {
     "data": {
      "text/plain": [
       "0.9091470951792336"
      ]
     },
     "execution_count": 71,
     "metadata": {},
     "output_type": "execute_result"
    },
    {
     "data": {
      "text/plain": [
       "0.9091470951792336"
      ]
     },
     "execution_count": 71,
     "metadata": {},
     "output_type": "execute_result"
    }
   ],
   "source": [
    "(filtered['funding_total'] < upper_bound).mean()"
   ]
  },
  {
   "cell_type": "code",
   "execution_count": 72,
   "metadata": {},
   "outputs": [
    {
     "data": {
      "text/plain": [
       "35758653.500000045"
      ]
     },
     "execution_count": 72,
     "metadata": {},
     "output_type": "execute_result"
    },
    {
     "data": {
      "text/plain": [
       "35758653.500000045"
      ]
     },
     "execution_count": 72,
     "metadata": {},
     "output_type": "execute_result"
    }
   ],
   "source": [
    "filtered['funding_total'].quantile(0.90967)"
   ]
  },
  {
   "cell_type": "code",
   "execution_count": 73,
   "metadata": {},
   "outputs": [
    {
     "data": {
      "text/plain": [
       "19      0.31\n",
       "34      0.73\n",
       "72      0.48\n",
       "111     0.12\n",
       "112     0.12\n",
       "        ... \n",
       "23074   0.77\n",
       "23168   0.39\n",
       "27950   0.25\n",
       "29027   0.74\n",
       "32700   0.13\n",
       "Name: funding_total, Length: 147, dtype: float64"
      ]
     },
     "execution_count": 73,
     "metadata": {},
     "output_type": "execute_result"
    },
    {
     "data": {
      "text/plain": [
       "19      0.31\n",
       "34      0.73\n",
       "72      0.48\n",
       "111     0.12\n",
       "112     0.12\n",
       "        ... \n",
       "23074   0.77\n",
       "23168   0.39\n",
       "27950   0.25\n",
       "29027   0.74\n",
       "32700   0.13\n",
       "Name: funding_total, Length: 147, dtype: float64"
      ]
     },
     "execution_count": 73,
     "metadata": {},
     "output_type": "execute_result"
    }
   ],
   "source": [
    "top_perc = top['funding_total'].rank(pct = True)\n",
    "top_perc"
   ]
  },
  {
   "cell_type": "markdown",
   "metadata": {},
   "source": [
    " "
   ]
  },
  {
   "cell_type": "markdown",
   "metadata": {},
   "source": [
    " "
   ]
  },
  {
   "cell_type": "markdown",
   "metadata": {
    "id": "mEiWpROjrJg2"
   },
   "source": [
    "\n",
    "### 3.4. Цены стартапов по категориям\n",
    "\n",
    "Категории стартапов с наибольшими ценами и значительным разбросом цен могут быть наиболее привлекательными для крупных инвесторов, которые готовы к высоким рискам ради потенциально больших доходов. Среди категорий стартапов выделите категории стартапов, характеризующиеся:\n",
    "\n",
    "* наибольшими ценами;\n",
    "* и наибольшим разбросом цен за стартап.\n",
    "\n",
    "Объясните, почему решили составить топ именно из такого числа категорий и почему рассчитывали именно так."
   ]
  },
  {
   "cell_type": "code",
   "execution_count": 74,
   "metadata": {},
   "outputs": [
    {
     "data": {
      "text/html": [
       "<div>\n",
       "<style scoped>\n",
       "    .dataframe tbody tr th:only-of-type {\n",
       "        vertical-align: middle;\n",
       "    }\n",
       "\n",
       "    .dataframe tbody tr th {\n",
       "        vertical-align: top;\n",
       "    }\n",
       "\n",
       "    .dataframe thead th {\n",
       "        text-align: right;\n",
       "    }\n",
       "</style>\n",
       "<table border=\"1\" class=\"dataframe\">\n",
       "  <thead>\n",
       "    <tr style=\"text-align: right;\">\n",
       "      <th></th>\n",
       "      <th>median_price</th>\n",
       "      <th>std_price</th>\n",
       "    </tr>\n",
       "    <tr>\n",
       "      <th>category_code</th>\n",
       "      <th></th>\n",
       "      <th></th>\n",
       "    </tr>\n",
       "  </thead>\n",
       "  <tbody>\n",
       "    <tr>\n",
       "      <th>advertising</th>\n",
       "      <td>0.00</td>\n",
       "      <td>279922643.51</td>\n",
       "    </tr>\n",
       "    <tr>\n",
       "      <th>analytics</th>\n",
       "      <td>0.00</td>\n",
       "      <td>52671642.49</td>\n",
       "    </tr>\n",
       "    <tr>\n",
       "      <th>automotive</th>\n",
       "      <td>43000000.00</td>\n",
       "      <td>2297757559.01</td>\n",
       "    </tr>\n",
       "    <tr>\n",
       "      <th>biotech</th>\n",
       "      <td>13200000.00</td>\n",
       "      <td>1540373521.41</td>\n",
       "    </tr>\n",
       "    <tr>\n",
       "      <th>cleantech</th>\n",
       "      <td>0.00</td>\n",
       "      <td>552287325.04</td>\n",
       "    </tr>\n",
       "    <tr>\n",
       "      <th>consulting</th>\n",
       "      <td>0.00</td>\n",
       "      <td>505481358.76</td>\n",
       "    </tr>\n",
       "    <tr>\n",
       "      <th>design</th>\n",
       "      <td>0.00</td>\n",
       "      <td>0.00</td>\n",
       "    </tr>\n",
       "    <tr>\n",
       "      <th>ecommerce</th>\n",
       "      <td>0.00</td>\n",
       "      <td>151236352.36</td>\n",
       "    </tr>\n",
       "    <tr>\n",
       "      <th>education</th>\n",
       "      <td>0.00</td>\n",
       "      <td>125364201.89</td>\n",
       "    </tr>\n",
       "    <tr>\n",
       "      <th>enterprise</th>\n",
       "      <td>0.00</td>\n",
       "      <td>128088235060.17</td>\n",
       "    </tr>\n",
       "    <tr>\n",
       "      <th>fashion</th>\n",
       "      <td>0.00</td>\n",
       "      <td>95742908.59</td>\n",
       "    </tr>\n",
       "    <tr>\n",
       "      <th>finance</th>\n",
       "      <td>600000.00</td>\n",
       "      <td>796098475.78</td>\n",
       "    </tr>\n",
       "    <tr>\n",
       "      <th>games_video</th>\n",
       "      <td>0.00</td>\n",
       "      <td>762374628.42</td>\n",
       "    </tr>\n",
       "    <tr>\n",
       "      <th>government</th>\n",
       "      <td>NaN</td>\n",
       "      <td>NaN</td>\n",
       "    </tr>\n",
       "    <tr>\n",
       "      <th>hardware</th>\n",
       "      <td>0.00</td>\n",
       "      <td>423975773.82</td>\n",
       "    </tr>\n",
       "    <tr>\n",
       "      <th>health</th>\n",
       "      <td>0.00</td>\n",
       "      <td>1249084287.10</td>\n",
       "    </tr>\n",
       "    <tr>\n",
       "      <th>hospitality</th>\n",
       "      <td>12500000.00</td>\n",
       "      <td>651449440.58</td>\n",
       "    </tr>\n",
       "    <tr>\n",
       "      <th>legal</th>\n",
       "      <td>0.00</td>\n",
       "      <td>0.00</td>\n",
       "    </tr>\n",
       "    <tr>\n",
       "      <th>local</th>\n",
       "      <td>0.00</td>\n",
       "      <td>9318548.81</td>\n",
       "    </tr>\n",
       "    <tr>\n",
       "      <th>manufacturing</th>\n",
       "      <td>72000000.00</td>\n",
       "      <td>969657968.02</td>\n",
       "    </tr>\n",
       "    <tr>\n",
       "      <th>medical</th>\n",
       "      <td>0.00</td>\n",
       "      <td>105950927.12</td>\n",
       "    </tr>\n",
       "    <tr>\n",
       "      <th>messaging</th>\n",
       "      <td>0.00</td>\n",
       "      <td>42412773.23</td>\n",
       "    </tr>\n",
       "    <tr>\n",
       "      <th>mobile</th>\n",
       "      <td>0.00</td>\n",
       "      <td>713773789.93</td>\n",
       "    </tr>\n",
       "    <tr>\n",
       "      <th>music</th>\n",
       "      <td>0.00</td>\n",
       "      <td>72198580.46</td>\n",
       "    </tr>\n",
       "    <tr>\n",
       "      <th>nanotech</th>\n",
       "      <td>584000000.00</td>\n",
       "      <td>NaN</td>\n",
       "    </tr>\n",
       "    <tr>\n",
       "      <th>network_hosting</th>\n",
       "      <td>0.00</td>\n",
       "      <td>418467688.01</td>\n",
       "    </tr>\n",
       "    <tr>\n",
       "      <th>news</th>\n",
       "      <td>0.00</td>\n",
       "      <td>70965628.09</td>\n",
       "    </tr>\n",
       "    <tr>\n",
       "      <th>nonprofit</th>\n",
       "      <td>0.00</td>\n",
       "      <td>NaN</td>\n",
       "    </tr>\n",
       "    <tr>\n",
       "      <th>other</th>\n",
       "      <td>0.00</td>\n",
       "      <td>1085128941.40</td>\n",
       "    </tr>\n",
       "    <tr>\n",
       "      <th>pets</th>\n",
       "      <td>NaN</td>\n",
       "      <td>NaN</td>\n",
       "    </tr>\n",
       "    <tr>\n",
       "      <th>photo_video</th>\n",
       "      <td>0.00</td>\n",
       "      <td>287732057.47</td>\n",
       "    </tr>\n",
       "    <tr>\n",
       "      <th>public_relations</th>\n",
       "      <td>0.00</td>\n",
       "      <td>4059244205.05</td>\n",
       "    </tr>\n",
       "    <tr>\n",
       "      <th>real_estate</th>\n",
       "      <td>50000000.00</td>\n",
       "      <td>2505122913.06</td>\n",
       "    </tr>\n",
       "    <tr>\n",
       "      <th>search</th>\n",
       "      <td>0.00</td>\n",
       "      <td>194157764.05</td>\n",
       "    </tr>\n",
       "    <tr>\n",
       "      <th>security</th>\n",
       "      <td>0.00</td>\n",
       "      <td>764566231.86</td>\n",
       "    </tr>\n",
       "    <tr>\n",
       "      <th>semiconductor</th>\n",
       "      <td>0.00</td>\n",
       "      <td>790488902.82</td>\n",
       "    </tr>\n",
       "    <tr>\n",
       "      <th>social</th>\n",
       "      <td>0.00</td>\n",
       "      <td>31859746.73</td>\n",
       "    </tr>\n",
       "    <tr>\n",
       "      <th>software</th>\n",
       "      <td>0.00</td>\n",
       "      <td>656830001.40</td>\n",
       "    </tr>\n",
       "    <tr>\n",
       "      <th>sports</th>\n",
       "      <td>0.00</td>\n",
       "      <td>426561836.08</td>\n",
       "    </tr>\n",
       "    <tr>\n",
       "      <th>transportation</th>\n",
       "      <td>0.00</td>\n",
       "      <td>408848557.36</td>\n",
       "    </tr>\n",
       "    <tr>\n",
       "      <th>travel</th>\n",
       "      <td>0.00</td>\n",
       "      <td>50446297.66</td>\n",
       "    </tr>\n",
       "    <tr>\n",
       "      <th>web</th>\n",
       "      <td>0.00</td>\n",
       "      <td>376171809.49</td>\n",
       "    </tr>\n",
       "  </tbody>\n",
       "</table>\n",
       "</div>"
      ],
      "text/plain": [
       "                  median_price       std_price\n",
       "category_code                                 \n",
       "advertising               0.00    279922643.51\n",
       "analytics                 0.00     52671642.49\n",
       "automotive         43000000.00   2297757559.01\n",
       "biotech            13200000.00   1540373521.41\n",
       "cleantech                 0.00    552287325.04\n",
       "consulting                0.00    505481358.76\n",
       "design                    0.00            0.00\n",
       "ecommerce                 0.00    151236352.36\n",
       "education                 0.00    125364201.89\n",
       "enterprise                0.00 128088235060.17\n",
       "fashion                   0.00     95742908.59\n",
       "finance              600000.00    796098475.78\n",
       "games_video               0.00    762374628.42\n",
       "government                 NaN             NaN\n",
       "hardware                  0.00    423975773.82\n",
       "health                    0.00   1249084287.10\n",
       "hospitality        12500000.00    651449440.58\n",
       "legal                     0.00            0.00\n",
       "local                     0.00      9318548.81\n",
       "manufacturing      72000000.00    969657968.02\n",
       "medical                   0.00    105950927.12\n",
       "messaging                 0.00     42412773.23\n",
       "mobile                    0.00    713773789.93\n",
       "music                     0.00     72198580.46\n",
       "nanotech          584000000.00             NaN\n",
       "network_hosting           0.00    418467688.01\n",
       "news                      0.00     70965628.09\n",
       "nonprofit                 0.00             NaN\n",
       "other                     0.00   1085128941.40\n",
       "pets                       NaN             NaN\n",
       "photo_video               0.00    287732057.47\n",
       "public_relations          0.00   4059244205.05\n",
       "real_estate        50000000.00   2505122913.06\n",
       "search                    0.00    194157764.05\n",
       "security                  0.00    764566231.86\n",
       "semiconductor             0.00    790488902.82\n",
       "social                    0.00     31859746.73\n",
       "software                  0.00    656830001.40\n",
       "sports                    0.00    426561836.08\n",
       "transportation            0.00    408848557.36\n",
       "travel                    0.00     50446297.66\n",
       "web                       0.00    376171809.49"
      ]
     },
     "execution_count": 74,
     "metadata": {},
     "output_type": "execute_result"
    },
    {
     "data": {
      "text/html": [
       "<div>\n",
       "<style scoped>\n",
       "    .dataframe tbody tr th:only-of-type {\n",
       "        vertical-align: middle;\n",
       "    }\n",
       "\n",
       "    .dataframe tbody tr th {\n",
       "        vertical-align: top;\n",
       "    }\n",
       "\n",
       "    .dataframe thead th {\n",
       "        text-align: right;\n",
       "    }\n",
       "</style>\n",
       "<table border=\"1\" class=\"dataframe\">\n",
       "  <thead>\n",
       "    <tr style=\"text-align: right;\">\n",
       "      <th></th>\n",
       "      <th>median_price</th>\n",
       "      <th>std_price</th>\n",
       "    </tr>\n",
       "    <tr>\n",
       "      <th>category_code</th>\n",
       "      <th></th>\n",
       "      <th></th>\n",
       "    </tr>\n",
       "  </thead>\n",
       "  <tbody>\n",
       "    <tr>\n",
       "      <th>advertising</th>\n",
       "      <td>0.00</td>\n",
       "      <td>279922643.51</td>\n",
       "    </tr>\n",
       "    <tr>\n",
       "      <th>analytics</th>\n",
       "      <td>0.00</td>\n",
       "      <td>52671642.49</td>\n",
       "    </tr>\n",
       "    <tr>\n",
       "      <th>automotive</th>\n",
       "      <td>43000000.00</td>\n",
       "      <td>2297757559.01</td>\n",
       "    </tr>\n",
       "    <tr>\n",
       "      <th>biotech</th>\n",
       "      <td>13200000.00</td>\n",
       "      <td>1540373521.41</td>\n",
       "    </tr>\n",
       "    <tr>\n",
       "      <th>cleantech</th>\n",
       "      <td>0.00</td>\n",
       "      <td>552287325.04</td>\n",
       "    </tr>\n",
       "    <tr>\n",
       "      <th>consulting</th>\n",
       "      <td>0.00</td>\n",
       "      <td>505481358.76</td>\n",
       "    </tr>\n",
       "    <tr>\n",
       "      <th>design</th>\n",
       "      <td>0.00</td>\n",
       "      <td>0.00</td>\n",
       "    </tr>\n",
       "    <tr>\n",
       "      <th>ecommerce</th>\n",
       "      <td>0.00</td>\n",
       "      <td>151236352.36</td>\n",
       "    </tr>\n",
       "    <tr>\n",
       "      <th>education</th>\n",
       "      <td>0.00</td>\n",
       "      <td>125364201.89</td>\n",
       "    </tr>\n",
       "    <tr>\n",
       "      <th>enterprise</th>\n",
       "      <td>0.00</td>\n",
       "      <td>128088235060.17</td>\n",
       "    </tr>\n",
       "    <tr>\n",
       "      <th>fashion</th>\n",
       "      <td>0.00</td>\n",
       "      <td>95742908.59</td>\n",
       "    </tr>\n",
       "    <tr>\n",
       "      <th>finance</th>\n",
       "      <td>600000.00</td>\n",
       "      <td>796098475.78</td>\n",
       "    </tr>\n",
       "    <tr>\n",
       "      <th>games_video</th>\n",
       "      <td>0.00</td>\n",
       "      <td>762374628.42</td>\n",
       "    </tr>\n",
       "    <tr>\n",
       "      <th>government</th>\n",
       "      <td>NaN</td>\n",
       "      <td>NaN</td>\n",
       "    </tr>\n",
       "    <tr>\n",
       "      <th>hardware</th>\n",
       "      <td>0.00</td>\n",
       "      <td>423975773.82</td>\n",
       "    </tr>\n",
       "    <tr>\n",
       "      <th>health</th>\n",
       "      <td>0.00</td>\n",
       "      <td>1249084287.10</td>\n",
       "    </tr>\n",
       "    <tr>\n",
       "      <th>hospitality</th>\n",
       "      <td>12500000.00</td>\n",
       "      <td>651449440.58</td>\n",
       "    </tr>\n",
       "    <tr>\n",
       "      <th>legal</th>\n",
       "      <td>0.00</td>\n",
       "      <td>0.00</td>\n",
       "    </tr>\n",
       "    <tr>\n",
       "      <th>local</th>\n",
       "      <td>0.00</td>\n",
       "      <td>9318548.81</td>\n",
       "    </tr>\n",
       "    <tr>\n",
       "      <th>manufacturing</th>\n",
       "      <td>72000000.00</td>\n",
       "      <td>969657968.02</td>\n",
       "    </tr>\n",
       "    <tr>\n",
       "      <th>medical</th>\n",
       "      <td>0.00</td>\n",
       "      <td>105950927.12</td>\n",
       "    </tr>\n",
       "    <tr>\n",
       "      <th>messaging</th>\n",
       "      <td>0.00</td>\n",
       "      <td>42412773.23</td>\n",
       "    </tr>\n",
       "    <tr>\n",
       "      <th>mobile</th>\n",
       "      <td>0.00</td>\n",
       "      <td>713773789.93</td>\n",
       "    </tr>\n",
       "    <tr>\n",
       "      <th>music</th>\n",
       "      <td>0.00</td>\n",
       "      <td>72198580.46</td>\n",
       "    </tr>\n",
       "    <tr>\n",
       "      <th>nanotech</th>\n",
       "      <td>584000000.00</td>\n",
       "      <td>NaN</td>\n",
       "    </tr>\n",
       "    <tr>\n",
       "      <th>network_hosting</th>\n",
       "      <td>0.00</td>\n",
       "      <td>418467688.01</td>\n",
       "    </tr>\n",
       "    <tr>\n",
       "      <th>news</th>\n",
       "      <td>0.00</td>\n",
       "      <td>70965628.09</td>\n",
       "    </tr>\n",
       "    <tr>\n",
       "      <th>nonprofit</th>\n",
       "      <td>0.00</td>\n",
       "      <td>NaN</td>\n",
       "    </tr>\n",
       "    <tr>\n",
       "      <th>other</th>\n",
       "      <td>0.00</td>\n",
       "      <td>1085128941.40</td>\n",
       "    </tr>\n",
       "    <tr>\n",
       "      <th>pets</th>\n",
       "      <td>NaN</td>\n",
       "      <td>NaN</td>\n",
       "    </tr>\n",
       "    <tr>\n",
       "      <th>photo_video</th>\n",
       "      <td>0.00</td>\n",
       "      <td>287732057.47</td>\n",
       "    </tr>\n",
       "    <tr>\n",
       "      <th>public_relations</th>\n",
       "      <td>0.00</td>\n",
       "      <td>4059244205.05</td>\n",
       "    </tr>\n",
       "    <tr>\n",
       "      <th>real_estate</th>\n",
       "      <td>50000000.00</td>\n",
       "      <td>2505122913.06</td>\n",
       "    </tr>\n",
       "    <tr>\n",
       "      <th>search</th>\n",
       "      <td>0.00</td>\n",
       "      <td>194157764.05</td>\n",
       "    </tr>\n",
       "    <tr>\n",
       "      <th>security</th>\n",
       "      <td>0.00</td>\n",
       "      <td>764566231.86</td>\n",
       "    </tr>\n",
       "    <tr>\n",
       "      <th>semiconductor</th>\n",
       "      <td>0.00</td>\n",
       "      <td>790488902.82</td>\n",
       "    </tr>\n",
       "    <tr>\n",
       "      <th>social</th>\n",
       "      <td>0.00</td>\n",
       "      <td>31859746.73</td>\n",
       "    </tr>\n",
       "    <tr>\n",
       "      <th>software</th>\n",
       "      <td>0.00</td>\n",
       "      <td>656830001.40</td>\n",
       "    </tr>\n",
       "    <tr>\n",
       "      <th>sports</th>\n",
       "      <td>0.00</td>\n",
       "      <td>426561836.08</td>\n",
       "    </tr>\n",
       "    <tr>\n",
       "      <th>transportation</th>\n",
       "      <td>0.00</td>\n",
       "      <td>408848557.36</td>\n",
       "    </tr>\n",
       "    <tr>\n",
       "      <th>travel</th>\n",
       "      <td>0.00</td>\n",
       "      <td>50446297.66</td>\n",
       "    </tr>\n",
       "    <tr>\n",
       "      <th>web</th>\n",
       "      <td>0.00</td>\n",
       "      <td>376171809.49</td>\n",
       "    </tr>\n",
       "  </tbody>\n",
       "</table>\n",
       "</div>"
      ],
      "text/plain": [
       "                  median_price       std_price\n",
       "category_code                                 \n",
       "advertising               0.00    279922643.51\n",
       "analytics                 0.00     52671642.49\n",
       "automotive         43000000.00   2297757559.01\n",
       "biotech            13200000.00   1540373521.41\n",
       "cleantech                 0.00    552287325.04\n",
       "consulting                0.00    505481358.76\n",
       "design                    0.00            0.00\n",
       "ecommerce                 0.00    151236352.36\n",
       "education                 0.00    125364201.89\n",
       "enterprise                0.00 128088235060.17\n",
       "fashion                   0.00     95742908.59\n",
       "finance              600000.00    796098475.78\n",
       "games_video               0.00    762374628.42\n",
       "government                 NaN             NaN\n",
       "hardware                  0.00    423975773.82\n",
       "health                    0.00   1249084287.10\n",
       "hospitality        12500000.00    651449440.58\n",
       "legal                     0.00            0.00\n",
       "local                     0.00      9318548.81\n",
       "manufacturing      72000000.00    969657968.02\n",
       "medical                   0.00    105950927.12\n",
       "messaging                 0.00     42412773.23\n",
       "mobile                    0.00    713773789.93\n",
       "music                     0.00     72198580.46\n",
       "nanotech          584000000.00             NaN\n",
       "network_hosting           0.00    418467688.01\n",
       "news                      0.00     70965628.09\n",
       "nonprofit                 0.00             NaN\n",
       "other                     0.00   1085128941.40\n",
       "pets                       NaN             NaN\n",
       "photo_video               0.00    287732057.47\n",
       "public_relations          0.00   4059244205.05\n",
       "real_estate        50000000.00   2505122913.06\n",
       "search                    0.00    194157764.05\n",
       "security                  0.00    764566231.86\n",
       "semiconductor             0.00    790488902.82\n",
       "social                    0.00     31859746.73\n",
       "software                  0.00    656830001.40\n",
       "sports                    0.00    426561836.08\n",
       "transportation            0.00    408848557.36\n",
       "travel                    0.00     50446297.66\n",
       "web                       0.00    376171809.49"
      ]
     },
     "execution_count": 74,
     "metadata": {},
     "output_type": "execute_result"
    }
   ],
   "source": [
    "# группируем по категориям и производим расчет средних и стандартных отклонений \n",
    "grouped = merged_data.groupby('category_code').agg({'price_amount' : ['median', 'std']})\n",
    "grouped.columns = ['median_price', 'std_price']\n",
    "grouped"
   ]
  },
  {
   "cell_type": "code",
   "execution_count": 75,
   "metadata": {},
   "outputs": [
    {
     "data": {
      "text/plain": [
       "(               median_price     std_price\n",
       " category_code                            \n",
       " nanotech       584000000.00           NaN\n",
       " manufacturing   72000000.00  969657968.02\n",
       " real_estate     50000000.00 2505122913.06\n",
       " automotive      43000000.00 2297757559.01\n",
       " biotech         13200000.00 1540373521.41\n",
       " hospitality     12500000.00  651449440.58\n",
       " finance           600000.00  796098475.78\n",
       " news                   0.00   70965628.09\n",
       " nonprofit              0.00           NaN\n",
       " other                  0.00 1085128941.40,\n",
       "                   median_price       std_price\n",
       " category_code                                 \n",
       " enterprise                0.00 128088235060.17\n",
       " public_relations          0.00   4059244205.05\n",
       " real_estate        50000000.00   2505122913.06\n",
       " automotive         43000000.00   2297757559.01\n",
       " biotech            13200000.00   1540373521.41\n",
       " health                    0.00   1249084287.10\n",
       " other                     0.00   1085128941.40\n",
       " manufacturing      72000000.00    969657968.02\n",
       " finance              600000.00    796098475.78\n",
       " semiconductor             0.00    790488902.82)"
      ]
     },
     "execution_count": 75,
     "metadata": {},
     "output_type": "execute_result"
    },
    {
     "data": {
      "text/plain": [
       "(               median_price     std_price\n",
       " category_code                            \n",
       " nanotech       584000000.00           NaN\n",
       " manufacturing   72000000.00  969657968.02\n",
       " real_estate     50000000.00 2505122913.06\n",
       " automotive      43000000.00 2297757559.01\n",
       " biotech         13200000.00 1540373521.41\n",
       " hospitality     12500000.00  651449440.58\n",
       " finance           600000.00  796098475.78\n",
       " news                   0.00   70965628.09\n",
       " nonprofit              0.00           NaN\n",
       " other                  0.00 1085128941.40,\n",
       "                   median_price       std_price\n",
       " category_code                                 \n",
       " enterprise                0.00 128088235060.17\n",
       " public_relations          0.00   4059244205.05\n",
       " real_estate        50000000.00   2505122913.06\n",
       " automotive         43000000.00   2297757559.01\n",
       " biotech            13200000.00   1540373521.41\n",
       " health                    0.00   1249084287.10\n",
       " other                     0.00   1085128941.40\n",
       " manufacturing      72000000.00    969657968.02\n",
       " finance              600000.00    796098475.78\n",
       " semiconductor             0.00    790488902.82)"
      ]
     },
     "execution_count": 75,
     "metadata": {},
     "output_type": "execute_result"
    }
   ],
   "source": [
    "# сортируем и выводим первые 10 категорий\n",
    "sorted_median = grouped.sort_values(by = 'median_price', ascending = False).head(10)\n",
    "sorted_std = grouped.sort_values(by = 'std_price', ascending = False).head(10)\n",
    "sorted_median, sorted_std "
   ]
  },
  {
   "cell_type": "code",
   "execution_count": 76,
   "metadata": {},
   "outputs": [
    {
     "data": {
      "text/plain": [
       "{'automotive', 'biotech', 'finance', 'manufacturing', 'other', 'real_estate'}"
      ]
     },
     "execution_count": 76,
     "metadata": {},
     "output_type": "execute_result"
    },
    {
     "data": {
      "text/plain": [
       "{'automotive', 'biotech', 'finance', 'manufacturing', 'other', 'real_estate'}"
      ]
     },
     "execution_count": 76,
     "metadata": {},
     "output_type": "execute_result"
    }
   ],
   "source": [
    "# пересекаем списки\n",
    "fin_list = set(sorted_median.index) & set(sorted_std.index)\n",
    "fin_list"
   ]
  },
  {
   "cell_type": "markdown",
   "metadata": {},
   "source": [
    "Вывели топ-10 из каждой категории, так как это отсеивает остальное большее количество значений, у которых величина приблеженна друг к другу. Соединяя данные списки, формируются те категории, которые были в обоих категориях одновременно, что позволяет выбрать лучшие из лучших. "
   ]
  },
  {
   "cell_type": "markdown",
   "metadata": {},
   "source": [
    " "
   ]
  },
  {
   "cell_type": "markdown",
   "metadata": {},
   "source": [
    " "
   ]
  },
  {
   "cell_type": "markdown",
   "metadata": {
    "id": "ADOfyVY_rJg3"
   },
   "source": [
    "\n",
    "### 3.5. Сколько раундов продержится стартап перед покупкой"
   ]
  },
  {
   "cell_type": "code",
   "execution_count": 77,
   "metadata": {
    "id": "hgXMPC4WrJg3"
   },
   "outputs": [
    {
     "data": {
      "text/plain": [
       "count   40890.00\n",
       "mean        1.29\n",
       "std         1.26\n",
       "min         0.00\n",
       "25%         1.00\n",
       "50%         1.00\n",
       "75%         2.00\n",
       "max        15.00\n",
       "Name: funding_rounds, dtype: float64"
      ]
     },
     "execution_count": 77,
     "metadata": {},
     "output_type": "execute_result"
    },
    {
     "data": {
      "text/plain": [
       "count   40890.00\n",
       "mean        1.29\n",
       "std         1.26\n",
       "min         0.00\n",
       "25%         1.00\n",
       "50%         1.00\n",
       "75%         2.00\n",
       "max        15.00\n",
       "Name: funding_rounds, dtype: float64"
      ]
     },
     "execution_count": 77,
     "metadata": {},
     "output_type": "execute_result"
    }
   ],
   "source": [
    "merged_data['funding_rounds'].describe()"
   ]
  },
  {
   "cell_type": "markdown",
   "metadata": {},
   "source": [
    "Большая разница между медианой и средним значением говорит о выбросах в данных. Минимальное значение равняется 0.   Максимальное значение -12 раундов."
   ]
  },
  {
   "cell_type": "code",
   "execution_count": 78,
   "metadata": {},
   "outputs": [
    {
     "data": {
      "image/png": "[encoded data removed]",
      "text/plain": [
       "<Figure size 504x216 with 1 Axes>"
      ]
     },
     "metadata": {
      "needs_background": "light"
     },
     "output_type": "display_data"
    },
    {
     "data": {
      "image/png": "[encoded data removed]",
      "text/plain": [
       "<Figure size 504x216 with 1 Axes>"
      ]
     },
     "metadata": {
      "needs_background": "light"
     },
     "output_type": "display_data"
    }
   ],
   "source": [
    "# строим гистограмму\n",
    "plt.figure(figsize=(7, 3))\n",
    "merged_data['funding_rounds'].plot(\n",
    "                kind='hist', \n",
    "                bins=15,\n",
    "                alpha=0.75,\n",
    "                edgecolor='black',\n",
    "                rot=0)\n",
    "plt.title('Распределение числа раундов финансирования')\n",
    "plt.xlabel('Число раундов финансирования')\n",
    "plt.ylabel('Количество компаний')\n",
    "plt.grid()\n",
    "plt.show()"
   ]
  },
  {
   "cell_type": "markdown",
   "metadata": {},
   "source": [
    "Распредление значения ассиметрично - скошено вправо. Минимальное количество раундов финансирования равно нулю, а максимальное - 12, что можно считать корректным. На графике можно увидеть, что больше всего в компаниях число раундов финансирования находится в диапазоне от 1 до 2. "
   ]
  },
  {
   "cell_type": "code",
   "execution_count": 79,
   "metadata": {},
   "outputs": [
    {
     "data": {
      "image/png": "[encoded data removed]",
      "text/plain": [
       "<Figure size 504x144 with 1 Axes>"
      ]
     },
     "metadata": {
      "needs_background": "light"
     },
     "output_type": "display_data"
    },
    {
     "data": {
      "image/png": "[encoded data removed]",
      "text/plain": [
       "<Figure size 504x144 with 1 Axes>"
      ]
     },
     "metadata": {
      "needs_background": "light"
     },
     "output_type": "display_data"
    }
   ],
   "source": [
    "# Строим диаграмму размаxа для столбца funding_rounds\n",
    "plt.figure(figsize=(7, 2))\n",
    "merged_data.boxplot(column = 'funding_rounds', vert = False)\n",
    "plt.title('Распределение числа раундов финансирования')\n",
    "plt.xlabel('Число раундов финансирования')\n",
    "plt.show()"
   ]
  },
  {
   "cell_type": "markdown",
   "metadata": {},
   "source": [
    "По \"ящику с усами\" можно считать значения, которые выше примерно 3 - выбросами. Исходя из диаграммы размаха, максимальные значения можно считать за выбросы, однако такое количество можно допустить для компаний, которые специализируются на курпных проектах. Именно по данной причине можно оставить данные, так как исключив их, можем потерять данные. "
   ]
  },
  {
   "cell_type": "code",
   "execution_count": 80,
   "metadata": {},
   "outputs": [],
   "source": [
    "tipical_df = merged_data.query(\"(funding_rounds > 0)\")"
   ]
  },
  {
   "cell_type": "code",
   "execution_count": 81,
   "metadata": {},
   "outputs": [
    {
     "data": {
      "text/plain": [
       "status\n",
       "acquired    1.90\n",
       "closed      1.38\n",
       "ipo         2.53\n",
       "operating   1.64\n",
       "Name: funding_rounds, dtype: float64"
      ]
     },
     "execution_count": 81,
     "metadata": {},
     "output_type": "execute_result"
    },
    {
     "data": {
      "text/plain": [
       "status\n",
       "acquired    1.90\n",
       "closed      1.38\n",
       "ipo         2.53\n",
       "operating   1.64\n",
       "Name: funding_rounds, dtype: float64"
      ]
     },
     "execution_count": 81,
     "metadata": {},
     "output_type": "execute_result"
    }
   ],
   "source": [
    "# находим типичное значение количества раундов для каждого возможного статуса стартапа\n",
    "tipical = tipical_df.groupby('status')['funding_rounds'].mean()\n",
    "tipical"
   ]
  },
  {
   "cell_type": "code",
   "execution_count": 82,
   "metadata": {},
   "outputs": [
    {
     "data": {
      "image/png": "[encoded data removed]",
      "text/plain": [
       "<Figure size 720x432 with 1 Axes>"
      ]
     },
     "metadata": {
      "needs_background": "light"
     },
     "output_type": "display_data"
    },
    {
     "data": {
      "image/png": "[encoded data removed]",
      "text/plain": [
       "<Figure size 720x432 with 1 Axes>"
      ]
     },
     "metadata": {
      "needs_background": "light"
     },
     "output_type": "display_data"
    }
   ],
   "source": [
    "#строим столбчатую диаграмму \n",
    "tipical.plot(kind = 'bar',\n",
    "               title = 'Значение количества раундов для каждого возможного статуса стартапа',\n",
    "               legend = False,\n",
    "               xlabel = 'Статус стартапа',\n",
    "               ylabel = 'Количество раундов',\n",
    "               rot = 0,\n",
    "               figsize = (10, 6))\n",
    "plt.grid()\n",
    "plt.show()"
   ]
  },
  {
   "cell_type": "markdown",
   "metadata": {},
   "source": [
    "На столбчатой диаграмме видно, что самое большое количество раундов у статуса \"ipo\" в количестве 2,53 штук, а самое маленькое у \"closed\" в количестве 1,38 штук. "
   ]
  },
  {
   "cell_type": "markdown",
   "metadata": {},
   "source": [
    "Большое или маленькое количество раундов финансирования может говорить о различных аспектах развития стартапа: от стадии жизненного цикла до финансовой устойчивости и потенциала роста. Чтобы сделать правильные выводы, важно учитывать контекст и специфику конкретно каждого случая."
   ]
  },
  {
   "cell_type": "markdown",
   "metadata": {},
   "source": [
    " "
   ]
  },
  {
   "cell_type": "markdown",
   "metadata": {},
   "source": [
    " "
   ]
  },
  {
   "cell_type": "markdown",
   "metadata": {
    "id": "VAFEZ2HBrJg3"
   },
   "source": [
    "\n",
    "## Шаг 4. Итоговый вывод и рекомендации\n"
   ]
  },
  {
   "cell_type": "markdown",
   "metadata": {},
   "source": [
    "В ходе исследования проанализировали данные более 100 тысяч компаний из нескольких стран. Данные включали в себя информацию о компании, ее работников и их образовании. Акцент исследования был на том, чтобы привести данные в порядок и ответить на некоторые вопросы заказчика, касающиеся значений данных для бизнеса. "
   ]
  },
  {
   "cell_type": "markdown",
   "metadata": {},
   "source": [
    "### Общий обзор данных "
   ]
  },
  {
   "cell_type": "markdown",
   "metadata": {},
   "source": [
    "- максимальный размер средств был собран в 2005 году и достиг 5 500 000\n",
    "- полнота сведений об образовании сотрудников зависит от размера компании. В частности, чем крупнее компания, тем меньшая доля сотрудников имеет пробелы в информации об образовании.\n",
    "- в данных имеется большое количество пропущенных значений, при этом с ними можно работать, так как можно получить корректный исследовательский анализ"
   ]
  },
  {
   "cell_type": "markdown",
   "metadata": {},
   "source": [
    "### Рекомендации "
   ]
  },
  {
   "cell_type": "markdown",
   "metadata": {},
   "source": [
    "Чтобы выйти на инвестиционный рынок, финансовая компания должна для себя решить и понять: каким компаниям (большим или маленьким) предоставлять льготные займы, оценить уровень риска на который они готовы пойти, изучить потребности и предпочтения выбранной целевой аудитории и предоставлять подходящие продукты или сервисы и так далее.\n",
    "\n",
    "Ведь большие компании требуют намного большего вложения, при этом риск может быть точно таким же, как и для средних или даже маленьких компаний. У маленьких компаний, как правило, нет больших вложений, но риск также оправдано высок. \n",
    "Также рекомендуем обратить внимание на уровень образования сотрудников, так как привлечение выпускников престижных университетов или людей с редкими навыками может стать дополнительным фактором при выборе стартапа для поддержки. \n",
    "Вместе с тем, анализируя раунды финансирования, можно прогнозировать, когда стартапам понадобятся дополнительные ресурсы, и предлагать свои услуги в нужное время. "
   ]
  },
  {
   "cell_type": "markdown",
   "metadata": {},
   "source": [
    " "
   ]
  },
  {
   "cell_type": "markdown",
   "metadata": {},
   "source": [
    " "
   ]
  }
 ],
 "metadata": {
  "ExecuteTimeLog": [
   {
    "duration": 3506,
    "start_time": "2025-01-14T13:02:28.540Z"
   },
   {
    "duration": 1359,
    "start_time": "2025-01-14T13:02:55.473Z"
   },
   {
    "duration": 62,
    "start_time": "2025-01-14T13:06:53.817Z"
   },
   {
    "duration": 13,
    "start_time": "2025-01-14T13:07:13.689Z"
   },
   {
    "duration": 4,
    "start_time": "2025-01-14T13:12:09.235Z"
   },
   {
    "duration": 951,
    "start_time": "2025-01-14T13:14:56.442Z"
   },
   {
    "duration": 98,
    "start_time": "2025-01-14T13:15:19.189Z"
   },
   {
    "duration": 272,
    "start_time": "2025-01-14T13:20:04.059Z"
   },
   {
    "duration": 25,
    "start_time": "2025-01-14T13:20:07.626Z"
   },
   {
    "duration": 198,
    "start_time": "2025-01-14T13:21:42.970Z"
   },
   {
    "duration": 21,
    "start_time": "2025-01-14T13:21:44.164Z"
   },
   {
    "duration": 53,
    "start_time": "2025-01-14T13:22:22.830Z"
   },
   {
    "duration": 1107,
    "start_time": "2025-01-14T13:22:34.787Z"
   },
   {
    "duration": 104,
    "start_time": "2025-01-14T13:24:19.193Z"
   },
   {
    "duration": 64,
    "start_time": "2025-01-14T13:24:21.387Z"
   },
   {
    "duration": 14,
    "start_time": "2025-01-14T13:24:23.708Z"
   },
   {
    "duration": 59,
    "start_time": "2025-01-14T13:27:03.940Z"
   },
   {
    "duration": 185,
    "start_time": "2025-01-14T13:27:15.922Z"
   },
   {
    "duration": 254,
    "start_time": "2025-01-14T13:27:24.688Z"
   },
   {
    "duration": 131,
    "start_time": "2025-01-14T13:29:00.508Z"
   },
   {
    "duration": 12,
    "start_time": "2025-01-14T13:29:01.087Z"
   },
   {
    "duration": 429,
    "start_time": "2025-01-14T13:30:02.405Z"
   },
   {
    "duration": 41,
    "start_time": "2025-01-14T13:30:02.972Z"
   },
   {
    "duration": 72,
    "start_time": "2025-01-14T13:32:04.845Z"
   },
   {
    "duration": 49,
    "start_time": "2025-01-14T13:34:34.441Z"
   },
   {
    "duration": 1005,
    "start_time": "2025-01-14T13:34:49.055Z"
   },
   {
    "duration": 223,
    "start_time": "2025-01-14T13:41:20.040Z"
   },
   {
    "duration": 1021,
    "start_time": "2025-01-14T13:41:26.021Z"
   },
   {
    "duration": 187,
    "start_time": "2025-01-14T13:44:08.004Z"
   },
   {
    "duration": 202,
    "start_time": "2025-01-14T13:44:22.095Z"
   },
   {
    "duration": 175,
    "start_time": "2025-01-14T13:46:08.787Z"
   },
   {
    "duration": 70,
    "start_time": "2025-01-14T13:46:27.086Z"
   },
   {
    "duration": 61,
    "start_time": "2025-01-14T13:48:42.837Z"
   },
   {
    "duration": 129,
    "start_time": "2025-01-14T13:48:56.172Z"
   },
   {
    "duration": 82,
    "start_time": "2025-01-14T13:50:40.306Z"
   },
   {
    "duration": 363,
    "start_time": "2025-01-14T13:50:54.818Z"
   },
   {
    "duration": 447,
    "start_time": "2025-01-14T13:54:57.335Z"
   },
   {
    "duration": 2364,
    "start_time": "2025-01-14T13:55:04.418Z"
   },
   {
    "duration": 1211,
    "start_time": "2025-01-14T13:55:06.785Z"
   },
   {
    "duration": 59,
    "start_time": "2025-01-14T13:55:07.998Z"
   },
   {
    "duration": 17,
    "start_time": "2025-01-14T13:55:08.059Z"
   },
   {
    "duration": 1073,
    "start_time": "2025-01-14T13:55:08.078Z"
   },
   {
    "duration": 101,
    "start_time": "2025-01-14T13:55:09.153Z"
   },
   {
    "duration": 185,
    "start_time": "2025-01-14T13:55:09.256Z"
   },
   {
    "duration": 26,
    "start_time": "2025-01-14T13:55:09.443Z"
   },
   {
    "duration": 187,
    "start_time": "2025-01-14T13:55:09.470Z"
   },
   {
    "duration": 21,
    "start_time": "2025-01-14T13:55:09.659Z"
   },
   {
    "duration": 62,
    "start_time": "2025-01-14T13:55:09.682Z"
   },
   {
    "duration": 13,
    "start_time": "2025-01-14T13:55:09.745Z"
   },
   {
    "duration": 120,
    "start_time": "2025-01-14T13:55:09.759Z"
   },
   {
    "duration": 10,
    "start_time": "2025-01-14T13:55:09.882Z"
   },
   {
    "duration": 398,
    "start_time": "2025-01-14T13:55:09.893Z"
   },
   {
    "duration": 44,
    "start_time": "2025-01-14T13:55:10.293Z"
   },
   {
    "duration": 48,
    "start_time": "2025-01-14T17:30:43.658Z"
   },
   {
    "duration": 3762,
    "start_time": "2025-01-14T17:30:51.937Z"
   },
   {
    "duration": 1479,
    "start_time": "2025-01-14T17:30:55.702Z"
   },
   {
    "duration": 126,
    "start_time": "2025-01-14T17:30:57.183Z"
   },
   {
    "duration": 14,
    "start_time": "2025-01-14T17:30:57.311Z"
   },
   {
    "duration": 1251,
    "start_time": "2025-01-14T17:30:57.327Z"
   },
   {
    "duration": 115,
    "start_time": "2025-01-14T17:30:58.580Z"
   },
   {
    "duration": 243,
    "start_time": "2025-01-14T17:30:58.697Z"
   },
   {
    "duration": 27,
    "start_time": "2025-01-14T17:30:58.942Z"
   },
   {
    "duration": 311,
    "start_time": "2025-01-14T17:30:58.970Z"
   },
   {
    "duration": 20,
    "start_time": "2025-01-14T17:30:59.283Z"
   },
   {
    "duration": 144,
    "start_time": "2025-01-14T17:30:59.304Z"
   },
   {
    "duration": 15,
    "start_time": "2025-01-14T17:30:59.450Z"
   },
   {
    "duration": 127,
    "start_time": "2025-01-14T17:30:59.466Z"
   },
   {
    "duration": 11,
    "start_time": "2025-01-14T17:30:59.595Z"
   },
   {
    "duration": 394,
    "start_time": "2025-01-14T17:30:59.607Z"
   },
   {
    "duration": 57,
    "start_time": "2025-01-14T17:31:00.003Z"
   },
   {
    "duration": 1568,
    "start_time": "2025-01-14T17:32:51.105Z"
   },
   {
    "duration": 618,
    "start_time": "2025-01-14T17:33:16.622Z"
   },
   {
    "duration": 7,
    "start_time": "2025-01-14T17:33:30.990Z"
   },
   {
    "duration": 21,
    "start_time": "2025-01-14T17:33:54.923Z"
   },
   {
    "duration": 17,
    "start_time": "2025-01-14T17:34:06.772Z"
   },
   {
    "duration": 1230,
    "start_time": "2025-01-14T17:35:00.691Z"
   },
   {
    "duration": 1238,
    "start_time": "2025-01-14T17:36:07.562Z"
   },
   {
    "duration": 42,
    "start_time": "2025-01-14T17:37:14.108Z"
   },
   {
    "duration": 61,
    "start_time": "2025-01-14T17:38:10.656Z"
   },
   {
    "duration": 1375,
    "start_time": "2025-01-14T17:39:03.690Z"
   },
   {
    "duration": 61,
    "start_time": "2025-01-14T17:39:32.356Z"
   },
   {
    "duration": 1132,
    "start_time": "2025-01-14T17:40:02.740Z"
   },
   {
    "duration": 19,
    "start_time": "2025-01-14T17:41:58.813Z"
   },
   {
    "duration": 10,
    "start_time": "2025-01-14T17:43:02.003Z"
   },
   {
    "duration": 161,
    "start_time": "2025-01-14T17:44:48.614Z"
   },
   {
    "duration": 2541,
    "start_time": "2025-01-14T17:45:41.674Z"
   },
   {
    "duration": 1288,
    "start_time": "2025-01-14T17:45:44.217Z"
   },
   {
    "duration": 49,
    "start_time": "2025-01-14T17:45:45.507Z"
   },
   {
    "duration": 17,
    "start_time": "2025-01-14T17:45:45.558Z"
   },
   {
    "duration": 1382,
    "start_time": "2025-01-14T17:45:45.577Z"
   },
   {
    "duration": 106,
    "start_time": "2025-01-14T17:45:46.961Z"
   },
   {
    "duration": 214,
    "start_time": "2025-01-14T17:45:47.068Z"
   },
   {
    "duration": 26,
    "start_time": "2025-01-14T17:45:47.284Z"
   },
   {
    "duration": 213,
    "start_time": "2025-01-14T17:45:47.312Z"
   },
   {
    "duration": 22,
    "start_time": "2025-01-14T17:45:47.527Z"
   },
   {
    "duration": 90,
    "start_time": "2025-01-14T17:45:47.551Z"
   },
   {
    "duration": 15,
    "start_time": "2025-01-14T17:45:47.642Z"
   },
   {
    "duration": 83,
    "start_time": "2025-01-14T17:45:47.659Z"
   },
   {
    "duration": 12,
    "start_time": "2025-01-14T17:45:47.745Z"
   },
   {
    "duration": 334,
    "start_time": "2025-01-14T17:45:47.759Z"
   },
   {
    "duration": 46,
    "start_time": "2025-01-14T17:45:48.095Z"
   },
   {
    "duration": 193,
    "start_time": "2025-01-14T17:45:48.142Z"
   },
   {
    "duration": 4,
    "start_time": "2025-01-14T17:49:55.660Z"
   },
   {
    "duration": 29,
    "start_time": "2025-01-14T17:50:08.551Z"
   },
   {
    "duration": 4,
    "start_time": "2025-01-14T17:50:38.117Z"
   },
   {
    "duration": 7,
    "start_time": "2025-01-14T17:59:11.997Z"
   },
   {
    "duration": 11,
    "start_time": "2025-01-14T18:00:27.831Z"
   },
   {
    "duration": 81,
    "start_time": "2025-01-14T18:02:15.807Z"
   },
   {
    "duration": 5,
    "start_time": "2025-01-14T18:05:14.466Z"
   },
   {
    "duration": 2484,
    "start_time": "2025-01-14T18:05:43.180Z"
   },
   {
    "duration": 1405,
    "start_time": "2025-01-14T18:05:45.666Z"
   },
   {
    "duration": 61,
    "start_time": "2025-01-14T18:05:47.073Z"
   },
   {
    "duration": 17,
    "start_time": "2025-01-14T18:05:47.137Z"
   },
   {
    "duration": 1133,
    "start_time": "2025-01-14T18:05:47.156Z"
   },
   {
    "duration": 110,
    "start_time": "2025-01-14T18:05:48.291Z"
   },
   {
    "duration": 235,
    "start_time": "2025-01-14T18:05:48.403Z"
   },
   {
    "duration": 27,
    "start_time": "2025-01-14T18:05:48.639Z"
   },
   {
    "duration": 271,
    "start_time": "2025-01-14T18:05:48.667Z"
   },
   {
    "duration": 21,
    "start_time": "2025-01-14T18:05:48.941Z"
   },
   {
    "duration": 55,
    "start_time": "2025-01-14T18:05:48.963Z"
   },
   {
    "duration": 16,
    "start_time": "2025-01-14T18:05:49.020Z"
   },
   {
    "duration": 112,
    "start_time": "2025-01-14T18:05:49.038Z"
   },
   {
    "duration": 11,
    "start_time": "2025-01-14T18:05:49.151Z"
   },
   {
    "duration": 380,
    "start_time": "2025-01-14T18:05:49.164Z"
   },
   {
    "duration": 46,
    "start_time": "2025-01-14T18:05:49.546Z"
   },
   {
    "duration": 203,
    "start_time": "2025-01-14T18:05:49.593Z"
   },
   {
    "duration": 5,
    "start_time": "2025-01-14T18:05:49.797Z"
   },
   {
    "duration": 136,
    "start_time": "2025-01-14T18:05:49.803Z"
   },
   {
    "duration": 1,
    "start_time": "2025-01-14T18:05:49.940Z"
   },
   {
    "duration": 0,
    "start_time": "2025-01-14T18:05:49.942Z"
   },
   {
    "duration": 0,
    "start_time": "2025-01-14T18:05:49.943Z"
   },
   {
    "duration": 41,
    "start_time": "2025-01-14T18:13:02.268Z"
   },
   {
    "duration": 5,
    "start_time": "2025-01-14T18:13:18.332Z"
   },
   {
    "duration": 44,
    "start_time": "2025-01-14T18:13:41.116Z"
   },
   {
    "duration": 4,
    "start_time": "2025-01-14T18:13:45.701Z"
   },
   {
    "duration": 9,
    "start_time": "2025-01-14T18:13:46.964Z"
   },
   {
    "duration": 22,
    "start_time": "2025-01-14T18:13:55.072Z"
   },
   {
    "duration": 4,
    "start_time": "2025-01-14T18:13:56.115Z"
   },
   {
    "duration": 73,
    "start_time": "2025-01-14T18:14:11.367Z"
   },
   {
    "duration": 22,
    "start_time": "2025-01-14T18:16:29.610Z"
   },
   {
    "duration": 12,
    "start_time": "2025-01-14T18:16:55.792Z"
   },
   {
    "duration": 10,
    "start_time": "2025-01-14T18:17:47.798Z"
   },
   {
    "duration": 7,
    "start_time": "2025-01-14T18:17:48.459Z"
   },
   {
    "duration": 8477,
    "start_time": "2025-01-14T18:17:49.013Z"
   },
   {
    "duration": 23,
    "start_time": "2025-01-14T18:18:10.497Z"
   },
   {
    "duration": 15,
    "start_time": "2025-01-14T18:18:16.409Z"
   },
   {
    "duration": 10,
    "start_time": "2025-01-14T18:18:22.259Z"
   },
   {
    "duration": 9,
    "start_time": "2025-01-14T18:18:59.547Z"
   },
   {
    "duration": 7,
    "start_time": "2025-01-14T18:19:11.278Z"
   },
   {
    "duration": 52,
    "start_time": "2025-01-14T18:19:12.085Z"
   },
   {
    "duration": 77,
    "start_time": "2025-01-14T18:19:28.744Z"
   },
   {
    "duration": 7,
    "start_time": "2025-01-14T18:19:44.178Z"
   },
   {
    "duration": 2532,
    "start_time": "2025-01-14T18:32:13.365Z"
   },
   {
    "duration": 1316,
    "start_time": "2025-01-14T18:32:15.899Z"
   },
   {
    "duration": 94,
    "start_time": "2025-01-14T18:32:17.216Z"
   },
   {
    "duration": 18,
    "start_time": "2025-01-14T18:32:17.312Z"
   },
   {
    "duration": 1211,
    "start_time": "2025-01-14T18:32:17.332Z"
   },
   {
    "duration": 109,
    "start_time": "2025-01-14T18:32:18.545Z"
   },
   {
    "duration": 300,
    "start_time": "2025-01-14T18:32:18.656Z"
   },
   {
    "duration": 28,
    "start_time": "2025-01-14T18:32:18.958Z"
   },
   {
    "duration": 270,
    "start_time": "2025-01-14T18:32:18.987Z"
   },
   {
    "duration": 22,
    "start_time": "2025-01-14T18:32:19.260Z"
   },
   {
    "duration": 170,
    "start_time": "2025-01-14T18:32:19.283Z"
   },
   {
    "duration": 16,
    "start_time": "2025-01-14T18:32:19.454Z"
   },
   {
    "duration": 167,
    "start_time": "2025-01-14T18:32:19.472Z"
   },
   {
    "duration": 12,
    "start_time": "2025-01-14T18:32:19.641Z"
   },
   {
    "duration": 407,
    "start_time": "2025-01-14T18:32:19.655Z"
   },
   {
    "duration": 42,
    "start_time": "2025-01-14T18:32:20.064Z"
   },
   {
    "duration": 128,
    "start_time": "2025-01-14T18:32:20.108Z"
   },
   {
    "duration": 188,
    "start_time": "2025-01-14T18:32:20.239Z"
   },
   {
    "duration": 9,
    "start_time": "2025-01-14T18:32:20.430Z"
   },
   {
    "duration": 74,
    "start_time": "2025-01-14T18:32:20.440Z"
   },
   {
    "duration": 34,
    "start_time": "2025-01-14T18:32:20.515Z"
   },
   {
    "duration": 21,
    "start_time": "2025-01-14T18:32:20.551Z"
   },
   {
    "duration": 9,
    "start_time": "2025-01-14T18:32:20.574Z"
   },
   {
    "duration": 6,
    "start_time": "2025-01-14T18:32:20.585Z"
   },
   {
    "duration": 60,
    "start_time": "2025-01-14T18:32:20.593Z"
   },
   {
    "duration": 111,
    "start_time": "2025-01-14T18:32:20.655Z"
   },
   {
    "duration": 11,
    "start_time": "2025-01-14T18:35:38.992Z"
   },
   {
    "duration": 14,
    "start_time": "2025-01-14T18:35:48.147Z"
   },
   {
    "duration": 11,
    "start_time": "2025-01-14T18:36:11.219Z"
   },
   {
    "duration": 12,
    "start_time": "2025-01-14T18:37:41.573Z"
   },
   {
    "duration": 12,
    "start_time": "2025-01-14T18:39:08.460Z"
   },
   {
    "duration": 20,
    "start_time": "2025-01-14T18:39:15.291Z"
   },
   {
    "duration": 40,
    "start_time": "2025-01-14T18:43:02.262Z"
   },
   {
    "duration": 13,
    "start_time": "2025-01-14T18:43:18.428Z"
   },
   {
    "duration": 23,
    "start_time": "2025-01-14T18:43:25.310Z"
   },
   {
    "duration": 21,
    "start_time": "2025-01-14T18:43:57.129Z"
   },
   {
    "duration": 51,
    "start_time": "2025-01-14T18:54:06.076Z"
   },
   {
    "duration": 75,
    "start_time": "2025-01-14T18:56:08.653Z"
   },
   {
    "duration": 52,
    "start_time": "2025-01-14T18:56:32.507Z"
   },
   {
    "duration": 74,
    "start_time": "2025-01-14T18:56:42.863Z"
   },
   {
    "duration": 11,
    "start_time": "2025-01-14T18:56:56.074Z"
   },
   {
    "duration": 26,
    "start_time": "2025-01-14T18:58:19.626Z"
   },
   {
    "duration": 34,
    "start_time": "2025-01-14T18:58:27.175Z"
   },
   {
    "duration": 43,
    "start_time": "2025-01-14T18:59:01.242Z"
   },
   {
    "duration": 35,
    "start_time": "2025-01-14T18:59:32.375Z"
   },
   {
    "duration": 12,
    "start_time": "2025-01-14T19:00:27.046Z"
   },
   {
    "duration": 15,
    "start_time": "2025-01-14T19:02:43.476Z"
   },
   {
    "duration": 22,
    "start_time": "2025-01-14T19:02:43.994Z"
   },
   {
    "duration": 16,
    "start_time": "2025-01-14T19:02:58.877Z"
   },
   {
    "duration": 20,
    "start_time": "2025-01-14T19:05:46.570Z"
   },
   {
    "duration": 27,
    "start_time": "2025-01-14T19:10:26.265Z"
   },
   {
    "duration": 45,
    "start_time": "2025-01-14T19:12:10.377Z"
   },
   {
    "duration": 55,
    "start_time": "2025-01-14T19:12:41.682Z"
   },
   {
    "duration": 26,
    "start_time": "2025-01-14T19:14:40.910Z"
   },
   {
    "duration": 26,
    "start_time": "2025-01-14T19:14:55.260Z"
   },
   {
    "duration": 11,
    "start_time": "2025-01-14T19:17:22.561Z"
   },
   {
    "duration": 26,
    "start_time": "2025-01-14T19:17:48.211Z"
   },
   {
    "duration": 28,
    "start_time": "2025-01-14T19:18:22.666Z"
   },
   {
    "duration": 36,
    "start_time": "2025-01-14T19:18:39.127Z"
   },
   {
    "duration": 11,
    "start_time": "2025-01-14T19:21:01.461Z"
   },
   {
    "duration": 249,
    "start_time": "2025-01-14T19:31:42.255Z"
   },
   {
    "duration": 86,
    "start_time": "2025-01-14T19:33:38.784Z"
   },
   {
    "duration": 1419,
    "start_time": "2025-01-14T19:33:47.547Z"
   },
   {
    "duration": 260,
    "start_time": "2025-01-14T19:36:00.448Z"
   },
   {
    "duration": 1490,
    "start_time": "2025-01-14T19:37:54.148Z"
   },
   {
    "duration": 176,
    "start_time": "2025-01-14T19:39:31.724Z"
   },
   {
    "duration": 158,
    "start_time": "2025-01-14T19:39:47.748Z"
   },
   {
    "duration": 152,
    "start_time": "2025-01-14T19:40:35.849Z"
   },
   {
    "duration": 166,
    "start_time": "2025-01-14T19:40:43.614Z"
   },
   {
    "duration": 2496,
    "start_time": "2025-01-14T19:43:34.445Z"
   },
   {
    "duration": 1217,
    "start_time": "2025-01-14T19:43:36.944Z"
   },
   {
    "duration": 59,
    "start_time": "2025-01-14T19:43:38.162Z"
   },
   {
    "duration": 15,
    "start_time": "2025-01-14T19:43:38.223Z"
   },
   {
    "duration": 1158,
    "start_time": "2025-01-14T19:43:38.241Z"
   },
   {
    "duration": 106,
    "start_time": "2025-01-14T19:43:39.401Z"
   },
   {
    "duration": 239,
    "start_time": "2025-01-14T19:43:39.508Z"
   },
   {
    "duration": 27,
    "start_time": "2025-01-14T19:43:39.749Z"
   },
   {
    "duration": 179,
    "start_time": "2025-01-14T19:43:39.778Z"
   },
   {
    "duration": 20,
    "start_time": "2025-01-14T19:43:39.959Z"
   },
   {
    "duration": 160,
    "start_time": "2025-01-14T19:43:39.980Z"
   },
   {
    "duration": 14,
    "start_time": "2025-01-14T19:43:40.142Z"
   },
   {
    "duration": 140,
    "start_time": "2025-01-14T19:43:40.158Z"
   },
   {
    "duration": 12,
    "start_time": "2025-01-14T19:43:40.301Z"
   },
   {
    "duration": 416,
    "start_time": "2025-01-14T19:43:40.314Z"
   },
   {
    "duration": 42,
    "start_time": "2025-01-14T19:43:40.732Z"
   },
   {
    "duration": 71,
    "start_time": "2025-01-14T19:43:40.776Z"
   },
   {
    "duration": 182,
    "start_time": "2025-01-14T19:43:40.849Z"
   },
   {
    "duration": 9,
    "start_time": "2025-01-14T19:43:41.033Z"
   },
   {
    "duration": 112,
    "start_time": "2025-01-14T19:43:41.044Z"
   },
   {
    "duration": 23,
    "start_time": "2025-01-14T19:43:41.158Z"
   },
   {
    "duration": 13,
    "start_time": "2025-01-14T19:43:41.183Z"
   },
   {
    "duration": 35,
    "start_time": "2025-01-14T19:43:41.198Z"
   },
   {
    "duration": 7,
    "start_time": "2025-01-14T19:43:41.235Z"
   },
   {
    "duration": 38,
    "start_time": "2025-01-14T19:43:41.244Z"
   },
   {
    "duration": 137,
    "start_time": "2025-01-14T19:43:41.283Z"
   },
   {
    "duration": 0,
    "start_time": "2025-01-14T19:43:41.431Z"
   },
   {
    "duration": 0,
    "start_time": "2025-01-14T19:43:41.432Z"
   },
   {
    "duration": 0,
    "start_time": "2025-01-14T19:43:41.433Z"
   },
   {
    "duration": 0,
    "start_time": "2025-01-14T19:43:41.435Z"
   },
   {
    "duration": 10,
    "start_time": "2025-01-14T19:44:12.152Z"
   },
   {
    "duration": 42,
    "start_time": "2025-01-14T19:44:13.107Z"
   },
   {
    "duration": 11,
    "start_time": "2025-01-14T19:44:14.224Z"
   },
   {
    "duration": 182,
    "start_time": "2025-01-14T19:44:21.761Z"
   },
   {
    "duration": 2429,
    "start_time": "2025-01-14T19:44:26.774Z"
   },
   {
    "duration": 1282,
    "start_time": "2025-01-14T19:44:29.205Z"
   },
   {
    "duration": 46,
    "start_time": "2025-01-14T19:44:30.489Z"
   },
   {
    "duration": 16,
    "start_time": "2025-01-14T19:44:30.536Z"
   },
   {
    "duration": 1168,
    "start_time": "2025-01-14T19:44:30.554Z"
   },
   {
    "duration": 107,
    "start_time": "2025-01-14T19:44:31.724Z"
   },
   {
    "duration": 242,
    "start_time": "2025-01-14T19:44:31.832Z"
   },
   {
    "duration": 27,
    "start_time": "2025-01-14T19:44:32.075Z"
   },
   {
    "duration": 224,
    "start_time": "2025-01-14T19:44:32.103Z"
   },
   {
    "duration": 24,
    "start_time": "2025-01-14T19:44:32.329Z"
   },
   {
    "duration": 58,
    "start_time": "2025-01-14T19:44:32.355Z"
   },
   {
    "duration": 14,
    "start_time": "2025-01-14T19:44:32.415Z"
   },
   {
    "duration": 74,
    "start_time": "2025-01-14T19:44:32.430Z"
   },
   {
    "duration": 12,
    "start_time": "2025-01-14T19:44:32.506Z"
   },
   {
    "duration": 476,
    "start_time": "2025-01-14T19:44:32.519Z"
   },
   {
    "duration": 41,
    "start_time": "2025-01-14T19:44:32.996Z"
   },
   {
    "duration": 92,
    "start_time": "2025-01-14T19:44:33.038Z"
   },
   {
    "duration": 180,
    "start_time": "2025-01-14T19:44:33.131Z"
   },
   {
    "duration": 8,
    "start_time": "2025-01-14T19:44:33.313Z"
   },
   {
    "duration": 88,
    "start_time": "2025-01-14T19:44:33.329Z"
   },
   {
    "duration": 20,
    "start_time": "2025-01-14T19:44:33.419Z"
   },
   {
    "duration": 13,
    "start_time": "2025-01-14T19:44:33.440Z"
   },
   {
    "duration": 9,
    "start_time": "2025-01-14T19:44:33.455Z"
   },
   {
    "duration": 7,
    "start_time": "2025-01-14T19:44:33.465Z"
   },
   {
    "duration": 64,
    "start_time": "2025-01-14T19:44:33.473Z"
   },
   {
    "duration": 10,
    "start_time": "2025-01-14T19:44:33.539Z"
   },
   {
    "duration": 144,
    "start_time": "2025-01-14T19:44:33.551Z"
   },
   {
    "duration": 11,
    "start_time": "2025-01-14T19:44:33.697Z"
   },
   {
    "duration": 178,
    "start_time": "2025-01-14T19:44:33.710Z"
   },
   {
    "duration": 51,
    "start_time": "2025-01-15T09:53:28.974Z"
   },
   {
    "duration": 3608,
    "start_time": "2025-01-15T09:53:34.295Z"
   },
   {
    "duration": 1329,
    "start_time": "2025-01-15T09:53:37.905Z"
   },
   {
    "duration": 64,
    "start_time": "2025-01-15T09:53:39.236Z"
   },
   {
    "duration": 21,
    "start_time": "2025-01-15T09:53:39.302Z"
   },
   {
    "duration": 1170,
    "start_time": "2025-01-15T09:53:39.327Z"
   },
   {
    "duration": 114,
    "start_time": "2025-01-15T09:53:40.499Z"
   },
   {
    "duration": 216,
    "start_time": "2025-01-15T09:53:40.616Z"
   },
   {
    "duration": 37,
    "start_time": "2025-01-15T09:53:40.834Z"
   },
   {
    "duration": 225,
    "start_time": "2025-01-15T09:53:40.873Z"
   },
   {
    "duration": 22,
    "start_time": "2025-01-15T09:53:41.099Z"
   },
   {
    "duration": 92,
    "start_time": "2025-01-15T09:53:41.122Z"
   },
   {
    "duration": 15,
    "start_time": "2025-01-15T09:53:41.216Z"
   },
   {
    "duration": 198,
    "start_time": "2025-01-15T09:53:41.232Z"
   },
   {
    "duration": 12,
    "start_time": "2025-01-15T09:53:41.432Z"
   },
   {
    "duration": 303,
    "start_time": "2025-01-15T09:53:41.446Z"
   },
   {
    "duration": 46,
    "start_time": "2025-01-15T09:53:41.751Z"
   },
   {
    "duration": 35,
    "start_time": "2025-01-15T09:53:41.799Z"
   },
   {
    "duration": 187,
    "start_time": "2025-01-15T09:53:41.836Z"
   },
   {
    "duration": 8,
    "start_time": "2025-01-15T09:53:42.024Z"
   },
   {
    "duration": 97,
    "start_time": "2025-01-15T09:53:42.034Z"
   },
   {
    "duration": 20,
    "start_time": "2025-01-15T09:53:42.132Z"
   },
   {
    "duration": 25,
    "start_time": "2025-01-15T09:53:42.154Z"
   },
   {
    "duration": 8,
    "start_time": "2025-01-15T09:53:42.181Z"
   },
   {
    "duration": 12,
    "start_time": "2025-01-15T09:53:42.190Z"
   },
   {
    "duration": 42,
    "start_time": "2025-01-15T09:53:42.203Z"
   },
   {
    "duration": 23,
    "start_time": "2025-01-15T09:53:42.247Z"
   },
   {
    "duration": 49,
    "start_time": "2025-01-15T09:53:42.272Z"
   },
   {
    "duration": 11,
    "start_time": "2025-01-15T09:53:42.322Z"
   },
   {
    "duration": 188,
    "start_time": "2025-01-15T09:53:42.334Z"
   },
   {
    "duration": 103,
    "start_time": "2025-01-15T09:53:42.523Z"
   },
   {
    "duration": 91,
    "start_time": "2025-01-15T10:00:35.793Z"
   },
   {
    "duration": 19,
    "start_time": "2025-01-15T10:02:20.151Z"
   },
   {
    "duration": 123,
    "start_time": "2025-01-15T10:02:35.033Z"
   },
   {
    "duration": 17,
    "start_time": "2025-01-15T10:02:52.740Z"
   },
   {
    "duration": 102,
    "start_time": "2025-01-15T10:05:20.055Z"
   },
   {
    "duration": 19,
    "start_time": "2025-01-15T10:06:09.268Z"
   },
   {
    "duration": 16,
    "start_time": "2025-01-15T10:10:58.933Z"
   },
   {
    "duration": 3,
    "start_time": "2025-01-15T10:12:22.786Z"
   },
   {
    "duration": 7,
    "start_time": "2025-01-15T10:12:30.800Z"
   },
   {
    "duration": 9,
    "start_time": "2025-01-15T10:14:10.433Z"
   },
   {
    "duration": 8,
    "start_time": "2025-01-15T10:14:31.633Z"
   },
   {
    "duration": 8,
    "start_time": "2025-01-15T10:14:38.452Z"
   },
   {
    "duration": 5,
    "start_time": "2025-01-15T10:15:40.601Z"
   },
   {
    "duration": 9,
    "start_time": "2025-01-15T10:15:48.888Z"
   },
   {
    "duration": 5,
    "start_time": "2025-01-15T10:18:20.701Z"
   },
   {
    "duration": 9,
    "start_time": "2025-01-15T10:18:27.667Z"
   },
   {
    "duration": 86,
    "start_time": "2025-01-15T10:19:18.434Z"
   },
   {
    "duration": 7,
    "start_time": "2025-01-15T10:19:25.049Z"
   },
   {
    "duration": 6,
    "start_time": "2025-01-15T10:19:33.735Z"
   },
   {
    "duration": 7,
    "start_time": "2025-01-15T10:22:03.934Z"
   },
   {
    "duration": 103,
    "start_time": "2025-01-15T10:22:15.225Z"
   },
   {
    "duration": 20,
    "start_time": "2025-01-15T10:22:58.218Z"
   },
   {
    "duration": 1481,
    "start_time": "2025-01-15T10:26:12.399Z"
   },
   {
    "duration": 17,
    "start_time": "2025-01-15T10:26:20.453Z"
   },
   {
    "duration": 10,
    "start_time": "2025-01-15T10:26:23.072Z"
   },
   {
    "duration": 4,
    "start_time": "2025-01-15T10:27:58.189Z"
   },
   {
    "duration": 19,
    "start_time": "2025-01-15T10:31:48.016Z"
   },
   {
    "duration": 18,
    "start_time": "2025-01-15T10:32:19.450Z"
   },
   {
    "duration": 20,
    "start_time": "2025-01-15T10:32:24.767Z"
   },
   {
    "duration": 1326,
    "start_time": "2025-01-15T10:39:34.518Z"
   },
   {
    "duration": 15,
    "start_time": "2025-01-15T10:40:10.657Z"
   },
   {
    "duration": 18,
    "start_time": "2025-01-15T10:40:16.341Z"
   },
   {
    "duration": 12,
    "start_time": "2025-01-15T10:40:21.218Z"
   },
   {
    "duration": 63,
    "start_time": "2025-01-15T10:40:50.707Z"
   },
   {
    "duration": 85,
    "start_time": "2025-01-15T10:40:55.853Z"
   },
   {
    "duration": 47,
    "start_time": "2025-01-15T10:42:13.233Z"
   },
   {
    "duration": 15,
    "start_time": "2025-01-15T10:43:43.734Z"
   },
   {
    "duration": 66,
    "start_time": "2025-01-15T10:43:44.354Z"
   },
   {
    "duration": 17,
    "start_time": "2025-01-15T10:51:53.746Z"
   },
   {
    "duration": 3,
    "start_time": "2025-01-15T10:55:56.040Z"
   },
   {
    "duration": 15,
    "start_time": "2025-01-15T10:55:58.539Z"
   },
   {
    "duration": 9,
    "start_time": "2025-01-15T10:56:13.422Z"
   },
   {
    "duration": 2546,
    "start_time": "2025-01-15T10:57:04.170Z"
   },
   {
    "duration": 1169,
    "start_time": "2025-01-15T10:57:06.718Z"
   },
   {
    "duration": 57,
    "start_time": "2025-01-15T10:57:07.888Z"
   },
   {
    "duration": 15,
    "start_time": "2025-01-15T10:57:07.947Z"
   },
   {
    "duration": 1371,
    "start_time": "2025-01-15T10:57:07.963Z"
   },
   {
    "duration": 112,
    "start_time": "2025-01-15T10:57:09.336Z"
   },
   {
    "duration": 640,
    "start_time": "2025-01-15T10:57:09.450Z"
   },
   {
    "duration": 34,
    "start_time": "2025-01-15T10:57:10.092Z"
   },
   {
    "duration": 535,
    "start_time": "2025-01-15T10:57:10.128Z"
   },
   {
    "duration": 21,
    "start_time": "2025-01-15T10:57:10.666Z"
   },
   {
    "duration": 193,
    "start_time": "2025-01-15T10:57:10.689Z"
   },
   {
    "duration": 15,
    "start_time": "2025-01-15T10:57:10.884Z"
   },
   {
    "duration": 89,
    "start_time": "2025-01-15T10:57:10.901Z"
   },
   {
    "duration": 11,
    "start_time": "2025-01-15T10:57:10.992Z"
   },
   {
    "duration": 291,
    "start_time": "2025-01-15T10:57:11.004Z"
   },
   {
    "duration": 42,
    "start_time": "2025-01-15T10:57:11.297Z"
   },
   {
    "duration": 67,
    "start_time": "2025-01-15T10:57:11.341Z"
   },
   {
    "duration": 171,
    "start_time": "2025-01-15T10:57:11.410Z"
   },
   {
    "duration": 116,
    "start_time": "2025-01-15T10:57:11.582Z"
   },
   {
    "duration": 0,
    "start_time": "2025-01-15T10:57:11.700Z"
   },
   {
    "duration": 0,
    "start_time": "2025-01-15T10:57:11.701Z"
   },
   {
    "duration": 0,
    "start_time": "2025-01-15T10:57:11.702Z"
   },
   {
    "duration": 0,
    "start_time": "2025-01-15T10:57:11.703Z"
   },
   {
    "duration": 0,
    "start_time": "2025-01-15T10:57:11.704Z"
   },
   {
    "duration": 0,
    "start_time": "2025-01-15T10:57:11.705Z"
   },
   {
    "duration": 0,
    "start_time": "2025-01-15T10:57:11.706Z"
   },
   {
    "duration": 0,
    "start_time": "2025-01-15T10:57:11.707Z"
   },
   {
    "duration": 0,
    "start_time": "2025-01-15T10:57:11.708Z"
   },
   {
    "duration": 0,
    "start_time": "2025-01-15T10:57:11.709Z"
   },
   {
    "duration": 0,
    "start_time": "2025-01-15T10:57:11.711Z"
   },
   {
    "duration": 0,
    "start_time": "2025-01-15T10:57:11.712Z"
   },
   {
    "duration": 0,
    "start_time": "2025-01-15T10:57:11.713Z"
   },
   {
    "duration": 0,
    "start_time": "2025-01-15T10:57:11.714Z"
   },
   {
    "duration": 0,
    "start_time": "2025-01-15T10:57:11.715Z"
   },
   {
    "duration": 0,
    "start_time": "2025-01-15T10:57:11.717Z"
   },
   {
    "duration": 0,
    "start_time": "2025-01-15T10:57:11.718Z"
   },
   {
    "duration": 13,
    "start_time": "2025-01-15T10:59:19.307Z"
   },
   {
    "duration": 2452,
    "start_time": "2025-01-15T10:59:49.388Z"
   },
   {
    "duration": 1238,
    "start_time": "2025-01-15T10:59:51.843Z"
   },
   {
    "duration": 63,
    "start_time": "2025-01-15T10:59:53.082Z"
   },
   {
    "duration": 16,
    "start_time": "2025-01-15T10:59:53.147Z"
   },
   {
    "duration": 1087,
    "start_time": "2025-01-15T10:59:53.165Z"
   },
   {
    "duration": 117,
    "start_time": "2025-01-15T10:59:54.254Z"
   },
   {
    "duration": 206,
    "start_time": "2025-01-15T10:59:54.373Z"
   },
   {
    "duration": 26,
    "start_time": "2025-01-15T10:59:54.581Z"
   },
   {
    "duration": 154,
    "start_time": "2025-01-15T10:59:54.609Z"
   },
   {
    "duration": 22,
    "start_time": "2025-01-15T10:59:54.767Z"
   },
   {
    "duration": 116,
    "start_time": "2025-01-15T10:59:54.791Z"
   },
   {
    "duration": 15,
    "start_time": "2025-01-15T10:59:54.908Z"
   },
   {
    "duration": 102,
    "start_time": "2025-01-15T10:59:54.924Z"
   },
   {
    "duration": 11,
    "start_time": "2025-01-15T10:59:55.028Z"
   },
   {
    "duration": 361,
    "start_time": "2025-01-15T10:59:55.041Z"
   },
   {
    "duration": 39,
    "start_time": "2025-01-15T10:59:55.404Z"
   },
   {
    "duration": 143,
    "start_time": "2025-01-15T10:59:55.445Z"
   },
   {
    "duration": 213,
    "start_time": "2025-01-15T10:59:55.590Z"
   },
   {
    "duration": 114,
    "start_time": "2025-01-15T10:59:55.805Z"
   },
   {
    "duration": 0,
    "start_time": "2025-01-15T10:59:55.921Z"
   },
   {
    "duration": 0,
    "start_time": "2025-01-15T10:59:55.922Z"
   },
   {
    "duration": 0,
    "start_time": "2025-01-15T10:59:55.923Z"
   },
   {
    "duration": 0,
    "start_time": "2025-01-15T10:59:55.924Z"
   },
   {
    "duration": 0,
    "start_time": "2025-01-15T10:59:55.925Z"
   },
   {
    "duration": 0,
    "start_time": "2025-01-15T10:59:55.926Z"
   },
   {
    "duration": 0,
    "start_time": "2025-01-15T10:59:55.927Z"
   },
   {
    "duration": 0,
    "start_time": "2025-01-15T10:59:55.928Z"
   },
   {
    "duration": 0,
    "start_time": "2025-01-15T10:59:55.929Z"
   },
   {
    "duration": 0,
    "start_time": "2025-01-15T10:59:55.930Z"
   },
   {
    "duration": 0,
    "start_time": "2025-01-15T10:59:55.931Z"
   },
   {
    "duration": 0,
    "start_time": "2025-01-15T10:59:55.933Z"
   },
   {
    "duration": 0,
    "start_time": "2025-01-15T10:59:55.934Z"
   },
   {
    "duration": 0,
    "start_time": "2025-01-15T10:59:55.935Z"
   },
   {
    "duration": 0,
    "start_time": "2025-01-15T10:59:55.936Z"
   },
   {
    "duration": 0,
    "start_time": "2025-01-15T10:59:55.937Z"
   },
   {
    "duration": 0,
    "start_time": "2025-01-15T10:59:55.938Z"
   },
   {
    "duration": 14,
    "start_time": "2025-01-15T11:00:11.152Z"
   },
   {
    "duration": 86,
    "start_time": "2025-01-15T11:03:24.456Z"
   },
   {
    "duration": 78,
    "start_time": "2025-01-15T11:03:32.158Z"
   },
   {
    "duration": 9,
    "start_time": "2025-01-15T11:03:57.235Z"
   },
   {
    "duration": 6,
    "start_time": "2025-01-15T11:04:03.618Z"
   },
   {
    "duration": 2529,
    "start_time": "2025-01-15T11:04:08.177Z"
   },
   {
    "duration": 1261,
    "start_time": "2025-01-15T11:04:10.709Z"
   },
   {
    "duration": 104,
    "start_time": "2025-01-15T11:04:11.971Z"
   },
   {
    "duration": 15,
    "start_time": "2025-01-15T11:04:12.077Z"
   },
   {
    "duration": 914,
    "start_time": "2025-01-15T11:04:12.094Z"
   },
   {
    "duration": 109,
    "start_time": "2025-01-15T11:04:13.010Z"
   },
   {
    "duration": 165,
    "start_time": "2025-01-15T11:04:13.121Z"
   },
   {
    "duration": 25,
    "start_time": "2025-01-15T11:04:13.288Z"
   },
   {
    "duration": 421,
    "start_time": "2025-01-15T11:04:13.315Z"
   },
   {
    "duration": 21,
    "start_time": "2025-01-15T11:04:13.737Z"
   },
   {
    "duration": 66,
    "start_time": "2025-01-15T11:04:13.760Z"
   },
   {
    "duration": 15,
    "start_time": "2025-01-15T11:04:13.827Z"
   },
   {
    "duration": 80,
    "start_time": "2025-01-15T11:04:13.844Z"
   },
   {
    "duration": 11,
    "start_time": "2025-01-15T11:04:13.927Z"
   },
   {
    "duration": 370,
    "start_time": "2025-01-15T11:04:13.940Z"
   },
   {
    "duration": 45,
    "start_time": "2025-01-15T11:04:14.312Z"
   },
   {
    "duration": 61,
    "start_time": "2025-01-15T11:04:14.358Z"
   },
   {
    "duration": 208,
    "start_time": "2025-01-15T11:04:14.420Z"
   },
   {
    "duration": 6,
    "start_time": "2025-01-15T11:04:14.629Z"
   },
   {
    "duration": 8,
    "start_time": "2025-01-15T11:04:14.636Z"
   },
   {
    "duration": 88,
    "start_time": "2025-01-15T11:04:14.646Z"
   },
   {
    "duration": 22,
    "start_time": "2025-01-15T11:04:14.735Z"
   },
   {
    "duration": 87,
    "start_time": "2025-01-15T11:04:14.770Z"
   },
   {
    "duration": 19,
    "start_time": "2025-01-15T11:04:14.858Z"
   },
   {
    "duration": 11,
    "start_time": "2025-01-15T11:04:14.879Z"
   },
   {
    "duration": 49,
    "start_time": "2025-01-15T11:04:14.892Z"
   },
   {
    "duration": 11,
    "start_time": "2025-01-15T11:04:14.943Z"
   },
   {
    "duration": 51,
    "start_time": "2025-01-15T11:04:14.955Z"
   },
   {
    "duration": 12,
    "start_time": "2025-01-15T11:04:15.007Z"
   },
   {
    "duration": 234,
    "start_time": "2025-01-15T11:04:15.020Z"
   },
   {
    "duration": 106,
    "start_time": "2025-01-15T11:04:15.255Z"
   },
   {
    "duration": 16,
    "start_time": "2025-01-15T11:04:15.370Z"
   },
   {
    "duration": 37,
    "start_time": "2025-01-15T11:04:15.387Z"
   },
   {
    "duration": 49,
    "start_time": "2025-01-15T11:04:15.426Z"
   },
   {
    "duration": 138,
    "start_time": "2025-01-15T11:04:15.477Z"
   },
   {
    "duration": 0,
    "start_time": "2025-01-15T11:04:15.617Z"
   },
   {
    "duration": 20,
    "start_time": "2025-01-15T11:04:30.201Z"
   },
   {
    "duration": 19,
    "start_time": "2025-01-15T11:04:54.454Z"
   },
   {
    "duration": 18,
    "start_time": "2025-01-15T11:05:04.318Z"
   },
   {
    "duration": 18,
    "start_time": "2025-01-15T11:05:30.161Z"
   },
   {
    "duration": 17,
    "start_time": "2025-01-15T11:06:24.670Z"
   },
   {
    "duration": 24,
    "start_time": "2025-01-15T11:10:25.768Z"
   },
   {
    "duration": 13,
    "start_time": "2025-01-15T11:10:51.369Z"
   },
   {
    "duration": 67,
    "start_time": "2025-01-15T11:11:00.538Z"
   },
   {
    "duration": 67,
    "start_time": "2025-01-15T11:12:09.604Z"
   },
   {
    "duration": 15,
    "start_time": "2025-01-15T11:15:04.096Z"
   },
   {
    "duration": 13,
    "start_time": "2025-01-15T11:15:23.392Z"
   },
   {
    "duration": 11,
    "start_time": "2025-01-15T11:15:47.319Z"
   },
   {
    "duration": 11,
    "start_time": "2025-01-15T11:16:34.746Z"
   },
   {
    "duration": 19,
    "start_time": "2025-01-15T11:16:48.009Z"
   },
   {
    "duration": 8,
    "start_time": "2025-01-15T11:16:54.338Z"
   },
   {
    "duration": 111,
    "start_time": "2025-01-15T11:23:22.111Z"
   },
   {
    "duration": 12,
    "start_time": "2025-01-15T11:23:32.226Z"
   },
   {
    "duration": 6,
    "start_time": "2025-01-15T11:23:44.570Z"
   },
   {
    "duration": 8,
    "start_time": "2025-01-15T11:24:08.062Z"
   },
   {
    "duration": 12,
    "start_time": "2025-01-15T11:27:44.611Z"
   },
   {
    "duration": 2550,
    "start_time": "2025-01-15T11:27:55.173Z"
   },
   {
    "duration": 1162,
    "start_time": "2025-01-15T11:27:57.725Z"
   },
   {
    "duration": 60,
    "start_time": "2025-01-15T11:27:58.889Z"
   },
   {
    "duration": 53,
    "start_time": "2025-01-15T11:27:58.952Z"
   },
   {
    "duration": 1232,
    "start_time": "2025-01-15T11:27:59.007Z"
   },
   {
    "duration": 107,
    "start_time": "2025-01-15T11:28:00.240Z"
   },
   {
    "duration": 417,
    "start_time": "2025-01-15T11:28:00.348Z"
   },
   {
    "duration": 26,
    "start_time": "2025-01-15T11:28:00.767Z"
   },
   {
    "duration": 246,
    "start_time": "2025-01-15T11:28:00.795Z"
   },
   {
    "duration": 27,
    "start_time": "2025-01-15T11:28:01.044Z"
   },
   {
    "duration": 73,
    "start_time": "2025-01-15T11:28:01.072Z"
   },
   {
    "duration": 15,
    "start_time": "2025-01-15T11:28:01.147Z"
   },
   {
    "duration": 193,
    "start_time": "2025-01-15T11:28:01.164Z"
   },
   {
    "duration": 10,
    "start_time": "2025-01-15T11:28:01.359Z"
   },
   {
    "duration": 581,
    "start_time": "2025-01-15T11:28:01.371Z"
   },
   {
    "duration": 47,
    "start_time": "2025-01-15T11:28:01.954Z"
   },
   {
    "duration": 47,
    "start_time": "2025-01-15T11:28:02.002Z"
   },
   {
    "duration": 187,
    "start_time": "2025-01-15T11:28:02.051Z"
   },
   {
    "duration": 6,
    "start_time": "2025-01-15T11:28:02.240Z"
   },
   {
    "duration": 40,
    "start_time": "2025-01-15T11:28:02.247Z"
   },
   {
    "duration": 93,
    "start_time": "2025-01-15T11:28:02.289Z"
   },
   {
    "duration": 21,
    "start_time": "2025-01-15T11:28:02.383Z"
   },
   {
    "duration": 55,
    "start_time": "2025-01-15T11:28:02.406Z"
   },
   {
    "duration": 55,
    "start_time": "2025-01-15T11:28:02.462Z"
   },
   {
    "duration": 30,
    "start_time": "2025-01-15T11:28:02.518Z"
   },
   {
    "duration": 65,
    "start_time": "2025-01-15T11:28:02.550Z"
   },
   {
    "duration": 25,
    "start_time": "2025-01-15T11:28:02.617Z"
   },
   {
    "duration": 84,
    "start_time": "2025-01-15T11:28:02.645Z"
   },
   {
    "duration": 11,
    "start_time": "2025-01-15T11:28:02.731Z"
   },
   {
    "duration": 182,
    "start_time": "2025-01-15T11:28:02.743Z"
   },
   {
    "duration": 110,
    "start_time": "2025-01-15T11:28:02.927Z"
   },
   {
    "duration": 17,
    "start_time": "2025-01-15T11:28:03.039Z"
   },
   {
    "duration": 46,
    "start_time": "2025-01-15T11:28:03.057Z"
   },
   {
    "duration": 82,
    "start_time": "2025-01-15T11:28:03.104Z"
   },
   {
    "duration": 14,
    "start_time": "2025-01-15T11:28:03.188Z"
   },
   {
    "duration": 108,
    "start_time": "2025-01-15T11:28:03.203Z"
   },
   {
    "duration": 9,
    "start_time": "2025-01-15T11:30:40.401Z"
   },
   {
    "duration": 2476,
    "start_time": "2025-01-15T12:16:00.335Z"
   },
   {
    "duration": 1170,
    "start_time": "2025-01-15T12:16:02.814Z"
   },
   {
    "duration": 64,
    "start_time": "2025-01-15T12:16:03.985Z"
   },
   {
    "duration": 16,
    "start_time": "2025-01-15T12:16:04.051Z"
   },
   {
    "duration": 1014,
    "start_time": "2025-01-15T12:16:04.069Z"
   },
   {
    "duration": 104,
    "start_time": "2025-01-15T12:16:05.084Z"
   },
   {
    "duration": 226,
    "start_time": "2025-01-15T12:16:05.190Z"
   },
   {
    "duration": 27,
    "start_time": "2025-01-15T12:16:05.417Z"
   },
   {
    "duration": 227,
    "start_time": "2025-01-15T12:16:05.446Z"
   },
   {
    "duration": 22,
    "start_time": "2025-01-15T12:16:05.675Z"
   },
   {
    "duration": 208,
    "start_time": "2025-01-15T12:16:05.698Z"
   },
   {
    "duration": 15,
    "start_time": "2025-01-15T12:16:05.908Z"
   },
   {
    "duration": 129,
    "start_time": "2025-01-15T12:16:05.925Z"
   },
   {
    "duration": 11,
    "start_time": "2025-01-15T12:16:06.057Z"
   },
   {
    "duration": 345,
    "start_time": "2025-01-15T12:16:06.069Z"
   },
   {
    "duration": 44,
    "start_time": "2025-01-15T12:16:06.415Z"
   },
   {
    "duration": 56,
    "start_time": "2025-01-15T12:16:06.471Z"
   },
   {
    "duration": 113,
    "start_time": "2025-01-15T12:16:06.529Z"
   },
   {
    "duration": 0,
    "start_time": "2025-01-15T12:16:06.644Z"
   },
   {
    "duration": 0,
    "start_time": "2025-01-15T12:16:06.645Z"
   },
   {
    "duration": 0,
    "start_time": "2025-01-15T12:16:06.646Z"
   },
   {
    "duration": 0,
    "start_time": "2025-01-15T12:16:06.647Z"
   },
   {
    "duration": 0,
    "start_time": "2025-01-15T12:16:06.649Z"
   },
   {
    "duration": 0,
    "start_time": "2025-01-15T12:16:06.650Z"
   },
   {
    "duration": 0,
    "start_time": "2025-01-15T12:16:06.651Z"
   },
   {
    "duration": 0,
    "start_time": "2025-01-15T12:16:06.652Z"
   },
   {
    "duration": 0,
    "start_time": "2025-01-15T12:16:06.652Z"
   },
   {
    "duration": 0,
    "start_time": "2025-01-15T12:16:06.671Z"
   },
   {
    "duration": 0,
    "start_time": "2025-01-15T12:16:06.672Z"
   },
   {
    "duration": 0,
    "start_time": "2025-01-15T12:16:06.674Z"
   },
   {
    "duration": 0,
    "start_time": "2025-01-15T12:16:06.675Z"
   },
   {
    "duration": 0,
    "start_time": "2025-01-15T12:16:06.676Z"
   },
   {
    "duration": 0,
    "start_time": "2025-01-15T12:16:06.677Z"
   },
   {
    "duration": 0,
    "start_time": "2025-01-15T12:16:06.678Z"
   },
   {
    "duration": 0,
    "start_time": "2025-01-15T12:16:06.680Z"
   },
   {
    "duration": 0,
    "start_time": "2025-01-15T12:16:06.681Z"
   },
   {
    "duration": 11,
    "start_time": "2025-01-15T12:16:33.004Z"
   },
   {
    "duration": 163,
    "start_time": "2025-01-15T12:16:40.371Z"
   },
   {
    "duration": 2533,
    "start_time": "2025-01-15T12:16:44.699Z"
   },
   {
    "duration": 1262,
    "start_time": "2025-01-15T12:16:47.234Z"
   },
   {
    "duration": 69,
    "start_time": "2025-01-15T12:16:48.498Z"
   },
   {
    "duration": 15,
    "start_time": "2025-01-15T12:16:48.568Z"
   },
   {
    "duration": 976,
    "start_time": "2025-01-15T12:16:48.585Z"
   },
   {
    "duration": 108,
    "start_time": "2025-01-15T12:16:49.563Z"
   },
   {
    "duration": 376,
    "start_time": "2025-01-15T12:16:49.673Z"
   },
   {
    "duration": 28,
    "start_time": "2025-01-15T12:16:50.051Z"
   },
   {
    "duration": 195,
    "start_time": "2025-01-15T12:16:50.080Z"
   },
   {
    "duration": 21,
    "start_time": "2025-01-15T12:16:50.277Z"
   },
   {
    "duration": 59,
    "start_time": "2025-01-15T12:16:50.300Z"
   },
   {
    "duration": 15,
    "start_time": "2025-01-15T12:16:50.360Z"
   },
   {
    "duration": 101,
    "start_time": "2025-01-15T12:16:50.377Z"
   },
   {
    "duration": 11,
    "start_time": "2025-01-15T12:16:50.481Z"
   },
   {
    "duration": 438,
    "start_time": "2025-01-15T12:16:50.494Z"
   },
   {
    "duration": 48,
    "start_time": "2025-01-15T12:16:50.934Z"
   },
   {
    "duration": 53,
    "start_time": "2025-01-15T12:16:50.984Z"
   },
   {
    "duration": 194,
    "start_time": "2025-01-15T12:16:51.039Z"
   },
   {
    "duration": 5,
    "start_time": "2025-01-15T12:16:51.235Z"
   },
   {
    "duration": 119,
    "start_time": "2025-01-15T12:16:51.241Z"
   },
   {
    "duration": 0,
    "start_time": "2025-01-15T12:16:51.362Z"
   },
   {
    "duration": 0,
    "start_time": "2025-01-15T12:16:51.363Z"
   },
   {
    "duration": 0,
    "start_time": "2025-01-15T12:16:51.364Z"
   },
   {
    "duration": 0,
    "start_time": "2025-01-15T12:16:51.370Z"
   },
   {
    "duration": 0,
    "start_time": "2025-01-15T12:16:51.371Z"
   },
   {
    "duration": 0,
    "start_time": "2025-01-15T12:16:51.372Z"
   },
   {
    "duration": 0,
    "start_time": "2025-01-15T12:16:51.374Z"
   },
   {
    "duration": 0,
    "start_time": "2025-01-15T12:16:51.376Z"
   },
   {
    "duration": 0,
    "start_time": "2025-01-15T12:16:51.377Z"
   },
   {
    "duration": 0,
    "start_time": "2025-01-15T12:16:51.378Z"
   },
   {
    "duration": 0,
    "start_time": "2025-01-15T12:16:51.379Z"
   },
   {
    "duration": 0,
    "start_time": "2025-01-15T12:16:51.380Z"
   },
   {
    "duration": 0,
    "start_time": "2025-01-15T12:16:51.381Z"
   },
   {
    "duration": 0,
    "start_time": "2025-01-15T12:16:51.383Z"
   },
   {
    "duration": 0,
    "start_time": "2025-01-15T12:16:51.383Z"
   },
   {
    "duration": 0,
    "start_time": "2025-01-15T12:16:51.385Z"
   },
   {
    "duration": 9,
    "start_time": "2025-01-15T12:17:10.303Z"
   },
   {
    "duration": 2497,
    "start_time": "2025-01-15T12:17:16.686Z"
   },
   {
    "duration": 1204,
    "start_time": "2025-01-15T12:17:19.186Z"
   },
   {
    "duration": 69,
    "start_time": "2025-01-15T12:17:20.391Z"
   },
   {
    "duration": 15,
    "start_time": "2025-01-15T12:17:20.461Z"
   },
   {
    "duration": 977,
    "start_time": "2025-01-15T12:17:20.478Z"
   },
   {
    "duration": 114,
    "start_time": "2025-01-15T12:17:21.457Z"
   },
   {
    "duration": 289,
    "start_time": "2025-01-15T12:17:21.573Z"
   },
   {
    "duration": 30,
    "start_time": "2025-01-15T12:17:21.864Z"
   },
   {
    "duration": 195,
    "start_time": "2025-01-15T12:17:21.896Z"
   },
   {
    "duration": 23,
    "start_time": "2025-01-15T12:17:22.093Z"
   },
   {
    "duration": 198,
    "start_time": "2025-01-15T12:17:22.118Z"
   },
   {
    "duration": 15,
    "start_time": "2025-01-15T12:17:22.318Z"
   },
   {
    "duration": 86,
    "start_time": "2025-01-15T12:17:22.335Z"
   },
   {
    "duration": 11,
    "start_time": "2025-01-15T12:17:22.424Z"
   },
   {
    "duration": 402,
    "start_time": "2025-01-15T12:17:22.437Z"
   },
   {
    "duration": 43,
    "start_time": "2025-01-15T12:17:22.841Z"
   },
   {
    "duration": 54,
    "start_time": "2025-01-15T12:17:22.886Z"
   },
   {
    "duration": 212,
    "start_time": "2025-01-15T12:17:22.942Z"
   },
   {
    "duration": 7,
    "start_time": "2025-01-15T12:17:23.156Z"
   },
   {
    "duration": 91,
    "start_time": "2025-01-15T12:17:23.171Z"
   },
   {
    "duration": 89,
    "start_time": "2025-01-15T12:17:23.264Z"
   },
   {
    "duration": 23,
    "start_time": "2025-01-15T12:17:23.356Z"
   },
   {
    "duration": 13,
    "start_time": "2025-01-15T12:17:23.382Z"
   },
   {
    "duration": 9,
    "start_time": "2025-01-15T12:17:23.396Z"
   },
   {
    "duration": 26,
    "start_time": "2025-01-15T12:17:23.406Z"
   },
   {
    "duration": 57,
    "start_time": "2025-01-15T12:17:23.434Z"
   },
   {
    "duration": 32,
    "start_time": "2025-01-15T12:17:23.492Z"
   },
   {
    "duration": 46,
    "start_time": "2025-01-15T12:17:23.526Z"
   },
   {
    "duration": 52,
    "start_time": "2025-01-15T12:17:23.573Z"
   },
   {
    "duration": 330,
    "start_time": "2025-01-15T12:17:23.627Z"
   },
   {
    "duration": 106,
    "start_time": "2025-01-15T12:17:23.958Z"
   },
   {
    "duration": 20,
    "start_time": "2025-01-15T12:17:24.070Z"
   },
   {
    "duration": 97,
    "start_time": "2025-01-15T12:17:24.092Z"
   },
   {
    "duration": 104,
    "start_time": "2025-01-15T12:17:24.191Z"
   },
   {
    "duration": 12,
    "start_time": "2025-01-15T12:17:24.297Z"
   },
   {
    "duration": 21,
    "start_time": "2025-01-15T12:17:24.311Z"
   },
   {
    "duration": 5,
    "start_time": "2025-01-15T12:22:49.958Z"
   },
   {
    "duration": 117,
    "start_time": "2025-01-15T12:23:04.086Z"
   },
   {
    "duration": 48,
    "start_time": "2025-01-15T12:23:18.438Z"
   },
   {
    "duration": 2563,
    "start_time": "2025-01-15T12:24:43.927Z"
   },
   {
    "duration": 1185,
    "start_time": "2025-01-15T12:24:46.493Z"
   },
   {
    "duration": 54,
    "start_time": "2025-01-15T12:24:47.680Z"
   },
   {
    "duration": 17,
    "start_time": "2025-01-15T12:24:47.736Z"
   },
   {
    "duration": 1017,
    "start_time": "2025-01-15T12:24:47.756Z"
   },
   {
    "duration": 105,
    "start_time": "2025-01-15T12:24:48.775Z"
   },
   {
    "duration": 347,
    "start_time": "2025-01-15T12:24:48.881Z"
   },
   {
    "duration": 42,
    "start_time": "2025-01-15T12:24:49.230Z"
   },
   {
    "duration": 232,
    "start_time": "2025-01-15T12:24:49.273Z"
   },
   {
    "duration": 22,
    "start_time": "2025-01-15T12:24:49.506Z"
   },
   {
    "duration": 72,
    "start_time": "2025-01-15T12:24:49.530Z"
   },
   {
    "duration": 15,
    "start_time": "2025-01-15T12:24:49.603Z"
   },
   {
    "duration": 251,
    "start_time": "2025-01-15T12:24:49.619Z"
   },
   {
    "duration": 11,
    "start_time": "2025-01-15T12:24:49.873Z"
   },
   {
    "duration": 351,
    "start_time": "2025-01-15T12:24:49.886Z"
   },
   {
    "duration": 48,
    "start_time": "2025-01-15T12:24:50.239Z"
   },
   {
    "duration": 55,
    "start_time": "2025-01-15T12:24:50.289Z"
   },
   {
    "duration": 177,
    "start_time": "2025-01-15T12:24:50.346Z"
   },
   {
    "duration": 6,
    "start_time": "2025-01-15T12:24:50.524Z"
   },
   {
    "duration": 18,
    "start_time": "2025-01-15T12:24:50.532Z"
   },
   {
    "duration": 86,
    "start_time": "2025-01-15T12:24:50.551Z"
   },
   {
    "duration": 36,
    "start_time": "2025-01-15T12:24:50.639Z"
   },
   {
    "duration": 17,
    "start_time": "2025-01-15T12:24:50.677Z"
   },
   {
    "duration": 30,
    "start_time": "2025-01-15T12:24:50.696Z"
   },
   {
    "duration": 32,
    "start_time": "2025-01-15T12:24:50.727Z"
   },
   {
    "duration": 42,
    "start_time": "2025-01-15T12:24:50.761Z"
   },
   {
    "duration": 13,
    "start_time": "2025-01-15T12:24:50.805Z"
   },
   {
    "duration": 56,
    "start_time": "2025-01-15T12:24:50.819Z"
   },
   {
    "duration": 13,
    "start_time": "2025-01-15T12:24:50.877Z"
   },
   {
    "duration": 195,
    "start_time": "2025-01-15T12:24:50.892Z"
   },
   {
    "duration": 110,
    "start_time": "2025-01-15T12:24:51.089Z"
   },
   {
    "duration": 16,
    "start_time": "2025-01-15T12:24:51.200Z"
   },
   {
    "duration": 119,
    "start_time": "2025-01-15T12:24:51.218Z"
   },
   {
    "duration": 78,
    "start_time": "2025-01-15T12:24:51.339Z"
   },
   {
    "duration": 14,
    "start_time": "2025-01-15T12:24:51.419Z"
   },
   {
    "duration": 72,
    "start_time": "2025-01-15T12:24:51.435Z"
   },
   {
    "duration": 95,
    "start_time": "2025-01-15T12:29:22.088Z"
   },
   {
    "duration": 3,
    "start_time": "2025-01-15T12:29:33.221Z"
   },
   {
    "duration": 93,
    "start_time": "2025-01-15T12:35:49.538Z"
   },
   {
    "duration": 56,
    "start_time": "2025-01-15T12:39:37.724Z"
   },
   {
    "duration": 34,
    "start_time": "2025-01-15T12:39:55.270Z"
   },
   {
    "duration": 58,
    "start_time": "2025-01-15T12:40:10.771Z"
   },
   {
    "duration": 34,
    "start_time": "2025-01-15T12:40:24.437Z"
   },
   {
    "duration": 8,
    "start_time": "2025-01-15T12:40:46.905Z"
   },
   {
    "duration": 109,
    "start_time": "2025-01-15T12:41:29.040Z"
   },
   {
    "duration": 10,
    "start_time": "2025-01-15T12:45:06.461Z"
   },
   {
    "duration": 28,
    "start_time": "2025-01-15T12:45:17.770Z"
   },
   {
    "duration": 9,
    "start_time": "2025-01-15T12:45:34.464Z"
   },
   {
    "duration": 87,
    "start_time": "2025-01-15T12:46:49.737Z"
   },
   {
    "duration": 55,
    "start_time": "2025-01-15T12:47:38.320Z"
   },
   {
    "duration": 112,
    "start_time": "2025-01-15T12:49:14.112Z"
   },
   {
    "duration": 87,
    "start_time": "2025-01-15T12:49:41.814Z"
   },
   {
    "duration": 9,
    "start_time": "2025-01-15T12:52:19.992Z"
   },
   {
    "duration": 85,
    "start_time": "2025-01-15T12:52:27.937Z"
   },
   {
    "duration": 86,
    "start_time": "2025-01-15T12:52:48.697Z"
   },
   {
    "duration": 37,
    "start_time": "2025-01-15T13:19:03.089Z"
   },
   {
    "duration": 2469,
    "start_time": "2025-01-15T13:21:21.269Z"
   },
   {
    "duration": 1303,
    "start_time": "2025-01-15T13:21:23.741Z"
   },
   {
    "duration": 379,
    "start_time": "2025-01-15T13:21:25.046Z"
   },
   {
    "duration": 16,
    "start_time": "2025-01-15T13:21:25.427Z"
   },
   {
    "duration": 1144,
    "start_time": "2025-01-15T13:21:25.446Z"
   },
   {
    "duration": 111,
    "start_time": "2025-01-15T13:21:26.592Z"
   },
   {
    "duration": 247,
    "start_time": "2025-01-15T13:21:26.705Z"
   },
   {
    "duration": 25,
    "start_time": "2025-01-15T13:21:26.954Z"
   },
   {
    "duration": 215,
    "start_time": "2025-01-15T13:21:26.981Z"
   },
   {
    "duration": 20,
    "start_time": "2025-01-15T13:21:27.198Z"
   },
   {
    "duration": 80,
    "start_time": "2025-01-15T13:21:27.220Z"
   },
   {
    "duration": 15,
    "start_time": "2025-01-15T13:21:27.302Z"
   },
   {
    "duration": 109,
    "start_time": "2025-01-15T13:21:27.318Z"
   },
   {
    "duration": 10,
    "start_time": "2025-01-15T13:21:27.430Z"
   },
   {
    "duration": 412,
    "start_time": "2025-01-15T13:21:27.442Z"
   },
   {
    "duration": 44,
    "start_time": "2025-01-15T13:21:27.856Z"
   },
   {
    "duration": 122,
    "start_time": "2025-01-15T13:21:27.902Z"
   },
   {
    "duration": 205,
    "start_time": "2025-01-15T13:21:28.026Z"
   },
   {
    "duration": 6,
    "start_time": "2025-01-15T13:21:28.232Z"
   },
   {
    "duration": 12,
    "start_time": "2025-01-15T13:21:28.239Z"
   },
   {
    "duration": 85,
    "start_time": "2025-01-15T13:21:28.253Z"
   },
   {
    "duration": 34,
    "start_time": "2025-01-15T13:21:28.339Z"
   },
   {
    "duration": 13,
    "start_time": "2025-01-15T13:21:28.375Z"
   },
   {
    "duration": 12,
    "start_time": "2025-01-15T13:21:28.390Z"
   },
   {
    "duration": 6,
    "start_time": "2025-01-15T13:21:28.404Z"
   },
   {
    "duration": 62,
    "start_time": "2025-01-15T13:21:28.412Z"
   },
   {
    "duration": 11,
    "start_time": "2025-01-15T13:21:28.475Z"
   },
   {
    "duration": 49,
    "start_time": "2025-01-15T13:21:28.487Z"
   },
   {
    "duration": 10,
    "start_time": "2025-01-15T13:21:28.538Z"
   },
   {
    "duration": 202,
    "start_time": "2025-01-15T13:21:28.550Z"
   },
   {
    "duration": 109,
    "start_time": "2025-01-15T13:21:28.753Z"
   },
   {
    "duration": 20,
    "start_time": "2025-01-15T13:21:28.864Z"
   },
   {
    "duration": 17,
    "start_time": "2025-01-15T13:21:28.886Z"
   },
   {
    "duration": 75,
    "start_time": "2025-01-15T13:21:28.905Z"
   },
   {
    "duration": 12,
    "start_time": "2025-01-15T13:21:28.982Z"
   },
   {
    "duration": 13,
    "start_time": "2025-01-15T13:21:28.996Z"
   },
   {
    "duration": 41,
    "start_time": "2025-01-15T13:21:29.011Z"
   },
   {
    "duration": 2563,
    "start_time": "2025-01-15T13:22:15.283Z"
   },
   {
    "duration": 1258,
    "start_time": "2025-01-15T13:22:17.848Z"
   },
   {
    "duration": 82,
    "start_time": "2025-01-15T13:22:19.107Z"
   },
   {
    "duration": 15,
    "start_time": "2025-01-15T13:22:19.191Z"
   },
   {
    "duration": 1070,
    "start_time": "2025-01-15T13:22:19.208Z"
   },
   {
    "duration": 121,
    "start_time": "2025-01-15T13:22:20.280Z"
   },
   {
    "duration": 230,
    "start_time": "2025-01-15T13:22:20.403Z"
   },
   {
    "duration": 36,
    "start_time": "2025-01-15T13:22:20.634Z"
   },
   {
    "duration": 174,
    "start_time": "2025-01-15T13:22:20.672Z"
   },
   {
    "duration": 25,
    "start_time": "2025-01-15T13:22:20.848Z"
   },
   {
    "duration": 130,
    "start_time": "2025-01-15T13:22:20.875Z"
   },
   {
    "duration": 15,
    "start_time": "2025-01-15T13:22:21.007Z"
   },
   {
    "duration": 127,
    "start_time": "2025-01-15T13:22:21.024Z"
   },
   {
    "duration": 11,
    "start_time": "2025-01-15T13:22:21.155Z"
   },
   {
    "duration": 371,
    "start_time": "2025-01-15T13:22:21.167Z"
   },
   {
    "duration": 47,
    "start_time": "2025-01-15T13:22:21.540Z"
   },
   {
    "duration": 61,
    "start_time": "2025-01-15T13:22:21.589Z"
   },
   {
    "duration": 186,
    "start_time": "2025-01-15T13:22:21.652Z"
   },
   {
    "duration": 5,
    "start_time": "2025-01-15T13:22:21.840Z"
   },
   {
    "duration": 23,
    "start_time": "2025-01-15T13:22:21.847Z"
   },
   {
    "duration": 93,
    "start_time": "2025-01-15T13:22:21.872Z"
   },
   {
    "duration": 24,
    "start_time": "2025-01-15T13:22:21.967Z"
   },
   {
    "duration": 89,
    "start_time": "2025-01-15T13:22:21.992Z"
   },
   {
    "duration": 51,
    "start_time": "2025-01-15T13:22:22.082Z"
   },
   {
    "duration": 19,
    "start_time": "2025-01-15T13:22:22.135Z"
   },
   {
    "duration": 42,
    "start_time": "2025-01-15T13:22:22.156Z"
   },
   {
    "duration": 51,
    "start_time": "2025-01-15T13:22:22.200Z"
   },
   {
    "duration": 58,
    "start_time": "2025-01-15T13:22:22.253Z"
   },
   {
    "duration": 11,
    "start_time": "2025-01-15T13:22:22.313Z"
   },
   {
    "duration": 197,
    "start_time": "2025-01-15T13:22:22.325Z"
   },
   {
    "duration": 111,
    "start_time": "2025-01-15T13:22:22.524Z"
   },
   {
    "duration": 16,
    "start_time": "2025-01-15T13:22:22.637Z"
   },
   {
    "duration": 28,
    "start_time": "2025-01-15T13:22:22.655Z"
   },
   {
    "duration": 68,
    "start_time": "2025-01-15T13:22:22.685Z"
   },
   {
    "duration": 26,
    "start_time": "2025-01-15T13:22:22.754Z"
   },
   {
    "duration": 14,
    "start_time": "2025-01-15T13:22:22.782Z"
   },
   {
    "duration": 63,
    "start_time": "2025-01-15T13:22:22.798Z"
   },
   {
    "duration": 116,
    "start_time": "2025-01-15T13:23:15.817Z"
   },
   {
    "duration": 0,
    "start_time": "2025-01-15T13:23:15.935Z"
   },
   {
    "duration": 0,
    "start_time": "2025-01-15T13:23:15.936Z"
   },
   {
    "duration": 0,
    "start_time": "2025-01-15T13:23:15.938Z"
   },
   {
    "duration": 0,
    "start_time": "2025-01-15T13:23:15.939Z"
   },
   {
    "duration": 0,
    "start_time": "2025-01-15T13:23:15.940Z"
   },
   {
    "duration": 0,
    "start_time": "2025-01-15T13:23:15.941Z"
   },
   {
    "duration": 40,
    "start_time": "2025-01-15T13:23:24.787Z"
   },
   {
    "duration": 52747,
    "start_time": "2025-01-15T13:23:25.711Z"
   },
   {
    "duration": 2399,
    "start_time": "2025-01-15T19:52:41.570Z"
   },
   {
    "duration": 1163,
    "start_time": "2025-01-15T19:52:43.972Z"
   },
   {
    "duration": 64,
    "start_time": "2025-01-15T19:52:45.136Z"
   },
   {
    "duration": 17,
    "start_time": "2025-01-15T19:52:45.201Z"
   },
   {
    "duration": 1011,
    "start_time": "2025-01-15T19:52:45.220Z"
   },
   {
    "duration": 110,
    "start_time": "2025-01-15T19:52:46.233Z"
   },
   {
    "duration": 435,
    "start_time": "2025-01-15T19:52:46.344Z"
   },
   {
    "duration": 27,
    "start_time": "2025-01-15T19:52:46.781Z"
   },
   {
    "duration": 223,
    "start_time": "2025-01-15T19:52:46.810Z"
   },
   {
    "duration": 21,
    "start_time": "2025-01-15T19:52:47.034Z"
   },
   {
    "duration": 127,
    "start_time": "2025-01-15T19:52:47.057Z"
   },
   {
    "duration": 14,
    "start_time": "2025-01-15T19:52:47.186Z"
   },
   {
    "duration": 86,
    "start_time": "2025-01-15T19:52:47.202Z"
   },
   {
    "duration": 11,
    "start_time": "2025-01-15T19:52:47.291Z"
   },
   {
    "duration": 376,
    "start_time": "2025-01-15T19:52:47.303Z"
   },
   {
    "duration": 40,
    "start_time": "2025-01-15T19:52:47.681Z"
   },
   {
    "duration": 44,
    "start_time": "2025-01-15T19:52:47.724Z"
   },
   {
    "duration": 192,
    "start_time": "2025-01-15T19:52:47.770Z"
   },
   {
    "duration": 6,
    "start_time": "2025-01-15T19:52:47.964Z"
   },
   {
    "duration": 12,
    "start_time": "2025-01-15T19:52:47.972Z"
   },
   {
    "duration": 96,
    "start_time": "2025-01-15T19:52:47.986Z"
   },
   {
    "duration": 21,
    "start_time": "2025-01-15T19:52:48.083Z"
   },
   {
    "duration": 12,
    "start_time": "2025-01-15T19:52:48.106Z"
   },
   {
    "duration": 23,
    "start_time": "2025-01-15T19:52:48.120Z"
   },
   {
    "duration": 13,
    "start_time": "2025-01-15T19:52:48.144Z"
   },
   {
    "duration": 39,
    "start_time": "2025-01-15T19:52:48.158Z"
   },
   {
    "duration": 22,
    "start_time": "2025-01-15T19:52:48.199Z"
   },
   {
    "duration": 66,
    "start_time": "2025-01-15T19:52:48.224Z"
   },
   {
    "duration": 12,
    "start_time": "2025-01-15T19:52:48.292Z"
   },
   {
    "duration": 196,
    "start_time": "2025-01-15T19:52:48.305Z"
   },
   {
    "duration": 112,
    "start_time": "2025-01-15T19:52:48.503Z"
   },
   {
    "duration": 21,
    "start_time": "2025-01-15T19:52:48.617Z"
   },
   {
    "duration": 13,
    "start_time": "2025-01-15T19:52:48.640Z"
   },
   {
    "duration": 67,
    "start_time": "2025-01-15T19:52:48.654Z"
   },
   {
    "duration": 27,
    "start_time": "2025-01-15T19:52:48.723Z"
   },
   {
    "duration": 9,
    "start_time": "2025-01-15T19:52:48.752Z"
   },
   {
    "duration": 44,
    "start_time": "2025-01-15T19:52:48.763Z"
   },
   {
    "duration": 0,
    "start_time": "2025-01-15T19:53:20.872Z"
   },
   {
    "duration": 0,
    "start_time": "2025-01-15T19:53:20.873Z"
   },
   {
    "duration": 0,
    "start_time": "2025-01-15T19:53:20.874Z"
   },
   {
    "duration": 37,
    "start_time": "2025-01-15T19:53:21.927Z"
   },
   {
    "duration": 2384,
    "start_time": "2025-01-15T19:53:22.835Z"
   },
   {
    "duration": 1915,
    "start_time": "2025-01-15T19:53:29.509Z"
   },
   {
    "duration": 39,
    "start_time": "2025-01-15T19:53:47.217Z"
   },
   {
    "duration": 20559,
    "start_time": "2025-01-15T19:53:47.795Z"
   },
   {
    "duration": 0,
    "start_time": "2025-01-15T19:54:08.355Z"
   },
   {
    "duration": 6,
    "start_time": "2025-01-15T19:54:09.311Z"
   },
   {
    "duration": 40,
    "start_time": "2025-01-15T19:54:58.060Z"
   },
   {
    "duration": 5,
    "start_time": "2025-01-15T19:55:49.441Z"
   },
   {
    "duration": 0,
    "start_time": "2025-01-15T19:55:59.738Z"
   },
   {
    "duration": 0,
    "start_time": "2025-01-15T19:55:59.740Z"
   },
   {
    "duration": 0,
    "start_time": "2025-01-15T19:55:59.741Z"
   },
   {
    "duration": 38,
    "start_time": "2025-01-15T19:56:01.044Z"
   },
   {
    "duration": 6093,
    "start_time": "2025-01-15T19:56:03.463Z"
   },
   {
    "duration": 0,
    "start_time": "2025-01-15T19:56:09.558Z"
   },
   {
    "duration": 3684,
    "start_time": "2025-01-15T19:56:15.677Z"
   },
   {
    "duration": 0,
    "start_time": "2025-01-15T19:56:19.362Z"
   },
   {
    "duration": 3201,
    "start_time": "2025-01-15T19:57:24.986Z"
   },
   {
    "duration": 2449,
    "start_time": "2025-01-15T19:58:57.156Z"
   },
   {
    "duration": 1250,
    "start_time": "2025-01-15T19:58:59.608Z"
   },
   {
    "duration": 66,
    "start_time": "2025-01-15T19:59:00.859Z"
   },
   {
    "duration": 16,
    "start_time": "2025-01-15T19:59:00.926Z"
   },
   {
    "duration": 1006,
    "start_time": "2025-01-15T19:59:00.944Z"
   },
   {
    "duration": 107,
    "start_time": "2025-01-15T19:59:01.952Z"
   },
   {
    "duration": 209,
    "start_time": "2025-01-15T19:59:02.060Z"
   },
   {
    "duration": 27,
    "start_time": "2025-01-15T19:59:02.270Z"
   },
   {
    "duration": 211,
    "start_time": "2025-01-15T19:59:02.298Z"
   },
   {
    "duration": 31,
    "start_time": "2025-01-15T19:59:02.511Z"
   },
   {
    "duration": 65,
    "start_time": "2025-01-15T19:59:02.543Z"
   },
   {
    "duration": 19,
    "start_time": "2025-01-15T19:59:02.610Z"
   },
   {
    "duration": 144,
    "start_time": "2025-01-15T19:59:02.631Z"
   },
   {
    "duration": 12,
    "start_time": "2025-01-15T19:59:02.779Z"
   },
   {
    "duration": 420,
    "start_time": "2025-01-15T19:59:02.793Z"
   },
   {
    "duration": 40,
    "start_time": "2025-01-15T19:59:03.215Z"
   },
   {
    "duration": 77,
    "start_time": "2025-01-15T19:59:03.256Z"
   },
   {
    "duration": 163,
    "start_time": "2025-01-15T19:59:03.335Z"
   },
   {
    "duration": 5,
    "start_time": "2025-01-15T19:59:03.499Z"
   },
   {
    "duration": 13,
    "start_time": "2025-01-15T19:59:03.506Z"
   },
   {
    "duration": 83,
    "start_time": "2025-01-15T19:59:03.520Z"
   },
   {
    "duration": 19,
    "start_time": "2025-01-15T19:59:03.605Z"
   },
   {
    "duration": 11,
    "start_time": "2025-01-15T19:59:03.637Z"
   },
   {
    "duration": 25,
    "start_time": "2025-01-15T19:59:03.650Z"
   },
   {
    "duration": 18,
    "start_time": "2025-01-15T19:59:03.677Z"
   },
   {
    "duration": 35,
    "start_time": "2025-01-15T19:59:03.697Z"
   },
   {
    "duration": 20,
    "start_time": "2025-01-15T19:59:03.734Z"
   },
   {
    "duration": 65,
    "start_time": "2025-01-15T19:59:03.756Z"
   },
   {
    "duration": 10,
    "start_time": "2025-01-15T19:59:03.822Z"
   },
   {
    "duration": 177,
    "start_time": "2025-01-15T19:59:03.834Z"
   },
   {
    "duration": 103,
    "start_time": "2025-01-15T19:59:04.013Z"
   },
   {
    "duration": 20,
    "start_time": "2025-01-15T19:59:04.118Z"
   },
   {
    "duration": 39,
    "start_time": "2025-01-15T19:59:04.140Z"
   },
   {
    "duration": 61,
    "start_time": "2025-01-15T19:59:04.180Z"
   },
   {
    "duration": 12,
    "start_time": "2025-01-15T19:59:04.243Z"
   },
   {
    "duration": 26,
    "start_time": "2025-01-15T19:59:04.256Z"
   },
   {
    "duration": 45,
    "start_time": "2025-01-15T19:59:04.284Z"
   },
   {
    "duration": 0,
    "start_time": "2025-01-15T19:59:15.470Z"
   },
   {
    "duration": 0,
    "start_time": "2025-01-15T19:59:15.471Z"
   },
   {
    "duration": 0,
    "start_time": "2025-01-15T19:59:26.261Z"
   },
   {
    "duration": 0,
    "start_time": "2025-01-15T19:59:26.262Z"
   },
   {
    "duration": 12143,
    "start_time": "2025-01-15T19:59:27.265Z"
   },
   {
    "duration": 0,
    "start_time": "2025-01-15T19:59:39.411Z"
   },
   {
    "duration": 5,
    "start_time": "2025-01-15T19:59:41.295Z"
   },
   {
    "duration": 2653,
    "start_time": "2025-01-15T19:59:44.413Z"
   },
   {
    "duration": 16,
    "start_time": "2025-01-15T20:00:52.433Z"
   },
   {
    "duration": 13,
    "start_time": "2025-01-15T20:00:58.819Z"
   },
   {
    "duration": 5,
    "start_time": "2025-01-15T20:01:16.310Z"
   },
   {
    "duration": 13,
    "start_time": "2025-01-15T20:02:14.760Z"
   },
   {
    "duration": 10,
    "start_time": "2025-01-15T20:02:31.802Z"
   },
   {
    "duration": 14,
    "start_time": "2025-01-15T20:02:49.613Z"
   },
   {
    "duration": 6,
    "start_time": "2025-01-15T20:03:09.041Z"
   },
   {
    "duration": 2767,
    "start_time": "2025-01-15T20:03:47.074Z"
   },
   {
    "duration": 2021,
    "start_time": "2025-01-15T20:03:56.974Z"
   },
   {
    "duration": 5,
    "start_time": "2025-01-15T20:04:59.057Z"
   },
   {
    "duration": 12,
    "start_time": "2025-01-15T20:05:17.492Z"
   },
   {
    "duration": 6,
    "start_time": "2025-01-15T20:06:05.866Z"
   },
   {
    "duration": 5,
    "start_time": "2025-01-15T20:06:19.280Z"
   },
   {
    "duration": 14161,
    "start_time": "2025-01-15T20:06:54.259Z"
   },
   {
    "duration": 38,
    "start_time": "2025-01-15T20:07:55.511Z"
   },
   {
    "duration": 50523,
    "start_time": "2025-01-15T20:07:56.109Z"
   },
   {
    "duration": 48,
    "start_time": "2025-01-15T20:11:48.818Z"
   },
   {
    "duration": 46,
    "start_time": "2025-01-15T20:12:15.985Z"
   },
   {
    "duration": 37,
    "start_time": "2025-01-15T20:12:26.909Z"
   },
   {
    "duration": 45,
    "start_time": "2025-01-15T20:13:57.453Z"
   },
   {
    "duration": 44,
    "start_time": "2025-01-15T20:14:05.184Z"
   },
   {
    "duration": 45,
    "start_time": "2025-01-15T20:14:11.907Z"
   },
   {
    "duration": 3818,
    "start_time": "2025-01-16T13:04:13.361Z"
   },
   {
    "duration": 1430,
    "start_time": "2025-01-16T13:04:17.181Z"
   },
   {
    "duration": 49,
    "start_time": "2025-01-16T13:04:18.613Z"
   },
   {
    "duration": 17,
    "start_time": "2025-01-16T13:04:18.664Z"
   },
   {
    "duration": 1271,
    "start_time": "2025-01-16T13:04:18.684Z"
   },
   {
    "duration": 115,
    "start_time": "2025-01-16T13:04:19.957Z"
   },
   {
    "duration": 315,
    "start_time": "2025-01-16T13:04:20.074Z"
   },
   {
    "duration": 27,
    "start_time": "2025-01-16T13:04:20.391Z"
   },
   {
    "duration": 316,
    "start_time": "2025-01-16T13:04:20.420Z"
   },
   {
    "duration": 24,
    "start_time": "2025-01-16T13:04:20.738Z"
   },
   {
    "duration": 70,
    "start_time": "2025-01-16T13:04:20.764Z"
   },
   {
    "duration": 63,
    "start_time": "2025-01-16T13:04:20.836Z"
   },
   {
    "duration": 150,
    "start_time": "2025-01-16T13:04:20.902Z"
   },
   {
    "duration": 11,
    "start_time": "2025-01-16T13:04:21.055Z"
   },
   {
    "duration": 337,
    "start_time": "2025-01-16T13:04:21.068Z"
   },
   {
    "duration": 49,
    "start_time": "2025-01-16T13:04:21.407Z"
   },
   {
    "duration": 53,
    "start_time": "2025-01-16T13:04:21.458Z"
   },
   {
    "duration": 205,
    "start_time": "2025-01-16T13:04:21.513Z"
   },
   {
    "duration": 5,
    "start_time": "2025-01-16T13:04:21.719Z"
   },
   {
    "duration": 39,
    "start_time": "2025-01-16T13:04:21.730Z"
   },
   {
    "duration": 101,
    "start_time": "2025-01-16T13:04:21.771Z"
   },
   {
    "duration": 20,
    "start_time": "2025-01-16T13:04:21.875Z"
   },
   {
    "duration": 15,
    "start_time": "2025-01-16T13:04:21.896Z"
   },
   {
    "duration": 23,
    "start_time": "2025-01-16T13:04:21.913Z"
   },
   {
    "duration": 120,
    "start_time": "2025-01-16T13:04:21.939Z"
   },
   {
    "duration": 134,
    "start_time": "2025-01-16T13:04:22.061Z"
   },
   {
    "duration": 54,
    "start_time": "2025-01-16T13:04:22.197Z"
   },
   {
    "duration": 48,
    "start_time": "2025-01-16T13:04:22.253Z"
   },
   {
    "duration": 13,
    "start_time": "2025-01-16T13:04:22.303Z"
   },
   {
    "duration": 179,
    "start_time": "2025-01-16T13:04:22.318Z"
   },
   {
    "duration": 120,
    "start_time": "2025-01-16T13:04:22.499Z"
   },
   {
    "duration": 22,
    "start_time": "2025-01-16T13:04:22.621Z"
   },
   {
    "duration": 17,
    "start_time": "2025-01-16T13:04:22.646Z"
   },
   {
    "duration": 109,
    "start_time": "2025-01-16T13:04:22.666Z"
   },
   {
    "duration": 14,
    "start_time": "2025-01-16T13:04:22.776Z"
   },
   {
    "duration": 9,
    "start_time": "2025-01-16T13:04:22.791Z"
   },
   {
    "duration": 152,
    "start_time": "2025-01-16T13:04:22.801Z"
   },
   {
    "duration": 52677,
    "start_time": "2025-01-16T13:04:22.955Z"
   },
   {
    "duration": 49,
    "start_time": "2025-01-16T13:05:15.634Z"
   },
   {
    "duration": 80,
    "start_time": "2025-01-16T13:07:18.106Z"
   },
   {
    "duration": 116,
    "start_time": "2025-01-16T13:26:51.578Z"
   },
   {
    "duration": 76,
    "start_time": "2025-01-16T13:27:49.176Z"
   },
   {
    "duration": 42,
    "start_time": "2025-01-16T13:30:15.577Z"
   },
   {
    "duration": 41,
    "start_time": "2025-01-16T13:30:39.259Z"
   },
   {
    "duration": 4,
    "start_time": "2025-01-16T13:31:44.578Z"
   },
   {
    "duration": 4,
    "start_time": "2025-01-16T13:31:59.984Z"
   },
   {
    "duration": 82,
    "start_time": "2025-01-16T13:37:43.410Z"
   },
   {
    "duration": 253,
    "start_time": "2025-01-16T13:37:52.434Z"
   },
   {
    "duration": 419,
    "start_time": "2025-01-16T13:37:58.732Z"
   },
   {
    "duration": 451,
    "start_time": "2025-01-16T13:42:49.622Z"
   },
   {
    "duration": 425,
    "start_time": "2025-01-16T13:43:15.478Z"
   },
   {
    "duration": 435,
    "start_time": "2025-01-16T13:47:03.601Z"
   },
   {
    "duration": 425,
    "start_time": "2025-01-16T13:48:11.348Z"
   },
   {
    "duration": 1436,
    "start_time": "2025-01-16T13:56:17.663Z"
   },
   {
    "duration": 3431,
    "start_time": "2025-01-16T13:58:12.195Z"
   },
   {
    "duration": 1262,
    "start_time": "2025-01-16T13:58:15.629Z"
   },
   {
    "duration": 132,
    "start_time": "2025-01-16T13:58:16.893Z"
   },
   {
    "duration": 17,
    "start_time": "2025-01-16T13:58:17.027Z"
   },
   {
    "duration": 1270,
    "start_time": "2025-01-16T13:58:17.046Z"
   },
   {
    "duration": 107,
    "start_time": "2025-01-16T13:58:18.317Z"
   },
   {
    "duration": 199,
    "start_time": "2025-01-16T13:58:18.425Z"
   },
   {
    "duration": 26,
    "start_time": "2025-01-16T13:58:18.626Z"
   },
   {
    "duration": 219,
    "start_time": "2025-01-16T13:58:18.654Z"
   },
   {
    "duration": 23,
    "start_time": "2025-01-16T13:58:18.876Z"
   },
   {
    "duration": 129,
    "start_time": "2025-01-16T13:58:18.900Z"
   },
   {
    "duration": 15,
    "start_time": "2025-01-16T13:58:19.031Z"
   },
   {
    "duration": 91,
    "start_time": "2025-01-16T13:58:19.047Z"
   },
   {
    "duration": 13,
    "start_time": "2025-01-16T13:58:19.139Z"
   },
   {
    "duration": 319,
    "start_time": "2025-01-16T13:58:19.153Z"
   },
   {
    "duration": 41,
    "start_time": "2025-01-16T13:58:19.474Z"
   },
   {
    "duration": 58,
    "start_time": "2025-01-16T13:58:19.517Z"
   },
   {
    "duration": 5,
    "start_time": "2025-01-16T13:58:19.576Z"
   },
   {
    "duration": 0,
    "start_time": "2025-01-16T13:58:19.583Z"
   },
   {
    "duration": 0,
    "start_time": "2025-01-16T13:58:19.584Z"
   },
   {
    "duration": 0,
    "start_time": "2025-01-16T13:58:19.585Z"
   },
   {
    "duration": 0,
    "start_time": "2025-01-16T13:58:19.586Z"
   },
   {
    "duration": 0,
    "start_time": "2025-01-16T13:58:19.588Z"
   },
   {
    "duration": 0,
    "start_time": "2025-01-16T13:58:19.588Z"
   },
   {
    "duration": 0,
    "start_time": "2025-01-16T13:58:19.589Z"
   },
   {
    "duration": 0,
    "start_time": "2025-01-16T13:58:19.590Z"
   },
   {
    "duration": 0,
    "start_time": "2025-01-16T13:58:19.592Z"
   },
   {
    "duration": 0,
    "start_time": "2025-01-16T13:58:19.593Z"
   },
   {
    "duration": 0,
    "start_time": "2025-01-16T13:58:19.594Z"
   },
   {
    "duration": 0,
    "start_time": "2025-01-16T13:58:19.595Z"
   },
   {
    "duration": 0,
    "start_time": "2025-01-16T13:58:19.596Z"
   },
   {
    "duration": 32,
    "start_time": "2025-01-16T13:58:19.597Z"
   },
   {
    "duration": 0,
    "start_time": "2025-01-16T13:58:19.631Z"
   },
   {
    "duration": 0,
    "start_time": "2025-01-16T13:58:19.632Z"
   },
   {
    "duration": 0,
    "start_time": "2025-01-16T13:58:19.633Z"
   },
   {
    "duration": 0,
    "start_time": "2025-01-16T13:58:19.634Z"
   },
   {
    "duration": 0,
    "start_time": "2025-01-16T13:58:19.636Z"
   },
   {
    "duration": 0,
    "start_time": "2025-01-16T13:58:19.637Z"
   },
   {
    "duration": 0,
    "start_time": "2025-01-16T13:58:19.638Z"
   },
   {
    "duration": 0,
    "start_time": "2025-01-16T13:58:19.639Z"
   },
   {
    "duration": 0,
    "start_time": "2025-01-16T13:58:19.640Z"
   },
   {
    "duration": 0,
    "start_time": "2025-01-16T13:58:19.641Z"
   },
   {
    "duration": 0,
    "start_time": "2025-01-16T13:58:19.643Z"
   },
   {
    "duration": 0,
    "start_time": "2025-01-16T13:58:19.644Z"
   },
   {
    "duration": 2517,
    "start_time": "2025-01-16T13:59:26.570Z"
   },
   {
    "duration": 1235,
    "start_time": "2025-01-16T13:59:29.089Z"
   },
   {
    "duration": 66,
    "start_time": "2025-01-16T13:59:30.326Z"
   },
   {
    "duration": 29,
    "start_time": "2025-01-16T13:59:30.394Z"
   },
   {
    "duration": 1330,
    "start_time": "2025-01-16T13:59:30.426Z"
   },
   {
    "duration": 118,
    "start_time": "2025-01-16T13:59:31.758Z"
   },
   {
    "duration": 287,
    "start_time": "2025-01-16T13:59:31.878Z"
   },
   {
    "duration": 26,
    "start_time": "2025-01-16T13:59:32.167Z"
   },
   {
    "duration": 309,
    "start_time": "2025-01-16T13:59:32.194Z"
   },
   {
    "duration": 27,
    "start_time": "2025-01-16T13:59:32.505Z"
   },
   {
    "duration": 56,
    "start_time": "2025-01-16T13:59:32.534Z"
   },
   {
    "duration": 14,
    "start_time": "2025-01-16T13:59:32.592Z"
   },
   {
    "duration": 396,
    "start_time": "2025-01-16T13:59:32.608Z"
   },
   {
    "duration": 12,
    "start_time": "2025-01-16T13:59:33.007Z"
   },
   {
    "duration": 388,
    "start_time": "2025-01-16T13:59:33.021Z"
   },
   {
    "duration": 47,
    "start_time": "2025-01-16T13:59:33.411Z"
   },
   {
    "duration": 51,
    "start_time": "2025-01-16T13:59:33.460Z"
   },
   {
    "duration": 185,
    "start_time": "2025-01-16T13:59:33.529Z"
   },
   {
    "duration": 14,
    "start_time": "2025-01-16T13:59:33.717Z"
   },
   {
    "duration": 12,
    "start_time": "2025-01-16T13:59:33.732Z"
   },
   {
    "duration": 72,
    "start_time": "2025-01-16T13:59:33.746Z"
   },
   {
    "duration": 22,
    "start_time": "2025-01-16T13:59:33.830Z"
   },
   {
    "duration": 12,
    "start_time": "2025-01-16T13:59:33.854Z"
   },
   {
    "duration": 25,
    "start_time": "2025-01-16T13:59:33.868Z"
   },
   {
    "duration": 51,
    "start_time": "2025-01-16T13:59:33.895Z"
   },
   {
    "duration": 83,
    "start_time": "2025-01-16T13:59:33.949Z"
   },
   {
    "duration": 13,
    "start_time": "2025-01-16T13:59:34.034Z"
   },
   {
    "duration": 44,
    "start_time": "2025-01-16T13:59:34.048Z"
   },
   {
    "duration": 12,
    "start_time": "2025-01-16T13:59:34.094Z"
   },
   {
    "duration": 181,
    "start_time": "2025-01-16T13:59:34.131Z"
   },
   {
    "duration": 117,
    "start_time": "2025-01-16T13:59:34.313Z"
   },
   {
    "duration": 18,
    "start_time": "2025-01-16T13:59:34.432Z"
   },
   {
    "duration": 14,
    "start_time": "2025-01-16T13:59:34.452Z"
   },
   {
    "duration": 92,
    "start_time": "2025-01-16T13:59:34.468Z"
   },
   {
    "duration": 13,
    "start_time": "2025-01-16T13:59:34.563Z"
   },
   {
    "duration": 10,
    "start_time": "2025-01-16T13:59:34.578Z"
   },
   {
    "duration": 70,
    "start_time": "2025-01-16T13:59:34.590Z"
   },
   {
    "duration": 49831,
    "start_time": "2025-01-16T13:59:34.662Z"
   },
   {
    "duration": 58,
    "start_time": "2025-01-16T14:00:24.496Z"
   },
   {
    "duration": 86,
    "start_time": "2025-01-16T14:00:24.555Z"
   },
   {
    "duration": 85,
    "start_time": "2025-01-16T14:00:24.645Z"
   },
   {
    "duration": 42,
    "start_time": "2025-01-16T14:00:24.732Z"
   },
   {
    "duration": 9,
    "start_time": "2025-01-16T14:00:24.776Z"
   },
   {
    "duration": 435,
    "start_time": "2025-01-16T14:00:24.787Z"
   },
   {
    "duration": 8,
    "start_time": "2025-01-16T14:02:15.077Z"
   },
   {
    "duration": 9,
    "start_time": "2025-01-16T14:02:29.344Z"
   },
   {
    "duration": 7,
    "start_time": "2025-01-16T14:02:44.409Z"
   },
   {
    "duration": 8,
    "start_time": "2025-01-16T14:02:58.026Z"
   },
   {
    "duration": 5,
    "start_time": "2025-01-16T14:03:04.516Z"
   },
   {
    "duration": 6,
    "start_time": "2025-01-16T14:03:48.965Z"
   },
   {
    "duration": 6,
    "start_time": "2025-01-16T14:04:19.984Z"
   },
   {
    "duration": 5,
    "start_time": "2025-01-16T14:04:49.426Z"
   },
   {
    "duration": 9,
    "start_time": "2025-01-16T14:04:57.628Z"
   },
   {
    "duration": 33,
    "start_time": "2025-01-16T14:08:46.580Z"
   },
   {
    "duration": 253,
    "start_time": "2025-01-16T14:08:54.199Z"
   },
   {
    "duration": 2,
    "start_time": "2025-01-16T14:10:07.647Z"
   },
   {
    "duration": 2663,
    "start_time": "2025-01-16T14:10:12.330Z"
   },
   {
    "duration": 1332,
    "start_time": "2025-01-16T14:10:14.995Z"
   },
   {
    "duration": 3,
    "start_time": "2025-01-16T14:10:16.328Z"
   },
   {
    "duration": 170,
    "start_time": "2025-01-16T14:10:16.332Z"
   },
   {
    "duration": 16,
    "start_time": "2025-01-16T14:10:16.504Z"
   },
   {
    "duration": 1277,
    "start_time": "2025-01-16T14:10:16.522Z"
   },
   {
    "duration": 111,
    "start_time": "2025-01-16T14:10:17.801Z"
   },
   {
    "duration": 289,
    "start_time": "2025-01-16T14:10:17.913Z"
   },
   {
    "duration": 34,
    "start_time": "2025-01-16T14:10:18.204Z"
   },
   {
    "duration": 267,
    "start_time": "2025-01-16T14:10:18.241Z"
   },
   {
    "duration": 23,
    "start_time": "2025-01-16T14:10:18.509Z"
   },
   {
    "duration": 237,
    "start_time": "2025-01-16T14:10:18.533Z"
   },
   {
    "duration": 18,
    "start_time": "2025-01-16T14:10:18.772Z"
   },
   {
    "duration": 134,
    "start_time": "2025-01-16T14:10:18.794Z"
   },
   {
    "duration": 12,
    "start_time": "2025-01-16T14:10:18.930Z"
   },
   {
    "duration": 433,
    "start_time": "2025-01-16T14:10:18.943Z"
   },
   {
    "duration": 59,
    "start_time": "2025-01-16T14:10:19.379Z"
   },
   {
    "duration": 57,
    "start_time": "2025-01-16T14:10:19.440Z"
   },
   {
    "duration": 182,
    "start_time": "2025-01-16T14:10:19.498Z"
   },
   {
    "duration": 6,
    "start_time": "2025-01-16T14:10:19.682Z"
   },
   {
    "duration": 11,
    "start_time": "2025-01-16T14:10:19.689Z"
   },
   {
    "duration": 100,
    "start_time": "2025-01-16T14:10:19.702Z"
   },
   {
    "duration": 27,
    "start_time": "2025-01-16T14:10:19.804Z"
   },
   {
    "duration": 13,
    "start_time": "2025-01-16T14:10:19.832Z"
   },
   {
    "duration": 9,
    "start_time": "2025-01-16T14:10:19.847Z"
   },
   {
    "duration": 8,
    "start_time": "2025-01-16T14:10:19.857Z"
   },
   {
    "duration": 72,
    "start_time": "2025-01-16T14:10:19.866Z"
   },
   {
    "duration": 19,
    "start_time": "2025-01-16T14:10:19.940Z"
   },
   {
    "duration": 178,
    "start_time": "2025-01-16T14:10:19.961Z"
   },
   {
    "duration": 9,
    "start_time": "2025-01-16T14:10:20.141Z"
   },
   {
    "duration": 191,
    "start_time": "2025-01-16T14:10:20.152Z"
   },
   {
    "duration": 121,
    "start_time": "2025-01-16T14:10:20.344Z"
   },
   {
    "duration": 17,
    "start_time": "2025-01-16T14:10:20.467Z"
   },
   {
    "duration": 54,
    "start_time": "2025-01-16T14:10:20.485Z"
   },
   {
    "duration": 92,
    "start_time": "2025-01-16T14:10:20.540Z"
   },
   {
    "duration": 12,
    "start_time": "2025-01-16T14:10:20.635Z"
   },
   {
    "duration": 15,
    "start_time": "2025-01-16T14:10:20.649Z"
   },
   {
    "duration": 66,
    "start_time": "2025-01-16T14:10:20.666Z"
   },
   {
    "duration": 51157,
    "start_time": "2025-01-16T14:10:20.733Z"
   },
   {
    "duration": 62,
    "start_time": "2025-01-16T14:11:11.892Z"
   },
   {
    "duration": 131,
    "start_time": "2025-01-16T14:11:11.957Z"
   },
   {
    "duration": 85,
    "start_time": "2025-01-16T14:11:12.090Z"
   },
   {
    "duration": 56,
    "start_time": "2025-01-16T14:11:12.176Z"
   },
   {
    "duration": 9,
    "start_time": "2025-01-16T14:11:12.234Z"
   },
   {
    "duration": 434,
    "start_time": "2025-01-16T14:11:12.245Z"
   },
   {
    "duration": 231,
    "start_time": "2025-01-16T14:11:12.681Z"
   },
   {
    "duration": 3959,
    "start_time": "2025-01-16T16:13:37.035Z"
   },
   {
    "duration": 1392,
    "start_time": "2025-01-16T16:13:40.997Z"
   },
   {
    "duration": 3,
    "start_time": "2025-01-16T16:13:42.391Z"
   },
   {
    "duration": 102,
    "start_time": "2025-01-16T16:13:42.395Z"
   },
   {
    "duration": 16,
    "start_time": "2025-01-16T16:13:42.498Z"
   },
   {
    "duration": 1238,
    "start_time": "2025-01-16T16:13:42.515Z"
   },
   {
    "duration": 108,
    "start_time": "2025-01-16T16:13:43.754Z"
   },
   {
    "duration": 278,
    "start_time": "2025-01-16T16:13:43.869Z"
   },
   {
    "duration": 42,
    "start_time": "2025-01-16T16:13:44.149Z"
   },
   {
    "duration": 227,
    "start_time": "2025-01-16T16:13:44.193Z"
   },
   {
    "duration": 21,
    "start_time": "2025-01-16T16:13:44.422Z"
   },
   {
    "duration": 166,
    "start_time": "2025-01-16T16:13:44.444Z"
   },
   {
    "duration": 15,
    "start_time": "2025-01-16T16:13:44.611Z"
   },
   {
    "duration": 175,
    "start_time": "2025-01-16T16:13:44.628Z"
   },
   {
    "duration": 12,
    "start_time": "2025-01-16T16:13:44.804Z"
   },
   {
    "duration": 407,
    "start_time": "2025-01-16T16:13:44.817Z"
   },
   {
    "duration": 51,
    "start_time": "2025-01-16T16:13:45.226Z"
   },
   {
    "duration": 83,
    "start_time": "2025-01-16T16:13:45.278Z"
   },
   {
    "duration": 181,
    "start_time": "2025-01-16T16:13:45.363Z"
   },
   {
    "duration": 7,
    "start_time": "2025-01-16T16:13:45.546Z"
   },
   {
    "duration": 34,
    "start_time": "2025-01-16T16:13:45.554Z"
   },
   {
    "duration": 78,
    "start_time": "2025-01-16T16:13:45.590Z"
   },
   {
    "duration": 22,
    "start_time": "2025-01-16T16:13:45.670Z"
   },
   {
    "duration": 52,
    "start_time": "2025-01-16T16:13:45.694Z"
   },
   {
    "duration": 13,
    "start_time": "2025-01-16T16:13:45.748Z"
   },
   {
    "duration": 25,
    "start_time": "2025-01-16T16:13:45.764Z"
   },
   {
    "duration": 53,
    "start_time": "2025-01-16T16:13:45.791Z"
   },
   {
    "duration": 11,
    "start_time": "2025-01-16T16:13:45.847Z"
   },
   {
    "duration": 39,
    "start_time": "2025-01-16T16:13:45.860Z"
   },
   {
    "duration": 8,
    "start_time": "2025-01-16T16:13:45.900Z"
   },
   {
    "duration": 198,
    "start_time": "2025-01-16T16:13:45.909Z"
   },
   {
    "duration": 103,
    "start_time": "2025-01-16T16:13:46.109Z"
   },
   {
    "duration": 15,
    "start_time": "2025-01-16T16:13:46.213Z"
   },
   {
    "duration": 23,
    "start_time": "2025-01-16T16:13:46.230Z"
   },
   {
    "duration": 72,
    "start_time": "2025-01-16T16:13:46.254Z"
   },
   {
    "duration": 33,
    "start_time": "2025-01-16T16:13:46.328Z"
   },
   {
    "duration": 8,
    "start_time": "2025-01-16T16:13:46.363Z"
   },
   {
    "duration": 39,
    "start_time": "2025-01-16T16:13:46.372Z"
   },
   {
    "duration": 53089,
    "start_time": "2025-01-16T16:13:46.413Z"
   },
   {
    "duration": 49,
    "start_time": "2025-01-16T16:14:39.504Z"
   },
   {
    "duration": 82,
    "start_time": "2025-01-16T16:14:39.570Z"
   },
   {
    "duration": 89,
    "start_time": "2025-01-16T16:14:39.654Z"
   },
   {
    "duration": 56,
    "start_time": "2025-01-16T16:14:39.744Z"
   },
   {
    "duration": 9,
    "start_time": "2025-01-16T16:14:39.802Z"
   },
   {
    "duration": 430,
    "start_time": "2025-01-16T16:14:39.812Z"
   },
   {
    "duration": 234,
    "start_time": "2025-01-16T16:14:40.244Z"
   },
   {
    "duration": 1193,
    "start_time": "2025-01-16T16:14:55.290Z"
   },
   {
    "duration": 111,
    "start_time": "2025-01-16T16:24:15.136Z"
   },
   {
    "duration": 12,
    "start_time": "2025-01-16T16:24:26.735Z"
   },
   {
    "duration": 296,
    "start_time": "2025-01-16T16:24:53.448Z"
   },
   {
    "duration": 344,
    "start_time": "2025-01-16T16:25:11.336Z"
   },
   {
    "duration": 395,
    "start_time": "2025-01-16T16:25:26.983Z"
   },
   {
    "duration": 339,
    "start_time": "2025-01-16T16:25:51.899Z"
   },
   {
    "duration": 327,
    "start_time": "2025-01-16T16:26:19.295Z"
   },
   {
    "duration": 935,
    "start_time": "2025-01-16T16:26:30.853Z"
   },
   {
    "duration": 266,
    "start_time": "2025-01-16T16:31:07.901Z"
   },
   {
    "duration": 1901,
    "start_time": "2025-01-16T16:31:54.144Z"
   },
   {
    "duration": 1317,
    "start_time": "2025-01-16T16:32:44.983Z"
   },
   {
    "duration": 20,
    "start_time": "2025-01-16T16:34:09.135Z"
   },
   {
    "duration": 18,
    "start_time": "2025-01-16T16:35:04.199Z"
   },
   {
    "duration": 19,
    "start_time": "2025-01-16T16:35:44.899Z"
   },
   {
    "duration": 19,
    "start_time": "2025-01-16T16:35:51.366Z"
   },
   {
    "duration": 250,
    "start_time": "2025-01-16T16:35:57.399Z"
   },
   {
    "duration": 2628,
    "start_time": "2025-01-16T16:36:28.273Z"
   },
   {
    "duration": 1215,
    "start_time": "2025-01-16T16:36:30.905Z"
   },
   {
    "duration": 2,
    "start_time": "2025-01-16T16:36:32.122Z"
   },
   {
    "duration": 77,
    "start_time": "2025-01-16T16:36:32.126Z"
   },
   {
    "duration": 15,
    "start_time": "2025-01-16T16:36:32.205Z"
   },
   {
    "duration": 1422,
    "start_time": "2025-01-16T16:36:32.221Z"
   },
   {
    "duration": 113,
    "start_time": "2025-01-16T16:36:33.645Z"
   },
   {
    "duration": 271,
    "start_time": "2025-01-16T16:36:33.760Z"
   },
   {
    "duration": 37,
    "start_time": "2025-01-16T16:36:34.033Z"
   },
   {
    "duration": 251,
    "start_time": "2025-01-16T16:36:34.073Z"
   },
   {
    "duration": 23,
    "start_time": "2025-01-16T16:36:34.326Z"
   },
   {
    "duration": 126,
    "start_time": "2025-01-16T16:36:34.350Z"
   },
   {
    "duration": 24,
    "start_time": "2025-01-16T16:36:34.478Z"
   },
   {
    "duration": 113,
    "start_time": "2025-01-16T16:36:34.505Z"
   },
   {
    "duration": 15,
    "start_time": "2025-01-16T16:36:34.620Z"
   },
   {
    "duration": 379,
    "start_time": "2025-01-16T16:36:34.636Z"
   },
   {
    "duration": 44,
    "start_time": "2025-01-16T16:36:35.017Z"
   },
   {
    "duration": 55,
    "start_time": "2025-01-16T16:36:35.071Z"
   },
   {
    "duration": 198,
    "start_time": "2025-01-16T16:36:35.128Z"
   },
   {
    "duration": 7,
    "start_time": "2025-01-16T16:36:35.328Z"
   },
   {
    "duration": 26,
    "start_time": "2025-01-16T16:36:35.336Z"
   },
   {
    "duration": 130,
    "start_time": "2025-01-16T16:36:35.363Z"
   },
   {
    "duration": 21,
    "start_time": "2025-01-16T16:36:35.495Z"
   },
   {
    "duration": 37,
    "start_time": "2025-01-16T16:36:35.518Z"
   },
   {
    "duration": 25,
    "start_time": "2025-01-16T16:36:35.557Z"
   },
   {
    "duration": 29,
    "start_time": "2025-01-16T16:36:35.584Z"
   },
   {
    "duration": 62,
    "start_time": "2025-01-16T16:36:35.614Z"
   },
   {
    "duration": 176,
    "start_time": "2025-01-16T16:36:35.678Z"
   },
   {
    "duration": 47,
    "start_time": "2025-01-16T16:36:35.855Z"
   },
   {
    "duration": 8,
    "start_time": "2025-01-16T16:36:35.904Z"
   },
   {
    "duration": 209,
    "start_time": "2025-01-16T16:36:35.913Z"
   },
   {
    "duration": 117,
    "start_time": "2025-01-16T16:36:36.123Z"
   },
   {
    "duration": 16,
    "start_time": "2025-01-16T16:36:36.241Z"
   },
   {
    "duration": 86,
    "start_time": "2025-01-16T16:36:36.270Z"
   },
   {
    "duration": 63,
    "start_time": "2025-01-16T16:36:36.358Z"
   },
   {
    "duration": 40,
    "start_time": "2025-01-16T16:36:36.423Z"
   },
   {
    "duration": 70,
    "start_time": "2025-01-16T16:36:36.464Z"
   },
   {
    "duration": 125,
    "start_time": "2025-01-16T16:36:36.536Z"
   },
   {
    "duration": 52812,
    "start_time": "2025-01-16T16:36:36.663Z"
   },
   {
    "duration": 46,
    "start_time": "2025-01-16T16:37:29.477Z"
   },
   {
    "duration": 98,
    "start_time": "2025-01-16T16:37:29.527Z"
   },
   {
    "duration": 101,
    "start_time": "2025-01-16T16:37:29.627Z"
   },
   {
    "duration": 47,
    "start_time": "2025-01-16T16:37:29.730Z"
   },
   {
    "duration": 47,
    "start_time": "2025-01-16T16:37:29.779Z"
   },
   {
    "duration": 910,
    "start_time": "2025-01-16T16:37:29.828Z"
   },
   {
    "duration": 270,
    "start_time": "2025-01-16T16:37:30.739Z"
   },
   {
    "duration": 257,
    "start_time": "2025-01-16T16:37:31.011Z"
   },
   {
    "duration": 53,
    "start_time": "2025-01-17T15:39:30.361Z"
   },
   {
    "duration": 3358,
    "start_time": "2025-01-17T15:39:34.688Z"
   },
   {
    "duration": 2574,
    "start_time": "2025-01-17T15:39:38.048Z"
   },
   {
    "duration": 3,
    "start_time": "2025-01-17T15:39:40.624Z"
   },
   {
    "duration": 71,
    "start_time": "2025-01-17T15:39:40.628Z"
   },
   {
    "duration": 14,
    "start_time": "2025-01-17T15:39:40.701Z"
   },
   {
    "duration": 1055,
    "start_time": "2025-01-17T15:39:40.716Z"
   },
   {
    "duration": 101,
    "start_time": "2025-01-17T15:39:41.773Z"
   },
   {
    "duration": 201,
    "start_time": "2025-01-17T15:39:41.875Z"
   },
   {
    "duration": 25,
    "start_time": "2025-01-17T15:39:42.078Z"
   },
   {
    "duration": 240,
    "start_time": "2025-01-17T15:39:42.104Z"
   },
   {
    "duration": 19,
    "start_time": "2025-01-17T15:39:42.346Z"
   },
   {
    "duration": 77,
    "start_time": "2025-01-17T15:39:42.367Z"
   },
   {
    "duration": 15,
    "start_time": "2025-01-17T15:39:42.445Z"
   },
   {
    "duration": 70,
    "start_time": "2025-01-17T15:39:42.463Z"
   },
   {
    "duration": 10,
    "start_time": "2025-01-17T15:39:42.535Z"
   },
   {
    "duration": 384,
    "start_time": "2025-01-17T15:39:42.546Z"
   },
   {
    "duration": 66,
    "start_time": "2025-01-17T15:39:42.932Z"
   },
   {
    "duration": 42,
    "start_time": "2025-01-17T15:39:43.000Z"
   },
   {
    "duration": 17,
    "start_time": "2025-01-17T15:51:59.738Z"
   },
   {
    "duration": 66,
    "start_time": "2025-01-17T15:57:12.686Z"
   },
   {
    "duration": 2303,
    "start_time": "2025-01-17T15:57:16.166Z"
   },
   {
    "duration": 3,
    "start_time": "2025-01-17T15:57:18.472Z"
   },
   {
    "duration": 5,
    "start_time": "2025-01-17T15:57:18.476Z"
   },
   {
    "duration": 69,
    "start_time": "2025-01-17T15:57:18.483Z"
   },
   {
    "duration": 13,
    "start_time": "2025-01-17T15:57:18.554Z"
   },
   {
    "duration": 985,
    "start_time": "2025-01-17T15:57:18.569Z"
   },
   {
    "duration": 101,
    "start_time": "2025-01-17T15:57:19.555Z"
   },
   {
    "duration": 215,
    "start_time": "2025-01-17T15:57:19.657Z"
   },
   {
    "duration": 26,
    "start_time": "2025-01-17T15:57:19.873Z"
   },
   {
    "duration": 174,
    "start_time": "2025-01-17T15:57:19.901Z"
   },
   {
    "duration": 19,
    "start_time": "2025-01-17T15:57:20.078Z"
   },
   {
    "duration": 71,
    "start_time": "2025-01-17T15:57:20.099Z"
   },
   {
    "duration": 14,
    "start_time": "2025-01-17T15:57:20.172Z"
   },
   {
    "duration": 84,
    "start_time": "2025-01-17T15:57:20.189Z"
   },
   {
    "duration": 11,
    "start_time": "2025-01-17T15:57:20.275Z"
   },
   {
    "duration": 338,
    "start_time": "2025-01-17T15:57:20.288Z"
   },
   {
    "duration": 43,
    "start_time": "2025-01-17T15:57:20.628Z"
   },
   {
    "duration": 5,
    "start_time": "2025-01-17T15:57:20.672Z"
   },
   {
    "duration": 28,
    "start_time": "2025-01-17T15:57:20.679Z"
   },
   {
    "duration": 15,
    "start_time": "2025-01-17T15:57:20.709Z"
   },
   {
    "duration": 218,
    "start_time": "2025-01-17T15:57:20.726Z"
   },
   {
    "duration": 10,
    "start_time": "2025-01-17T15:57:20.946Z"
   },
   {
    "duration": 21,
    "start_time": "2025-01-17T15:57:20.958Z"
   },
   {
    "duration": 68,
    "start_time": "2025-01-17T15:57:20.981Z"
   },
   {
    "duration": 20,
    "start_time": "2025-01-17T15:57:21.050Z"
   },
   {
    "duration": 42,
    "start_time": "2025-01-17T15:57:21.072Z"
   },
   {
    "duration": 12,
    "start_time": "2025-01-17T15:57:21.116Z"
   },
   {
    "duration": 5,
    "start_time": "2025-01-17T15:57:21.130Z"
   },
   {
    "duration": 46,
    "start_time": "2025-01-17T15:57:21.137Z"
   },
   {
    "duration": 9,
    "start_time": "2025-01-17T15:57:21.185Z"
   },
   {
    "duration": 59,
    "start_time": "2025-01-17T15:57:21.196Z"
   },
   {
    "duration": 7,
    "start_time": "2025-01-17T15:57:21.257Z"
   },
   {
    "duration": 173,
    "start_time": "2025-01-17T15:57:21.266Z"
   },
   {
    "duration": 103,
    "start_time": "2025-01-17T15:57:21.440Z"
   },
   {
    "duration": 18,
    "start_time": "2025-01-17T15:57:21.545Z"
   },
   {
    "duration": 13,
    "start_time": "2025-01-17T15:57:21.565Z"
   },
   {
    "duration": 56,
    "start_time": "2025-01-17T15:57:21.579Z"
   },
   {
    "duration": 31,
    "start_time": "2025-01-17T15:57:26.228Z"
   },
   {
    "duration": 43,
    "start_time": "2025-01-17T15:58:06.111Z"
   },
   {
    "duration": 9,
    "start_time": "2025-01-17T15:58:32.932Z"
   },
   {
    "duration": 8,
    "start_time": "2025-01-17T15:58:38.430Z"
   },
   {
    "duration": 17,
    "start_time": "2025-01-17T16:02:10.611Z"
   },
   {
    "duration": 2367,
    "start_time": "2025-01-17T16:02:23.180Z"
   },
   {
    "duration": 4,
    "start_time": "2025-01-17T16:02:25.550Z"
   },
   {
    "duration": 10,
    "start_time": "2025-01-17T16:02:25.556Z"
   },
   {
    "duration": 73,
    "start_time": "2025-01-17T16:02:25.569Z"
   },
   {
    "duration": 15,
    "start_time": "2025-01-17T16:02:25.644Z"
   },
   {
    "duration": 1120,
    "start_time": "2025-01-17T16:02:25.660Z"
   },
   {
    "duration": 119,
    "start_time": "2025-01-17T16:02:26.781Z"
   },
   {
    "duration": 228,
    "start_time": "2025-01-17T16:02:26.902Z"
   },
   {
    "duration": 29,
    "start_time": "2025-01-17T16:02:27.131Z"
   },
   {
    "duration": 157,
    "start_time": "2025-01-17T16:02:27.163Z"
   },
   {
    "duration": 20,
    "start_time": "2025-01-17T16:02:27.321Z"
   },
   {
    "duration": 66,
    "start_time": "2025-01-17T16:02:27.354Z"
   },
   {
    "duration": 15,
    "start_time": "2025-01-17T16:02:27.422Z"
   },
   {
    "duration": 121,
    "start_time": "2025-01-17T16:02:27.439Z"
   },
   {
    "duration": 10,
    "start_time": "2025-01-17T16:02:27.562Z"
   },
   {
    "duration": 326,
    "start_time": "2025-01-17T16:02:27.573Z"
   },
   {
    "duration": 40,
    "start_time": "2025-01-17T16:02:27.901Z"
   },
   {
    "duration": 8,
    "start_time": "2025-01-17T16:02:27.954Z"
   },
   {
    "duration": 30,
    "start_time": "2025-01-17T16:02:27.964Z"
   },
   {
    "duration": 15,
    "start_time": "2025-01-17T16:02:27.996Z"
   },
   {
    "duration": 187,
    "start_time": "2025-01-17T16:02:28.013Z"
   },
   {
    "duration": 6,
    "start_time": "2025-01-17T16:02:28.202Z"
   },
   {
    "duration": 8,
    "start_time": "2025-01-17T16:02:28.209Z"
   },
   {
    "duration": 83,
    "start_time": "2025-01-17T16:02:28.218Z"
   },
   {
    "duration": 20,
    "start_time": "2025-01-17T16:02:28.302Z"
   },
   {
    "duration": 13,
    "start_time": "2025-01-17T16:02:28.323Z"
   },
   {
    "duration": 9,
    "start_time": "2025-01-17T16:02:28.353Z"
   },
   {
    "duration": 5,
    "start_time": "2025-01-17T16:02:28.365Z"
   },
   {
    "duration": 40,
    "start_time": "2025-01-17T16:02:28.371Z"
   },
   {
    "duration": 10,
    "start_time": "2025-01-17T16:02:28.413Z"
   },
   {
    "duration": 70,
    "start_time": "2025-01-17T16:02:28.424Z"
   },
   {
    "duration": 7,
    "start_time": "2025-01-17T16:02:28.495Z"
   },
   {
    "duration": 169,
    "start_time": "2025-01-17T16:02:28.504Z"
   },
   {
    "duration": 109,
    "start_time": "2025-01-17T16:02:28.675Z"
   },
   {
    "duration": 15,
    "start_time": "2025-01-17T16:02:28.786Z"
   },
   {
    "duration": 21,
    "start_time": "2025-01-17T16:02:28.803Z"
   },
   {
    "duration": 68,
    "start_time": "2025-01-17T16:02:28.826Z"
   },
   {
    "duration": 8,
    "start_time": "2025-01-17T16:02:28.896Z"
   },
   {
    "duration": 49,
    "start_time": "2025-01-17T16:02:28.906Z"
   },
   {
    "duration": 10,
    "start_time": "2025-01-17T16:02:28.956Z"
   },
   {
    "duration": 22,
    "start_time": "2025-01-17T16:02:28.967Z"
   },
   {
    "duration": 10,
    "start_time": "2025-01-17T16:03:22.446Z"
   },
   {
    "duration": 9,
    "start_time": "2025-01-17T16:03:30.327Z"
   },
   {
    "duration": 21,
    "start_time": "2025-01-17T16:04:21.896Z"
   },
   {
    "duration": 47,
    "start_time": "2025-01-17T16:05:41.293Z"
   },
   {
    "duration": 2368,
    "start_time": "2025-01-17T16:09:21.064Z"
   },
   {
    "duration": 4,
    "start_time": "2025-01-17T16:09:23.434Z"
   },
   {
    "duration": 10,
    "start_time": "2025-01-17T16:09:23.440Z"
   },
   {
    "duration": 74,
    "start_time": "2025-01-17T16:09:23.453Z"
   },
   {
    "duration": 13,
    "start_time": "2025-01-17T16:09:23.529Z"
   },
   {
    "duration": 934,
    "start_time": "2025-01-17T16:09:23.544Z"
   },
   {
    "duration": 109,
    "start_time": "2025-01-17T16:09:24.479Z"
   },
   {
    "duration": 185,
    "start_time": "2025-01-17T16:09:24.589Z"
   },
   {
    "duration": 24,
    "start_time": "2025-01-17T16:09:24.776Z"
   },
   {
    "duration": 205,
    "start_time": "2025-01-17T16:09:24.802Z"
   },
   {
    "duration": 20,
    "start_time": "2025-01-17T16:09:25.009Z"
   },
   {
    "duration": 90,
    "start_time": "2025-01-17T16:09:25.030Z"
   },
   {
    "duration": 14,
    "start_time": "2025-01-17T16:09:25.121Z"
   },
   {
    "duration": 138,
    "start_time": "2025-01-17T16:09:25.137Z"
   },
   {
    "duration": 10,
    "start_time": "2025-01-17T16:09:25.276Z"
   },
   {
    "duration": 348,
    "start_time": "2025-01-17T16:09:25.287Z"
   },
   {
    "duration": 45,
    "start_time": "2025-01-17T16:09:25.637Z"
   },
   {
    "duration": 4,
    "start_time": "2025-01-17T16:09:25.683Z"
   },
   {
    "duration": 38,
    "start_time": "2025-01-17T16:09:25.689Z"
   },
   {
    "duration": 25,
    "start_time": "2025-01-17T16:09:25.729Z"
   },
   {
    "duration": 159,
    "start_time": "2025-01-17T16:09:25.755Z"
   },
   {
    "duration": 5,
    "start_time": "2025-01-17T16:09:25.916Z"
   },
   {
    "duration": 11,
    "start_time": "2025-01-17T16:09:25.922Z"
   },
   {
    "duration": 87,
    "start_time": "2025-01-17T16:09:25.934Z"
   },
   {
    "duration": 31,
    "start_time": "2025-01-17T16:09:26.023Z"
   },
   {
    "duration": 14,
    "start_time": "2025-01-17T16:09:26.055Z"
   },
   {
    "duration": 9,
    "start_time": "2025-01-17T16:09:26.071Z"
   },
   {
    "duration": 11,
    "start_time": "2025-01-17T16:09:26.083Z"
   },
   {
    "duration": 59,
    "start_time": "2025-01-17T16:09:26.096Z"
   },
   {
    "duration": 10,
    "start_time": "2025-01-17T16:09:26.157Z"
   },
   {
    "duration": 42,
    "start_time": "2025-01-17T16:09:26.169Z"
   },
   {
    "duration": 8,
    "start_time": "2025-01-17T16:09:26.212Z"
   },
   {
    "duration": 183,
    "start_time": "2025-01-17T16:09:26.221Z"
   },
   {
    "duration": 102,
    "start_time": "2025-01-17T16:09:26.405Z"
   },
   {
    "duration": 15,
    "start_time": "2025-01-17T16:09:26.508Z"
   },
   {
    "duration": 22,
    "start_time": "2025-01-17T16:09:26.525Z"
   },
   {
    "duration": 59,
    "start_time": "2025-01-17T16:09:26.548Z"
   },
   {
    "duration": 6,
    "start_time": "2025-01-17T16:09:26.609Z"
   },
   {
    "duration": 12,
    "start_time": "2025-01-17T16:09:26.616Z"
   },
   {
    "duration": 30,
    "start_time": "2025-01-17T16:09:26.629Z"
   },
   {
    "duration": 47,
    "start_time": "2025-01-17T16:09:26.661Z"
   },
   {
    "duration": 54,
    "start_time": "2025-01-17T16:09:26.710Z"
   },
   {
    "duration": 48399,
    "start_time": "2025-01-17T16:09:26.766Z"
   },
   {
    "duration": 17,
    "start_time": "2025-01-17T16:11:22.028Z"
   },
   {
    "duration": 96,
    "start_time": "2025-01-17T16:12:01.325Z"
   },
   {
    "duration": 2345,
    "start_time": "2025-01-17T16:14:38.692Z"
   },
   {
    "duration": 1273,
    "start_time": "2025-01-17T16:14:41.040Z"
   },
   {
    "duration": 3,
    "start_time": "2025-01-17T16:14:42.314Z"
   },
   {
    "duration": 55,
    "start_time": "2025-01-17T16:14:42.319Z"
   },
   {
    "duration": 14,
    "start_time": "2025-01-17T16:14:42.375Z"
   },
   {
    "duration": 1023,
    "start_time": "2025-01-17T16:14:42.391Z"
   },
   {
    "duration": 99,
    "start_time": "2025-01-17T16:14:43.415Z"
   },
   {
    "duration": 182,
    "start_time": "2025-01-17T16:14:43.516Z"
   },
   {
    "duration": 29,
    "start_time": "2025-01-17T16:14:43.700Z"
   },
   {
    "duration": 228,
    "start_time": "2025-01-17T16:14:43.733Z"
   },
   {
    "duration": 20,
    "start_time": "2025-01-17T16:14:43.962Z"
   },
   {
    "duration": 72,
    "start_time": "2025-01-17T16:14:43.983Z"
   },
   {
    "duration": 15,
    "start_time": "2025-01-17T16:14:44.056Z"
   },
   {
    "duration": 131,
    "start_time": "2025-01-17T16:14:44.072Z"
   },
   {
    "duration": 15,
    "start_time": "2025-01-17T16:14:44.205Z"
   },
   {
    "duration": 381,
    "start_time": "2025-01-17T16:14:44.221Z"
   },
   {
    "duration": 51,
    "start_time": "2025-01-17T16:14:44.604Z"
   },
   {
    "duration": 5,
    "start_time": "2025-01-17T16:14:44.656Z"
   },
   {
    "duration": 64,
    "start_time": "2025-01-17T16:14:44.662Z"
   },
   {
    "duration": 30,
    "start_time": "2025-01-17T16:14:44.728Z"
   },
   {
    "duration": 155,
    "start_time": "2025-01-17T16:14:44.760Z"
   },
   {
    "duration": 6,
    "start_time": "2025-01-17T16:14:44.917Z"
   },
   {
    "duration": 104,
    "start_time": "2025-01-17T16:14:44.924Z"
   },
   {
    "duration": 102,
    "start_time": "2025-01-17T16:14:45.030Z"
   },
   {
    "duration": 79,
    "start_time": "2025-01-17T16:14:45.133Z"
   },
   {
    "duration": 32,
    "start_time": "2025-01-17T16:14:45.214Z"
   },
   {
    "duration": 37,
    "start_time": "2025-01-17T16:14:45.247Z"
   },
   {
    "duration": 43,
    "start_time": "2025-01-17T16:14:45.288Z"
   },
   {
    "duration": 57,
    "start_time": "2025-01-17T16:14:45.333Z"
   },
   {
    "duration": 63,
    "start_time": "2025-01-17T16:14:45.392Z"
   },
   {
    "duration": 52,
    "start_time": "2025-01-17T16:14:45.457Z"
   },
   {
    "duration": 11,
    "start_time": "2025-01-17T16:14:45.511Z"
   },
   {
    "duration": 167,
    "start_time": "2025-01-17T16:14:45.524Z"
   },
   {
    "duration": 106,
    "start_time": "2025-01-17T16:14:45.693Z"
   },
   {
    "duration": 14,
    "start_time": "2025-01-17T16:14:45.801Z"
   },
   {
    "duration": 16,
    "start_time": "2025-01-17T16:14:45.817Z"
   },
   {
    "duration": 72,
    "start_time": "2025-01-17T16:14:45.835Z"
   },
   {
    "duration": 7,
    "start_time": "2025-01-17T16:14:45.908Z"
   },
   {
    "duration": 42,
    "start_time": "2025-01-17T16:14:45.916Z"
   },
   {
    "duration": 8,
    "start_time": "2025-01-17T16:14:45.959Z"
   },
   {
    "duration": 52,
    "start_time": "2025-01-17T16:14:45.968Z"
   },
   {
    "duration": 59,
    "start_time": "2025-01-17T16:14:46.021Z"
   },
   {
    "duration": 47985,
    "start_time": "2025-01-17T16:14:46.081Z"
   },
   {
    "duration": 43,
    "start_time": "2025-01-17T16:15:34.067Z"
   },
   {
    "duration": 95,
    "start_time": "2025-01-17T16:15:34.112Z"
   },
   {
    "duration": 77,
    "start_time": "2025-01-17T16:15:34.209Z"
   },
   {
    "duration": 39,
    "start_time": "2025-01-17T16:15:34.288Z"
   },
   {
    "duration": 26,
    "start_time": "2025-01-17T16:15:34.328Z"
   },
   {
    "duration": 871,
    "start_time": "2025-01-17T16:15:34.356Z"
   },
   {
    "duration": 258,
    "start_time": "2025-01-17T16:15:35.229Z"
   },
   {
    "duration": 243,
    "start_time": "2025-01-17T16:15:35.488Z"
   },
   {
    "duration": 3515,
    "start_time": "2025-01-20T10:25:46.559Z"
   },
   {
    "duration": 1425,
    "start_time": "2025-01-20T10:25:50.077Z"
   },
   {
    "duration": 4,
    "start_time": "2025-01-20T10:25:51.503Z"
   },
   {
    "duration": 106,
    "start_time": "2025-01-20T10:25:51.508Z"
   },
   {
    "duration": 17,
    "start_time": "2025-01-20T10:25:51.616Z"
   },
   {
    "duration": 1058,
    "start_time": "2025-01-20T10:25:51.634Z"
   },
   {
    "duration": 113,
    "start_time": "2025-01-20T10:25:52.694Z"
   },
   {
    "duration": 219,
    "start_time": "2025-01-20T10:25:52.809Z"
   },
   {
    "duration": 26,
    "start_time": "2025-01-20T10:25:53.029Z"
   },
   {
    "duration": 188,
    "start_time": "2025-01-20T10:25:53.057Z"
   },
   {
    "duration": 28,
    "start_time": "2025-01-20T10:25:53.247Z"
   },
   {
    "duration": 61,
    "start_time": "2025-01-20T10:25:53.276Z"
   },
   {
    "duration": 15,
    "start_time": "2025-01-20T10:25:53.339Z"
   },
   {
    "duration": 94,
    "start_time": "2025-01-20T10:25:53.357Z"
   },
   {
    "duration": 10,
    "start_time": "2025-01-20T10:25:53.453Z"
   },
   {
    "duration": 381,
    "start_time": "2025-01-20T10:25:53.465Z"
   },
   {
    "duration": 54,
    "start_time": "2025-01-20T10:25:53.848Z"
   },
   {
    "duration": 5,
    "start_time": "2025-01-20T10:25:53.904Z"
   },
   {
    "duration": 76,
    "start_time": "2025-01-20T10:25:53.911Z"
   },
   {
    "duration": 17,
    "start_time": "2025-01-20T10:25:53.988Z"
   },
   {
    "duration": 196,
    "start_time": "2025-01-20T10:25:54.007Z"
   },
   {
    "duration": 5,
    "start_time": "2025-01-20T10:25:54.205Z"
   },
   {
    "duration": 8,
    "start_time": "2025-01-20T10:25:54.211Z"
   },
   {
    "duration": 90,
    "start_time": "2025-01-20T10:25:54.220Z"
   },
   {
    "duration": 21,
    "start_time": "2025-01-20T10:25:54.312Z"
   },
   {
    "duration": 11,
    "start_time": "2025-01-20T10:25:54.335Z"
   },
   {
    "duration": 25,
    "start_time": "2025-01-20T10:25:54.348Z"
   },
   {
    "duration": 6,
    "start_time": "2025-01-20T10:25:54.375Z"
   },
   {
    "duration": 135,
    "start_time": "2025-01-20T10:25:54.382Z"
   },
   {
    "duration": 11,
    "start_time": "2025-01-20T10:25:54.519Z"
   },
   {
    "duration": 44,
    "start_time": "2025-01-20T10:25:54.531Z"
   },
   {
    "duration": 8,
    "start_time": "2025-01-20T10:25:54.577Z"
   },
   {
    "duration": 193,
    "start_time": "2025-01-20T10:25:54.587Z"
   },
   {
    "duration": 111,
    "start_time": "2025-01-20T10:25:54.781Z"
   },
   {
    "duration": 16,
    "start_time": "2025-01-20T10:25:54.894Z"
   },
   {
    "duration": 15,
    "start_time": "2025-01-20T10:25:54.912Z"
   },
   {
    "duration": 81,
    "start_time": "2025-01-20T10:25:54.928Z"
   },
   {
    "duration": 7,
    "start_time": "2025-01-20T10:25:55.011Z"
   },
   {
    "duration": 29,
    "start_time": "2025-01-20T10:25:55.020Z"
   },
   {
    "duration": 9,
    "start_time": "2025-01-20T10:25:55.051Z"
   },
   {
    "duration": 63,
    "start_time": "2025-01-20T10:25:55.069Z"
   },
   {
    "duration": 55,
    "start_time": "2025-01-20T10:25:55.133Z"
   },
   {
    "duration": 52840,
    "start_time": "2025-01-20T10:25:55.189Z"
   },
   {
    "duration": 54,
    "start_time": "2025-01-20T10:26:48.031Z"
   },
   {
    "duration": 90,
    "start_time": "2025-01-20T10:26:48.086Z"
   },
   {
    "duration": 76,
    "start_time": "2025-01-20T10:26:48.178Z"
   },
   {
    "duration": 55,
    "start_time": "2025-01-20T10:26:48.255Z"
   },
   {
    "duration": 9,
    "start_time": "2025-01-20T10:26:48.312Z"
   },
   {
    "duration": 995,
    "start_time": "2025-01-20T10:26:48.323Z"
   },
   {
    "duration": 281,
    "start_time": "2025-01-20T10:26:49.319Z"
   },
   {
    "duration": 261,
    "start_time": "2025-01-20T10:26:49.602Z"
   },
   {
    "duration": 30,
    "start_time": "2025-01-20T10:34:32.943Z"
   },
   {
    "duration": 36,
    "start_time": "2025-01-20T10:34:41.394Z"
   },
   {
    "duration": 18,
    "start_time": "2025-01-20T10:34:51.694Z"
   },
   {
    "duration": 34,
    "start_time": "2025-01-20T10:35:01.477Z"
   },
   {
    "duration": 30,
    "start_time": "2025-01-20T10:35:44.610Z"
   },
   {
    "duration": 71,
    "start_time": "2025-01-20T10:35:48.628Z"
   },
   {
    "duration": 7,
    "start_time": "2025-01-20T10:36:13.864Z"
   },
   {
    "duration": 12,
    "start_time": "2025-01-20T10:36:16.899Z"
   },
   {
    "duration": 8,
    "start_time": "2025-01-20T10:36:27.700Z"
   },
   {
    "duration": 64,
    "start_time": "2025-01-20T10:36:28.181Z"
   },
   {
    "duration": 13,
    "start_time": "2025-01-20T10:39:21.300Z"
   },
   {
    "duration": 13,
    "start_time": "2025-01-20T10:39:25.764Z"
   },
   {
    "duration": 49,
    "start_time": "2025-01-20T10:39:38.680Z"
   },
   {
    "duration": 13,
    "start_time": "2025-01-20T10:41:18.472Z"
   },
   {
    "duration": 9,
    "start_time": "2025-01-20T10:41:22.595Z"
   },
   {
    "duration": 48,
    "start_time": "2025-01-20T10:41:31.079Z"
   },
   {
    "duration": 2608,
    "start_time": "2025-01-20T10:53:08.535Z"
   },
   {
    "duration": 1251,
    "start_time": "2025-01-20T10:53:11.146Z"
   },
   {
    "duration": 3,
    "start_time": "2025-01-20T10:53:12.399Z"
   },
   {
    "duration": 64,
    "start_time": "2025-01-20T10:53:12.404Z"
   },
   {
    "duration": 15,
    "start_time": "2025-01-20T10:53:12.469Z"
   },
   {
    "duration": 1035,
    "start_time": "2025-01-20T10:53:12.486Z"
   },
   {
    "duration": 110,
    "start_time": "2025-01-20T10:53:13.523Z"
   },
   {
    "duration": 197,
    "start_time": "2025-01-20T10:53:13.635Z"
   },
   {
    "duration": 37,
    "start_time": "2025-01-20T10:53:13.834Z"
   },
   {
    "duration": 625,
    "start_time": "2025-01-20T10:53:13.874Z"
   },
   {
    "duration": 22,
    "start_time": "2025-01-20T10:53:14.501Z"
   },
   {
    "duration": 178,
    "start_time": "2025-01-20T10:53:14.525Z"
   },
   {
    "duration": 15,
    "start_time": "2025-01-20T10:53:14.705Z"
   },
   {
    "duration": 98,
    "start_time": "2025-01-20T10:53:14.722Z"
   },
   {
    "duration": 12,
    "start_time": "2025-01-20T10:53:14.822Z"
   },
   {
    "duration": 385,
    "start_time": "2025-01-20T10:53:14.836Z"
   },
   {
    "duration": 52,
    "start_time": "2025-01-20T10:53:15.222Z"
   },
   {
    "duration": 100,
    "start_time": "2025-01-20T10:53:15.276Z"
   },
   {
    "duration": 71,
    "start_time": "2025-01-20T10:53:15.378Z"
   },
   {
    "duration": 18,
    "start_time": "2025-01-20T10:53:15.451Z"
   },
   {
    "duration": 189,
    "start_time": "2025-01-20T10:53:15.470Z"
   },
   {
    "duration": 9,
    "start_time": "2025-01-20T10:53:15.661Z"
   },
   {
    "duration": 28,
    "start_time": "2025-01-20T10:53:15.672Z"
   },
   {
    "duration": 144,
    "start_time": "2025-01-20T10:53:15.702Z"
   },
   {
    "duration": 29,
    "start_time": "2025-01-20T10:53:15.848Z"
   },
   {
    "duration": 53,
    "start_time": "2025-01-20T10:53:15.879Z"
   },
   {
    "duration": 9,
    "start_time": "2025-01-20T10:53:15.934Z"
   },
   {
    "duration": 6,
    "start_time": "2025-01-20T10:53:15.946Z"
   },
   {
    "duration": 38,
    "start_time": "2025-01-20T10:53:15.953Z"
   },
   {
    "duration": 10,
    "start_time": "2025-01-20T10:53:15.993Z"
   },
   {
    "duration": 38,
    "start_time": "2025-01-20T10:53:16.005Z"
   },
   {
    "duration": 27,
    "start_time": "2025-01-20T10:53:16.045Z"
   },
   {
    "duration": 187,
    "start_time": "2025-01-20T10:53:16.074Z"
   },
   {
    "duration": 114,
    "start_time": "2025-01-20T10:53:16.262Z"
   },
   {
    "duration": 17,
    "start_time": "2025-01-20T10:53:16.377Z"
   },
   {
    "duration": 41,
    "start_time": "2025-01-20T10:53:16.395Z"
   },
   {
    "duration": 71,
    "start_time": "2025-01-20T10:53:16.437Z"
   },
   {
    "duration": 7,
    "start_time": "2025-01-20T10:53:16.509Z"
   },
   {
    "duration": 115,
    "start_time": "2025-01-20T10:53:16.517Z"
   },
   {
    "duration": 28,
    "start_time": "2025-01-20T10:53:16.633Z"
   },
   {
    "duration": 62,
    "start_time": "2025-01-20T10:53:16.663Z"
   },
   {
    "duration": 43,
    "start_time": "2025-01-20T10:53:16.726Z"
   },
   {
    "duration": 54312,
    "start_time": "2025-01-20T10:53:16.771Z"
   },
   {
    "duration": 48,
    "start_time": "2025-01-20T10:54:11.085Z"
   },
   {
    "duration": 105,
    "start_time": "2025-01-20T10:54:11.135Z"
   },
   {
    "duration": 85,
    "start_time": "2025-01-20T10:54:11.242Z"
   },
   {
    "duration": 57,
    "start_time": "2025-01-20T10:54:11.329Z"
   },
   {
    "duration": 9,
    "start_time": "2025-01-20T10:54:11.388Z"
   },
   {
    "duration": 936,
    "start_time": "2025-01-20T10:54:11.399Z"
   },
   {
    "duration": 272,
    "start_time": "2025-01-20T10:54:12.336Z"
   },
   {
    "duration": 268,
    "start_time": "2025-01-20T10:54:12.609Z"
   },
   {
    "duration": 103,
    "start_time": "2025-01-20T10:56:16.160Z"
   },
   {
    "duration": 40,
    "start_time": "2025-01-20T11:04:32.565Z"
   },
   {
    "duration": 8,
    "start_time": "2025-01-20T11:59:18.378Z"
   },
   {
    "duration": 8,
    "start_time": "2025-01-20T12:01:07.547Z"
   },
   {
    "duration": 111,
    "start_time": "2025-01-20T12:06:10.589Z"
   },
   {
    "duration": 159,
    "start_time": "2025-01-20T12:06:22.239Z"
   },
   {
    "duration": 163,
    "start_time": "2025-01-20T12:07:09.654Z"
   },
   {
    "duration": 157,
    "start_time": "2025-01-20T12:07:20.972Z"
   },
   {
    "duration": 147,
    "start_time": "2025-01-20T12:07:31.420Z"
   },
   {
    "duration": 145,
    "start_time": "2025-01-20T12:07:37.686Z"
   },
   {
    "duration": 124,
    "start_time": "2025-01-20T12:11:36.971Z"
   },
   {
    "duration": 115,
    "start_time": "2025-01-20T12:12:06.590Z"
   },
   {
    "duration": 233,
    "start_time": "2025-01-20T12:13:44.744Z"
   },
   {
    "duration": 149,
    "start_time": "2025-01-20T12:13:51.757Z"
   },
   {
    "duration": 148,
    "start_time": "2025-01-20T12:14:01.854Z"
   },
   {
    "duration": 173,
    "start_time": "2025-01-20T12:14:08.404Z"
   },
   {
    "duration": 137,
    "start_time": "2025-01-20T12:14:38.255Z"
   },
   {
    "duration": 4,
    "start_time": "2025-01-20T12:22:29.005Z"
   },
   {
    "duration": 13,
    "start_time": "2025-01-20T12:25:27.388Z"
   },
   {
    "duration": 12,
    "start_time": "2025-01-20T12:26:10.578Z"
   },
   {
    "duration": 14,
    "start_time": "2025-01-20T12:28:18.768Z"
   },
   {
    "duration": 39,
    "start_time": "2025-01-20T12:28:32.922Z"
   },
   {
    "duration": 43,
    "start_time": "2025-01-20T12:28:58.245Z"
   },
   {
    "duration": 8,
    "start_time": "2025-01-20T12:33:13.204Z"
   },
   {
    "duration": 7,
    "start_time": "2025-01-20T12:34:04.490Z"
   },
   {
    "duration": 41,
    "start_time": "2025-01-20T12:34:10.539Z"
   },
   {
    "duration": 74,
    "start_time": "2025-01-20T12:55:48.010Z"
   },
   {
    "duration": 8,
    "start_time": "2025-01-20T12:55:54.200Z"
   },
   {
    "duration": 7,
    "start_time": "2025-01-20T13:00:21.384Z"
   },
   {
    "duration": 5,
    "start_time": "2025-01-20T13:09:52.958Z"
   },
   {
    "duration": 31,
    "start_time": "2025-01-20T13:10:00.124Z"
   },
   {
    "duration": 56,
    "start_time": "2025-01-20T15:11:16.565Z"
   },
   {
    "duration": 3796,
    "start_time": "2025-01-20T15:11:21.172Z"
   },
   {
    "duration": 1317,
    "start_time": "2025-01-20T15:11:24.971Z"
   },
   {
    "duration": 3,
    "start_time": "2025-01-20T15:11:26.289Z"
   },
   {
    "duration": 90,
    "start_time": "2025-01-20T15:11:26.294Z"
   },
   {
    "duration": 15,
    "start_time": "2025-01-20T15:11:26.385Z"
   },
   {
    "duration": 1107,
    "start_time": "2025-01-20T15:11:26.402Z"
   },
   {
    "duration": 96,
    "start_time": "2025-01-20T15:11:27.511Z"
   },
   {
    "duration": 221,
    "start_time": "2025-01-20T15:11:27.608Z"
   },
   {
    "duration": 21,
    "start_time": "2025-01-20T15:11:27.831Z"
   },
   {
    "duration": 251,
    "start_time": "2025-01-20T15:11:27.854Z"
   },
   {
    "duration": 17,
    "start_time": "2025-01-20T15:11:28.107Z"
   },
   {
    "duration": 88,
    "start_time": "2025-01-20T15:11:28.125Z"
   },
   {
    "duration": 11,
    "start_time": "2025-01-20T15:11:28.215Z"
   },
   {
    "duration": 130,
    "start_time": "2025-01-20T15:11:28.228Z"
   },
   {
    "duration": 10,
    "start_time": "2025-01-20T15:11:28.360Z"
   },
   {
    "duration": 360,
    "start_time": "2025-01-20T15:11:28.372Z"
   },
   {
    "duration": 42,
    "start_time": "2025-01-20T15:11:28.734Z"
   },
   {
    "duration": 7,
    "start_time": "2025-01-20T15:11:28.778Z"
   },
   {
    "duration": 74,
    "start_time": "2025-01-20T15:11:28.787Z"
   },
   {
    "duration": 16,
    "start_time": "2025-01-20T15:11:28.862Z"
   },
   {
    "duration": 146,
    "start_time": "2025-01-20T15:11:28.879Z"
   },
   {
    "duration": 5,
    "start_time": "2025-01-20T15:11:29.026Z"
   },
   {
    "duration": 51,
    "start_time": "2025-01-20T15:11:29.032Z"
   },
   {
    "duration": 82,
    "start_time": "2025-01-20T15:11:29.084Z"
   },
   {
    "duration": 17,
    "start_time": "2025-01-20T15:11:29.167Z"
   },
   {
    "duration": 37,
    "start_time": "2025-01-20T15:11:29.186Z"
   },
   {
    "duration": 28,
    "start_time": "2025-01-20T15:11:29.224Z"
   },
   {
    "duration": 29,
    "start_time": "2025-01-20T15:11:29.255Z"
   },
   {
    "duration": 29,
    "start_time": "2025-01-20T15:11:29.286Z"
   },
   {
    "duration": 8,
    "start_time": "2025-01-20T15:11:29.317Z"
   },
   {
    "duration": 35,
    "start_time": "2025-01-20T15:11:29.327Z"
   },
   {
    "duration": 7,
    "start_time": "2025-01-20T15:11:29.364Z"
   },
   {
    "duration": 166,
    "start_time": "2025-01-20T15:11:29.372Z"
   },
   {
    "duration": 91,
    "start_time": "2025-01-20T15:11:29.540Z"
   },
   {
    "duration": 13,
    "start_time": "2025-01-20T15:11:29.633Z"
   },
   {
    "duration": 36,
    "start_time": "2025-01-20T15:11:29.653Z"
   },
   {
    "duration": 49,
    "start_time": "2025-01-20T15:11:29.691Z"
   },
   {
    "duration": 14,
    "start_time": "2025-01-20T15:11:29.742Z"
   },
   {
    "duration": 11,
    "start_time": "2025-01-20T15:11:29.757Z"
   },
   {
    "duration": 7,
    "start_time": "2025-01-20T15:11:29.769Z"
   },
   {
    "duration": 81,
    "start_time": "2025-01-20T15:11:29.777Z"
   },
   {
    "duration": 36,
    "start_time": "2025-01-20T15:11:29.860Z"
   },
   {
    "duration": 39908,
    "start_time": "2025-01-20T15:11:29.897Z"
   },
   {
    "duration": 51,
    "start_time": "2025-01-20T15:12:09.807Z"
   },
   {
    "duration": 68,
    "start_time": "2025-01-20T15:12:09.859Z"
   },
   {
    "duration": 84,
    "start_time": "2025-01-20T15:12:09.928Z"
   },
   {
    "duration": 50,
    "start_time": "2025-01-20T15:12:10.013Z"
   },
   {
    "duration": 7,
    "start_time": "2025-01-20T15:12:10.065Z"
   },
   {
    "duration": 816,
    "start_time": "2025-01-20T15:12:10.073Z"
   },
   {
    "duration": 240,
    "start_time": "2025-01-20T15:12:10.891Z"
   },
   {
    "duration": 225,
    "start_time": "2025-01-20T15:12:11.132Z"
   },
   {
    "duration": 76,
    "start_time": "2025-01-20T15:12:11.358Z"
   },
   {
    "duration": 22,
    "start_time": "2025-01-20T15:12:11.435Z"
   },
   {
    "duration": 153,
    "start_time": "2025-01-20T15:12:11.458Z"
   },
   {
    "duration": 45,
    "start_time": "2025-01-20T15:12:11.613Z"
   },
   {
    "duration": 17,
    "start_time": "2025-01-20T15:12:11.659Z"
   },
   {
    "duration": 47,
    "start_time": "2025-01-20T15:12:11.677Z"
   },
   {
    "duration": 35,
    "start_time": "2025-01-20T15:12:11.725Z"
   },
   {
    "duration": 118,
    "start_time": "2025-01-20T15:16:57.804Z"
   },
   {
    "duration": 114,
    "start_time": "2025-01-20T15:17:17.850Z"
   },
   {
    "duration": 108,
    "start_time": "2025-01-20T15:31:00.433Z"
   },
   {
    "duration": 7,
    "start_time": "2025-01-20T15:31:08.833Z"
   },
   {
    "duration": 13,
    "start_time": "2025-01-20T15:31:15.229Z"
   },
   {
    "duration": 8,
    "start_time": "2025-01-20T15:32:03.901Z"
   },
   {
    "duration": 10,
    "start_time": "2025-01-20T15:32:10.463Z"
   },
   {
    "duration": 7,
    "start_time": "2025-01-20T15:32:15.569Z"
   },
   {
    "duration": 7,
    "start_time": "2025-01-20T15:32:38.464Z"
   },
   {
    "duration": 14,
    "start_time": "2025-01-20T15:32:43.080Z"
   },
   {
    "duration": 1219,
    "start_time": "2025-01-20T15:53:12.349Z"
   },
   {
    "duration": 1423,
    "start_time": "2025-01-20T15:53:43.970Z"
   },
   {
    "duration": 1415,
    "start_time": "2025-01-20T15:55:10.884Z"
   },
   {
    "duration": 5,
    "start_time": "2025-01-20T15:55:50.215Z"
   },
   {
    "duration": 6,
    "start_time": "2025-01-20T15:56:04.397Z"
   },
   {
    "duration": 31,
    "start_time": "2025-01-20T15:56:18.744Z"
   },
   {
    "duration": 3539,
    "start_time": "2025-01-20T20:55:58.231Z"
   },
   {
    "duration": 1395,
    "start_time": "2025-01-20T20:56:01.772Z"
   },
   {
    "duration": 3,
    "start_time": "2025-01-20T20:56:03.169Z"
   },
   {
    "duration": 98,
    "start_time": "2025-01-20T20:56:03.174Z"
   },
   {
    "duration": 16,
    "start_time": "2025-01-20T20:56:03.273Z"
   },
   {
    "duration": 1083,
    "start_time": "2025-01-20T20:56:03.290Z"
   },
   {
    "duration": 104,
    "start_time": "2025-01-20T20:56:04.375Z"
   },
   {
    "duration": 231,
    "start_time": "2025-01-20T20:56:04.481Z"
   },
   {
    "duration": 31,
    "start_time": "2025-01-20T20:56:04.714Z"
   },
   {
    "duration": 266,
    "start_time": "2025-01-20T20:56:04.748Z"
   },
   {
    "duration": 28,
    "start_time": "2025-01-20T20:56:05.015Z"
   },
   {
    "duration": 122,
    "start_time": "2025-01-20T20:56:05.045Z"
   },
   {
    "duration": 14,
    "start_time": "2025-01-20T20:56:05.168Z"
   },
   {
    "duration": 137,
    "start_time": "2025-01-20T20:56:05.183Z"
   },
   {
    "duration": 11,
    "start_time": "2025-01-20T20:56:05.322Z"
   },
   {
    "duration": 308,
    "start_time": "2025-01-20T20:56:05.334Z"
   },
   {
    "duration": 43,
    "start_time": "2025-01-20T20:56:05.643Z"
   },
   {
    "duration": 6,
    "start_time": "2025-01-20T20:56:05.687Z"
   },
   {
    "duration": 62,
    "start_time": "2025-01-20T20:56:05.695Z"
   },
   {
    "duration": 18,
    "start_time": "2025-01-20T20:56:05.759Z"
   },
   {
    "duration": 202,
    "start_time": "2025-01-20T20:56:05.778Z"
   },
   {
    "duration": 5,
    "start_time": "2025-01-20T20:56:05.982Z"
   },
   {
    "duration": 8,
    "start_time": "2025-01-20T20:56:05.989Z"
   },
   {
    "duration": 107,
    "start_time": "2025-01-20T20:56:05.998Z"
   },
   {
    "duration": 33,
    "start_time": "2025-01-20T20:56:06.107Z"
   },
   {
    "duration": 13,
    "start_time": "2025-01-20T20:56:06.142Z"
   },
   {
    "duration": 31,
    "start_time": "2025-01-20T20:56:06.157Z"
   },
   {
    "duration": 7,
    "start_time": "2025-01-20T20:56:06.193Z"
   },
   {
    "duration": 48,
    "start_time": "2025-01-20T20:56:06.202Z"
   },
   {
    "duration": 36,
    "start_time": "2025-01-20T20:56:06.252Z"
   },
   {
    "duration": 52,
    "start_time": "2025-01-20T20:56:06.291Z"
   },
   {
    "duration": 10,
    "start_time": "2025-01-20T20:56:06.345Z"
   },
   {
    "duration": 184,
    "start_time": "2025-01-20T20:56:06.356Z"
   },
   {
    "duration": 120,
    "start_time": "2025-01-20T20:56:06.542Z"
   },
   {
    "duration": 17,
    "start_time": "2025-01-20T20:56:06.664Z"
   },
   {
    "duration": 39,
    "start_time": "2025-01-20T20:56:06.682Z"
   },
   {
    "duration": 78,
    "start_time": "2025-01-20T20:56:06.723Z"
   },
   {
    "duration": 8,
    "start_time": "2025-01-20T20:56:06.803Z"
   },
   {
    "duration": 34,
    "start_time": "2025-01-20T20:56:06.813Z"
   },
   {
    "duration": 26,
    "start_time": "2025-01-20T20:56:06.849Z"
   },
   {
    "duration": 75,
    "start_time": "2025-01-20T20:56:06.878Z"
   },
   {
    "duration": 45,
    "start_time": "2025-01-20T20:56:06.955Z"
   },
   {
    "duration": 50197,
    "start_time": "2025-01-20T20:56:07.002Z"
   },
   {
    "duration": 57,
    "start_time": "2025-01-20T20:56:57.201Z"
   },
   {
    "duration": 83,
    "start_time": "2025-01-20T20:56:57.261Z"
   },
   {
    "duration": 70,
    "start_time": "2025-01-20T20:56:57.346Z"
   },
   {
    "duration": 60,
    "start_time": "2025-01-20T20:56:57.418Z"
   },
   {
    "duration": 9,
    "start_time": "2025-01-20T20:56:57.479Z"
   },
   {
    "duration": 964,
    "start_time": "2025-01-20T20:56:57.489Z"
   },
   {
    "duration": 272,
    "start_time": "2025-01-20T20:56:58.454Z"
   },
   {
    "duration": 262,
    "start_time": "2025-01-20T20:56:58.727Z"
   },
   {
    "duration": 105,
    "start_time": "2025-01-20T20:56:58.990Z"
   },
   {
    "duration": 8,
    "start_time": "2025-01-20T20:56:59.097Z"
   },
   {
    "duration": 151,
    "start_time": "2025-01-20T20:56:59.106Z"
   },
   {
    "duration": 45,
    "start_time": "2025-01-20T20:56:59.258Z"
   },
   {
    "duration": 9,
    "start_time": "2025-01-20T20:56:59.304Z"
   },
   {
    "duration": 52,
    "start_time": "2025-01-20T20:56:59.314Z"
   },
   {
    "duration": 7,
    "start_time": "2025-01-20T20:56:59.368Z"
   },
   {
    "duration": 139,
    "start_time": "2025-01-20T20:56:59.377Z"
   },
   {
    "duration": 5,
    "start_time": "2025-01-20T20:56:59.517Z"
   },
   {
    "duration": 47,
    "start_time": "2025-01-20T20:56:59.523Z"
   },
   {
    "duration": 79,
    "start_time": "2025-01-20T20:56:59.572Z"
   },
   {
    "duration": 112,
    "start_time": "2025-01-20T21:02:41.706Z"
   },
   {
    "duration": 19,
    "start_time": "2025-01-20T21:02:50.402Z"
   },
   {
    "duration": 16,
    "start_time": "2025-01-20T21:03:18.369Z"
   },
   {
    "duration": 17,
    "start_time": "2025-01-20T21:03:27.485Z"
   },
   {
    "duration": 9,
    "start_time": "2025-01-20T21:05:59.122Z"
   },
   {
    "duration": 15,
    "start_time": "2025-01-20T21:06:04.426Z"
   },
   {
    "duration": 15,
    "start_time": "2025-01-20T21:08:45.877Z"
   },
   {
    "duration": 15,
    "start_time": "2025-01-20T21:08:54.391Z"
   },
   {
    "duration": 13,
    "start_time": "2025-01-20T21:14:00.591Z"
   },
   {
    "duration": 10,
    "start_time": "2025-01-20T21:14:15.351Z"
   },
   {
    "duration": 8,
    "start_time": "2025-01-20T21:14:36.985Z"
   },
   {
    "duration": 17,
    "start_time": "2025-01-20T21:14:41.685Z"
   },
   {
    "duration": 8,
    "start_time": "2025-01-20T21:15:11.502Z"
   },
   {
    "duration": 13,
    "start_time": "2025-01-20T21:15:16.591Z"
   },
   {
    "duration": 9,
    "start_time": "2025-01-20T21:17:09.953Z"
   },
   {
    "duration": 15,
    "start_time": "2025-01-20T21:17:14.764Z"
   },
   {
    "duration": 15,
    "start_time": "2025-01-20T21:21:16.484Z"
   },
   {
    "duration": 6,
    "start_time": "2025-01-20T21:21:58.134Z"
   },
   {
    "duration": 10,
    "start_time": "2025-01-20T21:24:17.359Z"
   },
   {
    "duration": 11,
    "start_time": "2025-01-20T21:26:07.423Z"
   },
   {
    "duration": 12,
    "start_time": "2025-01-20T21:26:24.291Z"
   },
   {
    "duration": 11,
    "start_time": "2025-01-20T21:26:42.551Z"
   },
   {
    "duration": 14,
    "start_time": "2025-01-20T21:26:43.606Z"
   },
   {
    "duration": 6,
    "start_time": "2025-01-20T21:26:59.101Z"
   },
   {
    "duration": 10,
    "start_time": "2025-01-20T21:27:00.003Z"
   },
   {
    "duration": 15,
    "start_time": "2025-01-20T21:27:01.456Z"
   },
   {
    "duration": 11,
    "start_time": "2025-01-20T21:28:58.226Z"
   },
   {
    "duration": 15,
    "start_time": "2025-01-20T21:30:30.756Z"
   },
   {
    "duration": 6,
    "start_time": "2025-01-20T21:30:41.795Z"
   },
   {
    "duration": 14,
    "start_time": "2025-01-20T21:30:46.627Z"
   },
   {
    "duration": 10,
    "start_time": "2025-01-20T21:30:55.053Z"
   },
   {
    "duration": 9,
    "start_time": "2025-01-20T21:30:59.303Z"
   },
   {
    "duration": 2673,
    "start_time": "2025-01-20T21:39:29.997Z"
   },
   {
    "duration": 1251,
    "start_time": "2025-01-20T21:39:32.673Z"
   },
   {
    "duration": 3,
    "start_time": "2025-01-20T21:39:33.926Z"
   },
   {
    "duration": 69,
    "start_time": "2025-01-20T21:39:33.931Z"
   },
   {
    "duration": 16,
    "start_time": "2025-01-20T21:39:34.002Z"
   },
   {
    "duration": 1189,
    "start_time": "2025-01-20T21:39:34.019Z"
   },
   {
    "duration": 111,
    "start_time": "2025-01-20T21:39:35.210Z"
   },
   {
    "duration": 257,
    "start_time": "2025-01-20T21:39:35.322Z"
   },
   {
    "duration": 26,
    "start_time": "2025-01-20T21:39:35.581Z"
   },
   {
    "duration": 260,
    "start_time": "2025-01-20T21:39:35.608Z"
   },
   {
    "duration": 21,
    "start_time": "2025-01-20T21:39:35.870Z"
   },
   {
    "duration": 76,
    "start_time": "2025-01-20T21:39:35.893Z"
   },
   {
    "duration": 16,
    "start_time": "2025-01-20T21:39:35.971Z"
   },
   {
    "duration": 165,
    "start_time": "2025-01-20T21:39:35.991Z"
   },
   {
    "duration": 11,
    "start_time": "2025-01-20T21:39:36.158Z"
   },
   {
    "duration": 403,
    "start_time": "2025-01-20T21:39:36.170Z"
   },
   {
    "duration": 41,
    "start_time": "2025-01-20T21:39:36.575Z"
   },
   {
    "duration": 4,
    "start_time": "2025-01-20T21:39:36.618Z"
   },
   {
    "duration": 71,
    "start_time": "2025-01-20T21:39:36.624Z"
   },
   {
    "duration": 20,
    "start_time": "2025-01-20T21:39:36.696Z"
   },
   {
    "duration": 241,
    "start_time": "2025-01-20T21:39:36.718Z"
   },
   {
    "duration": 5,
    "start_time": "2025-01-20T21:39:36.960Z"
   },
   {
    "duration": 13,
    "start_time": "2025-01-20T21:39:36.967Z"
   },
   {
    "duration": 92,
    "start_time": "2025-01-20T21:39:36.982Z"
   },
   {
    "duration": 20,
    "start_time": "2025-01-20T21:39:37.076Z"
   },
   {
    "duration": 22,
    "start_time": "2025-01-20T21:39:37.098Z"
   },
   {
    "duration": 17,
    "start_time": "2025-01-20T21:39:37.122Z"
   },
   {
    "duration": 33,
    "start_time": "2025-01-20T21:39:37.141Z"
   },
   {
    "duration": 42,
    "start_time": "2025-01-20T21:39:37.175Z"
   },
   {
    "duration": 11,
    "start_time": "2025-01-20T21:39:37.219Z"
   },
   {
    "duration": 46,
    "start_time": "2025-01-20T21:39:37.232Z"
   },
   {
    "duration": 8,
    "start_time": "2025-01-20T21:39:37.280Z"
   },
   {
    "duration": 208,
    "start_time": "2025-01-20T21:39:37.289Z"
   },
   {
    "duration": 125,
    "start_time": "2025-01-20T21:39:37.499Z"
   },
   {
    "duration": 29,
    "start_time": "2025-01-20T21:39:37.626Z"
   },
   {
    "duration": 30,
    "start_time": "2025-01-20T21:39:37.657Z"
   },
   {
    "duration": 86,
    "start_time": "2025-01-20T21:39:37.689Z"
   },
   {
    "duration": 8,
    "start_time": "2025-01-20T21:39:37.777Z"
   },
   {
    "duration": 14,
    "start_time": "2025-01-20T21:39:37.787Z"
   },
   {
    "duration": 46,
    "start_time": "2025-01-20T21:39:37.803Z"
   },
   {
    "duration": 58,
    "start_time": "2025-01-20T21:39:37.854Z"
   },
   {
    "duration": 52,
    "start_time": "2025-01-20T21:39:37.914Z"
   },
   {
    "duration": 54734,
    "start_time": "2025-01-20T21:39:37.967Z"
   },
   {
    "duration": 60,
    "start_time": "2025-01-20T21:40:32.702Z"
   },
   {
    "duration": 89,
    "start_time": "2025-01-20T21:40:32.764Z"
   },
   {
    "duration": 88,
    "start_time": "2025-01-20T21:40:32.855Z"
   },
   {
    "duration": 44,
    "start_time": "2025-01-20T21:40:32.946Z"
   },
   {
    "duration": 10,
    "start_time": "2025-01-20T21:40:32.992Z"
   },
   {
    "duration": 978,
    "start_time": "2025-01-20T21:40:33.003Z"
   },
   {
    "duration": 278,
    "start_time": "2025-01-20T21:40:33.983Z"
   },
   {
    "duration": 285,
    "start_time": "2025-01-20T21:40:34.263Z"
   },
   {
    "duration": 108,
    "start_time": "2025-01-20T21:40:34.550Z"
   },
   {
    "duration": 8,
    "start_time": "2025-01-20T21:40:34.659Z"
   },
   {
    "duration": 159,
    "start_time": "2025-01-20T21:40:34.668Z"
   },
   {
    "duration": 60,
    "start_time": "2025-01-20T21:40:34.828Z"
   },
   {
    "duration": 8,
    "start_time": "2025-01-20T21:40:34.890Z"
   },
   {
    "duration": 59,
    "start_time": "2025-01-20T21:40:34.899Z"
   },
   {
    "duration": 8,
    "start_time": "2025-01-20T21:40:34.959Z"
   },
   {
    "duration": 153,
    "start_time": "2025-01-20T21:40:34.969Z"
   },
   {
    "duration": 16,
    "start_time": "2025-01-20T21:40:35.124Z"
   },
   {
    "duration": 57,
    "start_time": "2025-01-20T21:40:35.142Z"
   },
   {
    "duration": 14,
    "start_time": "2025-01-20T21:40:35.200Z"
   },
   {
    "duration": 28,
    "start_time": "2025-01-20T21:40:35.216Z"
   },
   {
    "duration": 20,
    "start_time": "2025-01-20T21:40:35.246Z"
   },
   {
    "duration": 23,
    "start_time": "2025-01-20T21:40:35.268Z"
   },
   {
    "duration": 19,
    "start_time": "2025-01-20T21:40:35.293Z"
   },
   {
    "duration": 40,
    "start_time": "2025-01-20T21:40:35.313Z"
   },
   {
    "duration": 5,
    "start_time": "2025-01-20T21:44:12.723Z"
   },
   {
    "duration": 30,
    "start_time": "2025-01-20T21:44:28.800Z"
   },
   {
    "duration": 8,
    "start_time": "2025-01-20T21:45:07.048Z"
   },
   {
    "duration": 5,
    "start_time": "2025-01-20T21:54:31.908Z"
   },
   {
    "duration": 5,
    "start_time": "2025-01-20T21:55:13.187Z"
   },
   {
    "duration": 110,
    "start_time": "2025-01-20T21:57:14.784Z"
   },
   {
    "duration": 4,
    "start_time": "2025-01-20T21:57:16.865Z"
   },
   {
    "duration": 13,
    "start_time": "2025-01-20T21:58:59.223Z"
   },
   {
    "duration": 13,
    "start_time": "2025-01-20T22:08:59.968Z"
   },
   {
    "duration": 16,
    "start_time": "2025-01-20T22:09:33.962Z"
   },
   {
    "duration": 6,
    "start_time": "2025-01-20T22:09:41.671Z"
   },
   {
    "duration": 5,
    "start_time": "2025-01-20T22:11:30.952Z"
   },
   {
    "duration": 4,
    "start_time": "2025-01-20T22:11:52.301Z"
   },
   {
    "duration": 3,
    "start_time": "2025-01-20T22:12:48.684Z"
   },
   {
    "duration": 5,
    "start_time": "2025-01-20T22:12:53.816Z"
   },
   {
    "duration": 13,
    "start_time": "2025-01-20T22:13:20.484Z"
   },
   {
    "duration": 11,
    "start_time": "2025-01-20T22:13:50.401Z"
   },
   {
    "duration": 9,
    "start_time": "2025-01-20T22:14:26.184Z"
   },
   {
    "duration": 6,
    "start_time": "2025-01-20T22:14:28.718Z"
   },
   {
    "duration": 2840,
    "start_time": "2025-01-20T22:18:36.622Z"
   },
   {
    "duration": 1289,
    "start_time": "2025-01-20T22:18:39.465Z"
   },
   {
    "duration": 4,
    "start_time": "2025-01-20T22:18:40.757Z"
   },
   {
    "duration": 111,
    "start_time": "2025-01-20T22:18:40.763Z"
   },
   {
    "duration": 15,
    "start_time": "2025-01-20T22:18:40.876Z"
   },
   {
    "duration": 1334,
    "start_time": "2025-01-20T22:18:40.892Z"
   },
   {
    "duration": 136,
    "start_time": "2025-01-20T22:18:42.228Z"
   },
   {
    "duration": 291,
    "start_time": "2025-01-20T22:18:42.366Z"
   },
   {
    "duration": 34,
    "start_time": "2025-01-20T22:18:42.659Z"
   },
   {
    "duration": 294,
    "start_time": "2025-01-20T22:18:42.694Z"
   },
   {
    "duration": 20,
    "start_time": "2025-01-20T22:18:42.989Z"
   },
   {
    "duration": 113,
    "start_time": "2025-01-20T22:18:43.010Z"
   },
   {
    "duration": 16,
    "start_time": "2025-01-20T22:18:43.125Z"
   },
   {
    "duration": 168,
    "start_time": "2025-01-20T22:18:43.151Z"
   },
   {
    "duration": 13,
    "start_time": "2025-01-20T22:18:43.321Z"
   },
   {
    "duration": 520,
    "start_time": "2025-01-20T22:18:43.335Z"
   },
   {
    "duration": 46,
    "start_time": "2025-01-20T22:18:43.858Z"
   },
   {
    "duration": 5,
    "start_time": "2025-01-20T22:18:43.905Z"
   },
   {
    "duration": 83,
    "start_time": "2025-01-20T22:18:43.911Z"
   },
   {
    "duration": 16,
    "start_time": "2025-01-20T22:18:43.996Z"
   },
   {
    "duration": 230,
    "start_time": "2025-01-20T22:18:44.014Z"
   },
   {
    "duration": 12,
    "start_time": "2025-01-20T22:18:44.247Z"
   },
   {
    "duration": 11,
    "start_time": "2025-01-20T22:18:44.262Z"
   },
   {
    "duration": 111,
    "start_time": "2025-01-20T22:18:44.275Z"
   },
   {
    "duration": 22,
    "start_time": "2025-01-20T22:18:44.387Z"
   },
   {
    "duration": 12,
    "start_time": "2025-01-20T22:18:44.410Z"
   },
   {
    "duration": 40,
    "start_time": "2025-01-20T22:18:44.424Z"
   },
   {
    "duration": 8,
    "start_time": "2025-01-20T22:18:44.466Z"
   },
   {
    "duration": 38,
    "start_time": "2025-01-20T22:18:44.475Z"
   },
   {
    "duration": 34,
    "start_time": "2025-01-20T22:18:44.515Z"
   },
   {
    "duration": 46,
    "start_time": "2025-01-20T22:18:44.552Z"
   },
   {
    "duration": 8,
    "start_time": "2025-01-20T22:18:44.600Z"
   },
   {
    "duration": 205,
    "start_time": "2025-01-20T22:18:44.609Z"
   },
   {
    "duration": 135,
    "start_time": "2025-01-20T22:18:44.815Z"
   },
   {
    "duration": 25,
    "start_time": "2025-01-20T22:18:44.951Z"
   },
   {
    "duration": 38,
    "start_time": "2025-01-20T22:18:44.978Z"
   },
   {
    "duration": 92,
    "start_time": "2025-01-20T22:18:45.018Z"
   },
   {
    "duration": 7,
    "start_time": "2025-01-20T22:18:45.112Z"
   },
   {
    "duration": 50,
    "start_time": "2025-01-20T22:18:45.120Z"
   },
   {
    "duration": 35,
    "start_time": "2025-01-20T22:18:45.171Z"
   },
   {
    "duration": 87,
    "start_time": "2025-01-20T22:18:45.210Z"
   },
   {
    "duration": 59,
    "start_time": "2025-01-20T22:18:45.298Z"
   },
   {
    "duration": 60393,
    "start_time": "2025-01-20T22:18:45.359Z"
   },
   {
    "duration": 48,
    "start_time": "2025-01-20T22:19:45.760Z"
   },
   {
    "duration": 104,
    "start_time": "2025-01-20T22:19:45.810Z"
   },
   {
    "duration": 89,
    "start_time": "2025-01-20T22:19:45.916Z"
   },
   {
    "duration": 68,
    "start_time": "2025-01-20T22:19:46.006Z"
   },
   {
    "duration": 10,
    "start_time": "2025-01-20T22:19:46.076Z"
   },
   {
    "duration": 1069,
    "start_time": "2025-01-20T22:19:46.087Z"
   },
   {
    "duration": 295,
    "start_time": "2025-01-20T22:19:47.159Z"
   },
   {
    "duration": 289,
    "start_time": "2025-01-20T22:19:47.456Z"
   },
   {
    "duration": 114,
    "start_time": "2025-01-20T22:19:47.747Z"
   },
   {
    "duration": 10,
    "start_time": "2025-01-20T22:19:47.863Z"
   },
   {
    "duration": 189,
    "start_time": "2025-01-20T22:19:47.875Z"
   },
   {
    "duration": 39,
    "start_time": "2025-01-20T22:19:48.066Z"
   },
   {
    "duration": 8,
    "start_time": "2025-01-20T22:19:48.107Z"
   },
   {
    "duration": 61,
    "start_time": "2025-01-20T22:19:48.116Z"
   },
   {
    "duration": 7,
    "start_time": "2025-01-20T22:19:48.179Z"
   },
   {
    "duration": 190,
    "start_time": "2025-01-20T22:19:48.187Z"
   },
   {
    "duration": 33,
    "start_time": "2025-01-20T22:19:48.379Z"
   },
   {
    "duration": 38,
    "start_time": "2025-01-20T22:19:48.414Z"
   },
   {
    "duration": 7,
    "start_time": "2025-01-20T22:19:48.458Z"
   },
   {
    "duration": 15,
    "start_time": "2025-01-20T22:19:48.467Z"
   },
   {
    "duration": 9,
    "start_time": "2025-01-20T22:19:48.483Z"
   },
   {
    "duration": 10,
    "start_time": "2025-01-20T22:19:48.494Z"
   },
   {
    "duration": 3856,
    "start_time": "2025-01-21T11:51:29.447Z"
   },
   {
    "duration": 1391,
    "start_time": "2025-01-21T11:51:33.306Z"
   },
   {
    "duration": 2,
    "start_time": "2025-01-21T11:51:34.699Z"
   },
   {
    "duration": 58,
    "start_time": "2025-01-21T11:51:34.703Z"
   },
   {
    "duration": 13,
    "start_time": "2025-01-21T11:51:34.763Z"
   },
   {
    "duration": 1087,
    "start_time": "2025-01-21T11:51:34.778Z"
   },
   {
    "duration": 92,
    "start_time": "2025-01-21T11:51:35.867Z"
   },
   {
    "duration": 206,
    "start_time": "2025-01-21T11:51:35.961Z"
   },
   {
    "duration": 25,
    "start_time": "2025-01-21T11:51:36.169Z"
   },
   {
    "duration": 235,
    "start_time": "2025-01-21T11:51:36.196Z"
   },
   {
    "duration": 19,
    "start_time": "2025-01-21T11:51:36.432Z"
   },
   {
    "duration": 112,
    "start_time": "2025-01-21T11:51:36.452Z"
   },
   {
    "duration": 16,
    "start_time": "2025-01-21T11:51:36.569Z"
   },
   {
    "duration": 223,
    "start_time": "2025-01-21T11:51:36.589Z"
   },
   {
    "duration": 13,
    "start_time": "2025-01-21T11:51:36.814Z"
   },
   {
    "duration": 1594,
    "start_time": "2025-01-21T11:51:36.828Z"
   },
   {
    "duration": 41,
    "start_time": "2025-01-21T11:51:38.424Z"
   },
   {
    "duration": 4,
    "start_time": "2025-01-21T11:51:38.467Z"
   },
   {
    "duration": 53,
    "start_time": "2025-01-21T11:51:38.472Z"
   },
   {
    "duration": 32,
    "start_time": "2025-01-21T11:51:38.527Z"
   },
   {
    "duration": 148,
    "start_time": "2025-01-21T11:51:38.560Z"
   },
   {
    "duration": 33,
    "start_time": "2025-01-21T11:51:38.709Z"
   },
   {
    "duration": 17,
    "start_time": "2025-01-21T11:51:38.743Z"
   },
   {
    "duration": 61,
    "start_time": "2025-01-21T11:51:38.761Z"
   },
   {
    "duration": 16,
    "start_time": "2025-01-21T11:51:38.823Z"
   },
   {
    "duration": 19,
    "start_time": "2025-01-21T11:51:38.841Z"
   },
   {
    "duration": 7,
    "start_time": "2025-01-21T11:51:38.861Z"
   },
   {
    "duration": 64,
    "start_time": "2025-01-21T11:51:38.870Z"
   },
   {
    "duration": 28,
    "start_time": "2025-01-21T11:51:38.935Z"
   },
   {
    "duration": 8,
    "start_time": "2025-01-21T11:51:38.965Z"
   },
   {
    "duration": 37,
    "start_time": "2025-01-21T11:51:38.975Z"
   },
   {
    "duration": 8,
    "start_time": "2025-01-21T11:51:39.014Z"
   },
   {
    "duration": 185,
    "start_time": "2025-01-21T11:51:39.024Z"
   },
   {
    "duration": 93,
    "start_time": "2025-01-21T11:51:39.211Z"
   },
   {
    "duration": 13,
    "start_time": "2025-01-21T11:51:39.305Z"
   },
   {
    "duration": 41,
    "start_time": "2025-01-21T11:51:39.319Z"
   },
   {
    "duration": 60,
    "start_time": "2025-01-21T11:51:39.362Z"
   },
   {
    "duration": 26,
    "start_time": "2025-01-21T11:51:39.423Z"
   },
   {
    "duration": 14,
    "start_time": "2025-01-21T11:51:39.451Z"
   },
   {
    "duration": 11,
    "start_time": "2025-01-21T11:51:39.467Z"
   },
   {
    "duration": 84,
    "start_time": "2025-01-21T11:51:39.482Z"
   },
   {
    "duration": 46,
    "start_time": "2025-01-21T11:51:39.568Z"
   },
   {
    "duration": 38726,
    "start_time": "2025-01-21T11:51:39.615Z"
   },
   {
    "duration": 41,
    "start_time": "2025-01-21T11:52:18.345Z"
   },
   {
    "duration": 79,
    "start_time": "2025-01-21T11:52:18.387Z"
   },
   {
    "duration": 63,
    "start_time": "2025-01-21T11:52:18.468Z"
   },
   {
    "duration": 42,
    "start_time": "2025-01-21T11:52:18.545Z"
   },
   {
    "duration": 8,
    "start_time": "2025-01-21T11:52:18.589Z"
   },
   {
    "duration": 809,
    "start_time": "2025-01-21T11:52:18.599Z"
   },
   {
    "duration": 253,
    "start_time": "2025-01-21T11:52:19.409Z"
   },
   {
    "duration": 244,
    "start_time": "2025-01-21T11:52:19.664Z"
   },
   {
    "duration": 85,
    "start_time": "2025-01-21T11:52:19.909Z"
   },
   {
    "duration": 6,
    "start_time": "2025-01-21T11:52:19.996Z"
   },
   {
    "duration": 144,
    "start_time": "2025-01-21T11:52:20.004Z"
   },
   {
    "duration": 38,
    "start_time": "2025-01-21T11:52:20.149Z"
   },
   {
    "duration": 7,
    "start_time": "2025-01-21T11:52:20.189Z"
   },
   {
    "duration": 49,
    "start_time": "2025-01-21T11:52:20.197Z"
   },
   {
    "duration": 6,
    "start_time": "2025-01-21T11:52:20.248Z"
   },
   {
    "duration": 127,
    "start_time": "2025-01-21T11:52:20.255Z"
   },
   {
    "duration": 29,
    "start_time": "2025-01-21T11:52:20.383Z"
   },
   {
    "duration": 6,
    "start_time": "2025-01-21T11:52:20.414Z"
   },
   {
    "duration": 24,
    "start_time": "2025-01-21T11:52:20.422Z"
   },
   {
    "duration": 20,
    "start_time": "2025-01-21T11:52:20.448Z"
   },
   {
    "duration": 7,
    "start_time": "2025-01-21T11:52:20.470Z"
   },
   {
    "duration": 6,
    "start_time": "2025-01-21T11:52:20.478Z"
   },
   {
    "duration": 29,
    "start_time": "2025-01-21T12:06:11.426Z"
   },
   {
    "duration": 79,
    "start_time": "2025-01-21T12:08:43.857Z"
   },
   {
    "duration": 94,
    "start_time": "2025-01-21T12:08:50.377Z"
   },
   {
    "duration": 84,
    "start_time": "2025-01-21T12:08:55.054Z"
   },
   {
    "duration": 106,
    "start_time": "2025-01-21T12:09:02.837Z"
   },
   {
    "duration": 12,
    "start_time": "2025-01-21T12:09:28.754Z"
   },
   {
    "duration": 8,
    "start_time": "2025-01-21T12:10:07.028Z"
   },
   {
    "duration": 1920,
    "start_time": "2025-01-21T12:11:37.963Z"
   },
   {
    "duration": 5,
    "start_time": "2025-01-21T12:12:20.037Z"
   },
   {
    "duration": 5,
    "start_time": "2025-01-21T12:13:23.126Z"
   },
   {
    "duration": 6,
    "start_time": "2025-01-21T12:14:18.607Z"
   },
   {
    "duration": 8,
    "start_time": "2025-01-21T12:15:38.555Z"
   },
   {
    "duration": 8,
    "start_time": "2025-01-21T12:17:05.505Z"
   },
   {
    "duration": 118,
    "start_time": "2025-01-21T12:17:44.839Z"
   },
   {
    "duration": 8,
    "start_time": "2025-01-21T12:18:55.189Z"
   },
   {
    "duration": 117,
    "start_time": "2025-01-21T12:19:01.908Z"
   },
   {
    "duration": 28,
    "start_time": "2025-01-21T12:19:33.425Z"
   },
   {
    "duration": 8,
    "start_time": "2025-01-21T12:19:34.239Z"
   },
   {
    "duration": 5,
    "start_time": "2025-01-21T12:19:35.001Z"
   },
   {
    "duration": 4,
    "start_time": "2025-01-21T12:22:17.623Z"
   },
   {
    "duration": 6,
    "start_time": "2025-01-21T12:22:32.396Z"
   },
   {
    "duration": 147,
    "start_time": "2025-01-21T12:27:05.812Z"
   },
   {
    "duration": 155,
    "start_time": "2025-01-21T12:27:36.176Z"
   },
   {
    "duration": 145,
    "start_time": "2025-01-21T12:31:34.009Z"
   },
   {
    "duration": 200,
    "start_time": "2025-01-21T12:32:25.915Z"
   },
   {
    "duration": 134,
    "start_time": "2025-01-21T12:32:40.229Z"
   },
   {
    "duration": 134,
    "start_time": "2025-01-21T12:32:49.881Z"
   },
   {
    "duration": 7,
    "start_time": "2025-01-21T12:35:08.792Z"
   },
   {
    "duration": 141,
    "start_time": "2025-01-21T12:36:41.031Z"
   },
   {
    "duration": 157,
    "start_time": "2025-01-21T12:38:45.342Z"
   },
   {
    "duration": 11,
    "start_time": "2025-01-21T12:44:00.978Z"
   },
   {
    "duration": 10,
    "start_time": "2025-01-21T12:44:34.792Z"
   },
   {
    "duration": 28,
    "start_time": "2025-01-21T12:44:43.878Z"
   },
   {
    "duration": 6,
    "start_time": "2025-01-21T12:46:18.236Z"
   },
   {
    "duration": 5,
    "start_time": "2025-01-21T12:47:32.295Z"
   },
   {
    "duration": 4,
    "start_time": "2025-01-21T12:54:17.465Z"
   },
   {
    "duration": 6,
    "start_time": "2025-01-21T12:55:04.263Z"
   },
   {
    "duration": 6,
    "start_time": "2025-01-21T12:59:00.243Z"
   },
   {
    "duration": 2657,
    "start_time": "2025-01-21T13:11:06.920Z"
   },
   {
    "duration": 1125,
    "start_time": "2025-01-21T13:11:09.579Z"
   },
   {
    "duration": 3,
    "start_time": "2025-01-21T13:11:10.705Z"
   },
   {
    "duration": 138,
    "start_time": "2025-01-21T13:11:10.709Z"
   },
   {
    "duration": 14,
    "start_time": "2025-01-21T13:11:10.849Z"
   },
   {
    "duration": 2729,
    "start_time": "2025-01-21T13:11:10.864Z"
   },
   {
    "duration": 92,
    "start_time": "2025-01-21T13:11:13.595Z"
   },
   {
    "duration": 452,
    "start_time": "2025-01-21T13:11:13.689Z"
   },
   {
    "duration": 21,
    "start_time": "2025-01-21T13:11:14.142Z"
   },
   {
    "duration": 637,
    "start_time": "2025-01-21T13:11:14.165Z"
   },
   {
    "duration": 18,
    "start_time": "2025-01-21T13:11:14.803Z"
   },
   {
    "duration": 761,
    "start_time": "2025-01-21T13:11:14.823Z"
   },
   {
    "duration": 14,
    "start_time": "2025-01-21T13:11:15.586Z"
   },
   {
    "duration": 118,
    "start_time": "2025-01-21T13:11:15.601Z"
   },
   {
    "duration": 11,
    "start_time": "2025-01-21T13:11:15.721Z"
   },
   {
    "duration": 442,
    "start_time": "2025-01-21T13:11:15.734Z"
   },
   {
    "duration": 45,
    "start_time": "2025-01-21T13:11:16.181Z"
   },
   {
    "duration": 40,
    "start_time": "2025-01-21T13:11:16.228Z"
   },
   {
    "duration": 61,
    "start_time": "2025-01-21T13:11:16.269Z"
   },
   {
    "duration": 16,
    "start_time": "2025-01-21T13:11:16.332Z"
   },
   {
    "duration": 178,
    "start_time": "2025-01-21T13:11:16.349Z"
   },
   {
    "duration": 4,
    "start_time": "2025-01-21T13:11:16.529Z"
   },
   {
    "duration": 23,
    "start_time": "2025-01-21T13:11:16.535Z"
   },
   {
    "duration": 64,
    "start_time": "2025-01-21T13:11:16.559Z"
   },
   {
    "duration": 22,
    "start_time": "2025-01-21T13:11:16.624Z"
   },
   {
    "duration": 9,
    "start_time": "2025-01-21T13:11:16.648Z"
   },
   {
    "duration": 25,
    "start_time": "2025-01-21T13:11:16.659Z"
   },
   {
    "duration": 5,
    "start_time": "2025-01-21T13:11:16.689Z"
   },
   {
    "duration": 29,
    "start_time": "2025-01-21T13:11:16.695Z"
   },
   {
    "duration": 20,
    "start_time": "2025-01-21T13:11:16.726Z"
   },
   {
    "duration": 36,
    "start_time": "2025-01-21T13:11:16.747Z"
   },
   {
    "duration": 7,
    "start_time": "2025-01-21T13:11:16.785Z"
   },
   {
    "duration": 180,
    "start_time": "2025-01-21T13:11:16.794Z"
   },
   {
    "duration": 103,
    "start_time": "2025-01-21T13:11:16.976Z"
   },
   {
    "duration": 28,
    "start_time": "2025-01-21T13:11:17.081Z"
   },
   {
    "duration": 29,
    "start_time": "2025-01-21T13:11:17.111Z"
   },
   {
    "duration": 59,
    "start_time": "2025-01-21T13:11:17.143Z"
   },
   {
    "duration": 6,
    "start_time": "2025-01-21T13:11:17.204Z"
   },
   {
    "duration": 83,
    "start_time": "2025-01-21T13:11:17.211Z"
   },
   {
    "duration": 7,
    "start_time": "2025-01-21T13:11:17.296Z"
   },
   {
    "duration": 49,
    "start_time": "2025-01-21T13:11:17.305Z"
   },
   {
    "duration": 34,
    "start_time": "2025-01-21T13:11:17.356Z"
   },
   {
    "duration": 39055,
    "start_time": "2025-01-21T13:11:17.391Z"
   },
   {
    "duration": 42,
    "start_time": "2025-01-21T13:11:56.448Z"
   },
   {
    "duration": 84,
    "start_time": "2025-01-21T13:11:56.492Z"
   },
   {
    "duration": 72,
    "start_time": "2025-01-21T13:11:56.577Z"
   },
   {
    "duration": 43,
    "start_time": "2025-01-21T13:11:56.651Z"
   },
   {
    "duration": 8,
    "start_time": "2025-01-21T13:11:56.696Z"
   },
   {
    "duration": 830,
    "start_time": "2025-01-21T13:11:56.705Z"
   },
   {
    "duration": 262,
    "start_time": "2025-01-21T13:11:57.537Z"
   },
   {
    "duration": 265,
    "start_time": "2025-01-21T13:11:57.801Z"
   },
   {
    "duration": 100,
    "start_time": "2025-01-21T13:11:58.067Z"
   },
   {
    "duration": 6,
    "start_time": "2025-01-21T13:11:58.169Z"
   },
   {
    "duration": 142,
    "start_time": "2025-01-21T13:11:58.177Z"
   },
   {
    "duration": 43,
    "start_time": "2025-01-21T13:11:58.320Z"
   },
   {
    "duration": 8,
    "start_time": "2025-01-21T13:11:58.365Z"
   },
   {
    "duration": 32,
    "start_time": "2025-01-21T13:11:58.374Z"
   },
   {
    "duration": 4,
    "start_time": "2025-01-21T13:11:58.408Z"
   },
   {
    "duration": 35,
    "start_time": "2025-01-21T13:11:58.413Z"
   },
   {
    "duration": 151,
    "start_time": "2025-01-21T13:11:58.449Z"
   },
   {
    "duration": 7,
    "start_time": "2025-01-21T13:11:58.601Z"
   },
   {
    "duration": 154,
    "start_time": "2025-01-21T13:11:58.610Z"
   },
   {
    "duration": 174,
    "start_time": "2025-01-21T13:11:58.766Z"
   },
   {
    "duration": 10,
    "start_time": "2025-01-21T13:11:58.946Z"
   },
   {
    "duration": 48,
    "start_time": "2025-01-21T13:11:58.958Z"
   },
   {
    "duration": 88,
    "start_time": "2025-01-21T13:11:59.007Z"
   },
   {
    "duration": 22,
    "start_time": "2025-01-21T13:11:59.097Z"
   },
   {
    "duration": 10,
    "start_time": "2025-01-21T13:11:59.121Z"
   },
   {
    "duration": 5,
    "start_time": "2025-01-21T13:11:59.133Z"
   },
   {
    "duration": 6,
    "start_time": "2025-01-21T13:45:42.272Z"
   },
   {
    "duration": 6,
    "start_time": "2025-01-21T13:45:54.237Z"
   },
   {
    "duration": 2666,
    "start_time": "2025-01-21T15:05:18.764Z"
   },
   {
    "duration": 1210,
    "start_time": "2025-01-21T15:05:21.432Z"
   },
   {
    "duration": 2,
    "start_time": "2025-01-21T15:05:22.644Z"
   },
   {
    "duration": 130,
    "start_time": "2025-01-21T15:05:22.648Z"
   },
   {
    "duration": 14,
    "start_time": "2025-01-21T15:05:22.779Z"
   },
   {
    "duration": 929,
    "start_time": "2025-01-21T15:05:22.794Z"
   },
   {
    "duration": 89,
    "start_time": "2025-01-21T15:05:23.725Z"
   },
   {
    "duration": 273,
    "start_time": "2025-01-21T15:05:23.816Z"
   },
   {
    "duration": 20,
    "start_time": "2025-01-21T15:05:24.091Z"
   },
   {
    "duration": 214,
    "start_time": "2025-01-21T15:05:24.113Z"
   },
   {
    "duration": 18,
    "start_time": "2025-01-21T15:05:24.328Z"
   },
   {
    "duration": 126,
    "start_time": "2025-01-21T15:05:24.347Z"
   },
   {
    "duration": 13,
    "start_time": "2025-01-21T15:05:24.474Z"
   },
   {
    "duration": 170,
    "start_time": "2025-01-21T15:05:24.488Z"
   },
   {
    "duration": 9,
    "start_time": "2025-01-21T15:05:24.660Z"
   },
   {
    "duration": 318,
    "start_time": "2025-01-21T15:05:24.671Z"
   },
   {
    "duration": 32,
    "start_time": "2025-01-21T15:05:24.991Z"
   },
   {
    "duration": 4,
    "start_time": "2025-01-21T15:05:25.025Z"
   },
   {
    "duration": 59,
    "start_time": "2025-01-21T15:05:25.049Z"
   },
   {
    "duration": 16,
    "start_time": "2025-01-21T15:05:25.110Z"
   },
   {
    "duration": 153,
    "start_time": "2025-01-21T15:05:25.127Z"
   },
   {
    "duration": 5,
    "start_time": "2025-01-21T15:05:25.282Z"
   },
   {
    "duration": 9,
    "start_time": "2025-01-21T15:05:25.288Z"
   },
   {
    "duration": 70,
    "start_time": "2025-01-21T15:05:25.298Z"
   },
   {
    "duration": 15,
    "start_time": "2025-01-21T15:05:25.370Z"
   },
   {
    "duration": 67,
    "start_time": "2025-01-21T15:05:25.386Z"
   },
   {
    "duration": 79,
    "start_time": "2025-01-21T15:05:25.454Z"
   },
   {
    "duration": 32,
    "start_time": "2025-01-21T15:05:25.536Z"
   },
   {
    "duration": 96,
    "start_time": "2025-01-21T15:05:25.569Z"
   },
   {
    "duration": 46,
    "start_time": "2025-01-21T15:05:25.666Z"
   },
   {
    "duration": 36,
    "start_time": "2025-01-21T15:05:25.713Z"
   },
   {
    "duration": 6,
    "start_time": "2025-01-21T15:05:25.751Z"
   },
   {
    "duration": 154,
    "start_time": "2025-01-21T15:05:25.759Z"
   },
   {
    "duration": 90,
    "start_time": "2025-01-21T15:05:25.915Z"
   },
   {
    "duration": 12,
    "start_time": "2025-01-21T15:05:26.007Z"
   },
   {
    "duration": 36,
    "start_time": "2025-01-21T15:05:26.021Z"
   },
   {
    "duration": 53,
    "start_time": "2025-01-21T15:05:26.059Z"
   },
   {
    "duration": 8,
    "start_time": "2025-01-21T15:05:26.114Z"
   },
   {
    "duration": 31,
    "start_time": "2025-01-21T15:05:26.123Z"
   },
   {
    "duration": 7,
    "start_time": "2025-01-21T15:05:26.156Z"
   },
   {
    "duration": 69,
    "start_time": "2025-01-21T15:05:26.165Z"
   },
   {
    "duration": 36,
    "start_time": "2025-01-21T15:05:26.246Z"
   },
   {
    "duration": 38167,
    "start_time": "2025-01-21T15:05:26.283Z"
   },
   {
    "duration": 39,
    "start_time": "2025-01-21T15:06:04.452Z"
   },
   {
    "duration": 80,
    "start_time": "2025-01-21T15:06:04.493Z"
   },
   {
    "duration": 58,
    "start_time": "2025-01-21T15:06:04.575Z"
   },
   {
    "duration": 47,
    "start_time": "2025-01-21T15:06:04.635Z"
   },
   {
    "duration": 7,
    "start_time": "2025-01-21T15:06:04.684Z"
   },
   {
    "duration": 802,
    "start_time": "2025-01-21T15:06:04.692Z"
   },
   {
    "duration": 259,
    "start_time": "2025-01-21T15:06:05.496Z"
   },
   {
    "duration": 240,
    "start_time": "2025-01-21T15:06:05.757Z"
   },
   {
    "duration": 93,
    "start_time": "2025-01-21T15:06:05.999Z"
   },
   {
    "duration": 7,
    "start_time": "2025-01-21T15:06:06.094Z"
   },
   {
    "duration": 156,
    "start_time": "2025-01-21T15:06:06.103Z"
   },
   {
    "duration": 38,
    "start_time": "2025-01-21T15:06:06.261Z"
   },
   {
    "duration": 7,
    "start_time": "2025-01-21T15:06:06.301Z"
   },
   {
    "duration": 46,
    "start_time": "2025-01-21T15:06:06.310Z"
   },
   {
    "duration": 5,
    "start_time": "2025-01-21T15:06:06.357Z"
   },
   {
    "duration": 19,
    "start_time": "2025-01-21T15:06:06.364Z"
   },
   {
    "duration": 154,
    "start_time": "2025-01-21T15:06:06.385Z"
   },
   {
    "duration": 10,
    "start_time": "2025-01-21T15:06:06.541Z"
   },
   {
    "duration": 136,
    "start_time": "2025-01-21T15:06:06.552Z"
   },
   {
    "duration": 161,
    "start_time": "2025-01-21T15:06:06.690Z"
   },
   {
    "duration": 7,
    "start_time": "2025-01-21T15:06:06.852Z"
   },
   {
    "duration": 7,
    "start_time": "2025-01-21T15:06:06.861Z"
   },
   {
    "duration": 5,
    "start_time": "2025-01-21T15:06:06.870Z"
   },
   {
    "duration": 10,
    "start_time": "2025-01-21T15:06:06.877Z"
   },
   {
    "duration": 11,
    "start_time": "2025-01-21T15:06:06.889Z"
   },
   {
    "duration": 47,
    "start_time": "2025-01-21T15:06:06.901Z"
   },
   {
    "duration": 24,
    "start_time": "2025-01-21T15:06:06.950Z"
   },
   {
    "duration": 147,
    "start_time": "2025-01-21T15:08:03.814Z"
   },
   {
    "duration": 104,
    "start_time": "2025-01-21T15:12:36.591Z"
   },
   {
    "duration": 6,
    "start_time": "2025-01-21T15:17:28.594Z"
   },
   {
    "duration": 57,
    "start_time": "2025-01-21T15:28:41.346Z"
   },
   {
    "duration": 2829,
    "start_time": "2025-01-21T15:28:48.705Z"
   },
   {
    "duration": 1188,
    "start_time": "2025-01-21T15:28:51.536Z"
   },
   {
    "duration": 4,
    "start_time": "2025-01-21T15:28:52.726Z"
   },
   {
    "duration": 128,
    "start_time": "2025-01-21T15:28:52.732Z"
   },
   {
    "duration": 14,
    "start_time": "2025-01-21T15:28:52.861Z"
   },
   {
    "duration": 1006,
    "start_time": "2025-01-21T15:28:52.877Z"
   },
   {
    "duration": 97,
    "start_time": "2025-01-21T15:28:53.885Z"
   },
   {
    "duration": 236,
    "start_time": "2025-01-21T15:28:53.984Z"
   },
   {
    "duration": 30,
    "start_time": "2025-01-21T15:28:54.222Z"
   },
   {
    "duration": 257,
    "start_time": "2025-01-21T15:28:54.255Z"
   },
   {
    "duration": 17,
    "start_time": "2025-01-21T15:28:54.514Z"
   },
   {
    "duration": 110,
    "start_time": "2025-01-21T15:28:54.533Z"
   },
   {
    "duration": 14,
    "start_time": "2025-01-21T15:28:54.645Z"
   },
   {
    "duration": 62,
    "start_time": "2025-01-21T15:28:54.661Z"
   },
   {
    "duration": 10,
    "start_time": "2025-01-21T15:28:54.725Z"
   },
   {
    "duration": 325,
    "start_time": "2025-01-21T15:28:54.737Z"
   },
   {
    "duration": 32,
    "start_time": "2025-01-21T15:28:55.064Z"
   },
   {
    "duration": 5,
    "start_time": "2025-01-21T15:28:55.098Z"
   },
   {
    "duration": 73,
    "start_time": "2025-01-21T15:28:55.105Z"
   },
   {
    "duration": 16,
    "start_time": "2025-01-21T15:28:55.180Z"
   },
   {
    "duration": 182,
    "start_time": "2025-01-21T15:28:55.197Z"
   },
   {
    "duration": 6,
    "start_time": "2025-01-21T15:28:55.380Z"
   },
   {
    "duration": 10,
    "start_time": "2025-01-21T15:28:55.387Z"
   },
   {
    "duration": 80,
    "start_time": "2025-01-21T15:28:55.399Z"
   },
   {
    "duration": 27,
    "start_time": "2025-01-21T15:28:55.481Z"
   },
   {
    "duration": 20,
    "start_time": "2025-01-21T15:28:55.510Z"
   },
   {
    "duration": 7,
    "start_time": "2025-01-21T15:28:55.532Z"
   },
   {
    "duration": 14,
    "start_time": "2025-01-21T15:28:55.543Z"
   },
   {
    "duration": 116,
    "start_time": "2025-01-21T15:28:55.559Z"
   },
   {
    "duration": 113,
    "start_time": "2025-01-21T15:28:55.677Z"
   },
   {
    "duration": 32,
    "start_time": "2025-01-21T15:28:55.791Z"
   },
   {
    "duration": 7,
    "start_time": "2025-01-21T15:28:55.825Z"
   },
   {
    "duration": 156,
    "start_time": "2025-01-21T15:28:55.834Z"
   },
   {
    "duration": 85,
    "start_time": "2025-01-21T15:28:55.992Z"
   },
   {
    "duration": 13,
    "start_time": "2025-01-21T15:28:56.079Z"
   },
   {
    "duration": 28,
    "start_time": "2025-01-21T15:28:56.093Z"
   },
   {
    "duration": 87,
    "start_time": "2025-01-21T15:28:56.123Z"
   },
   {
    "duration": 10,
    "start_time": "2025-01-21T15:28:56.211Z"
   },
   {
    "duration": 28,
    "start_time": "2025-01-21T15:28:56.223Z"
   },
   {
    "duration": 8,
    "start_time": "2025-01-21T15:28:56.252Z"
   },
   {
    "duration": 58,
    "start_time": "2025-01-21T15:28:56.262Z"
   },
   {
    "duration": 38,
    "start_time": "2025-01-21T15:28:56.345Z"
   },
   {
    "duration": 39641,
    "start_time": "2025-01-21T15:28:56.385Z"
   },
   {
    "duration": 45,
    "start_time": "2025-01-21T15:29:36.027Z"
   },
   {
    "duration": 84,
    "start_time": "2025-01-21T15:29:36.073Z"
   },
   {
    "duration": 72,
    "start_time": "2025-01-21T15:29:36.158Z"
   },
   {
    "duration": 48,
    "start_time": "2025-01-21T15:29:36.231Z"
   },
   {
    "duration": 7,
    "start_time": "2025-01-21T15:29:36.280Z"
   },
   {
    "duration": 810,
    "start_time": "2025-01-21T15:29:36.289Z"
   },
   {
    "duration": 240,
    "start_time": "2025-01-21T15:29:37.101Z"
   },
   {
    "duration": 232,
    "start_time": "2025-01-21T15:29:37.343Z"
   },
   {
    "duration": 104,
    "start_time": "2025-01-21T15:29:37.577Z"
   },
   {
    "duration": 8,
    "start_time": "2025-01-21T15:29:37.682Z"
   },
   {
    "duration": 234,
    "start_time": "2025-01-21T15:29:37.691Z"
   },
   {
    "duration": 84,
    "start_time": "2025-01-21T15:29:37.926Z"
   },
   {
    "duration": 16,
    "start_time": "2025-01-21T15:29:38.012Z"
   },
   {
    "duration": 42,
    "start_time": "2025-01-21T15:29:38.029Z"
   },
   {
    "duration": 6,
    "start_time": "2025-01-21T15:29:38.073Z"
   },
   {
    "duration": 6,
    "start_time": "2025-01-21T15:29:38.080Z"
   },
   {
    "duration": 168,
    "start_time": "2025-01-21T15:29:38.088Z"
   },
   {
    "duration": 7,
    "start_time": "2025-01-21T15:29:38.258Z"
   },
   {
    "duration": 152,
    "start_time": "2025-01-21T15:29:38.267Z"
   },
   {
    "duration": 173,
    "start_time": "2025-01-21T15:29:38.421Z"
   },
   {
    "duration": 8,
    "start_time": "2025-01-21T15:29:38.596Z"
   },
   {
    "duration": 16,
    "start_time": "2025-01-21T15:29:38.605Z"
   },
   {
    "duration": 22,
    "start_time": "2025-01-21T15:29:38.623Z"
   },
   {
    "duration": 30,
    "start_time": "2025-01-21T15:29:38.647Z"
   },
   {
    "duration": 8,
    "start_time": "2025-01-21T15:29:38.679Z"
   },
   {
    "duration": 74,
    "start_time": "2025-01-21T15:29:38.688Z"
   },
   {
    "duration": 21,
    "start_time": "2025-01-21T15:29:38.764Z"
   },
   {
    "duration": 147,
    "start_time": "2025-01-21T15:29:38.787Z"
   },
   {
    "duration": 135,
    "start_time": "2025-01-21T15:29:38.936Z"
   },
   {
    "duration": 9,
    "start_time": "2025-01-21T15:29:39.072Z"
   },
   {
    "duration": 193,
    "start_time": "2025-01-21T15:33:45.096Z"
   },
   {
    "duration": 127,
    "start_time": "2025-01-21T15:33:56.695Z"
   },
   {
    "duration": 133,
    "start_time": "2025-01-21T15:34:24.307Z"
   },
   {
    "duration": 125,
    "start_time": "2025-01-21T15:37:19.778Z"
   },
   {
    "duration": 9,
    "start_time": "2025-01-21T15:41:05.295Z"
   },
   {
    "duration": 160,
    "start_time": "2025-01-21T15:41:07.195Z"
   },
   {
    "duration": 11,
    "start_time": "2025-01-21T15:46:18.384Z"
   },
   {
    "duration": 9,
    "start_time": "2025-01-21T15:46:28.319Z"
   },
   {
    "duration": 157,
    "start_time": "2025-01-21T15:46:30.921Z"
   },
   {
    "duration": 2789,
    "start_time": "2025-01-21T17:45:21.815Z"
   },
   {
    "duration": 1279,
    "start_time": "2025-01-21T17:45:24.606Z"
   },
   {
    "duration": 2,
    "start_time": "2025-01-21T17:45:25.887Z"
   },
   {
    "duration": 81,
    "start_time": "2025-01-21T17:45:25.891Z"
   },
   {
    "duration": 13,
    "start_time": "2025-01-21T17:45:25.974Z"
   },
   {
    "duration": 1207,
    "start_time": "2025-01-21T17:45:25.989Z"
   },
   {
    "duration": 98,
    "start_time": "2025-01-21T17:45:27.198Z"
   },
   {
    "duration": 215,
    "start_time": "2025-01-21T17:45:27.297Z"
   },
   {
    "duration": 49,
    "start_time": "2025-01-21T17:45:27.513Z"
   },
   {
    "duration": 262,
    "start_time": "2025-01-21T17:45:27.565Z"
   },
   {
    "duration": 24,
    "start_time": "2025-01-21T17:45:27.829Z"
   },
   {
    "duration": 72,
    "start_time": "2025-01-21T17:45:27.859Z"
   },
   {
    "duration": 23,
    "start_time": "2025-01-21T17:45:27.933Z"
   },
   {
    "duration": 115,
    "start_time": "2025-01-21T17:45:27.958Z"
   },
   {
    "duration": 10,
    "start_time": "2025-01-21T17:45:28.075Z"
   },
   {
    "duration": 377,
    "start_time": "2025-01-21T17:45:28.086Z"
   },
   {
    "duration": 32,
    "start_time": "2025-01-21T17:45:28.464Z"
   },
   {
    "duration": 4,
    "start_time": "2025-01-21T17:45:28.497Z"
   },
   {
    "duration": 63,
    "start_time": "2025-01-21T17:45:28.503Z"
   },
   {
    "duration": 16,
    "start_time": "2025-01-21T17:45:28.568Z"
   },
   {
    "duration": 183,
    "start_time": "2025-01-21T17:45:28.586Z"
   },
   {
    "duration": 6,
    "start_time": "2025-01-21T17:45:28.770Z"
   },
   {
    "duration": 8,
    "start_time": "2025-01-21T17:45:28.778Z"
   },
   {
    "duration": 96,
    "start_time": "2025-01-21T17:45:28.788Z"
   },
   {
    "duration": 16,
    "start_time": "2025-01-21T17:45:28.886Z"
   },
   {
    "duration": 10,
    "start_time": "2025-01-21T17:45:28.904Z"
   },
   {
    "duration": 7,
    "start_time": "2025-01-21T17:45:28.916Z"
   },
   {
    "duration": 10,
    "start_time": "2025-01-21T17:45:28.948Z"
   },
   {
    "duration": 29,
    "start_time": "2025-01-21T17:45:28.960Z"
   },
   {
    "duration": 27,
    "start_time": "2025-01-21T17:45:28.990Z"
   },
   {
    "duration": 47,
    "start_time": "2025-01-21T17:45:29.018Z"
   },
   {
    "duration": 10,
    "start_time": "2025-01-21T17:45:29.067Z"
   },
   {
    "duration": 188,
    "start_time": "2025-01-21T17:45:29.078Z"
   },
   {
    "duration": 94,
    "start_time": "2025-01-21T17:45:29.268Z"
   },
   {
    "duration": 16,
    "start_time": "2025-01-21T17:45:29.363Z"
   },
   {
    "duration": 28,
    "start_time": "2025-01-21T17:45:29.380Z"
   },
   {
    "duration": 74,
    "start_time": "2025-01-21T17:45:29.410Z"
   },
   {
    "duration": 7,
    "start_time": "2025-01-21T17:45:29.485Z"
   },
   {
    "duration": 12,
    "start_time": "2025-01-21T17:45:29.493Z"
   },
   {
    "duration": 8,
    "start_time": "2025-01-21T17:45:29.506Z"
   },
   {
    "duration": 86,
    "start_time": "2025-01-21T17:45:29.515Z"
   },
   {
    "duration": 32,
    "start_time": "2025-01-21T17:45:29.602Z"
   },
   {
    "duration": 42141,
    "start_time": "2025-01-21T17:45:29.635Z"
   },
   {
    "duration": 39,
    "start_time": "2025-01-21T17:46:11.777Z"
   },
   {
    "duration": 92,
    "start_time": "2025-01-21T17:46:11.818Z"
   },
   {
    "duration": 80,
    "start_time": "2025-01-21T17:46:11.913Z"
   },
   {
    "duration": 42,
    "start_time": "2025-01-21T17:46:11.994Z"
   },
   {
    "duration": 17,
    "start_time": "2025-01-21T17:46:12.038Z"
   },
   {
    "duration": 855,
    "start_time": "2025-01-21T17:46:12.057Z"
   },
   {
    "duration": 273,
    "start_time": "2025-01-21T17:46:12.914Z"
   },
   {
    "duration": 242,
    "start_time": "2025-01-21T17:46:13.189Z"
   },
   {
    "duration": 138,
    "start_time": "2025-01-21T17:46:13.433Z"
   },
   {
    "duration": 9,
    "start_time": "2025-01-21T17:46:13.572Z"
   },
   {
    "duration": 182,
    "start_time": "2025-01-21T17:46:13.583Z"
   },
   {
    "duration": 106,
    "start_time": "2025-01-21T17:46:13.767Z"
   },
   {
    "duration": 16,
    "start_time": "2025-01-21T17:46:13.874Z"
   },
   {
    "duration": 33,
    "start_time": "2025-01-21T17:46:13.891Z"
   },
   {
    "duration": 36,
    "start_time": "2025-01-21T17:46:13.925Z"
   },
   {
    "duration": 7,
    "start_time": "2025-01-21T17:46:13.963Z"
   },
   {
    "duration": 151,
    "start_time": "2025-01-21T17:46:13.971Z"
   },
   {
    "duration": 7,
    "start_time": "2025-01-21T17:46:14.123Z"
   },
   {
    "duration": 208,
    "start_time": "2025-01-21T17:46:14.131Z"
   },
   {
    "duration": 174,
    "start_time": "2025-01-21T17:46:14.340Z"
   },
   {
    "duration": 7,
    "start_time": "2025-01-21T17:46:14.516Z"
   },
   {
    "duration": 26,
    "start_time": "2025-01-21T17:46:14.524Z"
   },
   {
    "duration": 15,
    "start_time": "2025-01-21T17:46:14.553Z"
   },
   {
    "duration": 14,
    "start_time": "2025-01-21T17:46:14.570Z"
   },
   {
    "duration": 7,
    "start_time": "2025-01-21T17:46:14.586Z"
   },
   {
    "duration": 6,
    "start_time": "2025-01-21T17:46:14.594Z"
   },
   {
    "duration": 7,
    "start_time": "2025-01-21T17:46:14.601Z"
   },
   {
    "duration": 193,
    "start_time": "2025-01-21T17:46:14.609Z"
   },
   {
    "duration": 156,
    "start_time": "2025-01-21T17:46:14.803Z"
   },
   {
    "duration": 13,
    "start_time": "2025-01-21T17:46:14.962Z"
   },
   {
    "duration": 8,
    "start_time": "2025-01-21T17:46:14.977Z"
   },
   {
    "duration": 227,
    "start_time": "2025-01-21T17:46:14.986Z"
   },
   {
    "duration": 3982,
    "start_time": "2025-01-22T14:57:22.354Z"
   },
   {
    "duration": 2848,
    "start_time": "2025-01-22T14:57:26.342Z"
   },
   {
    "duration": 3,
    "start_time": "2025-01-22T14:57:29.191Z"
   },
   {
    "duration": 154,
    "start_time": "2025-01-22T14:57:29.196Z"
   },
   {
    "duration": 16,
    "start_time": "2025-01-22T14:57:29.353Z"
   },
   {
    "duration": 1278,
    "start_time": "2025-01-22T14:57:29.370Z"
   },
   {
    "duration": 112,
    "start_time": "2025-01-22T14:57:30.650Z"
   },
   {
    "duration": 292,
    "start_time": "2025-01-22T14:57:30.764Z"
   },
   {
    "duration": 28,
    "start_time": "2025-01-22T14:57:31.058Z"
   },
   {
    "duration": 243,
    "start_time": "2025-01-22T14:57:31.088Z"
   },
   {
    "duration": 33,
    "start_time": "2025-01-22T14:57:31.333Z"
   },
   {
    "duration": 351,
    "start_time": "2025-01-22T14:57:31.368Z"
   },
   {
    "duration": 20,
    "start_time": "2025-01-22T14:57:31.720Z"
   },
   {
    "duration": 156,
    "start_time": "2025-01-22T14:57:31.752Z"
   },
   {
    "duration": 11,
    "start_time": "2025-01-22T14:57:31.910Z"
   },
   {
    "duration": 485,
    "start_time": "2025-01-22T14:57:31.922Z"
   },
   {
    "duration": 53,
    "start_time": "2025-01-22T14:57:32.409Z"
   },
   {
    "duration": 5,
    "start_time": "2025-01-22T14:57:32.463Z"
   },
   {
    "duration": 90,
    "start_time": "2025-01-22T14:57:32.469Z"
   },
   {
    "duration": 17,
    "start_time": "2025-01-22T14:57:32.561Z"
   },
   {
    "duration": 227,
    "start_time": "2025-01-22T14:57:32.579Z"
   },
   {
    "duration": 5,
    "start_time": "2025-01-22T14:57:32.807Z"
   },
   {
    "duration": 12,
    "start_time": "2025-01-22T14:57:32.814Z"
   },
   {
    "duration": 85,
    "start_time": "2025-01-22T14:57:32.836Z"
   },
   {
    "duration": 37,
    "start_time": "2025-01-22T14:57:32.923Z"
   },
   {
    "duration": 61,
    "start_time": "2025-01-22T14:57:32.961Z"
   },
   {
    "duration": 24,
    "start_time": "2025-01-22T14:57:33.024Z"
   },
   {
    "duration": 17,
    "start_time": "2025-01-22T14:57:33.050Z"
   },
   {
    "duration": 53,
    "start_time": "2025-01-22T14:57:33.070Z"
   },
   {
    "duration": 37,
    "start_time": "2025-01-22T14:57:33.125Z"
   },
   {
    "duration": 44,
    "start_time": "2025-01-22T14:57:33.163Z"
   },
   {
    "duration": 9,
    "start_time": "2025-01-22T14:57:33.208Z"
   },
   {
    "duration": 233,
    "start_time": "2025-01-22T14:57:33.218Z"
   },
   {
    "duration": 113,
    "start_time": "2025-01-22T14:57:33.453Z"
   },
   {
    "duration": 16,
    "start_time": "2025-01-22T14:57:33.568Z"
   },
   {
    "duration": 48,
    "start_time": "2025-01-22T14:57:33.585Z"
   },
   {
    "duration": 75,
    "start_time": "2025-01-22T14:57:33.634Z"
   },
   {
    "duration": 8,
    "start_time": "2025-01-22T14:57:33.711Z"
   },
   {
    "duration": 29,
    "start_time": "2025-01-22T14:57:33.721Z"
   },
   {
    "duration": 10,
    "start_time": "2025-01-22T14:57:33.751Z"
   },
   {
    "duration": 70,
    "start_time": "2025-01-22T14:57:33.764Z"
   },
   {
    "duration": 50,
    "start_time": "2025-01-22T14:57:33.836Z"
   },
   {
    "duration": 55676,
    "start_time": "2025-01-22T14:57:33.888Z"
   },
   {
    "duration": 46,
    "start_time": "2025-01-22T14:58:29.566Z"
   },
   {
    "duration": 104,
    "start_time": "2025-01-22T14:58:29.613Z"
   },
   {
    "duration": 86,
    "start_time": "2025-01-22T14:58:29.718Z"
   },
   {
    "duration": 54,
    "start_time": "2025-01-22T14:58:29.806Z"
   },
   {
    "duration": 8,
    "start_time": "2025-01-22T14:58:29.862Z"
   },
   {
    "duration": 977,
    "start_time": "2025-01-22T14:58:29.872Z"
   },
   {
    "duration": 299,
    "start_time": "2025-01-22T14:58:30.851Z"
   },
   {
    "duration": 278,
    "start_time": "2025-01-22T14:58:31.153Z"
   },
   {
    "duration": 151,
    "start_time": "2025-01-22T14:58:31.433Z"
   },
   {
    "duration": 9,
    "start_time": "2025-01-22T14:58:31.586Z"
   },
   {
    "duration": 211,
    "start_time": "2025-01-22T14:58:31.596Z"
   },
   {
    "duration": 113,
    "start_time": "2025-01-22T14:58:41.052Z"
   },
   {
    "duration": 558,
    "start_time": "2025-01-22T14:58:44.762Z"
   },
   {
    "duration": 575,
    "start_time": "2025-01-22T14:59:09.142Z"
   },
   {
    "duration": 494,
    "start_time": "2025-01-22T14:59:14.263Z"
   },
   {
    "duration": 577,
    "start_time": "2025-01-22T14:59:20.620Z"
   },
   {
    "duration": 125,
    "start_time": "2025-01-22T15:02:06.227Z"
   },
   {
    "duration": 26,
    "start_time": "2025-01-22T15:02:06.492Z"
   },
   {
    "duration": 48,
    "start_time": "2025-01-22T15:02:06.701Z"
   },
   {
    "duration": 7,
    "start_time": "2025-01-22T15:02:06.958Z"
   },
   {
    "duration": 7,
    "start_time": "2025-01-22T15:02:07.203Z"
   },
   {
    "duration": 174,
    "start_time": "2025-01-22T15:02:07.507Z"
   },
   {
    "duration": 8,
    "start_time": "2025-01-22T15:02:09.398Z"
   },
   {
    "duration": 166,
    "start_time": "2025-01-22T15:02:09.882Z"
   },
   {
    "duration": 65,
    "start_time": "2025-01-22T15:02:21.020Z"
   },
   {
    "duration": 11,
    "start_time": "2025-01-22T15:07:49.516Z"
   },
   {
    "duration": 70,
    "start_time": "2025-01-22T15:08:05.800Z"
   },
   {
    "duration": 36,
    "start_time": "2025-01-22T15:10:28.650Z"
   },
   {
    "duration": 87,
    "start_time": "2025-01-22T15:11:32.419Z"
   },
   {
    "duration": 35,
    "start_time": "2025-01-22T15:11:37.164Z"
   },
   {
    "duration": 35,
    "start_time": "2025-01-22T15:11:57.580Z"
   },
   {
    "duration": 31,
    "start_time": "2025-01-22T15:12:49.289Z"
   },
   {
    "duration": 33,
    "start_time": "2025-01-22T15:13:02.974Z"
   },
   {
    "duration": 38,
    "start_time": "2025-01-22T15:13:14.050Z"
   },
   {
    "duration": 34,
    "start_time": "2025-01-22T15:17:13.485Z"
   },
   {
    "duration": 182,
    "start_time": "2025-01-22T15:17:14.175Z"
   },
   {
    "duration": 7,
    "start_time": "2025-01-22T15:17:14.994Z"
   },
   {
    "duration": 12,
    "start_time": "2025-01-22T15:17:17.243Z"
   },
   {
    "duration": 7,
    "start_time": "2025-01-22T15:17:20.119Z"
   },
   {
    "duration": 5,
    "start_time": "2025-01-22T15:20:02.496Z"
   },
   {
    "duration": 13,
    "start_time": "2025-01-22T15:20:19.649Z"
   },
   {
    "duration": 6,
    "start_time": "2025-01-22T15:21:24.597Z"
   },
   {
    "duration": 2919,
    "start_time": "2025-01-22T15:25:01.532Z"
   },
   {
    "duration": 1432,
    "start_time": "2025-01-22T15:25:04.455Z"
   },
   {
    "duration": 3,
    "start_time": "2025-01-22T15:25:05.889Z"
   },
   {
    "duration": 86,
    "start_time": "2025-01-22T15:25:05.893Z"
   },
   {
    "duration": 15,
    "start_time": "2025-01-22T15:25:05.982Z"
   },
   {
    "duration": 1118,
    "start_time": "2025-01-22T15:25:05.999Z"
   },
   {
    "duration": 115,
    "start_time": "2025-01-22T15:25:07.119Z"
   },
   {
    "duration": 218,
    "start_time": "2025-01-22T15:25:07.237Z"
   },
   {
    "duration": 27,
    "start_time": "2025-01-22T15:25:07.457Z"
   },
   {
    "duration": 241,
    "start_time": "2025-01-22T15:25:07.485Z"
   },
   {
    "duration": 22,
    "start_time": "2025-01-22T15:25:07.728Z"
   },
   {
    "duration": 75,
    "start_time": "2025-01-22T15:25:07.751Z"
   },
   {
    "duration": 16,
    "start_time": "2025-01-22T15:25:07.827Z"
   },
   {
    "duration": 75,
    "start_time": "2025-01-22T15:25:07.847Z"
   },
   {
    "duration": 12,
    "start_time": "2025-01-22T15:25:07.924Z"
   },
   {
    "duration": 357,
    "start_time": "2025-01-22T15:25:07.938Z"
   },
   {
    "duration": 83,
    "start_time": "2025-01-22T15:25:08.298Z"
   },
   {
    "duration": 16,
    "start_time": "2025-01-22T15:25:08.383Z"
   },
   {
    "duration": 69,
    "start_time": "2025-01-22T15:25:08.401Z"
   },
   {
    "duration": 18,
    "start_time": "2025-01-22T15:25:08.472Z"
   },
   {
    "duration": 200,
    "start_time": "2025-01-22T15:25:08.492Z"
   },
   {
    "duration": 5,
    "start_time": "2025-01-22T15:25:08.694Z"
   },
   {
    "duration": 9,
    "start_time": "2025-01-22T15:25:08.701Z"
   },
   {
    "duration": 107,
    "start_time": "2025-01-22T15:25:08.712Z"
   },
   {
    "duration": 27,
    "start_time": "2025-01-22T15:25:08.821Z"
   },
   {
    "duration": 14,
    "start_time": "2025-01-22T15:25:08.850Z"
   },
   {
    "duration": 12,
    "start_time": "2025-01-22T15:25:08.865Z"
   },
   {
    "duration": 7,
    "start_time": "2025-01-22T15:25:08.879Z"
   },
   {
    "duration": 62,
    "start_time": "2025-01-22T15:25:08.887Z"
   },
   {
    "duration": 13,
    "start_time": "2025-01-22T15:25:08.951Z"
   },
   {
    "duration": 52,
    "start_time": "2025-01-22T15:25:08.966Z"
   },
   {
    "duration": 20,
    "start_time": "2025-01-22T15:25:09.019Z"
   },
   {
    "duration": 199,
    "start_time": "2025-01-22T15:25:09.041Z"
   },
   {
    "duration": 122,
    "start_time": "2025-01-22T15:25:09.245Z"
   },
   {
    "duration": 17,
    "start_time": "2025-01-22T15:25:09.369Z"
   },
   {
    "duration": 50,
    "start_time": "2025-01-22T15:25:09.388Z"
   },
   {
    "duration": 66,
    "start_time": "2025-01-22T15:25:09.441Z"
   },
   {
    "duration": 7,
    "start_time": "2025-01-22T15:25:09.509Z"
   },
   {
    "duration": 31,
    "start_time": "2025-01-22T15:25:09.518Z"
   },
   {
    "duration": 43,
    "start_time": "2025-01-22T15:25:09.552Z"
   },
   {
    "duration": 77,
    "start_time": "2025-01-22T15:25:09.599Z"
   },
   {
    "duration": 43,
    "start_time": "2025-01-22T15:25:09.678Z"
   },
   {
    "duration": 54872,
    "start_time": "2025-01-22T15:25:09.722Z"
   },
   {
    "duration": 67,
    "start_time": "2025-01-22T15:26:04.596Z"
   },
   {
    "duration": 92,
    "start_time": "2025-01-22T15:26:04.665Z"
   },
   {
    "duration": 87,
    "start_time": "2025-01-22T15:26:04.758Z"
   },
   {
    "duration": 47,
    "start_time": "2025-01-22T15:26:04.848Z"
   },
   {
    "duration": 10,
    "start_time": "2025-01-22T15:26:04.896Z"
   },
   {
    "duration": 1000,
    "start_time": "2025-01-22T15:26:04.907Z"
   },
   {
    "duration": 288,
    "start_time": "2025-01-22T15:26:05.909Z"
   },
   {
    "duration": 279,
    "start_time": "2025-01-22T15:26:06.199Z"
   },
   {
    "duration": 144,
    "start_time": "2025-01-22T15:26:06.480Z"
   },
   {
    "duration": 22,
    "start_time": "2025-01-22T15:26:06.625Z"
   },
   {
    "duration": 200,
    "start_time": "2025-01-22T15:26:06.649Z"
   },
   {
    "duration": 573,
    "start_time": "2025-01-22T15:26:06.851Z"
   },
   {
    "duration": 114,
    "start_time": "2025-01-22T15:26:07.425Z"
   },
   {
    "duration": 25,
    "start_time": "2025-01-22T15:26:07.541Z"
   },
   {
    "duration": 34,
    "start_time": "2025-01-22T15:26:07.568Z"
   },
   {
    "duration": 37,
    "start_time": "2025-01-22T15:26:07.603Z"
   },
   {
    "duration": 8,
    "start_time": "2025-01-22T15:26:07.641Z"
   },
   {
    "duration": 199,
    "start_time": "2025-01-22T15:26:07.652Z"
   },
   {
    "duration": 13,
    "start_time": "2025-01-22T15:26:07.854Z"
   },
   {
    "duration": 278,
    "start_time": "2025-01-22T15:26:07.869Z"
   },
   {
    "duration": 39,
    "start_time": "2025-01-22T15:26:08.149Z"
   },
   {
    "duration": 233,
    "start_time": "2025-01-22T15:26:08.190Z"
   },
   {
    "duration": 7,
    "start_time": "2025-01-22T15:26:08.425Z"
   },
   {
    "duration": 10,
    "start_time": "2025-01-22T15:26:08.444Z"
   },
   {
    "duration": 22,
    "start_time": "2025-01-22T15:26:08.456Z"
   },
   {
    "duration": 5,
    "start_time": "2025-01-22T15:26:08.480Z"
   },
   {
    "duration": 19,
    "start_time": "2025-01-22T15:26:08.486Z"
   },
   {
    "duration": 9,
    "start_time": "2025-01-22T15:26:08.507Z"
   },
   {
    "duration": 28,
    "start_time": "2025-01-22T15:26:08.517Z"
   },
   {
    "duration": 14,
    "start_time": "2025-01-22T15:26:08.548Z"
   },
   {
    "duration": 181,
    "start_time": "2025-01-22T15:26:08.565Z"
   },
   {
    "duration": 157,
    "start_time": "2025-01-22T15:26:08.748Z"
   },
   {
    "duration": 12,
    "start_time": "2025-01-22T15:26:08.907Z"
   },
   {
    "duration": 23,
    "start_time": "2025-01-22T15:26:08.920Z"
   },
   {
    "duration": 182,
    "start_time": "2025-01-22T15:26:08.946Z"
   },
   {
    "duration": 4148,
    "start_time": "2025-01-23T08:59:56.264Z"
   },
   {
    "duration": 1633,
    "start_time": "2025-01-23T09:00:00.415Z"
   },
   {
    "duration": 4,
    "start_time": "2025-01-23T09:00:02.050Z"
   },
   {
    "duration": 207,
    "start_time": "2025-01-23T09:00:02.055Z"
   },
   {
    "duration": 52,
    "start_time": "2025-01-23T09:00:02.265Z"
   },
   {
    "duration": 1498,
    "start_time": "2025-01-23T09:00:02.319Z"
   },
   {
    "duration": 132,
    "start_time": "2025-01-23T09:00:03.826Z"
   },
   {
    "duration": 290,
    "start_time": "2025-01-23T09:00:03.960Z"
   },
   {
    "duration": 28,
    "start_time": "2025-01-23T09:00:04.252Z"
   },
   {
    "duration": 263,
    "start_time": "2025-01-23T09:00:04.288Z"
   },
   {
    "duration": 23,
    "start_time": "2025-01-23T09:00:04.552Z"
   },
   {
    "duration": 133,
    "start_time": "2025-01-23T09:00:04.576Z"
   },
   {
    "duration": 19,
    "start_time": "2025-01-23T09:00:04.715Z"
   },
   {
    "duration": 301,
    "start_time": "2025-01-23T09:00:04.738Z"
   },
   {
    "duration": 12,
    "start_time": "2025-01-23T09:00:05.040Z"
   },
   {
    "duration": 698,
    "start_time": "2025-01-23T09:00:05.053Z"
   },
   {
    "duration": 71,
    "start_time": "2025-01-23T09:00:05.752Z"
   },
   {
    "duration": 10,
    "start_time": "2025-01-23T09:00:05.830Z"
   },
   {
    "duration": 88,
    "start_time": "2025-01-23T09:00:05.842Z"
   },
   {
    "duration": 19,
    "start_time": "2025-01-23T09:00:05.932Z"
   },
   {
    "duration": 284,
    "start_time": "2025-01-23T09:00:05.952Z"
   },
   {
    "duration": 5,
    "start_time": "2025-01-23T09:00:06.238Z"
   },
   {
    "duration": 53,
    "start_time": "2025-01-23T09:00:06.245Z"
   },
   {
    "duration": 185,
    "start_time": "2025-01-23T09:00:06.299Z"
   },
   {
    "duration": 53,
    "start_time": "2025-01-23T09:00:06.485Z"
   },
   {
    "duration": 40,
    "start_time": "2025-01-23T09:00:06.540Z"
   },
   {
    "duration": 54,
    "start_time": "2025-01-23T09:00:06.583Z"
   },
   {
    "duration": 39,
    "start_time": "2025-01-23T09:00:06.639Z"
   },
   {
    "duration": 186,
    "start_time": "2025-01-23T09:00:06.680Z"
   },
   {
    "duration": 163,
    "start_time": "2025-01-23T09:00:06.868Z"
   },
   {
    "duration": 87,
    "start_time": "2025-01-23T09:00:07.033Z"
   },
   {
    "duration": 9,
    "start_time": "2025-01-23T09:00:07.126Z"
   },
   {
    "duration": 223,
    "start_time": "2025-01-23T09:00:07.137Z"
   },
   {
    "duration": 149,
    "start_time": "2025-01-23T09:00:07.362Z"
   },
   {
    "duration": 25,
    "start_time": "2025-01-23T09:00:07.517Z"
   },
   {
    "duration": 89,
    "start_time": "2025-01-23T09:00:07.544Z"
   },
   {
    "duration": 95,
    "start_time": "2025-01-23T09:00:07.637Z"
   },
   {
    "duration": 11,
    "start_time": "2025-01-23T09:00:07.735Z"
   },
   {
    "duration": 69,
    "start_time": "2025-01-23T09:00:07.748Z"
   },
   {
    "duration": 14,
    "start_time": "2025-01-23T09:00:07.823Z"
   },
   {
    "duration": 81,
    "start_time": "2025-01-23T09:00:07.842Z"
   },
   {
    "duration": 53,
    "start_time": "2025-01-23T09:00:07.925Z"
   },
   {
    "duration": 69729,
    "start_time": "2025-01-23T09:00:07.980Z"
   },
   {
    "duration": 57,
    "start_time": "2025-01-23T09:01:17.718Z"
   },
   {
    "duration": 113,
    "start_time": "2025-01-23T09:01:17.777Z"
   },
   {
    "duration": 99,
    "start_time": "2025-01-23T09:01:17.900Z"
   },
   {
    "duration": 54,
    "start_time": "2025-01-23T09:01:18.001Z"
   },
   {
    "duration": 9,
    "start_time": "2025-01-23T09:01:18.057Z"
   },
   {
    "duration": 1235,
    "start_time": "2025-01-23T09:01:18.068Z"
   },
   {
    "duration": 306,
    "start_time": "2025-01-23T09:01:19.311Z"
   },
   {
    "duration": 285,
    "start_time": "2025-01-23T09:01:19.619Z"
   },
   {
    "duration": 154,
    "start_time": "2025-01-23T09:01:19.906Z"
   },
   {
    "duration": 10,
    "start_time": "2025-01-23T09:01:20.061Z"
   },
   {
    "duration": 228,
    "start_time": "2025-01-23T09:01:20.073Z"
   },
   {
    "duration": 706,
    "start_time": "2025-01-23T09:01:20.307Z"
   },
   {
    "duration": 144,
    "start_time": "2025-01-23T09:01:21.015Z"
   },
   {
    "duration": 37,
    "start_time": "2025-01-23T09:01:21.161Z"
   },
   {
    "duration": 46,
    "start_time": "2025-01-23T09:01:21.203Z"
   },
   {
    "duration": 28,
    "start_time": "2025-01-23T09:01:21.251Z"
   },
   {
    "duration": 45,
    "start_time": "2025-01-23T09:01:21.282Z"
   },
   {
    "duration": 216,
    "start_time": "2025-01-23T09:01:21.329Z"
   },
   {
    "duration": 8,
    "start_time": "2025-01-23T09:01:21.547Z"
   },
   {
    "duration": 297,
    "start_time": "2025-01-23T09:01:21.557Z"
   },
   {
    "duration": 79,
    "start_time": "2025-01-23T09:01:21.856Z"
   },
   {
    "duration": 223,
    "start_time": "2025-01-23T09:01:21.944Z"
   },
   {
    "duration": 8,
    "start_time": "2025-01-23T09:01:22.169Z"
   },
   {
    "duration": 21,
    "start_time": "2025-01-23T09:01:22.179Z"
   },
   {
    "duration": 17,
    "start_time": "2025-01-23T09:01:22.206Z"
   },
   {
    "duration": 6,
    "start_time": "2025-01-23T09:01:22.229Z"
   },
   {
    "duration": 39,
    "start_time": "2025-01-23T09:01:22.237Z"
   },
   {
    "duration": 20,
    "start_time": "2025-01-23T09:01:22.279Z"
   },
   {
    "duration": 14,
    "start_time": "2025-01-23T09:01:22.301Z"
   },
   {
    "duration": 10,
    "start_time": "2025-01-23T09:01:22.324Z"
   },
   {
    "duration": 217,
    "start_time": "2025-01-23T09:01:22.336Z"
   },
   {
    "duration": 208,
    "start_time": "2025-01-23T09:01:22.554Z"
   },
   {
    "duration": 14,
    "start_time": "2025-01-23T09:01:22.765Z"
   },
   {
    "duration": 52,
    "start_time": "2025-01-23T09:01:22.780Z"
   },
   {
    "duration": 198,
    "start_time": "2025-01-23T09:01:22.834Z"
   },
   {
    "duration": 5,
    "start_time": "2025-01-23T09:07:51.543Z"
   },
   {
    "duration": 9,
    "start_time": "2025-01-23T09:08:05.510Z"
   },
   {
    "duration": 18,
    "start_time": "2025-01-23T09:08:10.491Z"
   },
   {
    "duration": 5,
    "start_time": "2025-01-23T09:08:51.475Z"
   },
   {
    "duration": 130,
    "start_time": "2025-01-23T09:08:57.840Z"
   },
   {
    "duration": 4,
    "start_time": "2025-01-23T09:11:03.541Z"
   },
   {
    "duration": 6,
    "start_time": "2025-01-23T09:11:13.360Z"
   },
   {
    "duration": 9,
    "start_time": "2025-01-23T09:14:23.634Z"
   },
   {
    "duration": 9,
    "start_time": "2025-01-23T09:14:28.895Z"
   },
   {
    "duration": 6,
    "start_time": "2025-01-23T09:14:33.475Z"
   },
   {
    "duration": 5,
    "start_time": "2025-01-23T09:14:38.075Z"
   },
   {
    "duration": 6,
    "start_time": "2025-01-23T09:14:53.974Z"
   },
   {
    "duration": 6,
    "start_time": "2025-01-23T09:15:00.357Z"
   },
   {
    "duration": 7,
    "start_time": "2025-01-23T09:15:05.128Z"
   },
   {
    "duration": 5,
    "start_time": "2025-01-23T09:15:20.376Z"
   },
   {
    "duration": 7,
    "start_time": "2025-01-23T09:15:25.214Z"
   },
   {
    "duration": 23,
    "start_time": "2025-01-23T09:15:28.992Z"
   },
   {
    "duration": 7,
    "start_time": "2025-01-23T09:15:34.129Z"
   },
   {
    "duration": 5,
    "start_time": "2025-01-23T09:15:38.764Z"
   },
   {
    "duration": 5,
    "start_time": "2025-01-23T09:15:43.064Z"
   },
   {
    "duration": 5,
    "start_time": "2025-01-23T09:15:47.641Z"
   },
   {
    "duration": 6,
    "start_time": "2025-01-23T09:15:52.274Z"
   },
   {
    "duration": 11,
    "start_time": "2025-01-23T09:15:56.520Z"
   },
   {
    "duration": 6,
    "start_time": "2025-01-23T09:16:02.579Z"
   },
   {
    "duration": 5,
    "start_time": "2025-01-23T09:16:07.375Z"
   },
   {
    "duration": 6,
    "start_time": "2025-01-23T09:16:20.140Z"
   },
   {
    "duration": 19,
    "start_time": "2025-01-23T09:16:24.009Z"
   },
   {
    "duration": 5,
    "start_time": "2025-01-23T09:16:28.458Z"
   },
   {
    "duration": 5,
    "start_time": "2025-01-23T09:16:34.214Z"
   },
   {
    "duration": 9,
    "start_time": "2025-01-23T09:17:39.144Z"
   },
   {
    "duration": 6,
    "start_time": "2025-01-23T09:32:47.064Z"
   },
   {
    "duration": 12,
    "start_time": "2025-01-23T09:33:20.811Z"
   },
   {
    "duration": 8,
    "start_time": "2025-01-23T09:33:47.193Z"
   },
   {
    "duration": 6,
    "start_time": "2025-01-23T09:34:35.442Z"
   },
   {
    "duration": 7,
    "start_time": "2025-01-23T09:34:52.257Z"
   },
   {
    "duration": 7,
    "start_time": "2025-01-23T09:35:48.577Z"
   },
   {
    "duration": 8,
    "start_time": "2025-01-23T09:36:02.124Z"
   },
   {
    "duration": 17,
    "start_time": "2025-01-23T09:39:01.658Z"
   },
   {
    "duration": 10,
    "start_time": "2025-01-23T09:39:11.542Z"
   },
   {
    "duration": 10,
    "start_time": "2025-01-23T09:39:25.227Z"
   },
   {
    "duration": 4,
    "start_time": "2025-01-23T09:39:30.576Z"
   },
   {
    "duration": 3227,
    "start_time": "2025-01-23T09:40:55.803Z"
   },
   {
    "duration": 1472,
    "start_time": "2025-01-23T09:40:59.033Z"
   },
   {
    "duration": 5,
    "start_time": "2025-01-23T09:41:00.511Z"
   },
   {
    "duration": 131,
    "start_time": "2025-01-23T09:41:00.522Z"
   },
   {
    "duration": 17,
    "start_time": "2025-01-23T09:41:00.655Z"
   },
   {
    "duration": 1443,
    "start_time": "2025-01-23T09:41:00.674Z"
   },
   {
    "duration": 160,
    "start_time": "2025-01-23T09:41:02.119Z"
   },
   {
    "duration": 671,
    "start_time": "2025-01-23T09:41:02.281Z"
   },
   {
    "duration": 66,
    "start_time": "2025-01-23T09:41:02.954Z"
   },
   {
    "duration": 330,
    "start_time": "2025-01-23T09:41:03.035Z"
   },
   {
    "duration": 27,
    "start_time": "2025-01-23T09:41:03.368Z"
   },
   {
    "duration": 173,
    "start_time": "2025-01-23T09:41:03.404Z"
   },
   {
    "duration": 34,
    "start_time": "2025-01-23T09:41:03.580Z"
   },
   {
    "duration": 157,
    "start_time": "2025-01-23T09:41:03.616Z"
   },
   {
    "duration": 17,
    "start_time": "2025-01-23T09:41:03.776Z"
   },
   {
    "duration": 584,
    "start_time": "2025-01-23T09:41:03.795Z"
   },
   {
    "duration": 73,
    "start_time": "2025-01-23T09:41:04.381Z"
   },
   {
    "duration": 21,
    "start_time": "2025-01-23T09:41:04.456Z"
   },
   {
    "duration": 87,
    "start_time": "2025-01-23T09:41:04.478Z"
   },
   {
    "duration": 40,
    "start_time": "2025-01-23T09:41:04.567Z"
   },
   {
    "duration": 219,
    "start_time": "2025-01-23T09:41:04.615Z"
   },
   {
    "duration": 6,
    "start_time": "2025-01-23T09:41:04.836Z"
   },
   {
    "duration": 103,
    "start_time": "2025-01-23T09:41:04.844Z"
   },
   {
    "duration": 169,
    "start_time": "2025-01-23T09:41:04.949Z"
   },
   {
    "duration": 40,
    "start_time": "2025-01-23T09:41:05.120Z"
   },
   {
    "duration": 46,
    "start_time": "2025-01-23T09:41:05.162Z"
   },
   {
    "duration": 21,
    "start_time": "2025-01-23T09:41:05.211Z"
   },
   {
    "duration": 8,
    "start_time": "2025-01-23T09:41:05.237Z"
   },
   {
    "duration": 92,
    "start_time": "2025-01-23T09:41:05.246Z"
   },
   {
    "duration": 21,
    "start_time": "2025-01-23T09:41:05.340Z"
   },
   {
    "duration": 108,
    "start_time": "2025-01-23T09:41:05.363Z"
   },
   {
    "duration": 29,
    "start_time": "2025-01-23T09:41:05.473Z"
   },
   {
    "duration": 242,
    "start_time": "2025-01-23T09:41:05.510Z"
   },
   {
    "duration": 138,
    "start_time": "2025-01-23T09:41:05.755Z"
   },
   {
    "duration": 32,
    "start_time": "2025-01-23T09:41:05.895Z"
   },
   {
    "duration": 39,
    "start_time": "2025-01-23T09:41:05.929Z"
   },
   {
    "duration": 99,
    "start_time": "2025-01-23T09:41:05.970Z"
   },
   {
    "duration": 17,
    "start_time": "2025-01-23T09:41:06.071Z"
   },
   {
    "duration": 66,
    "start_time": "2025-01-23T09:41:06.096Z"
   },
   {
    "duration": 44,
    "start_time": "2025-01-23T09:41:06.164Z"
   },
   {
    "duration": 108,
    "start_time": "2025-01-23T09:41:06.210Z"
   },
   {
    "duration": 60,
    "start_time": "2025-01-23T09:41:06.324Z"
   },
   {
    "duration": 78082,
    "start_time": "2025-01-23T09:41:06.390Z"
   },
   {
    "duration": 75,
    "start_time": "2025-01-23T09:42:24.474Z"
   },
   {
    "duration": 131,
    "start_time": "2025-01-23T09:42:24.551Z"
   },
   {
    "duration": 134,
    "start_time": "2025-01-23T09:42:24.684Z"
   },
   {
    "duration": 83,
    "start_time": "2025-01-23T09:42:24.823Z"
   },
   {
    "duration": 12,
    "start_time": "2025-01-23T09:42:24.914Z"
   },
   {
    "duration": 1462,
    "start_time": "2025-01-23T09:42:24.928Z"
   },
   {
    "duration": 351,
    "start_time": "2025-01-23T09:42:26.392Z"
   },
   {
    "duration": 291,
    "start_time": "2025-01-23T09:42:26.754Z"
   },
   {
    "duration": 180,
    "start_time": "2025-01-23T09:42:27.047Z"
   },
   {
    "duration": 15,
    "start_time": "2025-01-23T09:42:27.233Z"
   },
   {
    "duration": 233,
    "start_time": "2025-01-23T09:42:27.250Z"
   },
   {
    "duration": 808,
    "start_time": "2025-01-23T09:42:27.485Z"
   },
   {
    "duration": 142,
    "start_time": "2025-01-23T09:42:28.303Z"
   },
   {
    "duration": 19,
    "start_time": "2025-01-23T09:42:28.447Z"
   },
   {
    "duration": 69,
    "start_time": "2025-01-23T09:42:28.468Z"
   },
   {
    "duration": 10,
    "start_time": "2025-01-23T09:42:28.539Z"
   },
   {
    "duration": 19,
    "start_time": "2025-01-23T09:42:28.551Z"
   },
   {
    "duration": 238,
    "start_time": "2025-01-23T09:42:28.572Z"
   },
   {
    "duration": 12,
    "start_time": "2025-01-23T09:42:28.812Z"
   },
   {
    "duration": 225,
    "start_time": "2025-01-23T09:42:28.826Z"
   },
   {
    "duration": 56,
    "start_time": "2025-01-23T09:42:29.053Z"
   },
   {
    "duration": 243,
    "start_time": "2025-01-23T09:42:29.111Z"
   },
   {
    "duration": 9,
    "start_time": "2025-01-23T09:42:29.356Z"
   },
   {
    "duration": 21,
    "start_time": "2025-01-23T09:42:29.366Z"
   },
   {
    "duration": 14,
    "start_time": "2025-01-23T09:42:29.390Z"
   },
   {
    "duration": 9,
    "start_time": "2025-01-23T09:42:29.406Z"
   },
   {
    "duration": 29,
    "start_time": "2025-01-23T09:42:29.417Z"
   },
   {
    "duration": 134,
    "start_time": "2025-01-23T09:42:29.448Z"
   },
   {
    "duration": 24,
    "start_time": "2025-01-23T09:42:29.583Z"
   },
   {
    "duration": 9,
    "start_time": "2025-01-23T09:42:29.609Z"
   },
   {
    "duration": 35,
    "start_time": "2025-01-23T09:42:29.620Z"
   },
   {
    "duration": 152,
    "start_time": "2025-01-23T09:42:29.656Z"
   },
   {
    "duration": 0,
    "start_time": "2025-01-23T09:42:29.810Z"
   },
   {
    "duration": 0,
    "start_time": "2025-01-23T09:42:29.811Z"
   },
   {
    "duration": 0,
    "start_time": "2025-01-23T09:42:29.812Z"
   },
   {
    "duration": 0,
    "start_time": "2025-01-23T09:42:29.814Z"
   },
   {
    "duration": 0,
    "start_time": "2025-01-23T09:42:29.814Z"
   },
   {
    "duration": 0,
    "start_time": "2025-01-23T09:42:29.815Z"
   },
   {
    "duration": 0,
    "start_time": "2025-01-23T09:42:29.816Z"
   },
   {
    "duration": 17,
    "start_time": "2025-01-23T09:45:22.497Z"
   },
   {
    "duration": 5,
    "start_time": "2025-01-23T09:45:25.526Z"
   },
   {
    "duration": 13,
    "start_time": "2025-01-23T09:45:29.014Z"
   },
   {
    "duration": 221,
    "start_time": "2025-01-23T09:45:31.522Z"
   },
   {
    "duration": 192,
    "start_time": "2025-01-23T09:45:34.761Z"
   },
   {
    "duration": 13,
    "start_time": "2025-01-23T09:45:35.831Z"
   },
   {
    "duration": 11,
    "start_time": "2025-01-23T09:45:36.918Z"
   },
   {
    "duration": 197,
    "start_time": "2025-01-23T09:45:37.619Z"
   },
   {
    "duration": 3159,
    "start_time": "2025-01-23T09:46:06.083Z"
   },
   {
    "duration": 1421,
    "start_time": "2025-01-23T09:46:09.245Z"
   },
   {
    "duration": 3,
    "start_time": "2025-01-23T09:46:10.668Z"
   },
   {
    "duration": 169,
    "start_time": "2025-01-23T09:46:10.675Z"
   },
   {
    "duration": 18,
    "start_time": "2025-01-23T09:46:10.847Z"
   },
   {
    "duration": 1462,
    "start_time": "2025-01-23T09:46:10.866Z"
   },
   {
    "duration": 134,
    "start_time": "2025-01-23T09:46:12.337Z"
   },
   {
    "duration": 295,
    "start_time": "2025-01-23T09:46:12.472Z"
   },
   {
    "duration": 35,
    "start_time": "2025-01-23T09:46:12.769Z"
   },
   {
    "duration": 850,
    "start_time": "2025-01-23T09:46:12.808Z"
   },
   {
    "duration": 39,
    "start_time": "2025-01-23T09:46:13.661Z"
   },
   {
    "duration": 93,
    "start_time": "2025-01-23T09:46:13.702Z"
   },
   {
    "duration": 24,
    "start_time": "2025-01-23T09:46:13.797Z"
   },
   {
    "duration": 184,
    "start_time": "2025-01-23T09:46:13.823Z"
   },
   {
    "duration": 15,
    "start_time": "2025-01-23T09:46:14.019Z"
   },
   {
    "duration": 512,
    "start_time": "2025-01-23T09:46:14.037Z"
   },
   {
    "duration": 50,
    "start_time": "2025-01-23T09:46:14.551Z"
   },
   {
    "duration": 5,
    "start_time": "2025-01-23T09:46:14.603Z"
   },
   {
    "duration": 81,
    "start_time": "2025-01-23T09:46:14.610Z"
   },
   {
    "duration": 35,
    "start_time": "2025-01-23T09:46:14.700Z"
   },
   {
    "duration": 208,
    "start_time": "2025-01-23T09:46:14.736Z"
   },
   {
    "duration": 6,
    "start_time": "2025-01-23T09:46:14.945Z"
   },
   {
    "duration": 10,
    "start_time": "2025-01-23T09:46:14.952Z"
   },
   {
    "duration": 114,
    "start_time": "2025-01-23T09:46:14.964Z"
   },
   {
    "duration": 50,
    "start_time": "2025-01-23T09:46:15.079Z"
   },
   {
    "duration": 40,
    "start_time": "2025-01-23T09:46:15.131Z"
   },
   {
    "duration": 54,
    "start_time": "2025-01-23T09:46:15.172Z"
   },
   {
    "duration": 23,
    "start_time": "2025-01-23T09:46:15.234Z"
   },
   {
    "duration": 97,
    "start_time": "2025-01-23T09:46:15.259Z"
   },
   {
    "duration": 56,
    "start_time": "2025-01-23T09:46:15.358Z"
   },
   {
    "duration": 44,
    "start_time": "2025-01-23T09:46:15.429Z"
   },
   {
    "duration": 8,
    "start_time": "2025-01-23T09:46:15.475Z"
   },
   {
    "duration": 271,
    "start_time": "2025-01-23T09:46:15.485Z"
   },
   {
    "duration": 119,
    "start_time": "2025-01-23T09:46:15.758Z"
   },
   {
    "duration": 36,
    "start_time": "2025-01-23T09:46:15.879Z"
   },
   {
    "duration": 42,
    "start_time": "2025-01-23T09:46:15.917Z"
   },
   {
    "duration": 90,
    "start_time": "2025-01-23T09:46:15.961Z"
   },
   {
    "duration": 10,
    "start_time": "2025-01-23T09:46:16.053Z"
   },
   {
    "duration": 38,
    "start_time": "2025-01-23T09:46:16.065Z"
   },
   {
    "duration": 15,
    "start_time": "2025-01-23T09:46:16.106Z"
   },
   {
    "duration": 89,
    "start_time": "2025-01-23T09:46:16.124Z"
   },
   {
    "duration": 57,
    "start_time": "2025-01-23T09:46:16.215Z"
   },
   {
    "duration": 73852,
    "start_time": "2025-01-23T09:46:16.274Z"
   },
   {
    "duration": 50,
    "start_time": "2025-01-23T09:47:30.134Z"
   },
   {
    "duration": 145,
    "start_time": "2025-01-23T09:47:30.202Z"
   },
   {
    "duration": 111,
    "start_time": "2025-01-23T09:47:30.348Z"
   },
   {
    "duration": 57,
    "start_time": "2025-01-23T09:47:30.461Z"
   },
   {
    "duration": 13,
    "start_time": "2025-01-23T09:47:30.533Z"
   },
   {
    "duration": 1274,
    "start_time": "2025-01-23T09:47:30.549Z"
   },
   {
    "duration": 333,
    "start_time": "2025-01-23T09:47:31.826Z"
   },
   {
    "duration": 316,
    "start_time": "2025-01-23T09:47:32.160Z"
   },
   {
    "duration": 160,
    "start_time": "2025-01-23T09:47:32.478Z"
   },
   {
    "duration": 10,
    "start_time": "2025-01-23T09:47:32.639Z"
   },
   {
    "duration": 229,
    "start_time": "2025-01-23T09:47:32.650Z"
   },
   {
    "duration": 800,
    "start_time": "2025-01-23T09:47:32.881Z"
   },
   {
    "duration": 133,
    "start_time": "2025-01-23T09:47:33.683Z"
   },
   {
    "duration": 27,
    "start_time": "2025-01-23T09:47:33.818Z"
   },
   {
    "duration": 57,
    "start_time": "2025-01-23T09:47:33.847Z"
   },
   {
    "duration": 9,
    "start_time": "2025-01-23T09:47:33.906Z"
   },
   {
    "duration": 25,
    "start_time": "2025-01-23T09:47:33.917Z"
   },
   {
    "duration": 253,
    "start_time": "2025-01-23T09:47:33.943Z"
   },
   {
    "duration": 14,
    "start_time": "2025-01-23T09:47:34.205Z"
   },
   {
    "duration": 216,
    "start_time": "2025-01-23T09:47:34.225Z"
   },
   {
    "duration": 35,
    "start_time": "2025-01-23T09:47:34.444Z"
   },
   {
    "duration": 245,
    "start_time": "2025-01-23T09:47:34.495Z"
   },
   {
    "duration": 9,
    "start_time": "2025-01-23T09:47:34.742Z"
   },
   {
    "duration": 42,
    "start_time": "2025-01-23T09:47:34.753Z"
   },
   {
    "duration": 46,
    "start_time": "2025-01-23T09:47:34.797Z"
   },
   {
    "duration": 101,
    "start_time": "2025-01-23T09:47:34.845Z"
   },
   {
    "duration": 27,
    "start_time": "2025-01-23T09:47:34.947Z"
   },
   {
    "duration": 33,
    "start_time": "2025-01-23T09:47:34.975Z"
   },
   {
    "duration": 29,
    "start_time": "2025-01-23T09:47:35.010Z"
   },
   {
    "duration": 25,
    "start_time": "2025-01-23T09:47:35.041Z"
   },
   {
    "duration": 77,
    "start_time": "2025-01-23T09:47:35.068Z"
   },
   {
    "duration": 10,
    "start_time": "2025-01-23T09:47:35.146Z"
   },
   {
    "duration": 80,
    "start_time": "2025-01-23T09:47:35.157Z"
   },
   {
    "duration": 32,
    "start_time": "2025-01-23T09:47:35.239Z"
   },
   {
    "duration": 259,
    "start_time": "2025-01-23T09:47:35.273Z"
   },
   {
    "duration": 214,
    "start_time": "2025-01-23T09:47:35.534Z"
   },
   {
    "duration": 12,
    "start_time": "2025-01-23T09:47:35.750Z"
   },
   {
    "duration": 39,
    "start_time": "2025-01-23T09:47:35.764Z"
   },
   {
    "duration": 234,
    "start_time": "2025-01-23T09:47:35.811Z"
   },
   {
    "duration": 3627,
    "start_time": "2025-01-24T07:13:13.003Z"
   },
   {
    "duration": 1565,
    "start_time": "2025-01-24T07:13:16.633Z"
   },
   {
    "duration": 3,
    "start_time": "2025-01-24T07:13:18.200Z"
   },
   {
    "duration": 125,
    "start_time": "2025-01-24T07:13:18.204Z"
   },
   {
    "duration": 16,
    "start_time": "2025-01-24T07:13:18.332Z"
   },
   {
    "duration": 1240,
    "start_time": "2025-01-24T07:13:18.349Z"
   },
   {
    "duration": 116,
    "start_time": "2025-01-24T07:13:19.591Z"
   },
   {
    "duration": 294,
    "start_time": "2025-01-24T07:13:19.709Z"
   },
   {
    "duration": 39,
    "start_time": "2025-01-24T07:13:20.005Z"
   },
   {
    "duration": 364,
    "start_time": "2025-01-24T07:13:20.045Z"
   },
   {
    "duration": 32,
    "start_time": "2025-01-24T07:13:20.411Z"
   },
   {
    "duration": 112,
    "start_time": "2025-01-24T07:13:20.445Z"
   },
   {
    "duration": 15,
    "start_time": "2025-01-24T07:13:20.559Z"
   },
   {
    "duration": 129,
    "start_time": "2025-01-24T07:13:20.578Z"
   },
   {
    "duration": 16,
    "start_time": "2025-01-24T07:13:20.709Z"
   },
   {
    "duration": 421,
    "start_time": "2025-01-24T07:13:20.727Z"
   },
   {
    "duration": 43,
    "start_time": "2025-01-24T07:13:21.150Z"
   },
   {
    "duration": 19,
    "start_time": "2025-01-24T07:13:21.194Z"
   },
   {
    "duration": 61,
    "start_time": "2025-01-24T07:13:21.215Z"
   },
   {
    "duration": 35,
    "start_time": "2025-01-24T07:13:21.277Z"
   },
   {
    "duration": 175,
    "start_time": "2025-01-24T07:13:21.314Z"
   },
   {
    "duration": 18,
    "start_time": "2025-01-24T07:13:21.491Z"
   },
   {
    "duration": 79,
    "start_time": "2025-01-24T07:13:21.511Z"
   },
   {
    "duration": 94,
    "start_time": "2025-01-24T07:13:21.591Z"
   },
   {
    "duration": 23,
    "start_time": "2025-01-24T07:13:21.686Z"
   },
   {
    "duration": 20,
    "start_time": "2025-01-24T07:13:21.711Z"
   },
   {
    "duration": 14,
    "start_time": "2025-01-24T07:13:21.732Z"
   },
   {
    "duration": 10,
    "start_time": "2025-01-24T07:13:21.748Z"
   },
   {
    "duration": 68,
    "start_time": "2025-01-24T07:13:21.760Z"
   },
   {
    "duration": 15,
    "start_time": "2025-01-24T07:13:21.830Z"
   },
   {
    "duration": 51,
    "start_time": "2025-01-24T07:13:21.846Z"
   },
   {
    "duration": 15,
    "start_time": "2025-01-24T07:13:21.898Z"
   },
   {
    "duration": 195,
    "start_time": "2025-01-24T07:13:21.916Z"
   },
   {
    "duration": 110,
    "start_time": "2025-01-24T07:13:22.113Z"
   },
   {
    "duration": 20,
    "start_time": "2025-01-24T07:13:22.225Z"
   },
   {
    "duration": 35,
    "start_time": "2025-01-24T07:13:22.247Z"
   },
   {
    "duration": 82,
    "start_time": "2025-01-24T07:13:22.284Z"
   },
   {
    "duration": 8,
    "start_time": "2025-01-24T07:13:22.368Z"
   },
   {
    "duration": 31,
    "start_time": "2025-01-24T07:13:22.378Z"
   },
   {
    "duration": 11,
    "start_time": "2025-01-24T07:13:22.412Z"
   },
   {
    "duration": 84,
    "start_time": "2025-01-24T07:13:22.430Z"
   },
   {
    "duration": 53,
    "start_time": "2025-01-24T07:13:22.516Z"
   },
   {
    "duration": 55288,
    "start_time": "2025-01-24T07:13:22.571Z"
   },
   {
    "duration": 56,
    "start_time": "2025-01-24T07:14:17.861Z"
   },
   {
    "duration": 96,
    "start_time": "2025-01-24T07:14:17.919Z"
   },
   {
    "duration": 93,
    "start_time": "2025-01-24T07:14:18.017Z"
   },
   {
    "duration": 47,
    "start_time": "2025-01-24T07:14:18.112Z"
   },
   {
    "duration": 10,
    "start_time": "2025-01-24T07:14:18.161Z"
   },
   {
    "duration": 976,
    "start_time": "2025-01-24T07:14:18.173Z"
   },
   {
    "duration": 270,
    "start_time": "2025-01-24T07:14:19.150Z"
   },
   {
    "duration": 266,
    "start_time": "2025-01-24T07:14:19.423Z"
   },
   {
    "duration": 123,
    "start_time": "2025-01-24T07:14:19.690Z"
   },
   {
    "duration": 12,
    "start_time": "2025-01-24T07:14:19.815Z"
   },
   {
    "duration": 212,
    "start_time": "2025-01-24T07:14:19.832Z"
   },
   {
    "duration": 677,
    "start_time": "2025-01-24T07:14:20.046Z"
   },
   {
    "duration": 110,
    "start_time": "2025-01-24T07:14:20.725Z"
   },
   {
    "duration": 20,
    "start_time": "2025-01-24T07:14:20.837Z"
   },
   {
    "duration": 61,
    "start_time": "2025-01-24T07:14:20.859Z"
   },
   {
    "duration": 8,
    "start_time": "2025-01-24T07:14:20.922Z"
   },
   {
    "duration": 71,
    "start_time": "2025-01-24T07:14:20.932Z"
   },
   {
    "duration": 176,
    "start_time": "2025-01-24T07:14:21.006Z"
   },
   {
    "duration": 7,
    "start_time": "2025-01-24T07:14:21.184Z"
   },
   {
    "duration": 175,
    "start_time": "2025-01-24T07:14:21.193Z"
   },
   {
    "duration": 45,
    "start_time": "2025-01-24T07:14:21.369Z"
   },
   {
    "duration": 198,
    "start_time": "2025-01-24T07:14:21.416Z"
   },
   {
    "duration": 11,
    "start_time": "2025-01-24T07:14:21.616Z"
   },
   {
    "duration": 7,
    "start_time": "2025-01-24T07:14:21.629Z"
   },
   {
    "duration": 7,
    "start_time": "2025-01-24T07:14:21.638Z"
   },
   {
    "duration": 3,
    "start_time": "2025-01-24T07:14:21.647Z"
   },
   {
    "duration": 8,
    "start_time": "2025-01-24T07:14:21.651Z"
   },
   {
    "duration": 26,
    "start_time": "2025-01-24T07:14:21.661Z"
   },
   {
    "duration": 24,
    "start_time": "2025-01-24T07:14:21.689Z"
   },
   {
    "duration": 17,
    "start_time": "2025-01-24T07:14:21.716Z"
   },
   {
    "duration": 22,
    "start_time": "2025-01-24T07:14:21.735Z"
   },
   {
    "duration": 9,
    "start_time": "2025-01-24T07:14:21.759Z"
   },
   {
    "duration": 20,
    "start_time": "2025-01-24T07:14:21.769Z"
   },
   {
    "duration": 21,
    "start_time": "2025-01-24T07:14:21.790Z"
   },
   {
    "duration": 187,
    "start_time": "2025-01-24T07:14:21.814Z"
   },
   {
    "duration": 177,
    "start_time": "2025-01-24T07:14:22.003Z"
   },
   {
    "duration": 11,
    "start_time": "2025-01-24T07:14:22.181Z"
   },
   {
    "duration": 19,
    "start_time": "2025-01-24T07:14:22.194Z"
   },
   {
    "duration": 183,
    "start_time": "2025-01-24T07:14:22.215Z"
   },
   {
    "duration": 3420,
    "start_time": "2025-02-27T10:43:22.403Z"
   },
   {
    "duration": 1393,
    "start_time": "2025-02-27T10:43:25.826Z"
   },
   {
    "duration": 2,
    "start_time": "2025-02-27T10:43:27.221Z"
   },
   {
    "duration": 77,
    "start_time": "2025-02-27T10:43:27.225Z"
   },
   {
    "duration": 17,
    "start_time": "2025-02-27T10:43:27.304Z"
   },
   {
    "duration": 1018,
    "start_time": "2025-02-27T10:43:27.322Z"
   },
   {
    "duration": 112,
    "start_time": "2025-02-27T10:43:28.341Z"
   },
   {
    "duration": 230,
    "start_time": "2025-02-27T10:43:28.454Z"
   },
   {
    "duration": 28,
    "start_time": "2025-02-27T10:43:28.686Z"
   },
   {
    "duration": 1682,
    "start_time": "2025-02-27T10:43:28.717Z"
   },
   {
    "duration": 23,
    "start_time": "2025-02-27T10:43:30.400Z"
   },
   {
    "duration": 74,
    "start_time": "2025-02-27T10:43:30.425Z"
   },
   {
    "duration": 16,
    "start_time": "2025-02-27T10:43:30.501Z"
   },
   {
    "duration": 276,
    "start_time": "2025-02-27T10:43:30.520Z"
   },
   {
    "duration": 12,
    "start_time": "2025-02-27T10:43:30.798Z"
   },
   {
    "duration": 305,
    "start_time": "2025-02-27T10:43:30.812Z"
   },
   {
    "duration": 43,
    "start_time": "2025-02-27T10:43:31.119Z"
   },
   {
    "duration": 82,
    "start_time": "2025-02-27T10:43:31.164Z"
   },
   {
    "duration": 58,
    "start_time": "2025-02-27T10:43:31.248Z"
   },
   {
    "duration": 19,
    "start_time": "2025-02-27T10:43:31.308Z"
   },
   {
    "duration": 175,
    "start_time": "2025-02-27T10:43:31.329Z"
   },
   {
    "duration": 7,
    "start_time": "2025-02-27T10:43:31.506Z"
   },
   {
    "duration": 27,
    "start_time": "2025-02-27T10:43:31.515Z"
   },
   {
    "duration": 150,
    "start_time": "2025-02-27T10:43:31.543Z"
   },
   {
    "duration": 22,
    "start_time": "2025-02-27T10:43:31.694Z"
   },
   {
    "duration": 17,
    "start_time": "2025-02-27T10:43:31.718Z"
   },
   {
    "duration": 9,
    "start_time": "2025-02-27T10:43:31.737Z"
   },
   {
    "duration": 7,
    "start_time": "2025-02-27T10:43:31.751Z"
   },
   {
    "duration": 63,
    "start_time": "2025-02-27T10:43:31.760Z"
   },
   {
    "duration": 11,
    "start_time": "2025-02-27T10:43:31.825Z"
   },
   {
    "duration": 41,
    "start_time": "2025-02-27T10:43:31.837Z"
   },
   {
    "duration": 8,
    "start_time": "2025-02-27T10:43:31.880Z"
   },
   {
    "duration": 186,
    "start_time": "2025-02-27T10:43:31.914Z"
   },
   {
    "duration": 103,
    "start_time": "2025-02-27T10:43:32.102Z"
   },
   {
    "duration": 15,
    "start_time": "2025-02-27T10:43:32.214Z"
   },
   {
    "duration": 97,
    "start_time": "2025-02-27T10:43:32.231Z"
   },
   {
    "duration": 64,
    "start_time": "2025-02-27T10:43:32.330Z"
   },
   {
    "duration": 19,
    "start_time": "2025-02-27T10:43:32.395Z"
   },
   {
    "duration": 13,
    "start_time": "2025-02-27T10:43:32.415Z"
   },
   {
    "duration": 15,
    "start_time": "2025-02-27T10:43:32.430Z"
   },
   {
    "duration": 80,
    "start_time": "2025-02-27T10:43:32.447Z"
   },
   {
    "duration": 41,
    "start_time": "2025-02-27T10:43:32.528Z"
   },
   {
    "duration": 52968,
    "start_time": "2025-02-27T10:43:32.571Z"
   },
   {
    "duration": 50,
    "start_time": "2025-02-27T10:44:25.541Z"
   },
   {
    "duration": 131,
    "start_time": "2025-02-27T10:44:25.593Z"
   },
   {
    "duration": 90,
    "start_time": "2025-02-27T10:44:25.726Z"
   },
   {
    "duration": 43,
    "start_time": "2025-02-27T10:44:25.817Z"
   },
   {
    "duration": 10,
    "start_time": "2025-02-27T10:44:25.862Z"
   },
   {
    "duration": 1132,
    "start_time": "2025-02-27T10:44:25.875Z"
   },
   {
    "duration": 285,
    "start_time": "2025-02-27T10:44:27.009Z"
   },
   {
    "duration": 288,
    "start_time": "2025-02-27T10:44:27.296Z"
   },
   {
    "duration": 137,
    "start_time": "2025-02-27T10:44:27.586Z"
   },
   {
    "duration": 11,
    "start_time": "2025-02-27T10:44:27.725Z"
   },
   {
    "duration": 214,
    "start_time": "2025-02-27T10:44:27.738Z"
   },
   {
    "duration": 639,
    "start_time": "2025-02-27T10:44:27.954Z"
   },
   {
    "duration": 127,
    "start_time": "2025-02-27T10:44:28.595Z"
   },
   {
    "duration": 26,
    "start_time": "2025-02-27T10:44:28.723Z"
   },
   {
    "duration": 103,
    "start_time": "2025-02-27T10:44:28.752Z"
   },
   {
    "duration": 9,
    "start_time": "2025-02-27T10:44:28.857Z"
   },
   {
    "duration": 8,
    "start_time": "2025-02-27T10:44:28.868Z"
   },
   {
    "duration": 202,
    "start_time": "2025-02-27T10:44:28.879Z"
   },
   {
    "duration": 8,
    "start_time": "2025-02-27T10:44:29.083Z"
   },
   {
    "duration": 295,
    "start_time": "2025-02-27T10:44:29.093Z"
   },
   {
    "duration": 46,
    "start_time": "2025-02-27T10:44:29.390Z"
   },
   {
    "duration": 215,
    "start_time": "2025-02-27T10:44:29.438Z"
   },
   {
    "duration": 9,
    "start_time": "2025-02-27T10:44:29.656Z"
   },
   {
    "duration": 9,
    "start_time": "2025-02-27T10:44:29.668Z"
   },
   {
    "duration": 37,
    "start_time": "2025-02-27T10:44:29.679Z"
   },
   {
    "duration": 3,
    "start_time": "2025-02-27T10:44:29.718Z"
   },
   {
    "duration": 9,
    "start_time": "2025-02-27T10:44:29.723Z"
   },
   {
    "duration": 6,
    "start_time": "2025-02-27T10:44:29.734Z"
   },
   {
    "duration": 6,
    "start_time": "2025-02-27T10:44:29.742Z"
   },
   {
    "duration": 23,
    "start_time": "2025-02-27T10:44:29.749Z"
   },
   {
    "duration": 56,
    "start_time": "2025-02-27T10:44:29.774Z"
   },
   {
    "duration": 9,
    "start_time": "2025-02-27T10:44:29.832Z"
   },
   {
    "duration": 5,
    "start_time": "2025-02-27T10:44:29.843Z"
   },
   {
    "duration": 8,
    "start_time": "2025-02-27T10:44:29.850Z"
   },
   {
    "duration": 220,
    "start_time": "2025-02-27T10:44:29.860Z"
   },
   {
    "duration": 166,
    "start_time": "2025-02-27T10:44:30.082Z"
   },
   {
    "duration": 17,
    "start_time": "2025-02-27T10:44:30.250Z"
   },
   {
    "duration": 53,
    "start_time": "2025-02-27T10:44:30.269Z"
   },
   {
    "duration": 168,
    "start_time": "2025-02-27T10:44:30.329Z"
   },
   {
    "duration": 2720,
    "start_time": "2025-04-13T15:38:53.694Z"
   },
   {
    "duration": 1254,
    "start_time": "2025-04-13T15:38:56.417Z"
   },
   {
    "duration": 3,
    "start_time": "2025-04-13T15:38:57.673Z"
   },
   {
    "duration": 78,
    "start_time": "2025-04-13T15:38:57.678Z"
   },
   {
    "duration": 17,
    "start_time": "2025-04-13T15:38:57.758Z"
   },
   {
    "duration": 1049,
    "start_time": "2025-04-13T15:38:57.777Z"
   },
   {
    "duration": 135,
    "start_time": "2025-04-13T15:38:58.828Z"
   },
   {
    "duration": 217,
    "start_time": "2025-04-13T15:38:58.964Z"
   },
   {
    "duration": 30,
    "start_time": "2025-04-13T15:38:59.183Z"
   },
   {
    "duration": 212,
    "start_time": "2025-04-13T15:38:59.218Z"
   },
   {
    "duration": 26,
    "start_time": "2025-04-13T15:38:59.432Z"
   },
   {
    "duration": 61,
    "start_time": "2025-04-13T15:38:59.470Z"
   },
   {
    "duration": 19,
    "start_time": "2025-04-13T15:38:59.532Z"
   },
   {
    "duration": 77,
    "start_time": "2025-04-13T15:38:59.553Z"
   },
   {
    "duration": 12,
    "start_time": "2025-04-13T15:38:59.632Z"
   },
   {
    "duration": 347,
    "start_time": "2025-04-13T15:38:59.646Z"
   },
   {
    "duration": 45,
    "start_time": "2025-04-13T15:38:59.995Z"
   },
   {
    "duration": 30,
    "start_time": "2025-04-13T15:39:00.042Z"
   },
   {
    "duration": 65,
    "start_time": "2025-04-13T15:39:00.074Z"
   },
   {
    "duration": 20,
    "start_time": "2025-04-13T15:39:00.141Z"
   },
   {
    "duration": 202,
    "start_time": "2025-04-13T15:39:00.170Z"
   },
   {
    "duration": 6,
    "start_time": "2025-04-13T15:39:00.374Z"
   },
   {
    "duration": 11,
    "start_time": "2025-04-13T15:39:00.382Z"
   },
   {
    "duration": 102,
    "start_time": "2025-04-13T15:39:00.394Z"
   },
   {
    "duration": 23,
    "start_time": "2025-04-13T15:39:00.498Z"
   },
   {
    "duration": 13,
    "start_time": "2025-04-13T15:39:00.523Z"
   },
   {
    "duration": 41,
    "start_time": "2025-04-13T15:39:00.538Z"
   },
   {
    "duration": 8,
    "start_time": "2025-04-13T15:39:00.585Z"
   },
   {
    "duration": 40,
    "start_time": "2025-04-13T15:39:00.596Z"
   },
   {
    "duration": 13,
    "start_time": "2025-04-13T15:39:00.671Z"
   },
   {
    "duration": 44,
    "start_time": "2025-04-13T15:39:00.686Z"
   },
   {
    "duration": 40,
    "start_time": "2025-04-13T15:39:00.732Z"
   },
   {
    "duration": 205,
    "start_time": "2025-04-13T15:39:00.774Z"
   },
   {
    "duration": 127,
    "start_time": "2025-04-13T15:39:00.981Z"
   },
   {
    "duration": 18,
    "start_time": "2025-04-13T15:39:01.110Z"
   },
   {
    "duration": 71,
    "start_time": "2025-04-13T15:39:01.129Z"
   },
   {
    "duration": 79,
    "start_time": "2025-04-13T15:39:01.202Z"
   },
   {
    "duration": 8,
    "start_time": "2025-04-13T15:39:01.282Z"
   },
   {
    "duration": 15,
    "start_time": "2025-04-13T15:39:01.292Z"
   },
   {
    "duration": 10,
    "start_time": "2025-04-13T15:39:01.308Z"
   },
   {
    "duration": 100,
    "start_time": "2025-04-13T15:39:01.319Z"
   },
   {
    "duration": 57,
    "start_time": "2025-04-13T15:39:01.421Z"
   },
   {
    "duration": 53900,
    "start_time": "2025-04-13T15:39:01.480Z"
   },
   {
    "duration": 56,
    "start_time": "2025-04-13T15:39:55.382Z"
   },
   {
    "duration": 110,
    "start_time": "2025-04-13T15:39:55.440Z"
   },
   {
    "duration": 91,
    "start_time": "2025-04-13T15:39:55.552Z"
   },
   {
    "duration": 52,
    "start_time": "2025-04-13T15:39:55.645Z"
   },
   {
    "duration": 10,
    "start_time": "2025-04-13T15:39:55.699Z"
   },
   {
    "duration": 1015,
    "start_time": "2025-04-13T15:39:55.710Z"
   },
   {
    "duration": 275,
    "start_time": "2025-04-13T15:39:56.727Z"
   },
   {
    "duration": 270,
    "start_time": "2025-04-13T15:39:57.005Z"
   },
   {
    "duration": 138,
    "start_time": "2025-04-13T15:39:57.277Z"
   },
   {
    "duration": 11,
    "start_time": "2025-04-13T15:39:57.417Z"
   },
   {
    "duration": 192,
    "start_time": "2025-04-13T15:39:57.429Z"
   },
   {
    "duration": 640,
    "start_time": "2025-04-13T15:39:57.623Z"
   },
   {
    "duration": 122,
    "start_time": "2025-04-13T15:39:58.265Z"
   },
   {
    "duration": 23,
    "start_time": "2025-04-13T15:39:58.390Z"
   },
   {
    "duration": 68,
    "start_time": "2025-04-13T15:39:58.415Z"
   },
   {
    "duration": 10,
    "start_time": "2025-04-13T15:39:58.485Z"
   },
   {
    "duration": 8,
    "start_time": "2025-04-13T15:39:58.496Z"
   },
   {
    "duration": 199,
    "start_time": "2025-04-13T15:39:58.506Z"
   },
   {
    "duration": 9,
    "start_time": "2025-04-13T15:39:58.707Z"
   },
   {
    "duration": 199,
    "start_time": "2025-04-13T15:39:58.718Z"
   },
   {
    "duration": 52,
    "start_time": "2025-04-13T15:39:58.920Z"
   },
   {
    "duration": 185,
    "start_time": "2025-04-13T15:39:58.974Z"
   },
   {
    "duration": 14,
    "start_time": "2025-04-13T15:39:59.161Z"
   },
   {
    "duration": 9,
    "start_time": "2025-04-13T15:39:59.177Z"
   },
   {
    "duration": 8,
    "start_time": "2025-04-13T15:39:59.189Z"
   },
   {
    "duration": 3,
    "start_time": "2025-04-13T15:39:59.200Z"
   },
   {
    "duration": 6,
    "start_time": "2025-04-13T15:39:59.205Z"
   },
   {
    "duration": 61,
    "start_time": "2025-04-13T15:39:59.213Z"
   },
   {
    "duration": 13,
    "start_time": "2025-04-13T15:39:59.276Z"
   },
   {
    "duration": 13,
    "start_time": "2025-04-13T15:39:59.291Z"
   },
   {
    "duration": 19,
    "start_time": "2025-04-13T15:39:59.306Z"
   },
   {
    "duration": 44,
    "start_time": "2025-04-13T15:39:59.328Z"
   },
   {
    "duration": 11,
    "start_time": "2025-04-13T15:39:59.374Z"
   },
   {
    "duration": 11,
    "start_time": "2025-04-13T15:39:59.387Z"
   },
   {
    "duration": 192,
    "start_time": "2025-04-13T15:39:59.400Z"
   },
   {
    "duration": 163,
    "start_time": "2025-04-13T15:39:59.593Z"
   },
   {
    "duration": 23,
    "start_time": "2025-04-13T15:39:59.758Z"
   },
   {
    "duration": 11,
    "start_time": "2025-04-13T15:39:59.782Z"
   },
   {
    "duration": 178,
    "start_time": "2025-04-13T15:39:59.798Z"
   }
  ],
  "colab": {
   "provenance": []
  },
  "kernelspec": {
   "display_name": "Python 3 (ipykernel)",
   "language": "python",
   "name": "python3"
  },
  "language_info": {
   "codemirror_mode": {
    "name": "ipython",
    "version": 3
   },
   "file_extension": ".py",
   "mimetype": "text/x-python",
   "name": "python",
   "nbconvert_exporter": "python",
   "pygments_lexer": "ipython3",
   "version": "3.9.5"
  },
  "toc": {
   "base_numbering": 1,
   "nav_menu": {
    "height": "363px",
    "width": "492px"
   },
   "number_sections": true,
   "sideBar": true,
   "skip_h1_title": true,
   "title_cell": "Table of Contents",
   "title_sidebar": "Contents",
   "toc_cell": false,
   "toc_position": {},
   "toc_section_display": true,
   "toc_window_display": false
  }
 },
 "nbformat": 4,
 "nbformat_minor": 1
}

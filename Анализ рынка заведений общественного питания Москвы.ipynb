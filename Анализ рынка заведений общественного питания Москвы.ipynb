{
 "cells": [
  {
   "cell_type": "markdown",
   "id": "e06910dd",
   "metadata": {
    "id": "e06910dd"
   },
   "source": [
    "# Изучение рынка заведений общественного питания Москвы\n",
    "\n",
    "- Автор: Родина Дарья \n",
    "- Дата:"
   ]
  },
  {
   "cell_type": "markdown",
   "id": "4149134c",
   "metadata": {
    "id": "4149134c"
   },
   "source": [
    "### Цели и задачи проекта\n",
    "\n",
    "В цели и задачи проекта входит провести исследовательский анализ данных рынка общественного питания города Москвы, а также выявить наиболее подходящий район для открытия заведения. "
   ]
  },
  {
   "cell_type": "markdown",
   "id": "728986ea",
   "metadata": {
    "id": "728986ea"
   },
   "source": [
    "### Описание данных\n",
    "\n",
    "Файл /datasets/rest_info.csv содержит информацию о заведениях общественного питания:\n",
    "- name — название заведения;\n",
    "- address — адрес заведения;\n",
    "- district — административный район, в котором находится заведение, например Центральный административный округ;\n",
    "- category — категория заведения, например «кафе», «пиццерия» или «кофейня»;\n",
    "- hours — информация о днях и часах работы;\n",
    "- rating — рейтинг заведения по оценкам пользователей в Яндекс Картах (высшая оценка — 5.0);\n",
    "- chain — число, выраженное 0 или 1, которое показывает, является ли заведение сетевым (для маленьких сетей могут встречаться ошибки): \n",
    "0 — заведение не является сетевым;\n",
    "1 — заведение является сетевым.\n",
    "- seats — количество посадочных мест.\n",
    "\n",
    "\n",
    "Файл /datasets/rest_price.csv содержит информацию о среднем чеке в заведениях общественного питания:\n",
    "- price — категория цен в заведении, например «средние», «ниже среднего», «выше среднего» и так далее;\n",
    "- avg_bill — строка, которая хранит среднюю стоимость заказа в виде диапазона, например: \n",
    "«Средний счёт: 1000–1500 ₽»;\n",
    "«Цена чашки капучино: 130–220 ₽»;\n",
    "«Цена бокала пива: 400–600 ₽».\n",
    "и так далее;\n",
    "- middle_avg_bill — число с оценкой среднего чека, которое указано только для значений из столбца avg_bill, начинающихся с подстроки «Средний счёт»: \n",
    "Если в строке указан ценовой диапазон из двух значений, в столбец войдёт медиана этих двух значений.\n",
    "Если в строке указано одно число — цена без диапазона, то в столбец войдёт это число.\n",
    "Если значения нет или оно не начинается с подстроки «Средний счёт», то в столбец ничего не войдёт.\n",
    "- middle_coffee_cup — число с оценкой одной чашки капучино, которое указано только для значений из столбца avg_bill, начинающихся с подстроки «Цена одной чашки капучино»: \n",
    "Если в строке указан ценовой диапазон из двух значений, в столбец войдёт медиана этих двух значений.\n",
    "Если в строке указано одно число — цена без диапазона, то в столбец войдёт это число.\n",
    "Если значения нет или оно не начинается с подстроки «Цена одной чашки капучино», то в столбец ничего не войдёт."
   ]
  },
  {
   "cell_type": "markdown",
   "id": "4fecaf95",
   "metadata": {
    "id": "4fecaf95"
   },
   "source": [
    "### Содержимое проекта\n",
    "\n",
    "1. Загрузка данных и знакомство с ними \n",
    "2. Предобработка данных \n",
    "3. Исследовательский анализ данных \n",
    "4. Итоговый вывод и рекомендации"
   ]
  },
  {
   "cell_type": "markdown",
   "id": "6f7d21d6",
   "metadata": {
    "id": "6f7d21d6"
   },
   "source": [
    "## 1. Загрузка данных и знакомство с ними\n"
   ]
  },
  {
   "cell_type": "code",
   "execution_count": 1,
   "id": "05faf34b",
   "metadata": {
    "id": "05faf34b"
   },
   "outputs": [
    {
     "name": "stdout",
     "output_type": "stream",
     "text": [
      "Requirement already satisfied: phik in /opt/conda/lib/python3.9/site-packages (0.12.4)\n",
      "Requirement already satisfied: matplotlib>=2.2.3 in /opt/conda/lib/python3.9/site-packages (from phik) (3.3.4)\n",
      "Requirement already satisfied: joblib>=0.14.1 in /opt/conda/lib/python3.9/site-packages (from phik) (1.1.0)\n",
      "Requirement already satisfied: pandas>=0.25.1 in /opt/conda/lib/python3.9/site-packages (from phik) (1.2.4)\n",
      "Requirement already satisfied: numpy>=1.18.0 in /opt/conda/lib/python3.9/site-packages (from phik) (1.21.1)\n",
      "Requirement already satisfied: scipy>=1.5.2 in /opt/conda/lib/python3.9/site-packages (from phik) (1.9.1)\n",
      "Requirement already satisfied: kiwisolver>=1.0.1 in /opt/conda/lib/python3.9/site-packages (from matplotlib>=2.2.3->phik) (1.4.4)\n",
      "Requirement already satisfied: cycler>=0.10 in /opt/conda/lib/python3.9/site-packages (from matplotlib>=2.2.3->phik) (0.11.0)\n",
      "Requirement already satisfied: pyparsing!=2.0.4,!=2.1.2,!=2.1.6,>=2.0.3 in /opt/conda/lib/python3.9/site-packages (from matplotlib>=2.2.3->phik) (2.4.7)\n",
      "Requirement already satisfied: python-dateutil>=2.1 in /opt/conda/lib/python3.9/site-packages (from matplotlib>=2.2.3->phik) (2.8.1)\n",
      "Requirement already satisfied: pillow>=6.2.0 in /opt/conda/lib/python3.9/site-packages (from matplotlib>=2.2.3->phik) (8.4.0)\n",
      "Requirement already satisfied: pytz>=2017.3 in /opt/conda/lib/python3.9/site-packages (from pandas>=0.25.1->phik) (2021.1)\n",
      "Requirement already satisfied: six>=1.5 in /opt/conda/lib/python3.9/site-packages (from python-dateutil>=2.1->matplotlib>=2.2.3->phik) (1.16.0)\n"
     ]
    }
   ],
   "source": [
    "!pip install phik"
   ]
  },
  {
   "cell_type": "code",
   "execution_count": 2,
   "id": "a1359e95",
   "metadata": {},
   "outputs": [],
   "source": [
    "import seaborn as sns\n",
    "import pandas as pd \n",
    "import matplotlib.pyplot as plt\n",
    "import phik"
   ]
  },
  {
   "cell_type": "code",
   "execution_count": 3,
   "id": "90fee493",
   "metadata": {
    "id": "90fee493"
   },
   "outputs": [],
   "source": [
    "rest_info = pd.read_csv('https://code.s3.yandex.net/datasets/rest_info.csv')\n",
    "rest_price = pd.read_csv('https://code.s3.yandex.net/datasets/rest_price.csv')"
   ]
  },
  {
   "cell_type": "markdown",
   "id": "18b5dfff",
   "metadata": {
    "id": "18b5dfff"
   },
   "source": [
    " "
   ]
  },
  {
   "cell_type": "code",
   "execution_count": 4,
   "id": "f68a7419",
   "metadata": {
    "id": "f68a7419",
    "scrolled": true
   },
   "outputs": [
    {
     "name": "stdout",
     "output_type": "stream",
     "text": [
      "<class 'pandas.core.frame.DataFrame'>\n",
      "RangeIndex: 8406 entries, 0 to 8405\n",
      "Data columns (total 9 columns):\n",
      " #   Column    Non-Null Count  Dtype  \n",
      "---  ------    --------------  -----  \n",
      " 0   id        8406 non-null   object \n",
      " 1   name      8406 non-null   object \n",
      " 2   category  8406 non-null   object \n",
      " 3   address   8406 non-null   object \n",
      " 4   district  8406 non-null   object \n",
      " 5   hours     7870 non-null   object \n",
      " 6   rating    8406 non-null   float64\n",
      " 7   chain     8406 non-null   int64  \n",
      " 8   seats     4795 non-null   float64\n",
      "dtypes: float64(2), int64(1), object(6)\n",
      "memory usage: 591.2+ KB\n"
     ]
    }
   ],
   "source": [
    "# выводим общую информацию данных в датафрейме с информацией о заведении \n",
    "rest_info.info()"
   ]
  },
  {
   "cell_type": "code",
   "execution_count": 5,
   "id": "dd415c80",
   "metadata": {
    "id": "dd415c80"
   },
   "outputs": [
    {
     "data": {
      "text/html": [
       "<div>\n",
       "<style scoped>\n",
       "    .dataframe tbody tr th:only-of-type {\n",
       "        vertical-align: middle;\n",
       "    }\n",
       "\n",
       "    .dataframe tbody tr th {\n",
       "        vertical-align: top;\n",
       "    }\n",
       "\n",
       "    .dataframe thead th {\n",
       "        text-align: right;\n",
       "    }\n",
       "</style>\n",
       "<table border=\"1\" class=\"dataframe\">\n",
       "  <thead>\n",
       "    <tr style=\"text-align: right;\">\n",
       "      <th></th>\n",
       "      <th>id</th>\n",
       "      <th>name</th>\n",
       "      <th>category</th>\n",
       "      <th>address</th>\n",
       "      <th>district</th>\n",
       "      <th>hours</th>\n",
       "      <th>rating</th>\n",
       "      <th>chain</th>\n",
       "      <th>seats</th>\n",
       "    </tr>\n",
       "  </thead>\n",
       "  <tbody>\n",
       "    <tr>\n",
       "      <th>0</th>\n",
       "      <td>0c3e3439a8c64ea5bf6ecd6ca6ae19f0</td>\n",
       "      <td>WoWфли</td>\n",
       "      <td>кафе</td>\n",
       "      <td>Москва, улица Дыбенко, 7/1</td>\n",
       "      <td>Северный административный округ</td>\n",
       "      <td>ежедневно, 10:00–22:00</td>\n",
       "      <td>5.0</td>\n",
       "      <td>0</td>\n",
       "      <td>NaN</td>\n",
       "    </tr>\n",
       "    <tr>\n",
       "      <th>1</th>\n",
       "      <td>045780ada3474c57a2112e505d74b633</td>\n",
       "      <td>Четыре комнаты</td>\n",
       "      <td>ресторан</td>\n",
       "      <td>Москва, улица Дыбенко, 36, корп. 1</td>\n",
       "      <td>Северный административный округ</td>\n",
       "      <td>ежедневно, 10:00–22:00</td>\n",
       "      <td>4.5</td>\n",
       "      <td>0</td>\n",
       "      <td>4.0</td>\n",
       "    </tr>\n",
       "    <tr>\n",
       "      <th>2</th>\n",
       "      <td>1070b6b59144425896c65889347fcff6</td>\n",
       "      <td>Хазри</td>\n",
       "      <td>кафе</td>\n",
       "      <td>Москва, Клязьминская улица, 15</td>\n",
       "      <td>Северный административный округ</td>\n",
       "      <td>пн-чт 11:00–02:00; пт,сб 11:00–05:00; вс 11:00...</td>\n",
       "      <td>4.6</td>\n",
       "      <td>0</td>\n",
       "      <td>45.0</td>\n",
       "    </tr>\n",
       "    <tr>\n",
       "      <th>3</th>\n",
       "      <td>03ac7cd772104f65b58b349dc59f03ee</td>\n",
       "      <td>Dormouse Coffee Shop</td>\n",
       "      <td>кофейня</td>\n",
       "      <td>Москва, улица Маршала Федоренко, 12</td>\n",
       "      <td>Северный административный округ</td>\n",
       "      <td>ежедневно, 09:00–22:00</td>\n",
       "      <td>5.0</td>\n",
       "      <td>0</td>\n",
       "      <td>NaN</td>\n",
       "    </tr>\n",
       "    <tr>\n",
       "      <th>4</th>\n",
       "      <td>a163aada139c4c7f87b0b1c0b466a50f</td>\n",
       "      <td>Иль Марко</td>\n",
       "      <td>пиццерия</td>\n",
       "      <td>Москва, Правобережная улица, 1Б</td>\n",
       "      <td>Северный административный округ</td>\n",
       "      <td>ежедневно, 10:00–22:00</td>\n",
       "      <td>5.0</td>\n",
       "      <td>1</td>\n",
       "      <td>148.0</td>\n",
       "    </tr>\n",
       "    <tr>\n",
       "      <th>5</th>\n",
       "      <td>8a343546b24e4a499ad96eb7d0797a8a</td>\n",
       "      <td>Sergio Pizza</td>\n",
       "      <td>пиццерия</td>\n",
       "      <td>Москва, Ижорская улица, вл8Б</td>\n",
       "      <td>Северный административный округ</td>\n",
       "      <td>ежедневно, 10:00–23:00</td>\n",
       "      <td>4.6</td>\n",
       "      <td>0</td>\n",
       "      <td>NaN</td>\n",
       "    </tr>\n",
       "    <tr>\n",
       "      <th>6</th>\n",
       "      <td>96ebceb1a09e4e3191133b9fe0379a64</td>\n",
       "      <td>Огни города</td>\n",
       "      <td>бар,паб</td>\n",
       "      <td>Москва, Клязьминская улица, 9, стр. 3</td>\n",
       "      <td>Северный административный округ</td>\n",
       "      <td>пн 15:00–04:00; вт-вс 15:00–05:00</td>\n",
       "      <td>4.4</td>\n",
       "      <td>0</td>\n",
       "      <td>45.0</td>\n",
       "    </tr>\n",
       "    <tr>\n",
       "      <th>7</th>\n",
       "      <td>0243288b78024af090b8e947842c969c</td>\n",
       "      <td>Mr. Уголёк</td>\n",
       "      <td>быстрое питание</td>\n",
       "      <td>Москва, Клязьминская улица, 9, стр. 3</td>\n",
       "      <td>Северный административный округ</td>\n",
       "      <td>пн-чт 10:00–22:00; пт,сб 10:00–23:00; вс 10:00...</td>\n",
       "      <td>4.7</td>\n",
       "      <td>0</td>\n",
       "      <td>45.0</td>\n",
       "    </tr>\n",
       "    <tr>\n",
       "      <th>8</th>\n",
       "      <td>36aeb0ffa69c48fdb0021549520deb10</td>\n",
       "      <td>Donna Maria</td>\n",
       "      <td>ресторан</td>\n",
       "      <td>Москва, Дмитровское шоссе, 107, корп. 4</td>\n",
       "      <td>Северный административный округ</td>\n",
       "      <td>ежедневно, 10:00–22:00</td>\n",
       "      <td>4.8</td>\n",
       "      <td>0</td>\n",
       "      <td>79.0</td>\n",
       "    </tr>\n",
       "    <tr>\n",
       "      <th>9</th>\n",
       "      <td>487167877eb04288bc90d4fa80646fc2</td>\n",
       "      <td>Готика</td>\n",
       "      <td>кафе</td>\n",
       "      <td>Москва, Ангарская улица, 39</td>\n",
       "      <td>Северный административный округ</td>\n",
       "      <td>ежедневно, 12:00–00:00</td>\n",
       "      <td>4.3</td>\n",
       "      <td>0</td>\n",
       "      <td>65.0</td>\n",
       "    </tr>\n",
       "  </tbody>\n",
       "</table>\n",
       "</div>"
      ],
      "text/plain": [
       "                                 id                  name         category  \\\n",
       "0  0c3e3439a8c64ea5bf6ecd6ca6ae19f0                WoWфли             кафе   \n",
       "1  045780ada3474c57a2112e505d74b633        Четыре комнаты         ресторан   \n",
       "2  1070b6b59144425896c65889347fcff6                 Хазри             кафе   \n",
       "3  03ac7cd772104f65b58b349dc59f03ee  Dormouse Coffee Shop          кофейня   \n",
       "4  a163aada139c4c7f87b0b1c0b466a50f             Иль Марко         пиццерия   \n",
       "5  8a343546b24e4a499ad96eb7d0797a8a          Sergio Pizza         пиццерия   \n",
       "6  96ebceb1a09e4e3191133b9fe0379a64           Огни города          бар,паб   \n",
       "7  0243288b78024af090b8e947842c969c            Mr. Уголёк  быстрое питание   \n",
       "8  36aeb0ffa69c48fdb0021549520deb10           Donna Maria         ресторан   \n",
       "9  487167877eb04288bc90d4fa80646fc2                Готика             кафе   \n",
       "\n",
       "                                   address                         district  \\\n",
       "0               Москва, улица Дыбенко, 7/1  Северный административный округ   \n",
       "1       Москва, улица Дыбенко, 36, корп. 1  Северный административный округ   \n",
       "2           Москва, Клязьминская улица, 15  Северный административный округ   \n",
       "3      Москва, улица Маршала Федоренко, 12  Северный административный округ   \n",
       "4          Москва, Правобережная улица, 1Б  Северный административный округ   \n",
       "5             Москва, Ижорская улица, вл8Б  Северный административный округ   \n",
       "6    Москва, Клязьминская улица, 9, стр. 3  Северный административный округ   \n",
       "7    Москва, Клязьминская улица, 9, стр. 3  Северный административный округ   \n",
       "8  Москва, Дмитровское шоссе, 107, корп. 4  Северный административный округ   \n",
       "9              Москва, Ангарская улица, 39  Северный административный округ   \n",
       "\n",
       "                                               hours  rating  chain  seats  \n",
       "0                             ежедневно, 10:00–22:00     5.0      0    NaN  \n",
       "1                             ежедневно, 10:00–22:00     4.5      0    4.0  \n",
       "2  пн-чт 11:00–02:00; пт,сб 11:00–05:00; вс 11:00...     4.6      0   45.0  \n",
       "3                             ежедневно, 09:00–22:00     5.0      0    NaN  \n",
       "4                             ежедневно, 10:00–22:00     5.0      1  148.0  \n",
       "5                             ежедневно, 10:00–23:00     4.6      0    NaN  \n",
       "6                  пн 15:00–04:00; вт-вс 15:00–05:00     4.4      0   45.0  \n",
       "7  пн-чт 10:00–22:00; пт,сб 10:00–23:00; вс 10:00...     4.7      0   45.0  \n",
       "8                             ежедневно, 10:00–22:00     4.8      0   79.0  \n",
       "9                             ежедневно, 12:00–00:00     4.3      0   65.0  "
      ]
     },
     "execution_count": 5,
     "metadata": {},
     "output_type": "execute_result"
    }
   ],
   "source": [
    "# выводим первые 10 строк с информацией о заведении \n",
    "rest_info.head(10)"
   ]
  },
  {
   "cell_type": "code",
   "execution_count": 6,
   "id": "3158ad37",
   "metadata": {
    "id": "3158ad37"
   },
   "outputs": [
    {
     "name": "stdout",
     "output_type": "stream",
     "text": [
      "<class 'pandas.core.frame.DataFrame'>\n",
      "RangeIndex: 4058 entries, 0 to 4057\n",
      "Data columns (total 5 columns):\n",
      " #   Column             Non-Null Count  Dtype  \n",
      "---  ------             --------------  -----  \n",
      " 0   id                 4058 non-null   object \n",
      " 1   price              3315 non-null   object \n",
      " 2   avg_bill           3816 non-null   object \n",
      " 3   middle_avg_bill    3149 non-null   float64\n",
      " 4   middle_coffee_cup  535 non-null    float64\n",
      "dtypes: float64(2), object(3)\n",
      "memory usage: 158.6+ KB\n"
     ]
    }
   ],
   "source": [
    "# выводим общую информацию о данных в датафрейме о среднем чеке в заведениях общественного питания\n",
    "rest_price.info()"
   ]
  },
  {
   "cell_type": "code",
   "execution_count": 7,
   "id": "03ff656e",
   "metadata": {},
   "outputs": [
    {
     "data": {
      "text/html": [
       "<div>\n",
       "<style scoped>\n",
       "    .dataframe tbody tr th:only-of-type {\n",
       "        vertical-align: middle;\n",
       "    }\n",
       "\n",
       "    .dataframe tbody tr th {\n",
       "        vertical-align: top;\n",
       "    }\n",
       "\n",
       "    .dataframe thead th {\n",
       "        text-align: right;\n",
       "    }\n",
       "</style>\n",
       "<table border=\"1\" class=\"dataframe\">\n",
       "  <thead>\n",
       "    <tr style=\"text-align: right;\">\n",
       "      <th></th>\n",
       "      <th>id</th>\n",
       "      <th>price</th>\n",
       "      <th>avg_bill</th>\n",
       "      <th>middle_avg_bill</th>\n",
       "      <th>middle_coffee_cup</th>\n",
       "    </tr>\n",
       "  </thead>\n",
       "  <tbody>\n",
       "    <tr>\n",
       "      <th>0</th>\n",
       "      <td>045780ada3474c57a2112e505d74b633</td>\n",
       "      <td>выше среднего</td>\n",
       "      <td>Средний счёт:1500–1600 ₽</td>\n",
       "      <td>1550.0</td>\n",
       "      <td>NaN</td>\n",
       "    </tr>\n",
       "    <tr>\n",
       "      <th>1</th>\n",
       "      <td>1070b6b59144425896c65889347fcff6</td>\n",
       "      <td>средние</td>\n",
       "      <td>Средний счёт:от 1000 ₽</td>\n",
       "      <td>1000.0</td>\n",
       "      <td>NaN</td>\n",
       "    </tr>\n",
       "    <tr>\n",
       "      <th>2</th>\n",
       "      <td>03ac7cd772104f65b58b349dc59f03ee</td>\n",
       "      <td>NaN</td>\n",
       "      <td>Цена чашки капучино:155–185 ₽</td>\n",
       "      <td>NaN</td>\n",
       "      <td>170.0</td>\n",
       "    </tr>\n",
       "    <tr>\n",
       "      <th>3</th>\n",
       "      <td>a163aada139c4c7f87b0b1c0b466a50f</td>\n",
       "      <td>средние</td>\n",
       "      <td>Средний счёт:400–600 ₽</td>\n",
       "      <td>500.0</td>\n",
       "      <td>NaN</td>\n",
       "    </tr>\n",
       "    <tr>\n",
       "      <th>4</th>\n",
       "      <td>8a343546b24e4a499ad96eb7d0797a8a</td>\n",
       "      <td>средние</td>\n",
       "      <td>NaN</td>\n",
       "      <td>NaN</td>\n",
       "      <td>NaN</td>\n",
       "    </tr>\n",
       "    <tr>\n",
       "      <th>5</th>\n",
       "      <td>96ebceb1a09e4e3191133b9fe0379a64</td>\n",
       "      <td>средние</td>\n",
       "      <td>Средний счёт:199 ₽</td>\n",
       "      <td>199.0</td>\n",
       "      <td>NaN</td>\n",
       "    </tr>\n",
       "    <tr>\n",
       "      <th>6</th>\n",
       "      <td>0243288b78024af090b8e947842c969c</td>\n",
       "      <td>средние</td>\n",
       "      <td>Средний счёт:200–300 ₽</td>\n",
       "      <td>250.0</td>\n",
       "      <td>NaN</td>\n",
       "    </tr>\n",
       "    <tr>\n",
       "      <th>7</th>\n",
       "      <td>36aeb0ffa69c48fdb0021549520deb10</td>\n",
       "      <td>средние</td>\n",
       "      <td>Средний счёт:от 500 ₽</td>\n",
       "      <td>500.0</td>\n",
       "      <td>NaN</td>\n",
       "    </tr>\n",
       "    <tr>\n",
       "      <th>8</th>\n",
       "      <td>487167877eb04288bc90d4fa80646fc2</td>\n",
       "      <td>средние</td>\n",
       "      <td>Средний счёт:1000–1200 ₽</td>\n",
       "      <td>1100.0</td>\n",
       "      <td>NaN</td>\n",
       "    </tr>\n",
       "    <tr>\n",
       "      <th>9</th>\n",
       "      <td>ac32978af97641bfacf996e7f5a50ee5</td>\n",
       "      <td>средние</td>\n",
       "      <td>Цена бокала пива:250–350 ₽</td>\n",
       "      <td>NaN</td>\n",
       "      <td>NaN</td>\n",
       "    </tr>\n",
       "  </tbody>\n",
       "</table>\n",
       "</div>"
      ],
      "text/plain": [
       "                                 id          price  \\\n",
       "0  045780ada3474c57a2112e505d74b633  выше среднего   \n",
       "1  1070b6b59144425896c65889347fcff6        средние   \n",
       "2  03ac7cd772104f65b58b349dc59f03ee            NaN   \n",
       "3  a163aada139c4c7f87b0b1c0b466a50f        средние   \n",
       "4  8a343546b24e4a499ad96eb7d0797a8a        средние   \n",
       "5  96ebceb1a09e4e3191133b9fe0379a64        средние   \n",
       "6  0243288b78024af090b8e947842c969c        средние   \n",
       "7  36aeb0ffa69c48fdb0021549520deb10        средние   \n",
       "8  487167877eb04288bc90d4fa80646fc2        средние   \n",
       "9  ac32978af97641bfacf996e7f5a50ee5        средние   \n",
       "\n",
       "                        avg_bill  middle_avg_bill  middle_coffee_cup  \n",
       "0       Средний счёт:1500–1600 ₽           1550.0                NaN  \n",
       "1         Средний счёт:от 1000 ₽           1000.0                NaN  \n",
       "2  Цена чашки капучино:155–185 ₽              NaN              170.0  \n",
       "3         Средний счёт:400–600 ₽            500.0                NaN  \n",
       "4                            NaN              NaN                NaN  \n",
       "5             Средний счёт:199 ₽            199.0                NaN  \n",
       "6         Средний счёт:200–300 ₽            250.0                NaN  \n",
       "7          Средний счёт:от 500 ₽            500.0                NaN  \n",
       "8       Средний счёт:1000–1200 ₽           1100.0                NaN  \n",
       "9     Цена бокала пива:250–350 ₽              NaN                NaN  "
      ]
     },
     "execution_count": 7,
     "metadata": {},
     "output_type": "execute_result"
    }
   ],
   "source": [
    "# выводим первые 10 строк \n",
    "rest_price.head(10)"
   ]
  },
  {
   "cell_type": "markdown",
   "id": "2c614a62",
   "metadata": {
    "id": "2c614a62"
   },
   "source": [
    "---\n",
    "\n",
    "### Промежуточный вывод\n"
   ]
  },
  {
   "cell_type": "markdown",
   "id": "8c85cce3",
   "metadata": {
    "id": "3593b7d5"
   },
   "source": [
    "В датафрейме с информацией о заведении содержатся данные в объёме 591 КБ. Названия столбцов полностью отражают суть наполненных ими данных, а также имеют одинаковые регистры и формат \"имени\" столбца. Всего в датафрейме 8406 строк. В некоторых столбцах имеются пропуски, а именно в столбцах hours(7870) и seats(4795). Все столбцы имеют правильный тип данных: float(2 столбца), int(1 столбец), object(6 столбцов)."
   ]
  },
  {
   "cell_type": "markdown",
   "id": "bac43311",
   "metadata": {
    "id": "c2cc7f38"
   },
   "source": [
    "В датафрейме с информацией о среднем чеке в заведениях общественного питания содержатся данные в объёме 158 КБ. названия столбцов полностью отражают суть наполненных ими данных, а также имеют одинаковый стиль и формат написания \"имени\" столбца. Всего в датафрейме 4058 строк. Во многих столбцах имеются пропуски, а именно: price(3315), avg_bill(3816), middle_avg_bill(3149) и middle_coffee_cup(535). Все столбцы имеют правильный тип данных: float(2 столбца) и object(3 столбца)."
   ]
  },
  {
   "cell_type": "markdown",
   "id": "1920c436",
   "metadata": {},
   "source": [
    " "
   ]
  },
  {
   "cell_type": "markdown",
   "id": "8a8d1491",
   "metadata": {
    "id": "8a8d1491"
   },
   "source": [
    "### Подготовка единого датафрейма\n",
    "\n",
    "- Объедините данные двух датасетов в один, с которым вы и продолжите работу."
   ]
  },
  {
   "cell_type": "code",
   "execution_count": 8,
   "id": "3408e303",
   "metadata": {
    "id": "3408e303"
   },
   "outputs": [],
   "source": [
    "# соединяем данные в единай датафрейм \n",
    "df = rest_info.merge(rest_price, on = 'id', how = 'outer')"
   ]
  },
  {
   "cell_type": "code",
   "execution_count": 9,
   "id": "5695950b",
   "metadata": {
    "id": "5695950b"
   },
   "outputs": [
    {
     "name": "stdout",
     "output_type": "stream",
     "text": [
      "<class 'pandas.core.frame.DataFrame'>\n",
      "Int64Index: 8406 entries, 0 to 8405\n",
      "Data columns (total 13 columns):\n",
      " #   Column             Non-Null Count  Dtype  \n",
      "---  ------             --------------  -----  \n",
      " 0   id                 8406 non-null   object \n",
      " 1   name               8406 non-null   object \n",
      " 2   category           8406 non-null   object \n",
      " 3   address            8406 non-null   object \n",
      " 4   district           8406 non-null   object \n",
      " 5   hours              7870 non-null   object \n",
      " 6   rating             8406 non-null   float64\n",
      " 7   chain              8406 non-null   int64  \n",
      " 8   seats              4795 non-null   float64\n",
      " 9   price              3315 non-null   object \n",
      " 10  avg_bill           3816 non-null   object \n",
      " 11  middle_avg_bill    3149 non-null   float64\n",
      " 12  middle_coffee_cup  535 non-null    float64\n",
      "dtypes: float64(4), int64(1), object(8)\n",
      "memory usage: 919.4+ KB\n"
     ]
    }
   ],
   "source": [
    "df.info()"
   ]
  },
  {
   "cell_type": "markdown",
   "id": "956e82e2",
   "metadata": {
    "id": "956e82e2"
   },
   "source": [
    "## 2. Предобработка данных\n"
   ]
  },
  {
   "cell_type": "code",
   "execution_count": 10,
   "id": "154d92ad",
   "metadata": {},
   "outputs": [],
   "source": [
    "# оптимизируем целочисленный тип данных \n",
    "df['chain'] = pd.to_numeric(df['chain'], downcast = 'integer')"
   ]
  },
  {
   "cell_type": "code",
   "execution_count": 11,
   "id": "67956690",
   "metadata": {
    "id": "67956690"
   },
   "outputs": [
    {
     "data": {
      "text/plain": [
       "id                    object\n",
       "name                  object\n",
       "category              object\n",
       "address               object\n",
       "district              object\n",
       "hours                 object\n",
       "rating               float64\n",
       "chain                   int8\n",
       "seats                float64\n",
       "price                 object\n",
       "avg_bill              object\n",
       "middle_avg_bill      float64\n",
       "middle_coffee_cup    float64\n",
       "dtype: object"
      ]
     },
     "execution_count": 11,
     "metadata": {},
     "output_type": "execute_result"
    }
   ],
   "source": [
    "df.dtypes"
   ]
  },
  {
   "cell_type": "code",
   "execution_count": 12,
   "id": "4b718410",
   "metadata": {},
   "outputs": [
    {
     "data": {
      "text/plain": [
       "8406"
      ]
     },
     "execution_count": 12,
     "metadata": {},
     "output_type": "execute_result"
    }
   ],
   "source": [
    "# фиксируем количество строк до предобработки данных \n",
    "initial_row_count = df.shape[0]\n",
    "initial_row_count"
   ]
  },
  {
   "cell_type": "code",
   "execution_count": 13,
   "id": "3d8840ca",
   "metadata": {
    "id": "3d8840ca"
   },
   "outputs": [
    {
     "data": {
      "text/plain": [
       "id                      0\n",
       "name                    0\n",
       "category                0\n",
       "address                 0\n",
       "district                0\n",
       "hours                 536\n",
       "rating                  0\n",
       "chain                   0\n",
       "seats                3611\n",
       "price                5091\n",
       "avg_bill             4590\n",
       "middle_avg_bill      5257\n",
       "middle_coffee_cup    7871\n",
       "dtype: int64"
      ]
     },
     "execution_count": 13,
     "metadata": {},
     "output_type": "execute_result"
    }
   ],
   "source": [
    "# проверяем количество пропусков\n",
    "df.isna().sum()"
   ]
  },
  {
   "cell_type": "code",
   "execution_count": 14,
   "id": "2ea145ca",
   "metadata": {
    "id": "2ea145ca"
   },
   "outputs": [
    {
     "data": {
      "text/plain": [
       "id                    0.000000\n",
       "name                  0.000000\n",
       "category              0.000000\n",
       "address               0.000000\n",
       "district              0.000000\n",
       "hours                 6.376398\n",
       "rating                0.000000\n",
       "chain                 0.000000\n",
       "seats                42.957411\n",
       "price                60.563883\n",
       "avg_bill             54.603854\n",
       "middle_avg_bill      62.538663\n",
       "middle_coffee_cup    93.635498\n",
       "dtype: float64"
      ]
     },
     "execution_count": 14,
     "metadata": {},
     "output_type": "execute_result"
    }
   ],
   "source": [
    "# считаем долю пропусков в каждом столбце \n",
    "df.isna().sum() / df.shape[0] * 100"
   ]
  },
  {
   "cell_type": "markdown",
   "id": "b45062fb",
   "metadata": {},
   "source": [
    "В датафрейме обнаружено множество пропусков. В столбце hours 536 пропусков, что сотавляет 6 процентов. Такие пропуски можно удалить, а можно отсавить как есть, чтобы не потерять данные. Поэтому с целью сохранения максимального количества данных -  оставим пропущенные значения данного столбца. Пропуски в этом столбце могут быть вызваны: техническими сбоями, временным закрытием заведения или полным закрытыием заведения. \n",
    "\n",
    "В столбце seats количество пропусков составляет 3611, что 42% от всех данных. Количество пропусков достаточно большое, чтобы их удалить. Пропуски в этом столбце могут быть вызваны: при обработке данных произошел технический сбой, заведение пректратило свою работу, заведение работает без посадочных мест. Такие пропуски нужно оставить без внимания, так как в случае замены пропуска на нереалистичное значение или какое-либо другое, существует риск сделать неправильный и некорректный исследовательский анализ.\n",
    "\n",
    "В столбце price 5091 пропуска, что составляет 60% от всех данных. Такие пропуски можно заполнить пустыми строками. \n",
    "\n",
    "В столбце avg_bill количество пропусков составляет 4590, что 54% от всех данных. Для того, чтобы не потерять данные, пропуски можно заменить на нереалистичное значение в виде пустой строки. \n",
    "\n",
    "Столбец middle_avg_bill имеет 5257 пропусков, что составляет 62% от всех данных. Такие пропуски нужно оставить без изменений, так как заменив такое большое количество значений на усредненное, можно получить неверный анализ. \n",
    "\n",
    "Столбец middle_coffee_cup имеет 7871 пропущенных значений, что 93% от всех данных. Такие пропуски также лучше оставить без изменений. "
   ]
  },
  {
   "cell_type": "code",
   "execution_count": 15,
   "id": "0c65c799",
   "metadata": {},
   "outputs": [],
   "source": [
    "# заполняем пропуски столбца price пустыми строками \n",
    "df['price'] = df['price'].fillna('')"
   ]
  },
  {
   "cell_type": "code",
   "execution_count": 16,
   "id": "5b1dce01",
   "metadata": {},
   "outputs": [],
   "source": [
    "# заполняем пропуски столбца avg_bill пустыми строками \n",
    "df['avg_bill'] = df['avg_bill'].fillna('')"
   ]
  },
  {
   "cell_type": "markdown",
   "id": "c4d5f04d",
   "metadata": {
    "id": "c4d5f04d"
   },
   "source": [
    " "
   ]
  },
  {
   "cell_type": "code",
   "execution_count": 17,
   "id": "95b15cd0",
   "metadata": {
    "id": "95b15cd0"
   },
   "outputs": [
    {
     "data": {
      "text/plain": [
       "0"
      ]
     },
     "execution_count": 17,
     "metadata": {},
     "output_type": "execute_result"
    }
   ],
   "source": [
    "# проверяем явные дубликаты в датафрейме \n",
    "df.duplicated().sum()"
   ]
  },
  {
   "cell_type": "markdown",
   "id": "30d3a592",
   "metadata": {
    "id": "b52bae9a"
   },
   "source": [
    "В датафрейме нет полных дубликатов строк. Проверим неявные дубликаты по id заведения. "
   ]
  },
  {
   "cell_type": "code",
   "execution_count": 18,
   "id": "184f9eda",
   "metadata": {},
   "outputs": [
    {
     "data": {
      "text/plain": [
       "0"
      ]
     },
     "execution_count": 18,
     "metadata": {},
     "output_type": "execute_result"
    }
   ],
   "source": [
    "# проверяем неявные дубликаты в датафрейме\n",
    "df.duplicated(subset='id').sum()"
   ]
  },
  {
   "cell_type": "markdown",
   "id": "f5f70513",
   "metadata": {},
   "source": [
    "Неявные дубликаты по столбцу id отсутствуют "
   ]
  },
  {
   "cell_type": "code",
   "execution_count": 19,
   "id": "86b74957",
   "metadata": {},
   "outputs": [
    {
     "name": "stdout",
     "output_type": "stream",
     "text": [
      "Уникальные значения в столбце category:\n",
      "['бар,паб' 'булочная' 'быстрое питание' 'кафе' 'кофейня' 'пиццерия'\n",
      " 'ресторан' 'столовая']\n",
      "\n",
      "Уникальные значения в столбце price:\n",
      "['' 'высокие' 'выше среднего' 'низкие' 'средние']\n",
      "\n",
      "Уникальные значения в столбце name:\n",
      "['#КешбэкКафе' '+39 Pizzeria Mozzarella bar' '1 Этаж' ... 'Ясно' 'Яуза'\n",
      " 'ночной Баку']\n",
      "\n",
      "Уникальные значения в столбце address:\n",
      "['Москва, 1-й Автозаводский проезд, 5'\n",
      " 'Москва, 1-й Балтийский переулок, 3/25'\n",
      " 'Москва, 1-й Варшавский проезд, 1Ас9' ...\n",
      " 'Москва, шоссе Энтузиастов, 86А, корп. 3' 'Москва, шоссе Энтузиастов, с2'\n",
      " 'Москва, № 7']\n",
      "\n",
      "Уникальные значения в столбце district:\n",
      "['Восточный административный округ' 'Западный административный округ'\n",
      " 'Северный административный округ'\n",
      " 'Северо-Восточный административный округ'\n",
      " 'Северо-Западный административный округ'\n",
      " 'Центральный административный округ'\n",
      " 'Юго-Восточный административный округ'\n",
      " 'Юго-Западный административный округ' 'Южный административный округ']\n",
      "\n"
     ]
    }
   ],
   "source": [
    "# проверим уникальные значения в категориальных данных \n",
    "for column in ['category', 'price', 'name', 'address', 'district']:\n",
    "    print(f'Уникальные значения в столбце {column}:')\n",
    "    print(df[column].sort_values().unique())\n",
    "    print()"
   ]
  },
  {
   "cell_type": "code",
   "execution_count": 20,
   "id": "8993fa20",
   "metadata": {},
   "outputs": [],
   "source": [
    "df['name'] = df['name'].str.lower()\n",
    "df['address'] = df['address'].str.lower()"
   ]
  },
  {
   "cell_type": "code",
   "execution_count": 21,
   "id": "5aea66d6",
   "metadata": {},
   "outputs": [
    {
     "data": {
      "text/plain": [
       "array(['#кешбэккафе', '+39 pizzeria mozzarella bar', '1 этаж', ...,\n",
       "       'ё-ланч', 'ёж и устрица', 'ёрш'], dtype=object)"
      ]
     },
     "execution_count": 21,
     "metadata": {},
     "output_type": "execute_result"
    }
   ],
   "source": [
    "df['name'].sort_values().unique()"
   ]
  },
  {
   "cell_type": "code",
   "execution_count": 22,
   "id": "2b0c681b",
   "metadata": {},
   "outputs": [
    {
     "data": {
      "text/plain": [
       "array(['москва, 1-й автозаводский проезд, 5',\n",
       "       'москва, 1-й балтийский переулок, 3/25',\n",
       "       'москва, 1-й варшавский проезд, 1ас9', ...,\n",
       "       'москва, яузский бульвар, 11, стр. 1',\n",
       "       'москва, яузский бульвар, 14/8', 'москва, № 7'], dtype=object)"
      ]
     },
     "execution_count": 22,
     "metadata": {},
     "output_type": "execute_result"
    }
   ],
   "source": [
    "df['address'].sort_values().unique()"
   ]
  },
  {
   "cell_type": "markdown",
   "id": "4c5343c6",
   "metadata": {},
   "source": [
    "Неявные дубликаты в датафрейме отсутствуют "
   ]
  },
  {
   "cell_type": "markdown",
   "id": "801e837c",
   "metadata": {},
   "source": [
    "  "
   ]
  },
  {
   "cell_type": "code",
   "execution_count": 23,
   "id": "42d1e685",
   "metadata": {
    "id": "42d1e685"
   },
   "outputs": [],
   "source": [
    "# создаем функцию для нового столбца с отбором значений \n",
    "def is_24_7(row):\n",
    "    if row['hours'] == 'ежедневно, круглосуточно':\n",
    "        return True\n",
    "    else:\n",
    "        return False\n",
    "# присоединяем значения к новомоу столбцу \n",
    "df['is_24_7'] = df.apply(is_24_7, axis = 1)"
   ]
  },
  {
   "cell_type": "code",
   "execution_count": 24,
   "id": "7b939992",
   "metadata": {},
   "outputs": [
    {
     "data": {
      "text/plain": [
       "8406"
      ]
     },
     "execution_count": 24,
     "metadata": {},
     "output_type": "execute_result"
    }
   ],
   "source": [
    "# фиксируем количество строк после предобработки данных\n",
    "final_row_count = df.shape[0]\n",
    "final_row_count"
   ]
  },
  {
   "cell_type": "markdown",
   "id": "562f30ab",
   "metadata": {
    "id": "562f30ab"
   },
   "source": [
    "---\n",
    "\n",
    "### Промежуточный вывод"
   ]
  },
  {
   "cell_type": "code",
   "execution_count": 25,
   "id": "e3388762",
   "metadata": {
    "id": "e3388762"
   },
   "outputs": [
    {
     "data": {
      "text/plain": [
       "0"
      ]
     },
     "execution_count": 25,
     "metadata": {},
     "output_type": "execute_result"
    }
   ],
   "source": [
    "# абсолютное значение удаленных строк \n",
    "cleaned_row_count_absolutely = initial_row_count - final_row_count\n",
    "cleaned_row_count_absolutely"
   ]
  },
  {
   "cell_type": "code",
   "execution_count": 26,
   "id": "b55c46cb",
   "metadata": {
    "id": "b55c46cb"
   },
   "outputs": [
    {
     "data": {
      "text/plain": [
       "100.0"
      ]
     },
     "execution_count": 26,
     "metadata": {},
     "output_type": "execute_result"
    }
   ],
   "source": [
    "# относительное значение удаленных строк \n",
    "cleened_row_count = round((final_row_count / initial_row_count * 100), 2)\n",
    "cleened_row_count"
   ]
  },
  {
   "cell_type": "markdown",
   "id": "d214d33b",
   "metadata": {},
   "source": [
    "В результате предобработки данных были совершены следующие действия:\n",
    "- соединены два датафрейма по общему столбцу\n",
    "- оптимизированы типы данных для оптимизации памяти\n",
    "- изучены пропущенные значения. Пропуски оказались во многих столбцах, с каждым из которых был проведена индивидуальная работа. В основном пропуски заменились на пропущенные значения или пустые строки, чтобы не повлиять на корректность проведения дальнейшего исследовательского анализа. \n",
    "- данные провели на явные и неявные дубликаты. "
   ]
  },
  {
   "cell_type": "markdown",
   "id": "6953e84c",
   "metadata": {
    "id": "6953e84c"
   },
   "source": [
    "## 3. Исследовательский анализ данных"
   ]
  },
  {
   "cell_type": "markdown",
   "id": "8555d840",
   "metadata": {
    "id": "8555d840"
   },
   "source": [
    "---\n",
    "\n",
    "### Задача 1\n"
   ]
  },
  {
   "cell_type": "code",
   "execution_count": 27,
   "id": "ef2bffe9",
   "metadata": {
    "id": "ef2bffe9",
    "scrolled": true
   },
   "outputs": [
    {
     "data": {
      "text/plain": [
       "кафе               0.282893\n",
       "ресторан           0.243041\n",
       "кофейня            0.168094\n",
       "бар,паб            0.091006\n",
       "пиццерия           0.075303\n",
       "быстрое питание    0.071734\n",
       "столовая           0.037473\n",
       "булочная           0.030454\n",
       "Name: category, dtype: float64"
      ]
     },
     "execution_count": 27,
     "metadata": {},
     "output_type": "execute_result"
    }
   ],
   "source": [
    "# проверяем распределение данных по значениям столбца category\n",
    "df['category'].value_counts(normalize = True)"
   ]
  },
  {
   "cell_type": "code",
   "execution_count": 28,
   "id": "71ab5e91",
   "metadata": {
    "id": "71ab5e91"
   },
   "outputs": [
    {
     "data": {
      "image/png": "[encoded data removed]",
      "text/plain": [
       "<Figure size 504x216 with 1 Axes>"
      ]
     },
     "metadata": {
      "needs_background": "light"
     },
     "output_type": "display_data"
    }
   ],
   "source": [
    "# строим столбчатую диаграмму \n",
    "df['category'].value_counts().plot( kind = 'bar',\n",
    "          title = 'Распределение объектов общественного питания по категориям',\n",
    "          legend = False,\n",
    "          rot = 45,\n",
    "          figsize = (7, 3),\n",
    "          xlabel = 'Категории общественного питания',\n",
    "          ylabel = 'Количество заведений')\n",
    "plt.grid()\n",
    "plt.show()"
   ]
  },
  {
   "cell_type": "markdown",
   "id": "e9e4a7a8",
   "metadata": {
    "id": "63360b97"
   },
   "source": [
    "Из категорий общественного питания существенно преобладают кафе, составляя 2378 заведений в Москве. Рестораны и кофейни имеют 2043 и 1413 заведений соответственно. Они занимают вторую и третью строчки после кафе.\n",
    "\n",
    "Соответственно, изходя из данного графика, можем отметить, что наибольшим спросом пользуются кафе, а наименьшим булочные. "
   ]
  },
  {
   "cell_type": "markdown",
   "id": "c7398cd4",
   "metadata": {},
   "source": [
    " "
   ]
  },
  {
   "cell_type": "markdown",
   "id": "6821e1d0",
   "metadata": {
    "id": "6821e1d0"
   },
   "source": [
    "---\n",
    "\n",
    "### Задача 2\n",
    "\n",
    "Какие административные районы Москвы присутствуют в данных?"
   ]
  },
  {
   "cell_type": "code",
   "execution_count": 29,
   "id": "e62f31be",
   "metadata": {
    "id": "e62f31be",
    "scrolled": false
   },
   "outputs": [
    {
     "data": {
      "text/plain": [
       "district\n",
       "Восточный административный округ            798\n",
       "Западный административный округ             851\n",
       "Северный административный округ             900\n",
       "Северо-Восточный административный округ     891\n",
       "Северо-Западный административный округ      409\n",
       "Центральный административный округ         2242\n",
       "Юго-Восточный административный округ        714\n",
       "Юго-Западный административный округ         709\n",
       "Южный административный округ                892\n",
       "Name: id, dtype: int64"
      ]
     },
     "execution_count": 29,
     "metadata": {},
     "output_type": "execute_result"
    }
   ],
   "source": [
    "# проверяем распределение количества заведений по административным районам Москвы \n",
    "df.groupby('district')['id'].count()"
   ]
  },
  {
   "cell_type": "markdown",
   "id": "3cc27a7f",
   "metadata": {},
   "source": [
    " "
   ]
  },
  {
   "cell_type": "code",
   "execution_count": 30,
   "id": "0a290cd1",
   "metadata": {
    "id": "0a290cd1"
   },
   "outputs": [
    {
     "data": {
      "image/png": "[encoded data removed]",
      "text/plain": [
       "<Figure size 720x432 with 1 Axes>"
      ]
     },
     "metadata": {
      "needs_background": "light"
     },
     "output_type": "display_data"
    }
   ],
   "source": [
    "# строим линейчатую диграмму с распределением количества заведений по административным районам Москвы \n",
    "df.groupby('district')['id'].count().sort_values(ascending = False).plot(kind = 'barh',\n",
    "                                         title = 'Количество заведений по административным районам',\n",
    "                                         legend = False,\n",
    "                                         figsize = (10, 6),\n",
    "                                         xlabel= 'Административный район',\n",
    "                                         ylabel = 'Количество заведений',\n",
    "                                         rot = 0)\n",
    "plt.xlabel('Количество заведений')\n",
    "plt.grid()\n",
    "plt.show()"
   ]
  },
  {
   "cell_type": "markdown",
   "id": "36a6b3d6",
   "metadata": {},
   "source": [
    "На основе графика видно, что у Центрального административного округа количество заведений сильно преобладает по сравнению с остальными. Их количество составляет 2242 штук, в то время как в следующем по количеству заведений округе - Северный административный округ, имеет 900 заведений. Меньше всего заведений находятся в Северо-западном административном округе. "
   ]
  },
  {
   "cell_type": "markdown",
   "id": "a3db499f",
   "metadata": {},
   "source": [
    " "
   ]
  },
  {
   "cell_type": "code",
   "execution_count": 31,
   "id": "77669da9",
   "metadata": {},
   "outputs": [
    {
     "data": {
      "text/plain": [
       "category\n",
       "ресторан           670\n",
       "кафе               464\n",
       "кофейня            428\n",
       "бар,паб            364\n",
       "пиццерия           113\n",
       "быстрое питание     87\n",
       "столовая            66\n",
       "булочная            50\n",
       "Name: id, dtype: int64"
      ]
     },
     "execution_count": 31,
     "metadata": {},
     "output_type": "execute_result"
    }
   ],
   "source": [
    "# фильтруем данные по центральномиьу району \n",
    "df_agg = df.set_index('district')\n",
    "centr_district = df_agg.loc['Центральный административный округ', ['id','category']]\n",
    "# группируем отфильтрованные данные по категориям и считаем количество заведений в каждой категории\n",
    "all_centre_group = centr_district.groupby('category')['id'].count()\n",
    "all_centre_group.sort_values(ascending=False)"
   ]
  },
  {
   "cell_type": "code",
   "execution_count": 32,
   "id": "92999c6f",
   "metadata": {},
   "outputs": [
    {
     "data": {
      "text/plain": [
       "category\n",
       "бар,паб            16.235504\n",
       "булочная            2.230152\n",
       "быстрое питание     3.880464\n",
       "кафе               20.695807\n",
       "кофейня            19.090098\n",
       "пиццерия            5.040143\n",
       "ресторан           29.884032\n",
       "столовая            2.943800\n",
       "Name: id, dtype: float64"
      ]
     },
     "execution_count": 32,
     "metadata": {},
     "output_type": "execute_result"
    }
   ],
   "source": [
    "# посчитаем относительное значение \n",
    "all_centre_group_abs = all_centre_group / all_centre_group.sum() * 100\n",
    "all_centre_group_abs"
   ]
  },
  {
   "cell_type": "code",
   "execution_count": 33,
   "id": "febea922",
   "metadata": {},
   "outputs": [
    {
     "data": {
      "image/png": "[encoded data removed]",
      "text/plain": [
       "<Figure size 504x216 with 1 Axes>"
      ]
     },
     "metadata": {
      "needs_background": "light"
     },
     "output_type": "display_data"
    }
   ],
   "source": [
    "all_centre_group.sort_values(ascending=False).plot(kind = 'bar',\n",
    "                      title = 'Количество заведений по Центральному административному округу',\n",
    "                      legend = False,\n",
    "                      figsize = (7, 3),\n",
    "                      xlabel= 'Категории заведений',\n",
    "                      ylabel = 'Количество заведений',\n",
    "                      rot = 45)\n",
    "plt.grid()\n",
    "plt.show()"
   ]
  },
  {
   "cell_type": "markdown",
   "id": "c566cb3c",
   "metadata": {},
   "source": [
    "В Центральном административном оркуге больше всего ресторанов, составляющие 29,9% от общего числа заведений в данном районе. Далее находятся кафе и кофейни, которые составляют 464 и 428 заведения соответственно. Бары и пабы по количеству немного меньше, чем две предыдущие категории, и их число 364. Меньше всего в Центральном районе города булочных, которые составляют 50 штук. \n",
    "\n",
    "Таким образом, можно сделать вывод, что самая актуальная категория заведений в Центральном районе города Москвы является ресторан."
   ]
  },
  {
   "cell_type": "markdown",
   "id": "7c824f58",
   "metadata": {
    "id": "7c824f58"
   },
   "source": [
    "---\n",
    "\n",
    "### Задача 3\n",
    "\n",
    "Изучите соотношение сетевых и несетевых заведений в целом по всем данным и в разрезе категорий заведения."
   ]
  },
  {
   "cell_type": "code",
   "execution_count": 34,
   "id": "7c80c49b",
   "metadata": {},
   "outputs": [
    {
     "data": {
      "image/png": "[encoded data removed]",
      "text/plain": [
       "<Figure size 504x216 with 1 Axes>"
      ]
     },
     "metadata": {
      "needs_background": "light"
     },
     "output_type": "display_data"
    }
   ],
   "source": [
    "# строим график столбчатой диаграммы соотношения количества сетевых и несетевых заведений \n",
    "grouped = df.groupby('chain')['id'].count()\n",
    "grouped.plot(kind='bar',\n",
    "               title=f'Соотношение сетевых и несетевых заведений',\n",
    "               legend= False,\n",
    "               ylabel='Количество заведений',\n",
    "               xlabel='Заведение (0 -заведение не является сетевым, 1 - заведение сетевое)',\n",
    "               rot=0,\n",
    "               figsize=(7, 3))\n",
    "plt.grid()\n",
    "plt.show()"
   ]
  },
  {
   "cell_type": "markdown",
   "id": "3a8f875f",
   "metadata": {},
   "source": [
    "По данному графику видно, что несетевых заведений более чем на 1000 штук больше, чем сетевых. "
   ]
  },
  {
   "cell_type": "markdown",
   "id": "c11318c7",
   "metadata": {},
   "source": [
    " "
   ]
  },
  {
   "cell_type": "code",
   "execution_count": 35,
   "id": "488a90ed",
   "metadata": {},
   "outputs": [
    {
     "data": {
      "image/png": "[encoded data removed]",
      "text/plain": [
       "<Figure size 504x216 with 1 Axes>"
      ]
     },
     "metadata": {
      "needs_background": "light"
     },
     "output_type": "display_data"
    }
   ],
   "source": [
    "# строим график столбчатой диаграммы соотношения количества сетевых и несетевых заведений по категориям\n",
    "grouped = df.groupby('category')['chain'].value_counts(normalize = True).unstack(fill_value=0)\n",
    "grouped.plot(kind='bar',\n",
    "               title=f'Соотношение сетевых и несетевых заведений по категориям',\n",
    "               legend=True,\n",
    "               ylabel='Количество заведений',\n",
    "               xlabel='Категория заведения',\n",
    "               rot=45,\n",
    "               figsize=(7, 3))\n",
    "plt.grid()\n",
    "plt.show()"
   ]
  },
  {
   "cell_type": "markdown",
   "id": "c91dc13f",
   "metadata": {},
   "source": [
    "На основе графика можно увидеть, что среди несетевых заведений преобладают бары и пабы и составляют почти 0,8 всех заведений. В то время как сетевых баров и пабов в несколько раз меньше. Самым большим по количеству открытых сетевых заведений являются булочные, которые составляют чуть более 0,6 всех заведений. Таким образом мы видим, что количество несетевых заведений сильно отличается в положительную сторону от сетевых. "
   ]
  },
  {
   "cell_type": "markdown",
   "id": "5913c3e3",
   "metadata": {
    "id": "5913c3e3"
   },
   "source": [
    "---\n",
    "\n",
    "### Задача 4\n",
    "\n",
    "Исследуйте количество посадочных мест в заведениях.\n"
   ]
  },
  {
   "cell_type": "code",
   "execution_count": 36,
   "id": "6cb238d2",
   "metadata": {
    "id": "6cb238d2"
   },
   "outputs": [
    {
     "data": {
      "text/plain": [
       "count    4795.000000\n",
       "mean      108.421689\n",
       "std       122.833396\n",
       "min         0.000000\n",
       "25%        40.000000\n",
       "50%        75.000000\n",
       "75%       140.000000\n",
       "max      1288.000000\n",
       "Name: seats, dtype: float64"
      ]
     },
     "execution_count": 36,
     "metadata": {},
     "output_type": "execute_result"
    }
   ],
   "source": [
    "# изучаем статистическик показатели столбца seats\n",
    "df['seats'].describe()"
   ]
  },
  {
   "cell_type": "markdown",
   "id": "960cf73a",
   "metadata": {},
   "source": [
    "Большая разница между медианой и средним значением говорит о выбросах в данных. Минимальное значение равняется 0. Можно преположить, что такое происходит из-за того, что во многих булочных и кофейнях не существует посадочных мест.  Максимальное значение в виде 1288 посадочных мест в заведении выглядит подозрительно, но такое значение может быть. "
   ]
  },
  {
   "cell_type": "code",
   "execution_count": 37,
   "id": "ceadf25b",
   "metadata": {
    "id": "ceadf25b"
   },
   "outputs": [
    {
     "data": {
      "image/png": "[encoded data removed]",
      "text/plain": [
       "<Figure size 504x216 with 1 Axes>"
      ]
     },
     "metadata": {
      "needs_background": "light"
     },
     "output_type": "display_data"
    }
   ],
   "source": [
    "# строим гистограмму\n",
    "plt.figure(figsize=(7, 3))\n",
    "df['seats'].plot(\n",
    "                kind='hist', \n",
    "                bins=15,\n",
    "                alpha=0.75,\n",
    "                edgecolor='black',\n",
    "                rot=0)\n",
    "plt.title('Распределение посадочных мест')\n",
    "plt.xlabel('Количество посадочных мест в заведении')\n",
    "plt.ylabel('Количество заведений')\n",
    "plt.grid()\n",
    "plt.show()"
   ]
  },
  {
   "cell_type": "markdown",
   "id": "371b3585",
   "metadata": {},
   "source": [
    "Распредление значения ассиметрично - скошено вправо. Минимальное количество посадочных мест равно нулю, а максимальное - 1288, что можно считать корректным.\n",
    "На графике можно увидеть, что больше всего в заведениях посадочные места нахоядтся в диапазоне от 0 до 100. "
   ]
  },
  {
   "cell_type": "code",
   "execution_count": 38,
   "id": "22e963d8",
   "metadata": {},
   "outputs": [
    {
     "data": {
      "image/png": "[encoded data removed]",
      "text/plain": [
       "<Figure size 504x144 with 1 Axes>"
      ]
     },
     "metadata": {
      "needs_background": "light"
     },
     "output_type": "display_data"
    }
   ],
   "source": [
    "# Строим диаграмму размаxа для столбца seats\n",
    "plt.figure(figsize=(7, 2))\n",
    "df.boxplot(column = 'seats', vert = False)\n",
    "plt.title('Распределение посадочных мест')\n",
    "plt.xlabel('Количество посадочных мест в заведении')\n",
    "plt.show()"
   ]
  },
  {
   "cell_type": "markdown",
   "id": "398c742a",
   "metadata": {},
   "source": [
    "По \"ящику с усами\" можно считать значения, которые выше примерно 300 - выбросами. Исходя из диаграммы размаха, максимальные значения можно считать за выбросы, однако такое количество можно допустить для заведений, которые специализируются на банкетах или больших мероприятиях. Именно по данной причине можно оставить данные, так как исключив их, можем потерять категории заведений направленные на крупные торжества. "
   ]
  },
  {
   "cell_type": "markdown",
   "id": "a58049cb",
   "metadata": {},
   "source": [
    " \n"
   ]
  },
  {
   "cell_type": "code",
   "execution_count": 39,
   "id": "b6ce47c0",
   "metadata": {
    "scrolled": true
   },
   "outputs": [
    {
     "data": {
      "text/plain": [
       "category\n",
       "бар,паб            82.5\n",
       "булочная           50.0\n",
       "быстрое питание    65.0\n",
       "кафе               60.0\n",
       "кофейня            80.0\n",
       "пиццерия           55.0\n",
       "ресторан           86.0\n",
       "столовая           75.5\n",
       "Name: seats, dtype: float64"
      ]
     },
     "execution_count": 39,
     "metadata": {},
     "output_type": "execute_result"
    }
   ],
   "source": [
    "# находим с помощью медианы наиболее типичное количество посадочных мест для каждой категории заведений\n",
    "df_seats = df.groupby('category')['seats'].median()\n",
    "df_seats"
   ]
  },
  {
   "cell_type": "code",
   "execution_count": 40,
   "id": "b350054e",
   "metadata": {},
   "outputs": [
    {
     "data": {
      "image/png": "[encoded data removed]",
      "text/plain": [
       "<Figure size 720x432 with 1 Axes>"
      ]
     },
     "metadata": {
      "needs_background": "light"
     },
     "output_type": "display_data"
    }
   ],
   "source": [
    "#строим график столбчатой диаграммы\n",
    "df_seats.sort_values(ascending = False).plot(kind = 'bar',\n",
    "             title = 'Распределение посадочных мест по категориям заведений',\n",
    "             legend = False,\n",
    "             xlabel = 'Категория',\n",
    "             ylabel = 'Количество посадочных мест',\n",
    "             rot = 45,\n",
    "             figsize = (10, 6))\n",
    "plt.grid()\n",
    "plt.show()"
   ]
  },
  {
   "cell_type": "markdown",
   "id": "caa320e1",
   "metadata": {},
   "source": [
    "Обозревая диаграмму, можно заметить, что рестораны и бары/пабы в среднем имеют больше всех осталных посадочных мест. Больше 80 посадочных мест имеют рестораны, бары/пабы и кофейни. Более 60 - кафе, заведения быстрого питания и столовые. И минимальное количество посадочных мест имеют пиццерии и булочные с примерно 55 местами.  "
   ]
  },
  {
   "cell_type": "markdown",
   "id": "8a7145fd",
   "metadata": {},
   "source": [
    " "
   ]
  },
  {
   "cell_type": "markdown",
   "id": "123e3e4c",
   "metadata": {},
   "source": [
    " "
   ]
  },
  {
   "cell_type": "markdown",
   "id": "8ed065ea",
   "metadata": {
    "id": "8ed065ea"
   },
   "source": [
    "---\n",
    "\n",
    "### Задача 5\n",
    "\n",
    "Исследуйте рейтинг заведений. "
   ]
  },
  {
   "cell_type": "code",
   "execution_count": 41,
   "id": "cc5206f8",
   "metadata": {
    "id": "cc5206f8",
    "scrolled": true
   },
   "outputs": [
    {
     "data": {
      "text/plain": [
       "count    8406.000000\n",
       "mean        4.229895\n",
       "std         0.470348\n",
       "min         1.000000\n",
       "25%         4.100000\n",
       "50%         4.300000\n",
       "75%         4.400000\n",
       "max         5.000000\n",
       "Name: rating, dtype: float64"
      ]
     },
     "execution_count": 41,
     "metadata": {},
     "output_type": "execute_result"
    }
   ],
   "source": [
    "# изучаем статистическик показатели столбца rating\n",
    "df['rating'].describe()"
   ]
  },
  {
   "cell_type": "markdown",
   "id": "0faead92",
   "metadata": {
    "id": "3e0ec5d7"
   },
   "source": [
    "Маленькая разница между медианой и средним значением означает, что выбросов в данных нет. Минимальное значение равняется 1, а максимальное 5 - это означает, что данные корректные. "
   ]
  },
  {
   "cell_type": "code",
   "execution_count": 42,
   "id": "766c86cb",
   "metadata": {
    "id": "766c86cb"
   },
   "outputs": [
    {
     "data": {
      "image/png": "[encoded data removed]",
      "text/plain": [
       "<Figure size 504x216 with 1 Axes>"
      ]
     },
     "metadata": {
      "needs_background": "light"
     },
     "output_type": "display_data"
    }
   ],
   "source": [
    "# строим гистограмму \n",
    "plt.figure(figsize=(7, 3))\n",
    "df['rating'].plot(\n",
    "                kind='hist', \n",
    "                bins=15,\n",
    "                alpha=0.75,\n",
    "                edgecolor='black',\n",
    "                rot=0)\n",
    "plt.title('Распределение значений рейтинга')\n",
    "plt.xlabel('Рейтинг')\n",
    "plt.ylabel('Количество заведений')\n",
    "plt.grid()\n",
    "plt.show()"
   ]
  },
  {
   "cell_type": "markdown",
   "id": "1a1e9392",
   "metadata": {},
   "source": [
    "Распредление значения симметрично, но скошено влево, то есть имеет хвост. По построенной гистограмме хорошо видно, что большинство заведений имеют оценку в 4,3 и 4,4 балла. "
   ]
  },
  {
   "cell_type": "code",
   "execution_count": 43,
   "id": "2ae34686",
   "metadata": {},
   "outputs": [
    {
     "data": {
      "image/png": "[encoded data removed]",
      "text/plain": [
       "<Figure size 504x144 with 1 Axes>"
      ]
     },
     "metadata": {
      "needs_background": "light"
     },
     "output_type": "display_data"
    }
   ],
   "source": [
    "#строим диаграмму размаха для столбца rating\n",
    "plt.figure(figsize=(7, 2))\n",
    "df.boxplot(column = 'rating', vert = False)\n",
    "plt.title('Распределение посадочных мест')\n",
    "plt.xlabel('Количество посадочных мест в заведении')\n",
    "plt.show()"
   ]
  },
  {
   "cell_type": "markdown",
   "id": "506f5b60",
   "metadata": {},
   "source": [
    "По диаграмме размаха можно считать значения, которые ниже 3,75, а также рейтинг в 5,0 выбросами. Но такие рейтинги имеют место быть, так как оцениваются профессионалами. По причине того, что убрав выбросы, можно потерять большую часть данных, а также что эти данные совершенно корректны, их убирать не будем. "
   ]
  },
  {
   "cell_type": "code",
   "execution_count": 44,
   "id": "591d8e0a",
   "metadata": {},
   "outputs": [
    {
     "data": {
      "image/png": "[encoded data removed]",
      "text/plain": [
       "<Figure size 720x432 with 1 Axes>"
      ]
     },
     "metadata": {
      "needs_background": "light"
     },
     "output_type": "display_data"
    }
   ],
   "source": [
    "#визуализируем с помощью столбчатой диаграммы распределение средних рейтингов по категориям заведений \n",
    "df.groupby('category')['rating'].mean().sort_values(ascending = False).plot(kind = 'bar',\n",
    "             title = 'Распределение средних рейтингов по категориям заведений',\n",
    "             legend = False,\n",
    "             xlabel = 'Категория',\n",
    "             ylabel = 'Рейтинг',\n",
    "             rot = 45,\n",
    "             figsize = (10, 6))\n",
    "plt.grid()\n",
    "plt.show()"
   ]
  },
  {
   "cell_type": "markdown",
   "id": "7254b108",
   "metadata": {},
   "source": [
    "\n",
    "По столбчатой диаграмме \"Распределение средних рейтингов по категориям заведений\" видно, что значения усредненных рейтингов не сильно отличаются среди категорий. Все категории заведений имеют среднюю оценку больше 4 баллов. Минимальный усредненный рейтинг имеет быстрое питание, а максимальный – бар/паб. "
   ]
  },
  {
   "cell_type": "markdown",
   "id": "0b900399",
   "metadata": {},
   "source": [
    " "
   ]
  },
  {
   "cell_type": "markdown",
   "id": "b7cba7a1",
   "metadata": {},
   "source": [
    " "
   ]
  },
  {
   "cell_type": "markdown",
   "id": "a9108223",
   "metadata": {},
   "source": [
    " "
   ]
  },
  {
   "cell_type": "markdown",
   "id": "dd9702d9",
   "metadata": {
    "id": "dd9702d9"
   },
   "source": [
    "---\n",
    "\n",
    "### Задача 6\n",
    "\n",
    "Изучите, с какими данными показывают самую сильную корреляцию рейтинги заведений?"
   ]
  },
  {
   "cell_type": "code",
   "execution_count": 45,
   "id": "15400eb9",
   "metadata": {
    "id": "15400eb9"
   },
   "outputs": [
    {
     "name": "stdout",
     "output_type": "stream",
     "text": [
      "interval columns not set, guessing: ['rating', 'chain', 'seats']\n"
     ]
    },
    {
     "data": {
      "text/html": [
       "<div>\n",
       "<style scoped>\n",
       "    .dataframe tbody tr th:only-of-type {\n",
       "        vertical-align: middle;\n",
       "    }\n",
       "\n",
       "    .dataframe tbody tr th {\n",
       "        vertical-align: top;\n",
       "    }\n",
       "\n",
       "    .dataframe thead th {\n",
       "        text-align: right;\n",
       "    }\n",
       "</style>\n",
       "<table border=\"1\" class=\"dataframe\">\n",
       "  <thead>\n",
       "    <tr style=\"text-align: right;\">\n",
       "      <th></th>\n",
       "      <th>rating</th>\n",
       "    </tr>\n",
       "  </thead>\n",
       "  <tbody>\n",
       "    <tr>\n",
       "      <th>price</th>\n",
       "      <td>0.281294</td>\n",
       "    </tr>\n",
       "    <tr>\n",
       "      <th>district</th>\n",
       "      <td>0.200691</td>\n",
       "    </tr>\n",
       "    <tr>\n",
       "      <th>category</th>\n",
       "      <td>0.190003</td>\n",
       "    </tr>\n",
       "    <tr>\n",
       "      <th>is_24_7</th>\n",
       "      <td>0.150173</td>\n",
       "    </tr>\n",
       "    <tr>\n",
       "      <th>chain</th>\n",
       "      <td>0.108092</td>\n",
       "    </tr>\n",
       "    <tr>\n",
       "      <th>seats</th>\n",
       "      <td>0.000000</td>\n",
       "    </tr>\n",
       "  </tbody>\n",
       "</table>\n",
       "</div>"
      ],
      "text/plain": [
       "            rating\n",
       "price     0.281294\n",
       "district  0.200691\n",
       "category  0.190003\n",
       "is_24_7   0.150173\n",
       "chain     0.108092\n",
       "seats     0.000000"
      ]
     },
     "execution_count": 45,
     "metadata": {},
     "output_type": "execute_result"
    }
   ],
   "source": [
    "# вычисляем корреляционную матрицу \n",
    "correlation_matrix = df[['rating', 'category', 'district', 'chain', 'seats', 'price', 'is_24_7']].phik_matrix()\n",
    "correlation_matrix.loc[correlation_matrix.index != 'rating'][['rating']].sort_values(by='rating', ascending=False)"
   ]
  },
  {
   "cell_type": "code",
   "execution_count": 46,
   "id": "f8d3d931",
   "metadata": {},
   "outputs": [
    {
     "data": {
      "image/png": "[encoded data removed]",
      "text/plain": [
       "<Figure size 576x432 with 2 Axes>"
      ]
     },
     "metadata": {
      "needs_background": "light"
     },
     "output_type": "display_data"
    }
   ],
   "source": [
    "#Строим тепловую карту \n",
    "plt.figure(figsize = (8, 6))\n",
    "corr_matrix = correlation_matrix.loc[correlation_matrix.index != 'rating'][['rating']].sort_values(by='rating', ascending=False)\n",
    "sns.heatmap(data = corr_matrix,\n",
    "           annot = True,\n",
    "           fmt = '.2f',\n",
    "           cmap = 'coolwarm',\n",
    "           linewidths = 0.5,\n",
    "           )\n",
    "plt.title('Тепловая карта корреляции для данных rating')\n",
    "plt.xlabel('Рейтинг')\n",
    "plt.show()"
   ]
  },
  {
   "cell_type": "markdown",
   "id": "56bcd1c3",
   "metadata": {
    "id": "8f0379af"
   },
   "source": [
    "Наибольшая корреляция рейтинга наблюдается с ценовой категорией заведения (0.28), с административным районом (0.2) и с категорией (0.19). Для остальных признаков коэффициент корреляции снижается с 0.15 до 0. Соответственно, можно сделать вывод что между ценовой категорией заведения и рейтингом существует несильная связь.  "
   ]
  },
  {
   "cell_type": "markdown",
   "id": "370de703",
   "metadata": {
    "id": "370de703"
   },
   "source": [
    "---\n",
    "\n",
    "### Задача 7\n",
    "\n",
    "Сгруппируйте данные по названиям заведений и найдите топ-15 популярных сетей в Москве."
   ]
  },
  {
   "cell_type": "code",
   "execution_count": 47,
   "id": "530f4eef",
   "metadata": {},
   "outputs": [
    {
     "data": {
      "text/html": [
       "<div>\n",
       "<style scoped>\n",
       "    .dataframe tbody tr th:only-of-type {\n",
       "        vertical-align: middle;\n",
       "    }\n",
       "\n",
       "    .dataframe tbody tr th {\n",
       "        vertical-align: top;\n",
       "    }\n",
       "\n",
       "    .dataframe thead th {\n",
       "        text-align: right;\n",
       "    }\n",
       "</style>\n",
       "<table border=\"1\" class=\"dataframe\">\n",
       "  <thead>\n",
       "    <tr style=\"text-align: right;\">\n",
       "      <th></th>\n",
       "      <th>name</th>\n",
       "      <th>id</th>\n",
       "      <th>category</th>\n",
       "    </tr>\n",
       "  </thead>\n",
       "  <tbody>\n",
       "    <tr>\n",
       "      <th>729</th>\n",
       "      <td>шоколадница</td>\n",
       "      <td>120</td>\n",
       "      <td>кофейня</td>\n",
       "    </tr>\n",
       "    <tr>\n",
       "      <th>335</th>\n",
       "      <td>домино'с пицца</td>\n",
       "      <td>76</td>\n",
       "      <td>пиццерия</td>\n",
       "    </tr>\n",
       "    <tr>\n",
       "      <th>331</th>\n",
       "      <td>додо пицца</td>\n",
       "      <td>74</td>\n",
       "      <td>пиццерия</td>\n",
       "    </tr>\n",
       "    <tr>\n",
       "      <th>146</th>\n",
       "      <td>one price coffee</td>\n",
       "      <td>71</td>\n",
       "      <td>кофейня</td>\n",
       "    </tr>\n",
       "    <tr>\n",
       "      <th>742</th>\n",
       "      <td>яндекс лавка</td>\n",
       "      <td>69</td>\n",
       "      <td>ресторан</td>\n",
       "    </tr>\n",
       "    <tr>\n",
       "      <th>58</th>\n",
       "      <td>cofix</td>\n",
       "      <td>65</td>\n",
       "      <td>кофейня</td>\n",
       "    </tr>\n",
       "    <tr>\n",
       "      <th>168</th>\n",
       "      <td>prime</td>\n",
       "      <td>50</td>\n",
       "      <td>ресторан</td>\n",
       "    </tr>\n",
       "    <tr>\n",
       "      <th>664</th>\n",
       "      <td>хинкальная</td>\n",
       "      <td>44</td>\n",
       "      <td>кафе</td>\n",
       "    </tr>\n",
       "    <tr>\n",
       "      <th>409</th>\n",
       "      <td>кофепорт</td>\n",
       "      <td>42</td>\n",
       "      <td>кофейня</td>\n",
       "    </tr>\n",
       "    <tr>\n",
       "      <th>418</th>\n",
       "      <td>кулинарная лавка братьев караваевых</td>\n",
       "      <td>39</td>\n",
       "      <td>кафе</td>\n",
       "    </tr>\n",
       "    <tr>\n",
       "      <th>628</th>\n",
       "      <td>теремок</td>\n",
       "      <td>38</td>\n",
       "      <td>ресторан</td>\n",
       "    </tr>\n",
       "    <tr>\n",
       "      <th>683</th>\n",
       "      <td>чайхана</td>\n",
       "      <td>37</td>\n",
       "      <td>кафе</td>\n",
       "    </tr>\n",
       "    <tr>\n",
       "      <th>39</th>\n",
       "      <td>cofefest</td>\n",
       "      <td>32</td>\n",
       "      <td>кофейня</td>\n",
       "    </tr>\n",
       "    <tr>\n",
       "      <th>267</th>\n",
       "      <td>буханка</td>\n",
       "      <td>32</td>\n",
       "      <td>булочная</td>\n",
       "    </tr>\n",
       "    <tr>\n",
       "      <th>477</th>\n",
       "      <td>му-му</td>\n",
       "      <td>27</td>\n",
       "      <td>кафе</td>\n",
       "    </tr>\n",
       "  </tbody>\n",
       "</table>\n",
       "</div>"
      ],
      "text/plain": [
       "                                    name   id  category\n",
       "729                          шоколадница  120   кофейня\n",
       "335                       домино'с пицца   76  пиццерия\n",
       "331                           додо пицца   74  пиццерия\n",
       "146                     one price coffee   71   кофейня\n",
       "742                         яндекс лавка   69  ресторан\n",
       "58                                 cofix   65   кофейня\n",
       "168                                prime   50  ресторан\n",
       "664                           хинкальная   44      кафе\n",
       "409                             кофепорт   42   кофейня\n",
       "418  кулинарная лавка братьев караваевых   39      кафе\n",
       "628                              теремок   38  ресторан\n",
       "683                              чайхана   37      кафе\n",
       "39                              cofefest   32   кофейня\n",
       "267                              буханка   32  булочная\n",
       "477                                му-му   27      кафе"
      ]
     },
     "execution_count": 47,
     "metadata": {},
     "output_type": "execute_result"
    }
   ],
   "source": [
    "# Группировка данных по имени заведения и агрегация по количеству заведений и категории\n",
    "grouped_df = (df.loc[df['chain'] == 1]\n",
    "              .groupby(['name'], as_index=False)\n",
    "              .agg({'id' : 'count', 'category' : pd.Series.mode})\n",
    "              .sort_values(by = 'id', ascending = False).head(15)\n",
    "             )\n",
    "grouped_df"
   ]
  },
  {
   "cell_type": "code",
   "execution_count": 48,
   "id": "7eb0d8a0",
   "metadata": {
    "scrolled": false
   },
   "outputs": [
    {
     "data": {
      "image/png": "[encoded data removed]",
      "text/plain": [
       "<Figure size 720x432 with 1 Axes>"
      ]
     },
     "metadata": {
      "needs_background": "light"
     },
     "output_type": "display_data"
    }
   ],
   "source": [
    "# строим линейную диаграмму \n",
    "grouped_df.plot(kind = 'barh',\n",
    "               title = 'Tоп-15 популярных сетевых заведений',\n",
    "               legend = False,\n",
    "               x = 'name',\n",
    "               y = 'id',\n",
    "               rot = 0,\n",
    "               figsize = (10, 6))\n",
    "plt.xlabel('Количество заведений')\n",
    "plt.grid()\n",
    "plt.show()"
   ]
  },
  {
   "cell_type": "code",
   "execution_count": 49,
   "id": "664ea517",
   "metadata": {},
   "outputs": [
    {
     "data": {
      "text/html": [
       "<div>\n",
       "<style scoped>\n",
       "    .dataframe tbody tr th:only-of-type {\n",
       "        vertical-align: middle;\n",
       "    }\n",
       "\n",
       "    .dataframe tbody tr th {\n",
       "        vertical-align: top;\n",
       "    }\n",
       "\n",
       "    .dataframe thead th {\n",
       "        text-align: right;\n",
       "    }\n",
       "</style>\n",
       "<table border=\"1\" class=\"dataframe\">\n",
       "  <thead>\n",
       "    <tr style=\"text-align: right;\">\n",
       "      <th></th>\n",
       "      <th>name</th>\n",
       "      <th>id</th>\n",
       "      <th>category</th>\n",
       "      <th>rating</th>\n",
       "    </tr>\n",
       "  </thead>\n",
       "  <tbody>\n",
       "    <tr>\n",
       "      <th>729</th>\n",
       "      <td>шоколадница</td>\n",
       "      <td>120</td>\n",
       "      <td>кофейня</td>\n",
       "      <td>4.20</td>\n",
       "    </tr>\n",
       "    <tr>\n",
       "      <th>335</th>\n",
       "      <td>домино'с пицца</td>\n",
       "      <td>76</td>\n",
       "      <td>пиццерия</td>\n",
       "      <td>4.20</td>\n",
       "    </tr>\n",
       "    <tr>\n",
       "      <th>331</th>\n",
       "      <td>додо пицца</td>\n",
       "      <td>74</td>\n",
       "      <td>пиццерия</td>\n",
       "      <td>4.30</td>\n",
       "    </tr>\n",
       "    <tr>\n",
       "      <th>146</th>\n",
       "      <td>one price coffee</td>\n",
       "      <td>71</td>\n",
       "      <td>кофейня</td>\n",
       "      <td>4.20</td>\n",
       "    </tr>\n",
       "    <tr>\n",
       "      <th>742</th>\n",
       "      <td>яндекс лавка</td>\n",
       "      <td>69</td>\n",
       "      <td>ресторан</td>\n",
       "      <td>4.00</td>\n",
       "    </tr>\n",
       "    <tr>\n",
       "      <th>58</th>\n",
       "      <td>cofix</td>\n",
       "      <td>65</td>\n",
       "      <td>кофейня</td>\n",
       "      <td>4.10</td>\n",
       "    </tr>\n",
       "    <tr>\n",
       "      <th>168</th>\n",
       "      <td>prime</td>\n",
       "      <td>50</td>\n",
       "      <td>ресторан</td>\n",
       "      <td>4.20</td>\n",
       "    </tr>\n",
       "    <tr>\n",
       "      <th>664</th>\n",
       "      <td>хинкальная</td>\n",
       "      <td>44</td>\n",
       "      <td>кафе</td>\n",
       "      <td>4.40</td>\n",
       "    </tr>\n",
       "    <tr>\n",
       "      <th>409</th>\n",
       "      <td>кофепорт</td>\n",
       "      <td>42</td>\n",
       "      <td>кофейня</td>\n",
       "      <td>4.20</td>\n",
       "    </tr>\n",
       "    <tr>\n",
       "      <th>418</th>\n",
       "      <td>кулинарная лавка братьев караваевых</td>\n",
       "      <td>39</td>\n",
       "      <td>кафе</td>\n",
       "      <td>4.40</td>\n",
       "    </tr>\n",
       "    <tr>\n",
       "      <th>628</th>\n",
       "      <td>теремок</td>\n",
       "      <td>38</td>\n",
       "      <td>ресторан</td>\n",
       "      <td>4.10</td>\n",
       "    </tr>\n",
       "    <tr>\n",
       "      <th>683</th>\n",
       "      <td>чайхана</td>\n",
       "      <td>37</td>\n",
       "      <td>кафе</td>\n",
       "      <td>4.10</td>\n",
       "    </tr>\n",
       "    <tr>\n",
       "      <th>39</th>\n",
       "      <td>cofefest</td>\n",
       "      <td>32</td>\n",
       "      <td>кофейня</td>\n",
       "      <td>4.05</td>\n",
       "    </tr>\n",
       "    <tr>\n",
       "      <th>267</th>\n",
       "      <td>буханка</td>\n",
       "      <td>32</td>\n",
       "      <td>булочная</td>\n",
       "      <td>4.40</td>\n",
       "    </tr>\n",
       "    <tr>\n",
       "      <th>477</th>\n",
       "      <td>му-му</td>\n",
       "      <td>27</td>\n",
       "      <td>кафе</td>\n",
       "      <td>4.30</td>\n",
       "    </tr>\n",
       "  </tbody>\n",
       "</table>\n",
       "</div>"
      ],
      "text/plain": [
       "                                    name   id  category  rating\n",
       "729                          шоколадница  120   кофейня    4.20\n",
       "335                       домино'с пицца   76  пиццерия    4.20\n",
       "331                           додо пицца   74  пиццерия    4.30\n",
       "146                     one price coffee   71   кофейня    4.20\n",
       "742                         яндекс лавка   69  ресторан    4.00\n",
       "58                                 cofix   65   кофейня    4.10\n",
       "168                                prime   50  ресторан    4.20\n",
       "664                           хинкальная   44      кафе    4.40\n",
       "409                             кофепорт   42   кофейня    4.20\n",
       "418  кулинарная лавка братьев караваевых   39      кафе    4.40\n",
       "628                              теремок   38  ресторан    4.10\n",
       "683                              чайхана   37      кафе    4.10\n",
       "39                              cofefest   32   кофейня    4.05\n",
       "267                              буханка   32  булочная    4.40\n",
       "477                                му-му   27      кафе    4.30"
      ]
     },
     "execution_count": 49,
     "metadata": {},
     "output_type": "execute_result"
    }
   ],
   "source": [
    "# посчитаем средний рейтинг для каждого из Топ-15 заведений\n",
    "grouped_df_2 = (df.loc[df['chain'] == 1]\n",
    "              .groupby(['name'], as_index=False)\n",
    "              .agg({'id' : 'count', 'category' : pd.Series.mode, 'rating' : 'median'})\n",
    "              .sort_values(by = 'id', ascending = False).head(15)\n",
    "             )\n",
    "grouped_df_2"
   ]
  },
  {
   "cell_type": "code",
   "execution_count": 50,
   "id": "14983bfc",
   "metadata": {},
   "outputs": [
    {
     "data": {
      "image/png": "[encoded data removed]",
      "text/plain": [
       "<Figure size 720x432 with 1 Axes>"
      ]
     },
     "metadata": {
      "needs_background": "light"
     },
     "output_type": "display_data"
    }
   ],
   "source": [
    "#строим линейную диаграмму \n",
    "grouped_df_2.sort_values(by = 'rating', ascending = False).plot(kind = 'barh',\n",
    "               title = 'Средний рейтинг топ-15 популярных сетевых заведений',\n",
    "               legend = False,\n",
    "               x = 'name',\n",
    "               y = 'rating',\n",
    "               rot = 0,\n",
    "               figsize = (10, 6))\n",
    "plt.xlabel('Рейтинг')\n",
    "plt.ylabel('Название заведения')\n",
    "plt.grid()\n",
    "plt.show()"
   ]
  },
  {
   "cell_type": "markdown",
   "id": "4d47e800",
   "metadata": {},
   "source": [
    "Все сетевые заведения из категории \"Топ-15\" имеют рейтинг выше 4.0. Самый большой рейтинг в 4.4 у хинкальной, кулинарная лавка братьев караваевых и буханки. В то время как самый маленький рейтинг в отметку 4.0 у Яндекс лавки. В целом можно сказать, что у всех увиденных сетевых заведений положительный рейтинг, который означает хорошую репутацию.  "
   ]
  },
  {
   "cell_type": "markdown",
   "id": "be95de3c",
   "metadata": {},
   "source": [
    " "
   ]
  },
  {
   "cell_type": "code",
   "execution_count": 51,
   "id": "5b1d829f",
   "metadata": {
    "scrolled": true
   },
   "outputs": [
    {
     "data": {
      "text/plain": [
       "category\n",
       "булочная    1\n",
       "кафе        4\n",
       "кофейня     5\n",
       "пиццерия    2\n",
       "ресторан    3\n",
       "Name: id, dtype: int64"
      ]
     },
     "execution_count": 51,
     "metadata": {},
     "output_type": "execute_result"
    }
   ],
   "source": [
    "# считаем количество заведений в каждой категории \n",
    "category_group = grouped_df.groupby('category')['id'].count()\n",
    "category_group"
   ]
  },
  {
   "cell_type": "code",
   "execution_count": 52,
   "id": "77b961c3",
   "metadata": {},
   "outputs": [
    {
     "data": {
      "image/png": "[encoded data removed]",
      "text/plain": [
       "<Figure size 720x432 with 1 Axes>"
      ]
     },
     "metadata": {
      "needs_background": "light"
     },
     "output_type": "display_data"
    }
   ],
   "source": [
    "# строим стобчатую диаграмму \n",
    "category_group.sort_values( ascending = False).plot(kind = 'bar',\n",
    "               title = 'Количество популярных заведений и их категории',\n",
    "               legend = False,\n",
    "               x = 'category',\n",
    "               y = 'id',\n",
    "               rot = 0,\n",
    "               figsize = (10, 6))\n",
    "plt.xlabel('Категория')\n",
    "plt.ylabel('Количество')\n",
    "plt.grid()\n",
    "plt.show()"
   ]
  },
  {
   "cell_type": "markdown",
   "id": "9f43d63e",
   "metadata": {},
   "source": [
    "На графике \"Tоп-15 популярных сетевых заведений\" в тройку лучших заведений с самым большим количеством заведений (120 штук) входят \"Шоколадница\",  \"Домино'c Пицца\" и \"Додо Пицца\". На 15-м месте - \"Му-му\". \n",
    "\n",
    "Также стоит отметить, что большиство заведений относятся к категории кофейня. А наименее популярная категория среди топ-15 заведений считается булочная - из них всего одно заведение."
   ]
  },
  {
   "cell_type": "markdown",
   "id": "28d3eaab",
   "metadata": {},
   "source": [
    " "
   ]
  },
  {
   "cell_type": "markdown",
   "id": "5a8ea2b0",
   "metadata": {},
   "source": [
    " "
   ]
  },
  {
   "cell_type": "markdown",
   "id": "85a90a94",
   "metadata": {
    "id": "85a90a94"
   },
   "source": [
    "---\n",
    "\n",
    "### Задача 8\n",
    "\n",
    "Изучите вариацию среднего чека заведения в зависимости от района Москвы."
   ]
  },
  {
   "cell_type": "code",
   "execution_count": 53,
   "id": "ed247a37",
   "metadata": {},
   "outputs": [
    {
     "data": {
      "text/plain": [
       "count     3149.000000\n",
       "mean       958.053668\n",
       "std       1009.732845\n",
       "min          0.000000\n",
       "25%        375.000000\n",
       "50%        750.000000\n",
       "75%       1250.000000\n",
       "max      35000.000000\n",
       "Name: middle_avg_bill, dtype: float64"
      ]
     },
     "execution_count": 53,
     "metadata": {},
     "output_type": "execute_result"
    }
   ],
   "source": [
    "# изучаем статистическик показатели столбца middle_avg_bill\n",
    "df['middle_avg_bill'].describe()"
   ]
  },
  {
   "cell_type": "markdown",
   "id": "a0540380",
   "metadata": {},
   "source": [
    "Большая разница между медианой и 50-ым процентилем означает что в данном столбце есть выбросы и аномальные значения "
   ]
  },
  {
   "cell_type": "code",
   "execution_count": 54,
   "id": "60b44ffe",
   "metadata": {},
   "outputs": [
    {
     "data": {
      "image/png": "[encoded data removed]",
      "text/plain": [
       "<Figure size 504x216 with 1 Axes>"
      ]
     },
     "metadata": {
      "needs_background": "light"
     },
     "output_type": "display_data"
    }
   ],
   "source": [
    "# строим гистограмму\n",
    "plt.figure(figsize=(7, 3))\n",
    "df['middle_avg_bill'].plot(\n",
    "                kind='hist', \n",
    "                bins=15,\n",
    "                alpha=0.75,\n",
    "                edgecolor='black',\n",
    "                rot=0)\n",
    "plt.title('Распределение оценок среднего чека')\n",
    "plt.xlabel('Оценка со средним чеком')\n",
    "plt.ylabel('Количество заведений')\n",
    "plt.grid()\n",
    "plt.show()"
   ]
  },
  {
   "cell_type": "markdown",
   "id": "4ecd7ed1",
   "metadata": {},
   "source": [
    "Распределение значения ассиметрично - скошено вправо. Минимальная оценка равна нулю, что может быть, но такое явление достаточно редко, а максимальное - 35000, что можно считать корректным, если заведение специализируется на крупных торжествах или корпоративах. На графике можно увидеть, что больше всего в заведениях оценка среднего чека находится в диапазоне от 0 до 2500. "
   ]
  },
  {
   "cell_type": "code",
   "execution_count": 55,
   "id": "6280d3a2",
   "metadata": {},
   "outputs": [
    {
     "data": {
      "image/png": "[encoded data removed]",
      "text/plain": [
       "<Figure size 504x144 with 1 Axes>"
      ]
     },
     "metadata": {
      "needs_background": "light"
     },
     "output_type": "display_data"
    }
   ],
   "source": [
    "# строим диаграмму размаха для столбца middle_avg_bill\n",
    "plt.figure(figsize = (7, 2))\n",
    "df.boxplot(column = 'middle_avg_bill', vert = False)\n",
    "plt.title('Распределение оценок среднего чека')\n",
    "plt.xlabel('Средний чек')\n",
    "plt.show()"
   ]
  },
  {
   "cell_type": "markdown",
   "id": "02e747af",
   "metadata": {},
   "source": [
    "По \"ящику с усами\" можно считать значения, которые выше примерно 2500 - выбросами. Исходя из диаграммы размаха, максимальные значения можно считать за выбросы, однако такое количество можно допустить для заведений, которые специализируются на банкетах или больших мероприятиях. Именно по данной причине можно оставить данные, так как исключив их, можем потерять категории заведений направленные на крупные торжества. Учитывая выбросы в столбце middle_avg_bill далее для задания будем использовать медиану, а не среднее значение. "
   ]
  },
  {
   "cell_type": "code",
   "execution_count": 56,
   "id": "5fb4ffc6",
   "metadata": {
    "id": "5fb4ffc6"
   },
   "outputs": [
    {
     "data": {
      "text/plain": [
       "district\n",
       "Восточный административный округ            575.0\n",
       "Западный административный округ            1000.0\n",
       "Северный административный округ             650.0\n",
       "Северо-Восточный административный округ     500.0\n",
       "Северо-Западный административный округ      700.0\n",
       "Центральный административный округ         1000.0\n",
       "Юго-Восточный административный округ        450.0\n",
       "Юго-Западный административный округ         600.0\n",
       "Южный административный округ                500.0\n",
       "Name: middle_avg_bill, dtype: float64"
      ]
     },
     "execution_count": 56,
     "metadata": {},
     "output_type": "execute_result"
    }
   ],
   "source": [
    "# изучаем вариации среднего чека в зависимости от района Москвы\n",
    "df.groupby('district')['middle_avg_bill'].median()"
   ]
  },
  {
   "cell_type": "code",
   "execution_count": 57,
   "id": "b98066c1",
   "metadata": {
    "id": "b98066c1"
   },
   "outputs": [
    {
     "data": {
      "image/png": "[encoded data removed]",
      "text/plain": [
       "<Figure size 720x432 with 1 Axes>"
      ]
     },
     "metadata": {
      "needs_background": "light"
     },
     "output_type": "display_data"
    }
   ],
   "source": [
    "#строим столбчатую диаграмму \n",
    "df.groupby('district')['middle_avg_bill'].median().sort_values(ascending = False).plot(kind = 'barh',\n",
    "               title = 'Средний чек в зависимости от района Москвы',\n",
    "               legend = False,\n",
    "               xlabel = 'Район',\n",
    "               ylabel = 'Средний чек',\n",
    "               rot = 0,\n",
    "               figsize = (10, 6))\n",
    "plt.grid()\n",
    "plt.show()"
   ]
  },
  {
   "cell_type": "markdown",
   "id": "10cfc022",
   "metadata": {},
   "source": [
    "На линейной дигарамме видно, что Центральный и Западный административные районы имеют самый большой средний чек, среди остальных районов, в размере 1000 рублей. Самый минимальный средний чек в Юго-Восточном административном округе. \n",
    "Поэтому мы можем наблюдать такую тенденцию, как уменьшение среднего чека и прайса в зависимости от дальности от центра. Можем преположить, что чем дальше находится район от центра города, тем меньше будут цены в заведениях. "
   ]
  },
  {
   "cell_type": "markdown",
   "id": "eed5efa7",
   "metadata": {},
   "source": [
    " "
   ]
  },
  {
   "cell_type": "markdown",
   "id": "20c74c1d",
   "metadata": {
    "id": "9b5e00a5"
   },
   "source": [
    "  "
   ]
  },
  {
   "cell_type": "markdown",
   "id": "c150bd4f",
   "metadata": {
    "id": "c150bd4f"
   },
   "source": [
    "---\n",
    "\n",
    "### Задача 9\n",
    "\n"
   ]
  },
  {
   "cell_type": "markdown",
   "id": "e6acb123",
   "metadata": {},
   "source": [
    " "
   ]
  },
  {
   "cell_type": "markdown",
   "id": "40e3cb49",
   "metadata": {},
   "source": [
    "Проверим может ли рейтинг заведения влиять на цену за чашку кофе. "
   ]
  },
  {
   "cell_type": "code",
   "execution_count": 58,
   "id": "6efb38cb",
   "metadata": {},
   "outputs": [
    {
     "data": {
      "image/png": "[encoded data removed]",
      "text/plain": [
       "<Figure size 720x288 with 1 Axes>"
      ]
     },
     "metadata": {
      "needs_background": "light"
     },
     "output_type": "display_data"
    }
   ],
   "source": [
    "\n",
    "plt.figure(figsize=(10, 4))\n",
    "plt.plot(df['rating'],\n",
    "         df['middle_coffee_cup'],\n",
    "         marker='o',\n",
    "         linestyle='',\n",
    "         alpha=0.7)\n",
    "plt.title('Взаимосвязь между возрастом и балансом клиентов')\n",
    "plt.xlabel('Рейтинг')\n",
    "plt.ylabel('Цена чашки кофе')\n",
    "plt.grid()\n",
    "plt.show()"
   ]
  },
  {
   "cell_type": "markdown",
   "id": "3ce4c350",
   "metadata": {},
   "source": [
    "Изходя из данного графика, видно что повышение или поижение рейтинга никак не отражается на уровне цены за чашку кофе. Поэтому можно сказать, что связи между рейтингом и средней ценой за чашку кофе нет. "
   ]
  },
  {
   "cell_type": "markdown",
   "id": "6b3597cd",
   "metadata": {},
   "source": [
    " "
   ]
  },
  {
   "cell_type": "markdown",
   "id": "5fe4d328",
   "metadata": {},
   "source": [
    "Проверим может ли быть взаимосвязь между рейтингом и числом посадочных мест в заведении"
   ]
  },
  {
   "cell_type": "code",
   "execution_count": 59,
   "id": "202e909c",
   "metadata": {},
   "outputs": [
    {
     "data": {
      "image/png": "[encoded data removed]",
      "text/plain": [
       "<Figure size 720x288 with 1 Axes>"
      ]
     },
     "metadata": {
      "needs_background": "light"
     },
     "output_type": "display_data"
    }
   ],
   "source": [
    "plt.figure(figsize=(10, 4))\n",
    "plt.plot(df['rating'],\n",
    "         df['seats'],\n",
    "         marker='o',\n",
    "         linestyle='',\n",
    "         alpha=0.7)\n",
    "plt.title('Взаимосвязь между возрастом и балансом клиентов')\n",
    "plt.xlabel('Рейтинг')\n",
    "plt.ylabel('Количество посадочных мест в заведени')\n",
    "plt.grid()\n",
    "plt.show()"
   ]
  },
  {
   "cell_type": "markdown",
   "id": "e78d9028",
   "metadata": {},
   "source": [
    "Здесь мы также видим, что рейтинг никак не влияет на количество мест в заведении, так как нет никакой динамики - ни положительной, ни отрицательной. "
   ]
  },
  {
   "cell_type": "markdown",
   "id": "30a1410a",
   "metadata": {},
   "source": [
    " "
   ]
  },
  {
   "cell_type": "markdown",
   "id": "2a6fbb12",
   "metadata": {},
   "source": [
    "На что же тогда влияет рейтинг?"
   ]
  },
  {
   "cell_type": "code",
   "execution_count": 60,
   "id": "f7ca0b29",
   "metadata": {},
   "outputs": [
    {
     "data": {
      "text/html": [
       "<div>\n",
       "<style scoped>\n",
       "    .dataframe tbody tr th:only-of-type {\n",
       "        vertical-align: middle;\n",
       "    }\n",
       "\n",
       "    .dataframe tbody tr th {\n",
       "        vertical-align: top;\n",
       "    }\n",
       "\n",
       "    .dataframe thead th {\n",
       "        text-align: right;\n",
       "    }\n",
       "</style>\n",
       "<table border=\"1\" class=\"dataframe\">\n",
       "  <thead>\n",
       "    <tr style=\"text-align: right;\">\n",
       "      <th></th>\n",
       "      <th>rating</th>\n",
       "      <th>chain</th>\n",
       "      <th>seats</th>\n",
       "      <th>middle_avg_bill</th>\n",
       "      <th>middle_coffee_cup</th>\n",
       "      <th>is_24_7</th>\n",
       "    </tr>\n",
       "  </thead>\n",
       "  <tbody>\n",
       "    <tr>\n",
       "      <th>rating</th>\n",
       "      <td>1.000000</td>\n",
       "      <td>-0.058144</td>\n",
       "      <td>0.024814</td>\n",
       "      <td>0.363923</td>\n",
       "      <td>0.142333</td>\n",
       "      <td>-0.127513</td>\n",
       "    </tr>\n",
       "    <tr>\n",
       "      <th>chain</th>\n",
       "      <td>-0.058144</td>\n",
       "      <td>1.000000</td>\n",
       "      <td>0.051398</td>\n",
       "      <td>-0.120433</td>\n",
       "      <td>-0.081893</td>\n",
       "      <td>0.030154</td>\n",
       "    </tr>\n",
       "    <tr>\n",
       "      <th>seats</th>\n",
       "      <td>0.024814</td>\n",
       "      <td>0.051398</td>\n",
       "      <td>1.000000</td>\n",
       "      <td>0.173193</td>\n",
       "      <td>0.019633</td>\n",
       "      <td>-0.064898</td>\n",
       "    </tr>\n",
       "    <tr>\n",
       "      <th>middle_avg_bill</th>\n",
       "      <td>0.363923</td>\n",
       "      <td>-0.120433</td>\n",
       "      <td>0.173193</td>\n",
       "      <td>1.000000</td>\n",
       "      <td>NaN</td>\n",
       "      <td>-0.123565</td>\n",
       "    </tr>\n",
       "    <tr>\n",
       "      <th>middle_coffee_cup</th>\n",
       "      <td>0.142333</td>\n",
       "      <td>-0.081893</td>\n",
       "      <td>0.019633</td>\n",
       "      <td>NaN</td>\n",
       "      <td>1.000000</td>\n",
       "      <td>0.137446</td>\n",
       "    </tr>\n",
       "    <tr>\n",
       "      <th>is_24_7</th>\n",
       "      <td>-0.127513</td>\n",
       "      <td>0.030154</td>\n",
       "      <td>-0.064898</td>\n",
       "      <td>-0.123565</td>\n",
       "      <td>0.137446</td>\n",
       "      <td>1.000000</td>\n",
       "    </tr>\n",
       "  </tbody>\n",
       "</table>\n",
       "</div>"
      ],
      "text/plain": [
       "                     rating     chain     seats  middle_avg_bill  \\\n",
       "rating             1.000000 -0.058144  0.024814         0.363923   \n",
       "chain             -0.058144  1.000000  0.051398        -0.120433   \n",
       "seats              0.024814  0.051398  1.000000         0.173193   \n",
       "middle_avg_bill    0.363923 -0.120433  0.173193         1.000000   \n",
       "middle_coffee_cup  0.142333 -0.081893  0.019633              NaN   \n",
       "is_24_7           -0.127513  0.030154 -0.064898        -0.123565   \n",
       "\n",
       "                   middle_coffee_cup   is_24_7  \n",
       "rating                      0.142333 -0.127513  \n",
       "chain                      -0.081893  0.030154  \n",
       "seats                       0.019633 -0.064898  \n",
       "middle_avg_bill                  NaN -0.123565  \n",
       "middle_coffee_cup           1.000000  0.137446  \n",
       "is_24_7                     0.137446  1.000000  "
      ]
     },
     "execution_count": 60,
     "metadata": {},
     "output_type": "execute_result"
    }
   ],
   "source": [
    "# по методу Спирмена выводим весь датафрейм для изучения взаимосвязей с данными из столбца rating, а также другими данными \n",
    "corr_matrix = df.corr(method = 'spearman')\n",
    "corr_matrix"
   ]
  },
  {
   "cell_type": "markdown",
   "id": "ffcffaad",
   "metadata": {},
   "source": [
    "Мы видим, что умеренная или несильная взаимосвязь с рейтингом просходит с оценкой среднего чека. Посмотрим ее на графике "
   ]
  },
  {
   "cell_type": "code",
   "execution_count": 61,
   "id": "9cab8d9c",
   "metadata": {},
   "outputs": [
    {
     "data": {
      "image/png": "[encoded data removed]",
      "text/plain": [
       "<Figure size 720x288 with 1 Axes>"
      ]
     },
     "metadata": {
      "needs_background": "light"
     },
     "output_type": "display_data"
    }
   ],
   "source": [
    "df.plot(kind = 'scatter',\n",
    "       x = 'rating',\n",
    "       y = 'middle_avg_bill',\n",
    "       alpha = 0.7,\n",
    "       title = 'Взаимосвязь между рейтингом и ценой среднего чека.',\n",
    "       s =80,\n",
    "       figsize = (10,4))\n",
    "plt.grid()\n",
    "plt.show()"
   ]
  },
  {
   "cell_type": "markdown",
   "id": "00096b39",
   "metadata": {},
   "source": [
    "На графике видна несильная положительная динамика, а именно при увеличении рейтинга немного увеличивается и цена среднего чека. "
   ]
  },
  {
   "cell_type": "markdown",
   "id": "ba8055f3",
   "metadata": {},
   "source": [
    " "
   ]
  },
  {
   "cell_type": "markdown",
   "id": "1d2bbc5f",
   "metadata": {},
   "source": [
    " "
   ]
  },
  {
   "cell_type": "markdown",
   "id": "cda47970",
   "metadata": {},
   "source": [
    " "
   ]
  },
  {
   "cell_type": "code",
   "execution_count": 62,
   "id": "38f69dea",
   "metadata": {
    "scrolled": true
   },
   "outputs": [
    {
     "data": {
      "text/html": [
       "<div>\n",
       "<style scoped>\n",
       "    .dataframe tbody tr th:only-of-type {\n",
       "        vertical-align: middle;\n",
       "    }\n",
       "\n",
       "    .dataframe tbody tr th {\n",
       "        vertical-align: top;\n",
       "    }\n",
       "\n",
       "    .dataframe thead th {\n",
       "        text-align: right;\n",
       "    }\n",
       "</style>\n",
       "<table border=\"1\" class=\"dataframe\">\n",
       "  <thead>\n",
       "    <tr style=\"text-align: right;\">\n",
       "      <th></th>\n",
       "      <th>district</th>\n",
       "      <th>hours</th>\n",
       "    </tr>\n",
       "  </thead>\n",
       "  <tbody>\n",
       "    <tr>\n",
       "      <th>0</th>\n",
       "      <td>Восточный административный округ</td>\n",
       "      <td>ежедневно, круглосуточно</td>\n",
       "    </tr>\n",
       "    <tr>\n",
       "      <th>1</th>\n",
       "      <td>Западный административный округ</td>\n",
       "      <td>ежедневно, 10:00–22:00</td>\n",
       "    </tr>\n",
       "    <tr>\n",
       "      <th>2</th>\n",
       "      <td>Северный административный округ</td>\n",
       "      <td>ежедневно, 10:00–22:00</td>\n",
       "    </tr>\n",
       "    <tr>\n",
       "      <th>3</th>\n",
       "      <td>Северо-Восточный административный округ</td>\n",
       "      <td>ежедневно, 10:00–22:00</td>\n",
       "    </tr>\n",
       "    <tr>\n",
       "      <th>4</th>\n",
       "      <td>Северо-Западный административный округ</td>\n",
       "      <td>ежедневно, круглосуточно</td>\n",
       "    </tr>\n",
       "    <tr>\n",
       "      <th>5</th>\n",
       "      <td>Центральный административный округ</td>\n",
       "      <td>ежедневно, круглосуточно</td>\n",
       "    </tr>\n",
       "    <tr>\n",
       "      <th>6</th>\n",
       "      <td>Юго-Восточный административный округ</td>\n",
       "      <td>ежедневно, круглосуточно</td>\n",
       "    </tr>\n",
       "    <tr>\n",
       "      <th>7</th>\n",
       "      <td>Юго-Западный административный округ</td>\n",
       "      <td>[ежедневно, 10:00–22:00, ежедневно, круглосуто...</td>\n",
       "    </tr>\n",
       "    <tr>\n",
       "      <th>8</th>\n",
       "      <td>Южный административный округ</td>\n",
       "      <td>ежедневно, 10:00–22:00</td>\n",
       "    </tr>\n",
       "  </tbody>\n",
       "</table>\n",
       "</div>"
      ],
      "text/plain": [
       "                                  district  \\\n",
       "0         Восточный административный округ   \n",
       "1          Западный административный округ   \n",
       "2          Северный административный округ   \n",
       "3  Северо-Восточный административный округ   \n",
       "4   Северо-Западный административный округ   \n",
       "5       Центральный административный округ   \n",
       "6     Юго-Восточный административный округ   \n",
       "7      Юго-Западный административный округ   \n",
       "8             Южный административный округ   \n",
       "\n",
       "                                               hours  \n",
       "0                           ежедневно, круглосуточно  \n",
       "1                             ежедневно, 10:00–22:00  \n",
       "2                             ежедневно, 10:00–22:00  \n",
       "3                             ежедневно, 10:00–22:00  \n",
       "4                           ежедневно, круглосуточно  \n",
       "5                           ежедневно, круглосуточно  \n",
       "6                           ежедневно, круглосуточно  \n",
       "7  [ежедневно, 10:00–22:00, ежедневно, круглосуто...  \n",
       "8                             ежедневно, 10:00–22:00  "
      ]
     },
     "execution_count": 62,
     "metadata": {},
     "output_type": "execute_result"
    }
   ],
   "source": [
    "# посмотрим наиболее частые часы работы заведений и их районное расположение \n",
    "df.groupby(['district'], as_index = False).agg({'hours' : pd.Series.mode})"
   ]
  },
  {
   "cell_type": "markdown",
   "id": "6ee56c63",
   "metadata": {},
   "source": [
    "Чаще всего заведения работают ежедневно с 10:00 -22:00, только в Центральном районе заведения работют меньше всего с 12:00-22:00, но также ежедневно. В Восточном, Северо-Западном и Юго-Восточном административных округах чаще всего заведения работают и ежедневно и круглосуточно. "
   ]
  },
  {
   "cell_type": "markdown",
   "id": "7d09f073",
   "metadata": {},
   "source": [
    " "
   ]
  },
  {
   "cell_type": "code",
   "execution_count": 63,
   "id": "618096b5",
   "metadata": {
    "id": "618096b5"
   },
   "outputs": [
    {
     "data": {
      "text/html": [
       "<div>\n",
       "<style scoped>\n",
       "    .dataframe tbody tr th:only-of-type {\n",
       "        vertical-align: middle;\n",
       "    }\n",
       "\n",
       "    .dataframe tbody tr th {\n",
       "        vertical-align: top;\n",
       "    }\n",
       "\n",
       "    .dataframe thead th {\n",
       "        text-align: right;\n",
       "    }\n",
       "</style>\n",
       "<table border=\"1\" class=\"dataframe\">\n",
       "  <thead>\n",
       "    <tr style=\"text-align: right;\">\n",
       "      <th></th>\n",
       "      <th>category</th>\n",
       "      <th>hours</th>\n",
       "    </tr>\n",
       "  </thead>\n",
       "  <tbody>\n",
       "    <tr>\n",
       "      <th>0</th>\n",
       "      <td>бар,паб</td>\n",
       "      <td>ежедневно, 12:00–00:00</td>\n",
       "    </tr>\n",
       "    <tr>\n",
       "      <th>1</th>\n",
       "      <td>булочная</td>\n",
       "      <td>ежедневно, 08:00–22:00</td>\n",
       "    </tr>\n",
       "    <tr>\n",
       "      <th>2</th>\n",
       "      <td>быстрое питание</td>\n",
       "      <td>ежедневно, круглосуточно</td>\n",
       "    </tr>\n",
       "    <tr>\n",
       "      <th>3</th>\n",
       "      <td>кафе</td>\n",
       "      <td>ежедневно, круглосуточно</td>\n",
       "    </tr>\n",
       "    <tr>\n",
       "      <th>4</th>\n",
       "      <td>кофейня</td>\n",
       "      <td>ежедневно, 10:00–22:00</td>\n",
       "    </tr>\n",
       "    <tr>\n",
       "      <th>5</th>\n",
       "      <td>пиццерия</td>\n",
       "      <td>ежедневно, 10:00–22:00</td>\n",
       "    </tr>\n",
       "    <tr>\n",
       "      <th>6</th>\n",
       "      <td>ресторан</td>\n",
       "      <td>ежедневно, 10:00–22:00</td>\n",
       "    </tr>\n",
       "    <tr>\n",
       "      <th>7</th>\n",
       "      <td>столовая</td>\n",
       "      <td>пн-пт 09:00–17:00</td>\n",
       "    </tr>\n",
       "  </tbody>\n",
       "</table>\n",
       "</div>"
      ],
      "text/plain": [
       "          category                     hours\n",
       "0          бар,паб    ежедневно, 12:00–00:00\n",
       "1         булочная    ежедневно, 08:00–22:00\n",
       "2  быстрое питание  ежедневно, круглосуточно\n",
       "3             кафе  ежедневно, круглосуточно\n",
       "4          кофейня    ежедневно, 10:00–22:00\n",
       "5         пиццерия    ежедневно, 10:00–22:00\n",
       "6         ресторан    ежедневно, 10:00–22:00\n",
       "7         столовая         пн-пт 09:00–17:00"
      ]
     },
     "execution_count": 63,
     "metadata": {},
     "output_type": "execute_result"
    }
   ],
   "source": [
    "# часы работы заведений и их категории \n",
    "df.groupby(['category'], as_index = False).agg({'hours' : pd.Series.mode})"
   ]
  },
  {
   "cell_type": "code",
   "execution_count": 64,
   "id": "be960cea",
   "metadata": {
    "scrolled": true
   },
   "outputs": [
    {
     "data": {
      "text/html": [
       "<div>\n",
       "<style scoped>\n",
       "    .dataframe tbody tr th:only-of-type {\n",
       "        vertical-align: middle;\n",
       "    }\n",
       "\n",
       "    .dataframe tbody tr th {\n",
       "        vertical-align: top;\n",
       "    }\n",
       "\n",
       "    .dataframe thead th {\n",
       "        text-align: right;\n",
       "    }\n",
       "</style>\n",
       "<table border=\"1\" class=\"dataframe\">\n",
       "  <thead>\n",
       "    <tr style=\"text-align: right;\">\n",
       "      <th></th>\n",
       "      <th>district</th>\n",
       "      <th>middle_coffee_cup</th>\n",
       "    </tr>\n",
       "  </thead>\n",
       "  <tbody>\n",
       "    <tr>\n",
       "      <th>7</th>\n",
       "      <td>Юго-Западный административный округ</td>\n",
       "      <td>197.0</td>\n",
       "    </tr>\n",
       "    <tr>\n",
       "      <th>5</th>\n",
       "      <td>Центральный административный округ</td>\n",
       "      <td>190.0</td>\n",
       "    </tr>\n",
       "    <tr>\n",
       "      <th>1</th>\n",
       "      <td>Западный административный округ</td>\n",
       "      <td>187.0</td>\n",
       "    </tr>\n",
       "    <tr>\n",
       "      <th>3</th>\n",
       "      <td>Северо-Восточный административный округ</td>\n",
       "      <td>162.5</td>\n",
       "    </tr>\n",
       "    <tr>\n",
       "      <th>2</th>\n",
       "      <td>Северный административный округ</td>\n",
       "      <td>159.0</td>\n",
       "    </tr>\n",
       "    <tr>\n",
       "      <th>4</th>\n",
       "      <td>Северо-Западный административный округ</td>\n",
       "      <td>150.0</td>\n",
       "    </tr>\n",
       "    <tr>\n",
       "      <th>8</th>\n",
       "      <td>Южный административный округ</td>\n",
       "      <td>149.5</td>\n",
       "    </tr>\n",
       "    <tr>\n",
       "      <th>6</th>\n",
       "      <td>Юго-Восточный административный округ</td>\n",
       "      <td>145.0</td>\n",
       "    </tr>\n",
       "    <tr>\n",
       "      <th>0</th>\n",
       "      <td>Восточный административный округ</td>\n",
       "      <td>135.0</td>\n",
       "    </tr>\n",
       "  </tbody>\n",
       "</table>\n",
       "</div>"
      ],
      "text/plain": [
       "                                  district  middle_coffee_cup\n",
       "7      Юго-Западный административный округ              197.0\n",
       "5       Центральный административный округ              190.0\n",
       "1          Западный административный округ              187.0\n",
       "3  Северо-Восточный административный округ              162.5\n",
       "2          Северный административный округ              159.0\n",
       "4   Северо-Западный административный округ              150.0\n",
       "8             Южный административный округ              149.5\n",
       "6     Юго-Восточный административный округ              145.0\n",
       "0         Восточный административный округ              135.0"
      ]
     },
     "execution_count": 64,
     "metadata": {},
     "output_type": "execute_result"
    }
   ],
   "source": [
    "group_coffee_cup = df.groupby(['district'], as_index = False).agg({'middle_coffee_cup' : 'median'}).sort_values(by = 'middle_coffee_cup', ascending = False)\n",
    "group_coffee_cup"
   ]
  },
  {
   "cell_type": "code",
   "execution_count": 65,
   "id": "6b71f274",
   "metadata": {},
   "outputs": [
    {
     "data": {
      "image/png": "[encoded data removed]",
      "text/plain": [
       "<Figure size 720x432 with 1 Axes>"
      ]
     },
     "metadata": {
      "needs_background": "light"
     },
     "output_type": "display_data"
    }
   ],
   "source": [
    "group_coffee_cup.plot(kind = 'barh',\n",
    "               title = 'Средняя цена чашки кофе в зависимости от района Москвы',\n",
    "               legend = False,\n",
    "               x = 'district',\n",
    "               y = 'middle_coffee_cup',\n",
    "               rot = 0,\n",
    "               figsize = (10, 6))\n",
    "plt.xlabel('Цена чашки кофе')\n",
    "plt.grid()\n",
    "plt.show()"
   ]
  },
  {
   "cell_type": "markdown",
   "id": "7261e7db",
   "metadata": {},
   "source": [
    "По графику видно, что самые дорогие чашки кофе находятся в Западном, Центральном и Юго-Западном административных округах"
   ]
  },
  {
   "cell_type": "markdown",
   "id": "ffc309b0",
   "metadata": {},
   "source": [
    " "
   ]
  },
  {
   "cell_type": "markdown",
   "id": "44284b83",
   "metadata": {},
   "source": [
    " "
   ]
  },
  {
   "cell_type": "markdown",
   "id": "f2c54e9a",
   "metadata": {
    "id": "f2c54e9a"
   },
   "source": [
    "---\n",
    "\n",
    "### Промежуточный вывод\n",
    "\n",
    "Обобщите полученные результаты, выделив, по вашему мнению, самые важные."
   ]
  },
  {
   "cell_type": "markdown",
   "id": "5c2ac2a4",
   "metadata": {
    "id": "c8869609"
   },
   "source": [
    "Исследовательский анализ данных показал, что:\n",
    "- среди всего общественного питания преобладают кафе, составляя более 2000 заведений в Москве,\n",
    "- больше всего заведений находятся в Центральном административном округе Москвы,\n",
    "- в Центральном административном окурге преобладают типы: рестораны, кафе и кофейни,\n",
    "- из всех заведений больше всего несетевых, из них больше всего баров и пабов, а из сетевых больше всего булочных,\n",
    "- все категории заведений имеют среднюю оценку больше четырех баллов,\n",
    "- самую сильное влияние рейтинг оказывает на оценку среднего чека, при этом связь достаточно слабая \n",
    "- среди топ-15 популярных сетевых заведений, больше всего кофейн, а меньше всего булочных,\n",
    "- Центральный и Западные административные округа имеют самые большие средние чеки, из чего может следовать, что, чем дальше находится район от центра города, тем меньше будут цены в заведениях"
   ]
  },
  {
   "cell_type": "markdown",
   "id": "1744a9b1",
   "metadata": {},
   "source": [
    " "
   ]
  },
  {
   "cell_type": "markdown",
   "id": "ac425eba",
   "metadata": {},
   "source": [
    " "
   ]
  },
  {
   "cell_type": "markdown",
   "id": "480f3422",
   "metadata": {
    "id": "480f3422"
   },
   "source": [
    "## 4. Итоговый вывод и рекомендации\n",
    "\n",
    "По результатам проведённого исследовательского анализа данных сформулируйте итоговый вывод и рекомендации для заказчика. Старайтесь акцентировать внимание на ключевых моментах исследования.\n",
    "\n",
    "При составлении вывода придерживайтесь такой структуры:\n",
    "\n",
    "1. Общий обзор проделанной работы.\n",
    "2. Ответы на исследовательские вопросы, или главные выводы.\n",
    "3. Рекомендации на основе анализа данных."
   ]
  },
  {
   "cell_type": "markdown",
   "id": "6880d49a",
   "metadata": {},
   "source": [
    " "
   ]
  },
  {
   "cell_type": "markdown",
   "id": "2a974c2f",
   "metadata": {},
   "source": [
    "###  Общий обзор общественного питания Москвы"
   ]
  },
  {
   "cell_type": "markdown",
   "id": "a4428b6b",
   "metadata": {},
   "source": [
    "Исследовательский анализ позволил сформировать обущю хаарктеристику об общественном питании Москвы: "
   ]
  },
  {
   "cell_type": "markdown",
   "id": "20454f1b",
   "metadata": {},
   "source": [
    "- Из 8406 заведений больше всего кофейн. Эта категория является самой популярной среди многих округов Москвы. Чем ближе к центру города, тем больше кофейн. Также преобладают несетевые заведения\n",
    "\n",
    "\n",
    "- Самая большая конкуренция находится в центре города, так как именно там собрано самое большое количество заведений практически всех категорий\n",
    "\n",
    "\n",
    "- Цена среднего чека также варьируется в зависимости от местоположения заведения. "
   ]
  },
  {
   "cell_type": "markdown",
   "id": "9eccdffa",
   "metadata": {},
   "source": [
    " "
   ]
  },
  {
   "cell_type": "markdown",
   "id": "1a8a4234",
   "metadata": {},
   "source": [
    "### Факторы, влияющие на выбор места для заведения "
   ]
  },
  {
   "cell_type": "markdown",
   "id": "b5e6fc19",
   "metadata": {},
   "source": [
    "Из данных мы вывели, что местоположение заведения влияет на успешность бизнеса.\n",
    "\n",
    "- Самая большая конкуренция в Центральном районе Москвы, так как там самое большое количество заведений в размере 2242 штук. \n",
    "\n",
    "- Самая маленькая конкуренция в Северо-Западном и Юго-Западном административных округах в них 409 и 709 штук заведений соответственно. В остальных округах средняя конкуренция, и заведения не превышают 1000 штук на округ.  \n",
    "- Самые большие средние чеки в Центральном и Западном районах, а самые маленькие в Юго-Восточном, Южном и Северо-Восточном районах города. \n",
    "\n",
    "- Самые дорогие чашки кофе (усредненно) в Юго-Западном, Центральном и Западном районах, самые маленькие в Восточном, Юго-Восточном и Южном районах. "
   ]
  },
  {
   "cell_type": "markdown",
   "id": "6f2b6804",
   "metadata": {},
   "source": [
    " "
   ]
  },
  {
   "cell_type": "markdown",
   "id": "baa15c1a",
   "metadata": {},
   "source": [
    "### Рекомендации"
   ]
  },
  {
   "cell_type": "markdown",
   "id": "dd92549d",
   "metadata": {},
   "source": [
    "В случае, если вы хотите открыть какое-либо заведений с минимальной конкуренцией, то лучше это делать в Западном административном округе, так как именно там меньше всего заведений. Если есть необходимость или желание открыть заведение именно в центре города, то конкуренция меньше всего среди булочных. Открыв заведение в центре, можно расчитывать на большую проходимость, но так как присутсвует очень большая конкуренция - ситуация может быть неоднозначная или невыиграшная. \n",
    "\n",
    "Начать свое развитие в сфере общественного питания можно с другого округа (не с Центрального), чтобы: постепенно и мягко войти в область питания, исправить все ошибки (а они точно будут), удостовериться в правильности выбранного направления и категории заведения, а далее открываться в центре города. \n",
    "Чтобы зарекомендовать себя, стоит уделить особое внимание рейтингу, по которому ориентируются посетители, также он поможет увеличить выручку. Ведь для многих посетителей высокий рейтиг - знак качества. "
   ]
  },
  {
   "cell_type": "markdown",
   "id": "3196d860",
   "metadata": {},
   "source": [
    "Исходя из вышенаписанных данных, можно пологать, что самым оптимальным вариантом для места открытия заведения будет Западный административный округ, так как именно там не самая высокая конкуренция (значит можно хорошо и быстро разваиваться), самые высокие средние чеки и цены на кофе (усредненно)"
   ]
  }
 ],
 "metadata": {
  "ExecuteTimeLog": [
   {
    "duration": 76,
    "start_time": "2024-12-24T12:24:53.848Z"
   },
   {
    "duration": 417,
    "start_time": "2024-12-24T12:24:59.916Z"
   },
   {
    "duration": 470,
    "start_time": "2024-12-24T12:25:01.525Z"
   },
   {
    "duration": 23,
    "start_time": "2024-12-24T12:25:05.670Z"
   },
   {
    "duration": 32,
    "start_time": "2024-12-24T12:25:08.716Z"
   },
   {
    "duration": 15,
    "start_time": "2024-12-24T12:25:12.885Z"
   },
   {
    "duration": 12,
    "start_time": "2024-12-24T12:25:13.586Z"
   },
   {
    "duration": 14,
    "start_time": "2024-12-24T12:52:35.656Z"
   },
   {
    "duration": 15,
    "start_time": "2024-12-24T12:52:36.316Z"
   },
   {
    "duration": 48,
    "start_time": "2024-12-24T14:24:36.830Z"
   },
   {
    "duration": 2,
    "start_time": "2024-12-24T14:25:17.291Z"
   },
   {
    "duration": 399,
    "start_time": "2024-12-24T14:25:17.295Z"
   },
   {
    "duration": 314,
    "start_time": "2024-12-24T14:25:17.695Z"
   },
   {
    "duration": 12,
    "start_time": "2024-12-24T14:25:18.010Z"
   },
   {
    "duration": 20,
    "start_time": "2024-12-24T14:25:18.024Z"
   },
   {
    "duration": 10,
    "start_time": "2024-12-24T14:25:18.045Z"
   },
   {
    "duration": 8,
    "start_time": "2024-12-24T14:25:18.056Z"
   },
   {
    "duration": 8,
    "start_time": "2024-12-24T14:25:18.066Z"
   },
   {
    "duration": 11,
    "start_time": "2024-12-24T14:25:18.075Z"
   },
   {
    "duration": 26,
    "start_time": "2024-12-24T14:25:18.087Z"
   },
   {
    "duration": 6,
    "start_time": "2024-12-24T14:25:51.669Z"
   },
   {
    "duration": 11,
    "start_time": "2024-12-24T14:26:03.110Z"
   },
   {
    "duration": 9,
    "start_time": "2024-12-24T14:26:58.743Z"
   },
   {
    "duration": 5,
    "start_time": "2024-12-24T14:27:11.119Z"
   },
   {
    "duration": 13,
    "start_time": "2024-12-24T14:28:26.611Z"
   },
   {
    "duration": 9,
    "start_time": "2024-12-24T14:32:19.902Z"
   },
   {
    "duration": 10,
    "start_time": "2024-12-24T14:34:02.370Z"
   },
   {
    "duration": 7,
    "start_time": "2024-12-24T14:43:09.759Z"
   },
   {
    "duration": 10,
    "start_time": "2024-12-24T14:43:17.850Z"
   },
   {
    "duration": 2,
    "start_time": "2024-12-24T14:43:54.312Z"
   },
   {
    "duration": 8,
    "start_time": "2024-12-24T14:44:15.960Z"
   },
   {
    "duration": 8,
    "start_time": "2024-12-24T15:07:23.246Z"
   },
   {
    "duration": 8,
    "start_time": "2024-12-24T15:07:28.294Z"
   },
   {
    "duration": 4,
    "start_time": "2024-12-24T15:47:43.073Z"
   },
   {
    "duration": 927,
    "start_time": "2024-12-24T15:55:12.069Z"
   },
   {
    "duration": 6,
    "start_time": "2024-12-24T15:55:35.581Z"
   },
   {
    "duration": 8,
    "start_time": "2024-12-24T15:56:06.021Z"
   },
   {
    "duration": 26,
    "start_time": "2024-12-24T15:59:05.390Z"
   },
   {
    "duration": 17,
    "start_time": "2024-12-24T15:59:58.250Z"
   },
   {
    "duration": 4,
    "start_time": "2024-12-24T16:02:50.129Z"
   },
   {
    "duration": 25,
    "start_time": "2024-12-24T16:02:54.560Z"
   },
   {
    "duration": 10,
    "start_time": "2024-12-24T16:03:17.242Z"
   },
   {
    "duration": 2,
    "start_time": "2024-12-24T16:03:33.085Z"
   },
   {
    "duration": 20,
    "start_time": "2024-12-24T16:03:33.088Z"
   },
   {
    "duration": 283,
    "start_time": "2024-12-24T16:03:33.109Z"
   },
   {
    "duration": 12,
    "start_time": "2024-12-24T16:03:33.393Z"
   },
   {
    "duration": 27,
    "start_time": "2024-12-24T16:03:33.407Z"
   },
   {
    "duration": 30,
    "start_time": "2024-12-24T16:03:33.435Z"
   },
   {
    "duration": 11,
    "start_time": "2024-12-24T16:03:33.466Z"
   },
   {
    "duration": 9,
    "start_time": "2024-12-24T16:03:33.478Z"
   },
   {
    "duration": 18,
    "start_time": "2024-12-24T16:03:33.489Z"
   },
   {
    "duration": 3,
    "start_time": "2024-12-24T16:03:33.508Z"
   },
   {
    "duration": 10,
    "start_time": "2024-12-24T16:03:33.512Z"
   },
   {
    "duration": 15,
    "start_time": "2024-12-24T16:03:33.523Z"
   },
   {
    "duration": 18,
    "start_time": "2024-12-24T16:03:33.540Z"
   },
   {
    "duration": 12,
    "start_time": "2024-12-24T16:03:33.560Z"
   },
   {
    "duration": 4,
    "start_time": "2024-12-24T16:03:33.574Z"
   },
   {
    "duration": 33,
    "start_time": "2024-12-24T16:03:33.580Z"
   },
   {
    "duration": 51,
    "start_time": "2024-12-24T16:03:33.615Z"
   },
   {
    "duration": 28,
    "start_time": "2024-12-24T16:03:33.667Z"
   },
   {
    "duration": 931,
    "start_time": "2024-12-24T16:03:33.697Z"
   },
   {
    "duration": 0,
    "start_time": "2024-12-24T16:03:34.629Z"
   },
   {
    "duration": 0,
    "start_time": "2024-12-24T16:03:34.630Z"
   },
   {
    "duration": 0,
    "start_time": "2024-12-24T16:03:34.631Z"
   },
   {
    "duration": 3,
    "start_time": "2024-12-24T16:05:39.033Z"
   },
   {
    "duration": 1381,
    "start_time": "2024-12-24T16:16:40.683Z"
   },
   {
    "duration": 601,
    "start_time": "2024-12-24T16:18:07.964Z"
   },
   {
    "duration": 8,
    "start_time": "2024-12-24T16:18:10.994Z"
   },
   {
    "duration": 19,
    "start_time": "2024-12-24T16:18:29.462Z"
   },
   {
    "duration": 7,
    "start_time": "2024-12-24T16:18:56.395Z"
   },
   {
    "duration": 19,
    "start_time": "2024-12-24T16:22:03.641Z"
   },
   {
    "duration": 8,
    "start_time": "2024-12-24T16:23:59.683Z"
   },
   {
    "duration": 19,
    "start_time": "2024-12-24T16:24:14.282Z"
   },
   {
    "duration": 240,
    "start_time": "2024-12-24T16:42:12.079Z"
   },
   {
    "duration": 115,
    "start_time": "2024-12-24T16:42:12.830Z"
   },
   {
    "duration": 7,
    "start_time": "2024-12-24T16:42:18.069Z"
   },
   {
    "duration": 19,
    "start_time": "2024-12-24T16:42:21.540Z"
   },
   {
    "duration": 122,
    "start_time": "2024-12-24T16:45:47.638Z"
   },
   {
    "duration": 7,
    "start_time": "2024-12-24T16:45:50.259Z"
   },
   {
    "duration": 17,
    "start_time": "2024-12-24T16:45:51.349Z"
   },
   {
    "duration": 3,
    "start_time": "2024-12-24T16:49:00.729Z"
   },
   {
    "duration": 414,
    "start_time": "2024-12-24T16:49:00.734Z"
   },
   {
    "duration": 233,
    "start_time": "2024-12-24T16:49:01.149Z"
   },
   {
    "duration": 12,
    "start_time": "2024-12-24T16:49:01.384Z"
   },
   {
    "duration": 24,
    "start_time": "2024-12-24T16:49:01.398Z"
   },
   {
    "duration": 9,
    "start_time": "2024-12-24T16:49:01.424Z"
   },
   {
    "duration": 16,
    "start_time": "2024-12-24T16:49:01.434Z"
   },
   {
    "duration": 43,
    "start_time": "2024-12-24T16:49:01.451Z"
   },
   {
    "duration": 18,
    "start_time": "2024-12-24T16:49:01.496Z"
   },
   {
    "duration": 3,
    "start_time": "2024-12-24T16:49:01.515Z"
   },
   {
    "duration": 14,
    "start_time": "2024-12-24T16:49:01.520Z"
   },
   {
    "duration": 50,
    "start_time": "2024-12-24T16:49:01.535Z"
   },
   {
    "duration": 24,
    "start_time": "2024-12-24T16:49:01.586Z"
   },
   {
    "duration": 8,
    "start_time": "2024-12-24T16:49:01.612Z"
   },
   {
    "duration": 48,
    "start_time": "2024-12-24T16:49:01.621Z"
   },
   {
    "duration": 28,
    "start_time": "2024-12-24T16:49:01.671Z"
   },
   {
    "duration": 7,
    "start_time": "2024-12-24T16:49:01.701Z"
   },
   {
    "duration": 1428,
    "start_time": "2024-12-24T16:49:01.709Z"
   },
   {
    "duration": 11,
    "start_time": "2024-12-24T16:49:03.139Z"
   },
   {
    "duration": 21,
    "start_time": "2024-12-24T16:49:03.152Z"
   },
   {
    "duration": 727,
    "start_time": "2024-12-24T16:55:50.339Z"
   },
   {
    "duration": 7,
    "start_time": "2024-12-24T16:55:53.700Z"
   },
   {
    "duration": 18,
    "start_time": "2024-12-24T16:56:01.320Z"
   },
   {
    "duration": 3,
    "start_time": "2024-12-24T16:56:22.629Z"
   },
   {
    "duration": 413,
    "start_time": "2024-12-24T16:56:22.634Z"
   },
   {
    "duration": 211,
    "start_time": "2024-12-24T16:56:23.048Z"
   },
   {
    "duration": 12,
    "start_time": "2024-12-24T16:56:23.261Z"
   },
   {
    "duration": 64,
    "start_time": "2024-12-24T16:56:23.274Z"
   },
   {
    "duration": 65,
    "start_time": "2024-12-24T16:56:23.339Z"
   },
   {
    "duration": 11,
    "start_time": "2024-12-24T16:56:23.405Z"
   },
   {
    "duration": 22,
    "start_time": "2024-12-24T16:56:23.417Z"
   },
   {
    "duration": 12,
    "start_time": "2024-12-24T16:56:23.442Z"
   },
   {
    "duration": 4,
    "start_time": "2024-12-24T16:56:23.455Z"
   },
   {
    "duration": 7,
    "start_time": "2024-12-24T16:56:23.460Z"
   },
   {
    "duration": 16,
    "start_time": "2024-12-24T16:56:23.469Z"
   },
   {
    "duration": 19,
    "start_time": "2024-12-24T16:56:23.486Z"
   },
   {
    "duration": 10,
    "start_time": "2024-12-24T16:56:23.506Z"
   },
   {
    "duration": 10,
    "start_time": "2024-12-24T16:56:23.518Z"
   },
   {
    "duration": 5,
    "start_time": "2024-12-24T16:56:23.530Z"
   },
   {
    "duration": 5,
    "start_time": "2024-12-24T16:56:23.537Z"
   },
   {
    "duration": 1702,
    "start_time": "2024-12-24T16:56:23.544Z"
   },
   {
    "duration": 6,
    "start_time": "2024-12-24T16:56:25.248Z"
   },
   {
    "duration": 20,
    "start_time": "2024-12-24T16:56:25.255Z"
   },
   {
    "duration": 3,
    "start_time": "2024-12-24T16:56:53.479Z"
   },
   {
    "duration": 357,
    "start_time": "2024-12-24T16:56:53.484Z"
   },
   {
    "duration": 205,
    "start_time": "2024-12-24T16:56:53.843Z"
   },
   {
    "duration": 12,
    "start_time": "2024-12-24T16:56:54.049Z"
   },
   {
    "duration": 29,
    "start_time": "2024-12-24T16:56:54.063Z"
   },
   {
    "duration": 10,
    "start_time": "2024-12-24T16:56:54.094Z"
   },
   {
    "duration": 10,
    "start_time": "2024-12-24T16:56:54.106Z"
   },
   {
    "duration": 29,
    "start_time": "2024-12-24T16:56:54.117Z"
   },
   {
    "duration": 11,
    "start_time": "2024-12-24T16:56:54.148Z"
   },
   {
    "duration": 4,
    "start_time": "2024-12-24T16:56:54.161Z"
   },
   {
    "duration": 6,
    "start_time": "2024-12-24T16:56:54.166Z"
   },
   {
    "duration": 10,
    "start_time": "2024-12-24T16:56:54.173Z"
   },
   {
    "duration": 9,
    "start_time": "2024-12-24T16:56:54.184Z"
   },
   {
    "duration": 9,
    "start_time": "2024-12-24T16:56:54.195Z"
   },
   {
    "duration": 3,
    "start_time": "2024-12-24T16:56:54.205Z"
   },
   {
    "duration": 5,
    "start_time": "2024-12-24T16:56:54.210Z"
   },
   {
    "duration": 31,
    "start_time": "2024-12-24T16:56:54.217Z"
   },
   {
    "duration": 1098,
    "start_time": "2024-12-24T16:56:54.249Z"
   },
   {
    "duration": 8,
    "start_time": "2024-12-24T16:56:55.348Z"
   },
   {
    "duration": 60,
    "start_time": "2024-12-24T16:56:55.357Z"
   },
   {
    "duration": 3,
    "start_time": "2024-12-24T16:57:47.030Z"
   },
   {
    "duration": 405,
    "start_time": "2024-12-24T16:57:47.035Z"
   },
   {
    "duration": 207,
    "start_time": "2024-12-24T16:57:47.441Z"
   },
   {
    "duration": 12,
    "start_time": "2024-12-24T16:57:47.649Z"
   },
   {
    "duration": 21,
    "start_time": "2024-12-24T16:57:47.663Z"
   },
   {
    "duration": 9,
    "start_time": "2024-12-24T16:57:47.686Z"
   },
   {
    "duration": 10,
    "start_time": "2024-12-24T16:57:47.696Z"
   },
   {
    "duration": 10,
    "start_time": "2024-12-24T16:57:47.707Z"
   },
   {
    "duration": 11,
    "start_time": "2024-12-24T16:57:47.746Z"
   },
   {
    "duration": 3,
    "start_time": "2024-12-24T16:57:47.759Z"
   },
   {
    "duration": 5,
    "start_time": "2024-12-24T16:57:47.763Z"
   },
   {
    "duration": 6,
    "start_time": "2024-12-24T16:57:47.769Z"
   },
   {
    "duration": 8,
    "start_time": "2024-12-24T16:57:47.776Z"
   },
   {
    "duration": 5,
    "start_time": "2024-12-24T16:57:47.786Z"
   },
   {
    "duration": 3,
    "start_time": "2024-12-24T16:57:47.793Z"
   },
   {
    "duration": 5,
    "start_time": "2024-12-24T16:57:47.797Z"
   },
   {
    "duration": 43,
    "start_time": "2024-12-24T16:57:47.803Z"
   },
   {
    "duration": 1588,
    "start_time": "2024-12-24T16:57:47.847Z"
   },
   {
    "duration": 10,
    "start_time": "2024-12-24T16:57:49.437Z"
   },
   {
    "duration": 28,
    "start_time": "2024-12-24T16:57:49.448Z"
   },
   {
    "duration": 4,
    "start_time": "2024-12-24T16:59:38.379Z"
   },
   {
    "duration": 359,
    "start_time": "2024-12-24T16:59:38.385Z"
   },
   {
    "duration": 226,
    "start_time": "2024-12-24T16:59:38.745Z"
   },
   {
    "duration": 14,
    "start_time": "2024-12-24T16:59:38.972Z"
   },
   {
    "duration": 82,
    "start_time": "2024-12-24T16:59:38.989Z"
   },
   {
    "duration": 11,
    "start_time": "2024-12-24T16:59:39.073Z"
   },
   {
    "duration": 10,
    "start_time": "2024-12-24T16:59:39.086Z"
   },
   {
    "duration": 12,
    "start_time": "2024-12-24T16:59:39.098Z"
   },
   {
    "duration": 13,
    "start_time": "2024-12-24T16:59:39.111Z"
   },
   {
    "duration": 3,
    "start_time": "2024-12-24T16:59:39.125Z"
   },
   {
    "duration": 5,
    "start_time": "2024-12-24T16:59:39.145Z"
   },
   {
    "duration": 7,
    "start_time": "2024-12-24T16:59:39.151Z"
   },
   {
    "duration": 9,
    "start_time": "2024-12-24T16:59:39.159Z"
   },
   {
    "duration": 5,
    "start_time": "2024-12-24T16:59:39.170Z"
   },
   {
    "duration": 3,
    "start_time": "2024-12-24T16:59:39.177Z"
   },
   {
    "duration": 3,
    "start_time": "2024-12-24T16:59:39.181Z"
   },
   {
    "duration": 3,
    "start_time": "2024-12-24T16:59:39.186Z"
   },
   {
    "duration": 1156,
    "start_time": "2024-12-24T16:59:39.190Z"
   },
   {
    "duration": 7,
    "start_time": "2024-12-24T16:59:40.348Z"
   },
   {
    "duration": 18,
    "start_time": "2024-12-24T16:59:40.356Z"
   },
   {
    "duration": 7,
    "start_time": "2024-12-24T17:03:26.331Z"
   },
   {
    "duration": 11,
    "start_time": "2024-12-24T17:03:44.430Z"
   },
   {
    "duration": 6,
    "start_time": "2024-12-24T17:05:20.320Z"
   },
   {
    "duration": 66,
    "start_time": "2024-12-24T17:05:53.331Z"
   },
   {
    "duration": 6,
    "start_time": "2024-12-24T17:06:02.441Z"
   },
   {
    "duration": 8,
    "start_time": "2024-12-24T17:06:05.541Z"
   },
   {
    "duration": 4,
    "start_time": "2024-12-24T17:06:16.341Z"
   },
   {
    "duration": 388,
    "start_time": "2024-12-24T17:06:16.358Z"
   },
   {
    "duration": 228,
    "start_time": "2024-12-24T17:06:16.747Z"
   },
   {
    "duration": 13,
    "start_time": "2024-12-24T17:06:16.976Z"
   },
   {
    "duration": 18,
    "start_time": "2024-12-24T17:06:16.990Z"
   },
   {
    "duration": 10,
    "start_time": "2024-12-24T17:06:17.011Z"
   },
   {
    "duration": 42,
    "start_time": "2024-12-24T17:06:17.023Z"
   },
   {
    "duration": 36,
    "start_time": "2024-12-24T17:06:17.067Z"
   },
   {
    "duration": 12,
    "start_time": "2024-12-24T17:06:17.105Z"
   },
   {
    "duration": 3,
    "start_time": "2024-12-24T17:06:17.119Z"
   },
   {
    "duration": 6,
    "start_time": "2024-12-24T17:06:17.123Z"
   },
   {
    "duration": 8,
    "start_time": "2024-12-24T17:06:17.131Z"
   },
   {
    "duration": 10,
    "start_time": "2024-12-24T17:06:17.140Z"
   },
   {
    "duration": 6,
    "start_time": "2024-12-24T17:06:17.151Z"
   },
   {
    "duration": 8,
    "start_time": "2024-12-24T17:06:17.160Z"
   },
   {
    "duration": 9,
    "start_time": "2024-12-24T17:06:17.170Z"
   },
   {
    "duration": 4,
    "start_time": "2024-12-24T17:06:17.181Z"
   },
   {
    "duration": 1083,
    "start_time": "2024-12-24T17:06:17.186Z"
   },
   {
    "duration": 6,
    "start_time": "2024-12-24T17:06:18.270Z"
   },
   {
    "duration": 8,
    "start_time": "2024-12-24T17:06:18.277Z"
   },
   {
    "duration": 22,
    "start_time": "2024-12-24T17:06:18.286Z"
   },
   {
    "duration": 2,
    "start_time": "2024-12-24T17:06:43.581Z"
   },
   {
    "duration": 357,
    "start_time": "2024-12-24T17:06:43.585Z"
   },
   {
    "duration": 288,
    "start_time": "2024-12-24T17:06:43.944Z"
   },
   {
    "duration": 12,
    "start_time": "2024-12-24T17:06:44.233Z"
   },
   {
    "duration": 17,
    "start_time": "2024-12-24T17:06:44.247Z"
   },
   {
    "duration": 9,
    "start_time": "2024-12-24T17:06:44.265Z"
   },
   {
    "duration": 9,
    "start_time": "2024-12-24T17:06:44.275Z"
   },
   {
    "duration": 8,
    "start_time": "2024-12-24T17:06:44.285Z"
   },
   {
    "duration": 12,
    "start_time": "2024-12-24T17:06:44.294Z"
   },
   {
    "duration": 3,
    "start_time": "2024-12-24T17:06:44.307Z"
   },
   {
    "duration": 4,
    "start_time": "2024-12-24T17:06:44.312Z"
   },
   {
    "duration": 7,
    "start_time": "2024-12-24T17:06:44.317Z"
   },
   {
    "duration": 20,
    "start_time": "2024-12-24T17:06:44.326Z"
   },
   {
    "duration": 6,
    "start_time": "2024-12-24T17:06:44.347Z"
   },
   {
    "duration": 17,
    "start_time": "2024-12-24T17:06:44.354Z"
   },
   {
    "duration": 15,
    "start_time": "2024-12-24T17:06:44.373Z"
   },
   {
    "duration": 4,
    "start_time": "2024-12-24T17:06:44.390Z"
   },
   {
    "duration": 1113,
    "start_time": "2024-12-24T17:06:44.395Z"
   },
   {
    "duration": 6,
    "start_time": "2024-12-24T17:06:45.510Z"
   },
   {
    "duration": 29,
    "start_time": "2024-12-24T17:06:45.517Z"
   },
   {
    "duration": 3,
    "start_time": "2024-12-24T18:56:15.293Z"
   },
   {
    "duration": 479,
    "start_time": "2024-12-24T18:56:15.299Z"
   },
   {
    "duration": 194,
    "start_time": "2024-12-24T18:56:15.779Z"
   },
   {
    "duration": 15,
    "start_time": "2024-12-24T18:56:15.974Z"
   },
   {
    "duration": 18,
    "start_time": "2024-12-24T18:56:15.991Z"
   },
   {
    "duration": 10,
    "start_time": "2024-12-24T18:56:16.010Z"
   },
   {
    "duration": 12,
    "start_time": "2024-12-24T18:56:16.022Z"
   },
   {
    "duration": 27,
    "start_time": "2024-12-24T18:56:16.035Z"
   },
   {
    "duration": 14,
    "start_time": "2024-12-24T18:56:16.063Z"
   },
   {
    "duration": 3,
    "start_time": "2024-12-24T18:56:16.078Z"
   },
   {
    "duration": 20,
    "start_time": "2024-12-24T18:56:16.082Z"
   },
   {
    "duration": 7,
    "start_time": "2024-12-24T18:56:16.103Z"
   },
   {
    "duration": 8,
    "start_time": "2024-12-24T18:56:16.111Z"
   },
   {
    "duration": 5,
    "start_time": "2024-12-24T18:56:16.122Z"
   },
   {
    "duration": 3,
    "start_time": "2024-12-24T18:56:16.128Z"
   },
   {
    "duration": 21,
    "start_time": "2024-12-24T18:56:16.133Z"
   },
   {
    "duration": 9,
    "start_time": "2024-12-24T18:56:16.155Z"
   },
   {
    "duration": 11,
    "start_time": "2024-12-24T18:56:16.165Z"
   },
   {
    "duration": 49,
    "start_time": "2024-12-24T20:23:58.105Z"
   },
   {
    "duration": 3,
    "start_time": "2024-12-24T20:24:04.044Z"
   },
   {
    "duration": 426,
    "start_time": "2024-12-24T20:24:04.050Z"
   },
   {
    "duration": 177,
    "start_time": "2024-12-24T20:24:04.477Z"
   },
   {
    "duration": 16,
    "start_time": "2024-12-24T20:24:04.656Z"
   },
   {
    "duration": 21,
    "start_time": "2024-12-24T20:24:04.675Z"
   },
   {
    "duration": 114,
    "start_time": "2024-12-24T20:24:04.698Z"
   },
   {
    "duration": 23,
    "start_time": "2024-12-24T20:24:04.815Z"
   },
   {
    "duration": 13,
    "start_time": "2024-12-24T20:24:04.840Z"
   },
   {
    "duration": 14,
    "start_time": "2024-12-24T20:24:04.855Z"
   },
   {
    "duration": 48,
    "start_time": "2024-12-24T20:24:04.871Z"
   },
   {
    "duration": 7,
    "start_time": "2024-12-24T20:24:04.921Z"
   },
   {
    "duration": 9,
    "start_time": "2024-12-24T20:24:04.929Z"
   },
   {
    "duration": 33,
    "start_time": "2024-12-24T20:24:04.939Z"
   },
   {
    "duration": 13,
    "start_time": "2024-12-24T20:24:04.975Z"
   },
   {
    "duration": 12,
    "start_time": "2024-12-24T20:24:04.990Z"
   },
   {
    "duration": 4,
    "start_time": "2024-12-24T20:24:05.003Z"
   },
   {
    "duration": 26,
    "start_time": "2024-12-24T20:24:05.009Z"
   },
   {
    "duration": 47,
    "start_time": "2024-12-24T20:24:05.036Z"
   },
   {
    "duration": 6,
    "start_time": "2024-12-24T20:26:37.343Z"
   },
   {
    "duration": 78,
    "start_time": "2024-12-24T20:30:27.232Z"
   },
   {
    "duration": 81,
    "start_time": "2024-12-24T20:30:33.663Z"
   },
   {
    "duration": 64,
    "start_time": "2024-12-24T20:30:42.283Z"
   },
   {
    "duration": 18,
    "start_time": "2024-12-24T20:31:12.484Z"
   },
   {
    "duration": 32,
    "start_time": "2024-12-24T20:33:24.927Z"
   },
   {
    "duration": 77,
    "start_time": "2024-12-24T20:33:59.843Z"
   },
   {
    "duration": 5,
    "start_time": "2024-12-24T20:36:48.273Z"
   },
   {
    "duration": 13,
    "start_time": "2024-12-24T20:37:11.193Z"
   },
   {
    "duration": 80,
    "start_time": "2024-12-24T20:44:00.491Z"
   },
   {
    "duration": 60,
    "start_time": "2024-12-24T20:44:08.852Z"
   },
   {
    "duration": 31,
    "start_time": "2024-12-24T20:44:16.034Z"
   },
   {
    "duration": 25,
    "start_time": "2024-12-24T20:44:39.235Z"
   },
   {
    "duration": 48,
    "start_time": "2024-12-24T20:45:21.704Z"
   },
   {
    "duration": 23,
    "start_time": "2024-12-24T20:45:23.614Z"
   },
   {
    "duration": 28,
    "start_time": "2024-12-24T20:49:05.623Z"
   },
   {
    "duration": 4,
    "start_time": "2024-12-24T20:51:04.874Z"
   },
   {
    "duration": 2,
    "start_time": "2024-12-24T20:53:55.344Z"
   },
   {
    "duration": 4,
    "start_time": "2024-12-24T20:54:14.414Z"
   },
   {
    "duration": 3,
    "start_time": "2024-12-24T20:54:19.375Z"
   },
   {
    "duration": 354,
    "start_time": "2024-12-24T20:54:19.381Z"
   },
   {
    "duration": 280,
    "start_time": "2024-12-24T20:54:19.736Z"
   },
   {
    "duration": 14,
    "start_time": "2024-12-24T20:54:20.018Z"
   },
   {
    "duration": 90,
    "start_time": "2024-12-24T20:54:20.034Z"
   },
   {
    "duration": 11,
    "start_time": "2024-12-24T20:54:20.126Z"
   },
   {
    "duration": 47,
    "start_time": "2024-12-24T20:54:20.138Z"
   },
   {
    "duration": 58,
    "start_time": "2024-12-24T20:54:20.187Z"
   },
   {
    "duration": 31,
    "start_time": "2024-12-24T20:54:20.247Z"
   },
   {
    "duration": 4,
    "start_time": "2024-12-24T20:54:20.280Z"
   },
   {
    "duration": 6,
    "start_time": "2024-12-24T20:54:20.285Z"
   },
   {
    "duration": 11,
    "start_time": "2024-12-24T20:54:20.293Z"
   },
   {
    "duration": 10,
    "start_time": "2024-12-24T20:54:20.306Z"
   },
   {
    "duration": 12,
    "start_time": "2024-12-24T20:54:20.318Z"
   },
   {
    "duration": 12,
    "start_time": "2024-12-24T20:54:20.332Z"
   },
   {
    "duration": 3,
    "start_time": "2024-12-24T20:54:20.346Z"
   },
   {
    "duration": 14,
    "start_time": "2024-12-24T20:54:20.351Z"
   },
   {
    "duration": 8,
    "start_time": "2024-12-24T20:54:20.367Z"
   },
   {
    "duration": 23,
    "start_time": "2024-12-24T20:54:20.377Z"
   },
   {
    "duration": 6,
    "start_time": "2024-12-24T20:54:20.401Z"
   },
   {
    "duration": 37,
    "start_time": "2024-12-24T20:54:20.408Z"
   },
   {
    "duration": 30,
    "start_time": "2024-12-24T20:54:20.447Z"
   },
   {
    "duration": 4,
    "start_time": "2024-12-24T20:54:20.479Z"
   },
   {
    "duration": 4,
    "start_time": "2024-12-24T20:55:37.983Z"
   },
   {
    "duration": 4,
    "start_time": "2024-12-24T20:56:00.733Z"
   },
   {
    "duration": 3624,
    "start_time": "2024-12-25T09:40:53.328Z"
   },
   {
    "duration": 2586,
    "start_time": "2024-12-25T09:41:11.183Z"
   },
   {
    "duration": 445,
    "start_time": "2024-12-25T09:41:13.771Z"
   },
   {
    "duration": 198,
    "start_time": "2024-12-25T09:41:14.218Z"
   },
   {
    "duration": 14,
    "start_time": "2024-12-25T09:41:14.418Z"
   },
   {
    "duration": 20,
    "start_time": "2024-12-25T09:41:14.435Z"
   },
   {
    "duration": 11,
    "start_time": "2024-12-25T09:41:14.457Z"
   },
   {
    "duration": 61,
    "start_time": "2024-12-25T09:41:14.470Z"
   },
   {
    "duration": 29,
    "start_time": "2024-12-25T09:41:14.532Z"
   },
   {
    "duration": 37,
    "start_time": "2024-12-25T09:41:14.563Z"
   },
   {
    "duration": 3,
    "start_time": "2024-12-25T09:41:14.602Z"
   },
   {
    "duration": 5,
    "start_time": "2024-12-25T09:41:14.607Z"
   },
   {
    "duration": 15,
    "start_time": "2024-12-25T09:41:14.613Z"
   },
   {
    "duration": 12,
    "start_time": "2024-12-25T09:41:14.630Z"
   },
   {
    "duration": 9,
    "start_time": "2024-12-25T09:41:14.645Z"
   },
   {
    "duration": 6,
    "start_time": "2024-12-25T09:41:14.656Z"
   },
   {
    "duration": 19,
    "start_time": "2024-12-25T09:41:14.663Z"
   },
   {
    "duration": 8,
    "start_time": "2024-12-25T09:41:14.684Z"
   },
   {
    "duration": 4,
    "start_time": "2024-12-25T09:41:14.694Z"
   },
   {
    "duration": 17,
    "start_time": "2024-12-25T09:41:14.700Z"
   },
   {
    "duration": 6,
    "start_time": "2024-12-25T09:41:14.718Z"
   },
   {
    "duration": 22,
    "start_time": "2024-12-25T09:41:14.725Z"
   },
   {
    "duration": 55,
    "start_time": "2024-12-25T09:41:14.749Z"
   },
   {
    "duration": 4,
    "start_time": "2024-12-25T09:41:14.805Z"
   },
   {
    "duration": 7,
    "start_time": "2024-12-25T09:41:14.810Z"
   },
   {
    "duration": 13,
    "start_time": "2024-12-25T09:41:14.819Z"
   },
   {
    "duration": 6,
    "start_time": "2024-12-25T09:42:23.548Z"
   },
   {
    "duration": 88,
    "start_time": "2024-12-25T09:47:44.966Z"
   },
   {
    "duration": 707,
    "start_time": "2024-12-25T09:48:48.156Z"
   },
   {
    "duration": 4,
    "start_time": "2024-12-25T09:49:44.726Z"
   },
   {
    "duration": 2642,
    "start_time": "2024-12-25T09:49:50.719Z"
   },
   {
    "duration": 439,
    "start_time": "2024-12-25T09:49:53.363Z"
   },
   {
    "duration": 282,
    "start_time": "2024-12-25T09:49:53.803Z"
   },
   {
    "duration": 170,
    "start_time": "2024-12-25T09:49:54.088Z"
   },
   {
    "duration": 18,
    "start_time": "2024-12-25T09:49:54.261Z"
   },
   {
    "duration": 22,
    "start_time": "2024-12-25T09:49:54.283Z"
   },
   {
    "duration": 11,
    "start_time": "2024-12-25T09:49:54.307Z"
   },
   {
    "duration": 66,
    "start_time": "2024-12-25T09:49:54.320Z"
   },
   {
    "duration": 79,
    "start_time": "2024-12-25T09:49:54.388Z"
   },
   {
    "duration": 36,
    "start_time": "2024-12-25T09:49:54.469Z"
   },
   {
    "duration": 18,
    "start_time": "2024-12-25T09:49:54.507Z"
   },
   {
    "duration": 28,
    "start_time": "2024-12-25T09:49:54.526Z"
   },
   {
    "duration": 34,
    "start_time": "2024-12-25T09:49:54.556Z"
   },
   {
    "duration": 11,
    "start_time": "2024-12-25T09:49:54.594Z"
   },
   {
    "duration": 13,
    "start_time": "2024-12-25T09:49:54.606Z"
   },
   {
    "duration": 8,
    "start_time": "2024-12-25T09:49:54.620Z"
   },
   {
    "duration": 3,
    "start_time": "2024-12-25T09:49:54.630Z"
   },
   {
    "duration": 13,
    "start_time": "2024-12-25T09:49:54.635Z"
   },
   {
    "duration": 33,
    "start_time": "2024-12-25T09:49:54.649Z"
   },
   {
    "duration": 34,
    "start_time": "2024-12-25T09:49:54.684Z"
   },
   {
    "duration": 24,
    "start_time": "2024-12-25T09:49:54.720Z"
   },
   {
    "duration": 38,
    "start_time": "2024-12-25T09:49:54.746Z"
   },
   {
    "duration": 34,
    "start_time": "2024-12-25T09:49:54.786Z"
   },
   {
    "duration": 16,
    "start_time": "2024-12-25T09:49:54.822Z"
   },
   {
    "duration": 17,
    "start_time": "2024-12-25T09:49:54.839Z"
   },
   {
    "duration": 24,
    "start_time": "2024-12-25T09:49:54.858Z"
   },
   {
    "duration": 21,
    "start_time": "2024-12-25T09:49:54.884Z"
   },
   {
    "duration": 183,
    "start_time": "2024-12-25T09:49:54.906Z"
   },
   {
    "duration": 177,
    "start_time": "2024-12-25T09:51:26.536Z"
   },
   {
    "duration": 12,
    "start_time": "2024-12-25T10:02:30.107Z"
   },
   {
    "duration": 8,
    "start_time": "2024-12-25T10:02:39.166Z"
   },
   {
    "duration": 211,
    "start_time": "2024-12-25T10:05:39.368Z"
   },
   {
    "duration": 221,
    "start_time": "2024-12-25T10:05:51.326Z"
   },
   {
    "duration": 272,
    "start_time": "2024-12-25T10:06:02.834Z"
   },
   {
    "duration": 5,
    "start_time": "2024-12-25T10:09:53.227Z"
   },
   {
    "duration": 177,
    "start_time": "2024-12-25T10:11:42.583Z"
   },
   {
    "duration": 298,
    "start_time": "2024-12-25T10:15:43.296Z"
   },
   {
    "duration": 230,
    "start_time": "2024-12-25T10:16:29.496Z"
   },
   {
    "duration": 248,
    "start_time": "2024-12-25T10:16:58.156Z"
   },
   {
    "duration": 137,
    "start_time": "2024-12-25T10:17:38.963Z"
   },
   {
    "duration": 230,
    "start_time": "2024-12-25T10:17:52.795Z"
   },
   {
    "duration": 231,
    "start_time": "2024-12-25T10:18:17.664Z"
   },
   {
    "duration": 241,
    "start_time": "2024-12-25T10:18:42.124Z"
   },
   {
    "duration": 238,
    "start_time": "2024-12-25T10:18:50.664Z"
   },
   {
    "duration": 233,
    "start_time": "2024-12-25T10:18:58.653Z"
   },
   {
    "duration": 8,
    "start_time": "2024-12-25T10:23:18.042Z"
   },
   {
    "duration": 564,
    "start_time": "2024-12-25T10:23:25.914Z"
   },
   {
    "duration": 2666,
    "start_time": "2024-12-25T10:23:30.753Z"
   },
   {
    "duration": 1201,
    "start_time": "2024-12-25T10:23:33.421Z"
   },
   {
    "duration": 2,
    "start_time": "2024-12-25T10:23:34.624Z"
   },
   {
    "duration": 18,
    "start_time": "2024-12-25T10:23:34.628Z"
   },
   {
    "duration": 211,
    "start_time": "2024-12-25T10:23:34.648Z"
   },
   {
    "duration": 23,
    "start_time": "2024-12-25T10:23:34.861Z"
   },
   {
    "duration": 37,
    "start_time": "2024-12-25T10:23:34.886Z"
   },
   {
    "duration": 29,
    "start_time": "2024-12-25T10:23:34.925Z"
   },
   {
    "duration": 37,
    "start_time": "2024-12-25T10:23:34.956Z"
   },
   {
    "duration": 40,
    "start_time": "2024-12-25T10:23:34.995Z"
   },
   {
    "duration": 45,
    "start_time": "2024-12-25T10:23:35.037Z"
   },
   {
    "duration": 9,
    "start_time": "2024-12-25T10:23:35.084Z"
   },
   {
    "duration": 57,
    "start_time": "2024-12-25T10:23:35.094Z"
   },
   {
    "duration": 55,
    "start_time": "2024-12-25T10:23:35.154Z"
   },
   {
    "duration": 61,
    "start_time": "2024-12-25T10:23:35.211Z"
   },
   {
    "duration": 13,
    "start_time": "2024-12-25T10:23:35.274Z"
   },
   {
    "duration": 8,
    "start_time": "2024-12-25T10:23:35.289Z"
   },
   {
    "duration": 23,
    "start_time": "2024-12-25T10:23:35.298Z"
   },
   {
    "duration": 21,
    "start_time": "2024-12-25T10:23:35.323Z"
   },
   {
    "duration": 35,
    "start_time": "2024-12-25T10:23:35.347Z"
   },
   {
    "duration": 17,
    "start_time": "2024-12-25T10:23:35.383Z"
   },
   {
    "duration": 26,
    "start_time": "2024-12-25T10:23:35.401Z"
   },
   {
    "duration": 53,
    "start_time": "2024-12-25T10:23:35.428Z"
   },
   {
    "duration": 34,
    "start_time": "2024-12-25T10:23:35.483Z"
   },
   {
    "duration": 4,
    "start_time": "2024-12-25T10:23:35.519Z"
   },
   {
    "duration": 62,
    "start_time": "2024-12-25T10:23:35.524Z"
   },
   {
    "duration": 54,
    "start_time": "2024-12-25T10:23:35.588Z"
   },
   {
    "duration": 46,
    "start_time": "2024-12-25T10:23:35.644Z"
   },
   {
    "duration": 245,
    "start_time": "2024-12-25T10:23:35.691Z"
   },
   {
    "duration": 7,
    "start_time": "2024-12-25T10:23:35.937Z"
   },
   {
    "duration": 261,
    "start_time": "2024-12-25T10:23:35.945Z"
   },
   {
    "duration": 2,
    "start_time": "2024-12-25T10:23:36.208Z"
   },
   {
    "duration": 13,
    "start_time": "2024-12-25T10:36:30.394Z"
   },
   {
    "duration": 139,
    "start_time": "2024-12-25T10:37:24.123Z"
   },
   {
    "duration": 13,
    "start_time": "2024-12-25T10:37:35.224Z"
   },
   {
    "duration": 14,
    "start_time": "2024-12-25T10:37:43.115Z"
   },
   {
    "duration": 9,
    "start_time": "2024-12-25T10:37:49.823Z"
   },
   {
    "duration": 5,
    "start_time": "2024-12-25T10:38:07.431Z"
   },
   {
    "duration": 4,
    "start_time": "2024-12-25T10:38:09.883Z"
   },
   {
    "duration": 7,
    "start_time": "2024-12-25T10:38:17.430Z"
   },
   {
    "duration": 3,
    "start_time": "2024-12-25T10:45:33.563Z"
   },
   {
    "duration": 2714,
    "start_time": "2024-12-25T11:00:15.717Z"
   },
   {
    "duration": 1160,
    "start_time": "2024-12-25T11:00:18.434Z"
   },
   {
    "duration": 2,
    "start_time": "2024-12-25T11:00:19.596Z"
   },
   {
    "duration": 12,
    "start_time": "2024-12-25T11:00:19.599Z"
   },
   {
    "duration": 216,
    "start_time": "2024-12-25T11:00:19.612Z"
   },
   {
    "duration": 14,
    "start_time": "2024-12-25T11:00:19.830Z"
   },
   {
    "duration": 42,
    "start_time": "2024-12-25T11:00:19.845Z"
   },
   {
    "duration": 24,
    "start_time": "2024-12-25T11:00:19.888Z"
   },
   {
    "duration": 21,
    "start_time": "2024-12-25T11:00:19.914Z"
   },
   {
    "duration": 27,
    "start_time": "2024-12-25T11:00:19.936Z"
   },
   {
    "duration": 38,
    "start_time": "2024-12-25T11:00:19.965Z"
   },
   {
    "duration": 22,
    "start_time": "2024-12-25T11:00:20.005Z"
   },
   {
    "duration": 49,
    "start_time": "2024-12-25T11:00:20.028Z"
   },
   {
    "duration": 28,
    "start_time": "2024-12-25T11:00:20.084Z"
   },
   {
    "duration": 30,
    "start_time": "2024-12-25T11:00:20.114Z"
   },
   {
    "duration": 41,
    "start_time": "2024-12-25T11:00:20.147Z"
   },
   {
    "duration": 26,
    "start_time": "2024-12-25T11:00:20.190Z"
   },
   {
    "duration": 101,
    "start_time": "2024-12-25T11:00:20.217Z"
   },
   {
    "duration": 29,
    "start_time": "2024-12-25T11:00:20.319Z"
   },
   {
    "duration": 41,
    "start_time": "2024-12-25T11:00:20.350Z"
   },
   {
    "duration": 37,
    "start_time": "2024-12-25T11:00:20.393Z"
   },
   {
    "duration": 16,
    "start_time": "2024-12-25T11:00:20.431Z"
   },
   {
    "duration": 55,
    "start_time": "2024-12-25T11:00:20.448Z"
   },
   {
    "duration": 35,
    "start_time": "2024-12-25T11:00:20.504Z"
   },
   {
    "duration": 4,
    "start_time": "2024-12-25T11:00:20.540Z"
   },
   {
    "duration": 28,
    "start_time": "2024-12-25T11:00:20.545Z"
   },
   {
    "duration": 20,
    "start_time": "2024-12-25T11:00:20.583Z"
   },
   {
    "duration": 8,
    "start_time": "2024-12-25T11:00:20.605Z"
   },
   {
    "duration": 224,
    "start_time": "2024-12-25T11:00:20.615Z"
   },
   {
    "duration": 8,
    "start_time": "2024-12-25T11:00:20.840Z"
   },
   {
    "duration": 241,
    "start_time": "2024-12-25T11:00:20.850Z"
   },
   {
    "duration": 109,
    "start_time": "2024-12-25T11:00:21.093Z"
   },
   {
    "duration": 0,
    "start_time": "2024-12-25T11:00:21.203Z"
   },
   {
    "duration": 0,
    "start_time": "2024-12-25T11:00:21.204Z"
   },
   {
    "duration": 2685,
    "start_time": "2024-12-25T11:01:03.453Z"
   },
   {
    "duration": 1158,
    "start_time": "2024-12-25T11:01:06.140Z"
   },
   {
    "duration": 3,
    "start_time": "2024-12-25T11:01:07.299Z"
   },
   {
    "duration": 4,
    "start_time": "2024-12-25T11:01:07.304Z"
   },
   {
    "duration": 344,
    "start_time": "2024-12-25T11:01:07.309Z"
   },
   {
    "duration": 14,
    "start_time": "2024-12-25T11:01:07.655Z"
   },
   {
    "duration": 17,
    "start_time": "2024-12-25T11:01:07.683Z"
   },
   {
    "duration": 10,
    "start_time": "2024-12-25T11:01:07.702Z"
   },
   {
    "duration": 44,
    "start_time": "2024-12-25T11:01:07.714Z"
   },
   {
    "duration": 20,
    "start_time": "2024-12-25T11:01:07.761Z"
   },
   {
    "duration": 28,
    "start_time": "2024-12-25T11:01:07.784Z"
   },
   {
    "duration": 4,
    "start_time": "2024-12-25T11:01:07.814Z"
   },
   {
    "duration": 11,
    "start_time": "2024-12-25T11:01:07.819Z"
   },
   {
    "duration": 16,
    "start_time": "2024-12-25T11:01:07.832Z"
   },
   {
    "duration": 10,
    "start_time": "2024-12-25T11:01:07.850Z"
   },
   {
    "duration": 21,
    "start_time": "2024-12-25T11:01:07.861Z"
   },
   {
    "duration": 7,
    "start_time": "2024-12-25T11:01:07.884Z"
   },
   {
    "duration": 12,
    "start_time": "2024-12-25T11:01:07.893Z"
   },
   {
    "duration": 14,
    "start_time": "2024-12-25T11:01:07.906Z"
   },
   {
    "duration": 16,
    "start_time": "2024-12-25T11:01:07.922Z"
   },
   {
    "duration": 19,
    "start_time": "2024-12-25T11:01:07.940Z"
   },
   {
    "duration": 5,
    "start_time": "2024-12-25T11:01:07.961Z"
   },
   {
    "duration": 30,
    "start_time": "2024-12-25T11:01:07.967Z"
   },
   {
    "duration": 33,
    "start_time": "2024-12-25T11:01:07.999Z"
   },
   {
    "duration": 3,
    "start_time": "2024-12-25T11:01:08.034Z"
   },
   {
    "duration": 13,
    "start_time": "2024-12-25T11:01:08.039Z"
   },
   {
    "duration": 29,
    "start_time": "2024-12-25T11:01:08.053Z"
   },
   {
    "duration": 6,
    "start_time": "2024-12-25T11:01:08.086Z"
   },
   {
    "duration": 195,
    "start_time": "2024-12-25T11:01:08.093Z"
   },
   {
    "duration": 7,
    "start_time": "2024-12-25T11:01:08.290Z"
   },
   {
    "duration": 257,
    "start_time": "2024-12-25T11:01:08.298Z"
   },
   {
    "duration": 80,
    "start_time": "2024-12-25T11:01:08.557Z"
   },
   {
    "duration": 0,
    "start_time": "2024-12-25T11:01:08.638Z"
   },
   {
    "duration": 0,
    "start_time": "2024-12-25T11:01:08.640Z"
   },
   {
    "duration": 2708,
    "start_time": "2024-12-25T11:05:12.796Z"
   },
   {
    "duration": 1298,
    "start_time": "2024-12-25T11:05:15.506Z"
   },
   {
    "duration": 3,
    "start_time": "2024-12-25T11:05:16.805Z"
   },
   {
    "duration": 22,
    "start_time": "2024-12-25T11:05:16.809Z"
   },
   {
    "duration": 175,
    "start_time": "2024-12-25T11:05:16.834Z"
   },
   {
    "duration": 15,
    "start_time": "2024-12-25T11:05:17.011Z"
   },
   {
    "duration": 17,
    "start_time": "2024-12-25T11:05:17.027Z"
   },
   {
    "duration": 11,
    "start_time": "2024-12-25T11:05:17.045Z"
   },
   {
    "duration": 23,
    "start_time": "2024-12-25T11:05:17.058Z"
   },
   {
    "duration": 12,
    "start_time": "2024-12-25T11:05:17.083Z"
   },
   {
    "duration": 14,
    "start_time": "2024-12-25T11:05:17.096Z"
   },
   {
    "duration": 15,
    "start_time": "2024-12-25T11:05:17.112Z"
   },
   {
    "duration": 28,
    "start_time": "2024-12-25T11:05:17.129Z"
   },
   {
    "duration": 25,
    "start_time": "2024-12-25T11:05:17.160Z"
   },
   {
    "duration": 27,
    "start_time": "2024-12-25T11:05:17.187Z"
   },
   {
    "duration": 18,
    "start_time": "2024-12-25T11:05:17.216Z"
   },
   {
    "duration": 18,
    "start_time": "2024-12-25T11:05:17.236Z"
   },
   {
    "duration": 19,
    "start_time": "2024-12-25T11:05:17.256Z"
   },
   {
    "duration": 45,
    "start_time": "2024-12-25T11:05:17.276Z"
   },
   {
    "duration": 61,
    "start_time": "2024-12-25T11:05:17.323Z"
   },
   {
    "duration": 32,
    "start_time": "2024-12-25T11:05:17.386Z"
   },
   {
    "duration": 6,
    "start_time": "2024-12-25T11:05:17.419Z"
   },
   {
    "duration": 35,
    "start_time": "2024-12-25T11:05:17.426Z"
   },
   {
    "duration": 42,
    "start_time": "2024-12-25T11:05:17.463Z"
   },
   {
    "duration": 4,
    "start_time": "2024-12-25T11:05:17.506Z"
   },
   {
    "duration": 37,
    "start_time": "2024-12-25T11:05:17.512Z"
   },
   {
    "duration": 6,
    "start_time": "2024-12-25T11:05:17.550Z"
   },
   {
    "duration": 13,
    "start_time": "2024-12-25T11:05:17.558Z"
   },
   {
    "duration": 210,
    "start_time": "2024-12-25T11:05:17.572Z"
   },
   {
    "duration": 7,
    "start_time": "2024-12-25T11:05:17.784Z"
   },
   {
    "duration": 228,
    "start_time": "2024-12-25T11:05:17.792Z"
   },
   {
    "duration": 58,
    "start_time": "2024-12-25T11:05:38.753Z"
   },
   {
    "duration": 2715,
    "start_time": "2024-12-25T11:05:45.215Z"
   },
   {
    "duration": 1239,
    "start_time": "2024-12-25T11:05:47.933Z"
   },
   {
    "duration": 3,
    "start_time": "2024-12-25T11:05:49.183Z"
   },
   {
    "duration": 17,
    "start_time": "2024-12-25T11:05:49.188Z"
   },
   {
    "duration": 205,
    "start_time": "2024-12-25T11:05:49.207Z"
   },
   {
    "duration": 14,
    "start_time": "2024-12-25T11:05:49.413Z"
   },
   {
    "duration": 40,
    "start_time": "2024-12-25T11:05:49.429Z"
   },
   {
    "duration": 14,
    "start_time": "2024-12-25T11:05:49.472Z"
   },
   {
    "duration": 11,
    "start_time": "2024-12-25T11:05:49.487Z"
   },
   {
    "duration": 11,
    "start_time": "2024-12-25T11:05:49.501Z"
   },
   {
    "duration": 13,
    "start_time": "2024-12-25T11:05:49.514Z"
   },
   {
    "duration": 4,
    "start_time": "2024-12-25T11:05:49.529Z"
   },
   {
    "duration": 49,
    "start_time": "2024-12-25T11:05:49.534Z"
   },
   {
    "duration": 4,
    "start_time": "2024-12-25T11:05:49.585Z"
   },
   {
    "duration": 10,
    "start_time": "2024-12-25T11:05:49.591Z"
   },
   {
    "duration": 10,
    "start_time": "2024-12-25T11:05:49.602Z"
   },
   {
    "duration": 9,
    "start_time": "2024-12-25T11:05:49.614Z"
   },
   {
    "duration": 3,
    "start_time": "2024-12-25T11:05:49.625Z"
   },
   {
    "duration": 8,
    "start_time": "2024-12-25T11:05:49.629Z"
   },
   {
    "duration": 4,
    "start_time": "2024-12-25T11:05:49.639Z"
   },
   {
    "duration": 42,
    "start_time": "2024-12-25T11:05:49.645Z"
   },
   {
    "duration": 6,
    "start_time": "2024-12-25T11:05:49.688Z"
   },
   {
    "duration": 26,
    "start_time": "2024-12-25T11:05:49.696Z"
   },
   {
    "duration": 59,
    "start_time": "2024-12-25T11:05:49.724Z"
   },
   {
    "duration": 4,
    "start_time": "2024-12-25T11:05:49.785Z"
   },
   {
    "duration": 6,
    "start_time": "2024-12-25T11:05:49.791Z"
   },
   {
    "duration": 8,
    "start_time": "2024-12-25T11:05:49.798Z"
   },
   {
    "duration": 7,
    "start_time": "2024-12-25T11:05:49.810Z"
   },
   {
    "duration": 217,
    "start_time": "2024-12-25T11:05:49.819Z"
   },
   {
    "duration": 8,
    "start_time": "2024-12-25T11:05:50.038Z"
   },
   {
    "duration": 264,
    "start_time": "2024-12-25T11:05:50.048Z"
   },
   {
    "duration": 0,
    "start_time": "2024-12-25T11:07:54.723Z"
   },
   {
    "duration": 0,
    "start_time": "2024-12-25T11:07:54.724Z"
   },
   {
    "duration": 0,
    "start_time": "2024-12-25T11:07:54.730Z"
   },
   {
    "duration": 0,
    "start_time": "2024-12-25T11:07:54.732Z"
   },
   {
    "duration": 1062,
    "start_time": "2024-12-25T11:07:57.382Z"
   },
   {
    "duration": 152,
    "start_time": "2024-12-25T11:10:17.244Z"
   },
   {
    "duration": 68894,
    "start_time": "2024-12-25T11:10:32.444Z"
   },
   {
    "duration": 0,
    "start_time": "2024-12-25T11:11:41.341Z"
   },
   {
    "duration": 16,
    "start_time": "2024-12-25T11:11:42.254Z"
   },
   {
    "duration": 13,
    "start_time": "2024-12-25T11:11:56.915Z"
   },
   {
    "duration": 263,
    "start_time": "2024-12-25T11:12:08.023Z"
   },
   {
    "duration": 284,
    "start_time": "2024-12-25T11:12:53.083Z"
   },
   {
    "duration": 291,
    "start_time": "2024-12-25T11:13:31.125Z"
   },
   {
    "duration": 229,
    "start_time": "2024-12-25T11:15:57.003Z"
   },
   {
    "duration": 135,
    "start_time": "2024-12-25T11:16:20.284Z"
   },
   {
    "duration": 223,
    "start_time": "2024-12-25T11:17:12.644Z"
   },
   {
    "duration": 225,
    "start_time": "2024-12-25T11:17:19.544Z"
   },
   {
    "duration": 2646,
    "start_time": "2024-12-25T11:29:48.587Z"
   },
   {
    "duration": 1230,
    "start_time": "2024-12-25T11:29:51.235Z"
   },
   {
    "duration": 11,
    "start_time": "2024-12-25T11:29:52.466Z"
   },
   {
    "duration": 16,
    "start_time": "2024-12-25T11:29:52.479Z"
   },
   {
    "duration": 290,
    "start_time": "2024-12-25T11:29:52.497Z"
   },
   {
    "duration": 16,
    "start_time": "2024-12-25T11:29:52.789Z"
   },
   {
    "duration": 23,
    "start_time": "2024-12-25T11:29:52.806Z"
   },
   {
    "duration": 12,
    "start_time": "2024-12-25T11:29:52.832Z"
   },
   {
    "duration": 37,
    "start_time": "2024-12-25T11:29:52.846Z"
   },
   {
    "duration": 10,
    "start_time": "2024-12-25T11:29:52.885Z"
   },
   {
    "duration": 54,
    "start_time": "2024-12-25T11:29:52.897Z"
   },
   {
    "duration": 4,
    "start_time": "2024-12-25T11:29:52.953Z"
   },
   {
    "duration": 13,
    "start_time": "2024-12-25T11:29:52.958Z"
   },
   {
    "duration": 17,
    "start_time": "2024-12-25T11:29:52.974Z"
   },
   {
    "duration": 19,
    "start_time": "2024-12-25T11:29:52.993Z"
   },
   {
    "duration": 12,
    "start_time": "2024-12-25T11:29:53.014Z"
   },
   {
    "duration": 15,
    "start_time": "2024-12-25T11:29:53.027Z"
   },
   {
    "duration": 37,
    "start_time": "2024-12-25T11:29:53.044Z"
   },
   {
    "duration": 21,
    "start_time": "2024-12-25T11:29:53.084Z"
   },
   {
    "duration": 51,
    "start_time": "2024-12-25T11:29:53.108Z"
   },
   {
    "duration": 38,
    "start_time": "2024-12-25T11:29:53.161Z"
   },
   {
    "duration": 5,
    "start_time": "2024-12-25T11:29:53.201Z"
   },
   {
    "duration": 25,
    "start_time": "2024-12-25T11:29:53.208Z"
   },
   {
    "duration": 48,
    "start_time": "2024-12-25T11:29:53.235Z"
   },
   {
    "duration": 7,
    "start_time": "2024-12-25T11:29:53.286Z"
   },
   {
    "duration": 23,
    "start_time": "2024-12-25T11:29:53.294Z"
   },
   {
    "duration": 5,
    "start_time": "2024-12-25T11:29:53.319Z"
   },
   {
    "duration": 23,
    "start_time": "2024-12-25T11:29:53.326Z"
   },
   {
    "duration": 214,
    "start_time": "2024-12-25T11:29:53.351Z"
   },
   {
    "duration": 9,
    "start_time": "2024-12-25T11:29:53.567Z"
   },
   {
    "duration": 263,
    "start_time": "2024-12-25T11:29:53.581Z"
   },
   {
    "duration": 153,
    "start_time": "2024-12-25T11:29:53.846Z"
   },
   {
    "duration": 241,
    "start_time": "2024-12-25T11:29:54.001Z"
   },
   {
    "duration": 120,
    "start_time": "2024-12-25T11:40:16.327Z"
   },
   {
    "duration": 21,
    "start_time": "2024-12-25T11:41:44.524Z"
   },
   {
    "duration": 18,
    "start_time": "2024-12-25T11:42:14.990Z"
   },
   {
    "duration": 19,
    "start_time": "2024-12-25T11:43:06.512Z"
   },
   {
    "duration": 12,
    "start_time": "2024-12-25T11:57:01.203Z"
   },
   {
    "duration": 7,
    "start_time": "2024-12-25T11:57:11.284Z"
   },
   {
    "duration": 8,
    "start_time": "2024-12-25T11:57:13.930Z"
   },
   {
    "duration": 14,
    "start_time": "2024-12-25T11:57:21.190Z"
   },
   {
    "duration": 20,
    "start_time": "2024-12-25T11:58:40.863Z"
   },
   {
    "duration": 20,
    "start_time": "2024-12-25T12:00:53.870Z"
   },
   {
    "duration": 156,
    "start_time": "2024-12-25T12:03:04.187Z"
   },
   {
    "duration": 182,
    "start_time": "2024-12-25T12:03:16.463Z"
   },
   {
    "duration": 50,
    "start_time": "2024-12-25T17:59:43.910Z"
   },
   {
    "duration": 4048,
    "start_time": "2024-12-25T17:59:49.689Z"
   },
   {
    "duration": 1358,
    "start_time": "2024-12-25T17:59:53.739Z"
   },
   {
    "duration": 3,
    "start_time": "2024-12-25T17:59:55.099Z"
   },
   {
    "duration": 9,
    "start_time": "2024-12-25T17:59:55.103Z"
   },
   {
    "duration": 247,
    "start_time": "2024-12-25T17:59:55.114Z"
   },
   {
    "duration": 15,
    "start_time": "2024-12-25T17:59:55.362Z"
   },
   {
    "duration": 31,
    "start_time": "2024-12-25T17:59:55.378Z"
   },
   {
    "duration": 11,
    "start_time": "2024-12-25T17:59:55.411Z"
   },
   {
    "duration": 28,
    "start_time": "2024-12-25T17:59:55.423Z"
   },
   {
    "duration": 36,
    "start_time": "2024-12-25T17:59:55.453Z"
   },
   {
    "duration": 35,
    "start_time": "2024-12-25T17:59:55.491Z"
   },
   {
    "duration": 88,
    "start_time": "2024-12-25T17:59:55.528Z"
   },
   {
    "duration": 19,
    "start_time": "2024-12-25T17:59:55.618Z"
   },
   {
    "duration": 26,
    "start_time": "2024-12-25T17:59:55.639Z"
   },
   {
    "duration": 27,
    "start_time": "2024-12-25T17:59:55.667Z"
   },
   {
    "duration": 22,
    "start_time": "2024-12-25T17:59:55.695Z"
   },
   {
    "duration": 8,
    "start_time": "2024-12-25T17:59:55.719Z"
   },
   {
    "duration": 3,
    "start_time": "2024-12-25T17:59:55.729Z"
   },
   {
    "duration": 18,
    "start_time": "2024-12-25T17:59:55.734Z"
   },
   {
    "duration": 26,
    "start_time": "2024-12-25T17:59:55.753Z"
   },
   {
    "duration": 29,
    "start_time": "2024-12-25T17:59:55.780Z"
   },
   {
    "duration": 16,
    "start_time": "2024-12-25T17:59:55.811Z"
   },
   {
    "duration": 21,
    "start_time": "2024-12-25T17:59:55.829Z"
   },
   {
    "duration": 33,
    "start_time": "2024-12-25T17:59:55.852Z"
   },
   {
    "duration": 4,
    "start_time": "2024-12-25T17:59:55.887Z"
   },
   {
    "duration": 14,
    "start_time": "2024-12-25T17:59:55.893Z"
   },
   {
    "duration": 4,
    "start_time": "2024-12-25T17:59:55.909Z"
   },
   {
    "duration": 27,
    "start_time": "2024-12-25T17:59:55.915Z"
   },
   {
    "duration": 183,
    "start_time": "2024-12-25T17:59:55.944Z"
   },
   {
    "duration": 11,
    "start_time": "2024-12-25T17:59:56.129Z"
   },
   {
    "duration": 215,
    "start_time": "2024-12-25T17:59:56.141Z"
   },
   {
    "duration": 10,
    "start_time": "2024-12-25T17:59:56.358Z"
   },
   {
    "duration": 176,
    "start_time": "2024-12-25T17:59:56.370Z"
   },
   {
    "duration": 127,
    "start_time": "2024-12-25T17:59:56.547Z"
   },
   {
    "duration": 228,
    "start_time": "2024-12-25T17:59:56.676Z"
   },
   {
    "duration": 10,
    "start_time": "2024-12-25T17:59:56.906Z"
   },
   {
    "duration": 203,
    "start_time": "2024-12-25T18:06:47.540Z"
   },
   {
    "duration": 158,
    "start_time": "2024-12-25T18:07:04.301Z"
   },
   {
    "duration": 140,
    "start_time": "2024-12-25T18:07:13.406Z"
   },
   {
    "duration": 241,
    "start_time": "2024-12-25T18:09:01.858Z"
   },
   {
    "duration": 97,
    "start_time": "2024-12-25T18:12:23.750Z"
   },
   {
    "duration": 2519,
    "start_time": "2024-12-25T18:14:59.911Z"
   },
   {
    "duration": 1167,
    "start_time": "2024-12-25T18:15:02.433Z"
   },
   {
    "duration": 3,
    "start_time": "2024-12-25T18:15:03.601Z"
   },
   {
    "duration": 28,
    "start_time": "2024-12-25T18:15:03.605Z"
   },
   {
    "duration": 215,
    "start_time": "2024-12-25T18:15:03.635Z"
   },
   {
    "duration": 15,
    "start_time": "2024-12-25T18:15:03.851Z"
   },
   {
    "duration": 59,
    "start_time": "2024-12-25T18:15:03.868Z"
   },
   {
    "duration": 19,
    "start_time": "2024-12-25T18:15:03.929Z"
   },
   {
    "duration": 27,
    "start_time": "2024-12-25T18:15:03.950Z"
   },
   {
    "duration": 14,
    "start_time": "2024-12-25T18:15:03.978Z"
   },
   {
    "duration": 14,
    "start_time": "2024-12-25T18:15:03.994Z"
   },
   {
    "duration": 16,
    "start_time": "2024-12-25T18:15:04.009Z"
   },
   {
    "duration": 18,
    "start_time": "2024-12-25T18:15:04.027Z"
   },
   {
    "duration": 30,
    "start_time": "2024-12-25T18:15:04.048Z"
   },
   {
    "duration": 13,
    "start_time": "2024-12-25T18:15:04.080Z"
   },
   {
    "duration": 17,
    "start_time": "2024-12-25T18:15:04.095Z"
   },
   {
    "duration": 8,
    "start_time": "2024-12-25T18:15:04.114Z"
   },
   {
    "duration": 18,
    "start_time": "2024-12-25T18:15:04.124Z"
   },
   {
    "duration": 50,
    "start_time": "2024-12-25T18:15:04.143Z"
   },
   {
    "duration": 22,
    "start_time": "2024-12-25T18:15:04.195Z"
   },
   {
    "duration": 6,
    "start_time": "2024-12-25T18:15:04.219Z"
   },
   {
    "duration": 21,
    "start_time": "2024-12-25T18:15:04.227Z"
   },
   {
    "duration": 39,
    "start_time": "2024-12-25T18:15:04.250Z"
   },
   {
    "duration": 4,
    "start_time": "2024-12-25T18:15:04.290Z"
   },
   {
    "duration": 4,
    "start_time": "2024-12-25T18:15:04.296Z"
   },
   {
    "duration": 10,
    "start_time": "2024-12-25T18:15:04.302Z"
   },
   {
    "duration": 6,
    "start_time": "2024-12-25T18:15:04.314Z"
   },
   {
    "duration": 192,
    "start_time": "2024-12-25T18:15:04.322Z"
   },
   {
    "duration": 7,
    "start_time": "2024-12-25T18:15:04.515Z"
   },
   {
    "duration": 226,
    "start_time": "2024-12-25T18:15:04.524Z"
   },
   {
    "duration": 9,
    "start_time": "2024-12-25T18:15:04.752Z"
   },
   {
    "duration": 163,
    "start_time": "2024-12-25T18:15:04.763Z"
   },
   {
    "duration": 127,
    "start_time": "2024-12-25T18:15:04.928Z"
   },
   {
    "duration": 207,
    "start_time": "2024-12-25T18:15:05.056Z"
   },
   {
    "duration": 7,
    "start_time": "2024-12-25T18:15:05.265Z"
   },
   {
    "duration": 175,
    "start_time": "2024-12-25T18:15:05.274Z"
   },
   {
    "duration": 105,
    "start_time": "2024-12-25T18:15:05.451Z"
   },
   {
    "duration": 152,
    "start_time": "2024-12-25T18:18:54.750Z"
   },
   {
    "duration": 161,
    "start_time": "2024-12-25T18:19:14.879Z"
   },
   {
    "duration": 252,
    "start_time": "2024-12-25T18:20:16.480Z"
   },
   {
    "duration": 104,
    "start_time": "2024-12-25T18:23:44.559Z"
   },
   {
    "duration": 2268,
    "start_time": "2024-12-25T18:31:11.871Z"
   },
   {
    "duration": 9,
    "start_time": "2024-12-25T18:37:36.888Z"
   },
   {
    "duration": 8,
    "start_time": "2024-12-25T18:37:48.410Z"
   },
   {
    "duration": 1278,
    "start_time": "2024-12-25T18:41:32.292Z"
   },
   {
    "duration": 7,
    "start_time": "2024-12-25T18:45:25.591Z"
   },
   {
    "duration": 11,
    "start_time": "2024-12-25T18:46:02.590Z"
   },
   {
    "duration": 6,
    "start_time": "2024-12-25T18:46:12.521Z"
   },
   {
    "duration": 10,
    "start_time": "2024-12-25T18:47:28.410Z"
   },
   {
    "duration": 8,
    "start_time": "2024-12-25T18:47:47.968Z"
   },
   {
    "duration": 151,
    "start_time": "2024-12-25T18:53:18.569Z"
   },
   {
    "duration": 302,
    "start_time": "2024-12-25T18:53:26.091Z"
   },
   {
    "duration": 140,
    "start_time": "2024-12-25T18:53:39.301Z"
   },
   {
    "duration": 158,
    "start_time": "2024-12-25T18:54:38.382Z"
   },
   {
    "duration": 170,
    "start_time": "2024-12-25T19:02:55.240Z"
   },
   {
    "duration": 2416,
    "start_time": "2024-12-25T19:17:57.615Z"
   },
   {
    "duration": 1199,
    "start_time": "2024-12-25T19:18:00.034Z"
   },
   {
    "duration": 3,
    "start_time": "2024-12-25T19:18:01.237Z"
   },
   {
    "duration": 71,
    "start_time": "2024-12-25T19:18:01.241Z"
   },
   {
    "duration": 229,
    "start_time": "2024-12-25T19:18:01.314Z"
   },
   {
    "duration": 16,
    "start_time": "2024-12-25T19:18:01.544Z"
   },
   {
    "duration": 43,
    "start_time": "2024-12-25T19:18:01.562Z"
   },
   {
    "duration": 22,
    "start_time": "2024-12-25T19:18:01.607Z"
   },
   {
    "duration": 40,
    "start_time": "2024-12-25T19:18:01.631Z"
   },
   {
    "duration": 34,
    "start_time": "2024-12-25T19:18:01.672Z"
   },
   {
    "duration": 27,
    "start_time": "2024-12-25T19:18:01.708Z"
   },
   {
    "duration": 82,
    "start_time": "2024-12-25T19:18:01.737Z"
   },
   {
    "duration": 82,
    "start_time": "2024-12-25T19:18:01.821Z"
   },
   {
    "duration": 26,
    "start_time": "2024-12-25T19:18:01.906Z"
   },
   {
    "duration": 31,
    "start_time": "2024-12-25T19:18:01.934Z"
   },
   {
    "duration": 41,
    "start_time": "2024-12-25T19:18:01.967Z"
   },
   {
    "duration": 21,
    "start_time": "2024-12-25T19:18:02.010Z"
   },
   {
    "duration": 23,
    "start_time": "2024-12-25T19:18:02.033Z"
   },
   {
    "duration": 22,
    "start_time": "2024-12-25T19:18:02.058Z"
   },
   {
    "duration": 43,
    "start_time": "2024-12-25T19:18:02.082Z"
   },
   {
    "duration": 10,
    "start_time": "2024-12-25T19:18:02.127Z"
   },
   {
    "duration": 47,
    "start_time": "2024-12-25T19:18:02.139Z"
   },
   {
    "duration": 41,
    "start_time": "2024-12-25T19:18:02.187Z"
   },
   {
    "duration": 7,
    "start_time": "2024-12-25T19:18:02.230Z"
   },
   {
    "duration": 46,
    "start_time": "2024-12-25T19:18:02.238Z"
   },
   {
    "duration": 43,
    "start_time": "2024-12-25T19:18:02.285Z"
   },
   {
    "duration": 37,
    "start_time": "2024-12-25T19:18:02.330Z"
   },
   {
    "duration": 246,
    "start_time": "2024-12-25T19:18:02.369Z"
   },
   {
    "duration": 7,
    "start_time": "2024-12-25T19:18:02.617Z"
   },
   {
    "duration": 220,
    "start_time": "2024-12-25T19:18:02.637Z"
   },
   {
    "duration": 10,
    "start_time": "2024-12-25T19:18:02.859Z"
   },
   {
    "duration": 225,
    "start_time": "2024-12-25T19:18:02.871Z"
   },
   {
    "duration": 142,
    "start_time": "2024-12-25T19:18:03.098Z"
   },
   {
    "duration": 205,
    "start_time": "2024-12-25T19:18:03.242Z"
   },
   {
    "duration": 7,
    "start_time": "2024-12-25T19:18:03.449Z"
   },
   {
    "duration": 171,
    "start_time": "2024-12-25T19:18:03.458Z"
   },
   {
    "duration": 119,
    "start_time": "2024-12-25T19:18:03.631Z"
   },
   {
    "duration": 8,
    "start_time": "2024-12-25T19:18:03.751Z"
   },
   {
    "duration": 176,
    "start_time": "2024-12-25T19:18:03.761Z"
   },
   {
    "duration": 49,
    "start_time": "2024-12-26T11:12:49.435Z"
   },
   {
    "duration": 3509,
    "start_time": "2024-12-26T11:12:54.745Z"
   },
   {
    "duration": 1260,
    "start_time": "2024-12-26T11:12:58.257Z"
   },
   {
    "duration": 3,
    "start_time": "2024-12-26T11:12:59.518Z"
   },
   {
    "duration": 21,
    "start_time": "2024-12-26T11:12:59.522Z"
   },
   {
    "duration": 259,
    "start_time": "2024-12-26T11:12:59.544Z"
   },
   {
    "duration": 13,
    "start_time": "2024-12-26T11:12:59.805Z"
   },
   {
    "duration": 17,
    "start_time": "2024-12-26T11:12:59.820Z"
   },
   {
    "duration": 11,
    "start_time": "2024-12-26T11:12:59.838Z"
   },
   {
    "duration": 9,
    "start_time": "2024-12-26T11:12:59.851Z"
   },
   {
    "duration": 50,
    "start_time": "2024-12-26T11:12:59.862Z"
   },
   {
    "duration": 12,
    "start_time": "2024-12-26T11:12:59.914Z"
   },
   {
    "duration": 3,
    "start_time": "2024-12-26T11:12:59.928Z"
   },
   {
    "duration": 9,
    "start_time": "2024-12-26T11:12:59.932Z"
   },
   {
    "duration": 6,
    "start_time": "2024-12-26T11:12:59.942Z"
   },
   {
    "duration": 17,
    "start_time": "2024-12-26T11:12:59.949Z"
   },
   {
    "duration": 20,
    "start_time": "2024-12-26T11:12:59.967Z"
   },
   {
    "duration": 12,
    "start_time": "2024-12-26T11:12:59.989Z"
   },
   {
    "duration": 5,
    "start_time": "2024-12-26T11:13:00.002Z"
   },
   {
    "duration": 43,
    "start_time": "2024-12-26T11:13:00.008Z"
   },
   {
    "duration": 64,
    "start_time": "2024-12-26T11:13:00.053Z"
   },
   {
    "duration": 33,
    "start_time": "2024-12-26T11:13:00.119Z"
   },
   {
    "duration": 63,
    "start_time": "2024-12-26T11:13:00.153Z"
   },
   {
    "duration": 38,
    "start_time": "2024-12-26T11:13:00.217Z"
   },
   {
    "duration": 30,
    "start_time": "2024-12-26T11:13:00.257Z"
   },
   {
    "duration": 50,
    "start_time": "2024-12-26T11:13:00.289Z"
   },
   {
    "duration": 24,
    "start_time": "2024-12-26T11:13:00.341Z"
   },
   {
    "duration": 52,
    "start_time": "2024-12-26T11:13:00.366Z"
   },
   {
    "duration": 217,
    "start_time": "2024-12-26T11:13:00.421Z"
   },
   {
    "duration": 7,
    "start_time": "2024-12-26T11:13:00.639Z"
   },
   {
    "duration": 208,
    "start_time": "2024-12-26T11:13:00.648Z"
   },
   {
    "duration": 9,
    "start_time": "2024-12-26T11:13:00.858Z"
   },
   {
    "duration": 197,
    "start_time": "2024-12-26T11:13:00.869Z"
   },
   {
    "duration": 121,
    "start_time": "2024-12-26T11:13:01.068Z"
   },
   {
    "duration": 187,
    "start_time": "2024-12-26T11:13:01.190Z"
   },
   {
    "duration": 7,
    "start_time": "2024-12-26T11:13:01.379Z"
   },
   {
    "duration": 156,
    "start_time": "2024-12-26T11:13:01.388Z"
   },
   {
    "duration": 101,
    "start_time": "2024-12-26T11:13:01.546Z"
   },
   {
    "duration": 7,
    "start_time": "2024-12-26T11:13:01.649Z"
   },
   {
    "duration": 169,
    "start_time": "2024-12-26T11:13:01.657Z"
   },
   {
    "duration": 7,
    "start_time": "2024-12-26T11:13:01.827Z"
   },
   {
    "duration": 120,
    "start_time": "2024-12-26T11:19:51.037Z"
   },
   {
    "duration": 194,
    "start_time": "2024-12-26T11:20:37.354Z"
   },
   {
    "duration": 102,
    "start_time": "2024-12-26T11:22:05.798Z"
   },
   {
    "duration": 6,
    "start_time": "2024-12-26T11:23:39.235Z"
   },
   {
    "duration": 222,
    "start_time": "2024-12-26T11:24:29.625Z"
   },
   {
    "duration": 4,
    "start_time": "2024-12-26T11:24:45.353Z"
   },
   {
    "duration": 153,
    "start_time": "2024-12-26T11:24:50.936Z"
   },
   {
    "duration": 144,
    "start_time": "2024-12-26T11:26:13.036Z"
   },
   {
    "duration": 180,
    "start_time": "2024-12-26T11:34:09.538Z"
   },
   {
    "duration": 173,
    "start_time": "2024-12-26T11:34:19.878Z"
   },
   {
    "duration": 195,
    "start_time": "2024-12-26T11:34:53.040Z"
   },
   {
    "duration": 2698,
    "start_time": "2024-12-26T11:40:39.840Z"
   },
   {
    "duration": 1101,
    "start_time": "2024-12-26T11:40:42.540Z"
   },
   {
    "duration": 4,
    "start_time": "2024-12-26T11:40:43.642Z"
   },
   {
    "duration": 11,
    "start_time": "2024-12-26T11:40:43.648Z"
   },
   {
    "duration": 225,
    "start_time": "2024-12-26T11:40:43.660Z"
   },
   {
    "duration": 13,
    "start_time": "2024-12-26T11:40:43.887Z"
   },
   {
    "duration": 16,
    "start_time": "2024-12-26T11:40:43.901Z"
   },
   {
    "duration": 10,
    "start_time": "2024-12-26T11:40:43.918Z"
   },
   {
    "duration": 9,
    "start_time": "2024-12-26T11:40:43.929Z"
   },
   {
    "duration": 9,
    "start_time": "2024-12-26T11:40:43.940Z"
   },
   {
    "duration": 12,
    "start_time": "2024-12-26T11:40:43.950Z"
   },
   {
    "duration": 8,
    "start_time": "2024-12-26T11:40:43.963Z"
   },
   {
    "duration": 5,
    "start_time": "2024-12-26T11:40:43.972Z"
   },
   {
    "duration": 4,
    "start_time": "2024-12-26T11:40:43.979Z"
   },
   {
    "duration": 7,
    "start_time": "2024-12-26T11:40:43.984Z"
   },
   {
    "duration": 9,
    "start_time": "2024-12-26T11:40:43.992Z"
   },
   {
    "duration": 7,
    "start_time": "2024-12-26T11:40:44.002Z"
   },
   {
    "duration": 4,
    "start_time": "2024-12-26T11:40:44.046Z"
   },
   {
    "duration": 5,
    "start_time": "2024-12-26T11:40:44.051Z"
   },
   {
    "duration": 13,
    "start_time": "2024-12-26T11:40:44.058Z"
   },
   {
    "duration": 6,
    "start_time": "2024-12-26T11:40:44.073Z"
   },
   {
    "duration": 20,
    "start_time": "2024-12-26T11:40:44.080Z"
   },
   {
    "duration": 62,
    "start_time": "2024-12-26T11:40:44.102Z"
   },
   {
    "duration": 3,
    "start_time": "2024-12-26T11:40:44.166Z"
   },
   {
    "duration": 3,
    "start_time": "2024-12-26T11:40:44.171Z"
   },
   {
    "duration": 11,
    "start_time": "2024-12-26T11:40:44.175Z"
   },
   {
    "duration": 9,
    "start_time": "2024-12-26T11:40:44.188Z"
   },
   {
    "duration": 168,
    "start_time": "2024-12-26T11:40:44.198Z"
   },
   {
    "duration": 6,
    "start_time": "2024-12-26T11:40:44.367Z"
   },
   {
    "duration": 205,
    "start_time": "2024-12-26T11:40:44.374Z"
   },
   {
    "duration": 9,
    "start_time": "2024-12-26T11:40:44.581Z"
   },
   {
    "duration": 150,
    "start_time": "2024-12-26T11:40:44.591Z"
   },
   {
    "duration": 117,
    "start_time": "2024-12-26T11:40:44.745Z"
   },
   {
    "duration": 191,
    "start_time": "2024-12-26T11:40:44.864Z"
   },
   {
    "duration": 8,
    "start_time": "2024-12-26T11:40:45.056Z"
   },
   {
    "duration": 196,
    "start_time": "2024-12-26T11:40:45.065Z"
   },
   {
    "duration": 111,
    "start_time": "2024-12-26T11:40:45.262Z"
   },
   {
    "duration": 6,
    "start_time": "2024-12-26T11:40:45.375Z"
   },
   {
    "duration": 166,
    "start_time": "2024-12-26T11:40:45.382Z"
   },
   {
    "duration": 9,
    "start_time": "2024-12-26T11:40:45.550Z"
   },
   {
    "duration": 167,
    "start_time": "2024-12-26T11:40:45.565Z"
   },
   {
    "duration": 174,
    "start_time": "2024-12-26T11:40:45.733Z"
   },
   {
    "duration": 157,
    "start_time": "2024-12-26T11:40:45.908Z"
   },
   {
    "duration": 2604,
    "start_time": "2024-12-26T11:52:34.389Z"
   },
   {
    "duration": 1047,
    "start_time": "2024-12-26T11:52:36.995Z"
   },
   {
    "duration": 3,
    "start_time": "2024-12-26T11:52:38.046Z"
   },
   {
    "duration": 18,
    "start_time": "2024-12-26T11:52:38.050Z"
   },
   {
    "duration": 209,
    "start_time": "2024-12-26T11:52:38.070Z"
   },
   {
    "duration": 12,
    "start_time": "2024-12-26T11:52:38.281Z"
   },
   {
    "duration": 37,
    "start_time": "2024-12-26T11:52:38.295Z"
   },
   {
    "duration": 11,
    "start_time": "2024-12-26T11:52:38.334Z"
   },
   {
    "duration": 10,
    "start_time": "2024-12-26T11:52:38.346Z"
   },
   {
    "duration": 18,
    "start_time": "2024-12-26T11:52:38.358Z"
   },
   {
    "duration": 15,
    "start_time": "2024-12-26T11:52:38.377Z"
   },
   {
    "duration": 3,
    "start_time": "2024-12-26T11:52:38.393Z"
   },
   {
    "duration": 8,
    "start_time": "2024-12-26T11:52:38.398Z"
   },
   {
    "duration": 4,
    "start_time": "2024-12-26T11:52:38.409Z"
   },
   {
    "duration": 15,
    "start_time": "2024-12-26T11:52:38.415Z"
   },
   {
    "duration": 9,
    "start_time": "2024-12-26T11:52:38.446Z"
   },
   {
    "duration": 6,
    "start_time": "2024-12-26T11:52:38.457Z"
   },
   {
    "duration": 4,
    "start_time": "2024-12-26T11:52:38.465Z"
   },
   {
    "duration": 6,
    "start_time": "2024-12-26T11:52:38.471Z"
   },
   {
    "duration": 23,
    "start_time": "2024-12-26T11:52:38.478Z"
   },
   {
    "duration": 6,
    "start_time": "2024-12-26T11:52:38.503Z"
   },
   {
    "duration": 48,
    "start_time": "2024-12-26T11:52:38.510Z"
   },
   {
    "duration": 67,
    "start_time": "2024-12-26T11:52:38.560Z"
   },
   {
    "duration": 3,
    "start_time": "2024-12-26T11:52:38.629Z"
   },
   {
    "duration": 7,
    "start_time": "2024-12-26T11:52:38.633Z"
   },
   {
    "duration": 5,
    "start_time": "2024-12-26T11:52:38.641Z"
   },
   {
    "duration": 7,
    "start_time": "2024-12-26T11:52:38.647Z"
   },
   {
    "duration": 166,
    "start_time": "2024-12-26T11:52:38.655Z"
   },
   {
    "duration": 6,
    "start_time": "2024-12-26T11:52:38.822Z"
   },
   {
    "duration": 211,
    "start_time": "2024-12-26T11:52:38.830Z"
   },
   {
    "duration": 9,
    "start_time": "2024-12-26T11:52:39.046Z"
   },
   {
    "duration": 151,
    "start_time": "2024-12-26T11:52:39.057Z"
   },
   {
    "duration": 116,
    "start_time": "2024-12-26T11:52:39.210Z"
   },
   {
    "duration": 194,
    "start_time": "2024-12-26T11:52:39.328Z"
   },
   {
    "duration": 8,
    "start_time": "2024-12-26T11:52:39.524Z"
   },
   {
    "duration": 155,
    "start_time": "2024-12-26T11:52:39.545Z"
   },
   {
    "duration": 110,
    "start_time": "2024-12-26T11:52:39.702Z"
   },
   {
    "duration": 6,
    "start_time": "2024-12-26T11:52:39.814Z"
   },
   {
    "duration": 171,
    "start_time": "2024-12-26T11:52:39.821Z"
   },
   {
    "duration": 7,
    "start_time": "2024-12-26T11:52:39.993Z"
   },
   {
    "duration": 173,
    "start_time": "2024-12-26T11:52:40.003Z"
   },
   {
    "duration": 177,
    "start_time": "2024-12-26T11:52:40.178Z"
   },
   {
    "duration": 159,
    "start_time": "2024-12-26T11:52:40.356Z"
   },
   {
    "duration": 20,
    "start_time": "2024-12-26T12:13:50.598Z"
   },
   {
    "duration": 102,
    "start_time": "2024-12-26T12:17:44.225Z"
   },
   {
    "duration": 11,
    "start_time": "2024-12-26T12:18:31.435Z"
   },
   {
    "duration": 2604,
    "start_time": "2024-12-26T12:19:27.169Z"
   },
   {
    "duration": 1096,
    "start_time": "2024-12-26T12:19:29.775Z"
   },
   {
    "duration": 2,
    "start_time": "2024-12-26T12:19:30.873Z"
   },
   {
    "duration": 19,
    "start_time": "2024-12-26T12:19:30.876Z"
   },
   {
    "duration": 208,
    "start_time": "2024-12-26T12:19:30.896Z"
   },
   {
    "duration": 12,
    "start_time": "2024-12-26T12:19:31.106Z"
   },
   {
    "duration": 81,
    "start_time": "2024-12-26T12:19:31.120Z"
   },
   {
    "duration": 76,
    "start_time": "2024-12-26T12:19:31.203Z"
   },
   {
    "duration": 79,
    "start_time": "2024-12-26T12:19:31.280Z"
   },
   {
    "duration": 10,
    "start_time": "2024-12-26T12:19:31.360Z"
   },
   {
    "duration": 12,
    "start_time": "2024-12-26T12:19:31.371Z"
   },
   {
    "duration": 4,
    "start_time": "2024-12-26T12:19:31.384Z"
   },
   {
    "duration": 8,
    "start_time": "2024-12-26T12:19:31.389Z"
   },
   {
    "duration": 5,
    "start_time": "2024-12-26T12:19:31.400Z"
   },
   {
    "duration": 8,
    "start_time": "2024-12-26T12:19:31.407Z"
   },
   {
    "duration": 33,
    "start_time": "2024-12-26T12:19:31.416Z"
   },
   {
    "duration": 6,
    "start_time": "2024-12-26T12:19:31.450Z"
   },
   {
    "duration": 12,
    "start_time": "2024-12-26T12:19:31.457Z"
   },
   {
    "duration": 12,
    "start_time": "2024-12-26T12:19:31.470Z"
   },
   {
    "duration": 32,
    "start_time": "2024-12-26T12:19:31.483Z"
   },
   {
    "duration": 5,
    "start_time": "2024-12-26T12:19:31.516Z"
   },
   {
    "duration": 48,
    "start_time": "2024-12-26T12:19:31.522Z"
   },
   {
    "duration": 33,
    "start_time": "2024-12-26T12:19:31.571Z"
   },
   {
    "duration": 3,
    "start_time": "2024-12-26T12:19:31.606Z"
   },
   {
    "duration": 4,
    "start_time": "2024-12-26T12:19:31.611Z"
   },
   {
    "duration": 7,
    "start_time": "2024-12-26T12:19:31.616Z"
   },
   {
    "duration": 9,
    "start_time": "2024-12-26T12:19:31.624Z"
   },
   {
    "duration": 186,
    "start_time": "2024-12-26T12:19:31.635Z"
   },
   {
    "duration": 6,
    "start_time": "2024-12-26T12:19:31.822Z"
   },
   {
    "duration": 208,
    "start_time": "2024-12-26T12:19:31.830Z"
   },
   {
    "duration": 12,
    "start_time": "2024-12-26T12:19:32.040Z"
   },
   {
    "duration": 172,
    "start_time": "2024-12-26T12:19:32.054Z"
   },
   {
    "duration": 118,
    "start_time": "2024-12-26T12:19:32.228Z"
   },
   {
    "duration": 186,
    "start_time": "2024-12-26T12:19:32.347Z"
   },
   {
    "duration": 16,
    "start_time": "2024-12-26T12:19:32.534Z"
   },
   {
    "duration": 152,
    "start_time": "2024-12-26T12:19:32.552Z"
   },
   {
    "duration": 141,
    "start_time": "2024-12-26T12:19:32.706Z"
   },
   {
    "duration": 8,
    "start_time": "2024-12-26T12:19:32.848Z"
   },
   {
    "duration": 184,
    "start_time": "2024-12-26T12:19:32.858Z"
   },
   {
    "duration": 8,
    "start_time": "2024-12-26T12:19:33.044Z"
   },
   {
    "duration": 169,
    "start_time": "2024-12-26T12:19:33.057Z"
   },
   {
    "duration": 172,
    "start_time": "2024-12-26T12:19:33.228Z"
   },
   {
    "duration": 168,
    "start_time": "2024-12-26T12:19:33.402Z"
   },
   {
    "duration": 110,
    "start_time": "2024-12-26T12:19:33.571Z"
   },
   {
    "duration": 2541,
    "start_time": "2024-12-26T12:19:48.358Z"
   },
   {
    "duration": 18,
    "start_time": "2024-12-26T12:20:05.378Z"
   },
   {
    "duration": 11,
    "start_time": "2024-12-26T12:21:09.862Z"
   },
   {
    "duration": 10,
    "start_time": "2024-12-26T12:21:33.242Z"
   },
   {
    "duration": 2631,
    "start_time": "2024-12-26T12:22:44.024Z"
   },
   {
    "duration": 24,
    "start_time": "2024-12-26T12:22:50.373Z"
   },
   {
    "duration": 14,
    "start_time": "2024-12-26T12:25:36.587Z"
   },
   {
    "duration": 17,
    "start_time": "2024-12-26T12:26:00.688Z"
   },
   {
    "duration": 10,
    "start_time": "2024-12-26T12:30:30.795Z"
   },
   {
    "duration": 5,
    "start_time": "2024-12-26T12:31:48.907Z"
   },
   {
    "duration": 8,
    "start_time": "2024-12-26T12:32:15.537Z"
   },
   {
    "duration": 4,
    "start_time": "2024-12-26T12:32:26.835Z"
   },
   {
    "duration": 67,
    "start_time": "2024-12-26T12:35:26.388Z"
   },
   {
    "duration": 20,
    "start_time": "2024-12-26T12:35:31.697Z"
   },
   {
    "duration": 19,
    "start_time": "2024-12-26T12:36:39.758Z"
   },
   {
    "duration": 19,
    "start_time": "2024-12-26T12:36:52.258Z"
   },
   {
    "duration": 15,
    "start_time": "2024-12-26T12:38:02.800Z"
   },
   {
    "duration": 9,
    "start_time": "2024-12-26T12:38:31.097Z"
   },
   {
    "duration": 8,
    "start_time": "2024-12-26T12:38:47.826Z"
   },
   {
    "duration": 15,
    "start_time": "2024-12-26T12:38:54.829Z"
   },
   {
    "duration": 14,
    "start_time": "2024-12-26T12:39:06.808Z"
   },
   {
    "duration": 13,
    "start_time": "2024-12-26T12:39:26.146Z"
   },
   {
    "duration": 2708,
    "start_time": "2024-12-26T12:39:59.787Z"
   },
   {
    "duration": 1062,
    "start_time": "2024-12-26T12:40:02.497Z"
   },
   {
    "duration": 2,
    "start_time": "2024-12-26T12:40:03.560Z"
   },
   {
    "duration": 8,
    "start_time": "2024-12-26T12:40:03.564Z"
   },
   {
    "duration": 235,
    "start_time": "2024-12-26T12:40:03.574Z"
   },
   {
    "duration": 14,
    "start_time": "2024-12-26T12:40:03.810Z"
   },
   {
    "duration": 31,
    "start_time": "2024-12-26T12:40:03.825Z"
   },
   {
    "duration": 10,
    "start_time": "2024-12-26T12:40:03.857Z"
   },
   {
    "duration": 12,
    "start_time": "2024-12-26T12:40:03.869Z"
   },
   {
    "duration": 30,
    "start_time": "2024-12-26T12:40:03.885Z"
   },
   {
    "duration": 38,
    "start_time": "2024-12-26T12:40:03.916Z"
   },
   {
    "duration": 4,
    "start_time": "2024-12-26T12:40:03.955Z"
   },
   {
    "duration": 24,
    "start_time": "2024-12-26T12:40:03.960Z"
   },
   {
    "duration": 31,
    "start_time": "2024-12-26T12:40:03.985Z"
   },
   {
    "duration": 34,
    "start_time": "2024-12-26T12:40:04.018Z"
   },
   {
    "duration": 22,
    "start_time": "2024-12-26T12:40:04.053Z"
   },
   {
    "duration": 22,
    "start_time": "2024-12-26T12:40:04.077Z"
   },
   {
    "duration": 14,
    "start_time": "2024-12-26T12:40:04.101Z"
   },
   {
    "duration": 24,
    "start_time": "2024-12-26T12:40:04.117Z"
   },
   {
    "duration": 17,
    "start_time": "2024-12-26T12:40:04.142Z"
   },
   {
    "duration": 6,
    "start_time": "2024-12-26T12:40:04.161Z"
   },
   {
    "duration": 26,
    "start_time": "2024-12-26T12:40:04.168Z"
   },
   {
    "duration": 30,
    "start_time": "2024-12-26T12:40:04.195Z"
   },
   {
    "duration": 20,
    "start_time": "2024-12-26T12:40:04.226Z"
   },
   {
    "duration": 4,
    "start_time": "2024-12-26T12:40:04.249Z"
   },
   {
    "duration": 16,
    "start_time": "2024-12-26T12:40:04.255Z"
   },
   {
    "duration": 19,
    "start_time": "2024-12-26T12:40:04.273Z"
   },
   {
    "duration": 173,
    "start_time": "2024-12-26T12:40:04.295Z"
   },
   {
    "duration": 6,
    "start_time": "2024-12-26T12:40:04.470Z"
   },
   {
    "duration": 220,
    "start_time": "2024-12-26T12:40:04.478Z"
   },
   {
    "duration": 10,
    "start_time": "2024-12-26T12:40:04.700Z"
   },
   {
    "duration": 200,
    "start_time": "2024-12-26T12:40:04.711Z"
   },
   {
    "duration": 113,
    "start_time": "2024-12-26T12:40:04.912Z"
   },
   {
    "duration": 184,
    "start_time": "2024-12-26T12:40:05.027Z"
   },
   {
    "duration": 7,
    "start_time": "2024-12-26T12:40:05.212Z"
   },
   {
    "duration": 240,
    "start_time": "2024-12-26T12:40:05.220Z"
   },
   {
    "duration": 111,
    "start_time": "2024-12-26T12:40:05.461Z"
   },
   {
    "duration": 6,
    "start_time": "2024-12-26T12:40:05.573Z"
   },
   {
    "duration": 173,
    "start_time": "2024-12-26T12:40:05.581Z"
   },
   {
    "duration": 7,
    "start_time": "2024-12-26T12:40:05.756Z"
   },
   {
    "duration": 149,
    "start_time": "2024-12-26T12:40:05.764Z"
   },
   {
    "duration": 178,
    "start_time": "2024-12-26T12:40:05.914Z"
   },
   {
    "duration": 169,
    "start_time": "2024-12-26T12:40:06.094Z"
   },
   {
    "duration": 2600,
    "start_time": "2024-12-26T12:40:06.264Z"
   },
   {
    "duration": 107,
    "start_time": "2024-12-26T12:40:08.866Z"
   },
   {
    "duration": 0,
    "start_time": "2024-12-26T12:40:08.974Z"
   },
   {
    "duration": 50,
    "start_time": "2024-12-26T12:41:32.883Z"
   },
   {
    "duration": 124,
    "start_time": "2024-12-26T12:41:35.263Z"
   },
   {
    "duration": 129,
    "start_time": "2024-12-26T12:43:57.823Z"
   },
   {
    "duration": 112,
    "start_time": "2024-12-26T12:44:14.263Z"
   },
   {
    "duration": 145,
    "start_time": "2024-12-26T12:45:30.382Z"
   },
   {
    "duration": 58,
    "start_time": "2024-12-26T12:54:36.493Z"
   },
   {
    "duration": 346,
    "start_time": "2024-12-26T12:55:01.303Z"
   },
   {
    "duration": 165,
    "start_time": "2024-12-26T12:56:30.203Z"
   },
   {
    "duration": 234,
    "start_time": "2024-12-26T12:57:02.281Z"
   },
   {
    "duration": 2601,
    "start_time": "2024-12-26T12:57:49.968Z"
   },
   {
    "duration": 1083,
    "start_time": "2024-12-26T12:57:52.571Z"
   },
   {
    "duration": 3,
    "start_time": "2024-12-26T12:57:53.655Z"
   },
   {
    "duration": 13,
    "start_time": "2024-12-26T12:57:53.659Z"
   },
   {
    "duration": 241,
    "start_time": "2024-12-26T12:57:53.674Z"
   },
   {
    "duration": 13,
    "start_time": "2024-12-26T12:57:53.916Z"
   },
   {
    "duration": 17,
    "start_time": "2024-12-26T12:57:53.931Z"
   },
   {
    "duration": 9,
    "start_time": "2024-12-26T12:57:53.949Z"
   },
   {
    "duration": 19,
    "start_time": "2024-12-26T12:57:53.960Z"
   },
   {
    "duration": 9,
    "start_time": "2024-12-26T12:57:53.980Z"
   },
   {
    "duration": 11,
    "start_time": "2024-12-26T12:57:53.990Z"
   },
   {
    "duration": 7,
    "start_time": "2024-12-26T12:57:54.002Z"
   },
   {
    "duration": 32,
    "start_time": "2024-12-26T12:57:54.010Z"
   },
   {
    "duration": 4,
    "start_time": "2024-12-26T12:57:54.045Z"
   },
   {
    "duration": 9,
    "start_time": "2024-12-26T12:57:54.051Z"
   },
   {
    "duration": 8,
    "start_time": "2024-12-26T12:57:54.061Z"
   },
   {
    "duration": 6,
    "start_time": "2024-12-26T12:57:54.070Z"
   },
   {
    "duration": 11,
    "start_time": "2024-12-26T12:57:54.077Z"
   },
   {
    "duration": 12,
    "start_time": "2024-12-26T12:57:54.090Z"
   },
   {
    "duration": 15,
    "start_time": "2024-12-26T12:57:54.103Z"
   },
   {
    "duration": 5,
    "start_time": "2024-12-26T12:57:54.119Z"
   },
   {
    "duration": 31,
    "start_time": "2024-12-26T12:57:54.125Z"
   },
   {
    "duration": 29,
    "start_time": "2024-12-26T12:57:54.157Z"
   },
   {
    "duration": 3,
    "start_time": "2024-12-26T12:57:54.188Z"
   },
   {
    "duration": 6,
    "start_time": "2024-12-26T12:57:54.192Z"
   },
   {
    "duration": 4,
    "start_time": "2024-12-26T12:57:54.200Z"
   },
   {
    "duration": 5,
    "start_time": "2024-12-26T12:57:54.206Z"
   },
   {
    "duration": 181,
    "start_time": "2024-12-26T12:57:54.212Z"
   },
   {
    "duration": 6,
    "start_time": "2024-12-26T12:57:54.394Z"
   },
   {
    "duration": 205,
    "start_time": "2024-12-26T12:57:54.402Z"
   },
   {
    "duration": 9,
    "start_time": "2024-12-26T12:57:54.609Z"
   },
   {
    "duration": 151,
    "start_time": "2024-12-26T12:57:54.620Z"
   },
   {
    "duration": 123,
    "start_time": "2024-12-26T12:57:54.773Z"
   },
   {
    "duration": 183,
    "start_time": "2024-12-26T12:57:54.897Z"
   },
   {
    "duration": 7,
    "start_time": "2024-12-26T12:57:55.081Z"
   },
   {
    "duration": 152,
    "start_time": "2024-12-26T12:57:55.090Z"
   },
   {
    "duration": 107,
    "start_time": "2024-12-26T12:57:55.247Z"
   },
   {
    "duration": 6,
    "start_time": "2024-12-26T12:57:55.355Z"
   },
   {
    "duration": 167,
    "start_time": "2024-12-26T12:57:55.363Z"
   },
   {
    "duration": 14,
    "start_time": "2024-12-26T12:57:55.532Z"
   },
   {
    "duration": 148,
    "start_time": "2024-12-26T12:57:55.550Z"
   },
   {
    "duration": 177,
    "start_time": "2024-12-26T12:57:55.699Z"
   },
   {
    "duration": 151,
    "start_time": "2024-12-26T12:57:55.877Z"
   },
   {
    "duration": 51,
    "start_time": "2024-12-26T12:57:56.029Z"
   },
   {
    "duration": 165,
    "start_time": "2024-12-26T12:57:56.082Z"
   },
   {
    "duration": 275,
    "start_time": "2024-12-26T12:57:56.248Z"
   },
   {
    "duration": 115,
    "start_time": "2024-12-26T12:57:56.525Z"
   },
   {
    "duration": 123,
    "start_time": "2024-12-26T12:59:53.186Z"
   },
   {
    "duration": 151,
    "start_time": "2024-12-26T13:00:07.547Z"
   },
   {
    "duration": 2594,
    "start_time": "2024-12-26T13:00:16.853Z"
   },
   {
    "duration": 1086,
    "start_time": "2024-12-26T13:00:19.449Z"
   },
   {
    "duration": 2,
    "start_time": "2024-12-26T13:00:20.537Z"
   },
   {
    "duration": 6,
    "start_time": "2024-12-26T13:00:20.541Z"
   },
   {
    "duration": 216,
    "start_time": "2024-12-26T13:00:20.549Z"
   },
   {
    "duration": 13,
    "start_time": "2024-12-26T13:00:20.767Z"
   },
   {
    "duration": 68,
    "start_time": "2024-12-26T13:00:20.781Z"
   },
   {
    "duration": 24,
    "start_time": "2024-12-26T13:00:20.850Z"
   },
   {
    "duration": 9,
    "start_time": "2024-12-26T13:00:20.876Z"
   },
   {
    "duration": 10,
    "start_time": "2024-12-26T13:00:20.886Z"
   },
   {
    "duration": 13,
    "start_time": "2024-12-26T13:00:20.897Z"
   },
   {
    "duration": 36,
    "start_time": "2024-12-26T13:00:20.911Z"
   },
   {
    "duration": 6,
    "start_time": "2024-12-26T13:00:20.949Z"
   },
   {
    "duration": 3,
    "start_time": "2024-12-26T13:00:20.958Z"
   },
   {
    "duration": 31,
    "start_time": "2024-12-26T13:00:20.962Z"
   },
   {
    "duration": 17,
    "start_time": "2024-12-26T13:00:20.994Z"
   },
   {
    "duration": 17,
    "start_time": "2024-12-26T13:00:21.012Z"
   },
   {
    "duration": 10,
    "start_time": "2024-12-26T13:00:21.031Z"
   },
   {
    "duration": 21,
    "start_time": "2024-12-26T13:00:21.042Z"
   },
   {
    "duration": 38,
    "start_time": "2024-12-26T13:00:21.064Z"
   },
   {
    "duration": 6,
    "start_time": "2024-12-26T13:00:21.104Z"
   },
   {
    "duration": 19,
    "start_time": "2024-12-26T13:00:21.112Z"
   },
   {
    "duration": 32,
    "start_time": "2024-12-26T13:00:21.133Z"
   },
   {
    "duration": 4,
    "start_time": "2024-12-26T13:00:21.166Z"
   },
   {
    "duration": 10,
    "start_time": "2024-12-26T13:00:21.172Z"
   },
   {
    "duration": 38,
    "start_time": "2024-12-26T13:00:21.183Z"
   },
   {
    "duration": 7,
    "start_time": "2024-12-26T13:00:21.223Z"
   },
   {
    "duration": 169,
    "start_time": "2024-12-26T13:00:21.231Z"
   },
   {
    "duration": 7,
    "start_time": "2024-12-26T13:00:21.402Z"
   },
   {
    "duration": 215,
    "start_time": "2024-12-26T13:00:21.411Z"
   },
   {
    "duration": 18,
    "start_time": "2024-12-26T13:00:21.628Z"
   },
   {
    "duration": 148,
    "start_time": "2024-12-26T13:00:21.647Z"
   },
   {
    "duration": 118,
    "start_time": "2024-12-26T13:00:21.796Z"
   },
   {
    "duration": 197,
    "start_time": "2024-12-26T13:00:21.916Z"
   },
   {
    "duration": 7,
    "start_time": "2024-12-26T13:00:22.114Z"
   },
   {
    "duration": 158,
    "start_time": "2024-12-26T13:00:22.122Z"
   },
   {
    "duration": 105,
    "start_time": "2024-12-26T13:00:22.282Z"
   },
   {
    "duration": 6,
    "start_time": "2024-12-26T13:00:22.389Z"
   },
   {
    "duration": 165,
    "start_time": "2024-12-26T13:00:22.396Z"
   },
   {
    "duration": 8,
    "start_time": "2024-12-26T13:00:22.563Z"
   },
   {
    "duration": 183,
    "start_time": "2024-12-26T13:00:22.574Z"
   },
   {
    "duration": 175,
    "start_time": "2024-12-26T13:00:22.759Z"
   },
   {
    "duration": 159,
    "start_time": "2024-12-26T13:00:22.936Z"
   },
   {
    "duration": 66,
    "start_time": "2024-12-26T13:00:23.097Z"
   },
   {
    "duration": 146,
    "start_time": "2024-12-26T13:00:23.165Z"
   },
   {
    "duration": 307,
    "start_time": "2024-12-26T13:00:23.313Z"
   },
   {
    "duration": 120,
    "start_time": "2024-12-26T13:00:23.622Z"
   },
   {
    "duration": 13,
    "start_time": "2024-12-26T13:46:05.328Z"
   },
   {
    "duration": 21,
    "start_time": "2024-12-26T13:46:29.437Z"
   },
   {
    "duration": 10,
    "start_time": "2024-12-26T13:46:53.407Z"
   },
   {
    "duration": 10,
    "start_time": "2024-12-26T13:47:21.119Z"
   },
   {
    "duration": 12,
    "start_time": "2024-12-26T13:47:45.389Z"
   },
   {
    "duration": 18,
    "start_time": "2024-12-26T13:54:50.167Z"
   },
   {
    "duration": 2620,
    "start_time": "2024-12-26T13:55:30.768Z"
   },
   {
    "duration": 1049,
    "start_time": "2024-12-26T13:55:33.390Z"
   },
   {
    "duration": 6,
    "start_time": "2024-12-26T13:55:34.440Z"
   },
   {
    "duration": 9,
    "start_time": "2024-12-26T13:55:34.447Z"
   },
   {
    "duration": 309,
    "start_time": "2024-12-26T13:55:34.458Z"
   },
   {
    "duration": 12,
    "start_time": "2024-12-26T13:55:34.768Z"
   },
   {
    "duration": 35,
    "start_time": "2024-12-26T13:55:34.781Z"
   },
   {
    "duration": 10,
    "start_time": "2024-12-26T13:55:34.818Z"
   },
   {
    "duration": 21,
    "start_time": "2024-12-26T13:55:34.829Z"
   },
   {
    "duration": 14,
    "start_time": "2024-12-26T13:55:34.852Z"
   },
   {
    "duration": 11,
    "start_time": "2024-12-26T13:55:34.867Z"
   },
   {
    "duration": 19,
    "start_time": "2024-12-26T13:55:34.880Z"
   },
   {
    "duration": 11,
    "start_time": "2024-12-26T13:55:34.900Z"
   },
   {
    "duration": 5,
    "start_time": "2024-12-26T13:55:34.914Z"
   },
   {
    "duration": 20,
    "start_time": "2024-12-26T13:55:34.920Z"
   },
   {
    "duration": 21,
    "start_time": "2024-12-26T13:55:34.941Z"
   },
   {
    "duration": 6,
    "start_time": "2024-12-26T13:55:34.963Z"
   },
   {
    "duration": 4,
    "start_time": "2024-12-26T13:55:34.970Z"
   },
   {
    "duration": 3,
    "start_time": "2024-12-26T13:55:34.975Z"
   },
   {
    "duration": 50,
    "start_time": "2024-12-26T13:55:34.980Z"
   },
   {
    "duration": 20,
    "start_time": "2024-12-26T13:55:35.031Z"
   },
   {
    "duration": 17,
    "start_time": "2024-12-26T13:55:35.053Z"
   },
   {
    "duration": 30,
    "start_time": "2024-12-26T13:55:35.072Z"
   },
   {
    "duration": 3,
    "start_time": "2024-12-26T13:55:35.103Z"
   },
   {
    "duration": 5,
    "start_time": "2024-12-26T13:55:35.108Z"
   },
   {
    "duration": 19,
    "start_time": "2024-12-26T13:55:35.114Z"
   },
   {
    "duration": 29,
    "start_time": "2024-12-26T13:55:35.134Z"
   },
   {
    "duration": 181,
    "start_time": "2024-12-26T13:55:35.165Z"
   },
   {
    "duration": 6,
    "start_time": "2024-12-26T13:55:35.347Z"
   },
   {
    "duration": 205,
    "start_time": "2024-12-26T13:55:35.354Z"
   },
   {
    "duration": 10,
    "start_time": "2024-12-26T13:55:35.560Z"
   },
   {
    "duration": 218,
    "start_time": "2024-12-26T13:55:35.571Z"
   },
   {
    "duration": 120,
    "start_time": "2024-12-26T13:55:35.791Z"
   },
   {
    "duration": 188,
    "start_time": "2024-12-26T13:55:35.912Z"
   },
   {
    "duration": 7,
    "start_time": "2024-12-26T13:55:36.102Z"
   },
   {
    "duration": 174,
    "start_time": "2024-12-26T13:55:36.111Z"
   },
   {
    "duration": 106,
    "start_time": "2024-12-26T13:55:36.286Z"
   },
   {
    "duration": 6,
    "start_time": "2024-12-26T13:55:36.393Z"
   },
   {
    "duration": 162,
    "start_time": "2024-12-26T13:55:36.401Z"
   },
   {
    "duration": 7,
    "start_time": "2024-12-26T13:55:36.565Z"
   },
   {
    "duration": 150,
    "start_time": "2024-12-26T13:55:36.575Z"
   },
   {
    "duration": 184,
    "start_time": "2024-12-26T13:55:36.727Z"
   },
   {
    "duration": 158,
    "start_time": "2024-12-26T13:55:36.912Z"
   },
   {
    "duration": 41,
    "start_time": "2024-12-26T13:55:37.072Z"
   },
   {
    "duration": 142,
    "start_time": "2024-12-26T13:55:37.114Z"
   },
   {
    "duration": 265,
    "start_time": "2024-12-26T13:55:37.257Z"
   },
   {
    "duration": 122,
    "start_time": "2024-12-26T13:55:37.523Z"
   },
   {
    "duration": 0,
    "start_time": "2024-12-26T13:55:37.647Z"
   },
   {
    "duration": 17,
    "start_time": "2024-12-26T13:56:20.667Z"
   },
   {
    "duration": 6,
    "start_time": "2024-12-26T14:01:32.706Z"
   },
   {
    "duration": 19,
    "start_time": "2024-12-26T14:01:55.358Z"
   },
   {
    "duration": 9,
    "start_time": "2024-12-26T14:02:50.287Z"
   },
   {
    "duration": 16,
    "start_time": "2024-12-26T14:03:51.527Z"
   },
   {
    "duration": 8,
    "start_time": "2024-12-26T14:04:03.248Z"
   },
   {
    "duration": 9,
    "start_time": "2024-12-26T14:04:16.417Z"
   },
   {
    "duration": 12,
    "start_time": "2024-12-26T14:04:29.539Z"
   },
   {
    "duration": 9,
    "start_time": "2024-12-26T14:04:35.428Z"
   },
   {
    "duration": 8,
    "start_time": "2024-12-26T14:04:59.679Z"
   },
   {
    "duration": 7,
    "start_time": "2024-12-26T14:07:29.017Z"
   },
   {
    "duration": 8,
    "start_time": "2024-12-26T14:07:34.805Z"
   },
   {
    "duration": 14,
    "start_time": "2024-12-26T14:09:40.539Z"
   },
   {
    "duration": 6,
    "start_time": "2024-12-26T14:10:37.067Z"
   },
   {
    "duration": 10,
    "start_time": "2024-12-26T14:12:06.067Z"
   },
   {
    "duration": 9,
    "start_time": "2024-12-26T14:21:44.083Z"
   },
   {
    "duration": 8,
    "start_time": "2024-12-26T14:22:16.867Z"
   },
   {
    "duration": 17,
    "start_time": "2024-12-26T14:24:16.156Z"
   },
   {
    "duration": 19,
    "start_time": "2024-12-26T14:24:38.584Z"
   },
   {
    "duration": 7,
    "start_time": "2024-12-26T14:24:57.944Z"
   },
   {
    "duration": 13,
    "start_time": "2024-12-26T14:25:24.457Z"
   },
   {
    "duration": 8,
    "start_time": "2024-12-26T14:25:45.345Z"
   },
   {
    "duration": 4,
    "start_time": "2024-12-26T14:25:49.616Z"
   },
   {
    "duration": 5,
    "start_time": "2024-12-26T14:25:58.924Z"
   },
   {
    "duration": 11,
    "start_time": "2024-12-26T14:26:29.284Z"
   },
   {
    "duration": 10,
    "start_time": "2024-12-26T14:27:06.345Z"
   },
   {
    "duration": 10,
    "start_time": "2024-12-26T14:27:16.138Z"
   },
   {
    "duration": 6,
    "start_time": "2024-12-26T14:33:48.207Z"
   },
   {
    "duration": 3,
    "start_time": "2024-12-26T14:34:19.805Z"
   },
   {
    "duration": 5,
    "start_time": "2024-12-26T14:34:39.747Z"
   },
   {
    "duration": 6,
    "start_time": "2024-12-26T14:34:55.785Z"
   },
   {
    "duration": 5,
    "start_time": "2024-12-26T14:35:21.166Z"
   },
   {
    "duration": 5,
    "start_time": "2024-12-26T14:36:30.765Z"
   },
   {
    "duration": 4,
    "start_time": "2024-12-26T14:36:41.695Z"
   },
   {
    "duration": 169,
    "start_time": "2024-12-26T14:37:44.846Z"
   },
   {
    "duration": 17,
    "start_time": "2024-12-26T14:38:26.317Z"
   },
   {
    "duration": 155,
    "start_time": "2024-12-26T14:41:10.768Z"
   },
   {
    "duration": 15,
    "start_time": "2024-12-26T14:41:17.577Z"
   },
   {
    "duration": 15,
    "start_time": "2024-12-26T14:41:28.425Z"
   },
   {
    "duration": 15,
    "start_time": "2024-12-26T14:41:37.155Z"
   },
   {
    "duration": 17,
    "start_time": "2024-12-26T14:43:11.646Z"
   },
   {
    "duration": 383,
    "start_time": "2024-12-26T14:47:22.005Z"
   },
   {
    "duration": 6,
    "start_time": "2024-12-26T14:48:35.757Z"
   },
   {
    "duration": 4,
    "start_time": "2024-12-26T14:48:46.775Z"
   },
   {
    "duration": 160,
    "start_time": "2024-12-26T14:48:54.177Z"
   },
   {
    "duration": 17,
    "start_time": "2024-12-26T14:49:08.856Z"
   },
   {
    "duration": 5,
    "start_time": "2024-12-26T14:50:09.545Z"
   },
   {
    "duration": 17,
    "start_time": "2024-12-26T14:50:12.573Z"
   },
   {
    "duration": 9,
    "start_time": "2024-12-26T15:17:54.778Z"
   },
   {
    "duration": 10,
    "start_time": "2024-12-26T15:18:31.476Z"
   },
   {
    "duration": 9,
    "start_time": "2024-12-26T15:19:04.566Z"
   },
   {
    "duration": 2768,
    "start_time": "2024-12-26T15:19:42.539Z"
   },
   {
    "duration": 1173,
    "start_time": "2024-12-26T15:19:45.310Z"
   },
   {
    "duration": 3,
    "start_time": "2024-12-26T15:19:46.485Z"
   },
   {
    "duration": 3,
    "start_time": "2024-12-26T15:19:46.491Z"
   },
   {
    "duration": 826,
    "start_time": "2024-12-26T15:19:46.496Z"
   },
   {
    "duration": 16,
    "start_time": "2024-12-26T15:19:47.323Z"
   },
   {
    "duration": 37,
    "start_time": "2024-12-26T15:19:47.341Z"
   },
   {
    "duration": 11,
    "start_time": "2024-12-26T15:19:47.379Z"
   },
   {
    "duration": 46,
    "start_time": "2024-12-26T15:19:47.392Z"
   },
   {
    "duration": 12,
    "start_time": "2024-12-26T15:19:47.440Z"
   },
   {
    "duration": 16,
    "start_time": "2024-12-26T15:19:47.454Z"
   },
   {
    "duration": 4,
    "start_time": "2024-12-26T15:19:47.472Z"
   },
   {
    "duration": 8,
    "start_time": "2024-12-26T15:19:47.477Z"
   },
   {
    "duration": 40,
    "start_time": "2024-12-26T15:19:47.487Z"
   },
   {
    "duration": 19,
    "start_time": "2024-12-26T15:19:47.529Z"
   },
   {
    "duration": 24,
    "start_time": "2024-12-26T15:19:47.550Z"
   },
   {
    "duration": 32,
    "start_time": "2024-12-26T15:19:47.576Z"
   },
   {
    "duration": 4,
    "start_time": "2024-12-26T15:19:47.610Z"
   },
   {
    "duration": 29,
    "start_time": "2024-12-26T15:19:47.616Z"
   },
   {
    "duration": 16,
    "start_time": "2024-12-26T15:19:47.647Z"
   },
   {
    "duration": 6,
    "start_time": "2024-12-26T15:19:47.665Z"
   },
   {
    "duration": 41,
    "start_time": "2024-12-26T15:19:47.673Z"
   },
   {
    "duration": 42,
    "start_time": "2024-12-26T15:19:47.716Z"
   },
   {
    "duration": 4,
    "start_time": "2024-12-26T15:19:47.760Z"
   },
   {
    "duration": 7,
    "start_time": "2024-12-26T15:19:47.765Z"
   },
   {
    "duration": 6,
    "start_time": "2024-12-26T15:19:47.774Z"
   },
   {
    "duration": 10,
    "start_time": "2024-12-26T15:19:47.781Z"
   },
   {
    "duration": 203,
    "start_time": "2024-12-26T15:19:47.796Z"
   },
   {
    "duration": 8,
    "start_time": "2024-12-26T15:19:48.000Z"
   },
   {
    "duration": 220,
    "start_time": "2024-12-26T15:19:48.009Z"
   },
   {
    "duration": 30,
    "start_time": "2024-12-26T15:19:48.230Z"
   },
   {
    "duration": 150,
    "start_time": "2024-12-26T15:19:48.262Z"
   },
   {
    "duration": 120,
    "start_time": "2024-12-26T15:19:48.414Z"
   },
   {
    "duration": 192,
    "start_time": "2024-12-26T15:19:48.535Z"
   },
   {
    "duration": 17,
    "start_time": "2024-12-26T15:19:48.729Z"
   },
   {
    "duration": 147,
    "start_time": "2024-12-26T15:19:48.748Z"
   },
   {
    "duration": 115,
    "start_time": "2024-12-26T15:19:48.896Z"
   },
   {
    "duration": 7,
    "start_time": "2024-12-26T15:19:49.012Z"
   },
   {
    "duration": 168,
    "start_time": "2024-12-26T15:19:49.020Z"
   },
   {
    "duration": 7,
    "start_time": "2024-12-26T15:19:49.190Z"
   },
   {
    "duration": 158,
    "start_time": "2024-12-26T15:19:49.198Z"
   },
   {
    "duration": 179,
    "start_time": "2024-12-26T15:19:49.357Z"
   },
   {
    "duration": 149,
    "start_time": "2024-12-26T15:19:49.545Z"
   },
   {
    "duration": 42,
    "start_time": "2024-12-26T15:19:49.696Z"
   },
   {
    "duration": 146,
    "start_time": "2024-12-26T15:19:49.739Z"
   },
   {
    "duration": 278,
    "start_time": "2024-12-26T15:19:49.886Z"
   },
   {
    "duration": 333,
    "start_time": "2024-12-26T15:19:50.166Z"
   },
   {
    "duration": 9,
    "start_time": "2024-12-26T15:19:50.500Z"
   },
   {
    "duration": 17,
    "start_time": "2024-12-26T15:19:50.510Z"
   },
   {
    "duration": 5,
    "start_time": "2024-12-26T15:19:50.528Z"
   },
   {
    "duration": 28,
    "start_time": "2024-12-26T15:19:50.535Z"
   },
   {
    "duration": 174,
    "start_time": "2024-12-26T15:19:50.564Z"
   },
   {
    "duration": 120,
    "start_time": "2024-12-26T15:19:50.739Z"
   },
   {
    "duration": 4,
    "start_time": "2024-12-26T15:21:02.417Z"
   },
   {
    "duration": 316,
    "start_time": "2024-12-26T15:21:21.376Z"
   },
   {
    "duration": 4,
    "start_time": "2024-12-26T15:21:22.756Z"
   },
   {
    "duration": 9,
    "start_time": "2024-12-26T15:21:23.428Z"
   },
   {
    "duration": 6,
    "start_time": "2024-12-26T15:25:01.956Z"
   },
   {
    "duration": 54,
    "start_time": "2024-12-26T15:25:33.986Z"
   },
   {
    "duration": 1171,
    "start_time": "2024-12-26T15:25:45.787Z"
   },
   {
    "duration": 14,
    "start_time": "2024-12-26T15:25:59.016Z"
   },
   {
    "duration": 8,
    "start_time": "2024-12-26T15:26:23.216Z"
   },
   {
    "duration": 47,
    "start_time": "2024-12-27T16:01:40.389Z"
   },
   {
    "duration": 4567,
    "start_time": "2024-12-27T16:01:51.397Z"
   },
   {
    "duration": 1350,
    "start_time": "2024-12-27T16:01:55.966Z"
   },
   {
    "duration": 3,
    "start_time": "2024-12-27T16:01:57.317Z"
   },
   {
    "duration": 15,
    "start_time": "2024-12-27T16:01:57.322Z"
   },
   {
    "duration": 266,
    "start_time": "2024-12-27T16:01:57.339Z"
   },
   {
    "duration": 15,
    "start_time": "2024-12-27T16:01:57.606Z"
   },
   {
    "duration": 43,
    "start_time": "2024-12-27T16:01:57.622Z"
   },
   {
    "duration": 34,
    "start_time": "2024-12-27T16:01:57.667Z"
   },
   {
    "duration": 35,
    "start_time": "2024-12-27T16:01:57.703Z"
   },
   {
    "duration": 36,
    "start_time": "2024-12-27T16:01:57.741Z"
   },
   {
    "duration": 22,
    "start_time": "2024-12-27T16:01:57.779Z"
   },
   {
    "duration": 14,
    "start_time": "2024-12-27T16:01:57.803Z"
   },
   {
    "duration": 26,
    "start_time": "2024-12-27T16:01:57.819Z"
   },
   {
    "duration": 5,
    "start_time": "2024-12-27T16:01:57.847Z"
   },
   {
    "duration": 8,
    "start_time": "2024-12-27T16:01:57.854Z"
   },
   {
    "duration": 13,
    "start_time": "2024-12-27T16:01:57.864Z"
   },
   {
    "duration": 6,
    "start_time": "2024-12-27T16:01:57.879Z"
   },
   {
    "duration": 10,
    "start_time": "2024-12-27T16:01:57.887Z"
   },
   {
    "duration": 42,
    "start_time": "2024-12-27T16:01:57.898Z"
   },
   {
    "duration": 23,
    "start_time": "2024-12-27T16:01:57.941Z"
   },
   {
    "duration": 10,
    "start_time": "2024-12-27T16:01:57.965Z"
   },
   {
    "duration": 33,
    "start_time": "2024-12-27T16:01:57.977Z"
   },
   {
    "duration": 32,
    "start_time": "2024-12-27T16:01:58.011Z"
   },
   {
    "duration": 3,
    "start_time": "2024-12-27T16:01:58.045Z"
   },
   {
    "duration": 10,
    "start_time": "2024-12-27T16:01:58.049Z"
   },
   {
    "duration": 6,
    "start_time": "2024-12-27T16:01:58.061Z"
   },
   {
    "duration": 9,
    "start_time": "2024-12-27T16:01:58.069Z"
   },
   {
    "duration": 216,
    "start_time": "2024-12-27T16:01:58.083Z"
   },
   {
    "duration": 6,
    "start_time": "2024-12-27T16:01:58.300Z"
   },
   {
    "duration": 243,
    "start_time": "2024-12-27T16:01:58.307Z"
   },
   {
    "duration": 10,
    "start_time": "2024-12-27T16:01:58.552Z"
   },
   {
    "duration": 179,
    "start_time": "2024-12-27T16:01:58.564Z"
   },
   {
    "duration": 133,
    "start_time": "2024-12-27T16:01:58.745Z"
   },
   {
    "duration": 221,
    "start_time": "2024-12-27T16:01:58.880Z"
   },
   {
    "duration": 8,
    "start_time": "2024-12-27T16:01:59.103Z"
   },
   {
    "duration": 187,
    "start_time": "2024-12-27T16:01:59.112Z"
   },
   {
    "duration": 114,
    "start_time": "2024-12-27T16:01:59.301Z"
   },
   {
    "duration": 6,
    "start_time": "2024-12-27T16:01:59.416Z"
   },
   {
    "duration": 194,
    "start_time": "2024-12-27T16:01:59.424Z"
   },
   {
    "duration": 18,
    "start_time": "2024-12-27T16:01:59.619Z"
   },
   {
    "duration": 167,
    "start_time": "2024-12-27T16:01:59.638Z"
   },
   {
    "duration": 214,
    "start_time": "2024-12-27T16:01:59.806Z"
   },
   {
    "duration": 195,
    "start_time": "2024-12-27T16:02:00.021Z"
   },
   {
    "duration": 70,
    "start_time": "2024-12-27T16:02:00.217Z"
   },
   {
    "duration": 178,
    "start_time": "2024-12-27T16:02:00.289Z"
   },
   {
    "duration": 367,
    "start_time": "2024-12-27T16:02:00.469Z"
   },
   {
    "duration": 348,
    "start_time": "2024-12-27T16:02:00.838Z"
   },
   {
    "duration": 5,
    "start_time": "2024-12-27T16:02:01.187Z"
   },
   {
    "duration": 61,
    "start_time": "2024-12-27T16:02:01.193Z"
   },
   {
    "duration": 157,
    "start_time": "2024-12-27T16:02:01.256Z"
   },
   {
    "duration": 0,
    "start_time": "2024-12-27T16:02:01.415Z"
   },
   {
    "duration": 0,
    "start_time": "2024-12-27T16:02:01.416Z"
   },
   {
    "duration": 0,
    "start_time": "2024-12-27T16:02:01.417Z"
   },
   {
    "duration": 14,
    "start_time": "2024-12-27T16:03:31.908Z"
   },
   {
    "duration": 67,
    "start_time": "2024-12-27T16:12:04.687Z"
   },
   {
    "duration": 74,
    "start_time": "2024-12-27T16:12:13.713Z"
   },
   {
    "duration": 2644,
    "start_time": "2024-12-27T16:12:34.788Z"
   },
   {
    "duration": 1183,
    "start_time": "2024-12-27T16:12:37.435Z"
   },
   {
    "duration": 3,
    "start_time": "2024-12-27T16:12:38.619Z"
   },
   {
    "duration": 24,
    "start_time": "2024-12-27T16:12:38.624Z"
   },
   {
    "duration": 277,
    "start_time": "2024-12-27T16:12:38.650Z"
   },
   {
    "duration": 15,
    "start_time": "2024-12-27T16:12:38.929Z"
   },
   {
    "duration": 17,
    "start_time": "2024-12-27T16:12:38.945Z"
   },
   {
    "duration": 24,
    "start_time": "2024-12-27T16:12:38.964Z"
   },
   {
    "duration": 28,
    "start_time": "2024-12-27T16:12:38.989Z"
   },
   {
    "duration": 11,
    "start_time": "2024-12-27T16:12:39.019Z"
   },
   {
    "duration": 13,
    "start_time": "2024-12-27T16:12:39.032Z"
   },
   {
    "duration": 4,
    "start_time": "2024-12-27T16:12:39.046Z"
   },
   {
    "duration": 5,
    "start_time": "2024-12-27T16:12:39.051Z"
   },
   {
    "duration": 3,
    "start_time": "2024-12-27T16:12:39.059Z"
   },
   {
    "duration": 17,
    "start_time": "2024-12-27T16:12:39.064Z"
   },
   {
    "duration": 10,
    "start_time": "2024-12-27T16:12:39.083Z"
   },
   {
    "duration": 12,
    "start_time": "2024-12-27T16:12:39.094Z"
   },
   {
    "duration": 24,
    "start_time": "2024-12-27T16:12:39.107Z"
   },
   {
    "duration": 4,
    "start_time": "2024-12-27T16:12:39.137Z"
   },
   {
    "duration": 22,
    "start_time": "2024-12-27T16:12:39.142Z"
   },
   {
    "duration": 5,
    "start_time": "2024-12-27T16:12:39.166Z"
   },
   {
    "duration": 21,
    "start_time": "2024-12-27T16:12:39.173Z"
   },
   {
    "duration": 51,
    "start_time": "2024-12-27T16:12:39.195Z"
   },
   {
    "duration": 15,
    "start_time": "2024-12-27T16:12:39.248Z"
   },
   {
    "duration": 5,
    "start_time": "2024-12-27T16:12:39.264Z"
   },
   {
    "duration": 13,
    "start_time": "2024-12-27T16:12:39.270Z"
   },
   {
    "duration": 7,
    "start_time": "2024-12-27T16:12:39.285Z"
   },
   {
    "duration": 183,
    "start_time": "2024-12-27T16:12:39.293Z"
   },
   {
    "duration": 7,
    "start_time": "2024-12-27T16:12:39.478Z"
   },
   {
    "duration": 226,
    "start_time": "2024-12-27T16:12:39.487Z"
   },
   {
    "duration": 24,
    "start_time": "2024-12-27T16:12:39.715Z"
   },
   {
    "duration": 160,
    "start_time": "2024-12-27T16:12:39.741Z"
   },
   {
    "duration": 136,
    "start_time": "2024-12-27T16:12:39.903Z"
   },
   {
    "duration": 213,
    "start_time": "2024-12-27T16:12:40.041Z"
   },
   {
    "duration": 8,
    "start_time": "2024-12-27T16:12:40.256Z"
   },
   {
    "duration": 175,
    "start_time": "2024-12-27T16:12:40.265Z"
   },
   {
    "duration": 116,
    "start_time": "2024-12-27T16:12:40.441Z"
   },
   {
    "duration": 6,
    "start_time": "2024-12-27T16:12:40.559Z"
   },
   {
    "duration": 184,
    "start_time": "2024-12-27T16:12:40.567Z"
   },
   {
    "duration": 9,
    "start_time": "2024-12-27T16:12:40.752Z"
   },
   {
    "duration": 171,
    "start_time": "2024-12-27T16:12:40.766Z"
   },
   {
    "duration": 204,
    "start_time": "2024-12-27T16:12:40.939Z"
   },
   {
    "duration": 172,
    "start_time": "2024-12-27T16:12:41.145Z"
   },
   {
    "duration": 47,
    "start_time": "2024-12-27T16:12:41.319Z"
   },
   {
    "duration": 166,
    "start_time": "2024-12-27T16:12:41.368Z"
   },
   {
    "duration": 295,
    "start_time": "2024-12-27T16:12:41.536Z"
   },
   {
    "duration": 72,
    "start_time": "2024-12-27T16:12:41.837Z"
   },
   {
    "duration": 117,
    "start_time": "2024-12-27T16:12:41.910Z"
   },
   {
    "duration": 0,
    "start_time": "2024-12-27T16:12:42.037Z"
   },
   {
    "duration": 74,
    "start_time": "2024-12-27T16:14:34.902Z"
   },
   {
    "duration": 71,
    "start_time": "2024-12-27T16:14:48.387Z"
   },
   {
    "duration": 226,
    "start_time": "2024-12-27T16:22:44.938Z"
   },
   {
    "duration": 225,
    "start_time": "2024-12-27T16:23:29.348Z"
   },
   {
    "duration": 233,
    "start_time": "2024-12-27T16:24:06.138Z"
   },
   {
    "duration": 222,
    "start_time": "2024-12-27T16:24:13.688Z"
   },
   {
    "duration": 221,
    "start_time": "2024-12-27T16:24:32.638Z"
   },
   {
    "duration": 227,
    "start_time": "2024-12-27T16:25:05.398Z"
   },
   {
    "duration": 6,
    "start_time": "2024-12-27T16:26:52.989Z"
   },
   {
    "duration": 5,
    "start_time": "2024-12-27T16:28:45.746Z"
   },
   {
    "duration": 239,
    "start_time": "2024-12-27T16:30:26.100Z"
   },
   {
    "duration": 2514,
    "start_time": "2024-12-27T16:30:57.878Z"
   },
   {
    "duration": 1126,
    "start_time": "2024-12-27T16:31:00.395Z"
   },
   {
    "duration": 3,
    "start_time": "2024-12-27T16:31:01.522Z"
   },
   {
    "duration": 30,
    "start_time": "2024-12-27T16:31:01.528Z"
   },
   {
    "duration": 246,
    "start_time": "2024-12-27T16:31:01.561Z"
   },
   {
    "duration": 15,
    "start_time": "2024-12-27T16:31:01.809Z"
   },
   {
    "duration": 56,
    "start_time": "2024-12-27T16:31:01.826Z"
   },
   {
    "duration": 16,
    "start_time": "2024-12-27T16:31:01.884Z"
   },
   {
    "duration": 30,
    "start_time": "2024-12-27T16:31:01.902Z"
   },
   {
    "duration": 45,
    "start_time": "2024-12-27T16:31:01.936Z"
   },
   {
    "duration": 27,
    "start_time": "2024-12-27T16:31:01.982Z"
   },
   {
    "duration": 9,
    "start_time": "2024-12-27T16:31:02.011Z"
   },
   {
    "duration": 34,
    "start_time": "2024-12-27T16:31:02.022Z"
   },
   {
    "duration": 10,
    "start_time": "2024-12-27T16:31:02.060Z"
   },
   {
    "duration": 9,
    "start_time": "2024-12-27T16:31:02.072Z"
   },
   {
    "duration": 33,
    "start_time": "2024-12-27T16:31:02.082Z"
   },
   {
    "duration": 13,
    "start_time": "2024-12-27T16:31:02.117Z"
   },
   {
    "duration": 4,
    "start_time": "2024-12-27T16:31:02.132Z"
   },
   {
    "duration": 18,
    "start_time": "2024-12-27T16:31:02.137Z"
   },
   {
    "duration": 17,
    "start_time": "2024-12-27T16:31:02.156Z"
   },
   {
    "duration": 5,
    "start_time": "2024-12-27T16:31:02.175Z"
   },
   {
    "duration": 33,
    "start_time": "2024-12-27T16:31:02.182Z"
   },
   {
    "duration": 47,
    "start_time": "2024-12-27T16:31:02.217Z"
   },
   {
    "duration": 11,
    "start_time": "2024-12-27T16:31:02.265Z"
   },
   {
    "duration": 20,
    "start_time": "2024-12-27T16:31:02.278Z"
   },
   {
    "duration": 26,
    "start_time": "2024-12-27T16:31:02.300Z"
   },
   {
    "duration": 29,
    "start_time": "2024-12-27T16:31:02.329Z"
   },
   {
    "duration": 189,
    "start_time": "2024-12-27T16:31:02.360Z"
   },
   {
    "duration": 7,
    "start_time": "2024-12-27T16:31:02.550Z"
   },
   {
    "duration": 233,
    "start_time": "2024-12-27T16:31:02.558Z"
   },
   {
    "duration": 11,
    "start_time": "2024-12-27T16:31:02.793Z"
   },
   {
    "duration": 186,
    "start_time": "2024-12-27T16:31:02.806Z"
   },
   {
    "duration": 134,
    "start_time": "2024-12-27T16:31:02.994Z"
   },
   {
    "duration": 239,
    "start_time": "2024-12-27T16:31:03.130Z"
   },
   {
    "duration": 8,
    "start_time": "2024-12-27T16:31:03.371Z"
   },
   {
    "duration": 186,
    "start_time": "2024-12-27T16:31:03.381Z"
   },
   {
    "duration": 131,
    "start_time": "2024-12-27T16:31:03.569Z"
   },
   {
    "duration": 6,
    "start_time": "2024-12-27T16:31:03.702Z"
   },
   {
    "duration": 193,
    "start_time": "2024-12-27T16:31:03.710Z"
   },
   {
    "duration": 10,
    "start_time": "2024-12-27T16:31:03.905Z"
   },
   {
    "duration": 188,
    "start_time": "2024-12-27T16:31:03.920Z"
   },
   {
    "duration": 219,
    "start_time": "2024-12-27T16:31:04.109Z"
   },
   {
    "duration": 180,
    "start_time": "2024-12-27T16:31:04.330Z"
   },
   {
    "duration": 61,
    "start_time": "2024-12-27T16:31:04.512Z"
   },
   {
    "duration": 177,
    "start_time": "2024-12-27T16:31:04.576Z"
   },
   {
    "duration": 309,
    "start_time": "2024-12-27T16:31:04.755Z"
   },
   {
    "duration": 79,
    "start_time": "2024-12-27T16:31:05.066Z"
   },
   {
    "duration": 240,
    "start_time": "2024-12-27T16:31:05.147Z"
   },
   {
    "duration": 7,
    "start_time": "2024-12-27T16:31:05.389Z"
   },
   {
    "duration": 164,
    "start_time": "2024-12-27T16:31:05.398Z"
   },
   {
    "duration": 2552,
    "start_time": "2024-12-27T16:40:06.476Z"
   },
   {
    "duration": 1197,
    "start_time": "2024-12-27T16:40:09.030Z"
   },
   {
    "duration": 3,
    "start_time": "2024-12-27T16:40:10.228Z"
   },
   {
    "duration": 3,
    "start_time": "2024-12-27T16:40:10.236Z"
   },
   {
    "duration": 226,
    "start_time": "2024-12-27T16:40:10.241Z"
   },
   {
    "duration": 14,
    "start_time": "2024-12-27T16:40:10.468Z"
   },
   {
    "duration": 17,
    "start_time": "2024-12-27T16:40:10.483Z"
   },
   {
    "duration": 11,
    "start_time": "2024-12-27T16:40:10.502Z"
   },
   {
    "duration": 23,
    "start_time": "2024-12-27T16:40:10.515Z"
   },
   {
    "duration": 23,
    "start_time": "2024-12-27T16:40:10.540Z"
   },
   {
    "duration": 13,
    "start_time": "2024-12-27T16:40:10.564Z"
   },
   {
    "duration": 4,
    "start_time": "2024-12-27T16:40:10.579Z"
   },
   {
    "duration": 7,
    "start_time": "2024-12-27T16:40:10.584Z"
   },
   {
    "duration": 4,
    "start_time": "2024-12-27T16:40:10.594Z"
   },
   {
    "duration": 12,
    "start_time": "2024-12-27T16:40:10.599Z"
   },
   {
    "duration": 30,
    "start_time": "2024-12-27T16:40:10.613Z"
   },
   {
    "duration": 8,
    "start_time": "2024-12-27T16:40:10.645Z"
   },
   {
    "duration": 5,
    "start_time": "2024-12-27T16:40:10.654Z"
   },
   {
    "duration": 14,
    "start_time": "2024-12-27T16:40:10.660Z"
   },
   {
    "duration": 31,
    "start_time": "2024-12-27T16:40:10.676Z"
   },
   {
    "duration": 7,
    "start_time": "2024-12-27T16:40:10.709Z"
   },
   {
    "duration": 36,
    "start_time": "2024-12-27T16:40:10.717Z"
   },
   {
    "duration": 37,
    "start_time": "2024-12-27T16:40:10.755Z"
   },
   {
    "duration": 4,
    "start_time": "2024-12-27T16:40:10.794Z"
   },
   {
    "duration": 8,
    "start_time": "2024-12-27T16:40:10.799Z"
   },
   {
    "duration": 9,
    "start_time": "2024-12-27T16:40:10.808Z"
   },
   {
    "duration": 11,
    "start_time": "2024-12-27T16:40:10.837Z"
   },
   {
    "duration": 181,
    "start_time": "2024-12-27T16:40:10.849Z"
   },
   {
    "duration": 10,
    "start_time": "2024-12-27T16:40:11.032Z"
   },
   {
    "duration": 225,
    "start_time": "2024-12-27T16:40:11.044Z"
   },
   {
    "duration": 11,
    "start_time": "2024-12-27T16:40:11.270Z"
   },
   {
    "duration": 212,
    "start_time": "2024-12-27T16:40:11.283Z"
   },
   {
    "duration": 133,
    "start_time": "2024-12-27T16:40:11.497Z"
   },
   {
    "duration": 215,
    "start_time": "2024-12-27T16:40:11.632Z"
   },
   {
    "duration": 8,
    "start_time": "2024-12-27T16:40:11.849Z"
   },
   {
    "duration": 179,
    "start_time": "2024-12-27T16:40:11.858Z"
   },
   {
    "duration": 118,
    "start_time": "2024-12-27T16:40:12.038Z"
   },
   {
    "duration": 7,
    "start_time": "2024-12-27T16:40:12.158Z"
   },
   {
    "duration": 186,
    "start_time": "2024-12-27T16:40:12.166Z"
   },
   {
    "duration": 8,
    "start_time": "2024-12-27T16:40:12.354Z"
   },
   {
    "duration": 173,
    "start_time": "2024-12-27T16:40:12.366Z"
   },
   {
    "duration": 212,
    "start_time": "2024-12-27T16:40:12.541Z"
   },
   {
    "duration": 176,
    "start_time": "2024-12-27T16:40:12.755Z"
   },
   {
    "duration": 46,
    "start_time": "2024-12-27T16:40:12.936Z"
   },
   {
    "duration": 187,
    "start_time": "2024-12-27T16:40:12.984Z"
   },
   {
    "duration": 316,
    "start_time": "2024-12-27T16:40:13.173Z"
   },
   {
    "duration": 80,
    "start_time": "2024-12-27T16:40:13.491Z"
   },
   {
    "duration": 227,
    "start_time": "2024-12-27T16:40:13.573Z"
   },
   {
    "duration": 5,
    "start_time": "2024-12-27T16:40:13.802Z"
   },
   {
    "duration": 145,
    "start_time": "2024-12-27T16:40:13.809Z"
   },
   {
    "duration": 113,
    "start_time": "2024-12-27T16:53:39.820Z"
   },
   {
    "duration": 7,
    "start_time": "2024-12-27T16:53:52.830Z"
   },
   {
    "duration": 8,
    "start_time": "2024-12-27T16:54:21.710Z"
   },
   {
    "duration": 8,
    "start_time": "2024-12-27T16:54:31.552Z"
   },
   {
    "duration": 104,
    "start_time": "2024-12-27T16:57:07.671Z"
   },
   {
    "duration": 4,
    "start_time": "2024-12-27T16:57:13.971Z"
   },
   {
    "duration": 188,
    "start_time": "2024-12-27T16:57:18.482Z"
   },
   {
    "duration": 207,
    "start_time": "2024-12-27T16:57:26.070Z"
   },
   {
    "duration": 219,
    "start_time": "2024-12-27T16:57:33.769Z"
   },
   {
    "duration": 189,
    "start_time": "2024-12-27T16:57:39.818Z"
   },
   {
    "duration": 198,
    "start_time": "2024-12-27T16:58:27.580Z"
   },
   {
    "duration": 49,
    "start_time": "2024-12-27T19:14:35.458Z"
   },
   {
    "duration": 3407,
    "start_time": "2024-12-27T19:14:46.541Z"
   },
   {
    "duration": 1344,
    "start_time": "2024-12-27T19:14:49.951Z"
   },
   {
    "duration": 3,
    "start_time": "2024-12-27T19:14:51.297Z"
   },
   {
    "duration": 25,
    "start_time": "2024-12-27T19:14:51.301Z"
   },
   {
    "duration": 262,
    "start_time": "2024-12-27T19:14:51.328Z"
   },
   {
    "duration": 15,
    "start_time": "2024-12-27T19:14:51.592Z"
   },
   {
    "duration": 44,
    "start_time": "2024-12-27T19:14:51.609Z"
   },
   {
    "duration": 10,
    "start_time": "2024-12-27T19:14:51.655Z"
   },
   {
    "duration": 22,
    "start_time": "2024-12-27T19:14:51.667Z"
   },
   {
    "duration": 38,
    "start_time": "2024-12-27T19:14:51.691Z"
   },
   {
    "duration": 34,
    "start_time": "2024-12-27T19:14:51.731Z"
   },
   {
    "duration": 10,
    "start_time": "2024-12-27T19:14:51.766Z"
   },
   {
    "duration": 24,
    "start_time": "2024-12-27T19:14:51.778Z"
   },
   {
    "duration": 28,
    "start_time": "2024-12-27T19:14:51.805Z"
   },
   {
    "duration": 32,
    "start_time": "2024-12-27T19:14:51.835Z"
   },
   {
    "duration": 25,
    "start_time": "2024-12-27T19:14:51.869Z"
   },
   {
    "duration": 8,
    "start_time": "2024-12-27T19:14:51.895Z"
   },
   {
    "duration": 24,
    "start_time": "2024-12-27T19:14:51.904Z"
   },
   {
    "duration": 20,
    "start_time": "2024-12-27T19:14:51.930Z"
   },
   {
    "duration": 50,
    "start_time": "2024-12-27T19:14:51.952Z"
   },
   {
    "duration": 6,
    "start_time": "2024-12-27T19:14:52.004Z"
   },
   {
    "duration": 44,
    "start_time": "2024-12-27T19:14:52.012Z"
   },
   {
    "duration": 39,
    "start_time": "2024-12-27T19:14:52.058Z"
   },
   {
    "duration": 5,
    "start_time": "2024-12-27T19:14:52.098Z"
   },
   {
    "duration": 46,
    "start_time": "2024-12-27T19:14:52.105Z"
   },
   {
    "duration": 28,
    "start_time": "2024-12-27T19:14:52.152Z"
   },
   {
    "duration": 15,
    "start_time": "2024-12-27T19:14:52.181Z"
   },
   {
    "duration": 187,
    "start_time": "2024-12-27T19:14:52.198Z"
   },
   {
    "duration": 7,
    "start_time": "2024-12-27T19:14:52.387Z"
   },
   {
    "duration": 236,
    "start_time": "2024-12-27T19:14:52.395Z"
   },
   {
    "duration": 12,
    "start_time": "2024-12-27T19:14:52.633Z"
   },
   {
    "duration": 174,
    "start_time": "2024-12-27T19:14:52.646Z"
   },
   {
    "duration": 129,
    "start_time": "2024-12-27T19:14:52.821Z"
   },
   {
    "duration": 207,
    "start_time": "2024-12-27T19:14:52.952Z"
   },
   {
    "duration": 9,
    "start_time": "2024-12-27T19:14:53.160Z"
   },
   {
    "duration": 175,
    "start_time": "2024-12-27T19:14:53.170Z"
   },
   {
    "duration": 124,
    "start_time": "2024-12-27T19:14:53.347Z"
   },
   {
    "duration": 7,
    "start_time": "2024-12-27T19:14:53.473Z"
   },
   {
    "duration": 188,
    "start_time": "2024-12-27T19:14:53.482Z"
   },
   {
    "duration": 7,
    "start_time": "2024-12-27T19:14:53.673Z"
   },
   {
    "duration": 175,
    "start_time": "2024-12-27T19:14:53.684Z"
   },
   {
    "duration": 212,
    "start_time": "2024-12-27T19:14:53.860Z"
   },
   {
    "duration": 167,
    "start_time": "2024-12-27T19:14:54.074Z"
   },
   {
    "duration": 48,
    "start_time": "2024-12-27T19:14:54.243Z"
   },
   {
    "duration": 161,
    "start_time": "2024-12-27T19:14:54.294Z"
   },
   {
    "duration": 346,
    "start_time": "2024-12-27T19:14:54.457Z"
   },
   {
    "duration": 80,
    "start_time": "2024-12-27T19:14:54.805Z"
   },
   {
    "duration": 225,
    "start_time": "2024-12-27T19:14:54.887Z"
   },
   {
    "duration": 6,
    "start_time": "2024-12-27T19:14:55.114Z"
   },
   {
    "duration": 149,
    "start_time": "2024-12-27T19:14:55.122Z"
   },
   {
    "duration": 7,
    "start_time": "2024-12-27T19:14:55.273Z"
   },
   {
    "duration": 244,
    "start_time": "2024-12-27T19:14:55.282Z"
   },
   {
    "duration": 10,
    "start_time": "2024-12-27T19:14:55.527Z"
   },
   {
    "duration": 4,
    "start_time": "2024-12-27T19:15:06.691Z"
   },
   {
    "duration": 113,
    "start_time": "2024-12-27T19:16:10.603Z"
   },
   {
    "duration": 10,
    "start_time": "2024-12-27T19:16:43.354Z"
   },
   {
    "duration": 4,
    "start_time": "2024-12-27T19:20:28.881Z"
   },
   {
    "duration": 9,
    "start_time": "2024-12-27T19:20:34.841Z"
   },
   {
    "duration": 7,
    "start_time": "2024-12-27T19:20:53.471Z"
   },
   {
    "duration": 10,
    "start_time": "2024-12-27T19:22:08.403Z"
   },
   {
    "duration": 15,
    "start_time": "2024-12-27T19:22:20.872Z"
   },
   {
    "duration": 114,
    "start_time": "2024-12-27T19:24:11.465Z"
   },
   {
    "duration": 84,
    "start_time": "2024-12-27T19:24:16.811Z"
   },
   {
    "duration": 9,
    "start_time": "2024-12-27T19:24:37.201Z"
   },
   {
    "duration": 10,
    "start_time": "2024-12-27T19:24:47.773Z"
   },
   {
    "duration": 9,
    "start_time": "2024-12-27T19:25:22.730Z"
   },
   {
    "duration": 10,
    "start_time": "2024-12-27T19:26:19.773Z"
   },
   {
    "duration": 11,
    "start_time": "2024-12-27T19:28:53.757Z"
   },
   {
    "duration": 11,
    "start_time": "2024-12-27T19:31:02.342Z"
   },
   {
    "duration": 7,
    "start_time": "2024-12-27T19:34:39.721Z"
   },
   {
    "duration": 5,
    "start_time": "2024-12-27T19:37:32.631Z"
   },
   {
    "duration": 10,
    "start_time": "2024-12-27T19:37:37.858Z"
   },
   {
    "duration": 655664,
    "start_time": "2024-12-27T19:38:58.162Z"
   },
   {
    "duration": 0,
    "start_time": "2024-12-27T19:49:53.828Z"
   },
   {
    "duration": 115,
    "start_time": "2024-12-27T19:49:55.088Z"
   },
   {
    "duration": 86,
    "start_time": "2024-12-27T19:50:00.140Z"
   },
   {
    "duration": 178,
    "start_time": "2024-12-27T19:50:03.963Z"
   },
   {
    "duration": 196,
    "start_time": "2024-12-27T19:51:16.966Z"
   },
   {
    "duration": 14,
    "start_time": "2024-12-27T19:51:30.420Z"
   },
   {
    "duration": 337,
    "start_time": "2024-12-27T19:51:43.501Z"
   },
   {
    "duration": 175,
    "start_time": "2024-12-27T19:51:56.390Z"
   },
   {
    "duration": 656,
    "start_time": "2024-12-27T19:53:40.500Z"
   },
   {
    "duration": 22,
    "start_time": "2024-12-27T19:54:06.601Z"
   },
   {
    "duration": 12,
    "start_time": "2024-12-27T19:56:43.501Z"
   },
   {
    "duration": 14,
    "start_time": "2024-12-27T19:57:06.741Z"
   },
   {
    "duration": 19,
    "start_time": "2024-12-27T19:57:23.751Z"
   },
   {
    "duration": 19,
    "start_time": "2024-12-27T19:58:08.142Z"
   },
   {
    "duration": 14,
    "start_time": "2024-12-27T19:58:37.207Z"
   },
   {
    "duration": 705,
    "start_time": "2024-12-27T19:58:46.259Z"
   },
   {
    "duration": 14,
    "start_time": "2024-12-27T19:58:52.701Z"
   },
   {
    "duration": 13,
    "start_time": "2024-12-27T20:00:34.041Z"
   },
   {
    "duration": 24,
    "start_time": "2024-12-27T20:03:19.551Z"
   },
   {
    "duration": 0,
    "start_time": "2024-12-27T20:04:37.794Z"
   },
   {
    "duration": 48,
    "start_time": "2024-12-27T20:05:10.452Z"
   },
   {
    "duration": 2479,
    "start_time": "2024-12-27T20:05:18.360Z"
   },
   {
    "duration": 1194,
    "start_time": "2024-12-27T20:05:20.841Z"
   },
   {
    "duration": 3,
    "start_time": "2024-12-27T20:05:22.036Z"
   },
   {
    "duration": 7,
    "start_time": "2024-12-27T20:05:22.040Z"
   },
   {
    "duration": 283,
    "start_time": "2024-12-27T20:05:22.049Z"
   },
   {
    "duration": 15,
    "start_time": "2024-12-27T20:05:22.333Z"
   },
   {
    "duration": 17,
    "start_time": "2024-12-27T20:05:22.350Z"
   },
   {
    "duration": 11,
    "start_time": "2024-12-27T20:05:22.368Z"
   },
   {
    "duration": 12,
    "start_time": "2024-12-27T20:05:22.381Z"
   },
   {
    "duration": 14,
    "start_time": "2024-12-27T20:05:22.394Z"
   },
   {
    "duration": 14,
    "start_time": "2024-12-27T20:05:22.438Z"
   },
   {
    "duration": 5,
    "start_time": "2024-12-27T20:05:22.454Z"
   },
   {
    "duration": 11,
    "start_time": "2024-12-27T20:05:22.461Z"
   },
   {
    "duration": 5,
    "start_time": "2024-12-27T20:05:22.475Z"
   },
   {
    "duration": 13,
    "start_time": "2024-12-27T20:05:22.481Z"
   },
   {
    "duration": 11,
    "start_time": "2024-12-27T20:05:22.495Z"
   },
   {
    "duration": 36,
    "start_time": "2024-12-27T20:05:22.507Z"
   },
   {
    "duration": 4,
    "start_time": "2024-12-27T20:05:22.544Z"
   },
   {
    "duration": 8,
    "start_time": "2024-12-27T20:05:22.550Z"
   },
   {
    "duration": 22,
    "start_time": "2024-12-27T20:05:22.559Z"
   },
   {
    "duration": 5,
    "start_time": "2024-12-27T20:05:22.583Z"
   },
   {
    "duration": 26,
    "start_time": "2024-12-27T20:05:22.590Z"
   },
   {
    "duration": 33,
    "start_time": "2024-12-27T20:05:22.637Z"
   },
   {
    "duration": 4,
    "start_time": "2024-12-27T20:05:22.671Z"
   },
   {
    "duration": 4,
    "start_time": "2024-12-27T20:05:22.677Z"
   },
   {
    "duration": 5,
    "start_time": "2024-12-27T20:05:22.682Z"
   },
   {
    "duration": 6,
    "start_time": "2024-12-27T20:05:22.689Z"
   },
   {
    "duration": 213,
    "start_time": "2024-12-27T20:05:22.696Z"
   },
   {
    "duration": 7,
    "start_time": "2024-12-27T20:05:22.910Z"
   },
   {
    "duration": 235,
    "start_time": "2024-12-27T20:05:22.918Z"
   },
   {
    "duration": 12,
    "start_time": "2024-12-27T20:05:23.154Z"
   },
   {
    "duration": 175,
    "start_time": "2024-12-27T20:05:23.168Z"
   },
   {
    "duration": 133,
    "start_time": "2024-12-27T20:05:23.345Z"
   },
   {
    "duration": 226,
    "start_time": "2024-12-27T20:05:23.480Z"
   },
   {
    "duration": 8,
    "start_time": "2024-12-27T20:05:23.708Z"
   },
   {
    "duration": 236,
    "start_time": "2024-12-27T20:05:23.718Z"
   },
   {
    "duration": 124,
    "start_time": "2024-12-27T20:05:23.956Z"
   },
   {
    "duration": 7,
    "start_time": "2024-12-27T20:05:24.083Z"
   },
   {
    "duration": 188,
    "start_time": "2024-12-27T20:05:24.092Z"
   },
   {
    "duration": 10,
    "start_time": "2024-12-27T20:05:24.282Z"
   },
   {
    "duration": 177,
    "start_time": "2024-12-27T20:05:24.298Z"
   },
   {
    "duration": 214,
    "start_time": "2024-12-27T20:05:24.477Z"
   },
   {
    "duration": 171,
    "start_time": "2024-12-27T20:05:24.693Z"
   },
   {
    "duration": 68,
    "start_time": "2024-12-27T20:05:24.866Z"
   },
   {
    "duration": 168,
    "start_time": "2024-12-27T20:05:24.935Z"
   },
   {
    "duration": 336,
    "start_time": "2024-12-27T20:05:25.106Z"
   },
   {
    "duration": 75,
    "start_time": "2024-12-27T20:05:25.443Z"
   },
   {
    "duration": 231,
    "start_time": "2024-12-27T20:05:25.519Z"
   },
   {
    "duration": 6,
    "start_time": "2024-12-27T20:05:25.751Z"
   },
   {
    "duration": 165,
    "start_time": "2024-12-27T20:05:25.758Z"
   },
   {
    "duration": 15,
    "start_time": "2024-12-27T20:05:25.924Z"
   },
   {
    "duration": 209,
    "start_time": "2024-12-27T20:05:25.941Z"
   },
   {
    "duration": 15,
    "start_time": "2024-12-27T20:05:26.151Z"
   },
   {
    "duration": 73,
    "start_time": "2024-12-27T20:05:26.168Z"
   },
   {
    "duration": 0,
    "start_time": "2024-12-27T20:05:26.243Z"
   },
   {
    "duration": 0,
    "start_time": "2024-12-27T20:05:26.244Z"
   },
   {
    "duration": 0,
    "start_time": "2024-12-27T20:05:26.245Z"
   },
   {
    "duration": 0,
    "start_time": "2024-12-27T20:05:26.246Z"
   },
   {
    "duration": 0,
    "start_time": "2024-12-27T20:05:26.248Z"
   },
   {
    "duration": 0,
    "start_time": "2024-12-27T20:05:26.249Z"
   },
   {
    "duration": 222021,
    "start_time": "2024-12-27T20:05:43.430Z"
   },
   {
    "duration": 0,
    "start_time": "2024-12-27T20:09:25.453Z"
   },
   {
    "duration": 0,
    "start_time": "2024-12-27T20:09:25.455Z"
   },
   {
    "duration": 17,
    "start_time": "2024-12-27T20:09:28.520Z"
   },
   {
    "duration": 14,
    "start_time": "2024-12-27T20:09:29.930Z"
   },
   {
    "duration": 8,
    "start_time": "2024-12-27T20:10:44.901Z"
   },
   {
    "duration": 13,
    "start_time": "2024-12-27T20:10:54.690Z"
   },
   {
    "duration": 16,
    "start_time": "2024-12-27T20:14:31.590Z"
   },
   {
    "duration": 14,
    "start_time": "2024-12-27T20:14:52.500Z"
   },
   {
    "duration": 18,
    "start_time": "2024-12-27T20:15:06.130Z"
   },
   {
    "duration": 11,
    "start_time": "2024-12-27T20:15:11.330Z"
   },
   {
    "duration": 18,
    "start_time": "2024-12-27T20:15:19.141Z"
   },
   {
    "duration": 6,
    "start_time": "2024-12-27T20:18:45.372Z"
   },
   {
    "duration": 11,
    "start_time": "2024-12-27T20:18:51.720Z"
   },
   {
    "duration": 14,
    "start_time": "2024-12-27T20:18:59.781Z"
   },
   {
    "duration": 12,
    "start_time": "2024-12-27T20:19:09.741Z"
   },
   {
    "duration": 16,
    "start_time": "2024-12-27T20:19:41.460Z"
   },
   {
    "duration": 16,
    "start_time": "2024-12-27T20:20:19.052Z"
   },
   {
    "duration": 12,
    "start_time": "2024-12-27T20:21:44.470Z"
   },
   {
    "duration": 12,
    "start_time": "2024-12-27T20:25:32.620Z"
   },
   {
    "duration": 4,
    "start_time": "2024-12-27T20:26:40.930Z"
   },
   {
    "duration": 10,
    "start_time": "2024-12-27T20:26:45.700Z"
   },
   {
    "duration": 2468,
    "start_time": "2024-12-27T20:27:16.181Z"
   },
   {
    "duration": 1170,
    "start_time": "2024-12-27T20:27:18.651Z"
   },
   {
    "duration": 3,
    "start_time": "2024-12-27T20:27:19.822Z"
   },
   {
    "duration": 14,
    "start_time": "2024-12-27T20:27:19.826Z"
   },
   {
    "duration": 193,
    "start_time": "2024-12-27T20:27:19.842Z"
   },
   {
    "duration": 14,
    "start_time": "2024-12-27T20:27:20.037Z"
   },
   {
    "duration": 35,
    "start_time": "2024-12-27T20:27:20.053Z"
   },
   {
    "duration": 10,
    "start_time": "2024-12-27T20:27:20.090Z"
   },
   {
    "duration": 10,
    "start_time": "2024-12-27T20:27:20.101Z"
   },
   {
    "duration": 10,
    "start_time": "2024-12-27T20:27:20.113Z"
   },
   {
    "duration": 13,
    "start_time": "2024-12-27T20:27:20.138Z"
   },
   {
    "duration": 4,
    "start_time": "2024-12-27T20:27:20.152Z"
   },
   {
    "duration": 11,
    "start_time": "2024-12-27T20:27:20.157Z"
   },
   {
    "duration": 11,
    "start_time": "2024-12-27T20:27:20.171Z"
   },
   {
    "duration": 16,
    "start_time": "2024-12-27T20:27:20.183Z"
   },
   {
    "duration": 10,
    "start_time": "2024-12-27T20:27:20.201Z"
   },
   {
    "duration": 28,
    "start_time": "2024-12-27T20:27:20.213Z"
   },
   {
    "duration": 4,
    "start_time": "2024-12-27T20:27:20.244Z"
   },
   {
    "duration": 6,
    "start_time": "2024-12-27T20:27:20.251Z"
   },
   {
    "duration": 18,
    "start_time": "2024-12-27T20:27:20.258Z"
   },
   {
    "duration": 7,
    "start_time": "2024-12-27T20:27:20.278Z"
   },
   {
    "duration": 36,
    "start_time": "2024-12-27T20:27:20.286Z"
   },
   {
    "duration": 33,
    "start_time": "2024-12-27T20:27:20.337Z"
   },
   {
    "duration": 4,
    "start_time": "2024-12-27T20:27:20.372Z"
   },
   {
    "duration": 14,
    "start_time": "2024-12-27T20:27:20.378Z"
   },
   {
    "duration": 6,
    "start_time": "2024-12-27T20:27:20.394Z"
   },
   {
    "duration": 36,
    "start_time": "2024-12-27T20:27:20.402Z"
   },
   {
    "duration": 175,
    "start_time": "2024-12-27T20:27:20.440Z"
   },
   {
    "duration": 8,
    "start_time": "2024-12-27T20:27:20.617Z"
   },
   {
    "duration": 218,
    "start_time": "2024-12-27T20:27:20.638Z"
   },
   {
    "duration": 13,
    "start_time": "2024-12-27T20:27:20.858Z"
   },
   {
    "duration": 178,
    "start_time": "2024-12-27T20:27:20.873Z"
   },
   {
    "duration": 134,
    "start_time": "2024-12-27T20:27:21.053Z"
   },
   {
    "duration": 214,
    "start_time": "2024-12-27T20:27:21.189Z"
   },
   {
    "duration": 8,
    "start_time": "2024-12-27T20:27:21.405Z"
   },
   {
    "duration": 189,
    "start_time": "2024-12-27T20:27:21.414Z"
   },
   {
    "duration": 118,
    "start_time": "2024-12-27T20:27:21.605Z"
   },
   {
    "duration": 17,
    "start_time": "2024-12-27T20:27:21.724Z"
   },
   {
    "duration": 216,
    "start_time": "2024-12-27T20:27:21.743Z"
   },
   {
    "duration": 8,
    "start_time": "2024-12-27T20:27:21.961Z"
   },
   {
    "duration": 173,
    "start_time": "2024-12-27T20:27:21.973Z"
   },
   {
    "duration": 208,
    "start_time": "2024-12-27T20:27:22.147Z"
   },
   {
    "duration": 180,
    "start_time": "2024-12-27T20:27:22.357Z"
   },
   {
    "duration": 44,
    "start_time": "2024-12-27T20:27:22.539Z"
   },
   {
    "duration": 163,
    "start_time": "2024-12-27T20:27:22.585Z"
   },
   {
    "duration": 296,
    "start_time": "2024-12-27T20:27:22.750Z"
   },
   {
    "duration": 75,
    "start_time": "2024-12-27T20:27:23.048Z"
   },
   {
    "duration": 230,
    "start_time": "2024-12-27T20:27:23.125Z"
   },
   {
    "duration": 6,
    "start_time": "2024-12-27T20:27:23.357Z"
   },
   {
    "duration": 149,
    "start_time": "2024-12-27T20:27:23.364Z"
   },
   {
    "duration": 6,
    "start_time": "2024-12-27T20:27:23.515Z"
   },
   {
    "duration": 228,
    "start_time": "2024-12-27T20:27:23.522Z"
   },
   {
    "duration": 14,
    "start_time": "2024-12-27T20:27:23.752Z"
   },
   {
    "duration": 74,
    "start_time": "2024-12-27T20:27:23.767Z"
   },
   {
    "duration": 45,
    "start_time": "2024-12-27T20:27:23.842Z"
   },
   {
    "duration": 169,
    "start_time": "2024-12-27T20:27:23.888Z"
   },
   {
    "duration": 12,
    "start_time": "2024-12-27T20:27:24.058Z"
   },
   {
    "duration": 8,
    "start_time": "2024-12-27T20:27:54.531Z"
   },
   {
    "duration": 12,
    "start_time": "2024-12-27T20:28:15.161Z"
   },
   {
    "duration": 215,
    "start_time": "2024-12-27T20:28:36.879Z"
   },
   {
    "duration": 87,
    "start_time": "2024-12-28T15:08:28.872Z"
   },
   {
    "duration": 45,
    "start_time": "2024-12-28T15:09:54.072Z"
   },
   {
    "duration": 4279,
    "start_time": "2024-12-28T15:10:01.217Z"
   },
   {
    "duration": 1433,
    "start_time": "2024-12-28T15:10:05.498Z"
   },
   {
    "duration": 3,
    "start_time": "2024-12-28T15:10:06.933Z"
   },
   {
    "duration": 40,
    "start_time": "2024-12-28T15:10:06.938Z"
   },
   {
    "duration": 277,
    "start_time": "2024-12-28T15:10:06.980Z"
   },
   {
    "duration": 15,
    "start_time": "2024-12-28T15:10:07.259Z"
   },
   {
    "duration": 18,
    "start_time": "2024-12-28T15:10:07.276Z"
   },
   {
    "duration": 12,
    "start_time": "2024-12-28T15:10:07.295Z"
   },
   {
    "duration": 37,
    "start_time": "2024-12-28T15:10:07.309Z"
   },
   {
    "duration": 47,
    "start_time": "2024-12-28T15:10:07.347Z"
   },
   {
    "duration": 13,
    "start_time": "2024-12-28T15:10:07.396Z"
   },
   {
    "duration": 4,
    "start_time": "2024-12-28T15:10:07.411Z"
   },
   {
    "duration": 20,
    "start_time": "2024-12-28T15:10:07.417Z"
   },
   {
    "duration": 4,
    "start_time": "2024-12-28T15:10:07.440Z"
   },
   {
    "duration": 19,
    "start_time": "2024-12-28T15:10:07.446Z"
   },
   {
    "duration": 11,
    "start_time": "2024-12-28T15:10:07.467Z"
   },
   {
    "duration": 8,
    "start_time": "2024-12-28T15:10:07.479Z"
   },
   {
    "duration": 8,
    "start_time": "2024-12-28T15:10:07.489Z"
   },
   {
    "duration": 16,
    "start_time": "2024-12-28T15:10:07.499Z"
   },
   {
    "duration": 13,
    "start_time": "2024-12-28T15:10:07.517Z"
   },
   {
    "duration": 6,
    "start_time": "2024-12-28T15:10:07.532Z"
   },
   {
    "duration": 56,
    "start_time": "2024-12-28T15:10:07.539Z"
   },
   {
    "duration": 80,
    "start_time": "2024-12-28T15:10:07.596Z"
   },
   {
    "duration": 28,
    "start_time": "2024-12-28T15:10:07.677Z"
   },
   {
    "duration": 4,
    "start_time": "2024-12-28T15:10:07.706Z"
   },
   {
    "duration": 5,
    "start_time": "2024-12-28T15:10:07.712Z"
   },
   {
    "duration": 9,
    "start_time": "2024-12-28T15:10:07.719Z"
   },
   {
    "duration": 193,
    "start_time": "2024-12-28T15:10:07.730Z"
   },
   {
    "duration": 8,
    "start_time": "2024-12-28T15:10:07.925Z"
   },
   {
    "duration": 339,
    "start_time": "2024-12-28T15:10:07.935Z"
   },
   {
    "duration": 12,
    "start_time": "2024-12-28T15:10:08.275Z"
   },
   {
    "duration": 178,
    "start_time": "2024-12-28T15:10:08.288Z"
   },
   {
    "duration": 141,
    "start_time": "2024-12-28T15:10:08.468Z"
   },
   {
    "duration": 223,
    "start_time": "2024-12-28T15:10:08.610Z"
   },
   {
    "duration": 8,
    "start_time": "2024-12-28T15:10:08.835Z"
   },
   {
    "duration": 185,
    "start_time": "2024-12-28T15:10:08.845Z"
   },
   {
    "duration": 123,
    "start_time": "2024-12-28T15:10:09.032Z"
   },
   {
    "duration": 7,
    "start_time": "2024-12-28T15:10:09.156Z"
   },
   {
    "duration": 194,
    "start_time": "2024-12-28T15:10:09.166Z"
   },
   {
    "duration": 9,
    "start_time": "2024-12-28T15:10:09.361Z"
   },
   {
    "duration": 171,
    "start_time": "2024-12-28T15:10:09.374Z"
   },
   {
    "duration": 221,
    "start_time": "2024-12-28T15:10:09.547Z"
   },
   {
    "duration": 173,
    "start_time": "2024-12-28T15:10:09.770Z"
   },
   {
    "duration": 46,
    "start_time": "2024-12-28T15:10:09.944Z"
   },
   {
    "duration": 258,
    "start_time": "2024-12-28T15:10:09.991Z"
   },
   {
    "duration": 397,
    "start_time": "2024-12-28T15:10:10.251Z"
   },
   {
    "duration": 82,
    "start_time": "2024-12-28T15:10:10.650Z"
   },
   {
    "duration": 231,
    "start_time": "2024-12-28T15:10:10.734Z"
   },
   {
    "duration": 6,
    "start_time": "2024-12-28T15:10:10.967Z"
   },
   {
    "duration": 156,
    "start_time": "2024-12-28T15:10:10.975Z"
   },
   {
    "duration": 7,
    "start_time": "2024-12-28T15:10:11.133Z"
   },
   {
    "duration": 219,
    "start_time": "2024-12-28T15:10:11.141Z"
   },
   {
    "duration": 34,
    "start_time": "2024-12-28T15:10:11.362Z"
   },
   {
    "duration": 28,
    "start_time": "2024-12-28T15:10:11.398Z"
   },
   {
    "duration": 13,
    "start_time": "2024-12-28T15:10:11.428Z"
   },
   {
    "duration": 14,
    "start_time": "2024-12-28T15:10:11.443Z"
   },
   {
    "duration": 254,
    "start_time": "2024-12-28T15:10:11.459Z"
   },
   {
    "duration": 12,
    "start_time": "2024-12-28T15:10:11.715Z"
   },
   {
    "duration": 154,
    "start_time": "2024-12-28T15:13:15.527Z"
   },
   {
    "duration": 32,
    "start_time": "2024-12-28T15:14:58.076Z"
   },
   {
    "duration": 45,
    "start_time": "2024-12-28T15:17:41.806Z"
   },
   {
    "duration": 146,
    "start_time": "2024-12-28T15:17:58.288Z"
   },
   {
    "duration": 0,
    "start_time": "2024-12-28T15:22:06.102Z"
   },
   {
    "duration": 16,
    "start_time": "2024-12-28T15:22:06.917Z"
   },
   {
    "duration": 182,
    "start_time": "2024-12-28T15:27:42.093Z"
   },
   {
    "duration": 173,
    "start_time": "2024-12-28T15:28:10.606Z"
   },
   {
    "duration": 14,
    "start_time": "2024-12-28T15:37:41.897Z"
   },
   {
    "duration": 180,
    "start_time": "2024-12-28T15:42:37.678Z"
   },
   {
    "duration": 156,
    "start_time": "2024-12-28T15:43:20.503Z"
   },
   {
    "duration": 155,
    "start_time": "2024-12-28T15:45:18.306Z"
   },
   {
    "duration": 184,
    "start_time": "2024-12-28T15:47:43.430Z"
   },
   {
    "duration": 190,
    "start_time": "2024-12-28T15:47:58.409Z"
   },
   {
    "duration": 189,
    "start_time": "2024-12-28T15:48:04.369Z"
   },
   {
    "duration": 211,
    "start_time": "2024-12-28T15:48:16.579Z"
   },
   {
    "duration": 7,
    "start_time": "2024-12-28T15:52:05.208Z"
   },
   {
    "duration": 3987,
    "start_time": "2024-12-29T14:31:03.153Z"
   },
   {
    "duration": 1590,
    "start_time": "2024-12-29T14:31:07.144Z"
   },
   {
    "duration": 3,
    "start_time": "2024-12-29T14:31:08.736Z"
   },
   {
    "duration": 16,
    "start_time": "2024-12-29T14:31:08.741Z"
   },
   {
    "duration": 280,
    "start_time": "2024-12-29T14:31:08.762Z"
   },
   {
    "duration": 18,
    "start_time": "2024-12-29T14:31:09.044Z"
   },
   {
    "duration": 19,
    "start_time": "2024-12-29T14:31:09.063Z"
   },
   {
    "duration": 12,
    "start_time": "2024-12-29T14:31:09.084Z"
   },
   {
    "duration": 12,
    "start_time": "2024-12-29T14:31:09.098Z"
   },
   {
    "duration": 48,
    "start_time": "2024-12-29T14:31:09.112Z"
   },
   {
    "duration": 22,
    "start_time": "2024-12-29T14:31:09.162Z"
   },
   {
    "duration": 4,
    "start_time": "2024-12-29T14:31:09.185Z"
   },
   {
    "duration": 10,
    "start_time": "2024-12-29T14:31:09.191Z"
   },
   {
    "duration": 8,
    "start_time": "2024-12-29T14:31:09.205Z"
   },
   {
    "duration": 10,
    "start_time": "2024-12-29T14:31:09.215Z"
   },
   {
    "duration": 39,
    "start_time": "2024-12-29T14:31:09.227Z"
   },
   {
    "duration": 7,
    "start_time": "2024-12-29T14:31:09.268Z"
   },
   {
    "duration": 4,
    "start_time": "2024-12-29T14:31:09.277Z"
   },
   {
    "duration": 13,
    "start_time": "2024-12-29T14:31:09.282Z"
   },
   {
    "duration": 15,
    "start_time": "2024-12-29T14:31:09.296Z"
   },
   {
    "duration": 48,
    "start_time": "2024-12-29T14:31:09.314Z"
   },
   {
    "duration": 24,
    "start_time": "2024-12-29T14:31:09.364Z"
   },
   {
    "duration": 40,
    "start_time": "2024-12-29T14:31:09.390Z"
   },
   {
    "duration": 30,
    "start_time": "2024-12-29T14:31:09.432Z"
   },
   {
    "duration": 5,
    "start_time": "2024-12-29T14:31:09.464Z"
   },
   {
    "duration": 6,
    "start_time": "2024-12-29T14:31:09.471Z"
   },
   {
    "duration": 9,
    "start_time": "2024-12-29T14:31:09.479Z"
   },
   {
    "duration": 239,
    "start_time": "2024-12-29T14:31:09.491Z"
   },
   {
    "duration": 9,
    "start_time": "2024-12-29T14:31:09.732Z"
   },
   {
    "duration": 246,
    "start_time": "2024-12-29T14:31:09.743Z"
   },
   {
    "duration": 11,
    "start_time": "2024-12-29T14:31:09.991Z"
   },
   {
    "duration": 200,
    "start_time": "2024-12-29T14:31:10.004Z"
   },
   {
    "duration": 145,
    "start_time": "2024-12-29T14:31:10.206Z"
   },
   {
    "duration": 236,
    "start_time": "2024-12-29T14:31:10.353Z"
   },
   {
    "duration": 10,
    "start_time": "2024-12-29T14:31:10.592Z"
   },
   {
    "duration": 201,
    "start_time": "2024-12-29T14:31:10.605Z"
   },
   {
    "duration": 141,
    "start_time": "2024-12-29T14:31:10.808Z"
   },
   {
    "duration": 14,
    "start_time": "2024-12-29T14:31:10.951Z"
   },
   {
    "duration": 193,
    "start_time": "2024-12-29T14:31:10.966Z"
   },
   {
    "duration": 9,
    "start_time": "2024-12-29T14:31:11.163Z"
   },
   {
    "duration": 182,
    "start_time": "2024-12-29T14:31:11.178Z"
   },
   {
    "duration": 230,
    "start_time": "2024-12-29T14:31:11.362Z"
   },
   {
    "duration": 201,
    "start_time": "2024-12-29T14:31:11.594Z"
   },
   {
    "duration": 57,
    "start_time": "2024-12-29T14:31:11.798Z"
   },
   {
    "duration": 186,
    "start_time": "2024-12-29T14:31:11.857Z"
   },
   {
    "duration": 364,
    "start_time": "2024-12-29T14:31:12.044Z"
   },
   {
    "duration": 84,
    "start_time": "2024-12-29T14:31:12.410Z"
   },
   {
    "duration": 240,
    "start_time": "2024-12-29T14:31:12.496Z"
   },
   {
    "duration": 7,
    "start_time": "2024-12-29T14:31:12.738Z"
   },
   {
    "duration": 168,
    "start_time": "2024-12-29T14:31:12.747Z"
   },
   {
    "duration": 8,
    "start_time": "2024-12-29T14:31:12.917Z"
   },
   {
    "duration": 241,
    "start_time": "2024-12-29T14:31:12.927Z"
   },
   {
    "duration": 193,
    "start_time": "2024-12-29T14:31:13.171Z"
   },
   {
    "duration": 198,
    "start_time": "2024-12-29T14:31:13.366Z"
   },
   {
    "duration": 19,
    "start_time": "2024-12-29T14:31:13.566Z"
   },
   {
    "duration": 228,
    "start_time": "2024-12-29T14:31:13.586Z"
   },
   {
    "duration": 16,
    "start_time": "2024-12-29T14:31:13.816Z"
   },
   {
    "duration": 35,
    "start_time": "2024-12-29T14:31:13.834Z"
   },
   {
    "duration": 27,
    "start_time": "2024-12-29T14:31:13.871Z"
   },
   {
    "duration": 242,
    "start_time": "2024-12-29T14:31:13.900Z"
   },
   {
    "duration": 3479,
    "start_time": "2024-12-29T14:59:54.595Z"
   },
   {
    "duration": 1367,
    "start_time": "2024-12-29T14:59:58.077Z"
   },
   {
    "duration": 3,
    "start_time": "2024-12-29T14:59:59.450Z"
   },
   {
    "duration": 6,
    "start_time": "2024-12-29T14:59:59.456Z"
   },
   {
    "duration": 284,
    "start_time": "2024-12-29T14:59:59.465Z"
   },
   {
    "duration": 15,
    "start_time": "2024-12-29T14:59:59.751Z"
   },
   {
    "duration": 21,
    "start_time": "2024-12-29T14:59:59.767Z"
   },
   {
    "duration": 11,
    "start_time": "2024-12-29T14:59:59.789Z"
   },
   {
    "duration": 10,
    "start_time": "2024-12-29T14:59:59.801Z"
   },
   {
    "duration": 35,
    "start_time": "2024-12-29T14:59:59.813Z"
   },
   {
    "duration": 20,
    "start_time": "2024-12-29T14:59:59.850Z"
   },
   {
    "duration": 4,
    "start_time": "2024-12-29T14:59:59.872Z"
   },
   {
    "duration": 15,
    "start_time": "2024-12-29T14:59:59.878Z"
   },
   {
    "duration": 4,
    "start_time": "2024-12-29T14:59:59.895Z"
   },
   {
    "duration": 8,
    "start_time": "2024-12-29T14:59:59.901Z"
   },
   {
    "duration": 30,
    "start_time": "2024-12-29T14:59:59.910Z"
   },
   {
    "duration": 10,
    "start_time": "2024-12-29T14:59:59.942Z"
   },
   {
    "duration": 16,
    "start_time": "2024-12-29T14:59:59.954Z"
   },
   {
    "duration": 25,
    "start_time": "2024-12-29T14:59:59.971Z"
   },
   {
    "duration": 15,
    "start_time": "2024-12-29T14:59:59.997Z"
   },
   {
    "duration": 46,
    "start_time": "2024-12-29T15:00:00.013Z"
   },
   {
    "duration": 47,
    "start_time": "2024-12-29T15:00:00.060Z"
   },
   {
    "duration": 63,
    "start_time": "2024-12-29T15:00:00.109Z"
   },
   {
    "duration": 4,
    "start_time": "2024-12-29T15:00:00.173Z"
   },
   {
    "duration": 49,
    "start_time": "2024-12-29T15:00:00.179Z"
   },
   {
    "duration": 41,
    "start_time": "2024-12-29T15:00:00.230Z"
   },
   {
    "duration": 32,
    "start_time": "2024-12-29T15:00:00.273Z"
   },
   {
    "duration": 276,
    "start_time": "2024-12-29T15:00:00.307Z"
   },
   {
    "duration": 6,
    "start_time": "2024-12-29T15:00:00.585Z"
   },
   {
    "duration": 265,
    "start_time": "2024-12-29T15:00:00.593Z"
   },
   {
    "duration": 10,
    "start_time": "2024-12-29T15:00:00.859Z"
   },
   {
    "duration": 184,
    "start_time": "2024-12-29T15:00:00.871Z"
   },
   {
    "duration": 145,
    "start_time": "2024-12-29T15:00:01.057Z"
   },
   {
    "duration": 228,
    "start_time": "2024-12-29T15:00:01.203Z"
   },
   {
    "duration": 19,
    "start_time": "2024-12-29T15:00:01.433Z"
   },
   {
    "duration": 295,
    "start_time": "2024-12-29T15:00:01.454Z"
   },
   {
    "duration": 115,
    "start_time": "2024-12-29T15:00:01.751Z"
   },
   {
    "duration": 7,
    "start_time": "2024-12-29T15:00:01.867Z"
   },
   {
    "duration": 201,
    "start_time": "2024-12-29T15:00:01.875Z"
   },
   {
    "duration": 8,
    "start_time": "2024-12-29T15:00:02.078Z"
   },
   {
    "duration": 180,
    "start_time": "2024-12-29T15:00:02.090Z"
   },
   {
    "duration": 222,
    "start_time": "2024-12-29T15:00:02.271Z"
   },
   {
    "duration": 188,
    "start_time": "2024-12-29T15:00:02.495Z"
   },
   {
    "duration": 425,
    "start_time": "2024-12-29T15:00:02.685Z"
   },
   {
    "duration": 173,
    "start_time": "2024-12-29T15:00:03.112Z"
   },
   {
    "duration": 385,
    "start_time": "2024-12-29T15:00:03.287Z"
   },
   {
    "duration": 79,
    "start_time": "2024-12-29T15:00:03.674Z"
   },
   {
    "duration": 325,
    "start_time": "2024-12-29T15:00:03.754Z"
   },
   {
    "duration": 6,
    "start_time": "2024-12-29T15:00:04.081Z"
   },
   {
    "duration": 166,
    "start_time": "2024-12-29T15:00:04.089Z"
   },
   {
    "duration": 8,
    "start_time": "2024-12-29T15:00:04.257Z"
   },
   {
    "duration": 219,
    "start_time": "2024-12-29T15:00:04.267Z"
   },
   {
    "duration": 183,
    "start_time": "2024-12-29T15:00:04.488Z"
   },
   {
    "duration": 179,
    "start_time": "2024-12-29T15:00:04.673Z"
   },
   {
    "duration": 18,
    "start_time": "2024-12-29T15:00:04.853Z"
   },
   {
    "duration": 200,
    "start_time": "2024-12-29T15:00:04.873Z"
   },
   {
    "duration": 15,
    "start_time": "2024-12-29T15:00:05.075Z"
   },
   {
    "duration": 58,
    "start_time": "2024-12-29T15:00:05.092Z"
   },
   {
    "duration": 160,
    "start_time": "2024-12-29T15:00:05.151Z"
   },
   {
    "duration": 362,
    "start_time": "2024-12-29T15:00:05.313Z"
   },
   {
    "duration": 10,
    "start_time": "2024-12-29T16:25:23.270Z"
   },
   {
    "duration": 12,
    "start_time": "2024-12-29T16:25:34.965Z"
   },
   {
    "duration": 23,
    "start_time": "2024-12-29T16:25:35.956Z"
   },
   {
    "duration": 12,
    "start_time": "2024-12-29T16:28:58.051Z"
   },
   {
    "duration": 15,
    "start_time": "2024-12-29T16:28:58.666Z"
   },
   {
    "duration": 88,
    "start_time": "2025-01-09T12:39:59.045Z"
   },
   {
    "duration": 3386,
    "start_time": "2025-01-09T12:40:41.956Z"
   },
   {
    "duration": 1281,
    "start_time": "2025-01-09T12:40:45.344Z"
   },
   {
    "duration": 257,
    "start_time": "2025-01-09T12:40:46.626Z"
   },
   {
    "duration": 17,
    "start_time": "2025-01-09T12:40:46.886Z"
   },
   {
    "duration": 20,
    "start_time": "2025-01-09T12:40:46.906Z"
   },
   {
    "duration": 9,
    "start_time": "2025-01-09T12:40:46.928Z"
   },
   {
    "duration": 17,
    "start_time": "2025-01-09T12:40:46.938Z"
   },
   {
    "duration": 9,
    "start_time": "2025-01-09T12:40:46.957Z"
   },
   {
    "duration": 10,
    "start_time": "2025-01-09T12:40:46.968Z"
   },
   {
    "duration": 4,
    "start_time": "2025-01-09T12:40:46.980Z"
   },
   {
    "duration": 8,
    "start_time": "2025-01-09T12:40:46.986Z"
   },
   {
    "duration": 21,
    "start_time": "2025-01-09T12:40:46.996Z"
   },
   {
    "duration": 34,
    "start_time": "2025-01-09T12:40:47.018Z"
   },
   {
    "duration": 9,
    "start_time": "2025-01-09T12:40:47.055Z"
   },
   {
    "duration": 22,
    "start_time": "2025-01-09T12:40:47.066Z"
   },
   {
    "duration": 33,
    "start_time": "2025-01-09T12:40:47.090Z"
   },
   {
    "duration": 31,
    "start_time": "2025-01-09T12:40:47.125Z"
   },
   {
    "duration": 18,
    "start_time": "2025-01-09T12:40:47.158Z"
   },
   {
    "duration": 10,
    "start_time": "2025-01-09T12:40:47.177Z"
   },
   {
    "duration": 19,
    "start_time": "2025-01-09T12:40:47.189Z"
   },
   {
    "duration": 29,
    "start_time": "2025-01-09T12:40:47.210Z"
   },
   {
    "duration": 15,
    "start_time": "2025-01-09T12:40:47.240Z"
   },
   {
    "duration": 4,
    "start_time": "2025-01-09T12:40:47.256Z"
   },
   {
    "duration": 7,
    "start_time": "2025-01-09T12:40:47.261Z"
   },
   {
    "duration": 6,
    "start_time": "2025-01-09T12:40:47.270Z"
   },
   {
    "duration": 170,
    "start_time": "2025-01-09T12:40:47.278Z"
   },
   {
    "duration": 6,
    "start_time": "2025-01-09T12:40:47.453Z"
   },
   {
    "duration": 200,
    "start_time": "2025-01-09T12:40:47.460Z"
   },
   {
    "duration": 10,
    "start_time": "2025-01-09T12:40:47.661Z"
   },
   {
    "duration": 158,
    "start_time": "2025-01-09T12:40:47.672Z"
   },
   {
    "duration": 128,
    "start_time": "2025-01-09T12:40:47.831Z"
   },
   {
    "duration": 196,
    "start_time": "2025-01-09T12:40:47.960Z"
   },
   {
    "duration": 8,
    "start_time": "2025-01-09T12:40:48.157Z"
   },
   {
    "duration": 159,
    "start_time": "2025-01-09T12:40:48.166Z"
   },
   {
    "duration": 106,
    "start_time": "2025-01-09T12:40:48.327Z"
   },
   {
    "duration": 7,
    "start_time": "2025-01-09T12:40:48.434Z"
   },
   {
    "duration": 192,
    "start_time": "2025-01-09T12:40:48.442Z"
   },
   {
    "duration": 8,
    "start_time": "2025-01-09T12:40:48.635Z"
   },
   {
    "duration": 155,
    "start_time": "2025-01-09T12:40:48.644Z"
   },
   {
    "duration": 183,
    "start_time": "2025-01-09T12:40:48.800Z"
   },
   {
    "duration": 154,
    "start_time": "2025-01-09T12:40:48.986Z"
   },
   {
    "duration": 50,
    "start_time": "2025-01-09T12:40:49.141Z"
   },
   {
    "duration": 144,
    "start_time": "2025-01-09T12:40:49.193Z"
   },
   {
    "duration": 333,
    "start_time": "2025-01-09T12:40:49.339Z"
   },
   {
    "duration": 70,
    "start_time": "2025-01-09T12:40:49.673Z"
   },
   {
    "duration": 211,
    "start_time": "2025-01-09T12:40:49.745Z"
   },
   {
    "duration": 6,
    "start_time": "2025-01-09T12:40:49.957Z"
   },
   {
    "duration": 131,
    "start_time": "2025-01-09T12:40:49.964Z"
   },
   {
    "duration": 6,
    "start_time": "2025-01-09T12:40:50.096Z"
   },
   {
    "duration": 187,
    "start_time": "2025-01-09T12:40:50.103Z"
   },
   {
    "duration": 143,
    "start_time": "2025-01-09T12:40:50.291Z"
   },
   {
    "duration": 148,
    "start_time": "2025-01-09T12:40:50.436Z"
   },
   {
    "duration": 14,
    "start_time": "2025-01-09T12:40:50.585Z"
   },
   {
    "duration": 175,
    "start_time": "2025-01-09T12:40:50.601Z"
   },
   {
    "duration": 12,
    "start_time": "2025-01-09T12:40:50.777Z"
   },
   {
    "duration": 13,
    "start_time": "2025-01-09T12:40:50.790Z"
   },
   {
    "duration": 96,
    "start_time": "2025-01-09T12:40:50.804Z"
   },
   {
    "duration": 195,
    "start_time": "2025-01-09T12:40:50.901Z"
   },
   {
    "duration": 9,
    "start_time": "2025-01-09T12:41:29.675Z"
   },
   {
    "duration": 16,
    "start_time": "2025-01-09T12:41:32.563Z"
   },
   {
    "duration": 2393,
    "start_time": "2025-01-09T12:42:27.256Z"
   },
   {
    "duration": 1116,
    "start_time": "2025-01-09T12:42:29.651Z"
   },
   {
    "duration": 189,
    "start_time": "2025-01-09T12:42:30.769Z"
   },
   {
    "duration": 13,
    "start_time": "2025-01-09T12:42:30.960Z"
   },
   {
    "duration": 65,
    "start_time": "2025-01-09T12:42:30.975Z"
   },
   {
    "duration": 42,
    "start_time": "2025-01-09T12:42:31.041Z"
   },
   {
    "duration": 84,
    "start_time": "2025-01-09T12:42:31.085Z"
   },
   {
    "duration": 37,
    "start_time": "2025-01-09T12:42:31.171Z"
   },
   {
    "duration": 23,
    "start_time": "2025-01-09T12:42:31.209Z"
   },
   {
    "duration": 28,
    "start_time": "2025-01-09T12:42:31.234Z"
   },
   {
    "duration": 50,
    "start_time": "2025-01-09T12:42:31.264Z"
   },
   {
    "duration": 41,
    "start_time": "2025-01-09T12:42:31.316Z"
   },
   {
    "duration": 20,
    "start_time": "2025-01-09T12:42:31.359Z"
   },
   {
    "duration": 13,
    "start_time": "2025-01-09T12:42:31.382Z"
   },
   {
    "duration": 9,
    "start_time": "2025-01-09T12:42:31.396Z"
   },
   {
    "duration": 55,
    "start_time": "2025-01-09T12:42:31.407Z"
   },
   {
    "duration": 22,
    "start_time": "2025-01-09T12:42:31.464Z"
   },
   {
    "duration": 58,
    "start_time": "2025-01-09T12:42:31.487Z"
   },
   {
    "duration": 5,
    "start_time": "2025-01-09T12:42:31.547Z"
   },
   {
    "duration": 160,
    "start_time": "2025-01-09T12:42:31.553Z"
   },
   {
    "duration": 53,
    "start_time": "2025-01-09T12:42:31.715Z"
   },
   {
    "duration": 4,
    "start_time": "2025-01-09T12:42:31.769Z"
   },
   {
    "duration": 15,
    "start_time": "2025-01-09T12:42:31.774Z"
   },
   {
    "duration": 11,
    "start_time": "2025-01-09T12:42:31.791Z"
   },
   {
    "duration": 16,
    "start_time": "2025-01-09T12:42:31.803Z"
   },
   {
    "duration": 164,
    "start_time": "2025-01-09T12:42:31.820Z"
   },
   {
    "duration": 7,
    "start_time": "2025-01-09T12:42:31.985Z"
   },
   {
    "duration": 202,
    "start_time": "2025-01-09T12:42:31.993Z"
   },
   {
    "duration": 11,
    "start_time": "2025-01-09T12:42:32.196Z"
   },
   {
    "duration": 183,
    "start_time": "2025-01-09T12:42:32.208Z"
   },
   {
    "duration": 124,
    "start_time": "2025-01-09T12:42:32.393Z"
   },
   {
    "duration": 195,
    "start_time": "2025-01-09T12:42:32.518Z"
   },
   {
    "duration": 7,
    "start_time": "2025-01-09T12:42:32.714Z"
   },
   {
    "duration": 152,
    "start_time": "2025-01-09T12:42:32.723Z"
   },
   {
    "duration": 114,
    "start_time": "2025-01-09T12:42:32.876Z"
   },
   {
    "duration": 6,
    "start_time": "2025-01-09T12:42:32.991Z"
   },
   {
    "duration": 170,
    "start_time": "2025-01-09T12:42:32.999Z"
   },
   {
    "duration": 7,
    "start_time": "2025-01-09T12:42:33.170Z"
   },
   {
    "duration": 170,
    "start_time": "2025-01-09T12:42:33.179Z"
   },
   {
    "duration": 201,
    "start_time": "2025-01-09T12:42:33.353Z"
   },
   {
    "duration": 152,
    "start_time": "2025-01-09T12:42:33.558Z"
   },
   {
    "duration": 46,
    "start_time": "2025-01-09T12:42:33.712Z"
   },
   {
    "duration": 199,
    "start_time": "2025-01-09T12:42:33.760Z"
   },
   {
    "duration": 285,
    "start_time": "2025-01-09T12:42:33.961Z"
   },
   {
    "duration": 90,
    "start_time": "2025-01-09T12:42:34.253Z"
   },
   {
    "duration": 239,
    "start_time": "2025-01-09T12:42:34.345Z"
   },
   {
    "duration": 6,
    "start_time": "2025-01-09T12:42:34.585Z"
   },
   {
    "duration": 144,
    "start_time": "2025-01-09T12:42:34.592Z"
   },
   {
    "duration": 6,
    "start_time": "2025-01-09T12:42:34.738Z"
   },
   {
    "duration": 204,
    "start_time": "2025-01-09T12:42:34.745Z"
   },
   {
    "duration": 137,
    "start_time": "2025-01-09T12:42:34.950Z"
   },
   {
    "duration": 156,
    "start_time": "2025-01-09T12:42:35.088Z"
   },
   {
    "duration": 18,
    "start_time": "2025-01-09T12:42:35.253Z"
   },
   {
    "duration": 184,
    "start_time": "2025-01-09T12:42:35.272Z"
   },
   {
    "duration": 13,
    "start_time": "2025-01-09T12:42:35.458Z"
   },
   {
    "duration": 18,
    "start_time": "2025-01-09T12:42:35.472Z"
   },
   {
    "duration": 33,
    "start_time": "2025-01-09T12:42:35.492Z"
   },
   {
    "duration": 190,
    "start_time": "2025-01-09T12:42:35.527Z"
   },
   {
    "duration": 102,
    "start_time": "2025-01-09T12:57:06.710Z"
   },
   {
    "duration": 19,
    "start_time": "2025-01-09T12:57:07.707Z"
   },
   {
    "duration": 2250,
    "start_time": "2025-01-09T12:57:16.446Z"
   },
   {
    "duration": 1057,
    "start_time": "2025-01-09T12:57:18.699Z"
   },
   {
    "duration": 207,
    "start_time": "2025-01-09T12:57:19.758Z"
   },
   {
    "duration": 14,
    "start_time": "2025-01-09T12:57:19.967Z"
   },
   {
    "duration": 17,
    "start_time": "2025-01-09T12:57:19.983Z"
   },
   {
    "duration": 9,
    "start_time": "2025-01-09T12:57:20.002Z"
   },
   {
    "duration": 13,
    "start_time": "2025-01-09T12:57:20.013Z"
   },
   {
    "duration": 12,
    "start_time": "2025-01-09T12:57:20.053Z"
   },
   {
    "duration": 14,
    "start_time": "2025-01-09T12:57:20.066Z"
   },
   {
    "duration": 4,
    "start_time": "2025-01-09T12:57:20.082Z"
   },
   {
    "duration": 8,
    "start_time": "2025-01-09T12:57:20.087Z"
   },
   {
    "duration": 10,
    "start_time": "2025-01-09T12:57:20.097Z"
   },
   {
    "duration": 11,
    "start_time": "2025-01-09T12:57:20.108Z"
   },
   {
    "duration": 13,
    "start_time": "2025-01-09T12:57:20.153Z"
   },
   {
    "duration": 18,
    "start_time": "2025-01-09T12:57:20.167Z"
   },
   {
    "duration": 27,
    "start_time": "2025-01-09T12:57:20.186Z"
   },
   {
    "duration": 18,
    "start_time": "2025-01-09T12:57:20.214Z"
   },
   {
    "duration": 5,
    "start_time": "2025-01-09T12:57:20.234Z"
   },
   {
    "duration": 34,
    "start_time": "2025-01-09T12:57:20.240Z"
   },
   {
    "duration": 95,
    "start_time": "2025-01-09T12:57:20.276Z"
   },
   {
    "duration": 0,
    "start_time": "2025-01-09T12:57:20.374Z"
   },
   {
    "duration": 0,
    "start_time": "2025-01-09T12:57:20.375Z"
   },
   {
    "duration": 0,
    "start_time": "2025-01-09T12:57:20.376Z"
   },
   {
    "duration": 0,
    "start_time": "2025-01-09T12:57:20.377Z"
   },
   {
    "duration": 0,
    "start_time": "2025-01-09T12:57:20.378Z"
   },
   {
    "duration": 0,
    "start_time": "2025-01-09T12:57:20.379Z"
   },
   {
    "duration": 0,
    "start_time": "2025-01-09T12:57:20.380Z"
   },
   {
    "duration": 0,
    "start_time": "2025-01-09T12:57:20.381Z"
   },
   {
    "duration": 0,
    "start_time": "2025-01-09T12:57:20.382Z"
   },
   {
    "duration": 0,
    "start_time": "2025-01-09T12:57:20.383Z"
   },
   {
    "duration": 0,
    "start_time": "2025-01-09T12:57:20.384Z"
   },
   {
    "duration": 0,
    "start_time": "2025-01-09T12:57:20.385Z"
   },
   {
    "duration": 0,
    "start_time": "2025-01-09T12:57:20.386Z"
   },
   {
    "duration": 0,
    "start_time": "2025-01-09T12:57:20.387Z"
   },
   {
    "duration": 0,
    "start_time": "2025-01-09T12:57:20.388Z"
   },
   {
    "duration": 0,
    "start_time": "2025-01-09T12:57:20.389Z"
   },
   {
    "duration": 0,
    "start_time": "2025-01-09T12:57:20.390Z"
   },
   {
    "duration": 0,
    "start_time": "2025-01-09T12:57:20.391Z"
   },
   {
    "duration": 0,
    "start_time": "2025-01-09T12:57:20.392Z"
   },
   {
    "duration": 0,
    "start_time": "2025-01-09T12:57:20.393Z"
   },
   {
    "duration": 0,
    "start_time": "2025-01-09T12:57:20.394Z"
   },
   {
    "duration": 0,
    "start_time": "2025-01-09T12:57:20.395Z"
   },
   {
    "duration": 0,
    "start_time": "2025-01-09T12:57:20.396Z"
   },
   {
    "duration": 0,
    "start_time": "2025-01-09T12:57:20.397Z"
   },
   {
    "duration": 0,
    "start_time": "2025-01-09T12:57:20.398Z"
   },
   {
    "duration": 0,
    "start_time": "2025-01-09T12:57:20.399Z"
   },
   {
    "duration": 0,
    "start_time": "2025-01-09T12:57:20.400Z"
   },
   {
    "duration": 0,
    "start_time": "2025-01-09T12:57:20.401Z"
   },
   {
    "duration": 0,
    "start_time": "2025-01-09T12:57:20.402Z"
   },
   {
    "duration": 0,
    "start_time": "2025-01-09T12:57:20.403Z"
   },
   {
    "duration": 0,
    "start_time": "2025-01-09T12:57:20.404Z"
   },
   {
    "duration": 0,
    "start_time": "2025-01-09T12:57:20.454Z"
   },
   {
    "duration": 0,
    "start_time": "2025-01-09T12:57:20.455Z"
   },
   {
    "duration": 0,
    "start_time": "2025-01-09T12:57:20.456Z"
   },
   {
    "duration": 1,
    "start_time": "2025-01-09T12:57:20.457Z"
   },
   {
    "duration": 0,
    "start_time": "2025-01-09T12:57:20.458Z"
   },
   {
    "duration": 0,
    "start_time": "2025-01-09T12:57:20.459Z"
   },
   {
    "duration": 0,
    "start_time": "2025-01-09T12:57:20.460Z"
   },
   {
    "duration": 1,
    "start_time": "2025-01-09T12:57:20.461Z"
   },
   {
    "duration": 10,
    "start_time": "2025-01-09T12:58:05.035Z"
   },
   {
    "duration": 2296,
    "start_time": "2025-01-09T12:58:45.276Z"
   },
   {
    "duration": 1097,
    "start_time": "2025-01-09T12:58:47.574Z"
   },
   {
    "duration": 182,
    "start_time": "2025-01-09T12:58:48.672Z"
   },
   {
    "duration": 14,
    "start_time": "2025-01-09T12:58:48.855Z"
   },
   {
    "duration": 16,
    "start_time": "2025-01-09T12:58:48.871Z"
   },
   {
    "duration": 71,
    "start_time": "2025-01-09T12:58:48.888Z"
   },
   {
    "duration": 9,
    "start_time": "2025-01-09T12:58:48.960Z"
   },
   {
    "duration": 14,
    "start_time": "2025-01-09T12:58:48.970Z"
   },
   {
    "duration": 17,
    "start_time": "2025-01-09T12:58:48.985Z"
   },
   {
    "duration": 5,
    "start_time": "2025-01-09T12:58:49.003Z"
   },
   {
    "duration": 8,
    "start_time": "2025-01-09T12:58:49.010Z"
   },
   {
    "duration": 24,
    "start_time": "2025-01-09T12:58:49.020Z"
   },
   {
    "duration": 21,
    "start_time": "2025-01-09T12:58:49.045Z"
   },
   {
    "duration": 10,
    "start_time": "2025-01-09T12:58:49.070Z"
   },
   {
    "duration": 3,
    "start_time": "2025-01-09T12:58:49.082Z"
   },
   {
    "duration": 6,
    "start_time": "2025-01-09T12:58:49.086Z"
   },
   {
    "duration": 21,
    "start_time": "2025-01-09T12:58:49.093Z"
   },
   {
    "duration": 5,
    "start_time": "2025-01-09T12:58:49.116Z"
   },
   {
    "duration": 59,
    "start_time": "2025-01-09T12:58:49.122Z"
   },
   {
    "duration": 102,
    "start_time": "2025-01-09T12:58:49.182Z"
   },
   {
    "duration": 0,
    "start_time": "2025-01-09T12:58:49.287Z"
   },
   {
    "duration": 0,
    "start_time": "2025-01-09T12:58:49.288Z"
   },
   {
    "duration": 0,
    "start_time": "2025-01-09T12:58:49.289Z"
   },
   {
    "duration": 0,
    "start_time": "2025-01-09T12:58:49.290Z"
   },
   {
    "duration": 0,
    "start_time": "2025-01-09T12:58:49.291Z"
   },
   {
    "duration": 0,
    "start_time": "2025-01-09T12:58:49.292Z"
   },
   {
    "duration": 0,
    "start_time": "2025-01-09T12:58:49.293Z"
   },
   {
    "duration": 0,
    "start_time": "2025-01-09T12:58:49.294Z"
   },
   {
    "duration": 0,
    "start_time": "2025-01-09T12:58:49.295Z"
   },
   {
    "duration": 0,
    "start_time": "2025-01-09T12:58:49.296Z"
   },
   {
    "duration": 0,
    "start_time": "2025-01-09T12:58:49.297Z"
   },
   {
    "duration": 0,
    "start_time": "2025-01-09T12:58:49.298Z"
   },
   {
    "duration": 0,
    "start_time": "2025-01-09T12:58:49.299Z"
   },
   {
    "duration": 0,
    "start_time": "2025-01-09T12:58:49.301Z"
   },
   {
    "duration": 0,
    "start_time": "2025-01-09T12:58:49.301Z"
   },
   {
    "duration": 0,
    "start_time": "2025-01-09T12:58:49.302Z"
   },
   {
    "duration": 0,
    "start_time": "2025-01-09T12:58:49.303Z"
   },
   {
    "duration": 0,
    "start_time": "2025-01-09T12:58:49.304Z"
   },
   {
    "duration": 0,
    "start_time": "2025-01-09T12:58:49.305Z"
   },
   {
    "duration": 0,
    "start_time": "2025-01-09T12:58:49.306Z"
   },
   {
    "duration": 0,
    "start_time": "2025-01-09T12:58:49.307Z"
   },
   {
    "duration": 0,
    "start_time": "2025-01-09T12:58:49.308Z"
   },
   {
    "duration": 0,
    "start_time": "2025-01-09T12:58:49.309Z"
   },
   {
    "duration": 0,
    "start_time": "2025-01-09T12:58:49.310Z"
   },
   {
    "duration": 0,
    "start_time": "2025-01-09T12:58:49.311Z"
   },
   {
    "duration": 0,
    "start_time": "2025-01-09T12:58:49.311Z"
   },
   {
    "duration": 0,
    "start_time": "2025-01-09T12:58:49.312Z"
   },
   {
    "duration": 0,
    "start_time": "2025-01-09T12:58:49.313Z"
   },
   {
    "duration": 0,
    "start_time": "2025-01-09T12:58:49.354Z"
   },
   {
    "duration": 0,
    "start_time": "2025-01-09T12:58:49.355Z"
   },
   {
    "duration": 0,
    "start_time": "2025-01-09T12:58:49.356Z"
   },
   {
    "duration": 0,
    "start_time": "2025-01-09T12:58:49.357Z"
   },
   {
    "duration": 0,
    "start_time": "2025-01-09T12:58:49.358Z"
   },
   {
    "duration": 0,
    "start_time": "2025-01-09T12:58:49.359Z"
   },
   {
    "duration": 0,
    "start_time": "2025-01-09T12:58:49.360Z"
   },
   {
    "duration": 0,
    "start_time": "2025-01-09T12:58:49.361Z"
   },
   {
    "duration": 0,
    "start_time": "2025-01-09T12:58:49.362Z"
   },
   {
    "duration": 0,
    "start_time": "2025-01-09T12:58:49.363Z"
   },
   {
    "duration": 0,
    "start_time": "2025-01-09T12:58:49.364Z"
   },
   {
    "duration": 1363,
    "start_time": "2025-01-09T13:00:06.055Z"
   },
   {
    "duration": 13,
    "start_time": "2025-01-09T13:02:35.378Z"
   },
   {
    "duration": 120,
    "start_time": "2025-01-09T13:02:37.206Z"
   },
   {
    "duration": 11,
    "start_time": "2025-01-09T13:02:44.267Z"
   },
   {
    "duration": 15,
    "start_time": "2025-01-09T13:03:04.237Z"
   },
   {
    "duration": 16,
    "start_time": "2025-01-09T13:04:11.397Z"
   },
   {
    "duration": 2371,
    "start_time": "2025-01-09T13:07:58.225Z"
   },
   {
    "duration": 1070,
    "start_time": "2025-01-09T13:08:00.599Z"
   },
   {
    "duration": 201,
    "start_time": "2025-01-09T13:08:01.670Z"
   },
   {
    "duration": 12,
    "start_time": "2025-01-09T13:08:01.873Z"
   },
   {
    "duration": 67,
    "start_time": "2025-01-09T13:08:01.887Z"
   },
   {
    "duration": 40,
    "start_time": "2025-01-09T13:08:01.955Z"
   },
   {
    "duration": 14,
    "start_time": "2025-01-09T13:08:01.998Z"
   },
   {
    "duration": 26,
    "start_time": "2025-01-09T13:08:02.014Z"
   },
   {
    "duration": 54,
    "start_time": "2025-01-09T13:08:02.042Z"
   },
   {
    "duration": 4,
    "start_time": "2025-01-09T13:08:02.097Z"
   },
   {
    "duration": 21,
    "start_time": "2025-01-09T13:08:02.102Z"
   },
   {
    "duration": 44,
    "start_time": "2025-01-09T13:08:02.124Z"
   },
   {
    "duration": 23,
    "start_time": "2025-01-09T13:08:02.170Z"
   },
   {
    "duration": 34,
    "start_time": "2025-01-09T13:08:02.196Z"
   },
   {
    "duration": 19,
    "start_time": "2025-01-09T13:08:02.232Z"
   },
   {
    "duration": 35,
    "start_time": "2025-01-09T13:08:02.253Z"
   },
   {
    "duration": 19,
    "start_time": "2025-01-09T13:08:02.289Z"
   },
   {
    "duration": 29,
    "start_time": "2025-01-09T13:08:02.309Z"
   },
   {
    "duration": 53,
    "start_time": "2025-01-09T13:08:02.339Z"
   },
   {
    "duration": 13,
    "start_time": "2025-01-09T13:08:02.393Z"
   },
   {
    "duration": 61,
    "start_time": "2025-01-09T13:08:02.407Z"
   },
   {
    "duration": 93,
    "start_time": "2025-01-09T13:08:02.469Z"
   },
   {
    "duration": 67,
    "start_time": "2025-01-09T13:08:02.564Z"
   },
   {
    "duration": 4,
    "start_time": "2025-01-09T13:08:02.633Z"
   },
   {
    "duration": 37,
    "start_time": "2025-01-09T13:08:02.639Z"
   },
   {
    "duration": 47,
    "start_time": "2025-01-09T13:08:02.678Z"
   },
   {
    "duration": 29,
    "start_time": "2025-01-09T13:08:02.726Z"
   },
   {
    "duration": 171,
    "start_time": "2025-01-09T13:08:02.757Z"
   },
   {
    "duration": 6,
    "start_time": "2025-01-09T13:08:02.930Z"
   },
   {
    "duration": 285,
    "start_time": "2025-01-09T13:08:02.938Z"
   },
   {
    "duration": 11,
    "start_time": "2025-01-09T13:08:03.225Z"
   },
   {
    "duration": 176,
    "start_time": "2025-01-09T13:08:03.237Z"
   },
   {
    "duration": 119,
    "start_time": "2025-01-09T13:08:03.415Z"
   },
   {
    "duration": 189,
    "start_time": "2025-01-09T13:08:03.535Z"
   },
   {
    "duration": 7,
    "start_time": "2025-01-09T13:08:03.726Z"
   },
   {
    "duration": 165,
    "start_time": "2025-01-09T13:08:03.735Z"
   },
   {
    "duration": 111,
    "start_time": "2025-01-09T13:08:03.901Z"
   },
   {
    "duration": 6,
    "start_time": "2025-01-09T13:08:04.014Z"
   },
   {
    "duration": 163,
    "start_time": "2025-01-09T13:08:04.022Z"
   },
   {
    "duration": 7,
    "start_time": "2025-01-09T13:08:04.187Z"
   },
   {
    "duration": 158,
    "start_time": "2025-01-09T13:08:04.198Z"
   },
   {
    "duration": 216,
    "start_time": "2025-01-09T13:08:04.358Z"
   },
   {
    "duration": 156,
    "start_time": "2025-01-09T13:08:04.576Z"
   },
   {
    "duration": 52,
    "start_time": "2025-01-09T13:08:04.733Z"
   },
   {
    "duration": 176,
    "start_time": "2025-01-09T13:08:04.787Z"
   },
   {
    "duration": 301,
    "start_time": "2025-01-09T13:08:04.964Z"
   },
   {
    "duration": 95,
    "start_time": "2025-01-09T13:08:05.267Z"
   },
   {
    "duration": 212,
    "start_time": "2025-01-09T13:08:05.364Z"
   },
   {
    "duration": 6,
    "start_time": "2025-01-09T13:08:05.578Z"
   },
   {
    "duration": 155,
    "start_time": "2025-01-09T13:08:05.585Z"
   },
   {
    "duration": 12,
    "start_time": "2025-01-09T13:08:05.742Z"
   },
   {
    "duration": 223,
    "start_time": "2025-01-09T13:08:05.755Z"
   },
   {
    "duration": 150,
    "start_time": "2025-01-09T13:08:05.980Z"
   },
   {
    "duration": 160,
    "start_time": "2025-01-09T13:08:06.132Z"
   },
   {
    "duration": 18,
    "start_time": "2025-01-09T13:08:06.294Z"
   },
   {
    "duration": 198,
    "start_time": "2025-01-09T13:08:06.313Z"
   },
   {
    "duration": 14,
    "start_time": "2025-01-09T13:08:06.513Z"
   },
   {
    "duration": 73,
    "start_time": "2025-01-09T13:08:06.528Z"
   },
   {
    "duration": 17,
    "start_time": "2025-01-09T13:08:06.602Z"
   },
   {
    "duration": 213,
    "start_time": "2025-01-09T13:08:06.621Z"
   },
   {
    "duration": 6,
    "start_time": "2025-01-09T13:09:24.836Z"
   },
   {
    "duration": 6,
    "start_time": "2025-01-09T13:09:49.636Z"
   },
   {
    "duration": 7,
    "start_time": "2025-01-09T13:09:54.835Z"
   },
   {
    "duration": 7,
    "start_time": "2025-01-09T13:10:26.116Z"
   },
   {
    "duration": 9,
    "start_time": "2025-01-09T13:12:47.666Z"
   },
   {
    "duration": 278,
    "start_time": "2025-01-09T13:18:13.537Z"
   },
   {
    "duration": 105,
    "start_time": "2025-01-09T13:22:22.963Z"
   },
   {
    "duration": 11,
    "start_time": "2025-01-09T13:22:31.417Z"
   },
   {
    "duration": 11,
    "start_time": "2025-01-09T13:25:37.213Z"
   },
   {
    "duration": 5,
    "start_time": "2025-01-09T13:26:11.257Z"
   },
   {
    "duration": 174,
    "start_time": "2025-01-09T13:26:57.207Z"
   },
   {
    "duration": 5,
    "start_time": "2025-01-09T13:31:43.918Z"
   },
   {
    "duration": 13,
    "start_time": "2025-01-09T13:33:41.564Z"
   },
   {
    "duration": 11,
    "start_time": "2025-01-09T13:35:24.155Z"
   },
   {
    "duration": 14,
    "start_time": "2025-01-09T13:35:36.295Z"
   },
   {
    "duration": 11,
    "start_time": "2025-01-09T13:35:44.017Z"
   },
   {
    "duration": 9,
    "start_time": "2025-01-09T13:37:01.426Z"
   },
   {
    "duration": 12,
    "start_time": "2025-01-09T13:37:08.845Z"
   },
   {
    "duration": 11,
    "start_time": "2025-01-09T13:37:24.886Z"
   },
   {
    "duration": 3,
    "start_time": "2025-01-09T13:37:55.544Z"
   },
   {
    "duration": 5,
    "start_time": "2025-01-09T13:38:01.011Z"
   },
   {
    "duration": 6,
    "start_time": "2025-01-09T13:38:07.174Z"
   },
   {
    "duration": 47,
    "start_time": "2025-01-10T10:10:18.900Z"
   },
   {
    "duration": 3594,
    "start_time": "2025-01-10T10:10:24.783Z"
   },
   {
    "duration": 1209,
    "start_time": "2025-01-10T10:10:28.379Z"
   },
   {
    "duration": 294,
    "start_time": "2025-01-10T10:10:29.590Z"
   },
   {
    "duration": 12,
    "start_time": "2025-01-10T10:10:29.886Z"
   },
   {
    "duration": 27,
    "start_time": "2025-01-10T10:10:29.900Z"
   },
   {
    "duration": 19,
    "start_time": "2025-01-10T10:10:29.928Z"
   },
   {
    "duration": 29,
    "start_time": "2025-01-10T10:10:29.948Z"
   },
   {
    "duration": 44,
    "start_time": "2025-01-10T10:10:29.979Z"
   },
   {
    "duration": 52,
    "start_time": "2025-01-10T10:10:30.025Z"
   },
   {
    "duration": 42,
    "start_time": "2025-01-10T10:10:30.078Z"
   },
   {
    "duration": 48,
    "start_time": "2025-01-10T10:10:30.121Z"
   },
   {
    "duration": 76,
    "start_time": "2025-01-10T10:10:30.171Z"
   },
   {
    "duration": 81,
    "start_time": "2025-01-10T10:10:30.249Z"
   },
   {
    "duration": 45,
    "start_time": "2025-01-10T10:10:30.333Z"
   },
   {
    "duration": 46,
    "start_time": "2025-01-10T10:10:30.380Z"
   },
   {
    "duration": 25,
    "start_time": "2025-01-10T10:10:30.427Z"
   },
   {
    "duration": 35,
    "start_time": "2025-01-10T10:10:30.453Z"
   },
   {
    "duration": 44,
    "start_time": "2025-01-10T10:10:30.489Z"
   },
   {
    "duration": 54,
    "start_time": "2025-01-10T10:10:30.534Z"
   },
   {
    "duration": 52,
    "start_time": "2025-01-10T10:10:30.589Z"
   },
   {
    "duration": 38,
    "start_time": "2025-01-10T10:10:30.642Z"
   },
   {
    "duration": 62,
    "start_time": "2025-01-10T10:10:30.681Z"
   },
   {
    "duration": 73,
    "start_time": "2025-01-10T10:10:30.744Z"
   },
   {
    "duration": 5,
    "start_time": "2025-01-10T10:10:30.819Z"
   },
   {
    "duration": 28,
    "start_time": "2025-01-10T10:10:30.825Z"
   },
   {
    "duration": 32,
    "start_time": "2025-01-10T10:10:30.854Z"
   },
   {
    "duration": 51,
    "start_time": "2025-01-10T10:10:30.888Z"
   },
   {
    "duration": 160,
    "start_time": "2025-01-10T10:10:30.941Z"
   },
   {
    "duration": 6,
    "start_time": "2025-01-10T10:10:31.103Z"
   },
   {
    "duration": 201,
    "start_time": "2025-01-10T10:10:31.110Z"
   },
   {
    "duration": 10,
    "start_time": "2025-01-10T10:10:31.312Z"
   },
   {
    "duration": 26,
    "start_time": "2025-01-10T10:10:31.324Z"
   },
   {
    "duration": 155,
    "start_time": "2025-01-10T10:10:31.352Z"
   },
   {
    "duration": 117,
    "start_time": "2025-01-10T10:10:31.508Z"
   },
   {
    "duration": 181,
    "start_time": "2025-01-10T10:10:31.627Z"
   },
   {
    "duration": 8,
    "start_time": "2025-01-10T10:10:31.809Z"
   },
   {
    "duration": 158,
    "start_time": "2025-01-10T10:10:31.818Z"
   },
   {
    "duration": 101,
    "start_time": "2025-01-10T10:10:31.978Z"
   },
   {
    "duration": 6,
    "start_time": "2025-01-10T10:10:32.081Z"
   },
   {
    "duration": 166,
    "start_time": "2025-01-10T10:10:32.088Z"
   },
   {
    "duration": 8,
    "start_time": "2025-01-10T10:10:32.257Z"
   },
   {
    "duration": 142,
    "start_time": "2025-01-10T10:10:32.266Z"
   },
   {
    "duration": 169,
    "start_time": "2025-01-10T10:10:32.409Z"
   },
   {
    "duration": 147,
    "start_time": "2025-01-10T10:10:32.579Z"
   },
   {
    "duration": 54,
    "start_time": "2025-01-10T10:10:32.728Z"
   },
   {
    "duration": 163,
    "start_time": "2025-01-10T10:10:32.783Z"
   },
   {
    "duration": 318,
    "start_time": "2025-01-10T10:10:32.948Z"
   },
   {
    "duration": 96,
    "start_time": "2025-01-10T10:10:33.267Z"
   },
   {
    "duration": 195,
    "start_time": "2025-01-10T10:10:33.365Z"
   },
   {
    "duration": 5,
    "start_time": "2025-01-10T10:10:33.562Z"
   },
   {
    "duration": 174,
    "start_time": "2025-01-10T10:10:33.569Z"
   },
   {
    "duration": 7,
    "start_time": "2025-01-10T10:10:33.753Z"
   },
   {
    "duration": 252,
    "start_time": "2025-01-10T10:10:33.762Z"
   },
   {
    "duration": 153,
    "start_time": "2025-01-10T10:10:34.016Z"
   },
   {
    "duration": 156,
    "start_time": "2025-01-10T10:10:34.171Z"
   },
   {
    "duration": 26,
    "start_time": "2025-01-10T10:10:34.329Z"
   },
   {
    "duration": 176,
    "start_time": "2025-01-10T10:10:34.356Z"
   },
   {
    "duration": 23,
    "start_time": "2025-01-10T10:10:34.534Z"
   },
   {
    "duration": 13,
    "start_time": "2025-01-10T10:10:34.559Z"
   },
   {
    "duration": 44,
    "start_time": "2025-01-10T10:10:34.573Z"
   },
   {
    "duration": 197,
    "start_time": "2025-01-10T10:10:34.619Z"
   },
   {
    "duration": 210,
    "start_time": "2025-01-10T10:18:24.384Z"
   },
   {
    "duration": 142,
    "start_time": "2025-01-10T10:23:27.000Z"
   },
   {
    "duration": 2508,
    "start_time": "2025-01-10T10:25:24.202Z"
   },
   {
    "duration": 1125,
    "start_time": "2025-01-10T10:25:26.712Z"
   },
   {
    "duration": 190,
    "start_time": "2025-01-10T10:25:27.838Z"
   },
   {
    "duration": 12,
    "start_time": "2025-01-10T10:25:28.030Z"
   },
   {
    "duration": 19,
    "start_time": "2025-01-10T10:25:28.043Z"
   },
   {
    "duration": 8,
    "start_time": "2025-01-10T10:25:28.063Z"
   },
   {
    "duration": 11,
    "start_time": "2025-01-10T10:25:28.073Z"
   },
   {
    "duration": 25,
    "start_time": "2025-01-10T10:25:28.086Z"
   },
   {
    "duration": 12,
    "start_time": "2025-01-10T10:25:28.112Z"
   },
   {
    "duration": 4,
    "start_time": "2025-01-10T10:25:28.128Z"
   },
   {
    "duration": 5,
    "start_time": "2025-01-10T10:25:28.133Z"
   },
   {
    "duration": 14,
    "start_time": "2025-01-10T10:25:28.140Z"
   },
   {
    "duration": 11,
    "start_time": "2025-01-10T10:25:28.155Z"
   },
   {
    "duration": 11,
    "start_time": "2025-01-10T10:25:28.167Z"
   },
   {
    "duration": 3,
    "start_time": "2025-01-10T10:25:28.179Z"
   },
   {
    "duration": 19,
    "start_time": "2025-01-10T10:25:28.183Z"
   },
   {
    "duration": 20,
    "start_time": "2025-01-10T10:25:28.203Z"
   },
   {
    "duration": 6,
    "start_time": "2025-01-10T10:25:28.224Z"
   },
   {
    "duration": 49,
    "start_time": "2025-01-10T10:25:28.231Z"
   },
   {
    "duration": 12,
    "start_time": "2025-01-10T10:25:28.282Z"
   },
   {
    "duration": 19,
    "start_time": "2025-01-10T10:25:28.296Z"
   },
   {
    "duration": 30,
    "start_time": "2025-01-10T10:25:28.316Z"
   },
   {
    "duration": 58,
    "start_time": "2025-01-10T10:25:28.348Z"
   },
   {
    "duration": 5,
    "start_time": "2025-01-10T10:25:28.407Z"
   },
   {
    "duration": 6,
    "start_time": "2025-01-10T10:25:28.413Z"
   },
   {
    "duration": 4,
    "start_time": "2025-01-10T10:25:28.421Z"
   },
   {
    "duration": 7,
    "start_time": "2025-01-10T10:25:28.427Z"
   },
   {
    "duration": 153,
    "start_time": "2025-01-10T10:25:28.456Z"
   },
   {
    "duration": 7,
    "start_time": "2025-01-10T10:25:28.611Z"
   },
   {
    "duration": 200,
    "start_time": "2025-01-10T10:25:28.620Z"
   },
   {
    "duration": 11,
    "start_time": "2025-01-10T10:25:28.822Z"
   },
   {
    "duration": 4,
    "start_time": "2025-01-10T10:25:28.834Z"
   },
   {
    "duration": 145,
    "start_time": "2025-01-10T10:25:28.853Z"
   },
   {
    "duration": 116,
    "start_time": "2025-01-10T10:25:29.000Z"
   },
   {
    "duration": 176,
    "start_time": "2025-01-10T10:25:29.117Z"
   },
   {
    "duration": 7,
    "start_time": "2025-01-10T10:25:29.294Z"
   },
   {
    "duration": 185,
    "start_time": "2025-01-10T10:25:29.302Z"
   },
   {
    "duration": 104,
    "start_time": "2025-01-10T10:25:29.488Z"
   },
   {
    "duration": 5,
    "start_time": "2025-01-10T10:25:29.594Z"
   },
   {
    "duration": 162,
    "start_time": "2025-01-10T10:25:29.600Z"
   },
   {
    "duration": 7,
    "start_time": "2025-01-10T10:25:29.764Z"
   },
   {
    "duration": 209,
    "start_time": "2025-01-10T10:25:29.772Z"
   },
   {
    "duration": 112,
    "start_time": "2025-01-10T10:25:29.982Z"
   },
   {
    "duration": 163,
    "start_time": "2025-01-10T10:25:30.096Z"
   },
   {
    "duration": 169,
    "start_time": "2025-01-10T10:25:30.261Z"
   },
   {
    "duration": 283,
    "start_time": "2025-01-10T10:25:30.431Z"
   },
   {
    "duration": 100,
    "start_time": "2025-01-10T10:25:30.715Z"
   },
   {
    "duration": 194,
    "start_time": "2025-01-10T10:25:30.816Z"
   },
   {
    "duration": 5,
    "start_time": "2025-01-10T10:25:31.012Z"
   },
   {
    "duration": 246,
    "start_time": "2025-01-10T10:25:31.018Z"
   },
   {
    "duration": 6,
    "start_time": "2025-01-10T10:25:31.265Z"
   },
   {
    "duration": 260,
    "start_time": "2025-01-10T10:25:31.272Z"
   },
   {
    "duration": 134,
    "start_time": "2025-01-10T10:25:31.533Z"
   },
   {
    "duration": 153,
    "start_time": "2025-01-10T10:25:31.669Z"
   },
   {
    "duration": 19,
    "start_time": "2025-01-10T10:25:31.825Z"
   },
   {
    "duration": 181,
    "start_time": "2025-01-10T10:25:31.845Z"
   },
   {
    "duration": 12,
    "start_time": "2025-01-10T10:25:32.027Z"
   },
   {
    "duration": 28,
    "start_time": "2025-01-10T10:25:32.041Z"
   },
   {
    "duration": 54,
    "start_time": "2025-01-10T10:25:32.070Z"
   },
   {
    "duration": 207,
    "start_time": "2025-01-10T10:25:32.126Z"
   },
   {
    "duration": 93,
    "start_time": "2025-01-10T10:32:57.098Z"
   },
   {
    "duration": 267,
    "start_time": "2025-01-10T10:34:28.144Z"
   },
   {
    "duration": 1160,
    "start_time": "2025-01-10T10:41:24.371Z"
   },
   {
    "duration": 68,
    "start_time": "2025-01-10T10:48:29.902Z"
   },
   {
    "duration": 104,
    "start_time": "2025-01-10T10:48:45.881Z"
   },
   {
    "duration": 190,
    "start_time": "2025-01-10T10:50:12.332Z"
   },
   {
    "duration": 10,
    "start_time": "2025-01-10T10:50:57.105Z"
   },
   {
    "duration": 10,
    "start_time": "2025-01-10T10:51:24.595Z"
   },
   {
    "duration": 9,
    "start_time": "2025-01-10T10:51:34.435Z"
   },
   {
    "duration": 12,
    "start_time": "2025-01-10T10:52:24.672Z"
   },
   {
    "duration": 207,
    "start_time": "2025-01-10T10:52:42.583Z"
   },
   {
    "duration": 179,
    "start_time": "2025-01-10T10:52:52.366Z"
   },
   {
    "duration": 192,
    "start_time": "2025-01-10T10:53:00.513Z"
   },
   {
    "duration": 209,
    "start_time": "2025-01-10T10:53:09.925Z"
   },
   {
    "duration": 233,
    "start_time": "2025-01-10T10:53:23.794Z"
   },
   {
    "duration": 69,
    "start_time": "2025-01-10T11:03:51.828Z"
   },
   {
    "duration": 143,
    "start_time": "2025-01-10T11:03:57.077Z"
   },
   {
    "duration": 146,
    "start_time": "2025-01-10T11:04:36.817Z"
   },
   {
    "duration": 135,
    "start_time": "2025-01-10T11:04:52.364Z"
   },
   {
    "duration": 186,
    "start_time": "2025-01-10T11:08:59.035Z"
   },
   {
    "duration": 270,
    "start_time": "2025-01-10T11:09:36.735Z"
   },
   {
    "duration": 183,
    "start_time": "2025-01-10T11:14:12.566Z"
   },
   {
    "duration": 7,
    "start_time": "2025-01-10T11:16:11.396Z"
   },
   {
    "duration": 146,
    "start_time": "2025-01-10T11:19:06.027Z"
   },
   {
    "duration": 137,
    "start_time": "2025-01-10T11:20:57.417Z"
   },
   {
    "duration": 98,
    "start_time": "2025-01-10T11:27:07.576Z"
   },
   {
    "duration": 194,
    "start_time": "2025-01-10T11:34:33.417Z"
   },
   {
    "duration": 196,
    "start_time": "2025-01-10T11:34:38.227Z"
   },
   {
    "duration": 74,
    "start_time": "2025-01-10T11:37:59.154Z"
   },
   {
    "duration": 2621,
    "start_time": "2025-01-10T11:57:37.905Z"
   },
   {
    "duration": 1139,
    "start_time": "2025-01-10T11:57:40.528Z"
   },
   {
    "duration": 270,
    "start_time": "2025-01-10T11:57:41.668Z"
   },
   {
    "duration": 12,
    "start_time": "2025-01-10T11:57:41.939Z"
   },
   {
    "duration": 36,
    "start_time": "2025-01-10T11:57:41.953Z"
   },
   {
    "duration": 28,
    "start_time": "2025-01-10T11:57:41.991Z"
   },
   {
    "duration": 21,
    "start_time": "2025-01-10T11:57:42.020Z"
   },
   {
    "duration": 19,
    "start_time": "2025-01-10T11:57:42.042Z"
   },
   {
    "duration": 25,
    "start_time": "2025-01-10T11:57:42.062Z"
   },
   {
    "duration": 10,
    "start_time": "2025-01-10T11:57:42.088Z"
   },
   {
    "duration": 25,
    "start_time": "2025-01-10T11:57:42.099Z"
   },
   {
    "duration": 26,
    "start_time": "2025-01-10T11:57:42.125Z"
   },
   {
    "duration": 19,
    "start_time": "2025-01-10T11:57:42.152Z"
   },
   {
    "duration": 17,
    "start_time": "2025-01-10T11:57:42.174Z"
   },
   {
    "duration": 21,
    "start_time": "2025-01-10T11:57:42.192Z"
   },
   {
    "duration": 18,
    "start_time": "2025-01-10T11:57:42.214Z"
   },
   {
    "duration": 48,
    "start_time": "2025-01-10T11:57:42.233Z"
   },
   {
    "duration": 5,
    "start_time": "2025-01-10T11:57:42.282Z"
   },
   {
    "duration": 45,
    "start_time": "2025-01-10T11:57:42.288Z"
   },
   {
    "duration": 12,
    "start_time": "2025-01-10T11:57:42.335Z"
   },
   {
    "duration": 25,
    "start_time": "2025-01-10T11:57:42.348Z"
   },
   {
    "duration": 25,
    "start_time": "2025-01-10T11:57:42.374Z"
   },
   {
    "duration": 69,
    "start_time": "2025-01-10T11:57:42.401Z"
   },
   {
    "duration": 4,
    "start_time": "2025-01-10T11:57:42.472Z"
   },
   {
    "duration": 12,
    "start_time": "2025-01-10T11:57:42.477Z"
   },
   {
    "duration": 24,
    "start_time": "2025-01-10T11:57:42.490Z"
   },
   {
    "duration": 19,
    "start_time": "2025-01-10T11:57:42.516Z"
   },
   {
    "duration": 158,
    "start_time": "2025-01-10T11:57:42.536Z"
   },
   {
    "duration": 5,
    "start_time": "2025-01-10T11:57:42.696Z"
   },
   {
    "duration": 195,
    "start_time": "2025-01-10T11:57:42.703Z"
   },
   {
    "duration": 9,
    "start_time": "2025-01-10T11:57:42.900Z"
   },
   {
    "duration": 16,
    "start_time": "2025-01-10T11:57:42.911Z"
   },
   {
    "duration": 158,
    "start_time": "2025-01-10T11:57:42.928Z"
   },
   {
    "duration": 118,
    "start_time": "2025-01-10T11:57:43.087Z"
   },
   {
    "duration": 182,
    "start_time": "2025-01-10T11:57:43.207Z"
   },
   {
    "duration": 8,
    "start_time": "2025-01-10T11:57:43.391Z"
   },
   {
    "duration": 152,
    "start_time": "2025-01-10T11:57:43.401Z"
   },
   {
    "duration": 100,
    "start_time": "2025-01-10T11:57:43.555Z"
   },
   {
    "duration": 7,
    "start_time": "2025-01-10T11:57:43.657Z"
   },
   {
    "duration": 168,
    "start_time": "2025-01-10T11:57:43.666Z"
   },
   {
    "duration": 14,
    "start_time": "2025-01-10T11:57:43.839Z"
   },
   {
    "duration": 221,
    "start_time": "2025-01-10T11:57:43.855Z"
   },
   {
    "duration": 117,
    "start_time": "2025-01-10T11:57:44.078Z"
   },
   {
    "duration": 165,
    "start_time": "2025-01-10T11:57:44.196Z"
   },
   {
    "duration": 174,
    "start_time": "2025-01-10T11:57:44.363Z"
   },
   {
    "duration": 281,
    "start_time": "2025-01-10T11:57:44.539Z"
   },
   {
    "duration": 102,
    "start_time": "2025-01-10T11:57:44.822Z"
   },
   {
    "duration": 200,
    "start_time": "2025-01-10T11:57:44.925Z"
   },
   {
    "duration": 106,
    "start_time": "2025-01-10T11:57:45.127Z"
   },
   {
    "duration": 193,
    "start_time": "2025-01-10T11:57:45.235Z"
   },
   {
    "duration": 5,
    "start_time": "2025-01-10T11:57:45.430Z"
   },
   {
    "duration": 136,
    "start_time": "2025-01-10T11:57:45.437Z"
   },
   {
    "duration": 8,
    "start_time": "2025-01-10T11:57:45.575Z"
   },
   {
    "duration": 151,
    "start_time": "2025-01-10T11:57:45.585Z"
   },
   {
    "duration": 102,
    "start_time": "2025-01-10T11:57:45.737Z"
   },
   {
    "duration": 14,
    "start_time": "2025-01-10T11:57:45.840Z"
   },
   {
    "duration": 183,
    "start_time": "2025-01-10T11:57:45.856Z"
   },
   {
    "duration": 137,
    "start_time": "2025-01-10T11:57:46.041Z"
   },
   {
    "duration": 203,
    "start_time": "2025-01-10T11:57:46.179Z"
   },
   {
    "duration": 17,
    "start_time": "2025-01-10T11:57:46.384Z"
   },
   {
    "duration": 168,
    "start_time": "2025-01-10T11:57:46.403Z"
   },
   {
    "duration": 12,
    "start_time": "2025-01-10T11:57:46.573Z"
   },
   {
    "duration": 42,
    "start_time": "2025-01-10T11:57:46.587Z"
   },
   {
    "duration": 34,
    "start_time": "2025-01-10T11:57:46.630Z"
   },
   {
    "duration": 232,
    "start_time": "2025-01-10T11:57:46.665Z"
   },
   {
    "duration": 176,
    "start_time": "2025-01-10T12:00:26.225Z"
   },
   {
    "duration": 2542,
    "start_time": "2025-01-10T12:01:49.468Z"
   },
   {
    "duration": 1152,
    "start_time": "2025-01-10T12:01:52.013Z"
   },
   {
    "duration": 275,
    "start_time": "2025-01-10T12:01:53.167Z"
   },
   {
    "duration": 13,
    "start_time": "2025-01-10T12:01:53.443Z"
   },
   {
    "duration": 23,
    "start_time": "2025-01-10T12:01:53.458Z"
   },
   {
    "duration": 9,
    "start_time": "2025-01-10T12:01:53.483Z"
   },
   {
    "duration": 21,
    "start_time": "2025-01-10T12:01:53.493Z"
   },
   {
    "duration": 22,
    "start_time": "2025-01-10T12:01:53.515Z"
   },
   {
    "duration": 31,
    "start_time": "2025-01-10T12:01:53.539Z"
   },
   {
    "duration": 3,
    "start_time": "2025-01-10T12:01:53.571Z"
   },
   {
    "duration": 5,
    "start_time": "2025-01-10T12:01:53.576Z"
   },
   {
    "duration": 8,
    "start_time": "2025-01-10T12:01:53.582Z"
   },
   {
    "duration": 46,
    "start_time": "2025-01-10T12:01:53.591Z"
   },
   {
    "duration": 31,
    "start_time": "2025-01-10T12:01:53.640Z"
   },
   {
    "duration": 3,
    "start_time": "2025-01-10T12:01:53.672Z"
   },
   {
    "duration": 7,
    "start_time": "2025-01-10T12:01:53.676Z"
   },
   {
    "duration": 24,
    "start_time": "2025-01-10T12:01:53.684Z"
   },
   {
    "duration": 5,
    "start_time": "2025-01-10T12:01:53.709Z"
   },
   {
    "duration": 30,
    "start_time": "2025-01-10T12:01:53.715Z"
   },
   {
    "duration": 16,
    "start_time": "2025-01-10T12:01:53.746Z"
   },
   {
    "duration": 14,
    "start_time": "2025-01-10T12:01:53.764Z"
   },
   {
    "duration": 13,
    "start_time": "2025-01-10T12:01:53.780Z"
   },
   {
    "duration": 69,
    "start_time": "2025-01-10T12:01:53.794Z"
   },
   {
    "duration": 4,
    "start_time": "2025-01-10T12:01:53.866Z"
   },
   {
    "duration": 21,
    "start_time": "2025-01-10T12:01:53.872Z"
   },
   {
    "duration": 29,
    "start_time": "2025-01-10T12:01:53.895Z"
   },
   {
    "duration": 12,
    "start_time": "2025-01-10T12:01:53.926Z"
   },
   {
    "duration": 179,
    "start_time": "2025-01-10T12:01:53.940Z"
   },
   {
    "duration": 6,
    "start_time": "2025-01-10T12:01:54.120Z"
   },
   {
    "duration": 197,
    "start_time": "2025-01-10T12:01:54.128Z"
   },
   {
    "duration": 10,
    "start_time": "2025-01-10T12:01:54.326Z"
   },
   {
    "duration": 22,
    "start_time": "2025-01-10T12:01:54.337Z"
   },
   {
    "duration": 153,
    "start_time": "2025-01-10T12:01:54.360Z"
   },
   {
    "duration": 109,
    "start_time": "2025-01-10T12:01:54.514Z"
   },
   {
    "duration": 174,
    "start_time": "2025-01-10T12:01:54.625Z"
   },
   {
    "duration": 8,
    "start_time": "2025-01-10T12:01:54.800Z"
   },
   {
    "duration": 144,
    "start_time": "2025-01-10T12:01:54.809Z"
   },
   {
    "duration": 105,
    "start_time": "2025-01-10T12:01:54.955Z"
   },
   {
    "duration": 6,
    "start_time": "2025-01-10T12:01:55.061Z"
   },
   {
    "duration": 162,
    "start_time": "2025-01-10T12:01:55.068Z"
   },
   {
    "duration": 7,
    "start_time": "2025-01-10T12:01:55.234Z"
   },
   {
    "duration": 196,
    "start_time": "2025-01-10T12:01:55.242Z"
   },
   {
    "duration": 109,
    "start_time": "2025-01-10T12:01:55.439Z"
   },
   {
    "duration": 150,
    "start_time": "2025-01-10T12:01:55.553Z"
   },
   {
    "duration": 173,
    "start_time": "2025-01-10T12:01:55.704Z"
   },
   {
    "duration": 264,
    "start_time": "2025-01-10T12:01:55.878Z"
   },
   {
    "duration": 96,
    "start_time": "2025-01-10T12:01:56.144Z"
   },
   {
    "duration": 207,
    "start_time": "2025-01-10T12:01:56.241Z"
   },
   {
    "duration": 103,
    "start_time": "2025-01-10T12:01:56.453Z"
   },
   {
    "duration": 191,
    "start_time": "2025-01-10T12:01:56.558Z"
   },
   {
    "duration": 5,
    "start_time": "2025-01-10T12:01:56.753Z"
   },
   {
    "duration": 134,
    "start_time": "2025-01-10T12:01:56.759Z"
   },
   {
    "duration": 7,
    "start_time": "2025-01-10T12:01:56.894Z"
   },
   {
    "duration": 183,
    "start_time": "2025-01-10T12:01:56.902Z"
   },
   {
    "duration": 101,
    "start_time": "2025-01-10T12:01:57.087Z"
   },
   {
    "duration": 6,
    "start_time": "2025-01-10T12:01:57.190Z"
   },
   {
    "duration": 197,
    "start_time": "2025-01-10T12:01:57.198Z"
   },
   {
    "duration": 142,
    "start_time": "2025-01-10T12:01:57.397Z"
   },
   {
    "duration": 212,
    "start_time": "2025-01-10T12:01:57.540Z"
   },
   {
    "duration": 18,
    "start_time": "2025-01-10T12:01:57.753Z"
   },
   {
    "duration": 170,
    "start_time": "2025-01-10T12:01:57.772Z"
   },
   {
    "duration": 19,
    "start_time": "2025-01-10T12:01:57.943Z"
   },
   {
    "duration": 29,
    "start_time": "2025-01-10T12:01:57.963Z"
   },
   {
    "duration": 10,
    "start_time": "2025-01-10T12:01:57.994Z"
   },
   {
    "duration": 200,
    "start_time": "2025-01-10T12:01:58.005Z"
   },
   {
    "duration": 2559,
    "start_time": "2025-02-27T12:00:20.412Z"
   },
   {
    "duration": 1222,
    "start_time": "2025-02-27T12:00:22.974Z"
   },
   {
    "duration": 170,
    "start_time": "2025-02-27T12:00:24.197Z"
   },
   {
    "duration": 14,
    "start_time": "2025-02-27T12:00:24.369Z"
   },
   {
    "duration": 17,
    "start_time": "2025-02-27T12:00:24.385Z"
   },
   {
    "duration": 12,
    "start_time": "2025-02-27T12:00:24.403Z"
   },
   {
    "duration": 10,
    "start_time": "2025-02-27T12:00:24.416Z"
   },
   {
    "duration": 12,
    "start_time": "2025-02-27T12:00:24.427Z"
   },
   {
    "duration": 20,
    "start_time": "2025-02-27T12:00:24.440Z"
   },
   {
    "duration": 3,
    "start_time": "2025-02-27T12:00:24.464Z"
   },
   {
    "duration": 92,
    "start_time": "2025-02-27T12:00:24.468Z"
   },
   {
    "duration": 15,
    "start_time": "2025-02-27T12:00:24.562Z"
   },
   {
    "duration": 12,
    "start_time": "2025-02-27T12:00:24.579Z"
   },
   {
    "duration": 12,
    "start_time": "2025-02-27T12:00:24.592Z"
   },
   {
    "duration": 3,
    "start_time": "2025-02-27T12:00:24.605Z"
   },
   {
    "duration": 4,
    "start_time": "2025-02-27T12:00:24.610Z"
   },
   {
    "duration": 19,
    "start_time": "2025-02-27T12:00:24.615Z"
   },
   {
    "duration": 5,
    "start_time": "2025-02-27T12:00:24.635Z"
   },
   {
    "duration": 35,
    "start_time": "2025-02-27T12:00:24.641Z"
   },
   {
    "duration": 35,
    "start_time": "2025-02-27T12:00:24.678Z"
   },
   {
    "duration": 12,
    "start_time": "2025-02-27T12:00:24.715Z"
   },
   {
    "duration": 15,
    "start_time": "2025-02-27T12:00:24.729Z"
   },
   {
    "duration": 77,
    "start_time": "2025-02-27T12:00:24.746Z"
   },
   {
    "duration": 158,
    "start_time": "2025-02-27T12:00:24.825Z"
   },
   {
    "duration": 20,
    "start_time": "2025-02-27T12:00:24.984Z"
   },
   {
    "duration": 10,
    "start_time": "2025-02-27T12:00:25.005Z"
   },
   {
    "duration": 8,
    "start_time": "2025-02-27T12:00:25.017Z"
   },
   {
    "duration": 171,
    "start_time": "2025-02-27T12:00:25.028Z"
   },
   {
    "duration": 15,
    "start_time": "2025-02-27T12:00:25.201Z"
   },
   {
    "duration": 210,
    "start_time": "2025-02-27T12:00:25.218Z"
   },
   {
    "duration": 11,
    "start_time": "2025-02-27T12:00:25.429Z"
   },
   {
    "duration": 56,
    "start_time": "2025-02-27T12:00:25.442Z"
   },
   {
    "duration": 167,
    "start_time": "2025-02-27T12:00:25.500Z"
   },
   {
    "duration": 132,
    "start_time": "2025-02-27T12:00:25.668Z"
   },
   {
    "duration": 212,
    "start_time": "2025-02-27T12:00:25.801Z"
   },
   {
    "duration": 10,
    "start_time": "2025-02-27T12:00:26.015Z"
   },
   {
    "duration": 193,
    "start_time": "2025-02-27T12:00:26.027Z"
   },
   {
    "duration": 128,
    "start_time": "2025-02-27T12:00:26.222Z"
   },
   {
    "duration": 7,
    "start_time": "2025-02-27T12:00:26.352Z"
   },
   {
    "duration": 206,
    "start_time": "2025-02-27T12:00:26.360Z"
   },
   {
    "duration": 10,
    "start_time": "2025-02-27T12:00:26.568Z"
   },
   {
    "duration": 262,
    "start_time": "2025-02-27T12:00:26.580Z"
   },
   {
    "duration": 129,
    "start_time": "2025-02-27T12:00:26.844Z"
   },
   {
    "duration": 171,
    "start_time": "2025-02-27T12:00:26.975Z"
   },
   {
    "duration": 199,
    "start_time": "2025-02-27T12:00:27.147Z"
   },
   {
    "duration": 269,
    "start_time": "2025-02-27T12:00:27.347Z"
   },
   {
    "duration": 103,
    "start_time": "2025-02-27T12:00:27.617Z"
   },
   {
    "duration": 234,
    "start_time": "2025-02-27T12:00:27.721Z"
   },
   {
    "duration": 110,
    "start_time": "2025-02-27T12:00:27.956Z"
   },
   {
    "duration": 221,
    "start_time": "2025-02-27T12:00:28.067Z"
   },
   {
    "duration": 7,
    "start_time": "2025-02-27T12:00:28.289Z"
   },
   {
    "duration": 147,
    "start_time": "2025-02-27T12:00:28.313Z"
   },
   {
    "duration": 10,
    "start_time": "2025-02-27T12:00:28.462Z"
   },
   {
    "duration": 262,
    "start_time": "2025-02-27T12:00:28.474Z"
   },
   {
    "duration": 126,
    "start_time": "2025-02-27T12:00:28.739Z"
   },
   {
    "duration": 109,
    "start_time": "2025-02-27T12:00:28.867Z"
   },
   {
    "duration": 198,
    "start_time": "2025-02-27T12:00:28.979Z"
   },
   {
    "duration": 175,
    "start_time": "2025-02-27T12:00:29.179Z"
   },
   {
    "duration": 261,
    "start_time": "2025-02-27T12:00:29.356Z"
   },
   {
    "duration": 21,
    "start_time": "2025-02-27T12:00:29.619Z"
   },
   {
    "duration": 208,
    "start_time": "2025-02-27T12:00:29.642Z"
   },
   {
    "duration": 14,
    "start_time": "2025-02-27T12:00:29.852Z"
   },
   {
    "duration": 61,
    "start_time": "2025-02-27T12:00:29.868Z"
   },
   {
    "duration": 11,
    "start_time": "2025-02-27T12:00:29.931Z"
   },
   {
    "duration": 229,
    "start_time": "2025-02-27T12:00:29.943Z"
   }
  ],
  "colab": {
   "provenance": []
  },
  "kernelspec": {
   "display_name": "Python 3 (ipykernel)",
   "language": "python",
   "name": "python3"
  },
  "language_info": {
   "codemirror_mode": {
    "name": "ipython",
    "version": 3
   },
   "file_extension": ".py",
   "mimetype": "text/x-python",
   "name": "python",
   "nbconvert_exporter": "python",
   "pygments_lexer": "ipython3",
   "version": "3.9.5"
  },
  "toc": {
   "base_numbering": 1,
   "nav_menu": {
    "height": "448px",
    "width": "454px"
   },
   "number_sections": true,
   "sideBar": true,
   "skip_h1_title": true,
   "title_cell": "Table of Contents",
   "title_sidebar": "Contents",
   "toc_cell": false,
   "toc_position": {},
   "toc_section_display": true,
   "toc_window_display": false
  }
 },
 "nbformat": 4,
 "nbformat_minor": 5
}

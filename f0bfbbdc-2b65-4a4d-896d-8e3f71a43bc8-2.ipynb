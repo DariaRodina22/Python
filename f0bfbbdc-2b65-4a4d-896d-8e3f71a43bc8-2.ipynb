{
 "cells": [
  {
   "cell_type": "markdown",
   "id": "e06910dd",
   "metadata": {
    "id": "e06910dd"
   },
   "source": [
    "# Напишите заголовок проекта здесь\n",
    "\n",
    "- Автор: Родина Дарья\n",
    "- Дата:"
   ]
  },
  {
   "cell_type": "markdown",
   "id": "4149134c",
   "metadata": {
    "id": "4149134c"
   },
   "source": [
    "### Цели и задачи проекта\n",
    "\n",
    "<font color='#777778'>Перечислите цель проекта и задачи, которые вы решаете. Для этого можно использовать описание проекта, но полезнее будет сформулировать основную цель проекта самостоятельно.</font>"
   ]
  },
  {
   "cell_type": "markdown",
   "id": "6100cb71",
   "metadata": {},
   "source": [
    "Цель - провести полную предобработку данных "
   ]
  },
  {
   "cell_type": "markdown",
   "id": "a01c4373",
   "metadata": {},
   "source": [
    "Задачи:\n",
    "- познакомиться с данными, \n",
    "- проверить их корректность \n",
    "- провести предобработку \n",
    "- получить необходимый срез данных"
   ]
  },
  {
   "cell_type": "markdown",
   "id": "728986ea",
   "metadata": {
    "id": "728986ea"
   },
   "source": [
    "### Описание данных\n",
    "\n",
    "<font color='#777778'>Здесь приведите описание данных.</font>"
   ]
  },
  {
   "cell_type": "markdown",
   "id": "9cedc48c",
   "metadata": {},
   "source": [
    "Данные /datasets/new_games.csv содержат информацию о продажах игр разных жанров и платформ, а также пользовательские и экспертные оценки игр:"
   ]
  },
  {
   "cell_type": "markdown",
   "id": "46d307c5",
   "metadata": {},
   "source": [
    " - Name — название игры."
   ]
  },
  {
   "cell_type": "markdown",
   "id": "d90ca1da",
   "metadata": {},
   "source": [
    "- Platform — название платформы."
   ]
  },
  {
   "cell_type": "markdown",
   "id": "af0590ee",
   "metadata": {},
   "source": [
    "- Year of Release — год выпуска игры."
   ]
  },
  {
   "cell_type": "markdown",
   "id": "e01980b3",
   "metadata": {},
   "source": [
    "- Genre — жанр игры."
   ]
  },
  {
   "cell_type": "markdown",
   "id": "3ba2a347",
   "metadata": {},
   "source": [
    "- NA sales — продажи в Северной Америке (в миллионах проданных копий)."
   ]
  },
  {
   "cell_type": "markdown",
   "id": "e60462f4",
   "metadata": {},
   "source": [
    "- EU sales — продажи в Европе (в миллионах проданных копий)."
   ]
  },
  {
   "cell_type": "markdown",
   "id": "77923b7a",
   "metadata": {},
   "source": [
    "- JP sales — продажи в Японии (в миллионах проданных копий)."
   ]
  },
  {
   "cell_type": "markdown",
   "id": "ddb24e9b",
   "metadata": {},
   "source": [
    "- Other sales — продажи в других странах (в миллионах проданных копий)."
   ]
  },
  {
   "cell_type": "markdown",
   "id": "9617f84a",
   "metadata": {},
   "source": [
    "- Critic Score — оценка критиков (от 0 до 100)."
   ]
  },
  {
   "cell_type": "markdown",
   "id": "3f4eee1a",
   "metadata": {},
   "source": [
    "- User Score — оценка пользователей (от 0 до 10)."
   ]
  },
  {
   "cell_type": "markdown",
   "id": "d932a76b",
   "metadata": {},
   "source": [
    "- Rating — рейтинг организации ESRB (англ. Entertainment Software Rating Board). Эта ассоциация определяет рейтинг компьютерных игр и присваивает им подходящую возрастную категорию."
   ]
  },
  {
   "cell_type": "markdown",
   "id": "4fecaf95",
   "metadata": {
    "id": "4fecaf95"
   },
   "source": [
    "### Содержимое проекта\n",
    "\n",
    "<font color='#777778'>Перечислите основные шаги проекта или напишите оглавление. Используйте описание проекта, чтобы зафиксировать основные шаги.</font>\n",
    "\n",
    "---"
   ]
  },
  {
   "cell_type": "markdown",
   "id": "348e38f7",
   "metadata": {
    "id": "9fe570b3"
   },
   "source": [
    "1. Загрузка данных и знакомство с ними\n",
    "2. Проверка ошибок в данных и их предобработка \n",
    "- 2.1 Названия, или метки, столбцов датафрейма \n",
    "- 2.2 Типы данных \n",
    "- 2.3 Наличие пропусков в данных \n",
    "- 2.4 Явные и неявные дубликаты в данных \n",
    "3. Фильтрация в данных \n",
    "4. Категоризация данных \n",
    "5. Итоговый вывод "
   ]
  },
  {
   "cell_type": "markdown",
   "id": "6f7d21d6",
   "metadata": {
    "id": "6f7d21d6"
   },
   "source": [
    "## 1. Загрузка данных и знакомство с ними\n",
    "\n",
    "- Загрузите необходимые библиотеки Python и данные датасета `/datasets/new_games.csv`.\n"
   ]
  },
  {
   "cell_type": "code",
   "execution_count": 1,
   "id": "ce87c1db",
   "metadata": {
    "id": "ce87c1db"
   },
   "outputs": [],
   "source": [
    "import pandas as pd "
   ]
  },
  {
   "cell_type": "code",
   "execution_count": 2,
   "id": "90fee493",
   "metadata": {
    "id": "90fee493"
   },
   "outputs": [],
   "source": [
    "df = pd.read_csv('https://code.s3.yandex.net/datasets/new_games.csv')"
   ]
  },
  {
   "cell_type": "markdown",
   "id": "e0a8705f",
   "metadata": {
    "id": "e0a8705f"
   },
   "source": [
    "- Познакомьтесь с данными: выведите первые строки и результат метода `info()`.\n"
   ]
  },
  {
   "cell_type": "code",
   "execution_count": 3,
   "id": "3937acf7",
   "metadata": {
    "id": "3937acf7"
   },
   "outputs": [
    {
     "data": {
      "text/html": [
       "<div>\n",
       "<style scoped>\n",
       "    .dataframe tbody tr th:only-of-type {\n",
       "        vertical-align: middle;\n",
       "    }\n",
       "\n",
       "    .dataframe tbody tr th {\n",
       "        vertical-align: top;\n",
       "    }\n",
       "\n",
       "    .dataframe thead th {\n",
       "        text-align: right;\n",
       "    }\n",
       "</style>\n",
       "<table border=\"1\" class=\"dataframe\">\n",
       "  <thead>\n",
       "    <tr style=\"text-align: right;\">\n",
       "      <th></th>\n",
       "      <th>Name</th>\n",
       "      <th>Platform</th>\n",
       "      <th>Year of Release</th>\n",
       "      <th>Genre</th>\n",
       "      <th>NA sales</th>\n",
       "      <th>EU sales</th>\n",
       "      <th>JP sales</th>\n",
       "      <th>Other sales</th>\n",
       "      <th>Critic Score</th>\n",
       "      <th>User Score</th>\n",
       "      <th>Rating</th>\n",
       "    </tr>\n",
       "  </thead>\n",
       "  <tbody>\n",
       "    <tr>\n",
       "      <th>0</th>\n",
       "      <td>Wii Sports</td>\n",
       "      <td>Wii</td>\n",
       "      <td>2006.0</td>\n",
       "      <td>Sports</td>\n",
       "      <td>41.36</td>\n",
       "      <td>28.96</td>\n",
       "      <td>3.77</td>\n",
       "      <td>8.45</td>\n",
       "      <td>76.0</td>\n",
       "      <td>8</td>\n",
       "      <td>E</td>\n",
       "    </tr>\n",
       "    <tr>\n",
       "      <th>1</th>\n",
       "      <td>Super Mario Bros.</td>\n",
       "      <td>NES</td>\n",
       "      <td>1985.0</td>\n",
       "      <td>Platform</td>\n",
       "      <td>29.08</td>\n",
       "      <td>3.58</td>\n",
       "      <td>6.81</td>\n",
       "      <td>0.77</td>\n",
       "      <td>NaN</td>\n",
       "      <td>NaN</td>\n",
       "      <td>NaN</td>\n",
       "    </tr>\n",
       "    <tr>\n",
       "      <th>2</th>\n",
       "      <td>Mario Kart Wii</td>\n",
       "      <td>Wii</td>\n",
       "      <td>2008.0</td>\n",
       "      <td>Racing</td>\n",
       "      <td>15.68</td>\n",
       "      <td>12.76</td>\n",
       "      <td>3.79</td>\n",
       "      <td>3.29</td>\n",
       "      <td>82.0</td>\n",
       "      <td>8.3</td>\n",
       "      <td>E</td>\n",
       "    </tr>\n",
       "    <tr>\n",
       "      <th>3</th>\n",
       "      <td>Wii Sports Resort</td>\n",
       "      <td>Wii</td>\n",
       "      <td>2009.0</td>\n",
       "      <td>Sports</td>\n",
       "      <td>15.61</td>\n",
       "      <td>10.93</td>\n",
       "      <td>3.28</td>\n",
       "      <td>2.95</td>\n",
       "      <td>80.0</td>\n",
       "      <td>8</td>\n",
       "      <td>E</td>\n",
       "    </tr>\n",
       "    <tr>\n",
       "      <th>4</th>\n",
       "      <td>Pokemon Red/Pokemon Blue</td>\n",
       "      <td>GB</td>\n",
       "      <td>1996.0</td>\n",
       "      <td>Role-Playing</td>\n",
       "      <td>11.27</td>\n",
       "      <td>8.89</td>\n",
       "      <td>10.22</td>\n",
       "      <td>1.00</td>\n",
       "      <td>NaN</td>\n",
       "      <td>NaN</td>\n",
       "      <td>NaN</td>\n",
       "    </tr>\n",
       "    <tr>\n",
       "      <th>5</th>\n",
       "      <td>Tetris</td>\n",
       "      <td>GB</td>\n",
       "      <td>1989.0</td>\n",
       "      <td>Puzzle</td>\n",
       "      <td>23.20</td>\n",
       "      <td>2.26</td>\n",
       "      <td>4.22</td>\n",
       "      <td>0.58</td>\n",
       "      <td>NaN</td>\n",
       "      <td>NaN</td>\n",
       "      <td>NaN</td>\n",
       "    </tr>\n",
       "    <tr>\n",
       "      <th>6</th>\n",
       "      <td>New Super Mario Bros.</td>\n",
       "      <td>DS</td>\n",
       "      <td>2006.0</td>\n",
       "      <td>Platform</td>\n",
       "      <td>11.28</td>\n",
       "      <td>9.14</td>\n",
       "      <td>6.5</td>\n",
       "      <td>2.88</td>\n",
       "      <td>89.0</td>\n",
       "      <td>8.5</td>\n",
       "      <td>E</td>\n",
       "    </tr>\n",
       "    <tr>\n",
       "      <th>7</th>\n",
       "      <td>Wii Play</td>\n",
       "      <td>Wii</td>\n",
       "      <td>2006.0</td>\n",
       "      <td>Misc</td>\n",
       "      <td>13.96</td>\n",
       "      <td>9.18</td>\n",
       "      <td>2.93</td>\n",
       "      <td>2.84</td>\n",
       "      <td>58.0</td>\n",
       "      <td>6.6</td>\n",
       "      <td>E</td>\n",
       "    </tr>\n",
       "    <tr>\n",
       "      <th>8</th>\n",
       "      <td>New Super Mario Bros. Wii</td>\n",
       "      <td>Wii</td>\n",
       "      <td>2009.0</td>\n",
       "      <td>Platform</td>\n",
       "      <td>14.44</td>\n",
       "      <td>6.94</td>\n",
       "      <td>4.7</td>\n",
       "      <td>2.24</td>\n",
       "      <td>87.0</td>\n",
       "      <td>8.4</td>\n",
       "      <td>E</td>\n",
       "    </tr>\n",
       "    <tr>\n",
       "      <th>9</th>\n",
       "      <td>Duck Hunt</td>\n",
       "      <td>NES</td>\n",
       "      <td>1984.0</td>\n",
       "      <td>Shooter</td>\n",
       "      <td>26.93</td>\n",
       "      <td>0.63</td>\n",
       "      <td>0.28</td>\n",
       "      <td>0.47</td>\n",
       "      <td>NaN</td>\n",
       "      <td>NaN</td>\n",
       "      <td>NaN</td>\n",
       "    </tr>\n",
       "  </tbody>\n",
       "</table>\n",
       "</div>"
      ],
      "text/plain": [
       "                        Name Platform  Year of Release         Genre  \\\n",
       "0                 Wii Sports      Wii           2006.0        Sports   \n",
       "1          Super Mario Bros.      NES           1985.0      Platform   \n",
       "2             Mario Kart Wii      Wii           2008.0        Racing   \n",
       "3          Wii Sports Resort      Wii           2009.0        Sports   \n",
       "4   Pokemon Red/Pokemon Blue       GB           1996.0  Role-Playing   \n",
       "5                     Tetris       GB           1989.0        Puzzle   \n",
       "6      New Super Mario Bros.       DS           2006.0      Platform   \n",
       "7                   Wii Play      Wii           2006.0          Misc   \n",
       "8  New Super Mario Bros. Wii      Wii           2009.0      Platform   \n",
       "9                  Duck Hunt      NES           1984.0       Shooter   \n",
       "\n",
       "   NA sales EU sales JP sales  Other sales  Critic Score User Score Rating  \n",
       "0     41.36    28.96     3.77         8.45          76.0          8      E  \n",
       "1     29.08     3.58     6.81         0.77           NaN        NaN    NaN  \n",
       "2     15.68    12.76     3.79         3.29          82.0        8.3      E  \n",
       "3     15.61    10.93     3.28         2.95          80.0          8      E  \n",
       "4     11.27     8.89    10.22         1.00           NaN        NaN    NaN  \n",
       "5     23.20     2.26     4.22         0.58           NaN        NaN    NaN  \n",
       "6     11.28     9.14      6.5         2.88          89.0        8.5      E  \n",
       "7     13.96     9.18     2.93         2.84          58.0        6.6      E  \n",
       "8     14.44     6.94      4.7         2.24          87.0        8.4      E  \n",
       "9     26.93     0.63     0.28         0.47           NaN        NaN    NaN  "
      ]
     },
     "execution_count": 3,
     "metadata": {},
     "output_type": "execute_result"
    }
   ],
   "source": [
    "df.head(10)"
   ]
  },
  {
   "cell_type": "code",
   "execution_count": 4,
   "id": "d7c8eb4b",
   "metadata": {
    "id": "d7c8eb4b",
    "scrolled": false
   },
   "outputs": [
    {
     "name": "stdout",
     "output_type": "stream",
     "text": [
      "<class 'pandas.core.frame.DataFrame'>\n",
      "RangeIndex: 16956 entries, 0 to 16955\n",
      "Data columns (total 11 columns):\n",
      " #   Column           Non-Null Count  Dtype  \n",
      "---  ------           --------------  -----  \n",
      " 0   Name             16954 non-null  object \n",
      " 1   Platform         16956 non-null  object \n",
      " 2   Year of Release  16681 non-null  float64\n",
      " 3   Genre            16954 non-null  object \n",
      " 4   NA sales         16956 non-null  float64\n",
      " 5   EU sales         16956 non-null  object \n",
      " 6   JP sales         16956 non-null  object \n",
      " 7   Other sales      16956 non-null  float64\n",
      " 8   Critic Score     8242 non-null   float64\n",
      " 9   User Score       10152 non-null  object \n",
      " 10  Rating           10085 non-null  object \n",
      "dtypes: float64(4), object(7)\n",
      "memory usage: 1.4+ MB\n"
     ]
    }
   ],
   "source": [
    "df.info()"
   ]
  },
  {
   "cell_type": "code",
   "execution_count": 5,
   "id": "427611c9",
   "metadata": {},
   "outputs": [
    {
     "data": {
      "text/plain": [
       "16956"
      ]
     },
     "execution_count": 5,
     "metadata": {},
     "output_type": "execute_result"
    }
   ],
   "source": [
    "# количество строк с самого начала \n",
    "total_row_count = df.shape[0]\n",
    "total_row_count"
   ]
  },
  {
   "cell_type": "markdown",
   "id": "7a29e9d6",
   "metadata": {},
   "source": [
    " "
   ]
  },
  {
   "cell_type": "markdown",
   "id": "26267bc0",
   "metadata": {
    "id": "26267bc0"
   },
   "source": [
    "- Сделайте вывод о полученных данных: данные какого объёма вам предоставили, соответствуют ли они описанию, встречаются ли в них пропуски, используются ли верные типы данных.\n",
    "- Отметьте другие особенности данных, которые вы обнаружили и на которые стоит обратить внимание при предобработке. Например, вы можете проверить названия столбцов: все ли названия отражают содержимое данных и прописаны в удобном для работы виде."
   ]
  },
  {
   "cell_type": "markdown",
   "id": "d95e451c",
   "metadata": {
    "id": "81651b8d"
   },
   "source": [
    "Данные предоставлены в количестве 16 956 строк и в объёме 1.4 МВ. Можно заметить пропущенные значения в столбцах Name, Year of Release, Genre, Critic Score, User Score и Rating. Всего данные предоставлены в типах float - 4 столбца и object - 7 столбцов. Не у всех столбцов указан верный тип данных. "
   ]
  },
  {
   "cell_type": "markdown",
   "id": "7a906e43",
   "metadata": {
    "id": "191981db"
   },
   "source": [
    "Все названия столбцов отражают содержимое данных и прописаны в удобном для работы виде."
   ]
  },
  {
   "cell_type": "markdown",
   "id": "774bf76e",
   "metadata": {
    "id": "774bf76e"
   },
   "source": [
    "---\n",
    "\n",
    "## 2.  Проверка ошибок в данных и их предобработка\n",
    "\n",
    "\n",
    "### 2.1. Названия, или метки, столбцов датафрейма\n",
    "\n",
    "- Выведите на экран названия всех столбцов датафрейма и проверьте их стиль написания.\n",
    "- Приведите все столбцы к стилю snake case. Названия должны быть в нижнем регистре, а вместо пробелов — подчёркивания."
   ]
  },
  {
   "cell_type": "code",
   "execution_count": 6,
   "id": "9140cccb",
   "metadata": {},
   "outputs": [
    {
     "data": {
      "text/plain": [
       "Index(['Name', 'Platform', 'Year of Release', 'Genre', 'NA sales', 'EU sales',\n",
       "       'JP sales', 'Other sales', 'Critic Score', 'User Score', 'Rating'],\n",
       "      dtype='object')"
      ]
     },
     "execution_count": 6,
     "metadata": {},
     "output_type": "execute_result"
    }
   ],
   "source": [
    "# выводим названия всех столбцов \n",
    "df.columns"
   ]
  },
  {
   "cell_type": "code",
   "execution_count": 7,
   "id": "e559ef6d",
   "metadata": {},
   "outputs": [],
   "source": [
    "# приводим к нижнему регистру \n",
    "df.columns = df.columns.str.lower().str.replace(\" \", \"_\")"
   ]
  },
  {
   "cell_type": "code",
   "execution_count": 8,
   "id": "8ff2273c",
   "metadata": {},
   "outputs": [
    {
     "data": {
      "text/plain": [
       "Index(['name', 'platform', 'year_of_release', 'genre', 'na_sales', 'eu_sales',\n",
       "       'jp_sales', 'other_sales', 'critic_score', 'user_score', 'rating'],\n",
       "      dtype='object')"
      ]
     },
     "execution_count": 8,
     "metadata": {},
     "output_type": "execute_result"
    }
   ],
   "source": [
    "df.columns"
   ]
  },
  {
   "cell_type": "markdown",
   "id": "72782614",
   "metadata": {},
   "source": [
    " "
   ]
  },
  {
   "cell_type": "markdown",
   "id": "41bc6bf8",
   "metadata": {
    "id": "41bc6bf8"
   },
   "source": [
    "### 2.2. Типы данных\n",
    "\n",
    "- Если встречаются некорректные типы данных, предположите их причины.\n",
    "- При необходимости проведите преобразование типов данных. Помните, что столбцы с числовыми данными и пропусками нельзя преобразовать к типу `int64`. Сначала вам понадобится обработать пропуски, а затем преобразовать типы данных."
   ]
  },
  {
   "cell_type": "markdown",
   "id": "63378edf",
   "metadata": {
    "id": "63378edf"
   },
   "source": [
    "- В числовых столбцах могут встретиться строковые значения, например `unknown` или другие. Приводите такие столбцы к числовому типу данных, заменив строковые значения на пропуски."
   ]
  },
  {
   "cell_type": "code",
   "execution_count": 9,
   "id": "8adaac81",
   "metadata": {
    "id": "8adaac81"
   },
   "outputs": [],
   "source": [
    "df['eu_sales'] = pd.to_numeric(df['eu_sales'], errors = 'coerce')\n",
    "df['jp_sales'] = pd.to_numeric(df['jp_sales'], errors = 'coerce')\n",
    "df['user_score'] = pd.to_numeric(df['user_score'], errors = 'coerce')"
   ]
  },
  {
   "cell_type": "code",
   "execution_count": 10,
   "id": "11003d69",
   "metadata": {
    "id": "11003d69"
   },
   "outputs": [
    {
     "name": "stdout",
     "output_type": "stream",
     "text": [
      "<class 'pandas.core.frame.DataFrame'>\n",
      "RangeIndex: 16956 entries, 0 to 16955\n",
      "Data columns (total 11 columns):\n",
      " #   Column           Non-Null Count  Dtype  \n",
      "---  ------           --------------  -----  \n",
      " 0   name             16954 non-null  object \n",
      " 1   platform         16956 non-null  object \n",
      " 2   year_of_release  16681 non-null  float64\n",
      " 3   genre            16954 non-null  object \n",
      " 4   na_sales         16956 non-null  float64\n",
      " 5   eu_sales         16950 non-null  float64\n",
      " 6   jp_sales         16952 non-null  float64\n",
      " 7   other_sales      16956 non-null  float64\n",
      " 8   critic_score     8242 non-null   float64\n",
      " 9   user_score       7688 non-null   float64\n",
      " 10  rating           10085 non-null  object \n",
      "dtypes: float64(7), object(4)\n",
      "memory usage: 1.4+ MB\n"
     ]
    }
   ],
   "source": [
    "df.info()"
   ]
  },
  {
   "cell_type": "markdown",
   "id": "5bd60707",
   "metadata": {},
   "source": [
    " "
   ]
  },
  {
   "cell_type": "markdown",
   "id": "b39893cb",
   "metadata": {
    "id": "b39893cb"
   },
   "source": [
    "### 2.3. Наличие пропусков в данных\n",
    "\n",
    "- Посчитайте количество пропусков в каждом столбце в абсолютных и относительных значениях.\n"
   ]
  },
  {
   "cell_type": "code",
   "execution_count": 11,
   "id": "0f1c91a8",
   "metadata": {
    "id": "0f1c91a8",
    "scrolled": true
   },
   "outputs": [
    {
     "data": {
      "text/plain": [
       "name                  2\n",
       "platform              0\n",
       "year_of_release     275\n",
       "genre                 2\n",
       "na_sales              0\n",
       "eu_sales              6\n",
       "jp_sales              4\n",
       "other_sales           0\n",
       "critic_score       8714\n",
       "user_score         9268\n",
       "rating             6871\n",
       "dtype: int64"
      ]
     },
     "execution_count": 11,
     "metadata": {},
     "output_type": "execute_result"
    }
   ],
   "source": [
    "df.isna().sum()"
   ]
  },
  {
   "cell_type": "code",
   "execution_count": 12,
   "id": "86cd1cc1",
   "metadata": {
    "id": "86cd1cc1"
   },
   "outputs": [
    {
     "data": {
      "text/plain": [
       "name                0.011795\n",
       "platform            0.000000\n",
       "year_of_release     1.621845\n",
       "genre               0.011795\n",
       "na_sales            0.000000\n",
       "eu_sales            0.035386\n",
       "jp_sales            0.023590\n",
       "other_sales         0.000000\n",
       "critic_score       51.391838\n",
       "user_score         54.659118\n",
       "rating             40.522529\n",
       "dtype: float64"
      ]
     },
     "execution_count": 12,
     "metadata": {},
     "output_type": "execute_result"
    }
   ],
   "source": [
    "df.isna().sum()/len(df)*100"
   ]
  },
  {
   "cell_type": "markdown",
   "id": "6d342dd8",
   "metadata": {},
   "source": [
    " "
   ]
  },
  {
   "cell_type": "markdown",
   "id": "cf796f51",
   "metadata": {
    "id": "cf796f51"
   },
   "source": [
    "- Изучите данные с пропущенными значениями. Напишите промежуточный вывод: для каких столбцов характерны пропуски и сколько их. Предположите, почему пропуски могли возникнуть. Укажите, какие действия с этими данными можно сделать и почему.\n"
   ]
  },
  {
   "cell_type": "markdown",
   "id": "0fb765b0",
   "metadata": {
    "id": "bd69e642"
   },
   "source": [
    "В столбцах 'name' и 'genre' доля пропусков составляет менее 1%. Вероятнее всего, эти пропуски допущены из-за человеческого фактора, то есть их можно отнести к категории MСAR - полностью случайные пропуски. В таком случае, данные пропущенные значения можно удалить, так как на итоговый анализ это не повлияет."
   ]
  },
  {
   "cell_type": "markdown",
   "id": "9a1e9c41",
   "metadata": {},
   "source": [
    "В столбце 'year_of_release' доля пропусков составляет чуть более 1%. Такие пропуски можно также заменить на \"0\", чтобы их не удалять. "
   ]
  },
  {
   "cell_type": "markdown",
   "id": "be979d33",
   "metadata": {},
   "source": [
    "В столбце 'critic_score' доля пропусков составляет более 50%, что является очень высоким и нехорошим показателем. Таким образом, данные пропуски нужно заменить на некоторое нереалистичное значение \"-1\". "
   ]
  },
  {
   "cell_type": "markdown",
   "id": "7a03f62a",
   "metadata": {},
   "source": [
    "В столбце 'user_score' количество пропусков достигает 9 тысяч, а доля составляет 54%. Данные пропущенные зачения можно отнести к категории MNAR, то есть пропуски не случайны и мы их не можем объянсить другими значениями. Такие пропуски следует оставить без изменений. \n",
    "В столбце rating доля пропусков составляет 40%, что также является достаточно большим процентом. Таким образом данные пропуски следует заменить на пустые строки. "
   ]
  },
  {
   "cell_type": "markdown",
   "id": "ab115e1c",
   "metadata": {},
   "source": [
    " "
   ]
  },
  {
   "cell_type": "markdown",
   "id": "cbb5d301",
   "metadata": {},
   "source": [
    " "
   ]
  },
  {
   "cell_type": "markdown",
   "id": "bbbe3bda",
   "metadata": {
    "id": "bbbe3bda"
   },
   "source": [
    "- Обработайте пропущенные значения. Для каждого случая вы можете выбрать оптимальный, на ваш взгляд, вариант: заменить на определённое значение, оставить как есть или удалить.\n",
    "- Если вы решите заменить пропуски на значение-индикатор, то убедитесь, что предложенное значение не может быть использовано в данных.\n",
    "- Если вы нашли пропуски в данных с количеством проданных копий игры в том или ином регионе, их можно заменить на среднее значение в зависимости от названия платформы и года выхода игры."
   ]
  },
  {
   "cell_type": "code",
   "execution_count": 13,
   "id": "154be65d",
   "metadata": {
    "id": "154be65d",
    "scrolled": true
   },
   "outputs": [],
   "source": [
    "# удаляем пропуски в столбцах 'name' и 'genre'\n",
    "df = df.dropna(subset=['name', 'genre'])"
   ]
  },
  {
   "cell_type": "code",
   "execution_count": 14,
   "id": "2784c760",
   "metadata": {
    "id": "2784c760"
   },
   "outputs": [],
   "source": [
    "#заполняем пропуски столбца 'eu_sales' средним значением в зависимоcти от названия платформы и года выхода игры\n",
    "def mean_group_sales(row):\n",
    "    if pd.isna(row['eu_sales']):\n",
    "        group = df[(df['platform'] == row['platform'])&\n",
    "                  (df['year_of_release'] == row['year_of_release'])]\n",
    "        return group['eu_sales'].mean()\n",
    "    else:\n",
    "        return row['eu_sales']\n",
    "df['eu_sales'] = df.apply(mean_group_sales, axis = 1)"
   ]
  },
  {
   "cell_type": "code",
   "execution_count": 15,
   "id": "ea5de009",
   "metadata": {},
   "outputs": [],
   "source": [
    "# заполняем пропуски столбца 'jp_sales' средним значением в зависимоcти от названия платформы и года выхода игры\n",
    "def mean_group_sales(row):\n",
    "    if pd.isna(row['jp_sales']):\n",
    "        group = df[(df['platform'] == row['platform'])&\n",
    "                  (df['year_of_release'] == row['year_of_release'])]\n",
    "        return group['jp_sales'].mean()\n",
    "    else:\n",
    "        return row['jp_sales']\n",
    "df['jp_sales'] = df.apply(mean_group_sales, axis = 1)"
   ]
  },
  {
   "cell_type": "code",
   "execution_count": 16,
   "id": "9663fd11",
   "metadata": {},
   "outputs": [],
   "source": [
    "# заполняем пропуски столбца year_of_release нулевыми значениями\n",
    "df['year_of_release'] = df['year_of_release'].fillna(0)"
   ]
  },
  {
   "cell_type": "code",
   "execution_count": 17,
   "id": "58d0ea61",
   "metadata": {},
   "outputs": [],
   "source": [
    "# заполняем пропущенные значения столбца critic_score на среднее значение\n",
    "df['critic_score'] = df['critic_score'].fillna(-1)"
   ]
  },
  {
   "cell_type": "code",
   "execution_count": 18,
   "id": "5de104d5",
   "metadata": {},
   "outputs": [],
   "source": [
    "# заполняем пропуски столбца user_score медианой\n",
    "df['user_score'] = df['user_score'].fillna(-1)"
   ]
  },
  {
   "cell_type": "code",
   "execution_count": 19,
   "id": "27d7fbbd",
   "metadata": {},
   "outputs": [],
   "source": [
    "# заполняем пропуски столбца rating пустыми строками\n",
    "df['rating'] = df['rating'].fillna('')"
   ]
  },
  {
   "cell_type": "code",
   "execution_count": 20,
   "id": "0b4e4d1a",
   "metadata": {},
   "outputs": [
    {
     "data": {
      "text/plain": [
       "name               0\n",
       "platform           0\n",
       "year_of_release    0\n",
       "genre              0\n",
       "na_sales           0\n",
       "eu_sales           0\n",
       "jp_sales           0\n",
       "other_sales        0\n",
       "critic_score       0\n",
       "user_score         0\n",
       "rating             0\n",
       "dtype: int64"
      ]
     },
     "execution_count": 20,
     "metadata": {},
     "output_type": "execute_result"
    }
   ],
   "source": [
    "# проверяем количество пропусков\n",
    "df.isna().sum()"
   ]
  },
  {
   "cell_type": "code",
   "execution_count": 21,
   "id": "48b43dc1",
   "metadata": {},
   "outputs": [],
   "source": [
    "df['year_of_release'] = df['year_of_release'].astype('int')"
   ]
  },
  {
   "cell_type": "markdown",
   "id": "fc5967b8",
   "metadata": {},
   "source": [
    "  "
   ]
  },
  {
   "cell_type": "markdown",
   "id": "a63363fd",
   "metadata": {
    "id": "a63363fd"
   },
   "source": [
    "### 2.4. Явные и неявные дубликаты в данных\n",
    "\n",
    "- Изучите уникальные значения в категориальных данных, например с названиями жанра игры, платформы, рейтинга и года выпуска. Проверьте, встречаются ли среди данных неявные дубликаты, связанные с опечатками или разным способом написания.\n",
    "- При необходимости проведите нормализацию данных с текстовыми значениями. Названия или жанры игр можно привести к нижнему регистру, а названия рейтинга — к верхнему."
   ]
  },
  {
   "cell_type": "markdown",
   "id": "995a1e63",
   "metadata": {
    "id": "491c9c39"
   },
   "source": [
    "- Выводим уникальные значения столбцов platform, year_of_release, genre, name, rating"
   ]
  },
  {
   "cell_type": "code",
   "execution_count": 22,
   "id": "f1627198",
   "metadata": {
    "id": "f1627198"
   },
   "outputs": [
    {
     "data": {
      "text/plain": [
       "array(['Wii', 'NES', 'GB', 'DS', 'X360', 'PS3', 'PS2', 'SNES', 'GBA',\n",
       "       'PS4', '3DS', 'N64', 'PS', 'XB', 'PC', '2600', 'PSP', 'XOne',\n",
       "       'WiiU', 'GC', 'GEN', 'DC', 'PSV', 'SAT', 'SCD', 'WS', 'NG', 'TG16',\n",
       "       '3DO', 'GG', 'PCFX'], dtype=object)"
      ]
     },
     "execution_count": 22,
     "metadata": {},
     "output_type": "execute_result"
    }
   ],
   "source": [
    "unique_platform = df['platform'].unique()\n",
    "unique_platform"
   ]
  },
  {
   "cell_type": "code",
   "execution_count": 23,
   "id": "a0cac80c",
   "metadata": {
    "id": "a0cac80c"
   },
   "outputs": [
    {
     "data": {
      "text/plain": [
       "array([2006, 1985, 2008, 2009, 1996, 1989, 1984, 2005, 1999, 2007, 2010,\n",
       "       2013, 2004, 1990, 1988, 2002, 2001, 2011, 1998, 2015, 2012, 2014,\n",
       "       1992, 1997, 1993, 1994, 1982, 2016, 2003, 1986, 2000,    0, 1995,\n",
       "       1991, 1981, 1987, 1980, 1983])"
      ]
     },
     "execution_count": 23,
     "metadata": {},
     "output_type": "execute_result"
    }
   ],
   "source": [
    "unique_year_of_release = df['year_of_release'].unique()\n",
    "unique_year_of_release"
   ]
  },
  {
   "cell_type": "code",
   "execution_count": 24,
   "id": "e947d177",
   "metadata": {},
   "outputs": [
    {
     "data": {
      "text/plain": [
       "array(['Sports', 'Platform', 'Racing', 'Role-Playing', 'Puzzle', 'Misc',\n",
       "       'Shooter', 'Simulation', 'Action', 'Fighting', 'Adventure',\n",
       "       'Strategy', 'MISC', 'ROLE-PLAYING', 'RACING', 'ACTION', 'SHOOTER',\n",
       "       'FIGHTING', 'SPORTS', 'PLATFORM', 'ADVENTURE', 'SIMULATION',\n",
       "       'PUZZLE', 'STRATEGY'], dtype=object)"
      ]
     },
     "execution_count": 24,
     "metadata": {},
     "output_type": "execute_result"
    }
   ],
   "source": [
    "unique_genre = df['genre'].unique()\n",
    "unique_genre"
   ]
  },
  {
   "cell_type": "code",
   "execution_count": 25,
   "id": "3b76a8a5",
   "metadata": {},
   "outputs": [
    {
     "data": {
      "text/plain": [
       "array(['Wii Sports', 'Super Mario Bros.', 'Mario Kart Wii', ...,\n",
       "       'Woody Woodpecker in Crazy Castle 5', 'LMA Manager 2007',\n",
       "       'Haitaka no Psychedelica'], dtype=object)"
      ]
     },
     "execution_count": 25,
     "metadata": {},
     "output_type": "execute_result"
    }
   ],
   "source": [
    "unique_name = df['name'].unique()\n",
    "unique_name"
   ]
  },
  {
   "cell_type": "code",
   "execution_count": 26,
   "id": "4bd1b850",
   "metadata": {},
   "outputs": [],
   "source": [
    "unique_rating = df['rating'].unique()"
   ]
  },
  {
   "cell_type": "markdown",
   "id": "9daaf416",
   "metadata": {},
   "source": [
    "- В столбце 'genre' встречаются неявные дубликаты, которые записаны в разных регистрах."
   ]
  },
  {
   "cell_type": "markdown",
   "id": "e7aa57dc",
   "metadata": {},
   "source": [
    "- Приведем все к единому регистру, тем самым устраним неявные дубликаты в столбце 'genre'"
   ]
  },
  {
   "cell_type": "code",
   "execution_count": 27,
   "id": "adea84f7",
   "metadata": {},
   "outputs": [],
   "source": [
    "df['genre']= df['genre'].str.lower()"
   ]
  },
  {
   "cell_type": "code",
   "execution_count": 28,
   "id": "97261646",
   "metadata": {},
   "outputs": [],
   "source": [
    "df['name'] = df['name'].str.lower()"
   ]
  },
  {
   "cell_type": "code",
   "execution_count": 29,
   "id": "9d6f8b9a",
   "metadata": {},
   "outputs": [],
   "source": [
    "df['platform'] = df['platform'].str.upper()"
   ]
  },
  {
   "cell_type": "code",
   "execution_count": 30,
   "id": "b304150f",
   "metadata": {},
   "outputs": [],
   "source": [
    "df['rating'] = df['rating'].str.upper()"
   ]
  },
  {
   "cell_type": "markdown",
   "id": "7f9ae146",
   "metadata": {},
   "source": [
    " "
   ]
  },
  {
   "cell_type": "markdown",
   "id": "a3ca1dd4",
   "metadata": {},
   "source": [
    " "
   ]
  },
  {
   "cell_type": "markdown",
   "id": "fc3d3db4",
   "metadata": {
    "id": "fc3d3db4"
   },
   "source": [
    "- После того как нормализуете данные и устраните неявные дубликаты, проверьте наличие явных дубликатов в данных."
   ]
  },
  {
   "cell_type": "code",
   "execution_count": 31,
   "id": "fc5c91b5",
   "metadata": {
    "id": "fc5c91b5"
   },
   "outputs": [
    {
     "data": {
      "text/plain": [
       "241"
      ]
     },
     "execution_count": 31,
     "metadata": {},
     "output_type": "execute_result"
    }
   ],
   "source": [
    "# находим количество явных дубликатов\n",
    "duplicate_rows = df.duplicated().sum()\n",
    "duplicate_rows"
   ]
  },
  {
   "cell_type": "code",
   "execution_count": 32,
   "id": "7b6b40c7",
   "metadata": {},
   "outputs": [
    {
     "data": {
      "text/plain": [
       "16954"
      ]
     },
     "execution_count": 32,
     "metadata": {},
     "output_type": "execute_result"
    }
   ],
   "source": [
    "# фиксируем количество строк до удаления явных дубликатов\n",
    "initial_row_count = df.shape[0]\n",
    "initial_row_count"
   ]
  },
  {
   "cell_type": "code",
   "execution_count": 33,
   "id": "2f61e076",
   "metadata": {
    "id": "2f61e076"
   },
   "outputs": [],
   "source": [
    "# удаляем явные дубликаты\n",
    "df = df.drop_duplicates()"
   ]
  },
  {
   "cell_type": "code",
   "execution_count": 34,
   "id": "5934cbea",
   "metadata": {},
   "outputs": [
    {
     "data": {
      "text/plain": [
       "16713"
      ]
     },
     "execution_count": 34,
     "metadata": {},
     "output_type": "execute_result"
    }
   ],
   "source": [
    "# фиксируем количество строк после удаления дубликатов\n",
    "final_row_count = df.shape[0]\n",
    "final_row_count"
   ]
  },
  {
   "cell_type": "markdown",
   "id": "efa3d7aa",
   "metadata": {},
   "source": [
    " "
   ]
  },
  {
   "cell_type": "markdown",
   "id": "54616bae",
   "metadata": {
    "id": "54616bae"
   },
   "source": [
    "- Напишите промежуточный вывод: укажите количество найденных дубликатов и действия по их обработке."
   ]
  },
  {
   "cell_type": "markdown",
   "id": "8855a0c9",
   "metadata": {
    "id": "8548f894"
   },
   "source": [
    "С неявными дубликатами была проведена работа по проведению данных к единому регистру, так как в одном столбце были найдены значения, записанные под разными регистрами. Таким образом, неявные дубликаты были исключены из датафрейма. "
   ]
  },
  {
   "cell_type": "markdown",
   "id": "7795e04a",
   "metadata": {
    "id": "327e55bb"
   },
   "source": [
    "Количество явных дубликатов - 241. Данные дубликаты были удалены. "
   ]
  },
  {
   "cell_type": "markdown",
   "id": "07616d38",
   "metadata": {},
   "source": [
    " "
   ]
  },
  {
   "cell_type": "markdown",
   "id": "f81e3350",
   "metadata": {},
   "source": [
    " "
   ]
  },
  {
   "cell_type": "markdown",
   "id": "72645ae9",
   "metadata": {
    "id": "72645ae9"
   },
   "source": [
    "- В процессе подготовки данных вы могли что-либо удалять, например строки с пропусками или ошибками, дубликаты и прочее. В этом случае посчитайте количество удалённых строк в абсолютном и относительном значениях."
   ]
  },
  {
   "cell_type": "code",
   "execution_count": 35,
   "id": "f9d8ee19",
   "metadata": {
    "id": "f9d8ee19"
   },
   "outputs": [
    {
     "data": {
      "text/plain": [
       "243"
      ]
     },
     "execution_count": 35,
     "metadata": {},
     "output_type": "execute_result"
    }
   ],
   "source": [
    "# абсолютное значение удаленных строк \n",
    "cleaned_row_count_absolutely = total_row_count - final_row_count\n",
    "cleaned_row_count_absolutely"
   ]
  },
  {
   "cell_type": "code",
   "execution_count": 36,
   "id": "3d7a9d8e",
   "metadata": {
    "id": "3d7a9d8e"
   },
   "outputs": [
    {
     "data": {
      "text/plain": [
       "98.57"
      ]
     },
     "execution_count": 36,
     "metadata": {},
     "output_type": "execute_result"
    }
   ],
   "source": [
    "# относительное значение удаленных строк \n",
    "cleened_row_count = round((final_row_count / total_row_count * 100), 2)\n",
    "cleened_row_count"
   ]
  },
  {
   "cell_type": "markdown",
   "id": "acd4006c",
   "metadata": {},
   "source": [
    " "
   ]
  },
  {
   "cell_type": "markdown",
   "id": "47613d75",
   "metadata": {
    "id": "47613d75"
   },
   "source": [
    "- После проведения предобработки данных напишите общий промежуточный вывод."
   ]
  },
  {
   "cell_type": "markdown",
   "id": "9095dcda",
   "metadata": {
    "id": "12a69dba"
   },
   "source": [
    "На текущем этапе была проведена тщательная работа с пропусками и дубликатами, что является важной частью предобработки данных. \n",
    "Были применены различные методы, включая приведение данных к единому регистру, удаление некоторых строк, а также заполнение недостающих данных с помощью расчетных значений и другое. В результате данные в датафрейме были очищены и теперь готовы для дальнейшего анализа.  "
   ]
  },
  {
   "cell_type": "markdown",
   "id": "613f0eb0",
   "metadata": {
    "id": "613f0eb0"
   },
   "source": [
    "---\n",
    "\n",
    "## 3. Фильтрация данных\n",
    "\n",
    "Коллеги хотят изучить историю продаж игр в начале XXI века, и их интересует период с 2000 по 2013 год включительно. Отберите данные по этому показателю. Сохраните новый срез данных в отдельном датафрейме, например `df_actual`."
   ]
  },
  {
   "cell_type": "code",
   "execution_count": 37,
   "id": "2344916d",
   "metadata": {
    "id": "2344916d"
   },
   "outputs": [
    {
     "data": {
      "text/html": [
       "<div>\n",
       "<style scoped>\n",
       "    .dataframe tbody tr th:only-of-type {\n",
       "        vertical-align: middle;\n",
       "    }\n",
       "\n",
       "    .dataframe tbody tr th {\n",
       "        vertical-align: top;\n",
       "    }\n",
       "\n",
       "    .dataframe thead th {\n",
       "        text-align: right;\n",
       "    }\n",
       "</style>\n",
       "<table border=\"1\" class=\"dataframe\">\n",
       "  <thead>\n",
       "    <tr style=\"text-align: right;\">\n",
       "      <th></th>\n",
       "      <th>name</th>\n",
       "      <th>platform</th>\n",
       "      <th>year_of_release</th>\n",
       "      <th>genre</th>\n",
       "      <th>na_sales</th>\n",
       "      <th>eu_sales</th>\n",
       "      <th>jp_sales</th>\n",
       "      <th>other_sales</th>\n",
       "      <th>critic_score</th>\n",
       "      <th>user_score</th>\n",
       "      <th>rating</th>\n",
       "    </tr>\n",
       "  </thead>\n",
       "  <tbody>\n",
       "    <tr>\n",
       "      <th>0</th>\n",
       "      <td>wii sports</td>\n",
       "      <td>WII</td>\n",
       "      <td>2006</td>\n",
       "      <td>sports</td>\n",
       "      <td>41.36</td>\n",
       "      <td>28.96</td>\n",
       "      <td>3.77</td>\n",
       "      <td>8.45</td>\n",
       "      <td>76.0</td>\n",
       "      <td>8.0</td>\n",
       "      <td>E</td>\n",
       "    </tr>\n",
       "    <tr>\n",
       "      <th>2</th>\n",
       "      <td>mario kart wii</td>\n",
       "      <td>WII</td>\n",
       "      <td>2008</td>\n",
       "      <td>racing</td>\n",
       "      <td>15.68</td>\n",
       "      <td>12.76</td>\n",
       "      <td>3.79</td>\n",
       "      <td>3.29</td>\n",
       "      <td>82.0</td>\n",
       "      <td>8.3</td>\n",
       "      <td>E</td>\n",
       "    </tr>\n",
       "    <tr>\n",
       "      <th>3</th>\n",
       "      <td>wii sports resort</td>\n",
       "      <td>WII</td>\n",
       "      <td>2009</td>\n",
       "      <td>sports</td>\n",
       "      <td>15.61</td>\n",
       "      <td>10.93</td>\n",
       "      <td>3.28</td>\n",
       "      <td>2.95</td>\n",
       "      <td>80.0</td>\n",
       "      <td>8.0</td>\n",
       "      <td>E</td>\n",
       "    </tr>\n",
       "    <tr>\n",
       "      <th>6</th>\n",
       "      <td>new super mario bros.</td>\n",
       "      <td>DS</td>\n",
       "      <td>2006</td>\n",
       "      <td>platform</td>\n",
       "      <td>11.28</td>\n",
       "      <td>9.14</td>\n",
       "      <td>6.50</td>\n",
       "      <td>2.88</td>\n",
       "      <td>89.0</td>\n",
       "      <td>8.5</td>\n",
       "      <td>E</td>\n",
       "    </tr>\n",
       "    <tr>\n",
       "      <th>7</th>\n",
       "      <td>wii play</td>\n",
       "      <td>WII</td>\n",
       "      <td>2006</td>\n",
       "      <td>misc</td>\n",
       "      <td>13.96</td>\n",
       "      <td>9.18</td>\n",
       "      <td>2.93</td>\n",
       "      <td>2.84</td>\n",
       "      <td>58.0</td>\n",
       "      <td>6.6</td>\n",
       "      <td>E</td>\n",
       "    </tr>\n",
       "  </tbody>\n",
       "</table>\n",
       "</div>"
      ],
      "text/plain": [
       "                    name platform  year_of_release     genre  na_sales  \\\n",
       "0             wii sports      WII             2006    sports     41.36   \n",
       "2         mario kart wii      WII             2008    racing     15.68   \n",
       "3      wii sports resort      WII             2009    sports     15.61   \n",
       "6  new super mario bros.       DS             2006  platform     11.28   \n",
       "7               wii play      WII             2006      misc     13.96   \n",
       "\n",
       "   eu_sales  jp_sales  other_sales  critic_score  user_score rating  \n",
       "0     28.96      3.77         8.45          76.0         8.0      E  \n",
       "2     12.76      3.79         3.29          82.0         8.3      E  \n",
       "3     10.93      3.28         2.95          80.0         8.0      E  \n",
       "6      9.14      6.50         2.88          89.0         8.5      E  \n",
       "7      9.18      2.93         2.84          58.0         6.6      E  "
      ]
     },
     "execution_count": 37,
     "metadata": {},
     "output_type": "execute_result"
    }
   ],
   "source": [
    "df_actual = df[(df['year_of_release'] >= 2000) & (df['year_of_release'] <= 2013)]\n",
    "df_actual.head()"
   ]
  },
  {
   "cell_type": "markdown",
   "id": "a6f10b01",
   "metadata": {
    "id": "a6f10b01"
   },
   "source": [
    "---\n",
    "\n",
    "## 4. Категоризация данных\n",
    "    \n",
    "Проведите категоризацию данных:\n",
    "- Разделите все игры по оценкам пользователей и выделите такие категории: высокая оценка (от 8 до 10 включительно), средняя оценка (от 3 до 8, не включая правую границу интервала) и низкая оценка (от 0 до 3, не включая правую границу интервала)."
   ]
  },
  {
   "cell_type": "code",
   "execution_count": 38,
   "id": "e20d86f5",
   "metadata": {},
   "outputs": [],
   "source": [
    "def categorize_user_score(row):\n",
    "    if row['user_score'] >= 8:\n",
    "        return \"высокая оценка\"\n",
    "    elif row['user_score'] >= 3:\n",
    "        return \"средняя оценка\"\n",
    "    elif row['user_score'] >= 0:\n",
    "        return \"низкая оценка\"\n",
    "    else:\n",
    "        return \"нет оценки\"\n",
    "df_actual = df_actual.copy()\n",
    "df_actual['user_category'] =  df_actual.apply(categorize_user_score, axis =1)   "
   ]
  },
  {
   "cell_type": "code",
   "execution_count": 39,
   "id": "f956edc4",
   "metadata": {},
   "outputs": [
    {
     "data": {
      "text/html": [
       "<div>\n",
       "<style scoped>\n",
       "    .dataframe tbody tr th:only-of-type {\n",
       "        vertical-align: middle;\n",
       "    }\n",
       "\n",
       "    .dataframe tbody tr th {\n",
       "        vertical-align: top;\n",
       "    }\n",
       "\n",
       "    .dataframe thead th {\n",
       "        text-align: right;\n",
       "    }\n",
       "</style>\n",
       "<table border=\"1\" class=\"dataframe\">\n",
       "  <thead>\n",
       "    <tr style=\"text-align: right;\">\n",
       "      <th></th>\n",
       "      <th>name</th>\n",
       "      <th>platform</th>\n",
       "      <th>year_of_release</th>\n",
       "      <th>genre</th>\n",
       "      <th>na_sales</th>\n",
       "      <th>eu_sales</th>\n",
       "      <th>jp_sales</th>\n",
       "      <th>other_sales</th>\n",
       "      <th>critic_score</th>\n",
       "      <th>user_score</th>\n",
       "      <th>rating</th>\n",
       "      <th>user_category</th>\n",
       "    </tr>\n",
       "  </thead>\n",
       "  <tbody>\n",
       "    <tr>\n",
       "      <th>0</th>\n",
       "      <td>wii sports</td>\n",
       "      <td>WII</td>\n",
       "      <td>2006</td>\n",
       "      <td>sports</td>\n",
       "      <td>41.36</td>\n",
       "      <td>28.96</td>\n",
       "      <td>3.77</td>\n",
       "      <td>8.45</td>\n",
       "      <td>76.0</td>\n",
       "      <td>8.0</td>\n",
       "      <td>E</td>\n",
       "      <td>высокая оценка</td>\n",
       "    </tr>\n",
       "    <tr>\n",
       "      <th>2</th>\n",
       "      <td>mario kart wii</td>\n",
       "      <td>WII</td>\n",
       "      <td>2008</td>\n",
       "      <td>racing</td>\n",
       "      <td>15.68</td>\n",
       "      <td>12.76</td>\n",
       "      <td>3.79</td>\n",
       "      <td>3.29</td>\n",
       "      <td>82.0</td>\n",
       "      <td>8.3</td>\n",
       "      <td>E</td>\n",
       "      <td>высокая оценка</td>\n",
       "    </tr>\n",
       "    <tr>\n",
       "      <th>3</th>\n",
       "      <td>wii sports resort</td>\n",
       "      <td>WII</td>\n",
       "      <td>2009</td>\n",
       "      <td>sports</td>\n",
       "      <td>15.61</td>\n",
       "      <td>10.93</td>\n",
       "      <td>3.28</td>\n",
       "      <td>2.95</td>\n",
       "      <td>80.0</td>\n",
       "      <td>8.0</td>\n",
       "      <td>E</td>\n",
       "      <td>высокая оценка</td>\n",
       "    </tr>\n",
       "    <tr>\n",
       "      <th>6</th>\n",
       "      <td>new super mario bros.</td>\n",
       "      <td>DS</td>\n",
       "      <td>2006</td>\n",
       "      <td>platform</td>\n",
       "      <td>11.28</td>\n",
       "      <td>9.14</td>\n",
       "      <td>6.50</td>\n",
       "      <td>2.88</td>\n",
       "      <td>89.0</td>\n",
       "      <td>8.5</td>\n",
       "      <td>E</td>\n",
       "      <td>высокая оценка</td>\n",
       "    </tr>\n",
       "    <tr>\n",
       "      <th>7</th>\n",
       "      <td>wii play</td>\n",
       "      <td>WII</td>\n",
       "      <td>2006</td>\n",
       "      <td>misc</td>\n",
       "      <td>13.96</td>\n",
       "      <td>9.18</td>\n",
       "      <td>2.93</td>\n",
       "      <td>2.84</td>\n",
       "      <td>58.0</td>\n",
       "      <td>6.6</td>\n",
       "      <td>E</td>\n",
       "      <td>средняя оценка</td>\n",
       "    </tr>\n",
       "    <tr>\n",
       "      <th>...</th>\n",
       "      <td>...</td>\n",
       "      <td>...</td>\n",
       "      <td>...</td>\n",
       "      <td>...</td>\n",
       "      <td>...</td>\n",
       "      <td>...</td>\n",
       "      <td>...</td>\n",
       "      <td>...</td>\n",
       "      <td>...</td>\n",
       "      <td>...</td>\n",
       "      <td>...</td>\n",
       "      <td>...</td>\n",
       "    </tr>\n",
       "    <tr>\n",
       "      <th>16947</th>\n",
       "      <td>men in black ii: alien escape</td>\n",
       "      <td>GC</td>\n",
       "      <td>2003</td>\n",
       "      <td>shooter</td>\n",
       "      <td>0.01</td>\n",
       "      <td>0.00</td>\n",
       "      <td>0.00</td>\n",
       "      <td>0.00</td>\n",
       "      <td>-1.0</td>\n",
       "      <td>-1.0</td>\n",
       "      <td>T</td>\n",
       "      <td>нет оценки</td>\n",
       "    </tr>\n",
       "    <tr>\n",
       "      <th>16949</th>\n",
       "      <td>woody woodpecker in crazy castle 5</td>\n",
       "      <td>GBA</td>\n",
       "      <td>2002</td>\n",
       "      <td>platform</td>\n",
       "      <td>0.01</td>\n",
       "      <td>0.00</td>\n",
       "      <td>0.00</td>\n",
       "      <td>0.00</td>\n",
       "      <td>-1.0</td>\n",
       "      <td>-1.0</td>\n",
       "      <td></td>\n",
       "      <td>нет оценки</td>\n",
       "    </tr>\n",
       "    <tr>\n",
       "      <th>16950</th>\n",
       "      <td>score international baja 1000: the official game</td>\n",
       "      <td>PS2</td>\n",
       "      <td>2008</td>\n",
       "      <td>racing</td>\n",
       "      <td>0.00</td>\n",
       "      <td>0.00</td>\n",
       "      <td>0.00</td>\n",
       "      <td>0.00</td>\n",
       "      <td>-1.0</td>\n",
       "      <td>-1.0</td>\n",
       "      <td></td>\n",
       "      <td>нет оценки</td>\n",
       "    </tr>\n",
       "    <tr>\n",
       "      <th>16952</th>\n",
       "      <td>lma manager 2007</td>\n",
       "      <td>X360</td>\n",
       "      <td>2006</td>\n",
       "      <td>sports</td>\n",
       "      <td>0.00</td>\n",
       "      <td>0.01</td>\n",
       "      <td>0.00</td>\n",
       "      <td>0.00</td>\n",
       "      <td>-1.0</td>\n",
       "      <td>-1.0</td>\n",
       "      <td></td>\n",
       "      <td>нет оценки</td>\n",
       "    </tr>\n",
       "    <tr>\n",
       "      <th>16954</th>\n",
       "      <td>spirits &amp; spells</td>\n",
       "      <td>GBA</td>\n",
       "      <td>2003</td>\n",
       "      <td>platform</td>\n",
       "      <td>0.01</td>\n",
       "      <td>0.00</td>\n",
       "      <td>0.00</td>\n",
       "      <td>0.00</td>\n",
       "      <td>-1.0</td>\n",
       "      <td>-1.0</td>\n",
       "      <td></td>\n",
       "      <td>нет оценки</td>\n",
       "    </tr>\n",
       "  </tbody>\n",
       "</table>\n",
       "<p>12781 rows × 12 columns</p>\n",
       "</div>"
      ],
      "text/plain": [
       "                                                   name platform  \\\n",
       "0                                            wii sports      WII   \n",
       "2                                        mario kart wii      WII   \n",
       "3                                     wii sports resort      WII   \n",
       "6                                 new super mario bros.       DS   \n",
       "7                                              wii play      WII   \n",
       "...                                                 ...      ...   \n",
       "16947                     men in black ii: alien escape       GC   \n",
       "16949                woody woodpecker in crazy castle 5      GBA   \n",
       "16950  score international baja 1000: the official game      PS2   \n",
       "16952                                  lma manager 2007     X360   \n",
       "16954                                  spirits & spells      GBA   \n",
       "\n",
       "       year_of_release     genre  na_sales  eu_sales  jp_sales  other_sales  \\\n",
       "0                 2006    sports     41.36     28.96      3.77         8.45   \n",
       "2                 2008    racing     15.68     12.76      3.79         3.29   \n",
       "3                 2009    sports     15.61     10.93      3.28         2.95   \n",
       "6                 2006  platform     11.28      9.14      6.50         2.88   \n",
       "7                 2006      misc     13.96      9.18      2.93         2.84   \n",
       "...                ...       ...       ...       ...       ...          ...   \n",
       "16947             2003   shooter      0.01      0.00      0.00         0.00   \n",
       "16949             2002  platform      0.01      0.00      0.00         0.00   \n",
       "16950             2008    racing      0.00      0.00      0.00         0.00   \n",
       "16952             2006    sports      0.00      0.01      0.00         0.00   \n",
       "16954             2003  platform      0.01      0.00      0.00         0.00   \n",
       "\n",
       "       critic_score  user_score rating   user_category  \n",
       "0              76.0         8.0      E  высокая оценка  \n",
       "2              82.0         8.3      E  высокая оценка  \n",
       "3              80.0         8.0      E  высокая оценка  \n",
       "6              89.0         8.5      E  высокая оценка  \n",
       "7              58.0         6.6      E  средняя оценка  \n",
       "...             ...         ...    ...             ...  \n",
       "16947          -1.0        -1.0      T      нет оценки  \n",
       "16949          -1.0        -1.0             нет оценки  \n",
       "16950          -1.0        -1.0             нет оценки  \n",
       "16952          -1.0        -1.0             нет оценки  \n",
       "16954          -1.0        -1.0             нет оценки  \n",
       "\n",
       "[12781 rows x 12 columns]"
      ]
     },
     "execution_count": 39,
     "metadata": {},
     "output_type": "execute_result"
    }
   ],
   "source": [
    "df_actual"
   ]
  },
  {
   "cell_type": "markdown",
   "id": "f8f34b40",
   "metadata": {
    "id": "f8f34b40"
   },
   "source": [
    "- Разделите все игры по оценкам критиков и выделите такие категории: высокая оценка (от 80 до 100 включительно), средняя оценка (от 30 до 80, не включая правую границу интервала) и низкая оценка (от 0 до 30, не включая правую границу интервала)."
   ]
  },
  {
   "cell_type": "code",
   "execution_count": 40,
   "id": "548fde17",
   "metadata": {
    "id": "548fde17"
   },
   "outputs": [],
   "source": [
    "def categorize_critic_score(row):\n",
    "    if row['critic_score'] >= 80:\n",
    "        return \"высокая оценка\"\n",
    "    elif row['user_score'] >= 30:\n",
    "        return \"средняя оценка\"\n",
    "    elif row['user_score'] >= 0:\n",
    "        return \"низкая оценка\"\n",
    "    else:\n",
    "        return \"нет оценки\"\n",
    "df_actual = df_actual.copy()\n",
    "df_actual['critic_category'] =  df_actual.apply(categorize_user_score, axis =1)   "
   ]
  },
  {
   "cell_type": "code",
   "execution_count": 41,
   "id": "d136d06b",
   "metadata": {
    "id": "d136d06b"
   },
   "outputs": [
    {
     "data": {
      "text/html": [
       "<div>\n",
       "<style scoped>\n",
       "    .dataframe tbody tr th:only-of-type {\n",
       "        vertical-align: middle;\n",
       "    }\n",
       "\n",
       "    .dataframe tbody tr th {\n",
       "        vertical-align: top;\n",
       "    }\n",
       "\n",
       "    .dataframe thead th {\n",
       "        text-align: right;\n",
       "    }\n",
       "</style>\n",
       "<table border=\"1\" class=\"dataframe\">\n",
       "  <thead>\n",
       "    <tr style=\"text-align: right;\">\n",
       "      <th></th>\n",
       "      <th>name</th>\n",
       "      <th>platform</th>\n",
       "      <th>year_of_release</th>\n",
       "      <th>genre</th>\n",
       "      <th>na_sales</th>\n",
       "      <th>eu_sales</th>\n",
       "      <th>jp_sales</th>\n",
       "      <th>other_sales</th>\n",
       "      <th>critic_score</th>\n",
       "      <th>user_score</th>\n",
       "      <th>rating</th>\n",
       "      <th>user_category</th>\n",
       "      <th>critic_category</th>\n",
       "    </tr>\n",
       "  </thead>\n",
       "  <tbody>\n",
       "    <tr>\n",
       "      <th>0</th>\n",
       "      <td>wii sports</td>\n",
       "      <td>WII</td>\n",
       "      <td>2006</td>\n",
       "      <td>sports</td>\n",
       "      <td>41.36</td>\n",
       "      <td>28.96</td>\n",
       "      <td>3.77</td>\n",
       "      <td>8.45</td>\n",
       "      <td>76.0</td>\n",
       "      <td>8.0</td>\n",
       "      <td>E</td>\n",
       "      <td>высокая оценка</td>\n",
       "      <td>высокая оценка</td>\n",
       "    </tr>\n",
       "    <tr>\n",
       "      <th>2</th>\n",
       "      <td>mario kart wii</td>\n",
       "      <td>WII</td>\n",
       "      <td>2008</td>\n",
       "      <td>racing</td>\n",
       "      <td>15.68</td>\n",
       "      <td>12.76</td>\n",
       "      <td>3.79</td>\n",
       "      <td>3.29</td>\n",
       "      <td>82.0</td>\n",
       "      <td>8.3</td>\n",
       "      <td>E</td>\n",
       "      <td>высокая оценка</td>\n",
       "      <td>высокая оценка</td>\n",
       "    </tr>\n",
       "    <tr>\n",
       "      <th>3</th>\n",
       "      <td>wii sports resort</td>\n",
       "      <td>WII</td>\n",
       "      <td>2009</td>\n",
       "      <td>sports</td>\n",
       "      <td>15.61</td>\n",
       "      <td>10.93</td>\n",
       "      <td>3.28</td>\n",
       "      <td>2.95</td>\n",
       "      <td>80.0</td>\n",
       "      <td>8.0</td>\n",
       "      <td>E</td>\n",
       "      <td>высокая оценка</td>\n",
       "      <td>высокая оценка</td>\n",
       "    </tr>\n",
       "    <tr>\n",
       "      <th>6</th>\n",
       "      <td>new super mario bros.</td>\n",
       "      <td>DS</td>\n",
       "      <td>2006</td>\n",
       "      <td>platform</td>\n",
       "      <td>11.28</td>\n",
       "      <td>9.14</td>\n",
       "      <td>6.50</td>\n",
       "      <td>2.88</td>\n",
       "      <td>89.0</td>\n",
       "      <td>8.5</td>\n",
       "      <td>E</td>\n",
       "      <td>высокая оценка</td>\n",
       "      <td>высокая оценка</td>\n",
       "    </tr>\n",
       "    <tr>\n",
       "      <th>7</th>\n",
       "      <td>wii play</td>\n",
       "      <td>WII</td>\n",
       "      <td>2006</td>\n",
       "      <td>misc</td>\n",
       "      <td>13.96</td>\n",
       "      <td>9.18</td>\n",
       "      <td>2.93</td>\n",
       "      <td>2.84</td>\n",
       "      <td>58.0</td>\n",
       "      <td>6.6</td>\n",
       "      <td>E</td>\n",
       "      <td>средняя оценка</td>\n",
       "      <td>средняя оценка</td>\n",
       "    </tr>\n",
       "    <tr>\n",
       "      <th>...</th>\n",
       "      <td>...</td>\n",
       "      <td>...</td>\n",
       "      <td>...</td>\n",
       "      <td>...</td>\n",
       "      <td>...</td>\n",
       "      <td>...</td>\n",
       "      <td>...</td>\n",
       "      <td>...</td>\n",
       "      <td>...</td>\n",
       "      <td>...</td>\n",
       "      <td>...</td>\n",
       "      <td>...</td>\n",
       "      <td>...</td>\n",
       "    </tr>\n",
       "    <tr>\n",
       "      <th>16947</th>\n",
       "      <td>men in black ii: alien escape</td>\n",
       "      <td>GC</td>\n",
       "      <td>2003</td>\n",
       "      <td>shooter</td>\n",
       "      <td>0.01</td>\n",
       "      <td>0.00</td>\n",
       "      <td>0.00</td>\n",
       "      <td>0.00</td>\n",
       "      <td>-1.0</td>\n",
       "      <td>-1.0</td>\n",
       "      <td>T</td>\n",
       "      <td>нет оценки</td>\n",
       "      <td>нет оценки</td>\n",
       "    </tr>\n",
       "    <tr>\n",
       "      <th>16949</th>\n",
       "      <td>woody woodpecker in crazy castle 5</td>\n",
       "      <td>GBA</td>\n",
       "      <td>2002</td>\n",
       "      <td>platform</td>\n",
       "      <td>0.01</td>\n",
       "      <td>0.00</td>\n",
       "      <td>0.00</td>\n",
       "      <td>0.00</td>\n",
       "      <td>-1.0</td>\n",
       "      <td>-1.0</td>\n",
       "      <td></td>\n",
       "      <td>нет оценки</td>\n",
       "      <td>нет оценки</td>\n",
       "    </tr>\n",
       "    <tr>\n",
       "      <th>16950</th>\n",
       "      <td>score international baja 1000: the official game</td>\n",
       "      <td>PS2</td>\n",
       "      <td>2008</td>\n",
       "      <td>racing</td>\n",
       "      <td>0.00</td>\n",
       "      <td>0.00</td>\n",
       "      <td>0.00</td>\n",
       "      <td>0.00</td>\n",
       "      <td>-1.0</td>\n",
       "      <td>-1.0</td>\n",
       "      <td></td>\n",
       "      <td>нет оценки</td>\n",
       "      <td>нет оценки</td>\n",
       "    </tr>\n",
       "    <tr>\n",
       "      <th>16952</th>\n",
       "      <td>lma manager 2007</td>\n",
       "      <td>X360</td>\n",
       "      <td>2006</td>\n",
       "      <td>sports</td>\n",
       "      <td>0.00</td>\n",
       "      <td>0.01</td>\n",
       "      <td>0.00</td>\n",
       "      <td>0.00</td>\n",
       "      <td>-1.0</td>\n",
       "      <td>-1.0</td>\n",
       "      <td></td>\n",
       "      <td>нет оценки</td>\n",
       "      <td>нет оценки</td>\n",
       "    </tr>\n",
       "    <tr>\n",
       "      <th>16954</th>\n",
       "      <td>spirits &amp; spells</td>\n",
       "      <td>GBA</td>\n",
       "      <td>2003</td>\n",
       "      <td>platform</td>\n",
       "      <td>0.01</td>\n",
       "      <td>0.00</td>\n",
       "      <td>0.00</td>\n",
       "      <td>0.00</td>\n",
       "      <td>-1.0</td>\n",
       "      <td>-1.0</td>\n",
       "      <td></td>\n",
       "      <td>нет оценки</td>\n",
       "      <td>нет оценки</td>\n",
       "    </tr>\n",
       "  </tbody>\n",
       "</table>\n",
       "<p>12781 rows × 13 columns</p>\n",
       "</div>"
      ],
      "text/plain": [
       "                                                   name platform  \\\n",
       "0                                            wii sports      WII   \n",
       "2                                        mario kart wii      WII   \n",
       "3                                     wii sports resort      WII   \n",
       "6                                 new super mario bros.       DS   \n",
       "7                                              wii play      WII   \n",
       "...                                                 ...      ...   \n",
       "16947                     men in black ii: alien escape       GC   \n",
       "16949                woody woodpecker in crazy castle 5      GBA   \n",
       "16950  score international baja 1000: the official game      PS2   \n",
       "16952                                  lma manager 2007     X360   \n",
       "16954                                  spirits & spells      GBA   \n",
       "\n",
       "       year_of_release     genre  na_sales  eu_sales  jp_sales  other_sales  \\\n",
       "0                 2006    sports     41.36     28.96      3.77         8.45   \n",
       "2                 2008    racing     15.68     12.76      3.79         3.29   \n",
       "3                 2009    sports     15.61     10.93      3.28         2.95   \n",
       "6                 2006  platform     11.28      9.14      6.50         2.88   \n",
       "7                 2006      misc     13.96      9.18      2.93         2.84   \n",
       "...                ...       ...       ...       ...       ...          ...   \n",
       "16947             2003   shooter      0.01      0.00      0.00         0.00   \n",
       "16949             2002  platform      0.01      0.00      0.00         0.00   \n",
       "16950             2008    racing      0.00      0.00      0.00         0.00   \n",
       "16952             2006    sports      0.00      0.01      0.00         0.00   \n",
       "16954             2003  platform      0.01      0.00      0.00         0.00   \n",
       "\n",
       "       critic_score  user_score rating   user_category critic_category  \n",
       "0              76.0         8.0      E  высокая оценка  высокая оценка  \n",
       "2              82.0         8.3      E  высокая оценка  высокая оценка  \n",
       "3              80.0         8.0      E  высокая оценка  высокая оценка  \n",
       "6              89.0         8.5      E  высокая оценка  высокая оценка  \n",
       "7              58.0         6.6      E  средняя оценка  средняя оценка  \n",
       "...             ...         ...    ...             ...             ...  \n",
       "16947          -1.0        -1.0      T      нет оценки      нет оценки  \n",
       "16949          -1.0        -1.0             нет оценки      нет оценки  \n",
       "16950          -1.0        -1.0             нет оценки      нет оценки  \n",
       "16952          -1.0        -1.0             нет оценки      нет оценки  \n",
       "16954          -1.0        -1.0             нет оценки      нет оценки  \n",
       "\n",
       "[12781 rows x 13 columns]"
      ]
     },
     "execution_count": 41,
     "metadata": {},
     "output_type": "execute_result"
    }
   ],
   "source": [
    "df_actual"
   ]
  },
  {
   "cell_type": "markdown",
   "id": "e1caa224",
   "metadata": {},
   "source": [
    " "
   ]
  },
  {
   "cell_type": "markdown",
   "id": "olkTlTlAUDR9",
   "metadata": {
    "id": "olkTlTlAUDR9"
   },
   "source": [
    "- После категоризации данных проверьте результат: сгруппируйте данные по выделенным категориям и посчитайте количество игр в каждой категории."
   ]
  },
  {
   "cell_type": "code",
   "execution_count": 42,
   "id": "HW0Nsp-4UMSL",
   "metadata": {
    "id": "HW0Nsp-4UMSL"
   },
   "outputs": [
    {
     "data": {
      "text/html": [
       "<div>\n",
       "<style scoped>\n",
       "    .dataframe tbody tr th:only-of-type {\n",
       "        vertical-align: middle;\n",
       "    }\n",
       "\n",
       "    .dataframe tbody tr th {\n",
       "        vertical-align: top;\n",
       "    }\n",
       "\n",
       "    .dataframe thead th {\n",
       "        text-align: right;\n",
       "    }\n",
       "</style>\n",
       "<table border=\"1\" class=\"dataframe\">\n",
       "  <thead>\n",
       "    <tr style=\"text-align: right;\">\n",
       "      <th></th>\n",
       "      <th>user_category</th>\n",
       "      <th>critic_category</th>\n",
       "      <th>name</th>\n",
       "    </tr>\n",
       "  </thead>\n",
       "  <tbody>\n",
       "    <tr>\n",
       "      <th>0</th>\n",
       "      <td>высокая оценка</td>\n",
       "      <td>высокая оценка</td>\n",
       "      <td>2286</td>\n",
       "    </tr>\n",
       "    <tr>\n",
       "      <th>1</th>\n",
       "      <td>нет оценки</td>\n",
       "      <td>нет оценки</td>\n",
       "      <td>6298</td>\n",
       "    </tr>\n",
       "    <tr>\n",
       "      <th>2</th>\n",
       "      <td>низкая оценка</td>\n",
       "      <td>низкая оценка</td>\n",
       "      <td>116</td>\n",
       "    </tr>\n",
       "    <tr>\n",
       "      <th>3</th>\n",
       "      <td>средняя оценка</td>\n",
       "      <td>средняя оценка</td>\n",
       "      <td>4081</td>\n",
       "    </tr>\n",
       "  </tbody>\n",
       "</table>\n",
       "</div>"
      ],
      "text/plain": [
       "    user_category critic_category  name\n",
       "0  высокая оценка  высокая оценка  2286\n",
       "1      нет оценки      нет оценки  6298\n",
       "2   низкая оценка   низкая оценка   116\n",
       "3  средняя оценка  средняя оценка  4081"
      ]
     },
     "execution_count": 42,
     "metadata": {},
     "output_type": "execute_result"
    }
   ],
   "source": [
    "group_data = df_actual.groupby(['user_category', 'critic_category'], as_index = False)['name'].count()\n",
    "group_data"
   ]
  },
  {
   "cell_type": "markdown",
   "id": "6a98444c",
   "metadata": {
    "id": "6a98444c"
   },
   "source": [
    "- Выделите топ-7 платформ по количеству игр, выпущенных за весь актуальный период."
   ]
  },
  {
   "cell_type": "code",
   "execution_count": 43,
   "id": "c1aead3e",
   "metadata": {},
   "outputs": [],
   "source": [
    "#группируем платформы \n",
    "group_platform = df_actual.groupby('platform', as_index = False)['name'].count()"
   ]
  },
  {
   "cell_type": "code",
   "execution_count": 44,
   "id": "e8d8a1d0",
   "metadata": {
    "id": "e8d8a1d0"
   },
   "outputs": [
    {
     "data": {
      "text/html": [
       "<div>\n",
       "<style scoped>\n",
       "    .dataframe tbody tr th:only-of-type {\n",
       "        vertical-align: middle;\n",
       "    }\n",
       "\n",
       "    .dataframe tbody tr th {\n",
       "        vertical-align: top;\n",
       "    }\n",
       "\n",
       "    .dataframe thead th {\n",
       "        text-align: right;\n",
       "    }\n",
       "</style>\n",
       "<table border=\"1\" class=\"dataframe\">\n",
       "  <thead>\n",
       "    <tr style=\"text-align: right;\">\n",
       "      <th></th>\n",
       "      <th>platform</th>\n",
       "      <th>name</th>\n",
       "    </tr>\n",
       "  </thead>\n",
       "  <tbody>\n",
       "    <tr>\n",
       "      <th>9</th>\n",
       "      <td>PS2</td>\n",
       "      <td>2127</td>\n",
       "    </tr>\n",
       "    <tr>\n",
       "      <th>2</th>\n",
       "      <td>DS</td>\n",
       "      <td>2120</td>\n",
       "    </tr>\n",
       "    <tr>\n",
       "      <th>14</th>\n",
       "      <td>WII</td>\n",
       "      <td>1275</td>\n",
       "    </tr>\n",
       "    <tr>\n",
       "      <th>12</th>\n",
       "      <td>PSP</td>\n",
       "      <td>1180</td>\n",
       "    </tr>\n",
       "    <tr>\n",
       "      <th>17</th>\n",
       "      <td>X360</td>\n",
       "      <td>1121</td>\n",
       "    </tr>\n",
       "    <tr>\n",
       "      <th>10</th>\n",
       "      <td>PS3</td>\n",
       "      <td>1087</td>\n",
       "    </tr>\n",
       "    <tr>\n",
       "      <th>4</th>\n",
       "      <td>GBA</td>\n",
       "      <td>811</td>\n",
       "    </tr>\n",
       "  </tbody>\n",
       "</table>\n",
       "</div>"
      ],
      "text/plain": [
       "   platform  name\n",
       "9       PS2  2127\n",
       "2        DS  2120\n",
       "14      WII  1275\n",
       "12      PSP  1180\n",
       "17     X360  1121\n",
       "10      PS3  1087\n",
       "4       GBA   811"
      ]
     },
     "execution_count": 44,
     "metadata": {},
     "output_type": "execute_result"
    }
   ],
   "source": [
    "#сортируем плафтормы по количеству выпущенных игр\n",
    "sorted_platforms = group_platform.sort_values(by ='name', ascending = False).head(7)\n",
    "sorted_platforms"
   ]
  },
  {
   "cell_type": "markdown",
   "id": "c0158881",
   "metadata": {
    "id": "c0158881"
   },
   "source": [
    "---\n",
    "\n",
    "## 5. Итоговый вывод\n",
    "\n",
    "В конце напишите основной вывод и отразите, какую работу проделали."
   ]
  },
  {
   "cell_type": "markdown",
   "id": "aa12d8b5",
   "metadata": {
    "id": "20175f5b"
   },
   "source": [
    "Данные были тщательно отфильтрованы, что позволило выделить историю продаж игр в начале 21 века. \n",
    "Также была выполнена категоризация данных по оценкам пользователей и критиков. Это было сделано для того, чтобы информация лучше воспринималась заказчиком, а также соответствовала его требованиям. "
   ]
  },
  {
   "cell_type": "markdown",
   "id": "47e85afb",
   "metadata": {
    "id": "0c1afc40"
   },
   "source": [
    "Кроме того, была проделана фильтрация данных по платформам, благодаря чему удалось выявить топ-7 платформ по количеству выпущенных игр. "
   ]
  }
 ],
 "metadata": {
  "ExecuteTimeLog": [
   {
    "duration": 50,
    "start_time": "2024-12-11T10:13:22.495Z"
   },
   {
    "duration": 413,
    "start_time": "2024-12-11T10:13:29.845Z"
   },
   {
    "duration": 126,
    "start_time": "2024-12-11T10:13:31.624Z"
   },
   {
    "duration": 2,
    "start_time": "2024-12-11T10:13:36.816Z"
   },
   {
    "duration": 97,
    "start_time": "2024-12-11T10:13:38.917Z"
   },
   {
    "duration": 4,
    "start_time": "2024-12-11T10:16:19.624Z"
   },
   {
    "duration": 419,
    "start_time": "2024-12-11T10:16:21.227Z"
   },
   {
    "duration": 104,
    "start_time": "2024-12-11T10:16:22.985Z"
   },
   {
    "duration": 193,
    "start_time": "2024-12-11T10:16:38.946Z"
   },
   {
    "duration": 3,
    "start_time": "2024-12-11T10:16:59.835Z"
   },
   {
    "duration": 3,
    "start_time": "2024-12-11T10:17:08.616Z"
   },
   {
    "duration": 413,
    "start_time": "2024-12-11T10:17:09.936Z"
   },
   {
    "duration": 125,
    "start_time": "2024-12-11T10:17:11.116Z"
   },
   {
    "duration": 22,
    "start_time": "2024-12-11T10:18:52.045Z"
   },
   {
    "duration": 16,
    "start_time": "2024-12-11T10:19:45.864Z"
   },
   {
    "duration": 16,
    "start_time": "2024-12-11T10:22:22.246Z"
   },
   {
    "duration": 15,
    "start_time": "2024-12-11T10:22:29.257Z"
   },
   {
    "duration": 465,
    "start_time": "2024-12-11T10:22:44.404Z"
   },
   {
    "duration": 89,
    "start_time": "2024-12-11T10:22:45.778Z"
   },
   {
    "duration": 23,
    "start_time": "2024-12-11T10:22:48.946Z"
   },
   {
    "duration": 17,
    "start_time": "2024-12-11T10:22:51.086Z"
   },
   {
    "duration": 67,
    "start_time": "2024-12-11T10:45:39.519Z"
   },
   {
    "duration": 6,
    "start_time": "2024-12-11T10:46:44.689Z"
   },
   {
    "duration": 4,
    "start_time": "2024-12-11T10:47:18.387Z"
   },
   {
    "duration": 453,
    "start_time": "2024-12-11T10:47:18.394Z"
   },
   {
    "duration": 117,
    "start_time": "2024-12-11T10:47:18.849Z"
   },
   {
    "duration": 24,
    "start_time": "2024-12-11T10:47:18.967Z"
   },
   {
    "duration": 17,
    "start_time": "2024-12-11T10:47:18.993Z"
   },
   {
    "duration": 200,
    "start_time": "2024-12-11T10:47:19.012Z"
   },
   {
    "duration": 0,
    "start_time": "2024-12-11T10:47:19.213Z"
   },
   {
    "duration": 4,
    "start_time": "2024-12-11T10:47:46.059Z"
   },
   {
    "duration": 65,
    "start_time": "2024-12-11T10:51:31.150Z"
   },
   {
    "duration": 8,
    "start_time": "2024-12-11T10:52:30.742Z"
   },
   {
    "duration": 3,
    "start_time": "2024-12-11T10:52:46.774Z"
   },
   {
    "duration": 377,
    "start_time": "2024-12-11T10:52:46.779Z"
   },
   {
    "duration": 110,
    "start_time": "2024-12-11T10:52:47.158Z"
   },
   {
    "duration": 24,
    "start_time": "2024-12-11T10:52:47.270Z"
   },
   {
    "duration": 18,
    "start_time": "2024-12-11T10:52:47.296Z"
   },
   {
    "duration": 17,
    "start_time": "2024-12-11T10:52:47.315Z"
   },
   {
    "duration": 4,
    "start_time": "2024-12-11T10:52:47.334Z"
   },
   {
    "duration": 90,
    "start_time": "2024-12-11T10:52:47.340Z"
   },
   {
    "duration": 0,
    "start_time": "2024-12-11T10:52:47.433Z"
   },
   {
    "duration": 7,
    "start_time": "2024-12-11T10:57:20.030Z"
   },
   {
    "duration": 7,
    "start_time": "2024-12-11T10:59:57.938Z"
   },
   {
    "duration": 3,
    "start_time": "2024-12-11T11:00:24.316Z"
   },
   {
    "duration": 4,
    "start_time": "2024-12-11T11:00:26.547Z"
   },
   {
    "duration": 13,
    "start_time": "2024-12-11T11:00:53.985Z"
   },
   {
    "duration": 3,
    "start_time": "2024-12-11T11:01:14.799Z"
   },
   {
    "duration": 3,
    "start_time": "2024-12-11T11:01:16.699Z"
   },
   {
    "duration": 3,
    "start_time": "2024-12-11T11:01:38.785Z"
   },
   {
    "duration": 3,
    "start_time": "2024-12-11T11:01:39.570Z"
   },
   {
    "duration": 4,
    "start_time": "2024-12-11T11:01:40.320Z"
   },
   {
    "duration": 4,
    "start_time": "2024-12-11T11:02:49.470Z"
   },
   {
    "duration": 2,
    "start_time": "2024-12-11T11:02:51.220Z"
   },
   {
    "duration": 3,
    "start_time": "2024-12-11T11:02:52.018Z"
   },
   {
    "duration": 7,
    "start_time": "2024-12-11T11:02:52.490Z"
   },
   {
    "duration": 4,
    "start_time": "2024-12-11T11:04:24.480Z"
   },
   {
    "duration": 3,
    "start_time": "2024-12-11T11:04:26.001Z"
   },
   {
    "duration": 3,
    "start_time": "2024-12-11T11:04:26.631Z"
   },
   {
    "duration": 3,
    "start_time": "2024-12-11T11:04:40.350Z"
   },
   {
    "duration": 9,
    "start_time": "2024-12-11T11:04:41.270Z"
   },
   {
    "duration": 4,
    "start_time": "2024-12-11T11:04:55.650Z"
   },
   {
    "duration": 7,
    "start_time": "2024-12-11T11:05:16.930Z"
   },
   {
    "duration": 3,
    "start_time": "2024-12-11T11:05:28.670Z"
   },
   {
    "duration": 5,
    "start_time": "2024-12-11T11:06:33.671Z"
   },
   {
    "duration": 3,
    "start_time": "2024-12-11T11:06:54.170Z"
   },
   {
    "duration": 4,
    "start_time": "2024-12-11T11:06:54.899Z"
   },
   {
    "duration": 5,
    "start_time": "2024-12-11T11:06:55.689Z"
   },
   {
    "duration": 3,
    "start_time": "2024-12-11T11:06:56.579Z"
   },
   {
    "duration": 4,
    "start_time": "2024-12-11T11:06:57.230Z"
   },
   {
    "duration": 3,
    "start_time": "2024-12-11T11:07:10.835Z"
   },
   {
    "duration": 406,
    "start_time": "2024-12-11T11:07:10.840Z"
   },
   {
    "duration": 128,
    "start_time": "2024-12-11T11:07:11.247Z"
   },
   {
    "duration": 22,
    "start_time": "2024-12-11T11:07:11.377Z"
   },
   {
    "duration": 17,
    "start_time": "2024-12-11T11:07:11.401Z"
   },
   {
    "duration": 4,
    "start_time": "2024-12-11T11:07:11.420Z"
   },
   {
    "duration": 20,
    "start_time": "2024-12-11T11:07:11.426Z"
   },
   {
    "duration": 26,
    "start_time": "2024-12-11T11:07:11.447Z"
   },
   {
    "duration": 66,
    "start_time": "2024-12-11T11:07:11.474Z"
   },
   {
    "duration": 0,
    "start_time": "2024-12-11T11:07:11.542Z"
   },
   {
    "duration": 8,
    "start_time": "2024-12-11T11:08:21.999Z"
   },
   {
    "duration": 45,
    "start_time": "2024-12-11T11:08:22.599Z"
   },
   {
    "duration": 6,
    "start_time": "2024-12-11T11:08:23.528Z"
   },
   {
    "duration": 6,
    "start_time": "2024-12-11T11:08:25.691Z"
   },
   {
    "duration": 6,
    "start_time": "2024-12-11T11:08:29.847Z"
   },
   {
    "duration": 436,
    "start_time": "2024-12-11T11:09:14.824Z"
   },
   {
    "duration": 144,
    "start_time": "2024-12-11T11:09:15.864Z"
   },
   {
    "duration": 3,
    "start_time": "2024-12-11T11:09:16.677Z"
   },
   {
    "duration": 3,
    "start_time": "2024-12-11T11:09:17.554Z"
   },
   {
    "duration": 9,
    "start_time": "2024-12-11T11:09:18.532Z"
   },
   {
    "duration": 68,
    "start_time": "2024-12-11T11:09:19.404Z"
   },
   {
    "duration": 4,
    "start_time": "2024-12-11T11:09:21.663Z"
   },
   {
    "duration": 3,
    "start_time": "2024-12-11T11:09:45.663Z"
   },
   {
    "duration": 4,
    "start_time": "2024-12-11T11:09:49.173Z"
   },
   {
    "duration": 422,
    "start_time": "2024-12-11T11:10:25.319Z"
   },
   {
    "duration": 117,
    "start_time": "2024-12-11T11:10:25.791Z"
   },
   {
    "duration": 2,
    "start_time": "2024-12-11T11:10:26.300Z"
   },
   {
    "duration": 6,
    "start_time": "2024-12-11T11:10:26.767Z"
   },
   {
    "duration": 10,
    "start_time": "2024-12-11T11:10:27.211Z"
   },
   {
    "duration": 2,
    "start_time": "2024-12-11T11:10:27.851Z"
   },
   {
    "duration": 4,
    "start_time": "2024-12-11T11:10:28.771Z"
   },
   {
    "duration": 3,
    "start_time": "2024-12-11T11:11:45.870Z"
   },
   {
    "duration": 91,
    "start_time": "2024-12-11T11:11:46.458Z"
   },
   {
    "duration": 4,
    "start_time": "2024-12-11T11:11:48.340Z"
   },
   {
    "duration": 3,
    "start_time": "2024-12-11T11:11:48.940Z"
   },
   {
    "duration": 4,
    "start_time": "2024-12-11T11:11:49.591Z"
   },
   {
    "duration": 3,
    "start_time": "2024-12-11T11:11:50.171Z"
   },
   {
    "duration": 4,
    "start_time": "2024-12-11T11:11:50.789Z"
   },
   {
    "duration": 4,
    "start_time": "2024-12-11T11:12:04.950Z"
   },
   {
    "duration": 5,
    "start_time": "2024-12-11T11:12:08.400Z"
   },
   {
    "duration": 4,
    "start_time": "2024-12-11T11:12:09.388Z"
   },
   {
    "duration": 64,
    "start_time": "2024-12-11T11:12:23.700Z"
   },
   {
    "duration": 5,
    "start_time": "2024-12-11T11:15:56.830Z"
   },
   {
    "duration": 49,
    "start_time": "2024-12-11T11:16:13.521Z"
   },
   {
    "duration": 431,
    "start_time": "2024-12-11T11:16:27.130Z"
   },
   {
    "duration": 99,
    "start_time": "2024-12-11T11:16:27.620Z"
   },
   {
    "duration": 23,
    "start_time": "2024-12-11T11:16:33.310Z"
   },
   {
    "duration": 17,
    "start_time": "2024-12-11T11:16:35.660Z"
   },
   {
    "duration": 4,
    "start_time": "2024-12-11T11:16:45.794Z"
   },
   {
    "duration": 68,
    "start_time": "2024-12-11T11:19:25.211Z"
   },
   {
    "duration": 3,
    "start_time": "2024-12-11T11:20:21.450Z"
   },
   {
    "duration": 3,
    "start_time": "2024-12-11T11:20:24.500Z"
   },
   {
    "duration": 4,
    "start_time": "2024-12-11T11:20:41.901Z"
   },
   {
    "duration": 3,
    "start_time": "2024-12-11T11:29:43.452Z"
   },
   {
    "duration": 398,
    "start_time": "2024-12-11T11:29:43.457Z"
   },
   {
    "duration": 95,
    "start_time": "2024-12-11T11:29:43.857Z"
   },
   {
    "duration": 23,
    "start_time": "2024-12-11T11:29:43.953Z"
   },
   {
    "duration": 53,
    "start_time": "2024-12-11T11:29:43.978Z"
   },
   {
    "duration": 3,
    "start_time": "2024-12-11T11:29:44.033Z"
   },
   {
    "duration": 3,
    "start_time": "2024-12-11T11:29:44.038Z"
   },
   {
    "duration": 3,
    "start_time": "2024-12-11T11:29:44.043Z"
   },
   {
    "duration": 9,
    "start_time": "2024-12-11T11:29:44.048Z"
   },
   {
    "duration": 3,
    "start_time": "2024-12-11T11:29:59.393Z"
   },
   {
    "duration": 3,
    "start_time": "2024-12-11T11:30:01.607Z"
   },
   {
    "duration": 2,
    "start_time": "2024-12-11T11:30:04.064Z"
   },
   {
    "duration": 391,
    "start_time": "2024-12-11T11:30:12.171Z"
   },
   {
    "duration": 97,
    "start_time": "2024-12-11T11:30:12.710Z"
   },
   {
    "duration": 24,
    "start_time": "2024-12-11T11:30:15.540Z"
   },
   {
    "duration": 18,
    "start_time": "2024-12-11T11:30:18.000Z"
   },
   {
    "duration": 4,
    "start_time": "2024-12-11T11:30:22.890Z"
   },
   {
    "duration": 3,
    "start_time": "2024-12-11T11:30:25.268Z"
   },
   {
    "duration": 3,
    "start_time": "2024-12-11T11:30:27.972Z"
   },
   {
    "duration": 3,
    "start_time": "2024-12-11T11:30:28.781Z"
   },
   {
    "duration": 4,
    "start_time": "2024-12-11T11:30:44.649Z"
   },
   {
    "duration": 89,
    "start_time": "2024-12-12T09:41:32.316Z"
   },
   {
    "duration": 109,
    "start_time": "2024-12-12T09:41:44.437Z"
   },
   {
    "duration": 377,
    "start_time": "2024-12-12T09:42:19.659Z"
   },
   {
    "duration": 107,
    "start_time": "2024-12-12T09:42:20.038Z"
   },
   {
    "duration": 16,
    "start_time": "2024-12-12T09:42:28.149Z"
   },
   {
    "duration": 3,
    "start_time": "2024-12-12T09:42:46.237Z"
   },
   {
    "duration": 395,
    "start_time": "2024-12-12T09:42:46.242Z"
   },
   {
    "duration": 103,
    "start_time": "2024-12-12T09:42:46.638Z"
   },
   {
    "duration": 22,
    "start_time": "2024-12-12T09:42:46.743Z"
   },
   {
    "duration": 16,
    "start_time": "2024-12-12T09:42:46.766Z"
   },
   {
    "duration": 6,
    "start_time": "2024-12-12T09:42:46.784Z"
   },
   {
    "duration": 4,
    "start_time": "2024-12-12T09:42:46.791Z"
   },
   {
    "duration": 3,
    "start_time": "2024-12-12T09:42:46.824Z"
   },
   {
    "duration": 8,
    "start_time": "2024-12-12T09:42:46.830Z"
   },
   {
    "duration": 8,
    "start_time": "2024-12-12T09:42:46.841Z"
   },
   {
    "duration": 87,
    "start_time": "2024-12-12T09:42:46.851Z"
   },
   {
    "duration": 0,
    "start_time": "2024-12-12T09:42:46.941Z"
   },
   {
    "duration": 416,
    "start_time": "2024-12-12T09:43:12.709Z"
   },
   {
    "duration": 97,
    "start_time": "2024-12-12T09:43:13.127Z"
   },
   {
    "duration": 26,
    "start_time": "2024-12-12T09:43:13.226Z"
   },
   {
    "duration": 23,
    "start_time": "2024-12-12T09:43:13.253Z"
   },
   {
    "duration": 4,
    "start_time": "2024-12-12T09:43:13.278Z"
   },
   {
    "duration": 7,
    "start_time": "2024-12-12T09:43:13.284Z"
   },
   {
    "duration": 3,
    "start_time": "2024-12-12T09:43:13.292Z"
   },
   {
    "duration": 7,
    "start_time": "2024-12-12T09:43:13.297Z"
   },
   {
    "duration": 23,
    "start_time": "2024-12-12T09:43:13.321Z"
   },
   {
    "duration": 87,
    "start_time": "2024-12-12T09:43:13.345Z"
   },
   {
    "duration": 0,
    "start_time": "2024-12-12T09:43:13.434Z"
   },
   {
    "duration": 78,
    "start_time": "2024-12-12T09:45:14.666Z"
   },
   {
    "duration": 22,
    "start_time": "2024-12-12T09:45:28.556Z"
   },
   {
    "duration": 22,
    "start_time": "2024-12-12T09:45:30.248Z"
   },
   {
    "duration": 5,
    "start_time": "2024-12-12T09:47:21.626Z"
   },
   {
    "duration": 13,
    "start_time": "2024-12-12T09:47:26.076Z"
   },
   {
    "duration": 7,
    "start_time": "2024-12-12T09:47:36.438Z"
   },
   {
    "duration": 21,
    "start_time": "2024-12-12T09:47:37.249Z"
   },
   {
    "duration": 421,
    "start_time": "2024-12-12T09:48:58.806Z"
   },
   {
    "duration": 99,
    "start_time": "2024-12-12T09:48:59.229Z"
   },
   {
    "duration": 21,
    "start_time": "2024-12-12T09:48:59.330Z"
   },
   {
    "duration": 16,
    "start_time": "2024-12-12T09:48:59.352Z"
   },
   {
    "duration": 15,
    "start_time": "2024-12-12T09:48:59.370Z"
   },
   {
    "duration": 10,
    "start_time": "2024-12-12T09:48:59.387Z"
   },
   {
    "duration": 9,
    "start_time": "2024-12-12T09:48:59.398Z"
   },
   {
    "duration": 20,
    "start_time": "2024-12-12T09:48:59.408Z"
   },
   {
    "duration": 17,
    "start_time": "2024-12-12T09:48:59.430Z"
   },
   {
    "duration": 25,
    "start_time": "2024-12-12T09:48:59.449Z"
   },
   {
    "duration": 20,
    "start_time": "2024-12-12T09:48:59.476Z"
   },
   {
    "duration": 21,
    "start_time": "2024-12-12T09:51:04.096Z"
   },
   {
    "duration": 13,
    "start_time": "2024-12-12T09:52:48.276Z"
   },
   {
    "duration": 6,
    "start_time": "2024-12-12T09:54:15.608Z"
   },
   {
    "duration": 14,
    "start_time": "2024-12-12T09:54:16.977Z"
   },
   {
    "duration": 7,
    "start_time": "2024-12-12T09:56:28.316Z"
   },
   {
    "duration": 20,
    "start_time": "2024-12-12T09:56:29.536Z"
   },
   {
    "duration": 381,
    "start_time": "2024-12-12T09:56:54.656Z"
   },
   {
    "duration": 85,
    "start_time": "2024-12-12T09:56:55.040Z"
   },
   {
    "duration": 34,
    "start_time": "2024-12-12T09:56:55.127Z"
   },
   {
    "duration": 62,
    "start_time": "2024-12-12T09:56:55.162Z"
   },
   {
    "duration": 5,
    "start_time": "2024-12-12T09:56:55.226Z"
   },
   {
    "duration": 5,
    "start_time": "2024-12-12T09:56:55.232Z"
   },
   {
    "duration": 17,
    "start_time": "2024-12-12T09:56:55.238Z"
   },
   {
    "duration": 20,
    "start_time": "2024-12-12T09:56:55.257Z"
   },
   {
    "duration": 18,
    "start_time": "2024-12-12T09:56:55.278Z"
   },
   {
    "duration": 17,
    "start_time": "2024-12-12T09:56:55.298Z"
   },
   {
    "duration": 13,
    "start_time": "2024-12-12T09:56:55.317Z"
   },
   {
    "duration": 28,
    "start_time": "2024-12-12T09:56:55.331Z"
   },
   {
    "duration": 12,
    "start_time": "2024-12-12T09:56:55.360Z"
   },
   {
    "duration": 6,
    "start_time": "2024-12-12T09:59:42.305Z"
   },
   {
    "duration": 14,
    "start_time": "2024-12-12T09:59:51.877Z"
   },
   {
    "duration": 11,
    "start_time": "2024-12-12T10:02:17.211Z"
   },
   {
    "duration": 11,
    "start_time": "2024-12-12T10:04:18.238Z"
   },
   {
    "duration": 360,
    "start_time": "2024-12-12T10:06:18.678Z"
   },
   {
    "duration": 113,
    "start_time": "2024-12-12T10:06:19.040Z"
   },
   {
    "duration": 21,
    "start_time": "2024-12-12T10:06:19.155Z"
   },
   {
    "duration": 82,
    "start_time": "2024-12-12T10:06:19.178Z"
   },
   {
    "duration": 9,
    "start_time": "2024-12-12T10:06:19.262Z"
   },
   {
    "duration": 16,
    "start_time": "2024-12-12T10:06:19.273Z"
   },
   {
    "duration": 11,
    "start_time": "2024-12-12T10:06:19.290Z"
   },
   {
    "duration": 5,
    "start_time": "2024-12-12T10:06:19.303Z"
   },
   {
    "duration": 8,
    "start_time": "2024-12-12T10:06:19.309Z"
   },
   {
    "duration": 18,
    "start_time": "2024-12-12T10:06:19.318Z"
   },
   {
    "duration": 7,
    "start_time": "2024-12-12T10:06:19.337Z"
   },
   {
    "duration": 19,
    "start_time": "2024-12-12T10:06:19.346Z"
   },
   {
    "duration": 11,
    "start_time": "2024-12-12T10:06:19.366Z"
   },
   {
    "duration": 10,
    "start_time": "2024-12-12T10:06:19.379Z"
   },
   {
    "duration": 11,
    "start_time": "2024-12-12T10:19:41.948Z"
   },
   {
    "duration": 26,
    "start_time": "2024-12-12T10:46:50.537Z"
   },
   {
    "duration": 9,
    "start_time": "2024-12-12T10:46:53.272Z"
   },
   {
    "duration": 67,
    "start_time": "2024-12-12T10:47:29.134Z"
   },
   {
    "duration": 23,
    "start_time": "2024-12-12T10:47:43.122Z"
   },
   {
    "duration": 10,
    "start_time": "2024-12-12T10:47:48.423Z"
   },
   {
    "duration": 26,
    "start_time": "2024-12-12T10:51:37.813Z"
   },
   {
    "duration": 11,
    "start_time": "2024-12-12T10:51:40.244Z"
   },
   {
    "duration": 25,
    "start_time": "2024-12-12T10:54:53.562Z"
   },
   {
    "duration": 10,
    "start_time": "2024-12-12T10:54:56.723Z"
   },
   {
    "duration": 14,
    "start_time": "2024-12-12T11:05:36.523Z"
   },
   {
    "duration": 12,
    "start_time": "2024-12-12T11:05:40.504Z"
   },
   {
    "duration": 11,
    "start_time": "2024-12-12T11:05:41.305Z"
   },
   {
    "duration": 378,
    "start_time": "2024-12-12T11:07:49.485Z"
   },
   {
    "duration": 116,
    "start_time": "2024-12-12T11:07:49.865Z"
   },
   {
    "duration": 22,
    "start_time": "2024-12-12T11:07:49.982Z"
   },
   {
    "duration": 39,
    "start_time": "2024-12-12T11:07:50.005Z"
   },
   {
    "duration": 10,
    "start_time": "2024-12-12T11:07:50.045Z"
   },
   {
    "duration": 9,
    "start_time": "2024-12-12T11:07:50.057Z"
   },
   {
    "duration": 10,
    "start_time": "2024-12-12T11:07:50.067Z"
   },
   {
    "duration": 6,
    "start_time": "2024-12-12T11:07:50.078Z"
   },
   {
    "duration": 7,
    "start_time": "2024-12-12T11:07:50.085Z"
   },
   {
    "duration": 19,
    "start_time": "2024-12-12T11:07:50.094Z"
   },
   {
    "duration": 15,
    "start_time": "2024-12-12T11:07:50.114Z"
   },
   {
    "duration": 29,
    "start_time": "2024-12-12T11:07:50.131Z"
   },
   {
    "duration": 14,
    "start_time": "2024-12-12T11:07:50.162Z"
   },
   {
    "duration": 25,
    "start_time": "2024-12-12T11:07:50.178Z"
   },
   {
    "duration": 16,
    "start_time": "2024-12-12T11:07:50.205Z"
   },
   {
    "duration": 15,
    "start_time": "2024-12-12T11:07:50.223Z"
   },
   {
    "duration": 177,
    "start_time": "2024-12-12T11:18:28.492Z"
   },
   {
    "duration": 9,
    "start_time": "2024-12-12T11:18:35.074Z"
   },
   {
    "duration": 438,
    "start_time": "2024-12-12T11:20:04.304Z"
   },
   {
    "duration": 439,
    "start_time": "2024-12-12T11:20:04.744Z"
   },
   {
    "duration": 21,
    "start_time": "2024-12-12T11:20:05.185Z"
   },
   {
    "duration": 17,
    "start_time": "2024-12-12T11:20:05.208Z"
   },
   {
    "duration": 10,
    "start_time": "2024-12-12T11:20:05.228Z"
   },
   {
    "duration": 27,
    "start_time": "2024-12-12T11:20:05.239Z"
   },
   {
    "duration": 61,
    "start_time": "2024-12-12T11:20:05.268Z"
   },
   {
    "duration": 77,
    "start_time": "2024-12-12T11:20:05.332Z"
   },
   {
    "duration": 133,
    "start_time": "2024-12-12T11:20:05.411Z"
   },
   {
    "duration": 60,
    "start_time": "2024-12-12T11:20:05.545Z"
   },
   {
    "duration": 13,
    "start_time": "2024-12-12T11:20:05.607Z"
   },
   {
    "duration": 21,
    "start_time": "2024-12-12T11:20:05.622Z"
   },
   {
    "duration": 19,
    "start_time": "2024-12-12T11:20:05.645Z"
   },
   {
    "duration": 37,
    "start_time": "2024-12-12T11:20:05.666Z"
   },
   {
    "duration": 60,
    "start_time": "2024-12-12T11:20:05.704Z"
   },
   {
    "duration": 193,
    "start_time": "2024-12-12T11:20:05.766Z"
   },
   {
    "duration": 189,
    "start_time": "2024-12-12T11:20:05.961Z"
   },
   {
    "duration": 9,
    "start_time": "2024-12-12T11:20:06.151Z"
   },
   {
    "duration": 4,
    "start_time": "2024-12-12T11:24:35.444Z"
   },
   {
    "duration": 9,
    "start_time": "2024-12-12T11:24:37.104Z"
   },
   {
    "duration": 6,
    "start_time": "2024-12-12T11:32:08.752Z"
   },
   {
    "duration": 21,
    "start_time": "2024-12-12T11:32:10.236Z"
   },
   {
    "duration": 5,
    "start_time": "2024-12-12T11:33:23.680Z"
   },
   {
    "duration": 9,
    "start_time": "2024-12-12T11:33:24.294Z"
   },
   {
    "duration": 68,
    "start_time": "2024-12-12T11:35:51.295Z"
   },
   {
    "duration": 6,
    "start_time": "2024-12-12T11:38:32.054Z"
   },
   {
    "duration": 9,
    "start_time": "2024-12-12T11:38:34.253Z"
   },
   {
    "duration": 20,
    "start_time": "2024-12-12T11:38:50.985Z"
   },
   {
    "duration": 5,
    "start_time": "2024-12-12T11:40:02.182Z"
   },
   {
    "duration": 23,
    "start_time": "2024-12-12T11:40:06.202Z"
   },
   {
    "duration": 34,
    "start_time": "2024-12-12T11:40:35.504Z"
   },
   {
    "duration": 5,
    "start_time": "2024-12-12T11:40:42.825Z"
   },
   {
    "duration": 5,
    "start_time": "2024-12-12T11:40:43.992Z"
   },
   {
    "duration": 5,
    "start_time": "2024-12-12T11:40:45.086Z"
   },
   {
    "duration": 15,
    "start_time": "2024-12-12T11:40:45.662Z"
   },
   {
    "duration": 34,
    "start_time": "2024-12-12T11:41:05.266Z"
   },
   {
    "duration": 94,
    "start_time": "2024-12-12T11:43:18.263Z"
   },
   {
    "duration": 3,
    "start_time": "2024-12-12T11:43:24.766Z"
   },
   {
    "duration": 26,
    "start_time": "2024-12-12T11:43:38.111Z"
   },
   {
    "duration": 462,
    "start_time": "2024-12-12T11:43:57.939Z"
   },
   {
    "duration": 151,
    "start_time": "2024-12-12T11:43:58.404Z"
   },
   {
    "duration": 21,
    "start_time": "2024-12-12T11:43:58.557Z"
   },
   {
    "duration": 16,
    "start_time": "2024-12-12T11:43:58.580Z"
   },
   {
    "duration": 6,
    "start_time": "2024-12-12T11:43:58.597Z"
   },
   {
    "duration": 9,
    "start_time": "2024-12-12T11:43:58.623Z"
   },
   {
    "duration": 4,
    "start_time": "2024-12-12T11:43:58.634Z"
   },
   {
    "duration": 6,
    "start_time": "2024-12-12T11:43:58.640Z"
   },
   {
    "duration": 5,
    "start_time": "2024-12-12T11:43:58.648Z"
   },
   {
    "duration": 18,
    "start_time": "2024-12-12T11:43:58.655Z"
   },
   {
    "duration": 5,
    "start_time": "2024-12-12T11:43:58.675Z"
   },
   {
    "duration": 56,
    "start_time": "2024-12-12T11:43:58.682Z"
   },
   {
    "duration": 9,
    "start_time": "2024-12-12T11:43:58.740Z"
   },
   {
    "duration": 22,
    "start_time": "2024-12-12T11:43:58.750Z"
   },
   {
    "duration": 37,
    "start_time": "2024-12-12T11:43:58.774Z"
   },
   {
    "duration": 180,
    "start_time": "2024-12-12T11:43:58.813Z"
   },
   {
    "duration": 181,
    "start_time": "2024-12-12T11:43:58.995Z"
   },
   {
    "duration": 3,
    "start_time": "2024-12-12T11:43:59.178Z"
   },
   {
    "duration": 55,
    "start_time": "2024-12-12T11:43:59.182Z"
   },
   {
    "duration": 15,
    "start_time": "2024-12-12T11:43:59.239Z"
   },
   {
    "duration": 5,
    "start_time": "2024-12-12T11:43:59.256Z"
   },
   {
    "duration": 15,
    "start_time": "2024-12-12T11:43:59.262Z"
   },
   {
    "duration": 40,
    "start_time": "2024-12-12T11:43:59.278Z"
   },
   {
    "duration": 409,
    "start_time": "2024-12-12T12:43:23.315Z"
   },
   {
    "duration": 101,
    "start_time": "2024-12-12T12:43:23.726Z"
   },
   {
    "duration": 21,
    "start_time": "2024-12-12T12:43:23.829Z"
   },
   {
    "duration": 28,
    "start_time": "2024-12-12T12:43:23.852Z"
   },
   {
    "duration": 5,
    "start_time": "2024-12-12T12:43:23.881Z"
   },
   {
    "duration": 8,
    "start_time": "2024-12-12T12:43:23.887Z"
   },
   {
    "duration": 5,
    "start_time": "2024-12-12T12:43:23.897Z"
   },
   {
    "duration": 10,
    "start_time": "2024-12-12T12:43:23.903Z"
   },
   {
    "duration": 9,
    "start_time": "2024-12-12T12:43:23.915Z"
   },
   {
    "duration": 18,
    "start_time": "2024-12-12T12:43:23.927Z"
   },
   {
    "duration": 4,
    "start_time": "2024-12-12T12:43:23.947Z"
   },
   {
    "duration": 15,
    "start_time": "2024-12-12T12:43:23.953Z"
   },
   {
    "duration": 25,
    "start_time": "2024-12-12T12:43:23.970Z"
   },
   {
    "duration": 10,
    "start_time": "2024-12-12T12:43:23.996Z"
   },
   {
    "duration": 20,
    "start_time": "2024-12-12T12:43:24.007Z"
   },
   {
    "duration": 171,
    "start_time": "2024-12-12T12:43:24.029Z"
   },
   {
    "duration": 168,
    "start_time": "2024-12-12T12:43:24.201Z"
   },
   {
    "duration": 3,
    "start_time": "2024-12-12T12:43:24.371Z"
   },
   {
    "duration": 8,
    "start_time": "2024-12-12T12:43:24.375Z"
   },
   {
    "duration": 5,
    "start_time": "2024-12-12T12:43:24.384Z"
   },
   {
    "duration": 6,
    "start_time": "2024-12-12T12:43:24.390Z"
   },
   {
    "duration": 25,
    "start_time": "2024-12-12T12:43:24.397Z"
   },
   {
    "duration": 4,
    "start_time": "2024-12-12T12:43:24.424Z"
   },
   {
    "duration": 367,
    "start_time": "2024-12-12T12:43:27.067Z"
   },
   {
    "duration": 126,
    "start_time": "2024-12-12T12:43:27.436Z"
   },
   {
    "duration": 21,
    "start_time": "2024-12-12T12:43:27.563Z"
   },
   {
    "duration": 14,
    "start_time": "2024-12-12T12:43:27.586Z"
   },
   {
    "duration": 4,
    "start_time": "2024-12-12T12:43:27.602Z"
   },
   {
    "duration": 15,
    "start_time": "2024-12-12T12:43:27.607Z"
   },
   {
    "duration": 26,
    "start_time": "2024-12-12T12:43:27.624Z"
   },
   {
    "duration": 13,
    "start_time": "2024-12-12T12:43:27.651Z"
   },
   {
    "duration": 5,
    "start_time": "2024-12-12T12:43:27.665Z"
   },
   {
    "duration": 25,
    "start_time": "2024-12-12T12:43:27.672Z"
   },
   {
    "duration": 5,
    "start_time": "2024-12-12T12:43:27.698Z"
   },
   {
    "duration": 23,
    "start_time": "2024-12-12T12:43:27.704Z"
   },
   {
    "duration": 9,
    "start_time": "2024-12-12T12:43:27.729Z"
   },
   {
    "duration": 14,
    "start_time": "2024-12-12T12:43:27.740Z"
   },
   {
    "duration": 23,
    "start_time": "2024-12-12T12:43:27.755Z"
   },
   {
    "duration": 168,
    "start_time": "2024-12-12T12:43:27.780Z"
   },
   {
    "duration": 174,
    "start_time": "2024-12-12T12:43:27.950Z"
   },
   {
    "duration": 3,
    "start_time": "2024-12-12T12:43:28.126Z"
   },
   {
    "duration": 7,
    "start_time": "2024-12-12T12:43:28.130Z"
   },
   {
    "duration": 9,
    "start_time": "2024-12-12T12:43:28.138Z"
   },
   {
    "duration": 6,
    "start_time": "2024-12-12T12:43:28.148Z"
   },
   {
    "duration": 23,
    "start_time": "2024-12-12T12:43:28.155Z"
   },
   {
    "duration": 11,
    "start_time": "2024-12-12T12:43:28.179Z"
   },
   {
    "duration": 4,
    "start_time": "2024-12-12T12:48:14.154Z"
   },
   {
    "duration": 4,
    "start_time": "2024-12-12T12:48:33.275Z"
   },
   {
    "duration": 4,
    "start_time": "2024-12-12T12:49:09.886Z"
   },
   {
    "duration": 86,
    "start_time": "2024-12-12T12:49:45.531Z"
   },
   {
    "duration": 66,
    "start_time": "2024-12-12T12:49:50.324Z"
   },
   {
    "duration": 1370,
    "start_time": "2024-12-12T12:49:57.713Z"
   },
   {
    "duration": 5,
    "start_time": "2024-12-12T12:50:17.785Z"
   },
   {
    "duration": 5,
    "start_time": "2024-12-12T12:50:32.185Z"
   },
   {
    "duration": 6,
    "start_time": "2024-12-12T12:59:47.803Z"
   },
   {
    "duration": 9,
    "start_time": "2024-12-12T13:01:37.083Z"
   },
   {
    "duration": 15,
    "start_time": "2024-12-12T13:01:47.605Z"
   },
   {
    "duration": 12,
    "start_time": "2024-12-12T13:02:09.294Z"
   },
   {
    "duration": 8,
    "start_time": "2024-12-12T13:03:51.642Z"
   },
   {
    "duration": 391,
    "start_time": "2024-12-12T13:05:09.138Z"
   },
   {
    "duration": 136,
    "start_time": "2024-12-12T13:05:09.531Z"
   },
   {
    "duration": 22,
    "start_time": "2024-12-12T13:05:09.668Z"
   },
   {
    "duration": 31,
    "start_time": "2024-12-12T13:05:09.691Z"
   },
   {
    "duration": 21,
    "start_time": "2024-12-12T13:05:09.725Z"
   },
   {
    "duration": 14,
    "start_time": "2024-12-12T13:05:09.747Z"
   },
   {
    "duration": 8,
    "start_time": "2024-12-12T13:05:09.762Z"
   },
   {
    "duration": 57,
    "start_time": "2024-12-12T13:05:09.772Z"
   },
   {
    "duration": 15,
    "start_time": "2024-12-12T13:05:09.831Z"
   },
   {
    "duration": 37,
    "start_time": "2024-12-12T13:05:09.848Z"
   },
   {
    "duration": 12,
    "start_time": "2024-12-12T13:05:09.886Z"
   },
   {
    "duration": 63,
    "start_time": "2024-12-12T13:05:09.899Z"
   },
   {
    "duration": 9,
    "start_time": "2024-12-12T13:05:09.964Z"
   },
   {
    "duration": 32,
    "start_time": "2024-12-12T13:05:09.975Z"
   },
   {
    "duration": 34,
    "start_time": "2024-12-12T13:05:10.010Z"
   },
   {
    "duration": 184,
    "start_time": "2024-12-12T13:05:10.046Z"
   },
   {
    "duration": 172,
    "start_time": "2024-12-12T13:05:10.231Z"
   },
   {
    "duration": 4,
    "start_time": "2024-12-12T13:05:10.405Z"
   },
   {
    "duration": 30,
    "start_time": "2024-12-12T13:05:10.410Z"
   },
   {
    "duration": 15,
    "start_time": "2024-12-12T13:05:10.441Z"
   },
   {
    "duration": 6,
    "start_time": "2024-12-12T13:05:10.458Z"
   },
   {
    "duration": 9,
    "start_time": "2024-12-12T13:05:10.466Z"
   },
   {
    "duration": 26,
    "start_time": "2024-12-12T13:05:10.477Z"
   },
   {
    "duration": 21,
    "start_time": "2024-12-12T13:05:10.504Z"
   },
   {
    "duration": 41,
    "start_time": "2024-12-12T13:05:10.526Z"
   },
   {
    "duration": 13,
    "start_time": "2024-12-12T13:05:10.569Z"
   },
   {
    "duration": 39,
    "start_time": "2024-12-12T13:05:10.583Z"
   },
   {
    "duration": 23,
    "start_time": "2024-12-12T13:05:10.623Z"
   },
   {
    "duration": 55,
    "start_time": "2024-12-12T13:05:10.647Z"
   },
   {
    "duration": 59,
    "start_time": "2024-12-12T13:05:10.704Z"
   },
   {
    "duration": 57,
    "start_time": "2024-12-12T13:05:10.764Z"
   },
   {
    "duration": 18,
    "start_time": "2024-12-12T13:05:10.822Z"
   },
   {
    "duration": 11,
    "start_time": "2024-12-12T13:06:09.544Z"
   },
   {
    "duration": 9,
    "start_time": "2024-12-12T13:06:10.633Z"
   },
   {
    "duration": 9,
    "start_time": "2024-12-12T13:06:11.203Z"
   },
   {
    "duration": 11,
    "start_time": "2024-12-12T13:12:42.974Z"
   },
   {
    "duration": 11,
    "start_time": "2024-12-12T13:13:09.364Z"
   },
   {
    "duration": 12,
    "start_time": "2024-12-12T13:13:27.554Z"
   },
   {
    "duration": 8,
    "start_time": "2024-12-12T13:13:43.592Z"
   },
   {
    "duration": 394,
    "start_time": "2024-12-12T13:14:33.886Z"
   },
   {
    "duration": 82,
    "start_time": "2024-12-12T13:14:34.282Z"
   },
   {
    "duration": 22,
    "start_time": "2024-12-12T13:14:34.365Z"
   },
   {
    "duration": 34,
    "start_time": "2024-12-12T13:14:34.389Z"
   },
   {
    "duration": 3,
    "start_time": "2024-12-12T13:14:34.426Z"
   },
   {
    "duration": 4,
    "start_time": "2024-12-12T13:14:34.431Z"
   },
   {
    "duration": 16,
    "start_time": "2024-12-12T13:14:34.437Z"
   },
   {
    "duration": 10,
    "start_time": "2024-12-12T13:14:34.454Z"
   },
   {
    "duration": 28,
    "start_time": "2024-12-12T13:14:34.465Z"
   },
   {
    "duration": 31,
    "start_time": "2024-12-12T13:14:34.495Z"
   },
   {
    "duration": 7,
    "start_time": "2024-12-12T13:14:34.528Z"
   },
   {
    "duration": 48,
    "start_time": "2024-12-12T13:14:34.537Z"
   },
   {
    "duration": 11,
    "start_time": "2024-12-12T13:14:34.586Z"
   },
   {
    "duration": 16,
    "start_time": "2024-12-12T13:14:34.600Z"
   },
   {
    "duration": 11,
    "start_time": "2024-12-12T13:14:34.617Z"
   },
   {
    "duration": 191,
    "start_time": "2024-12-12T13:14:34.629Z"
   },
   {
    "duration": 177,
    "start_time": "2024-12-12T13:14:34.822Z"
   },
   {
    "duration": 4,
    "start_time": "2024-12-12T13:14:35.001Z"
   },
   {
    "duration": 15,
    "start_time": "2024-12-12T13:14:35.006Z"
   },
   {
    "duration": 5,
    "start_time": "2024-12-12T13:14:35.022Z"
   },
   {
    "duration": 22,
    "start_time": "2024-12-12T13:14:35.028Z"
   },
   {
    "duration": 11,
    "start_time": "2024-12-12T13:14:35.051Z"
   },
   {
    "duration": 29,
    "start_time": "2024-12-12T13:14:35.063Z"
   },
   {
    "duration": 30,
    "start_time": "2024-12-12T13:14:35.094Z"
   },
   {
    "duration": 32,
    "start_time": "2024-12-12T13:14:35.125Z"
   },
   {
    "duration": 25,
    "start_time": "2024-12-12T13:14:35.159Z"
   },
   {
    "duration": 31,
    "start_time": "2024-12-12T13:14:35.185Z"
   },
   {
    "duration": 6,
    "start_time": "2024-12-12T13:14:35.217Z"
   },
   {
    "duration": 15,
    "start_time": "2024-12-12T13:14:35.224Z"
   },
   {
    "duration": 19,
    "start_time": "2024-12-12T13:14:35.240Z"
   },
   {
    "duration": 9,
    "start_time": "2024-12-12T13:14:35.260Z"
   },
   {
    "duration": 27,
    "start_time": "2024-12-12T13:14:35.271Z"
   },
   {
    "duration": 13,
    "start_time": "2024-12-12T13:20:45.312Z"
   },
   {
    "duration": 11,
    "start_time": "2024-12-12T13:21:22.002Z"
   },
   {
    "duration": 91,
    "start_time": "2024-12-12T13:23:02.653Z"
   },
   {
    "duration": 7,
    "start_time": "2024-12-12T13:23:10.152Z"
   },
   {
    "duration": 8,
    "start_time": "2024-12-12T13:23:27.683Z"
   },
   {
    "duration": 7,
    "start_time": "2024-12-12T13:30:22.524Z"
   },
   {
    "duration": 13,
    "start_time": "2024-12-12T13:37:14.363Z"
   },
   {
    "duration": 14,
    "start_time": "2024-12-12T13:37:24.503Z"
   },
   {
    "duration": 14,
    "start_time": "2024-12-12T13:37:39.161Z"
   },
   {
    "duration": 14,
    "start_time": "2024-12-12T13:43:35.212Z"
   },
   {
    "duration": 3,
    "start_time": "2024-12-12T13:43:36.261Z"
   },
   {
    "duration": 66,
    "start_time": "2024-12-12T13:43:36.973Z"
   },
   {
    "duration": 2,
    "start_time": "2024-12-12T13:43:37.502Z"
   },
   {
    "duration": 14,
    "start_time": "2024-12-12T13:43:53.024Z"
   },
   {
    "duration": 3,
    "start_time": "2024-12-12T13:43:53.533Z"
   },
   {
    "duration": 7,
    "start_time": "2024-12-12T13:43:53.964Z"
   },
   {
    "duration": 21,
    "start_time": "2024-12-12T13:44:59.571Z"
   },
   {
    "duration": 30,
    "start_time": "2024-12-12T13:45:07.663Z"
   },
   {
    "duration": 3,
    "start_time": "2024-12-12T13:45:13.340Z"
   },
   {
    "duration": 4,
    "start_time": "2024-12-12T13:49:34.272Z"
   },
   {
    "duration": 396,
    "start_time": "2024-12-12T13:50:15.433Z"
   },
   {
    "duration": 121,
    "start_time": "2024-12-12T13:50:15.831Z"
   },
   {
    "duration": 22,
    "start_time": "2024-12-12T13:50:15.954Z"
   },
   {
    "duration": 16,
    "start_time": "2024-12-12T13:50:15.978Z"
   },
   {
    "duration": 74,
    "start_time": "2024-12-12T13:50:15.997Z"
   },
   {
    "duration": 7,
    "start_time": "2024-12-12T13:50:16.072Z"
   },
   {
    "duration": 6,
    "start_time": "2024-12-12T13:50:16.080Z"
   },
   {
    "duration": 4,
    "start_time": "2024-12-12T13:50:16.088Z"
   },
   {
    "duration": 11,
    "start_time": "2024-12-12T13:50:16.094Z"
   },
   {
    "duration": 33,
    "start_time": "2024-12-12T13:50:16.106Z"
   },
   {
    "duration": 6,
    "start_time": "2024-12-12T13:50:16.141Z"
   },
   {
    "duration": 29,
    "start_time": "2024-12-12T13:50:16.149Z"
   },
   {
    "duration": 10,
    "start_time": "2024-12-12T13:50:16.179Z"
   },
   {
    "duration": 18,
    "start_time": "2024-12-12T13:50:16.191Z"
   },
   {
    "duration": 12,
    "start_time": "2024-12-12T13:50:16.221Z"
   },
   {
    "duration": 173,
    "start_time": "2024-12-12T13:50:16.235Z"
   },
   {
    "duration": 173,
    "start_time": "2024-12-12T13:50:16.409Z"
   },
   {
    "duration": 4,
    "start_time": "2024-12-12T13:50:16.583Z"
   },
   {
    "duration": 28,
    "start_time": "2024-12-12T13:50:16.588Z"
   },
   {
    "duration": 29,
    "start_time": "2024-12-12T13:50:16.618Z"
   },
   {
    "duration": 15,
    "start_time": "2024-12-12T13:50:16.649Z"
   },
   {
    "duration": 27,
    "start_time": "2024-12-12T13:50:16.666Z"
   },
   {
    "duration": 27,
    "start_time": "2024-12-12T13:50:16.694Z"
   },
   {
    "duration": 30,
    "start_time": "2024-12-12T13:50:16.723Z"
   },
   {
    "duration": 16,
    "start_time": "2024-12-12T13:50:16.755Z"
   },
   {
    "duration": 20,
    "start_time": "2024-12-12T13:50:16.773Z"
   },
   {
    "duration": 21,
    "start_time": "2024-12-12T13:50:16.794Z"
   },
   {
    "duration": 25,
    "start_time": "2024-12-12T13:50:16.817Z"
   },
   {
    "duration": 22,
    "start_time": "2024-12-12T13:50:16.844Z"
   },
   {
    "duration": 30,
    "start_time": "2024-12-12T13:50:16.868Z"
   },
   {
    "duration": 23,
    "start_time": "2024-12-12T13:50:16.899Z"
   },
   {
    "duration": 36,
    "start_time": "2024-12-12T13:50:16.924Z"
   },
   {
    "duration": 50,
    "start_time": "2024-12-12T13:50:16.961Z"
   },
   {
    "duration": 15,
    "start_time": "2024-12-12T13:50:17.013Z"
   },
   {
    "duration": 77,
    "start_time": "2024-12-12T13:50:17.030Z"
   },
   {
    "duration": 13,
    "start_time": "2024-12-12T13:50:17.108Z"
   },
   {
    "duration": 4,
    "start_time": "2024-12-12T13:50:30.305Z"
   },
   {
    "duration": 391,
    "start_time": "2024-12-12T13:50:35.755Z"
   },
   {
    "duration": 88,
    "start_time": "2024-12-12T13:50:36.149Z"
   },
   {
    "duration": 21,
    "start_time": "2024-12-12T13:50:36.238Z"
   },
   {
    "duration": 16,
    "start_time": "2024-12-12T13:50:36.260Z"
   },
   {
    "duration": 23,
    "start_time": "2024-12-12T13:50:36.278Z"
   },
   {
    "duration": 35,
    "start_time": "2024-12-12T13:50:36.302Z"
   },
   {
    "duration": 12,
    "start_time": "2024-12-12T13:50:36.339Z"
   },
   {
    "duration": 50,
    "start_time": "2024-12-12T13:50:36.353Z"
   },
   {
    "duration": 42,
    "start_time": "2024-12-12T13:50:36.405Z"
   },
   {
    "duration": 43,
    "start_time": "2024-12-12T13:50:36.448Z"
   },
   {
    "duration": 19,
    "start_time": "2024-12-12T13:50:36.492Z"
   },
   {
    "duration": 59,
    "start_time": "2024-12-12T13:50:36.512Z"
   },
   {
    "duration": 50,
    "start_time": "2024-12-12T13:50:36.573Z"
   },
   {
    "duration": 43,
    "start_time": "2024-12-12T13:50:36.630Z"
   },
   {
    "duration": 41,
    "start_time": "2024-12-12T13:50:36.675Z"
   },
   {
    "duration": 208,
    "start_time": "2024-12-12T13:50:36.717Z"
   },
   {
    "duration": 187,
    "start_time": "2024-12-12T13:50:36.927Z"
   },
   {
    "duration": 4,
    "start_time": "2024-12-12T13:50:37.115Z"
   },
   {
    "duration": 22,
    "start_time": "2024-12-12T13:50:37.120Z"
   },
   {
    "duration": 8,
    "start_time": "2024-12-12T13:50:37.143Z"
   },
   {
    "duration": 15,
    "start_time": "2024-12-12T13:50:37.152Z"
   },
   {
    "duration": 37,
    "start_time": "2024-12-12T13:50:37.168Z"
   },
   {
    "duration": 29,
    "start_time": "2024-12-12T13:50:37.206Z"
   },
   {
    "duration": 18,
    "start_time": "2024-12-12T13:50:37.236Z"
   },
   {
    "duration": 38,
    "start_time": "2024-12-12T13:50:37.256Z"
   },
   {
    "duration": 20,
    "start_time": "2024-12-12T13:50:37.295Z"
   },
   {
    "duration": 21,
    "start_time": "2024-12-12T13:50:37.316Z"
   },
   {
    "duration": 4,
    "start_time": "2024-12-12T13:50:37.339Z"
   },
   {
    "duration": 28,
    "start_time": "2024-12-12T13:50:37.344Z"
   },
   {
    "duration": 25,
    "start_time": "2024-12-12T13:50:37.374Z"
   },
   {
    "duration": 42,
    "start_time": "2024-12-12T13:50:37.401Z"
   },
   {
    "duration": 27,
    "start_time": "2024-12-12T13:50:37.445Z"
   },
   {
    "duration": 27,
    "start_time": "2024-12-12T13:50:37.473Z"
   },
   {
    "duration": 9,
    "start_time": "2024-12-12T13:50:37.502Z"
   },
   {
    "duration": 46,
    "start_time": "2024-12-12T13:50:37.512Z"
   },
   {
    "duration": 4,
    "start_time": "2024-12-12T13:50:37.559Z"
   },
   {
    "duration": 389,
    "start_time": "2024-12-12T14:01:30.364Z"
   },
   {
    "duration": 153,
    "start_time": "2024-12-12T14:01:30.754Z"
   },
   {
    "duration": 32,
    "start_time": "2024-12-12T14:01:30.908Z"
   },
   {
    "duration": 15,
    "start_time": "2024-12-12T14:01:30.941Z"
   },
   {
    "duration": 6,
    "start_time": "2024-12-12T14:01:30.958Z"
   },
   {
    "duration": 10,
    "start_time": "2024-12-12T14:01:30.965Z"
   },
   {
    "duration": 23,
    "start_time": "2024-12-12T14:01:30.977Z"
   },
   {
    "duration": 53,
    "start_time": "2024-12-12T14:01:31.002Z"
   },
   {
    "duration": 21,
    "start_time": "2024-12-12T14:01:31.057Z"
   },
   {
    "duration": 66,
    "start_time": "2024-12-12T14:01:31.079Z"
   },
   {
    "duration": 14,
    "start_time": "2024-12-12T14:01:31.146Z"
   },
   {
    "duration": 32,
    "start_time": "2024-12-12T14:01:31.162Z"
   },
   {
    "duration": 17,
    "start_time": "2024-12-12T14:01:31.196Z"
   },
   {
    "duration": 23,
    "start_time": "2024-12-12T14:01:31.216Z"
   },
   {
    "duration": 60,
    "start_time": "2024-12-12T14:01:31.240Z"
   },
   {
    "duration": 206,
    "start_time": "2024-12-12T14:01:31.302Z"
   },
   {
    "duration": 183,
    "start_time": "2024-12-12T14:01:31.510Z"
   },
   {
    "duration": 3,
    "start_time": "2024-12-12T14:01:31.694Z"
   },
   {
    "duration": 72,
    "start_time": "2024-12-12T14:01:31.699Z"
   },
   {
    "duration": 60,
    "start_time": "2024-12-12T14:01:31.773Z"
   },
   {
    "duration": 12,
    "start_time": "2024-12-12T14:01:31.836Z"
   },
   {
    "duration": 42,
    "start_time": "2024-12-12T14:01:31.849Z"
   },
   {
    "duration": 3,
    "start_time": "2024-12-12T14:01:31.893Z"
   },
   {
    "duration": 9,
    "start_time": "2024-12-12T14:01:31.898Z"
   },
   {
    "duration": 27,
    "start_time": "2024-12-12T14:01:31.908Z"
   },
   {
    "duration": 21,
    "start_time": "2024-12-12T14:01:31.936Z"
   },
   {
    "duration": 10,
    "start_time": "2024-12-12T14:01:31.958Z"
   },
   {
    "duration": 14,
    "start_time": "2024-12-12T14:01:31.969Z"
   },
   {
    "duration": 40,
    "start_time": "2024-12-12T14:01:31.985Z"
   },
   {
    "duration": 10,
    "start_time": "2024-12-12T14:01:32.034Z"
   },
   {
    "duration": 26,
    "start_time": "2024-12-12T14:01:32.046Z"
   },
   {
    "duration": 173,
    "start_time": "2024-12-12T14:01:32.074Z"
   },
   {
    "duration": 24,
    "start_time": "2024-12-12T14:01:32.249Z"
   },
   {
    "duration": 19,
    "start_time": "2024-12-12T14:01:32.274Z"
   },
   {
    "duration": 42,
    "start_time": "2024-12-12T14:01:32.295Z"
   },
   {
    "duration": 4,
    "start_time": "2024-12-12T14:01:32.338Z"
   },
   {
    "duration": 391,
    "start_time": "2024-12-12T14:06:39.966Z"
   },
   {
    "duration": 107,
    "start_time": "2024-12-12T14:06:40.359Z"
   },
   {
    "duration": 20,
    "start_time": "2024-12-12T14:06:40.467Z"
   },
   {
    "duration": 56,
    "start_time": "2024-12-12T14:06:40.489Z"
   },
   {
    "duration": 4,
    "start_time": "2024-12-12T14:06:40.547Z"
   },
   {
    "duration": 22,
    "start_time": "2024-12-12T14:06:40.552Z"
   },
   {
    "duration": 4,
    "start_time": "2024-12-12T14:06:40.576Z"
   },
   {
    "duration": 4,
    "start_time": "2024-12-12T14:06:40.582Z"
   },
   {
    "duration": 28,
    "start_time": "2024-12-12T14:06:40.587Z"
   },
   {
    "duration": 10,
    "start_time": "2024-12-12T14:06:40.617Z"
   },
   {
    "duration": 28,
    "start_time": "2024-12-12T14:06:40.628Z"
   },
   {
    "duration": 4,
    "start_time": "2024-12-12T14:06:40.658Z"
   },
   {
    "duration": 15,
    "start_time": "2024-12-12T14:06:40.663Z"
   },
   {
    "duration": 8,
    "start_time": "2024-12-12T14:06:40.681Z"
   },
   {
    "duration": 36,
    "start_time": "2024-12-12T14:06:40.691Z"
   },
   {
    "duration": 7,
    "start_time": "2024-12-12T14:06:40.729Z"
   },
   {
    "duration": 184,
    "start_time": "2024-12-12T14:06:40.737Z"
   },
   {
    "duration": 168,
    "start_time": "2024-12-12T14:06:40.923Z"
   },
   {
    "duration": 3,
    "start_time": "2024-12-12T14:06:41.093Z"
   },
   {
    "duration": 22,
    "start_time": "2024-12-12T14:06:41.097Z"
   },
   {
    "duration": 9,
    "start_time": "2024-12-12T14:06:41.120Z"
   },
   {
    "duration": 5,
    "start_time": "2024-12-12T14:06:41.131Z"
   },
   {
    "duration": 13,
    "start_time": "2024-12-12T14:06:41.137Z"
   },
   {
    "duration": 6,
    "start_time": "2024-12-12T14:06:41.151Z"
   },
   {
    "duration": 6,
    "start_time": "2024-12-12T14:06:41.158Z"
   },
   {
    "duration": 37,
    "start_time": "2024-12-12T14:06:41.166Z"
   },
   {
    "duration": 17,
    "start_time": "2024-12-12T14:06:41.205Z"
   },
   {
    "duration": 13,
    "start_time": "2024-12-12T14:06:41.224Z"
   },
   {
    "duration": 4,
    "start_time": "2024-12-12T14:06:41.238Z"
   },
   {
    "duration": 22,
    "start_time": "2024-12-12T14:06:41.243Z"
   },
   {
    "duration": 53,
    "start_time": "2024-12-12T14:06:41.266Z"
   },
   {
    "duration": 11,
    "start_time": "2024-12-12T14:06:41.321Z"
   },
   {
    "duration": 31,
    "start_time": "2024-12-12T14:06:41.333Z"
   },
   {
    "duration": 31,
    "start_time": "2024-12-12T14:06:41.365Z"
   },
   {
    "duration": 15,
    "start_time": "2024-12-12T14:06:41.397Z"
   },
   {
    "duration": 24,
    "start_time": "2024-12-12T14:06:41.413Z"
   },
   {
    "duration": 6,
    "start_time": "2024-12-12T14:06:41.438Z"
   },
   {
    "duration": 394,
    "start_time": "2024-12-12T14:09:03.833Z"
   },
   {
    "duration": 98,
    "start_time": "2024-12-12T14:09:04.229Z"
   },
   {
    "duration": 24,
    "start_time": "2024-12-12T14:09:04.329Z"
   },
   {
    "duration": 19,
    "start_time": "2024-12-12T14:09:04.354Z"
   },
   {
    "duration": 21,
    "start_time": "2024-12-12T14:09:04.375Z"
   },
   {
    "duration": 20,
    "start_time": "2024-12-12T14:09:04.398Z"
   },
   {
    "duration": 19,
    "start_time": "2024-12-12T14:09:04.424Z"
   },
   {
    "duration": 13,
    "start_time": "2024-12-12T14:09:04.445Z"
   },
   {
    "duration": 28,
    "start_time": "2024-12-12T14:09:04.460Z"
   },
   {
    "duration": 33,
    "start_time": "2024-12-12T14:09:04.490Z"
   },
   {
    "duration": 32,
    "start_time": "2024-12-12T14:09:04.525Z"
   },
   {
    "duration": 16,
    "start_time": "2024-12-12T14:09:04.559Z"
   },
   {
    "duration": 51,
    "start_time": "2024-12-12T14:09:04.577Z"
   },
   {
    "duration": 26,
    "start_time": "2024-12-12T14:09:04.631Z"
   },
   {
    "duration": 39,
    "start_time": "2024-12-12T14:09:04.659Z"
   },
   {
    "duration": 11,
    "start_time": "2024-12-12T14:09:04.700Z"
   },
   {
    "duration": 171,
    "start_time": "2024-12-12T14:09:04.713Z"
   },
   {
    "duration": 178,
    "start_time": "2024-12-12T14:09:04.885Z"
   },
   {
    "duration": 4,
    "start_time": "2024-12-12T14:09:05.065Z"
   },
   {
    "duration": 18,
    "start_time": "2024-12-12T14:09:05.070Z"
   },
   {
    "duration": 13,
    "start_time": "2024-12-12T14:09:05.090Z"
   },
   {
    "duration": 14,
    "start_time": "2024-12-12T14:09:05.104Z"
   },
   {
    "duration": 12,
    "start_time": "2024-12-12T14:09:05.119Z"
   },
   {
    "duration": 4,
    "start_time": "2024-12-12T14:09:05.132Z"
   },
   {
    "duration": 16,
    "start_time": "2024-12-12T14:09:05.138Z"
   },
   {
    "duration": 24,
    "start_time": "2024-12-12T14:09:05.155Z"
   },
   {
    "duration": 8,
    "start_time": "2024-12-12T14:09:05.181Z"
   },
   {
    "duration": 35,
    "start_time": "2024-12-12T14:09:05.191Z"
   },
   {
    "duration": 7,
    "start_time": "2024-12-12T14:09:05.228Z"
   },
   {
    "duration": 28,
    "start_time": "2024-12-12T14:09:05.237Z"
   },
   {
    "duration": 30,
    "start_time": "2024-12-12T14:09:05.267Z"
   },
   {
    "duration": 23,
    "start_time": "2024-12-12T14:09:05.298Z"
   },
   {
    "duration": 15,
    "start_time": "2024-12-12T14:09:05.322Z"
   },
   {
    "duration": 34,
    "start_time": "2024-12-12T14:09:05.339Z"
   },
   {
    "duration": 10,
    "start_time": "2024-12-12T14:09:05.375Z"
   },
   {
    "duration": 34,
    "start_time": "2024-12-12T14:09:05.386Z"
   },
   {
    "duration": 4,
    "start_time": "2024-12-12T14:09:05.422Z"
   },
   {
    "duration": 20,
    "start_time": "2024-12-12T14:09:05.428Z"
   },
   {
    "duration": 13,
    "start_time": "2024-12-12T14:09:05.450Z"
   },
   {
    "duration": 3,
    "start_time": "2024-12-12T14:09:29.682Z"
   },
   {
    "duration": 3,
    "start_time": "2024-12-12T14:09:48.827Z"
   },
   {
    "duration": 5,
    "start_time": "2024-12-12T14:10:11.946Z"
   },
   {
    "duration": 422,
    "start_time": "2024-12-12T14:11:53.405Z"
   },
   {
    "duration": 105,
    "start_time": "2024-12-12T14:11:53.829Z"
   },
   {
    "duration": 21,
    "start_time": "2024-12-12T14:11:53.938Z"
   },
   {
    "duration": 22,
    "start_time": "2024-12-12T14:11:53.960Z"
   },
   {
    "duration": 22,
    "start_time": "2024-12-12T14:11:53.984Z"
   },
   {
    "duration": 9,
    "start_time": "2024-12-12T14:11:54.008Z"
   },
   {
    "duration": 12,
    "start_time": "2024-12-12T14:11:54.018Z"
   },
   {
    "duration": 17,
    "start_time": "2024-12-12T14:11:54.032Z"
   },
   {
    "duration": 5,
    "start_time": "2024-12-12T14:11:54.051Z"
   },
   {
    "duration": 10,
    "start_time": "2024-12-12T14:11:54.057Z"
   },
   {
    "duration": 29,
    "start_time": "2024-12-12T14:11:54.069Z"
   },
   {
    "duration": 73,
    "start_time": "2024-12-12T14:11:54.100Z"
   },
   {
    "duration": 27,
    "start_time": "2024-12-12T14:11:54.174Z"
   },
   {
    "duration": 43,
    "start_time": "2024-12-12T14:11:54.202Z"
   },
   {
    "duration": 27,
    "start_time": "2024-12-12T14:11:54.246Z"
   },
   {
    "duration": 12,
    "start_time": "2024-12-12T14:11:54.275Z"
   },
   {
    "duration": 169,
    "start_time": "2024-12-12T14:11:54.288Z"
   },
   {
    "duration": 167,
    "start_time": "2024-12-12T14:11:54.459Z"
   },
   {
    "duration": 4,
    "start_time": "2024-12-12T14:11:54.627Z"
   },
   {
    "duration": 7,
    "start_time": "2024-12-12T14:11:54.632Z"
   },
   {
    "duration": 9,
    "start_time": "2024-12-12T14:11:54.641Z"
   },
   {
    "duration": 4,
    "start_time": "2024-12-12T14:11:54.652Z"
   },
   {
    "duration": 8,
    "start_time": "2024-12-12T14:11:54.657Z"
   },
   {
    "duration": 3,
    "start_time": "2024-12-12T14:11:54.666Z"
   },
   {
    "duration": 6,
    "start_time": "2024-12-12T14:11:54.670Z"
   },
   {
    "duration": 4,
    "start_time": "2024-12-12T14:11:54.678Z"
   },
   {
    "duration": 4,
    "start_time": "2024-12-12T14:11:54.721Z"
   },
   {
    "duration": 11,
    "start_time": "2024-12-12T14:11:54.727Z"
   },
   {
    "duration": 3,
    "start_time": "2024-12-12T14:11:54.740Z"
   },
   {
    "duration": 12,
    "start_time": "2024-12-12T14:11:54.745Z"
   },
   {
    "duration": 11,
    "start_time": "2024-12-12T14:11:54.758Z"
   },
   {
    "duration": 10,
    "start_time": "2024-12-12T14:11:54.771Z"
   },
   {
    "duration": 41,
    "start_time": "2024-12-12T14:11:54.783Z"
   },
   {
    "duration": 23,
    "start_time": "2024-12-12T14:11:54.825Z"
   },
   {
    "duration": 4,
    "start_time": "2024-12-12T14:11:54.849Z"
   },
   {
    "duration": 21,
    "start_time": "2024-12-12T14:11:54.854Z"
   },
   {
    "duration": 4,
    "start_time": "2024-12-12T14:11:54.877Z"
   },
   {
    "duration": 4,
    "start_time": "2024-12-12T14:11:54.883Z"
   },
   {
    "duration": 17,
    "start_time": "2024-12-12T14:11:54.888Z"
   },
   {
    "duration": 48,
    "start_time": "2024-12-12T16:14:52.993Z"
   },
   {
    "duration": 389,
    "start_time": "2024-12-12T16:15:21.205Z"
   },
   {
    "duration": 111,
    "start_time": "2024-12-12T16:15:21.596Z"
   },
   {
    "duration": 23,
    "start_time": "2024-12-12T16:15:21.709Z"
   },
   {
    "duration": 16,
    "start_time": "2024-12-12T16:15:21.734Z"
   },
   {
    "duration": 19,
    "start_time": "2024-12-12T16:15:21.752Z"
   },
   {
    "duration": 23,
    "start_time": "2024-12-12T16:15:21.773Z"
   },
   {
    "duration": 9,
    "start_time": "2024-12-12T16:15:21.798Z"
   },
   {
    "duration": 16,
    "start_time": "2024-12-12T16:15:21.809Z"
   },
   {
    "duration": 13,
    "start_time": "2024-12-12T16:15:21.827Z"
   },
   {
    "duration": 6,
    "start_time": "2024-12-12T16:15:21.842Z"
   },
   {
    "duration": 22,
    "start_time": "2024-12-12T16:15:21.849Z"
   },
   {
    "duration": 5,
    "start_time": "2024-12-12T16:15:21.872Z"
   },
   {
    "duration": 20,
    "start_time": "2024-12-12T16:15:21.878Z"
   },
   {
    "duration": 9,
    "start_time": "2024-12-12T16:15:21.901Z"
   },
   {
    "duration": 11,
    "start_time": "2024-12-12T16:15:21.911Z"
   },
   {
    "duration": 8,
    "start_time": "2024-12-12T16:15:21.924Z"
   },
   {
    "duration": 202,
    "start_time": "2024-12-12T16:15:21.934Z"
   },
   {
    "duration": 179,
    "start_time": "2024-12-12T16:15:22.137Z"
   },
   {
    "duration": 4,
    "start_time": "2024-12-12T16:15:22.318Z"
   },
   {
    "duration": 9,
    "start_time": "2024-12-12T16:15:22.323Z"
   },
   {
    "duration": 4,
    "start_time": "2024-12-12T16:15:22.334Z"
   },
   {
    "duration": 4,
    "start_time": "2024-12-12T16:15:22.340Z"
   },
   {
    "duration": 27,
    "start_time": "2024-12-12T16:15:22.346Z"
   },
   {
    "duration": 5,
    "start_time": "2024-12-12T16:15:22.374Z"
   },
   {
    "duration": 6,
    "start_time": "2024-12-12T16:15:22.380Z"
   },
   {
    "duration": 11,
    "start_time": "2024-12-12T16:15:22.387Z"
   },
   {
    "duration": 8,
    "start_time": "2024-12-12T16:15:22.399Z"
   },
   {
    "duration": 6,
    "start_time": "2024-12-12T16:15:22.408Z"
   },
   {
    "duration": 3,
    "start_time": "2024-12-12T16:15:22.416Z"
   },
   {
    "duration": 10,
    "start_time": "2024-12-12T16:15:22.420Z"
   },
   {
    "duration": 40,
    "start_time": "2024-12-12T16:15:22.431Z"
   },
   {
    "duration": 10,
    "start_time": "2024-12-12T16:15:22.473Z"
   },
   {
    "duration": 20,
    "start_time": "2024-12-12T16:15:22.484Z"
   },
   {
    "duration": 14,
    "start_time": "2024-12-12T16:15:22.506Z"
   },
   {
    "duration": 4,
    "start_time": "2024-12-12T16:15:22.521Z"
   },
   {
    "duration": 20,
    "start_time": "2024-12-12T16:15:22.526Z"
   },
   {
    "duration": 3,
    "start_time": "2024-12-12T16:15:22.548Z"
   },
   {
    "duration": 19,
    "start_time": "2024-12-12T16:15:22.552Z"
   },
   {
    "duration": 10,
    "start_time": "2024-12-12T16:15:22.573Z"
   },
   {
    "duration": 36,
    "start_time": "2024-12-12T16:15:22.585Z"
   },
   {
    "duration": 21,
    "start_time": "2024-12-12T16:16:26.952Z"
   },
   {
    "duration": 22,
    "start_time": "2024-12-12T16:16:44.735Z"
   },
   {
    "duration": 12,
    "start_time": "2024-12-12T16:28:10.165Z"
   },
   {
    "duration": 7,
    "start_time": "2024-12-12T16:28:14.865Z"
   },
   {
    "duration": 398,
    "start_time": "2024-12-12T16:28:20.596Z"
   },
   {
    "duration": 90,
    "start_time": "2024-12-12T16:28:20.996Z"
   },
   {
    "duration": 22,
    "start_time": "2024-12-12T16:28:21.087Z"
   },
   {
    "duration": 16,
    "start_time": "2024-12-12T16:28:21.111Z"
   },
   {
    "duration": 3,
    "start_time": "2024-12-12T16:28:21.129Z"
   },
   {
    "duration": 11,
    "start_time": "2024-12-12T16:28:21.134Z"
   },
   {
    "duration": 28,
    "start_time": "2024-12-12T16:28:21.147Z"
   },
   {
    "duration": 3,
    "start_time": "2024-12-12T16:28:21.177Z"
   },
   {
    "duration": 8,
    "start_time": "2024-12-12T16:28:21.182Z"
   },
   {
    "duration": 5,
    "start_time": "2024-12-12T16:28:21.191Z"
   },
   {
    "duration": 18,
    "start_time": "2024-12-12T16:28:21.197Z"
   },
   {
    "duration": 5,
    "start_time": "2024-12-12T16:28:21.216Z"
   },
   {
    "duration": 16,
    "start_time": "2024-12-12T16:28:21.223Z"
   },
   {
    "duration": 32,
    "start_time": "2024-12-12T16:28:21.244Z"
   },
   {
    "duration": 89,
    "start_time": "2024-12-12T16:28:21.278Z"
   },
   {
    "duration": 10,
    "start_time": "2024-12-12T16:28:21.369Z"
   },
   {
    "duration": 204,
    "start_time": "2024-12-12T16:28:21.380Z"
   },
   {
    "duration": 187,
    "start_time": "2024-12-12T16:28:21.585Z"
   },
   {
    "duration": 3,
    "start_time": "2024-12-12T16:28:21.775Z"
   },
   {
    "duration": 19,
    "start_time": "2024-12-12T16:28:21.779Z"
   },
   {
    "duration": 11,
    "start_time": "2024-12-12T16:28:21.799Z"
   },
   {
    "duration": 15,
    "start_time": "2024-12-12T16:28:21.812Z"
   },
   {
    "duration": 23,
    "start_time": "2024-12-12T16:28:21.828Z"
   },
   {
    "duration": 4,
    "start_time": "2024-12-12T16:28:21.852Z"
   },
   {
    "duration": 4,
    "start_time": "2024-12-12T16:28:21.858Z"
   },
   {
    "duration": 26,
    "start_time": "2024-12-12T16:28:21.864Z"
   },
   {
    "duration": 15,
    "start_time": "2024-12-12T16:28:21.892Z"
   },
   {
    "duration": 14,
    "start_time": "2024-12-12T16:28:21.908Z"
   },
   {
    "duration": 5,
    "start_time": "2024-12-12T16:28:21.923Z"
   },
   {
    "duration": 11,
    "start_time": "2024-12-12T16:28:21.929Z"
   },
   {
    "duration": 10,
    "start_time": "2024-12-12T16:28:21.941Z"
   },
   {
    "duration": 22,
    "start_time": "2024-12-12T16:28:21.952Z"
   },
   {
    "duration": 15,
    "start_time": "2024-12-12T16:28:21.975Z"
   },
   {
    "duration": 22,
    "start_time": "2024-12-12T16:28:21.992Z"
   },
   {
    "duration": 10,
    "start_time": "2024-12-12T16:28:22.016Z"
   },
   {
    "duration": 40,
    "start_time": "2024-12-12T16:28:22.027Z"
   },
   {
    "duration": 25,
    "start_time": "2024-12-12T16:28:22.068Z"
   },
   {
    "duration": 30,
    "start_time": "2024-12-12T16:28:22.095Z"
   },
   {
    "duration": 23,
    "start_time": "2024-12-12T16:28:22.127Z"
   },
   {
    "duration": 85,
    "start_time": "2024-12-12T16:28:22.151Z"
   },
   {
    "duration": 374,
    "start_time": "2024-12-13T17:56:34.768Z"
   },
   {
    "duration": 153,
    "start_time": "2024-12-13T17:56:35.144Z"
   },
   {
    "duration": 19,
    "start_time": "2024-12-13T17:56:35.298Z"
   },
   {
    "duration": 16,
    "start_time": "2024-12-13T17:56:35.318Z"
   },
   {
    "duration": 12,
    "start_time": "2024-12-13T17:56:35.336Z"
   },
   {
    "duration": 27,
    "start_time": "2024-12-13T17:56:35.349Z"
   },
   {
    "duration": 42,
    "start_time": "2024-12-13T17:56:35.378Z"
   },
   {
    "duration": 31,
    "start_time": "2024-12-13T17:56:35.421Z"
   },
   {
    "duration": 22,
    "start_time": "2024-12-13T17:56:35.454Z"
   },
   {
    "duration": 11,
    "start_time": "2024-12-13T17:56:35.477Z"
   },
   {
    "duration": 25,
    "start_time": "2024-12-13T17:56:35.490Z"
   },
   {
    "duration": 6,
    "start_time": "2024-12-13T17:56:35.517Z"
   },
   {
    "duration": 19,
    "start_time": "2024-12-13T17:56:35.525Z"
   },
   {
    "duration": 8,
    "start_time": "2024-12-13T17:56:35.547Z"
   },
   {
    "duration": 184,
    "start_time": "2024-12-13T17:56:35.556Z"
   },
   {
    "duration": 151,
    "start_time": "2024-12-13T17:56:35.742Z"
   },
   {
    "duration": 3,
    "start_time": "2024-12-13T17:56:35.894Z"
   },
   {
    "duration": 41,
    "start_time": "2024-12-13T17:56:35.898Z"
   },
   {
    "duration": 55,
    "start_time": "2024-12-13T17:56:35.941Z"
   },
   {
    "duration": 29,
    "start_time": "2024-12-13T17:56:35.997Z"
   },
   {
    "duration": 40,
    "start_time": "2024-12-13T17:56:36.027Z"
   },
   {
    "duration": 36,
    "start_time": "2024-12-13T17:56:36.068Z"
   },
   {
    "duration": 51,
    "start_time": "2024-12-13T17:56:36.105Z"
   },
   {
    "duration": 60,
    "start_time": "2024-12-13T17:56:36.158Z"
   },
   {
    "duration": 36,
    "start_time": "2024-12-13T17:56:36.219Z"
   },
   {
    "duration": 53,
    "start_time": "2024-12-13T17:56:36.256Z"
   },
   {
    "duration": 24,
    "start_time": "2024-12-13T17:56:36.310Z"
   },
   {
    "duration": 29,
    "start_time": "2024-12-13T17:56:36.335Z"
   },
   {
    "duration": 47,
    "start_time": "2024-12-13T17:56:36.365Z"
   },
   {
    "duration": 35,
    "start_time": "2024-12-13T17:56:36.414Z"
   },
   {
    "duration": 29,
    "start_time": "2024-12-13T17:56:36.451Z"
   },
   {
    "duration": 50,
    "start_time": "2024-12-13T17:56:36.482Z"
   },
   {
    "duration": 13,
    "start_time": "2024-12-13T17:56:36.533Z"
   },
   {
    "duration": 22,
    "start_time": "2024-12-13T17:56:36.548Z"
   },
   {
    "duration": 57,
    "start_time": "2024-12-13T17:56:36.572Z"
   },
   {
    "duration": 21,
    "start_time": "2024-12-13T17:56:36.630Z"
   },
   {
    "duration": 26,
    "start_time": "2024-12-13T17:56:36.652Z"
   },
   {
    "duration": 41,
    "start_time": "2024-12-13T17:56:36.679Z"
   },
   {
    "duration": 6,
    "start_time": "2024-12-13T17:59:08.763Z"
   },
   {
    "duration": 5,
    "start_time": "2024-12-13T17:59:40.374Z"
   },
   {
    "duration": 5,
    "start_time": "2024-12-13T17:59:48.383Z"
   },
   {
    "duration": 6,
    "start_time": "2024-12-13T17:59:55.513Z"
   },
   {
    "duration": 5,
    "start_time": "2024-12-13T18:00:10.443Z"
   },
   {
    "duration": 5,
    "start_time": "2024-12-13T18:00:15.218Z"
   },
   {
    "duration": 60,
    "start_time": "2024-12-13T18:06:07.173Z"
   },
   {
    "duration": 8,
    "start_time": "2024-12-13T18:06:27.983Z"
   },
   {
    "duration": 5,
    "start_time": "2024-12-13T18:10:20.633Z"
   },
   {
    "duration": 7,
    "start_time": "2024-12-13T18:10:42.263Z"
   },
   {
    "duration": 5,
    "start_time": "2024-12-13T18:10:52.168Z"
   },
   {
    "duration": 6,
    "start_time": "2024-12-13T18:10:52.733Z"
   },
   {
    "duration": 17,
    "start_time": "2024-12-13T18:11:12.144Z"
   },
   {
    "duration": 15,
    "start_time": "2024-12-13T18:13:27.643Z"
   },
   {
    "duration": 59,
    "start_time": "2024-12-13T18:18:13.305Z"
   },
   {
    "duration": 12,
    "start_time": "2024-12-13T18:18:25.222Z"
   },
   {
    "duration": 378,
    "start_time": "2024-12-13T18:20:38.614Z"
   },
   {
    "duration": 146,
    "start_time": "2024-12-13T18:20:38.994Z"
   },
   {
    "duration": 19,
    "start_time": "2024-12-13T18:20:39.142Z"
   },
   {
    "duration": 14,
    "start_time": "2024-12-13T18:20:39.162Z"
   },
   {
    "duration": 20,
    "start_time": "2024-12-13T18:20:39.178Z"
   },
   {
    "duration": 22,
    "start_time": "2024-12-13T18:20:39.199Z"
   },
   {
    "duration": 40,
    "start_time": "2024-12-13T18:20:39.223Z"
   },
   {
    "duration": 17,
    "start_time": "2024-12-13T18:20:39.264Z"
   },
   {
    "duration": 35,
    "start_time": "2024-12-13T18:20:39.282Z"
   },
   {
    "duration": 7,
    "start_time": "2024-12-13T18:20:39.318Z"
   },
   {
    "duration": 18,
    "start_time": "2024-12-13T18:20:39.326Z"
   },
   {
    "duration": 7,
    "start_time": "2024-12-13T18:20:39.346Z"
   },
   {
    "duration": 18,
    "start_time": "2024-12-13T18:20:39.354Z"
   },
   {
    "duration": 10,
    "start_time": "2024-12-13T18:20:39.374Z"
   },
   {
    "duration": 198,
    "start_time": "2024-12-13T18:20:39.385Z"
   },
   {
    "duration": 159,
    "start_time": "2024-12-13T18:20:39.584Z"
   },
   {
    "duration": 3,
    "start_time": "2024-12-13T18:20:39.744Z"
   },
   {
    "duration": 6,
    "start_time": "2024-12-13T18:20:39.748Z"
   },
   {
    "duration": 8,
    "start_time": "2024-12-13T18:20:39.755Z"
   },
   {
    "duration": 10,
    "start_time": "2024-12-13T18:20:39.764Z"
   },
   {
    "duration": 48,
    "start_time": "2024-12-13T18:20:39.775Z"
   },
   {
    "duration": 10,
    "start_time": "2024-12-13T18:20:39.824Z"
   },
   {
    "duration": 21,
    "start_time": "2024-12-13T18:20:39.835Z"
   },
   {
    "duration": 36,
    "start_time": "2024-12-13T18:20:39.857Z"
   },
   {
    "duration": 32,
    "start_time": "2024-12-13T18:20:39.894Z"
   },
   {
    "duration": 31,
    "start_time": "2024-12-13T18:20:39.927Z"
   },
   {
    "duration": 27,
    "start_time": "2024-12-13T18:20:39.959Z"
   },
   {
    "duration": 38,
    "start_time": "2024-12-13T18:20:39.987Z"
   },
   {
    "duration": 47,
    "start_time": "2024-12-13T18:20:40.027Z"
   },
   {
    "duration": 37,
    "start_time": "2024-12-13T18:20:40.075Z"
   },
   {
    "duration": 36,
    "start_time": "2024-12-13T18:20:40.114Z"
   },
   {
    "duration": 38,
    "start_time": "2024-12-13T18:20:40.152Z"
   },
   {
    "duration": 22,
    "start_time": "2024-12-13T18:20:40.191Z"
   },
   {
    "duration": 85,
    "start_time": "2024-12-13T18:20:40.214Z"
   },
   {
    "duration": 37,
    "start_time": "2024-12-13T18:20:40.301Z"
   },
   {
    "duration": 33,
    "start_time": "2024-12-13T18:20:40.339Z"
   },
   {
    "duration": 69,
    "start_time": "2024-12-13T18:20:40.373Z"
   },
   {
    "duration": 89,
    "start_time": "2024-12-13T18:20:40.443Z"
   },
   {
    "duration": 25,
    "start_time": "2024-12-13T18:20:40.533Z"
   },
   {
    "duration": 6,
    "start_time": "2024-12-13T18:20:58.593Z"
   },
   {
    "duration": 19,
    "start_time": "2024-12-13T18:21:11.454Z"
   },
   {
    "duration": 17,
    "start_time": "2024-12-13T18:25:44.553Z"
   },
   {
    "duration": 7,
    "start_time": "2024-12-13T18:25:46.955Z"
   },
   {
    "duration": 23,
    "start_time": "2024-12-13T18:25:49.760Z"
   },
   {
    "duration": 238,
    "start_time": "2024-12-13T18:32:05.406Z"
   },
   {
    "duration": 17,
    "start_time": "2024-12-13T18:32:15.308Z"
   },
   {
    "duration": 8,
    "start_time": "2024-12-13T18:39:21.259Z"
   },
   {
    "duration": 6,
    "start_time": "2024-12-13T18:39:49.352Z"
   },
   {
    "duration": 6,
    "start_time": "2024-12-13T18:40:06.147Z"
   },
   {
    "duration": 18,
    "start_time": "2024-12-13T18:40:07.468Z"
   },
   {
    "duration": 383,
    "start_time": "2024-12-13T18:41:16.660Z"
   },
   {
    "duration": 131,
    "start_time": "2024-12-13T18:41:17.044Z"
   },
   {
    "duration": 19,
    "start_time": "2024-12-13T18:41:17.176Z"
   },
   {
    "duration": 14,
    "start_time": "2024-12-13T18:41:17.197Z"
   },
   {
    "duration": 17,
    "start_time": "2024-12-13T18:41:17.214Z"
   },
   {
    "duration": 10,
    "start_time": "2024-12-13T18:41:17.233Z"
   },
   {
    "duration": 7,
    "start_time": "2024-12-13T18:41:17.245Z"
   },
   {
    "duration": 9,
    "start_time": "2024-12-13T18:41:17.254Z"
   },
   {
    "duration": 17,
    "start_time": "2024-12-13T18:41:17.265Z"
   },
   {
    "duration": 5,
    "start_time": "2024-12-13T18:41:17.284Z"
   },
   {
    "duration": 13,
    "start_time": "2024-12-13T18:41:17.291Z"
   },
   {
    "duration": 8,
    "start_time": "2024-12-13T18:41:17.306Z"
   },
   {
    "duration": 10,
    "start_time": "2024-12-13T18:41:17.315Z"
   },
   {
    "duration": 8,
    "start_time": "2024-12-13T18:41:17.355Z"
   },
   {
    "duration": 174,
    "start_time": "2024-12-13T18:41:17.365Z"
   },
   {
    "duration": 159,
    "start_time": "2024-12-13T18:41:17.540Z"
   },
   {
    "duration": 3,
    "start_time": "2024-12-13T18:41:17.701Z"
   },
   {
    "duration": 8,
    "start_time": "2024-12-13T18:41:17.706Z"
   },
   {
    "duration": 9,
    "start_time": "2024-12-13T18:41:17.716Z"
   },
   {
    "duration": 7,
    "start_time": "2024-12-13T18:41:17.726Z"
   },
   {
    "duration": 12,
    "start_time": "2024-12-13T18:41:17.734Z"
   },
   {
    "duration": 4,
    "start_time": "2024-12-13T18:41:17.753Z"
   },
   {
    "duration": 7,
    "start_time": "2024-12-13T18:41:17.758Z"
   },
   {
    "duration": 4,
    "start_time": "2024-12-13T18:41:17.767Z"
   },
   {
    "duration": 5,
    "start_time": "2024-12-13T18:41:17.773Z"
   },
   {
    "duration": 6,
    "start_time": "2024-12-13T18:41:17.779Z"
   },
   {
    "duration": 4,
    "start_time": "2024-12-13T18:41:17.787Z"
   },
   {
    "duration": 8,
    "start_time": "2024-12-13T18:41:17.792Z"
   },
   {
    "duration": 52,
    "start_time": "2024-12-13T18:41:17.801Z"
   },
   {
    "duration": 9,
    "start_time": "2024-12-13T18:41:17.854Z"
   },
   {
    "duration": 10,
    "start_time": "2024-12-13T18:41:17.864Z"
   },
   {
    "duration": 20,
    "start_time": "2024-12-13T18:41:17.875Z"
   },
   {
    "duration": 4,
    "start_time": "2024-12-13T18:41:17.897Z"
   },
   {
    "duration": 17,
    "start_time": "2024-12-13T18:41:17.902Z"
   },
   {
    "duration": 3,
    "start_time": "2024-12-13T18:41:17.920Z"
   },
   {
    "duration": 6,
    "start_time": "2024-12-13T18:41:17.924Z"
   },
   {
    "duration": 22,
    "start_time": "2024-12-13T18:41:17.931Z"
   },
   {
    "duration": 16,
    "start_time": "2024-12-13T18:41:17.954Z"
   },
   {
    "duration": 6,
    "start_time": "2024-12-13T18:41:17.971Z"
   },
   {
    "duration": 19,
    "start_time": "2024-12-13T18:41:17.978Z"
   },
   {
    "duration": 14,
    "start_time": "2024-12-13T18:41:18.000Z"
   },
   {
    "duration": 6,
    "start_time": "2024-12-13T18:41:48.589Z"
   },
   {
    "duration": 1434,
    "start_time": "2024-12-13T18:42:17.757Z"
   },
   {
    "duration": 17,
    "start_time": "2024-12-13T18:42:19.689Z"
   },
   {
    "duration": 373,
    "start_time": "2024-12-13T19:01:10.865Z"
   },
   {
    "duration": 167,
    "start_time": "2024-12-13T19:01:11.239Z"
   },
   {
    "duration": 19,
    "start_time": "2024-12-13T19:01:11.407Z"
   },
   {
    "duration": 13,
    "start_time": "2024-12-13T19:01:11.427Z"
   },
   {
    "duration": 3,
    "start_time": "2024-12-13T19:01:11.441Z"
   },
   {
    "duration": 7,
    "start_time": "2024-12-13T19:01:11.445Z"
   },
   {
    "duration": 5,
    "start_time": "2024-12-13T19:01:11.453Z"
   },
   {
    "duration": 5,
    "start_time": "2024-12-13T19:01:11.459Z"
   },
   {
    "duration": 18,
    "start_time": "2024-12-13T19:01:11.465Z"
   },
   {
    "duration": 12,
    "start_time": "2024-12-13T19:01:11.485Z"
   },
   {
    "duration": 21,
    "start_time": "2024-12-13T19:01:11.498Z"
   },
   {
    "duration": 10,
    "start_time": "2024-12-13T19:01:11.521Z"
   },
   {
    "duration": 10,
    "start_time": "2024-12-13T19:01:11.532Z"
   },
   {
    "duration": 6,
    "start_time": "2024-12-13T19:01:11.543Z"
   },
   {
    "duration": 158,
    "start_time": "2024-12-13T19:01:11.552Z"
   },
   {
    "duration": 152,
    "start_time": "2024-12-13T19:01:11.711Z"
   },
   {
    "duration": 3,
    "start_time": "2024-12-13T19:01:11.865Z"
   },
   {
    "duration": 9,
    "start_time": "2024-12-13T19:01:11.869Z"
   },
   {
    "duration": 4,
    "start_time": "2024-12-13T19:01:11.879Z"
   },
   {
    "duration": 4,
    "start_time": "2024-12-13T19:01:11.884Z"
   },
   {
    "duration": 7,
    "start_time": "2024-12-13T19:01:11.889Z"
   },
   {
    "duration": 23,
    "start_time": "2024-12-13T19:01:11.897Z"
   },
   {
    "duration": 6,
    "start_time": "2024-12-13T19:01:11.922Z"
   },
   {
    "duration": 8,
    "start_time": "2024-12-13T19:01:11.929Z"
   },
   {
    "duration": 4,
    "start_time": "2024-12-13T19:01:11.938Z"
   },
   {
    "duration": 17,
    "start_time": "2024-12-13T19:01:11.943Z"
   },
   {
    "duration": 5,
    "start_time": "2024-12-13T19:01:11.961Z"
   },
   {
    "duration": 6,
    "start_time": "2024-12-13T19:01:11.968Z"
   },
   {
    "duration": 18,
    "start_time": "2024-12-13T19:01:11.975Z"
   },
   {
    "duration": 8,
    "start_time": "2024-12-13T19:01:11.995Z"
   },
   {
    "duration": 40,
    "start_time": "2024-12-13T19:01:12.004Z"
   },
   {
    "duration": 41,
    "start_time": "2024-12-13T19:01:12.045Z"
   },
   {
    "duration": 4,
    "start_time": "2024-12-13T19:01:12.087Z"
   },
   {
    "duration": 20,
    "start_time": "2024-12-13T19:01:12.092Z"
   },
   {
    "duration": 3,
    "start_time": "2024-12-13T19:01:12.114Z"
   },
   {
    "duration": 5,
    "start_time": "2024-12-13T19:01:12.118Z"
   },
   {
    "duration": 3,
    "start_time": "2024-12-13T19:01:12.125Z"
   },
   {
    "duration": 26,
    "start_time": "2024-12-13T19:01:12.129Z"
   },
   {
    "duration": 227,
    "start_time": "2024-12-13T19:01:12.156Z"
   },
   {
    "duration": 0,
    "start_time": "2024-12-13T19:01:12.384Z"
   },
   {
    "duration": 0,
    "start_time": "2024-12-13T19:01:12.385Z"
   },
   {
    "duration": 17,
    "start_time": "2024-12-13T19:01:27.424Z"
   },
   {
    "duration": 9,
    "start_time": "2024-12-13T19:02:02.553Z"
   },
   {
    "duration": 15,
    "start_time": "2024-12-13T19:05:55.155Z"
   },
   {
    "duration": 19,
    "start_time": "2024-12-13T19:06:14.510Z"
   },
   {
    "duration": 10,
    "start_time": "2024-12-13T19:11:09.665Z"
   },
   {
    "duration": 14,
    "start_time": "2024-12-13T19:19:46.556Z"
   },
   {
    "duration": 22,
    "start_time": "2024-12-13T19:19:56.249Z"
   },
   {
    "duration": 15,
    "start_time": "2024-12-13T19:20:03.618Z"
   },
   {
    "duration": 18,
    "start_time": "2024-12-13T19:31:36.837Z"
   },
   {
    "duration": 18,
    "start_time": "2024-12-13T19:32:42.524Z"
   },
   {
    "duration": 17,
    "start_time": "2024-12-13T19:35:55.350Z"
   },
   {
    "duration": 221,
    "start_time": "2024-12-13T19:38:08.030Z"
   },
   {
    "duration": 18,
    "start_time": "2024-12-13T19:42:28.676Z"
   },
   {
    "duration": 51,
    "start_time": "2024-12-13T19:45:55.937Z"
   },
   {
    "duration": 13,
    "start_time": "2024-12-13T19:46:53.077Z"
   },
   {
    "duration": 11,
    "start_time": "2024-12-13T19:47:55.259Z"
   },
   {
    "duration": 385,
    "start_time": "2024-12-13T19:48:06.549Z"
   },
   {
    "duration": 107,
    "start_time": "2024-12-13T19:48:06.935Z"
   },
   {
    "duration": 19,
    "start_time": "2024-12-13T19:48:07.044Z"
   },
   {
    "duration": 13,
    "start_time": "2024-12-13T19:48:07.064Z"
   },
   {
    "duration": 20,
    "start_time": "2024-12-13T19:48:07.079Z"
   },
   {
    "duration": 26,
    "start_time": "2024-12-13T19:48:07.100Z"
   },
   {
    "duration": 4,
    "start_time": "2024-12-13T19:48:07.127Z"
   },
   {
    "duration": 8,
    "start_time": "2024-12-13T19:48:07.133Z"
   },
   {
    "duration": 16,
    "start_time": "2024-12-13T19:48:07.142Z"
   },
   {
    "duration": 4,
    "start_time": "2024-12-13T19:48:07.159Z"
   },
   {
    "duration": 40,
    "start_time": "2024-12-13T19:48:07.164Z"
   },
   {
    "duration": 7,
    "start_time": "2024-12-13T19:48:07.206Z"
   },
   {
    "duration": 9,
    "start_time": "2024-12-13T19:48:07.214Z"
   },
   {
    "duration": 8,
    "start_time": "2024-12-13T19:48:07.225Z"
   },
   {
    "duration": 155,
    "start_time": "2024-12-13T19:48:07.234Z"
   },
   {
    "duration": 151,
    "start_time": "2024-12-13T19:48:07.391Z"
   },
   {
    "duration": 2,
    "start_time": "2024-12-13T19:48:07.544Z"
   },
   {
    "duration": 5,
    "start_time": "2024-12-13T19:48:07.552Z"
   },
   {
    "duration": 3,
    "start_time": "2024-12-13T19:48:07.558Z"
   },
   {
    "duration": 6,
    "start_time": "2024-12-13T19:48:07.563Z"
   },
   {
    "duration": 20,
    "start_time": "2024-12-13T19:48:07.570Z"
   },
   {
    "duration": 17,
    "start_time": "2024-12-13T19:48:07.592Z"
   },
   {
    "duration": 6,
    "start_time": "2024-12-13T19:48:07.610Z"
   },
   {
    "duration": 4,
    "start_time": "2024-12-13T19:48:07.618Z"
   },
   {
    "duration": 10,
    "start_time": "2024-12-13T19:48:07.623Z"
   },
   {
    "duration": 5,
    "start_time": "2024-12-13T19:48:07.634Z"
   },
   {
    "duration": 24,
    "start_time": "2024-12-13T19:48:07.640Z"
   },
   {
    "duration": 16,
    "start_time": "2024-12-13T19:48:07.665Z"
   },
   {
    "duration": 23,
    "start_time": "2024-12-13T19:48:07.682Z"
   },
   {
    "duration": 25,
    "start_time": "2024-12-13T19:48:07.706Z"
   },
   {
    "duration": 20,
    "start_time": "2024-12-13T19:48:07.733Z"
   },
   {
    "duration": 19,
    "start_time": "2024-12-13T19:48:07.754Z"
   },
   {
    "duration": 4,
    "start_time": "2024-12-13T19:48:07.774Z"
   },
   {
    "duration": 32,
    "start_time": "2024-12-13T19:48:07.779Z"
   },
   {
    "duration": 9,
    "start_time": "2024-12-13T19:48:07.813Z"
   },
   {
    "duration": 4,
    "start_time": "2024-12-13T19:48:07.824Z"
   },
   {
    "duration": 4,
    "start_time": "2024-12-13T19:48:07.829Z"
   },
   {
    "duration": 22,
    "start_time": "2024-12-13T19:48:07.835Z"
   },
   {
    "duration": 6,
    "start_time": "2024-12-13T19:48:07.858Z"
   },
   {
    "duration": 20,
    "start_time": "2024-12-13T19:48:07.865Z"
   },
   {
    "duration": 12,
    "start_time": "2024-12-13T19:48:07.888Z"
   },
   {
    "duration": 71,
    "start_time": "2024-12-13T19:48:07.901Z"
   },
   {
    "duration": 0,
    "start_time": "2024-12-13T19:48:07.973Z"
   },
   {
    "duration": 0,
    "start_time": "2024-12-13T19:48:07.974Z"
   },
   {
    "duration": 13,
    "start_time": "2024-12-13T19:48:35.528Z"
   },
   {
    "duration": 49,
    "start_time": "2024-12-13T19:52:51.767Z"
   },
   {
    "duration": 5,
    "start_time": "2024-12-13T19:52:56.480Z"
   },
   {
    "duration": 7,
    "start_time": "2024-12-13T19:52:57.115Z"
   },
   {
    "duration": 6,
    "start_time": "2024-12-13T19:52:58.918Z"
   },
   {
    "duration": 6,
    "start_time": "2024-12-13T19:57:51.131Z"
   },
   {
    "duration": 348,
    "start_time": "2024-12-13T19:58:03.295Z"
   },
   {
    "duration": 96,
    "start_time": "2024-12-13T19:58:03.645Z"
   },
   {
    "duration": 21,
    "start_time": "2024-12-13T19:58:03.742Z"
   },
   {
    "duration": 24,
    "start_time": "2024-12-13T19:58:03.765Z"
   },
   {
    "duration": 52,
    "start_time": "2024-12-13T19:58:03.791Z"
   },
   {
    "duration": 11,
    "start_time": "2024-12-13T19:58:03.844Z"
   },
   {
    "duration": 14,
    "start_time": "2024-12-13T19:58:03.856Z"
   },
   {
    "duration": 8,
    "start_time": "2024-12-13T19:58:03.872Z"
   },
   {
    "duration": 44,
    "start_time": "2024-12-13T19:58:03.882Z"
   },
   {
    "duration": 6,
    "start_time": "2024-12-13T19:58:03.928Z"
   },
   {
    "duration": 34,
    "start_time": "2024-12-13T19:58:03.937Z"
   },
   {
    "duration": 20,
    "start_time": "2024-12-13T19:58:03.973Z"
   },
   {
    "duration": 31,
    "start_time": "2024-12-13T19:58:03.994Z"
   },
   {
    "duration": 29,
    "start_time": "2024-12-13T19:58:04.027Z"
   },
   {
    "duration": 171,
    "start_time": "2024-12-13T19:58:04.058Z"
   },
   {
    "duration": 153,
    "start_time": "2024-12-13T19:58:04.230Z"
   },
   {
    "duration": 3,
    "start_time": "2024-12-13T19:58:04.385Z"
   },
   {
    "duration": 24,
    "start_time": "2024-12-13T19:58:04.390Z"
   },
   {
    "duration": 6,
    "start_time": "2024-12-13T19:58:04.415Z"
   },
   {
    "duration": 4,
    "start_time": "2024-12-13T19:58:04.422Z"
   },
   {
    "duration": 11,
    "start_time": "2024-12-13T19:58:04.427Z"
   },
   {
    "duration": 3,
    "start_time": "2024-12-13T19:58:04.439Z"
   },
   {
    "duration": 7,
    "start_time": "2024-12-13T19:58:04.443Z"
   },
   {
    "duration": 5,
    "start_time": "2024-12-13T19:58:04.451Z"
   },
   {
    "duration": 11,
    "start_time": "2024-12-13T19:58:04.457Z"
   },
   {
    "duration": 7,
    "start_time": "2024-12-13T19:58:04.469Z"
   },
   {
    "duration": 29,
    "start_time": "2024-12-13T19:58:04.477Z"
   },
   {
    "duration": 67,
    "start_time": "2024-12-13T19:58:04.507Z"
   },
   {
    "duration": 35,
    "start_time": "2024-12-13T19:58:04.576Z"
   },
   {
    "duration": 8,
    "start_time": "2024-12-13T19:58:04.613Z"
   },
   {
    "duration": 8,
    "start_time": "2024-12-13T19:58:04.622Z"
   },
   {
    "duration": 19,
    "start_time": "2024-12-13T19:58:04.631Z"
   },
   {
    "duration": 5,
    "start_time": "2024-12-13T19:58:04.652Z"
   },
   {
    "duration": 17,
    "start_time": "2024-12-13T19:58:04.658Z"
   },
   {
    "duration": 17,
    "start_time": "2024-12-13T19:58:04.676Z"
   },
   {
    "duration": 43,
    "start_time": "2024-12-13T19:58:04.694Z"
   },
   {
    "duration": 12,
    "start_time": "2024-12-13T19:58:04.738Z"
   },
   {
    "duration": 15,
    "start_time": "2024-12-13T19:58:04.751Z"
   },
   {
    "duration": 225,
    "start_time": "2024-12-13T19:58:04.767Z"
   },
   {
    "duration": 0,
    "start_time": "2024-12-13T19:58:04.994Z"
   },
   {
    "duration": 0,
    "start_time": "2024-12-13T19:58:04.995Z"
   },
   {
    "duration": 0,
    "start_time": "2024-12-13T19:58:04.997Z"
   },
   {
    "duration": 0,
    "start_time": "2024-12-13T19:58:04.998Z"
   },
   {
    "duration": 0,
    "start_time": "2024-12-13T19:58:04.999Z"
   },
   {
    "duration": 0,
    "start_time": "2024-12-13T19:58:05.001Z"
   },
   {
    "duration": 0,
    "start_time": "2024-12-13T19:58:05.002Z"
   },
   {
    "duration": 0,
    "start_time": "2024-12-13T19:58:05.003Z"
   },
   {
    "duration": 677,
    "start_time": "2024-12-13T19:58:16.279Z"
   },
   {
    "duration": 17,
    "start_time": "2024-12-13T19:58:20.036Z"
   },
   {
    "duration": 5,
    "start_time": "2024-12-13T19:58:53.109Z"
   },
   {
    "duration": 5,
    "start_time": "2024-12-13T20:00:01.548Z"
   },
   {
    "duration": 7,
    "start_time": "2024-12-13T20:02:08.958Z"
   },
   {
    "duration": 118,
    "start_time": "2024-12-13T20:02:15.319Z"
   },
   {
    "duration": 22,
    "start_time": "2024-12-13T20:02:18.428Z"
   },
   {
    "duration": 192,
    "start_time": "2024-12-13T20:07:32.466Z"
   },
   {
    "duration": 124,
    "start_time": "2024-12-13T20:09:38.330Z"
   },
   {
    "duration": 379,
    "start_time": "2024-12-13T20:09:59.668Z"
   },
   {
    "duration": 111,
    "start_time": "2024-12-13T20:10:00.049Z"
   },
   {
    "duration": 21,
    "start_time": "2024-12-13T20:10:00.162Z"
   },
   {
    "duration": 32,
    "start_time": "2024-12-13T20:10:00.185Z"
   },
   {
    "duration": 8,
    "start_time": "2024-12-13T20:10:00.219Z"
   },
   {
    "duration": 38,
    "start_time": "2024-12-13T20:10:00.228Z"
   },
   {
    "duration": 44,
    "start_time": "2024-12-13T20:10:00.267Z"
   },
   {
    "duration": 25,
    "start_time": "2024-12-13T20:10:00.313Z"
   },
   {
    "duration": 34,
    "start_time": "2024-12-13T20:10:00.339Z"
   },
   {
    "duration": 24,
    "start_time": "2024-12-13T20:10:00.374Z"
   },
   {
    "duration": 44,
    "start_time": "2024-12-13T20:10:00.400Z"
   },
   {
    "duration": 33,
    "start_time": "2024-12-13T20:10:00.446Z"
   },
   {
    "duration": 51,
    "start_time": "2024-12-13T20:10:00.480Z"
   },
   {
    "duration": 58,
    "start_time": "2024-12-13T20:10:00.534Z"
   },
   {
    "duration": 179,
    "start_time": "2024-12-13T20:10:00.594Z"
   },
   {
    "duration": 163,
    "start_time": "2024-12-13T20:10:00.774Z"
   },
   {
    "duration": 4,
    "start_time": "2024-12-13T20:10:00.938Z"
   },
   {
    "duration": 16,
    "start_time": "2024-12-13T20:10:00.943Z"
   },
   {
    "duration": 35,
    "start_time": "2024-12-13T20:10:00.961Z"
   },
   {
    "duration": 26,
    "start_time": "2024-12-13T20:10:00.997Z"
   },
   {
    "duration": 24,
    "start_time": "2024-12-13T20:10:01.024Z"
   },
   {
    "duration": 23,
    "start_time": "2024-12-13T20:10:01.050Z"
   },
   {
    "duration": 25,
    "start_time": "2024-12-13T20:10:01.074Z"
   },
   {
    "duration": 14,
    "start_time": "2024-12-13T20:10:01.101Z"
   },
   {
    "duration": 11,
    "start_time": "2024-12-13T20:10:01.116Z"
   },
   {
    "duration": 25,
    "start_time": "2024-12-13T20:10:01.128Z"
   },
   {
    "duration": 41,
    "start_time": "2024-12-13T20:10:01.154Z"
   },
   {
    "duration": 25,
    "start_time": "2024-12-13T20:10:01.196Z"
   },
   {
    "duration": 31,
    "start_time": "2024-12-13T20:10:01.222Z"
   },
   {
    "duration": 28,
    "start_time": "2024-12-13T20:10:01.254Z"
   },
   {
    "duration": 31,
    "start_time": "2024-12-13T20:10:01.284Z"
   },
   {
    "duration": 16,
    "start_time": "2024-12-13T20:10:01.317Z"
   },
   {
    "duration": 10,
    "start_time": "2024-12-13T20:10:01.335Z"
   },
   {
    "duration": 31,
    "start_time": "2024-12-13T20:10:01.346Z"
   },
   {
    "duration": 13,
    "start_time": "2024-12-13T20:10:01.378Z"
   },
   {
    "duration": 30,
    "start_time": "2024-12-13T20:10:01.393Z"
   },
   {
    "duration": 29,
    "start_time": "2024-12-13T20:10:01.424Z"
   },
   {
    "duration": 55,
    "start_time": "2024-12-13T20:10:01.455Z"
   },
   {
    "duration": 142,
    "start_time": "2024-12-13T20:10:01.511Z"
   },
   {
    "duration": 18,
    "start_time": "2024-12-13T20:10:01.655Z"
   },
   {
    "duration": 6,
    "start_time": "2024-12-13T20:10:01.677Z"
   },
   {
    "duration": 54,
    "start_time": "2024-12-15T11:55:42.548Z"
   },
   {
    "duration": 7,
    "start_time": "2024-12-15T11:55:46.198Z"
   },
   {
    "duration": 454,
    "start_time": "2024-12-15T11:55:51.510Z"
   },
   {
    "duration": 143,
    "start_time": "2024-12-15T11:55:51.966Z"
   },
   {
    "duration": 22,
    "start_time": "2024-12-15T11:55:52.112Z"
   },
   {
    "duration": 27,
    "start_time": "2024-12-15T11:55:52.135Z"
   },
   {
    "duration": 20,
    "start_time": "2024-12-15T11:55:52.164Z"
   },
   {
    "duration": 19,
    "start_time": "2024-12-15T11:55:52.185Z"
   },
   {
    "duration": 11,
    "start_time": "2024-12-15T11:55:52.205Z"
   },
   {
    "duration": 18,
    "start_time": "2024-12-15T11:55:52.218Z"
   },
   {
    "duration": 29,
    "start_time": "2024-12-15T11:55:52.238Z"
   },
   {
    "duration": 18,
    "start_time": "2024-12-15T11:55:52.269Z"
   },
   {
    "duration": 17,
    "start_time": "2024-12-15T11:55:52.288Z"
   },
   {
    "duration": 23,
    "start_time": "2024-12-15T11:55:52.306Z"
   },
   {
    "duration": 15,
    "start_time": "2024-12-15T11:55:52.331Z"
   },
   {
    "duration": 14,
    "start_time": "2024-12-15T11:55:52.349Z"
   },
   {
    "duration": 206,
    "start_time": "2024-12-15T11:55:52.365Z"
   },
   {
    "duration": 179,
    "start_time": "2024-12-15T11:55:52.572Z"
   },
   {
    "duration": 4,
    "start_time": "2024-12-15T11:55:52.753Z"
   },
   {
    "duration": 12,
    "start_time": "2024-12-15T11:55:52.758Z"
   },
   {
    "duration": 19,
    "start_time": "2024-12-15T11:55:52.771Z"
   },
   {
    "duration": 7,
    "start_time": "2024-12-15T11:55:52.791Z"
   },
   {
    "duration": 11,
    "start_time": "2024-12-15T11:55:52.799Z"
   },
   {
    "duration": 19,
    "start_time": "2024-12-15T11:55:52.811Z"
   },
   {
    "duration": 13,
    "start_time": "2024-12-15T11:55:52.832Z"
   },
   {
    "duration": 7,
    "start_time": "2024-12-15T11:55:52.847Z"
   },
   {
    "duration": 22,
    "start_time": "2024-12-15T11:55:52.855Z"
   },
   {
    "duration": 6,
    "start_time": "2024-12-15T11:55:52.879Z"
   },
   {
    "duration": 6,
    "start_time": "2024-12-15T11:55:52.887Z"
   },
   {
    "duration": 9,
    "start_time": "2024-12-15T11:55:52.894Z"
   },
   {
    "duration": 32,
    "start_time": "2024-12-15T11:55:52.904Z"
   },
   {
    "duration": 10,
    "start_time": "2024-12-15T11:55:52.938Z"
   },
   {
    "duration": 21,
    "start_time": "2024-12-15T11:55:52.949Z"
   },
   {
    "duration": 19,
    "start_time": "2024-12-15T11:55:52.972Z"
   },
   {
    "duration": 4,
    "start_time": "2024-12-15T11:55:52.993Z"
   },
   {
    "duration": 38,
    "start_time": "2024-12-15T11:55:53.000Z"
   },
   {
    "duration": 33,
    "start_time": "2024-12-15T11:55:53.040Z"
   },
   {
    "duration": 5,
    "start_time": "2024-12-15T11:55:53.075Z"
   },
   {
    "duration": 15,
    "start_time": "2024-12-15T11:55:53.082Z"
   },
   {
    "duration": 18,
    "start_time": "2024-12-15T11:55:53.099Z"
   },
   {
    "duration": 147,
    "start_time": "2024-12-15T11:55:53.119Z"
   },
   {
    "duration": 23,
    "start_time": "2024-12-15T11:55:53.268Z"
   },
   {
    "duration": 159,
    "start_time": "2024-12-15T11:55:53.296Z"
   },
   {
    "duration": 24,
    "start_time": "2024-12-15T11:55:53.457Z"
   },
   {
    "duration": 56,
    "start_time": "2024-12-15T12:00:48.808Z"
   },
   {
    "duration": 62,
    "start_time": "2024-12-15T12:00:55.899Z"
   },
   {
    "duration": 198,
    "start_time": "2024-12-15T12:04:38.839Z"
   },
   {
    "duration": 71,
    "start_time": "2024-12-15T12:05:16.497Z"
   },
   {
    "duration": 192,
    "start_time": "2024-12-15T12:05:22.279Z"
   },
   {
    "duration": 17,
    "start_time": "2024-12-15T12:11:46.619Z"
   },
   {
    "duration": 10,
    "start_time": "2024-12-15T12:12:15.778Z"
   },
   {
    "duration": 9,
    "start_time": "2024-12-15T12:12:44.659Z"
   },
   {
    "duration": 14,
    "start_time": "2024-12-15T12:13:12.668Z"
   },
   {
    "duration": 8,
    "start_time": "2024-12-15T12:17:25.258Z"
   },
   {
    "duration": 14,
    "start_time": "2024-12-15T12:18:23.388Z"
   },
   {
    "duration": 10,
    "start_time": "2024-12-15T12:18:50.888Z"
   },
   {
    "duration": 10,
    "start_time": "2024-12-15T12:19:37.878Z"
   },
   {
    "duration": 16,
    "start_time": "2024-12-15T12:20:28.707Z"
   },
   {
    "duration": 10,
    "start_time": "2024-12-15T12:20:40.388Z"
   },
   {
    "duration": 15,
    "start_time": "2024-12-15T12:21:04.087Z"
   },
   {
    "duration": 26,
    "start_time": "2024-12-15T12:21:10.708Z"
   },
   {
    "duration": 10,
    "start_time": "2024-12-15T12:22:55.257Z"
   },
   {
    "duration": 27,
    "start_time": "2024-12-15T12:23:41.828Z"
   },
   {
    "duration": 443,
    "start_time": "2024-12-15T12:28:41.710Z"
   },
   {
    "duration": 120,
    "start_time": "2024-12-15T12:28:42.156Z"
   },
   {
    "duration": 23,
    "start_time": "2024-12-15T12:28:42.278Z"
   },
   {
    "duration": 30,
    "start_time": "2024-12-15T12:28:42.302Z"
   },
   {
    "duration": 5,
    "start_time": "2024-12-15T12:28:42.334Z"
   },
   {
    "duration": 7,
    "start_time": "2024-12-15T12:28:42.340Z"
   },
   {
    "duration": 5,
    "start_time": "2024-12-15T12:28:42.349Z"
   },
   {
    "duration": 14,
    "start_time": "2024-12-15T12:28:42.355Z"
   },
   {
    "duration": 22,
    "start_time": "2024-12-15T12:28:42.371Z"
   },
   {
    "duration": 6,
    "start_time": "2024-12-15T12:28:42.395Z"
   },
   {
    "duration": 40,
    "start_time": "2024-12-15T12:28:42.402Z"
   },
   {
    "duration": 10,
    "start_time": "2024-12-15T12:28:42.444Z"
   },
   {
    "duration": 34,
    "start_time": "2024-12-15T12:28:42.456Z"
   },
   {
    "duration": 8,
    "start_time": "2024-12-15T12:28:42.494Z"
   },
   {
    "duration": 192,
    "start_time": "2024-12-15T12:28:42.503Z"
   },
   {
    "duration": 184,
    "start_time": "2024-12-15T12:28:42.697Z"
   },
   {
    "duration": 4,
    "start_time": "2024-12-15T12:28:42.882Z"
   },
   {
    "duration": 12,
    "start_time": "2024-12-15T12:28:42.888Z"
   },
   {
    "duration": 20,
    "start_time": "2024-12-15T12:28:42.901Z"
   },
   {
    "duration": 10,
    "start_time": "2024-12-15T12:28:42.923Z"
   },
   {
    "duration": 20,
    "start_time": "2024-12-15T12:28:42.934Z"
   },
   {
    "duration": 11,
    "start_time": "2024-12-15T12:28:42.955Z"
   },
   {
    "duration": 15,
    "start_time": "2024-12-15T12:28:42.968Z"
   },
   {
    "duration": 7,
    "start_time": "2024-12-15T12:28:42.984Z"
   },
   {
    "duration": 6,
    "start_time": "2024-12-15T12:28:42.993Z"
   },
   {
    "duration": 8,
    "start_time": "2024-12-15T12:28:43.000Z"
   },
   {
    "duration": 21,
    "start_time": "2024-12-15T12:28:43.011Z"
   },
   {
    "duration": 15,
    "start_time": "2024-12-15T12:28:43.034Z"
   },
   {
    "duration": 11,
    "start_time": "2024-12-15T12:28:43.051Z"
   },
   {
    "duration": 24,
    "start_time": "2024-12-15T12:28:43.064Z"
   },
   {
    "duration": 21,
    "start_time": "2024-12-15T12:28:43.090Z"
   },
   {
    "duration": 27,
    "start_time": "2024-12-15T12:28:43.113Z"
   },
   {
    "duration": 6,
    "start_time": "2024-12-15T12:28:43.141Z"
   },
   {
    "duration": 23,
    "start_time": "2024-12-15T12:28:43.149Z"
   },
   {
    "duration": 11,
    "start_time": "2024-12-15T12:28:43.173Z"
   },
   {
    "duration": 27,
    "start_time": "2024-12-15T12:28:43.185Z"
   },
   {
    "duration": 15,
    "start_time": "2024-12-15T12:28:43.214Z"
   },
   {
    "duration": 18,
    "start_time": "2024-12-15T12:28:43.231Z"
   },
   {
    "duration": 161,
    "start_time": "2024-12-15T12:28:43.251Z"
   },
   {
    "duration": 35,
    "start_time": "2024-12-15T12:28:43.414Z"
   },
   {
    "duration": 150,
    "start_time": "2024-12-15T12:28:43.454Z"
   },
   {
    "duration": 29,
    "start_time": "2024-12-15T12:28:43.606Z"
   },
   {
    "duration": 16,
    "start_time": "2024-12-15T12:28:43.637Z"
   },
   {
    "duration": 29,
    "start_time": "2024-12-15T12:28:43.654Z"
   },
   {
    "duration": 69,
    "start_time": "2024-12-15T12:29:49.589Z"
   },
   {
    "duration": 7,
    "start_time": "2024-12-15T12:29:56.110Z"
   },
   {
    "duration": 7,
    "start_time": "2024-12-15T12:30:15.829Z"
   },
   {
    "duration": 12,
    "start_time": "2024-12-15T12:30:22.979Z"
   },
   {
    "duration": 8,
    "start_time": "2024-12-15T12:31:32.889Z"
   },
   {
    "duration": 52,
    "start_time": "2024-12-15T12:39:07.057Z"
   },
   {
    "duration": 433,
    "start_time": "2024-12-15T12:39:16.797Z"
   },
   {
    "duration": 97,
    "start_time": "2024-12-15T12:39:17.232Z"
   },
   {
    "duration": 24,
    "start_time": "2024-12-15T12:39:17.330Z"
   },
   {
    "duration": 18,
    "start_time": "2024-12-15T12:39:17.356Z"
   },
   {
    "duration": 4,
    "start_time": "2024-12-15T12:39:17.375Z"
   },
   {
    "duration": 5,
    "start_time": "2024-12-15T12:39:17.381Z"
   },
   {
    "duration": 9,
    "start_time": "2024-12-15T12:39:17.387Z"
   },
   {
    "duration": 34,
    "start_time": "2024-12-15T12:39:17.397Z"
   },
   {
    "duration": 19,
    "start_time": "2024-12-15T12:39:17.433Z"
   },
   {
    "duration": 6,
    "start_time": "2024-12-15T12:39:17.455Z"
   },
   {
    "duration": 25,
    "start_time": "2024-12-15T12:39:17.462Z"
   },
   {
    "duration": 34,
    "start_time": "2024-12-15T12:39:17.488Z"
   },
   {
    "duration": 12,
    "start_time": "2024-12-15T12:39:17.524Z"
   },
   {
    "duration": 10,
    "start_time": "2024-12-15T12:39:17.538Z"
   },
   {
    "duration": 208,
    "start_time": "2024-12-15T12:39:17.549Z"
   },
   {
    "duration": 186,
    "start_time": "2024-12-15T12:39:17.759Z"
   },
   {
    "duration": 4,
    "start_time": "2024-12-15T12:39:17.947Z"
   },
   {
    "duration": 8,
    "start_time": "2024-12-15T12:39:17.952Z"
   },
   {
    "duration": 3,
    "start_time": "2024-12-15T12:39:17.962Z"
   },
   {
    "duration": 4,
    "start_time": "2024-12-15T12:39:17.966Z"
   },
   {
    "duration": 11,
    "start_time": "2024-12-15T12:39:17.972Z"
   },
   {
    "duration": 4,
    "start_time": "2024-12-15T12:39:17.984Z"
   },
   {
    "duration": 11,
    "start_time": "2024-12-15T12:39:17.989Z"
   },
   {
    "duration": 30,
    "start_time": "2024-12-15T12:39:18.001Z"
   },
   {
    "duration": 6,
    "start_time": "2024-12-15T12:39:18.032Z"
   },
   {
    "duration": 21,
    "start_time": "2024-12-15T12:39:18.040Z"
   },
   {
    "duration": 4,
    "start_time": "2024-12-15T12:39:18.063Z"
   },
   {
    "duration": 8,
    "start_time": "2024-12-15T12:39:18.072Z"
   },
   {
    "duration": 9,
    "start_time": "2024-12-15T12:39:18.082Z"
   },
   {
    "duration": 39,
    "start_time": "2024-12-15T12:39:18.093Z"
   },
   {
    "duration": 10,
    "start_time": "2024-12-15T12:39:18.134Z"
   },
   {
    "duration": 15,
    "start_time": "2024-12-15T12:39:18.145Z"
   },
   {
    "duration": 4,
    "start_time": "2024-12-15T12:39:18.161Z"
   },
   {
    "duration": 19,
    "start_time": "2024-12-15T12:39:18.167Z"
   },
   {
    "duration": 4,
    "start_time": "2024-12-15T12:39:18.188Z"
   },
   {
    "duration": 38,
    "start_time": "2024-12-15T12:39:18.194Z"
   },
   {
    "duration": 12,
    "start_time": "2024-12-15T12:39:18.234Z"
   },
   {
    "duration": 18,
    "start_time": "2024-12-15T12:39:18.248Z"
   },
   {
    "duration": 163,
    "start_time": "2024-12-15T12:39:18.268Z"
   },
   {
    "duration": 21,
    "start_time": "2024-12-15T12:39:18.433Z"
   },
   {
    "duration": 157,
    "start_time": "2024-12-15T12:39:18.455Z"
   },
   {
    "duration": 33,
    "start_time": "2024-12-15T12:39:18.614Z"
   },
   {
    "duration": 17,
    "start_time": "2024-12-15T12:39:18.650Z"
   },
   {
    "duration": 13,
    "start_time": "2024-12-15T12:39:18.670Z"
   },
   {
    "duration": 12,
    "start_time": "2024-12-15T12:39:18.685Z"
   },
   {
    "duration": 7,
    "start_time": "2024-12-15T12:46:49.690Z"
   },
   {
    "duration": 395,
    "start_time": "2024-12-15T14:50:06.938Z"
   },
   {
    "duration": 100,
    "start_time": "2024-12-15T14:50:07.334Z"
   },
   {
    "duration": 24,
    "start_time": "2024-12-15T14:50:07.436Z"
   },
   {
    "duration": 34,
    "start_time": "2024-12-15T14:50:07.462Z"
   },
   {
    "duration": 10,
    "start_time": "2024-12-15T14:50:07.499Z"
   },
   {
    "duration": 21,
    "start_time": "2024-12-15T14:50:07.511Z"
   },
   {
    "duration": 48,
    "start_time": "2024-12-15T14:50:07.535Z"
   },
   {
    "duration": 26,
    "start_time": "2024-12-15T14:50:07.585Z"
   },
   {
    "duration": 21,
    "start_time": "2024-12-15T14:50:07.613Z"
   },
   {
    "duration": 6,
    "start_time": "2024-12-15T14:50:07.636Z"
   },
   {
    "duration": 45,
    "start_time": "2024-12-15T14:50:07.643Z"
   },
   {
    "duration": 52,
    "start_time": "2024-12-15T14:50:07.690Z"
   },
   {
    "duration": 36,
    "start_time": "2024-12-15T14:50:07.744Z"
   },
   {
    "duration": 42,
    "start_time": "2024-12-15T14:50:07.785Z"
   },
   {
    "duration": 201,
    "start_time": "2024-12-15T14:50:07.829Z"
   },
   {
    "duration": 176,
    "start_time": "2024-12-15T14:50:08.032Z"
   },
   {
    "duration": 4,
    "start_time": "2024-12-15T14:50:08.210Z"
   },
   {
    "duration": 33,
    "start_time": "2024-12-15T14:50:08.216Z"
   },
   {
    "duration": 9,
    "start_time": "2024-12-15T14:50:08.251Z"
   },
   {
    "duration": 26,
    "start_time": "2024-12-15T14:50:08.261Z"
   },
   {
    "duration": 23,
    "start_time": "2024-12-15T14:50:08.289Z"
   },
   {
    "duration": 10,
    "start_time": "2024-12-15T14:50:08.313Z"
   },
   {
    "duration": 9,
    "start_time": "2024-12-15T14:50:08.325Z"
   },
   {
    "duration": 4,
    "start_time": "2024-12-15T14:50:08.336Z"
   },
   {
    "duration": 8,
    "start_time": "2024-12-15T14:50:08.342Z"
   },
   {
    "duration": 8,
    "start_time": "2024-12-15T14:50:08.352Z"
   },
   {
    "duration": 4,
    "start_time": "2024-12-15T14:50:08.362Z"
   },
   {
    "duration": 28,
    "start_time": "2024-12-15T14:50:08.368Z"
   },
   {
    "duration": 29,
    "start_time": "2024-12-15T14:50:08.399Z"
   },
   {
    "duration": 42,
    "start_time": "2024-12-15T14:50:08.430Z"
   },
   {
    "duration": 55,
    "start_time": "2024-12-15T14:50:08.474Z"
   },
   {
    "duration": 23,
    "start_time": "2024-12-15T14:50:08.531Z"
   },
   {
    "duration": 4,
    "start_time": "2024-12-15T14:50:08.556Z"
   },
   {
    "duration": 26,
    "start_time": "2024-12-15T14:50:08.561Z"
   },
   {
    "duration": 6,
    "start_time": "2024-12-15T14:50:08.588Z"
   },
   {
    "duration": 19,
    "start_time": "2024-12-15T14:50:08.597Z"
   },
   {
    "duration": 5,
    "start_time": "2024-12-15T14:50:08.618Z"
   },
   {
    "duration": 18,
    "start_time": "2024-12-15T14:50:08.624Z"
   },
   {
    "duration": 149,
    "start_time": "2024-12-15T14:50:08.643Z"
   },
   {
    "duration": 30,
    "start_time": "2024-12-15T14:50:08.794Z"
   },
   {
    "duration": 142,
    "start_time": "2024-12-15T14:50:08.827Z"
   },
   {
    "duration": 21,
    "start_time": "2024-12-15T14:50:08.970Z"
   },
   {
    "duration": 34,
    "start_time": "2024-12-15T14:50:08.993Z"
   },
   {
    "duration": 7,
    "start_time": "2024-12-15T14:50:09.028Z"
   },
   {
    "duration": 13,
    "start_time": "2024-12-15T14:50:09.037Z"
   },
   {
    "duration": 3,
    "start_time": "2024-12-15T15:00:32.861Z"
   },
   {
    "duration": 136,
    "start_time": "2024-12-15T15:00:32.866Z"
   },
   {
    "duration": 15,
    "start_time": "2024-12-15T15:00:33.004Z"
   },
   {
    "duration": 38,
    "start_time": "2024-12-15T15:00:33.021Z"
   },
   {
    "duration": 4,
    "start_time": "2024-12-15T15:00:33.062Z"
   },
   {
    "duration": 13,
    "start_time": "2024-12-15T15:00:33.067Z"
   },
   {
    "duration": 8,
    "start_time": "2024-12-15T15:00:33.082Z"
   },
   {
    "duration": 10,
    "start_time": "2024-12-15T15:00:33.091Z"
   },
   {
    "duration": 40,
    "start_time": "2024-12-15T15:00:33.103Z"
   },
   {
    "duration": 18,
    "start_time": "2024-12-15T15:00:33.145Z"
   },
   {
    "duration": 20,
    "start_time": "2024-12-15T15:00:33.164Z"
   },
   {
    "duration": 15,
    "start_time": "2024-12-15T15:00:33.186Z"
   },
   {
    "duration": 44,
    "start_time": "2024-12-15T15:00:33.203Z"
   },
   {
    "duration": 27,
    "start_time": "2024-12-15T15:00:33.250Z"
   },
   {
    "duration": 169,
    "start_time": "2024-12-15T15:00:33.279Z"
   },
   {
    "duration": 172,
    "start_time": "2024-12-15T15:00:33.450Z"
   },
   {
    "duration": 4,
    "start_time": "2024-12-15T15:00:33.623Z"
   },
   {
    "duration": 34,
    "start_time": "2024-12-15T15:00:33.628Z"
   },
   {
    "duration": 8,
    "start_time": "2024-12-15T15:00:33.664Z"
   },
   {
    "duration": 6,
    "start_time": "2024-12-15T15:00:33.674Z"
   },
   {
    "duration": 10,
    "start_time": "2024-12-15T15:00:33.682Z"
   },
   {
    "duration": 13,
    "start_time": "2024-12-15T15:00:33.694Z"
   },
   {
    "duration": 14,
    "start_time": "2024-12-15T15:00:33.708Z"
   },
   {
    "duration": 33,
    "start_time": "2024-12-15T15:00:33.724Z"
   },
   {
    "duration": 6,
    "start_time": "2024-12-15T15:00:33.759Z"
   },
   {
    "duration": 13,
    "start_time": "2024-12-15T15:00:33.767Z"
   },
   {
    "duration": 10,
    "start_time": "2024-12-15T15:00:33.782Z"
   },
   {
    "duration": 10,
    "start_time": "2024-12-15T15:00:33.794Z"
   },
   {
    "duration": 18,
    "start_time": "2024-12-15T15:00:33.805Z"
   },
   {
    "duration": 44,
    "start_time": "2024-12-15T15:00:33.824Z"
   },
   {
    "duration": 18,
    "start_time": "2024-12-15T15:00:33.870Z"
   },
   {
    "duration": 25,
    "start_time": "2024-12-15T15:00:33.890Z"
   },
   {
    "duration": 6,
    "start_time": "2024-12-15T15:00:33.917Z"
   },
   {
    "duration": 63,
    "start_time": "2024-12-15T15:00:33.925Z"
   },
   {
    "duration": 4,
    "start_time": "2024-12-15T15:00:33.990Z"
   },
   {
    "duration": 47,
    "start_time": "2024-12-15T15:00:33.995Z"
   },
   {
    "duration": 36,
    "start_time": "2024-12-15T15:00:34.044Z"
   },
   {
    "duration": 51,
    "start_time": "2024-12-15T15:00:34.081Z"
   },
   {
    "duration": 137,
    "start_time": "2024-12-15T15:00:34.133Z"
   },
   {
    "duration": 20,
    "start_time": "2024-12-15T15:00:34.272Z"
   },
   {
    "duration": 146,
    "start_time": "2024-12-15T15:00:34.296Z"
   },
   {
    "duration": 21,
    "start_time": "2024-12-15T15:00:34.443Z"
   },
   {
    "duration": 23,
    "start_time": "2024-12-15T15:00:34.466Z"
   },
   {
    "duration": 25,
    "start_time": "2024-12-15T15:00:34.490Z"
   },
   {
    "duration": 10,
    "start_time": "2024-12-15T15:00:34.517Z"
   },
   {
    "duration": 3,
    "start_time": "2024-12-15T15:06:42.973Z"
   },
   {
    "duration": 167,
    "start_time": "2024-12-15T15:06:42.978Z"
   },
   {
    "duration": 15,
    "start_time": "2024-12-15T15:06:43.147Z"
   },
   {
    "duration": 26,
    "start_time": "2024-12-15T15:06:43.165Z"
   },
   {
    "duration": 21,
    "start_time": "2024-12-15T15:06:43.194Z"
   },
   {
    "duration": 5,
    "start_time": "2024-12-15T15:06:43.216Z"
   },
   {
    "duration": 5,
    "start_time": "2024-12-15T15:06:43.223Z"
   },
   {
    "duration": 5,
    "start_time": "2024-12-15T15:06:43.230Z"
   },
   {
    "duration": 20,
    "start_time": "2024-12-15T15:06:43.236Z"
   },
   {
    "duration": 6,
    "start_time": "2024-12-15T15:06:43.258Z"
   },
   {
    "duration": 50,
    "start_time": "2024-12-15T15:06:43.265Z"
   },
   {
    "duration": 10,
    "start_time": "2024-12-15T15:06:43.317Z"
   },
   {
    "duration": 12,
    "start_time": "2024-12-15T15:06:43.329Z"
   },
   {
    "duration": 9,
    "start_time": "2024-12-15T15:06:43.344Z"
   },
   {
    "duration": 199,
    "start_time": "2024-12-15T15:06:43.355Z"
   },
   {
    "duration": 177,
    "start_time": "2024-12-15T15:06:43.556Z"
   },
   {
    "duration": 5,
    "start_time": "2024-12-15T15:06:43.735Z"
   },
   {
    "duration": 6,
    "start_time": "2024-12-15T15:06:43.741Z"
   },
   {
    "duration": 5,
    "start_time": "2024-12-15T15:06:43.749Z"
   },
   {
    "duration": 9,
    "start_time": "2024-12-15T15:06:43.756Z"
   },
   {
    "duration": 13,
    "start_time": "2024-12-15T15:06:43.767Z"
   },
   {
    "duration": 6,
    "start_time": "2024-12-15T15:06:43.782Z"
   },
   {
    "duration": 37,
    "start_time": "2024-12-15T15:06:43.789Z"
   },
   {
    "duration": 6,
    "start_time": "2024-12-15T15:06:43.828Z"
   },
   {
    "duration": 14,
    "start_time": "2024-12-15T15:06:43.836Z"
   },
   {
    "duration": 6,
    "start_time": "2024-12-15T15:06:43.852Z"
   },
   {
    "duration": 17,
    "start_time": "2024-12-15T15:06:43.859Z"
   },
   {
    "duration": 19,
    "start_time": "2024-12-15T15:06:43.877Z"
   },
   {
    "duration": 17,
    "start_time": "2024-12-15T15:06:43.898Z"
   },
   {
    "duration": 10,
    "start_time": "2024-12-15T15:06:43.916Z"
   },
   {
    "duration": 9,
    "start_time": "2024-12-15T15:06:43.928Z"
   },
   {
    "duration": 17,
    "start_time": "2024-12-15T15:06:43.939Z"
   },
   {
    "duration": 4,
    "start_time": "2024-12-15T15:06:43.957Z"
   },
   {
    "duration": 18,
    "start_time": "2024-12-15T15:06:43.963Z"
   },
   {
    "duration": 33,
    "start_time": "2024-12-15T15:06:43.983Z"
   },
   {
    "duration": 13,
    "start_time": "2024-12-15T15:06:44.018Z"
   },
   {
    "duration": 5,
    "start_time": "2024-12-15T15:06:44.032Z"
   },
   {
    "duration": 17,
    "start_time": "2024-12-15T15:06:44.039Z"
   },
   {
    "duration": 157,
    "start_time": "2024-12-15T15:06:44.057Z"
   },
   {
    "duration": 22,
    "start_time": "2024-12-15T15:06:44.216Z"
   },
   {
    "duration": 177,
    "start_time": "2024-12-15T15:06:44.241Z"
   },
   {
    "duration": 22,
    "start_time": "2024-12-15T15:06:44.419Z"
   },
   {
    "duration": 23,
    "start_time": "2024-12-15T15:06:44.443Z"
   },
   {
    "duration": 8,
    "start_time": "2024-12-15T15:06:44.468Z"
   },
   {
    "duration": 41,
    "start_time": "2024-12-15T15:06:44.479Z"
   },
   {
    "duration": 395,
    "start_time": "2024-12-15T15:07:13.128Z"
   },
   {
    "duration": 147,
    "start_time": "2024-12-15T15:07:14.652Z"
   },
   {
    "duration": 22,
    "start_time": "2024-12-15T15:07:18.284Z"
   },
   {
    "duration": 16,
    "start_time": "2024-12-15T15:07:20.244Z"
   },
   {
    "duration": 4,
    "start_time": "2024-12-15T15:07:21.963Z"
   },
   {
    "duration": 4,
    "start_time": "2024-12-15T15:07:27.121Z"
   },
   {
    "duration": 4,
    "start_time": "2024-12-15T15:07:28.262Z"
   },
   {
    "duration": 5,
    "start_time": "2024-12-15T15:07:28.990Z"
   },
   {
    "duration": 19,
    "start_time": "2024-12-15T15:07:31.901Z"
   },
   {
    "duration": 6,
    "start_time": "2024-12-15T15:07:34.141Z"
   },
   {
    "duration": 15,
    "start_time": "2024-12-15T15:07:34.803Z"
   },
   {
    "duration": 12,
    "start_time": "2024-12-15T15:07:37.851Z"
   },
   {
    "duration": 12,
    "start_time": "2024-12-15T15:07:38.653Z"
   },
   {
    "duration": 9,
    "start_time": "2024-12-15T15:07:42.281Z"
   },
   {
    "duration": 174,
    "start_time": "2024-12-15T15:07:42.842Z"
   },
   {
    "duration": 168,
    "start_time": "2024-12-15T15:07:43.452Z"
   },
   {
    "duration": 4,
    "start_time": "2024-12-15T15:07:44.012Z"
   },
   {
    "duration": 4,
    "start_time": "2024-12-15T15:07:44.592Z"
   },
   {
    "duration": 4,
    "start_time": "2024-12-15T15:07:47.591Z"
   },
   {
    "duration": 5,
    "start_time": "2024-12-15T15:07:48.152Z"
   },
   {
    "duration": 9,
    "start_time": "2024-12-15T15:07:48.812Z"
   },
   {
    "duration": 4,
    "start_time": "2024-12-15T15:07:49.923Z"
   },
   {
    "duration": 5,
    "start_time": "2024-12-15T15:07:52.964Z"
   },
   {
    "duration": 4,
    "start_time": "2024-12-15T15:07:53.542Z"
   },
   {
    "duration": 6,
    "start_time": "2024-12-15T15:07:54.171Z"
   },
   {
    "duration": 7,
    "start_time": "2024-12-15T15:07:54.834Z"
   },
   {
    "duration": 4,
    "start_time": "2024-12-15T15:07:57.463Z"
   },
   {
    "duration": 8,
    "start_time": "2024-12-15T15:08:00.153Z"
   },
   {
    "duration": 10,
    "start_time": "2024-12-15T15:08:00.592Z"
   },
   {
    "duration": 10,
    "start_time": "2024-12-15T15:08:01.053Z"
   },
   {
    "duration": 10,
    "start_time": "2024-12-15T15:08:01.523Z"
   },
   {
    "duration": 15,
    "start_time": "2024-12-15T15:08:05.101Z"
   },
   {
    "duration": 4,
    "start_time": "2024-12-15T15:08:05.792Z"
   },
   {
    "duration": 15,
    "start_time": "2024-12-15T15:08:07.912Z"
   },
   {
    "duration": 3,
    "start_time": "2024-12-15T15:08:10.031Z"
   },
   {
    "duration": 4,
    "start_time": "2024-12-15T15:08:12.991Z"
   },
   {
    "duration": 4,
    "start_time": "2024-12-15T15:08:13.522Z"
   },
   {
    "duration": 16,
    "start_time": "2024-12-15T15:08:16.864Z"
   },
   {
    "duration": 128,
    "start_time": "2024-12-15T15:08:19.542Z"
   },
   {
    "duration": 21,
    "start_time": "2024-12-15T15:08:20.454Z"
   },
   {
    "duration": 134,
    "start_time": "2024-12-15T15:08:24.472Z"
   },
   {
    "duration": 22,
    "start_time": "2024-12-15T15:08:25.414Z"
   },
   {
    "duration": 16,
    "start_time": "2024-12-15T15:08:28.301Z"
   },
   {
    "duration": 7,
    "start_time": "2024-12-15T15:08:30.950Z"
   },
   {
    "duration": 8,
    "start_time": "2024-12-15T15:08:31.624Z"
   },
   {
    "duration": 3,
    "start_time": "2024-12-15T15:08:42.422Z"
   },
   {
    "duration": 99,
    "start_time": "2024-12-15T15:08:42.427Z"
   },
   {
    "duration": 17,
    "start_time": "2024-12-15T15:08:42.527Z"
   },
   {
    "duration": 28,
    "start_time": "2024-12-15T15:08:42.546Z"
   },
   {
    "duration": 4,
    "start_time": "2024-12-15T15:08:42.576Z"
   },
   {
    "duration": 5,
    "start_time": "2024-12-15T15:08:42.582Z"
   },
   {
    "duration": 6,
    "start_time": "2024-12-15T15:08:42.589Z"
   },
   {
    "duration": 21,
    "start_time": "2024-12-15T15:08:42.597Z"
   },
   {
    "duration": 20,
    "start_time": "2024-12-15T15:08:42.619Z"
   },
   {
    "duration": 5,
    "start_time": "2024-12-15T15:08:42.640Z"
   },
   {
    "duration": 18,
    "start_time": "2024-12-15T15:08:42.647Z"
   },
   {
    "duration": 10,
    "start_time": "2024-12-15T15:08:42.666Z"
   },
   {
    "duration": 38,
    "start_time": "2024-12-15T15:08:42.677Z"
   },
   {
    "duration": 8,
    "start_time": "2024-12-15T15:08:42.719Z"
   },
   {
    "duration": 188,
    "start_time": "2024-12-15T15:08:42.729Z"
   },
   {
    "duration": 191,
    "start_time": "2024-12-15T15:08:42.918Z"
   },
   {
    "duration": 5,
    "start_time": "2024-12-15T15:08:43.111Z"
   },
   {
    "duration": 17,
    "start_time": "2024-12-15T15:08:43.117Z"
   },
   {
    "duration": 16,
    "start_time": "2024-12-15T15:08:43.135Z"
   },
   {
    "duration": 18,
    "start_time": "2024-12-15T15:08:43.152Z"
   },
   {
    "duration": 16,
    "start_time": "2024-12-15T15:08:43.172Z"
   },
   {
    "duration": 7,
    "start_time": "2024-12-15T15:08:43.190Z"
   },
   {
    "duration": 26,
    "start_time": "2024-12-15T15:08:43.198Z"
   },
   {
    "duration": 6,
    "start_time": "2024-12-15T15:08:43.225Z"
   },
   {
    "duration": 15,
    "start_time": "2024-12-15T15:08:43.232Z"
   },
   {
    "duration": 9,
    "start_time": "2024-12-15T15:08:43.249Z"
   },
   {
    "duration": 3,
    "start_time": "2024-12-15T15:08:43.260Z"
   },
   {
    "duration": 9,
    "start_time": "2024-12-15T15:08:43.265Z"
   },
   {
    "duration": 11,
    "start_time": "2024-12-15T15:08:43.276Z"
   },
   {
    "duration": 26,
    "start_time": "2024-12-15T15:08:43.289Z"
   },
   {
    "duration": 20,
    "start_time": "2024-12-15T15:08:43.317Z"
   },
   {
    "duration": 21,
    "start_time": "2024-12-15T15:08:43.339Z"
   },
   {
    "duration": 4,
    "start_time": "2024-12-15T15:08:43.361Z"
   },
   {
    "duration": 25,
    "start_time": "2024-12-15T15:08:43.366Z"
   },
   {
    "duration": 4,
    "start_time": "2024-12-15T15:08:43.392Z"
   },
   {
    "duration": 5,
    "start_time": "2024-12-15T15:08:43.398Z"
   },
   {
    "duration": 4,
    "start_time": "2024-12-15T15:08:43.415Z"
   },
   {
    "duration": 87,
    "start_time": "2024-12-15T15:08:43.420Z"
   },
   {
    "duration": 137,
    "start_time": "2024-12-15T15:08:43.508Z"
   },
   {
    "duration": 21,
    "start_time": "2024-12-15T15:08:43.647Z"
   },
   {
    "duration": 149,
    "start_time": "2024-12-15T15:08:43.672Z"
   },
   {
    "duration": 22,
    "start_time": "2024-12-15T15:08:43.822Z"
   },
   {
    "duration": 16,
    "start_time": "2024-12-15T15:08:43.846Z"
   },
   {
    "duration": 7,
    "start_time": "2024-12-15T15:08:43.864Z"
   },
   {
    "duration": 8,
    "start_time": "2024-12-15T15:08:43.872Z"
   },
   {
    "duration": 407,
    "start_time": "2024-12-15T15:08:58.574Z"
   },
   {
    "duration": 157,
    "start_time": "2024-12-15T15:08:58.983Z"
   },
   {
    "duration": 21,
    "start_time": "2024-12-15T15:08:59.142Z"
   },
   {
    "duration": 40,
    "start_time": "2024-12-15T15:08:59.165Z"
   },
   {
    "duration": 4,
    "start_time": "2024-12-15T15:08:59.209Z"
   },
   {
    "duration": 26,
    "start_time": "2024-12-15T15:08:59.214Z"
   },
   {
    "duration": 22,
    "start_time": "2024-12-15T15:08:59.242Z"
   },
   {
    "duration": 31,
    "start_time": "2024-12-15T15:08:59.266Z"
   },
   {
    "duration": 23,
    "start_time": "2024-12-15T15:08:59.299Z"
   },
   {
    "duration": 6,
    "start_time": "2024-12-15T15:08:59.324Z"
   },
   {
    "duration": 18,
    "start_time": "2024-12-15T15:08:59.332Z"
   },
   {
    "duration": 9,
    "start_time": "2024-12-15T15:08:59.352Z"
   },
   {
    "duration": 23,
    "start_time": "2024-12-15T15:08:59.363Z"
   },
   {
    "duration": 29,
    "start_time": "2024-12-15T15:08:59.390Z"
   },
   {
    "duration": 175,
    "start_time": "2024-12-15T15:08:59.421Z"
   },
   {
    "duration": 168,
    "start_time": "2024-12-15T15:08:59.598Z"
   },
   {
    "duration": 4,
    "start_time": "2024-12-15T15:08:59.767Z"
   },
   {
    "duration": 15,
    "start_time": "2024-12-15T15:08:59.772Z"
   },
   {
    "duration": 10,
    "start_time": "2024-12-15T15:08:59.788Z"
   },
   {
    "duration": 20,
    "start_time": "2024-12-15T15:08:59.799Z"
   },
   {
    "duration": 14,
    "start_time": "2024-12-15T15:08:59.821Z"
   },
   {
    "duration": 4,
    "start_time": "2024-12-15T15:08:59.837Z"
   },
   {
    "duration": 6,
    "start_time": "2024-12-15T15:08:59.842Z"
   },
   {
    "duration": 11,
    "start_time": "2024-12-15T15:08:59.849Z"
   },
   {
    "duration": 6,
    "start_time": "2024-12-15T15:08:59.861Z"
   },
   {
    "duration": 10,
    "start_time": "2024-12-15T15:08:59.868Z"
   },
   {
    "duration": 3,
    "start_time": "2024-12-15T15:08:59.880Z"
   },
   {
    "duration": 33,
    "start_time": "2024-12-15T15:08:59.885Z"
   },
   {
    "duration": 12,
    "start_time": "2024-12-15T15:08:59.920Z"
   },
   {
    "duration": 9,
    "start_time": "2024-12-15T15:08:59.934Z"
   },
   {
    "duration": 16,
    "start_time": "2024-12-15T15:08:59.945Z"
   },
   {
    "duration": 19,
    "start_time": "2024-12-15T15:08:59.962Z"
   },
   {
    "duration": 32,
    "start_time": "2024-12-15T15:08:59.983Z"
   },
   {
    "duration": 18,
    "start_time": "2024-12-15T15:09:00.017Z"
   },
   {
    "duration": 47,
    "start_time": "2024-12-15T15:09:00.037Z"
   },
   {
    "duration": 26,
    "start_time": "2024-12-15T15:09:00.086Z"
   },
   {
    "duration": 24,
    "start_time": "2024-12-15T15:09:00.114Z"
   },
   {
    "duration": 57,
    "start_time": "2024-12-15T15:09:00.140Z"
   },
   {
    "duration": 304,
    "start_time": "2024-12-15T15:09:00.199Z"
   },
   {
    "duration": 156,
    "start_time": "2024-12-15T15:09:00.504Z"
   },
   {
    "duration": 188,
    "start_time": "2024-12-15T15:09:00.664Z"
   },
   {
    "duration": 21,
    "start_time": "2024-12-15T15:09:00.853Z"
   },
   {
    "duration": 103,
    "start_time": "2024-12-15T15:09:00.876Z"
   },
   {
    "duration": 9,
    "start_time": "2024-12-15T15:09:00.980Z"
   },
   {
    "duration": 11,
    "start_time": "2024-12-15T15:09:00.991Z"
   },
   {
    "duration": 3,
    "start_time": "2024-12-15T17:07:42.652Z"
   },
   {
    "duration": 153,
    "start_time": "2024-12-15T17:07:42.658Z"
   },
   {
    "duration": 16,
    "start_time": "2024-12-15T17:07:42.812Z"
   },
   {
    "duration": 16,
    "start_time": "2024-12-15T17:07:42.829Z"
   },
   {
    "duration": 23,
    "start_time": "2024-12-15T17:07:42.847Z"
   },
   {
    "duration": 4,
    "start_time": "2024-12-15T17:07:42.872Z"
   },
   {
    "duration": 5,
    "start_time": "2024-12-15T17:07:42.877Z"
   },
   {
    "duration": 13,
    "start_time": "2024-12-15T17:07:42.883Z"
   },
   {
    "duration": 19,
    "start_time": "2024-12-15T17:07:42.897Z"
   },
   {
    "duration": 18,
    "start_time": "2024-12-15T17:07:42.918Z"
   },
   {
    "duration": 35,
    "start_time": "2024-12-15T17:07:42.937Z"
   },
   {
    "duration": 10,
    "start_time": "2024-12-15T17:07:42.974Z"
   },
   {
    "duration": 10,
    "start_time": "2024-12-15T17:07:42.986Z"
   },
   {
    "duration": 8,
    "start_time": "2024-12-15T17:07:42.999Z"
   },
   {
    "duration": 249,
    "start_time": "2024-12-15T17:07:43.008Z"
   },
   {
    "duration": 194,
    "start_time": "2024-12-15T17:07:43.258Z"
   },
   {
    "duration": 4,
    "start_time": "2024-12-15T17:07:43.453Z"
   },
   {
    "duration": 15,
    "start_time": "2024-12-15T17:07:43.458Z"
   },
   {
    "duration": 11,
    "start_time": "2024-12-15T17:07:43.476Z"
   },
   {
    "duration": 7,
    "start_time": "2024-12-15T17:07:43.489Z"
   },
   {
    "duration": 14,
    "start_time": "2024-12-15T17:07:43.498Z"
   },
   {
    "duration": 4,
    "start_time": "2024-12-15T17:07:43.514Z"
   },
   {
    "duration": 10,
    "start_time": "2024-12-15T17:07:43.519Z"
   },
   {
    "duration": 90,
    "start_time": "2024-12-15T17:07:43.531Z"
   },
   {
    "duration": 7,
    "start_time": "2024-12-15T17:07:43.624Z"
   },
   {
    "duration": 14,
    "start_time": "2024-12-15T17:07:43.632Z"
   },
   {
    "duration": 4,
    "start_time": "2024-12-15T17:07:43.647Z"
   },
   {
    "duration": 10,
    "start_time": "2024-12-15T17:07:43.653Z"
   },
   {
    "duration": 23,
    "start_time": "2024-12-15T17:07:43.665Z"
   },
   {
    "duration": 75,
    "start_time": "2024-12-15T17:07:43.690Z"
   },
   {
    "duration": 16,
    "start_time": "2024-12-15T17:07:43.768Z"
   },
   {
    "duration": 51,
    "start_time": "2024-12-15T17:07:43.786Z"
   },
   {
    "duration": 5,
    "start_time": "2024-12-15T17:07:43.839Z"
   },
   {
    "duration": 23,
    "start_time": "2024-12-15T17:07:43.845Z"
   },
   {
    "duration": 4,
    "start_time": "2024-12-15T17:07:43.869Z"
   },
   {
    "duration": 8,
    "start_time": "2024-12-15T17:07:43.874Z"
   },
   {
    "duration": 5,
    "start_time": "2024-12-15T17:07:43.883Z"
   },
   {
    "duration": 16,
    "start_time": "2024-12-15T17:07:43.889Z"
   },
   {
    "duration": 155,
    "start_time": "2024-12-15T17:07:43.906Z"
   },
   {
    "duration": 29,
    "start_time": "2024-12-15T17:07:44.063Z"
   },
   {
    "duration": 167,
    "start_time": "2024-12-15T17:07:44.098Z"
   },
   {
    "duration": 27,
    "start_time": "2024-12-15T17:07:44.266Z"
   },
   {
    "duration": 17,
    "start_time": "2024-12-15T17:07:44.295Z"
   },
   {
    "duration": 6,
    "start_time": "2024-12-15T17:07:44.314Z"
   },
   {
    "duration": 8,
    "start_time": "2024-12-15T17:07:44.322Z"
   },
   {
    "duration": 50,
    "start_time": "2024-12-16T10:02:15.136Z"
   },
   {
    "duration": 444,
    "start_time": "2024-12-16T10:02:27.118Z"
   },
   {
    "duration": 122,
    "start_time": "2024-12-16T10:02:27.563Z"
   },
   {
    "duration": 23,
    "start_time": "2024-12-16T10:02:27.687Z"
   },
   {
    "duration": 16,
    "start_time": "2024-12-16T10:02:27.712Z"
   },
   {
    "duration": 23,
    "start_time": "2024-12-16T10:02:27.731Z"
   },
   {
    "duration": 4,
    "start_time": "2024-12-16T10:02:27.756Z"
   },
   {
    "duration": 9,
    "start_time": "2024-12-16T10:02:27.762Z"
   },
   {
    "duration": 6,
    "start_time": "2024-12-16T10:02:27.772Z"
   },
   {
    "duration": 19,
    "start_time": "2024-12-16T10:02:27.779Z"
   },
   {
    "duration": 5,
    "start_time": "2024-12-16T10:02:27.799Z"
   },
   {
    "duration": 48,
    "start_time": "2024-12-16T10:02:27.806Z"
   },
   {
    "duration": 14,
    "start_time": "2024-12-16T10:02:27.855Z"
   },
   {
    "duration": 8,
    "start_time": "2024-12-16T10:02:27.871Z"
   },
   {
    "duration": 11,
    "start_time": "2024-12-16T10:02:27.882Z"
   },
   {
    "duration": 10,
    "start_time": "2024-12-16T10:02:27.895Z"
   },
   {
    "duration": 223,
    "start_time": "2024-12-16T10:02:27.906Z"
   },
   {
    "duration": 186,
    "start_time": "2024-12-16T10:02:28.130Z"
   },
   {
    "duration": 4,
    "start_time": "2024-12-16T10:02:28.318Z"
   },
   {
    "duration": 9,
    "start_time": "2024-12-16T10:02:28.323Z"
   },
   {
    "duration": 19,
    "start_time": "2024-12-16T10:02:28.333Z"
   },
   {
    "duration": 23,
    "start_time": "2024-12-16T10:02:28.354Z"
   },
   {
    "duration": 18,
    "start_time": "2024-12-16T10:02:28.379Z"
   },
   {
    "duration": 6,
    "start_time": "2024-12-16T10:02:28.399Z"
   },
   {
    "duration": 8,
    "start_time": "2024-12-16T10:02:28.406Z"
   },
   {
    "duration": 5,
    "start_time": "2024-12-16T10:02:28.415Z"
   },
   {
    "duration": 5,
    "start_time": "2024-12-16T10:02:28.421Z"
   },
   {
    "duration": 6,
    "start_time": "2024-12-16T10:02:28.428Z"
   },
   {
    "duration": 18,
    "start_time": "2024-12-16T10:02:28.435Z"
   },
   {
    "duration": 8,
    "start_time": "2024-12-16T10:02:28.454Z"
   },
   {
    "duration": 24,
    "start_time": "2024-12-16T10:02:28.463Z"
   },
   {
    "duration": 17,
    "start_time": "2024-12-16T10:02:28.488Z"
   },
   {
    "duration": 19,
    "start_time": "2024-12-16T10:02:28.507Z"
   },
   {
    "duration": 46,
    "start_time": "2024-12-16T10:02:28.527Z"
   },
   {
    "duration": 4,
    "start_time": "2024-12-16T10:02:28.574Z"
   },
   {
    "duration": 36,
    "start_time": "2024-12-16T10:02:28.579Z"
   },
   {
    "duration": 3,
    "start_time": "2024-12-16T10:02:28.617Z"
   },
   {
    "duration": 18,
    "start_time": "2024-12-16T10:02:28.622Z"
   },
   {
    "duration": 18,
    "start_time": "2024-12-16T10:02:28.642Z"
   },
   {
    "duration": 18,
    "start_time": "2024-12-16T10:02:28.661Z"
   },
   {
    "duration": 143,
    "start_time": "2024-12-16T10:02:28.680Z"
   },
   {
    "duration": 27,
    "start_time": "2024-12-16T10:02:28.827Z"
   },
   {
    "duration": 162,
    "start_time": "2024-12-16T10:02:28.856Z"
   },
   {
    "duration": 20,
    "start_time": "2024-12-16T10:02:29.019Z"
   },
   {
    "duration": 48,
    "start_time": "2024-12-16T10:02:29.041Z"
   },
   {
    "duration": 7,
    "start_time": "2024-12-16T10:02:29.091Z"
   },
   {
    "duration": 26,
    "start_time": "2024-12-16T10:02:29.100Z"
   },
   {
    "duration": 410,
    "start_time": "2024-12-16T10:16:05.237Z"
   },
   {
    "duration": 127,
    "start_time": "2024-12-16T10:16:05.649Z"
   },
   {
    "duration": 21,
    "start_time": "2024-12-16T10:16:05.779Z"
   },
   {
    "duration": 42,
    "start_time": "2024-12-16T10:16:05.801Z"
   },
   {
    "duration": 6,
    "start_time": "2024-12-16T10:16:05.845Z"
   },
   {
    "duration": 5,
    "start_time": "2024-12-16T10:16:05.852Z"
   },
   {
    "duration": 10,
    "start_time": "2024-12-16T10:16:05.859Z"
   },
   {
    "duration": 46,
    "start_time": "2024-12-16T10:16:05.870Z"
   },
   {
    "duration": 46,
    "start_time": "2024-12-16T10:16:05.917Z"
   },
   {
    "duration": 69,
    "start_time": "2024-12-16T10:16:05.965Z"
   },
   {
    "duration": 20,
    "start_time": "2024-12-16T10:16:06.035Z"
   },
   {
    "duration": 26,
    "start_time": "2024-12-16T10:16:06.056Z"
   },
   {
    "duration": 33,
    "start_time": "2024-12-16T10:16:06.083Z"
   },
   {
    "duration": 175,
    "start_time": "2024-12-16T10:16:06.118Z"
   },
   {
    "duration": 173,
    "start_time": "2024-12-16T10:16:06.294Z"
   },
   {
    "duration": 4,
    "start_time": "2024-12-16T10:16:06.468Z"
   },
   {
    "duration": 25,
    "start_time": "2024-12-16T10:16:06.473Z"
   },
   {
    "duration": 26,
    "start_time": "2024-12-16T10:16:06.500Z"
   },
   {
    "duration": 30,
    "start_time": "2024-12-16T10:16:06.528Z"
   },
   {
    "duration": 36,
    "start_time": "2024-12-16T10:16:06.560Z"
   },
   {
    "duration": 22,
    "start_time": "2024-12-16T10:16:06.597Z"
   },
   {
    "duration": 26,
    "start_time": "2024-12-16T10:16:06.621Z"
   },
   {
    "duration": 16,
    "start_time": "2024-12-16T10:16:06.649Z"
   },
   {
    "duration": 11,
    "start_time": "2024-12-16T10:16:06.666Z"
   },
   {
    "duration": 27,
    "start_time": "2024-12-16T10:16:06.679Z"
   },
   {
    "duration": 21,
    "start_time": "2024-12-16T10:16:06.707Z"
   },
   {
    "duration": 10,
    "start_time": "2024-12-16T10:16:06.730Z"
   },
   {
    "duration": 14,
    "start_time": "2024-12-16T10:16:06.741Z"
   },
   {
    "duration": 28,
    "start_time": "2024-12-16T10:16:06.756Z"
   },
   {
    "duration": 41,
    "start_time": "2024-12-16T10:16:06.785Z"
   },
   {
    "duration": 38,
    "start_time": "2024-12-16T10:16:06.828Z"
   },
   {
    "duration": 11,
    "start_time": "2024-12-16T10:16:06.868Z"
   },
   {
    "duration": 43,
    "start_time": "2024-12-16T10:16:06.881Z"
   },
   {
    "duration": 20,
    "start_time": "2024-12-16T10:16:06.926Z"
   },
   {
    "duration": 23,
    "start_time": "2024-12-16T10:16:06.947Z"
   },
   {
    "duration": 20,
    "start_time": "2024-12-16T10:16:06.971Z"
   },
   {
    "duration": 37,
    "start_time": "2024-12-16T10:16:06.993Z"
   },
   {
    "duration": 150,
    "start_time": "2024-12-16T10:16:07.032Z"
   },
   {
    "duration": 19,
    "start_time": "2024-12-16T10:16:07.184Z"
   },
   {
    "duration": 175,
    "start_time": "2024-12-16T10:16:07.204Z"
   },
   {
    "duration": 19,
    "start_time": "2024-12-16T10:16:07.383Z"
   },
   {
    "duration": 40,
    "start_time": "2024-12-16T10:16:07.403Z"
   },
   {
    "duration": 21,
    "start_time": "2024-12-16T10:16:07.445Z"
   },
   {
    "duration": 33,
    "start_time": "2024-12-16T10:16:07.467Z"
   },
   {
    "duration": 3,
    "start_time": "2024-12-16T10:16:34.469Z"
   },
   {
    "duration": 122,
    "start_time": "2024-12-16T10:16:34.473Z"
   },
   {
    "duration": 46,
    "start_time": "2024-12-16T10:16:34.597Z"
   },
   {
    "duration": 46,
    "start_time": "2024-12-16T10:16:34.644Z"
   },
   {
    "duration": 59,
    "start_time": "2024-12-16T10:16:34.692Z"
   },
   {
    "duration": 45,
    "start_time": "2024-12-16T10:16:34.753Z"
   },
   {
    "duration": 45,
    "start_time": "2024-12-16T10:16:34.799Z"
   },
   {
    "duration": 31,
    "start_time": "2024-12-16T10:16:34.845Z"
   },
   {
    "duration": 91,
    "start_time": "2024-12-16T10:16:34.877Z"
   },
   {
    "duration": 44,
    "start_time": "2024-12-16T10:16:34.970Z"
   },
   {
    "duration": 29,
    "start_time": "2024-12-16T10:16:35.016Z"
   },
   {
    "duration": 24,
    "start_time": "2024-12-16T10:16:35.047Z"
   },
   {
    "duration": 43,
    "start_time": "2024-12-16T10:16:35.074Z"
   },
   {
    "duration": 224,
    "start_time": "2024-12-16T10:16:35.119Z"
   },
   {
    "duration": 171,
    "start_time": "2024-12-16T10:16:35.344Z"
   },
   {
    "duration": 3,
    "start_time": "2024-12-16T10:16:35.517Z"
   },
   {
    "duration": 48,
    "start_time": "2024-12-16T10:16:35.521Z"
   },
   {
    "duration": 48,
    "start_time": "2024-12-16T10:16:35.570Z"
   },
   {
    "duration": 42,
    "start_time": "2024-12-16T10:16:35.619Z"
   },
   {
    "duration": 50,
    "start_time": "2024-12-16T10:16:35.662Z"
   },
   {
    "duration": 46,
    "start_time": "2024-12-16T10:16:35.714Z"
   },
   {
    "duration": 49,
    "start_time": "2024-12-16T10:16:35.762Z"
   },
   {
    "duration": 24,
    "start_time": "2024-12-16T10:16:35.813Z"
   },
   {
    "duration": 51,
    "start_time": "2024-12-16T10:16:35.838Z"
   },
   {
    "duration": 38,
    "start_time": "2024-12-16T10:16:35.891Z"
   },
   {
    "duration": 42,
    "start_time": "2024-12-16T10:16:35.930Z"
   },
   {
    "duration": 39,
    "start_time": "2024-12-16T10:16:35.974Z"
   },
   {
    "duration": 56,
    "start_time": "2024-12-16T10:16:36.015Z"
   },
   {
    "duration": 65,
    "start_time": "2024-12-16T10:16:36.073Z"
   },
   {
    "duration": 54,
    "start_time": "2024-12-16T10:16:36.140Z"
   },
   {
    "duration": 91,
    "start_time": "2024-12-16T10:16:36.195Z"
   },
   {
    "duration": 26,
    "start_time": "2024-12-16T10:16:36.287Z"
   },
   {
    "duration": 43,
    "start_time": "2024-12-16T10:16:36.315Z"
   },
   {
    "duration": 5,
    "start_time": "2024-12-16T10:16:36.360Z"
   },
   {
    "duration": 40,
    "start_time": "2024-12-16T10:16:36.367Z"
   },
   {
    "duration": 94,
    "start_time": "2024-12-16T10:16:36.408Z"
   },
   {
    "duration": 53,
    "start_time": "2024-12-16T10:16:36.506Z"
   },
   {
    "duration": 133,
    "start_time": "2024-12-16T10:16:36.561Z"
   },
   {
    "duration": 18,
    "start_time": "2024-12-16T10:16:36.696Z"
   },
   {
    "duration": 244,
    "start_time": "2024-12-16T10:16:36.715Z"
   },
   {
    "duration": 19,
    "start_time": "2024-12-16T10:16:36.961Z"
   },
   {
    "duration": 43,
    "start_time": "2024-12-16T10:16:36.981Z"
   },
   {
    "duration": 26,
    "start_time": "2024-12-16T10:16:37.026Z"
   },
   {
    "duration": 88,
    "start_time": "2024-12-16T10:16:37.054Z"
   },
   {
    "duration": 435,
    "start_time": "2024-12-16T10:17:02.120Z"
   },
   {
    "duration": 111,
    "start_time": "2024-12-16T10:17:05.220Z"
   },
   {
    "duration": 21,
    "start_time": "2024-12-16T10:17:06.421Z"
   },
   {
    "duration": 15,
    "start_time": "2024-12-16T10:17:07.568Z"
   },
   {
    "duration": 4,
    "start_time": "2024-12-16T10:17:08.179Z"
   },
   {
    "duration": 4,
    "start_time": "2024-12-16T10:17:10.920Z"
   },
   {
    "duration": 4,
    "start_time": "2024-12-16T10:17:11.229Z"
   },
   {
    "duration": 4,
    "start_time": "2024-12-16T10:17:11.920Z"
   },
   {
    "duration": 18,
    "start_time": "2024-12-16T10:17:13.120Z"
   },
   {
    "duration": 13,
    "start_time": "2024-12-16T10:17:13.710Z"
   },
   {
    "duration": 8,
    "start_time": "2024-12-16T10:17:14.590Z"
   },
   {
    "duration": 10,
    "start_time": "2024-12-16T10:17:14.850Z"
   },
   {
    "duration": 8,
    "start_time": "2024-12-16T10:17:17.928Z"
   },
   {
    "duration": 178,
    "start_time": "2024-12-16T10:17:18.328Z"
   },
   {
    "duration": 180,
    "start_time": "2024-12-16T10:17:18.508Z"
   },
   {
    "duration": 3,
    "start_time": "2024-12-16T10:17:18.850Z"
   },
   {
    "duration": 3,
    "start_time": "2024-12-16T10:17:19.248Z"
   },
   {
    "duration": 3,
    "start_time": "2024-12-16T10:17:19.420Z"
   },
   {
    "duration": 4,
    "start_time": "2024-12-16T10:17:19.608Z"
   },
   {
    "duration": 8,
    "start_time": "2024-12-16T10:17:19.971Z"
   },
   {
    "duration": 4,
    "start_time": "2024-12-16T10:17:20.171Z"
   },
   {
    "duration": 5,
    "start_time": "2024-12-16T10:17:20.978Z"
   },
   {
    "duration": 4,
    "start_time": "2024-12-16T10:17:21.180Z"
   },
   {
    "duration": 5,
    "start_time": "2024-12-16T10:17:21.800Z"
   },
   {
    "duration": 6,
    "start_time": "2024-12-16T10:17:22.150Z"
   },
   {
    "duration": 4,
    "start_time": "2024-12-16T10:17:22.350Z"
   },
   {
    "duration": 7,
    "start_time": "2024-12-16T10:17:23.130Z"
   },
   {
    "duration": 8,
    "start_time": "2024-12-16T10:17:23.290Z"
   },
   {
    "duration": 9,
    "start_time": "2024-12-16T10:17:23.498Z"
   },
   {
    "duration": 8,
    "start_time": "2024-12-16T10:17:23.678Z"
   },
   {
    "duration": 15,
    "start_time": "2024-12-16T10:17:24.428Z"
   },
   {
    "duration": 4,
    "start_time": "2024-12-16T10:17:24.600Z"
   },
   {
    "duration": 14,
    "start_time": "2024-12-16T10:17:24.801Z"
   },
   {
    "duration": 4,
    "start_time": "2024-12-16T10:17:24.990Z"
   },
   {
    "duration": 3,
    "start_time": "2024-12-16T10:17:26.701Z"
   },
   {
    "duration": 3,
    "start_time": "2024-12-16T10:17:26.890Z"
   },
   {
    "duration": 14,
    "start_time": "2024-12-16T10:17:28.054Z"
   },
   {
    "duration": 136,
    "start_time": "2024-12-16T10:17:28.463Z"
   },
   {
    "duration": 19,
    "start_time": "2024-12-16T10:17:28.678Z"
   },
   {
    "duration": 141,
    "start_time": "2024-12-16T10:17:29.050Z"
   },
   {
    "duration": 22,
    "start_time": "2024-12-16T10:17:29.262Z"
   },
   {
    "duration": 16,
    "start_time": "2024-12-16T10:17:30.078Z"
   },
   {
    "duration": 7,
    "start_time": "2024-12-16T10:17:30.494Z"
   },
   {
    "duration": 7,
    "start_time": "2024-12-16T10:17:30.659Z"
   },
   {
    "duration": 3,
    "start_time": "2024-12-16T10:18:01.780Z"
   },
   {
    "duration": 206,
    "start_time": "2024-12-16T10:18:01.785Z"
   },
   {
    "duration": 14,
    "start_time": "2024-12-16T10:18:01.993Z"
   },
   {
    "duration": 40,
    "start_time": "2024-12-16T10:18:02.009Z"
   },
   {
    "duration": 34,
    "start_time": "2024-12-16T10:18:02.051Z"
   },
   {
    "duration": 79,
    "start_time": "2024-12-16T10:18:02.087Z"
   },
   {
    "duration": 59,
    "start_time": "2024-12-16T10:18:02.168Z"
   },
   {
    "duration": 21,
    "start_time": "2024-12-16T10:18:02.229Z"
   },
   {
    "duration": 25,
    "start_time": "2024-12-16T10:18:02.252Z"
   },
   {
    "duration": 19,
    "start_time": "2024-12-16T10:18:02.279Z"
   },
   {
    "duration": 28,
    "start_time": "2024-12-16T10:18:02.300Z"
   },
   {
    "duration": 28,
    "start_time": "2024-12-16T10:18:02.330Z"
   },
   {
    "duration": 8,
    "start_time": "2024-12-16T10:18:02.361Z"
   },
   {
    "duration": 187,
    "start_time": "2024-12-16T10:18:02.370Z"
   },
   {
    "duration": 178,
    "start_time": "2024-12-16T10:18:02.558Z"
   },
   {
    "duration": 3,
    "start_time": "2024-12-16T10:18:02.738Z"
   },
   {
    "duration": 38,
    "start_time": "2024-12-16T10:18:02.754Z"
   },
   {
    "duration": 36,
    "start_time": "2024-12-16T10:18:02.793Z"
   },
   {
    "duration": 31,
    "start_time": "2024-12-16T10:18:02.830Z"
   },
   {
    "duration": 52,
    "start_time": "2024-12-16T10:18:02.862Z"
   },
   {
    "duration": 36,
    "start_time": "2024-12-16T10:18:02.915Z"
   },
   {
    "duration": 13,
    "start_time": "2024-12-16T10:18:02.953Z"
   },
   {
    "duration": 39,
    "start_time": "2024-12-16T10:18:02.967Z"
   },
   {
    "duration": 15,
    "start_time": "2024-12-16T10:18:03.007Z"
   },
   {
    "duration": 9,
    "start_time": "2024-12-16T10:18:03.024Z"
   },
   {
    "duration": 14,
    "start_time": "2024-12-16T10:18:03.035Z"
   },
   {
    "duration": 11,
    "start_time": "2024-12-16T10:18:03.051Z"
   },
   {
    "duration": 20,
    "start_time": "2024-12-16T10:18:03.063Z"
   },
   {
    "duration": 74,
    "start_time": "2024-12-16T10:18:03.085Z"
   },
   {
    "duration": 16,
    "start_time": "2024-12-16T10:18:03.160Z"
   },
   {
    "duration": 85,
    "start_time": "2024-12-16T10:18:03.177Z"
   },
   {
    "duration": 4,
    "start_time": "2024-12-16T10:18:03.263Z"
   },
   {
    "duration": 46,
    "start_time": "2024-12-16T10:18:03.268Z"
   },
   {
    "duration": 15,
    "start_time": "2024-12-16T10:18:03.315Z"
   },
   {
    "duration": 25,
    "start_time": "2024-12-16T10:18:03.331Z"
   },
   {
    "duration": 37,
    "start_time": "2024-12-16T10:18:03.358Z"
   },
   {
    "duration": 36,
    "start_time": "2024-12-16T10:18:03.399Z"
   },
   {
    "duration": 135,
    "start_time": "2024-12-16T10:18:03.436Z"
   },
   {
    "duration": 19,
    "start_time": "2024-12-16T10:18:03.572Z"
   },
   {
    "duration": 200,
    "start_time": "2024-12-16T10:18:03.593Z"
   },
   {
    "duration": 19,
    "start_time": "2024-12-16T10:18:03.795Z"
   },
   {
    "duration": 46,
    "start_time": "2024-12-16T10:18:03.816Z"
   },
   {
    "duration": 7,
    "start_time": "2024-12-16T10:18:03.864Z"
   },
   {
    "duration": 73,
    "start_time": "2024-12-16T10:18:03.873Z"
   },
   {
    "duration": 426,
    "start_time": "2025-02-27T10:45:15.348Z"
   },
   {
    "duration": 113,
    "start_time": "2025-02-27T10:45:15.776Z"
   },
   {
    "duration": 28,
    "start_time": "2025-02-27T10:45:15.891Z"
   },
   {
    "duration": 24,
    "start_time": "2025-02-27T10:45:15.922Z"
   },
   {
    "duration": 4,
    "start_time": "2025-02-27T10:45:15.949Z"
   },
   {
    "duration": 5,
    "start_time": "2025-02-27T10:45:15.955Z"
   },
   {
    "duration": 3,
    "start_time": "2025-02-27T10:45:15.962Z"
   },
   {
    "duration": 5,
    "start_time": "2025-02-27T10:45:15.966Z"
   },
   {
    "duration": 67,
    "start_time": "2025-02-27T10:45:15.973Z"
   },
   {
    "duration": 18,
    "start_time": "2025-02-27T10:45:16.042Z"
   },
   {
    "duration": 10,
    "start_time": "2025-02-27T10:45:16.062Z"
   },
   {
    "duration": 21,
    "start_time": "2025-02-27T10:45:16.074Z"
   },
   {
    "duration": 19,
    "start_time": "2025-02-27T10:45:16.117Z"
   },
   {
    "duration": 229,
    "start_time": "2025-02-27T10:45:16.139Z"
   },
   {
    "duration": 233,
    "start_time": "2025-02-27T10:45:16.370Z"
   },
   {
    "duration": 4,
    "start_time": "2025-02-27T10:45:16.605Z"
   },
   {
    "duration": 70,
    "start_time": "2025-02-27T10:45:16.614Z"
   },
   {
    "duration": 26,
    "start_time": "2025-02-27T10:45:16.686Z"
   },
   {
    "duration": 10,
    "start_time": "2025-02-27T10:45:16.717Z"
   },
   {
    "duration": 38,
    "start_time": "2025-02-27T10:45:16.733Z"
   },
   {
    "duration": 32,
    "start_time": "2025-02-27T10:45:16.773Z"
   },
   {
    "duration": 9,
    "start_time": "2025-02-27T10:45:16.807Z"
   },
   {
    "duration": 11,
    "start_time": "2025-02-27T10:45:16.819Z"
   },
   {
    "duration": 7,
    "start_time": "2025-02-27T10:45:16.834Z"
   },
   {
    "duration": 11,
    "start_time": "2025-02-27T10:45:16.843Z"
   },
   {
    "duration": 4,
    "start_time": "2025-02-27T10:45:16.855Z"
   },
   {
    "duration": 10,
    "start_time": "2025-02-27T10:45:16.860Z"
   },
   {
    "duration": 12,
    "start_time": "2025-02-27T10:45:16.872Z"
   },
   {
    "duration": 40,
    "start_time": "2025-02-27T10:45:16.886Z"
   },
   {
    "duration": 10,
    "start_time": "2025-02-27T10:45:16.931Z"
   },
   {
    "duration": 17,
    "start_time": "2025-02-27T10:45:16.943Z"
   },
   {
    "duration": 4,
    "start_time": "2025-02-27T10:45:16.962Z"
   },
   {
    "duration": 52,
    "start_time": "2025-02-27T10:45:16.968Z"
   },
   {
    "duration": 8,
    "start_time": "2025-02-27T10:45:17.024Z"
   },
   {
    "duration": 5,
    "start_time": "2025-02-27T10:45:17.034Z"
   },
   {
    "duration": 11,
    "start_time": "2025-02-27T10:45:17.041Z"
   },
   {
    "duration": 22,
    "start_time": "2025-02-27T10:45:17.053Z"
   },
   {
    "duration": 184,
    "start_time": "2025-02-27T10:45:17.077Z"
   },
   {
    "duration": 23,
    "start_time": "2025-02-27T10:45:17.263Z"
   },
   {
    "duration": 172,
    "start_time": "2025-02-27T10:45:17.287Z"
   },
   {
    "duration": 25,
    "start_time": "2025-02-27T10:45:17.463Z"
   },
   {
    "duration": 53,
    "start_time": "2025-02-27T10:45:17.489Z"
   },
   {
    "duration": 8,
    "start_time": "2025-02-27T10:45:17.544Z"
   },
   {
    "duration": 111,
    "start_time": "2025-02-27T10:45:17.554Z"
   }
  ],
  "colab": {
   "provenance": []
  },
  "kernelspec": {
   "display_name": "Python 3 (ipykernel)",
   "language": "python",
   "name": "python3"
  },
  "language_info": {
   "codemirror_mode": {
    "name": "ipython",
    "version": 3
   },
   "file_extension": ".py",
   "mimetype": "text/x-python",
   "name": "python",
   "nbconvert_exporter": "python",
   "pygments_lexer": "ipython3",
   "version": "3.9.5"
  },
  "toc": {
   "base_numbering": 1,
   "nav_menu": {},
   "number_sections": true,
   "sideBar": true,
   "skip_h1_title": true,
   "title_cell": "Table of Contents",
   "title_sidebar": "Contents",
   "toc_cell": false,
   "toc_position": {},
   "toc_section_display": true,
   "toc_window_display": false
  }
 },
 "nbformat": 4,
 "nbformat_minor": 5
}

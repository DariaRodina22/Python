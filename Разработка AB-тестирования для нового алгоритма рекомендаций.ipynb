{
 "cells": [
  {
   "cell_type": "markdown",
   "metadata": {},
   "source": [
    "\t\n",
    "# Разработка A/B-тестирования для нового алгоритма рекомендаций\n",
    "\n",
    "Компания, которая разрабатывает развлекательное приложение с функцией «бесконечной» ленты. В приложении существует две модели монетизации: первая — ежемесячная платная подписка, которая позволяет пользователям смотреть ленту без рекламы, вторая — демонстрация рекламы для пользователей, которые ещё не оформили подписку.\n",
    "\n",
    "Команда разработчиков рекомендательных систем создала новый алгоритм рекомендаций, который, по их мнению, будет показывать более интересный контент для каждого пользователя. Необходимо рассчитать параметры A/B-теста, который позволит проверить эту гипотезу, и проанализировать его результаты."
   ]
  },
  {
   "cell_type": "markdown",
   "metadata": {
    "id": "LJBRALHs0eMf"
   },
   "source": [
    "## Описание данных\n",
    "\n",
    "Будем работать с тремя таблицами:\n",
    "\n",
    "- `sessions_project_history.csv` — таблица с историческими данными по сессиям пользователей на период с 2025-08-15 по 2025-09-23. Путь к файлу: `/datasets/sessions_project_history.csv`.\n",
    "\n",
    "- `sessions_project_test_part.csv` — таблица с данными за первый день проведения A/B-теста, то есть за 2025-10-14. Путь к файлу: `/datasets/sessions_project_test_part.csv`.\n",
    "\n",
    "- `sessions_project_test.csv` — таблица с данными за весь период проведения A/B-теста, то есть с 2025-10-14 по 2025-11-02. Путь к файлу: `/datasets/sessions_project_test.csv`.\n",
    "\n",
    "У этих таблиц почти совпадает структура и содержание колонок, различаются лишь периоды наблюдения.\n",
    "\n",
    "Поля таблиц `sessions_project_history.csv`, `sessions_project_test.csv`, `sessions_project_test_part.csv`:\n",
    "\n",
    "- `user_id` — идентификатор пользователя;\n",
    "\n",
    "- `session_id` — идентификатор сессии в приложении;\n",
    "\n",
    "- `session_date` — дата сессии;\n",
    "\n",
    "- `session_start_ts` — дата и время начала сессии;\n",
    "\n",
    "- `install_date` — дата установки приложения;\n",
    "\n",
    "- `session_number` — порядковый номер сессии для конкретного пользователя;\n",
    "\n",
    "- `registration_flag` — является ли пользователь зарегистрированным;\n",
    "\n",
    "- `page_counter` — количество просмотренных страниц во время сессии;\n",
    "\n",
    "- `region` — регион пользователя;\n",
    "\n",
    "- `device` — тип устройства пользователя;\n",
    "\n",
    "- `test_group` — тестовая группа (в таблице с историческими данными этого столбца нет).\n",
    "\n",
    "\n",
    "## Что нужно сделать\n",
    "Задачи: рассчитать параметры теста, оценить корректность его проведения и проанализировать результаты эксперимента."
   ]
  },
  {
   "cell_type": "markdown",
   "metadata": {
    "id": "UpOucjID0eMl"
   },
   "source": [
    "### 1. Работа с историческими данными (EDA)"
   ]
  },
  {
   "cell_type": "code",
   "execution_count": 1,
   "metadata": {
    "id": "6TPR2-1RPboT"
   },
   "outputs": [],
   "source": [
    "import pandas as pd "
   ]
  },
  {
   "cell_type": "code",
   "execution_count": 2,
   "metadata": {},
   "outputs": [],
   "source": [
    "# создаем дтафрейм с историческими данными о сессиях пользователей на период с 15 августа по 23 сентября 2025 года \n",
    "sessions_history = pd.read_csv('/datasets/sessions_project_history.csv')"
   ]
  },
  {
   "cell_type": "code",
   "execution_count": 3,
   "metadata": {
    "id": "PWZO9vTIPbPN"
   },
   "outputs": [
    {
     "data": {
      "text/plain": [
       "user_id\n",
       "10E0DEFC1ABDBBE0    10\n",
       "6A73CB5566BB494D    10\n",
       "8A60431A825D035B     9\n",
       "D11541BAC141FB94     9\n",
       "5BCFE7C4DCC148E9     9\n",
       "                    ..\n",
       "1DF13BB1953B3497     1\n",
       "628502A3CE7E0A3C     1\n",
       "1DEEF40DEFBD0C65     1\n",
       "AC08479B7472C628     1\n",
       "8A0882B6715D9EE5     1\n",
       "Name: session_id, Length: 134039, dtype: int64"
      ]
     },
     "execution_count": 3,
     "metadata": {},
     "output_type": "execute_result"
    }
   ],
   "source": [
    "# расчитываем количество уникальных сессий для каждого пользователя \n",
    "sessions_history.groupby('user_id')['session_id'].nunique().sort_values(ascending = False)"
   ]
  },
  {
   "cell_type": "code",
   "execution_count": 4,
   "metadata": {},
   "outputs": [
    {
     "name": "stdout",
     "output_type": "stream",
     "text": [
      "<class 'pandas.core.frame.DataFrame'>\n",
      "Int64Index: 10 entries, 115558 to 414743\n",
      "Data columns (total 10 columns):\n",
      " #   Column             Non-Null Count  Dtype \n",
      "---  ------             --------------  ----- \n",
      " 0   user_id            10 non-null     object\n",
      " 1   session_id         10 non-null     object\n",
      " 2   session_date       10 non-null     object\n",
      " 3   session_start_ts   10 non-null     object\n",
      " 4   install_date       10 non-null     object\n",
      " 5   session_number     10 non-null     int64 \n",
      " 6   registration_flag  10 non-null     int64 \n",
      " 7   page_counter       10 non-null     int64 \n",
      " 8   region             10 non-null     object\n",
      " 9   device             10 non-null     object\n",
      "dtypes: int64(3), object(7)\n",
      "memory usage: 880.0+ bytes\n"
     ]
    }
   ],
   "source": [
    "# выводим всю информацию о данных для одного пользователя \n",
    "sessions_history.query(\"user_id == '10E0DEFC1ABDBBE0'\").info()"
   ]
  },
  {
   "cell_type": "code",
   "execution_count": 5,
   "metadata": {},
   "outputs": [
    {
     "data": {
      "text/html": [
       "<div>\n",
       "<style scoped>\n",
       "    .dataframe tbody tr th:only-of-type {\n",
       "        vertical-align: middle;\n",
       "    }\n",
       "\n",
       "    .dataframe tbody tr th {\n",
       "        vertical-align: top;\n",
       "    }\n",
       "\n",
       "    .dataframe thead th {\n",
       "        text-align: right;\n",
       "    }\n",
       "</style>\n",
       "<table border=\"1\" class=\"dataframe\">\n",
       "  <thead>\n",
       "    <tr style=\"text-align: right;\">\n",
       "      <th></th>\n",
       "      <th>user_id</th>\n",
       "      <th>session_id</th>\n",
       "      <th>session_date</th>\n",
       "      <th>session_start_ts</th>\n",
       "      <th>install_date</th>\n",
       "      <th>session_number</th>\n",
       "      <th>registration_flag</th>\n",
       "      <th>page_counter</th>\n",
       "      <th>region</th>\n",
       "      <th>device</th>\n",
       "    </tr>\n",
       "  </thead>\n",
       "  <tbody>\n",
       "    <tr>\n",
       "      <th>115558</th>\n",
       "      <td>10E0DEFC1ABDBBE0</td>\n",
       "      <td>B8F0423BBFFCF5DC</td>\n",
       "      <td>2025-08-14</td>\n",
       "      <td>2025-08-14 13:57:39</td>\n",
       "      <td>2025-08-14</td>\n",
       "      <td>1</td>\n",
       "      <td>0</td>\n",
       "      <td>4</td>\n",
       "      <td>CIS</td>\n",
       "      <td>Android</td>\n",
       "    </tr>\n",
       "    <tr>\n",
       "      <th>191751</th>\n",
       "      <td>10E0DEFC1ABDBBE0</td>\n",
       "      <td>87CA2FA549473837</td>\n",
       "      <td>2025-08-15</td>\n",
       "      <td>2025-08-15 16:42:10</td>\n",
       "      <td>2025-08-14</td>\n",
       "      <td>2</td>\n",
       "      <td>0</td>\n",
       "      <td>3</td>\n",
       "      <td>CIS</td>\n",
       "      <td>Android</td>\n",
       "    </tr>\n",
       "    <tr>\n",
       "      <th>239370</th>\n",
       "      <td>10E0DEFC1ABDBBE0</td>\n",
       "      <td>4ADD8011DCDCE318</td>\n",
       "      <td>2025-08-16</td>\n",
       "      <td>2025-08-16 19:53:21</td>\n",
       "      <td>2025-08-14</td>\n",
       "      <td>3</td>\n",
       "      <td>0</td>\n",
       "      <td>3</td>\n",
       "      <td>CIS</td>\n",
       "      <td>Android</td>\n",
       "    </tr>\n",
       "    <tr>\n",
       "      <th>274629</th>\n",
       "      <td>10E0DEFC1ABDBBE0</td>\n",
       "      <td>DF0FD0E09BF1F3D7</td>\n",
       "      <td>2025-08-17</td>\n",
       "      <td>2025-08-17 15:03:43</td>\n",
       "      <td>2025-08-14</td>\n",
       "      <td>4</td>\n",
       "      <td>0</td>\n",
       "      <td>1</td>\n",
       "      <td>CIS</td>\n",
       "      <td>Android</td>\n",
       "    </tr>\n",
       "    <tr>\n",
       "      <th>302501</th>\n",
       "      <td>10E0DEFC1ABDBBE0</td>\n",
       "      <td>3C221774B4DE6885</td>\n",
       "      <td>2025-08-18</td>\n",
       "      <td>2025-08-18 17:29:14</td>\n",
       "      <td>2025-08-14</td>\n",
       "      <td>5</td>\n",
       "      <td>0</td>\n",
       "      <td>4</td>\n",
       "      <td>CIS</td>\n",
       "      <td>Android</td>\n",
       "    </tr>\n",
       "  </tbody>\n",
       "</table>\n",
       "</div>"
      ],
      "text/plain": [
       "                 user_id        session_id session_date     session_start_ts  \\\n",
       "115558  10E0DEFC1ABDBBE0  B8F0423BBFFCF5DC   2025-08-14  2025-08-14 13:57:39   \n",
       "191751  10E0DEFC1ABDBBE0  87CA2FA549473837   2025-08-15  2025-08-15 16:42:10   \n",
       "239370  10E0DEFC1ABDBBE0  4ADD8011DCDCE318   2025-08-16  2025-08-16 19:53:21   \n",
       "274629  10E0DEFC1ABDBBE0  DF0FD0E09BF1F3D7   2025-08-17  2025-08-17 15:03:43   \n",
       "302501  10E0DEFC1ABDBBE0  3C221774B4DE6885   2025-08-18  2025-08-18 17:29:14   \n",
       "\n",
       "       install_date  session_number  registration_flag  page_counter region  \\\n",
       "115558   2025-08-14               1                  0             4    CIS   \n",
       "191751   2025-08-14               2                  0             3    CIS   \n",
       "239370   2025-08-14               3                  0             3    CIS   \n",
       "274629   2025-08-14               4                  0             1    CIS   \n",
       "302501   2025-08-14               5                  0             4    CIS   \n",
       "\n",
       "         device  \n",
       "115558  Android  \n",
       "191751  Android  \n",
       "239370  Android  \n",
       "274629  Android  \n",
       "302501  Android  "
      ]
     },
     "execution_count": 5,
     "metadata": {},
     "output_type": "execute_result"
    }
   ],
   "source": [
    "# выводим все данные по одному пользователю \n",
    "sessions_history.query(\"user_id == '10E0DEFC1ABDBBE0'\").head()"
   ]
  },
  {
   "cell_type": "markdown",
   "metadata": {},
   "source": [
    "В каждом столбце всего 10 строк и ни в одном из них нет пропусков. Все типы данных распределены верно."
   ]
  },
  {
   "cell_type": "markdown",
   "metadata": {},
   "source": [
    " "
   ]
  },
  {
   "cell_type": "code",
   "execution_count": 6,
   "metadata": {
    "id": "tN_6Ml3EPatS"
   },
   "outputs": [],
   "source": [
    "# рассчитаем число уникальных пользователей для каждого дня \n",
    "regist_fl_and_unuser_id = sessions_history.groupby('session_date').agg({'user_id' : 'nunique',\n",
    "                                            'registration_flag' : 'sum'})"
   ]
  },
  {
   "cell_type": "code",
   "execution_count": 7,
   "metadata": {},
   "outputs": [],
   "source": [
    "# Загружаем библиотеки для визуализации данных\n",
    "import matplotlib.pyplot as plt\n",
    "import seaborn as sns "
   ]
  },
  {
   "cell_type": "code",
   "execution_count": 8,
   "metadata": {},
   "outputs": [
    {
     "data": {
      "text/plain": [
       "<Figure size 1152x504 with 0 Axes>"
      ]
     },
     "metadata": {},
     "output_type": "display_data"
    },
    {
     "data": {
      "image/png": "[encoded data removed]",
      "text/plain": [
       "<Figure size 432x288 with 1 Axes>"
      ]
     },
     "metadata": {
      "needs_background": "light"
     },
     "output_type": "display_data"
    }
   ],
   "source": [
    "# строим линейный график \n",
    "plt.figure(figsize = (16, 7))\n",
    "regist_fl_and_unuser_id.plot(kind = 'line',\n",
    "                            rot = 90)\n",
    "plt.title('Распределение количества пользователей и количества зарегестрированных пользователей по дням')\n",
    "plt.xlabel('День')\n",
    "plt.ylabel('Частота ')\n",
    "plt.grid()\n",
    "plt.show() "
   ]
  },
  {
   "cell_type": "code",
   "execution_count": 9,
   "metadata": {},
   "outputs": [],
   "source": [
    "# считаем долю зарегистрированных пользователей от всех пользователей по дням \n",
    "regist = sessions_history.groupby('session_date')['registration_flag'].sum()\n",
    "us = sessions_history.groupby('session_date')['user_id'].nunique()\n",
    "reg_us = regist / us"
   ]
  },
  {
   "cell_type": "code",
   "execution_count": 10,
   "metadata": {},
   "outputs": [
    {
     "data": {
      "image/png": "[encoded data removed]",
      "text/plain": [
       "<Figure size 1152x504 with 1 Axes>"
      ]
     },
     "metadata": {
      "needs_background": "light"
     },
     "output_type": "display_data"
    }
   ],
   "source": [
    "# строим линейный график \n",
    "plt.figure(figsize = (16, 7))\n",
    "reg_us.plot(kind = 'line',\n",
    "                            rot = 90)\n",
    "plt.title('Распределение доли зарегистрированных пользователей от всех пользователей по дням')\n",
    "plt.xlabel('День')\n",
    "plt.ylabel('Доля')\n",
    "plt.grid()\n",
    "plt.show() "
   ]
  },
  {
   "cell_type": "markdown",
   "metadata": {},
   "source": [
    " "
   ]
  },
  {
   "cell_type": "code",
   "execution_count": 11,
   "metadata": {
    "id": "cb6hPlVzPaSf"
   },
   "outputs": [],
   "source": [
    "# находим количество сессий для каждого значения количества просмотренных страниц \n",
    "sessia = sessions_history.groupby('page_counter')['session_id'].count()"
   ]
  },
  {
   "cell_type": "code",
   "execution_count": 12,
   "metadata": {},
   "outputs": [
    {
     "data": {
      "image/png": "[encoded data removed]",
      "text/plain": [
       "<Figure size 504x504 with 1 Axes>"
      ]
     },
     "metadata": {
      "needs_background": "light"
     },
     "output_type": "display_data"
    }
   ],
   "source": [
    "# строим столбчатую диаграмму \n",
    "plt.figure(figsize = (7, 7))\n",
    "sessia.plot(kind = 'bar',\n",
    "           rot = 0)\n",
    "plt.title('Распределение количества сессий по просмотренным страницам')\n",
    "plt.xlabel('Количество сессий')\n",
    "plt.ylabel('Количество просмотренных страниц')\n",
    "plt.grid()\n",
    "plt.show() "
   ]
  },
  {
   "cell_type": "markdown",
   "metadata": {},
   "source": [
    " "
   ]
  },
  {
   "cell_type": "code",
   "execution_count": 13,
   "metadata": {
    "id": "iygaPfixPYMW"
   },
   "outputs": [],
   "source": [
    "# создаем доп. столбец \n",
    "sessions_history['good_session'] = (sessions_history['page_counter'] >= 4).astype(int)"
   ]
  },
  {
   "cell_type": "code",
   "execution_count": 14,
   "metadata": {},
   "outputs": [],
   "source": [
    "a_1 = sessions_history.groupby('session_date')['good_session'].sum()\n",
    "a_2 = sessions_history.groupby('session_date')['session_id'].count()\n",
    "all = (a_1 / a_2)*100"
   ]
  },
  {
   "cell_type": "code",
   "execution_count": 15,
   "metadata": {},
   "outputs": [
    {
     "data": {
      "image/png": "[encoded data removed]",
      "text/plain": [
       "<Figure size 1152x504 with 1 Axes>"
      ]
     },
     "metadata": {
      "needs_background": "light"
     },
     "output_type": "display_data"
    }
   ],
   "source": [
    "# строим линейную диаграмму \n",
    "plt.figure(figsize = (16, 7))\n",
    "all.plot(kind = 'line',\n",
    "           rot = 0)\n",
    "plt.title('Динамика доли успешных сессий по дням ')\n",
    "plt.xlabel('Дата')\n",
    "plt.ylabel('Доля успешных сессий')\n",
    "plt.grid()\n",
    "plt.show() "
   ]
  },
  {
   "cell_type": "markdown",
   "metadata": {},
   "source": [
    " "
   ]
  },
  {
   "cell_type": "markdown",
   "metadata": {
    "id": "21JcG77Y0eMt"
   },
   "source": [
    "### 2. Подготовка к тесту\n",
    "При планировании теста необходимо проделать несколько важных шагов:\n",
    "\n",
    "- Определиться с целевой метрикой.\n",
    "\n",
    "- Рассчитать необходимый размер выборки.\n",
    "\n",
    "- Исходя из текущих значений трафика, рассчитать необходимую длительность проведения теста."
   ]
  },
  {
   "cell_type": "markdown",
   "metadata": {
    "id": "uzaeln270eMt"
   },
   "source": [
    "#### 2.1. Расчёт размера выборки"
   ]
  },
  {
   "cell_type": "code",
   "execution_count": 16,
   "metadata": {
    "id": "zSxJyPGPNdaI"
   },
   "outputs": [
    {
     "name": "stdout",
     "output_type": "stream",
     "text": [
      "Необходимый размер выборки для каждой группы: 17441\n"
     ]
    }
   ],
   "source": [
    "from statsmodels.stats.power import NormalIndPower\n",
    "\n",
    "# Задаём параметры\n",
    "alpha = 0.05  # Уровень значимости\n",
    "beta = 0.2  # Ошибка второго рода, часто 1 - мощность\n",
    "power = 0.8  # Мощность теста\n",
    "mde = 0.03  # Минимальный детектируемый эффект\n",
    "\n",
    "# Инициализируем класс NormalIndPower\n",
    "power_analysis = NormalIndPower()\n",
    "\n",
    "# Рассчитываем размер выборки\n",
    "sample_size = power_analysis.solve_power(\n",
    "    effect_size = mde,\n",
    "    power = power,\n",
    "    alpha = alpha,\n",
    "    ratio = 1 # Равномерное распределение выборок\n",
    ")\n",
    "\n",
    "print(f\"Необходимый размер выборки для каждой группы: {int(sample_size)}\")"
   ]
  },
  {
   "cell_type": "markdown",
   "metadata": {
    "id": "qLEv4RoV0eMu"
   },
   "source": [
    "#### 2.1. Расчёт длительности A/B-теста\n"
   ]
  },
  {
   "cell_type": "code",
   "execution_count": 17,
   "metadata": {
    "id": "KZDRbryDOGHa"
   },
   "outputs": [
    {
     "name": "stdout",
     "output_type": "stream",
     "text": [
      "Рассчитанная длительность A/B-теста при текущем уровене трафика в 9907 пользователей в день составит 4 дней\n"
     ]
    }
   ],
   "source": [
    "from math import *\n",
    "\n",
    "# Среднее количество пользователей приложения в день по историческим данным\n",
    "un_users_per_day = sessions_history.groupby('session_date')['user_id'].nunique()\n",
    "\n",
    "num_day = len(un_users_per_day)\n",
    "\n",
    "avg_daily_users = round(un_users_per_day.mean())\n",
    "\n",
    "\n",
    "# Рассчитываем длительность теста в днях как отношение размера выборки к среднему числу пользователей\n",
    "test_duration = ceil((sample_size*2) / avg_daily_users)\n",
    "\n",
    "print(f\"Рассчитанная длительность A/B-теста при текущем уровене трафика в {avg_daily_users} пользователей в день составит {test_duration} дней\")"
   ]
  },
  {
   "cell_type": "markdown",
   "metadata": {
    "id": "ZuvtAdha0eMv"
   },
   "source": [
    "### 3. Мониторинг А/В-теста"
   ]
  },
  {
   "cell_type": "markdown",
   "metadata": {
    "id": "jq5sE3Ya0eMv"
   },
   "source": [
    "#### 3.1. Проверка распределения пользователей\n"
   ]
  },
  {
   "cell_type": "code",
   "execution_count": 18,
   "metadata": {
    "id": "G1bqIzDJOUiz"
   },
   "outputs": [],
   "source": [
    "# создаем новый датафрейм, в котором отображаются исторические данные за 1 день проведения теста \n",
    "sessions_test_part = pd.read_csv('/datasets/sessions_project_test_part.csv')"
   ]
  },
  {
   "cell_type": "code",
   "execution_count": 19,
   "metadata": {},
   "outputs": [],
   "source": [
    "# рассчитываем количество уникальных пользователей в каждой тестовой группе \n",
    "test_group = sessions_test_part.groupby('test_group')['user_id'].nunique()"
   ]
  },
  {
   "cell_type": "code",
   "execution_count": 20,
   "metadata": {},
   "outputs": [
    {
     "data": {
      "text/plain": [
       "(50.18688413183826, 49.81311586816174)"
      ]
     },
     "execution_count": 20,
     "metadata": {},
     "output_type": "execute_result"
    }
   ],
   "source": [
    "# находим процентное соотношение между группами\n",
    "100 * sessions_test_part[sessions_test_part['test_group'] == 'A']['user_id'].nunique() / sessions_test_part['user_id'].nunique(),100 * sessions_test_part[sessions_test_part['test_group'] == 'B']['user_id'].nunique() / sessions_test_part['user_id'].nunique()"
   ]
  },
  {
   "cell_type": "code",
   "execution_count": 21,
   "metadata": {},
   "outputs": [
    {
     "data": {
      "text/plain": [
       "0.74"
      ]
     },
     "execution_count": 21,
     "metadata": {},
     "output_type": "execute_result"
    }
   ],
   "source": [
    "# рассчитываем процентную разницу между группами \n",
    "perc = round(100 * abs(sessions_test_part[sessions_test_part['test_group'] == 'A']['user_id'].nunique() - sessions_test_part[sessions_test_part['test_group'] == 'B']['user_id'].nunique()) / sessions_test_part[sessions_test_part['test_group'] == 'A']['user_id'].nunique(), 2)\n",
    "perc"
   ]
  },
  {
   "cell_type": "code",
   "execution_count": 22,
   "metadata": {},
   "outputs": [],
   "source": [
    "# делаем метки для диаграммы \n",
    "labels = test_group.index\n",
    "sizes = test_group.values"
   ]
  },
  {
   "cell_type": "code",
   "execution_count": 23,
   "metadata": {},
   "outputs": [
    {
     "data": {
      "image/png": "[encoded data removed]",
      "text/plain": [
       "<Figure size 432x432 with 1 Axes>"
      ]
     },
     "metadata": {},
     "output_type": "display_data"
    }
   ],
   "source": [
    "# создаем диаграмму \n",
    "fig, ax = plt.subplots(figsize=(6, 6))\n",
    "ax.pie(sizes, labels=labels, autopct='%1.1f%%', startangle=90)\n",
    "ax.set_title('Доля пользователей в группах A и B')\n",
    "plt.tight_layout()\n",
    "plt.show()"
   ]
  },
  {
   "cell_type": "markdown",
   "metadata": {},
   "source": [
    " "
   ]
  },
  {
   "cell_type": "markdown",
   "metadata": {
    "id": "sgpNY5bv0eM0"
   },
   "source": [
    "#### 3.2. Проверка пересечений пользователей"
   ]
  },
  {
   "cell_type": "code",
   "execution_count": 24,
   "metadata": {
    "id": "E72ozN9FOX1u"
   },
   "outputs": [
    {
     "data": {
      "text/plain": [
       "[]"
      ]
     },
     "execution_count": 24,
     "metadata": {},
     "output_type": "execute_result"
    }
   ],
   "source": [
    "# находим пользователей, которые попали в 2 группы \n",
    "group_a = sessions_test_part[sessions_test_part['test_group'] == 'A']['user_id']\n",
    "group_b = sessions_test_part[sessions_test_part['test_group'] == 'B']['user_id']\n",
    "intersection = list(set(group_a) & set(group_b))\n",
    "intersection"
   ]
  },
  {
   "cell_type": "markdown",
   "metadata": {},
   "source": [
    "Пользователи, которые встречаются одновременно в группах А и В отсутствуют"
   ]
  },
  {
   "cell_type": "markdown",
   "metadata": {},
   "source": [
    " "
   ]
  },
  {
   "cell_type": "markdown",
   "metadata": {
    "id": "6RvkNLrg0eM1"
   },
   "source": [
    "#### 3.3. Равномерность разделения пользователей по устройствам\n"
   ]
  },
  {
   "cell_type": "code",
   "execution_count": 25,
   "metadata": {
    "id": "x_IP6PUNPWHC"
   },
   "outputs": [
    {
     "data": {
      "text/html": [
       "<div>\n",
       "<style scoped>\n",
       "    .dataframe tbody tr th:only-of-type {\n",
       "        vertical-align: middle;\n",
       "    }\n",
       "\n",
       "    .dataframe tbody tr th {\n",
       "        vertical-align: top;\n",
       "    }\n",
       "\n",
       "    .dataframe thead th {\n",
       "        text-align: right;\n",
       "    }\n",
       "</style>\n",
       "<table border=\"1\" class=\"dataframe\">\n",
       "  <thead>\n",
       "    <tr style=\"text-align: right;\">\n",
       "      <th></th>\n",
       "      <th>test_group</th>\n",
       "      <th>device</th>\n",
       "      <th>user_id</th>\n",
       "      <th>session_id</th>\n",
       "      <th>session_date</th>\n",
       "      <th>session_start_ts</th>\n",
       "      <th>install_date</th>\n",
       "      <th>session_number</th>\n",
       "      <th>registration_flag</th>\n",
       "      <th>page_counter</th>\n",
       "      <th>region</th>\n",
       "    </tr>\n",
       "  </thead>\n",
       "  <tbody>\n",
       "    <tr>\n",
       "      <th>0</th>\n",
       "      <td>A</td>\n",
       "      <td>Android</td>\n",
       "      <td>656</td>\n",
       "      <td>656</td>\n",
       "      <td>1</td>\n",
       "      <td>651</td>\n",
       "      <td>1</td>\n",
       "      <td>1</td>\n",
       "      <td>2</td>\n",
       "      <td>5</td>\n",
       "      <td>3</td>\n",
       "    </tr>\n",
       "    <tr>\n",
       "      <th>1</th>\n",
       "      <td>A</td>\n",
       "      <td>Mac</td>\n",
       "      <td>156</td>\n",
       "      <td>160</td>\n",
       "      <td>1</td>\n",
       "      <td>159</td>\n",
       "      <td>2</td>\n",
       "      <td>5</td>\n",
       "      <td>2</td>\n",
       "      <td>5</td>\n",
       "      <td>3</td>\n",
       "    </tr>\n",
       "    <tr>\n",
       "      <th>2</th>\n",
       "      <td>A</td>\n",
       "      <td>PC</td>\n",
       "      <td>369</td>\n",
       "      <td>379</td>\n",
       "      <td>1</td>\n",
       "      <td>376</td>\n",
       "      <td>3</td>\n",
       "      <td>7</td>\n",
       "      <td>2</td>\n",
       "      <td>6</td>\n",
       "      <td>3</td>\n",
       "    </tr>\n",
       "    <tr>\n",
       "      <th>3</th>\n",
       "      <td>A</td>\n",
       "      <td>iPhone</td>\n",
       "      <td>296</td>\n",
       "      <td>307</td>\n",
       "      <td>1</td>\n",
       "      <td>302</td>\n",
       "      <td>2</td>\n",
       "      <td>5</td>\n",
       "      <td>2</td>\n",
       "      <td>6</td>\n",
       "      <td>3</td>\n",
       "    </tr>\n",
       "    <tr>\n",
       "      <th>4</th>\n",
       "      <td>B</td>\n",
       "      <td>Android</td>\n",
       "      <td>668</td>\n",
       "      <td>723</td>\n",
       "      <td>1</td>\n",
       "      <td>722</td>\n",
       "      <td>7</td>\n",
       "      <td>7</td>\n",
       "      <td>2</td>\n",
       "      <td>7</td>\n",
       "      <td>3</td>\n",
       "    </tr>\n",
       "    <tr>\n",
       "      <th>5</th>\n",
       "      <td>B</td>\n",
       "      <td>Mac</td>\n",
       "      <td>148</td>\n",
       "      <td>197</td>\n",
       "      <td>1</td>\n",
       "      <td>195</td>\n",
       "      <td>7</td>\n",
       "      <td>7</td>\n",
       "      <td>2</td>\n",
       "      <td>7</td>\n",
       "      <td>3</td>\n",
       "    </tr>\n",
       "    <tr>\n",
       "      <th>6</th>\n",
       "      <td>B</td>\n",
       "      <td>PC</td>\n",
       "      <td>381</td>\n",
       "      <td>402</td>\n",
       "      <td>1</td>\n",
       "      <td>400</td>\n",
       "      <td>5</td>\n",
       "      <td>6</td>\n",
       "      <td>2</td>\n",
       "      <td>7</td>\n",
       "      <td>3</td>\n",
       "    </tr>\n",
       "    <tr>\n",
       "      <th>7</th>\n",
       "      <td>B</td>\n",
       "      <td>iPhone</td>\n",
       "      <td>269</td>\n",
       "      <td>306</td>\n",
       "      <td>1</td>\n",
       "      <td>306</td>\n",
       "      <td>6</td>\n",
       "      <td>7</td>\n",
       "      <td>2</td>\n",
       "      <td>7</td>\n",
       "      <td>3</td>\n",
       "    </tr>\n",
       "  </tbody>\n",
       "</table>\n",
       "</div>"
      ],
      "text/plain": [
       "  test_group   device  user_id  session_id  session_date  session_start_ts  \\\n",
       "0          A  Android      656         656             1               651   \n",
       "1          A      Mac      156         160             1               159   \n",
       "2          A       PC      369         379             1               376   \n",
       "3          A   iPhone      296         307             1               302   \n",
       "4          B  Android      668         723             1               722   \n",
       "5          B      Mac      148         197             1               195   \n",
       "6          B       PC      381         402             1               400   \n",
       "7          B   iPhone      269         306             1               306   \n",
       "\n",
       "   install_date  session_number  registration_flag  page_counter  region  \n",
       "0             1               1                  2             5       3  \n",
       "1             2               5                  2             5       3  \n",
       "2             3               7                  2             6       3  \n",
       "3             2               5                  2             6       3  \n",
       "4             7               7                  2             7       3  \n",
       "5             7               7                  2             7       3  \n",
       "6             5               6                  2             7       3  \n",
       "7             6               7                  2             7       3  "
      ]
     },
     "execution_count": 25,
     "metadata": {},
     "output_type": "execute_result"
    }
   ],
   "source": [
    "# находим количество каждого типа устройства в каждой тестовой гуппе \n",
    "device_group = sessions_test_part.groupby(['test_group','device']).nunique().reset_index()\n",
    "device_group"
   ]
  },
  {
   "cell_type": "code",
   "execution_count": 26,
   "metadata": {},
   "outputs": [
    {
     "data": {
      "text/html": [
       "<div>\n",
       "<style scoped>\n",
       "    .dataframe tbody tr th:only-of-type {\n",
       "        vertical-align: middle;\n",
       "    }\n",
       "\n",
       "    .dataframe tbody tr th {\n",
       "        vertical-align: top;\n",
       "    }\n",
       "\n",
       "    .dataframe thead th {\n",
       "        text-align: right;\n",
       "    }\n",
       "</style>\n",
       "<table border=\"1\" class=\"dataframe\">\n",
       "  <thead>\n",
       "    <tr style=\"text-align: right;\">\n",
       "      <th></th>\n",
       "      <th>test_group</th>\n",
       "      <th>device</th>\n",
       "      <th>user_id</th>\n",
       "      <th>session_id</th>\n",
       "      <th>session_date</th>\n",
       "      <th>session_start_ts</th>\n",
       "      <th>install_date</th>\n",
       "      <th>session_number</th>\n",
       "      <th>registration_flag</th>\n",
       "      <th>page_counter</th>\n",
       "      <th>region</th>\n",
       "    </tr>\n",
       "  </thead>\n",
       "  <tbody>\n",
       "    <tr>\n",
       "      <th>0</th>\n",
       "      <td>A</td>\n",
       "      <td>Android</td>\n",
       "      <td>656</td>\n",
       "      <td>656</td>\n",
       "      <td>1</td>\n",
       "      <td>651</td>\n",
       "      <td>1</td>\n",
       "      <td>1</td>\n",
       "      <td>2</td>\n",
       "      <td>5</td>\n",
       "      <td>3</td>\n",
       "    </tr>\n",
       "    <tr>\n",
       "      <th>1</th>\n",
       "      <td>A</td>\n",
       "      <td>Mac</td>\n",
       "      <td>156</td>\n",
       "      <td>160</td>\n",
       "      <td>1</td>\n",
       "      <td>159</td>\n",
       "      <td>2</td>\n",
       "      <td>5</td>\n",
       "      <td>2</td>\n",
       "      <td>5</td>\n",
       "      <td>3</td>\n",
       "    </tr>\n",
       "    <tr>\n",
       "      <th>2</th>\n",
       "      <td>A</td>\n",
       "      <td>PC</td>\n",
       "      <td>369</td>\n",
       "      <td>379</td>\n",
       "      <td>1</td>\n",
       "      <td>376</td>\n",
       "      <td>3</td>\n",
       "      <td>7</td>\n",
       "      <td>2</td>\n",
       "      <td>6</td>\n",
       "      <td>3</td>\n",
       "    </tr>\n",
       "    <tr>\n",
       "      <th>3</th>\n",
       "      <td>A</td>\n",
       "      <td>iPhone</td>\n",
       "      <td>296</td>\n",
       "      <td>307</td>\n",
       "      <td>1</td>\n",
       "      <td>302</td>\n",
       "      <td>2</td>\n",
       "      <td>5</td>\n",
       "      <td>2</td>\n",
       "      <td>6</td>\n",
       "      <td>3</td>\n",
       "    </tr>\n",
       "  </tbody>\n",
       "</table>\n",
       "</div>"
      ],
      "text/plain": [
       "  test_group   device  user_id  session_id  session_date  session_start_ts  \\\n",
       "0          A  Android      656         656             1               651   \n",
       "1          A      Mac      156         160             1               159   \n",
       "2          A       PC      369         379             1               376   \n",
       "3          A   iPhone      296         307             1               302   \n",
       "\n",
       "   install_date  session_number  registration_flag  page_counter  region  \n",
       "0             1               1                  2             5       3  \n",
       "1             2               5                  2             5       3  \n",
       "2             3               7                  2             6       3  \n",
       "3             2               5                  2             6       3  "
      ]
     },
     "execution_count": 26,
     "metadata": {},
     "output_type": "execute_result"
    }
   ],
   "source": [
    "# отделяем тестовую группу А от общей \n",
    "device_group_A = device_group.query('test_group == \"A\"')\n",
    "device_group_A"
   ]
  },
  {
   "cell_type": "code",
   "execution_count": 27,
   "metadata": {},
   "outputs": [
    {
     "data": {
      "text/plain": [
       "Text(0.5, 1.0, 'Доля каждого типа устройства для пользователей из группы A')"
      ]
     },
     "execution_count": 27,
     "metadata": {},
     "output_type": "execute_result"
    },
    {
     "data": {
      "image/png": "[encoded data removed]",
      "text/plain": [
       "<Figure size 864x432 with 2 Axes>"
      ]
     },
     "metadata": {
      "needs_background": "light"
     },
     "output_type": "display_data"
    }
   ],
   "source": [
    "# Построение диаграммы для группы A\n",
    "labels_a = device_group_A['device']\n",
    "sizes_a = device_group_A['user_id']\n",
    "fig, axes = plt.subplots(1, 2, figsize=(12, 6))\n",
    "axes[0].pie(sizes_a, labels=labels_a, autopct='%1.1f%%', startangle=90)\n",
    "axes[0].set_title('Доля каждого типа устройства для пользователей из группы A')"
   ]
  },
  {
   "cell_type": "code",
   "execution_count": 28,
   "metadata": {},
   "outputs": [
    {
     "data": {
      "text/html": [
       "<div>\n",
       "<style scoped>\n",
       "    .dataframe tbody tr th:only-of-type {\n",
       "        vertical-align: middle;\n",
       "    }\n",
       "\n",
       "    .dataframe tbody tr th {\n",
       "        vertical-align: top;\n",
       "    }\n",
       "\n",
       "    .dataframe thead th {\n",
       "        text-align: right;\n",
       "    }\n",
       "</style>\n",
       "<table border=\"1\" class=\"dataframe\">\n",
       "  <thead>\n",
       "    <tr style=\"text-align: right;\">\n",
       "      <th></th>\n",
       "      <th>test_group</th>\n",
       "      <th>device</th>\n",
       "      <th>user_id</th>\n",
       "      <th>session_id</th>\n",
       "      <th>session_date</th>\n",
       "      <th>session_start_ts</th>\n",
       "      <th>install_date</th>\n",
       "      <th>session_number</th>\n",
       "      <th>registration_flag</th>\n",
       "      <th>page_counter</th>\n",
       "      <th>region</th>\n",
       "    </tr>\n",
       "  </thead>\n",
       "  <tbody>\n",
       "    <tr>\n",
       "      <th>4</th>\n",
       "      <td>B</td>\n",
       "      <td>Android</td>\n",
       "      <td>668</td>\n",
       "      <td>723</td>\n",
       "      <td>1</td>\n",
       "      <td>722</td>\n",
       "      <td>7</td>\n",
       "      <td>7</td>\n",
       "      <td>2</td>\n",
       "      <td>7</td>\n",
       "      <td>3</td>\n",
       "    </tr>\n",
       "    <tr>\n",
       "      <th>5</th>\n",
       "      <td>B</td>\n",
       "      <td>Mac</td>\n",
       "      <td>148</td>\n",
       "      <td>197</td>\n",
       "      <td>1</td>\n",
       "      <td>195</td>\n",
       "      <td>7</td>\n",
       "      <td>7</td>\n",
       "      <td>2</td>\n",
       "      <td>7</td>\n",
       "      <td>3</td>\n",
       "    </tr>\n",
       "    <tr>\n",
       "      <th>6</th>\n",
       "      <td>B</td>\n",
       "      <td>PC</td>\n",
       "      <td>381</td>\n",
       "      <td>402</td>\n",
       "      <td>1</td>\n",
       "      <td>400</td>\n",
       "      <td>5</td>\n",
       "      <td>6</td>\n",
       "      <td>2</td>\n",
       "      <td>7</td>\n",
       "      <td>3</td>\n",
       "    </tr>\n",
       "    <tr>\n",
       "      <th>7</th>\n",
       "      <td>B</td>\n",
       "      <td>iPhone</td>\n",
       "      <td>269</td>\n",
       "      <td>306</td>\n",
       "      <td>1</td>\n",
       "      <td>306</td>\n",
       "      <td>6</td>\n",
       "      <td>7</td>\n",
       "      <td>2</td>\n",
       "      <td>7</td>\n",
       "      <td>3</td>\n",
       "    </tr>\n",
       "  </tbody>\n",
       "</table>\n",
       "</div>"
      ],
      "text/plain": [
       "  test_group   device  user_id  session_id  session_date  session_start_ts  \\\n",
       "4          B  Android      668         723             1               722   \n",
       "5          B      Mac      148         197             1               195   \n",
       "6          B       PC      381         402             1               400   \n",
       "7          B   iPhone      269         306             1               306   \n",
       "\n",
       "   install_date  session_number  registration_flag  page_counter  region  \n",
       "4             7               7                  2             7       3  \n",
       "5             7               7                  2             7       3  \n",
       "6             5               6                  2             7       3  \n",
       "7             6               7                  2             7       3  "
      ]
     },
     "execution_count": 28,
     "metadata": {},
     "output_type": "execute_result"
    }
   ],
   "source": [
    "# отделяем тестовую руппу В от общей  \n",
    "device_group_B = device_group.query('test_group == \"B\"')\n",
    "device_group_B"
   ]
  },
  {
   "cell_type": "code",
   "execution_count": 29,
   "metadata": {},
   "outputs": [
    {
     "data": {
      "text/plain": [
       "Text(0.5, 1.0, 'Доля каждого типа устройства для пользователей из группы B')"
      ]
     },
     "execution_count": 29,
     "metadata": {},
     "output_type": "execute_result"
    },
    {
     "data": {
      "image/png": "[encoded data removed]",
      "text/plain": [
       "<Figure size 864x432 with 2 Axes>"
      ]
     },
     "metadata": {
      "needs_background": "light"
     },
     "output_type": "display_data"
    }
   ],
   "source": [
    "# Построение диаграммы для группы B\n",
    "labels_b = device_group_B['device']\n",
    "sizes_b = device_group_B['user_id']\n",
    "\n",
    "fig, axes = plt.subplots(1, 2, figsize=(12, 6))\n",
    "axes[0].pie(sizes_b, labels=labels_b, autopct='%1.1f%%', startangle=90)\n",
    "axes[0].set_title('Доля каждого типа устройства для пользователей из группы B')"
   ]
  },
  {
   "cell_type": "markdown",
   "metadata": {},
   "source": [
    " "
   ]
  },
  {
   "cell_type": "markdown",
   "metadata": {
    "id": "gAgmP6vo0eM1"
   },
   "source": [
    "#### 3.4. Равномерность распределения пользователей по регионам"
   ]
  },
  {
   "cell_type": "code",
   "execution_count": 30,
   "metadata": {
    "id": "3hAq-FG4OdYM"
   },
   "outputs": [
    {
     "data": {
      "text/html": [
       "<div>\n",
       "<style scoped>\n",
       "    .dataframe tbody tr th:only-of-type {\n",
       "        vertical-align: middle;\n",
       "    }\n",
       "\n",
       "    .dataframe tbody tr th {\n",
       "        vertical-align: top;\n",
       "    }\n",
       "\n",
       "    .dataframe thead th {\n",
       "        text-align: right;\n",
       "    }\n",
       "</style>\n",
       "<table border=\"1\" class=\"dataframe\">\n",
       "  <thead>\n",
       "    <tr style=\"text-align: right;\">\n",
       "      <th></th>\n",
       "      <th>test_group</th>\n",
       "      <th>region</th>\n",
       "      <th>user_id</th>\n",
       "      <th>session_id</th>\n",
       "      <th>session_date</th>\n",
       "      <th>session_start_ts</th>\n",
       "      <th>install_date</th>\n",
       "      <th>session_number</th>\n",
       "      <th>registration_flag</th>\n",
       "      <th>page_counter</th>\n",
       "      <th>device</th>\n",
       "    </tr>\n",
       "  </thead>\n",
       "  <tbody>\n",
       "    <tr>\n",
       "      <th>0</th>\n",
       "      <td>A</td>\n",
       "      <td>CIS</td>\n",
       "      <td>644</td>\n",
       "      <td>656</td>\n",
       "      <td>1</td>\n",
       "      <td>649</td>\n",
       "      <td>3</td>\n",
       "      <td>5</td>\n",
       "      <td>2</td>\n",
       "      <td>6</td>\n",
       "      <td>4</td>\n",
       "    </tr>\n",
       "    <tr>\n",
       "      <th>1</th>\n",
       "      <td>A</td>\n",
       "      <td>EU</td>\n",
       "      <td>224</td>\n",
       "      <td>233</td>\n",
       "      <td>1</td>\n",
       "      <td>232</td>\n",
       "      <td>3</td>\n",
       "      <td>7</td>\n",
       "      <td>2</td>\n",
       "      <td>5</td>\n",
       "      <td>4</td>\n",
       "    </tr>\n",
       "    <tr>\n",
       "      <th>2</th>\n",
       "      <td>A</td>\n",
       "      <td>MENA</td>\n",
       "      <td>609</td>\n",
       "      <td>613</td>\n",
       "      <td>1</td>\n",
       "      <td>610</td>\n",
       "      <td>3</td>\n",
       "      <td>4</td>\n",
       "      <td>2</td>\n",
       "      <td>6</td>\n",
       "      <td>4</td>\n",
       "    </tr>\n",
       "    <tr>\n",
       "      <th>3</th>\n",
       "      <td>B</td>\n",
       "      <td>CIS</td>\n",
       "      <td>645</td>\n",
       "      <td>645</td>\n",
       "      <td>1</td>\n",
       "      <td>642</td>\n",
       "      <td>1</td>\n",
       "      <td>1</td>\n",
       "      <td>2</td>\n",
       "      <td>7</td>\n",
       "      <td>4</td>\n",
       "    </tr>\n",
       "    <tr>\n",
       "      <th>4</th>\n",
       "      <td>B</td>\n",
       "      <td>EU</td>\n",
       "      <td>217</td>\n",
       "      <td>220</td>\n",
       "      <td>1</td>\n",
       "      <td>219</td>\n",
       "      <td>2</td>\n",
       "      <td>4</td>\n",
       "      <td>2</td>\n",
       "      <td>7</td>\n",
       "      <td>4</td>\n",
       "    </tr>\n",
       "    <tr>\n",
       "      <th>5</th>\n",
       "      <td>B</td>\n",
       "      <td>MENA</td>\n",
       "      <td>604</td>\n",
       "      <td>763</td>\n",
       "      <td>1</td>\n",
       "      <td>758</td>\n",
       "      <td>7</td>\n",
       "      <td>7</td>\n",
       "      <td>2</td>\n",
       "      <td>7</td>\n",
       "      <td>4</td>\n",
       "    </tr>\n",
       "  </tbody>\n",
       "</table>\n",
       "</div>"
      ],
      "text/plain": [
       "  test_group region  user_id  session_id  session_date  session_start_ts  \\\n",
       "0          A    CIS      644         656             1               649   \n",
       "1          A     EU      224         233             1               232   \n",
       "2          A   MENA      609         613             1               610   \n",
       "3          B    CIS      645         645             1               642   \n",
       "4          B     EU      217         220             1               219   \n",
       "5          B   MENA      604         763             1               758   \n",
       "\n",
       "   install_date  session_number  registration_flag  page_counter  device  \n",
       "0             3               5                  2             6       4  \n",
       "1             3               7                  2             5       4  \n",
       "2             3               4                  2             6       4  \n",
       "3             1               1                  2             7       4  \n",
       "4             2               4                  2             7       4  \n",
       "5             7               7                  2             7       4  "
      ]
     },
     "execution_count": 30,
     "metadata": {},
     "output_type": "execute_result"
    }
   ],
   "source": [
    "# находим количество регионов пользователей для каждой группы \n",
    "region_group = sessions_test_part.groupby(['test_group','region']).nunique().reset_index()\n",
    "region_group"
   ]
  },
  {
   "cell_type": "code",
   "execution_count": 31,
   "metadata": {},
   "outputs": [
    {
     "data": {
      "text/html": [
       "<div>\n",
       "<style scoped>\n",
       "    .dataframe tbody tr th:only-of-type {\n",
       "        vertical-align: middle;\n",
       "    }\n",
       "\n",
       "    .dataframe tbody tr th {\n",
       "        vertical-align: top;\n",
       "    }\n",
       "\n",
       "    .dataframe thead th {\n",
       "        text-align: right;\n",
       "    }\n",
       "</style>\n",
       "<table border=\"1\" class=\"dataframe\">\n",
       "  <thead>\n",
       "    <tr style=\"text-align: right;\">\n",
       "      <th></th>\n",
       "      <th>test_group</th>\n",
       "      <th>region</th>\n",
       "      <th>user_id</th>\n",
       "      <th>session_id</th>\n",
       "      <th>session_date</th>\n",
       "      <th>session_start_ts</th>\n",
       "      <th>install_date</th>\n",
       "      <th>session_number</th>\n",
       "      <th>registration_flag</th>\n",
       "      <th>page_counter</th>\n",
       "      <th>device</th>\n",
       "    </tr>\n",
       "  </thead>\n",
       "  <tbody>\n",
       "    <tr>\n",
       "      <th>0</th>\n",
       "      <td>A</td>\n",
       "      <td>CIS</td>\n",
       "      <td>644</td>\n",
       "      <td>656</td>\n",
       "      <td>1</td>\n",
       "      <td>649</td>\n",
       "      <td>3</td>\n",
       "      <td>5</td>\n",
       "      <td>2</td>\n",
       "      <td>6</td>\n",
       "      <td>4</td>\n",
       "    </tr>\n",
       "    <tr>\n",
       "      <th>1</th>\n",
       "      <td>A</td>\n",
       "      <td>EU</td>\n",
       "      <td>224</td>\n",
       "      <td>233</td>\n",
       "      <td>1</td>\n",
       "      <td>232</td>\n",
       "      <td>3</td>\n",
       "      <td>7</td>\n",
       "      <td>2</td>\n",
       "      <td>5</td>\n",
       "      <td>4</td>\n",
       "    </tr>\n",
       "    <tr>\n",
       "      <th>2</th>\n",
       "      <td>A</td>\n",
       "      <td>MENA</td>\n",
       "      <td>609</td>\n",
       "      <td>613</td>\n",
       "      <td>1</td>\n",
       "      <td>610</td>\n",
       "      <td>3</td>\n",
       "      <td>4</td>\n",
       "      <td>2</td>\n",
       "      <td>6</td>\n",
       "      <td>4</td>\n",
       "    </tr>\n",
       "  </tbody>\n",
       "</table>\n",
       "</div>"
      ],
      "text/plain": [
       "  test_group region  user_id  session_id  session_date  session_start_ts  \\\n",
       "0          A    CIS      644         656             1               649   \n",
       "1          A     EU      224         233             1               232   \n",
       "2          A   MENA      609         613             1               610   \n",
       "\n",
       "   install_date  session_number  registration_flag  page_counter  device  \n",
       "0             3               5                  2             6       4  \n",
       "1             3               7                  2             5       4  \n",
       "2             3               4                  2             6       4  "
      ]
     },
     "execution_count": 31,
     "metadata": {},
     "output_type": "execute_result"
    }
   ],
   "source": [
    "# отдеяем группу А от общей \n",
    "region_group_A =region_group.query('test_group == \"A\"')\n",
    "region_group_A"
   ]
  },
  {
   "cell_type": "code",
   "execution_count": 32,
   "metadata": {},
   "outputs": [
    {
     "data": {
      "text/plain": [
       "Text(0.5, 1.0, 'Доля каждого региона для пользователей из группы A')"
      ]
     },
     "execution_count": 32,
     "metadata": {},
     "output_type": "execute_result"
    },
    {
     "data": {
      "image/png": "[encoded data removed]",
      "text/plain": [
       "<Figure size 864x432 with 2 Axes>"
      ]
     },
     "metadata": {
      "needs_background": "light"
     },
     "output_type": "display_data"
    }
   ],
   "source": [
    "# Построение диаграммы для группы A\n",
    "labels_a = region_group_A['region']\n",
    "sizes_a = region_group_A['user_id']\n",
    "\n",
    "fig, axes = plt.subplots(1, 2, figsize=(12, 6))\n",
    "axes[0].pie(sizes_a, labels=labels_a, autopct='%1.1f%%', startangle=90)\n",
    "axes[0].set_title('Доля каждого региона для пользователей из группы A')"
   ]
  },
  {
   "cell_type": "code",
   "execution_count": 33,
   "metadata": {},
   "outputs": [
    {
     "data": {
      "text/html": [
       "<div>\n",
       "<style scoped>\n",
       "    .dataframe tbody tr th:only-of-type {\n",
       "        vertical-align: middle;\n",
       "    }\n",
       "\n",
       "    .dataframe tbody tr th {\n",
       "        vertical-align: top;\n",
       "    }\n",
       "\n",
       "    .dataframe thead th {\n",
       "        text-align: right;\n",
       "    }\n",
       "</style>\n",
       "<table border=\"1\" class=\"dataframe\">\n",
       "  <thead>\n",
       "    <tr style=\"text-align: right;\">\n",
       "      <th></th>\n",
       "      <th>test_group</th>\n",
       "      <th>region</th>\n",
       "      <th>user_id</th>\n",
       "      <th>session_id</th>\n",
       "      <th>session_date</th>\n",
       "      <th>session_start_ts</th>\n",
       "      <th>install_date</th>\n",
       "      <th>session_number</th>\n",
       "      <th>registration_flag</th>\n",
       "      <th>page_counter</th>\n",
       "      <th>device</th>\n",
       "    </tr>\n",
       "  </thead>\n",
       "  <tbody>\n",
       "    <tr>\n",
       "      <th>3</th>\n",
       "      <td>B</td>\n",
       "      <td>CIS</td>\n",
       "      <td>645</td>\n",
       "      <td>645</td>\n",
       "      <td>1</td>\n",
       "      <td>642</td>\n",
       "      <td>1</td>\n",
       "      <td>1</td>\n",
       "      <td>2</td>\n",
       "      <td>7</td>\n",
       "      <td>4</td>\n",
       "    </tr>\n",
       "    <tr>\n",
       "      <th>4</th>\n",
       "      <td>B</td>\n",
       "      <td>EU</td>\n",
       "      <td>217</td>\n",
       "      <td>220</td>\n",
       "      <td>1</td>\n",
       "      <td>219</td>\n",
       "      <td>2</td>\n",
       "      <td>4</td>\n",
       "      <td>2</td>\n",
       "      <td>7</td>\n",
       "      <td>4</td>\n",
       "    </tr>\n",
       "    <tr>\n",
       "      <th>5</th>\n",
       "      <td>B</td>\n",
       "      <td>MENA</td>\n",
       "      <td>604</td>\n",
       "      <td>763</td>\n",
       "      <td>1</td>\n",
       "      <td>758</td>\n",
       "      <td>7</td>\n",
       "      <td>7</td>\n",
       "      <td>2</td>\n",
       "      <td>7</td>\n",
       "      <td>4</td>\n",
       "    </tr>\n",
       "  </tbody>\n",
       "</table>\n",
       "</div>"
      ],
      "text/plain": [
       "  test_group region  user_id  session_id  session_date  session_start_ts  \\\n",
       "3          B    CIS      645         645             1               642   \n",
       "4          B     EU      217         220             1               219   \n",
       "5          B   MENA      604         763             1               758   \n",
       "\n",
       "   install_date  session_number  registration_flag  page_counter  device  \n",
       "3             1               1                  2             7       4  \n",
       "4             2               4                  2             7       4  \n",
       "5             7               7                  2             7       4  "
      ]
     },
     "execution_count": 33,
     "metadata": {},
     "output_type": "execute_result"
    }
   ],
   "source": [
    "# отделяем группы В от общей \n",
    "region_group_B =region_group.query('test_group == \"B\"')\n",
    "region_group_B"
   ]
  },
  {
   "cell_type": "code",
   "execution_count": 34,
   "metadata": {},
   "outputs": [
    {
     "data": {
      "text/plain": [
       "Text(0.5, 1.0, 'Доля каждого региона для пользователей из группы B')"
      ]
     },
     "execution_count": 34,
     "metadata": {},
     "output_type": "execute_result"
    },
    {
     "data": {
      "image/png": "[encoded data removed]",
      "text/plain": [
       "<Figure size 864x432 with 2 Axes>"
      ]
     },
     "metadata": {
      "needs_background": "light"
     },
     "output_type": "display_data"
    }
   ],
   "source": [
    "# Построение диаграммы для группы A\n",
    "labels_a = region_group_B['region']\n",
    "sizes_a = region_group_B['user_id']\n",
    "\n",
    "fig, axes = plt.subplots(1, 2, figsize=(12, 6))\n",
    "axes[0].pie(sizes_a, labels=labels_a, autopct='%1.1f%%', startangle=90)\n",
    "axes[0].set_title('Доля каждого региона для пользователей из группы B')"
   ]
  },
  {
   "cell_type": "markdown",
   "metadata": {},
   "source": [
    " "
   ]
  },
  {
   "cell_type": "markdown",
   "metadata": {
    "id": "X2WSZ-sDrSUi"
   },
   "source": [
    "#### 3.5. Вывод после проверки A/B-теста"
   ]
  },
  {
   "cell_type": "markdown",
   "metadata": {},
   "source": [
    " "
   ]
  },
  {
   "cell_type": "markdown",
   "metadata": {},
   "source": [
    "- Размер выборки достаточный для проведения корректного тестирования;\n",
    "- Различие между двумя группами в количестве пользователей было обнаружено, но незначительное, что не повлияет на результаты тестирования;\n",
    "- Также в выборке отсутсвуют пересечения пользователей и она является независимой; \n",
    "- Распределение пользователей по устройствам является достаточно равномерным, также, как и по регионам. Но стоит отметить, что незначительные различия между группами присутствуют. \n",
    "\n",
    "А/В тестирование проходит корректно без каких-либо нарушений. "
   ]
  },
  {
   "cell_type": "markdown",
   "metadata": {
    "id": "dDELHlAcOi8d"
   },
   "source": [
    " "
   ]
  },
  {
   "cell_type": "markdown",
   "metadata": {
    "id": "nudRr_BQ0eM2"
   },
   "source": [
    "### 4. Проверка результатов A/B-теста\n"
   ]
  },
  {
   "cell_type": "markdown",
   "metadata": {
    "id": "JVve-YBB0eM2"
   },
   "source": [
    "#### 4.1. Получение результатов теста и подсчёт основной метрики\n"
   ]
  },
  {
   "cell_type": "code",
   "execution_count": 35,
   "metadata": {
    "id": "EqRlwMtKPTir"
   },
   "outputs": [],
   "source": [
    "# создаем новый датафрейм\n",
    "sessions_test = pd.read_csv('/datasets/sessions_project_test.csv')"
   ]
  },
  {
   "cell_type": "code",
   "execution_count": 36,
   "metadata": {},
   "outputs": [],
   "source": [
    "# создаем доп. столбец \n",
    "sessions_test['good_session'] = (sessions_test['page_counter'] >= 4).astype(int)"
   ]
  },
  {
   "cell_type": "markdown",
   "metadata": {},
   "source": [
    " "
   ]
  },
  {
   "cell_type": "markdown",
   "metadata": {
    "id": "aeYhrMYy0eM2"
   },
   "source": [
    "#### 4.2. Проверка корректности результатов теста"
   ]
  },
  {
   "cell_type": "markdown",
   "metadata": {},
   "source": [
    "Формулируем гипотезы: \n",
    "- H₀ (нулевая гипотеза) - количество уникальных дневных сессий не различается между тестовой и контрольными группами, \n",
    "- Н₁(альтернативная гипотеза) - количество уникальных дневных сессий различается между тестовой и контрольными группами "
   ]
  },
  {
   "cell_type": "code",
   "execution_count": 37,
   "metadata": {
    "id": "Uku-V1CpPRCz",
    "scrolled": true
   },
   "outputs": [],
   "source": [
    "# считаем количество уникальных сессий для каждого дня и обеих тестовых групп\n",
    "session_per_day = sessions_test.groupby(['session_date', 'test_group'])['session_id'].nunique()"
   ]
  },
  {
   "cell_type": "code",
   "execution_count": 38,
   "metadata": {},
   "outputs": [
    {
     "data": {
      "text/html": [
       "<div>\n",
       "<style scoped>\n",
       "    .dataframe tbody tr th:only-of-type {\n",
       "        vertical-align: middle;\n",
       "    }\n",
       "\n",
       "    .dataframe tbody tr th {\n",
       "        vertical-align: top;\n",
       "    }\n",
       "\n",
       "    .dataframe thead th {\n",
       "        text-align: right;\n",
       "    }\n",
       "</style>\n",
       "<table border=\"1\" class=\"dataframe\">\n",
       "  <thead>\n",
       "    <tr style=\"text-align: right;\">\n",
       "      <th>test_group</th>\n",
       "      <th>A</th>\n",
       "      <th>B</th>\n",
       "    </tr>\n",
       "    <tr>\n",
       "      <th>session_date</th>\n",
       "      <th></th>\n",
       "      <th></th>\n",
       "    </tr>\n",
       "  </thead>\n",
       "  <tbody>\n",
       "    <tr>\n",
       "      <th>2025-10-14</th>\n",
       "      <td>1502</td>\n",
       "      <td>1628</td>\n",
       "    </tr>\n",
       "    <tr>\n",
       "      <th>2025-10-15</th>\n",
       "      <td>2235</td>\n",
       "      <td>2283</td>\n",
       "    </tr>\n",
       "    <tr>\n",
       "      <th>2025-10-16</th>\n",
       "      <td>3280</td>\n",
       "      <td>3241</td>\n",
       "    </tr>\n",
       "    <tr>\n",
       "      <th>2025-10-17</th>\n",
       "      <td>4089</td>\n",
       "      <td>4054</td>\n",
       "    </tr>\n",
       "    <tr>\n",
       "      <th>2025-10-18</th>\n",
       "      <td>5013</td>\n",
       "      <td>5059</td>\n",
       "    </tr>\n",
       "    <tr>\n",
       "      <th>2025-10-19</th>\n",
       "      <td>6535</td>\n",
       "      <td>6779</td>\n",
       "    </tr>\n",
       "    <tr>\n",
       "      <th>2025-10-20</th>\n",
       "      <td>5837</td>\n",
       "      <td>6089</td>\n",
       "    </tr>\n",
       "    <tr>\n",
       "      <th>2025-10-21</th>\n",
       "      <td>3927</td>\n",
       "      <td>3981</td>\n",
       "    </tr>\n",
       "    <tr>\n",
       "      <th>2025-10-22</th>\n",
       "      <td>3083</td>\n",
       "      <td>3111</td>\n",
       "    </tr>\n",
       "    <tr>\n",
       "      <th>2025-10-23</th>\n",
       "      <td>2470</td>\n",
       "      <td>2548</td>\n",
       "    </tr>\n",
       "    <tr>\n",
       "      <th>2025-10-24</th>\n",
       "      <td>2090</td>\n",
       "      <td>2068</td>\n",
       "    </tr>\n",
       "    <tr>\n",
       "      <th>2025-10-25</th>\n",
       "      <td>1897</td>\n",
       "      <td>1814</td>\n",
       "    </tr>\n",
       "    <tr>\n",
       "      <th>2025-10-26</th>\n",
       "      <td>1669</td>\n",
       "      <td>1692</td>\n",
       "    </tr>\n",
       "    <tr>\n",
       "      <th>2025-10-27</th>\n",
       "      <td>1454</td>\n",
       "      <td>1517</td>\n",
       "    </tr>\n",
       "    <tr>\n",
       "      <th>2025-10-28</th>\n",
       "      <td>1279</td>\n",
       "      <td>1289</td>\n",
       "    </tr>\n",
       "    <tr>\n",
       "      <th>2025-10-29</th>\n",
       "      <td>1068</td>\n",
       "      <td>1131</td>\n",
       "    </tr>\n",
       "    <tr>\n",
       "      <th>2025-10-30</th>\n",
       "      <td>887</td>\n",
       "      <td>876</td>\n",
       "    </tr>\n",
       "    <tr>\n",
       "      <th>2025-10-31</th>\n",
       "      <td>644</td>\n",
       "      <td>669</td>\n",
       "    </tr>\n",
       "    <tr>\n",
       "      <th>2025-11-01</th>\n",
       "      <td>434</td>\n",
       "      <td>465</td>\n",
       "    </tr>\n",
       "    <tr>\n",
       "      <th>2025-11-02</th>\n",
       "      <td>158</td>\n",
       "      <td>160</td>\n",
       "    </tr>\n",
       "  </tbody>\n",
       "</table>\n",
       "</div>"
      ],
      "text/plain": [
       "test_group       A     B\n",
       "session_date            \n",
       "2025-10-14    1502  1628\n",
       "2025-10-15    2235  2283\n",
       "2025-10-16    3280  3241\n",
       "2025-10-17    4089  4054\n",
       "2025-10-18    5013  5059\n",
       "2025-10-19    6535  6779\n",
       "2025-10-20    5837  6089\n",
       "2025-10-21    3927  3981\n",
       "2025-10-22    3083  3111\n",
       "2025-10-23    2470  2548\n",
       "2025-10-24    2090  2068\n",
       "2025-10-25    1897  1814\n",
       "2025-10-26    1669  1692\n",
       "2025-10-27    1454  1517\n",
       "2025-10-28    1279  1289\n",
       "2025-10-29    1068  1131\n",
       "2025-10-30     887   876\n",
       "2025-10-31     644   669\n",
       "2025-11-01     434   465\n",
       "2025-11-02     158   160"
      ]
     },
     "execution_count": 38,
     "metadata": {},
     "output_type": "execute_result"
    }
   ],
   "source": [
    "s_p_d = session_per_day.reset_index().pivot(index = 'session_date', columns = 'test_group', values = 'session_id')\n",
    "s_p_d"
   ]
  },
  {
   "cell_type": "code",
   "execution_count": 39,
   "metadata": {},
   "outputs": [],
   "source": [
    "from scipy import stats as st\n",
    "import numpy as np"
   ]
  },
  {
   "cell_type": "code",
   "execution_count": 40,
   "metadata": {},
   "outputs": [],
   "source": [
    "# формируем метрику для каждой группы \n",
    "group_1 = s_p_d[\"A\"]\n",
    "group_2 = s_p_d[\"B\"]"
   ]
  },
  {
   "cell_type": "code",
   "execution_count": 41,
   "metadata": {},
   "outputs": [
    {
     "name": "stdout",
     "output_type": "stream",
     "text": [
      "pvalue: 0.94\n",
      "Не получилось отвергнуть нулевую гипотезу. Количество уникальных дневных сессий не различается между тестовой и контрольными группами\n"
     ]
    }
   ],
   "source": [
    "# проводим т-тест\n",
    "alpha = 0.05 \n",
    "results = st.ttest_ind(\n",
    "    group_1,\n",
    "    group_2,\n",
    "    equal_var = False,\n",
    "    alternative= 'two-sided'\n",
    ")\n",
    "print('pvalue:',round(results.pvalue, 2))\n",
    "if results.pvalue < alpha: \n",
    "    print('Отвергаем нулевую гипотезу. Количество уникальных дневных сессий различается между тестовой и контрольными группами')\n",
    "else:\n",
    "    print('Не получилось отвергнуть нулевую гипотезу. Количество уникальных дневных сессий не различается между тестовой и контрольными группами')"
   ]
  },
  {
   "cell_type": "markdown",
   "metadata": {},
   "source": [
    " "
   ]
  },
  {
   "cell_type": "markdown",
   "metadata": {},
   "source": [
    "#### 4.3. Сравнение доли успешных сессий"
   ]
  },
  {
   "cell_type": "code",
   "execution_count": 42,
   "metadata": {},
   "outputs": [
    {
     "data": {
      "text/html": [
       "<div>\n",
       "<style scoped>\n",
       "    .dataframe tbody tr th:only-of-type {\n",
       "        vertical-align: middle;\n",
       "    }\n",
       "\n",
       "    .dataframe tbody tr th {\n",
       "        vertical-align: top;\n",
       "    }\n",
       "\n",
       "    .dataframe thead th {\n",
       "        text-align: right;\n",
       "    }\n",
       "</style>\n",
       "<table border=\"1\" class=\"dataframe\">\n",
       "  <thead>\n",
       "    <tr style=\"text-align: right;\">\n",
       "      <th></th>\n",
       "      <th>test_group</th>\n",
       "      <th>perc</th>\n",
       "    </tr>\n",
       "  </thead>\n",
       "  <tbody>\n",
       "    <tr>\n",
       "      <th>0</th>\n",
       "      <td>A</td>\n",
       "      <td>0.307723</td>\n",
       "    </tr>\n",
       "    <tr>\n",
       "      <th>1</th>\n",
       "      <td>B</td>\n",
       "      <td>0.318290</td>\n",
       "    </tr>\n",
       "  </tbody>\n",
       "</table>\n",
       "</div>"
      ],
      "text/plain": [
       "  test_group      perc\n",
       "0          A  0.307723\n",
       "1          B  0.318290"
      ]
     },
     "execution_count": 42,
     "metadata": {},
     "output_type": "execute_result"
    }
   ],
   "source": [
    "# Рассчитываем долю успешных сессий для каждой группы\n",
    "perc_good_session = sessions_test.groupby('test_group')['good_session'].mean().reset_index(name = 'perc')\n",
    "perc_good_session"
   ]
  },
  {
   "cell_type": "code",
   "execution_count": 43,
   "metadata": {},
   "outputs": [
    {
     "data": {
      "text/plain": [
       "0.01"
      ]
     },
     "execution_count": 43,
     "metadata": {},
     "output_type": "execute_result"
    }
   ],
   "source": [
    "diff = round(sessions_test[sessions_test['test_group'] == 'B']['good_session'].mean() - sessions_test[sessions_test['test_group'] == 'A']['good_session'].mean(), 2)\n",
    "diff"
   ]
  },
  {
   "cell_type": "code",
   "execution_count": 44,
   "metadata": {},
   "outputs": [
    {
     "name": "stdout",
     "output_type": "stream",
     "text": [
      " Разница метрики долей упешных сессий между выборками А и В = 0.01\n"
     ]
    }
   ],
   "source": [
    "print(f\" Разница метрики долей упешных сессий между выборками А и В = {diff}\")"
   ]
  },
  {
   "cell_type": "markdown",
   "metadata": {},
   "source": [
    " "
   ]
  },
  {
   "cell_type": "markdown",
   "metadata": {
    "id": "9fMFuja10eM4"
   },
   "source": [
    "#### 4.4. Насколько статистически значимо изменение ключевой метрики\n"
   ]
  },
  {
   "cell_type": "code",
   "execution_count": 45,
   "metadata": {
    "id": "gFvhRGwlPLS0"
   },
   "outputs": [
    {
     "data": {
      "text/plain": [
       "(49551, 50454)"
      ]
     },
     "execution_count": 45,
     "metadata": {},
     "output_type": "execute_result"
    }
   ],
   "source": [
    "# рассчитаем количество сессий \n",
    "n_a = sessions_test[sessions_test['test_group'] == 'A'].shape[0]\n",
    "n_b = sessions_test[sessions_test['test_group'] == 'B'].shape[0]\n",
    "n_a, n_b"
   ]
  },
  {
   "cell_type": "code",
   "execution_count": 46,
   "metadata": {},
   "outputs": [
    {
     "data": {
      "text/plain": [
       "(15248, 16059)"
      ]
     },
     "execution_count": 46,
     "metadata": {},
     "output_type": "execute_result"
    }
   ],
   "source": [
    "# рассчитаем количество успешных сессий \n",
    "m_a = sessions_test[sessions_test['test_group'] == 'A']['good_session'].sum()\n",
    "m_b = sessions_test[sessions_test['test_group'] == 'B']['good_session'].sum()\n",
    "m_a, m_b"
   ]
  },
  {
   "cell_type": "code",
   "execution_count": 47,
   "metadata": {},
   "outputs": [],
   "source": [
    "# расчитываем доли успехов для каждой группы \n",
    "p_a, p_b = m_a / n_a, m_b / n_b"
   ]
  },
  {
   "cell_type": "code",
   "execution_count": 48,
   "metadata": {},
   "outputs": [
    {
     "name": "stdout",
     "output_type": "stream",
     "text": [
      "p_value = 0.0003149479976072246. Изменение в доле успешных сессий статистически значимо.\n"
     ]
    }
   ],
   "source": [
    "# используем Z-тест \n",
    "from statsmodels.stats.proportion import proportions_ztest\n",
    "alpha = 0.05\n",
    "stat_ztest, p_value_ztest = proportions_ztest(\n",
    "    [m_a, m_b],\n",
    "    [n_a, n_b],\n",
    "    alternative = 'two-sided')\n",
    "p_value_ztest\n",
    "if p_value_ztest > alpha:\n",
    "    print(f'p_value = {p_value_ztest}. Изменение в доле успешных сессий не является статистически значимым.')\n",
    "else:\n",
    "    print(f'p_value = {p_value_ztest}. Изменение в доле успешных сессий статистически значимо.')"
   ]
  },
  {
   "cell_type": "markdown",
   "metadata": {},
   "source": [
    " "
   ]
  },
  {
   "cell_type": "markdown",
   "metadata": {
    "id": "GnJrkY9Q63zS"
   },
   "source": [
    "#### 4.5. Вывод по результатам A/B-эксперимента\n"
   ]
  },
  {
   "cell_type": "markdown",
   "metadata": {},
   "source": [
    "- При проведении эксперимента размер выборки для каждой группы составил 17 441 человек,\n",
    "- На проведение А/В теста потребовалоь 4 дня,\n",
    "- Внедрение нового алгоритма рекомендаций повлияло на ключевую метрику - доля успешных сессий, увеличив ее на 1,1%,\n",
    "- При проведениее дополнительных тестов, было выявлено, что данное изменение в доле успешных сессий статистически значимо,\n",
    "- Значение p-value составило 0.0003149479976072246\n",
    "- По результатам теста было выявлено, что положительные изменения в ключевой метрике достигли тех значений, при котором изменение стало статистически значимым, то есть эффективным. Из этого можно сделать вывод, что внедрять нововведение в приложение стоит. "
   ]
  }
 ],
 "metadata": {
  "ExecuteTimeLog": [
   {
    "duration": 423,
    "start_time": "2025-03-18T11:33:10.268Z"
   },
   {
    "duration": 113,
    "start_time": "2025-03-18T11:34:11.007Z"
   },
   {
    "duration": 1023,
    "start_time": "2025-03-18T11:34:24.143Z"
   },
   {
    "duration": 633,
    "start_time": "2025-03-18T11:41:13.494Z"
   },
   {
    "duration": 576,
    "start_time": "2025-03-18T11:45:24.218Z"
   },
   {
    "duration": 544,
    "start_time": "2025-03-18T11:45:32.569Z"
   },
   {
    "duration": 82,
    "start_time": "2025-03-18T11:47:28.485Z"
   },
   {
    "duration": 7,
    "start_time": "2025-03-18T11:47:36.037Z"
   },
   {
    "duration": 7,
    "start_time": "2025-03-18T11:47:50.918Z"
   },
   {
    "duration": 33,
    "start_time": "2025-03-18T11:49:56.837Z"
   },
   {
    "duration": 25,
    "start_time": "2025-03-18T11:50:20.154Z"
   },
   {
    "duration": 25,
    "start_time": "2025-03-18T11:51:00.644Z"
   },
   {
    "duration": 23,
    "start_time": "2025-03-18T11:51:07.202Z"
   },
   {
    "duration": 8,
    "start_time": "2025-03-18T11:59:58.336Z"
   },
   {
    "duration": 164,
    "start_time": "2025-03-18T12:00:04.988Z"
   },
   {
    "duration": 91,
    "start_time": "2025-03-18T12:06:04.606Z"
   },
   {
    "duration": 92,
    "start_time": "2025-03-18T12:06:57.456Z"
   },
   {
    "duration": 10,
    "start_time": "2025-03-18T12:07:04.204Z"
   },
   {
    "duration": 175,
    "start_time": "2025-03-18T12:08:31.638Z"
   },
   {
    "duration": 165,
    "start_time": "2025-03-18T12:10:26.109Z"
   },
   {
    "duration": 8,
    "start_time": "2025-03-18T12:13:23.174Z"
   },
   {
    "duration": 954,
    "start_time": "2025-03-18T12:14:25.424Z"
   },
   {
    "duration": 214,
    "start_time": "2025-03-18T12:14:26.381Z"
   },
   {
    "duration": 197,
    "start_time": "2025-03-18T12:20:45.761Z"
   },
   {
    "duration": 1197,
    "start_time": "2025-03-18T12:24:12.282Z"
   },
   {
    "duration": 1654,
    "start_time": "2025-03-18T12:30:05.865Z"
   },
   {
    "duration": 634,
    "start_time": "2025-03-18T12:30:30.515Z"
   },
   {
    "duration": 725,
    "start_time": "2025-03-18T12:31:14.265Z"
   },
   {
    "duration": 620,
    "start_time": "2025-03-18T12:31:20.648Z"
   },
   {
    "duration": 609,
    "start_time": "2025-03-18T12:31:28.732Z"
   },
   {
    "duration": 628,
    "start_time": "2025-03-18T12:31:34.869Z"
   },
   {
    "duration": 703,
    "start_time": "2025-03-18T12:31:45.605Z"
   },
   {
    "duration": 183,
    "start_time": "2025-03-18T12:32:26.765Z"
   },
   {
    "duration": 180,
    "start_time": "2025-03-18T12:33:34.782Z"
   },
   {
    "duration": 12,
    "start_time": "2025-03-18T12:39:07.002Z"
   },
   {
    "duration": 134,
    "start_time": "2025-03-18T12:39:15.783Z"
   },
   {
    "duration": 81,
    "start_time": "2025-03-18T12:39:33.617Z"
   },
   {
    "duration": 1299,
    "start_time": "2025-03-18T12:39:39.249Z"
   },
   {
    "duration": 129,
    "start_time": "2025-03-18T12:39:52.735Z"
   },
   {
    "duration": 100,
    "start_time": "2025-03-18T12:40:13.622Z"
   },
   {
    "duration": 1705,
    "start_time": "2025-03-18T12:40:18.416Z"
   },
   {
    "duration": 100,
    "start_time": "2025-03-18T12:41:00.151Z"
   },
   {
    "duration": 10,
    "start_time": "2025-03-18T12:42:57.917Z"
   },
   {
    "duration": 1025,
    "start_time": "2025-03-18T12:44:07.116Z"
   },
   {
    "duration": 10,
    "start_time": "2025-03-18T12:45:33.289Z"
   },
   {
    "duration": 373,
    "start_time": "2025-03-18T12:45:57.578Z"
   },
   {
    "duration": 1016,
    "start_time": "2025-03-18T12:45:57.953Z"
   },
   {
    "duration": 597,
    "start_time": "2025-03-18T12:45:58.971Z"
   },
   {
    "duration": 35,
    "start_time": "2025-03-18T12:45:59.569Z"
   },
   {
    "duration": 24,
    "start_time": "2025-03-18T12:45:59.606Z"
   },
   {
    "duration": 212,
    "start_time": "2025-03-18T12:45:59.631Z"
   },
   {
    "duration": 740,
    "start_time": "2025-03-18T12:45:59.845Z"
   },
   {
    "duration": 216,
    "start_time": "2025-03-18T12:46:00.587Z"
   },
   {
    "duration": 138,
    "start_time": "2025-03-18T12:46:00.804Z"
   },
   {
    "duration": 0,
    "start_time": "2025-03-18T12:46:00.944Z"
   },
   {
    "duration": 8,
    "start_time": "2025-03-18T12:47:29.690Z"
   },
   {
    "duration": 3,
    "start_time": "2025-03-18T12:47:49.472Z"
   },
   {
    "duration": 106,
    "start_time": "2025-03-18T12:48:53.817Z"
   },
   {
    "duration": 155,
    "start_time": "2025-03-18T12:49:29.006Z"
   },
   {
    "duration": 208,
    "start_time": "2025-03-18T12:49:42.306Z"
   },
   {
    "duration": 204,
    "start_time": "2025-03-18T12:49:51.368Z"
   },
   {
    "duration": 210,
    "start_time": "2025-03-18T12:50:15.986Z"
   },
   {
    "duration": 169,
    "start_time": "2025-03-18T12:50:32.773Z"
   },
   {
    "duration": 178,
    "start_time": "2025-03-18T12:50:43.336Z"
   },
   {
    "duration": 171,
    "start_time": "2025-03-18T12:50:56.752Z"
   },
   {
    "duration": 165,
    "start_time": "2025-03-18T12:51:34.183Z"
   },
   {
    "duration": 428,
    "start_time": "2025-03-18T12:52:15.588Z"
   },
   {
    "duration": 1071,
    "start_time": "2025-03-18T12:52:16.018Z"
   },
   {
    "duration": 603,
    "start_time": "2025-03-18T12:52:17.090Z"
   },
   {
    "duration": 35,
    "start_time": "2025-03-18T12:52:17.695Z"
   },
   {
    "duration": 40,
    "start_time": "2025-03-18T12:52:17.732Z"
   },
   {
    "duration": 185,
    "start_time": "2025-03-18T12:52:17.774Z"
   },
   {
    "duration": 701,
    "start_time": "2025-03-18T12:52:17.961Z"
   },
   {
    "duration": 198,
    "start_time": "2025-03-18T12:52:18.664Z"
   },
   {
    "duration": 213,
    "start_time": "2025-03-18T12:52:18.864Z"
   },
   {
    "duration": 183,
    "start_time": "2025-03-18T12:52:19.079Z"
   },
   {
    "duration": 118,
    "start_time": "2025-03-18T12:52:19.263Z"
   },
   {
    "duration": 0,
    "start_time": "2025-03-18T12:52:19.382Z"
   },
   {
    "duration": 35,
    "start_time": "2025-03-18T13:45:21.617Z"
   },
   {
    "duration": 14,
    "start_time": "2025-03-18T13:47:54.402Z"
   },
   {
    "duration": 37,
    "start_time": "2025-03-18T13:48:00.785Z"
   },
   {
    "duration": 167,
    "start_time": "2025-03-18T13:48:01.599Z"
   },
   {
    "duration": 161,
    "start_time": "2025-03-18T13:48:42.000Z"
   },
   {
    "duration": 152,
    "start_time": "2025-03-18T13:48:52.649Z"
   },
   {
    "duration": 158,
    "start_time": "2025-03-18T13:49:02.101Z"
   },
   {
    "duration": 161,
    "start_time": "2025-03-18T13:50:54.884Z"
   },
   {
    "duration": 227,
    "start_time": "2025-03-18T13:51:15.950Z"
   },
   {
    "duration": 152,
    "start_time": "2025-03-18T13:51:23.166Z"
   },
   {
    "duration": 437,
    "start_time": "2025-03-18T13:52:44.148Z"
   },
   {
    "duration": 1021,
    "start_time": "2025-03-18T13:52:44.587Z"
   },
   {
    "duration": 576,
    "start_time": "2025-03-18T13:52:45.611Z"
   },
   {
    "duration": 37,
    "start_time": "2025-03-18T13:52:46.188Z"
   },
   {
    "duration": 45,
    "start_time": "2025-03-18T13:52:46.227Z"
   },
   {
    "duration": 167,
    "start_time": "2025-03-18T13:52:46.273Z"
   },
   {
    "duration": 745,
    "start_time": "2025-03-18T13:52:46.442Z"
   },
   {
    "duration": 196,
    "start_time": "2025-03-18T13:52:47.189Z"
   },
   {
    "duration": 189,
    "start_time": "2025-03-18T13:52:47.387Z"
   },
   {
    "duration": 158,
    "start_time": "2025-03-18T13:52:47.578Z"
   },
   {
    "duration": 41,
    "start_time": "2025-03-18T13:52:47.738Z"
   },
   {
    "duration": 161,
    "start_time": "2025-03-18T13:52:47.781Z"
   },
   {
    "duration": 118,
    "start_time": "2025-03-18T13:52:47.943Z"
   },
   {
    "duration": 0,
    "start_time": "2025-03-18T13:52:48.062Z"
   },
   {
    "duration": 10,
    "start_time": "2025-03-18T13:57:26.304Z"
   },
   {
    "duration": 6,
    "start_time": "2025-03-18T13:57:34.750Z"
   },
   {
    "duration": 9,
    "start_time": "2025-03-18T13:57:43.001Z"
   },
   {
    "duration": 6,
    "start_time": "2025-03-18T13:57:54.993Z"
   },
   {
    "duration": 104,
    "start_time": "2025-03-18T14:01:06.952Z"
   },
   {
    "duration": 4,
    "start_time": "2025-03-18T14:01:19.451Z"
   },
   {
    "duration": 40,
    "start_time": "2025-03-18T14:01:33.835Z"
   },
   {
    "duration": 52,
    "start_time": "2025-03-18T14:01:54.902Z"
   },
   {
    "duration": 56,
    "start_time": "2025-03-18T14:02:02.801Z"
   },
   {
    "duration": 76,
    "start_time": "2025-03-18T14:03:21.719Z"
   },
   {
    "duration": 77,
    "start_time": "2025-03-18T14:04:00.302Z"
   },
   {
    "duration": 76,
    "start_time": "2025-03-18T14:04:09.819Z"
   },
   {
    "duration": 148,
    "start_time": "2025-03-18T14:06:06.985Z"
   },
   {
    "duration": 170,
    "start_time": "2025-03-18T14:06:13.919Z"
   },
   {
    "duration": 163,
    "start_time": "2025-03-18T14:06:22.739Z"
   },
   {
    "duration": 169,
    "start_time": "2025-03-18T14:06:56.262Z"
   },
   {
    "duration": 90,
    "start_time": "2025-03-18T14:07:50.035Z"
   },
   {
    "duration": 171,
    "start_time": "2025-03-18T14:07:50.805Z"
   },
   {
    "duration": 13,
    "start_time": "2025-03-18T14:10:43.186Z"
   },
   {
    "duration": 102,
    "start_time": "2025-03-18T14:20:06.155Z"
   },
   {
    "duration": 46,
    "start_time": "2025-03-18T14:20:16.292Z"
   },
   {
    "duration": 38,
    "start_time": "2025-03-18T14:20:19.295Z"
   },
   {
    "duration": 351,
    "start_time": "2025-03-18T14:20:20.655Z"
   },
   {
    "duration": 8,
    "start_time": "2025-03-18T14:20:53.421Z"
   },
   {
    "duration": 375,
    "start_time": "2025-03-18T14:22:02.984Z"
   },
   {
    "duration": 989,
    "start_time": "2025-03-18T14:22:03.361Z"
   },
   {
    "duration": 595,
    "start_time": "2025-03-18T14:22:04.352Z"
   },
   {
    "duration": 41,
    "start_time": "2025-03-18T14:22:04.949Z"
   },
   {
    "duration": 26,
    "start_time": "2025-03-18T14:22:04.992Z"
   },
   {
    "duration": 144,
    "start_time": "2025-03-18T14:22:05.019Z"
   },
   {
    "duration": 158,
    "start_time": "2025-03-18T14:22:05.165Z"
   },
   {
    "duration": 751,
    "start_time": "2025-03-18T14:22:05.325Z"
   },
   {
    "duration": 297,
    "start_time": "2025-03-18T14:22:06.077Z"
   },
   {
    "duration": 164,
    "start_time": "2025-03-18T14:22:06.376Z"
   },
   {
    "duration": 259,
    "start_time": "2025-03-18T14:22:06.542Z"
   },
   {
    "duration": 27,
    "start_time": "2025-03-18T14:22:06.802Z"
   },
   {
    "duration": 181,
    "start_time": "2025-03-18T14:22:06.831Z"
   },
   {
    "duration": 5,
    "start_time": "2025-03-18T14:22:07.013Z"
   },
   {
    "duration": 49,
    "start_time": "2025-03-18T14:22:07.020Z"
   },
   {
    "duration": 277,
    "start_time": "2025-03-18T14:22:07.071Z"
   },
   {
    "duration": 117,
    "start_time": "2025-03-18T14:22:07.358Z"
   },
   {
    "duration": 0,
    "start_time": "2025-03-18T14:22:07.477Z"
   },
   {
    "duration": 1607,
    "start_time": "2025-03-18T14:24:02.721Z"
   },
   {
    "duration": 430,
    "start_time": "2025-03-18T14:24:15.940Z"
   },
   {
    "duration": 1086,
    "start_time": "2025-03-18T14:24:16.372Z"
   },
   {
    "duration": 637,
    "start_time": "2025-03-18T14:24:17.460Z"
   },
   {
    "duration": 35,
    "start_time": "2025-03-18T14:24:18.099Z"
   },
   {
    "duration": 36,
    "start_time": "2025-03-18T14:24:18.137Z"
   },
   {
    "duration": 1809,
    "start_time": "2025-03-18T14:24:18.175Z"
   },
   {
    "duration": 179,
    "start_time": "2025-03-18T14:24:19.986Z"
   },
   {
    "duration": 776,
    "start_time": "2025-03-18T14:24:20.167Z"
   },
   {
    "duration": 194,
    "start_time": "2025-03-18T14:24:20.947Z"
   },
   {
    "duration": 209,
    "start_time": "2025-03-18T14:24:21.143Z"
   },
   {
    "duration": 190,
    "start_time": "2025-03-18T14:24:21.357Z"
   },
   {
    "duration": 29,
    "start_time": "2025-03-18T14:24:21.557Z"
   },
   {
    "duration": 201,
    "start_time": "2025-03-18T14:24:21.588Z"
   },
   {
    "duration": 6,
    "start_time": "2025-03-18T14:24:21.792Z"
   },
   {
    "duration": 99,
    "start_time": "2025-03-18T14:24:21.799Z"
   },
   {
    "duration": 186,
    "start_time": "2025-03-18T14:24:21.899Z"
   },
   {
    "duration": 132,
    "start_time": "2025-03-18T14:24:22.087Z"
   },
   {
    "duration": 1,
    "start_time": "2025-03-18T14:24:22.221Z"
   },
   {
    "duration": 372,
    "start_time": "2025-03-18T14:24:58.804Z"
   },
   {
    "duration": 989,
    "start_time": "2025-03-18T14:24:59.178Z"
   },
   {
    "duration": 590,
    "start_time": "2025-03-18T14:25:00.168Z"
   },
   {
    "duration": 36,
    "start_time": "2025-03-18T14:25:00.760Z"
   },
   {
    "duration": 26,
    "start_time": "2025-03-18T14:25:00.798Z"
   },
   {
    "duration": 200,
    "start_time": "2025-03-18T14:25:00.826Z"
   },
   {
    "duration": 735,
    "start_time": "2025-03-18T14:25:01.027Z"
   },
   {
    "duration": 218,
    "start_time": "2025-03-18T14:25:01.764Z"
   },
   {
    "duration": 238,
    "start_time": "2025-03-18T14:25:01.984Z"
   },
   {
    "duration": 186,
    "start_time": "2025-03-18T14:25:02.224Z"
   },
   {
    "duration": 46,
    "start_time": "2025-03-18T14:25:02.412Z"
   },
   {
    "duration": 176,
    "start_time": "2025-03-18T14:25:02.460Z"
   },
   {
    "duration": 6,
    "start_time": "2025-03-18T14:25:02.637Z"
   },
   {
    "duration": 94,
    "start_time": "2025-03-18T14:25:02.645Z"
   },
   {
    "duration": 237,
    "start_time": "2025-03-18T14:25:02.741Z"
   },
   {
    "duration": 140,
    "start_time": "2025-03-18T14:25:02.980Z"
   },
   {
    "duration": 0,
    "start_time": "2025-03-18T14:25:03.122Z"
   },
   {
    "duration": 196,
    "start_time": "2025-03-18T14:25:19.721Z"
   },
   {
    "duration": 169,
    "start_time": "2025-03-18T14:25:33.989Z"
   },
   {
    "duration": 430,
    "start_time": "2025-03-18T17:56:57.491Z"
   },
   {
    "duration": 1058,
    "start_time": "2025-03-18T17:56:57.923Z"
   },
   {
    "duration": 606,
    "start_time": "2025-03-18T17:56:58.983Z"
   },
   {
    "duration": 35,
    "start_time": "2025-03-18T17:56:59.591Z"
   },
   {
    "duration": 39,
    "start_time": "2025-03-18T17:56:59.628Z"
   },
   {
    "duration": 170,
    "start_time": "2025-03-18T17:56:59.669Z"
   },
   {
    "duration": 999,
    "start_time": "2025-03-18T17:56:59.841Z"
   },
   {
    "duration": 235,
    "start_time": "2025-03-18T17:57:00.842Z"
   },
   {
    "duration": 236,
    "start_time": "2025-03-18T17:57:01.079Z"
   },
   {
    "duration": 210,
    "start_time": "2025-03-18T17:57:01.317Z"
   },
   {
    "duration": 59,
    "start_time": "2025-03-18T17:57:01.529Z"
   },
   {
    "duration": 182,
    "start_time": "2025-03-18T17:57:01.590Z"
   },
   {
    "duration": 5,
    "start_time": "2025-03-18T17:57:01.774Z"
   },
   {
    "duration": 152,
    "start_time": "2025-03-18T17:57:01.780Z"
   },
   {
    "duration": 184,
    "start_time": "2025-03-18T17:57:01.934Z"
   },
   {
    "duration": 147,
    "start_time": "2025-03-18T17:57:02.119Z"
   },
   {
    "duration": 0,
    "start_time": "2025-03-18T17:57:02.268Z"
   },
   {
    "duration": 19,
    "start_time": "2025-03-18T17:57:33.479Z"
   },
   {
    "duration": 91,
    "start_time": "2025-03-18T18:04:03.028Z"
   },
   {
    "duration": 151,
    "start_time": "2025-03-18T18:08:42.418Z"
   },
   {
    "duration": 173,
    "start_time": "2025-03-18T18:09:26.613Z"
   },
   {
    "duration": 416,
    "start_time": "2025-03-19T10:29:18.476Z"
   },
   {
    "duration": 1078,
    "start_time": "2025-03-19T10:29:18.894Z"
   },
   {
    "duration": 619,
    "start_time": "2025-03-19T10:29:19.974Z"
   },
   {
    "duration": 35,
    "start_time": "2025-03-19T10:29:20.595Z"
   },
   {
    "duration": 49,
    "start_time": "2025-03-19T10:29:20.633Z"
   },
   {
    "duration": 214,
    "start_time": "2025-03-19T10:29:20.684Z"
   },
   {
    "duration": 987,
    "start_time": "2025-03-19T10:29:20.900Z"
   },
   {
    "duration": 212,
    "start_time": "2025-03-19T10:29:21.888Z"
   },
   {
    "duration": 240,
    "start_time": "2025-03-19T10:29:22.102Z"
   },
   {
    "duration": 204,
    "start_time": "2025-03-19T10:29:22.343Z"
   },
   {
    "duration": 49,
    "start_time": "2025-03-19T10:29:22.549Z"
   },
   {
    "duration": 191,
    "start_time": "2025-03-19T10:29:22.600Z"
   },
   {
    "duration": 5,
    "start_time": "2025-03-19T10:29:22.793Z"
   },
   {
    "duration": 98,
    "start_time": "2025-03-19T10:29:22.801Z"
   },
   {
    "duration": 209,
    "start_time": "2025-03-19T10:29:22.901Z"
   },
   {
    "duration": 18,
    "start_time": "2025-03-19T10:29:23.112Z"
   },
   {
    "duration": 189,
    "start_time": "2025-03-19T10:29:23.132Z"
   },
   {
    "duration": 153,
    "start_time": "2025-03-19T10:32:10.437Z"
   },
   {
    "duration": 25,
    "start_time": "2025-03-19T10:32:38.686Z"
   },
   {
    "duration": 8,
    "start_time": "2025-03-19T10:35:28.972Z"
   },
   {
    "duration": 10,
    "start_time": "2025-03-19T10:39:26.712Z"
   },
   {
    "duration": 102,
    "start_time": "2025-03-19T10:39:32.163Z"
   },
   {
    "duration": 96,
    "start_time": "2025-03-19T10:39:39.578Z"
   },
   {
    "duration": 27,
    "start_time": "2025-03-19T10:40:36.330Z"
   },
   {
    "duration": 12,
    "start_time": "2025-03-19T10:43:16.346Z"
   },
   {
    "duration": 9,
    "start_time": "2025-03-19T10:45:19.419Z"
   },
   {
    "duration": 10,
    "start_time": "2025-03-19T10:45:24.080Z"
   },
   {
    "duration": 14,
    "start_time": "2025-03-19T10:45:37.462Z"
   },
   {
    "duration": 9,
    "start_time": "2025-03-19T10:52:25.556Z"
   },
   {
    "duration": 7,
    "start_time": "2025-03-19T10:53:41.415Z"
   },
   {
    "duration": 12,
    "start_time": "2025-03-19T10:53:52.615Z"
   },
   {
    "duration": 10,
    "start_time": "2025-03-19T10:55:50.405Z"
   },
   {
    "duration": 10,
    "start_time": "2025-03-19T10:58:16.021Z"
   },
   {
    "duration": 12,
    "start_time": "2025-03-19T10:58:24.221Z"
   },
   {
    "duration": 10,
    "start_time": "2025-03-19T10:58:29.834Z"
   },
   {
    "duration": 13,
    "start_time": "2025-03-19T10:59:08.583Z"
   },
   {
    "duration": 50862,
    "start_time": "2025-03-19T11:02:19.874Z"
   },
   {
    "duration": 404,
    "start_time": "2025-03-19T11:04:02.991Z"
   },
   {
    "duration": 1120,
    "start_time": "2025-03-19T11:04:03.397Z"
   },
   {
    "duration": 627,
    "start_time": "2025-03-19T11:04:04.519Z"
   },
   {
    "duration": 47,
    "start_time": "2025-03-19T11:04:05.147Z"
   },
   {
    "duration": 56,
    "start_time": "2025-03-19T11:04:05.197Z"
   },
   {
    "duration": 185,
    "start_time": "2025-03-19T11:04:05.255Z"
   },
   {
    "duration": 867,
    "start_time": "2025-03-19T11:04:05.441Z"
   },
   {
    "duration": 215,
    "start_time": "2025-03-19T11:04:06.310Z"
   },
   {
    "duration": 221,
    "start_time": "2025-03-19T11:04:06.527Z"
   },
   {
    "duration": 192,
    "start_time": "2025-03-19T11:04:06.749Z"
   },
   {
    "duration": 42,
    "start_time": "2025-03-19T11:04:06.943Z"
   },
   {
    "duration": 307,
    "start_time": "2025-03-19T11:04:06.986Z"
   },
   {
    "duration": 5,
    "start_time": "2025-03-19T11:04:07.295Z"
   },
   {
    "duration": 107,
    "start_time": "2025-03-19T11:04:07.303Z"
   },
   {
    "duration": 223,
    "start_time": "2025-03-19T11:04:07.412Z"
   },
   {
    "duration": 29,
    "start_time": "2025-03-19T11:04:07.636Z"
   },
   {
    "duration": 173,
    "start_time": "2025-03-19T11:04:07.667Z"
   },
   {
    "duration": 24,
    "start_time": "2025-03-19T11:04:07.841Z"
   },
   {
    "duration": 9,
    "start_time": "2025-03-19T11:04:07.868Z"
   },
   {
    "duration": 27,
    "start_time": "2025-03-19T11:04:07.880Z"
   },
   {
    "duration": 11,
    "start_time": "2025-03-19T11:04:07.909Z"
   },
   {
    "duration": 132,
    "start_time": "2025-03-19T11:04:07.922Z"
   },
   {
    "duration": 0,
    "start_time": "2025-03-19T11:04:08.057Z"
   },
   {
    "duration": 0,
    "start_time": "2025-03-19T11:04:08.062Z"
   },
   {
    "duration": 49952,
    "start_time": "2025-03-19T11:04:31.847Z"
   },
   {
    "duration": 142,
    "start_time": "2025-03-19T11:07:23.547Z"
   },
   {
    "duration": 141,
    "start_time": "2025-03-19T11:07:42.714Z"
   },
   {
    "duration": 155,
    "start_time": "2025-03-19T11:08:51.564Z"
   },
   {
    "duration": 12,
    "start_time": "2025-03-19T11:11:49.651Z"
   },
   {
    "duration": 1613,
    "start_time": "2025-03-19T11:13:58.603Z"
   },
   {
    "duration": 148,
    "start_time": "2025-03-19T11:14:10.536Z"
   },
   {
    "duration": 8,
    "start_time": "2025-03-19T11:36:48.616Z"
   },
   {
    "duration": 11,
    "start_time": "2025-03-19T11:39:39.834Z"
   },
   {
    "duration": 11,
    "start_time": "2025-03-19T11:40:03.774Z"
   },
   {
    "duration": 8,
    "start_time": "2025-03-19T11:41:47.463Z"
   },
   {
    "duration": 9,
    "start_time": "2025-03-19T11:42:21.062Z"
   },
   {
    "duration": 10,
    "start_time": "2025-03-19T11:42:30.146Z"
   },
   {
    "duration": 9,
    "start_time": "2025-03-19T11:44:09.807Z"
   },
   {
    "duration": 11,
    "start_time": "2025-03-19T11:44:38.045Z"
   },
   {
    "duration": 388,
    "start_time": "2025-03-19T11:46:17.885Z"
   },
   {
    "duration": 1051,
    "start_time": "2025-03-19T11:46:18.276Z"
   },
   {
    "duration": 623,
    "start_time": "2025-03-19T11:46:19.329Z"
   },
   {
    "duration": 37,
    "start_time": "2025-03-19T11:46:19.961Z"
   },
   {
    "duration": 26,
    "start_time": "2025-03-19T11:46:20.000Z"
   },
   {
    "duration": 206,
    "start_time": "2025-03-19T11:46:20.027Z"
   },
   {
    "duration": 779,
    "start_time": "2025-03-19T11:46:20.234Z"
   },
   {
    "duration": 197,
    "start_time": "2025-03-19T11:46:21.015Z"
   },
   {
    "duration": 216,
    "start_time": "2025-03-19T11:46:21.214Z"
   },
   {
    "duration": 190,
    "start_time": "2025-03-19T11:46:21.432Z"
   },
   {
    "duration": 45,
    "start_time": "2025-03-19T11:46:21.624Z"
   },
   {
    "duration": 184,
    "start_time": "2025-03-19T11:46:21.670Z"
   },
   {
    "duration": 5,
    "start_time": "2025-03-19T11:46:21.862Z"
   },
   {
    "duration": 77,
    "start_time": "2025-03-19T11:46:21.870Z"
   },
   {
    "duration": 190,
    "start_time": "2025-03-19T11:46:21.949Z"
   },
   {
    "duration": 23,
    "start_time": "2025-03-19T11:46:22.140Z"
   },
   {
    "duration": 178,
    "start_time": "2025-03-19T11:46:22.164Z"
   },
   {
    "duration": 25,
    "start_time": "2025-03-19T11:46:22.343Z"
   },
   {
    "duration": 6,
    "start_time": "2025-03-19T11:46:22.370Z"
   },
   {
    "duration": 37,
    "start_time": "2025-03-19T11:46:22.378Z"
   },
   {
    "duration": 9,
    "start_time": "2025-03-19T11:46:22.417Z"
   },
   {
    "duration": 154,
    "start_time": "2025-03-19T11:46:22.428Z"
   },
   {
    "duration": 8,
    "start_time": "2025-03-19T11:46:22.584Z"
   },
   {
    "duration": 4,
    "start_time": "2025-03-19T11:51:50.956Z"
   },
   {
    "duration": 5,
    "start_time": "2025-03-19T11:51:56.157Z"
   },
   {
    "duration": 8,
    "start_time": "2025-03-19T11:52:12.363Z"
   },
   {
    "duration": 10,
    "start_time": "2025-03-19T11:52:28.995Z"
   },
   {
    "duration": 1469,
    "start_time": "2025-03-19T11:54:39.643Z"
   },
   {
    "duration": 1300,
    "start_time": "2025-03-19T11:55:52.215Z"
   },
   {
    "duration": 15,
    "start_time": "2025-03-19T11:56:35.989Z"
   },
   {
    "duration": 7,
    "start_time": "2025-03-19T11:56:48.328Z"
   },
   {
    "duration": 13,
    "start_time": "2025-03-19T11:57:34.279Z"
   },
   {
    "duration": 12,
    "start_time": "2025-03-19T11:58:31.727Z"
   },
   {
    "duration": 7,
    "start_time": "2025-03-19T11:58:53.741Z"
   },
   {
    "duration": 9,
    "start_time": "2025-03-19T11:58:56.622Z"
   },
   {
    "duration": 11,
    "start_time": "2025-03-19T11:59:04.440Z"
   },
   {
    "duration": 8,
    "start_time": "2025-03-19T11:59:05.914Z"
   },
   {
    "duration": 11,
    "start_time": "2025-03-19T11:59:21.565Z"
   },
   {
    "duration": 12,
    "start_time": "2025-03-19T12:00:31.990Z"
   },
   {
    "duration": 16,
    "start_time": "2025-03-19T12:02:11.506Z"
   },
   {
    "duration": 12,
    "start_time": "2025-03-19T12:05:55.025Z"
   },
   {
    "duration": 11,
    "start_time": "2025-03-19T12:06:17.441Z"
   },
   {
    "duration": 1345,
    "start_time": "2025-03-19T12:07:17.874Z"
   },
   {
    "duration": 1395,
    "start_time": "2025-03-19T12:07:29.190Z"
   },
   {
    "duration": 10,
    "start_time": "2025-03-19T12:07:46.192Z"
   },
   {
    "duration": 193,
    "start_time": "2025-03-19T12:07:48.096Z"
   },
   {
    "duration": 12,
    "start_time": "2025-03-19T12:08:36.692Z"
   },
   {
    "duration": 192,
    "start_time": "2025-03-19T12:09:38.324Z"
   },
   {
    "duration": 195,
    "start_time": "2025-03-19T12:09:46.840Z"
   },
   {
    "duration": 405,
    "start_time": "2025-03-19T12:10:28.675Z"
   },
   {
    "duration": 1043,
    "start_time": "2025-03-19T12:10:29.082Z"
   },
   {
    "duration": 621,
    "start_time": "2025-03-19T12:10:30.126Z"
   },
   {
    "duration": 45,
    "start_time": "2025-03-19T12:10:30.749Z"
   },
   {
    "duration": 26,
    "start_time": "2025-03-19T12:10:30.796Z"
   },
   {
    "duration": 186,
    "start_time": "2025-03-19T12:10:30.823Z"
   },
   {
    "duration": 767,
    "start_time": "2025-03-19T12:10:31.011Z"
   },
   {
    "duration": 206,
    "start_time": "2025-03-19T12:10:31.779Z"
   },
   {
    "duration": 222,
    "start_time": "2025-03-19T12:10:31.987Z"
   },
   {
    "duration": 192,
    "start_time": "2025-03-19T12:10:32.210Z"
   },
   {
    "duration": 33,
    "start_time": "2025-03-19T12:10:32.405Z"
   },
   {
    "duration": 197,
    "start_time": "2025-03-19T12:10:32.439Z"
   },
   {
    "duration": 5,
    "start_time": "2025-03-19T12:10:32.638Z"
   },
   {
    "duration": 103,
    "start_time": "2025-03-19T12:10:32.645Z"
   },
   {
    "duration": 170,
    "start_time": "2025-03-19T12:10:32.749Z"
   },
   {
    "duration": 23,
    "start_time": "2025-03-19T12:10:32.921Z"
   },
   {
    "duration": 208,
    "start_time": "2025-03-19T12:10:32.946Z"
   },
   {
    "duration": 24,
    "start_time": "2025-03-19T12:10:33.156Z"
   },
   {
    "duration": 76,
    "start_time": "2025-03-19T12:10:33.182Z"
   },
   {
    "duration": 269,
    "start_time": "2025-03-19T12:10:33.260Z"
   },
   {
    "duration": 29,
    "start_time": "2025-03-19T12:10:33.531Z"
   },
   {
    "duration": 345,
    "start_time": "2025-03-19T12:10:33.562Z"
   },
   {
    "duration": 8,
    "start_time": "2025-03-19T12:10:33.909Z"
   },
   {
    "duration": 24,
    "start_time": "2025-03-19T12:10:33.919Z"
   },
   {
    "duration": 13,
    "start_time": "2025-03-19T12:10:33.944Z"
   },
   {
    "duration": 239,
    "start_time": "2025-03-19T12:10:33.962Z"
   },
   {
    "duration": 10,
    "start_time": "2025-03-19T12:10:34.202Z"
   },
   {
    "duration": 204,
    "start_time": "2025-03-19T12:10:34.214Z"
   },
   {
    "duration": 581,
    "start_time": "2025-03-19T13:26:51.677Z"
   },
   {
    "duration": 1167,
    "start_time": "2025-03-19T13:26:52.261Z"
   },
   {
    "duration": 636,
    "start_time": "2025-03-19T13:26:53.430Z"
   },
   {
    "duration": 38,
    "start_time": "2025-03-19T13:26:54.068Z"
   },
   {
    "duration": 28,
    "start_time": "2025-03-19T13:26:54.107Z"
   },
   {
    "duration": 209,
    "start_time": "2025-03-19T13:26:54.136Z"
   },
   {
    "duration": 1240,
    "start_time": "2025-03-19T13:26:54.346Z"
   },
   {
    "duration": 230,
    "start_time": "2025-03-19T13:26:55.588Z"
   },
   {
    "duration": 260,
    "start_time": "2025-03-19T13:26:55.820Z"
   },
   {
    "duration": 213,
    "start_time": "2025-03-19T13:26:56.083Z"
   },
   {
    "duration": 34,
    "start_time": "2025-03-19T13:26:56.298Z"
   },
   {
    "duration": 198,
    "start_time": "2025-03-19T13:26:56.334Z"
   },
   {
    "duration": 5,
    "start_time": "2025-03-19T13:26:56.534Z"
   },
   {
    "duration": 96,
    "start_time": "2025-03-19T13:26:56.541Z"
   },
   {
    "duration": 182,
    "start_time": "2025-03-19T13:26:56.639Z"
   },
   {
    "duration": 20,
    "start_time": "2025-03-19T13:26:56.822Z"
   },
   {
    "duration": 189,
    "start_time": "2025-03-19T13:26:56.844Z"
   },
   {
    "duration": 25,
    "start_time": "2025-03-19T13:26:57.034Z"
   },
   {
    "duration": 22,
    "start_time": "2025-03-19T13:26:57.061Z"
   },
   {
    "duration": 76,
    "start_time": "2025-03-19T13:26:57.084Z"
   },
   {
    "duration": 11,
    "start_time": "2025-03-19T13:26:57.161Z"
   },
   {
    "duration": 151,
    "start_time": "2025-03-19T13:26:57.173Z"
   },
   {
    "duration": 8,
    "start_time": "2025-03-19T13:26:57.325Z"
   },
   {
    "duration": 29,
    "start_time": "2025-03-19T13:26:57.335Z"
   },
   {
    "duration": 9,
    "start_time": "2025-03-19T13:26:57.365Z"
   },
   {
    "duration": 263,
    "start_time": "2025-03-19T13:26:57.376Z"
   },
   {
    "duration": 12,
    "start_time": "2025-03-19T13:26:57.640Z"
   },
   {
    "duration": 207,
    "start_time": "2025-03-19T13:26:57.664Z"
   },
   {
    "duration": 12,
    "start_time": "2025-03-19T13:27:42.017Z"
   },
   {
    "duration": 10,
    "start_time": "2025-03-19T13:28:24.352Z"
   },
   {
    "duration": 9,
    "start_time": "2025-03-19T13:28:48.792Z"
   },
   {
    "duration": 186,
    "start_time": "2025-03-19T13:29:39.800Z"
   },
   {
    "duration": 267,
    "start_time": "2025-03-19T13:30:09.660Z"
   },
   {
    "duration": 297,
    "start_time": "2025-03-19T13:33:12.961Z"
   },
   {
    "duration": 232,
    "start_time": "2025-03-19T13:33:25.632Z"
   },
   {
    "duration": 10,
    "start_time": "2025-03-19T13:33:47.642Z"
   },
   {
    "duration": 11,
    "start_time": "2025-03-19T13:33:48.125Z"
   },
   {
    "duration": 190,
    "start_time": "2025-03-19T13:33:48.725Z"
   },
   {
    "duration": 254,
    "start_time": "2025-03-19T13:34:06.276Z"
   },
   {
    "duration": 5,
    "start_time": "2025-03-19T13:35:21.608Z"
   },
   {
    "duration": 5,
    "start_time": "2025-03-19T13:35:53.751Z"
   },
   {
    "duration": 190,
    "start_time": "2025-03-19T13:35:55.014Z"
   },
   {
    "duration": 5,
    "start_time": "2025-03-19T13:42:59.398Z"
   },
   {
    "duration": 3,
    "start_time": "2025-03-19T13:43:00.027Z"
   },
   {
    "duration": 122,
    "start_time": "2025-03-19T13:43:44.415Z"
   },
   {
    "duration": 5,
    "start_time": "2025-03-19T13:43:58.550Z"
   },
   {
    "duration": 3,
    "start_time": "2025-03-19T13:43:59.308Z"
   },
   {
    "duration": 217,
    "start_time": "2025-03-19T13:43:59.984Z"
   },
   {
    "duration": 181,
    "start_time": "2025-03-19T13:44:09.099Z"
   },
   {
    "duration": 12,
    "start_time": "2025-03-19T13:45:14.627Z"
   },
   {
    "duration": 11,
    "start_time": "2025-03-19T13:45:15.079Z"
   },
   {
    "duration": 199,
    "start_time": "2025-03-19T13:45:15.593Z"
   },
   {
    "duration": 6,
    "start_time": "2025-03-19T13:45:21.710Z"
   },
   {
    "duration": 12,
    "start_time": "2025-03-19T13:45:22.646Z"
   },
   {
    "duration": 12,
    "start_time": "2025-03-19T13:45:23.058Z"
   },
   {
    "duration": 3,
    "start_time": "2025-03-19T13:45:23.531Z"
   },
   {
    "duration": 175,
    "start_time": "2025-03-19T13:45:24.527Z"
   },
   {
    "duration": 392,
    "start_time": "2025-03-19T13:45:30.786Z"
   },
   {
    "duration": 1170,
    "start_time": "2025-03-19T13:45:31.181Z"
   },
   {
    "duration": 630,
    "start_time": "2025-03-19T13:45:32.353Z"
   },
   {
    "duration": 40,
    "start_time": "2025-03-19T13:45:32.985Z"
   },
   {
    "duration": 46,
    "start_time": "2025-03-19T13:45:33.028Z"
   },
   {
    "duration": 202,
    "start_time": "2025-03-19T13:45:33.076Z"
   },
   {
    "duration": 813,
    "start_time": "2025-03-19T13:45:33.280Z"
   },
   {
    "duration": 222,
    "start_time": "2025-03-19T13:45:34.095Z"
   },
   {
    "duration": 231,
    "start_time": "2025-03-19T13:45:34.320Z"
   },
   {
    "duration": 204,
    "start_time": "2025-03-19T13:45:34.553Z"
   },
   {
    "duration": 33,
    "start_time": "2025-03-19T13:45:34.762Z"
   },
   {
    "duration": 192,
    "start_time": "2025-03-19T13:45:34.796Z"
   },
   {
    "duration": 6,
    "start_time": "2025-03-19T13:45:34.990Z"
   },
   {
    "duration": 106,
    "start_time": "2025-03-19T13:45:34.999Z"
   },
   {
    "duration": 181,
    "start_time": "2025-03-19T13:45:35.107Z"
   },
   {
    "duration": 19,
    "start_time": "2025-03-19T13:45:35.291Z"
   },
   {
    "duration": 195,
    "start_time": "2025-03-19T13:45:35.311Z"
   },
   {
    "duration": 25,
    "start_time": "2025-03-19T13:45:35.507Z"
   },
   {
    "duration": 5,
    "start_time": "2025-03-19T13:45:35.534Z"
   },
   {
    "duration": 22,
    "start_time": "2025-03-19T13:45:35.541Z"
   },
   {
    "duration": 58,
    "start_time": "2025-03-19T13:45:35.564Z"
   },
   {
    "duration": 26,
    "start_time": "2025-03-19T13:45:35.624Z"
   },
   {
    "duration": 325,
    "start_time": "2025-03-19T13:45:35.652Z"
   },
   {
    "duration": 9,
    "start_time": "2025-03-19T13:45:35.978Z"
   },
   {
    "duration": 81,
    "start_time": "2025-03-19T13:45:35.989Z"
   },
   {
    "duration": 31,
    "start_time": "2025-03-19T13:45:36.072Z"
   },
   {
    "duration": 242,
    "start_time": "2025-03-19T13:45:36.105Z"
   },
   {
    "duration": 19,
    "start_time": "2025-03-19T13:45:36.349Z"
   },
   {
    "duration": 222,
    "start_time": "2025-03-19T13:45:36.369Z"
   },
   {
    "duration": 16,
    "start_time": "2025-03-19T13:45:36.593Z"
   },
   {
    "duration": 31,
    "start_time": "2025-03-19T13:45:36.611Z"
   },
   {
    "duration": 209,
    "start_time": "2025-03-19T13:45:36.644Z"
   },
   {
    "duration": 13,
    "start_time": "2025-03-19T13:45:36.855Z"
   },
   {
    "duration": 300,
    "start_time": "2025-03-19T13:45:36.870Z"
   },
   {
    "duration": 404,
    "start_time": "2025-03-20T09:00:52.609Z"
   },
   {
    "duration": 1026,
    "start_time": "2025-03-20T09:00:53.015Z"
   },
   {
    "duration": 575,
    "start_time": "2025-03-20T09:00:54.042Z"
   },
   {
    "duration": 37,
    "start_time": "2025-03-20T09:00:54.619Z"
   },
   {
    "duration": 37,
    "start_time": "2025-03-20T09:00:54.658Z"
   },
   {
    "duration": 182,
    "start_time": "2025-03-20T09:00:54.696Z"
   },
   {
    "duration": 920,
    "start_time": "2025-03-20T09:00:54.879Z"
   },
   {
    "duration": 199,
    "start_time": "2025-03-20T09:00:55.801Z"
   },
   {
    "duration": 205,
    "start_time": "2025-03-20T09:00:56.002Z"
   },
   {
    "duration": 191,
    "start_time": "2025-03-20T09:00:56.210Z"
   },
   {
    "duration": 43,
    "start_time": "2025-03-20T09:00:56.402Z"
   },
   {
    "duration": 180,
    "start_time": "2025-03-20T09:00:56.447Z"
   },
   {
    "duration": 4,
    "start_time": "2025-03-20T09:00:56.629Z"
   },
   {
    "duration": 84,
    "start_time": "2025-03-20T09:00:56.635Z"
   },
   {
    "duration": 166,
    "start_time": "2025-03-20T09:00:56.720Z"
   },
   {
    "duration": 18,
    "start_time": "2025-03-20T09:00:56.887Z"
   },
   {
    "duration": 171,
    "start_time": "2025-03-20T09:00:56.907Z"
   },
   {
    "duration": 26,
    "start_time": "2025-03-20T09:00:57.079Z"
   },
   {
    "duration": 5,
    "start_time": "2025-03-20T09:00:57.107Z"
   },
   {
    "duration": 17,
    "start_time": "2025-03-20T09:00:57.113Z"
   },
   {
    "duration": 10,
    "start_time": "2025-03-20T09:00:57.132Z"
   },
   {
    "duration": 10,
    "start_time": "2025-03-20T09:00:57.143Z"
   },
   {
    "duration": 257,
    "start_time": "2025-03-20T09:00:57.155Z"
   },
   {
    "duration": 7,
    "start_time": "2025-03-20T09:00:57.414Z"
   },
   {
    "duration": 33,
    "start_time": "2025-03-20T09:00:57.423Z"
   },
   {
    "duration": 18,
    "start_time": "2025-03-20T09:00:57.458Z"
   },
   {
    "duration": 196,
    "start_time": "2025-03-20T09:00:57.477Z"
   },
   {
    "duration": 9,
    "start_time": "2025-03-20T09:00:57.676Z"
   },
   {
    "duration": 206,
    "start_time": "2025-03-20T09:00:57.686Z"
   },
   {
    "duration": 11,
    "start_time": "2025-03-20T09:00:57.893Z"
   },
   {
    "duration": 26,
    "start_time": "2025-03-20T09:00:57.906Z"
   },
   {
    "duration": 242,
    "start_time": "2025-03-20T09:00:57.933Z"
   },
   {
    "duration": 12,
    "start_time": "2025-03-20T09:00:58.177Z"
   },
   {
    "duration": 192,
    "start_time": "2025-03-20T09:00:58.191Z"
   },
   {
    "duration": 237,
    "start_time": "2025-03-20T09:02:40.313Z"
   },
   {
    "duration": 4,
    "start_time": "2025-03-20T09:03:56.884Z"
   },
   {
    "duration": 7,
    "start_time": "2025-03-20T09:04:24.286Z"
   },
   {
    "duration": 4,
    "start_time": "2025-03-20T09:04:29.029Z"
   },
   {
    "duration": 24,
    "start_time": "2025-03-20T09:12:53.480Z"
   },
   {
    "duration": 27,
    "start_time": "2025-03-20T09:13:22.513Z"
   },
   {
    "duration": 25,
    "start_time": "2025-03-20T09:13:32.013Z"
   },
   {
    "duration": 2,
    "start_time": "2025-03-20T09:21:57.132Z"
   },
   {
    "duration": 39,
    "start_time": "2025-03-20T09:23:14.345Z"
   },
   {
    "duration": 30,
    "start_time": "2025-03-20T09:28:57.247Z"
   },
   {
    "duration": 51,
    "start_time": "2025-03-20T09:29:33.310Z"
   },
   {
    "duration": 103,
    "start_time": "2025-03-20T09:30:56.761Z"
   },
   {
    "duration": 7,
    "start_time": "2025-03-20T09:31:06.985Z"
   },
   {
    "duration": 3,
    "start_time": "2025-03-20T09:31:16.593Z"
   },
   {
    "duration": 52,
    "start_time": "2025-03-20T09:31:17.044Z"
   },
   {
    "duration": 4,
    "start_time": "2025-03-20T09:31:17.582Z"
   },
   {
    "duration": 10,
    "start_time": "2025-03-20T09:36:30.128Z"
   },
   {
    "duration": 2,
    "start_time": "2025-03-20T09:37:01.514Z"
   },
   {
    "duration": 49,
    "start_time": "2025-03-20T09:37:02.028Z"
   },
   {
    "duration": 9,
    "start_time": "2025-03-20T09:37:02.547Z"
   },
   {
    "duration": 2,
    "start_time": "2025-03-20T09:37:33.495Z"
   },
   {
    "duration": 63,
    "start_time": "2025-03-20T09:37:34.082Z"
   },
   {
    "duration": 5,
    "start_time": "2025-03-20T09:37:34.628Z"
   },
   {
    "duration": 17,
    "start_time": "2025-03-20T10:06:18.929Z"
   },
   {
    "duration": 18,
    "start_time": "2025-03-20T10:06:36.096Z"
   },
   {
    "duration": 31,
    "start_time": "2025-03-20T10:06:54.232Z"
   },
   {
    "duration": 43,
    "start_time": "2025-03-20T10:11:18.762Z"
   },
   {
    "duration": 48,
    "start_time": "2025-03-20T10:11:30.179Z"
   },
   {
    "duration": 9,
    "start_time": "2025-03-20T10:13:40.929Z"
   },
   {
    "duration": 11,
    "start_time": "2025-03-20T10:13:55.336Z"
   },
   {
    "duration": 14,
    "start_time": "2025-03-20T10:14:01.681Z"
   },
   {
    "duration": 12,
    "start_time": "2025-03-20T10:14:28.150Z"
   },
   {
    "duration": 11,
    "start_time": "2025-03-20T10:15:17.979Z"
   },
   {
    "duration": 12,
    "start_time": "2025-03-20T10:16:48.278Z"
   },
   {
    "duration": 1172,
    "start_time": "2025-03-20T10:18:05.462Z"
   },
   {
    "duration": 16,
    "start_time": "2025-03-20T10:20:00.312Z"
   },
   {
    "duration": 8,
    "start_time": "2025-03-20T10:21:10.014Z"
   },
   {
    "duration": 8,
    "start_time": "2025-03-20T10:21:27.796Z"
   },
   {
    "duration": 148,
    "start_time": "2025-03-20T10:24:05.829Z"
   },
   {
    "duration": 92,
    "start_time": "2025-03-20T10:24:24.847Z"
   },
   {
    "duration": 108,
    "start_time": "2025-03-20T10:25:15.679Z"
   },
   {
    "duration": 33,
    "start_time": "2025-03-20T10:25:31.429Z"
   },
   {
    "duration": 30,
    "start_time": "2025-03-20T10:26:02.029Z"
   },
   {
    "duration": 29,
    "start_time": "2025-03-20T10:26:20.788Z"
   },
   {
    "duration": 5,
    "start_time": "2025-03-20T10:28:29.329Z"
   },
   {
    "duration": 5,
    "start_time": "2025-03-20T10:29:34.781Z"
   },
   {
    "duration": 3,
    "start_time": "2025-03-20T10:29:53.630Z"
   },
   {
    "duration": 3,
    "start_time": "2025-03-20T10:30:02.313Z"
   },
   {
    "duration": 409,
    "start_time": "2025-03-20T10:30:18.453Z"
   },
   {
    "duration": 970,
    "start_time": "2025-03-20T10:30:18.864Z"
   },
   {
    "duration": 588,
    "start_time": "2025-03-20T10:30:19.836Z"
   },
   {
    "duration": 36,
    "start_time": "2025-03-20T10:30:20.425Z"
   },
   {
    "duration": 24,
    "start_time": "2025-03-20T10:30:20.474Z"
   },
   {
    "duration": 179,
    "start_time": "2025-03-20T10:30:20.500Z"
   },
   {
    "duration": 777,
    "start_time": "2025-03-20T10:30:20.680Z"
   },
   {
    "duration": 219,
    "start_time": "2025-03-20T10:30:21.459Z"
   },
   {
    "duration": 213,
    "start_time": "2025-03-20T10:30:21.680Z"
   },
   {
    "duration": 197,
    "start_time": "2025-03-20T10:30:21.894Z"
   },
   {
    "duration": 32,
    "start_time": "2025-03-20T10:30:22.093Z"
   },
   {
    "duration": 176,
    "start_time": "2025-03-20T10:30:22.127Z"
   },
   {
    "duration": 5,
    "start_time": "2025-03-20T10:30:22.305Z"
   },
   {
    "duration": 86,
    "start_time": "2025-03-20T10:30:22.313Z"
   },
   {
    "duration": 165,
    "start_time": "2025-03-20T10:30:22.400Z"
   },
   {
    "duration": 25,
    "start_time": "2025-03-20T10:30:22.567Z"
   },
   {
    "duration": 180,
    "start_time": "2025-03-20T10:30:22.594Z"
   },
   {
    "duration": 30,
    "start_time": "2025-03-20T10:30:22.775Z"
   },
   {
    "duration": 7,
    "start_time": "2025-03-20T10:30:22.808Z"
   },
   {
    "duration": 12,
    "start_time": "2025-03-20T10:30:22.816Z"
   },
   {
    "duration": 9,
    "start_time": "2025-03-20T10:30:22.830Z"
   },
   {
    "duration": 3,
    "start_time": "2025-03-20T10:30:22.840Z"
   },
   {
    "duration": 230,
    "start_time": "2025-03-20T10:30:22.845Z"
   },
   {
    "duration": 7,
    "start_time": "2025-03-20T10:30:23.077Z"
   },
   {
    "duration": 11,
    "start_time": "2025-03-20T10:30:23.086Z"
   },
   {
    "duration": 8,
    "start_time": "2025-03-20T10:30:23.099Z"
   },
   {
    "duration": 201,
    "start_time": "2025-03-20T10:30:23.109Z"
   },
   {
    "duration": 9,
    "start_time": "2025-03-20T10:30:23.311Z"
   },
   {
    "duration": 207,
    "start_time": "2025-03-20T10:30:23.321Z"
   },
   {
    "duration": 12,
    "start_time": "2025-03-20T10:30:23.530Z"
   },
   {
    "duration": 9,
    "start_time": "2025-03-20T10:30:23.543Z"
   },
   {
    "duration": 196,
    "start_time": "2025-03-20T10:30:23.553Z"
   },
   {
    "duration": 9,
    "start_time": "2025-03-20T10:30:23.750Z"
   },
   {
    "duration": 278,
    "start_time": "2025-03-20T10:30:23.761Z"
   },
   {
    "duration": 247,
    "start_time": "2025-03-20T10:30:24.041Z"
   },
   {
    "duration": 5,
    "start_time": "2025-03-20T10:30:24.289Z"
   },
   {
    "duration": 43,
    "start_time": "2025-03-20T10:30:24.295Z"
   },
   {
    "duration": 2,
    "start_time": "2025-03-20T10:30:24.340Z"
   },
   {
    "duration": 68,
    "start_time": "2025-03-20T10:30:24.344Z"
   },
   {
    "duration": 6,
    "start_time": "2025-03-20T10:30:24.414Z"
   },
   {
    "duration": 27,
    "start_time": "2025-03-20T10:30:24.423Z"
   },
   {
    "duration": 47,
    "start_time": "2025-03-20T10:30:24.451Z"
   },
   {
    "duration": 4,
    "start_time": "2025-03-20T10:30:24.500Z"
   },
   {
    "duration": 412,
    "start_time": "2025-03-20T15:23:57.931Z"
   },
   {
    "duration": 1299,
    "start_time": "2025-03-20T15:23:58.346Z"
   },
   {
    "duration": 645,
    "start_time": "2025-03-20T15:23:59.647Z"
   },
   {
    "duration": 44,
    "start_time": "2025-03-20T15:24:00.294Z"
   },
   {
    "duration": 29,
    "start_time": "2025-03-20T15:24:00.341Z"
   },
   {
    "duration": 198,
    "start_time": "2025-03-20T15:24:00.372Z"
   },
   {
    "duration": 967,
    "start_time": "2025-03-20T15:24:00.572Z"
   },
   {
    "duration": 212,
    "start_time": "2025-03-20T15:24:01.541Z"
   },
   {
    "duration": 245,
    "start_time": "2025-03-20T15:24:01.754Z"
   },
   {
    "duration": 199,
    "start_time": "2025-03-20T15:24:02.003Z"
   },
   {
    "duration": 46,
    "start_time": "2025-03-20T15:24:02.205Z"
   },
   {
    "duration": 188,
    "start_time": "2025-03-20T15:24:02.253Z"
   },
   {
    "duration": 5,
    "start_time": "2025-03-20T15:24:02.443Z"
   },
   {
    "duration": 123,
    "start_time": "2025-03-20T15:24:02.452Z"
   },
   {
    "duration": 185,
    "start_time": "2025-03-20T15:24:02.577Z"
   },
   {
    "duration": 19,
    "start_time": "2025-03-20T15:24:02.764Z"
   },
   {
    "duration": 231,
    "start_time": "2025-03-20T15:24:02.784Z"
   },
   {
    "duration": 25,
    "start_time": "2025-03-20T15:24:03.017Z"
   },
   {
    "duration": 64,
    "start_time": "2025-03-20T15:24:03.044Z"
   },
   {
    "duration": 86,
    "start_time": "2025-03-20T15:24:03.110Z"
   },
   {
    "duration": 48,
    "start_time": "2025-03-20T15:24:03.197Z"
   },
   {
    "duration": 37,
    "start_time": "2025-03-20T15:24:03.247Z"
   },
   {
    "duration": 260,
    "start_time": "2025-03-20T15:24:03.286Z"
   },
   {
    "duration": 8,
    "start_time": "2025-03-20T15:24:03.548Z"
   },
   {
    "duration": 38,
    "start_time": "2025-03-20T15:24:03.558Z"
   },
   {
    "duration": 56,
    "start_time": "2025-03-20T15:24:03.598Z"
   },
   {
    "duration": 198,
    "start_time": "2025-03-20T15:24:03.656Z"
   },
   {
    "duration": 10,
    "start_time": "2025-03-20T15:24:03.856Z"
   },
   {
    "duration": 212,
    "start_time": "2025-03-20T15:24:03.867Z"
   },
   {
    "duration": 11,
    "start_time": "2025-03-20T15:24:04.081Z"
   },
   {
    "duration": 18,
    "start_time": "2025-03-20T15:24:04.094Z"
   },
   {
    "duration": 288,
    "start_time": "2025-03-20T15:24:04.113Z"
   },
   {
    "duration": 9,
    "start_time": "2025-03-20T15:24:04.406Z"
   },
   {
    "duration": 205,
    "start_time": "2025-03-20T15:24:04.416Z"
   },
   {
    "duration": 265,
    "start_time": "2025-03-20T15:24:04.623Z"
   },
   {
    "duration": 5,
    "start_time": "2025-03-20T15:24:04.889Z"
   },
   {
    "duration": 111,
    "start_time": "2025-03-20T15:24:04.903Z"
   },
   {
    "duration": 2,
    "start_time": "2025-03-20T15:24:05.016Z"
   },
   {
    "duration": 111,
    "start_time": "2025-03-20T15:24:05.020Z"
   },
   {
    "duration": 6,
    "start_time": "2025-03-20T15:24:05.133Z"
   },
   {
    "duration": 53,
    "start_time": "2025-03-20T15:24:05.143Z"
   },
   {
    "duration": 87,
    "start_time": "2025-03-20T15:24:05.197Z"
   },
   {
    "duration": 3,
    "start_time": "2025-03-20T15:24:05.286Z"
   },
   {
    "duration": 31,
    "start_time": "2025-03-20T15:31:42.913Z"
   },
   {
    "duration": 33,
    "start_time": "2025-03-20T15:32:45.084Z"
   },
   {
    "duration": 31,
    "start_time": "2025-03-20T15:32:55.533Z"
   },
   {
    "duration": 31,
    "start_time": "2025-03-20T15:34:59.465Z"
   },
   {
    "duration": 33,
    "start_time": "2025-03-20T15:34:59.942Z"
   },
   {
    "duration": 3,
    "start_time": "2025-03-20T15:35:19.616Z"
   },
   {
    "duration": 4,
    "start_time": "2025-03-20T15:35:41.153Z"
   },
   {
    "duration": 3,
    "start_time": "2025-03-20T15:36:01.523Z"
   },
   {
    "duration": 107,
    "start_time": "2025-03-20T15:43:12.767Z"
   },
   {
    "duration": 20,
    "start_time": "2025-03-20T15:43:41.883Z"
   },
   {
    "duration": 7,
    "start_time": "2025-03-20T15:43:48.891Z"
   },
   {
    "duration": 445,
    "start_time": "2025-03-20T16:08:57.005Z"
   },
   {
    "duration": 1102,
    "start_time": "2025-03-20T16:08:57.452Z"
   },
   {
    "duration": 602,
    "start_time": "2025-03-20T16:08:58.556Z"
   },
   {
    "duration": 45,
    "start_time": "2025-03-20T16:08:59.160Z"
   },
   {
    "duration": 26,
    "start_time": "2025-03-20T16:08:59.207Z"
   },
   {
    "duration": 195,
    "start_time": "2025-03-20T16:08:59.235Z"
   },
   {
    "duration": 791,
    "start_time": "2025-03-20T16:08:59.432Z"
   },
   {
    "duration": 207,
    "start_time": "2025-03-20T16:09:00.224Z"
   },
   {
    "duration": 209,
    "start_time": "2025-03-20T16:09:00.432Z"
   },
   {
    "duration": 208,
    "start_time": "2025-03-20T16:09:00.643Z"
   },
   {
    "duration": 33,
    "start_time": "2025-03-20T16:09:00.852Z"
   },
   {
    "duration": 182,
    "start_time": "2025-03-20T16:09:00.887Z"
   },
   {
    "duration": 4,
    "start_time": "2025-03-20T16:09:01.071Z"
   },
   {
    "duration": 87,
    "start_time": "2025-03-20T16:09:01.077Z"
   },
   {
    "duration": 175,
    "start_time": "2025-03-20T16:09:01.166Z"
   },
   {
    "duration": 18,
    "start_time": "2025-03-20T16:09:01.343Z"
   },
   {
    "duration": 171,
    "start_time": "2025-03-20T16:09:01.363Z"
   },
   {
    "duration": 25,
    "start_time": "2025-03-20T16:09:01.536Z"
   },
   {
    "duration": 4,
    "start_time": "2025-03-20T16:09:01.563Z"
   },
   {
    "duration": 17,
    "start_time": "2025-03-20T16:09:01.569Z"
   },
   {
    "duration": 85,
    "start_time": "2025-03-20T16:09:01.587Z"
   },
   {
    "duration": 72,
    "start_time": "2025-03-20T16:09:01.673Z"
   },
   {
    "duration": 163,
    "start_time": "2025-03-20T16:09:01.747Z"
   },
   {
    "duration": 8,
    "start_time": "2025-03-20T16:09:01.912Z"
   },
   {
    "duration": 27,
    "start_time": "2025-03-20T16:09:01.921Z"
   },
   {
    "duration": 10,
    "start_time": "2025-03-20T16:09:01.950Z"
   },
   {
    "duration": 237,
    "start_time": "2025-03-20T16:09:01.961Z"
   },
   {
    "duration": 9,
    "start_time": "2025-03-20T16:09:02.203Z"
   },
   {
    "duration": 260,
    "start_time": "2025-03-20T16:09:02.214Z"
   },
   {
    "duration": 12,
    "start_time": "2025-03-20T16:09:02.476Z"
   },
   {
    "duration": 55,
    "start_time": "2025-03-20T16:09:02.489Z"
   },
   {
    "duration": 224,
    "start_time": "2025-03-20T16:09:02.546Z"
   },
   {
    "duration": 9,
    "start_time": "2025-03-20T16:09:02.771Z"
   },
   {
    "duration": 267,
    "start_time": "2025-03-20T16:09:02.782Z"
   },
   {
    "duration": 242,
    "start_time": "2025-03-20T16:09:03.051Z"
   },
   {
    "duration": 11,
    "start_time": "2025-03-20T16:09:03.295Z"
   },
   {
    "duration": 110,
    "start_time": "2025-03-20T16:09:03.307Z"
   },
   {
    "duration": 3,
    "start_time": "2025-03-20T16:09:03.418Z"
   },
   {
    "duration": 60,
    "start_time": "2025-03-20T16:09:03.422Z"
   },
   {
    "duration": 6,
    "start_time": "2025-03-20T16:09:03.484Z"
   },
   {
    "duration": 37,
    "start_time": "2025-03-20T16:09:03.503Z"
   },
   {
    "duration": 32,
    "start_time": "2025-03-20T16:09:03.541Z"
   },
   {
    "duration": 4,
    "start_time": "2025-03-20T16:09:03.574Z"
   },
   {
    "duration": 37,
    "start_time": "2025-03-20T16:09:03.579Z"
   },
   {
    "duration": 50,
    "start_time": "2025-03-20T16:09:03.618Z"
   },
   {
    "duration": 3,
    "start_time": "2025-03-20T16:09:03.669Z"
   },
   {
    "duration": 36,
    "start_time": "2025-03-20T16:09:03.674Z"
   },
   {
    "duration": 434,
    "start_time": "2025-03-21T09:59:04.208Z"
   },
   {
    "duration": 1047,
    "start_time": "2025-03-21T09:59:04.644Z"
   },
   {
    "duration": 573,
    "start_time": "2025-03-21T09:59:05.692Z"
   },
   {
    "duration": 35,
    "start_time": "2025-03-21T09:59:06.267Z"
   },
   {
    "duration": 81,
    "start_time": "2025-03-21T09:59:06.304Z"
   },
   {
    "duration": 226,
    "start_time": "2025-03-21T09:59:06.386Z"
   },
   {
    "duration": 722,
    "start_time": "2025-03-21T09:59:06.614Z"
   },
   {
    "duration": 200,
    "start_time": "2025-03-21T09:59:07.338Z"
   },
   {
    "duration": 290,
    "start_time": "2025-03-21T09:59:07.540Z"
   },
   {
    "duration": 337,
    "start_time": "2025-03-21T09:59:07.831Z"
   },
   {
    "duration": 86,
    "start_time": "2025-03-21T09:59:08.170Z"
   },
   {
    "duration": 312,
    "start_time": "2025-03-21T09:59:08.258Z"
   },
   {
    "duration": 5,
    "start_time": "2025-03-21T09:59:08.572Z"
   },
   {
    "duration": 133,
    "start_time": "2025-03-21T09:59:08.629Z"
   },
   {
    "duration": 369,
    "start_time": "2025-03-21T09:59:08.764Z"
   },
   {
    "duration": 20,
    "start_time": "2025-03-21T09:59:09.134Z"
   },
   {
    "duration": 203,
    "start_time": "2025-03-21T09:59:09.155Z"
   },
   {
    "duration": 28,
    "start_time": "2025-03-21T09:59:09.360Z"
   },
   {
    "duration": 4,
    "start_time": "2025-03-21T09:59:09.390Z"
   },
   {
    "duration": 12,
    "start_time": "2025-03-21T09:59:09.395Z"
   },
   {
    "duration": 9,
    "start_time": "2025-03-21T09:59:09.408Z"
   },
   {
    "duration": 2,
    "start_time": "2025-03-21T09:59:09.430Z"
   },
   {
    "duration": 215,
    "start_time": "2025-03-21T09:59:09.434Z"
   },
   {
    "duration": 8,
    "start_time": "2025-03-21T09:59:09.651Z"
   },
   {
    "duration": 14,
    "start_time": "2025-03-21T09:59:09.661Z"
   },
   {
    "duration": 13,
    "start_time": "2025-03-21T09:59:09.677Z"
   },
   {
    "duration": 202,
    "start_time": "2025-03-21T09:59:09.692Z"
   },
   {
    "duration": 9,
    "start_time": "2025-03-21T09:59:09.896Z"
   },
   {
    "duration": 204,
    "start_time": "2025-03-21T09:59:09.907Z"
   },
   {
    "duration": 17,
    "start_time": "2025-03-21T09:59:10.113Z"
   },
   {
    "duration": 9,
    "start_time": "2025-03-21T09:59:10.132Z"
   },
   {
    "duration": 197,
    "start_time": "2025-03-21T09:59:10.142Z"
   },
   {
    "duration": 10,
    "start_time": "2025-03-21T09:59:10.341Z"
   },
   {
    "duration": 276,
    "start_time": "2025-03-21T09:59:10.352Z"
   },
   {
    "duration": 241,
    "start_time": "2025-03-21T09:59:10.630Z"
   },
   {
    "duration": 4,
    "start_time": "2025-03-21T09:59:10.873Z"
   },
   {
    "duration": 54,
    "start_time": "2025-03-21T09:59:10.879Z"
   },
   {
    "duration": 2,
    "start_time": "2025-03-21T09:59:10.935Z"
   },
   {
    "duration": 53,
    "start_time": "2025-03-21T09:59:10.938Z"
   },
   {
    "duration": 7,
    "start_time": "2025-03-21T09:59:10.993Z"
   },
   {
    "duration": 38,
    "start_time": "2025-03-21T09:59:11.003Z"
   },
   {
    "duration": 32,
    "start_time": "2025-03-21T09:59:11.042Z"
   },
   {
    "duration": 4,
    "start_time": "2025-03-21T09:59:11.076Z"
   },
   {
    "duration": 58,
    "start_time": "2025-03-21T09:59:11.082Z"
   },
   {
    "duration": 32,
    "start_time": "2025-03-21T09:59:11.142Z"
   },
   {
    "duration": 3,
    "start_time": "2025-03-21T09:59:11.175Z"
   },
   {
    "duration": 9,
    "start_time": "2025-03-21T09:59:11.180Z"
   },
   {
    "duration": 429,
    "start_time": "2025-03-21T11:34:57.015Z"
   },
   {
    "duration": 921,
    "start_time": "2025-03-21T11:34:57.446Z"
   },
   {
    "duration": 539,
    "start_time": "2025-03-21T11:34:58.368Z"
   },
   {
    "duration": 53,
    "start_time": "2025-03-21T11:34:58.909Z"
   },
   {
    "duration": 21,
    "start_time": "2025-03-21T11:34:58.963Z"
   },
   {
    "duration": 275,
    "start_time": "2025-03-21T11:34:58.986Z"
   },
   {
    "duration": 901,
    "start_time": "2025-03-21T11:34:59.262Z"
   },
   {
    "duration": 192,
    "start_time": "2025-03-21T11:35:00.165Z"
   },
   {
    "duration": 195,
    "start_time": "2025-03-21T11:35:00.358Z"
   },
   {
    "duration": 181,
    "start_time": "2025-03-21T11:35:00.556Z"
   },
   {
    "duration": 51,
    "start_time": "2025-03-21T11:35:00.739Z"
   },
   {
    "duration": 190,
    "start_time": "2025-03-21T11:35:00.791Z"
   },
   {
    "duration": 4,
    "start_time": "2025-03-21T11:35:00.983Z"
   },
   {
    "duration": 213,
    "start_time": "2025-03-21T11:35:00.989Z"
   },
   {
    "duration": 191,
    "start_time": "2025-03-21T11:35:01.203Z"
   },
   {
    "duration": 40,
    "start_time": "2025-03-21T11:35:01.396Z"
   },
   {
    "duration": 181,
    "start_time": "2025-03-21T11:35:01.438Z"
   },
   {
    "duration": 25,
    "start_time": "2025-03-21T11:35:01.620Z"
   },
   {
    "duration": 5,
    "start_time": "2025-03-21T11:35:01.648Z"
   },
   {
    "duration": 56,
    "start_time": "2025-03-21T11:35:01.655Z"
   },
   {
    "duration": 13,
    "start_time": "2025-03-21T11:35:01.713Z"
   },
   {
    "duration": 20,
    "start_time": "2025-03-21T11:35:01.727Z"
   },
   {
    "duration": 236,
    "start_time": "2025-03-21T11:35:01.750Z"
   },
   {
    "duration": 47,
    "start_time": "2025-03-21T11:35:01.987Z"
   },
   {
    "duration": 20,
    "start_time": "2025-03-21T11:35:02.037Z"
   },
   {
    "duration": 43,
    "start_time": "2025-03-21T11:35:02.058Z"
   },
   {
    "duration": 190,
    "start_time": "2025-03-21T11:35:02.102Z"
   },
   {
    "duration": 8,
    "start_time": "2025-03-21T11:35:02.295Z"
   },
   {
    "duration": 214,
    "start_time": "2025-03-21T11:35:02.304Z"
   },
   {
    "duration": 16,
    "start_time": "2025-03-21T11:35:02.519Z"
   },
   {
    "duration": 35,
    "start_time": "2025-03-21T11:35:02.537Z"
   },
   {
    "duration": 306,
    "start_time": "2025-03-21T11:35:02.573Z"
   },
   {
    "duration": 8,
    "start_time": "2025-03-21T11:35:02.880Z"
   },
   {
    "duration": 191,
    "start_time": "2025-03-21T11:35:02.890Z"
   },
   {
    "duration": 308,
    "start_time": "2025-03-21T11:35:03.083Z"
   },
   {
    "duration": 4,
    "start_time": "2025-03-21T11:35:03.392Z"
   },
   {
    "duration": 61,
    "start_time": "2025-03-21T11:35:03.398Z"
   },
   {
    "duration": 2,
    "start_time": "2025-03-21T11:35:03.461Z"
   },
   {
    "duration": 61,
    "start_time": "2025-03-21T11:35:03.464Z"
   },
   {
    "duration": 6,
    "start_time": "2025-03-21T11:35:03.526Z"
   },
   {
    "duration": 23,
    "start_time": "2025-03-21T11:35:03.534Z"
   },
   {
    "duration": 28,
    "start_time": "2025-03-21T11:35:03.559Z"
   },
   {
    "duration": 8,
    "start_time": "2025-03-21T11:35:03.589Z"
   },
   {
    "duration": 64,
    "start_time": "2025-03-21T11:35:03.598Z"
   },
   {
    "duration": 29,
    "start_time": "2025-03-21T11:35:03.663Z"
   },
   {
    "duration": 2,
    "start_time": "2025-03-21T11:35:03.694Z"
   },
   {
    "duration": 22,
    "start_time": "2025-03-21T11:35:03.698Z"
   },
   {
    "duration": 177,
    "start_time": "2025-03-21T11:42:30.872Z"
   },
   {
    "duration": 118,
    "start_time": "2025-03-21T11:44:34.964Z"
   },
   {
    "duration": 20,
    "start_time": "2025-03-21T11:45:12.155Z"
   },
   {
    "duration": 14,
    "start_time": "2025-03-21T11:45:26.945Z"
   },
   {
    "duration": 11,
    "start_time": "2025-03-21T11:46:48.394Z"
   },
   {
    "duration": 1411,
    "start_time": "2025-03-21T11:47:28.691Z"
   },
   {
    "duration": 205,
    "start_time": "2025-03-21T11:47:44.488Z"
   },
   {
    "duration": 10,
    "start_time": "2025-03-21T11:47:49.516Z"
   },
   {
    "duration": 210,
    "start_time": "2025-03-21T11:47:53.568Z"
   },
   {
    "duration": 21,
    "start_time": "2025-03-21T11:48:38.636Z"
   },
   {
    "duration": 21,
    "start_time": "2025-03-21T11:48:46.437Z"
   },
   {
    "duration": 11,
    "start_time": "2025-03-21T11:48:57.160Z"
   },
   {
    "duration": 178,
    "start_time": "2025-03-21T11:49:02.638Z"
   },
   {
    "duration": 12,
    "start_time": "2025-03-21T11:49:06.190Z"
   },
   {
    "duration": 188,
    "start_time": "2025-03-21T11:49:15.262Z"
   },
   {
    "duration": 3,
    "start_time": "2025-03-21T11:56:08.973Z"
   },
   {
    "duration": 51,
    "start_time": "2025-03-21T11:56:09.538Z"
   },
   {
    "duration": 6,
    "start_time": "2025-03-21T12:02:16.521Z"
   },
   {
    "duration": 37,
    "start_time": "2025-03-21T12:10:14.483Z"
   },
   {
    "duration": 2,
    "start_time": "2025-03-21T12:10:17.315Z"
   },
   {
    "duration": 54,
    "start_time": "2025-03-21T12:10:18.099Z"
   },
   {
    "duration": 5,
    "start_time": "2025-03-21T12:10:18.799Z"
   },
   {
    "duration": 90,
    "start_time": "2025-03-21T12:17:12.416Z"
   },
   {
    "duration": 5,
    "start_time": "2025-03-21T12:17:18.086Z"
   },
   {
    "duration": 458,
    "start_time": "2025-03-21T12:17:56.916Z"
   },
   {
    "duration": 1021,
    "start_time": "2025-03-21T12:17:57.376Z"
   },
   {
    "duration": 507,
    "start_time": "2025-03-21T12:17:58.399Z"
   },
   {
    "duration": 42,
    "start_time": "2025-03-21T12:17:58.908Z"
   },
   {
    "duration": 23,
    "start_time": "2025-03-21T12:17:58.953Z"
   },
   {
    "duration": 180,
    "start_time": "2025-03-21T12:17:58.977Z"
   },
   {
    "duration": 800,
    "start_time": "2025-03-21T12:17:59.159Z"
   },
   {
    "duration": 221,
    "start_time": "2025-03-21T12:17:59.960Z"
   },
   {
    "duration": 236,
    "start_time": "2025-03-21T12:18:00.182Z"
   },
   {
    "duration": 236,
    "start_time": "2025-03-21T12:18:00.419Z"
   },
   {
    "duration": 29,
    "start_time": "2025-03-21T12:18:00.657Z"
   },
   {
    "duration": 198,
    "start_time": "2025-03-21T12:18:00.688Z"
   },
   {
    "duration": 5,
    "start_time": "2025-03-21T12:18:00.887Z"
   },
   {
    "duration": 107,
    "start_time": "2025-03-21T12:18:00.895Z"
   },
   {
    "duration": 177,
    "start_time": "2025-03-21T12:18:01.003Z"
   },
   {
    "duration": 18,
    "start_time": "2025-03-21T12:18:01.182Z"
   },
   {
    "duration": 206,
    "start_time": "2025-03-21T12:18:01.201Z"
   },
   {
    "duration": 30,
    "start_time": "2025-03-21T12:18:01.409Z"
   },
   {
    "duration": 7,
    "start_time": "2025-03-21T12:18:01.441Z"
   },
   {
    "duration": 41,
    "start_time": "2025-03-21T12:18:01.450Z"
   },
   {
    "duration": 10,
    "start_time": "2025-03-21T12:18:01.494Z"
   },
   {
    "duration": 22,
    "start_time": "2025-03-21T12:18:01.505Z"
   },
   {
    "duration": 215,
    "start_time": "2025-03-21T12:18:01.529Z"
   },
   {
    "duration": 9,
    "start_time": "2025-03-21T12:18:01.747Z"
   },
   {
    "duration": 47,
    "start_time": "2025-03-21T12:18:01.758Z"
   },
   {
    "duration": 35,
    "start_time": "2025-03-21T12:18:01.807Z"
   },
   {
    "duration": 254,
    "start_time": "2025-03-21T12:18:01.844Z"
   },
   {
    "duration": 12,
    "start_time": "2025-03-21T12:18:02.099Z"
   },
   {
    "duration": 266,
    "start_time": "2025-03-21T12:18:02.112Z"
   },
   {
    "duration": 21,
    "start_time": "2025-03-21T12:18:02.381Z"
   },
   {
    "duration": 11,
    "start_time": "2025-03-21T12:18:02.404Z"
   },
   {
    "duration": 233,
    "start_time": "2025-03-21T12:18:02.439Z"
   },
   {
    "duration": 11,
    "start_time": "2025-03-21T12:18:02.674Z"
   },
   {
    "duration": 295,
    "start_time": "2025-03-21T12:18:02.686Z"
   },
   {
    "duration": 248,
    "start_time": "2025-03-21T12:18:02.983Z"
   },
   {
    "duration": 6,
    "start_time": "2025-03-21T12:18:03.233Z"
   },
   {
    "duration": 58,
    "start_time": "2025-03-21T12:18:03.240Z"
   },
   {
    "duration": 100,
    "start_time": "2025-03-21T12:18:03.300Z"
   },
   {
    "duration": 81,
    "start_time": "2025-03-21T12:18:03.401Z"
   },
   {
    "duration": 8,
    "start_time": "2025-03-21T12:18:03.483Z"
   },
   {
    "duration": 37,
    "start_time": "2025-03-21T12:18:03.496Z"
   },
   {
    "duration": 32,
    "start_time": "2025-03-21T12:18:03.534Z"
   },
   {
    "duration": 4,
    "start_time": "2025-03-21T12:18:03.567Z"
   },
   {
    "duration": 49,
    "start_time": "2025-03-21T12:18:03.572Z"
   },
   {
    "duration": 43,
    "start_time": "2025-03-21T12:18:03.622Z"
   },
   {
    "duration": 45,
    "start_time": "2025-03-21T12:18:03.666Z"
   },
   {
    "duration": 15,
    "start_time": "2025-03-21T12:18:03.713Z"
   },
   {
    "duration": 34,
    "start_time": "2025-03-21T12:27:39.372Z"
   },
   {
    "duration": 114,
    "start_time": "2025-03-21T12:32:49.362Z"
   },
   {
    "duration": 19,
    "start_time": "2025-03-21T12:34:21.939Z"
   },
   {
    "duration": 10,
    "start_time": "2025-03-21T12:34:27.239Z"
   },
   {
    "duration": 14,
    "start_time": "2025-03-21T12:34:33.722Z"
   },
   {
    "duration": 7,
    "start_time": "2025-03-21T12:34:41.257Z"
   },
   {
    "duration": 11,
    "start_time": "2025-03-21T12:35:02.989Z"
   },
   {
    "duration": 45,
    "start_time": "2025-03-21T12:35:04.444Z"
   },
   {
    "duration": 15,
    "start_time": "2025-03-21T12:35:05.145Z"
   },
   {
    "duration": 5,
    "start_time": "2025-03-21T12:37:28.671Z"
   },
   {
    "duration": 3,
    "start_time": "2025-03-21T12:37:33.776Z"
   },
   {
    "duration": 8,
    "start_time": "2025-03-21T12:37:36.645Z"
   },
   {
    "duration": 395,
    "start_time": "2025-03-21T12:38:35.169Z"
   },
   {
    "duration": 1034,
    "start_time": "2025-03-21T12:38:35.566Z"
   },
   {
    "duration": 524,
    "start_time": "2025-03-21T12:38:36.601Z"
   },
   {
    "duration": 45,
    "start_time": "2025-03-21T12:38:37.132Z"
   },
   {
    "duration": 23,
    "start_time": "2025-03-21T12:38:37.179Z"
   },
   {
    "duration": 239,
    "start_time": "2025-03-21T12:38:37.203Z"
   },
   {
    "duration": 722,
    "start_time": "2025-03-21T12:38:37.444Z"
   },
   {
    "duration": 209,
    "start_time": "2025-03-21T12:38:38.168Z"
   },
   {
    "duration": 213,
    "start_time": "2025-03-21T12:38:38.379Z"
   },
   {
    "duration": 202,
    "start_time": "2025-03-21T12:38:38.594Z"
   },
   {
    "duration": 41,
    "start_time": "2025-03-21T12:38:38.798Z"
   },
   {
    "duration": 185,
    "start_time": "2025-03-21T12:38:38.841Z"
   },
   {
    "duration": 6,
    "start_time": "2025-03-21T12:38:39.029Z"
   },
   {
    "duration": 76,
    "start_time": "2025-03-21T12:38:39.037Z"
   },
   {
    "duration": 182,
    "start_time": "2025-03-21T12:38:39.115Z"
   },
   {
    "duration": 17,
    "start_time": "2025-03-21T12:38:39.299Z"
   },
   {
    "duration": 173,
    "start_time": "2025-03-21T12:38:39.318Z"
   },
   {
    "duration": 23,
    "start_time": "2025-03-21T12:38:39.493Z"
   },
   {
    "duration": 4,
    "start_time": "2025-03-21T12:38:39.517Z"
   },
   {
    "duration": 19,
    "start_time": "2025-03-21T12:38:39.523Z"
   },
   {
    "duration": 14,
    "start_time": "2025-03-21T12:38:39.544Z"
   },
   {
    "duration": 3,
    "start_time": "2025-03-21T12:38:39.559Z"
   },
   {
    "duration": 200,
    "start_time": "2025-03-21T12:38:39.563Z"
   },
   {
    "duration": 7,
    "start_time": "2025-03-21T12:38:39.765Z"
   },
   {
    "duration": 64,
    "start_time": "2025-03-21T12:38:39.773Z"
   },
   {
    "duration": 12,
    "start_time": "2025-03-21T12:38:39.840Z"
   },
   {
    "duration": 221,
    "start_time": "2025-03-21T12:38:39.855Z"
   },
   {
    "duration": 11,
    "start_time": "2025-03-21T12:38:40.080Z"
   },
   {
    "duration": 218,
    "start_time": "2025-03-21T12:38:40.092Z"
   },
   {
    "duration": 27,
    "start_time": "2025-03-21T12:38:40.312Z"
   },
   {
    "duration": 10,
    "start_time": "2025-03-21T12:38:40.341Z"
   },
   {
    "duration": 212,
    "start_time": "2025-03-21T12:38:40.355Z"
   },
   {
    "duration": 11,
    "start_time": "2025-03-21T12:38:40.568Z"
   },
   {
    "duration": 282,
    "start_time": "2025-03-21T12:38:40.581Z"
   },
   {
    "duration": 253,
    "start_time": "2025-03-21T12:38:40.864Z"
   },
   {
    "duration": 5,
    "start_time": "2025-03-21T12:38:41.118Z"
   },
   {
    "duration": 43,
    "start_time": "2025-03-21T12:38:41.124Z"
   },
   {
    "duration": 12,
    "start_time": "2025-03-21T12:38:41.169Z"
   },
   {
    "duration": 2,
    "start_time": "2025-03-21T12:38:41.183Z"
   },
   {
    "duration": 4,
    "start_time": "2025-03-21T12:38:41.187Z"
   },
   {
    "duration": 95,
    "start_time": "2025-03-21T12:38:41.192Z"
   },
   {
    "duration": 16,
    "start_time": "2025-03-21T12:38:41.289Z"
   },
   {
    "duration": 42,
    "start_time": "2025-03-21T12:38:41.307Z"
   },
   {
    "duration": 6,
    "start_time": "2025-03-21T12:38:41.351Z"
   },
   {
    "duration": 32,
    "start_time": "2025-03-21T12:38:41.359Z"
   },
   {
    "duration": 58,
    "start_time": "2025-03-21T12:38:41.393Z"
   },
   {
    "duration": 52,
    "start_time": "2025-03-21T12:38:41.454Z"
   },
   {
    "duration": 10,
    "start_time": "2025-03-21T12:38:41.507Z"
   },
   {
    "duration": 346,
    "start_time": "2025-03-21T21:16:13.799Z"
   },
   {
    "duration": 1805,
    "start_time": "2025-03-21T21:16:14.146Z"
   },
   {
    "duration": 434,
    "start_time": "2025-03-21T21:16:15.952Z"
   },
   {
    "duration": 33,
    "start_time": "2025-03-21T21:16:16.387Z"
   },
   {
    "duration": 35,
    "start_time": "2025-03-21T21:16:16.421Z"
   },
   {
    "duration": 128,
    "start_time": "2025-03-21T21:16:16.457Z"
   },
   {
    "duration": 908,
    "start_time": "2025-03-21T21:16:16.586Z"
   },
   {
    "duration": 370,
    "start_time": "2025-03-21T21:16:17.495Z"
   },
   {
    "duration": 324,
    "start_time": "2025-03-21T21:16:17.867Z"
   },
   {
    "duration": 406,
    "start_time": "2025-03-21T21:16:18.193Z"
   },
   {
    "duration": 39,
    "start_time": "2025-03-21T21:16:18.655Z"
   },
   {
    "duration": 161,
    "start_time": "2025-03-21T21:16:18.696Z"
   },
   {
    "duration": 5,
    "start_time": "2025-03-21T21:16:18.859Z"
   },
   {
    "duration": 91,
    "start_time": "2025-03-21T21:16:18.866Z"
   },
   {
    "duration": 162,
    "start_time": "2025-03-21T21:16:18.958Z"
   },
   {
    "duration": 16,
    "start_time": "2025-03-21T21:16:19.122Z"
   },
   {
    "duration": 270,
    "start_time": "2025-03-21T21:16:19.140Z"
   },
   {
    "duration": 22,
    "start_time": "2025-03-21T21:16:19.412Z"
   },
   {
    "duration": 118,
    "start_time": "2025-03-21T21:16:19.436Z"
   },
   {
    "duration": 23,
    "start_time": "2025-03-21T21:16:19.556Z"
   },
   {
    "duration": 8,
    "start_time": "2025-03-21T21:16:19.580Z"
   },
   {
    "duration": 2,
    "start_time": "2025-03-21T21:16:19.590Z"
   },
   {
    "duration": 202,
    "start_time": "2025-03-21T21:16:19.593Z"
   },
   {
    "duration": 7,
    "start_time": "2025-03-21T21:16:19.857Z"
   },
   {
    "duration": 20,
    "start_time": "2025-03-21T21:16:19.866Z"
   },
   {
    "duration": 10,
    "start_time": "2025-03-21T21:16:19.888Z"
   },
   {
    "duration": 225,
    "start_time": "2025-03-21T21:16:19.899Z"
   },
   {
    "duration": 10,
    "start_time": "2025-03-21T21:16:20.127Z"
   },
   {
    "duration": 182,
    "start_time": "2025-03-21T21:16:20.138Z"
   },
   {
    "duration": 19,
    "start_time": "2025-03-21T21:16:20.321Z"
   },
   {
    "duration": 10,
    "start_time": "2025-03-21T21:16:20.355Z"
   },
   {
    "duration": 213,
    "start_time": "2025-03-21T21:16:20.367Z"
   },
   {
    "duration": 11,
    "start_time": "2025-03-21T21:16:20.581Z"
   },
   {
    "duration": 175,
    "start_time": "2025-03-21T21:16:20.593Z"
   },
   {
    "duration": 200,
    "start_time": "2025-03-21T21:16:20.769Z"
   },
   {
    "duration": 4,
    "start_time": "2025-03-21T21:16:20.971Z"
   },
   {
    "duration": 63,
    "start_time": "2025-03-21T21:16:20.976Z"
   },
   {
    "duration": 11,
    "start_time": "2025-03-21T21:16:21.041Z"
   },
   {
    "duration": 3,
    "start_time": "2025-03-21T21:16:21.053Z"
   },
   {
    "duration": 3,
    "start_time": "2025-03-21T21:16:21.057Z"
   },
   {
    "duration": 5,
    "start_time": "2025-03-21T21:16:21.061Z"
   },
   {
    "duration": 31,
    "start_time": "2025-03-21T21:16:21.067Z"
   },
   {
    "duration": 43,
    "start_time": "2025-03-21T21:16:21.099Z"
   },
   {
    "duration": 59,
    "start_time": "2025-03-21T21:16:21.144Z"
   },
   {
    "duration": 119,
    "start_time": "2025-03-21T21:16:21.205Z"
   },
   {
    "duration": 27,
    "start_time": "2025-03-21T21:16:21.325Z"
   },
   {
    "duration": 5,
    "start_time": "2025-03-21T21:16:21.354Z"
   },
   {
    "duration": 13,
    "start_time": "2025-03-21T21:16:21.360Z"
   },
   {
    "duration": 48,
    "start_time": "2025-06-09T14:53:19.070Z"
   },
   {
    "duration": 396,
    "start_time": "2025-06-09T14:54:48.205Z"
   },
   {
    "duration": 1037,
    "start_time": "2025-06-09T14:54:48.603Z"
   },
   {
    "duration": 571,
    "start_time": "2025-06-09T14:54:49.641Z"
   },
   {
    "duration": 35,
    "start_time": "2025-06-09T14:54:50.214Z"
   },
   {
    "duration": 37,
    "start_time": "2025-06-09T14:54:50.251Z"
   },
   {
    "duration": 173,
    "start_time": "2025-06-09T14:54:50.290Z"
   },
   {
    "duration": 944,
    "start_time": "2025-06-09T14:54:50.465Z"
   },
   {
    "duration": 221,
    "start_time": "2025-06-09T14:54:51.411Z"
   },
   {
    "duration": 229,
    "start_time": "2025-06-09T14:54:51.634Z"
   },
   {
    "duration": 209,
    "start_time": "2025-06-09T14:54:51.865Z"
   },
   {
    "duration": 48,
    "start_time": "2025-06-09T14:54:52.076Z"
   },
   {
    "duration": 192,
    "start_time": "2025-06-09T14:54:52.126Z"
   },
   {
    "duration": 5,
    "start_time": "2025-06-09T14:54:52.320Z"
   },
   {
    "duration": 110,
    "start_time": "2025-06-09T14:54:52.328Z"
   },
   {
    "duration": 197,
    "start_time": "2025-06-09T14:54:52.440Z"
   },
   {
    "duration": 22,
    "start_time": "2025-06-09T14:54:52.638Z"
   },
   {
    "duration": 205,
    "start_time": "2025-06-09T14:54:52.671Z"
   },
   {
    "duration": 25,
    "start_time": "2025-06-09T14:54:52.878Z"
   },
   {
    "duration": 4,
    "start_time": "2025-06-09T14:54:52.905Z"
   },
   {
    "duration": 84,
    "start_time": "2025-06-09T14:54:52.911Z"
   },
   {
    "duration": 208,
    "start_time": "2025-06-09T14:54:52.997Z"
   },
   {
    "duration": 19,
    "start_time": "2025-06-09T14:54:53.207Z"
   },
   {
    "duration": 286,
    "start_time": "2025-06-09T14:54:53.228Z"
   },
   {
    "duration": 8,
    "start_time": "2025-06-09T14:54:53.516Z"
   },
   {
    "duration": 50,
    "start_time": "2025-06-09T14:54:53.526Z"
   },
   {
    "duration": 28,
    "start_time": "2025-06-09T14:54:53.578Z"
   },
   {
    "duration": 263,
    "start_time": "2025-06-09T14:54:53.608Z"
   },
   {
    "duration": 13,
    "start_time": "2025-06-09T14:54:53.873Z"
   },
   {
    "duration": 232,
    "start_time": "2025-06-09T14:54:53.887Z"
   },
   {
    "duration": 22,
    "start_time": "2025-06-09T14:54:54.121Z"
   },
   {
    "duration": 28,
    "start_time": "2025-06-09T14:54:54.145Z"
   },
   {
    "duration": 273,
    "start_time": "2025-06-09T14:54:54.174Z"
   },
   {
    "duration": 12,
    "start_time": "2025-06-09T14:54:54.448Z"
   },
   {
    "duration": 223,
    "start_time": "2025-06-09T14:54:54.462Z"
   },
   {
    "duration": 272,
    "start_time": "2025-06-09T14:54:54.687Z"
   },
   {
    "duration": 5,
    "start_time": "2025-06-09T14:54:54.961Z"
   },
   {
    "duration": 41,
    "start_time": "2025-06-09T14:54:54.972Z"
   },
   {
    "duration": 13,
    "start_time": "2025-06-09T14:54:55.014Z"
   },
   {
    "duration": 42,
    "start_time": "2025-06-09T14:54:55.028Z"
   },
   {
    "duration": 31,
    "start_time": "2025-06-09T14:54:55.071Z"
   },
   {
    "duration": 12,
    "start_time": "2025-06-09T14:54:55.106Z"
   },
   {
    "duration": 113,
    "start_time": "2025-06-09T14:54:55.120Z"
   },
   {
    "duration": 51,
    "start_time": "2025-06-09T14:54:55.235Z"
   },
   {
    "duration": 3,
    "start_time": "2025-06-09T14:54:55.288Z"
   },
   {
    "duration": 45,
    "start_time": "2025-06-09T14:54:55.293Z"
   },
   {
    "duration": 42,
    "start_time": "2025-06-09T14:54:55.340Z"
   },
   {
    "duration": 2,
    "start_time": "2025-06-09T14:54:55.384Z"
   },
   {
    "duration": 40,
    "start_time": "2025-06-09T14:54:55.388Z"
   }
  ],
  "colab": {
   "provenance": []
  },
  "kernelspec": {
   "display_name": "Python 3 (ipykernel)",
   "language": "python",
   "name": "python3"
  },
  "language_info": {
   "codemirror_mode": {
    "name": "ipython",
    "version": 3
   },
   "file_extension": ".py",
   "mimetype": "text/x-python",
   "name": "python",
   "nbconvert_exporter": "python",
   "pygments_lexer": "ipython3",
   "version": "3.9.5"
  },
  "toc": {
   "base_numbering": 1,
   "nav_menu": {},
   "number_sections": true,
   "sideBar": true,
   "skip_h1_title": true,
   "title_cell": "Table of Contents",
   "title_sidebar": "Contents",
   "toc_cell": false,
   "toc_position": {
    "height": "calc(100% - 180px)",
    "left": "10px",
    "top": "150px",
    "width": "292.640625px"
   },
   "toc_section_display": true,
   "toc_window_display": true
  }
 },
 "nbformat": 4,
 "nbformat_minor": 1
}

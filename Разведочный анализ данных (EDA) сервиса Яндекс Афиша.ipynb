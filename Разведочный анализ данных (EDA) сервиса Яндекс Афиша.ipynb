{
 "cells": [
  {
   "cell_type": "markdown",
   "metadata": {
    "id": "LMuaGIE3lGcr"
   },
   "source": [
    "## Проект \"Пользовательские предпочтения в программе Яндекс.Афиша и популярные события осенью 2024 года\"\n",
    "- Автор: Родина Дарья "
   ]
  },
  {
   "cell_type": "markdown",
   "metadata": {},
   "source": [
    "## Цели и задачи проекта \n",
    "Цель: выявить инсайты об изменении пользовательских предпочтений и популярности событий осенью 2024 года, а также проверить гипотезы о разнице в поведении пользователей с мобильными и стационарными устройствами.\n",
    "\n",
    "Задачи:\n",
    "- предобработать данные и познакомиться сними, \n",
    "- провести анализ распределения заказов по сегментам и их сезонные изменения, \n",
    "- исследовать осеннюю активность пользователей \n",
    "- найти популярные события и партнеров \n",
    "- провести статистический анализ данных \n",
    "- подготовить аналитическую записку "
   ]
  },
  {
   "cell_type": "markdown",
   "metadata": {},
   "source": [
    "## Описание данных \n",
    "\n",
    " final_tickets_orders_df.csv - информация обо всех заказах билетов, совершённых с двух типов устройств — мобильных и стационарных. Структура файла: \n",
    " - оrder_id — уникальный идентификатор заказа;\n",
    " - user_id — уникальный идентификатор пользователя;\n",
    " - created_dt_msk — дата создания заказа (московское время);\n",
    " - created_ts_msk — дата и время создания заказа (московское время);\n",
    " - event_id — идентификатор мероприятия из таблицы events;\n",
    " - cinema_circuit — сеть кинотеатров. Если не применимо, то здесь будет значение 'нет';\n",
    " - age_limit — возрастное ограничение мероприятия;\n",
    " - currency_code — валюта оплаты, например rub для российских рублей;\n",
    " - device_type_canonical — тип устройства, с которого был оформлен заказ, например mobile для мобильных устройств, desktop для стационарных;\n",
    " - revenue — выручка от заказа;\n",
    " - service_name — название билетного оператора;\n",
    " - tickets_count — количество купленных билетов;\n",
    " - total — общая сумма заказа;\n",
    " - days_since_prev - количество дней с предыдущей покупки для каждого пользователя. Если покупки не было, то данные содержат пропуск.\n",
    " \n",
    " final_tickets_events_df - информация о событиях, включая город и регион события, а также информацию о площадке проведения мероприятия. Структура файла:\n",
    " - event_id — уникальный идентификатор мероприятия;\n",
    " - event_name — название мероприятия. Аналог поля event_name_code из исходной базы данных;\n",
    " - event_type_description — описание типа мероприятия;\n",
    " - event_type_main — основной тип мероприятия: театральная постановка, концерт и так далее;\n",
    " - organizers — организаторы мероприятия;\n",
    " - region_name — название региона;\n",
    " - city_name — название города;\n",
    " - venue_id — уникальный идентификатор площадки;\n",
    " - venue_name — название площадки;\n",
    " - venue_address — адрес площадки.\n",
    " \n",
    " final_tickets_tenge_df.csv - информация о курсе тенге к российскому рублю за 2024 год. Значения в рублях представлено для 100 тенге. Структура файла:\n",
    " - nominal — номинал (100 тенге);\n",
    " - data — дата;\n",
    " - curs — курс тенге к рублю;\n",
    " - cdx — обозначение валюты (kzt).\n",
    "\n",
    " "
   ]
  },
  {
   "cell_type": "markdown",
   "metadata": {},
   "source": [
    "## Содержимое проекта \n",
    "\n",
    "\n"
   ]
  },
  {
   "cell_type": "markdown",
   "metadata": {},
   "source": [
    " "
   ]
  },
  {
   "cell_type": "markdown",
   "metadata": {},
   "source": [
    "1. Название проекта \n",
    "2. Цели и задачи проекта \n",
    "3. Описание данных \n",
    "4. Содержимое проекта \n",
    "5. Загрузка данных и знакомство с ними \n",
    "6. Предобработка данных и подготовка их к исследованию\n",
    "7. Исследовательский анализ данных\n",
    "8. Статистический анализ данных \n",
    "9. Общий вывод и рекомендации "
   ]
  },
  {
   "cell_type": "markdown",
   "metadata": {},
   "source": [
    "## Загрузка данных и знакомство с ними "
   ]
  },
  {
   "cell_type": "code",
   "execution_count": 1,
   "metadata": {},
   "outputs": [],
   "source": [
    "import seaborn as sns\n",
    "import numpy as np\n",
    "import pandas as pd \n",
    "import matplotlib.pyplot as plt\n",
    "from scipy.stats import ttest_ind, mannwhitneyu"
   ]
  },
  {
   "cell_type": "code",
   "execution_count": 2,
   "metadata": {},
   "outputs": [
    {
     "data": {
      "text/html": [
       "<div>\n",
       "<style scoped>\n",
       "    .dataframe tbody tr th:only-of-type {\n",
       "        vertical-align: middle;\n",
       "    }\n",
       "\n",
       "    .dataframe tbody tr th {\n",
       "        vertical-align: top;\n",
       "    }\n",
       "\n",
       "    .dataframe thead th {\n",
       "        text-align: right;\n",
       "    }\n",
       "</style>\n",
       "<table border=\"1\" class=\"dataframe\">\n",
       "  <thead>\n",
       "    <tr style=\"text-align: right;\">\n",
       "      <th></th>\n",
       "      <th>order_id</th>\n",
       "      <th>user_id</th>\n",
       "      <th>created_dt_msk</th>\n",
       "      <th>created_ts_msk</th>\n",
       "      <th>event_id</th>\n",
       "      <th>cinema_circuit</th>\n",
       "      <th>age_limit</th>\n",
       "      <th>currency_code</th>\n",
       "      <th>device_type_canonical</th>\n",
       "      <th>revenue</th>\n",
       "      <th>service_name</th>\n",
       "      <th>tickets_count</th>\n",
       "      <th>total</th>\n",
       "      <th>days_since_prev</th>\n",
       "    </tr>\n",
       "  </thead>\n",
       "  <tbody>\n",
       "    <tr>\n",
       "      <th>0</th>\n",
       "      <td>4359165</td>\n",
       "      <td>0002849b70a3ce2</td>\n",
       "      <td>2024-08-20</td>\n",
       "      <td>2024-08-20 16:08:03</td>\n",
       "      <td>169230</td>\n",
       "      <td>нет</td>\n",
       "      <td>16</td>\n",
       "      <td>rub</td>\n",
       "      <td>mobile</td>\n",
       "      <td>1521.94</td>\n",
       "      <td>Край билетов</td>\n",
       "      <td>4</td>\n",
       "      <td>10870.99</td>\n",
       "      <td>NaN</td>\n",
       "    </tr>\n",
       "    <tr>\n",
       "      <th>1</th>\n",
       "      <td>7965605</td>\n",
       "      <td>0005ca5e93f2cf4</td>\n",
       "      <td>2024-07-23</td>\n",
       "      <td>2024-07-23 18:36:24</td>\n",
       "      <td>237325</td>\n",
       "      <td>нет</td>\n",
       "      <td>0</td>\n",
       "      <td>rub</td>\n",
       "      <td>mobile</td>\n",
       "      <td>289.45</td>\n",
       "      <td>Мой билет</td>\n",
       "      <td>2</td>\n",
       "      <td>2067.51</td>\n",
       "      <td>NaN</td>\n",
       "    </tr>\n",
       "    <tr>\n",
       "      <th>2</th>\n",
       "      <td>7292370</td>\n",
       "      <td>0005ca5e93f2cf4</td>\n",
       "      <td>2024-10-06</td>\n",
       "      <td>2024-10-06 13:56:02</td>\n",
       "      <td>578454</td>\n",
       "      <td>нет</td>\n",
       "      <td>0</td>\n",
       "      <td>rub</td>\n",
       "      <td>mobile</td>\n",
       "      <td>1258.57</td>\n",
       "      <td>За билетом!</td>\n",
       "      <td>4</td>\n",
       "      <td>13984.16</td>\n",
       "      <td>75.0</td>\n",
       "    </tr>\n",
       "    <tr>\n",
       "      <th>3</th>\n",
       "      <td>1139875</td>\n",
       "      <td>000898990054619</td>\n",
       "      <td>2024-07-13</td>\n",
       "      <td>2024-07-13 19:40:48</td>\n",
       "      <td>387271</td>\n",
       "      <td>нет</td>\n",
       "      <td>0</td>\n",
       "      <td>rub</td>\n",
       "      <td>mobile</td>\n",
       "      <td>8.49</td>\n",
       "      <td>Лови билет!</td>\n",
       "      <td>2</td>\n",
       "      <td>212.28</td>\n",
       "      <td>NaN</td>\n",
       "    </tr>\n",
       "    <tr>\n",
       "      <th>4</th>\n",
       "      <td>972400</td>\n",
       "      <td>000898990054619</td>\n",
       "      <td>2024-10-04</td>\n",
       "      <td>2024-10-04 22:33:15</td>\n",
       "      <td>509453</td>\n",
       "      <td>нет</td>\n",
       "      <td>18</td>\n",
       "      <td>rub</td>\n",
       "      <td>mobile</td>\n",
       "      <td>1390.41</td>\n",
       "      <td>Билеты без проблем</td>\n",
       "      <td>3</td>\n",
       "      <td>10695.43</td>\n",
       "      <td>83.0</td>\n",
       "    </tr>\n",
       "  </tbody>\n",
       "</table>\n",
       "</div>"
      ],
      "text/plain": [
       "   order_id          user_id created_dt_msk       created_ts_msk  event_id  \\\n",
       "0   4359165  0002849b70a3ce2     2024-08-20  2024-08-20 16:08:03    169230   \n",
       "1   7965605  0005ca5e93f2cf4     2024-07-23  2024-07-23 18:36:24    237325   \n",
       "2   7292370  0005ca5e93f2cf4     2024-10-06  2024-10-06 13:56:02    578454   \n",
       "3   1139875  000898990054619     2024-07-13  2024-07-13 19:40:48    387271   \n",
       "4    972400  000898990054619     2024-10-04  2024-10-04 22:33:15    509453   \n",
       "\n",
       "  cinema_circuit  age_limit currency_code device_type_canonical  revenue  \\\n",
       "0            нет         16           rub                mobile  1521.94   \n",
       "1            нет          0           rub                mobile   289.45   \n",
       "2            нет          0           rub                mobile  1258.57   \n",
       "3            нет          0           rub                mobile     8.49   \n",
       "4            нет         18           rub                mobile  1390.41   \n",
       "\n",
       "         service_name  tickets_count     total  days_since_prev  \n",
       "0        Край билетов              4  10870.99              NaN  \n",
       "1           Мой билет              2   2067.51              NaN  \n",
       "2         За билетом!              4  13984.16             75.0  \n",
       "3         Лови билет!              2    212.28              NaN  \n",
       "4  Билеты без проблем              3  10695.43             83.0  "
      ]
     },
     "metadata": {},
     "output_type": "display_data"
    },
    {
     "name": "stdout",
     "output_type": "stream",
     "text": [
      "<class 'pandas.core.frame.DataFrame'>\n",
      "RangeIndex: 290849 entries, 0 to 290848\n",
      "Data columns (total 14 columns):\n",
      " #   Column                 Non-Null Count   Dtype  \n",
      "---  ------                 --------------   -----  \n",
      " 0   order_id               290849 non-null  int64  \n",
      " 1   user_id                290849 non-null  object \n",
      " 2   created_dt_msk         290849 non-null  object \n",
      " 3   created_ts_msk         290849 non-null  object \n",
      " 4   event_id               290849 non-null  int64  \n",
      " 5   cinema_circuit         290849 non-null  object \n",
      " 6   age_limit              290849 non-null  int64  \n",
      " 7   currency_code          290849 non-null  object \n",
      " 8   device_type_canonical  290849 non-null  object \n",
      " 9   revenue                290849 non-null  float64\n",
      " 10  service_name           290849 non-null  object \n",
      " 11  tickets_count          290849 non-null  int64  \n",
      " 12  total                  290849 non-null  float64\n",
      " 13  days_since_prev        268909 non-null  float64\n",
      "dtypes: float64(3), int64(4), object(7)\n",
      "memory usage: 31.1+ MB\n"
     ]
    },
    {
     "data": {
      "text/plain": [
       "None"
      ]
     },
     "metadata": {},
     "output_type": "display_data"
    }
   ],
   "source": [
    "# создаем новый датафрейм, который включает информацию обо всех заказах билетов, совершённых с двух типов устройств — мобильных и стационарных.\n",
    "df_orders = pd.read_csv('https://code.s3.yandex.net/datasets/final_tickets_orders_df.csv')\n",
    "display(df_orders.head())\n",
    "display(df_orders.info())"
   ]
  },
  {
   "cell_type": "markdown",
   "metadata": {},
   "source": [
    "В датафрейме df_orders отсутствуют пропуски во всех столбцах, кроме days_since_prev. Но, как мы знаем из информации из задания, то отсутствие какого-либо значения в данном поле означает, что покупки совсем не было. Все типы данных соответствуют. "
   ]
  },
  {
   "cell_type": "code",
   "execution_count": 3,
   "metadata": {},
   "outputs": [
    {
     "data": {
      "text/html": [
       "<div>\n",
       "<style scoped>\n",
       "    .dataframe tbody tr th:only-of-type {\n",
       "        vertical-align: middle;\n",
       "    }\n",
       "\n",
       "    .dataframe tbody tr th {\n",
       "        vertical-align: top;\n",
       "    }\n",
       "\n",
       "    .dataframe thead th {\n",
       "        text-align: right;\n",
       "    }\n",
       "</style>\n",
       "<table border=\"1\" class=\"dataframe\">\n",
       "  <thead>\n",
       "    <tr style=\"text-align: right;\">\n",
       "      <th></th>\n",
       "      <th>event_id</th>\n",
       "      <th>event_name</th>\n",
       "      <th>event_type_description</th>\n",
       "      <th>event_type_main</th>\n",
       "      <th>organizers</th>\n",
       "      <th>region_name</th>\n",
       "      <th>city_name</th>\n",
       "      <th>city_id</th>\n",
       "      <th>venue_id</th>\n",
       "      <th>venue_name</th>\n",
       "      <th>venue_address</th>\n",
       "    </tr>\n",
       "  </thead>\n",
       "  <tbody>\n",
       "    <tr>\n",
       "      <th>0</th>\n",
       "      <td>4436</td>\n",
       "      <td>e4f26fba-da77-4c61-928a-6c3e434d793f</td>\n",
       "      <td>спектакль</td>\n",
       "      <td>театр</td>\n",
       "      <td>№4893</td>\n",
       "      <td>Североярская область</td>\n",
       "      <td>Озёрск</td>\n",
       "      <td>2</td>\n",
       "      <td>1600</td>\n",
       "      <td>Кладбище искусств \"Проблема\" и партнеры</td>\n",
       "      <td>наб. Загородная, д. 785</td>\n",
       "    </tr>\n",
       "    <tr>\n",
       "      <th>1</th>\n",
       "      <td>5785</td>\n",
       "      <td>5cc08a60-fdea-4186-9bb2-bffc3603fb77</td>\n",
       "      <td>спектакль</td>\n",
       "      <td>театр</td>\n",
       "      <td>№1931</td>\n",
       "      <td>Светополянский округ</td>\n",
       "      <td>Глиноград</td>\n",
       "      <td>54</td>\n",
       "      <td>2196</td>\n",
       "      <td>Лекции по искусству \"Свет\" Групп</td>\n",
       "      <td>ул. Ягодная, д. 942</td>\n",
       "    </tr>\n",
       "    <tr>\n",
       "      <th>2</th>\n",
       "      <td>8817</td>\n",
       "      <td>8e379a89-3a10-4811-ba06-ec22ebebe989</td>\n",
       "      <td>спектакль</td>\n",
       "      <td>театр</td>\n",
       "      <td>№4896</td>\n",
       "      <td>Североярская область</td>\n",
       "      <td>Озёрск</td>\n",
       "      <td>2</td>\n",
       "      <td>4043</td>\n",
       "      <td>Кинокомитет \"Золотая\" Инк</td>\n",
       "      <td>ш. Коммуны, д. 92 стр. 6</td>\n",
       "    </tr>\n",
       "    <tr>\n",
       "      <th>3</th>\n",
       "      <td>8849</td>\n",
       "      <td>682e3129-6a32-4952-9d8a-ef7f60d4c247</td>\n",
       "      <td>спектакль</td>\n",
       "      <td>театр</td>\n",
       "      <td>№4960</td>\n",
       "      <td>Каменевский регион</td>\n",
       "      <td>Глиногорск</td>\n",
       "      <td>213</td>\n",
       "      <td>1987</td>\n",
       "      <td>Выставка ремесел \"Свет\" Лтд</td>\n",
       "      <td>пер. Набережный, д. 35</td>\n",
       "    </tr>\n",
       "    <tr>\n",
       "      <th>4</th>\n",
       "      <td>8850</td>\n",
       "      <td>d6e99176-c77f-4af0-9222-07c571f6c624</td>\n",
       "      <td>спектакль</td>\n",
       "      <td>театр</td>\n",
       "      <td>№4770</td>\n",
       "      <td>Лесодальний край</td>\n",
       "      <td>Родниковец</td>\n",
       "      <td>55</td>\n",
       "      <td>4230</td>\n",
       "      <td>Фестивальный проект \"Листья\" Групп</td>\n",
       "      <td>пер. Проезжий, д. 9</td>\n",
       "    </tr>\n",
       "  </tbody>\n",
       "</table>\n",
       "</div>"
      ],
      "text/plain": [
       "   event_id                            event_name event_type_description  \\\n",
       "0      4436  e4f26fba-da77-4c61-928a-6c3e434d793f              спектакль   \n",
       "1      5785  5cc08a60-fdea-4186-9bb2-bffc3603fb77              спектакль   \n",
       "2      8817  8e379a89-3a10-4811-ba06-ec22ebebe989              спектакль   \n",
       "3      8849  682e3129-6a32-4952-9d8a-ef7f60d4c247              спектакль   \n",
       "4      8850  d6e99176-c77f-4af0-9222-07c571f6c624              спектакль   \n",
       "\n",
       "  event_type_main organizers           region_name   city_name  city_id  \\\n",
       "0           театр      №4893  Североярская область      Озёрск        2   \n",
       "1           театр      №1931  Светополянский округ   Глиноград       54   \n",
       "2           театр      №4896  Североярская область      Озёрск        2   \n",
       "3           театр      №4960    Каменевский регион  Глиногорск      213   \n",
       "4           театр      №4770      Лесодальний край  Родниковец       55   \n",
       "\n",
       "   venue_id                               venue_name             venue_address  \n",
       "0      1600  Кладбище искусств \"Проблема\" и партнеры   наб. Загородная, д. 785  \n",
       "1      2196         Лекции по искусству \"Свет\" Групп       ул. Ягодная, д. 942  \n",
       "2      4043                Кинокомитет \"Золотая\" Инк  ш. Коммуны, д. 92 стр. 6  \n",
       "3      1987              Выставка ремесел \"Свет\" Лтд    пер. Набережный, д. 35  \n",
       "4      4230       Фестивальный проект \"Листья\" Групп       пер. Проезжий, д. 9  "
      ]
     },
     "metadata": {},
     "output_type": "display_data"
    },
    {
     "name": "stdout",
     "output_type": "stream",
     "text": [
      "<class 'pandas.core.frame.DataFrame'>\n",
      "RangeIndex: 22427 entries, 0 to 22426\n",
      "Data columns (total 11 columns):\n",
      " #   Column                  Non-Null Count  Dtype \n",
      "---  ------                  --------------  ----- \n",
      " 0   event_id                22427 non-null  int64 \n",
      " 1   event_name              22427 non-null  object\n",
      " 2   event_type_description  22427 non-null  object\n",
      " 3   event_type_main         22427 non-null  object\n",
      " 4   organizers              22427 non-null  object\n",
      " 5   region_name             22427 non-null  object\n",
      " 6   city_name               22427 non-null  object\n",
      " 7   city_id                 22427 non-null  int64 \n",
      " 8   venue_id                22427 non-null  int64 \n",
      " 9   venue_name              22427 non-null  object\n",
      " 10  venue_address           22427 non-null  object\n",
      "dtypes: int64(3), object(8)\n",
      "memory usage: 1.9+ MB\n"
     ]
    },
    {
     "data": {
      "text/plain": [
       "None"
      ]
     },
     "metadata": {},
     "output_type": "display_data"
    }
   ],
   "source": [
    "# создаем новый датафрейм\n",
    "df_events = pd.read_csv('https://code.s3.yandex.net/datasets/final_tickets_events_df.csv')\n",
    "display(df_events.head())\n",
    "display(df_events.info())"
   ]
  },
  {
   "cell_type": "markdown",
   "metadata": {},
   "source": [
    "В датафрейме df_events отсутсвуют пропуски, а также все типы данных соответствуют. "
   ]
  },
  {
   "cell_type": "code",
   "execution_count": 4,
   "metadata": {},
   "outputs": [
    {
     "data": {
      "text/html": [
       "<div>\n",
       "<style scoped>\n",
       "    .dataframe tbody tr th:only-of-type {\n",
       "        vertical-align: middle;\n",
       "    }\n",
       "\n",
       "    .dataframe tbody tr th {\n",
       "        vertical-align: top;\n",
       "    }\n",
       "\n",
       "    .dataframe thead th {\n",
       "        text-align: right;\n",
       "    }\n",
       "</style>\n",
       "<table border=\"1\" class=\"dataframe\">\n",
       "  <thead>\n",
       "    <tr style=\"text-align: right;\">\n",
       "      <th></th>\n",
       "      <th>data</th>\n",
       "      <th>nominal</th>\n",
       "      <th>curs</th>\n",
       "      <th>cdx</th>\n",
       "    </tr>\n",
       "  </thead>\n",
       "  <tbody>\n",
       "    <tr>\n",
       "      <th>0</th>\n",
       "      <td>2024-01-10</td>\n",
       "      <td>100</td>\n",
       "      <td>19.9391</td>\n",
       "      <td>kzt</td>\n",
       "    </tr>\n",
       "    <tr>\n",
       "      <th>1</th>\n",
       "      <td>2024-01-11</td>\n",
       "      <td>100</td>\n",
       "      <td>19.7255</td>\n",
       "      <td>kzt</td>\n",
       "    </tr>\n",
       "    <tr>\n",
       "      <th>2</th>\n",
       "      <td>2024-01-12</td>\n",
       "      <td>100</td>\n",
       "      <td>19.5839</td>\n",
       "      <td>kzt</td>\n",
       "    </tr>\n",
       "    <tr>\n",
       "      <th>3</th>\n",
       "      <td>2024-01-13</td>\n",
       "      <td>100</td>\n",
       "      <td>19.4501</td>\n",
       "      <td>kzt</td>\n",
       "    </tr>\n",
       "    <tr>\n",
       "      <th>4</th>\n",
       "      <td>2024-01-14</td>\n",
       "      <td>100</td>\n",
       "      <td>19.4501</td>\n",
       "      <td>kzt</td>\n",
       "    </tr>\n",
       "  </tbody>\n",
       "</table>\n",
       "</div>"
      ],
      "text/plain": [
       "         data  nominal     curs  cdx\n",
       "0  2024-01-10      100  19.9391  kzt\n",
       "1  2024-01-11      100  19.7255  kzt\n",
       "2  2024-01-12      100  19.5839  kzt\n",
       "3  2024-01-13      100  19.4501  kzt\n",
       "4  2024-01-14      100  19.4501  kzt"
      ]
     },
     "metadata": {},
     "output_type": "display_data"
    },
    {
     "name": "stdout",
     "output_type": "stream",
     "text": [
      "<class 'pandas.core.frame.DataFrame'>\n",
      "RangeIndex: 357 entries, 0 to 356\n",
      "Data columns (total 4 columns):\n",
      " #   Column   Non-Null Count  Dtype  \n",
      "---  ------   --------------  -----  \n",
      " 0   data     357 non-null    object \n",
      " 1   nominal  357 non-null    int64  \n",
      " 2   curs     357 non-null    float64\n",
      " 3   cdx      357 non-null    object \n",
      "dtypes: float64(1), int64(1), object(2)\n",
      "memory usage: 11.3+ KB\n"
     ]
    },
    {
     "data": {
      "text/plain": [
       "None"
      ]
     },
     "metadata": {},
     "output_type": "display_data"
    }
   ],
   "source": [
    "# создаем новый датафрейм\n",
    "tenge_rub = pd.read_csv('https://code.s3.yandex.net/datasets/final_tickets_tenge_df.csv')\n",
    "display(tenge_rub.head())\n",
    "display(tenge_rub.info())"
   ]
  },
  {
   "cell_type": "markdown",
   "metadata": {},
   "source": [
    "В датафрейме df_tickets все типы данные соответствуют, но поле data следует привести к более правильному типу. Также в этом датафрейме  отсутвуют пропуски."
   ]
  },
  {
   "cell_type": "markdown",
   "metadata": {},
   "source": [
    "Подытог: \n",
    "\n",
    "Пропуски в данных находятся только в столбце days_since_prev датафрейма df_orders. Все поля с датами и временем следует привести к :: timestamp, а также провести работы над выявлением и устранением явных и неявных дубликатов. "
   ]
  },
  {
   "cell_type": "markdown",
   "metadata": {},
   "source": [
    " "
   ]
  },
  {
   "cell_type": "markdown",
   "metadata": {},
   "source": [
    "## Предобработка данных и подготовка их к исследованию"
   ]
  },
  {
   "cell_type": "code",
   "execution_count": 5,
   "metadata": {},
   "outputs": [],
   "source": [
    "merged_data = pd.merge(df_orders, df_events, on='event_id', how='left')\n",
    "df = pd.merge(merged_data, tenge_rub, left_on='created_dt_msk', right_on='data', how='left')"
   ]
  },
  {
   "cell_type": "code",
   "execution_count": 6,
   "metadata": {},
   "outputs": [
    {
     "data": {
      "text/plain": [
       "order_id                      0\n",
       "user_id                       0\n",
       "created_dt_msk                0\n",
       "created_ts_msk                0\n",
       "event_id                      0\n",
       "cinema_circuit                0\n",
       "age_limit                     0\n",
       "currency_code                 0\n",
       "device_type_canonical         0\n",
       "revenue                       0\n",
       "service_name                  0\n",
       "tickets_count                 0\n",
       "total                         0\n",
       "days_since_prev           21940\n",
       "event_name                  238\n",
       "event_type_description      238\n",
       "event_type_main             238\n",
       "organizers                  238\n",
       "region_name                 238\n",
       "city_name                   238\n",
       "city_id                     238\n",
       "venue_id                    238\n",
       "venue_name                  238\n",
       "venue_address               238\n",
       "data                          0\n",
       "nominal                       0\n",
       "curs                          0\n",
       "cdx                           0\n",
       "dtype: int64"
      ]
     },
     "execution_count": 6,
     "metadata": {},
     "output_type": "execute_result"
    }
   ],
   "source": [
    "# проверим данные на пропуски \n",
    "df.isna().sum()"
   ]
  },
  {
   "cell_type": "code",
   "execution_count": 7,
   "metadata": {},
   "outputs": [],
   "source": [
    "# заполняем пропуски столбцов пустыми строками \n",
    "df['event_name'] = df['event_name'].fillna('')\n",
    "df['event_type_description'] = df['event_type_description'].fillna('')\n",
    "df['event_type_main'] = df['event_type_main'].fillna('')\n",
    "df['organizers'] = df['organizers'].fillna('')\n",
    "df['region_name'] = df['region_name'].fillna('')\n",
    "df['city_name'] = df['city_name'].fillna('')\n",
    "df['city_id'] = df['city_id'].fillna('')\n",
    "df['venue_id'] = df['venue_id'].fillna('')\n",
    "df['venue_name'] = df['venue_name'].fillna('')\n",
    "df['venue_address'] = df['venue_address'].fillna('')"
   ]
  },
  {
   "cell_type": "markdown",
   "metadata": {},
   "source": [
    "В данных отсутсвуют пропуски "
   ]
  },
  {
   "cell_type": "code",
   "execution_count": 8,
   "metadata": {},
   "outputs": [
    {
     "name": "stdout",
     "output_type": "stream",
     "text": [
      "cinema_circuit:\n"
     ]
    },
    {
     "data": {
      "text/plain": [
       "нет           289451\n",
       "Другое          1261\n",
       "КиноСити         122\n",
       "Киномакс           7\n",
       "Москино            7\n",
       "ЦентрФильм         1\n",
       "Name: cinema_circuit, dtype: int64"
      ]
     },
     "metadata": {},
     "output_type": "display_data"
    },
    {
     "name": "stdout",
     "output_type": "stream",
     "text": [
      "age_limit:\n"
     ]
    },
    {
     "data": {
      "text/plain": [
       "16    78579\n",
       "12    62557\n",
       "0     61487\n",
       "6     52173\n",
       "18    36053\n",
       "Name: age_limit, dtype: int64"
      ]
     },
     "metadata": {},
     "output_type": "display_data"
    },
    {
     "name": "stdout",
     "output_type": "stream",
     "text": [
      "currency_code:\n"
     ]
    },
    {
     "data": {
      "text/plain": [
       "rub    285780\n",
       "kzt      5069\n",
       "Name: currency_code, dtype: int64"
      ]
     },
     "metadata": {},
     "output_type": "display_data"
    },
    {
     "name": "stdout",
     "output_type": "stream",
     "text": [
      "device_type_canonical:\n"
     ]
    },
    {
     "data": {
      "text/plain": [
       "mobile     232679\n",
       "desktop     58170\n",
       "Name: device_type_canonical, dtype: int64"
      ]
     },
     "metadata": {},
     "output_type": "display_data"
    },
    {
     "name": "stdout",
     "output_type": "stream",
     "text": [
      "service_name:\n"
     ]
    },
    {
     "data": {
      "text/plain": [
       "Билеты без проблем        63709\n",
       "Лови билет!               41126\n",
       "Билеты в руки             40364\n",
       "Мой билет                 34843\n",
       "Облачко                   26642\n",
       "Лучшие билеты             17795\n",
       "Весь в билетах            16849\n",
       "Прачечная                 10273\n",
       "Край билетов               6207\n",
       "Тебе билет!                5228\n",
       "Яблоко                     5039\n",
       "Дом культуры               4502\n",
       "За билетом!                2865\n",
       "Городской дом культуры     2733\n",
       "Show_ticket                2200\n",
       "Мир касс                   2167\n",
       "Быстробилет                2003\n",
       "Выступления.ру             1616\n",
       "Восьмёрка                  1118\n",
       "Crazy ticket!               790\n",
       "Росбилет                    539\n",
       "Шоу начинается!             499\n",
       "Быстрый кассир              381\n",
       "Радио ticket                376\n",
       "Телебилет                   321\n",
       "КарандашРУ                  133\n",
       "Реестр                      125\n",
       "Билет по телефону            85\n",
       "Вперёд!                      80\n",
       "Дырокол                      74\n",
       "Кино билет                   67\n",
       "Цвет и билет                 61\n",
       "Тех билет                    22\n",
       "Лимоны                        8\n",
       "Зе Бест!                      5\n",
       "Билеты в интернете            4\n",
       "Name: service_name, dtype: int64"
      ]
     },
     "metadata": {},
     "output_type": "display_data"
    },
    {
     "name": "stdout",
     "output_type": "stream",
     "text": [
      "event_type_description:\n"
     ]
    },
    {
     "data": {
      "text/plain": [
       "концерт                   112049\n",
       "событие                    58605\n",
       "спектакль                  50592\n",
       "шоу                        13626\n",
       "спорт                      12837\n",
       "мюзикл                      9919\n",
       "спортивное мероприятие      9074\n",
       "балет                       5998\n",
       "выставка                    5876\n",
       "цирковое шоу                5327\n",
       "фестиваль                   4273\n",
       "опера                       1314\n",
       "ёлка                         945\n",
       "                             238\n",
       "музыкальный спектакль        140\n",
       "кукольный спектакль           13\n",
       "экскурсия                      8\n",
       "оперетта                       7\n",
       "подарок                        4\n",
       "снегурочка                     3\n",
       "рок-мюзикл                     1\n",
       "Name: event_type_description, dtype: int64"
      ]
     },
     "metadata": {},
     "output_type": "display_data"
    },
    {
     "name": "stdout",
     "output_type": "stream",
     "text": [
      "event_type_main:\n"
     ]
    },
    {
     "data": {
      "text/plain": [
       "концерты    115276\n",
       "театр        67321\n",
       "другое       65867\n",
       "спорт        21911\n",
       "стендап      13393\n",
       "выставки      4854\n",
       "ёлки          1989\n",
       "               238\n",
       "Name: event_type_main, dtype: int64"
      ]
     },
     "metadata": {},
     "output_type": "display_data"
    },
    {
     "name": "stdout",
     "output_type": "stream",
     "text": [
      "organizers:\n"
     ]
    },
    {
     "data": {
      "text/plain": [
       "№1531    9748\n",
       "№2121    4738\n",
       "№4054    4362\n",
       "№4549    3972\n",
       "№4837    3368\n",
       "         ... \n",
       "№3932       1\n",
       "№2680       1\n",
       "№3309       1\n",
       "№4426       1\n",
       "№4998       1\n",
       "Name: organizers, Length: 4294, dtype: int64"
      ]
     },
     "metadata": {},
     "output_type": "display_data"
    },
    {
     "name": "stdout",
     "output_type": "stream",
     "text": [
      "region_name:\n"
     ]
    },
    {
     "data": {
      "text/plain": [
       "Каменевский регион          91058\n",
       "Североярская область        44049\n",
       "Широковская область         16457\n",
       "Медовская область           13901\n",
       "Озернинский край            10476\n",
       "                            ...  \n",
       "Лесноярский край               19\n",
       "Крутоводский регион            18\n",
       "Верхозёрский край              11\n",
       "Сосноводолинская область       10\n",
       "Теплоозёрский округ             7\n",
       "Name: region_name, Length: 82, dtype: int64"
      ]
     },
     "metadata": {},
     "output_type": "display_data"
    },
    {
     "name": "stdout",
     "output_type": "stream",
     "text": [
      "city_name:\n"
     ]
    },
    {
     "data": {
      "text/plain": [
       "Глиногорск      89446\n",
       "Озёрск          43910\n",
       "Радужсвет       13711\n",
       "Радужнополье     8741\n",
       "Верховино        6579\n",
       "                ...  \n",
       "Сосновогорск        1\n",
       "Крутовичи           1\n",
       "Озёроярск           1\n",
       "Яблоновец           1\n",
       "Верхозорье          1\n",
       "Name: city_name, Length: 353, dtype: int64"
      ]
     },
     "metadata": {},
     "output_type": "display_data"
    },
    {
     "name": "stdout",
     "output_type": "stream",
     "text": [
      "venue_name:\n"
     ]
    },
    {
     "data": {
      "text/plain": [
       "Студия дизайна \"Платформа\" Инкорпорэйтед           9910\n",
       "Картинная галерея \"Светлячок\" Лтд                  4406\n",
       "Креативное пространство \"Вдох\" Лимитед             4257\n",
       "Центр культурного наследия \"Заряд\" и партнеры      4099\n",
       "Студия дизайна \"Лестница\" Лимитед                  4025\n",
       "                                                   ... \n",
       "Центр искусства и культуры \"Палитра\" и партнеры       1\n",
       "Модная академия \"Эстет\" Инк                           1\n",
       "Научный центр \"Светлый\" и партнеры                    1\n",
       "Центр современного искусства \"Кружка\" Инк             1\n",
       "Театр \"Речка\" и партнеры                              1\n",
       "Name: venue_name, Length: 3218, dtype: int64"
      ]
     },
     "metadata": {},
     "output_type": "display_data"
    }
   ],
   "source": [
    "# изучим категориальные колонки в датафрейме df_orders\n",
    "cat_cols_orders = ['cinema_circuit', 'age_limit', 'currency_code', 'device_type_canonical', 'service_name', 'event_type_description', 'event_type_main', 'organizers', 'region_name', 'city_name', 'venue_name']\n",
    "for i in cat_cols_orders:\n",
    "    print(f\"{i}:\")\n",
    "    display(df[i].value_counts(dropna=False))"
   ]
  },
  {
   "cell_type": "markdown",
   "metadata": {},
   "source": [
    "В датафрейме df нет значений, которые могут означать пропуски. При этом только в cinema_circuit есть категория \"нет\", которая означает, что сеть кинотеатров была не применима. "
   ]
  },
  {
   "cell_type": "code",
   "execution_count": 9,
   "metadata": {},
   "outputs": [
    {
     "data": {
      "image/png": "[encoded data removed]",
      "text/plain": [
       "<Figure size 432x288 with 1 Axes>"
      ]
     },
     "metadata": {
      "needs_background": "light"
     },
     "output_type": "display_data"
    }
   ],
   "source": [
    "# изучим количественные значения датафрйема df_orders на наличие выбросов и на распределение\n",
    "plt.hist(df['revenue'], bins=15)\n",
    "plt.title('График выбросов столбца \"revenue\"')\n",
    "plt.xlabel('Выручка')\n",
    "plt.ylabel('Количество');"
   ]
  },
  {
   "cell_type": "code",
   "execution_count": 10,
   "metadata": {},
   "outputs": [
    {
     "data": {
      "image/png": "[encoded data removed]",
      "text/plain": [
       "<Figure size 432x288 with 1 Axes>"
      ]
     },
     "metadata": {
      "needs_background": "light"
     },
     "output_type": "display_data"
    }
   ],
   "source": [
    "plt.hist(df['tickets_count'], bins=15)\n",
    "plt.title('График выбросов столбца \"tickets_count\"')\n",
    "plt.xlabel('Количество купленных билетов')\n",
    "plt.ylabel('Количество');"
   ]
  },
  {
   "cell_type": "markdown",
   "metadata": {},
   "source": [
    "На графиках наблюдается правосторонняя, или положительная, асимметрия — правый хвост распределения явно вытянут. Это указывает на присутствие высоких значений, которые оттягивают распределение вправо."
   ]
  },
  {
   "cell_type": "code",
   "execution_count": 11,
   "metadata": {},
   "outputs": [],
   "source": [
    "# Рассчитываем 99-й процентиль выручки отдельно для рублей и тенге\n",
    "rub_revenue_99th = df.query(\"currency_code == 'rub'\")['revenue'].quantile(0.99)\n",
    "tenge_revenue_99th = df.query(\"currency_code == 'kzt'\")['revenue'].quantile(0.99)"
   ]
  },
  {
   "cell_type": "code",
   "execution_count": 12,
   "metadata": {},
   "outputs": [],
   "source": [
    "# Применяем фильтрацию\n",
    "filtered_orders = df.copy()\n",
    "filter_rub = filtered_orders.loc[(filtered_orders['currency_code'] == 'rub') & (filtered_orders['revenue'] > rub_revenue_99th), 'revenue']\n",
    "filter_tenge = filtered_orders.loc[(filtered_orders['currency_code'] == 'kzt') & (filtered_orders['revenue'] > tenge_revenue_99th), 'revenue']"
   ]
  },
  {
   "cell_type": "code",
   "execution_count": 13,
   "metadata": {},
   "outputs": [
    {
     "data": {
      "image/png": "[encoded data removed]",
      "text/plain": [
       "<Figure size 432x288 with 1 Axes>"
      ]
     },
     "metadata": {
      "needs_background": "light"
     },
     "output_type": "display_data"
    }
   ],
   "source": [
    "# визуализруем график выручки по 99-му процентилю в рублях \n",
    "plt.hist(filter_rub, bins=15)\n",
    "plt.title('График выручки по 99-му процентилю в рублях ')\n",
    "plt.xlabel('Выручка')\n",
    "plt.ylabel('Количество');"
   ]
  },
  {
   "cell_type": "code",
   "execution_count": 14,
   "metadata": {},
   "outputs": [
    {
     "data": {
      "image/png": "[encoded data removed]",
      "text/plain": [
       "<Figure size 432x288 with 1 Axes>"
      ]
     },
     "metadata": {
      "needs_background": "light"
     },
     "output_type": "display_data"
    }
   ],
   "source": [
    "# визуализруем график выручки по 99-му процентилю в тенге \n",
    "plt.hist(filter_tenge, bins=15)\n",
    "plt.title('График выручки по 99-му процентилю в тенге ')\n",
    "plt.xlabel('Выручка')\n",
    "plt.ylabel('Количество');"
   ]
  },
  {
   "cell_type": "markdown",
   "metadata": {},
   "source": [
    "На графиках наблюдается правосторонняя, или положительная, асимметрия — правый хвост распределения явно вытянут. Это указывает на присутствие высоких значений, которые оттягивают распределение вправо. "
   ]
  },
  {
   "cell_type": "code",
   "execution_count": 15,
   "metadata": {},
   "outputs": [
    {
     "data": {
      "text/plain": [
       "0"
      ]
     },
     "metadata": {},
     "output_type": "display_data"
    }
   ],
   "source": [
    "# проверим данные на явные дубликаты \n",
    "display(df.duplicated().sum())"
   ]
  },
  {
   "cell_type": "markdown",
   "metadata": {},
   "source": [
    "Явные дубликаты в датафрейме отсутсвуют "
   ]
  },
  {
   "cell_type": "code",
   "execution_count": 16,
   "metadata": {},
   "outputs": [
    {
     "data": {
      "text/plain": [
       "40"
      ]
     },
     "execution_count": 16,
     "metadata": {},
     "output_type": "execute_result"
    }
   ],
   "source": [
    "# проверим данные на неявные дубликаты \n",
    "df.duplicated(subset=['user_id', 'created_dt_msk', 'created_ts_msk', 'event_id', 'cinema_circuit', 'age_limit', 'currency_code', 'device_type_canonical', 'revenue', 'service_name', 'tickets_count', 'total']).sum()"
   ]
  },
  {
   "cell_type": "code",
   "execution_count": 17,
   "metadata": {},
   "outputs": [],
   "source": [
    "# удаляем неявные дубликаты \n",
    "df = df.drop_duplicates(subset=['user_id', 'created_dt_msk', 'created_ts_msk', 'event_id', 'cinema_circuit', 'age_limit', 'currency_code', 'device_type_canonical', 'revenue', 'service_name', 'tickets_count', 'total'])"
   ]
  },
  {
   "cell_type": "code",
   "execution_count": 18,
   "metadata": {},
   "outputs": [],
   "source": [
    "# меняем тип данных для даты и времени \n",
    "df['created_dt_msk'] = pd.to_datetime(df['created_dt_msk'], errors = 'coerce')\n",
    "df['created_ts_msk'] = pd.to_datetime(df['created_ts_msk'], errors = 'coerce')\n",
    "df['data'] = pd.to_datetime(df['data'], errors = 'coerce')"
   ]
  },
  {
   "cell_type": "code",
   "execution_count": 19,
   "metadata": {},
   "outputs": [],
   "source": [
    "# снижаем размерность количественных данных \n",
    "df['order_id'] = pd.to_numeric(df['order_id'], downcast = 'integer')\n",
    "df['event_id'] = pd.to_numeric(df['event_id'], downcast = 'integer')\n",
    "df['age_limit'] = pd.to_numeric(df['age_limit'], downcast = 'integer')\n",
    "df['tickets_count'] = pd.to_numeric(df['tickets_count'], downcast = 'integer')\n",
    "df['revenue'] = pd.to_numeric(df['revenue'], downcast = 'float')\n",
    "df['total'] = pd.to_numeric(df['total'], downcast = 'float')\n",
    "df['days_since_prev'] = pd.to_numeric(df['days_since_prev'], downcast = 'float')\n",
    "df['event_id']= pd.to_numeric(df['event_id'], downcast = 'integer')\n",
    "df['city_id']= pd.to_numeric(df['city_id'], downcast = 'integer')\n",
    "df['venue_id']= pd.to_numeric(df['venue_id'], downcast = 'integer')\n",
    "df['nominal'] =  pd.to_numeric(df['nominal'], downcast = 'integer')\n",
    "df['curs'] =  pd.to_numeric(df['curs'], downcast = 'float')"
   ]
  },
  {
   "cell_type": "code",
   "execution_count": 20,
   "metadata": {},
   "outputs": [
    {
     "name": "stdout",
     "output_type": "stream",
     "text": [
      "<class 'pandas.core.frame.DataFrame'>\n",
      "Int64Index: 290809 entries, 0 to 290848\n",
      "Data columns (total 28 columns):\n",
      " #   Column                  Non-Null Count   Dtype         \n",
      "---  ------                  --------------   -----         \n",
      " 0   order_id                290809 non-null  int32         \n",
      " 1   user_id                 290809 non-null  object        \n",
      " 2   created_dt_msk          290809 non-null  datetime64[ns]\n",
      " 3   created_ts_msk          290809 non-null  datetime64[ns]\n",
      " 4   event_id                290809 non-null  int32         \n",
      " 5   cinema_circuit          290809 non-null  object        \n",
      " 6   age_limit               290809 non-null  int8          \n",
      " 7   currency_code           290809 non-null  object        \n",
      " 8   device_type_canonical   290809 non-null  object        \n",
      " 9   revenue                 290809 non-null  float32       \n",
      " 10  service_name            290809 non-null  object        \n",
      " 11  tickets_count           290809 non-null  int8          \n",
      " 12  total                   290809 non-null  float32       \n",
      " 13  days_since_prev         268869 non-null  float32       \n",
      " 14  event_name              290809 non-null  object        \n",
      " 15  event_type_description  290809 non-null  object        \n",
      " 16  event_type_main         290809 non-null  object        \n",
      " 17  organizers              290809 non-null  object        \n",
      " 18  region_name             290809 non-null  object        \n",
      " 19  city_name               290809 non-null  object        \n",
      " 20  city_id                 290571 non-null  float64       \n",
      " 21  venue_id                290571 non-null  float64       \n",
      " 22  venue_name              290809 non-null  object        \n",
      " 23  venue_address           290809 non-null  object        \n",
      " 24  data                    290809 non-null  datetime64[ns]\n",
      " 25  nominal                 290809 non-null  int8          \n",
      " 26  curs                    290809 non-null  float32       \n",
      " 27  cdx                     290809 non-null  object        \n",
      "dtypes: datetime64[ns](3), float32(4), float64(2), int32(2), int8(3), object(14)\n",
      "memory usage: 51.9+ MB\n"
     ]
    }
   ],
   "source": [
    "df.info()"
   ]
  },
  {
   "cell_type": "code",
   "execution_count": 21,
   "metadata": {},
   "outputs": [
    {
     "data": {
      "text/html": [
       "<div>\n",
       "<style scoped>\n",
       "    .dataframe tbody tr th:only-of-type {\n",
       "        vertical-align: middle;\n",
       "    }\n",
       "\n",
       "    .dataframe tbody tr th {\n",
       "        vertical-align: top;\n",
       "    }\n",
       "\n",
       "    .dataframe thead th {\n",
       "        text-align: right;\n",
       "    }\n",
       "</style>\n",
       "<table border=\"1\" class=\"dataframe\">\n",
       "  <thead>\n",
       "    <tr style=\"text-align: right;\">\n",
       "      <th></th>\n",
       "      <th>order_id</th>\n",
       "      <th>user_id</th>\n",
       "      <th>created_dt_msk</th>\n",
       "      <th>created_ts_msk</th>\n",
       "      <th>event_id</th>\n",
       "      <th>cinema_circuit</th>\n",
       "      <th>age_limit</th>\n",
       "      <th>currency_code</th>\n",
       "      <th>device_type_canonical</th>\n",
       "      <th>revenue</th>\n",
       "      <th>...</th>\n",
       "      <th>city_name</th>\n",
       "      <th>city_id</th>\n",
       "      <th>venue_id</th>\n",
       "      <th>venue_name</th>\n",
       "      <th>venue_address</th>\n",
       "      <th>data</th>\n",
       "      <th>nominal</th>\n",
       "      <th>curs</th>\n",
       "      <th>cdx</th>\n",
       "      <th>revenue_rub</th>\n",
       "    </tr>\n",
       "  </thead>\n",
       "  <tbody>\n",
       "    <tr>\n",
       "      <th>0</th>\n",
       "      <td>4359165</td>\n",
       "      <td>0002849b70a3ce2</td>\n",
       "      <td>2024-08-20</td>\n",
       "      <td>2024-08-20 16:08:03</td>\n",
       "      <td>169230</td>\n",
       "      <td>нет</td>\n",
       "      <td>16</td>\n",
       "      <td>rub</td>\n",
       "      <td>mobile</td>\n",
       "      <td>1521.939941</td>\n",
       "      <td>...</td>\n",
       "      <td>Глиногорск</td>\n",
       "      <td>213.0</td>\n",
       "      <td>3972.0</td>\n",
       "      <td>Сценический центр \"Деталь\" Групп</td>\n",
       "      <td>алл. Машиностроителей, д. 19 стр. 6</td>\n",
       "      <td>2024-08-20</td>\n",
       "      <td>100</td>\n",
       "      <td>18.697201</td>\n",
       "      <td>kzt</td>\n",
       "      <td>1521.939941</td>\n",
       "    </tr>\n",
       "    <tr>\n",
       "      <th>1</th>\n",
       "      <td>7965605</td>\n",
       "      <td>0005ca5e93f2cf4</td>\n",
       "      <td>2024-07-23</td>\n",
       "      <td>2024-07-23 18:36:24</td>\n",
       "      <td>237325</td>\n",
       "      <td>нет</td>\n",
       "      <td>0</td>\n",
       "      <td>rub</td>\n",
       "      <td>mobile</td>\n",
       "      <td>289.450012</td>\n",
       "      <td>...</td>\n",
       "      <td>Глиногорск</td>\n",
       "      <td>213.0</td>\n",
       "      <td>2941.0</td>\n",
       "      <td>Музыкальная школа для детей \"Аккаунт\" Лтд</td>\n",
       "      <td>алл. Шмидта, д. 9 стр. 4</td>\n",
       "      <td>2024-07-23</td>\n",
       "      <td>100</td>\n",
       "      <td>18.341900</td>\n",
       "      <td>kzt</td>\n",
       "      <td>289.450012</td>\n",
       "    </tr>\n",
       "    <tr>\n",
       "      <th>2</th>\n",
       "      <td>7292370</td>\n",
       "      <td>0005ca5e93f2cf4</td>\n",
       "      <td>2024-10-06</td>\n",
       "      <td>2024-10-06 13:56:02</td>\n",
       "      <td>578454</td>\n",
       "      <td>нет</td>\n",
       "      <td>0</td>\n",
       "      <td>rub</td>\n",
       "      <td>mobile</td>\n",
       "      <td>1258.569946</td>\n",
       "      <td>...</td>\n",
       "      <td>Глиногорск</td>\n",
       "      <td>213.0</td>\n",
       "      <td>4507.0</td>\n",
       "      <td>Училище искусств \"Нирвана\" Инк</td>\n",
       "      <td>алл. Юбилейная, д. 5/6</td>\n",
       "      <td>2024-10-06</td>\n",
       "      <td>100</td>\n",
       "      <td>19.647499</td>\n",
       "      <td>kzt</td>\n",
       "      <td>1258.569946</td>\n",
       "    </tr>\n",
       "    <tr>\n",
       "      <th>3</th>\n",
       "      <td>1139875</td>\n",
       "      <td>000898990054619</td>\n",
       "      <td>2024-07-13</td>\n",
       "      <td>2024-07-13 19:40:48</td>\n",
       "      <td>387271</td>\n",
       "      <td>нет</td>\n",
       "      <td>0</td>\n",
       "      <td>rub</td>\n",
       "      <td>mobile</td>\n",
       "      <td>8.490000</td>\n",
       "      <td>...</td>\n",
       "      <td>Озёрск</td>\n",
       "      <td>2.0</td>\n",
       "      <td>3574.0</td>\n",
       "      <td>Театр альтернативного искусства \"Ода\" Лимитед</td>\n",
       "      <td>алл. Есенина, д. 243 к. 3/8</td>\n",
       "      <td>2024-07-13</td>\n",
       "      <td>100</td>\n",
       "      <td>18.500999</td>\n",
       "      <td>kzt</td>\n",
       "      <td>8.490000</td>\n",
       "    </tr>\n",
       "    <tr>\n",
       "      <th>4</th>\n",
       "      <td>972400</td>\n",
       "      <td>000898990054619</td>\n",
       "      <td>2024-10-04</td>\n",
       "      <td>2024-10-04 22:33:15</td>\n",
       "      <td>509453</td>\n",
       "      <td>нет</td>\n",
       "      <td>18</td>\n",
       "      <td>rub</td>\n",
       "      <td>mobile</td>\n",
       "      <td>1390.410034</td>\n",
       "      <td>...</td>\n",
       "      <td>Родниковецк</td>\n",
       "      <td>240.0</td>\n",
       "      <td>1896.0</td>\n",
       "      <td>Театр кукол \"Огни\" Инкорпорэйтед</td>\n",
       "      <td>ш. Набережное, д. 595 стр. 8</td>\n",
       "      <td>2024-10-04</td>\n",
       "      <td>100</td>\n",
       "      <td>19.664801</td>\n",
       "      <td>kzt</td>\n",
       "      <td>1390.410034</td>\n",
       "    </tr>\n",
       "  </tbody>\n",
       "</table>\n",
       "<p>5 rows × 29 columns</p>\n",
       "</div>"
      ],
      "text/plain": [
       "   order_id          user_id created_dt_msk      created_ts_msk  event_id  \\\n",
       "0   4359165  0002849b70a3ce2     2024-08-20 2024-08-20 16:08:03    169230   \n",
       "1   7965605  0005ca5e93f2cf4     2024-07-23 2024-07-23 18:36:24    237325   \n",
       "2   7292370  0005ca5e93f2cf4     2024-10-06 2024-10-06 13:56:02    578454   \n",
       "3   1139875  000898990054619     2024-07-13 2024-07-13 19:40:48    387271   \n",
       "4    972400  000898990054619     2024-10-04 2024-10-04 22:33:15    509453   \n",
       "\n",
       "  cinema_circuit  age_limit currency_code device_type_canonical      revenue  \\\n",
       "0            нет         16           rub                mobile  1521.939941   \n",
       "1            нет          0           rub                mobile   289.450012   \n",
       "2            нет          0           rub                mobile  1258.569946   \n",
       "3            нет          0           rub                mobile     8.490000   \n",
       "4            нет         18           rub                mobile  1390.410034   \n",
       "\n",
       "   ...    city_name  city_id  venue_id  \\\n",
       "0  ...   Глиногорск    213.0    3972.0   \n",
       "1  ...   Глиногорск    213.0    2941.0   \n",
       "2  ...   Глиногорск    213.0    4507.0   \n",
       "3  ...       Озёрск      2.0    3574.0   \n",
       "4  ...  Родниковецк    240.0    1896.0   \n",
       "\n",
       "                                      venue_name  \\\n",
       "0               Сценический центр \"Деталь\" Групп   \n",
       "1      Музыкальная школа для детей \"Аккаунт\" Лтд   \n",
       "2                 Училище искусств \"Нирвана\" Инк   \n",
       "3  Театр альтернативного искусства \"Ода\" Лимитед   \n",
       "4               Театр кукол \"Огни\" Инкорпорэйтед   \n",
       "\n",
       "                         venue_address       data nominal       curs  cdx  \\\n",
       "0  алл. Машиностроителей, д. 19 стр. 6 2024-08-20     100  18.697201  kzt   \n",
       "1             алл. Шмидта, д. 9 стр. 4 2024-07-23     100  18.341900  kzt   \n",
       "2               алл. Юбилейная, д. 5/6 2024-10-06     100  19.647499  kzt   \n",
       "3          алл. Есенина, д. 243 к. 3/8 2024-07-13     100  18.500999  kzt   \n",
       "4         ш. Набережное, д. 595 стр. 8 2024-10-04     100  19.664801  kzt   \n",
       "\n",
       "   revenue_rub  \n",
       "0  1521.939941  \n",
       "1   289.450012  \n",
       "2  1258.569946  \n",
       "3     8.490000  \n",
       "4  1390.410034  \n",
       "\n",
       "[5 rows x 29 columns]"
      ]
     },
     "execution_count": 21,
     "metadata": {},
     "output_type": "execute_result"
    }
   ],
   "source": [
    "# создаем новый столбец с выручкой по одной валюте \n",
    "df['revenue_rub'] = df['revenue']\n",
    "nominal_rate = df['curs'] \n",
    "df.loc[df['currency_code'] != 'rub', 'revenue_rub'] = (df['revenue'] * nominal_rate)/ 100\n",
    "df.head()"
   ]
  },
  {
   "cell_type": "code",
   "execution_count": 22,
   "metadata": {},
   "outputs": [],
   "source": [
    "# создаем новый столбец с выручкой с продажи одного билета на мероприятие\n",
    "df['one_ticket_revenue_rub'] = round(df['revenue_rub'] / df['tickets_count'], 2)\n"
   ]
  },
  {
   "cell_type": "code",
   "execution_count": 23,
   "metadata": {},
   "outputs": [],
   "source": [
    "# создаем новый столбец с информацией о месяце, в который был оформлен заказ \n",
    "df['month'] = df['created_dt_msk'].dt.month"
   ]
  },
  {
   "cell_type": "code",
   "execution_count": 24,
   "metadata": {},
   "outputs": [],
   "source": [
    "# создаем новый столбец с временем года \n",
    "def season(month):\n",
    "    if month in [12, 1, 2]:\n",
    "        return 'зима'\n",
    "    elif month in [3, 4, 5]:\n",
    "        return 'весна'\n",
    "    elif month in [6, 7, 8]:\n",
    "        return 'лето'\n",
    "    else:\n",
    "        return 'осень'\n",
    "df['season'] = df['month'].apply(season)"
   ]
  },
  {
   "cell_type": "markdown",
   "metadata": {},
   "source": [
    " "
   ]
  },
  {
   "cell_type": "markdown",
   "metadata": {},
   "source": [
    "На этапе предобработки данных мы: \n",
    "- для удобства работы с данными соединили все датафреймы в единый,\n",
    "- проверили и поработли с данными над пропусками,\n",
    "- проверили данные на явные и невяные дубликаты,\n",
    "- удалили 40 неявных дубликатов,\n",
    "- поменяли типы данных для даты и времени, а также поменяли размерность количественных данных,\n",
    "- создали новые столбцы revenue_rub, one_ticket_revenue_rub, month и season\n",
    "- изучили данные столбца выручки и выявили выбросы и отрицательные значения, которые впоследствии отфильтровали"
   ]
  },
  {
   "cell_type": "markdown",
   "metadata": {},
   "source": [
    " "
   ]
  },
  {
   "cell_type": "markdown",
   "metadata": {},
   "source": [
    "## Исследовательский анализ данных "
   ]
  },
  {
   "cell_type": "markdown",
   "metadata": {},
   "source": [
    "### Анализ распределения заказов по сегментам и их сезонные изменения"
   ]
  },
  {
   "cell_type": "markdown",
   "metadata": {},
   "source": [
    " "
   ]
  },
  {
   "cell_type": "markdown",
   "metadata": {},
   "source": [
    "<b>Для каждого месяца найдем количество заказов <b>"
   ]
  },
  {
   "cell_type": "code",
   "execution_count": 25,
   "metadata": {},
   "outputs": [],
   "source": [
    "# для каждого месяца найдем количество заказов\n",
    "month_orders = df.groupby('month')['order_id'].count()"
   ]
  },
  {
   "cell_type": "code",
   "execution_count": 26,
   "metadata": {},
   "outputs": [
    {
     "data": {
      "image/png": "[encoded data removed]",
      "text/plain": [
       "<Figure size 720x432 with 1 Axes>"
      ]
     },
     "metadata": {
      "needs_background": "light"
     },
     "output_type": "display_data"
    }
   ],
   "source": [
    "# построим диаграмму \n",
    "month_orders.plot(kind = 'bar',\n",
    "               title = 'Количество заказов по месяцам 2024 года',\n",
    "               legend = False,\n",
    "               rot = 0,\n",
    "               figsize = (10, 6))\n",
    "plt.xlabel('Месяц')\n",
    "plt.ylabel('Количество заказов')\n",
    "plt.grid()\n",
    "plt.show()"
   ]
  },
  {
   "cell_type": "markdown",
   "metadata": {},
   "source": [
    " Как было показано на дашборде, на графике также видно, что в данных наблюдается сезонность — осенью количество заказов увеличивается. "
   ]
  },
  {
   "cell_type": "markdown",
   "metadata": {},
   "source": [
    " "
   ]
  },
  {
   "cell_type": "markdown",
   "metadata": {},
   "source": [
    " <b>Для осеннего и летнего периодов сравним распределение заказов билетов по разным категориям <b>"
   ]
  },
  {
   "cell_type": "code",
   "execution_count": 27,
   "metadata": {},
   "outputs": [
    {
     "data": {
      "image/png": "[encoded data removed]",
      "text/plain": [
       "<Figure size 720x504 with 1 Axes>"
      ]
     },
     "metadata": {
      "needs_background": "light"
     },
     "output_type": "display_data"
    }
   ],
   "source": [
    "# для летнего и осеннего периодов сравним распределение заказов билетов по типам мероприятия \n",
    "ev = df.groupby('season')['event_type_main'].value_counts(normalize=True).sort_values(ascending=False).unstack(fill_value=0)\n",
    "ev.plot(kind='bar',\n",
    "               title=f'Соотношение летнего и осеннего периодов по типам мероприятий',\n",
    "               legend=True,\n",
    "               ylabel='Доли типов мероприятий',\n",
    "               xlabel='Тип мероприятия',\n",
    "               rot=0,\n",
    "               figsize=(10, 7))\n",
    "plt.grid()\n",
    "plt.show()"
   ]
  },
  {
   "cell_type": "markdown",
   "metadata": {},
   "source": [
    "По графику видно, что в летнем периоде преобладают такие типы мероприятий, как: выставки, концерты, стендап и другое. В то время как осенью: спорт, театр и елки."
   ]
  },
  {
   "cell_type": "markdown",
   "metadata": {},
   "source": [
    " "
   ]
  },
  {
   "cell_type": "code",
   "execution_count": 28,
   "metadata": {},
   "outputs": [
    {
     "data": {
      "image/png": "[encoded data removed]",
      "text/plain": [
       "<Figure size 720x360 with 1 Axes>"
      ]
     },
     "metadata": {
      "needs_background": "light"
     },
     "output_type": "display_data"
    }
   ],
   "source": [
    "# для летнего и осеннего периодов сравним распределение заказов билетов по типам устройств\n",
    "dev = df.groupby('season')['device_type_canonical'].value_counts(normalize=True).sort_values(ascending=False).unstack(fill_value=0)\n",
    "dev.plot(kind='bar',\n",
    "               title=f'Соотношение летнего и осеннего периода по типам устройств',\n",
    "               legend=True,\n",
    "               ylabel='Доли типов устройств',\n",
    "               xlabel='Тип устройства',\n",
    "               rot=0,\n",
    "               figsize=(10, 5))\n",
    "plt.grid()\n",
    "plt.show()"
   ]
  },
  {
   "cell_type": "markdown",
   "metadata": {},
   "source": [
    "По графику выше видно, что как летом, так и осенью пользователи гораздо больше пользуются мобильными телефонами."
   ]
  },
  {
   "cell_type": "markdown",
   "metadata": {},
   "source": [
    " "
   ]
  },
  {
   "cell_type": "code",
   "execution_count": 29,
   "metadata": {},
   "outputs": [
    {
     "data": {
      "image/png": "[encoded data removed]",
      "text/plain": [
       "<Figure size 720x360 with 1 Axes>"
      ]
     },
     "metadata": {
      "needs_background": "light"
     },
     "output_type": "display_data"
    }
   ],
   "source": [
    "# для летнего и осеннего периодов сравним распределение заказов билетов по возрастным категориям \n",
    "age_l = df.groupby('season')['age_limit'].value_counts(normalize=True).sort_values(ascending=False).unstack(fill_value=0)\n",
    "age_l.plot(kind='bar',\n",
    "               title=f'Соотношение летнего и осеннего периода по возрастным категориям',\n",
    "               legend=True,\n",
    "               ylabel='Доли возрастных категорий',\n",
    "               xlabel='Возрастная категория',\n",
    "               rot=0,\n",
    "               figsize=(10, 5))\n",
    "plt.grid()\n",
    "plt.show()"
   ]
  },
  {
   "cell_type": "markdown",
   "metadata": {},
   "source": [
    "По графику \"Соотношение летнего и осеннего периода по возрастным категориям\" можно наблюдать, что летом больше всего купленных билетов с ограничением по возрасту 16 лет, а осенью 0+. При этом и осенью и летом меньше всего купленных билетов с ограничением 18+ ."
   ]
  },
  {
   "cell_type": "markdown",
   "metadata": {},
   "source": [
    " "
   ]
  },
  {
   "cell_type": "markdown",
   "metadata": {},
   "source": [
    "<b>Изучим изменение выручки с продажи одного билета в зависимости от типа мероприятия летом и осенью.<b>"
   ]
  },
  {
   "cell_type": "code",
   "execution_count": 30,
   "metadata": {},
   "outputs": [],
   "source": [
    "# Выделим данные для лета и осени\n",
    "summer_data = df[df['season'] == 'лето']\n",
    "autumn_data = df[df['season'] == 'осень']"
   ]
  },
  {
   "cell_type": "code",
   "execution_count": 31,
   "metadata": {},
   "outputs": [],
   "source": [
    "# Средний доход с одного билета летом\n",
    "avg_summer_revenue_per_ticket = summer_data.groupby('event_type_main')['one_ticket_revenue_rub'].mean()\n",
    "\n",
    "# Средний доход с одного билета осенью\n",
    "avg_autumn_revenue_per_ticket = autumn_data.groupby('event_type_main')['one_ticket_revenue_rub'].mean()"
   ]
  },
  {
   "cell_type": "code",
   "execution_count": 32,
   "metadata": {},
   "outputs": [
    {
     "data": {
      "text/plain": [
       "event_type_main\n",
       "            316.861481\n",
       "выставки      5.381863\n",
       "другое       -4.925875\n",
       "концерты    -10.128806\n",
       "спорт        -3.646069\n",
       "стендап      10.081800\n",
       "театр       -17.734367\n",
       "ёлки        -15.154224\n",
       "Name: one_ticket_revenue_rub, dtype: float32"
      ]
     },
     "execution_count": 32,
     "metadata": {},
     "output_type": "execute_result"
    }
   ],
   "source": [
    "# Процентное изменение средней выручки с одного билета осенью по сравнению с летом\n",
    "percent_change = ((avg_autumn_revenue_per_ticket - avg_summer_revenue_per_ticket) / avg_summer_revenue_per_ticket) * 100\n",
    "percent_change"
   ]
  },
  {
   "cell_type": "code",
   "execution_count": 33,
   "metadata": {},
   "outputs": [
    {
     "data": {
      "image/png": "[encoded data removed]",
      "text/plain": [
       "<Figure size 720x360 with 1 Axes>"
      ]
     },
     "metadata": {
      "needs_background": "light"
     },
     "output_type": "display_data"
    }
   ],
   "source": [
    "percent_change.plot(kind='bar',\n",
    "               title=f'Процентное изменение средней выручки с одного билета осенью по сравнению с летом',\n",
    "               legend=False,\n",
    "               ylabel='Изменения, %',\n",
    "               xlabel='Тип мероприятия',\n",
    "               rot=0,\n",
    "               figsize=(10, 5))\n",
    "plt.grid()\n",
    "plt.axhline(y=0, color='black', linestyle='--')\n",
    "plt.show()"
   ]
  },
  {
   "cell_type": "markdown",
   "metadata": {},
   "source": [
    " По графику \"Процентное изменение средней выручки с одного билета осенью по сравнению с летом\" видно, что такие типы мероприятий, как концерты, спорт, театр и елки упали в выручке, а выставки и стендап выросли. "
   ]
  },
  {
   "cell_type": "markdown",
   "metadata": {},
   "source": [
    " "
   ]
  },
  {
   "cell_type": "markdown",
   "metadata": {},
   "source": [
    "<b> В данных наблюдается сезонность — осенью количество заказов увеличивается. В летнем периоде преобладают такие типы мероприятий, как: выставки, концерты, стендап и другое. В то время как осенью: спорт, театр и елки.  Как летом, так и осенью пользователи очень активно пользуются мобильными телефонами. Летом больше всего купленных билетов с ограничением по возрасту 16 лет, а осенью 0+. При этом и осенью и летом меньше всего купленных билетов с ограничением 18+. Осенью выручка с одного билета больше всего выросла в категории \"спорт\", а меньше всего в категории \"елки\". <b>"
   ]
  },
  {
   "cell_type": "markdown",
   "metadata": {},
   "source": [
    " "
   ]
  },
  {
   "cell_type": "markdown",
   "metadata": {},
   "source": [
    "### Осенняя активность пользователей"
   ]
  },
  {
   "cell_type": "markdown",
   "metadata": {},
   "source": [
    "Изучим активность пользователей осенью 2024 года.\n",
    "\n",
    "Проанализируем динамику изменений по дням для:\n",
    "- общего числа заказов;\n",
    "- количества активных пользователей DAU;\n",
    "- среднего числа заказов на одного пользователя;\n",
    "- средней стоимости одного билета."
   ]
  },
  {
   "cell_type": "code",
   "execution_count": 34,
   "metadata": {},
   "outputs": [
    {
     "data": {
      "text/html": [
       "<div>\n",
       "<style scoped>\n",
       "    .dataframe tbody tr th:only-of-type {\n",
       "        vertical-align: middle;\n",
       "    }\n",
       "\n",
       "    .dataframe tbody tr th {\n",
       "        vertical-align: top;\n",
       "    }\n",
       "\n",
       "    .dataframe thead th {\n",
       "        text-align: right;\n",
       "    }\n",
       "</style>\n",
       "<table border=\"1\" class=\"dataframe\">\n",
       "  <thead>\n",
       "    <tr style=\"text-align: right;\">\n",
       "      <th></th>\n",
       "      <th>created_dt_msk</th>\n",
       "      <th>orders_per_day</th>\n",
       "      <th>active_users_per_day</th>\n",
       "      <th>avg_orders_per_user</th>\n",
       "      <th>average_ticket_price</th>\n",
       "    </tr>\n",
       "  </thead>\n",
       "  <tbody>\n",
       "    <tr>\n",
       "      <th>0</th>\n",
       "      <td>2024-09-01</td>\n",
       "      <td>1348</td>\n",
       "      <td>569</td>\n",
       "      <td>2.369069</td>\n",
       "      <td>208.117722</td>\n",
       "    </tr>\n",
       "    <tr>\n",
       "      <th>1</th>\n",
       "      <td>2024-09-02</td>\n",
       "      <td>1391</td>\n",
       "      <td>580</td>\n",
       "      <td>2.398276</td>\n",
       "      <td>195.536148</td>\n",
       "    </tr>\n",
       "    <tr>\n",
       "      <th>2</th>\n",
       "      <td>2024-09-03</td>\n",
       "      <td>5124</td>\n",
       "      <td>783</td>\n",
       "      <td>6.544061</td>\n",
       "      <td>82.095764</td>\n",
       "    </tr>\n",
       "    <tr>\n",
       "      <th>3</th>\n",
       "      <td>2024-09-04</td>\n",
       "      <td>1785</td>\n",
       "      <td>688</td>\n",
       "      <td>2.594477</td>\n",
       "      <td>184.003296</td>\n",
       "    </tr>\n",
       "    <tr>\n",
       "      <th>4</th>\n",
       "      <td>2024-09-05</td>\n",
       "      <td>1960</td>\n",
       "      <td>745</td>\n",
       "      <td>2.630872</td>\n",
       "      <td>194.512985</td>\n",
       "    </tr>\n",
       "    <tr>\n",
       "      <th>...</th>\n",
       "      <td>...</td>\n",
       "      <td>...</td>\n",
       "      <td>...</td>\n",
       "      <td>...</td>\n",
       "      <td>...</td>\n",
       "    </tr>\n",
       "    <tr>\n",
       "      <th>56</th>\n",
       "      <td>2024-10-27</td>\n",
       "      <td>2865</td>\n",
       "      <td>1039</td>\n",
       "      <td>2.757459</td>\n",
       "      <td>190.688629</td>\n",
       "    </tr>\n",
       "    <tr>\n",
       "      <th>57</th>\n",
       "      <td>2024-10-28</td>\n",
       "      <td>2859</td>\n",
       "      <td>988</td>\n",
       "      <td>2.893725</td>\n",
       "      <td>176.783844</td>\n",
       "    </tr>\n",
       "    <tr>\n",
       "      <th>58</th>\n",
       "      <td>2024-10-29</td>\n",
       "      <td>2888</td>\n",
       "      <td>1005</td>\n",
       "      <td>2.873632</td>\n",
       "      <td>190.050110</td>\n",
       "    </tr>\n",
       "    <tr>\n",
       "      <th>59</th>\n",
       "      <td>2024-10-30</td>\n",
       "      <td>2960</td>\n",
       "      <td>1050</td>\n",
       "      <td>2.819048</td>\n",
       "      <td>188.944687</td>\n",
       "    </tr>\n",
       "    <tr>\n",
       "      <th>60</th>\n",
       "      <td>2024-10-31</td>\n",
       "      <td>5991</td>\n",
       "      <td>1282</td>\n",
       "      <td>4.673167</td>\n",
       "      <td>153.908020</td>\n",
       "    </tr>\n",
       "  </tbody>\n",
       "</table>\n",
       "<p>61 rows × 5 columns</p>\n",
       "</div>"
      ],
      "text/plain": [
       "   created_dt_msk  orders_per_day  active_users_per_day  avg_orders_per_user  \\\n",
       "0      2024-09-01            1348                   569             2.369069   \n",
       "1      2024-09-02            1391                   580             2.398276   \n",
       "2      2024-09-03            5124                   783             6.544061   \n",
       "3      2024-09-04            1785                   688             2.594477   \n",
       "4      2024-09-05            1960                   745             2.630872   \n",
       "..            ...             ...                   ...                  ...   \n",
       "56     2024-10-27            2865                  1039             2.757459   \n",
       "57     2024-10-28            2859                   988             2.893725   \n",
       "58     2024-10-29            2888                  1005             2.873632   \n",
       "59     2024-10-30            2960                  1050             2.819048   \n",
       "60     2024-10-31            5991                  1282             4.673167   \n",
       "\n",
       "    average_ticket_price  \n",
       "0             208.117722  \n",
       "1             195.536148  \n",
       "2              82.095764  \n",
       "3             184.003296  \n",
       "4             194.512985  \n",
       "..                   ...  \n",
       "56            190.688629  \n",
       "57            176.783844  \n",
       "58            190.050110  \n",
       "59            188.944687  \n",
       "60            153.908020  \n",
       "\n",
       "[61 rows x 5 columns]"
      ]
     },
     "execution_count": 34,
     "metadata": {},
     "output_type": "execute_result"
    }
   ],
   "source": [
    "# создаем новую сводную таблицу с рассчетами по дням общего числа заказов, количества активных пользователей, среднего числа заказов на одного пользователя и средней стоимости одного билета \n",
    "daily_metrics = (\n",
    "    autumn_data.groupby(autumn_data['created_dt_msk'].dt.date)\n",
    "    .agg(\n",
    "        orders_per_day=('order_id', 'count'),\n",
    "        active_users_per_day=('user_id', 'nunique'))\n",
    "    .assign(avg_orders_per_user=lambda x: x['orders_per_day'] / x['active_users_per_day'])\n",
    "    .reset_index())\n",
    "\n",
    "# агрегирование цены отдельного билета\n",
    "ticket_prices = autumn_data.groupby(autumn_data['created_dt_msk'].dt.date)['one_ticket_revenue_rub'].mean()\n",
    "daily_metrics = daily_metrics.assign(average_ticket_price=ticket_prices.values)\n",
    "daily_metrics"
   ]
  },
  {
   "cell_type": "code",
   "execution_count": 35,
   "metadata": {},
   "outputs": [
    {
     "data": {
      "image/png": "[encoded data removed]",
      "text/plain": [
       "<Figure size 720x504 with 1 Axes>"
      ]
     },
     "metadata": {
      "needs_background": "light"
     },
     "output_type": "display_data"
    }
   ],
   "source": [
    "# строим линейный график для отоброжения общего количества заказов по дням \n",
    "plt.figure(figsize=(10, 7))\n",
    "sns.lineplot(data=daily_metrics, x=\"created_dt_msk\", y=\"orders_per_day\")\n",
    "plt.title(\"Общее число заказов по дням\")\n",
    "plt.xlabel(\"Даты\")\n",
    "plt.ylabel(\"Число заказов\")\n",
    "plt.show()"
   ]
  },
  {
   "cell_type": "code",
   "execution_count": 36,
   "metadata": {},
   "outputs": [
    {
     "data": {
      "text/plain": [
       "<Figure size 720x504 with 0 Axes>"
      ]
     },
     "metadata": {},
     "output_type": "display_data"
    },
    {
     "data": {
      "image/png": "[encoded data removed]",
      "text/plain": [
       "<Figure size 720x504 with 1 Axes>"
      ]
     },
     "metadata": {
      "needs_background": "light"
     },
     "output_type": "display_data"
    }
   ],
   "source": [
    "# строим линейный график для отоброжения общего количества активных пользователей по дням \n",
    "plt.figure(figsize=(10, 7))\n",
    "plt.figure(figsize=(10, 7))\n",
    "sns.lineplot(data=daily_metrics, x=\"created_dt_msk\", y=\"active_users_per_day\")\n",
    "plt.title(\"Общее количество активных пользователей по дням\")\n",
    "plt.xlabel(\"Даты\")\n",
    "plt.ylabel(\"Число активных пользователей \")\n",
    "plt.show()"
   ]
  },
  {
   "cell_type": "code",
   "execution_count": 37,
   "metadata": {},
   "outputs": [
    {
     "data": {
      "text/plain": [
       "<Figure size 720x504 with 0 Axes>"
      ]
     },
     "metadata": {},
     "output_type": "display_data"
    },
    {
     "data": {
      "image/png": "[encoded data removed]",
      "text/plain": [
       "<Figure size 720x504 with 1 Axes>"
      ]
     },
     "metadata": {
      "needs_background": "light"
     },
     "output_type": "display_data"
    }
   ],
   "source": [
    "# строим линейный график для отоброжения среднего числа заказов на пользователя по дням \n",
    "plt.figure(figsize=(10, 7))\n",
    "plt.figure(figsize=(10, 7))\n",
    "sns.lineplot(data=daily_metrics, x=\"created_dt_msk\", y=\"avg_orders_per_user\")\n",
    "plt.title(\"Среднее число заказов на пользователя по дням\")\n",
    "plt.xlabel(\"Даты\")\n",
    "plt.ylabel(\"Число заказов на пользователя\")\n",
    "plt.show()"
   ]
  },
  {
   "cell_type": "code",
   "execution_count": 38,
   "metadata": {},
   "outputs": [
    {
     "data": {
      "text/plain": [
       "<Figure size 720x504 with 0 Axes>"
      ]
     },
     "metadata": {},
     "output_type": "display_data"
    },
    {
     "data": {
      "image/png": "[encoded data removed]",
      "text/plain": [
       "<Figure size 720x504 with 1 Axes>"
      ]
     },
     "metadata": {
      "needs_background": "light"
     },
     "output_type": "display_data"
    }
   ],
   "source": [
    "# строим линейный график для отоброжения средней стоимости одного билета по дням \n",
    "plt.figure(figsize=(10, 7))\n",
    "plt.figure(figsize=(10, 7))\n",
    "sns.lineplot(data=daily_metrics, x=\"created_dt_msk\", y=\"average_ticket_price\")\n",
    "plt.title(\"Средняя стоимость одного билета по дням\")\n",
    "plt.xlabel(\"Даты\")\n",
    "plt.ylabel(\"Стоимость одного билета\")\n",
    "plt.show()"
   ]
  },
  {
   "cell_type": "markdown",
   "metadata": {},
   "source": [
    "<b>По графикам видно, что: \n",
    "- динамика числа заказов демонстрирует стабильный рост на протяжении всего периода исследования, однако в начале сентября и октября имеются скачки с резким увеличением числа заказов,\n",
    "- количество активных пользователей растёт вместе с числом заказов, демонстрируя положительную корреляцию,\n",
    "- показатель среднего числа заказов на пользователя стабилен на уровне около 2.5 заказов на человека в сутки, что свидетельствует о равномерном распределении покупок среди пользователей. При этом стоит также отметить, что в начале сентября и октября также имеются скачки с резким увеличением числа заказов.\n",
    "- средняя стоимость одного билета в начале сентября и октября резко падают, в остальном исследуемом периоде значение стабильно колеблется между 100-140.<b>"
   ]
  },
  {
   "cell_type": "markdown",
   "metadata": {},
   "source": [
    " "
   ]
  },
  {
   "cell_type": "markdown",
   "metadata": {},
   "source": [
    "Изучим недельную цикличность."
   ]
  },
  {
   "cell_type": "code",
   "execution_count": 39,
   "metadata": {},
   "outputs": [],
   "source": [
    "weekly_cyc = daily_metrics.copy()\n",
    "weekly_cyc['week_day'] = weekly_cyc['created_dt_msk'].apply(lambda d: d.weekday())\n",
    "\n",
    "# вычислим среднее число заказов и пользователей по каждому дню недели\n",
    "weekly_avg = weekly_cyc.groupby('week_day')[['orders_per_day', 'active_users_per_day']].mean().reset_index()\n",
    "\n",
    "# отметим дни недели \n",
    "week_days_map = {0:'Понедельник', 1:'Вторник', 2:'Среда', 3:'Четверг', 4:'Пятница', 5:'Суббота', 6:'Воскресенье'}\n",
    "weekly_avg['week_day'] = weekly_avg['week_day'].map(week_days_map)\n"
   ]
  },
  {
   "cell_type": "code",
   "execution_count": 40,
   "metadata": {},
   "outputs": [
    {
     "data": {
      "image/png": "[encoded data removed]",
      "text/plain": [
       "<Figure size 504x360 with 1 Axes>"
      ]
     },
     "metadata": {
      "needs_background": "light"
     },
     "output_type": "display_data"
    }
   ],
   "source": [
    "# строим линейный график для отоброжения общего числа заказов по дням недели \n",
    "plt.figure(figsize=(7, 5))\n",
    "sns.lineplot(data=weekly_avg, x=\"week_day\", y=\"orders_per_day\")\n",
    "plt.title(\"Общее число заказов по дням недели\")\n",
    "plt.xlabel(\"День недели\")\n",
    "plt.ylabel(\"Число заказов \")\n",
    "plt.show()"
   ]
  },
  {
   "cell_type": "code",
   "execution_count": 41,
   "metadata": {},
   "outputs": [
    {
     "data": {
      "image/png": "[encoded data removed]",
      "text/plain": [
       "<Figure size 504x360 with 1 Axes>"
      ]
     },
     "metadata": {
      "needs_background": "light"
     },
     "output_type": "display_data"
    }
   ],
   "source": [
    "# строим линейный график для отоброжения общего количества активных пользователей по дням недели\n",
    "plt.figure(figsize=(7, 5))\n",
    "sns.lineplot(data=weekly_avg, x=\"week_day\", y=\"active_users_per_day\")\n",
    "plt.title(\"Общее количество активных пользователей по дням недели\")\n",
    "plt.xlabel(\"День недели\")\n",
    "plt.ylabel(\"Число активных пользователей \")\n",
    "plt.show()"
   ]
  },
  {
   "cell_type": "markdown",
   "metadata": {},
   "source": [
    " <b>По результатам анализа видно чёткое различие между рабочим периодом и выходными днями. Активность значительно снижается в субботу и воскресенья, возвращаясь обратно к началу следующей недели. Это значит, что стратегия маркетинга должна учитывать такие колебания и стимулировать интерес в период низкой активности, предлагая специальные акции или скидки именно в выходные дни.\n",
    " \n",
    "Таким образом, проанализировав поведение пользователей осенью 2024 года, мы можем выделить основные закономерности и тенденции, влияющие на покупку билетов онлайн, что позволит скорректировать маркетинговую стратегию сервиса и повысить эффективность взаимодействия с клиентами.<b>"
   ]
  },
  {
   "cell_type": "markdown",
   "metadata": {},
   "source": [
    " "
   ]
  },
  {
   "cell_type": "markdown",
   "metadata": {},
   "source": [
    "###  Популярные события и партнёры"
   ]
  },
  {
   "cell_type": "markdown",
   "metadata": {},
   "source": [
    "Для каждого региона посчитаем уникальное количество мероприятий и общее число заказов."
   ]
  },
  {
   "cell_type": "code",
   "execution_count": 42,
   "metadata": {},
   "outputs": [
    {
     "data": {
      "text/html": [
       "<div>\n",
       "<style scoped>\n",
       "    .dataframe tbody tr th:only-of-type {\n",
       "        vertical-align: middle;\n",
       "    }\n",
       "\n",
       "    .dataframe tbody tr th {\n",
       "        vertical-align: top;\n",
       "    }\n",
       "\n",
       "    .dataframe thead th {\n",
       "        text-align: right;\n",
       "    }\n",
       "</style>\n",
       "<table border=\"1\" class=\"dataframe\">\n",
       "  <thead>\n",
       "    <tr style=\"text-align: right;\">\n",
       "      <th></th>\n",
       "      <th>unique_event</th>\n",
       "      <th>count_order_id</th>\n",
       "    </tr>\n",
       "    <tr>\n",
       "      <th>region_name</th>\n",
       "      <th></th>\n",
       "      <th></th>\n",
       "    </tr>\n",
       "  </thead>\n",
       "  <tbody>\n",
       "    <tr>\n",
       "      <th></th>\n",
       "      <td>4</td>\n",
       "      <td>22</td>\n",
       "    </tr>\n",
       "    <tr>\n",
       "      <th>Белоярская область</th>\n",
       "      <td>44</td>\n",
       "      <td>132</td>\n",
       "    </tr>\n",
       "    <tr>\n",
       "      <th>Берестовский округ</th>\n",
       "      <td>25</td>\n",
       "      <td>324</td>\n",
       "    </tr>\n",
       "    <tr>\n",
       "      <th>Берёзовская область</th>\n",
       "      <td>42</td>\n",
       "      <td>348</td>\n",
       "    </tr>\n",
       "    <tr>\n",
       "      <th>Боровлянский край</th>\n",
       "      <td>76</td>\n",
       "      <td>1240</td>\n",
       "    </tr>\n",
       "    <tr>\n",
       "      <th>...</th>\n",
       "      <td>...</td>\n",
       "      <td>...</td>\n",
       "    </tr>\n",
       "    <tr>\n",
       "      <th>Шанырский регион</th>\n",
       "      <td>17</td>\n",
       "      <td>658</td>\n",
       "    </tr>\n",
       "    <tr>\n",
       "      <th>Широковская область</th>\n",
       "      <td>803</td>\n",
       "      <td>8739</td>\n",
       "    </tr>\n",
       "    <tr>\n",
       "      <th>Яблоневская область</th>\n",
       "      <td>432</td>\n",
       "      <td>4223</td>\n",
       "    </tr>\n",
       "    <tr>\n",
       "      <th>Ягодиновская область</th>\n",
       "      <td>93</td>\n",
       "      <td>664</td>\n",
       "    </tr>\n",
       "    <tr>\n",
       "      <th>Яснопольский округ</th>\n",
       "      <td>5</td>\n",
       "      <td>18</td>\n",
       "    </tr>\n",
       "  </tbody>\n",
       "</table>\n",
       "<p>80 rows × 2 columns</p>\n",
       "</div>"
      ],
      "text/plain": [
       "                      unique_event  count_order_id\n",
       "region_name                                       \n",
       "                                 4              22\n",
       "Белоярская область              44             132\n",
       "Берестовский округ              25             324\n",
       "Берёзовская область             42             348\n",
       "Боровлянский край               76            1240\n",
       "...                            ...             ...\n",
       "Шанырский регион                17             658\n",
       "Широковская область            803            8739\n",
       "Яблоневская область            432            4223\n",
       "Ягодиновская область            93             664\n",
       "Яснопольский округ               5              18\n",
       "\n",
       "[80 rows x 2 columns]"
      ]
     },
     "execution_count": 42,
     "metadata": {},
     "output_type": "execute_result"
    }
   ],
   "source": [
    "# считаем уникальное количество мероприятий и общее число заказов для каждого региона\n",
    "region_analys = autumn_data.groupby('region_name').agg({'event_id' : 'nunique',\n",
    "                                                       'order_id' : 'count'}).rename(columns = {'event_id' : 'unique_event',\n",
    "                                                                                    'order_id' : 'count_order_id'})\n",
    "region_analys"
   ]
  },
  {
   "cell_type": "code",
   "execution_count": 43,
   "metadata": {},
   "outputs": [
    {
     "data": {
      "text/plain": [
       "region_name\n",
       "Каменевский регион      0.248\n",
       "Североярская область    0.165\n",
       "Широковская область     0.050\n",
       "Светополянский округ    0.048\n",
       "Речиновская область     0.033\n",
       "Name: unique_event, dtype: float64"
      ]
     },
     "execution_count": 43,
     "metadata": {},
     "output_type": "execute_result"
    }
   ],
   "source": [
    "# считаем долю проводимых мероприятий в каждом регионе от общего числа мероприятий \n",
    "events_share = round(region_analys['unique_event'] / region_analys['unique_event'].sum(), 3)\n",
    "events_share.sort_values(ascending = False).head(5)"
   ]
  },
  {
   "cell_type": "code",
   "execution_count": 44,
   "metadata": {},
   "outputs": [
    {
     "data": {
      "image/png": "[encoded data removed]",
      "text/plain": [
       "<Figure size 360x360 with 1 Axes>"
      ]
     },
     "metadata": {
      "needs_background": "light"
     },
     "output_type": "display_data"
    }
   ],
   "source": [
    "#строим столбчатую диаграмму \n",
    "events_share.sort_values(ascending = False).head(5).plot(kind = 'barh',\n",
    "               title = 'Доля проводимых мероприятий в каждом регионе от общего числа мероприятий ',\n",
    "               legend = False,\n",
    "               xlabel = 'Регион',\n",
    "               ylabel = 'Доля от общего числа мероприятий',\n",
    "               rot = 0,\n",
    "               figsize = (5, 5))\n",
    "plt.grid()\n",
    "plt.show()"
   ]
  },
  {
   "cell_type": "code",
   "execution_count": 45,
   "metadata": {},
   "outputs": [
    {
     "data": {
      "text/plain": [
       "region_name\n",
       "Каменевский регион      0.279\n",
       "Североярская область    0.123\n",
       "Медовская область       0.071\n",
       "Широковская область     0.051\n",
       "Озернинский край        0.045\n",
       "Name: count_order_id, dtype: float64"
      ]
     },
     "execution_count": 45,
     "metadata": {},
     "output_type": "execute_result"
    }
   ],
   "source": [
    "# считаем долю заказов в каждом регионе от общего числа заказов\n",
    "order_share = round(region_analys['count_order_id'] / region_analys['count_order_id'].sum(), 3)\n",
    "order_share.sort_values(ascending = False).head(5)"
   ]
  },
  {
   "cell_type": "code",
   "execution_count": 46,
   "metadata": {},
   "outputs": [
    {
     "data": {
      "image/png": "[encoded data removed]",
      "text/plain": [
       "<Figure size 360x360 with 1 Axes>"
      ]
     },
     "metadata": {
      "needs_background": "light"
     },
     "output_type": "display_data"
    }
   ],
   "source": [
    "#строим столбчатую диаграмму \n",
    "order_share.sort_values(ascending = False).head(5).plot(kind = 'barh',\n",
    "               title = 'Доля заказов в каждом регионе от общего числа заказов',\n",
    "               legend = False,\n",
    "               xlabel = 'Регион',\n",
    "               ylabel = 'Доля от общего числа заказов',\n",
    "               rot = 0,\n",
    "               figsize = (5, 5))\n",
    "plt.grid()\n",
    "plt.show()"
   ]
  },
  {
   "cell_type": "code",
   "execution_count": 47,
   "metadata": {},
   "outputs": [
    {
     "data": {
      "text/html": [
       "<div>\n",
       "<style scoped>\n",
       "    .dataframe tbody tr th:only-of-type {\n",
       "        vertical-align: middle;\n",
       "    }\n",
       "\n",
       "    .dataframe tbody tr th {\n",
       "        vertical-align: top;\n",
       "    }\n",
       "\n",
       "    .dataframe thead th {\n",
       "        text-align: right;\n",
       "    }\n",
       "</style>\n",
       "<table border=\"1\" class=\"dataframe\">\n",
       "  <thead>\n",
       "    <tr style=\"text-align: right;\">\n",
       "      <th></th>\n",
       "      <th>unique_event</th>\n",
       "      <th>count_order_id</th>\n",
       "    </tr>\n",
       "    <tr>\n",
       "      <th>region_name</th>\n",
       "      <th></th>\n",
       "      <th></th>\n",
       "    </tr>\n",
       "  </thead>\n",
       "  <tbody>\n",
       "    <tr>\n",
       "      <th>Каменевский регион</th>\n",
       "      <td>3946</td>\n",
       "      <td>47512</td>\n",
       "    </tr>\n",
       "    <tr>\n",
       "      <th>Североярская область</th>\n",
       "      <td>2622</td>\n",
       "      <td>20897</td>\n",
       "    </tr>\n",
       "    <tr>\n",
       "      <th>Широковская область</th>\n",
       "      <td>803</td>\n",
       "      <td>8739</td>\n",
       "    </tr>\n",
       "    <tr>\n",
       "      <th>Светополянский округ</th>\n",
       "      <td>764</td>\n",
       "      <td>4839</td>\n",
       "    </tr>\n",
       "    <tr>\n",
       "      <th>Речиновская область</th>\n",
       "      <td>529</td>\n",
       "      <td>3576</td>\n",
       "    </tr>\n",
       "    <tr>\n",
       "      <th>Серебринская область</th>\n",
       "      <td>456</td>\n",
       "      <td>4477</td>\n",
       "    </tr>\n",
       "    <tr>\n",
       "      <th>Яблоневская область</th>\n",
       "      <td>432</td>\n",
       "      <td>4223</td>\n",
       "    </tr>\n",
       "    <tr>\n",
       "      <th>Тепляковская область</th>\n",
       "      <td>420</td>\n",
       "      <td>2486</td>\n",
       "    </tr>\n",
       "    <tr>\n",
       "      <th>Горицветская область</th>\n",
       "      <td>406</td>\n",
       "      <td>3234</td>\n",
       "    </tr>\n",
       "    <tr>\n",
       "      <th>Солнечноземская область</th>\n",
       "      <td>403</td>\n",
       "      <td>4232</td>\n",
       "    </tr>\n",
       "  </tbody>\n",
       "</table>\n",
       "</div>"
      ],
      "text/plain": [
       "                         unique_event  count_order_id\n",
       "region_name                                          \n",
       "Каменевский регион               3946           47512\n",
       "Североярская область             2622           20897\n",
       "Широковская область               803            8739\n",
       "Светополянский округ              764            4839\n",
       "Речиновская область               529            3576\n",
       "Серебринская область              456            4477\n",
       "Яблоневская область               432            4223\n",
       "Тепляковская область              420            2486\n",
       "Горицветская область              406            3234\n",
       "Солнечноземская область           403            4232"
      ]
     },
     "execution_count": 47,
     "metadata": {},
     "output_type": "execute_result"
    }
   ],
   "source": [
    "# выводим топ-10 регионов, в которых проводится больше всего мероприятий \n",
    "region_analys.sort_values(by = 'unique_event', ascending = False).head(10)"
   ]
  },
  {
   "cell_type": "markdown",
   "metadata": {},
   "source": [
    "<b>Самые большие доли от общего числа мероприятий находятся в Каменевский регионе, Североярской области и Широковской области. \n",
    "Самые большие доли заказов от их общего числа находятся также в Каменевский регионе, Североярской области и Медовской области. \n",
    "Больше всего мероприятий проводится в Каменевском регионе и Североярской области. <b>"
   ]
  },
  {
   "cell_type": "markdown",
   "metadata": {},
   "source": [
    " "
   ]
  },
  {
   "cell_type": "markdown",
   "metadata": {},
   "source": [
    "Для каждого билетного партнёра посчитаем общее число уникальных мероприятий, обработанных заказов и суммарную выручку с заказов билетов."
   ]
  },
  {
   "cell_type": "code",
   "execution_count": 48,
   "metadata": {},
   "outputs": [],
   "source": [
    "# считаем число уникальных мероприятий, обработанных заказов и суммарную выручку для каждого партнера \n",
    "partner_analys = autumn_data.groupby('service_name').agg({'event_id' : 'nunique',\n",
    "                                                         'order_id' : 'count',\n",
    "                                                         'revenue_rub' : 'sum'}).rename(columns = {'event_id' : 'unique_event_id',\n",
    "                                                                                                  'order_id' : 'count_order_id',\n",
    "                                                                                                  'revenue_rub' : 'sum_revenue_rub'})"
   ]
  },
  {
   "cell_type": "code",
   "execution_count": 49,
   "metadata": {},
   "outputs": [
    {
     "data": {
      "text/html": [
       "<div>\n",
       "<style scoped>\n",
       "    .dataframe tbody tr th:only-of-type {\n",
       "        vertical-align: middle;\n",
       "    }\n",
       "\n",
       "    .dataframe tbody tr th {\n",
       "        vertical-align: top;\n",
       "    }\n",
       "\n",
       "    .dataframe thead th {\n",
       "        text-align: right;\n",
       "    }\n",
       "</style>\n",
       "<table border=\"1\" class=\"dataframe\">\n",
       "  <thead>\n",
       "    <tr style=\"text-align: right;\">\n",
       "      <th></th>\n",
       "      <th>unique_event_id</th>\n",
       "      <th>count_order_id</th>\n",
       "      <th>sum_revenue_rub</th>\n",
       "    </tr>\n",
       "    <tr>\n",
       "      <th>service_name</th>\n",
       "      <th></th>\n",
       "      <th></th>\n",
       "      <th></th>\n",
       "    </tr>\n",
       "  </thead>\n",
       "  <tbody>\n",
       "    <tr>\n",
       "      <th>Crazy ticket!</th>\n",
       "      <td>178</td>\n",
       "      <td>550</td>\n",
       "      <td>319452.0</td>\n",
       "    </tr>\n",
       "    <tr>\n",
       "      <th>Show_ticket</th>\n",
       "      <td>204</td>\n",
       "      <td>1351</td>\n",
       "      <td>1101161.0</td>\n",
       "    </tr>\n",
       "    <tr>\n",
       "      <th>Билет по телефону</th>\n",
       "      <td>10</td>\n",
       "      <td>50</td>\n",
       "      <td>37808.0</td>\n",
       "    </tr>\n",
       "    <tr>\n",
       "      <th>Билеты без проблем</th>\n",
       "      <td>2855</td>\n",
       "      <td>32786</td>\n",
       "      <td>13619601.0</td>\n",
       "    </tr>\n",
       "    <tr>\n",
       "      <th>Билеты в интернете</th>\n",
       "      <td>1</td>\n",
       "      <td>4</td>\n",
       "      <td>548.0</td>\n",
       "    </tr>\n",
       "  </tbody>\n",
       "</table>\n",
       "</div>"
      ],
      "text/plain": [
       "                    unique_event_id  count_order_id  sum_revenue_rub\n",
       "service_name                                                        \n",
       "Crazy ticket!                   178             550         319452.0\n",
       "Show_ticket                     204            1351        1101161.0\n",
       "Билет по телефону                10              50          37808.0\n",
       "Билеты без проблем             2855           32786       13619601.0\n",
       "Билеты в интернете                1               4            548.0"
      ]
     },
     "execution_count": 49,
     "metadata": {},
     "output_type": "execute_result"
    }
   ],
   "source": [
    "partner_analys['sum_revenue_rub'] = partner_analys['sum_revenue_rub'].round()\n",
    "partner_analys.head()"
   ]
  },
  {
   "cell_type": "code",
   "execution_count": 50,
   "metadata": {},
   "outputs": [
    {
     "data": {
      "text/plain": [
       "service_name\n",
       "Лови билет!           0.209\n",
       "Билеты без проблем    0.165\n",
       "Билеты в руки         0.143\n",
       "Облачко               0.081\n",
       "Лучшие билеты         0.080\n",
       "Name: unique_event_id, dtype: float64"
      ]
     },
     "execution_count": 50,
     "metadata": {},
     "output_type": "execute_result"
    }
   ],
   "source": [
    "# считаем долю меропритий для каждого партнера от общего числа \n",
    "events_2share = round(partner_analys['unique_event_id'] / partner_analys['unique_event_id'].sum(), 3)\n",
    "events_2share.sort_values(ascending = False).head(5)"
   ]
  },
  {
   "cell_type": "code",
   "execution_count": 51,
   "metadata": {},
   "outputs": [
    {
     "data": {
      "image/png": "[encoded data removed]",
      "text/plain": [
       "<Figure size 360x360 with 1 Axes>"
      ]
     },
     "metadata": {
      "needs_background": "light"
     },
     "output_type": "display_data"
    }
   ],
   "source": [
    "#строим столбчатую диаграмму \n",
    "events_2share.sort_values(ascending = False).head(5).plot(kind = 'barh',\n",
    "               title = 'Доля меропритий для каждого партнера от общего числа',\n",
    "               legend = False,\n",
    "               xlabel = 'Партнер',\n",
    "               ylabel = 'Доля мероприятий от общего числа',\n",
    "               rot = 0,\n",
    "               figsize = (5, 5))\n",
    "plt.grid()\n",
    "plt.show()"
   ]
  },
  {
   "cell_type": "code",
   "execution_count": 52,
   "metadata": {},
   "outputs": [
    {
     "data": {
      "text/plain": [
       "service_name\n",
       "Билеты без проблем    0.193\n",
       "Лови билет!           0.152\n",
       "Билеты в руки         0.151\n",
       "Мой билет             0.116\n",
       "Облачко               0.092\n",
       "Name: count_order_id, dtype: float64"
      ]
     },
     "execution_count": 52,
     "metadata": {},
     "output_type": "execute_result"
    }
   ],
   "source": [
    "# считаем долю обработанных заказов для каждого партнера от общего числа \n",
    "order_2share = round(partner_analys['count_order_id'] / partner_analys['count_order_id'].sum(), 3)\n",
    "order_2share.sort_values(ascending = False).head(5)"
   ]
  },
  {
   "cell_type": "code",
   "execution_count": 53,
   "metadata": {},
   "outputs": [
    {
     "data": {
      "image/png": "[encoded data removed]",
      "text/plain": [
       "<Figure size 360x360 with 1 Axes>"
      ]
     },
     "metadata": {
      "needs_background": "light"
     },
     "output_type": "display_data"
    }
   ],
   "source": [
    "#строим столбчатую диаграмму \n",
    "order_2share.sort_values(ascending = False).head(5).plot(kind = 'barh',\n",
    "               title = 'Доля обработанных заказов для каждого партнера от общего числа',\n",
    "               legend = False,\n",
    "               xlabel = 'Партнер',\n",
    "               ylabel = 'Доля обработанных заказов от общего числа',\n",
    "               rot = 0,\n",
    "               figsize = (5, 5))\n",
    "plt.grid()\n",
    "plt.show()"
   ]
  },
  {
   "cell_type": "code",
   "execution_count": 54,
   "metadata": {},
   "outputs": [
    {
     "data": {
      "text/plain": [
       "service_name\n",
       "Билеты без проблем    0.153\n",
       "Облачко               0.140\n",
       "Мой билет             0.133\n",
       "Лови билет!           0.120\n",
       "Весь в билетах        0.115\n",
       "Name: sum_revenue_rub, dtype: float32"
      ]
     },
     "execution_count": 54,
     "metadata": {},
     "output_type": "execute_result"
    }
   ],
   "source": [
    "# считаем долю суммарной выручки для каждого партнера от общего числа \n",
    "revenue_share =  round(partner_analys['sum_revenue_rub'] / partner_analys['sum_revenue_rub'].sum(), 3)\n",
    "revenue_share.sort_values(ascending= False).head(5)"
   ]
  },
  {
   "cell_type": "code",
   "execution_count": 55,
   "metadata": {},
   "outputs": [
    {
     "data": {
      "image/png": "[encoded data removed]",
      "text/plain": [
       "<Figure size 360x360 with 1 Axes>"
      ]
     },
     "metadata": {
      "needs_background": "light"
     },
     "output_type": "display_data"
    }
   ],
   "source": [
    "#строим столбчатую диаграмму \n",
    "revenue_share.sort_values(ascending = False).head(5).plot(kind = 'barh',\n",
    "               title = 'Доля суммарной выручки для каждого партнера от общего числа',\n",
    "               legend = False,\n",
    "               xlabel = 'Партнер',\n",
    "               ylabel = 'Доля суммарной выручки от общего числа',\n",
    "               rot = 0,\n",
    "               figsize = (5, 5))\n",
    "plt.grid()\n",
    "plt.show()"
   ]
  },
  {
   "cell_type": "markdown",
   "metadata": {},
   "source": [
    " <b>Самые большие доли мероприятий у таких партнеров как: \"Лови билет!\", \"Билеты без проблем\" и \"Билеты в руки\".\n",
    "Больше всего долей по обработанным заказов среди парнеров у \"Билеты без проблем\", \"Билеты в руки\" и \"Лови билет!\".\n",
    "И по суммарной выручке больше всего долей у таких партнеров: \"Билеты без проблем\", \"Лови билет!\" и \"Облачко\".\n",
    "Соответственно среди всех категорий в топе лучших партнеров находятся \"Билеты без проблем\" и \"Лови билет!\". <b>"
   ]
  },
  {
   "cell_type": "markdown",
   "metadata": {},
   "source": [
    " "
   ]
  },
  {
   "cell_type": "markdown",
   "metadata": {},
   "source": [
    " "
   ]
  },
  {
   "cell_type": "markdown",
   "metadata": {},
   "source": [
    "## Статистический анализ данных"
   ]
  },
  {
   "cell_type": "markdown",
   "metadata": {},
   "source": [
    "Проверим две гипотезы, которые предполагают большую активность пользователей мобильных устройств:\n",
    "- Среднее количество заказов на одного пользователя мобильного приложения выше по сравнению с пользователями стационарных устройств.\n",
    "- Среднее время между заказами пользователей мобильных приложений выше по сравнению с пользователями стационарных устройств."
   ]
  },
  {
   "cell_type": "code",
   "execution_count": 56,
   "metadata": {},
   "outputs": [],
   "source": [
    "# формируем данные \n",
    "mobile_d = autumn_data.query(\"device_type_canonical == 'mobile'\")\n",
    "desktop_d = autumn_data.query(\"device_type_canonical == 'desktop'\")"
   ]
  },
  {
   "cell_type": "code",
   "execution_count": 57,
   "metadata": {},
   "outputs": [],
   "source": [
    "# формируем метрики по гипотезе среднего количества заказов на одного пользователя \n",
    "orders_mobile = mobile_d.groupby('user_id')['order_id'].count()\n",
    "orders_desktop = desktop_d.groupby('user_id')['order_id'].count()"
   ]
  },
  {
   "cell_type": "code",
   "execution_count": 58,
   "metadata": {
    "scrolled": true
   },
   "outputs": [
    {
     "data": {
      "image/png": "[encoded data removed]",
      "text/plain": [
       "<Figure size 432x288 with 1 Axes>"
      ]
     },
     "metadata": {
      "needs_background": "light"
     },
     "output_type": "display_data"
    }
   ],
   "source": [
    "# исследуем выбросы для мобильных пользователей\n",
    "plt.hist(orders_mobile, bins =15)\n",
    "plt.title('Распределение значений среднего количества заказов на одного мобильного пользователя');"
   ]
  },
  {
   "cell_type": "code",
   "execution_count": 59,
   "metadata": {},
   "outputs": [
    {
     "data": {
      "image/png": "[encoded data removed]",
      "text/plain": [
       "<Figure size 432x288 with 1 Axes>"
      ]
     },
     "metadata": {
      "needs_background": "light"
     },
     "output_type": "display_data"
    }
   ],
   "source": [
    "# исследуем выбросы для стационарных пользователей\n",
    "plt.hist(orders_desktop, bins =15)\n",
    "plt.title('Распределение значений среднего количества заказов на одного стационарного пользователя');"
   ]
  },
  {
   "cell_type": "markdown",
   "metadata": {},
   "source": [
    "На графиках наблюдается правосторонняя, или положительная, асимметрия — правый хвост распределения явно вытянут. Это указывает на присутствие высоких значений, которые оттягивают распределение вправо. "
   ]
  },
  {
   "cell_type": "markdown",
   "metadata": {},
   "source": [
    "Исходя из вышеисследуемого, мы не можем использовать параметрические тесты для проверки гипотезы, так как распределение не является нормальным. Именно потому, что присутствуют выбросы, далее применим тест Манна-Уитни, который устойчив к выбросам, так как использует ранги, а не абсолютные значения. "
   ]
  },
  {
   "cell_type": "markdown",
   "metadata": {},
   "source": [
    "Формулируем гипотезы: \n",
    "\n",
    "Н0 (нулевая гипотеза): среднее количество заказов на одного пользователя мобильных устройств не больше среднему количеству заказов на одного пользователя стационарных устройств. \n",
    "\n",
    "Н1(альтернативная гипотеза): среднее количество заказов на одного пользователя мобильных устройств больше, чем у пользователей стационарных устройств. "
   ]
  },
  {
   "cell_type": "code",
   "execution_count": 60,
   "metadata": {},
   "outputs": [
    {
     "name": "stdout",
     "output_type": "stream",
     "text": [
      "pvalue=1.34357399521509e-07 < 0.05\n",
      "Нулевая гипотеза отвергается! Среднее количество заказов на одного пользователя мобильных устройств больше, чем у пользователей стационарных устройств, и это различие статистически значимо.\n"
     ]
    }
   ],
   "source": [
    "# применяем тест Манна-Уитни \n",
    "alpha = 0.05 \n",
    "stat_mw, p_value_mw = mannwhitneyu(\n",
    "    orders_mobile, \n",
    "    orders_desktop, \n",
    "    alternative='greater'\n",
    ") \n",
    "if p_value_mw > alpha:\n",
    "    print(f'pvalue={p_value_mw} > {alpha}')\n",
    "    print('Нулевая гипотеза не отвергается! Среднее количество заказов на одного пользователя мобильных устройств не больше среднему количеству заказов на одного пользователя стационарных устройств')\n",
    "else:\n",
    "    print(f'pvalue={p_value_mw} < {alpha}')\n",
    "    print('Нулевая гипотеза отвергается! Среднее количество заказов на одного пользователя мобильных устройств больше, чем у пользователей стационарных устройств, и это различие статистически значимо.')"
   ]
  },
  {
   "cell_type": "markdown",
   "metadata": {},
   "source": [
    " "
   ]
  },
  {
   "cell_type": "markdown",
   "metadata": {},
   "source": [
    "Проверим вторую гипотезу"
   ]
  },
  {
   "cell_type": "code",
   "execution_count": 61,
   "metadata": {},
   "outputs": [],
   "source": [
    "# формируем метрику \n",
    "time_order_mobile = mobile_d[mobile_d['days_since_prev'].notnull()]['days_since_prev']\n",
    "time_order_desktop = desktop_d[desktop_d['days_since_prev'].notnull()]['days_since_prev']"
   ]
  },
  {
   "cell_type": "code",
   "execution_count": 62,
   "metadata": {},
   "outputs": [
    {
     "data": {
      "image/png": "[encoded data removed]",
      "text/plain": [
       "<Figure size 432x288 with 1 Axes>"
      ]
     },
     "metadata": {
      "needs_background": "light"
     },
     "output_type": "display_data"
    }
   ],
   "source": [
    "# исследуем распределение для мобильных пользователей\n",
    "plt.hist(time_order_mobile, bins =15)\n",
    "plt.title('Распределение значений среднего времени между заказами мобильных пользователей');"
   ]
  },
  {
   "cell_type": "code",
   "execution_count": 63,
   "metadata": {},
   "outputs": [
    {
     "data": {
      "image/png": "[encoded data removed]",
      "text/plain": [
       "<Figure size 432x288 with 1 Axes>"
      ]
     },
     "metadata": {
      "needs_background": "light"
     },
     "output_type": "display_data"
    }
   ],
   "source": [
    "# исследуем распределение для стационарных пользователей\n",
    "plt.hist(time_order_desktop, bins =15)\n",
    "plt.title('Распределение значений среднего времени между заказами стационарных пользователей');"
   ]
  },
  {
   "cell_type": "markdown",
   "metadata": {},
   "source": [
    "На графиках наблюдается правосторонняя, или положительная, асимметрия — правый хвост распределения явно вытянут. Это указывает на присутствие высоких значений, которые оттягивают распределение вправо. "
   ]
  },
  {
   "cell_type": "markdown",
   "metadata": {},
   "source": [
    "Исходя из вышеисследуемого, мы не можем использовать параметрические тесты для проверки гипотезы, так как распределение не является нормальным. Именно потому, что в данных присутствуют выбросы, далее применим тест Манна-Уитни, который устойчив к выбросам, так как использует ранги, а не абсолютные значения. "
   ]
  },
  {
   "cell_type": "markdown",
   "metadata": {},
   "source": [
    "Формулируем гипотезы: \n",
    "\n",
    "Н0(нулевая гипотеза): среднее время между заказами пользователей мобильных устройств не больше среднему времени между заказами пользователей стационарных устройств.\n",
    "\n",
    "Н1(альтернативная гипотеза): среднее время между заказами пользователей мобильных устройств больше, чем у пользователей стационарных устройств. "
   ]
  },
  {
   "cell_type": "code",
   "execution_count": 64,
   "metadata": {},
   "outputs": [
    {
     "name": "stdout",
     "output_type": "stream",
     "text": [
      "pvalue=6.751629011767284e-93 < 0.05\n",
      "Нулевая гипотеза отвергается! Среднее время между заказами пользователя мобильных устройств больше, чем у пользователей стационарных устройств, и это различие статистически значимо.\n"
     ]
    }
   ],
   "source": [
    "# применяем тест Манна-Уитни \n",
    "alpha = 0.05 \n",
    "stat_mw, p_value_mw = mannwhitneyu(\n",
    "    time_order_mobile, \n",
    "    time_order_desktop, \n",
    "    alternative='greater'\n",
    ") \n",
    "if p_value_mw > alpha:\n",
    "    print(f'pvalue={p_value_mw} > {alpha}')\n",
    "    print('Нулевая гипотеза не отвергается! Среднее время между заказами пользователей мобильных устройств не больше среднему времени между заказами пользователей стационарных устройств.')\n",
    "else:\n",
    "    print(f'pvalue={p_value_mw} < {alpha}')\n",
    "    print('Нулевая гипотеза отвергается! Среднее время между заказами пользователя мобильных устройств больше, чем у пользователей стационарных устройств, и это различие статистически значимо.')"
   ]
  },
  {
   "cell_type": "markdown",
   "metadata": {},
   "source": [
    "<b> t-тест был выполнен по типу Манна-Уитни, так как для него не требуется нормальное распределение выборочного среднего. Уровень значимости выбрали 0.05, так как оно самое часто используемое значение в практике. \n",
    "\n",
    "Проверив обе гипотезы, мы получили результаты, позволяющие подтвердить утверждения коллег из продуктового отдела. По результатам теста: \n",
    "- Среднее количество заказов на одного пользователя мобильных устройств больше, чем у пользователей стационарных устройств, то есть нулевая гипотеза не находит своего подтверждения, так как p-value = 3.36е-06, что значительно меньше уровня значимости. \n",
    "- Среднее время между заказами пользователя мобильных устройств больше, чем у пользователей стационарных устройств, то есть также нулевая гипотеза не находит своего подтверждения, так как value = 4.97е-108, что сильно меньше уровня значимости. \n",
    "    <b>"
   ]
  },
  {
   "cell_type": "markdown",
   "metadata": {},
   "source": [
    " "
   ]
  },
  {
   "cell_type": "markdown",
   "metadata": {},
   "source": [
    "## Общий вывод и рекомендации "
   ]
  },
  {
   "cell_type": "markdown",
   "metadata": {},
   "source": [
    "### Информация о данных "
   ]
  },
  {
   "cell_type": "markdown",
   "metadata": {},
   "source": [
    "Проект основан на анализе набора данных о покупках билетов, совершенных летом и осенью 2024 года. Были использованы три источника данных: сведения о заказах билетов, информация о мероприятиях и курсы рубля к тенге. Объединённые данные позволили провести глубокий анализ поведения пользователей, оценить популярность различных мероприятий, распределение активности по регионам и партнерами, а также исследовать влияние устройств на покупательские привычки."
   ]
  },
  {
   "cell_type": "markdown",
   "metadata": {},
   "source": [
    "### Основные результаты анализа "
   ]
  },
  {
   "cell_type": "markdown",
   "metadata": {},
   "source": [
    "- Популярность мероприятий: осенью наблюдался повышенный интерес к театру и концерту, что подтверждает устойчивость культурных предпочтений аудитории. Стоимость среднего чека осталась практически неизменной, свидетельствуя о стабильности цен и привычных форматов потребления культуры.\n",
    "- Изменение активности пользователей: наибольшее количество заявок поступало в рабочие дни, особенно ближе к концу недели. Суббота и воскресенье показали снижение активности покупателей, что характерно для многих сфер ритейла.\n",
    "- Регион и партнерство: лидерами стали такие регионы, как Каменевский и Североярский, а также известные билетные операторы, как \"Билеты без проблем \" и \"Лови билет!\" . Тем не менее существуют значительные различия в активности между регионами, подчеркивая важность локализации усилий.\n",
    "- Проверка гипотез: Первая гипотеза подтвердила предположение о повышенной активности пользователей мобильных устройств в плане частоты заказов. Во второй гипотезе было также статистически доказано, что среднее время между заказами пользователя мобильных устройств больше, чем у пользователей стационарных устройств."
   ]
  },
  {
   "cell_type": "markdown",
   "metadata": {},
   "source": [
    "### Рекомендации "
   ]
  },
  {
   "cell_type": "markdown",
   "metadata": {},
   "source": [
    " - Следует продолжить работу над повышением лояльности пользователей мобильных платформ путем внедрения персонализированных рекомендаций и акций.\n",
    " - Рекомендуется развивать маркетинговые кампании, направленные на привлечение внимания пользователей в периоды снижения активности (например, выходные дни).\n",
    " - Стоит уделить особое внимание небольшим городам и областям, разрабатывая локальные рекламные кампании и сотрудничество с местными организаторами мероприятий.\n",
    " - Необходимо отслеживать изменения популярности новых видов мероприятий, регулярно обновляя список популярных направлений и адаптируя контент.\n"
   ]
  },
  {
   "cell_type": "markdown",
   "metadata": {},
   "source": [
    "Объединяя полученные знания, проект даёт важные подсказки для дальнейшей работы команды продукта и маркетологов, позволяя оптимизировать подходы к привлечению и удержанию клиентов, увеличению прибыли и улучшению качества обслуживания пользователей."
   ]
  }
 ],
 "metadata": {
  "ExecuteTimeLog": [
   {
    "duration": 441,
    "start_time": "2025-04-12T19:01:25.534Z"
   },
   {
    "duration": 70,
    "start_time": "2025-04-12T19:02:13.382Z"
   },
   {
    "duration": 40,
    "start_time": "2025-04-12T19:02:27.405Z"
   },
   {
    "duration": 46,
    "start_time": "2025-04-12T19:02:53.832Z"
   },
   {
    "duration": 7,
    "start_time": "2025-04-12T19:03:33.839Z"
   },
   {
    "duration": 14,
    "start_time": "2025-04-12T19:04:00.134Z"
   },
   {
    "duration": 44,
    "start_time": "2025-04-12T19:04:24.319Z"
   },
   {
    "duration": 51,
    "start_time": "2025-04-12T19:04:33.232Z"
   },
   {
    "duration": 46,
    "start_time": "2025-04-12T19:04:40.914Z"
   },
   {
    "duration": 8,
    "start_time": "2025-04-12T19:05:02.438Z"
   },
   {
    "duration": 45,
    "start_time": "2025-04-12T19:05:42.937Z"
   },
   {
    "duration": 408,
    "start_time": "2025-04-12T19:08:29.779Z"
   },
   {
    "duration": 109,
    "start_time": "2025-04-12T19:08:30.190Z"
   },
   {
    "duration": 51,
    "start_time": "2025-04-12T19:09:52.811Z"
   },
   {
    "duration": 41,
    "start_time": "2025-04-12T19:10:16.945Z"
   },
   {
    "duration": 4,
    "start_time": "2025-04-12T19:14:39.410Z"
   },
   {
    "duration": 24,
    "start_time": "2025-04-12T19:14:57.260Z"
   },
   {
    "duration": 377,
    "start_time": "2025-04-12T19:31:58.494Z"
   },
   {
    "duration": 104,
    "start_time": "2025-04-12T19:31:58.873Z"
   },
   {
    "duration": 0,
    "start_time": "2025-04-12T19:31:58.979Z"
   },
   {
    "duration": 0,
    "start_time": "2025-04-12T19:31:58.980Z"
   },
   {
    "duration": 13,
    "start_time": "2025-04-12T19:33:35.606Z"
   },
   {
    "duration": 404,
    "start_time": "2025-04-13T14:26:39.018Z"
   },
   {
    "duration": 104,
    "start_time": "2025-04-13T14:26:39.424Z"
   },
   {
    "duration": 0,
    "start_time": "2025-04-13T14:26:39.529Z"
   },
   {
    "duration": 0,
    "start_time": "2025-04-13T14:26:39.530Z"
   },
   {
    "duration": 1626,
    "start_time": "2025-04-13T14:26:59.745Z"
   },
   {
    "duration": 1652,
    "start_time": "2025-04-13T14:27:32.899Z"
   },
   {
    "duration": 1381,
    "start_time": "2025-04-13T14:27:47.453Z"
   },
   {
    "duration": 1381,
    "start_time": "2025-04-13T14:28:14.307Z"
   },
   {
    "duration": 54,
    "start_time": "2025-04-13T14:35:19.267Z"
   },
   {
    "duration": 454,
    "start_time": "2025-04-13T14:38:32.357Z"
   },
   {
    "duration": 2463,
    "start_time": "2025-04-13T14:38:32.812Z"
   },
   {
    "duration": 100,
    "start_time": "2025-04-13T14:38:35.276Z"
   },
   {
    "duration": 25,
    "start_time": "2025-04-13T14:39:19.617Z"
   },
   {
    "duration": 42,
    "start_time": "2025-04-13T14:39:47.869Z"
   },
   {
    "duration": 344,
    "start_time": "2025-04-13T14:40:27.035Z"
   },
   {
    "duration": 44,
    "start_time": "2025-04-13T14:41:13.353Z"
   },
   {
    "duration": 91,
    "start_time": "2025-04-13T14:52:10.400Z"
   },
   {
    "duration": 111,
    "start_time": "2025-04-13T14:52:39.983Z"
   },
   {
    "duration": 114,
    "start_time": "2025-04-13T14:52:51.439Z"
   },
   {
    "duration": 127,
    "start_time": "2025-04-13T14:53:03.051Z"
   },
   {
    "duration": 111,
    "start_time": "2025-04-13T14:53:32.718Z"
   },
   {
    "duration": 10,
    "start_time": "2025-04-13T15:26:38.948Z"
   },
   {
    "duration": 133,
    "start_time": "2025-04-13T15:26:52.898Z"
   },
   {
    "duration": 47,
    "start_time": "2025-04-13T15:31:16.565Z"
   },
   {
    "duration": 1673,
    "start_time": "2025-04-13T15:38:29.314Z"
   },
   {
    "duration": 2383,
    "start_time": "2025-04-13T15:38:38.832Z"
   },
   {
    "duration": 2788,
    "start_time": "2025-04-13T15:38:41.217Z"
   },
   {
    "duration": 580,
    "start_time": "2025-04-13T15:38:44.008Z"
   },
   {
    "duration": 98,
    "start_time": "2025-04-13T15:38:44.591Z"
   },
   {
    "duration": 280,
    "start_time": "2025-04-13T15:38:44.691Z"
   },
   {
    "duration": 320,
    "start_time": "2025-04-13T15:38:44.973Z"
   },
   {
    "duration": 115,
    "start_time": "2025-04-13T15:38:45.295Z"
   },
   {
    "duration": 112,
    "start_time": "2025-04-13T15:46:17.331Z"
   },
   {
    "duration": 13,
    "start_time": "2025-04-13T15:46:26.701Z"
   },
   {
    "duration": 163,
    "start_time": "2025-04-13T15:46:40.227Z"
   },
   {
    "duration": 10051,
    "start_time": "2025-04-13T15:47:08.548Z"
   },
   {
    "duration": 83,
    "start_time": "2025-04-13T15:49:08.048Z"
   },
   {
    "duration": 119,
    "start_time": "2025-04-13T15:49:47.648Z"
   },
   {
    "duration": 3,
    "start_time": "2025-04-13T15:50:20.013Z"
   },
   {
    "duration": 168,
    "start_time": "2025-04-13T15:50:23.479Z"
   },
   {
    "duration": 5662,
    "start_time": "2025-04-13T15:50:41.429Z"
   },
   {
    "duration": 2786,
    "start_time": "2025-04-13T15:51:17.245Z"
   },
   {
    "duration": 9707,
    "start_time": "2025-04-13T15:51:44.235Z"
   },
   {
    "duration": 9991,
    "start_time": "2025-04-13T15:52:20.603Z"
   },
   {
    "duration": 9707,
    "start_time": "2025-04-13T15:52:35.578Z"
   },
   {
    "duration": 472,
    "start_time": "2025-04-13T15:52:52.246Z"
   },
   {
    "duration": 774,
    "start_time": "2025-04-13T15:53:08.846Z"
   },
   {
    "duration": 11,
    "start_time": "2025-04-13T15:56:25.885Z"
   },
   {
    "duration": 30,
    "start_time": "2025-04-13T15:56:36.296Z"
   },
   {
    "duration": 28,
    "start_time": "2025-04-13T15:56:45.097Z"
   },
   {
    "duration": 46,
    "start_time": "2025-04-13T15:57:30.069Z"
   },
   {
    "duration": 205,
    "start_time": "2025-04-13T15:57:38.914Z"
   },
   {
    "duration": 112,
    "start_time": "2025-04-13T16:00:19.330Z"
   },
   {
    "duration": 205,
    "start_time": "2025-04-13T16:01:48.148Z"
   },
   {
    "duration": 242,
    "start_time": "2025-04-13T16:01:56.014Z"
   },
   {
    "duration": 160,
    "start_time": "2025-04-13T16:07:53.648Z"
   },
   {
    "duration": 137,
    "start_time": "2025-04-13T16:08:45.055Z"
   },
   {
    "duration": 69,
    "start_time": "2025-04-13T16:09:15.114Z"
   },
   {
    "duration": 500,
    "start_time": "2025-04-13T16:10:50.948Z"
   },
   {
    "duration": 60,
    "start_time": "2025-04-13T16:11:50.712Z"
   },
   {
    "duration": 491,
    "start_time": "2025-04-13T16:12:55.307Z"
   },
   {
    "duration": 197,
    "start_time": "2025-04-13T16:13:13.915Z"
   },
   {
    "duration": 677,
    "start_time": "2025-04-13T16:14:08.264Z"
   },
   {
    "duration": 7,
    "start_time": "2025-04-13T16:14:24.478Z"
   },
   {
    "duration": 165,
    "start_time": "2025-04-13T16:14:45.236Z"
   },
   {
    "duration": 62,
    "start_time": "2025-04-13T16:15:03.632Z"
   },
   {
    "duration": 145,
    "start_time": "2025-04-13T16:15:22.882Z"
   },
   {
    "duration": 306,
    "start_time": "2025-04-13T16:18:59.881Z"
   },
   {
    "duration": 322,
    "start_time": "2025-04-13T16:19:07.120Z"
   },
   {
    "duration": 362,
    "start_time": "2025-04-13T16:19:37.557Z"
   },
   {
    "duration": 333,
    "start_time": "2025-04-13T16:20:06.933Z"
   },
   {
    "duration": 95,
    "start_time": "2025-04-13T16:24:02.351Z"
   },
   {
    "duration": 108,
    "start_time": "2025-04-13T16:24:12.784Z"
   },
   {
    "duration": 5,
    "start_time": "2025-04-13T16:32:06.246Z"
   },
   {
    "duration": 249,
    "start_time": "2025-04-13T16:32:46.676Z"
   },
   {
    "duration": 71,
    "start_time": "2025-04-13T16:39:35.404Z"
   },
   {
    "duration": 21,
    "start_time": "2025-04-13T16:39:55.636Z"
   },
   {
    "duration": 22,
    "start_time": "2025-04-13T16:40:04.952Z"
   },
   {
    "duration": 87,
    "start_time": "2025-04-13T16:40:27.473Z"
   },
   {
    "duration": 30,
    "start_time": "2025-04-13T16:41:26.107Z"
   },
   {
    "duration": 191,
    "start_time": "2025-04-13T16:45:43.671Z"
   },
   {
    "duration": 186,
    "start_time": "2025-04-13T16:45:59.374Z"
   },
   {
    "duration": 10,
    "start_time": "2025-04-13T16:47:45.453Z"
   },
   {
    "duration": 86,
    "start_time": "2025-04-13T16:47:58.707Z"
   },
   {
    "duration": 1027,
    "start_time": "2025-04-13T16:48:53.187Z"
   },
   {
    "duration": 93,
    "start_time": "2025-04-13T16:49:06.556Z"
   },
   {
    "duration": 1078,
    "start_time": "2025-04-13T16:50:20.808Z"
   },
   {
    "duration": 88,
    "start_time": "2025-04-13T16:50:31.503Z"
   },
   {
    "duration": 88,
    "start_time": "2025-04-13T16:51:22.008Z"
   },
   {
    "duration": 98,
    "start_time": "2025-04-13T16:51:49.777Z"
   },
   {
    "duration": 124,
    "start_time": "2025-04-13T16:52:11.262Z"
   },
   {
    "duration": 39,
    "start_time": "2025-04-13T16:53:28.705Z"
   },
   {
    "duration": 50,
    "start_time": "2025-04-13T16:54:08.873Z"
   },
   {
    "duration": 43,
    "start_time": "2025-04-13T16:55:01.157Z"
   },
   {
    "duration": 33,
    "start_time": "2025-04-13T16:55:06.009Z"
   },
   {
    "duration": 39,
    "start_time": "2025-04-13T16:55:34.657Z"
   },
   {
    "duration": 25,
    "start_time": "2025-04-13T16:55:43.600Z"
   },
   {
    "duration": 1338,
    "start_time": "2025-04-13T16:56:24.632Z"
   },
   {
    "duration": 1953,
    "start_time": "2025-04-13T16:56:25.972Z"
   },
   {
    "duration": 540,
    "start_time": "2025-04-13T16:56:27.926Z"
   },
   {
    "duration": 43,
    "start_time": "2025-04-13T16:56:28.472Z"
   },
   {
    "duration": 222,
    "start_time": "2025-04-13T16:56:28.517Z"
   },
   {
    "duration": 0,
    "start_time": "2025-04-13T16:56:28.741Z"
   },
   {
    "duration": 0,
    "start_time": "2025-04-13T16:56:28.742Z"
   },
   {
    "duration": 0,
    "start_time": "2025-04-13T16:56:28.743Z"
   },
   {
    "duration": 0,
    "start_time": "2025-04-13T16:56:28.745Z"
   },
   {
    "duration": 0,
    "start_time": "2025-04-13T16:56:28.746Z"
   },
   {
    "duration": 0,
    "start_time": "2025-04-13T16:56:28.747Z"
   },
   {
    "duration": 0,
    "start_time": "2025-04-13T16:56:28.748Z"
   },
   {
    "duration": 0,
    "start_time": "2025-04-13T16:56:28.750Z"
   },
   {
    "duration": 0,
    "start_time": "2025-04-13T16:56:28.751Z"
   },
   {
    "duration": 0,
    "start_time": "2025-04-13T16:56:28.771Z"
   },
   {
    "duration": 0,
    "start_time": "2025-04-13T16:56:28.773Z"
   },
   {
    "duration": 0,
    "start_time": "2025-04-13T16:56:28.774Z"
   },
   {
    "duration": 114,
    "start_time": "2025-04-13T16:57:08.537Z"
   },
   {
    "duration": 1308,
    "start_time": "2025-04-13T16:57:14.393Z"
   },
   {
    "duration": 1831,
    "start_time": "2025-04-13T16:57:15.703Z"
   },
   {
    "duration": 365,
    "start_time": "2025-04-13T16:57:17.536Z"
   },
   {
    "duration": 46,
    "start_time": "2025-04-13T16:57:17.904Z"
   },
   {
    "duration": 127,
    "start_time": "2025-04-13T16:57:17.952Z"
   },
   {
    "duration": 167,
    "start_time": "2025-04-13T16:57:18.080Z"
   },
   {
    "duration": 61,
    "start_time": "2025-04-13T16:57:18.249Z"
   },
   {
    "duration": 213,
    "start_time": "2025-04-13T16:57:18.311Z"
   },
   {
    "duration": 164,
    "start_time": "2025-04-13T16:57:18.526Z"
   },
   {
    "duration": 91,
    "start_time": "2025-04-13T16:57:18.694Z"
   },
   {
    "duration": 106,
    "start_time": "2025-04-13T16:57:18.787Z"
   },
   {
    "duration": 167,
    "start_time": "2025-04-13T16:57:18.896Z"
   },
   {
    "duration": 166,
    "start_time": "2025-04-13T16:57:19.065Z"
   },
   {
    "duration": 399,
    "start_time": "2025-04-13T16:57:19.232Z"
   },
   {
    "duration": 309,
    "start_time": "2025-04-13T16:57:19.632Z"
   },
   {
    "duration": 157,
    "start_time": "2025-04-13T16:57:19.943Z"
   },
   {
    "duration": 70,
    "start_time": "2025-04-13T16:57:20.102Z"
   },
   {
    "duration": 81,
    "start_time": "2025-04-13T16:57:43.544Z"
   },
   {
    "duration": 115,
    "start_time": "2025-04-13T17:05:46.354Z"
   },
   {
    "duration": 228,
    "start_time": "2025-04-13T17:05:54.503Z"
   },
   {
    "duration": 296,
    "start_time": "2025-04-13T17:08:07.619Z"
   },
   {
    "duration": 4,
    "start_time": "2025-04-13T17:08:28.355Z"
   },
   {
    "duration": 194,
    "start_time": "2025-04-13T17:08:31.837Z"
   },
   {
    "duration": 70,
    "start_time": "2025-04-13T17:10:22.454Z"
   },
   {
    "duration": 445,
    "start_time": "2025-04-13T17:12:03.471Z"
   },
   {
    "duration": 178,
    "start_time": "2025-04-13T17:12:12.354Z"
   },
   {
    "duration": 148,
    "start_time": "2025-04-13T17:12:39.659Z"
   },
   {
    "duration": 345,
    "start_time": "2025-04-13T17:13:10.087Z"
   },
   {
    "duration": 161,
    "start_time": "2025-04-13T17:13:48.987Z"
   },
   {
    "duration": 143,
    "start_time": "2025-04-13T17:13:55.193Z"
   },
   {
    "duration": 680,
    "start_time": "2025-04-13T17:14:37.956Z"
   },
   {
    "duration": 213,
    "start_time": "2025-04-13T17:14:58.963Z"
   },
   {
    "duration": 85,
    "start_time": "2025-04-13T17:15:50.437Z"
   },
   {
    "duration": 130,
    "start_time": "2025-04-13T17:15:53.208Z"
   },
   {
    "duration": 42,
    "start_time": "2025-04-13T17:15:54.759Z"
   },
   {
    "duration": 211,
    "start_time": "2025-04-13T17:16:00.696Z"
   },
   {
    "duration": 1910,
    "start_time": "2025-04-22T15:05:41.571Z"
   },
   {
    "duration": 0,
    "start_time": "2025-04-22T15:05:43.483Z"
   },
   {
    "duration": 0,
    "start_time": "2025-04-22T15:05:43.485Z"
   },
   {
    "duration": 0,
    "start_time": "2025-04-22T15:05:43.486Z"
   },
   {
    "duration": 0,
    "start_time": "2025-04-22T15:05:43.487Z"
   },
   {
    "duration": 0,
    "start_time": "2025-04-22T15:05:43.488Z"
   },
   {
    "duration": 0,
    "start_time": "2025-04-22T15:05:43.489Z"
   },
   {
    "duration": 0,
    "start_time": "2025-04-22T15:05:43.491Z"
   },
   {
    "duration": 0,
    "start_time": "2025-04-22T15:05:43.505Z"
   },
   {
    "duration": 0,
    "start_time": "2025-04-22T15:05:43.507Z"
   },
   {
    "duration": 1,
    "start_time": "2025-04-22T15:05:43.509Z"
   },
   {
    "duration": 0,
    "start_time": "2025-04-22T15:05:43.511Z"
   },
   {
    "duration": 0,
    "start_time": "2025-04-22T15:05:43.514Z"
   },
   {
    "duration": 0,
    "start_time": "2025-04-22T15:05:43.515Z"
   },
   {
    "duration": 1,
    "start_time": "2025-04-22T15:05:43.517Z"
   },
   {
    "duration": 0,
    "start_time": "2025-04-22T15:05:43.519Z"
   },
   {
    "duration": 0,
    "start_time": "2025-04-22T15:05:43.522Z"
   },
   {
    "duration": 0,
    "start_time": "2025-04-22T15:05:43.523Z"
   },
   {
    "duration": 0,
    "start_time": "2025-04-22T15:05:43.525Z"
   },
   {
    "duration": 1396,
    "start_time": "2025-04-22T15:06:29.159Z"
   },
   {
    "duration": 0,
    "start_time": "2025-04-22T15:06:30.557Z"
   },
   {
    "duration": 0,
    "start_time": "2025-04-22T15:06:30.558Z"
   },
   {
    "duration": 0,
    "start_time": "2025-04-22T15:06:30.560Z"
   },
   {
    "duration": 0,
    "start_time": "2025-04-22T15:06:30.561Z"
   },
   {
    "duration": 0,
    "start_time": "2025-04-22T15:06:30.562Z"
   },
   {
    "duration": 0,
    "start_time": "2025-04-22T15:06:30.564Z"
   },
   {
    "duration": 0,
    "start_time": "2025-04-22T15:06:30.565Z"
   },
   {
    "duration": 0,
    "start_time": "2025-04-22T15:06:30.566Z"
   },
   {
    "duration": 0,
    "start_time": "2025-04-22T15:06:30.568Z"
   },
   {
    "duration": 0,
    "start_time": "2025-04-22T15:06:30.569Z"
   },
   {
    "duration": 0,
    "start_time": "2025-04-22T15:06:30.571Z"
   },
   {
    "duration": 0,
    "start_time": "2025-04-22T15:06:30.573Z"
   },
   {
    "duration": 0,
    "start_time": "2025-04-22T15:06:30.575Z"
   },
   {
    "duration": 0,
    "start_time": "2025-04-22T15:06:30.576Z"
   },
   {
    "duration": 0,
    "start_time": "2025-04-22T15:06:30.605Z"
   },
   {
    "duration": 0,
    "start_time": "2025-04-22T15:06:30.606Z"
   },
   {
    "duration": 0,
    "start_time": "2025-04-22T15:06:30.608Z"
   },
   {
    "duration": 0,
    "start_time": "2025-04-22T15:06:30.609Z"
   },
   {
    "duration": 1331,
    "start_time": "2025-04-22T15:06:47.159Z"
   },
   {
    "duration": 1818,
    "start_time": "2025-04-22T15:06:48.492Z"
   },
   {
    "duration": 409,
    "start_time": "2025-04-22T15:06:50.311Z"
   },
   {
    "duration": 80,
    "start_time": "2025-04-22T15:06:50.722Z"
   },
   {
    "duration": 507,
    "start_time": "2025-04-22T15:06:50.804Z"
   },
   {
    "duration": 250,
    "start_time": "2025-04-22T15:06:51.313Z"
   },
   {
    "duration": 237,
    "start_time": "2025-04-22T15:06:51.565Z"
   },
   {
    "duration": 368,
    "start_time": "2025-04-22T15:06:51.804Z"
   },
   {
    "duration": 209,
    "start_time": "2025-04-22T15:06:52.175Z"
   },
   {
    "duration": 156,
    "start_time": "2025-04-22T15:06:52.386Z"
   },
   {
    "duration": 335,
    "start_time": "2025-04-22T15:06:52.545Z"
   },
   {
    "duration": 82,
    "start_time": "2025-04-22T15:06:52.882Z"
   },
   {
    "duration": 164,
    "start_time": "2025-04-22T15:06:52.965Z"
   },
   {
    "duration": 164,
    "start_time": "2025-04-22T15:06:53.132Z"
   },
   {
    "duration": 766,
    "start_time": "2025-04-22T15:06:53.298Z"
   },
   {
    "duration": 300,
    "start_time": "2025-04-22T15:06:54.066Z"
   },
   {
    "duration": 417,
    "start_time": "2025-04-22T15:06:54.368Z"
   },
   {
    "duration": 269,
    "start_time": "2025-04-22T15:06:54.787Z"
   },
   {
    "duration": 225,
    "start_time": "2025-04-22T15:06:55.058Z"
   },
   {
    "duration": 188,
    "start_time": "2025-04-22T15:07:19.862Z"
   },
   {
    "duration": 465,
    "start_time": "2025-04-22T15:08:08.881Z"
   },
   {
    "duration": 229,
    "start_time": "2025-04-22T15:08:38.947Z"
   },
   {
    "duration": 1298,
    "start_time": "2025-04-22T15:09:18.199Z"
   },
   {
    "duration": 1983,
    "start_time": "2025-04-22T15:09:19.500Z"
   },
   {
    "duration": 303,
    "start_time": "2025-04-22T15:09:21.485Z"
   },
   {
    "duration": 51,
    "start_time": "2025-04-22T15:09:21.790Z"
   },
   {
    "duration": 396,
    "start_time": "2025-04-22T15:09:21.842Z"
   },
   {
    "duration": 245,
    "start_time": "2025-04-22T15:09:22.240Z"
   },
   {
    "duration": 203,
    "start_time": "2025-04-22T15:09:22.487Z"
   },
   {
    "duration": 341,
    "start_time": "2025-04-22T15:09:22.692Z"
   },
   {
    "duration": 180,
    "start_time": "2025-04-22T15:09:23.035Z"
   },
   {
    "duration": 150,
    "start_time": "2025-04-22T15:09:23.218Z"
   },
   {
    "duration": 315,
    "start_time": "2025-04-22T15:09:23.369Z"
   },
   {
    "duration": 85,
    "start_time": "2025-04-22T15:09:23.686Z"
   },
   {
    "duration": 158,
    "start_time": "2025-04-22T15:09:23.774Z"
   },
   {
    "duration": 153,
    "start_time": "2025-04-22T15:09:23.934Z"
   },
   {
    "duration": 708,
    "start_time": "2025-04-22T15:09:24.089Z"
   },
   {
    "duration": 241,
    "start_time": "2025-04-22T15:09:24.804Z"
   },
   {
    "duration": 570,
    "start_time": "2025-04-22T15:09:25.046Z"
   },
   {
    "duration": 386,
    "start_time": "2025-04-22T15:09:25.618Z"
   },
   {
    "duration": 235,
    "start_time": "2025-04-22T15:09:26.006Z"
   },
   {
    "duration": 202,
    "start_time": "2025-04-22T15:09:26.242Z"
   },
   {
    "duration": 278,
    "start_time": "2025-04-22T15:09:43.227Z"
   },
   {
    "duration": 194,
    "start_time": "2025-04-22T15:10:01.993Z"
   },
   {
    "duration": 1478,
    "start_time": "2025-04-23T14:21:09.777Z"
   },
   {
    "duration": 2111,
    "start_time": "2025-04-23T14:21:11.257Z"
   },
   {
    "duration": 352,
    "start_time": "2025-04-23T14:21:13.370Z"
   },
   {
    "duration": 70,
    "start_time": "2025-04-23T14:21:13.725Z"
   },
   {
    "duration": 437,
    "start_time": "2025-04-23T14:21:13.797Z"
   },
   {
    "duration": 245,
    "start_time": "2025-04-23T14:21:14.236Z"
   },
   {
    "duration": 235,
    "start_time": "2025-04-23T14:21:14.483Z"
   },
   {
    "duration": 374,
    "start_time": "2025-04-23T14:21:14.720Z"
   },
   {
    "duration": 190,
    "start_time": "2025-04-23T14:21:15.097Z"
   },
   {
    "duration": 154,
    "start_time": "2025-04-23T14:21:15.290Z"
   },
   {
    "duration": 330,
    "start_time": "2025-04-23T14:21:15.446Z"
   },
   {
    "duration": 85,
    "start_time": "2025-04-23T14:21:15.779Z"
   },
   {
    "duration": 164,
    "start_time": "2025-04-23T14:21:15.866Z"
   },
   {
    "duration": 161,
    "start_time": "2025-04-23T14:21:16.032Z"
   },
   {
    "duration": 764,
    "start_time": "2025-04-23T14:21:16.194Z"
   },
   {
    "duration": 266,
    "start_time": "2025-04-23T14:21:16.961Z"
   },
   {
    "duration": 346,
    "start_time": "2025-04-23T14:21:17.229Z"
   },
   {
    "duration": 399,
    "start_time": "2025-04-23T14:21:17.577Z"
   },
   {
    "duration": 264,
    "start_time": "2025-04-23T14:21:17.978Z"
   },
   {
    "duration": 225,
    "start_time": "2025-04-23T14:21:18.243Z"
   },
   {
    "duration": 29,
    "start_time": "2025-04-23T14:21:24.821Z"
   },
   {
    "duration": 36,
    "start_time": "2025-04-23T14:21:30.940Z"
   },
   {
    "duration": 82,
    "start_time": "2025-04-23T14:25:23.217Z"
   },
   {
    "duration": 84,
    "start_time": "2025-04-23T14:25:31.367Z"
   },
   {
    "duration": 29,
    "start_time": "2025-04-23T14:25:44.438Z"
   },
   {
    "duration": 82,
    "start_time": "2025-04-23T14:25:45.091Z"
   },
   {
    "duration": 8,
    "start_time": "2025-04-23T14:51:53.511Z"
   },
   {
    "duration": 10,
    "start_time": "2025-04-23T14:52:00.694Z"
   },
   {
    "duration": 7,
    "start_time": "2025-04-23T14:52:23.610Z"
   },
   {
    "duration": 160,
    "start_time": "2025-04-23T14:53:21.442Z"
   },
   {
    "duration": 151,
    "start_time": "2025-04-23T14:53:26.409Z"
   },
   {
    "duration": 153,
    "start_time": "2025-04-23T14:55:46.926Z"
   },
   {
    "duration": 146,
    "start_time": "2025-04-23T14:56:20.467Z"
   },
   {
    "duration": 152,
    "start_time": "2025-04-23T14:56:59.243Z"
   },
   {
    "duration": 80,
    "start_time": "2025-04-23T15:08:10.392Z"
   },
   {
    "duration": 82,
    "start_time": "2025-04-23T15:08:15.786Z"
   },
   {
    "duration": 367,
    "start_time": "2025-04-23T15:09:41.667Z"
   },
   {
    "duration": 345,
    "start_time": "2025-04-23T15:10:00.850Z"
   },
   {
    "duration": 309,
    "start_time": "2025-04-23T15:10:11.224Z"
   },
   {
    "duration": 330,
    "start_time": "2025-04-23T15:10:22.483Z"
   },
   {
    "duration": 13,
    "start_time": "2025-04-23T15:13:41.107Z"
   },
   {
    "duration": 60,
    "start_time": "2025-04-23T15:16:33.033Z"
   },
   {
    "duration": 259,
    "start_time": "2025-04-23T15:16:48.356Z"
   },
   {
    "duration": 213,
    "start_time": "2025-04-23T15:16:57.684Z"
   },
   {
    "duration": 234,
    "start_time": "2025-04-23T15:17:06.318Z"
   },
   {
    "duration": 327,
    "start_time": "2025-04-23T15:17:16.036Z"
   },
   {
    "duration": 234,
    "start_time": "2025-04-23T15:17:21.301Z"
   },
   {
    "duration": 133,
    "start_time": "2025-04-23T15:27:19.351Z"
   },
   {
    "duration": 12,
    "start_time": "2025-04-23T15:31:15.468Z"
   },
   {
    "duration": 59,
    "start_time": "2025-04-23T15:31:24.849Z"
   },
   {
    "duration": 19,
    "start_time": "2025-04-23T15:31:54.566Z"
   },
   {
    "duration": 1274,
    "start_time": "2025-04-23T16:30:10.746Z"
   },
   {
    "duration": 1747,
    "start_time": "2025-04-23T16:30:12.022Z"
   },
   {
    "duration": 335,
    "start_time": "2025-04-23T16:30:13.771Z"
   },
   {
    "duration": 70,
    "start_time": "2025-04-23T16:30:14.108Z"
   },
   {
    "duration": 441,
    "start_time": "2025-04-23T16:30:14.179Z"
   },
   {
    "duration": 249,
    "start_time": "2025-04-23T16:30:14.622Z"
   },
   {
    "duration": 222,
    "start_time": "2025-04-23T16:30:14.873Z"
   },
   {
    "duration": 378,
    "start_time": "2025-04-23T16:30:15.097Z"
   },
   {
    "duration": 193,
    "start_time": "2025-04-23T16:30:15.477Z"
   },
   {
    "duration": 203,
    "start_time": "2025-04-23T16:30:15.673Z"
   },
   {
    "duration": 326,
    "start_time": "2025-04-23T16:30:15.879Z"
   },
   {
    "duration": 79,
    "start_time": "2025-04-23T16:30:16.207Z"
   },
   {
    "duration": 163,
    "start_time": "2025-04-23T16:30:16.288Z"
   },
   {
    "duration": 162,
    "start_time": "2025-04-23T16:30:16.453Z"
   },
   {
    "duration": 767,
    "start_time": "2025-04-23T16:30:16.618Z"
   },
   {
    "duration": 274,
    "start_time": "2025-04-23T16:30:17.387Z"
   },
   {
    "duration": 341,
    "start_time": "2025-04-23T16:30:17.663Z"
   },
   {
    "duration": 397,
    "start_time": "2025-04-23T16:30:18.006Z"
   },
   {
    "duration": 278,
    "start_time": "2025-04-23T16:30:18.404Z"
   },
   {
    "duration": 210,
    "start_time": "2025-04-23T16:30:18.685Z"
   },
   {
    "duration": 118,
    "start_time": "2025-04-23T16:30:18.897Z"
   },
   {
    "duration": 25,
    "start_time": "2025-04-23T16:30:19.017Z"
   },
   {
    "duration": 38,
    "start_time": "2025-04-23T16:30:19.064Z"
   },
   {
    "duration": 101,
    "start_time": "2025-04-23T16:30:19.105Z"
   },
   {
    "duration": 10,
    "start_time": "2025-04-23T16:30:19.209Z"
   },
   {
    "duration": 197,
    "start_time": "2025-04-23T16:30:19.222Z"
   },
   {
    "duration": 370,
    "start_time": "2025-04-23T16:30:19.421Z"
   },
   {
    "duration": 248,
    "start_time": "2025-04-23T16:30:19.795Z"
   },
   {
    "duration": 6,
    "start_time": "2025-04-23T16:36:28.741Z"
   },
   {
    "duration": 1320,
    "start_time": "2025-04-23T16:37:16.432Z"
   },
   {
    "duration": 1697,
    "start_time": "2025-04-23T16:37:17.754Z"
   },
   {
    "duration": 279,
    "start_time": "2025-04-23T16:37:19.453Z"
   },
   {
    "duration": 54,
    "start_time": "2025-04-23T16:37:19.735Z"
   },
   {
    "duration": 439,
    "start_time": "2025-04-23T16:37:19.791Z"
   },
   {
    "duration": 245,
    "start_time": "2025-04-23T16:37:20.232Z"
   },
   {
    "duration": 219,
    "start_time": "2025-04-23T16:37:20.479Z"
   },
   {
    "duration": 398,
    "start_time": "2025-04-23T16:37:20.701Z"
   },
   {
    "duration": 192,
    "start_time": "2025-04-23T16:37:21.101Z"
   },
   {
    "duration": 160,
    "start_time": "2025-04-23T16:37:21.297Z"
   },
   {
    "duration": 332,
    "start_time": "2025-04-23T16:37:21.460Z"
   },
   {
    "duration": 83,
    "start_time": "2025-04-23T16:37:21.794Z"
   },
   {
    "duration": 162,
    "start_time": "2025-04-23T16:37:21.879Z"
   },
   {
    "duration": 166,
    "start_time": "2025-04-23T16:37:22.043Z"
   },
   {
    "duration": 751,
    "start_time": "2025-04-23T16:37:22.211Z"
   },
   {
    "duration": 313,
    "start_time": "2025-04-23T16:37:22.964Z"
   },
   {
    "duration": 359,
    "start_time": "2025-04-23T16:37:23.279Z"
   },
   {
    "duration": 420,
    "start_time": "2025-04-23T16:37:23.640Z"
   },
   {
    "duration": 263,
    "start_time": "2025-04-23T16:37:24.062Z"
   },
   {
    "duration": 214,
    "start_time": "2025-04-23T16:37:24.327Z"
   },
   {
    "duration": 110,
    "start_time": "2025-04-23T16:37:24.560Z"
   },
   {
    "duration": 26,
    "start_time": "2025-04-23T16:37:24.673Z"
   },
   {
    "duration": 42,
    "start_time": "2025-04-23T16:37:24.701Z"
   },
   {
    "duration": 31,
    "start_time": "2025-04-23T16:37:24.745Z"
   },
   {
    "duration": 94,
    "start_time": "2025-04-23T16:37:24.777Z"
   },
   {
    "duration": 8,
    "start_time": "2025-04-23T16:37:24.873Z"
   },
   {
    "duration": 174,
    "start_time": "2025-04-23T16:37:24.883Z"
   },
   {
    "duration": 383,
    "start_time": "2025-04-23T16:37:25.062Z"
   },
   {
    "duration": 318,
    "start_time": "2025-04-23T16:37:25.447Z"
   },
   {
    "duration": 70,
    "start_time": "2025-04-23T16:41:01.000Z"
   },
   {
    "duration": 16,
    "start_time": "2025-04-23T16:41:55.735Z"
   },
   {
    "duration": 221,
    "start_time": "2025-04-23T16:45:40.858Z"
   },
   {
    "duration": 430,
    "start_time": "2025-04-23T16:46:42.187Z"
   },
   {
    "duration": 350,
    "start_time": "2025-04-23T16:47:01.317Z"
   },
   {
    "duration": 214,
    "start_time": "2025-04-23T16:47:06.332Z"
   },
   {
    "duration": 234,
    "start_time": "2025-04-23T16:47:13.366Z"
   },
   {
    "duration": 272,
    "start_time": "2025-04-23T16:47:23.440Z"
   },
   {
    "duration": 217,
    "start_time": "2025-04-23T16:57:40.385Z"
   },
   {
    "duration": 150,
    "start_time": "2025-04-23T16:57:50.549Z"
   },
   {
    "duration": 18,
    "start_time": "2025-04-23T16:58:06.316Z"
   },
   {
    "duration": 302,
    "start_time": "2025-04-23T16:59:09.727Z"
   },
   {
    "duration": 305,
    "start_time": "2025-04-23T16:59:36.066Z"
   },
   {
    "duration": 64,
    "start_time": "2025-04-23T17:00:18.098Z"
   },
   {
    "duration": 1244,
    "start_time": "2025-04-23T17:00:28.384Z"
   },
   {
    "duration": 1669,
    "start_time": "2025-04-23T17:00:29.630Z"
   },
   {
    "duration": 398,
    "start_time": "2025-04-23T17:00:31.301Z"
   },
   {
    "duration": 47,
    "start_time": "2025-04-23T17:00:31.701Z"
   },
   {
    "duration": 477,
    "start_time": "2025-04-23T17:00:31.759Z"
   },
   {
    "duration": 237,
    "start_time": "2025-04-23T17:00:32.238Z"
   },
   {
    "duration": 228,
    "start_time": "2025-04-23T17:00:32.477Z"
   },
   {
    "duration": 359,
    "start_time": "2025-04-23T17:00:32.707Z"
   },
   {
    "duration": 198,
    "start_time": "2025-04-23T17:00:33.068Z"
   },
   {
    "duration": 158,
    "start_time": "2025-04-23T17:00:33.268Z"
   },
   {
    "duration": 334,
    "start_time": "2025-04-23T17:00:33.428Z"
   },
   {
    "duration": 73,
    "start_time": "2025-04-23T17:00:33.764Z"
   },
   {
    "duration": 169,
    "start_time": "2025-04-23T17:00:33.838Z"
   },
   {
    "duration": 161,
    "start_time": "2025-04-23T17:00:34.010Z"
   },
   {
    "duration": 797,
    "start_time": "2025-04-23T17:00:34.173Z"
   },
   {
    "duration": 271,
    "start_time": "2025-04-23T17:00:34.972Z"
   },
   {
    "duration": 381,
    "start_time": "2025-04-23T17:00:35.246Z"
   },
   {
    "duration": 444,
    "start_time": "2025-04-23T17:00:35.629Z"
   },
   {
    "duration": 268,
    "start_time": "2025-04-23T17:00:36.075Z"
   },
   {
    "duration": 216,
    "start_time": "2025-04-23T17:00:36.345Z"
   },
   {
    "duration": 63,
    "start_time": "2025-04-23T17:00:36.563Z"
   },
   {
    "duration": 36,
    "start_time": "2025-04-23T17:00:36.628Z"
   },
   {
    "duration": 475,
    "start_time": "2025-04-23T17:00:36.666Z"
   },
   {
    "duration": 85,
    "start_time": "2025-04-23T17:00:37.143Z"
   },
   {
    "duration": 330,
    "start_time": "2025-04-23T17:00:37.230Z"
   },
   {
    "duration": 6,
    "start_time": "2025-04-23T17:00:37.562Z"
   },
   {
    "duration": 22,
    "start_time": "2025-04-23T17:00:37.570Z"
   },
   {
    "duration": 82,
    "start_time": "2025-04-23T17:00:37.594Z"
   },
   {
    "duration": 7,
    "start_time": "2025-04-23T17:00:37.678Z"
   },
   {
    "duration": 184,
    "start_time": "2025-04-23T17:00:37.687Z"
   },
   {
    "duration": 332,
    "start_time": "2025-04-23T17:00:37.873Z"
   },
   {
    "duration": 238,
    "start_time": "2025-04-23T17:00:38.207Z"
   },
   {
    "duration": 371,
    "start_time": "2025-04-23T17:04:33.223Z"
   },
   {
    "duration": 232,
    "start_time": "2025-04-23T17:04:45.186Z"
   },
   {
    "duration": 249,
    "start_time": "2025-04-23T17:07:59.259Z"
   },
   {
    "duration": 257,
    "start_time": "2025-04-23T17:08:32.020Z"
   },
   {
    "duration": 239,
    "start_time": "2025-04-23T17:09:46.689Z"
   },
   {
    "duration": 248,
    "start_time": "2025-04-23T17:10:36.008Z"
   },
   {
    "duration": 317,
    "start_time": "2025-04-23T17:10:49.157Z"
   },
   {
    "duration": 305,
    "start_time": "2025-04-23T17:10:58.052Z"
   },
   {
    "duration": 17,
    "start_time": "2025-04-23T17:13:08.950Z"
   },
   {
    "duration": 38,
    "start_time": "2025-04-23T17:22:00.486Z"
   },
   {
    "duration": 40,
    "start_time": "2025-04-23T17:22:05.624Z"
   },
   {
    "duration": 39,
    "start_time": "2025-04-23T17:24:33.854Z"
   },
   {
    "duration": 38,
    "start_time": "2025-04-23T17:25:11.221Z"
   },
   {
    "duration": 70,
    "start_time": "2025-04-23T17:27:52.146Z"
   },
   {
    "duration": 193,
    "start_time": "2025-04-23T17:32:08.574Z"
   },
   {
    "duration": 24,
    "start_time": "2025-04-23T17:32:30.207Z"
   },
   {
    "duration": 6,
    "start_time": "2025-04-23T17:32:43.494Z"
   },
   {
    "duration": 335,
    "start_time": "2025-04-23T17:33:00.840Z"
   },
   {
    "duration": 27,
    "start_time": "2025-04-23T17:33:44.391Z"
   },
   {
    "duration": 23,
    "start_time": "2025-04-23T17:34:03.440Z"
   },
   {
    "duration": 7,
    "start_time": "2025-04-23T17:34:16.924Z"
   },
   {
    "duration": 207,
    "start_time": "2025-04-23T17:35:57.996Z"
   },
   {
    "duration": 325,
    "start_time": "2025-04-23T17:36:46.876Z"
   },
   {
    "duration": 7,
    "start_time": "2025-04-23T17:37:00.780Z"
   },
   {
    "duration": 457,
    "start_time": "2025-04-23T17:37:02.579Z"
   },
   {
    "duration": 325,
    "start_time": "2025-04-23T17:37:53.828Z"
   },
   {
    "duration": 371,
    "start_time": "2025-04-23T17:38:47.181Z"
   },
   {
    "duration": 1421,
    "start_time": "2025-04-23T17:55:20.782Z"
   },
   {
    "duration": 2313,
    "start_time": "2025-04-23T17:55:22.205Z"
   },
   {
    "duration": 373,
    "start_time": "2025-04-23T17:55:24.519Z"
   },
   {
    "duration": 61,
    "start_time": "2025-04-23T17:55:24.895Z"
   },
   {
    "duration": 490,
    "start_time": "2025-04-23T17:55:24.958Z"
   },
   {
    "duration": 312,
    "start_time": "2025-04-23T17:55:25.451Z"
   },
   {
    "duration": 344,
    "start_time": "2025-04-23T17:55:25.765Z"
   },
   {
    "duration": 456,
    "start_time": "2025-04-23T17:55:26.111Z"
   },
   {
    "duration": 213,
    "start_time": "2025-04-23T17:55:26.569Z"
   },
   {
    "duration": 160,
    "start_time": "2025-04-23T17:55:26.792Z"
   },
   {
    "duration": 356,
    "start_time": "2025-04-23T17:55:26.954Z"
   },
   {
    "duration": 94,
    "start_time": "2025-04-23T17:55:27.312Z"
   },
   {
    "duration": 180,
    "start_time": "2025-04-23T17:55:27.408Z"
   },
   {
    "duration": 196,
    "start_time": "2025-04-23T17:55:27.591Z"
   },
   {
    "duration": 886,
    "start_time": "2025-04-23T17:55:27.789Z"
   },
   {
    "duration": 309,
    "start_time": "2025-04-23T17:55:28.677Z"
   },
   {
    "duration": 412,
    "start_time": "2025-04-23T17:55:28.988Z"
   },
   {
    "duration": 437,
    "start_time": "2025-04-23T17:55:29.403Z"
   },
   {
    "duration": 283,
    "start_time": "2025-04-23T17:55:29.842Z"
   },
   {
    "duration": 268,
    "start_time": "2025-04-23T17:55:30.127Z"
   },
   {
    "duration": 84,
    "start_time": "2025-04-23T17:55:30.398Z"
   },
   {
    "duration": 23,
    "start_time": "2025-04-23T17:55:30.487Z"
   },
   {
    "duration": 521,
    "start_time": "2025-04-23T17:55:30.511Z"
   },
   {
    "duration": 93,
    "start_time": "2025-04-23T17:55:31.035Z"
   },
   {
    "duration": 373,
    "start_time": "2025-04-23T17:55:31.131Z"
   },
   {
    "duration": 8,
    "start_time": "2025-04-23T17:55:31.506Z"
   },
   {
    "duration": 45,
    "start_time": "2025-04-23T17:55:31.517Z"
   },
   {
    "duration": 79,
    "start_time": "2025-04-23T17:55:31.566Z"
   },
   {
    "duration": 19,
    "start_time": "2025-04-23T17:55:31.646Z"
   },
   {
    "duration": 212,
    "start_time": "2025-04-23T17:55:31.676Z"
   },
   {
    "duration": 337,
    "start_time": "2025-04-23T17:55:31.890Z"
   },
   {
    "duration": 282,
    "start_time": "2025-04-23T17:55:32.228Z"
   },
   {
    "duration": 390,
    "start_time": "2025-04-23T17:55:32.512Z"
   },
   {
    "duration": 212,
    "start_time": "2025-04-23T17:55:32.904Z"
   },
   {
    "duration": 24,
    "start_time": "2025-04-23T17:55:33.118Z"
   },
   {
    "duration": 33,
    "start_time": "2025-04-23T17:55:33.144Z"
   },
   {
    "duration": 367,
    "start_time": "2025-04-23T17:55:33.184Z"
   },
   {
    "duration": 1367,
    "start_time": "2025-04-24T09:33:39.486Z"
   },
   {
    "duration": 1775,
    "start_time": "2025-04-24T09:33:40.855Z"
   },
   {
    "duration": 389,
    "start_time": "2025-04-24T09:33:42.632Z"
   },
   {
    "duration": 116,
    "start_time": "2025-04-24T09:33:43.024Z"
   },
   {
    "duration": 372,
    "start_time": "2025-04-24T09:33:43.143Z"
   },
   {
    "duration": 225,
    "start_time": "2025-04-24T09:33:43.517Z"
   },
   {
    "duration": 197,
    "start_time": "2025-04-24T09:33:43.744Z"
   },
   {
    "duration": 353,
    "start_time": "2025-04-24T09:33:43.943Z"
   },
   {
    "duration": 197,
    "start_time": "2025-04-24T09:33:44.298Z"
   },
   {
    "duration": 150,
    "start_time": "2025-04-24T09:33:44.499Z"
   },
   {
    "duration": 299,
    "start_time": "2025-04-24T09:33:44.651Z"
   },
   {
    "duration": 72,
    "start_time": "2025-04-24T09:33:44.952Z"
   },
   {
    "duration": 159,
    "start_time": "2025-04-24T09:33:45.026Z"
   },
   {
    "duration": 164,
    "start_time": "2025-04-24T09:33:45.187Z"
   },
   {
    "duration": 667,
    "start_time": "2025-04-24T09:33:45.352Z"
   },
   {
    "duration": 239,
    "start_time": "2025-04-24T09:33:46.021Z"
   },
   {
    "duration": 330,
    "start_time": "2025-04-24T09:33:46.262Z"
   },
   {
    "duration": 369,
    "start_time": "2025-04-24T09:33:46.593Z"
   },
   {
    "duration": 231,
    "start_time": "2025-04-24T09:33:46.964Z"
   },
   {
    "duration": 243,
    "start_time": "2025-04-24T09:33:47.196Z"
   },
   {
    "duration": 71,
    "start_time": "2025-04-24T09:33:47.441Z"
   },
   {
    "duration": 18,
    "start_time": "2025-04-24T09:33:47.514Z"
   },
   {
    "duration": 397,
    "start_time": "2025-04-24T09:33:47.533Z"
   },
   {
    "duration": 76,
    "start_time": "2025-04-24T09:33:47.932Z"
   },
   {
    "duration": 282,
    "start_time": "2025-04-24T09:33:48.010Z"
   },
   {
    "duration": 4,
    "start_time": "2025-04-24T09:33:48.294Z"
   },
   {
    "duration": 34,
    "start_time": "2025-04-24T09:33:48.300Z"
   },
   {
    "duration": 66,
    "start_time": "2025-04-24T09:33:48.337Z"
   },
   {
    "duration": 6,
    "start_time": "2025-04-24T09:33:48.405Z"
   },
   {
    "duration": 171,
    "start_time": "2025-04-24T09:33:48.412Z"
   },
   {
    "duration": 299,
    "start_time": "2025-04-24T09:33:48.584Z"
   },
   {
    "duration": 217,
    "start_time": "2025-04-24T09:33:48.884Z"
   },
   {
    "duration": 314,
    "start_time": "2025-04-24T09:33:49.103Z"
   },
   {
    "duration": 185,
    "start_time": "2025-04-24T09:33:49.419Z"
   },
   {
    "duration": 22,
    "start_time": "2025-04-24T09:33:49.606Z"
   },
   {
    "duration": 15,
    "start_time": "2025-04-24T09:33:49.629Z"
   },
   {
    "duration": 335,
    "start_time": "2025-04-24T09:33:49.646Z"
   },
   {
    "duration": 108,
    "start_time": "2025-04-24T09:43:49.901Z"
   },
   {
    "duration": 110,
    "start_time": "2025-04-24T09:44:51.116Z"
   },
   {
    "duration": 119,
    "start_time": "2025-04-24T09:44:59.158Z"
   },
   {
    "duration": 133,
    "start_time": "2025-04-24T09:53:09.690Z"
   },
   {
    "duration": 140,
    "start_time": "2025-04-24T09:53:22.669Z"
   },
   {
    "duration": 1072,
    "start_time": "2025-04-24T09:55:27.624Z"
   },
   {
    "duration": 1095,
    "start_time": "2025-04-24T09:55:38.436Z"
   },
   {
    "duration": 160,
    "start_time": "2025-04-24T09:59:56.395Z"
   },
   {
    "duration": 115,
    "start_time": "2025-04-24T10:02:46.788Z"
   },
   {
    "duration": 405,
    "start_time": "2025-04-24T10:03:33.086Z"
   },
   {
    "duration": 210,
    "start_time": "2025-04-24T10:03:51.352Z"
   },
   {
    "duration": 220,
    "start_time": "2025-04-24T10:04:47.234Z"
   },
   {
    "duration": 203,
    "start_time": "2025-04-24T10:04:58.859Z"
   },
   {
    "duration": 215,
    "start_time": "2025-04-24T10:05:13.960Z"
   },
   {
    "duration": 210,
    "start_time": "2025-04-24T10:07:22.367Z"
   },
   {
    "duration": 208,
    "start_time": "2025-04-24T10:07:30.902Z"
   },
   {
    "duration": 229,
    "start_time": "2025-04-24T10:09:22.842Z"
   },
   {
    "duration": 212,
    "start_time": "2025-04-24T10:10:10.652Z"
   },
   {
    "duration": 210,
    "start_time": "2025-04-24T10:11:02.652Z"
   },
   {
    "duration": 288,
    "start_time": "2025-04-24T10:11:31.893Z"
   },
   {
    "duration": 132,
    "start_time": "2025-04-24T10:11:45.712Z"
   },
   {
    "duration": 156,
    "start_time": "2025-04-24T10:14:51.621Z"
   },
   {
    "duration": 1295,
    "start_time": "2025-04-24T10:26:18.456Z"
   },
   {
    "duration": 14,
    "start_time": "2025-04-24T10:26:50.600Z"
   },
   {
    "duration": 17,
    "start_time": "2025-04-24T10:27:21.863Z"
   },
   {
    "duration": 179,
    "start_time": "2025-04-24T10:31:50.522Z"
   },
   {
    "duration": 193,
    "start_time": "2025-04-24T10:32:01.502Z"
   },
   {
    "duration": 225,
    "start_time": "2025-04-24T10:32:07.710Z"
   },
   {
    "duration": 175,
    "start_time": "2025-04-24T10:32:24.035Z"
   },
   {
    "duration": 158,
    "start_time": "2025-04-24T10:33:16.453Z"
   },
   {
    "duration": 216,
    "start_time": "2025-04-24T10:34:33.089Z"
   },
   {
    "duration": 233,
    "start_time": "2025-04-24T10:34:35.312Z"
   },
   {
    "duration": 211,
    "start_time": "2025-04-24T10:35:19.470Z"
   },
   {
    "duration": 153,
    "start_time": "2025-04-24T10:35:33.136Z"
   },
   {
    "duration": 168,
    "start_time": "2025-04-24T10:37:02.437Z"
   },
   {
    "duration": 10,
    "start_time": "2025-04-24T12:01:42.616Z"
   },
   {
    "duration": 41,
    "start_time": "2025-04-24T12:02:00.952Z"
   },
   {
    "duration": 46,
    "start_time": "2025-04-24T12:02:05.962Z"
   },
   {
    "duration": 80,
    "start_time": "2025-04-24T12:03:19.426Z"
   },
   {
    "duration": 53,
    "start_time": "2025-04-24T12:03:44.834Z"
   },
   {
    "duration": 47,
    "start_time": "2025-04-24T12:06:01.450Z"
   },
   {
    "duration": 42,
    "start_time": "2025-04-24T12:06:09.621Z"
   },
   {
    "duration": 41,
    "start_time": "2025-04-24T12:06:16.308Z"
   },
   {
    "duration": 11,
    "start_time": "2025-04-24T12:08:54.158Z"
   },
   {
    "duration": 8,
    "start_time": "2025-04-24T12:09:07.412Z"
   },
   {
    "duration": 7,
    "start_time": "2025-04-24T12:09:19.635Z"
   },
   {
    "duration": 8,
    "start_time": "2025-04-24T12:10:21.493Z"
   },
   {
    "duration": 86,
    "start_time": "2025-04-24T12:11:17.150Z"
   },
   {
    "duration": 17,
    "start_time": "2025-04-24T12:11:21.059Z"
   },
   {
    "duration": 7,
    "start_time": "2025-04-24T12:11:33.719Z"
   },
   {
    "duration": 10,
    "start_time": "2025-04-24T12:12:03.534Z"
   },
   {
    "duration": 152,
    "start_time": "2025-04-24T12:14:22.368Z"
   },
   {
    "duration": 145,
    "start_time": "2025-04-24T12:14:32.136Z"
   },
   {
    "duration": 144,
    "start_time": "2025-04-24T12:15:58.703Z"
   },
   {
    "duration": 152,
    "start_time": "2025-04-24T12:16:24.033Z"
   },
   {
    "duration": 159,
    "start_time": "2025-04-24T12:17:16.594Z"
   },
   {
    "duration": 11,
    "start_time": "2025-04-24T12:20:07.395Z"
   },
   {
    "duration": 145,
    "start_time": "2025-04-24T12:22:23.473Z"
   },
   {
    "duration": 33,
    "start_time": "2025-04-24T12:31:49.823Z"
   },
   {
    "duration": 63,
    "start_time": "2025-04-24T12:31:57.395Z"
   },
   {
    "duration": 54,
    "start_time": "2025-04-24T12:32:05.522Z"
   },
   {
    "duration": 6,
    "start_time": "2025-04-24T12:36:20.540Z"
   },
   {
    "duration": 205,
    "start_time": "2025-04-24T12:37:37.188Z"
   },
   {
    "duration": 7,
    "start_time": "2025-04-24T12:39:06.278Z"
   },
   {
    "duration": 161,
    "start_time": "2025-04-24T12:39:23.592Z"
   },
   {
    "duration": 277,
    "start_time": "2025-04-24T12:40:10.681Z"
   },
   {
    "duration": 11,
    "start_time": "2025-04-24T12:42:00.223Z"
   },
   {
    "duration": 11,
    "start_time": "2025-04-24T12:42:25.159Z"
   },
   {
    "duration": 175,
    "start_time": "2025-04-24T12:42:27.839Z"
   },
   {
    "duration": 7,
    "start_time": "2025-04-24T12:42:38.427Z"
   },
   {
    "duration": 165,
    "start_time": "2025-04-24T12:42:41.174Z"
   },
   {
    "duration": 7,
    "start_time": "2025-04-24T12:42:56.736Z"
   },
   {
    "duration": 162,
    "start_time": "2025-04-24T12:43:46.778Z"
   },
   {
    "duration": 9,
    "start_time": "2025-04-24T13:53:00.427Z"
   },
   {
    "duration": 8,
    "start_time": "2025-04-24T13:54:33.586Z"
   },
   {
    "duration": 7,
    "start_time": "2025-04-24T13:54:39.860Z"
   },
   {
    "duration": 13,
    "start_time": "2025-04-24T13:55:20.408Z"
   },
   {
    "duration": 8,
    "start_time": "2025-04-24T13:55:52.859Z"
   },
   {
    "duration": 13,
    "start_time": "2025-04-24T13:56:16.659Z"
   },
   {
    "duration": 10,
    "start_time": "2025-04-24T13:57:38.764Z"
   },
   {
    "duration": 1205,
    "start_time": "2025-04-24T13:57:55.761Z"
   },
   {
    "duration": 1895,
    "start_time": "2025-04-24T13:57:56.969Z"
   },
   {
    "duration": 367,
    "start_time": "2025-04-24T13:57:58.865Z"
   },
   {
    "duration": 73,
    "start_time": "2025-04-24T13:57:59.234Z"
   },
   {
    "duration": 391,
    "start_time": "2025-04-24T13:57:59.308Z"
   },
   {
    "duration": 241,
    "start_time": "2025-04-24T13:57:59.701Z"
   },
   {
    "duration": 205,
    "start_time": "2025-04-24T13:57:59.944Z"
   },
   {
    "duration": 387,
    "start_time": "2025-04-24T13:58:00.152Z"
   },
   {
    "duration": 195,
    "start_time": "2025-04-24T13:58:00.541Z"
   },
   {
    "duration": 148,
    "start_time": "2025-04-24T13:58:00.739Z"
   },
   {
    "duration": 308,
    "start_time": "2025-04-24T13:58:00.889Z"
   },
   {
    "duration": 78,
    "start_time": "2025-04-24T13:58:01.199Z"
   },
   {
    "duration": 156,
    "start_time": "2025-04-24T13:58:01.279Z"
   },
   {
    "duration": 158,
    "start_time": "2025-04-24T13:58:01.436Z"
   },
   {
    "duration": 729,
    "start_time": "2025-04-24T13:58:01.596Z"
   },
   {
    "duration": 242,
    "start_time": "2025-04-24T13:58:02.327Z"
   },
   {
    "duration": 321,
    "start_time": "2025-04-24T13:58:02.571Z"
   },
   {
    "duration": 424,
    "start_time": "2025-04-24T13:58:02.894Z"
   },
   {
    "duration": 251,
    "start_time": "2025-04-24T13:58:03.320Z"
   },
   {
    "duration": 218,
    "start_time": "2025-04-24T13:58:03.573Z"
   },
   {
    "duration": 71,
    "start_time": "2025-04-24T13:58:03.793Z"
   },
   {
    "duration": 18,
    "start_time": "2025-04-24T13:58:03.865Z"
   },
   {
    "duration": 413,
    "start_time": "2025-04-24T13:58:03.884Z"
   },
   {
    "duration": 82,
    "start_time": "2025-04-24T13:58:04.299Z"
   },
   {
    "duration": 298,
    "start_time": "2025-04-24T13:58:04.382Z"
   },
   {
    "duration": 10,
    "start_time": "2025-04-24T13:58:04.681Z"
   },
   {
    "duration": 41,
    "start_time": "2025-04-24T13:58:04.693Z"
   },
   {
    "duration": 72,
    "start_time": "2025-04-24T13:58:04.740Z"
   },
   {
    "duration": 6,
    "start_time": "2025-04-24T13:58:04.814Z"
   },
   {
    "duration": 208,
    "start_time": "2025-04-24T13:58:04.822Z"
   },
   {
    "duration": 309,
    "start_time": "2025-04-24T13:58:05.032Z"
   },
   {
    "duration": 240,
    "start_time": "2025-04-24T13:58:05.343Z"
   },
   {
    "duration": 335,
    "start_time": "2025-04-24T13:58:05.585Z"
   },
   {
    "duration": 186,
    "start_time": "2025-04-24T13:58:05.922Z"
   },
   {
    "duration": 37,
    "start_time": "2025-04-24T13:58:06.109Z"
   },
   {
    "duration": 16,
    "start_time": "2025-04-24T13:58:06.148Z"
   },
   {
    "duration": 338,
    "start_time": "2025-04-24T13:58:06.166Z"
   },
   {
    "duration": 187,
    "start_time": "2025-04-24T13:58:06.506Z"
   },
   {
    "duration": 315,
    "start_time": "2025-04-24T13:58:06.695Z"
   },
   {
    "duration": 359,
    "start_time": "2025-04-24T13:58:07.011Z"
   },
   {
    "duration": 246,
    "start_time": "2025-04-24T13:58:07.372Z"
   },
   {
    "duration": 12,
    "start_time": "2025-04-24T13:58:07.620Z"
   },
   {
    "duration": 177,
    "start_time": "2025-04-24T13:58:07.633Z"
   },
   {
    "duration": 187,
    "start_time": "2025-04-24T13:58:07.811Z"
   },
   {
    "duration": 67,
    "start_time": "2025-04-24T13:58:08.000Z"
   },
   {
    "duration": 7,
    "start_time": "2025-04-24T13:58:08.069Z"
   },
   {
    "duration": 167,
    "start_time": "2025-04-24T13:58:08.077Z"
   },
   {
    "duration": 18,
    "start_time": "2025-04-24T13:58:08.246Z"
   },
   {
    "duration": 163,
    "start_time": "2025-04-24T13:58:08.265Z"
   },
   {
    "duration": 7,
    "start_time": "2025-04-24T13:58:08.430Z"
   },
   {
    "duration": 69,
    "start_time": "2025-04-24T13:58:08.439Z"
   },
   {
    "duration": 35,
    "start_time": "2025-04-24T13:58:08.510Z"
   },
   {
    "duration": 165,
    "start_time": "2025-04-24T13:58:08.546Z"
   },
   {
    "duration": 7,
    "start_time": "2025-04-24T13:58:08.713Z"
   },
   {
    "duration": 265,
    "start_time": "2025-04-24T13:58:08.722Z"
   },
   {
    "duration": 7,
    "start_time": "2025-04-24T13:58:08.989Z"
   },
   {
    "duration": 184,
    "start_time": "2025-04-24T13:58:08.997Z"
   },
   {
    "duration": 5,
    "start_time": "2025-04-24T13:58:16.647Z"
   },
   {
    "duration": 1439,
    "start_time": "2025-04-25T12:23:16.113Z"
   },
   {
    "duration": 1430,
    "start_time": "2025-04-25T12:23:17.555Z"
   },
   {
    "duration": 246,
    "start_time": "2025-04-25T12:23:18.986Z"
   },
   {
    "duration": 58,
    "start_time": "2025-04-25T12:23:19.237Z"
   },
   {
    "duration": 385,
    "start_time": "2025-04-25T12:23:19.297Z"
   },
   {
    "duration": 246,
    "start_time": "2025-04-25T12:23:19.684Z"
   },
   {
    "duration": 220,
    "start_time": "2025-04-25T12:23:19.937Z"
   },
   {
    "duration": 388,
    "start_time": "2025-04-25T12:23:20.159Z"
   },
   {
    "duration": 172,
    "start_time": "2025-04-25T12:23:20.549Z"
   },
   {
    "duration": 161,
    "start_time": "2025-04-25T12:23:20.723Z"
   },
   {
    "duration": 309,
    "start_time": "2025-04-25T12:23:20.885Z"
   },
   {
    "duration": 80,
    "start_time": "2025-04-25T12:23:21.195Z"
   },
   {
    "duration": 148,
    "start_time": "2025-04-25T12:23:21.277Z"
   },
   {
    "duration": 158,
    "start_time": "2025-04-25T12:23:21.428Z"
   },
   {
    "duration": 724,
    "start_time": "2025-04-25T12:23:21.587Z"
   },
   {
    "duration": 258,
    "start_time": "2025-04-25T12:23:22.313Z"
   },
   {
    "duration": 322,
    "start_time": "2025-04-25T12:23:22.573Z"
   },
   {
    "duration": 383,
    "start_time": "2025-04-25T12:23:22.897Z"
   },
   {
    "duration": 257,
    "start_time": "2025-04-25T12:23:23.282Z"
   },
   {
    "duration": 209,
    "start_time": "2025-04-25T12:23:23.544Z"
   },
   {
    "duration": 55,
    "start_time": "2025-04-25T12:23:23.755Z"
   },
   {
    "duration": 40,
    "start_time": "2025-04-25T12:23:23.811Z"
   },
   {
    "duration": 431,
    "start_time": "2025-04-25T12:23:23.853Z"
   },
   {
    "duration": 81,
    "start_time": "2025-04-25T12:23:24.286Z"
   },
   {
    "duration": 307,
    "start_time": "2025-04-25T12:23:24.369Z"
   },
   {
    "duration": 7,
    "start_time": "2025-04-25T12:23:24.678Z"
   },
   {
    "duration": 50,
    "start_time": "2025-04-25T12:23:24.688Z"
   },
   {
    "duration": 75,
    "start_time": "2025-04-25T12:23:24.741Z"
   },
   {
    "duration": 6,
    "start_time": "2025-04-25T12:23:24.818Z"
   },
   {
    "duration": 180,
    "start_time": "2025-04-25T12:23:24.825Z"
   },
   {
    "duration": 312,
    "start_time": "2025-04-25T12:23:25.007Z"
   },
   {
    "duration": 245,
    "start_time": "2025-04-25T12:23:25.321Z"
   },
   {
    "duration": 339,
    "start_time": "2025-04-25T12:23:25.568Z"
   },
   {
    "duration": 189,
    "start_time": "2025-04-25T12:23:25.909Z"
   },
   {
    "duration": 23,
    "start_time": "2025-04-25T12:23:26.100Z"
   },
   {
    "duration": 14,
    "start_time": "2025-04-25T12:23:26.125Z"
   },
   {
    "duration": 318,
    "start_time": "2025-04-25T12:23:26.140Z"
   },
   {
    "duration": 168,
    "start_time": "2025-04-25T12:23:26.460Z"
   },
   {
    "duration": 329,
    "start_time": "2025-04-25T12:23:26.630Z"
   },
   {
    "duration": 240,
    "start_time": "2025-04-25T12:23:26.960Z"
   },
   {
    "duration": 240,
    "start_time": "2025-04-25T12:23:27.204Z"
   },
   {
    "duration": 15,
    "start_time": "2025-04-25T12:23:27.448Z"
   },
   {
    "duration": 163,
    "start_time": "2025-04-25T12:23:27.465Z"
   },
   {
    "duration": 183,
    "start_time": "2025-04-25T12:23:27.630Z"
   },
   {
    "duration": 54,
    "start_time": "2025-04-25T12:23:27.814Z"
   },
   {
    "duration": 6,
    "start_time": "2025-04-25T12:23:27.870Z"
   },
   {
    "duration": 178,
    "start_time": "2025-04-25T12:23:27.878Z"
   },
   {
    "duration": 6,
    "start_time": "2025-04-25T12:23:28.058Z"
   },
   {
    "duration": 149,
    "start_time": "2025-04-25T12:23:28.066Z"
   },
   {
    "duration": 7,
    "start_time": "2025-04-25T12:23:28.217Z"
   },
   {
    "duration": 78,
    "start_time": "2025-04-25T12:23:28.238Z"
   },
   {
    "duration": 6,
    "start_time": "2025-04-25T12:23:28.318Z"
   },
   {
    "duration": 228,
    "start_time": "2025-04-25T12:23:28.326Z"
   },
   {
    "duration": 7,
    "start_time": "2025-04-25T12:23:28.556Z"
   },
   {
    "duration": 255,
    "start_time": "2025-04-25T12:23:28.565Z"
   },
   {
    "duration": 7,
    "start_time": "2025-04-25T12:23:28.822Z"
   },
   {
    "duration": 169,
    "start_time": "2025-04-25T12:23:28.841Z"
   },
   {
    "duration": 117,
    "start_time": "2025-04-25T12:23:38.610Z"
   },
   {
    "duration": 50,
    "start_time": "2025-04-25T12:23:49.924Z"
   },
   {
    "duration": 40,
    "start_time": "2025-04-25T12:26:24.007Z"
   },
   {
    "duration": 142,
    "start_time": "2025-04-25T12:27:37.302Z"
   },
   {
    "duration": 148,
    "start_time": "2025-04-25T12:28:06.357Z"
   },
   {
    "duration": 21,
    "start_time": "2025-04-25T12:36:20.363Z"
   },
   {
    "duration": 15,
    "start_time": "2025-04-25T12:36:27.746Z"
   },
   {
    "duration": 37,
    "start_time": "2025-04-25T12:44:57.090Z"
   },
   {
    "duration": 145,
    "start_time": "2025-04-25T12:45:11.809Z"
   },
   {
    "duration": 160,
    "start_time": "2025-04-25T12:45:24.057Z"
   },
   {
    "duration": 82,
    "start_time": "2025-04-25T12:49:05.742Z"
   },
   {
    "duration": 85,
    "start_time": "2025-04-25T14:34:11.774Z"
   },
   {
    "duration": 1354,
    "start_time": "2025-04-25T14:38:06.344Z"
   },
   {
    "duration": 1857,
    "start_time": "2025-04-25T14:38:07.700Z"
   },
   {
    "duration": 281,
    "start_time": "2025-04-25T14:38:09.559Z"
   },
   {
    "duration": 69,
    "start_time": "2025-04-25T14:38:09.842Z"
   },
   {
    "duration": 446,
    "start_time": "2025-04-25T14:38:09.914Z"
   },
   {
    "duration": 249,
    "start_time": "2025-04-25T14:38:10.361Z"
   },
   {
    "duration": 212,
    "start_time": "2025-04-25T14:38:10.612Z"
   },
   {
    "duration": 397,
    "start_time": "2025-04-25T14:38:10.826Z"
   },
   {
    "duration": 190,
    "start_time": "2025-04-25T14:38:11.225Z"
   },
   {
    "duration": 154,
    "start_time": "2025-04-25T14:38:11.417Z"
   },
   {
    "duration": 313,
    "start_time": "2025-04-25T14:38:11.573Z"
   },
   {
    "duration": 85,
    "start_time": "2025-04-25T14:38:11.888Z"
   },
   {
    "duration": 150,
    "start_time": "2025-04-25T14:38:11.974Z"
   },
   {
    "duration": 152,
    "start_time": "2025-04-25T14:38:12.127Z"
   },
   {
    "duration": 771,
    "start_time": "2025-04-25T14:38:12.280Z"
   },
   {
    "duration": 251,
    "start_time": "2025-04-25T14:38:13.053Z"
   },
   {
    "duration": 350,
    "start_time": "2025-04-25T14:38:13.305Z"
   },
   {
    "duration": 402,
    "start_time": "2025-04-25T14:38:13.656Z"
   },
   {
    "duration": 289,
    "start_time": "2025-04-25T14:38:14.059Z"
   },
   {
    "duration": 206,
    "start_time": "2025-04-25T14:38:14.350Z"
   },
   {
    "duration": 53,
    "start_time": "2025-04-25T14:38:14.558Z"
   },
   {
    "duration": 46,
    "start_time": "2025-04-25T14:38:14.613Z"
   },
   {
    "duration": 458,
    "start_time": "2025-04-25T14:38:14.660Z"
   },
   {
    "duration": 82,
    "start_time": "2025-04-25T14:38:15.120Z"
   },
   {
    "duration": 309,
    "start_time": "2025-04-25T14:38:15.204Z"
   },
   {
    "duration": 6,
    "start_time": "2025-04-25T14:38:15.514Z"
   },
   {
    "duration": 70,
    "start_time": "2025-04-25T14:38:15.522Z"
   },
   {
    "duration": 69,
    "start_time": "2025-04-25T14:38:15.594Z"
   },
   {
    "duration": 6,
    "start_time": "2025-04-25T14:38:15.665Z"
   },
   {
    "duration": 182,
    "start_time": "2025-04-25T14:38:15.673Z"
   },
   {
    "duration": 315,
    "start_time": "2025-04-25T14:38:15.857Z"
   },
   {
    "duration": 233,
    "start_time": "2025-04-25T14:38:16.174Z"
   },
   {
    "duration": 334,
    "start_time": "2025-04-25T14:38:16.409Z"
   },
   {
    "duration": 184,
    "start_time": "2025-04-25T14:38:16.745Z"
   },
   {
    "duration": 34,
    "start_time": "2025-04-25T14:38:16.931Z"
   },
   {
    "duration": 7,
    "start_time": "2025-04-25T14:38:16.966Z"
   },
   {
    "duration": 300,
    "start_time": "2025-04-25T14:38:16.974Z"
   },
   {
    "duration": 192,
    "start_time": "2025-04-25T14:38:17.276Z"
   },
   {
    "duration": 304,
    "start_time": "2025-04-25T14:38:17.470Z"
   },
   {
    "duration": 245,
    "start_time": "2025-04-25T14:38:17.775Z"
   },
   {
    "duration": 235,
    "start_time": "2025-04-25T14:38:18.024Z"
   },
   {
    "duration": 11,
    "start_time": "2025-04-25T14:38:18.261Z"
   },
   {
    "duration": 192,
    "start_time": "2025-04-25T14:38:18.273Z"
   },
   {
    "duration": 189,
    "start_time": "2025-04-25T14:38:18.467Z"
   },
   {
    "duration": 41,
    "start_time": "2025-04-25T14:38:18.658Z"
   },
   {
    "duration": 7,
    "start_time": "2025-04-25T14:38:18.701Z"
   },
   {
    "duration": 171,
    "start_time": "2025-04-25T14:38:18.710Z"
   },
   {
    "duration": 7,
    "start_time": "2025-04-25T14:38:18.883Z"
   },
   {
    "duration": 185,
    "start_time": "2025-04-25T14:38:18.892Z"
   },
   {
    "duration": 8,
    "start_time": "2025-04-25T14:38:19.079Z"
   },
   {
    "duration": 115,
    "start_time": "2025-04-25T14:38:19.089Z"
   },
   {
    "duration": 7,
    "start_time": "2025-04-25T14:38:19.205Z"
   },
   {
    "duration": 163,
    "start_time": "2025-04-25T14:38:19.214Z"
   },
   {
    "duration": 6,
    "start_time": "2025-04-25T14:38:19.379Z"
   },
   {
    "duration": 283,
    "start_time": "2025-04-25T14:38:19.387Z"
   },
   {
    "duration": 7,
    "start_time": "2025-04-25T14:38:19.672Z"
   },
   {
    "duration": 179,
    "start_time": "2025-04-25T14:38:19.681Z"
   },
   {
    "duration": 46,
    "start_time": "2025-04-25T14:38:19.862Z"
   },
   {
    "duration": 45,
    "start_time": "2025-04-25T14:38:19.910Z"
   },
   {
    "duration": 154,
    "start_time": "2025-04-25T14:38:19.957Z"
   },
   {
    "duration": 165,
    "start_time": "2025-04-25T14:38:20.113Z"
   },
   {
    "duration": 15,
    "start_time": "2025-04-25T14:38:20.280Z"
   },
   {
    "duration": 63,
    "start_time": "2025-04-25T14:38:20.297Z"
   },
   {
    "duration": 142,
    "start_time": "2025-04-25T14:38:20.362Z"
   },
   {
    "duration": 157,
    "start_time": "2025-04-25T14:38:20.506Z"
   },
   {
    "duration": 95,
    "start_time": "2025-04-25T14:38:20.665Z"
   },
   {
    "duration": 52,
    "start_time": "2025-04-28T08:59:27.494Z"
   },
   {
    "duration": 1382,
    "start_time": "2025-04-28T08:59:36.114Z"
   },
   {
    "duration": 1812,
    "start_time": "2025-04-28T08:59:37.498Z"
   },
   {
    "duration": 366,
    "start_time": "2025-04-28T08:59:39.311Z"
   },
   {
    "duration": 39,
    "start_time": "2025-04-28T08:59:39.678Z"
   },
   {
    "duration": 492,
    "start_time": "2025-04-28T08:59:39.719Z"
   },
   {
    "duration": 227,
    "start_time": "2025-04-28T08:59:40.213Z"
   },
   {
    "duration": 203,
    "start_time": "2025-04-28T08:59:40.441Z"
   },
   {
    "duration": 336,
    "start_time": "2025-04-28T08:59:40.645Z"
   },
   {
    "duration": 187,
    "start_time": "2025-04-28T08:59:40.982Z"
   },
   {
    "duration": 137,
    "start_time": "2025-04-28T08:59:41.171Z"
   },
   {
    "duration": 342,
    "start_time": "2025-04-28T08:59:41.310Z"
   },
   {
    "duration": 76,
    "start_time": "2025-04-28T08:59:41.653Z"
   },
   {
    "duration": 142,
    "start_time": "2025-04-28T08:59:41.731Z"
   },
   {
    "duration": 163,
    "start_time": "2025-04-28T08:59:41.876Z"
   },
   {
    "duration": 705,
    "start_time": "2025-04-28T08:59:42.042Z"
   },
   {
    "duration": 253,
    "start_time": "2025-04-28T08:59:42.749Z"
   },
   {
    "duration": 336,
    "start_time": "2025-04-28T08:59:43.004Z"
   },
   {
    "duration": 391,
    "start_time": "2025-04-28T08:59:43.342Z"
   },
   {
    "duration": 255,
    "start_time": "2025-04-28T08:59:43.735Z"
   },
   {
    "duration": 201,
    "start_time": "2025-04-28T08:59:43.992Z"
   },
   {
    "duration": 102,
    "start_time": "2025-04-28T08:59:44.195Z"
   },
   {
    "duration": 17,
    "start_time": "2025-04-28T08:59:44.299Z"
   },
   {
    "duration": 483,
    "start_time": "2025-04-28T08:59:44.318Z"
   },
   {
    "duration": 85,
    "start_time": "2025-04-28T08:59:44.803Z"
   },
   {
    "duration": 378,
    "start_time": "2025-04-28T08:59:44.890Z"
   },
   {
    "duration": 11,
    "start_time": "2025-04-28T08:59:45.269Z"
   },
   {
    "duration": 32,
    "start_time": "2025-04-28T08:59:45.282Z"
   },
   {
    "duration": 156,
    "start_time": "2025-04-28T08:59:45.316Z"
   },
   {
    "duration": 77,
    "start_time": "2025-04-28T08:59:45.474Z"
   },
   {
    "duration": 169,
    "start_time": "2025-04-28T08:59:45.553Z"
   },
   {
    "duration": 341,
    "start_time": "2025-04-28T08:59:45.724Z"
   },
   {
    "duration": 219,
    "start_time": "2025-04-28T08:59:46.067Z"
   },
   {
    "duration": 331,
    "start_time": "2025-04-28T08:59:46.288Z"
   },
   {
    "duration": 199,
    "start_time": "2025-04-28T08:59:46.622Z"
   },
   {
    "duration": 27,
    "start_time": "2025-04-28T08:59:46.824Z"
   },
   {
    "duration": 8,
    "start_time": "2025-04-28T08:59:46.853Z"
   },
   {
    "duration": 321,
    "start_time": "2025-04-28T08:59:46.877Z"
   },
   {
    "duration": 166,
    "start_time": "2025-04-28T08:59:47.200Z"
   },
   {
    "duration": 298,
    "start_time": "2025-04-28T08:59:47.368Z"
   },
   {
    "duration": 230,
    "start_time": "2025-04-28T08:59:47.667Z"
   },
   {
    "duration": 231,
    "start_time": "2025-04-28T08:59:47.902Z"
   },
   {
    "duration": 11,
    "start_time": "2025-04-28T08:59:48.134Z"
   },
   {
    "duration": 254,
    "start_time": "2025-04-28T08:59:48.147Z"
   },
   {
    "duration": 174,
    "start_time": "2025-04-28T08:59:48.402Z"
   },
   {
    "duration": 40,
    "start_time": "2025-04-28T08:59:48.578Z"
   },
   {
    "duration": 5,
    "start_time": "2025-04-28T08:59:48.620Z"
   },
   {
    "duration": 190,
    "start_time": "2025-04-28T08:59:48.627Z"
   },
   {
    "duration": 6,
    "start_time": "2025-04-28T08:59:48.819Z"
   },
   {
    "duration": 220,
    "start_time": "2025-04-28T08:59:48.827Z"
   },
   {
    "duration": 7,
    "start_time": "2025-04-28T08:59:49.077Z"
   },
   {
    "duration": 44,
    "start_time": "2025-04-28T08:59:49.086Z"
   },
   {
    "duration": 6,
    "start_time": "2025-04-28T08:59:49.131Z"
   },
   {
    "duration": 167,
    "start_time": "2025-04-28T08:59:49.139Z"
   },
   {
    "duration": 6,
    "start_time": "2025-04-28T08:59:49.308Z"
   },
   {
    "duration": 251,
    "start_time": "2025-04-28T08:59:49.316Z"
   },
   {
    "duration": 6,
    "start_time": "2025-04-28T08:59:49.576Z"
   },
   {
    "duration": 161,
    "start_time": "2025-04-28T08:59:49.583Z"
   },
   {
    "duration": 61,
    "start_time": "2025-04-28T08:59:49.746Z"
   },
   {
    "duration": 26,
    "start_time": "2025-04-28T08:59:49.808Z"
   },
   {
    "duration": 142,
    "start_time": "2025-04-28T08:59:49.836Z"
   },
   {
    "duration": 146,
    "start_time": "2025-04-28T08:59:49.980Z"
   },
   {
    "duration": 4,
    "start_time": "2025-04-28T08:59:50.128Z"
   },
   {
    "duration": 22,
    "start_time": "2025-04-28T08:59:50.133Z"
   },
   {
    "duration": 133,
    "start_time": "2025-04-28T08:59:50.157Z"
   },
   {
    "duration": 131,
    "start_time": "2025-04-28T08:59:50.292Z"
   },
   {
    "duration": 140,
    "start_time": "2025-04-28T08:59:50.425Z"
   },
   {
    "duration": 80,
    "start_time": "2025-04-28T08:59:50.567Z"
   },
   {
    "duration": 158,
    "start_time": "2025-04-28T09:03:24.149Z"
   },
   {
    "duration": 159,
    "start_time": "2025-04-28T09:03:50.606Z"
   },
   {
    "duration": 155,
    "start_time": "2025-04-28T09:04:45.186Z"
   },
   {
    "duration": 148,
    "start_time": "2025-04-28T09:06:00.601Z"
   },
   {
    "duration": 152,
    "start_time": "2025-04-28T09:06:18.247Z"
   },
   {
    "duration": 253,
    "start_time": "2025-04-28T09:06:29.462Z"
   },
   {
    "duration": 117,
    "start_time": "2025-04-28T09:15:18.669Z"
   },
   {
    "duration": 211,
    "start_time": "2025-04-28T09:15:42.452Z"
   },
   {
    "duration": 226,
    "start_time": "2025-04-28T09:16:35.888Z"
   },
   {
    "duration": 1221,
    "start_time": "2025-04-28T09:53:02.339Z"
   },
   {
    "duration": 2737,
    "start_time": "2025-04-28T09:53:03.562Z"
   },
   {
    "duration": 308,
    "start_time": "2025-04-28T09:53:06.301Z"
   },
   {
    "duration": 46,
    "start_time": "2025-04-28T09:53:06.612Z"
   },
   {
    "duration": 421,
    "start_time": "2025-04-28T09:53:06.661Z"
   },
   {
    "duration": 223,
    "start_time": "2025-04-28T09:53:07.084Z"
   },
   {
    "duration": 198,
    "start_time": "2025-04-28T09:53:07.308Z"
   },
   {
    "duration": 326,
    "start_time": "2025-04-28T09:53:07.508Z"
   },
   {
    "duration": 194,
    "start_time": "2025-04-28T09:53:07.836Z"
   },
   {
    "duration": 158,
    "start_time": "2025-04-28T09:53:08.031Z"
   },
   {
    "duration": 318,
    "start_time": "2025-04-28T09:53:08.191Z"
   },
   {
    "duration": 79,
    "start_time": "2025-04-28T09:53:08.511Z"
   },
   {
    "duration": 158,
    "start_time": "2025-04-28T09:53:08.592Z"
   },
   {
    "duration": 157,
    "start_time": "2025-04-28T09:53:08.753Z"
   },
   {
    "duration": 670,
    "start_time": "2025-04-28T09:53:08.912Z"
   },
   {
    "duration": 248,
    "start_time": "2025-04-28T09:53:09.584Z"
   },
   {
    "duration": 330,
    "start_time": "2025-04-28T09:53:09.833Z"
   },
   {
    "duration": 397,
    "start_time": "2025-04-28T09:53:10.164Z"
   },
   {
    "duration": 252,
    "start_time": "2025-04-28T09:53:10.563Z"
   },
   {
    "duration": 203,
    "start_time": "2025-04-28T09:53:10.817Z"
   },
   {
    "duration": 70,
    "start_time": "2025-04-28T09:53:11.022Z"
   },
   {
    "duration": 5,
    "start_time": "2025-04-28T09:53:11.095Z"
   },
   {
    "duration": 31,
    "start_time": "2025-04-28T09:53:11.102Z"
   },
   {
    "duration": 125,
    "start_time": "2025-04-28T09:53:11.135Z"
   },
   {
    "duration": 30,
    "start_time": "2025-04-28T09:53:11.262Z"
   },
   {
    "duration": 145,
    "start_time": "2025-04-28T09:53:11.294Z"
   },
   {
    "duration": 315,
    "start_time": "2025-04-28T09:53:11.441Z"
   },
   {
    "duration": 227,
    "start_time": "2025-04-28T09:53:11.757Z"
   },
   {
    "duration": 264,
    "start_time": "2025-04-28T09:53:11.985Z"
   },
   {
    "duration": 262,
    "start_time": "2025-04-28T09:53:12.251Z"
   },
   {
    "duration": 29,
    "start_time": "2025-04-28T09:53:12.515Z"
   },
   {
    "duration": 9,
    "start_time": "2025-04-28T09:53:12.546Z"
   },
   {
    "duration": 288,
    "start_time": "2025-04-28T09:53:12.557Z"
   },
   {
    "duration": 287,
    "start_time": "2025-04-28T09:53:12.846Z"
   },
   {
    "duration": 277,
    "start_time": "2025-04-28T09:53:13.135Z"
   },
   {
    "duration": 222,
    "start_time": "2025-04-28T09:53:13.414Z"
   },
   {
    "duration": 210,
    "start_time": "2025-04-28T09:53:13.638Z"
   },
   {
    "duration": 229,
    "start_time": "2025-04-28T09:53:13.850Z"
   },
   {
    "duration": 11,
    "start_time": "2025-04-28T09:53:14.080Z"
   },
   {
    "duration": 163,
    "start_time": "2025-04-28T09:53:14.093Z"
   },
   {
    "duration": 174,
    "start_time": "2025-04-28T09:53:14.260Z"
   },
   {
    "duration": 57,
    "start_time": "2025-04-28T09:53:14.436Z"
   },
   {
    "duration": 50,
    "start_time": "2025-04-28T09:53:14.495Z"
   },
   {
    "duration": 154,
    "start_time": "2025-04-28T09:53:14.546Z"
   },
   {
    "duration": 8,
    "start_time": "2025-04-28T09:53:14.701Z"
   },
   {
    "duration": 207,
    "start_time": "2025-04-28T09:53:14.710Z"
   },
   {
    "duration": 7,
    "start_time": "2025-04-28T09:53:14.918Z"
   },
   {
    "duration": 61,
    "start_time": "2025-04-28T09:53:14.927Z"
   },
   {
    "duration": 7,
    "start_time": "2025-04-28T09:53:14.990Z"
   },
   {
    "duration": 173,
    "start_time": "2025-04-28T09:53:14.999Z"
   },
   {
    "duration": 7,
    "start_time": "2025-04-28T09:53:15.177Z"
   },
   {
    "duration": 302,
    "start_time": "2025-04-28T09:53:15.185Z"
   },
   {
    "duration": 7,
    "start_time": "2025-04-28T09:53:15.488Z"
   },
   {
    "duration": 279,
    "start_time": "2025-04-28T09:53:15.496Z"
   },
   {
    "duration": 63,
    "start_time": "2025-04-28T09:53:15.777Z"
   },
   {
    "duration": 57,
    "start_time": "2025-04-28T09:53:15.842Z"
   },
   {
    "duration": 145,
    "start_time": "2025-04-28T09:53:15.902Z"
   },
   {
    "duration": 144,
    "start_time": "2025-04-28T09:53:16.049Z"
   },
   {
    "duration": 3,
    "start_time": "2025-04-28T09:53:16.195Z"
   },
   {
    "duration": 68,
    "start_time": "2025-04-28T09:53:16.200Z"
   },
   {
    "duration": 43,
    "start_time": "2025-04-28T09:53:16.270Z"
   },
   {
    "duration": 140,
    "start_time": "2025-04-28T09:53:16.316Z"
   },
   {
    "duration": 157,
    "start_time": "2025-04-28T09:53:16.458Z"
   },
   {
    "duration": 105,
    "start_time": "2025-04-28T09:53:16.618Z"
   },
   {
    "duration": 101,
    "start_time": "2025-04-28T09:53:59.044Z"
   },
   {
    "duration": 4,
    "start_time": "2025-04-28T09:54:14.177Z"
   },
   {
    "duration": 9,
    "start_time": "2025-04-28T09:54:28.531Z"
   },
   {
    "duration": 9,
    "start_time": "2025-04-28T09:54:59.584Z"
   },
   {
    "duration": 11,
    "start_time": "2025-04-28T09:55:15.846Z"
   },
   {
    "duration": 9,
    "start_time": "2025-04-28T09:55:25.513Z"
   },
   {
    "duration": 9,
    "start_time": "2025-04-28T09:55:29.464Z"
   },
   {
    "duration": 9,
    "start_time": "2025-04-28T09:55:33.127Z"
   },
   {
    "duration": 44,
    "start_time": "2025-04-28T09:55:39.644Z"
   },
   {
    "duration": 9,
    "start_time": "2025-04-28T09:55:40.219Z"
   },
   {
    "duration": 157,
    "start_time": "2025-04-28T09:58:51.329Z"
   },
   {
    "duration": 151,
    "start_time": "2025-04-28T09:59:21.361Z"
   },
   {
    "duration": 147,
    "start_time": "2025-04-28T10:00:24.139Z"
   },
   {
    "duration": 15,
    "start_time": "2025-04-28T10:06:20.267Z"
   },
   {
    "duration": 150,
    "start_time": "2025-04-28T10:08:24.699Z"
   },
   {
    "duration": 165,
    "start_time": "2025-04-28T10:08:31.347Z"
   },
   {
    "duration": 154,
    "start_time": "2025-04-28T10:09:03.612Z"
   },
   {
    "duration": 95,
    "start_time": "2025-04-28T10:10:16.921Z"
   },
   {
    "duration": 1210,
    "start_time": "2025-04-28T10:12:02.671Z"
   },
   {
    "duration": 1738,
    "start_time": "2025-04-28T10:12:03.883Z"
   },
   {
    "duration": 460,
    "start_time": "2025-04-28T10:12:05.623Z"
   },
   {
    "duration": 46,
    "start_time": "2025-04-28T10:12:06.085Z"
   },
   {
    "duration": 424,
    "start_time": "2025-04-28T10:12:06.133Z"
   },
   {
    "duration": 228,
    "start_time": "2025-04-28T10:12:06.559Z"
   },
   {
    "duration": 205,
    "start_time": "2025-04-28T10:12:06.789Z"
   },
   {
    "duration": 332,
    "start_time": "2025-04-28T10:12:06.996Z"
   },
   {
    "duration": 210,
    "start_time": "2025-04-28T10:12:07.330Z"
   },
   {
    "duration": 162,
    "start_time": "2025-04-28T10:12:07.543Z"
   },
   {
    "duration": 318,
    "start_time": "2025-04-28T10:12:07.707Z"
   },
   {
    "duration": 79,
    "start_time": "2025-04-28T10:12:08.027Z"
   },
   {
    "duration": 169,
    "start_time": "2025-04-28T10:12:08.107Z"
   },
   {
    "duration": 164,
    "start_time": "2025-04-28T10:12:08.278Z"
   },
   {
    "duration": 705,
    "start_time": "2025-04-28T10:12:08.443Z"
   },
   {
    "duration": 252,
    "start_time": "2025-04-28T10:12:09.150Z"
   },
   {
    "duration": 325,
    "start_time": "2025-04-28T10:12:09.403Z"
   },
   {
    "duration": 378,
    "start_time": "2025-04-28T10:12:09.730Z"
   },
   {
    "duration": 261,
    "start_time": "2025-04-28T10:12:10.110Z"
   },
   {
    "duration": 204,
    "start_time": "2025-04-28T10:12:10.372Z"
   },
   {
    "duration": 102,
    "start_time": "2025-04-28T10:12:10.578Z"
   },
   {
    "duration": 4,
    "start_time": "2025-04-28T10:12:10.682Z"
   },
   {
    "duration": 32,
    "start_time": "2025-04-28T10:12:10.687Z"
   },
   {
    "duration": 87,
    "start_time": "2025-04-28T10:12:10.721Z"
   },
   {
    "duration": 8,
    "start_time": "2025-04-28T10:12:10.809Z"
   },
   {
    "duration": 161,
    "start_time": "2025-04-28T10:12:10.818Z"
   },
   {
    "duration": 317,
    "start_time": "2025-04-28T10:12:10.980Z"
   },
   {
    "duration": 230,
    "start_time": "2025-04-28T10:12:11.301Z"
   },
   {
    "duration": 237,
    "start_time": "2025-04-28T10:12:11.533Z"
   },
   {
    "duration": 308,
    "start_time": "2025-04-28T10:12:11.775Z"
   },
   {
    "duration": 31,
    "start_time": "2025-04-28T10:12:12.086Z"
   },
   {
    "duration": 7,
    "start_time": "2025-04-28T10:12:12.118Z"
   },
   {
    "duration": 318,
    "start_time": "2025-04-28T10:12:12.126Z"
   },
   {
    "duration": 209,
    "start_time": "2025-04-28T10:12:12.446Z"
   },
   {
    "duration": 395,
    "start_time": "2025-04-28T10:12:12.657Z"
   },
   {
    "duration": 235,
    "start_time": "2025-04-28T10:12:13.053Z"
   },
   {
    "duration": 219,
    "start_time": "2025-04-28T10:12:13.290Z"
   },
   {
    "duration": 242,
    "start_time": "2025-04-28T10:12:13.511Z"
   },
   {
    "duration": 11,
    "start_time": "2025-04-28T10:12:13.755Z"
   },
   {
    "duration": 190,
    "start_time": "2025-04-28T10:12:13.776Z"
   },
   {
    "duration": 175,
    "start_time": "2025-04-28T10:12:13.968Z"
   },
   {
    "duration": 57,
    "start_time": "2025-04-28T10:12:14.145Z"
   },
   {
    "duration": 7,
    "start_time": "2025-04-28T10:12:14.204Z"
   },
   {
    "duration": 239,
    "start_time": "2025-04-28T10:12:14.212Z"
   },
   {
    "duration": 7,
    "start_time": "2025-04-28T10:12:14.453Z"
   },
   {
    "duration": 146,
    "start_time": "2025-04-28T10:12:14.477Z"
   },
   {
    "duration": 16,
    "start_time": "2025-04-28T10:12:14.625Z"
   },
   {
    "duration": 52,
    "start_time": "2025-04-28T10:12:14.642Z"
   },
   {
    "duration": 9,
    "start_time": "2025-04-28T10:12:14.696Z"
   },
   {
    "duration": 8,
    "start_time": "2025-04-28T10:12:14.707Z"
   },
   {
    "duration": 174,
    "start_time": "2025-04-28T10:12:14.716Z"
   },
   {
    "duration": 7,
    "start_time": "2025-04-28T10:12:14.892Z"
   },
   {
    "duration": 174,
    "start_time": "2025-04-28T10:12:14.900Z"
   },
   {
    "duration": 7,
    "start_time": "2025-04-28T10:12:15.076Z"
   },
   {
    "duration": 292,
    "start_time": "2025-04-28T10:12:15.084Z"
   },
   {
    "duration": 55,
    "start_time": "2025-04-28T10:12:15.378Z"
   },
   {
    "duration": 124,
    "start_time": "2025-04-28T10:12:15.434Z"
   },
   {
    "duration": 155,
    "start_time": "2025-04-28T10:12:15.560Z"
   },
   {
    "duration": 171,
    "start_time": "2025-04-28T10:12:15.717Z"
   },
   {
    "duration": 20,
    "start_time": "2025-04-28T10:12:15.891Z"
   },
   {
    "duration": 63,
    "start_time": "2025-04-28T10:12:15.913Z"
   },
   {
    "duration": 161,
    "start_time": "2025-04-28T10:12:15.978Z"
   },
   {
    "duration": 160,
    "start_time": "2025-04-28T10:12:16.140Z"
   },
   {
    "duration": 101,
    "start_time": "2025-04-28T10:12:16.301Z"
   },
   {
    "duration": 1210,
    "start_time": "2025-04-28T10:51:49.286Z"
   },
   {
    "duration": 1643,
    "start_time": "2025-04-28T10:51:50.498Z"
   },
   {
    "duration": 320,
    "start_time": "2025-04-28T10:51:52.142Z"
   },
   {
    "duration": 62,
    "start_time": "2025-04-28T10:51:52.464Z"
   },
   {
    "duration": 417,
    "start_time": "2025-04-28T10:51:52.529Z"
   },
   {
    "duration": 230,
    "start_time": "2025-04-28T10:51:52.947Z"
   },
   {
    "duration": 205,
    "start_time": "2025-04-28T10:51:53.179Z"
   },
   {
    "duration": 338,
    "start_time": "2025-04-28T10:51:53.386Z"
   },
   {
    "duration": 190,
    "start_time": "2025-04-28T10:51:53.725Z"
   },
   {
    "duration": 162,
    "start_time": "2025-04-28T10:51:53.917Z"
   },
   {
    "duration": 319,
    "start_time": "2025-04-28T10:51:54.081Z"
   },
   {
    "duration": 78,
    "start_time": "2025-04-28T10:51:54.402Z"
   },
   {
    "duration": 167,
    "start_time": "2025-04-28T10:51:54.482Z"
   },
   {
    "duration": 160,
    "start_time": "2025-04-28T10:51:54.653Z"
   },
   {
    "duration": 682,
    "start_time": "2025-04-28T10:51:54.814Z"
   },
   {
    "duration": 246,
    "start_time": "2025-04-28T10:51:55.497Z"
   },
   {
    "duration": 358,
    "start_time": "2025-04-28T10:51:55.744Z"
   },
   {
    "duration": 394,
    "start_time": "2025-04-28T10:51:56.104Z"
   },
   {
    "duration": 263,
    "start_time": "2025-04-28T10:51:56.500Z"
   },
   {
    "duration": 198,
    "start_time": "2025-04-28T10:51:56.765Z"
   },
   {
    "duration": 56,
    "start_time": "2025-04-28T10:51:56.976Z"
   },
   {
    "duration": 5,
    "start_time": "2025-04-28T10:51:57.033Z"
   },
   {
    "duration": 45,
    "start_time": "2025-04-28T10:51:57.039Z"
   },
   {
    "duration": 90,
    "start_time": "2025-04-28T10:51:57.086Z"
   },
   {
    "duration": 10,
    "start_time": "2025-04-28T10:51:57.177Z"
   },
   {
    "duration": 168,
    "start_time": "2025-04-28T10:51:57.189Z"
   },
   {
    "duration": 338,
    "start_time": "2025-04-28T10:51:57.359Z"
   },
   {
    "duration": 234,
    "start_time": "2025-04-28T10:51:57.698Z"
   },
   {
    "duration": 249,
    "start_time": "2025-04-28T10:51:57.933Z"
   },
   {
    "duration": 252,
    "start_time": "2025-04-28T10:51:58.184Z"
   },
   {
    "duration": 40,
    "start_time": "2025-04-28T10:51:58.437Z"
   },
   {
    "duration": 23,
    "start_time": "2025-04-28T10:51:58.479Z"
   },
   {
    "duration": 340,
    "start_time": "2025-04-28T10:51:58.503Z"
   },
   {
    "duration": 289,
    "start_time": "2025-04-28T10:51:58.844Z"
   },
   {
    "duration": 280,
    "start_time": "2025-04-28T10:51:59.135Z"
   },
   {
    "duration": 233,
    "start_time": "2025-04-28T10:51:59.417Z"
   },
   {
    "duration": 209,
    "start_time": "2025-04-28T10:51:59.652Z"
   },
   {
    "duration": 228,
    "start_time": "2025-04-28T10:51:59.863Z"
   },
   {
    "duration": 11,
    "start_time": "2025-04-28T10:52:00.093Z"
   },
   {
    "duration": 240,
    "start_time": "2025-04-28T10:52:00.105Z"
   },
   {
    "duration": 178,
    "start_time": "2025-04-28T10:52:00.349Z"
   },
   {
    "duration": 63,
    "start_time": "2025-04-28T10:52:00.529Z"
   },
   {
    "duration": 39,
    "start_time": "2025-04-28T10:52:00.594Z"
   },
   {
    "duration": 219,
    "start_time": "2025-04-28T10:52:00.635Z"
   },
   {
    "duration": 8,
    "start_time": "2025-04-28T10:52:00.856Z"
   },
   {
    "duration": 156,
    "start_time": "2025-04-28T10:52:00.877Z"
   },
   {
    "duration": 11,
    "start_time": "2025-04-28T10:52:01.035Z"
   },
   {
    "duration": 78,
    "start_time": "2025-04-28T10:52:01.048Z"
   },
   {
    "duration": 8,
    "start_time": "2025-04-28T10:52:01.128Z"
   },
   {
    "duration": 78,
    "start_time": "2025-04-28T10:52:01.138Z"
   },
   {
    "duration": 167,
    "start_time": "2025-04-28T10:52:01.218Z"
   },
   {
    "duration": 35,
    "start_time": "2025-04-28T10:52:01.387Z"
   },
   {
    "duration": 259,
    "start_time": "2025-04-28T10:52:01.424Z"
   },
   {
    "duration": 9,
    "start_time": "2025-04-28T10:52:01.686Z"
   },
   {
    "duration": 272,
    "start_time": "2025-04-28T10:52:01.697Z"
   },
   {
    "duration": 68,
    "start_time": "2025-04-28T10:52:01.970Z"
   },
   {
    "duration": 88,
    "start_time": "2025-04-28T10:52:02.041Z"
   },
   {
    "duration": 150,
    "start_time": "2025-04-28T10:52:02.131Z"
   },
   {
    "duration": 171,
    "start_time": "2025-04-28T10:52:02.283Z"
   },
   {
    "duration": 24,
    "start_time": "2025-04-28T10:52:02.456Z"
   },
   {
    "duration": 80,
    "start_time": "2025-04-28T10:52:02.482Z"
   },
   {
    "duration": 162,
    "start_time": "2025-04-28T10:52:02.563Z"
   },
   {
    "duration": 169,
    "start_time": "2025-04-28T10:52:02.727Z"
   },
   {
    "duration": 109,
    "start_time": "2025-04-28T10:52:02.898Z"
   },
   {
    "duration": 1253,
    "start_time": "2025-04-28T10:52:35.267Z"
   },
   {
    "duration": 2973,
    "start_time": "2025-04-28T10:52:36.522Z"
   },
   {
    "duration": 676,
    "start_time": "2025-04-28T10:52:39.497Z"
   },
   {
    "duration": 48,
    "start_time": "2025-04-28T10:52:40.176Z"
   },
   {
    "duration": 418,
    "start_time": "2025-04-28T10:52:40.226Z"
   },
   {
    "duration": 222,
    "start_time": "2025-04-28T10:52:40.646Z"
   },
   {
    "duration": 197,
    "start_time": "2025-04-28T10:52:40.870Z"
   },
   {
    "duration": 338,
    "start_time": "2025-04-28T10:52:41.069Z"
   },
   {
    "duration": 187,
    "start_time": "2025-04-28T10:52:41.409Z"
   },
   {
    "duration": 171,
    "start_time": "2025-04-28T10:52:41.598Z"
   },
   {
    "duration": 329,
    "start_time": "2025-04-28T10:52:41.771Z"
   },
   {
    "duration": 78,
    "start_time": "2025-04-28T10:52:42.102Z"
   },
   {
    "duration": 158,
    "start_time": "2025-04-28T10:52:42.182Z"
   },
   {
    "duration": 162,
    "start_time": "2025-04-28T10:52:42.343Z"
   },
   {
    "duration": 686,
    "start_time": "2025-04-28T10:52:42.506Z"
   },
   {
    "duration": 260,
    "start_time": "2025-04-28T10:52:43.194Z"
   },
   {
    "duration": 325,
    "start_time": "2025-04-28T10:52:43.455Z"
   },
   {
    "duration": 384,
    "start_time": "2025-04-28T10:52:43.782Z"
   },
   {
    "duration": 257,
    "start_time": "2025-04-28T10:52:44.168Z"
   },
   {
    "duration": 197,
    "start_time": "2025-04-28T10:52:44.427Z"
   },
   {
    "duration": 67,
    "start_time": "2025-04-28T10:52:44.626Z"
   },
   {
    "duration": 4,
    "start_time": "2025-04-28T10:52:44.695Z"
   },
   {
    "duration": 28,
    "start_time": "2025-04-28T10:52:44.701Z"
   },
   {
    "duration": 97,
    "start_time": "2025-04-28T10:52:44.731Z"
   },
   {
    "duration": 7,
    "start_time": "2025-04-28T10:52:44.829Z"
   },
   {
    "duration": 153,
    "start_time": "2025-04-28T10:52:44.838Z"
   },
   {
    "duration": 322,
    "start_time": "2025-04-28T10:52:44.993Z"
   },
   {
    "duration": 236,
    "start_time": "2025-04-28T10:52:45.317Z"
   },
   {
    "duration": 244,
    "start_time": "2025-04-28T10:52:45.555Z"
   },
   {
    "duration": 261,
    "start_time": "2025-04-28T10:52:45.801Z"
   },
   {
    "duration": 38,
    "start_time": "2025-04-28T10:52:46.064Z"
   },
   {
    "duration": 7,
    "start_time": "2025-04-28T10:52:46.103Z"
   },
   {
    "duration": 294,
    "start_time": "2025-04-28T10:52:46.111Z"
   },
   {
    "duration": 293,
    "start_time": "2025-04-28T10:52:46.407Z"
   },
   {
    "duration": 296,
    "start_time": "2025-04-28T10:52:46.702Z"
   },
   {
    "duration": 235,
    "start_time": "2025-04-28T10:52:47.001Z"
   },
   {
    "duration": 229,
    "start_time": "2025-04-28T10:52:47.238Z"
   },
   {
    "duration": 236,
    "start_time": "2025-04-28T10:52:47.469Z"
   },
   {
    "duration": 11,
    "start_time": "2025-04-28T10:52:47.707Z"
   },
   {
    "duration": 176,
    "start_time": "2025-04-28T10:52:47.720Z"
   },
   {
    "duration": 179,
    "start_time": "2025-04-28T10:52:47.900Z"
   },
   {
    "duration": 52,
    "start_time": "2025-04-28T10:52:48.080Z"
   },
   {
    "duration": 7,
    "start_time": "2025-04-28T10:52:48.133Z"
   },
   {
    "duration": 178,
    "start_time": "2025-04-28T10:52:48.142Z"
   },
   {
    "duration": 7,
    "start_time": "2025-04-28T10:52:48.322Z"
   },
   {
    "duration": 157,
    "start_time": "2025-04-28T10:52:48.330Z"
   },
   {
    "duration": 8,
    "start_time": "2025-04-28T10:52:48.489Z"
   },
   {
    "duration": 55,
    "start_time": "2025-04-28T10:52:48.498Z"
   },
   {
    "duration": 8,
    "start_time": "2025-04-28T10:52:48.555Z"
   },
   {
    "duration": 8,
    "start_time": "2025-04-28T10:52:48.577Z"
   },
   {
    "duration": 169,
    "start_time": "2025-04-28T10:52:48.586Z"
   },
   {
    "duration": 7,
    "start_time": "2025-04-28T10:52:48.757Z"
   },
   {
    "duration": 210,
    "start_time": "2025-04-28T10:52:48.765Z"
   },
   {
    "duration": 7,
    "start_time": "2025-04-28T10:52:48.976Z"
   },
   {
    "duration": 257,
    "start_time": "2025-04-28T10:52:48.985Z"
   },
   {
    "duration": 62,
    "start_time": "2025-04-28T10:52:49.243Z"
   },
   {
    "duration": 31,
    "start_time": "2025-04-28T10:52:49.306Z"
   },
   {
    "duration": 164,
    "start_time": "2025-04-28T10:52:49.338Z"
   },
   {
    "duration": 166,
    "start_time": "2025-04-28T10:52:49.503Z"
   },
   {
    "duration": 17,
    "start_time": "2025-04-28T10:52:49.670Z"
   },
   {
    "duration": 46,
    "start_time": "2025-04-28T10:52:49.689Z"
   },
   {
    "duration": 181,
    "start_time": "2025-04-28T10:52:49.737Z"
   },
   {
    "duration": 158,
    "start_time": "2025-04-28T10:52:49.920Z"
   },
   {
    "duration": 105,
    "start_time": "2025-04-28T10:52:50.080Z"
   }
  ],
  "colab": {
   "provenance": []
  },
  "kernelspec": {
   "display_name": "Python 3 (ipykernel)",
   "language": "python",
   "name": "python3"
  },
  "language_info": {
   "codemirror_mode": {
    "name": "ipython",
    "version": 3
   },
   "file_extension": ".py",
   "mimetype": "text/x-python",
   "name": "python",
   "nbconvert_exporter": "python",
   "pygments_lexer": "ipython3",
   "version": "3.9.5"
  },
  "toc": {
   "base_numbering": 1,
   "nav_menu": {
    "height": "225px",
    "width": "388px"
   },
   "number_sections": true,
   "sideBar": true,
   "skip_h1_title": true,
   "title_cell": "Table of Contents",
   "title_sidebar": "Contents",
   "toc_cell": false,
   "toc_position": {},
   "toc_section_display": true,
   "toc_window_display": false
  }
 },
 "nbformat": 4,
 "nbformat_minor": 1
}
